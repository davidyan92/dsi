{
 "cells": [
  {
   "cell_type": "code",
   "execution_count": 2,
   "metadata": {},
   "outputs": [
    {
     "name": "stdout",
     "output_type": "stream",
     "text": [
      "[('a', 'z'), ('b', 'y'), ('c', 'x'), ('d', 'w')]\n"
     ]
    }
   ],
   "source": [
    "a = ['a','b','c','d']\n",
    "z = ['z','y','x','w']\n",
    "zipped = [x for x in zip(a,z)]\n",
    "print(zipped)"
   ]
  },
  {
   "cell_type": "code",
   "execution_count": 4,
   "metadata": {},
   "outputs": [
    {
     "name": "stdout",
     "output_type": "stream",
     "text": [
      "[(0, 'a'), (1, 'b'), (2, 'c'), (3, 'd')]\n"
     ]
    }
   ],
   "source": [
    "enumerated = [x for x in enumerate(a)]\n",
    "print(enumerated)\n"
   ]
  },
  {
   "cell_type": "code",
   "execution_count": 14,
   "metadata": {},
   "outputs": [
    {
     "name": "stdout",
     "output_type": "stream",
     "text": [
      "['BLACK', 'YELLOW', 'RED', 'GREEN', 'BLUE']\n"
     ]
    }
   ],
   "source": [
    "import string\n",
    "import numpy as np\n",
    "# task 1.2\n",
    "strings = ['black','Yellow','ReD','GreeN','BLUe']\n",
    "strings_upper = [x.upper() for x in strings]\n",
    "print(strings_upper)"
   ]
  },
  {
   "cell_type": "code",
   "execution_count": 11,
   "metadata": {},
   "outputs": [
    {
     "name": "stdout",
     "output_type": "stream",
     "text": [
      "[2, 4, 6, 8, 10]\n"
     ]
    }
   ],
   "source": [
    "# task 2.2\n",
    "numbers = [1,2,3,4,5,6,7,8,9,10]\n",
    "numbers_even = [number for number in numbers if number % 2 == 0]\n",
    "print(numbers_even)"
   ]
  },
  {
   "cell_type": "code",
   "execution_count": 15,
   "metadata": {},
   "outputs": [
    {
     "name": "stdout",
     "output_type": "stream",
     "text": [
      "['v', 'c', '?', 'c', 'c', '?', '?', 'v', 'v', '?', 'v', 'c', 'c']\n"
     ]
    }
   ],
   "source": [
    "# task 3.2\n",
    "alphabet = list(string.ascii_lowercase)\n",
    "vowels = list('aeiou')\n",
    "characters = ['a','f',None,'k','l','1',12,'e','e',-1,'i','b','p']\n",
    "\n",
    "characters_convert = ['v' if x in vowels else 'c' if x in alphabet else '?' for x in characters]\n",
    "print(characters_convert)"
   ]
  },
  {
   "cell_type": "code",
   "execution_count": 43,
   "metadata": {},
   "outputs": [
    {
     "name": "stdout",
     "output_type": "stream",
     "text": [
      "[40.25, 37.0, 55.333333333333336]\n"
     ]
    }
   ],
   "source": [
    "# task 4.2\n",
    "number_sets = [[1,50,-40,20,90], [1004,1002,101,-90,40,34], [-1,-2,34,55,77,109]]\n",
    "mean_number_sets = [np.mean(x) for x in [[ele for ele in rlist if ele >= 1 and ele <= 100] for rlist in number_sets]]\n",
    "        \n",
    "print(mean_number_sets)"
   ]
  },
  {
   "cell_type": "code",
   "execution_count": 45,
   "metadata": {},
   "outputs": [
    {
     "name": "stdout",
     "output_type": "stream",
     "text": [
      "['alpha echo', 'foxtrot bravo', 'charlie golf', 'hotel delta']\n"
     ]
    }
   ],
   "source": [
    "# task 5.2\n",
    "strings1 = ['alpha','bravo','charlie','delta']\n",
    "strings2 = ['echo','foxtrot','golf','hotel']\n",
    "\n",
    "strings3 = [item1+' '+item2 if index % 2 == 0 else item2+' '+item1 for index, (item1, item2) in enumerate(zip(strings1, strings2))]\n",
    "print(strings3)"
   ]
  },
  {
   "cell_type": "code",
   "execution_count": null,
   "metadata": {
    "collapsed": true
   },
   "outputs": [],
   "source": [
    "# task 6.2\n"
   ]
  }
 ],
 "metadata": {
  "kernelspec": {
   "display_name": "Python 2",
   "language": "python",
   "name": "python2"
  },
  "language_info": {
   "codemirror_mode": {
    "name": "ipython",
    "version": 2
   },
   "file_extension": ".py",
   "mimetype": "text/x-python",
   "name": "python",
   "nbconvert_exporter": "python",
   "pygments_lexer": "ipython2",
   "version": "2.7.13"
  }
 },
 "nbformat": 4,
 "nbformat_minor": 2
}
