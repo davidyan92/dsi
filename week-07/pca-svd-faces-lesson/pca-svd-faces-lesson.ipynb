{
 "cells": [
  {
   "cell_type": "markdown",
   "metadata": {},
   "source": [
    "<img src=\"https://ga-dash.s3.amazonaws.com/production/assets/logo-9f88ae6c9c3871690e33280fcf557f33.png\" style=\"float: left; margin: 15px;\">\n",
    "\n",
    "## Image Compression Using PCA and SVD\n",
    "\n",
    "_Author: Kiefer Katovich (SF) _\n",
    "\n",
    "---\n",
    "\n",
    "In this lab, we will write PCA and SVD from scratch and use them to compress and reconstruct images.\n",
    "\n",
    "### Learning Objectives\n",
    "- Understand grayscale image processing using NumPy.\n",
    "- Understand the mathematics of PCA and SVD.\n",
    "- Manually implement PCA and SVD.\n",
    "- Build an image compression algorithm.\n",
    "\n",
    "Below is an overview of the math behind principal component analysis (PCA) and a method to calculate it which is very common in many algorithms, the singular value decomposition (SVD)."
   ]
  },
  {
   "cell_type": "markdown",
   "metadata": {},
   "source": [
    "### Lesson Guide\n",
    "- [1. Load Dataset](#1.-Load-Dataset)\n",
    "- [2. Understand the Dataset](#2.-Understand-the-Dataset)\n",
    "- [3. Covariance of a Matrix](#3.-Covariance-of-a-Matrix)\n",
    "- [4. An Ideal Data Representation](#4.-An-Ideal-Data-Representation) (the math of PCA)\n",
    "- [5. Manually Coding PCA](#5.-Manually-Coding-PCA)\n",
    "- [6. Singular Value Decomposition (SVD) to do PCA](#svd)\n",
    "- [7. Manually Coding SVD](#7.-Manually-Coding-SVD)"
   ]
  },
  {
   "cell_type": "code",
   "execution_count": 156,
   "metadata": {
    "collapsed": true
   },
   "outputs": [],
   "source": [
    "import matplotlib.pyplot as plt\n",
    "import numpy as np\n",
    "import pandas as pd\n",
    "import seaborn as sns\n",
    "\n",
    "sns.set_style(\"whitegrid\")\n",
    "\n",
    "%matplotlib inline\n",
    "%config InlineBackend.figure_format = 'retina'"
   ]
  },
  {
   "cell_type": "markdown",
   "metadata": {},
   "source": [
    "## Faces Dataset\n",
    "---\n",
    "\n",
    "Let's load in the faces dataset from sklearn and pull out one of the faces.\n",
    "\n",
    "### 1. Load Dataset"
   ]
  },
  {
   "cell_type": "code",
   "execution_count": 157,
   "metadata": {
    "collapsed": true
   },
   "outputs": [],
   "source": [
    "from sklearn.datasets import fetch_olivetti_faces"
   ]
  },
  {
   "cell_type": "code",
   "execution_count": 158,
   "metadata": {},
   "outputs": [],
   "source": [
    "dataset = fetch_olivetti_faces()\n",
    "faces = dataset.data"
   ]
  },
  {
   "cell_type": "code",
   "execution_count": 159,
   "metadata": {},
   "outputs": [
    {
     "data": {
      "text/plain": [
       "(400, 4096)"
      ]
     },
     "execution_count": 159,
     "metadata": {},
     "output_type": "execute_result"
    }
   ],
   "source": [
    "# Make sure you always understand *why* the shape is what it is\n",
    "#   - There are 400 images of faces. (i.e. rows of data)\n",
    "#   - Each image is 64x64 pixels, for a total of 4096 pixels. (i.e. features)\n",
    "\n",
    "faces.shape"
   ]
  },
  {
   "cell_type": "markdown",
   "metadata": {},
   "source": [
    "### 2. Understand the Dataset"
   ]
  },
  {
   "cell_type": "code",
   "execution_count": 160,
   "metadata": {},
   "outputs": [
    {
     "name": "stdout",
     "output_type": "stream",
     "text": [
      "(4096,)\n"
     ]
    },
    {
     "data": {
      "text/plain": [
       "array([ 0.54132229,  0.58677685,  0.6404959 , ...,  0.09504132,\n",
       "        0.11157025,  0.11157025], dtype=float32)"
      ]
     },
     "execution_count": 160,
     "metadata": {},
     "output_type": "execute_result"
    }
   ],
   "source": [
    "# Keep in mind:\n",
    "#   (4096,) -- A 1-element tuple.\n",
    "#   (4096)  -- An integer.\n",
    "\n",
    "face10 = faces[10]\n",
    "print(face10.shape)\n",
    "\n",
    "# This is a grayscale image, so each pixel is from 0 (black) to 1 (white)\n",
    "face10"
   ]
  },
  {
   "cell_type": "markdown",
   "metadata": {},
   "source": [
    "Set up a couple of functions, one to process an image (reshape it to a 2D matrix) and the other to actually plot the image matrix."
   ]
  },
  {
   "cell_type": "code",
   "execution_count": 161,
   "metadata": {
    "collapsed": true
   },
   "outputs": [],
   "source": [
    "def plot_image_matrix(face_image):\n",
    "    \"\"\" \n",
    "    Plots a grayscale 2-D ndarray `face_image`. \n",
    "        Pixel values can have any scale.\n",
    "    \"\"\"\n",
    "    fig, ax = plt.subplots(figsize=(5,5))\n",
    "    \n",
    "    # max value (in magnitude)\n",
    "    max_pixel_value = max(face_image.max(), -face_image.min())\n",
    "    \n",
    "    ax.imshow(face_image, cmap=plt.cm.gray,\n",
    "              interpolation='nearest', \n",
    "              vmin=-max_pixel_value,\n",
    "              vmax=max_pixel_value)\n",
    "    \n",
    "    ax.set_xticks(())\n",
    "    ax.set_yticks(())"
   ]
  },
  {
   "cell_type": "code",
   "execution_count": 162,
   "metadata": {
    "collapsed": true
   },
   "outputs": [],
   "source": [
    "def process_image(image):\n",
    "    \"\"\" \n",
    "    Standardize a 1-D 4096-element ndarray `image` to end up with:\n",
    "      - A new 2-D 64x64-element ndarray, with\n",
    "      - Pixel values between (-0.5, 0.5).\n",
    "    \"\"\"\n",
    "    \n",
    "    # Min-Max scaling to end up with values between (-0.5, 0.5)\n",
    "    image = image - image.min()\n",
    "    image = (image / image.max()) - 0.5\n",
    "    \n",
    "    # In this case, converts the 4096-element `image` to 64x64\n",
    "    image = image.reshape((64, 64))       # The first parameter is a tuple\n",
    "    return image"
   ]
  },
  {
   "cell_type": "code",
   "execution_count": 163,
   "metadata": {},
   "outputs": [
    {
     "name": "stdout",
     "output_type": "stream",
     "text": [
      "(64, 64)\n"
     ]
    },
    {
     "data": {
      "text/plain": [
       "array([[ 0.02912617,  0.08252424,  0.14563107, ...,  0.03398061,\n",
       "         0.04368931,  0.04854369],\n",
       "       [ 0.04368931,  0.11650485,  0.1650486 , ...,  0.06796116,\n",
       "         0.07766992,  0.07281548],\n",
       "       [ 0.07281548,  0.16019416,  0.18932039, ...,  0.06310678,\n",
       "         0.10194176,  0.09708732],\n",
       "       ..., \n",
       "       [-0.45631069, -0.44660193, -0.44660193, ..., -0.5       ,\n",
       "        -0.4708738 , -0.48058254],\n",
       "       [-0.45145631, -0.44660193, -0.45145631, ..., -0.49514565,\n",
       "        -0.47572815, -0.48058254],\n",
       "       [-0.44660193, -0.45145631, -0.44660193, ..., -0.49514565,\n",
       "        -0.47572815, -0.47572815]], dtype=float32)"
      ]
     },
     "execution_count": 163,
     "metadata": {},
     "output_type": "execute_result"
    }
   ],
   "source": [
    "face10 = process_image(face10)\n",
    "print(face10.shape)\n",
    "\n",
    "face10"
   ]
  },
  {
   "cell_type": "markdown",
   "metadata": {},
   "source": [
    "---\n",
    "\n",
    "Always make sure you understand how the image is stored. Given the image below and the image matrix above:\n",
    "- The top rows are light colored.\n",
    "          So, the first few rows of numbers are > 0.0\n",
    "- The final rows start dark and end dark. \n",
    "          So, the last few rows of numbers start and end < 0.0\n",
    "- If you print out the full final row, what would you expect the middle numbers to look like?"
   ]
  },
  {
   "cell_type": "code",
   "execution_count": 164,
   "metadata": {},
   "outputs": [
    {
     "data": {
      "image/png": "[encoded data removed]",
      "text/plain": [
       "<matplotlib.figure.Figure at 0x12fb05b0>"
      ]
     },
     "metadata": {
      "image/png": {
       "height": 286,
       "width": 286
      }
     },
     "output_type": "display_data"
    }
   ],
   "source": [
    "plot_image_matrix(process_image(face10))"
   ]
  },
  {
   "cell_type": "markdown",
   "metadata": {},
   "source": [
    "Let's pull out a matrix of pixels -- just the eye of face #40."
   ]
  },
  {
   "cell_type": "code",
   "execution_count": 180,
   "metadata": {},
   "outputs": [
    {
     "data": {
      "image/png": "[encoded data removed]",
      "text/plain": [
       "<matplotlib.figure.Figure at 0x133ab050>"
      ]
     },
     "metadata": {
      "image/png": {
       "height": 286,
       "width": 286
      }
     },
     "output_type": "display_data"
    }
   ],
   "source": [
    "plot_image_matrix(process_image(faces[50]))"
   ]
  },
  {
   "cell_type": "code",
   "execution_count": 181,
   "metadata": {},
   "outputs": [],
   "source": [
    "# This gets a 2D matrix - columns 5 up to 30 and pixel rows 10 up to 15.\n",
    "#    Knowing this, what would you predict eye.shape to be? Verify your answer.\n",
    "\n",
    "eye = process_image(faces[50])[5:30, 10:15]"
   ]
  },
  {
   "cell_type": "code",
   "execution_count": 182,
   "metadata": {},
   "outputs": [
    {
     "data": {
      "image/png": "[encoded data removed]",
      "text/plain": [
       "<matplotlib.figure.Figure at 0x12d29dd0>"
      ]
     },
     "metadata": {
      "image/png": {
       "height": 286,
       "width": 68
      }
     },
     "output_type": "display_data"
    }
   ],
   "source": [
    "plot_image_matrix(eye)"
   ]
  },
  {
   "cell_type": "markdown",
   "metadata": {},
   "source": [
    "---\n",
    "\n",
    "### 3. Correlation and Covariance of a Matrix\n",
    "\n",
    "In this section, we'll be treating each row of the eye image as an example. Each column will be a feature. So, the correlation between the columns will be how often all five columns change their pixel values together. In the eye image, notice the five columns are approximately the same across each row; so, we would expect them to have high correlation.\n",
    "\n",
    "#### 3.A. Correlation Matrix"
   ]
  },
  {
   "cell_type": "markdown",
   "metadata": {},
   "source": [
    "You should be able to intutively describe for the below correlation matrix:\n",
    "- Why is a correlation matrix diagonal? What do the 1s mean?\n",
    "- Why is this particular correlation matrix 5x5? What does each row/col correspond to in this case?\n",
    "- What does it mean that all correlations are highly positive, in terms of the pixels?\n",
    "- For PCA, would it be good or bad for each column of pixels to be highly correlated?"
   ]
  },
  {
   "cell_type": "code",
   "execution_count": 183,
   "metadata": {},
   "outputs": [
    {
     "data": {
      "text/plain": [
       "array([[ 1.        ,  0.89679602,  0.84243288,  0.73569311,  0.81209014],\n",
       "       [ 0.89679602,  1.        ,  0.98238476,  0.7519262 ,  0.73714626],\n",
       "       [ 0.84243288,  0.98238476,  1.        ,  0.78569793,  0.73761145],\n",
       "       [ 0.73569311,  0.7519262 ,  0.78569793,  1.        ,  0.93985714],\n",
       "       [ 0.81209014,  0.73714626,  0.73761145,  0.93985714,  1.        ]])"
      ]
     },
     "execution_count": 183,
     "metadata": {},
     "output_type": "execute_result"
    }
   ],
   "source": [
    "np.corrcoef(eye, rowvar=False)"
   ]
  },
  {
   "cell_type": "markdown",
   "metadata": {},
   "source": [
    "Let's interpret this correlation matrix:\n",
    "\n",
    "- **`rowvar=False`, so the columns are treated as the variables/features.**\n",
    "  - Hence, we can consider each row to be a data point with five features -- in this case, pixels.\n",
    "\n",
    "\n",
    "- **What does it mean that these five pixels are highly correlated with each other?**\n",
    "  - When column A's pixel is lit, is column B's pixel also lit? When column A's pixel is off, is column B's pixel also off? If so, then A and B would have a positive correlation.\n",
    "  - Looking at the eye image, all five columns are either all on or all off (generally speaking). Hence, the five columns should have positive correlations.\n",
    "\n",
    "\n",
    "- **Verify your understanding:** The lowest correlation is the first column vs the fourth column (0.736). Looking at the image, would you expect these two to have the lowest correlation? If so, then you have evidence these results are correct!\n",
    "\n",
    "\n",
    "- **How does this relate to PCA?** A high correlation between columns means that our data representation is \"wasteful\". In the eye matrix, all five pixel columns nearly contain the same information. We could clearly just copy the first column five times and have a very similar image. Once PCA is performed, no two separate columns will be correlated (i.e. our correlation matrix will be the identity matrix)."
   ]
  },
  {
   "cell_type": "markdown",
   "metadata": {},
   "source": [
    "#### 3.B. Covariance\n",
    "\n",
    "Now that you understand the correlation matrix, let's use these intuitions to look at the covariance matrix to gain a similar understanding! Also, try to intuitively understand how the correlation and covariance matrices are related -- it is the [standardized covariance matrix](https://en.wikipedia.org/wiki/Covariance_matrix#Correlation_matrix). (The correlation is restricted to the range [-1, 1].)\n",
    "\n",
    "The [covariance of a matrix $X$](https://en.wikipedia.org/wiki/Covariance_matrix) is defined\n",
    "\n",
    "### $$ Cov_X = \\frac{X^T X}{n-1} $$"
   ]
  },
  {
   "cell_type": "code",
   "execution_count": 184,
   "metadata": {},
   "outputs": [],
   "source": [
    "# Center the eye image - this is necessary for manual covariance calculation.\n",
    "eye_cent = eye - eye.mean(axis=0)\n",
    "manual_cov = np.dot(eye_cent.T, eye_cent) / (eye_cent.shape[0] - 1)\n",
    "\n",
    "# numpy defaults to assuming that the rows are the \"variables\" (and columns are observations).\n",
    "# So, setting rowvar=False is essential if we want to think about the columns \n",
    "# as the variables and calculate the covariance matrix accordingly.\n",
    "numpy_cov = np.cov(eye, rowvar=False)"
   ]
  },
  {
   "cell_type": "code",
   "execution_count": 185,
   "metadata": {},
   "outputs": [
    {
     "data": {
      "text/plain": [
       "(0.027281007, 0.027281006000865169)"
      ]
     },
     "execution_count": 185,
     "metadata": {},
     "output_type": "execute_result"
    }
   ],
   "source": [
    "# You can see that the manual calculation is the same as the numpy calculation.\n",
    "manual_cov[0, 0], numpy_cov[0, 0]"
   ]
  },
  {
   "cell_type": "code",
   "execution_count": 186,
   "metadata": {},
   "outputs": [
    {
     "data": {
      "text/plain": [
       "array([[ 0.02728101,  0.02643268,  0.02162093,  0.01639091,  0.02475584],\n",
       "       [ 0.02643268,  0.03184451,  0.02724005,  0.01809959,  0.02427808],\n",
       "       [ 0.02162093,  0.02724005,  0.02414448,  0.016468  ,  0.02115339],\n",
       "       [ 0.01639091,  0.01809959,  0.016468  ,  0.01819502,  0.02339815],\n",
       "       [ 0.02475584,  0.02427808,  0.02115339,  0.02339815,  0.0340633 ]], dtype=float32)"
      ]
     },
     "execution_count": 186,
     "metadata": {},
     "output_type": "execute_result"
    }
   ],
   "source": [
    "manual_cov"
   ]
  },
  {
   "cell_type": "code",
   "execution_count": 187,
   "metadata": {},
   "outputs": [
    {
     "data": {
      "text/plain": [
       "True"
      ]
     },
     "execution_count": 187,
     "metadata": {},
     "output_type": "execute_result"
    }
   ],
   "source": [
    "# We use np.allclose() because you should never compare floats directly\n",
    "#    (For example, `0.1 == 0.4 - 0.3` is False!)\n",
    "\n",
    "# They are basically the same numbers:\n",
    "np.allclose(manual_cov, numpy_cov)"
   ]
  },
  {
   "cell_type": "markdown",
   "metadata": {},
   "source": [
    "---\n",
    "\n",
    "### 4. An Ideal Data Representation\n",
    "\n",
    "An \"ideal\" covariance matrix for data would have large numbers (variances) along the diagonal because this would indicate a large amount of signal in the data. It would also have zero values in the off-diagonal elements because these values indicate redundancy across our variables. \n",
    "\n",
    "Currently, our covariance matrix is not diagonal. You can see this clearly in that there are many non-zero elements outside of the diagonal. This means that our variables (columns of pixels) are correlated with each other. One way of thinking about this, and the reason that PCA seeks to decorrelate the data, is that correlation between our variables indicates that the variables are redundant - we don't need as many variables to represent the same amount of variance in the data.\n",
    "\n",
    "With PCA we seek a new representation of our data such that the columns, or variables, are uncorrelated. We also want the new variables ordered in importance, so that the variables maximize information in the data represented by variance in order. \n",
    "\n",
    "---\n",
    "\n",
    "#### Defining the new representation of our data, $Y$\n",
    "\n",
    "But how do we do this? We will derive a transformation on our data so that the transformed data has the \"ideal\" covariance matrix described before. Our new representation of the information will have no correlation between variables and the variables will be ordered by importance.\n",
    "\n",
    "We can define new matrices $Y$ and $P$ such that:\n",
    "\n",
    "#### $$ Y = XP $$\n",
    "\n",
    "$Y$ will be our new representation of the data, where the covariance of matrix $Y$ is diagonal (meaning the columns of Y are uncorrelated).\n",
    "\n",
    "#### $$ Cov_Y = \\frac{Y^{T}Y}{n-1} \\text{ is a diagonal matrix} $$\n",
    "\n",
    "PCA assumes that the matrix $P$ will be \"orthonormal\", meaning that the columns of $P$ are orthogonal as well as normalized. $P$ is the matrix that will perform the rotation of the $X$ matrix into the new axis space for $Y$. $P$ will be orthonormal because of how PCA re-characterizes the data:\n",
    "\n",
    "1. Find a $p_1$ direction that maximizes the variance in $X$.\n",
    "2. Find a $p_2$ that maximizes variance in $X$ _such that $p_2$ is orthogonal to $p_1$_.\n",
    "3. Find a $p_3$ that maximizes variance in $X$ _such that $p_3$ is orthogonal to $p_1$ and $p_2$._\n",
    "4. etc. for all $p$ columns.\n",
    "\n",
    "We can rewrite the covariance of $Y$ as a function of $P$ and the covariance of $X$:\n",
    "\n",
    "### $$ Cov_Y = \\frac{Y^{T}Y}{n-1} \\\\\n",
    "Cov_Y = \\frac{(XP)^{T}(XP)}{n-1} \\\\\n",
    "Cov_Y = \\frac{P^T X^T X P}{n-1} \\\\\n",
    "Cov_Y = P^T\\left(\\frac{X^TX}{n-1}\\right)P \\\\\n",
    "Cov_Y = P^TCov_X P$$\n",
    "\n",
    "So where do we go from here? Luckily, any symmetric matrix, such as a covariance matrix, has the property that it's eigenvectors are orthogonal."
   ]
  },
  {
   "cell_type": "markdown",
   "metadata": {
    "collapsed": true
   },
   "source": [
    "---\n",
    "\n",
    "### If a matrix is orthogonally diagonalizable it is also symmetric\n",
    "\n",
    "Say we have matrix $A$ and its transpose $A^T$. If a matrix is symmetric, it means that it is equal to its transpose, $A = A^T$. Say we also have a diagonal matrix $D$ and a matrix $E$ such that:\n",
    "\n",
    "### $$ A = EDE^T $$\n",
    "\n",
    "We can write out the transpose of $A$, $A^T$ as:\n",
    "\n",
    "### $$ A^T = (EDE^T)^T $$\n",
    "\n",
    "The transpose of dot products of matrices is equivalent to the product of their transpose in reverse order. For example, $(AB)^T = B^T A^T$.\n",
    "\n",
    "### $$ A^T = E^{TT}D^TE^T \\\\\n",
    "A^T = ED^TE^T$$\n",
    "\n",
    "We have already defined $D$ to be a diagonal matrix, so by definition $D^T = D$. With this you can see that $A^T$ is in fact equal to $A$:\n",
    "\n",
    "### $$ A^T = EDE^T  = A$$\n",
    "\n",
    "And so if $A$ is equal to its transpose, it is orthogonally diagonalizeable. \n",
    "\n"
   ]
  },
  {
   "cell_type": "markdown",
   "metadata": {},
   "source": [
    "---\n",
    "\n",
    "#### The diagonalization of a symmetric matrix is done using its eigenvectors\n",
    "\n",
    "Again, $A$ is our symmetric matrix such that $A = A^T$. Now we define the matrix $E$ to be the matrix of eigenvectors of $A$. \n",
    "\n",
    "Recall that the eigenvectors of a matrix are the vectors that do not change direction when multiplied by the matrix, only scaled according to their corresponding eigenvalues. An eigenvector $e_i$ and its corresponding eigenvalue $\\lambda_i$ are described:\n",
    "\n",
    "#### $$ Ae_i = \\lambda_i e_i $$\n",
    "\n",
    "Likewise, the determinant of a matrix $A$ minus its eigenvalues times the identity matrix $I$ will equal zero:\n",
    "\n",
    "#### $$ det(A - \\lambda I) = 0 $$\n",
    "\n",
    "You can think of the determinant as a \"signed volume\" of the space defined by $A$, and the eigenvalues represent the scaling of the matrix $A$ relative to the unit volume.\n",
    "\n",
    "We can write out the equation:\n",
    "\n",
    "#### $$ AE = ED $$\n",
    "\n",
    "Because this is equivalent to the definition of the eigenvectors and eigenvalues above. $A$ multiplied by the matrix of eigenvectors is equivalent to the matrix of eigenvectors multiplied by a diagonal matrix that represent the eigenvalues $\\lambda$.\n",
    "\n",
    "Remember that if $A$ is symmetric, $A = A^T$. Write out two different equations with two different eigenvalue and eigenvector pairs:\n",
    "\n",
    "### $$ A e_1 = \\lambda_1 e_1 \\\\\n",
    "A e_2 = \\lambda_2 e_2 $$\n",
    "\n",
    "Pre-multiply the first equation by the transpose of $e_2$ and the second equation by the transpose of $e_1$:\n",
    "\n",
    "### $$ e_2^T A e_1 = \\lambda_1 e_2^T  e_1 \\\\\n",
    "e_1^T A e_2 = \\lambda_2 e_1^T  e_2 $$\n",
    "\n",
    "We know that $A$ is symmetric, so (with just the first equation) we can plug in $A^T$:\n",
    "\n",
    "### $$ e_2^T A^T e_1 = \\lambda_1 e_2^T e_1 $$\n",
    "\n",
    "Using the rule that $(AB)^T = B^T A^T$:\n",
    "\n",
    "### $$ (A e_2)^T e_1 =  \\lambda_1 e_2^T e_1 $$\n",
    "\n",
    "Substituting in the eigenvalue and eigenvector representation for $A e_2$:\n",
    "\n",
    "### $$ (\\lambda_2 e_2)^T e_1 = \\lambda_1 e_2^T e_1 \\\\\n",
    "\\lambda_2 e_2^T e_1 = \\lambda_1 e_2^T e_1$$\n",
    "\n",
    "And so,\n",
    "\n",
    "### $$ (\\lambda_2 - \\lambda_1)(e_2^T e_1) = 0 $$\n",
    "\n",
    "And therefore $e_2^T e_1$ must equal 0 (the eigenvalues are unique), and this holds for any of the eigenvectors, not just the first two. The eigenvectors of the symmetric matrix are therefore orthogonal.\n",
    "\n",
    "Let's go back to the equation we had at the beginning,\n",
    "\n",
    "### $$ AE = ED $$\n",
    "\n",
    "We can rewrite this as:\n",
    "\n",
    "### $$ A = EDE^{-1} $$\n",
    "\n",
    "A property of an orthogonal matrix is that its inverse is also its transpose: $E^T = E^{-1}$. As we have just shown, our matrix $E$ of eigenvectors is in fact orthogonal for this symmetric matrix $A$. Using this fact we can finally rewrite the equation as:\n",
    "\n",
    "### $$ A = EDE^T $$\n",
    "\n",
    "And we know that a symmetric matrix is diagonalized by its eigenvectors."
   ]
  },
  {
   "cell_type": "markdown",
   "metadata": {},
   "source": [
    "---\n",
    "\n",
    "### Diagonalizing the covariance of matrix $Y$ is done using the eigenvalues of the covariance of $X$\n",
    "\n",
    "Now lets go all the way back to our equation for the covariance of our desired $Y$ matrix, which we are going to make diagonal:\n",
    "\n",
    "### $$ Cov_Y = P^TCov_X P$$\n",
    "\n",
    "Remember, we want $Cov_Y$ to be a diagonal matrix. How should we do this? Our desired outcome is:\n",
    "\n",
    "### $$ Cov_Y = D$$\n",
    "\n",
    "And so we need to set the right-hand side of the equation to equal $D$:\n",
    "\n",
    "### $$ P^TCov_X P = D $$\n",
    "\n",
    "If we set the columns of $P$ to be the eigenvectors of the covariance matrix of $X$, then $P$ is equivalent to the $E$ in our formula for the symmetric matrix $A$ before.\n",
    "\n",
    "We can plug this in to the formula in place of $Cov_X$:\n",
    "\n",
    "### $$ P^T (PDP^T) P = D \\\\\n",
    "(P^TP)D(P^TP) = D $$\n",
    "\n",
    "Because the eigenvectors $P$ are orthogonal, $P^T = P^{-1}$ and so:\n",
    "\n",
    "### $$ (P^{-1}P) D (P^{-1}P) = D \\\\\n",
    "D = D $$\n",
    "\n",
    "And therefore we know that the covariance matrix of $Y$ is a diagonal matrix if we set $P$ to be the eigenvalues of the covariance matrix of $X$:\n",
    "\n",
    "### $$ Cov_Y = D $$\n"
   ]
  },
  {
   "cell_type": "markdown",
   "metadata": {},
   "source": [
    "### 5. Manually Coding PCA"
   ]
  },
  {
   "cell_type": "markdown",
   "metadata": {
    "collapsed": true
   },
   "source": [
    "We can do this in code to prove it to ourselves. Below I will do this process for the `eye_cent` matrix as `X`:"
   ]
  },
  {
   "cell_type": "code",
   "execution_count": 188,
   "metadata": {},
   "outputs": [
    {
     "data": {
      "text/plain": [
       "array([[ 0.02728101,  0.02643268,  0.02162093,  0.01639091,  0.02475585],\n",
       "       [ 0.02643268,  0.03184451,  0.02724005,  0.01809959,  0.02427808],\n",
       "       [ 0.02162093,  0.02724005,  0.02414448,  0.016468  ,  0.02115339],\n",
       "       [ 0.01639091,  0.01809959,  0.016468  ,  0.01819502,  0.02339815],\n",
       "       [ 0.02475585,  0.02427808,  0.02115339,  0.02339815,  0.0340633 ]])"
      ]
     },
     "execution_count": 188,
     "metadata": {},
     "output_type": "execute_result"
    }
   ],
   "source": [
    "X = eye_cent\n",
    "cov_X = np.cov(eye_cent, rowvar=False)\n",
    "cov_X"
   ]
  },
  {
   "cell_type": "code",
   "execution_count": 189,
   "metadata": {},
   "outputs": [
    {
     "data": {
      "image/png": "[encoded data removed]",
      "text/plain": [
       "<matplotlib.figure.Figure at 0x12f62f30>"
      ]
     },
     "metadata": {
      "image/png": {
       "height": 286,
       "width": 286
      }
     },
     "output_type": "display_data"
    }
   ],
   "source": [
    "plot_image_matrix(cov_X)"
   ]
  },
  {
   "cell_type": "code",
   "execution_count": 190,
   "metadata": {},
   "outputs": [
    {
     "name": "stdout",
     "output_type": "stream",
     "text": [
      "[ 0.00022276  0.00075275  0.00497803  0.01302775  0.11654703]\n",
      "[[ 0.17113608  0.35719895 -0.78281482 -0.16196171 -0.451764  ]\n",
      " [-0.6817407  -0.19047562  0.14938273 -0.48097297 -0.49527614]\n",
      " [ 0.69552901 -0.10072776  0.42983835 -0.3722022  -0.42754862]\n",
      " [-0.14588119  0.71303589  0.41188149  0.41788152 -0.35500306]\n",
      " [ 0.03000217 -0.56352612 -0.10236397  0.65519002 -0.49171723]]\n"
     ]
    }
   ],
   "source": [
    "# use numpy's linalg.eigh to get the eigenvalues and vectors for a symmetric matrix:\n",
    "eigval, eigvec = np.linalg.eigh(cov_X)\n",
    "\n",
    "print eigval\n",
    "print eigvec"
   ]
  },
  {
   "cell_type": "code",
   "execution_count": 191,
   "metadata": {},
   "outputs": [
    {
     "data": {
      "text/plain": [
       "array([[-0.451764  , -0.16196171, -0.78281482,  0.35719895,  0.17113608],\n",
       "       [-0.49527614, -0.48097297,  0.14938273, -0.19047562, -0.6817407 ],\n",
       "       [-0.42754862, -0.3722022 ,  0.42983835, -0.10072776,  0.69552901],\n",
       "       [-0.35500306,  0.41788152,  0.41188149,  0.71303589, -0.14588119],\n",
       "       [-0.49171723,  0.65519002, -0.10236397, -0.56352612,  0.03000217]])"
      ]
     },
     "execution_count": 191,
     "metadata": {},
     "output_type": "execute_result"
    }
   ],
   "source": [
    "# Sort the eigenvectors by largest to smallest eigenvalue:\n",
    "idx = np.argsort(eigval)[::-1]     # gets the indices of the smallest to largest then reverses it!\n",
    "eigvec = eigvec[:,idx]             # returns the eigenvectors in the ordering above\n",
    "eigvec"
   ]
  },
  {
   "cell_type": "code",
   "execution_count": 192,
   "metadata": {},
   "outputs": [
    {
     "data": {
      "text/plain": [
       "array([[-0.36101215,  0.06284877,  0.02714224, -0.00217888, -0.00233566],\n",
       "       [-0.31759933,  0.07147742, -0.02146009, -0.01091403, -0.01239504],\n",
       "       [-0.12445328,  0.04922555, -0.06837268, -0.00173076, -0.00675389]])"
      ]
     },
     "execution_count": 192,
     "metadata": {},
     "output_type": "execute_result"
    }
   ],
   "source": [
    "# Perform the dot product of X with the eigenvectors to get Y:\n",
    "Y = np.dot(X, eigvec)\n",
    "Y[0:3]"
   ]
  },
  {
   "cell_type": "code",
   "execution_count": 193,
   "metadata": {},
   "outputs": [
    {
     "data": {
      "text/plain": [
       "array([[  1.16547027e-01,   2.82872419e-18,   1.20091212e-17,\n",
       "          3.67857216e-18,  -1.37556813e-17],\n",
       "       [  2.82872419e-18,   1.30277495e-02,   9.09211515e-18,\n",
       "         -1.26310405e-17,  -6.91026779e-18],\n",
       "       [  1.20091212e-17,   9.09211515e-18,   4.97803126e-03,\n",
       "         -8.37464721e-19,   1.62260702e-18],\n",
       "       [  3.67857216e-18,  -1.26310405e-17,  -8.37464721e-19,\n",
       "          7.52748301e-04,  -2.70356900e-18],\n",
       "       [ -1.37556813e-17,  -6.91026779e-18,   1.62260702e-18,\n",
       "         -2.70356900e-18,   2.22761865e-04]])"
      ]
     },
     "execution_count": 193,
     "metadata": {},
     "output_type": "execute_result"
    }
   ],
   "source": [
    "# compute the covariance for Y to verify that the columns of Y are indeed uncorrelated:\n",
    "cov_Y = np.cov(Y, rowvar=False)\n",
    "cov_Y"
   ]
  },
  {
   "cell_type": "code",
   "execution_count": 194,
   "metadata": {},
   "outputs": [
    {
     "data": {
      "image/png": "[encoded data removed]",
      "text/plain": [
       "<matplotlib.figure.Figure at 0x12f68390>"
      ]
     },
     "metadata": {
      "image/png": {
       "height": 286,
       "width": 286
      }
     },
     "output_type": "display_data"
    }
   ],
   "source": [
    "# The image of the covariance matrix shows that the off-diagonal elements are\n",
    "# all essentially zero.\n",
    "plot_image_matrix(cov_Y)"
   ]
  },
  {
   "cell_type": "code",
   "execution_count": 195,
   "metadata": {},
   "outputs": [
    {
     "data": {
      "image/png": "[encoded data removed]",
      "text/plain": [
       "<matplotlib.figure.Figure at 0x12d291f0>"
      ]
     },
     "metadata": {
      "image/png": {
       "height": 286,
       "width": 68
      }
     },
     "output_type": "display_data"
    }
   ],
   "source": [
    "# You can also see that the rightmost column of Y contains the most variance, though these\n",
    "# new variables no longer look like an eye, of course.\n",
    "plot_image_matrix(Y)"
   ]
  },
  {
   "cell_type": "code",
   "execution_count": 197,
   "metadata": {},
   "outputs": [
    {
     "data": {
      "image/png": "[encoded data removed]",
      "text/plain": [
       "<matplotlib.figure.Figure at 0x12ef3af0>"
      ]
     },
     "metadata": {
      "image/png": {
       "height": 286,
       "width": 68
      }
     },
     "output_type": "display_data"
    }
   ],
   "source": [
    "# Be able to verify it here with the actual eye\n",
    "#   Does it make sense that the leftmost would have the most variance?\n",
    "\n",
    "plot_image_matrix(eye)"
   ]
  },
  {
   "cell_type": "markdown",
   "metadata": {},
   "source": [
    "---\n",
    "\n",
    "<a id=\"svd\"></a>\n",
    "### 6. Singular Value Decomposition (SVD) to do PCA\n",
    "\n",
    "Singular value decomposition (SVD) is the most common method for performing PCA. It is similar to the eigendecomposition of the covariance matrix done in the previous section. \n",
    "\n",
    "Say we again have matrix $X$ with variables in columns, as well as the square matrix defined by $X^TX$.\n",
    "\n",
    "If $v_i$ is an orthonormal eigenvector of $X^TX$ and $\\lambda_i$ its corresponding eigenvalue, we have as before:\n",
    "\n",
    "### $$ X^TX v_i = \\lambda_i v_i $$\n",
    "\n",
    "If you instead multiply the matrix $X$ by the eigenvectors of its covariance matrix you have the following relation:\n",
    "\n",
    "### $$ X v_i = \\sigma_i u_i $$\n",
    "\n",
    "Where $\\sigma_i = \\sqrt{\\lambda_i}$ and $u_i = \\frac{1}{\\sigma_i}X v_i$.\n",
    "\n",
    "The $U$ and $V$ matrices of vectors are both orthonormal and define a set of new bases for $X$ (a new rotated set of axes).\n",
    "\n",
    "You can represent the \"singular values\" $\\sigma$ with the diagonal matrix $\\Sigma$, where:\n",
    "\n",
    "### $$ \\Sigma = \\begin{pmatrix}\\sigma_{1} \\\\\n",
    "& \\sigma_{2} \\\\\n",
    "& & \\ddots \\\\\n",
    "& & & \\sigma_{n}\\end{pmatrix} $$\n",
    "\n",
    "The SVD is then written as:\n",
    "\n",
    "### $$ XV = U \\Sigma \\\\\n",
    "X = U \\Sigma V^{-1} \\\\\n",
    "X = U \\Sigma V^T $$\n",
    "\n",
    "\n",
    "Graphically we can show this in both the single eigenvector case and the full matrix of eigenvector case. For the equation with one eigenvector below:\n",
    "\n",
    "### $$ X v_i = \\sigma_i u_i $$\n",
    "\n",
    "looks like:\n",
    "\n",
    "### $$ \\begin{pmatrix}x_{1,1} \\\\\n",
    "& \\ddots \\\\\n",
    "& & x_{n,m}\\end{pmatrix} \\cdot \\begin{pmatrix} v_{1} \\\\ \\ddots \\\\ v_{m} \\end{pmatrix} = \\sigma \\cdot \\begin{pmatrix} u_{1} \\\\ \\ddots \\\\ u_{n} \\end{pmatrix}$$\n",
    "\n",
    "\n",
    "And likewise the equation with full matrices $V$ and $U$,\n",
    "\n",
    "### $$ XV = U \\Sigma $$\n",
    "\n",
    "looks like:\n",
    "\n",
    "### $$ \\begin{pmatrix}x_{1,1} \\\\\n",
    "& \\ddots \\\\\n",
    "& & x_{n,m}\\end{pmatrix} \\cdot \n",
    "\\begin{pmatrix} v_{1,1} \\\\ \n",
    "& \\ddots \\\\ \n",
    "& & v_{m,m} \\end{pmatrix} = \n",
    "\\begin{pmatrix} u_{1,1} \\\\ \n",
    "& \\ddots \\\\ \n",
    "& & u_{n,n} \\end{pmatrix} \\cdot \n",
    "\\begin{pmatrix} \\sigma_{1,1} \\\\ \n",
    "& \\ddots \\\\ \n",
    "& & \\sigma_{n,m} \\end{pmatrix} $$\n",
    "\n",
    "Keep in mind that the matrices $V$ and $U$ will typically have to be \"filled in\" with extra orthogonal vectors to compensate for the fact that $X$ is not a square matrix.\n",
    "\n",
    "So how does one use SVD to perform PCA? As it turns out, the matrix $V$ is equivalent to the $P$ that we calculated before. It is the matrix that transforms the information contained in $X$ to a new basis in which the columns are orthogonal to each other.\n"
   ]
  },
  {
   "cell_type": "markdown",
   "metadata": {},
   "source": [
    "### 7. Manually Coding SVD"
   ]
  },
  {
   "cell_type": "code",
   "execution_count": 198,
   "metadata": {
    "collapsed": true
   },
   "outputs": [],
   "source": [
    "# Perform the SVD on X\n",
    "U, S, VT = np.linalg.svd(X)"
   ]
  },
  {
   "cell_type": "code",
   "execution_count": 199,
   "metadata": {},
   "outputs": [
    {
     "data": {
      "text/plain": [
       "array([[-0.45176399,  0.1619617 , -0.7828148 ,  0.35719895, -0.17113608],\n",
       "       [-0.49527612,  0.48097298,  0.14938273, -0.19047561,  0.6817407 ],\n",
       "       [-0.42754862,  0.37220219,  0.42983836, -0.10072777, -0.69552898],\n",
       "       [-0.35500306, -0.41788152,  0.41188148,  0.71303588,  0.14588119],\n",
       "       [-0.49171722, -0.65518999, -0.10236397, -0.56352609, -0.03000217]], dtype=float32)"
      ]
     },
     "execution_count": 199,
     "metadata": {},
     "output_type": "execute_result"
    }
   ],
   "source": [
    "# Print out V, the transpose of the VT that comes out of np.inalg.svd:\n",
    "VT.T"
   ]
  },
  {
   "cell_type": "code",
   "execution_count": 200,
   "metadata": {},
   "outputs": [
    {
     "data": {
      "text/plain": [
       "array([[-0.451764  , -0.16196171, -0.78281482,  0.35719895,  0.17113608],\n",
       "       [-0.49527614, -0.48097297,  0.14938273, -0.19047562, -0.6817407 ],\n",
       "       [-0.42754862, -0.3722022 ,  0.42983835, -0.10072776,  0.69552901],\n",
       "       [-0.35500306,  0.41788152,  0.41188149,  0.71303589, -0.14588119],\n",
       "       [-0.49171723,  0.65519002, -0.10236397, -0.56352612,  0.03000217]])"
      ]
     },
     "execution_count": 200,
     "metadata": {},
     "output_type": "execute_result"
    }
   ],
   "source": [
    "# These are the same as the ordered eigenvectors that we calculated before\n",
    "# (some of the signs can be flipped due to slight differences in calculation,\n",
    "# but the magnitudes are equivalent which is the important part.)\n",
    "eigvec"
   ]
  },
  {
   "cell_type": "markdown",
   "metadata": {},
   "source": [
    "One of the benefits of using the SVD formulation is that it makes it fairly straightforward to reconstruct a version of our original matrix $X$ using only some of the principal components. The first set of principal components often accounts for a large amount of the variance in the data, and so you can get back most of the original dataset with a fraction of the dimensionality.\n",
    "\n",
    "Let's first do the SVD and visualize the matrices for our `eye_cent` image. "
   ]
  },
  {
   "cell_type": "code",
   "execution_count": 201,
   "metadata": {},
   "outputs": [
    {
     "data": {
      "image/png": "[encoded data removed]",
      "text/plain": [
       "<matplotlib.figure.Figure at 0xc454af0>"
      ]
     },
     "metadata": {
      "image/png": {
       "height": 286,
       "width": 68
      }
     },
     "output_type": "display_data"
    }
   ],
   "source": [
    "# The original image of the eye:\n",
    "plot_image_matrix(eye_cent)"
   ]
  },
  {
   "cell_type": "code",
   "execution_count": 202,
   "metadata": {
    "collapsed": true
   },
   "outputs": [],
   "source": [
    "# perform an SVD on the eye_cent data. The argument full_matrices=False only \n",
    "# returns the relevant parts of U and VT (remember that SVD will fill in orthogonal vectors\n",
    "# if X is not square).\n",
    "\n",
    "U, S, VT = np.linalg.svd(eye_cent, full_matrices=False)\n",
    "S = np.diag(S)"
   ]
  },
  {
   "cell_type": "code",
   "execution_count": 203,
   "metadata": {},
   "outputs": [
    {
     "name": "stdout",
     "output_type": "stream",
     "text": [
      "(25, 5) (25, 5) (5, 5) (5, 5)\n"
     ]
    }
   ],
   "source": [
    "print eye_cent.shape, U.shape, S.shape, VT.shape"
   ]
  },
  {
   "cell_type": "code",
   "execution_count": 204,
   "metadata": {},
   "outputs": [
    {
     "data": {
      "image/png": "[encoded data removed]",
      "text/plain": [
       "<matplotlib.figure.Figure at 0x12fcbd50>"
      ]
     },
     "metadata": {
      "image/png": {
       "height": 286,
       "width": 68
      }
     },
     "output_type": "display_data"
    }
   ],
   "source": [
    "# plot the U matrix\n",
    "plot_image_matrix(U)"
   ]
  },
  {
   "cell_type": "code",
   "execution_count": 205,
   "metadata": {},
   "outputs": [
    {
     "data": {
      "image/png": "[encoded data removed]",
      "text/plain": [
       "<matplotlib.figure.Figure at 0x12f5a770>"
      ]
     },
     "metadata": {
      "image/png": {
       "height": 286,
       "width": 286
      }
     },
     "output_type": "display_data"
    }
   ],
   "source": [
    "plot_image_matrix(S)"
   ]
  },
  {
   "cell_type": "code",
   "execution_count": 206,
   "metadata": {},
   "outputs": [
    {
     "data": {
      "image/png": "[encoded data removed]",
      "text/plain": [
       "<matplotlib.figure.Figure at 0x132d3ab0>"
      ]
     },
     "metadata": {
      "image/png": {
       "height": 286,
       "width": 286
      }
     },
     "output_type": "display_data"
    }
   ],
   "source": [
    "plot_image_matrix(VT)"
   ]
  },
  {
   "cell_type": "markdown",
   "metadata": {},
   "source": [
    "We can reconstruct the original image exactly using the formula $X = U\\Sigma V^T$"
   ]
  },
  {
   "cell_type": "code",
   "execution_count": 207,
   "metadata": {},
   "outputs": [
    {
     "data": {
      "image/png": "[encoded data removed]",
      "text/plain": [
       "<matplotlib.figure.Figure at 0x131e0b90>"
      ]
     },
     "metadata": {
      "image/png": {
       "height": 286,
       "width": 68
      }
     },
     "output_type": "display_data"
    }
   ],
   "source": [
    "X_recon = np.dot(U, np.dot(S, VT))\n",
    "plot_image_matrix(X_recon)"
   ]
  },
  {
   "cell_type": "markdown",
   "metadata": {},
   "source": [
    "However, we can do the same with only two of the singular value dimensions. Because the singular values are ordered by the variance they account for, we can retain a lot of the original image just using a fraction of them. "
   ]
  },
  {
   "cell_type": "code",
   "execution_count": 208,
   "metadata": {},
   "outputs": [
    {
     "data": {
      "image/png": "[encoded data removed]",
      "text/plain": [
       "<matplotlib.figure.Figure at 0x13395db0>"
      ]
     },
     "metadata": {
      "image/png": {
       "height": 286,
       "width": 68
      }
     },
     "output_type": "display_data"
    }
   ],
   "source": [
    "pc = 2\n",
    "X_recon = np.dot(U[:, :pc], np.dot(S[:pc, :pc], VT[:pc, :]))\n",
    "plot_image_matrix(X_recon)"
   ]
  },
  {
   "cell_type": "markdown",
   "metadata": {},
   "source": [
    "This is even more apparent with a full face image. Below is the full face #50:"
   ]
  },
  {
   "cell_type": "code",
   "execution_count": 209,
   "metadata": {},
   "outputs": [
    {
     "data": {
      "image/png": "[encoded data removed]",
      "text/plain": [
       "<matplotlib.figure.Figure at 0x13322110>"
      ]
     },
     "metadata": {
      "image/png": {
       "height": 286,
       "width": 286
      }
     },
     "output_type": "display_data"
    }
   ],
   "source": [
    "face = process_image(faces[50])\n",
    "plot_image_matrix(face)"
   ]
  },
  {
   "cell_type": "markdown",
   "metadata": {},
   "source": [
    "Next I do SVD on the face image and look at the singular value matrix to get a feel for how many components are actually important (account for reasonable variance)."
   ]
  },
  {
   "cell_type": "code",
   "execution_count": 210,
   "metadata": {},
   "outputs": [
    {
     "data": {
      "image/png": "[encoded data removed]",
      "text/plain": [
       "<matplotlib.figure.Figure at 0x13458650>"
      ]
     },
     "metadata": {
      "image/png": {
       "height": 286,
       "width": 286
      }
     },
     "output_type": "display_data"
    }
   ],
   "source": [
    "U, S, VT = np.linalg.svd(face, full_matrices=False)\n",
    "S = np.diag(S)\n",
    "plot_image_matrix(S)"
   ]
  },
  {
   "cell_type": "markdown",
   "metadata": {},
   "source": [
    "Looks like the first 5 or 6 have a decent proportion of all the variance across the pixel columns. We can look at what the face reconstruction looks like just using those first 5 singular values. "
   ]
  },
  {
   "cell_type": "code",
   "execution_count": 218,
   "metadata": {},
   "outputs": [
    {
     "data": {
      "image/png": "[encoded data removed]",
      "text/plain": [
       "<matplotlib.figure.Figure at 0x132bbf90>"
      ]
     },
     "metadata": {
      "image/png": {
       "height": 286,
       "width": 286
      }
     },
     "output_type": "display_data"
    },
    {
     "data": {
      "image/png": "[encoded data removed]",
      "text/plain": [
       "<matplotlib.figure.Figure at 0x13555830>"
      ]
     },
     "metadata": {
      "image/png": {
       "height": 286,
       "width": 286
      }
     },
     "output_type": "display_data"
    }
   ],
   "source": [
    "pc = 5\n",
    "face_recon = np.dot(U[:, :pc], np.dot(S[:pc, :pc], VT[:pc, :]))\n",
    "plot_image_matrix(face_recon)\n",
    "plot_image_matrix(process_image(faces[50]))  # Original for comparison (64 columns)"
   ]
  },
  {
   "cell_type": "markdown",
   "metadata": {
    "collapsed": true
   },
   "source": [
    "To see how reconstruction is affected by different PCs, try adjusting `pc`. What is the smallest value of `pc` such that the image has minimal loss?\n",
    "\n",
    "Congratulations, you just wrote an image compressor!"
   ]
  }
 ],
 "metadata": {
  "kernelspec": {
   "display_name": "Python 2",
   "language": "python",
   "name": "python2"
  },
  "language_info": {
   "codemirror_mode": {
    "name": "ipython",
    "version": 2
   },
   "file_extension": ".py",
   "mimetype": "text/x-python",
   "name": "python",
   "nbconvert_exporter": "python",
   "pygments_lexer": "ipython2",
   "version": "2.7.11"
  }
 },
 "nbformat": 4,
 "nbformat_minor": 1
}
