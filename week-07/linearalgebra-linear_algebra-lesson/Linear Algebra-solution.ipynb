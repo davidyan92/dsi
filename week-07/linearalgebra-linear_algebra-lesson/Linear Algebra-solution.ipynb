{
 "cells": [
  {
   "cell_type": "markdown",
   "metadata": {},
   "source": [
    "# Linear Algebra Intro"
   ]
  },
  {
   "cell_type": "code",
   "execution_count": 77,
   "metadata": {
    "collapsed": false
   },
   "outputs": [],
   "source": [
    "import numpy as np\n",
    "import matplotlib.pyplot as plt\n",
    "% matplotlib inline\n",
    "import math\n",
    "import scipy.spatial"
   ]
  },
  {
   "cell_type": "markdown",
   "metadata": {},
   "source": [
    "##### Vector Print (a helper function)"
   ]
  },
  {
   "cell_type": "code",
   "execution_count": 2,
   "metadata": {
    "collapsed": true
   },
   "outputs": [],
   "source": [
    "def plot_2d_vector(vectors, origin = None, lim_margin = 1, ax = None, min_max_lim = None, color=\"red\", find_lim_only=False):\n",
    "    if origin is None:\n",
    "        origin = (0, 0)\n",
    "\n",
    "    x_origin, y_origin = origin\n",
    "    \n",
    "    all_x = [x_origin]\n",
    "    all_y = [y_origin]\n",
    "\n",
    "    if ax is None:\n",
    "        plt.figure()\n",
    "        ax = plt.gca()\n",
    "        \n",
    "    for vector in vectors:\n",
    "        x, y = vector\n",
    "        all_x.append(x)\n",
    "        all_y.append(y) \n",
    "    \n",
    "        if not find_lim_only:\n",
    "            ax.arrow(x_origin, y_origin, x, y, head_width=0.2, head_length=0.2, fc=color, edgecolor=color)\n",
    "\n",
    "    if find_lim_only:\n",
    "        plt.ylim((min(all_y)-lim_margin, max(all_y)+lim_margin))\n",
    "        plt.xlim((min(all_x)-lim_margin, max(all_x)+lim_margin))                       \n",
    "        \n",
    "    return plt, ax"
   ]
  },
  {
   "cell_type": "markdown",
   "metadata": {},
   "source": [
    "## Matrix\n",
    "\n",
    "Using uppercase to denote a matrix"
   ]
  },
  {
   "cell_type": "code",
   "execution_count": 3,
   "metadata": {
    "collapsed": false
   },
   "outputs": [
    {
     "data": {
      "text/plain": [
       "matrix([[1, 2],\n",
       "        [3, 4]])"
      ]
     },
     "execution_count": 3,
     "metadata": {},
     "output_type": "execute_result"
    }
   ],
   "source": [
    "A = np.matrix([[1,2],[3,4]])\n",
    "A"
   ]
  },
  {
   "cell_type": "code",
   "execution_count": 4,
   "metadata": {
    "collapsed": false
   },
   "outputs": [
    {
     "data": {
      "text/plain": [
       "(2, 2)"
      ]
     },
     "execution_count": 4,
     "metadata": {},
     "output_type": "execute_result"
    }
   ],
   "source": [
    "A.shape"
   ]
  },
  {
   "cell_type": "markdown",
   "metadata": {},
   "source": [
    "## Vector\n",
    "Using lowercase for a vector"
   ]
  },
  {
   "cell_type": "code",
   "execution_count": 14,
   "metadata": {
    "collapsed": false
   },
   "outputs": [
    {
     "data": {
      "text/plain": [
       "matrix([[1, 2]])"
      ]
     },
     "execution_count": 14,
     "metadata": {},
     "output_type": "execute_result"
    }
   ],
   "source": [
    "# row vector\n",
    "# a = np.matrix([[1,2]])\n",
    "a = np.matrix(np.array([1,2]).reshape(1, -1))\n",
    "a"
   ]
  },
  {
   "cell_type": "code",
   "execution_count": 13,
   "metadata": {
    "collapsed": false
   },
   "outputs": [
    {
     "data": {
      "text/plain": [
       "matrix([[3],\n",
       "        [4]])"
      ]
     },
     "execution_count": 13,
     "metadata": {},
     "output_type": "execute_result"
    }
   ],
   "source": [
    "# column vector\n",
    "b = np.matrix([[3],[4]])\n",
    "b = np.matrix(np.array([3,4]).reshape(-1, 1))\n",
    "b"
   ]
  },
  {
   "cell_type": "markdown",
   "metadata": {},
   "source": [
    "## Operations on Matrices and Vectors "
   ]
  },
  {
   "cell_type": "markdown",
   "metadata": {},
   "source": [
    "### Add Vectors"
   ]
  },
  {
   "cell_type": "code",
   "execution_count": 15,
   "metadata": {
    "collapsed": false
   },
   "outputs": [
    {
     "data": {
      "image/png": "[encoded data removed]",
      "text/plain": [
       "<matplotlib.figure.Figure at 0x108d32d10>"
      ]
     },
     "metadata": {},
     "output_type": "display_data"
    }
   ],
   "source": [
    "a = np.array([1,5])\n",
    "b = np.array([3,1])\n",
    "\n",
    "_, ax = plot_2d_vector([a], origin=None, color=\"red\")\n",
    "_, ax = plot_2d_vector([b], origin=None, color=\"blue\", ax=ax)\n",
    "plot_2d_vector([a, b], origin=None, ax=ax, find_lim_only=True)\n",
    "plt.show()"
   ]
  },
  {
   "cell_type": "code",
   "execution_count": 21,
   "metadata": {
    "collapsed": false
   },
   "outputs": [
    {
     "name": "stdout",
     "output_type": "stream",
     "text": [
      "[1 5] [3 1] [4 6]\n"
     ]
    },
    {
     "data": {
      "image/png": "[encoded data removed]",
      "text/plain": [
       "<matplotlib.figure.Figure at 0x109236090>"
      ]
     },
     "metadata": {},
     "output_type": "display_data"
    }
   ],
   "source": [
    "print a, b, a+b\n",
    "\n",
    "_, ax = plot_2d_vector([a], origin=None, color=\"red\")\n",
    "_, ax = plot_2d_vector([b], origin=a, color=\"blue\", ax=ax)\n",
    "_, ax = plot_2d_vector([b], origin=None, color=\"red\", ax=ax)\n",
    "_, ax = plot_2d_vector([a], origin=b, color=\"blue\", ax=ax)\n",
    "_, ax = plot_2d_vector([a+b], origin=None, ax=ax, min_max_lim=[a,b,a-b], color=\"green\")\n",
    "plot_2d_vector([a, b, a+b], origin=None, ax=ax, find_lim_only=True)\n",
    "plt.show()"
   ]
  },
  {
   "cell_type": "code",
   "execution_count": 23,
   "metadata": {
    "collapsed": false
   },
   "outputs": [
    {
     "name": "stdout",
     "output_type": "stream",
     "text": [
      "[1 5] [3 1] [-2  4]\n"
     ]
    },
    {
     "data": {
      "image/png": "[encoded data removed]",
      "text/plain": [
       "<matplotlib.figure.Figure at 0x108fc4a50>"
      ]
     },
     "metadata": {},
     "output_type": "display_data"
    }
   ],
   "source": [
    "print a, b, a - b\n",
    "\n",
    "_, ax = plot_2d_vector([a], origin=None, color=\"red\")\n",
    "_, ax = plot_2d_vector([-b], origin=a, color=\"blue\", ax=ax)\n",
    "_, ax = plot_2d_vector([a-b], origin=None, ax=ax, min_max_lim=[a,b,a-b], color=\"green\")\n",
    "plot_2d_vector([a, b, a-b], origin=None, ax=ax, find_lim_only=True)\n",
    "plt.show()"
   ]
  },
  {
   "cell_type": "code",
   "execution_count": 24,
   "metadata": {
    "collapsed": false
   },
   "outputs": [
    {
     "name": "stdout",
     "output_type": "stream",
     "text": [
      "[-2  4] [ 2 -4]\n"
     ]
    }
   ],
   "source": [
    "print a - b, b - a"
   ]
  },
  {
   "cell_type": "markdown",
   "metadata": {},
   "source": [
    "#### Matrices"
   ]
  },
  {
   "cell_type": "code",
   "execution_count": 25,
   "metadata": {
    "collapsed": false
   },
   "outputs": [
    {
     "name": "stdout",
     "output_type": "stream",
     "text": [
      "[[1 2]\n",
      " [3 4]]\n",
      "[[1 6]\n",
      " [9 8]]\n"
     ]
    }
   ],
   "source": [
    "A = np.matrix([[1, 2], [3, 4]])\n",
    "B = np.matrix([[1, 6], [9, 8]])\n",
    "print A\n",
    "print B"
   ]
  },
  {
   "cell_type": "code",
   "execution_count": 27,
   "metadata": {
    "collapsed": false
   },
   "outputs": [
    {
     "name": "stdout",
     "output_type": "stream",
     "text": [
      "[[ 2  8]\n",
      " [12 12]]\n",
      "[[ 2  8]\n",
      " [12 12]]\n"
     ]
    }
   ],
   "source": [
    "print A+B\n",
    "print B+A"
   ]
  },
  {
   "cell_type": "code",
   "execution_count": 28,
   "metadata": {
    "collapsed": false
   },
   "outputs": [
    {
     "name": "stdout",
     "output_type": "stream",
     "text": [
      "[[ 0 -4]\n",
      " [-6 -4]]\n",
      "[[0 4]\n",
      " [6 4]]\n"
     ]
    }
   ],
   "source": [
    "print A-B\n",
    "print B-A"
   ]
  },
  {
   "cell_type": "markdown",
   "metadata": {},
   "source": [
    "#### Multiplication"
   ]
  },
  {
   "cell_type": "code",
   "execution_count": 30,
   "metadata": {
    "collapsed": false
   },
   "outputs": [
    {
     "name": "stdout",
     "output_type": "stream",
     "text": [
      "[1 5] [3 1] [3 5]\n"
     ]
    }
   ],
   "source": [
    "print a, b, a*b"
   ]
  },
  {
   "cell_type": "code",
   "execution_count": 34,
   "metadata": {
    "collapsed": false
   },
   "outputs": [
    {
     "name": "stdout",
     "output_type": "stream",
     "text": [
      "8\n",
      "8\n",
      "8\n"
     ]
    }
   ],
   "source": [
    "print np.dot(a, b)\n",
    "print np.dot(b, a)\n",
    "# print a.dot(b)"
   ]
  },
  {
   "cell_type": "code",
   "execution_count": 38,
   "metadata": {
    "collapsed": false
   },
   "outputs": [
    {
     "name": "stdout",
     "output_type": "stream",
     "text": [
      "0\n"
     ]
    }
   ],
   "source": [
    "c = np.array([-10,10])\n",
    "d = np.array([5,5])\n",
    "\n",
    "print np.dot(c, d)"
   ]
  },
  {
   "cell_type": "code",
   "execution_count": 39,
   "metadata": {
    "collapsed": false
   },
   "outputs": [
    {
     "data": {
      "image/png": "[encoded data removed]",
      "text/plain": [
       "<matplotlib.figure.Figure at 0x109797790>"
      ]
     },
     "metadata": {},
     "output_type": "display_data"
    }
   ],
   "source": [
    "_, ax = plot_2d_vector([c], origin=None, color=\"red\")\n",
    "_, ax = plot_2d_vector([d], origin=None, color=\"blue\", ax=ax)\n",
    "plot_2d_vector([c, d], origin=None, ax=ax, find_lim_only=True)\n",
    "plt.show()"
   ]
  },
  {
   "cell_type": "code",
   "execution_count": 44,
   "metadata": {
    "collapsed": false
   },
   "outputs": [
    {
     "name": "stdout",
     "output_type": "stream",
     "text": [
      "[1 5]\n",
      "5.09901951359\n",
      "5.09901951359\n"
     ]
    }
   ],
   "source": [
    "print a\n",
    "print np.linalg.norm(a)\n",
    "print np.sqrt(np.dot(a, a))"
   ]
  },
  {
   "cell_type": "code",
   "execution_count": null,
   "metadata": {
    "collapsed": false
   },
   "outputs": [],
   "source": [
    "a_unit = a / np.linalg.norm(a)\n",
    "print a_unit"
   ]
  },
  {
   "cell_type": "code",
   "execution_count": 53,
   "metadata": {
    "collapsed": false
   },
   "outputs": [
    {
     "name": "stdout",
     "output_type": "stream",
     "text": [
      "5.09901951359\n",
      "5.09901951359\n"
     ]
    }
   ],
   "source": [
    "def norm(a, order=2):\n",
    "    return np.sum(a**order)**(1./order)\n",
    "    \n",
    "print np.linalg.norm(a, ord=2)\n",
    "print norm(a, order=2)"
   ]
  },
  {
   "cell_type": "markdown",
   "metadata": {},
   "source": [
    "#### cosine"
   ]
  },
  {
   "cell_type": "code",
   "execution_count": 60,
   "metadata": {
    "collapsed": false
   },
   "outputs": [],
   "source": [
    "def cosine(v1, v2):\n",
    "    return np.dot(v1, v2) / (np.linalg.norm(v1)*np.linalg.norm(v2))"
   ]
  },
  {
   "cell_type": "code",
   "execution_count": 87,
   "metadata": {
    "collapsed": false
   },
   "outputs": [
    {
     "name": "stdout",
     "output_type": "stream",
     "text": [
      "[1 5] [ 3 15]\n",
      "260\n",
      "1.0\n",
      "0.0\n",
      "0.0\n",
      "0.496138938357\n",
      "0.496138938357\n",
      "1.05165021255\n"
     ]
    }
   ],
   "source": [
    "print a, 3*a\n",
    "print np.dot(a, 10*a)\n",
    "print cosine(a, 10*a)\n",
    "print cosine(c, d)\n",
    "print cosine(-2*c, 10*d)\n",
    "print cosine(a, b)\n",
    "print 1.0 - scipy.spatial.distance.cosine(a, b)\n",
    "print math.acos(cosine(a, b))\n"
   ]
  },
  {
   "cell_type": "markdown",
   "metadata": {},
   "source": [
    "#### Matrices multiplication"
   ]
  },
  {
   "cell_type": "code",
   "execution_count": 88,
   "metadata": {
    "collapsed": false
   },
   "outputs": [
    {
     "name": "stdout",
     "output_type": "stream",
     "text": [
      "[[1 2]\n",
      " [3 4]]\n",
      "[[1 6]\n",
      " [9 8]]\n"
     ]
    }
   ],
   "source": [
    "print A\n",
    "print B"
   ]
  },
  {
   "cell_type": "code",
   "execution_count": 89,
   "metadata": {
    "collapsed": false
   },
   "outputs": [
    {
     "data": {
      "text/plain": [
       "matrix([[19, 22],\n",
       "        [39, 50]])"
      ]
     },
     "execution_count": 89,
     "metadata": {},
     "output_type": "execute_result"
    }
   ],
   "source": [
    "A*B"
   ]
  },
  {
   "cell_type": "code",
   "execution_count": 90,
   "metadata": {
    "collapsed": false
   },
   "outputs": [
    {
     "data": {
      "text/plain": [
       "matrix([[19, 26],\n",
       "        [33, 50]])"
      ]
     },
     "execution_count": 90,
     "metadata": {},
     "output_type": "execute_result"
    }
   ],
   "source": [
    "B*A"
   ]
  },
  {
   "cell_type": "code",
   "execution_count": 91,
   "metadata": {
    "collapsed": false
   },
   "outputs": [
    {
     "name": "stdout",
     "output_type": "stream",
     "text": [
      "[[1 2]]\n",
      "[[1]\n",
      " [9]]\n",
      "[1 2] [1 9]\n",
      "19\n"
     ]
    }
   ],
   "source": [
    "r1A = np.array(A[0,:])[0]\n",
    "print A[0,:]\n",
    "\n",
    "c1B = np.array(B[:,0].T)[0]\n",
    "print B[:,0]\n",
    "\n",
    "print r1A, c1B\n",
    "print np.dot(r1A, c1B)"
   ]
  },
  {
   "cell_type": "code",
   "execution_count": 95,
   "metadata": {
    "collapsed": false
   },
   "outputs": [
    {
     "name": "stdout",
     "output_type": "stream",
     "text": [
      "[[1 2 3]\n",
      " [3 4 5]]\n",
      "(2, 3)\n",
      "[[1 2]\n",
      " [9 8]\n",
      " [5 7]]\n",
      "(3, 2)\n"
     ]
    }
   ],
   "source": [
    "C = np.matrix([[1, 2, 3], [3, 4, 5]])\n",
    "D = np.matrix([[1, 2], [9, 8], [5, 7]])\n",
    "print C\n",
    "print C.shape\n",
    "print D\n",
    "print D.shape"
   ]
  },
  {
   "cell_type": "code",
   "execution_count": 96,
   "metadata": {
    "collapsed": false
   },
   "outputs": [
    {
     "name": "stdout",
     "output_type": "stream",
     "text": [
      "[[34 39]\n",
      " [64 73]]\n",
      "(2, 3) * (3, 2) = (2, 2)\n"
     ]
    }
   ],
   "source": [
    "print C*D\n",
    "print C.shape, \"*\", D.shape, \"=\", (C*D).shape"
   ]
  },
  {
   "cell_type": "code",
   "execution_count": 97,
   "metadata": {
    "collapsed": false
   },
   "outputs": [
    {
     "name": "stdout",
     "output_type": "stream",
     "text": [
      "[[ 7 10 13]\n",
      " [33 50 67]\n",
      " [26 38 50]]\n",
      "(3, 2) * (2, 3) = (3, 3)\n"
     ]
    }
   ],
   "source": [
    "print D*C\n",
    "print D.shape, \"*\", C.shape, \"=\", (D*C).shape"
   ]
  },
  {
   "cell_type": "code",
   "execution_count": 98,
   "metadata": {
    "collapsed": false
   },
   "outputs": [
    {
     "name": "stdout",
     "output_type": "stream",
     "text": [
      "[[ 85 126 167]\n",
      " [189 278 367]]\n",
      "[[ 85 126 167]\n",
      " [189 278 367]]\n"
     ]
    }
   ],
   "source": [
    "# Associative\n",
    "print (A*B)*C\n",
    "print A*(B*C)"
   ]
  },
  {
   "cell_type": "code",
   "execution_count": 99,
   "metadata": {
    "collapsed": false
   },
   "outputs": [
    {
     "name": "stdout",
     "output_type": "stream",
     "text": [
      "[[ 26  32]\n",
      " [114 168]\n",
      " [ 94 124]]\n",
      "[[ 26  32]\n",
      " [114 168]\n",
      " [ 94 124]]\n"
     ]
    }
   ],
   "source": [
    "# Distributive\n",
    "print D*(A + B)\n",
    "print D*A + D*B"
   ]
  },
  {
   "cell_type": "code",
   "execution_count": null,
   "metadata": {
    "collapsed": true
   },
   "outputs": [],
   "source": []
  },
  {
   "cell_type": "markdown",
   "metadata": {},
   "source": [
    "#### Special Matrices"
   ]
  },
  {
   "cell_type": "code",
   "execution_count": 100,
   "metadata": {
    "collapsed": false
   },
   "outputs": [
    {
     "data": {
      "text/plain": [
       "matrix([[1]])"
      ]
     },
     "execution_count": 100,
     "metadata": {},
     "output_type": "execute_result"
    }
   ],
   "source": [
    "np.matrix([1])"
   ]
  },
  {
   "cell_type": "code",
   "execution_count": 102,
   "metadata": {
    "collapsed": false
   },
   "outputs": [
    {
     "data": {
      "text/plain": [
       "array([[ 1.,  1.,  1.],\n",
       "       [ 1.,  1.,  1.]])"
      ]
     },
     "execution_count": 102,
     "metadata": {},
     "output_type": "execute_result"
    }
   ],
   "source": [
    "np.ones((2,3))"
   ]
  },
  {
   "cell_type": "code",
   "execution_count": 103,
   "metadata": {
    "collapsed": false
   },
   "outputs": [
    {
     "data": {
      "text/plain": [
       "array([[ 0.,  0.],\n",
       "       [ 0.,  0.],\n",
       "       [ 0.,  0.]])"
      ]
     },
     "execution_count": 103,
     "metadata": {},
     "output_type": "execute_result"
    }
   ],
   "source": [
    "np.zeros((3,2))"
   ]
  },
  {
   "cell_type": "code",
   "execution_count": 104,
   "metadata": {
    "collapsed": false
   },
   "outputs": [
    {
     "data": {
      "text/plain": [
       "array([[ 1.,  0.,  0.],\n",
       "       [ 0.,  1.,  0.],\n",
       "       [ 0.,  0.,  1.]])"
      ]
     },
     "execution_count": 104,
     "metadata": {},
     "output_type": "execute_result"
    }
   ],
   "source": [
    "np.identity(3)"
   ]
  },
  {
   "cell_type": "code",
   "execution_count": 110,
   "metadata": {
    "collapsed": false
   },
   "outputs": [
    {
     "name": "stdout",
     "output_type": "stream",
     "text": [
      "[[1 2]\n",
      " [3 4]]\n",
      "[[ 1.  2.]\n",
      " [ 3.  4.]]\n",
      "[[ 1.  2.]\n",
      " [ 3.  4.]]\n"
     ]
    }
   ],
   "source": [
    "print A\n",
    "print A*np.identity(2)\n",
    "print np.identity(2)*A"
   ]
  },
  {
   "cell_type": "markdown",
   "metadata": {},
   "source": [
    "#### Scaling"
   ]
  },
  {
   "cell_type": "code",
   "execution_count": 113,
   "metadata": {
    "collapsed": false
   },
   "outputs": [
    {
     "name": "stdout",
     "output_type": "stream",
     "text": [
      "[1 5] [ 3 15]\n"
     ]
    }
   ],
   "source": [
    "print a, 3*a"
   ]
  },
  {
   "cell_type": "code",
   "execution_count": 116,
   "metadata": {
    "collapsed": false
   },
   "outputs": [
    {
     "data": {
      "image/png": "[encoded data removed]",
      "text/plain": [
       "<matplotlib.figure.Figure at 0x1094de650>"
      ]
     },
     "metadata": {},
     "output_type": "display_data"
    }
   ],
   "source": [
    "_, ax = plot_2d_vector([3*a], origin=None, color=\"red\")\n",
    "_, ax = plot_2d_vector([a], origin=None, color=\"blue\", ax=ax)\n",
    "plot_2d_vector([a, 3*a], origin=None, ax=ax, find_lim_only=True)\n",
    "plt.show()"
   ]
  },
  {
   "cell_type": "code",
   "execution_count": 117,
   "metadata": {
    "collapsed": false
   },
   "outputs": [
    {
     "name": "stdout",
     "output_type": "stream",
     "text": [
      "[[1 2]\n",
      " [3 4]]\n",
      "[[ 3  6]\n",
      " [ 9 12]]\n"
     ]
    }
   ],
   "source": [
    "print A\n",
    "print 3*A"
   ]
  },
  {
   "cell_type": "markdown",
   "metadata": {},
   "source": [
    "#### Transpose"
   ]
  },
  {
   "cell_type": "code",
   "execution_count": 118,
   "metadata": {
    "collapsed": false
   },
   "outputs": [
    {
     "data": {
      "text/plain": [
       "matrix([[1, 2, 3],\n",
       "        [3, 4, 5]])"
      ]
     },
     "execution_count": 118,
     "metadata": {},
     "output_type": "execute_result"
    }
   ],
   "source": [
    "C"
   ]
  },
  {
   "cell_type": "code",
   "execution_count": 121,
   "metadata": {
    "collapsed": false
   },
   "outputs": [
    {
     "data": {
      "text/plain": [
       "matrix([[1, 3],\n",
       "        [2, 4],\n",
       "        [3, 5]])"
      ]
     },
     "execution_count": 121,
     "metadata": {},
     "output_type": "execute_result"
    }
   ],
   "source": [
    "# C.transpose()\n",
    "C.T"
   ]
  },
  {
   "cell_type": "code",
   "execution_count": 125,
   "metadata": {
    "collapsed": false
   },
   "outputs": [
    {
     "name": "stdout",
     "output_type": "stream",
     "text": [
      "[-10  10]\n",
      "[-10  10]\n",
      "(2,)\n"
     ]
    }
   ],
   "source": [
    "print c\n",
    "print c.T\n",
    "print c.shape"
   ]
  },
  {
   "cell_type": "code",
   "execution_count": 129,
   "metadata": {
    "collapsed": false
   },
   "outputs": [
    {
     "name": "stdout",
     "output_type": "stream",
     "text": [
      "[[-10]\n",
      " [ 10]]\n",
      "[[-10  10]]\n"
     ]
    }
   ],
   "source": [
    "c2 = c.reshape(-1,1)\n",
    "print c2\n",
    "print c2.T"
   ]
  },
  {
   "cell_type": "code",
   "execution_count": 131,
   "metadata": {
    "collapsed": false
   },
   "outputs": [
    {
     "name": "stdout",
     "output_type": "stream",
     "text": [
      "[[1 2]\n",
      " [3 4]]\n",
      "[[1 2]\n",
      " [3 4]]\n"
     ]
    }
   ],
   "source": [
    "print A\n",
    "print A.T.T"
   ]
  },
  {
   "cell_type": "code",
   "execution_count": 132,
   "metadata": {
    "collapsed": false
   },
   "outputs": [
    {
     "name": "stdout",
     "output_type": "stream",
     "text": [
      "[[19 39]\n",
      " [22 50]]\n",
      "[[19 39]\n",
      " [22 50]]\n"
     ]
    }
   ],
   "source": [
    "print (A*B).T\n",
    "print B.T * A.T"
   ]
  },
  {
   "cell_type": "code",
   "execution_count": 133,
   "metadata": {
    "collapsed": false
   },
   "outputs": [
    {
     "name": "stdout",
     "output_type": "stream",
     "text": [
      "[[ 2 12]\n",
      " [ 8 12]]\n",
      "[[ 2 12]\n",
      " [ 8 12]]\n"
     ]
    }
   ],
   "source": [
    "print (A+B).T\n",
    "print A.T + B.T"
   ]
  },
  {
   "cell_type": "markdown",
   "metadata": {
    "collapsed": true
   },
   "source": [
    "#### Symetric matrix"
   ]
  },
  {
   "cell_type": "code",
   "execution_count": 134,
   "metadata": {
    "collapsed": false
   },
   "outputs": [
    {
     "name": "stdout",
     "output_type": "stream",
     "text": [
      "[[5 8]\n",
      " [8 5]]\n",
      "[[5 8]\n",
      " [8 5]]\n"
     ]
    }
   ],
   "source": [
    "S = np.matrix([[5, 8], [8, 5]])\n",
    "print S\n",
    "print S.T"
   ]
  },
  {
   "cell_type": "markdown",
   "metadata": {},
   "source": [
    "#### Matrix * Vector multiplications"
   ]
  },
  {
   "cell_type": "code",
   "execution_count": 137,
   "metadata": {
    "collapsed": false
   },
   "outputs": [
    {
     "name": "stdout",
     "output_type": "stream",
     "text": [
      "[1 5]\n",
      "[[1 2 3]\n",
      " [3 4 5]]\n",
      "(2,)\n",
      "(2, 3)\n"
     ]
    }
   ],
   "source": [
    "print a\n",
    "print C\n",
    "print a.shape\n",
    "print C.shape"
   ]
  },
  {
   "cell_type": "code",
   "execution_count": 139,
   "metadata": {
    "collapsed": false
   },
   "outputs": [
    {
     "name": "stdout",
     "output_type": "stream",
     "text": [
      "[[16 22 28]] (1, 3)\n"
     ]
    }
   ],
   "source": [
    "print a*C, (a*C).shape"
   ]
  },
  {
   "cell_type": "code",
   "execution_count": 145,
   "metadata": {
    "collapsed": false
   },
   "outputs": [
    {
     "name": "stdout",
     "output_type": "stream",
     "text": [
      "[-10  10]\n",
      "[[1 2 3]\n",
      " [3 4 5]]\n",
      "[[20 20 20]]\n"
     ]
    }
   ],
   "source": [
    "print c\n",
    "print C\n",
    "print c*C"
   ]
  },
  {
   "cell_type": "code",
   "execution_count": 148,
   "metadata": {
    "collapsed": false
   },
   "outputs": [
    {
     "name": "stdout",
     "output_type": "stream",
     "text": [
      "[[-10]\n",
      " [ 10]]\n",
      "[[20 20 20]]\n"
     ]
    }
   ],
   "source": [
    "print c2\n",
    "print c2.T*C"
   ]
  },
  {
   "cell_type": "markdown",
   "metadata": {},
   "source": [
    "#### Inverse"
   ]
  },
  {
   "cell_type": "code",
   "execution_count": 149,
   "metadata": {
    "collapsed": false
   },
   "outputs": [
    {
     "data": {
      "text/plain": [
       "matrix([[1, 2],\n",
       "        [3, 4]])"
      ]
     },
     "execution_count": 149,
     "metadata": {},
     "output_type": "execute_result"
    }
   ],
   "source": [
    "A"
   ]
  },
  {
   "cell_type": "code",
   "execution_count": 152,
   "metadata": {
    "collapsed": false
   },
   "outputs": [
    {
     "name": "stdout",
     "output_type": "stream",
     "text": [
      "[[-2.   1. ]\n",
      " [ 1.5 -0.5]]\n",
      "[[-2.   1. ]\n",
      " [ 1.5 -0.5]]\n"
     ]
    }
   ],
   "source": [
    "print np.linalg.inv(A)\n",
    "# print A**-1"
   ]
  },
  {
   "cell_type": "code",
   "execution_count": 156,
   "metadata": {
    "collapsed": false
   },
   "outputs": [
    {
     "data": {
      "text/plain": [
       "array([[ 1.,  0.],\n",
       "       [ 0.,  1.]])"
      ]
     },
     "execution_count": 156,
     "metadata": {},
     "output_type": "execute_result"
    }
   ],
   "source": [
    "np.round(A * np.linalg.inv(A), 10)"
   ]
  },
  {
   "cell_type": "code",
   "execution_count": 157,
   "metadata": {
    "collapsed": false
   },
   "outputs": [
    {
     "data": {
      "text/plain": [
       "matrix([[ 1.,  2.],\n",
       "        [ 3.,  4.]])"
      ]
     },
     "execution_count": 157,
     "metadata": {},
     "output_type": "execute_result"
    }
   ],
   "source": [
    "(A**-1)**-1"
   ]
  },
  {
   "cell_type": "code",
   "execution_count": 158,
   "metadata": {
    "collapsed": false
   },
   "outputs": [
    {
     "name": "stdout",
     "output_type": "stream",
     "text": [
      "[[ 0.54347826 -0.23913043]\n",
      " [-0.42391304  0.20652174]]\n",
      "[[ 0.54347826 -0.2826087 ]\n",
      " [-0.35869565  0.20652174]]\n"
     ]
    }
   ],
   "source": [
    "print (A*B)**-1\n",
    "print A**-1 * B**-1"
   ]
  },
  {
   "cell_type": "markdown",
   "metadata": {},
   "source": [
    "#### Singular"
   ]
  },
  {
   "cell_type": "code",
   "execution_count": 159,
   "metadata": {
    "collapsed": false
   },
   "outputs": [
    {
     "data": {
      "text/plain": [
       "matrix([[-2. ,  1. ],\n",
       "        [ 1.5, -0.5]])"
      ]
     },
     "execution_count": 159,
     "metadata": {},
     "output_type": "execute_result"
    }
   ],
   "source": [
    "A**-1"
   ]
  },
  {
   "cell_type": "code",
   "execution_count": 160,
   "metadata": {
    "collapsed": true
   },
   "outputs": [],
   "source": [
    "S = np.matrix([[3, 2],[12, 8]])"
   ]
  },
  {
   "cell_type": "code",
   "execution_count": 161,
   "metadata": {
    "collapsed": false
   },
   "outputs": [
    {
     "data": {
      "text/plain": [
       "0.0"
      ]
     },
     "execution_count": 161,
     "metadata": {},
     "output_type": "execute_result"
    }
   ],
   "source": [
    "np.linalg.det(S)"
   ]
  },
  {
   "cell_type": "code",
   "execution_count": 164,
   "metadata": {
    "collapsed": false
   },
   "outputs": [],
   "source": [
    "# Cannot invert, next line is an error\n",
    "# S**-1"
   ]
  },
  {
   "cell_type": "markdown",
   "metadata": {},
   "source": [
    "#### Determinant"
   ]
  },
  {
   "cell_type": "code",
   "execution_count": 165,
   "metadata": {
    "collapsed": false
   },
   "outputs": [
    {
     "name": "stdout",
     "output_type": "stream",
     "text": [
      "[1 5] [3 1] [4 6] [4 6]\n"
     ]
    },
    {
     "data": {
      "image/png": "[encoded data removed]",
      "text/plain": [
       "<matplotlib.figure.Figure at 0x109233950>"
      ]
     },
     "metadata": {},
     "output_type": "display_data"
    }
   ],
   "source": [
    "print a, b, a+b, b+a\n",
    "\n",
    "_, ax = plot_2d_vector([a], origin=None, color=\"red\")\n",
    "_, ax = plot_2d_vector([b], origin=None, color=\"blue\", ax=ax)\n",
    "_, ax = plot_2d_vector([b], origin=a, color=\"blue\", ax=ax)\n",
    "_, ax = plot_2d_vector([a], origin=b, color=\"red\", ax=ax)\n",
    "plot_2d_vector([a, b, a+b], origin=None, ax=ax, find_lim_only=True)\n",
    "plt.show()"
   ]
  },
  {
   "cell_type": "code",
   "execution_count": 166,
   "metadata": {
    "collapsed": false
   },
   "outputs": [
    {
     "data": {
      "text/plain": [
       "matrix([[1, 5],\n",
       "        [3, 1]])"
      ]
     },
     "execution_count": 166,
     "metadata": {},
     "output_type": "execute_result"
    }
   ],
   "source": [
    "E = np.matrix([a, b])\n",
    "E"
   ]
  },
  {
   "cell_type": "code",
   "execution_count": 169,
   "metadata": {
    "collapsed": false
   },
   "outputs": [
    {
     "name": "stdout",
     "output_type": "stream",
     "text": [
      "-14.0\n",
      "-14.0\n"
     ]
    }
   ],
   "source": [
    "def det_2by2(M):\n",
    "    return 1.0*M[0,0]*M[1,1] - M[0,1]*M[1,0] \n",
    "\n",
    "print det_2by2(E)\n",
    "print np.linalg.det(E)"
   ]
  },
  {
   "cell_type": "code",
   "execution_count": 170,
   "metadata": {
    "collapsed": false
   },
   "outputs": [
    {
     "data": {
      "text/plain": [
       "matrix([[1, 2, 3],\n",
       "        [5, 7, 2],\n",
       "        [3, 2, 1]])"
      ]
     },
     "execution_count": 170,
     "metadata": {},
     "output_type": "execute_result"
    }
   ],
   "source": [
    "F = np.matrix([[1, 2, 3], [5, 7, 2], [3, 2, 1]])\n",
    "F"
   ]
  },
  {
   "cell_type": "code",
   "execution_count": 171,
   "metadata": {
    "collapsed": false
   },
   "outputs": [
    {
     "name": "stdout",
     "output_type": "stream",
     "text": [
      "-28.0\n"
     ]
    }
   ],
   "source": [
    "print np.linalg.det(F)"
   ]
  },
  {
   "cell_type": "markdown",
   "metadata": {},
   "source": [
    "####  Eigenvalues and Eigenvectors\n",
    "$$ |M-\\lambda I|={\\begin{vmatrix}2-\\lambda &1\\\\1&2-\\lambda \\end{vmatrix}}=3-4\\lambda +\\lambda ^{2}. $$\n",
    "\n",
    "$$A\\vec{e_\\lambda} = \\lambda\\vec{e_\\lambda}$$"
   ]
  },
  {
   "cell_type": "code",
   "execution_count": 172,
   "metadata": {
    "collapsed": false
   },
   "outputs": [
    {
     "data": {
      "text/plain": [
       "(array([ 9.53112887, -2.        ,  1.46887113]),\n",
       " matrix([[-0.32193897, -0.76709295,  0.52692529],\n",
       "         [-0.89034297,  0.30016681, -0.66685791],\n",
       "         [-0.32193897,  0.56698174,  0.52692529]]))"
      ]
     },
     "execution_count": 172,
     "metadata": {},
     "output_type": "execute_result"
    }
   ],
   "source": [
    "e_values, e_vectors = np.linalg.eig(F)\n",
    "e_values, e_vectors"
   ]
  },
  {
   "cell_type": "code",
   "execution_count": 178,
   "metadata": {
    "collapsed": false
   },
   "outputs": [
    {
     "data": {
      "text/plain": [
       "matrix([[-3.06844181],\n",
       "        [-8.48597356],\n",
       "        [-3.06844181]])"
      ]
     },
     "execution_count": 178,
     "metadata": {},
     "output_type": "execute_result"
    }
   ],
   "source": [
    "e_values[0]*e_vectors[:,0]"
   ]
  },
  {
   "cell_type": "code",
   "execution_count": 179,
   "metadata": {
    "collapsed": false
   },
   "outputs": [
    {
     "data": {
      "text/plain": [
       "matrix([[-3.06844181],\n",
       "        [-8.48597356],\n",
       "        [-3.06844181]])"
      ]
     },
     "execution_count": 179,
     "metadata": {},
     "output_type": "execute_result"
    }
   ],
   "source": [
    "F*e_vectors[:,0]"
   ]
  },
  {
   "cell_type": "code",
   "execution_count": 180,
   "metadata": {
    "collapsed": false
   },
   "outputs": [
    {
     "name": "stdout",
     "output_type": "stream",
     "text": [
      "EV 0\n",
      "[[-3.06844181]\n",
      " [-8.48597356]\n",
      " [-3.06844181]]\n",
      "[[-3.06844181]\n",
      " [-8.48597356]\n",
      " [-3.06844181]]\n",
      "EV 1\n",
      "[[ 1.5341859 ]\n",
      " [-0.60033361]\n",
      " [-1.13396349]]\n",
      "[[ 1.5341859 ]\n",
      " [-0.60033361]\n",
      " [-1.13396349]]\n",
      "EV 2\n",
      "[[ 0.77398535]\n",
      " [-0.97952833]\n",
      " [ 0.77398535]]\n",
      "[[ 0.77398535]\n",
      " [-0.97952833]\n",
      " [ 0.77398535]]\n"
     ]
    }
   ],
   "source": [
    "for i in range(len(e_values)):\n",
    "    print \"EV\",i\n",
    "    print e_values[i]*e_vectors[:,i]\n",
    "    print F*e_vectors[:,i]"
   ]
  },
  {
   "cell_type": "code",
   "execution_count": 184,
   "metadata": {
    "collapsed": false
   },
   "outputs": [
    {
     "data": {
      "text/plain": [
       "matrix([[ 8.53112887, -2.        , -3.        ],\n",
       "        [-5.        ,  2.53112887, -2.        ],\n",
       "        [-3.        , -2.        ,  8.53112887]])"
      ]
     },
     "execution_count": 184,
     "metadata": {},
     "output_type": "execute_result"
    }
   ],
   "source": [
    "e_values[0]*np.identity(3) - F"
   ]
  },
  {
   "cell_type": "code",
   "execution_count": 182,
   "metadata": {
    "collapsed": false
   },
   "outputs": [
    {
     "data": {
      "text/plain": [
       "0.0"
      ]
     },
     "execution_count": 182,
     "metadata": {},
     "output_type": "execute_result"
    }
   ],
   "source": [
    "np.round(np.linalg.det(e_values[0]*np.identity(3) - F), 10)"
   ]
  },
  {
   "cell_type": "markdown",
   "metadata": {},
   "source": [
    "### Solving linear equations\n",
    "\n",
    "$$ 4x_1 - 5x_2 = -13 $$\n",
    "\n",
    "$$ -2x_1 + 3x_2 = 9 $$"
   ]
  },
  {
   "cell_type": "code",
   "execution_count": 200,
   "metadata": {
    "collapsed": true
   },
   "outputs": [],
   "source": [
    "M = np.matrix([[4, -5],[-2, 3]])\n",
    "Y = np.matrix([[-13],[9]])"
   ]
  },
  {
   "cell_type": "code",
   "execution_count": 201,
   "metadata": {
    "collapsed": false
   },
   "outputs": [
    {
     "data": {
      "text/plain": [
       "matrix([[ 1.5,  2.5],\n",
       "        [ 1. ,  2. ]])"
      ]
     },
     "execution_count": 201,
     "metadata": {},
     "output_type": "execute_result"
    }
   ],
   "source": [
    "M_inv = M**-1\n",
    "M_inv"
   ]
  },
  {
   "cell_type": "code",
   "execution_count": 203,
   "metadata": {
    "collapsed": false
   },
   "outputs": [
    {
     "data": {
      "text/plain": [
       "matrix([[ 3.],\n",
       "        [ 5.]])"
      ]
     },
     "execution_count": 203,
     "metadata": {},
     "output_type": "execute_result"
    }
   ],
   "source": [
    "X = M_inv * Y\n",
    "X"
   ]
  },
  {
   "cell_type": "code",
   "execution_count": 206,
   "metadata": {
    "collapsed": false
   },
   "outputs": [
    {
     "name": "stdout",
     "output_type": "stream",
     "text": [
      "[[-13.]]\n",
      "[[ 9.]]\n"
     ]
    }
   ],
   "source": [
    "print 4*X[0]-5*X[1]\n",
    "print -2*X[0]+3*X[1]"
   ]
  }
 ],
 "metadata": {
  "kernelspec": {
   "display_name": "Python 2",
   "language": "python",
   "name": "python2"
  },
  "language_info": {
   "codemirror_mode": {
    "name": "ipython",
    "version": 2
   },
   "file_extension": ".py",
   "mimetype": "text/x-python",
   "name": "python",
   "nbconvert_exporter": "python",
   "pygments_lexer": "ipython2",
   "version": "2.7.12"
  }
 },
 "nbformat": 4,
 "nbformat_minor": 0
}
