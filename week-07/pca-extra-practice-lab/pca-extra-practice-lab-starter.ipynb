{
 "cells": [
  {
   "cell_type": "markdown",
   "metadata": {
    "deletable": true,
    "editable": true
   },
   "source": [
    "<img src=\"http://imgur.com/1ZcRyrc.png\" style=\"float: left; margin: 20px; height: 55px\">\n",
    "\n",
    "# PCA: Extra Practice\n",
    "\n",
    "_Author: Joseph Nelson (DC), Matt Brems (DC) _\n",
    "\n",
    "---"
   ]
  },
  {
   "cell_type": "markdown",
   "metadata": {
    "collapsed": false,
    "deletable": true,
    "editable": true
   },
   "source": [
    "In this lab, we will practice the PCA Process:\n",
    "\n",
    "- Load data.\n",
    "- Center it (Standardize, center at 0).\n",
    "- Compute covariance matrix of the standardized original data.\n",
    "- Compute eigenvalues/eigenvectors.\n",
    "- Decide how much explained variance you want in your final model. Select the number of principal components that are needed to explain said amount of variance.  \n",
    "- Keep the needed eigenvalues to explain said variance.\n",
    "- Go back and multiply original data by the eigenvalues of the selected principal components.\n",
    "\n",
    "PCA works best to find the importance of relationship between various features.  \n",
    "Having a dataset of entirely uncorrelated features will not show much benefit from a PCA."
   ]
  },
  {
   "cell_type": "markdown",
   "metadata": {
    "deletable": true,
    "editable": true
   },
   "source": [
    "# Congressional Voting Data"
   ]
  },
  {
   "cell_type": "markdown",
   "metadata": {
    "deletable": true,
    "editable": true
   },
   "source": [
    "You're working for a political watchdog that wants to track and analyze the voting behavior of various politicians. Specifically, we want to understand how the political affiliation of a member of the House of Representatives affects their voting record. You're given a dataset with a affiliations as well as voting records for a variety of key bills.\n",
    "\n",
    "Your task is to perform PCA to determine the principal components of this dataset so that your data science team can perform a clustering analysis to learn how political affiliation is related to voting.\n",
    "\n",
    "[Congressional Voting Dataset](./datasets/votes.csv)\n",
    "\n",
    "Bill Index|Bill (vote options)\n",
    "----------|----\n",
    "V1.  |handicapped-infants: 2 (y,n)\n",
    "V2.  |water-project-cost-sharing: 2 (y,n)\n",
    "V3.  |adoption-of-the-budget-resolution: 2 (y,n)\n",
    "V4.  |physician-fee-freeze: 2 (y,n)\n",
    "V5.  |el-salvador-aid: 2 (y,n)\n",
    "V6.  |religious-groups-in-schools: 2 (y,n)\n",
    "V7.  |anti-satellite-test-ban: 2 (y,n)\n",
    "V8.  |aid-to-nicaraguan-contras: 2 (y,n)\n",
    "V9.  |mx-missile: 2 (y,n)\n",
    "V10. |immigration: 2 (y,n)\n",
    "V11. |synfuels-corporation-cutback: 2 (y,n)\n",
    "V12. |education-spending: 2 (y,n)\n",
    "V13. |superfund-right-to-sue: 2 (y,n)\n",
    "V14. |crime: 2 (y,n)\n",
    "V15. |duty-free-exports: 2 (y,n)\n",
    "V16. |export-administration-act-south-africa: 2 (y,n)"
   ]
  },
  {
   "cell_type": "markdown",
   "metadata": {
    "deletable": true,
    "editable": true
   },
   "source": [
    "### 1. Load Packages"
   ]
  },
  {
   "cell_type": "code",
   "execution_count": 1,
   "metadata": {
    "collapsed": true,
    "deletable": true,
    "editable": true
   },
   "outputs": [],
   "source": [
    "import pandas as pd\n",
    "import numpy as np\n",
    "import os\n",
    "from matplotlib import pyplot as plt\n",
    "import numpy as np\n",
    "import math\n",
    "from sklearn.preprocessing import StandardScaler\n",
    "from sklearn.decomposition import PCA \n",
    "\n",
    "votes_file = './datasets/votes.csv'"
   ]
  },
  {
   "cell_type": "markdown",
   "metadata": {
    "deletable": true,
    "editable": true
   },
   "source": [
    "### 2. Preprocess Data\n",
    "\n",
    "After you've downloaded the data from the repository, go ahead and load it with Pandas and handle any preprocessing that is may need.\n",
    "\n",
    "- Convert all columns to numeric values\n",
    "- Decide what to do with NaN values\n",
    "- Standardize numeric values"
   ]
  },
  {
   "cell_type": "code",
   "execution_count": null,
   "metadata": {
    "collapsed": true,
    "deletable": true,
    "editable": true
   },
   "outputs": [],
   "source": []
  },
  {
   "cell_type": "code",
   "execution_count": null,
   "metadata": {
    "collapsed": false,
    "deletable": true,
    "editable": true
   },
   "outputs": [],
   "source": []
  },
  {
   "cell_type": "code",
   "execution_count": null,
   "metadata": {
    "collapsed": false,
    "deletable": true,
    "editable": true
   },
   "outputs": [],
   "source": []
  },
  {
   "cell_type": "code",
   "execution_count": null,
   "metadata": {
    "collapsed": true,
    "deletable": true,
    "editable": true
   },
   "outputs": [],
   "source": []
  },
  {
   "cell_type": "code",
   "execution_count": null,
   "metadata": {
    "collapsed": true,
    "deletable": true,
    "editable": true
   },
   "outputs": [],
   "source": []
  },
  {
   "cell_type": "markdown",
   "metadata": {
    "deletable": true,
    "editable": true
   },
   "source": [
    "### 3. Compute eigenpairs\n",
    "\n",
    "- Compute the covariance matrix\n",
    "- Compute the eigenvectors and eigenvalues using `np.linalg`\n",
    "- Sort by descending eigenvalue to find the principal components"
   ]
  },
  {
   "cell_type": "code",
   "execution_count": null,
   "metadata": {
    "collapsed": true,
    "deletable": true,
    "editable": true
   },
   "outputs": [],
   "source": []
  },
  {
   "cell_type": "code",
   "execution_count": null,
   "metadata": {
    "collapsed": true,
    "deletable": true,
    "editable": true
   },
   "outputs": [],
   "source": []
  },
  {
   "cell_type": "code",
   "execution_count": null,
   "metadata": {
    "collapsed": true,
    "deletable": true,
    "editable": true
   },
   "outputs": [],
   "source": []
  },
  {
   "cell_type": "code",
   "execution_count": null,
   "metadata": {
    "collapsed": true,
    "deletable": true,
    "editable": true
   },
   "outputs": [],
   "source": []
  },
  {
   "cell_type": "markdown",
   "metadata": {
    "deletable": true,
    "editable": true
   },
   "source": [
    "### 4. Understand the principal components"
   ]
  },
  {
   "cell_type": "markdown",
   "metadata": {
    "collapsed": true,
    "deletable": true,
    "editable": true
   },
   "source": [
    "#### 4.A. Calculate the explained variance. \n",
    "\n",
    "> Explained variance is the eigenvalue divided by the sum of all eigenvalues.\n",
    "  **These should sum to 1!**"
   ]
  },
  {
   "cell_type": "code",
   "execution_count": null,
   "metadata": {
    "collapsed": true,
    "deletable": true,
    "editable": true
   },
   "outputs": [],
   "source": []
  },
  {
   "cell_type": "markdown",
   "metadata": {
    "deletable": true,
    "editable": true
   },
   "source": [
    "#### 4.B. Calculate the explained variance and the cumulative explained variance (see `np.cumsum`)"
   ]
  },
  {
   "cell_type": "code",
   "execution_count": 43,
   "metadata": {
    "collapsed": true,
    "deletable": true,
    "editable": true
   },
   "outputs": [],
   "source": []
  },
  {
   "cell_type": "markdown",
   "metadata": {
    "deletable": true,
    "editable": true
   },
   "source": [
    "#### 4.C. Suppose we require 90% explained variance. How many eigenvectors should we keep? \n",
    "\n",
    "- Hint: Use the cumulative sum"
   ]
  },
  {
   "cell_type": "code",
   "execution_count": null,
   "metadata": {
    "collapsed": true,
    "deletable": true,
    "editable": true
   },
   "outputs": [],
   "source": []
  },
  {
   "cell_type": "markdown",
   "metadata": {
    "deletable": true,
    "editable": true
   },
   "source": [
    "### 5. Now, repeat the process with sklearn.\n",
    "http://scikit-learn.org/stable/modules/generated/sklearn.decomposition.PCA.html"
   ]
  },
  {
   "cell_type": "code",
   "execution_count": null,
   "metadata": {
    "collapsed": true,
    "deletable": true,
    "editable": true
   },
   "outputs": [],
   "source": []
  }
 ],
 "metadata": {
  "anaconda-cloud": {},
  "kernelspec": {
   "display_name": "Python 2",
   "language": "python",
   "name": "python2"
  },
  "language_info": {
   "codemirror_mode": {
    "name": "ipython",
    "version": 2
   },
   "file_extension": ".py",
   "mimetype": "text/x-python",
   "name": "python",
   "nbconvert_exporter": "python",
   "pygments_lexer": "ipython2",
   "version": "2.7.12"
  }
 },
 "nbformat": 4,
 "nbformat_minor": 0
}
