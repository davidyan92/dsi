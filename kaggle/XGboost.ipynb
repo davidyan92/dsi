{
 "cells": [
  {
   "cell_type": "code",
   "execution_count": 2,
   "metadata": {},
   "outputs": [
    {
     "name": "stderr",
     "output_type": "stream",
     "text": [
      "/Users/david.yan/anaconda/envs/py27/lib/python2.7/site-packages/sklearn/cross_validation.py:41: DeprecationWarning: This module was deprecated in version 0.18 in favor of the model_selection module into which all the refactored classes and functions are moved. Also note that the interface of the new CV iterators are different from that of this module. This module will be removed in 0.20.\n",
      "  \"This module will be removed in 0.20.\", DeprecationWarning)\n"
     ]
    }
   ],
   "source": [
    "import numpy as np\n",
    "import pandas as pd\n",
    "import xgboost as xgb\n",
    "from sklearn.cross_validation import train_test_split\n",
    "#2--Watch the eta, min_child_weight, subsample, colsample_bytree, max_depth and number of rounds"
   ]
  },
  {
   "cell_type": "code",
   "execution_count": null,
   "metadata": {
    "collapsed": true
   },
   "outputs": [],
   "source": [
    "print('Loading data...')\n",
    "train = pd.read_csv(\"../kaggle/input/train.csv\")\n",
    "test = pd.read_csv(\"../kaggle/input/test.csv\")"
   ]
  },
  {
   "cell_type": "code",
   "execution_count": null,
   "metadata": {
    "collapsed": true
   },
   "outputs": [],
   "source": [
    "id_test = test['ID'].values\n",
    "test = test.drop(['ID'],axis=1)\n",
    "test = test.drop(['v8','v23','v25','v31','v36','v37','v46','v51','v53','v54','v63','v73','v75','v79','v81','v82','v89','v92','v95','v105','v107','v108','v109','v110','v116','v117','v118','v119','v123','v124','v128'],axis=1)\n",
    "target = train['target'].values\n",
    "train = train.drop(['ID'],axis=1)\n",
    "train = train.drop(['target','v8','v23','v25','v31','v36','v37','v46','v51','v53','v54','v63','v73','v75','v79','v81','v82','v89','v92','v95','v105','v107','v108','v109','v110','v116','v117','v118','v119','v123','v124','v128'],axis=1)\n",
    "\n",
    "#factorizing only train and test at once to have same dictionary for them"
   ]
  },
  {
   "cell_type": "code",
   "execution_count": null,
   "metadata": {
    "collapsed": true
   },
   "outputs": [],
   "source": [
    "shapeTrain = train.shape[0]\n",
    "shapeTest = test.shape[0]\n",
    "train = train.append(test)"
   ]
  },
  {
   "cell_type": "code",
   "execution_count": null,
   "metadata": {
    "collapsed": true
   },
   "outputs": [],
   "source": [
    "from sklearn import preprocessing \n",
    "for f in train.columns: \n",
    "    if train[f].dtype=='object': \n",
    "        lbl = preprocessing.LabelEncoder() \n",
    "        lbl.fit(list(train[f].values)) \n",
    "        train[f] = lbl.transform(list(train[f].values))\n",
    "\n",
    "test = train[shapeTrain:shapeTrain+shapeTest]\n",
    "train = train[0:shapeTrain]"
   ]
  },
  {
   "cell_type": "code",
   "execution_count": null,
   "metadata": {
    "collapsed": true
   },
   "outputs": [],
   "source": [
    "# for f in test.columns: \n",
    "#     if test[f].dtype=='object': \n",
    "#         lbl = preprocessing.LabelEncoder() \n",
    "#         lbl.fit(list(test[f].values)) \n",
    "#         test[f] = lbl.transform(list(test[f].values))\n",
    "\n",
    "\n",
    "#xgboost will handle NA values\n",
    "#train.fillna((-999), inplace=True) \n",
    "#test.fillna((-999), inplace=True)\n",
    "\n",
    "train=np.array(train) \n",
    "test=np.array(test) \n",
    "train = train.astype(float) \n",
    "test = test.astype(float)\n",
    "\n",
    "######################################################"
   ]
  },
  {
   "cell_type": "code",
   "execution_count": null,
   "metadata": {
    "collapsed": true
   },
   "outputs": [],
   "source": [
    "# # Split the Learning Set\n",
    "X_fit, X_eval, y_fit, y_eval= train_test_split(\n",
    "    train, target, test_size=0.15, random_state=1\n",
    ")\n",
    "\n",
    "\n",
    "xgtrain = xgb.DMatrix(X_fit, y_fit)\n",
    "xgtest = xgb.DMatrix(test)\n",
    "\n",
    "#n_estimators and early_stopping_rounds should be increased\n",
    "clf = xgb.XGBClassifier(missing=np.nan, max_depth=7, \n",
    "                        n_estimators=300, learning_rate=0.05, \n",
    "                        subsample=1, colsample_bytree=0.9, seed=2100,objective= 'binary:logistic')"
   ]
  },
  {
   "cell_type": "code",
   "execution_count": null,
   "metadata": {
    "collapsed": true
   },
   "outputs": [],
   "source": [
    "# fitting\n",
    "clf.fit(X_fit, y_fit, early_stopping_rounds=35,  eval_metric=\"logloss\", eval_set=[(X_eval, y_eval)])"
   ]
  },
  {
   "cell_type": "code",
   "execution_count": null,
   "metadata": {
    "collapsed": true
   },
   "outputs": [],
   "source": [
    "# scores\n",
    "from  sklearn.metrics import log_loss\n",
    "log_train = log_loss(y_fit, clf.predict_proba(X_fit)[:,1])\n",
    "log_valid = log_loss(y_eval, clf.predict_proba(X_eval)[:,1])"
   ]
  },
  {
   "cell_type": "code",
   "execution_count": null,
   "metadata": {
    "collapsed": true
   },
   "outputs": [],
   "source": [
    "print('\\n-----------------------')\n",
    "print('  logloss train: %.5f'%log_train)\n",
    "print('  logloss valid: %.5f'%log_valid)\n",
    "print('-----------------------')\n",
    "\n",
    "print('\\nModel parameters...')\n",
    "print(clf.get_params())"
   ]
  },
  {
   "cell_type": "code",
   "execution_count": null,
   "metadata": {
    "collapsed": true
   },
   "outputs": [],
   "source": [
    "#print y_pred\n",
    "y_pred= clf.predict_proba(test,ntree_limit=clf.best_ntree_limit)[:,1]\n",
    "submission = pd.DataFrame({\"ID\":id_test, \"PredictedProb\":y_pred})\n",
    "submission.to_csv(\"submission.csv\", index=False)\n",
    "\n",
    "print (\"Success\")\n",
    "#########################################################"
   ]
  }
 ],
 "metadata": {
  "kernelspec": {
   "display_name": "Python 2",
   "language": "python",
   "name": "python2"
  },
  "language_info": {
   "codemirror_mode": {
    "name": "ipython",
    "version": 2
   },
   "file_extension": ".py",
   "mimetype": "text/x-python",
   "name": "python",
   "nbconvert_exporter": "python",
   "pygments_lexer": "ipython2",
   "version": "2.7.11"
  }
 },
 "nbformat": 4,
 "nbformat_minor": 2
}
