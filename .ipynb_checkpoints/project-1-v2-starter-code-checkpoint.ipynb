{
 "cells": [
  {
   "cell_type": "markdown",
   "metadata": {},
   "source": [
    "<img src=\"http://imgur.com/1ZcRyrc.png\" style=\"float: left; margin: 15px; height: 80px\">\n",
    "\n",
    "# Project 1\n",
    "\n",
    "### Building \"Pokemon Stay\"\n",
    "\n",
    "---\n",
    "You are an analyst at a \"scrappy\" online gaming company that specializes in remakes of last year's fads.\n",
    "\n",
    "Your boss, who runs the product development team, is convinced that Pokemon Go's fatal flaw was that you had to actually move around outside. She has design mock-ups for a new game called Pokemon Stay: in this version players still need to move, but just from website to website. Pokemon gyms are now popular online destinations, and catching Pokemon in the \"wild\" simply requires browsing the internet for hours in the comfort of your home.\n",
    "\n",
    "She wants you to program a prototype version of the game, and analyze the planned content to help the team calibrate the design."
   ]
  },
  {
   "cell_type": "markdown",
   "metadata": {},
   "source": [
    "#### Package imports\n",
    "\n",
    "The pprint package below is the only package imported here, and it's not even strictly required to do any of the project. Printing python variables and objects with pprint can help to format them in a \"prettier\" way."
   ]
  },
  {
   "cell_type": "code",
   "execution_count": 41,
   "metadata": {
    "collapsed": true
   },
   "outputs": [],
   "source": [
    "from pprint import pprint\n",
    "import random\n",
    "import numpy as np"
   ]
  },
  {
   "cell_type": "markdown",
   "metadata": {},
   "source": [
    "<img src=\"http://imgur.com/l5NasQj.png\" style=\"float: left; margin: 25px 15px 0px 0px; height: 25px\">\n",
    "\n",
    "## 1. Defining a player\n",
    "\n",
    "---\n",
    "\n",
    "The player variables are:\n",
    "\n",
    "    player_id : id code unique to each player (integer)\n",
    "    player_name : entered name of the player (string)\n",
    "    time_played : number of time played the game in minutes (float)\n",
    "    player_pokemon: the player's captured pokemon (dictionary)\n",
    "    gyms_visited: ids of the gyms that a player has visited (list)\n",
    "    \n",
    "Create the components for a player object by defining each of these variables. The dictionary and list variables should just be defined as empty; you can use any (correctly typed) values for the others."
   ]
  },
  {
   "cell_type": "code",
   "execution_count": 60,
   "metadata": {},
   "outputs": [
    {
     "name": "stdout",
     "output_type": "stream",
     "text": [
      "<__main__.player instance at 0x10567c950>\n"
     ]
    }
   ],
   "source": [
    "class player:\n",
    "    \n",
    "    player_id = 0\n",
    "    \n",
    "    def __init__(self, name):\n",
    "        player.player_id += 1\n",
    "        self.player_id = player.player_id\n",
    "        self.player_name = name\n",
    "        self.time_played = 0.0\n",
    "        self.player_pokemon = {}\n",
    "        self.gyms_visited = []\n",
    "\n",
    "David = player('David')\n",
    "print(David)"
   ]
  },
  {
   "cell_type": "markdown",
   "metadata": {},
   "source": [
    "<img src=\"http://imgur.com/l5NasQj.png\" style=\"float: left; margin: 25px 15px 0px 0px; height: 25px\">\n",
    "\n",
    "## 2. Defining \"gym\" locations\n",
    "\n",
    "---\n",
    "\n",
    "As the sole programmer, Pokemon Stay will have to start small. To begin, there will be 10 different gym location websites on the internet. The gym locations are:\n",
    "\n",
    "    1. 'reddit.com'\n",
    "    2. 'amazon.com'\n",
    "    3. 'twitter.com'\n",
    "    4. 'linkedin.com'\n",
    "    5. 'ebay.com'\n",
    "    6. 'netflix.com'\n",
    "    7. 'sporcle.com'\n",
    "    8. 'stackoverflow.com'\n",
    "    9. 'github.com'\n",
    "    10. 'quora.com'\n",
    "\n",
    "1. Set up a list of all the gym locations. This will be a list of strings.\n",
    "2. Append two of these locations to your player's list of visited gyms.\n",
    "3. Print the list."
   ]
  },
  {
   "cell_type": "code",
   "execution_count": 43,
   "metadata": {},
   "outputs": [
    {
     "name": "stdout",
     "output_type": "stream",
     "text": [
      "['github.com', 'github.com']\n"
     ]
    }
   ],
   "source": [
    "gyms = ['reddit.com', 'amazon.com', 'twitter.com', 'linkedin.com', 'ebay.com', 'netflix.com', 'sporcle.com', 'stackoverflow.com', 'github.com', 'quora.com']\n",
    "\n",
    "for x in range(2):\n",
    "    David.gyms_visited.append(random.choice(gyms))\n",
    "\n",
    "print(David.gyms_visited)"
   ]
  },
  {
   "cell_type": "markdown",
   "metadata": {},
   "source": [
    "<img src=\"http://imgur.com/l5NasQj.png\" style=\"float: left; margin: 25px 15px 0px 0px; height: 25px\">\n",
    "\n",
    "## 3. Create a pokedex\n",
    "\n",
    "---\n",
    "\n",
    "We also need to create some pokemon to catch. Each pokemon will be defined by these variables:\n",
    "\n",
    "    pokemon_id : unique identifier for each pokemon (integer)\n",
    "    name : the name of the pokemon (string)\n",
    "    type : the category of pokemon (string)\n",
    "    hp : base hitpoints (integer)\n",
    "    attack : base attack (integer)\n",
    "    defense : base defense (integer)\n",
    "    special_attack : base special attack (integer)\n",
    "    special_defense : base sepecial defense (integer)\n",
    "    speed : base speed (integer)\n",
    "\n",
    "We are only going to create 3 different pokemon with these `pokemon_id` and `pokemon_name` values:\n",
    "\n",
    "    1 : 'charmander'\n",
    "    2 : 'squirtle'\n",
    "    3 : 'bulbasaur'\n",
    "\n",
    "Create a dictionary that will contain the pokemon. The keys of the dictionary will be the `pokemon_id` and the values will themselves dictionaries that contain the other pokemon variables. The structure of the pokedex dictionary will start like so:\n",
    "     \n",
    "     {\n",
    "         1: {\n",
    "                 'name':'charmander',\n",
    "                 'type':'fire',\n",
    "                 ...\n",
    "                 \n",
    "The `type` of charmander, squirtle, and bulbasaur should be `'fire'`, `'water'`, and `'poison'` respectively. The other values are up to you, make them anything you like!\n",
    "\n",
    "Print (or pretty print) the pokedex dictionary with the 3 pokemon."
   ]
  },
  {
   "cell_type": "code",
   "execution_count": 44,
   "metadata": {},
   "outputs": [
    {
     "name": "stdout",
     "output_type": "stream",
     "text": [
      "{1: {'attack': 60,\n",
      "     'defense': 30,\n",
      "     'hp': 100,\n",
      "     'name': 'charmander',\n",
      "     'special_attack': 4,\n",
      "     'special_defense': 2,\n",
      "     'speed': 9,\n",
      "     'type': 'fire'},\n",
      " 2: {'attack': 50,\n",
      "     'defense': 50,\n",
      "     'hp': 100,\n",
      "     'name': 'squirtle',\n",
      "     'special_attack': 3,\n",
      "     'special_defense': 5,\n",
      "     'speed': 6,\n",
      "     'type': 'water'},\n",
      " 3: {'attack': 40,\n",
      "     'defense': 50,\n",
      "     'hp': 100,\n",
      "     'name': 'bulbasaur',\n",
      "     'special_attack': 3,\n",
      "     'special_defense': 4,\n",
      "     'speed': 3,\n",
      "     'type': 'poison'}}\n"
     ]
    }
   ],
   "source": [
    "pokedex = {\n",
    "    1:{\n",
    "        'name':'charmander',\n",
    "        'type':'fire',\n",
    "        'hp':100,\n",
    "        'attack':60,\n",
    "        'defense':30,\n",
    "        'special_attack':4,\n",
    "        'special_defense':2,\n",
    "        'speed':9,\n",
    "    },\n",
    "    \n",
    "    2:{\n",
    "        'name':'squirtle',\n",
    "        'type':'water',\n",
    "        'hp':100,\n",
    "        'attack':50,\n",
    "        'defense':50,\n",
    "        'special_attack':3,\n",
    "        'special_defense':5,\n",
    "        'speed':6,\n",
    "    },\n",
    "    \n",
    "    3:{\n",
    "        'name':'bulbasaur',\n",
    "        'type':'poison',\n",
    "        'hp':100,\n",
    "        'attack':40,\n",
    "        'defense':50,\n",
    "        'special_attack':3,\n",
    "        'special_defense':4,\n",
    "        'speed':3,\n",
    "    }\n",
    "}\n",
    "\n",
    "pprint(pokedex)"
   ]
  },
  {
   "cell_type": "markdown",
   "metadata": {},
   "source": [
    "<img src=\"http://imgur.com/l5NasQj.png\" style=\"float: left; margin: 25px 15px 0px 0px; height: 25px\">\n",
    "\n",
    "## 4. Create a data structure for players\n",
    "\n",
    "---\n",
    "\n",
    "### 4.1 \n",
    "\n",
    "In order to maintain a database of multiple players, create a dictionary that keeps track of players indexed by `player_id`. \n",
    "\n",
    "The keys of the dictionary will be `player_id` and values will be dictionaries containing each player's variables (from question 1). \n",
    "\n",
    "Construct the `players` dictionary and insert the player that you defined in question 1, then print `players`."
   ]
  },
  {
   "cell_type": "code",
   "execution_count": 45,
   "metadata": {},
   "outputs": [
    {
     "name": "stdout",
     "output_type": "stream",
     "text": [
      "{1: {'gyms_visited': ['github.com', 'github.com'],\n",
      "     'player_name': 'David',\n",
      "     'player_pokemon': {},\n",
      "     'time_played': 0.0}}\n"
     ]
    }
   ],
   "source": [
    "\n",
    "players = {\n",
    "    David.player_id:{\n",
    "        'player_name':David.player_name,\n",
    "        'time_played':David.time_played,\n",
    "        'player_pokemon':David.player_pokemon,\n",
    "        'gyms_visited':David.gyms_visited\n",
    "    }\n",
    "}\n",
    "\n",
    "pprint(players)"
   ]
  },
  {
   "cell_type": "markdown",
   "metadata": {},
   "source": [
    "---\n",
    "\n",
    "### 4.2\n",
    "\n",
    "Create a new player with `player_id = 2` in the `players` dictionary. Leave the `'player_pokemon'` dictionary empty. Append `'alcatraz'` and `'pacific_beach'` to the `'gyms_visited'` list for player 2.\n",
    "\n",
    "The `'player_name'` and `'time_played'` values are up to you, but must be a string and float, respectively.\n",
    "\n",
    "Remember, the player_id is the key for the player in the players dictionary.\n",
    "\n",
    "Print the `players` dictionary with the new player inserted."
   ]
  },
  {
   "cell_type": "code",
   "execution_count": 46,
   "metadata": {},
   "outputs": [
    {
     "name": "stdout",
     "output_type": "stream",
     "text": [
      "{1: {'gyms_visited': ['github.com', 'github.com'],\n",
      "     'player_name': 'David',\n",
      "     'player_pokemon': {},\n",
      "     'time_played': 0.0},\n",
      " 2: {'gyms_visited': ['alcatraz', 'pacific_beach'],\n",
      "     'player_name': 'John',\n",
      "     'player_pokemon': {},\n",
      "     'time_played': 0.0}}\n"
     ]
    }
   ],
   "source": [
    "John = player('John')\n",
    "John.gyms_visited.extend(['alcatraz', 'pacific_beach'])\n",
    "\n",
    "players.update({\n",
    "    John.player_id:{\n",
    "        'player_name':John.player_name,\n",
    "        'time_played':John.time_played,\n",
    "        'player_pokemon':John.player_pokemon,\n",
    "        'gyms_visited':John.gyms_visited\n",
    "    }\n",
    "})\n",
    "\n",
    "pprint(players)"
   ]
  },
  {
   "cell_type": "markdown",
   "metadata": {},
   "source": [
    "<img src=\"http://imgur.com/l5NasQj.png\" style=\"float: left; margin: 25px 15px 0px 0px; height: 25px\">\n",
    "\n",
    "## 5. Add captured pokemon for each player\n",
    "\n",
    "---\n",
    "\n",
    "The `'player_pokemon'` keyed dictionaries for each player keep track of which of the pokemon each player has.\n",
    "\n",
    "The keys of the `'player_pokemon'` dictionaries are the pokemon ids that correspond to the ids in the `pokedex` dictionary you created earlier. The values are integers specifying the stats for the pokemon.\n",
    "\n",
    "Give player 1 a squirtle. Give player 2 charmander and a bulbasaur.\n",
    "\n",
    "Print the players dictionary after adding the pokemon for each player.\n"
   ]
  },
  {
   "cell_type": "code",
   "execution_count": 47,
   "metadata": {},
   "outputs": [
    {
     "name": "stdout",
     "output_type": "stream",
     "text": [
      "{1: {'gyms_visited': ['github.com', 'github.com'],\n",
      "     'player_name': 'David',\n",
      "     'player_pokemon': {2: {'attack': 50,\n",
      "                            'defense': 50,\n",
      "                            'hp': 100,\n",
      "                            'name': 'squirtle',\n",
      "                            'special_attack': 3,\n",
      "                            'special_defense': 5,\n",
      "                            'speed': 6,\n",
      "                            'type': 'water'}},\n",
      "     'time_played': 0.0},\n",
      " 2: {'gyms_visited': ['alcatraz', 'pacific_beach'],\n",
      "     'player_name': 'John',\n",
      "     'player_pokemon': {1: {'attack': 60,\n",
      "                            'defense': 30,\n",
      "                            'hp': 100,\n",
      "                            'name': 'charmander',\n",
      "                            'special_attack': 4,\n",
      "                            'special_defense': 2,\n",
      "                            'speed': 9,\n",
      "                            'type': 'fire'},\n",
      "                        3: {'attack': 40,\n",
      "                            'defense': 50,\n",
      "                            'hp': 100,\n",
      "                            'name': 'bulbasaur',\n",
      "                            'special_attack': 3,\n",
      "                            'special_defense': 4,\n",
      "                            'speed': 3,\n",
      "                            'type': 'poison'}},\n",
      "     'time_played': 0.0}}\n"
     ]
    }
   ],
   "source": [
    "for x, v in pokedex.iteritems():\n",
    "    if v['name'] == 'squirtle':\n",
    "        players[1]['player_pokemon'].update({x:v})\n",
    "    if v['name'] == 'charmander':\n",
    "        players[2]['player_pokemon'].update({x:v})\n",
    "    if v['name'] == 'bulbasaur':\n",
    "        players[2]['player_pokemon'].update({x:v})\n",
    "\n",
    "pprint(players)"
   ]
  },
  {
   "cell_type": "markdown",
   "metadata": {},
   "source": [
    "\n",
    "\n",
    "## 6. What gyms have players visited?\n",
    "\n",
    "---\n",
    "<img src=\"http://imgur.com/l5NasQj.png\" style=\"float: left; margin: 25px 15px 0px 0px; height: 25px\">\n",
    "### 6.1\n",
    "\n",
    "Write a for-loop that:\n",
    "\n",
    "1. Iterates through the `pokemon_gyms` list of gym locations you defined before.\n",
    "2. For each gym, iterate through each player in the `players` dictionary with a second, internal for-loop.\n",
    "3. If the player has visited the gym, print out \"[player] has visited [gym location].\", filling in [player] and [gym location] with the current player's name and current gym location."
   ]
  },
  {
   "cell_type": "code",
   "execution_count": 48,
   "metadata": {
    "scrolled": true
   },
   "outputs": [
    {
     "name": "stdout",
     "output_type": "stream",
     "text": [
      "David has visited github.com.\n"
     ]
    }
   ],
   "source": [
    "\n",
    "for gym in gyms:\n",
    "    for player, player_details in players.iteritems():\n",
    "        if gym in player_details['gyms_visited']:\n",
    "            print(player_details['player_name'] + \" has visited \" + gym + \".\")\n"
   ]
  },
  {
   "cell_type": "markdown",
   "metadata": {},
   "source": [
    "# <img src=\"http://imgur.com/xDpSobf.png\" style=\"float: left; margin: 25px 15px 0px 0px; height: 25px\">\n",
    "### 6.2\n",
    "\n",
    "How many times did that loop run? If you have N gyms and also N players, how many times would it run as a function of N?\n",
    "\n",
    "Can you think of a more efficient way to accomplish the same thing? \n",
    "\n",
    "(You can write your answer as Markdown text.)"
   ]
  },
  {
   "cell_type": "code",
   "execution_count": 49,
   "metadata": {},
   "outputs": [
    {
     "name": "stdout",
     "output_type": "stream",
     "text": [
      "David has visited github.com.\n",
      "David has visited github.com.\n"
     ]
    }
   ],
   "source": [
    "# That loop ran 20 times\n",
    "# It will run N squared times\n",
    "for player, player_details in players.iteritems():\n",
    "        for gym in player_details['gyms_visited']:\n",
    "            if gym in gyms:\n",
    "                print(player_details['player_name'] + \" has visited \" + gym + \".\")\n"
   ]
  },
  {
   "cell_type": "markdown",
   "metadata": {},
   "source": [
    "<img src=\"http://imgur.com/l5NasQj.png\" style=\"float: left; margin: 25px 15px 0px 0px; height: 25px\">\n",
    "\n",
    "## 7. Calculate player \"power\".\n",
    "\n",
    "---\n",
    "\n",
    "Define a function that will calculate a player's \"power\". Player power is defined as the sum of the base statistics all of their pokemon.\n",
    "\n",
    "Your function will:\n",
    "\n",
    "1. Accept the `players` dictionary, `pokedex` dictionary, and a player_id as arguments.\n",
    "2. For the specified player_id, look up that player's pokemon and their level(s).\n",
    "3. Find and aggregate the attack and defense values for each of the player's pokemon from the `pokedex` dictionary.\n",
    "4. Print \"[player name]'s power is [player power].\", where the player power is the sum of the base statistics for all of their pokemon.\n",
    "5. Return the player's power value.\n",
    "\n",
    "Print out the pokemon power for each of your players."
   ]
  },
  {
   "cell_type": "code",
   "execution_count": 50,
   "metadata": {},
   "outputs": [
    {
     "name": "stdout",
     "output_type": "stream",
     "text": [
      "David's power is 100\n",
      "100\n",
      "John's power is 180\n",
      "180\n"
     ]
    }
   ],
   "source": [
    "\n",
    "def player_power(players, pokedex, player_id):\n",
    "    \n",
    "    player_pokemon = players[player_id]['player_pokemon']\n",
    "    power = 0\n",
    "\n",
    "    for pokemon_id in player_pokemon.keys():\n",
    "        if pokemon_id in pokedex.keys():\n",
    "            power += pokedex[pokemon_id]['attack']\n",
    "            power += pokedex[pokemon_id]['defense']\n",
    "    \n",
    "    print(players[player_id]['player_name'] + \"'s power is \" + str(power))\n",
    "    return power\n",
    "\n",
    "for id in players.keys():\n",
    "    print(player_power(players, pokedex, id))"
   ]
  },
  {
   "cell_type": "markdown",
   "metadata": {
    "collapsed": true
   },
   "source": [
    "<img src=\"http://imgur.com/l5NasQj.png\" style=\"float: left; margin: 25px 15px 0px 0px; height: 25px\">\n",
    "\n",
    "## 8. Load a pokedex file containing all the pokemon\n",
    "\n",
    "---\n",
    "\n",
    "### 8.1\n",
    "\n",
    "While you were putting together the prototype code, your colleagues were preparing a dataset of Pokemon and their attributes. (This was a rush job, so they may have picked some crazy values for some...)\n",
    "\n",
    "The code below loads information from a comma separated value (csv) file. You need to parse this string into a more useable format. The format of the string is:\n",
    "\n",
    "- Rows are separated by newline characters: \\n\n",
    "- Columns are separated by commas: ,\n",
    "- All cells in the csv are double quoted. Ex: \"PokedexNumber\" is the first cell of the first row.\n",
    "\n",
    "\n",
    "Using for-loops, create a list of lists where each list within the overall list is a row of the csv/matrix, and each element in that list is a cell in that row. Additional criteria:\n",
    "\n",
    "1. Quotes are removed from each cell item.\n",
    "2. Numeric column values are converted to floats.\n",
    "3. There are some cells that are empty and have no information. For these cells put a -1 value in place.\n",
    "\n",
    "Your end result is effectively a matrix. Each list in the outer list is a row, and the *j*th elements of list together form the *j*th column, which represents a data attribute. The first three lists in your pokedex list should look like this:\n",
    "\n",
    "    ['PokedexNumber', 'Name', 'Type', 'Total', 'HP', 'Attack', 'Defense', 'SpecialAttack', 'SpecialDefense', 'Speed']\n",
    "    [1.0, 'Bulbasaur', 'GrassPoison', 318.0, 45.0, 49.0, 49.0, 65.0, 65.0, 45.0]\n",
    "    [2.0, 'Ivysaur', 'GrassPoison', 405.0, 60.0, 62.0, 63.0, 80.0, 80.0, 60.0]"
   ]
  },
  {
   "cell_type": "code",
   "execution_count": 51,
   "metadata": {},
   "outputs": [
    {
     "name": "stdout",
     "output_type": "stream",
     "text": [
      "[['PokedexNumber',\n",
      "  'Name',\n",
      "  'Type',\n",
      "  'Total',\n",
      "  'HP',\n",
      "  'Attack',\n",
      "  'Defense',\n",
      "  'SpecialAttack',\n",
      "  'SpecialDefense',\n",
      "  'Speed'],\n",
      " [1.0, 'Bulbasaur', 'GrassPoison', 318.0, 45.0, 49.0, 49.0, 65.0, 65.0, 45.0],\n",
      " [2.0, 'Ivysaur', 'GrassPoison', 405.0, 60.0, 62.0, 63.0, 80.0, 80.0, 60.0]]\n"
     ]
    }
   ],
   "source": [
    "# Code to read in pokedex info\n",
    "raw_pd = ''\n",
    "pokedex_file = 'pokedex_basic.csv'\n",
    "with open(pokedex_file, 'r') as f:\n",
    "    \n",
    "    # the pokedex string is assigned to the raw_pd variable\n",
    "    raw_pd = f.read()\n",
    "    list_pd = raw_pd.split('\\n')\n",
    "    # initialize most outer list of pokedex\n",
    "    pokedex_matrix = []\n",
    "    \n",
    "    # other than the first which is the header, each sublist_string represents one pokemon\n",
    "    for sublist_string in list_pd:\n",
    "        \n",
    "        #remove quotes from each cell\n",
    "        string_trimmed = sublist_string.replace('\"','')\n",
    "        # each pokemon will represent a list \n",
    "        sublist = string_trimmed.split(',')\n",
    "        # Initialize inner list of pokedex\n",
    "        pokedex_row = []\n",
    "        \n",
    "        # Go through each attribute value of the pokemon and check for\n",
    "        # numeric and empty cells, converting them into floats and -1 respectively\n",
    "        for attribute in sublist:\n",
    "            if attribute.isdigit():\n",
    "                attribute = float(attribute)\n",
    "            elif attribute == '':\n",
    "                attribute = -1\n",
    "            # add value into new pokemon list\n",
    "            pokedex_row.append(attribute)\n",
    "        # add new pokemon list into pokedex\n",
    "        pokedex_matrix.append(pokedex_row)\n",
    "    \n",
    "    f.close()\n",
    "    \n",
    "    #output first three rows from Matrix\n",
    "    pprint(pokedex_matrix[:3])"
   ]
  },
  {
   "cell_type": "code",
   "execution_count": null,
   "metadata": {
    "collapsed": true
   },
   "outputs": [],
   "source": []
  },
  {
   "cell_type": "markdown",
   "metadata": {},
   "source": [
    "<img src=\"http://imgur.com/xDpSobf.png\" style=\"float: left; margin: 25px 15px 0px 0px; height: 25px\">\n",
    "\n",
    "### 8.2 Parse the raw pokedex with list comprehensions\n",
    "\n",
    "---\n",
    "\n",
    "Perform the same parsing as above, but **using only a single list comprehension** instead of for loops. You may have nested list comprehensions within the main list comprehension! The output should be exactly the same."
   ]
  },
  {
   "cell_type": "code",
   "execution_count": 52,
   "metadata": {},
   "outputs": [
    {
     "name": "stdout",
     "output_type": "stream",
     "text": [
      "[['PokedexNumber',\n",
      "  'Name',\n",
      "  'Type',\n",
      "  'Total',\n",
      "  'HP',\n",
      "  'Attack',\n",
      "  'Defense',\n",
      "  'SpecialAttack',\n",
      "  'SpecialDefense',\n",
      "  'Speed'],\n",
      " [1.0, 'Bulbasaur', 'GrassPoison', 318.0, 45.0, 49.0, 49.0, 65.0, 65.0, 45.0],\n",
      " [2.0, 'Ivysaur', 'GrassPoison', 405.0, 60.0, 62.0, 63.0, 80.0, 80.0, 60.0]]\n"
     ]
    }
   ],
   "source": [
    "# transform raw string into matrix\n",
    "pokedex_matrix = [\n",
    "        [-1 if string.replace('\"','') == '' else float(string.replace('\"','')) if string.replace('\"','').isdigit() else string.replace('\"','') for string in sublist_string.split(',')]\n",
    "    for sublist_string in raw_pd.split('\\n')]\n",
    "\n",
    "pprint(pokedex_matrix[:3])"
   ]
  },
  {
   "cell_type": "markdown",
   "metadata": {},
   "source": [
    "<img src=\"http://imgur.com/l5NasQj.png\" style=\"float: left; margin: 25px 15px 0px 0px; height: 25px\">\n",
    "\n",
    "## 9. Write a function to generate the full pokedex\n",
    "\n",
    "---\n",
    "\n",
    "Write a function that recreates the pokedex you made before, but with the data read in from the full pokemon file. The `PokedexNumber` should be used as the `pokemon_id` key values for the dictionary of pokemon.\n",
    "\n",
    "Your function should:\n",
    "\n",
    "1. Take the parsed pokedex information you created above as an argument.\n",
    "2. Return a dictionary in the same format as your original pokedex you created before containing the information from the parsed full pokedex file.\n",
    "\n",
    "To test the function, print out the pokemon with id = 100."
   ]
  },
  {
   "cell_type": "code",
   "execution_count": 53,
   "metadata": {
    "scrolled": true
   },
   "outputs": [
    {
     "name": "stdout",
     "output_type": "stream",
     "text": [
      "{'Attack': 190.0,\n",
      " 'Defense': 100.0,\n",
      " 'HP': 126.0,\n",
      " 'Name': 'MewtwoMega Mewtwo X',\n",
      " 'SpecialAttack': 154.0,\n",
      " 'SpecialDefense': 100.0,\n",
      " 'Speed': 130.0,\n",
      " 'Total': 800.0,\n",
      " 'Type': 'PsychicFighting'}\n"
     ]
    }
   ],
   "source": [
    "# function will regenerate unique ID for every pokemon\n",
    "# due to duplicates in CSV file\n",
    "def generate_pokedex(parsed_pokedex):\n",
    "    pokedex_dict = {}\n",
    "    attributes = parsed_pokedex[0]\n",
    "    # sort pokedex by attribute total\n",
    "    sorted_pokedex = sorted(parsed_pokedex[1:], key=lambda x: x[3])\n",
    "    new_id = 0.0\n",
    "    \n",
    "    for pokemon in sorted_pokedex:\n",
    "        # every pokemon will take on a new ID\n",
    "        new_id += 1\n",
    "        for index, (header, value) in enumerate(zip(attributes, pokemon)):\n",
    "            # first value in list is pokemon id\n",
    "            if index == 0:\n",
    "                pokedex_dict.update({new_id:{}})\n",
    "            else:\n",
    "                pokedex_dict[new_id].update({header:value})\n",
    "    \n",
    "    return pokedex_dict\n",
    "\n",
    "pokedex = generate_pokedex(pokedex_matrix)\n",
    "pprint(pokedex[800])"
   ]
  },
  {
   "cell_type": "markdown",
   "metadata": {},
   "source": [
    "<img src=\"http://i.imgur.com/GCAf1UX.png\" style=\"float: left; margin: 25px 15px 0px 0px; height: 25px\">\n",
    "\n",
    "## 10. Write a function to generate a \"filtered\" pokedex\n",
    "---\n",
    "Your function should:\n",
    "1. Take the parsed pokedex information you created above as an argument.\n",
    "1. Take a dictionary as a parameter with keys matching the features of the Pokedex, filtering by exact match for string type values, and/or filter continuous variables specified value that is greater than or equal to the dictionary key parameter.\n",
    "1. Return multiple elements from the Pokedex\n",
    "\n",
    "Example:\n",
    "\n",
    "```python\n",
    "\n",
    "# Only filter based on parameters passed\n",
    "filter_options = {\n",
    "    'Attack':   25,\n",
    "    'Defense':  30,\n",
    "    'Type':     'Electric'\n",
    "}\n",
    "\n",
    "# Return records with attack >= 24, defense >= 30, and type == \"Electric\"\n",
    "# Also anticipate that other paramters can also be passed such as \"SpecialAttack\", \"Speed\", etc.\n",
    "filtered_pokedex(pokedex_data, filter=filter_options)\n",
    "\n",
    "# Example output:\n",
    "# [{'Attack': 30.0,\n",
    "#  'Defense': 50.0,\n",
    "#  'HP': 40.0,\n",
    "#  'Name': 'Voltorb',\n",
    "#  'SpecialAttack': 55.0,\n",
    "#  'SpecialDefense': 55.0,\n",
    "#  'Speed': 100.0,\n",
    "#  'Total': 330.0,\n",
    "#  'Type': 'Electric'},\n",
    "#  {'Attack': 30.0,\n",
    "#  'Defense': 33.0,\n",
    "#  'HP': 32.0,\n",
    "#  'Name': 'Pikachu',\n",
    "#  'SpecialAttack': 55.0,\n",
    "#  'SpecialDefense': 55.0,\n",
    "#  'Speed': 100.0,\n",
    "#  'Total': 330.0,\n",
    "#  'Type': 'Electric'},\n",
    "#  ... etc\n",
    "#  ]\n",
    "\n",
    "```\n",
    "\n"
   ]
  },
  {
   "cell_type": "code",
   "execution_count": 54,
   "metadata": {},
   "outputs": [
    {
     "name": "stdout",
     "output_type": "stream",
     "text": [
      "[{'Attack': 65.0,\n",
      "  'Defense': 34.0,\n",
      "  'HP': 45.0,\n",
      "  'Name': 'Shinx',\n",
      "  'SpecialAttack': 40.0,\n",
      "  'SpecialDefense': 34.0,\n",
      "  'Speed': 45.0,\n",
      "  'Total': 263.0,\n",
      "  'Type': 'Electric'},\n",
      " {'Attack': 55.0,\n",
      "  'Defense': 40.0,\n",
      "  'HP': 35.0,\n",
      "  'Name': 'Tynamo',\n",
      "  'SpecialAttack': 45.0,\n",
      "  'SpecialDefense': 40.0,\n",
      "  'Speed': 60.0,\n",
      "  'Total': 275.0,\n",
      "  'Type': 'Electric'},\n",
      " {'Attack': 40.0,\n",
      "  'Defense': 40.0,\n",
      "  'HP': 55.0,\n",
      "  'Name': 'Mareep',\n",
      "  'SpecialAttack': 65.0,\n",
      "  'SpecialDefense': 45.0,\n",
      "  'Speed': 35.0,\n",
      "  'Total': 280.0,\n",
      "  'Type': 'Electric'},\n",
      " {'Attack': 45.0,\n",
      "  'Defense': 40.0,\n",
      "  'HP': 40.0,\n",
      "  'Name': 'Electrike',\n",
      "  'SpecialAttack': 65.0,\n",
      "  'SpecialDefense': 40.0,\n",
      "  'Speed': 65.0,\n",
      "  'Total': 295.0,\n",
      "  'Type': 'Electric'},\n",
      " {'Attack': 60.0,\n",
      "  'Defense': 32.0,\n",
      "  'HP': 45.0,\n",
      "  'Name': 'Blitzle',\n",
      "  'SpecialAttack': 50.0,\n",
      "  'SpecialDefense': 32.0,\n",
      "  'Speed': 76.0,\n",
      "  'Total': 295.0,\n",
      "  'Type': 'Electric'},\n",
      " {'Attack': 55.0,\n",
      "  'Defense': 40.0,\n",
      "  'HP': 35.0,\n",
      "  'Name': 'Pikachu',\n",
      "  'SpecialAttack': 50.0,\n",
      "  'SpecialDefense': 50.0,\n",
      "  'Speed': 90.0,\n",
      "  'Total': 320.0,\n",
      "  'Type': 'Electric'},\n",
      " {'Attack': 30.0,\n",
      "  'Defense': 50.0,\n",
      "  'HP': 40.0,\n",
      "  'Name': 'Voltorb',\n",
      "  'SpecialAttack': 55.0,\n",
      "  'SpecialDefense': 55.0,\n",
      "  'Speed': 100.0,\n",
      "  'Total': 330.0,\n",
      "  'Type': 'Electric'},\n",
      " {'Attack': 63.0,\n",
      "  'Defense': 37.0,\n",
      "  'HP': 45.0,\n",
      "  'Name': 'Elekid',\n",
      "  'SpecialAttack': 65.0,\n",
      "  'SpecialDefense': 55.0,\n",
      "  'Speed': 95.0,\n",
      "  'Total': 360.0,\n",
      "  'Type': 'Electric'},\n",
      " {'Attack': 85.0,\n",
      "  'Defense': 49.0,\n",
      "  'HP': 60.0,\n",
      "  'Name': 'Luxio',\n",
      "  'SpecialAttack': 60.0,\n",
      "  'SpecialDefense': 49.0,\n",
      "  'Speed': 60.0,\n",
      "  'Total': 363.0,\n",
      "  'Type': 'Electric'},\n",
      " {'Attack': 55.0,\n",
      "  'Defense': 55.0,\n",
      "  'HP': 70.0,\n",
      "  'Name': 'Flaaffy',\n",
      "  'SpecialAttack': 80.0,\n",
      "  'SpecialDefense': 60.0,\n",
      "  'Speed': 45.0,\n",
      "  'Total': 365.0,\n",
      "  'Type': 'Electric'},\n",
      " {'Attack': 50.0,\n",
      "  'Defense': 40.0,\n",
      "  'HP': 60.0,\n",
      "  'Name': 'Plusle',\n",
      "  'SpecialAttack': 85.0,\n",
      "  'SpecialDefense': 75.0,\n",
      "  'Speed': 95.0,\n",
      "  'Total': 405.0,\n",
      "  'Type': 'Electric'},\n",
      " {'Attack': 40.0,\n",
      "  'Defense': 50.0,\n",
      "  'HP': 60.0,\n",
      "  'Name': 'Minun',\n",
      "  'SpecialAttack': 75.0,\n",
      "  'SpecialDefense': 85.0,\n",
      "  'Speed': 95.0,\n",
      "  'Total': 405.0,\n",
      "  'Type': 'Electric'},\n",
      " {'Attack': 45.0,\n",
      "  'Defense': 70.0,\n",
      "  'HP': 60.0,\n",
      "  'Name': 'Pachirisu',\n",
      "  'SpecialAttack': 45.0,\n",
      "  'SpecialDefense': 90.0,\n",
      "  'Speed': 95.0,\n",
      "  'Total': 405.0,\n",
      "  'Type': 'Electric'},\n",
      " {'Attack': 85.0,\n",
      "  'Defense': 70.0,\n",
      "  'HP': 65.0,\n",
      "  'Name': 'Eelektrik',\n",
      "  'SpecialAttack': 75.0,\n",
      "  'SpecialDefense': 70.0,\n",
      "  'Speed': 40.0,\n",
      "  'Total': 405.0,\n",
      "  'Type': 'Electric'},\n",
      " {'Attack': 75.0,\n",
      "  'Defense': 60.0,\n",
      "  'HP': 70.0,\n",
      "  'Name': 'Manectric',\n",
      "  'SpecialAttack': 105.0,\n",
      "  'SpecialDefense': 60.0,\n",
      "  'Speed': 105.0,\n",
      "  'Total': 475.0,\n",
      "  'Type': 'Electric'},\n",
      " {'Attack': 50.0,\n",
      "  'Defense': 70.0,\n",
      "  'HP': 60.0,\n",
      "  'Name': 'Electrode',\n",
      "  'SpecialAttack': 80.0,\n",
      "  'SpecialDefense': 80.0,\n",
      "  'Speed': 140.0,\n",
      "  'Total': 480.0,\n",
      "  'Type': 'Electric'},\n",
      " {'Attack': 90.0,\n",
      "  'Defense': 55.0,\n",
      "  'HP': 60.0,\n",
      "  'Name': 'Raichu',\n",
      "  'SpecialAttack': 90.0,\n",
      "  'SpecialDefense': 80.0,\n",
      "  'Speed': 110.0,\n",
      "  'Total': 485.0,\n",
      "  'Type': 'Electric'},\n",
      " {'Attack': 83.0,\n",
      "  'Defense': 57.0,\n",
      "  'HP': 65.0,\n",
      "  'Name': 'Electabuzz',\n",
      "  'SpecialAttack': 95.0,\n",
      "  'SpecialDefense': 85.0,\n",
      "  'Speed': 105.0,\n",
      "  'Total': 490.0,\n",
      "  'Type': 'Electric'},\n",
      " {'Attack': 100.0,\n",
      "  'Defense': 63.0,\n",
      "  'HP': 75.0,\n",
      "  'Name': 'Zebstrika',\n",
      "  'SpecialAttack': 80.0,\n",
      "  'SpecialDefense': 63.0,\n",
      "  'Speed': 116.0,\n",
      "  'Total': 497.0,\n",
      "  'Type': 'Electric'},\n",
      " {'Attack': 75.0,\n",
      "  'Defense': 85.0,\n",
      "  'HP': 90.0,\n",
      "  'Name': 'Ampharos',\n",
      "  'SpecialAttack': 115.0,\n",
      "  'SpecialDefense': 90.0,\n",
      "  'Speed': 55.0,\n",
      "  'Total': 510.0,\n",
      "  'Type': 'Electric'},\n",
      " {'Attack': 115.0,\n",
      "  'Defense': 80.0,\n",
      "  'HP': 85.0,\n",
      "  'Name': 'Eelektross',\n",
      "  'SpecialAttack': 105.0,\n",
      "  'SpecialDefense': 80.0,\n",
      "  'Speed': 50.0,\n",
      "  'Total': 515.0,\n",
      "  'Type': 'Electric'},\n",
      " {'Attack': 120.0,\n",
      "  'Defense': 79.0,\n",
      "  'HP': 80.0,\n",
      "  'Name': 'Luxray',\n",
      "  'SpecialAttack': 95.0,\n",
      "  'SpecialDefense': 79.0,\n",
      "  'Speed': 70.0,\n",
      "  'Total': 523.0,\n",
      "  'Type': 'Electric'},\n",
      " {'Attack': 65.0,\n",
      "  'Defense': 60.0,\n",
      "  'HP': 65.0,\n",
      "  'Name': 'Jolteon',\n",
      "  'SpecialAttack': 110.0,\n",
      "  'SpecialDefense': 95.0,\n",
      "  'Speed': 130.0,\n",
      "  'Total': 525.0,\n",
      "  'Type': 'Electric'},\n",
      " {'Attack': 123.0,\n",
      "  'Defense': 67.0,\n",
      "  'HP': 75.0,\n",
      "  'Name': 'Electivire',\n",
      "  'SpecialAttack': 95.0,\n",
      "  'SpecialDefense': 85.0,\n",
      "  'Speed': 95.0,\n",
      "  'Total': 540.0,\n",
      "  'Type': 'Electric'},\n",
      " {'Attack': 75.0,\n",
      "  'Defense': 80.0,\n",
      "  'HP': 70.0,\n",
      "  'Name': 'ManectricMega Manectric',\n",
      "  'SpecialAttack': 135.0,\n",
      "  'SpecialDefense': 80.0,\n",
      "  'Speed': 135.0,\n",
      "  'Total': 575.0,\n",
      "  'Type': 'Electric'},\n",
      " {'Attack': 85.0,\n",
      "  'Defense': 75.0,\n",
      "  'HP': 90.0,\n",
      "  'Name': 'Raikou',\n",
      "  'SpecialAttack': 115.0,\n",
      "  'SpecialDefense': 100.0,\n",
      "  'Speed': 115.0,\n",
      "  'Total': 580.0,\n",
      "  'Type': 'Electric'}]\n"
     ]
    }
   ],
   "source": [
    "filter_options = {\n",
    "    'Attack':   25,\n",
    "    'Defense':  30,\n",
    "    'Type':     'Electric'\n",
    "}\n",
    "\n",
    "# Assumption is pokedex and filter are all dictionaries\n",
    "# Assumption is all filter conditions must be met\n",
    "def filtered_pokedex(pokedex_data, filter=None):\n",
    "    \n",
    "    if filter == None:\n",
    "        return \"No filter specified\"\n",
    "    else:\n",
    "        #initialize filter result array\n",
    "        filter_result = []\n",
    "        \n",
    "        #loop through each pokemon in pokedex\n",
    "        for pokemon_id, pokemon_details in pokedex_data.iteritems():\n",
    "            filter_values_string = []\n",
    "            filter_values_float = []\n",
    "            pokemon_values_string = []\n",
    "            pokemon_values_float = []\n",
    "            \n",
    "            #Go through every attribute of the pokemon\n",
    "            for key, value in pokemon_details.iteritems():\n",
    "                # if the current attribute is found in the filter, capture and store it\n",
    "                if key in filter.keys():\n",
    "                    # Store both values of attributes separately but in the same position for easy comparison later\n",
    "                    # string and float values have different comparison operators, thus we segregate them\n",
    "                    if isinstance(pokemon_details[key], float):\n",
    "                        filter_values_float.append(filter[key])\n",
    "                        pokemon_values_float.append(pokemon_details[key])\n",
    "                    if isinstance(pokemon_details[key], str):\n",
    "                        filter_values_string.append(filter[key])\n",
    "                        pokemon_values_string.append(pokemon_details[key])\n",
    "            \n",
    "            #once collected all necessary values, compare the filter values with the pokemon values\n",
    "            string_filter_result = [True if fv == pv else False for fv, pv in zip(filter_values_string, pokemon_values_string)]\n",
    "            float_filter_result = [True if pv >= fv else False for fv, pv in zip(filter_values_float, pokemon_values_float)]\n",
    "            #all the conditions must be met, e.g. float values must be equal or bigger, string values must be identical\n",
    "            #if all met, capture and store this pokemon in the filter result array\n",
    "            if False not in string_filter_result and False not in float_filter_result:\n",
    "                filter_result.append(pokemon_details)\n",
    "            \n",
    "    return filter_result\n",
    "\n",
    "pprint(filtered_pokedex(pokedex, filter=filter_options))\n"
   ]
  },
  {
   "cell_type": "markdown",
   "metadata": {
    "collapsed": true
   },
   "source": [
    "\n",
    "## 9. Descriptive statistics on the prototype pokedex\n",
    "\n",
    "<img src=\"http://imgur.com/l5NasQj.png\" style=\"float: left; margin: 25px 15px 0px 0px; height: 25px\">\n",
    "### 9.1\n",
    "\n",
    "What is the population mean and standard deviation of the \"Total\" attribute for all characters in the Pokedex?\n",
    "\n"
   ]
  },
  {
   "cell_type": "code",
   "execution_count": 55,
   "metadata": {},
   "outputs": [
    {
     "name": "stdout",
     "output_type": "stream",
     "text": [
      "Population mean for 'Total' is 435.1275\n",
      "Population standard deviation for 'Total' is 119.962020005\n"
     ]
    }
   ],
   "source": [
    "Total = []\n",
    "\n",
    "for pokemon_id, pokemon_details in pokedex.iteritems():\n",
    "    Total.append(pokemon_details['Total'])\n",
    "\n",
    "Total_mean = np.mean(Total)\n",
    "Total_std = np.std(Total)\n",
    "\n",
    "print(\"Population mean for 'Total' is \" + str(Total_mean))\n",
    "print(\"Population standard deviation for 'Total' is \" + str(Total_std))\n"
   ]
  },
  {
   "cell_type": "markdown",
   "metadata": {},
   "source": [
    "<img src=\"http://imgur.com/l5NasQj.png\" style=\"float: left; margin: 25px 15px 0px 0px; height: 25px\">\n",
    "### 9.2\n",
    "\n",
    "The game is no fun if the characters are wildly unbalanced! Are any characters \"overpowered\", which we'll define as having a \"Total\" more than three standard deviations from the population mean?"
   ]
  },
  {
   "cell_type": "code",
   "execution_count": 56,
   "metadata": {
    "scrolled": true
   },
   "outputs": [
    {
     "name": "stdout",
     "output_type": "stream",
     "text": [
      "array(['MewtwoMega Mewtwo X'],\n",
      "      dtype='|S25')\n"
     ]
    }
   ],
   "source": [
    "Character = []\n",
    "\n",
    "for pokemon_id, pokemon_details in pokedex.iteritems():\n",
    "    Character.append(pokemon_details['Name'])\n",
    "\n",
    "np_Total = np.array(Total)\n",
    "np_Character = np.array(Character)\n",
    "\n",
    "pprint(np_Character[np_Total>Total_mean+(3*Total_std)])"
   ]
  },
  {
   "cell_type": "markdown",
   "metadata": {},
   "source": [
    "<img src=\"http://imgur.com/xDpSobf.png\" style=\"float: left; margin: 25px 15px 0px 0px; height: 25px\">\n",
    "\n",
    "## 10. Calibrate the frequency of Pokemon\n",
    "\n",
    "The design team wants you to make the powerful Pokemon rare, and the weaklings more common. How would you set the probability $p_i$ of finding Pokemon *i* each time a player visits a gym?\n",
    "\n",
    "Write a function that takes in a Pokedex number and returns a value $p_i$ for that character.\n",
    "\n",
    "Hint: there are many ways you could do this. What do _you_ think makes sense? Start with simplifying assumptions: for example, you could assume that the probabilities of encountering any two Pokemon on one visit to a gym are independent of each other."
   ]
  },
  {
   "cell_type": "code",
   "execution_count": 57,
   "metadata": {
    "scrolled": false
   },
   "outputs": [
    {
     "name": "stdout",
     "output_type": "stream",
     "text": [
      "('Sunkern', 0.277573392526021)\n",
      "('MewtwoMega Mewtwo X', 0.06245401331835472)\n"
     ]
    }
   ],
   "source": [
    "# assumption is probability of encountering any two pokemon on one visit\n",
    "# is independent of each other, independent variables, 1 trial = 1 visit to gym, each trial sum of all probability = 1\n",
    "# probability and power must have inverse relationship\n",
    "# must ensure all probabilities of pokemon adds up to one\n",
    "# must be more dynamic taking into account new pokemon added into pokedex\n",
    "def gen_pokemon_prob(pokedex_number):\n",
    "    # get inverted power of each pokemon\n",
    "    total = [[pokemon_id, 1/values['Total']] for pokemon_id, values in pokedex.iteritems()]\n",
    "    # sort this list from small to big by inverted power\n",
    "    total = sorted(total, key=lambda x: x[1])\n",
    "    # divide each inverted power by sum total of inverted values so that probability always adds up to one when you add \n",
    "    pokemon_prob = {x[0]:x[1]/sum([y[1] for y in total])*100 for x in total}\n",
    "    return pokemon_prob[pokedex_number]\n",
    "\n",
    "print(pokedex[1]['Name'], gen_pokemon_prob(1))\n",
    "print(pokedex[800]['Name'], gen_pokemon_prob(800))"
   ]
  },
  {
   "cell_type": "code",
   "execution_count": 58,
   "metadata": {
    "collapsed": true
   },
   "outputs": [],
   "source": [
    "# Scale the power column and return pokemon dictionary with power\n",
    "# and corresponding probability\n",
    "def gen_pokemon_power_prob_dict(pokedex_dict):\n",
    "    inverted_total = [[pokemon_id, 1/values['Total']] for pokemon_id, values in pokedex_dict.iteritems()]\n",
    "    power_range = np.ptp(Total)\n",
    "    pokemon_power_prob = {x[0]:[pokedex_dict[x[0]]['Total']/power_range, x[1]/sum([y[1] for y in inverted_total])*100] for x in inverted_total}\n",
    "    return pokemon_power_prob"
   ]
  },
  {
   "cell_type": "code",
   "execution_count": 59,
   "metadata": {
    "scrolled": true
   },
   "outputs": [
    {
     "data": {
      "text/plain": [
       "<matplotlib.collections.PathCollection at 0x1a130a6c90>"
      ]
     },
     "execution_count": 59,
     "metadata": {},
     "output_type": "execute_result"
    },
    {
     "data": {
      "image/png": "[encoded data removed]",
      "text/plain": [
       "<matplotlib.figure.Figure at 0x1007d1a50>"
      ]
     },
     "metadata": {},
     "output_type": "display_data"
    }
   ],
   "source": [
    "import seaborn as sns\n",
    "import matplotlib.pyplot as plt\n",
    "%matplotlib inline\n",
    "\n",
    "pkmon_pw_pb_dict = gen_pokemon_power_prob_dict(pokedex)\n",
    "sns.set(color_codes=True)\n",
    "power_arr = [p[0] for p in pkmon_pw_pb_dict.itervalues()]\n",
    "prob_arr = [p[1] for p in pkmon_pw_pb_dict.itervalues()]\n",
    "plt.xlabel('Power')\n",
    "plt.ylabel('Probability in %')\n",
    "plt.scatter(x=power_arr, y=prob_arr)"
   ]
  },
  {
   "cell_type": "code",
   "execution_count": null,
   "metadata": {
    "collapsed": true
   },
   "outputs": [],
   "source": []
  }
 ],
 "metadata": {
  "anaconda-cloud": {},
  "kernelspec": {
   "display_name": "Python 2",
   "language": "python",
   "name": "python2"
  },
  "language_info": {
   "codemirror_mode": {
    "name": "ipython",
    "version": 2
   },
   "file_extension": ".py",
   "mimetype": "text/x-python",
   "name": "python",
   "nbconvert_exporter": "python",
   "pygments_lexer": "ipython2",
   "version": "2.7.11"
  }
 },
 "nbformat": 4,
 "nbformat_minor": 1
}
