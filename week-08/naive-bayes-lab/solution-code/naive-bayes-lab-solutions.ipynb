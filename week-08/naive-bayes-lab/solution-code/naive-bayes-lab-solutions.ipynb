{
 "cells": [
  {
   "cell_type": "markdown",
   "metadata": {},
   "source": [
    "<img src=\"https://ga-dash.s3.amazonaws.com/production/assets/logo-9f88ae6c9c3871690e33280fcf557f33.png\" style=\"float: left; margin: 15px;\">\n",
    "\n",
    "## Naive Bayes Language Detection Lab\n",
    "\n",
    "_Author: David Yerrington (SF) _\n",
    "\n",
    "In this lab, we will use Naive Bayes (and other classifiers) to auto-detect the language of a given tweet. We will then assess the performance of our classifier."
   ]
  },
  {
   "cell_type": "code",
   "execution_count": 1,
   "metadata": {
    "collapsed": true
   },
   "outputs": [],
   "source": [
    "import pandas as pd, seaborn as sns, numpy as np, matplotlib.pyplot as plt\n",
    "\n",
    "from sklearn.feature_extraction.text import CountVectorizer, TfidfTransformer, TfidfVectorizer \n",
    "from sklearn.feature_extraction.text import TfidfTransformer\n",
    "from sklearn.feature_extraction.text import TfidfVectorizer\n",
    "from sklearn.model_selection import learning_curve\n",
    "from sklearn.model_selection import train_test_split, cross_val_score, ShuffleSplit\n",
    "from sklearn.metrics import classification_report\n",
    "from sklearn.naive_bayes import MultinomialNB, BernoulliNB, GaussianNB\n",
    "from sklearn.linear_model import LogisticRegression\n",
    "\n",
    "from sklearn.pipeline import Pipeline\n",
    "\n",
    "%matplotlib inline\n",
    "\n",
    "sns.set_style(\"darkgrid\")"
   ]
  },
  {
   "cell_type": "code",
   "execution_count": 138,
   "metadata": {
    "collapsed": true
   },
   "outputs": [],
   "source": [
    "tweets_df = pd.read_csv(\"datasets/tweets_language.csv\", encoding=\"utf-8\", index_col=0)\n",
    "tweets_df.index = tweets_df.index.astype(int)    # By default, everything read in is a string!"
   ]
  },
  {
   "cell_type": "code",
   "execution_count": 139,
   "metadata": {
    "scrolled": true
   },
   "outputs": [
    {
     "name": "stdout",
     "output_type": "stream",
     "text": [
      "<class 'pandas.core.frame.DataFrame'>\n",
      "Int64Index: 9431 entries, 0 to 9408\n",
      "Data columns (total 2 columns):\n",
      "LANG    9409 non-null object\n",
      "TEXT    9409 non-null object\n",
      "dtypes: object(2)\n",
      "memory usage: 221.0+ KB\n"
     ]
    }
   ],
   "source": [
    "tweets_df.info()"
   ]
  },
  {
   "cell_type": "code",
   "execution_count": 135,
   "metadata": {
    "collapsed": true
   },
   "outputs": [],
   "source": [
    "# Note above that some rows are null, which we cannot use for training\n",
    "tweets_df = tweets_df.dropna()"
   ]
  },
  {
   "cell_type": "code",
   "execution_count": 140,
   "metadata": {},
   "outputs": [
    {
     "data": {
      "text/html": [
       "<div>\n",
       "<table border=\"1\" class=\"dataframe\">\n",
       "  <thead>\n",
       "    <tr style=\"text-align: right;\">\n",
       "      <th></th>\n",
       "      <th>LANG</th>\n",
       "      <th>TEXT</th>\n",
       "    </tr>\n",
       "  </thead>\n",
       "  <tbody>\n",
       "    <tr>\n",
       "      <th>0</th>\n",
       "      <td>en</td>\n",
       "      <td>The #Yolo bailout: Greece's ex-finance chief h...</td>\n",
       "    </tr>\n",
       "    <tr>\n",
       "      <th>1</th>\n",
       "      <td>en</td>\n",
       "      <td>Another mental Saturday night. It will be near...</td>\n",
       "    </tr>\n",
       "    <tr>\n",
       "      <th>2</th>\n",
       "      <td>en</td>\n",
       "      <td>Sometimes you take bedtime selfies w yer hat s...</td>\n",
       "    </tr>\n",
       "    <tr>\n",
       "      <th>3</th>\n",
       "      <td>en</td>\n",
       "      <td>Currently just changed my entire outfit includ...</td>\n",
       "    </tr>\n",
       "    <tr>\n",
       "      <th>4</th>\n",
       "      <td>en</td>\n",
       "      <td>I just like listening to @SpotifyAU's top 100 ...</td>\n",
       "    </tr>\n",
       "  </tbody>\n",
       "</table>\n",
       "</div>"
      ],
      "text/plain": [
       "  LANG                                               TEXT\n",
       "0   en  The #Yolo bailout: Greece's ex-finance chief h...\n",
       "1   en  Another mental Saturday night. It will be near...\n",
       "2   en  Sometimes you take bedtime selfies w yer hat s...\n",
       "3   en  Currently just changed my entire outfit includ...\n",
       "4   en  I just like listening to @SpotifyAU's top 100 ..."
      ]
     },
     "execution_count": 140,
     "metadata": {},
     "output_type": "execute_result"
    }
   ],
   "source": [
    "tweets_df.head()"
   ]
  },
  {
   "cell_type": "markdown",
   "metadata": {},
   "source": [
    "### 1. Data exploration\n",
    "\n",
    "#### 1.A. Explore a list of tweet words that occur more than 50x\n",
    "Plot a histogram of some kind might be helpful."
   ]
  },
  {
   "cell_type": "code",
   "execution_count": 80,
   "metadata": {
    "scrolled": true
   },
   "outputs": [
    {
     "data": {
      "text/plain": [
       "<9409x32952 sparse matrix of type '<type 'numpy.int64'>'\n",
       "\twith 130568 stored elements in Compressed Sparse Row format>"
      ]
     },
     "execution_count": 80,
     "metadata": {},
     "output_type": "execute_result"
    }
   ],
   "source": [
    "# Let's use the CountVectorizer to count words for us\n",
    "cvt      =  CountVectorizer(strip_accents='unicode', ngram_range=(1,1))\n",
    "X_all    =  cvt.fit_transform(tweets_df['TEXT'])\n",
    "columns  =  np.array(cvt.get_feature_names())          # ndarray (for indexing below)\n",
    "\n",
    "# note this is a large sparse matrix. \n",
    "#    - rows are tweets, columns are words \n",
    "X_all"
   ]
  },
  {
   "cell_type": "code",
   "execution_count": 81,
   "metadata": {},
   "outputs": [
    {
     "name": "stdout",
     "output_type": "stream",
     "text": [
      "(9409, 32952)\n",
      "Requires 310045368 ints to do a .toarray()!\n"
     ]
    }
   ],
   "source": [
    "# Converting X_all toarray() may use too much memory (particularly for 32-bit Python!)\n",
    "print X_all.shape\n",
    "print \"Requires {} ints to do a .toarray()!\".format(X_all.shape[0] * X_all.shape[1])\n",
    "\n",
    "# x_df     =  pd.DataFrame(X_all.toarray(), columns=columns)\n",
    "# tf_df    =  pd.DataFrame(x_df.sum(), columns=[\"freq\"])\n",
    "# tf_df.sort_values(\"freq\", ascending=False).head(10)"
   ]
  },
  {
   "cell_type": "code",
   "execution_count": 82,
   "metadata": {},
   "outputs": [
    {
     "data": {
      "text/plain": [
       "co        8544\n",
       "http      6093\n",
       "https     2658\n",
       "rt        2222\n",
       "love      1758\n",
       "dog       1219\n",
       "family    1082\n",
       "france    1032\n",
       "de         984\n",
       "us         951\n",
       "da         889\n",
       "peace      811\n",
       "yolo       742\n",
       "la         723\n",
       "earth      702\n",
       "in         604\n",
       "the        598\n",
       "planet     589\n",
       "math       473\n",
       "en         425\n",
       "dtype: int64"
      ]
     },
     "execution_count": 82,
     "metadata": {},
     "output_type": "execute_result"
    }
   ],
   "source": [
    "# So .. we'll use np.sum() to convert it directly from the sparse matrix!\n",
    "# This is enormously more memory-efficient ...\n",
    "#   It only requires one int per column since summing across columns is the total word count.\n",
    "\n",
    "def get_freq_words(sparse_counts, columns):\n",
    "    # X_all is a sparse matrix, so sum() returns a 'matrix' datatype ...\n",
    "    #   which we then convert into a 1-D ndarray for sorting\n",
    "    word_counts = np.asarray(X_all.sum(axis=0)).reshape(-1)\n",
    "\n",
    "    # argsort() returns smallest first, so we reverse the result\n",
    "    largest_count_indices = word_counts.argsort()[::-1]\n",
    "\n",
    "    # pretty-print the results! Remember to always ask whether they make sense ...\n",
    "    freq_words = pd.Series(word_counts[largest_count_indices], \n",
    "                           index=columns[largest_count_indices])\n",
    "\n",
    "    return freq_words\n",
    "\n",
    "\n",
    "freq_words = get_freq_words(X_all, columns)\n",
    "freq_words[:20]"
   ]
  },
  {
   "cell_type": "markdown",
   "metadata": {},
   "source": [
    "- Note above that many of the most common words actually may not be relevant to determining language!\n",
    "- Also, we are removing important features such as capitalization, punctuation, sentence length, etc. that might be important for determining language."
   ]
  },
  {
   "cell_type": "markdown",
   "metadata": {},
   "source": [
    "#### 1.B. Investigate histogram of counts"
   ]
  },
  {
   "cell_type": "code",
   "execution_count": 83,
   "metadata": {},
   "outputs": [
    {
     "name": "stdout",
     "output_type": "stream",
     "text": [
      "co        8544\n",
      "http      6093\n",
      "https     2658\n",
      "rt        2222\n",
      "love      1758\n",
      "dog       1219\n",
      "family    1082\n",
      "france    1032\n",
      "de         984\n",
      "us         951\n",
      "dtype: int64\n"
     ]
    },
    {
     "data": {
      "image/png": "[encoded data removed]",
      "text/plain": [
       "<matplotlib.figure.Figure at 0xf8efd30>"
      ]
     },
     "metadata": {},
     "output_type": "display_data"
    }
   ],
   "source": [
    "from sklearn.preprocessing import StandardScaler, minmax_scale\n",
    "\n",
    "def hist_counts(word_counts):\n",
    "    hist_counts = pd.Series(minmax_scale(word_counts), \n",
    "                            index=word_counts.index)\n",
    "    \n",
    "    # Overall graph is hard to understand, so let's break it into three graphs\n",
    "    fig, axes = plt.subplots(nrows=1, ncols=3, figsize=(12,6))\n",
    "    \n",
    "    hist_counts.plot(kind=\"hist\", bins=50, ax=axes[0], title=\"Histogram - All\")\n",
    "    \n",
    "    # look at the range of extreme commons that seem to exist below .01\n",
    "    hist_counts[hist_counts < .01].plot(kind=\"hist\", ax=axes[2], title=\"Histogram - Counts < .01\")\n",
    "    \n",
    "    # There are a lot of really common tokens within 10% -- filter them out\n",
    "    hist_counts[hist_counts > .1].plot(kind=\"hist\", bins=50, ax=axes[1], title=\"Histogram - Counts > .1\")\n",
    "\n",
    "print(freq_words[:10])\n",
    "hist_counts(freq_words)"
   ]
  },
  {
   "cell_type": "markdown",
   "metadata": {},
   "source": [
    "#### 1.C. Try it again with stopword removal "
   ]
  },
  {
   "cell_type": "code",
   "execution_count": 84,
   "metadata": {},
   "outputs": [
    {
     "name": "stdout",
     "output_type": "stream",
     "text": [
      "http      6093\n",
      "https     2658\n",
      "rt        2222\n",
      "love      1758\n",
      "dog       1219\n",
      "family    1082\n",
      "france    1032\n",
      "da         889\n",
      "peace      811\n",
      "yolo       742\n",
      "dtype: int64\n"
     ]
    },
    {
     "data": {
      "image/png": "[encoded data removed]",
      "text/plain": [
       "<matplotlib.figure.Figure at 0xe04dda0>"
      ]
     },
     "metadata": {},
     "output_type": "display_data"
    }
   ],
   "source": [
    "cvt      =  CountVectorizer(strip_accents='unicode', stop_words=\"english\", ngram_range=(1,1))\n",
    "X_all    =  cvt.fit_transform(tweets_df['TEXT'])\n",
    "columns  =  np.array(cvt.get_feature_names())\n",
    "\n",
    "freq_words = get_freq_words(X_all, columns)\n",
    "\n",
    "print(freq_words[:10])\n",
    "hist_counts(freq_words)"
   ]
  },
  {
   "cell_type": "code",
   "execution_count": 85,
   "metadata": {},
   "outputs": [
    {
     "data": {
      "text/plain": [
       "4968.7588500087695"
      ]
     },
     "execution_count": 85,
     "metadata": {},
     "output_type": "execute_result"
    }
   ],
   "source": [
    "# Checking range between .99 - .99999 -- there seem to be lots of words there\n",
    "freq_words.quantile(.99999)"
   ]
  },
  {
   "cell_type": "code",
   "execution_count": 86,
   "metadata": {},
   "outputs": [
    {
     "data": {
      "text/plain": [
       "gt                145\n",
       "pet               144\n",
       "di                143\n",
       "et                142\n",
       "ukraine           139\n",
       "follow            139\n",
       "germany           139\n",
       "al                138\n",
       "art               138\n",
       "anti              135\n",
       "se                134\n",
       "es                132\n",
       "nature            132\n",
       "du                132\n",
       "pour              131\n",
       "para              130\n",
       "imperialist       129\n",
       "falseflag         129\n",
       "des               126\n",
       "world             119\n",
       "fun               117\n",
       "beautiful         117\n",
       "organic           115\n",
       "nasa              114\n",
       "friends           113\n",
       "sun               111\n",
       "puppy             111\n",
       "mi                111\n",
       "una               109\n",
       "instagood         108\n",
       "                 ... \n",
       "defense            10\n",
       "right              10\n",
       "restaurant         10\n",
       "despampanante      10\n",
       "recursive          10\n",
       "dieses             10\n",
       "rain               10\n",
       "rafaela31416       10\n",
       "quotestoliveby     10\n",
       "quotesoftheday     10\n",
       "quiero             10\n",
       "doggie             10\n",
       "dois               10\n",
       "asian              10\n",
       "qatar              10\n",
       "yard               10\n",
       "puso               10\n",
       "drawing            10\n",
       "quotestagram       10\n",
       "saudades           10\n",
       "совместным         10\n",
       "школы              10\n",
       "слухи              10\n",
       "снимком            10\n",
       "то                 10\n",
       "27                 10\n",
       "страни             10\n",
       "чехова             10\n",
       "49bkwjajlz         10\n",
       "5312x2988          10\n",
       "dtype: int64"
      ]
     },
     "execution_count": 86,
     "metadata": {},
     "output_type": "execute_result"
    }
   ],
   "source": [
    "# find the %1, and %10 threshold for masking\n",
    "freq_words[(freq_words >= 10) & (freq_words <= 150)]"
   ]
  },
  {
   "cell_type": "markdown",
   "metadata": {},
   "source": [
    "#### 1.D. Explore ngrams between 2 and 4\n",
    "Display the top 75 ngrams with frequencies."
   ]
  },
  {
   "cell_type": "code",
   "execution_count": 87,
   "metadata": {
    "scrolled": false
   },
   "outputs": [
    {
     "data": {
      "text/plain": [
       "naturevalley planet                    193\n",
       "france http                            193\n",
       "da http                                173\n",
       "love https                             155\n",
       "junksilver coins                       151\n",
       "silver junksilver                      151\n",
       "silver junksilver coins                151\n",
       "anti imperialist                       129\n",
       "family love                            117\n",
       "love http                              110\n",
       "paris france                           106\n",
       "earth http                             106\n",
       "coins bullion                          101\n",
       "junksilver coins bullion               101\n",
       "silver junksilver coins bullion        101\n",
       "peace love                              89\n",
       "dog http                                87\n",
       "eiffel_tower france                     87\n",
       "family https                            86\n",
       "eiffel_tower france http                86\n",
       "rt hugoturner1969                       83\n",
       "dog https                               82\n",
       "france germany                          81\n",
       "hund hunde                              79\n",
       "germany uk                              75\n",
       "lang http                               74\n",
       "petersväderlekstjänst yolo              73\n",
       "gt http                                 72\n",
       "rt hugoturner1969 anti                  70\n",
       "rt hugoturner1969 anti imperialist      70\n",
       "                                      ... \n",
       "pachuca https p3ce3o9cen                 1\n",
       "pachuca https                            1\n",
       "pachuca hidalgo hgo https                1\n",
       "pachuca hidalgo hgo                      1\n",
       "pachuca hidalgo                          1\n",
       "pachamama todo lo que                    1\n",
       "pachamama todo lo                        1\n",
       "pachamama todo                           1\n",
       "pace rondine toscana italia              1\n",
       "pacific time usptz time                  1\n",
       "pacifico listos                          1\n",
       "pacifico listos para                     1\n",
       "packages earth roman remedios            1\n",
       "pacotinho fofo family                    1\n",
       "pacotinho fofo                           1\n",
       "pacoperamos españa https azx3vxhr9h      1\n",
       "pacoperamos españa https                 1\n",
       "pacoperamos españa                       1\n",
       "pacool https ty37s3gofq                  1\n",
       "pacool https                             1\n",
       "packages earth roman                     1\n",
       "pacifico listos para combate             1\n",
       "packages earth                           1\n",
       "paciolo presly purnama kelompok          1\n",
       "paciolo presly purnama                   1\n",
       "paciolo presly                           1\n",
       "pacifico_alex giorni pieni di            1\n",
       "pacifico_alex giorni pieni               1\n",
       "pacifico_alex giorni                     1\n",
       "00 16                                    1\n",
       "dtype: int64"
      ]
     },
     "execution_count": 87,
     "metadata": {},
     "output_type": "execute_result"
    }
   ],
   "source": [
    "cvt = CountVectorizer(stop_words=\"english\", ngram_range=(2,4))\n",
    "X_all = cvt.fit_transform(tweets_df['TEXT'])\n",
    "columns  =  np.array(cvt.get_feature_names())\n",
    "\n",
    "freq_words = get_freq_words(X_all, columns)\n",
    "freq_words"
   ]
  },
  {
   "cell_type": "markdown",
   "metadata": {},
   "source": [
    "#### 1.E. (Optional) try expanding the list of stopwords\n",
    "There are definitely some non-words such as web urls, etc. If you could remove them, this could help us improve the score.  Identify word/tokens that don't add much value to either class.  **You should additionally look at ngrams per language to fine tune your preprocessing.  This has the greatest potential to improve your results without tuning any model parameters.**\n",
    "\n",
    "Using `nltk.corpus`, we can get a baseline list of stop words.  Try to expand it and pass it to our vectorizer."
   ]
  },
  {
   "cell_type": "code",
   "execution_count": 88,
   "metadata": {
    "collapsed": true
   },
   "outputs": [],
   "source": [
    "from nltk.corpus import stopwords\n",
    "stop = stopwords.words('english')\n",
    "stop += ['http', 'https', 'rt']"
   ]
  },
  {
   "cell_type": "code",
   "execution_count": 89,
   "metadata": {},
   "outputs": [
    {
     "data": {
      "text/plain": [
       "co        8544\n",
       "love      1758\n",
       "dog       1219\n",
       "family    1082\n",
       "france    1032\n",
       "de         984\n",
       "us         951\n",
       "da         889\n",
       "peace      811\n",
       "yolo       742\n",
       "la         723\n",
       "earth      702\n",
       "planet     589\n",
       "math       473\n",
       "en         425\n",
       "hund       333\n",
       "que        332\n",
       "vive       307\n",
       "silver     304\n",
       "un         304\n",
       "dtype: int64"
      ]
     },
     "execution_count": 89,
     "metadata": {},
     "output_type": "execute_result"
    }
   ],
   "source": [
    "# These look pretty clean for a first step in anlaysis\n",
    "cvt = CountVectorizer(stop_words=stop, lowercase=True, strip_accents=\"unicode\", ngram_range=(1,2))\n",
    "X_all = cvt.fit_transform(tweets_df['TEXT'])\n",
    "columns  =  np.array(cvt.get_feature_names())\n",
    "\n",
    "freq_words = get_freq_words(X_all, columns)\n",
    "freq_words[:20]"
   ]
  },
  {
   "cell_type": "markdown",
   "metadata": {},
   "source": [
    "### 2. Setup a test / train split of your data using any method you wish.\n",
    "Try 70/30 to start."
   ]
  },
  {
   "cell_type": "code",
   "execution_count": 90,
   "metadata": {},
   "outputs": [
    {
     "data": {
      "text/plain": [
       "(6586, 4663)"
      ]
     },
     "execution_count": 90,
     "metadata": {},
     "output_type": "execute_result"
    }
   ],
   "source": [
    "# Find our training size\n",
    "training_size = int(tweets_df.shape[0] * .7)\n",
    "\n",
    "# Randomly sample our training data\n",
    "tweets_train = tweets_df.sample(n=training_size, replace=True)\n",
    "\n",
    "# Capture the rest of the dataset that's not \"training\" using an inverse mask (rows NOT IN training dataframe)\n",
    "mask = tweets_df.index.isin(tweets_train.index)\n",
    "tweets_test = tweets_df[~mask]\n",
    "\n",
    "# Should be (2762, 1963) = training / testing = 70/30\n",
    "tweets_train.shape[0], tweets_test.shape[0]"
   ]
  },
  {
   "cell_type": "markdown",
   "metadata": {},
   "source": [
    "### 3. Setup a \"Pipeline\" to vectorize and use MultinomialNB classifier.\n",
    "Use `lowercase`, `strip_accents`, `Pipeline`, and optionally your updated `stop_words`.  Fit your comment data using the \"Insult\" feature as your response.\n",
    "\n",
    "Fit your training data to your pipeline, then score it."
   ]
  },
  {
   "cell_type": "code",
   "execution_count": 91,
   "metadata": {},
   "outputs": [
    {
     "data": {
      "text/plain": [
       "0.70619772678533133"
      ]
     },
     "execution_count": 91,
     "metadata": {},
     "output_type": "execute_result"
    }
   ],
   "source": [
    "# MultinomialNB\n",
    "pipeline = Pipeline([\n",
    "    ('vect', CountVectorizer(lowercase=True, strip_accents='unicode', stop_words=stop)),\n",
    "    ('tfidf', TfidfTransformer()),\n",
    "    ('cls', MultinomialNB())\n",
    "]) \n",
    "pipeline.fit(tweets_train[\"TEXT\"], tweets_train[\"LANG\"])\n",
    "predicted = pipeline.predict(tweets_test[\"TEXT\"])\n",
    "pipeline.score(tweets_test[\"TEXT\"], tweets_test[\"LANG\"])"
   ]
  },
  {
   "cell_type": "code",
   "execution_count": 141,
   "metadata": {},
   "outputs": [
    {
     "data": {
      "text/plain": [
       "0.74479948530988638"
      ]
     },
     "execution_count": 141,
     "metadata": {},
     "output_type": "execute_result"
    }
   ],
   "source": [
    "# Alternative -- train on all data\n",
    "# MultinomialNB\n",
    "pipeline = Pipeline([\n",
    "    ('vect', cvt),\n",
    "    # ('tfidf', TfidfTransformer()),\n",
    "    ('cls', MultinomialNB())\n",
    "]) \n",
    "pipeline.fit(tweets_train[\"TEXT\"], tweets_train[\"LANG\"])\n",
    "predicted = pipeline.predict(tweets_test[\"TEXT\"])\n",
    "pipeline.score(tweets_test[\"TEXT\"], tweets_test[\"LANG\"])"
   ]
  },
  {
   "cell_type": "markdown",
   "metadata": {},
   "source": [
    "#### 3.A. Swap out MultinomialNB with BernoulliNB in the pipeline\n",
    "How do they compare? Do you have a guess of why BernoulliNB is so poor?"
   ]
  },
  {
   "cell_type": "code",
   "execution_count": 93,
   "metadata": {},
   "outputs": [
    {
     "data": {
      "text/plain": [
       "0.40274501393952389"
      ]
     },
     "execution_count": 93,
     "metadata": {},
     "output_type": "execute_result"
    }
   ],
   "source": [
    "# BernoulliNB\n",
    "pipeline = Pipeline([\n",
    "    ('vect', cvt),\n",
    "    ('tfidf', TfidfTransformer()),\n",
    "    ('cls', BernoulliNB())\n",
    "]) \n",
    "pipeline.fit(tweets_train[\"TEXT\"], tweets_train[\"LANG\"])\n",
    "predicted = pipeline.predict(tweets_test[\"TEXT\"])\n",
    "pipeline.score(tweets_test[\"TEXT\"], tweets_test[\"LANG\"])"
   ]
  },
  {
   "cell_type": "markdown",
   "metadata": {},
   "source": [
    "#### 3.B. Also try logistic regression and random forests in the pipeline\n",
    "How do they compare? Recall that Logistic Regression is discriminative whereas Naive Bayes is generative. Logistic Regression uses optimization to fit a formula that discriminates between the classes, whereas Naive Bayes essentially just computes aggregate statistics. So, Logistic Regression should have a longer training time than Naive Bayes -- does it here? (see `%time`)\n",
    "\n",
    "Note that Logistic Regression and Random Forests both allow you to see feature \"importance\"/coefficients. In this case, these coefficients will inform you how strong each word indicates a language. Optionally, see if you can sort these coefficients by their values to get the strongest and weakest indicator words for languages."
   ]
  },
  {
   "cell_type": "code",
   "execution_count": 94,
   "metadata": {},
   "outputs": [
    {
     "data": {
      "text/plain": [
       "0.72699978554578593"
      ]
     },
     "execution_count": 94,
     "metadata": {},
     "output_type": "execute_result"
    }
   ],
   "source": [
    "# LogisticRegression\n",
    "pipeline = Pipeline([\n",
    "    ('vect', cvt),\n",
    "    ('tfidf', TfidfTransformer()),\n",
    "    ('cls', LogisticRegression())\n",
    "]) \n",
    "pipeline.fit(tweets_train[\"TEXT\"], tweets_train[\"LANG\"])\n",
    "predicted = pipeline.predict(tweets_test[\"TEXT\"])\n",
    "pipeline.score(tweets_test[\"TEXT\"], tweets_test[\"LANG\"])"
   ]
  },
  {
   "cell_type": "markdown",
   "metadata": {},
   "source": [
    "#### 3.C. Also try tweaking the paramters of CountVectorizer and TfidfTranformer\n",
    "\n",
    "Remove Tfidf also. Good / bad?"
   ]
  },
  {
   "cell_type": "code",
   "execution_count": 95,
   "metadata": {},
   "outputs": [
    {
     "data": {
      "text/plain": [
       "0.74908856959039249"
      ]
     },
     "execution_count": 95,
     "metadata": {},
     "output_type": "execute_result"
    }
   ],
   "source": [
    "# BernoulliNB\n",
    "cvt2 = CountVectorizer(stop_words=stop, lowercase=True, strip_accents=\"unicode\", ngram_range=(1,2))\n",
    "pipeline = Pipeline([\n",
    "    ('vect', cvt2),\n",
    "    # ('tfidf', TfidfTransformer()),\n",
    "    ('cls', LogisticRegression())\n",
    "]) \n",
    "pipeline.fit(tweets_train[\"TEXT\"], tweets_train[\"LANG\"])\n",
    "predicted = pipeline.predict(tweets_test[\"TEXT\"])\n",
    "pipeline.score(tweets_test[\"TEXT\"], tweets_test[\"LANG\"])"
   ]
  },
  {
   "cell_type": "markdown",
   "metadata": {},
   "source": [
    "### 4. Check your score.\n",
    "Which languages does your model work best at? Run a classification report for all languages. [Plot AUC/ROC](../../week-04/2.3-evaluating_model_fit/code/AUC-ROC-codealong.ipynb) for particular languages (vs all others) and compare them -- do they show that some languages perform better? Does our model perform worse than guessing on some languages? Also, [review classfication reporting metrics](../../week-04/4.3-advanced-model_evaluation/code/starter-code/week4-4.1-classification-report.ipynb)."
   ]
  },
  {
   "cell_type": "code",
   "execution_count": 96,
   "metadata": {},
   "outputs": [
    {
     "data": {
      "text/plain": [
       "((4663, 4), 4663)"
      ]
     },
     "execution_count": 96,
     "metadata": {},
     "output_type": "execute_result"
    }
   ],
   "source": [
    "tweets_test.shape, len(predicted)"
   ]
  },
  {
   "cell_type": "code",
   "execution_count": 97,
   "metadata": {},
   "outputs": [
    {
     "name": "stdout",
     "output_type": "stream",
     "text": [
      "             precision    recall  f1-score   support\n",
      "\n",
      "         de       0.86      0.76      0.81       555\n",
      "         en       0.57      0.88      0.69       682\n",
      "         es       0.70      0.77      0.73       593\n",
      "         fr       0.88      0.84      0.86       564\n",
      "         it       0.80      0.71      0.75       446\n",
      "         pt       0.78      0.75      0.77       508\n",
      "         ru       0.86      0.78      0.82       387\n",
      "         sv       0.90      0.68      0.78       338\n",
      "         tl       1.00      0.50      0.67         2\n",
      "         uk       0.67      0.28      0.39        93\n",
      "        und       0.70      0.60      0.64       299\n",
      "         zh       0.71      0.53      0.61       196\n",
      "\n",
      "avg / total       0.77      0.75      0.75      4663\n",
      "\n"
     ]
    }
   ],
   "source": [
    "predicted = pipeline.predict(tweets_test[\"TEXT\"])\n",
    "print classification_report(tweets_test[\"LANG\"], predicted)"
   ]
  },
  {
   "cell_type": "code",
   "execution_count": 100,
   "metadata": {
    "collapsed": true
   },
   "outputs": [],
   "source": [
    "def multi_roc(y, probs):\n",
    "    \n",
    "    mean_tpr = 0.0\n",
    "    mean_fpr = np.linspace(0, 1, 100)\n",
    "    all_tpr = []\n",
    "\n",
    "    for i, (train, test) in enumerate(cv):\n",
    "        # probas_ = classifier.fit(X[train], y[train]).predict_proba(X[test])\n",
    "        # Compute ROC curve and area the curve\n",
    "        fpr, tpr, thresholds = roc_curve(y[test], probas_[:, 1])\n",
    "        mean_tpr += interp(mean_fpr, fpr, tpr)\n",
    "        mean_tpr[0] = 0.0\n",
    "        roc_auc = auc(fpr, tpr)\n",
    "        plt.plot(fpr, tpr, lw=1, label='ROC fold %d (area = %0.2f)' % (i, roc_auc))\n",
    "\n",
    "    plt.plot([0, 1], [0, 1], '--', color=(0.6, 0.6, 0.6), label='Luck')\n",
    "\n",
    "    mean_tpr /= len(cv)\n",
    "    mean_tpr[-1] = 1.0\n",
    "    mean_auc = auc(mean_fpr, mean_tpr)\n",
    "    plt.plot(mean_fpr, mean_tpr, 'k--',\n",
    "             label='Mean ROC (area = %0.2f)' % mean_auc, lw=2)\n",
    "\n",
    "    plt.xlim([-0.05, 1.05])\n",
    "    plt.ylim([-0.05, 1.05])\n",
    "    plt.xlabel('False Positive Rate')\n",
    "    plt.ylabel('True Positive Rate')\n",
    "    plt.title('Receiver operating characteristic example')\n",
    "    plt.legend(loc=\"lower right\")\n",
    "    plt.show()"
   ]
  },
  {
   "cell_type": "code",
   "execution_count": 101,
   "metadata": {
    "collapsed": true
   },
   "outputs": [],
   "source": [
    "from sklearn.metrics import roc_curve\n",
    "\n",
    "def plot_roc(y, probs, threshmarkers=None):\n",
    "    fpr, tpr, thresh = roc_curve(y, probs)\n",
    "\n",
    "    plt.figure(figsize=(8,8))\n",
    "    plt.plot(fpr, tpr, lw=2)\n",
    "   \n",
    "    plt.xlabel(\"False Positive Rate\\n(1 - Specificity)\")\n",
    "    plt.ylabel(\"True Positive Rate\\n(Sensitivity)\")\n",
    "    plt.xlim([-0.025, 1.025])\n",
    "    plt.ylim([-0.025, 1.025])\n",
    "    plt.xticks(np.linspace(0, 1, 21), rotation=45)\n",
    "    plt.yticks(np.linspace(0, 1, 21))\n",
    "    plt.show()"
   ]
  },
  {
   "cell_type": "code",
   "execution_count": 148,
   "metadata": {},
   "outputs": [
    {
     "data": {
      "image/png": "[encoded data removed]",
      "text/plain": [
       "<matplotlib.figure.Figure at 0x10bf61d0>"
      ]
     },
     "metadata": {},
     "output_type": "display_data"
    },
    {
     "data": {
      "image/png": "[encoded data removed]",
      "text/plain": [
       "<matplotlib.figure.Figure at 0x10c17da0>"
      ]
     },
     "metadata": {},
     "output_type": "display_data"
    }
   ],
   "source": [
    "predicted_proba = pipeline.predict_proba(tweets_test['TEXT'])\n",
    "plot_roc(tweets_test['LANG'].apply(lambda x: x == \"en\"), predicted_proba[:, list(pipeline.classes_).index(\"en\")])\n",
    "plot_roc(tweets_test['LANG'].apply(lambda x: x == \"it\"), predicted_proba[:, list(pipeline.classes_).index(\"it\")])\n",
    "\n"
   ]
  },
  {
   "cell_type": "markdown",
   "metadata": {},
   "source": [
    "### 5 Check out your baseline.\n",
    "\n",
    "What is the chance that you will randomly guess correctly without any modeling? Assume the language of your input phrase has the same chance of appearing as the languages in your training set."
   ]
  },
  {
   "cell_type": "code",
   "execution_count": 116,
   "metadata": {},
   "outputs": [
    {
     "data": {
      "text/plain": [
       "0.08333333333333333"
      ]
     },
     "execution_count": 116,
     "metadata": {},
     "output_type": "execute_result"
    }
   ],
   "source": [
    "(tweets_train.LANG.value_counts() / len(tweets_train)).mean()"
   ]
  },
  {
   "cell_type": "markdown",
   "metadata": {},
   "source": [
    "### 6. What is your model not getting right?\n",
    "\n",
    "Check out the incorrectly classified tweets.  Any noticable patterns? Can you explain why many of these are incorrectly classified, given what you know about how Naive Bayes works?  Pay particular attention to the recall metric.  What might be done in preprocessing steps to improve accuracy?  \n",
    "\n",
    "- Try to improve with your **preprocessing first**\n",
    "- THEN try to tweak your **parameters to your model(s)**"
   ]
  },
  {
   "cell_type": "code",
   "execution_count": 137,
   "metadata": {},
   "outputs": [
    {
     "data": {
      "text/html": [
       "<div>\n",
       "<table border=\"1\" class=\"dataframe\">\n",
       "  <thead>\n",
       "    <tr style=\"text-align: right;\">\n",
       "      <th></th>\n",
       "      <th>TEXT</th>\n",
       "      <th>actual</th>\n",
       "      <th>predicted</th>\n",
       "    </tr>\n",
       "  </thead>\n",
       "  <tbody>\n",
       "    <tr>\n",
       "      <th>35</th>\n",
       "      <td>im painting my nails at 2:30am #yolo #yoloswag...</td>\n",
       "      <td>en</td>\n",
       "      <td>de</td>\n",
       "    </tr>\n",
       "    <tr>\n",
       "      <th>107</th>\n",
       "      <td>Some List of Documents About Vive Tu Otono, #v...</td>\n",
       "      <td>en</td>\n",
       "      <td>es</td>\n",
       "    </tr>\n",
       "    <tr>\n",
       "      <th>124</th>\n",
       "      <td>Smile #carp  #sorie #vive #disfruta http://t.c...</td>\n",
       "      <td>en</td>\n",
       "      <td>es</td>\n",
       "    </tr>\n",
       "    <tr>\n",
       "      <th>138</th>\n",
       "      <td>RT @VICOCENTENO: What beautiful place with my ...</td>\n",
       "      <td>en</td>\n",
       "      <td>es</td>\n",
       "    </tr>\n",
       "    <tr>\n",
       "      <th>224</th>\n",
       "      <td>#rehoboth #beach #al0ud #de #us #usa #summer #...</td>\n",
       "      <td>en</td>\n",
       "      <td>es</td>\n",
       "    </tr>\n",
       "    <tr>\n",
       "      <th>284</th>\n",
       "      <td>RT @gabrielasosa: #Boycott #US #lionkiller #de...</td>\n",
       "      <td>en</td>\n",
       "      <td>pt</td>\n",
       "    </tr>\n",
       "    <tr>\n",
       "      <th>286</th>\n",
       "      <td>#ASSad's armed forces withdraw forces towards ...</td>\n",
       "      <td>en</td>\n",
       "      <td>pt</td>\n",
       "    </tr>\n",
       "    <tr>\n",
       "      <th>295</th>\n",
       "      <td>RUSSIA SET TO REJECT #UNSC resolution to inves...</td>\n",
       "      <td>en</td>\n",
       "      <td>it</td>\n",
       "    </tr>\n",
       "    <tr>\n",
       "      <th>305</th>\n",
       "      <td>The distance between Idroussa 832 00, Greece a...</td>\n",
       "      <td>en</td>\n",
       "      <td>fr</td>\n",
       "    </tr>\n",
       "    <tr>\n",
       "      <th>315</th>\n",
       "      <td>Breathtaking Images of #Earth Shot from Lofty ...</td>\n",
       "      <td>en</td>\n",
       "      <td>pt</td>\n",
       "    </tr>\n",
       "    <tr>\n",
       "      <th>405</th>\n",
       "      <td>#NatureValley #Planet Spring http://t.co/O8RvY...</td>\n",
       "      <td>en</td>\n",
       "      <td>es</td>\n",
       "    </tr>\n",
       "    <tr>\n",
       "      <th>416</th>\n",
       "      <td>#NatureValley #Planet Is that you? http://t.co...</td>\n",
       "      <td>en</td>\n",
       "      <td>es</td>\n",
       "    </tr>\n",
       "    <tr>\n",
       "      <th>421</th>\n",
       "      <td>#NatureValley #Planet Egret in the Weeds http:...</td>\n",
       "      <td>en</td>\n",
       "      <td>es</td>\n",
       "    </tr>\n",
       "    <tr>\n",
       "      <th>431</th>\n",
       "      <td>#NatureValley #Planet The Wrath of the Gods ht...</td>\n",
       "      <td>en</td>\n",
       "      <td>es</td>\n",
       "    </tr>\n",
       "    <tr>\n",
       "      <th>443</th>\n",
       "      <td>#NatureValley #Planet Aria http://t.co/dIsjQixPjP</td>\n",
       "      <td>en</td>\n",
       "      <td>es</td>\n",
       "    </tr>\n",
       "    <tr>\n",
       "      <th>445</th>\n",
       "      <td>#NatureValley #Planet Basking in the Sun.... h...</td>\n",
       "      <td>en</td>\n",
       "      <td>es</td>\n",
       "    </tr>\n",
       "    <tr>\n",
       "      <th>461</th>\n",
       "      <td>#NatureValley #Planet Serenity http://t.co/1pm...</td>\n",
       "      <td>en</td>\n",
       "      <td>es</td>\n",
       "    </tr>\n",
       "    <tr>\n",
       "      <th>462</th>\n",
       "      <td>#NatureValley #Planet Sunset at the beach in B...</td>\n",
       "      <td>en</td>\n",
       "      <td>es</td>\n",
       "    </tr>\n",
       "    <tr>\n",
       "      <th>468</th>\n",
       "      <td>#NatureValley #Planet Water curtain http://t.c...</td>\n",
       "      <td>en</td>\n",
       "      <td>es</td>\n",
       "    </tr>\n",
       "    <tr>\n",
       "      <th>474</th>\n",
       "      <td>#NatureValley #Planet Summer Friends http://t....</td>\n",
       "      <td>en</td>\n",
       "      <td>es</td>\n",
       "    </tr>\n",
       "    <tr>\n",
       "      <th>475</th>\n",
       "      <td>#NatureValley #Planet oleander http://t.co/hmi...</td>\n",
       "      <td>en</td>\n",
       "      <td>es</td>\n",
       "    </tr>\n",
       "    <tr>\n",
       "      <th>477</th>\n",
       "      <td>#NatureValley #Planet Forest Trail http://t.co...</td>\n",
       "      <td>en</td>\n",
       "      <td>es</td>\n",
       "    </tr>\n",
       "    <tr>\n",
       "      <th>485</th>\n",
       "      <td>#NatureValley #Planet Behind the scene http://...</td>\n",
       "      <td>en</td>\n",
       "      <td>es</td>\n",
       "    </tr>\n",
       "    <tr>\n",
       "      <th>555</th>\n",
       "      <td>Trades that are rumored at 96% complete &amp;gt; t...</td>\n",
       "      <td>en</td>\n",
       "      <td>fr</td>\n",
       "    </tr>\n",
       "    <tr>\n",
       "      <th>572</th>\n",
       "      <td>RT @deepgreendesign: #Design ~ Researchers dev...</td>\n",
       "      <td>en</td>\n",
       "      <td>de</td>\n",
       "    </tr>\n",
       "    <tr>\n",
       "      <th>725</th>\n",
       "      <td>Rezept Hund http://t.co/bg0chvkR4t  #hund #rezept</td>\n",
       "      <td>en</td>\n",
       "      <td>de</td>\n",
       "    </tr>\n",
       "    <tr>\n",
       "      <th>730</th>\n",
       "      <td>Skipper somehow marked himself with a cross. �...</td>\n",
       "      <td>en</td>\n",
       "      <td>sv</td>\n",
       "    </tr>\n",
       "    <tr>\n",
       "      <th>734</th>\n",
       "      <td>Can we go outside and play? #austrailanshepher...</td>\n",
       "      <td>en</td>\n",
       "      <td>de</td>\n",
       "    </tr>\n",
       "    <tr>\n",
       "      <th>750</th>\n",
       "      <td>Havaneser Steckbrief http://t.co/4Jcaku80iJ #h...</td>\n",
       "      <td>en</td>\n",
       "      <td>de</td>\n",
       "    </tr>\n",
       "    <tr>\n",
       "      <th>755</th>\n",
       "      <td>Norway in photos http://t.co/HbhZWPciMb Images...</td>\n",
       "      <td>en</td>\n",
       "      <td>de</td>\n",
       "    </tr>\n",
       "    <tr>\n",
       "      <th>...</th>\n",
       "      <td>...</td>\n",
       "      <td>...</td>\n",
       "      <td>...</td>\n",
       "    </tr>\n",
       "    <tr>\n",
       "      <th>9236</th>\n",
       "      <td>Milan by [at]annaluisairide Sorpresa del mio f...</td>\n",
       "      <td>it</td>\n",
       "      <td>es</td>\n",
       "    </tr>\n",
       "    <tr>\n",
       "      <th>9238</th>\n",
       "      <td>Mi ILY!  #Love #movilgrafias #igers_ #madridbu...</td>\n",
       "      <td>it</td>\n",
       "      <td>es</td>\n",
       "    </tr>\n",
       "    <tr>\n",
       "      <th>9247</th>\n",
       "      <td>La miglior risposta sempre??!! La nostra felic...</td>\n",
       "      <td>it</td>\n",
       "      <td>es</td>\n",
       "    </tr>\n",
       "    <tr>\n",
       "      <th>9248</th>\n",
       "      <td>...Tutti a tavola a mangiare! #nomnomnom #dinn...</td>\n",
       "      <td>it</td>\n",
       "      <td>en</td>\n",
       "    </tr>\n",
       "    <tr>\n",
       "      <th>9250</th>\n",
       "      <td>Ah ma sono in ferie? 🎉❤️ #love #beauty #Vacat...</td>\n",
       "      <td>it</td>\n",
       "      <td>pt</td>\n",
       "    </tr>\n",
       "    <tr>\n",
       "      <th>9253</th>\n",
       "      <td>Io &amp;amp; Te ❤️ CucinaconStile Wedding #love #m...</td>\n",
       "      <td>it</td>\n",
       "      <td>uk</td>\n",
       "    </tr>\n",
       "    <tr>\n",
       "      <th>9254</th>\n",
       "      <td>Salonicco 🏰⛵️#instamoment #picoftheday #smile...</td>\n",
       "      <td>it</td>\n",
       "      <td>es</td>\n",
       "    </tr>\n",
       "    <tr>\n",
       "      <th>9267</th>\n",
       "      <td>Senza rivali😍❤️ #amedeoealessia #TemptantionI...</td>\n",
       "      <td>it</td>\n",
       "      <td>en</td>\n",
       "    </tr>\n",
       "    <tr>\n",
       "      <th>9277</th>\n",
       "      <td>Buonanotte sognatori! #ordinaryseaman #goodnig...</td>\n",
       "      <td>it</td>\n",
       "      <td>zh</td>\n",
       "    </tr>\n",
       "    <tr>\n",
       "      <th>9278</th>\n",
       "      <td>\"@  SofiMacaggi: #hermanos #love https://t.co/...</td>\n",
       "      <td>it</td>\n",
       "      <td>en</td>\n",
       "    </tr>\n",
       "    <tr>\n",
       "      <th>9282</th>\n",
       "      <td>RT @PaleoAngelFood: Serenità by Antonio Amati....</td>\n",
       "      <td>it</td>\n",
       "      <td>en</td>\n",
       "    </tr>\n",
       "    <tr>\n",
       "      <th>9284</th>\n",
       "      <td>InstaPic by silviasibilla: Giorni vacanzieri ❤...</td>\n",
       "      <td>it</td>\n",
       "      <td>zh</td>\n",
       "    </tr>\n",
       "    <tr>\n",
       "      <th>9289</th>\n",
       "      <td>Aspettando le 24….🔝😍 @racoarianna @vavvatosc...</td>\n",
       "      <td>it</td>\n",
       "      <td>fr</td>\n",
       "    </tr>\n",
       "    <tr>\n",
       "      <th>9292</th>\n",
       "      <td>#tortadejamon #Italy #Italo #italia #instahub ...</td>\n",
       "      <td>it</td>\n",
       "      <td>uk</td>\n",
       "    </tr>\n",
       "    <tr>\n",
       "      <th>9301</th>\n",
       "      <td>L L #JessicaBiel #Love Jessica Biel in a 11\" x...</td>\n",
       "      <td>it</td>\n",
       "      <td>pt</td>\n",
       "    </tr>\n",
       "    <tr>\n",
       "      <th>9303</th>\n",
       "      <td>RT @6382098: Vive l'#amitié,  vive l'#amour !!...</td>\n",
       "      <td>it</td>\n",
       "      <td>en</td>\n",
       "    </tr>\n",
       "    <tr>\n",
       "      <th>9304</th>\n",
       "      <td>Buonanotte #love http://t.co/IiHev5gGTJ</td>\n",
       "      <td>it</td>\n",
       "      <td>en</td>\n",
       "    </tr>\n",
       "    <tr>\n",
       "      <th>9305</th>\n",
       "      <td>Vive l'#amitié,  vive l'#amour !!!\\nViva #frie...</td>\n",
       "      <td>it</td>\n",
       "      <td>en</td>\n",
       "    </tr>\n",
       "    <tr>\n",
       "      <th>9306</th>\n",
       "      <td>RT @ilariamujer: \"Elevano l'ordinario a straor...</td>\n",
       "      <td>it</td>\n",
       "      <td>en</td>\n",
       "    </tr>\n",
       "    <tr>\n",
       "      <th>9307</th>\n",
       "      <td>Buonanotte fiorellino  #welcomeludovica #goodn...</td>\n",
       "      <td>it</td>\n",
       "      <td>pt</td>\n",
       "    </tr>\n",
       "    <tr>\n",
       "      <th>9308</th>\n",
       "      <td>Se Dio esiste, mi ha dato tutto,\\nmi ha dato u...</td>\n",
       "      <td>it</td>\n",
       "      <td>es</td>\n",
       "    </tr>\n",
       "    <tr>\n",
       "      <th>9309</th>\n",
       "      <td>#KCA #VoteJKT48ID ornellitanita:  #daddy #sist...</td>\n",
       "      <td>it</td>\n",
       "      <td>es</td>\n",
       "    </tr>\n",
       "    <tr>\n",
       "      <th>9310</th>\n",
       "      <td>La Familia in the N.O\\n.\\n.\\n.\\n#neworleans #n...</td>\n",
       "      <td>it</td>\n",
       "      <td>es</td>\n",
       "    </tr>\n",
       "    <tr>\n",
       "      <th>9312</th>\n",
       "      <td>Uconn Mens Soccer 2015. #family #brothers #Som...</td>\n",
       "      <td>it</td>\n",
       "      <td>und</td>\n",
       "    </tr>\n",
       "    <tr>\n",
       "      <th>9320</th>\n",
       "      <td>#family #cousins #algarve by asfrancisco79 htt...</td>\n",
       "      <td>it</td>\n",
       "      <td>und</td>\n",
       "    </tr>\n",
       "    <tr>\n",
       "      <th>9345</th>\n",
       "      <td>Joshua mamma e Gea!\\n#Catania #Sicily #Summer ...</td>\n",
       "      <td>it</td>\n",
       "      <td>ru</td>\n",
       "    </tr>\n",
       "    <tr>\n",
       "      <th>9365</th>\n",
       "      <td>#again #sisamalino #trip #nature #officeouting...</td>\n",
       "      <td>it</td>\n",
       "      <td>und</td>\n",
       "    </tr>\n",
       "    <tr>\n",
       "      <th>9378</th>\n",
       "      <td>Tatù Bracelets by Niente Paura\\nhttp://t.co/qS...</td>\n",
       "      <td>it</td>\n",
       "      <td>und</td>\n",
       "    </tr>\n",
       "    <tr>\n",
       "      <th>9405</th>\n",
       "      <td>#Police brutality #Cop 4 #bones #face #broken ...</td>\n",
       "      <td>it</td>\n",
       "      <td>en</td>\n",
       "    </tr>\n",
       "    <tr>\n",
       "      <th>9407</th>\n",
       "      <td>#Police brutality #happy #Cop #kill #death #in...</td>\n",
       "      <td>it</td>\n",
       "      <td>en</td>\n",
       "    </tr>\n",
       "  </tbody>\n",
       "</table>\n",
       "<p>1170 rows × 3 columns</p>\n",
       "</div>"
      ],
      "text/plain": [
       "                                                   TEXT actual predicted\n",
       "35    im painting my nails at 2:30am #yolo #yoloswag...     en        de\n",
       "107   Some List of Documents About Vive Tu Otono, #v...     en        es\n",
       "124   Smile #carp  #sorie #vive #disfruta http://t.c...     en        es\n",
       "138   RT @VICOCENTENO: What beautiful place with my ...     en        es\n",
       "224   #rehoboth #beach #al0ud #de #us #usa #summer #...     en        es\n",
       "284   RT @gabrielasosa: #Boycott #US #lionkiller #de...     en        pt\n",
       "286   #ASSad's armed forces withdraw forces towards ...     en        pt\n",
       "295   RUSSIA SET TO REJECT #UNSC resolution to inves...     en        it\n",
       "305   The distance between Idroussa 832 00, Greece a...     en        fr\n",
       "315   Breathtaking Images of #Earth Shot from Lofty ...     en        pt\n",
       "405   #NatureValley #Planet Spring http://t.co/O8RvY...     en        es\n",
       "416   #NatureValley #Planet Is that you? http://t.co...     en        es\n",
       "421   #NatureValley #Planet Egret in the Weeds http:...     en        es\n",
       "431   #NatureValley #Planet The Wrath of the Gods ht...     en        es\n",
       "443   #NatureValley #Planet Aria http://t.co/dIsjQixPjP     en        es\n",
       "445   #NatureValley #Planet Basking in the Sun.... h...     en        es\n",
       "461   #NatureValley #Planet Serenity http://t.co/1pm...     en        es\n",
       "462   #NatureValley #Planet Sunset at the beach in B...     en        es\n",
       "468   #NatureValley #Planet Water curtain http://t.c...     en        es\n",
       "474   #NatureValley #Planet Summer Friends http://t....     en        es\n",
       "475   #NatureValley #Planet oleander http://t.co/hmi...     en        es\n",
       "477   #NatureValley #Planet Forest Trail http://t.co...     en        es\n",
       "485   #NatureValley #Planet Behind the scene http://...     en        es\n",
       "555   Trades that are rumored at 96% complete &gt; t...     en        fr\n",
       "572   RT @deepgreendesign: #Design ~ Researchers dev...     en        de\n",
       "725   Rezept Hund http://t.co/bg0chvkR4t  #hund #rezept     en        de\n",
       "730   Skipper somehow marked himself with a cross. �...     en        sv\n",
       "734   Can we go outside and play? #austrailanshepher...     en        de\n",
       "750   Havaneser Steckbrief http://t.co/4Jcaku80iJ #h...     en        de\n",
       "755   Norway in photos http://t.co/HbhZWPciMb Images...     en        de\n",
       "...                                                 ...    ...       ...\n",
       "9236  Milan by [at]annaluisairide Sorpresa del mio f...     it        es\n",
       "9238  Mi ILY!  #Love #movilgrafias #igers_ #madridbu...     it        es\n",
       "9247  La miglior risposta sempre??!! La nostra felic...     it        es\n",
       "9248  ...Tutti a tavola a mangiare! #nomnomnom #dinn...     it        en\n",
       "9250  Ah ma sono in ferie? 🎉❤️ #love #beauty #Vacat...     it        pt\n",
       "9253  Io &amp; Te ❤️ CucinaconStile Wedding #love #m...     it        uk\n",
       "9254  Salonicco 🏰⛵️#instamoment #picoftheday #smile...     it        es\n",
       "9267  Senza rivali😍❤️ #amedeoealessia #TemptantionI...     it        en\n",
       "9277  Buonanotte sognatori! #ordinaryseaman #goodnig...     it        zh\n",
       "9278  \"@  SofiMacaggi: #hermanos #love https://t.co/...     it        en\n",
       "9282  RT @PaleoAngelFood: Serenità by Antonio Amati....     it        en\n",
       "9284  InstaPic by silviasibilla: Giorni vacanzieri ❤...     it        zh\n",
       "9289  Aspettando le 24….🔝😍 @racoarianna @vavvatosc...     it        fr\n",
       "9292  #tortadejamon #Italy #Italo #italia #instahub ...     it        uk\n",
       "9301  L L #JessicaBiel #Love Jessica Biel in a 11\" x...     it        pt\n",
       "9303  RT @6382098: Vive l'#amitié,  vive l'#amour !!...     it        en\n",
       "9304            Buonanotte #love http://t.co/IiHev5gGTJ     it        en\n",
       "9305  Vive l'#amitié,  vive l'#amour !!!\\nViva #frie...     it        en\n",
       "9306  RT @ilariamujer: \"Elevano l'ordinario a straor...     it        en\n",
       "9307  Buonanotte fiorellino  #welcomeludovica #goodn...     it        pt\n",
       "9308  Se Dio esiste, mi ha dato tutto,\\nmi ha dato u...     it        es\n",
       "9309  #KCA #VoteJKT48ID ornellitanita:  #daddy #sist...     it        es\n",
       "9310  La Familia in the N.O\\n.\\n.\\n.\\n#neworleans #n...     it        es\n",
       "9312  Uconn Mens Soccer 2015. #family #brothers #Som...     it       und\n",
       "9320  #family #cousins #algarve by asfrancisco79 htt...     it       und\n",
       "9345  Joshua mamma e Gea!\\n#Catania #Sicily #Summer ...     it        ru\n",
       "9365  #again #sisamalino #trip #nature #officeouting...     it       und\n",
       "9378  Tatù Bracelets by Niente Paura\\nhttp://t.co/qS...     it       und\n",
       "9405  #Police brutality #Cop 4 #bones #face #broken ...     it        en\n",
       "9407  #Police brutality #happy #Cop #kill #death #in...     it        en\n",
       "\n",
       "[1170 rows x 3 columns]"
      ]
     },
     "execution_count": 137,
     "metadata": {},
     "output_type": "execute_result"
    }
   ],
   "source": [
    "predicted = pipeline.predict(tweets_df[\"TEXT\"])\n",
    "\n",
    "# Incorrectly classified\n",
    "incorrect_preds = tweets_df[(predicted != tweets_df['LANG'])]\n",
    "\n",
    "incorrect_df = pd.DataFrame({'actual': incorrect_preds['LANG'], \n",
    "                             'predicted': predicted[incorrect_preds.index],\n",
    "                             'TEXT': incorrect_preds['TEXT']})\n",
    "\n",
    "incorrect_df"
   ]
  },
  {
   "cell_type": "markdown",
   "metadata": {},
   "source": [
    "## Additional Practice\n",
    "In the datasets directory are two additional datasets you can use for additional pratice:\n",
    "\n",
    "- **/datasets/tweets_sentiment.csv** - Sentiment analysis\n",
    "\n",
    "- **/datasets/insults_train.csv** - [Kaggle dataset](https://www.kaggle.com/c/detecting-insults-in-social-commentary). _WARNING:_ This content is fairly provacative and contains very offensive and insensitive words. However, this type of problem is very common in the continuum of comment threads throughout the web.\n",
    "\n",
    "    - Check [this blog post](http://webmining.olariu.org/my-first-kaggle-competition-and-how-i-ranked/) by a guy who used SVM, a \"neural network\", a ton of cleaning, then placed 3rd in a Kaggle competition featuing this same dataset. Also see [this blog post](http://peekaboo-vision.blogspot.de/2012/09/recap-of-my-first-kaggle-competition.html) -- he got 6th place and found the best model was a simple Logistic Regression!\n",
    "\n",
    "#### Where Next?\n",
    "\n",
    "If you're interested in this type of problem, a great area to read up on is sentiment analysis.  This [Kaggle dataset](https://www.kaggle.com/c/sentiment-analysis-on-movie-reviews/data) is an excellent opportunity to practice more.  Also these whitepapers are great places to expand on this topic:\n",
    "\n",
    "- [Fast and accurate sentiment classification using an\n",
    "enhanced Naive Bayes model](http://arxiv.org/pdf/1305.6143.pdf) *Great overview!*\n",
    "- [Sarcasm Detection](http://www.aclweb.org/anthology/P15-2124)\n",
    "- [Making Computers Laugh:\n",
    "Investigations in Automatic Humor Recognition](http://www.aclweb.org/anthology/H05-1067)\n",
    "- [Modelling Sarcasm in Twitter, a Novel Approach](http://www.aclweb.org/anthology/W14-2609)\n",
    "- [RUNNING HEAD: NARCISSISM AND LIE DETECTION](https://deepblue.lib.umich.edu/bitstream/handle/2027.42/107345/zarins.finalthesis.pdf?sequence=1) *The study metrics are interesting*"
   ]
  },
  {
   "cell_type": "code",
   "execution_count": null,
   "metadata": {
    "collapsed": true
   },
   "outputs": [],
   "source": []
  }
 ],
 "metadata": {
  "anaconda-cloud": {},
  "kernelspec": {
   "display_name": "Python 2",
   "language": "python",
   "name": "python2"
  },
  "language_info": {
   "codemirror_mode": {
    "name": "ipython",
    "version": 2
   },
   "file_extension": ".py",
   "mimetype": "text/x-python",
   "name": "python",
   "nbconvert_exporter": "python",
   "pygments_lexer": "ipython2",
   "version": "2.7.11"
  }
 },
 "nbformat": 4,
 "nbformat_minor": 1
}
