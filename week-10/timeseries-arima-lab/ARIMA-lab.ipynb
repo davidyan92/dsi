{
 "cells": [
  {
   "cell_type": "markdown",
   "metadata": {},
   "source": [
    "<img src=\"http://imgur.com/1ZcRyrc.png\" style=\"float: left; margin: 20px; height: 55px\">\n",
    "\n",
    "# ARIMA Lab\n",
    "\n",
    "_Authors: Joseph Nelson (DC)_\n",
    "\n",
    "---\n",
    "\n",
    "## Introduction\n",
    "\n",
    "> ***Note:*** _This can be a pair programming activity or done independently._\n",
    "\n",
    "The most common application for AR, ARMA, and ARIMA models is inventory planning. Planning inventory for a small shop can be difficult enough, but you've just been hired to plan inventory for a _big_ store - Walmart\n",
    "\n",
    "In this lab, you will be analyzing weekly Walmart sales data over a two year period from 2010 to 2012. The data is separated by store and by department, but you should focus on analyzing one store for simplicity. Your supervisor has set out the following goals for this project:\n",
    "\n",
    "1. Record any observed trends in the data.\n",
    "1. Produce a trained model to predict future sales numbers.\n",
    "1. Include useful AND COMMENT ON how graphs (ACF, PACF) impact your modelling decisions throughout your notebook.\n",
    "\n",
    "Try your best to tune your model. It can be difficult, but don't worry - timeseries analysis is just a difficult and specialized topic.\n",
    "\n",
    "## Exercise\n",
    "---\n",
    "\n",
    "#### Requirements\n",
    "\n",
    "- Assemble observations and graphs as well as timeseries models in a notebook.\n",
    "\n",
    "\n",
    "#### Starter code\n",
    "\n",
    "To setup the data:\n",
    "\n",
    "```python\n",
    "import pandas as pd\n",
    "import numpy as np\n",
    "\n",
    "%matplotlib inline\n",
    "\n",
    "data = pd.read_csv('./datasets/train.csv')\n",
    "data.set_index('Date', inplace=True)\n",
    "data.head()\n",
    "```\n",
    "\n",
    "#### Deliverable\n",
    "\n",
    "**Look back at the readme from wednesday's lecture on timeseries for good information about these models and acf/pacf plots!**\n",
    "\n",
    "1. Filter the dataframe to Store 1 sales and aggregate over departments to compute the total sales per store.\n",
    "- Plot the rolling_mean for `Weekly_Sales`. What general trends do you observe?\n",
    "- Compute the 1, 2, 52 autocorrelations for `Weekly_Sales` and create an autocorrelation and partial autocorrelation plot.\n",
    "- *BONUS:* What do the acf() and pacf() plots say about the type of model you want to build?\n",
    "- Split the weekly sales data in a training and test set - using 75% of the data for training.\n",
    "- \"Difference\" the data by converting the sales into change in sales (diff function is convenient for doing this.)\n",
    "- Create an AR(1) model on the training data and compute the mean absolute error of the predictions. How effective is this model?\n",
    "- Plot the residuals - where are their significant errors?\n",
    "- Compute and AR(2) model and an ARMA(2, 2) model - does this improve your mean absolute error on the held out set?\n",
    "- Assemble your findings, including any useful graphs.\n",
    "\n",
    "#### Additional Resources\n",
    "\n",
    "1. [ARMA Example](http://statsmodels.sourceforge.net/devel/examples/notebooks/generated/tsa_arma.html)\n",
    "2. [ARMA Models for TSA](https://www.quantstart.com/articles/Autoregressive-Moving-Average-ARMA-p-q-Models-for-Time-Series-Analysis-Part-1)\n"
   ]
  },
  {
   "cell_type": "code",
   "execution_count": null,
   "metadata": {
    "collapsed": true
   },
   "outputs": [],
   "source": []
  }
 ],
 "metadata": {
  "kernelspec": {
   "display_name": "Python 2",
   "language": "python",
   "name": "python2"
  },
  "language_info": {
   "codemirror_mode": {
    "name": "ipython",
    "version": 2
   },
   "file_extension": ".py",
   "mimetype": "text/x-python",
   "name": "python",
   "nbconvert_exporter": "python",
   "pygments_lexer": "ipython2",
   "version": "2.7.12"
  }
 },
 "nbformat": 4,
 "nbformat_minor": 2
}
