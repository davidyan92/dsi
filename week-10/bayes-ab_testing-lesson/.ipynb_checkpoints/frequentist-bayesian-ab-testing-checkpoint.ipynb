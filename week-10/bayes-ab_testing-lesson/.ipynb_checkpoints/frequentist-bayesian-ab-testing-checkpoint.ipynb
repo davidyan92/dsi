{
 "cells": [
  {
   "cell_type": "markdown",
   "metadata": {},
   "source": [
    "<img src=\"http://imgur.com/1ZcRyrc.png\" style=\"float: left; margin: 20px; height: 55px\">\n",
    "\n",
    "# Frequentist and Bayesian A/B Testing\n",
    "\n",
    "_Authors: Kiefer Katovich (SF), Joseph Nelson (DC)_\n",
    "\n",
    "---\n",
    "\n",
    "### Learning Objectives\n",
    "- Review the Frequentist methods for statistical testing\n",
    "- Write a function to perform a z-test for an A/B test\n",
    "- Understand how to evaluate a split test with Bayesian methods\n",
    "- Use pymc3 to evaluate a split test with 2 arms\n",
    "- Use pymc3 to evaluate a split test with 3 arms\n",
    "- Compare pymc3 and sampling from beta distributions for evaluating split test results"
   ]
  },
  {
   "cell_type": "markdown",
   "metadata": {},
   "source": [
    "### Lesson Guide\n",
    "- [A/B tests (split tests)](#ab-tests)\n",
    "- [Frequentist A/B test evaluation](#frequentist)\n",
    "    - [Z-test function to evaluate an A/B test](#st-func)\n",
    "- [Bayesian split test analysis](#bayes)\n",
    "- [Load the fitness app data](#data)\n",
    "    - [Examine the split test arm \"schedule\"](#schedule)\n",
    "- [Model conversion rates through day 5 with `pymc3`](#day5)\n",
    "    - [Set up a `pymc3` model with uniform priors for the probabilities of conversion for arms A and B](#day5-model)\n",
    "    - [Set up `pm.Bernoulli` distributions to model conversions for arms A and B](#day5-bernoulli)\n",
    "    - [Fit the model](#day5-fit)\n",
    "- [Independent practice: build a `pymc3` model through day 11 for the A/B/C test](#ind-practice)\n",
    "- [Sample from beta distributions to evaluate the split test](#beta)\n",
    "    - [Create beta distributions representing the conversions vs. failures for each arm for *all* days](#bdists)\n",
    "    - [Calculate AvB, AvC, and BvC using sampling from the beta distributions](#beta-sampling)\n",
    "    - [Validate that these reults are the same as a `pymc3` model](#beta-vs-pymc3)\n",
    "- [Additional resources](#resources)"
   ]
  },
  {
   "cell_type": "code",
   "execution_count": 1,
   "metadata": {
    "collapsed": true
   },
   "outputs": [],
   "source": [
    "import matplotlib.pyplot as plt\n",
    "import numpy as np\n",
    "import pandas as pd\n",
    "import seaborn as sns\n",
    "import scipy.stats as stats\n",
    "\n",
    "sns.set_style('whitegrid')\n",
    "\n",
    "%matplotlib inline\n",
    "%config InlineBackend.figure_format = 'retina'"
   ]
  },
  {
   "cell_type": "markdown",
   "metadata": {},
   "source": [
    "<a id='ab-tests'></a>\n",
    "## A/B tests (split tests)\n",
    "---\n",
    "\n",
    "For every product you use (espcially tech products) it is likely that you are part of a split test. Split tests are incrementally different versions of a product that are being tested on randomly selected users and evaluated on a performance metric. They are a great way to assess whether a proposed change will be beneficial, detrimental, or have no effect."
   ]
  },
  {
   "cell_type": "markdown",
   "metadata": {},
   "source": [
    "<a id='frequentist'></a>\n",
    "## Frequentist A/B test evaluation\n",
    "---\n",
    "\n",
    "The t-test is a classic Frequentist test for a significant difference in means between groups.\n",
    "\n",
    "Below we can generate some fake data and perform a t-test for the difference in means."
   ]
  },
  {
   "cell_type": "code",
   "execution_count": 2,
   "metadata": {},
   "outputs": [],
   "source": [
    "# # Generate data\n",
    "# a = sorted(np.random.randn(100))\n",
    "# b = sorted(np.random.randn(1) * np.random.randn(80))\n",
    "\n",
    "# # Plot distribution of A\n",
    "# fit = stats.norm.pdf(a, np.mean(a), np.std(a))\n",
    "# plt.plot(a, fit,'-o')\n",
    "# plt.hist(a, normed=True) \n",
    "# plt.title('Group A')\n",
    "# plt.show()\n",
    "\n",
    "# # Plot distribution of B\n",
    "# fit = stats.norm.pdf(b, np.mean(b), np.std(b))\n",
    "# plt.plot(b, fit,'-o')\n",
    "# plt.hist(b, normed=True) \n",
    "# plt.title('Group B')\n",
    "# plt.show()\n",
    "\n",
    "# # Perform T-test\n",
    "# print stats.ttest_ind(a, b)\n"
   ]
  },
  {
   "cell_type": "markdown",
   "metadata": {},
   "source": [
    "<a id='st-func'></a>\n",
    "### Z-test function to evaluate an A/B test\n",
    "\n",
    "In split tests (A/B tests) we successes and failures for each \"arm\". We are interested in calculating whether the mean difference in rates between the two arms is significantly different. If it is, then we have reason to \"winner\" the arm of the test that has a higher conversion rate.\n",
    "\n",
    "Below we can write a function to manually perform a z-test given successes out of a certain number of observations for each of our two arms. We can test it out on some fake data:"
   ]
  },
  {
   "cell_type": "code",
   "execution_count": 3,
   "metadata": {},
   "outputs": [],
   "source": [
    "# null hypothesis: the samples have identical averages\n",
    "# if p < 0.05, reject null hypothesis that the two samples are identical\n",
    "\n",
    "#\n",
    "# WRITE Z-TEST FUNCTION HERE\n",
    "#\n",
    "\n",
    "# Do a test with fake data:\n",
    "\n",
    "control_observations = 3141 #n1\n",
    "control_successes = 1904 # x1\n",
    "test_observations = 3241 #n2\n",
    "test_successes = 2134 #x2\n",
    "\n",
    "# ztest(control_successes, control_observations, test_successes, test_observations, one_tailed=False)"
   ]
  },
  {
   "cell_type": "markdown",
   "metadata": {},
   "source": [
    "<a id='bayes'></a>\n",
    "## Bayesian split test analysis\n",
    "---\n",
    "\n",
    "One common application of Bayesian analysis in industry is the analysis of split tests. We can use `pymc3` to perform split test analysis or do the process manually by sampling from posterior distributions for the arm conversion rates. \n",
    "\n",
    "<a id='data'></a>\n",
    "## Load the fitness app data\n",
    "---\n",
    "\n",
    "The dataset below contains information on user \"conversions\" on a fitness app on different \"arms\" of a split test. \n",
    "\n",
    "[A \"conversion\"](https://en.wikipedia.org/wiki/Conversion_marketing) is jargon for whether or not a user performed a desired action or not, typically a purchase.\n",
    "\n",
    "\"Arms\" are the jargon for the different versions of a product in a currently running split test. Split tests are also commonly referred to as [A/B tests](https://en.wikipedia.org/wiki/A/B_testing), where A and B denote arms in the test.\n",
    "\n",
    "**The data has 6 columns:**\n",
    "\n",
    "    arm: the version of the app this user was randomly assigned to\n",
    "    gender: male/female\n",
    "    age: age bins, one of 20-30, 30-40, 40-50\n",
    "    day: the day (total of 21 days)\n",
    "    fitness: the user's self reported fitness level from -5 to 5\n",
    "    converted: 1 if the user purchased the product, 0 if not\n",
    "    \n",
    "Each row is a unique user. "
   ]
  },
  {
   "cell_type": "code",
   "execution_count": 4,
   "metadata": {
    "collapsed": true
   },
   "outputs": [],
   "source": [
    "data = pd.read_csv('./datasets/split_test_data.csv')\n",
    "data['male'] = data.gender.map(lambda x: 1 if x == 'male' else 0)"
   ]
  },
  {
   "cell_type": "markdown",
   "metadata": {},
   "source": [
    "<a id='schedule'></a>\n",
    "### Examine the split test arm schedule\n",
    "\n",
    "When a new arm is introduced into a split test, it is generally tested at a low percentage of users initially before assignment becomes balanced between the arms. This ensures that if something is terribly wrong with one of the arms it does not ruin the experience for too many potential customers.\n",
    "\n",
    "Find the counts assigned to each split test arm by day."
   ]
  },
  {
   "cell_type": "code",
   "execution_count": 5,
   "metadata": {
    "collapsed": true
   },
   "outputs": [],
   "source": [
    "# A:"
   ]
  },
  {
   "cell_type": "markdown",
   "metadata": {},
   "source": [
    "**Look at mean conversion rate overall and by arm.**"
   ]
  },
  {
   "cell_type": "code",
   "execution_count": 6,
   "metadata": {
    "collapsed": true
   },
   "outputs": [],
   "source": [
    "# A:"
   ]
  },
  {
   "cell_type": "markdown",
   "metadata": {},
   "source": [
    "**Look at overall conversion rate differences along age, gender, and fitness.**"
   ]
  },
  {
   "cell_type": "code",
   "execution_count": 7,
   "metadata": {
    "collapsed": true
   },
   "outputs": [],
   "source": [
    "# A:"
   ]
  },
  {
   "cell_type": "markdown",
   "metadata": {},
   "source": [
    "<a id='day5'></a>\n",
    "## Model conversion rates through day 5 with `pymc3`\n",
    "---\n",
    "\n",
    "We will start by just modeling the conversion rate distributions for arms A and B through day 5. At day 5, arm C has still not been introduced yet and so there are just 2 arms.\n",
    "\n",
    "**Subset the data to the first 5 days**"
   ]
  },
  {
   "cell_type": "code",
   "execution_count": 8,
   "metadata": {
    "collapsed": true
   },
   "outputs": [],
   "source": [
    "import pymc3 as pm"
   ]
  },
  {
   "cell_type": "code",
   "execution_count": 9,
   "metadata": {
    "collapsed": true
   },
   "outputs": [],
   "source": [
    "# A:"
   ]
  },
  {
   "cell_type": "markdown",
   "metadata": {},
   "source": [
    "<a id='day5-model'></a>\n",
    "### Set up a `pymc3` model and uniform priors for the probabilities of conversion for arms A and B\n",
    "\n",
    "Recall that `pymc3` uses the `with ...` syntax for defining models. The first step in setting up a new model is to define the model as the \"context\" like so:\n",
    "\n",
    ">```python\n",
    "with pm.Model() as day5_model:\n",
    "    #\n",
    "```\n",
    "\n",
    "We are going to model the _probability distributions for conversion rates for arms A and B._ As always with Bayesian statistics, we need to define prior distributions for our belief about these probabilities/rates of conversion per arm.\n",
    "\n",
    "Let's say we have no belief whatsoever about rates, and so we will set an uninformative, flat priors over probabilities from 0 to 1 for both arms. This is equivalent to saying that we believe all conversion rates to be equally likely for both arms.\n",
    "\n",
    "The syntax for setting up this flat prior is:\n",
    "\n",
    ">```python\n",
    "arm_A_prior = pm.Uniform('A_prior', lower=0, upper=1)\n",
    "```\n",
    "\n",
    "Set up the priors for both arms inside the `with ...` model block."
   ]
  },
  {
   "cell_type": "code",
   "execution_count": 10,
   "metadata": {
    "collapsed": true
   },
   "outputs": [],
   "source": [
    "# A:"
   ]
  },
  {
   "cell_type": "markdown",
   "metadata": {},
   "source": [
    "<a id='day5-bernoulli'></a>\n",
    "### Set up `pm.Bernoulli` distributions to model conversions for arms A and B\n",
    "\n",
    "Now that you've initialized your model, your `with` statements will be\n",
    "\n",
    ">```python\n",
    "with day5_model:\n",
    "    #\n",
    "```\n",
    "\n",
    "Be careful not to re-define the model with `pm.Model()` or it will wipe the uniform priors you set before!\n",
    "\n",
    "We are now going to set up the \"likelihood\" portion of the model. This is going to model the $P(data\\;|\\;\\theta)$ part of Bayes theorem.\n",
    "\n",
    "Our conversions are represented by a vector of 1s and 0s denoting whether or not the user converted or not. This is known as a \"Bernoulli\" process and pymc3 has an approprite function to handle it:\n",
    "\n",
    ">```python\n",
    "A_conversions = pm.Bernoulli('A_conversions', p=arm_A_prior, observed=arm_A_conversions)\n",
    "```\n",
    "\n",
    "`p=` is set to the prior for the arm that you defined in the last section. \n",
    "\n",
    "`observed=` should be set to the `converted` values for that arm specifically in the data.\n",
    "\n",
    "By giving it an `observed` parameter, we are telling pymc3 that we want this to evaluate the likelihood of our data (the conversions) against models represented by the `p=` probability argument. We assign `p=` to be our prior belief about conversion rates for that arm because we want to update this belief (convert to posterior) based on the conversion data we have observed for that arm."
   ]
  },
  {
   "cell_type": "code",
   "execution_count": 11,
   "metadata": {
    "collapsed": true
   },
   "outputs": [],
   "source": [
    "# A:"
   ]
  },
  {
   "cell_type": "markdown",
   "metadata": {},
   "source": [
    "<a id='day5-fit'></a>\n",
    "### Fit the model\n",
    "\n",
    "Now that we've set up the prior distributions and likelihoods, we can actually fit the model.\n",
    "\n",
    "Below is code that will run the sampling procedure to find the posteriors:\n",
    "\n",
    ">```python\n",
    "with day5_model:\n",
    "    # obtain decent starting values via the find_MAP() function:\n",
    "    start = pm.find_MAP()\n",
    "    # construct the \"trace\" variable that holds samples for all of our distributions:\n",
    "    trace = pm.sample(50000, start=start)\n",
    "```\n",
    "\n",
    "Again you use the context `with day5_model:` to run code for your model.\n",
    "\n",
    "`start = pm.find_MAP()` will try to find a good starting point for the sampling process. This means that your model will converge on the \"likely\" area much faster (though it makes the fitting slower initially).\n",
    "\n",
    "`trace = pm.sample(50000, start=start)` uses the sampling method in `pymc3` to perform 50,000 sampling iterations. This will automatically assign the NUTS sampler for you. The dataset is small so the speed shouldn't be too bad.\n",
    "\n",
    "When this completes, the `trace` variable now contains the posterior samples for the distributions we specified while constructing the model.\n",
    "\n",
    ">```python\n",
    "# We defined our arm A prior distribution to be uniform and named it 'arm_A_prior'. \n",
    "# The pm.sample() procedure converted this into our posterior belief for the rate\n",
    "# of conversions in arm A. You can access these posterior samples using the name\n",
    "# you gave the variable when you created it:\n",
    "#\n",
    "trace['arm_A_prior']\n",
    "#\n",
    "# this will be a vector of values that are different potential rates of conversion\n",
    "# for arm A. A histogram of these rates defines, roughly, the posterior probability\n",
    "# distribution for the arm A rates after we consider the data we have collected.\n",
    "```"
   ]
  },
  {
   "cell_type": "code",
   "execution_count": 12,
   "metadata": {
    "collapsed": true
   },
   "outputs": [],
   "source": [
    "# A:"
   ]
  },
  {
   "cell_type": "markdown",
   "metadata": {},
   "source": [
    "<a id='ind'></a>\n",
    "## Independent practice: build a model through day 11 for an A/B/C test\n",
    "---\n",
    "\n",
    "Subset the data up through day 11. You will notice now that there are 3 different arms: A, B, and C.\n",
    "\n",
    "You will need to add in the third arm into the model.\n",
    "\n",
    "Additionally, calculate 3 \"deterministic\" variables that look at differences between the three arms:\n",
    "\n",
    "- `A` vs. `B`\n",
    "- `A` vs. `C`\n",
    "- `B` vs. `C`\n",
    "\n",
    "What action would you take given these results?"
   ]
  },
  {
   "cell_type": "code",
   "execution_count": 13,
   "metadata": {
    "collapsed": true
   },
   "outputs": [],
   "source": [
    "# A:"
   ]
  },
  {
   "cell_type": "markdown",
   "metadata": {},
   "source": [
    "<a id='beta'></a>\n",
    "## Sample from beta distributions to evaluate the split test\n",
    "---\n",
    "\n",
    "Our arms are represented as Bernoulli distributed random variables (binary outcome conversion vs. failure). Our prior distributions model the probability of different rates for the arms. \n",
    "\n",
    "> **Note:** a uniform distribution between 0 and 1 is equivalent to a Beta(1,1), or in other words a Beta distribution with 0 successes and 0 failures.\n",
    "\n",
    "We know that the Beta distribution is a conjugate prior to the binomial likelihood, and therefore the posterior distributions for our arms are also beta distributions.\n",
    "\n",
    "<a id='bdists'></a>\n",
    "### Create beta distributions representing the conversions vs. failures for each arm for *all* days.\n",
    "\n",
    "The beta distributions will be parameterized with alpha and beta, which are equivalent to successes + 1 and failures + 1 respectively."
   ]
  },
  {
   "cell_type": "code",
   "execution_count": 14,
   "metadata": {
    "collapsed": true
   },
   "outputs": [],
   "source": [
    "# A:"
   ]
  },
  {
   "cell_type": "markdown",
   "metadata": {},
   "source": [
    "**Plot the beta distributions across the 0-0.4 range of rates.**"
   ]
  },
  {
   "cell_type": "code",
   "execution_count": 15,
   "metadata": {
    "collapsed": true
   },
   "outputs": [],
   "source": [
    "# A:"
   ]
  },
  {
   "cell_type": "markdown",
   "metadata": {},
   "source": [
    "<a id='beta-sampling'></a>\n",
    "### Calculate AvB, AvC, and BvC using sampling from the beta distribution\n",
    "\n",
    "The beta distributions for the arm are our posterior distributions for the conversion rate of each arm given the observed data.\n",
    "\n",
    "We can calculate the distributions of differences in rates between the arms using sampling. The procedure is:\n",
    "1. Set up a certain number of iterations (1000, for example)\n",
    "2. For each iteration, take a random draw from each beta distribution\n",
    "3. Calculate the difference between the sampled rates between the arms\n",
    "4. Store the differences in lists\n",
    "\n",
    "Then you can plot these distributions of differences."
   ]
  },
  {
   "cell_type": "code",
   "execution_count": 16,
   "metadata": {
    "collapsed": true
   },
   "outputs": [],
   "source": [
    "# A:"
   ]
  },
  {
   "cell_type": "markdown",
   "metadata": {},
   "source": [
    "<a id='beta-vs-pymc3'></a>\n",
    "### Validate that these results are the same as a `pymc3` model\n",
    "\n",
    "You can just take the model you built for day 11 and adjust it to use all the days. Plot the posterior distributions and validate that the results are (almost) the same as you get from sampling from the beta distributions."
   ]
  },
  {
   "cell_type": "code",
   "execution_count": 17,
   "metadata": {
    "collapsed": true
   },
   "outputs": [],
   "source": [
    "# A:"
   ]
  },
  {
   "cell_type": "markdown",
   "metadata": {},
   "source": [
    "<a id='resources'></a>\n",
    "## Additional resources\n",
    "---\n",
    "+ [Obama Fundraising](https://blog.optimizely.com/2010/11/29/how-obama-raised-60-million-by-running-a-simple-experiment/) example\n",
    "+ [Social Media Marketing](https://vwo.com/blog/amd-3600-social-sharing-increase) example\n",
    "+ [Google Multi-Armed Bandit](https://support.google.com/analytics/answer/2844870?hl=en) explanation\n",
    "+ [Designing an AB Test](http://www.win-vector.com/blog/2015/06/designing-ab-tests/)\n",
    "+ [AB Testing Considerations](http://insightdatascience.com/blog/ab_testing_statistics.html)\n",
    "+ Khan Academy [T-Test vs Z-Tests](https://www.khanacademy.org/math/probability/statistics-inferential/hypothesis-testing/v/z-statistics-vs-t-statistics)\n",
    "+ Khan Academy [T-Tests and Confidence Intervals](https://www.khanacademy.org/math/probability/statistics-inferential/hypothesis-testing/v/t-statistic-confidence-interval)\n",
    "+ [NerdWallet's discussion of improving A/B tests](https://assets.nerdwallet.com/blog/wp-content/uploads/2016/05/ab_stats_blog.pdf)\n",
    "+ Tinder's [example](https://www.wired.com/2016/10/tinder-taps-inner-vegas-guess-people-will-swipe-right/) on concurrent A/B testing for smart photos"
   ]
  }
 ],
 "metadata": {
  "kernelspec": {
   "display_name": "Python 2",
   "language": "python",
   "name": "python2"
  },
  "language_info": {
   "codemirror_mode": {
    "name": "ipython",
    "version": 2
   },
   "file_extension": ".py",
   "mimetype": "text/x-python",
   "name": "python",
   "nbconvert_exporter": "python",
   "pygments_lexer": "ipython2",
   "version": "2.7.11"
  }
 },
 "nbformat": 4,
 "nbformat_minor": 2
}
