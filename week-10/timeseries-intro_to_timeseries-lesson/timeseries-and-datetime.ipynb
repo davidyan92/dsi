{
 "cells": [
  {
   "cell_type": "markdown",
   "metadata": {},
   "source": [
    "<img src=\"http://imgur.com/1ZcRyrc.png\" style=\"float: left; margin: 20px; height: 55px\">\n",
    "\n",
    "# Timeseries and Datetime\n",
    "\n",
    "_Authors: Samuel Stack (DC)_\n",
    "\n",
    "---\n",
    "\n",
    "### Learning Objectives\n",
    "- Use the datetime library to represent dates as objects\n",
    "- Learn how to calculate time differences with timedelta\n",
    "- Use datetime objects in pandas on the UFO dataset"
   ]
  },
  {
   "cell_type": "markdown",
   "metadata": {},
   "source": [
    "### Lesson Guide\n",
    "- [The `datetime` library](#the-datetime-library)\n",
    "- [`datetime` object](#datetime-object)\n",
    "- [`timedelta`](#timedelta)\n",
    "- [Load the UFO reports data](#load-the-ufo-reports-data)\n",
    "- [Pandas' `pd.datetime`](#pandas-pddatetime)\n",
    "\t- [The `.dt` attribute](#the-dt-attribute)\n",
    "- [Time stamps](#time-stamps)\n",
    "- [Additional resources](#additional-resources)\n"
   ]
  },
  {
   "cell_type": "markdown",
   "metadata": {},
   "source": [
    "<a id=\"the-datetime-library\"></a>\n",
    "## The `datetime` library\n",
    "---\n",
    "\n",
    "The python library `datetime` is great for dealing with time-related data. Pandas being Pandas has incorporated this `datetime` library into its own datetime series and objects.\n",
    "\n",
    "We're going to review these data types and learn a little more about them.\n",
    "- Datetime Object\n",
    "- Datetime Series\n",
    "- Time Stamp\n",
    "- Time Delta\n"
   ]
  },
  {
   "cell_type": "markdown",
   "metadata": {},
   "source": [
    "<a id=\"datetime-object\"></a>\n",
    "## `datetime` object\n",
    "---\n",
    "\n",
    "Below we can load in the datetime library. Using this we can create a datetime object by entering in the different components of the date as arguments."
   ]
  },
  {
   "cell_type": "code",
   "execution_count": 1,
   "metadata": {
    "collapsed": true
   },
   "outputs": [],
   "source": [
    "# The Date time library is something you should already have because of Anaconda.\n",
    "from datetime import datetime\n",
    "# "
   ]
  },
  {
   "cell_type": "markdown",
   "metadata": {},
   "source": [
    "The components of the date are accessible via attributes of the object."
   ]
  },
  {
   "cell_type": "code",
   "execution_count": 2,
   "metadata": {
    "collapsed": false
   },
   "outputs": [],
   "source": [
    "# A:"
   ]
  },
  {
   "cell_type": "markdown",
   "metadata": {},
   "source": [
    "<a id=\"timedelta\"></a>\n",
    "## `timedelta`\n",
    "---\n",
    "\n",
    "Say we want to add time to a date or subtract time.  Maybe we are using time as an index and we want to get everything that happened a week before a specific observation.\n",
    "\n",
    "We can use a timedelta object to shift (do arithmatic, more or less) a datetime object. Here's an example:\n"
   ]
  },
  {
   "cell_type": "code",
   "execution_count": 3,
   "metadata": {
    "collapsed": false
   },
   "outputs": [],
   "source": [
    "# Import timedelta from datetime library\n",
    "from datetime import timedelta\n",
    "\n",
    "# A:"
   ]
  },
  {
   "cell_type": "markdown",
   "metadata": {},
   "source": [
    "The `.now()` function of datetime will give you the datetime object of this very moment."
   ]
  },
  {
   "cell_type": "code",
   "execution_count": 4,
   "metadata": {
    "collapsed": false
   },
   "outputs": [],
   "source": [
    "# A:"
   ]
  },
  {
   "cell_type": "markdown",
   "metadata": {},
   "source": [
    "The current time is particularly useful when using timedeltas."
   ]
  },
  {
   "cell_type": "code",
   "execution_count": 5,
   "metadata": {
    "collapsed": false
   },
   "outputs": [],
   "source": [
    "# A:"
   ]
  },
  {
   "cell_type": "markdown",
   "metadata": {},
   "source": [
    "> _Note: The largest value a Time Delta can hold is 'Days'.  I.e. you can't say your want you an offset to be 2 years, 44 days and 12 hours.  You would have to manually convert the time of those years to be represented in days._\n",
    "\n",
    "You can read more about that here in the timedeltas category.\n",
    "https://docs.python.org/2/library/datetime.html"
   ]
  },
  {
   "cell_type": "markdown",
   "metadata": {},
   "source": [
    "<a id=\"load-the-ufo-reports-data\"></a>\n",
    "## Load the UFO reports data\n",
    "---\n",
    "\n",
    "We can practice using datetime functions and objects with the UFO reports data."
   ]
  },
  {
   "cell_type": "code",
   "execution_count": 6,
   "metadata": {
    "collapsed": false
   },
   "outputs": [],
   "source": [
    "# Get a dataset from the internets\n",
    "import pandas as pd\n",
    "ufo = pd.read_csv('http://bit.ly/uforeports')"
   ]
  },
  {
   "cell_type": "code",
   "execution_count": 7,
   "metadata": {
    "collapsed": false
   },
   "outputs": [],
   "source": [
    "# A:"
   ]
  },
  {
   "cell_type": "markdown",
   "metadata": {},
   "source": [
    "The \"Time\" column starts off as just an object."
   ]
  },
  {
   "cell_type": "code",
   "execution_count": 8,
   "metadata": {
    "collapsed": false
   },
   "outputs": [],
   "source": [
    "# A:"
   ]
  },
  {
   "cell_type": "markdown",
   "metadata": {},
   "source": [
    "<a id=\"pandas-pddatetime\"></a>\n",
    "## Pandas' `pd.datetime`\n",
    "---\n",
    "\n",
    "When using pandas we can convert columns of data from string objects into date objects with the `pd.to_datetime` function.\n",
    "\n",
    "> **Note**: dates can be tricky to parse as they come in many formats. The `to_datetime` function comes with a keyword argument `infer_datetime_format` that can be particularly useful to parse dates."
   ]
  },
  {
   "cell_type": "code",
   "execution_count": 9,
   "metadata": {
    "collapsed": false
   },
   "outputs": [],
   "source": [
    "# A:"
   ]
  },
  {
   "cell_type": "markdown",
   "metadata": {},
   "source": [
    "<a id=\"the-dt-attribute\"></a>\n",
    "### The `.dt` attribute\n",
    "\n",
    "Pandas datetime columns have a `.dt` attribute that allows you to access attributes specific to the dates. For example:\n",
    "```python\n",
    "ufo.Time.dt.day\n",
    "ufo.Time.dt.month\n",
    "ufo.Time.dt.year\n",
    "ufo.Time.dt.weekday_name\n",
    "```\n",
    "\n",
    "And many more."
   ]
  },
  {
   "cell_type": "code",
   "execution_count": 10,
   "metadata": {
    "collapsed": false
   },
   "outputs": [],
   "source": [
    "# A:"
   ]
  },
  {
   "cell_type": "markdown",
   "metadata": {},
   "source": [
    "<a id=\"time-stamps\"></a>\n",
    "## Time stamps\n",
    "---\n",
    "\n",
    "Timestamps are useful objects for comparisons. You can create a timestamp object with the `pd.to_datetime` function and a string specifying the date. These timestamps are useful when you need to do logical filtering with dates."
   ]
  },
  {
   "cell_type": "code",
   "execution_count": 11,
   "metadata": {
    "collapsed": false
   },
   "outputs": [],
   "source": [
    "# A:"
   ]
  },
  {
   "cell_type": "code",
   "execution_count": 12,
   "metadata": {
    "collapsed": false
   },
   "outputs": [],
   "source": [
    "# Use that Time Stamp for a comparison."
   ]
  },
  {
   "cell_type": "markdown",
   "metadata": {},
   "source": [
    "<a id=\"additional-resources\"></a>\n",
    "## Additional resources\n",
    "---\n",
    "- search for .dt. on http://pandas.pydata.org/pandas-docs/stable/api.html for more information about pandas Datetime.\n",
    "- [Here is an example of a GCT executed on deconstructed data on Sam Stack's capstone project.](https://github.com/samuel-stack/Portfolio/blob/master/Moving%20Violations%20VS.%20Speed%20Traps/Granger%20Causality%20test%20.ipynb)"
   ]
  }
 ],
 "metadata": {
  "anaconda-cloud": {},
  "kernelspec": {
   "display_name": "Python 2",
   "language": "python",
   "name": "python2"
  },
  "language_info": {
   "codemirror_mode": {
    "name": "ipython",
    "version": 2
   },
   "file_extension": ".py",
   "mimetype": "text/x-python",
   "name": "python",
   "nbconvert_exporter": "python",
   "pygments_lexer": "ipython2",
   "version": "2.7.12"
  }
 },
 "nbformat": 4,
 "nbformat_minor": 1
}
