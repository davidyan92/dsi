{
 "cells": [
  {
   "cell_type": "markdown",
   "metadata": {},
   "source": [
    "<img src=\"http://imgur.com/1ZcRyrc.png\" style=\"float: left; margin: 20px; height: 55px\">\n",
    "\n",
    "# Maximum Likelihood Estimation\n",
    "\n",
    "_Authors: Matt Brems (DC)_\n",
    "\n",
    "---\n",
    "\n",
    "### Learning Objectives\n",
    "- Learn about \"point estimates\"\n",
    "- Overview some methods to find point estimates\n",
    "- Describe the Likelihood function\n",
    "- Describe the Maximum Likelihood Estimator (MLE)\n",
    "- Understand the properties of MLEs"
   ]
  },
  {
   "cell_type": "markdown",
   "metadata": {},
   "source": [
    "### Lesson Guide\n",
    "- [Point estimation](#point)\n",
    "- [Methods of point estimation](#methods)\n",
    "- [Likelihood](#likelihood)\n",
    "- [Find the Maximum Likelihood Estimator](#find-mle)\n",
    "- [Properties of MLEs](#properties)"
   ]
  },
  {
   "cell_type": "markdown",
   "metadata": {},
   "source": [
    "<a id='point'></a>\n",
    "## Point estimation\n",
    "---\n",
    "\n",
    "An **estimator** is a function of a sample (this can also also called a *statistic*).\n",
    "\n",
    "Example: estimator of the population mean $\\mu$:\n",
    "\n",
    "### $$ \\hat{X} = \\frac{\\sum_{i=1}^N X_i}{N} $$\n",
    "\n",
    "An **estimate** is the realized value of an estimator given a particular sample.\n",
    "\n",
    "Example: an estimate of the population mean is $\\mu$ is the realized value $\\hat{X} = 6$\n",
    "\n",
    "**\"Point estimation\" describes the process by which we develop estimators (statistics) to estimate parameters.**\n"
   ]
  },
  {
   "cell_type": "markdown",
   "metadata": {},
   "source": [
    "<a id='methods'></a>\n",
    "## Methods of point estimation\n",
    "---\n",
    "\n",
    "### Sometimes we have intuitive estimators\n",
    "\n",
    "Sometimes we have really intuitive estimators:\n",
    "- When the population mean can be estimated by the sample mean.\n",
    "- When the population standard deviation can be estimated by the sample standard deviation.\n",
    "- When the population $\\beta_0$ for a regression model can be estimated by $\\hat{\\beta}_0$\n",
    "\n",
    "### Methods for when estimators are not intuitive\n",
    "\n",
    "**Method of moments**\n",
    "\n",
    "> Process: Find sample moments, find population moments, equate them, solve equations.\n",
    "\n",
    "### $$ \\mu_1 = \\int_{-\\infty}^\\infty x f(x) dx \\\\\n",
    "\\mu_n = \\int_{-\\infty}^\\infty (x - \\mu_1)^n f(x) dx$$\n",
    "\n",
    "**Bayes estimators**\n",
    "\n",
    "> Process: find the posterior distribution of $\\theta$, use $E[\\theta|y]$ or something similar\n",
    "\n",
    "**Maximum likelihood estimation**\n",
    "\n",
    "**Expectation maximization algorithm (EM)**\n",
    "\n",
    "> Replaces MLE method with easier maximizations whose limit is the true answer.\n"
   ]
  },
  {
   "cell_type": "markdown",
   "metadata": {},
   "source": [
    "<a id='likelihood'></a>\n",
    "## Likelihood\n",
    "---\n",
    "\n",
    "### $$ f(\\theta|y) = \\frac{f(y|\\theta)\\;f(\\theta)}{f(y)} = \\frac{L(\\theta|y)\\;f(\\theta)}{f(y)} \\propto L(\\theta|y)\\;f(\\theta) $$\n",
    "\n",
    "The likelihood $L(\\theta|y)$ refers to the likelihood of our parameter $\\theta$ given the data $y$.\n",
    "\n",
    "The function $f(y|\\theta)$ is the probability density function associated with random variable $Y$. The parameter $\\theta$ defines the pdf $f()$. \n",
    "\n",
    "The likelihood $L(\\theta|y) = f(y|\\theta)$.\n",
    "\n",
    "**The goal is to identify the value for $\\theta$ that will maximize the likelihood.**"
   ]
  },
  {
   "cell_type": "markdown",
   "metadata": {},
   "source": [
    "<a id='find-mle'></a>\n",
    "## Find the Maximum Likelihood Estimator $\\hat{\\theta}$\n",
    "---\n",
    "\n",
    "We would like to find the MLE $\\hat{\\theta}$ of $\\theta$:\n",
    "- **Step 1:** Write out likelihood $L(\\theta|y)$.\n",
    "- **Step 2:** Take derivative with respect to $\\theta$.\n",
    "- **Step 3:** Set equal to zero.\n",
    "- **Step 4:** Solve for $\\theta$."
   ]
  },
  {
   "cell_type": "markdown",
   "metadata": {},
   "source": [
    "<a id='properties'></a>\n",
    "## Properties of MLEs\n",
    "---\n",
    "\n",
    "**MLEs are “consistent.”**\n",
    "- As $n \\to \\infty$, $\\hat{\\theta} \\to \\theta$\n",
    "\n",
    "**MLEs are “asymptotically normal.”**\n",
    "- As $n \\to \\infty$, $\\hat{\\theta} ~ N(\\theta, I(\\theta))$ where $I(\\theta)$ is the \"Fisher information matrix\".\n",
    "\n",
    "**MLEs are “efficient.”**\n",
    "- No consistent estimator has a lower asymptotic MSE than the MLE.\n",
    "\n",
    "**If $\\hat{\\theta}$ is the MLE of $\\theta$, then $g(\\hat{\\theta})$ is the MLE of $g(\\theta)$.**"
   ]
  }
 ],
 "metadata": {
  "kernelspec": {
   "display_name": "Python 2",
   "language": "python",
   "name": "python2"
  },
  "language_info": {
   "codemirror_mode": {
    "name": "ipython",
    "version": 2
   },
   "file_extension": ".py",
   "mimetype": "text/x-python",
   "name": "python",
   "nbconvert_exporter": "python",
   "pygments_lexer": "ipython2",
   "version": "2.7.12"
  }
 },
 "nbformat": 4,
 "nbformat_minor": 2
}
