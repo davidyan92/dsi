{
 "cells": [
  {
   "cell_type": "markdown",
   "metadata": {
    "slideshow": {
     "slide_type": "notes"
    }
   },
   "source": [
    "> **Jupyter slideshow:** This notebook can be displayed as slides. To view it as a slideshow in your browser type in the console:\n",
    "\n",
    "\n",
    "> `> jupyter nbconvert [this_notebook.ipynb] --to slides --post serve`\n",
    "\n",
    "\n",
    "> To toggle off the slideshow cell formatting, click the `CellToolbar` button, then `View --> Cell Toolbar --> None`"
   ]
  },
  {
   "cell_type": "code",
   "execution_count": 1,
   "metadata": {
    "collapsed": true,
    "slideshow": {
     "slide_type": "skip"
    }
   },
   "outputs": [],
   "source": [
    "from __future__ import division, print_function\n",
    "\n",
    "from IPython.core.display import Image\n",
    "from IPython.display import YouTubeVideo\n",
    "\n",
    "import numpy as np\n",
    "import pandas as pd\n",
    "\n",
    "import matplotlib.pyplot as plt\n",
    "%matplotlib inline"
   ]
  },
  {
   "cell_type": "markdown",
   "metadata": {
    "slideshow": {
     "slide_type": "slide"
    }
   },
   "source": [
    "<img src=\"http://imgur.com/1ZcRyrc.png\" style=\"float: left; margin: 20px; height: 55px\">\n",
    "\n",
    "\n",
    "# Computer Vision via Neural Nets (w/ GraphLab Create)\n",
    "\n",
    "_Author: Alex Combs (NYC) _\n",
    "\n",
    "---\n",
    "\n",
    "<a id=\"learning-objectives\"></a>\n",
    "### Learning Objectives\n",
    "*After this lesson, you will be able to:*\n",
    "- Understand how perceptrons work\n",
    "- Understand how logistic regressors are continuous perceptrons\n",
    "- Use GraphLab to train a neural network on images\n",
    "\n",
    "**Note: This lesson's exercises require registration at GraphLab Create, which offers a [one-year student trial](https://turi.com/download/academic.html).**"
   ]
  },
  {
   "cell_type": "markdown",
   "metadata": {},
   "source": [
    "### Lesson Guide\n",
    "\n",
    "- [Opening](#opening)\n",
    "\t- [Neural Networks](#neural-networks)\n",
    "\t- [The perceptron](#the-perceptron)\n",
    "\t- [The perceptron as a decision process](#the-perceptron-as-a-decision-process)\n",
    "\t- [Perceptron update rule](#perceptron-update-rule)\n",
    "\t- [The perceptron as the fundamental building block of neural nets](#the-perceptron-as-the-fundamental-building-block-of-neural-nets)\n",
    "\t- [The continuous perceptron: Logistic Regression](#the-continuous-perceptron-logistic-regression)\n",
    "\n",
    "\n",
    "- [Image similarity with deep features](#image-similarity-with-deep-features)\n",
    "- [GraphLab Create Exercise](#getting-started-with-graphlab-create)\n",
    "- [Independent Exercise](#independent-exercise)\n"
   ]
  },
  {
   "cell_type": "markdown",
   "metadata": {
    "slideshow": {
     "slide_type": "slide"
    }
   },
   "source": [
    "<a id=\"opening\"></a>\n",
    "## Opening\n",
    "---\n",
    "\n",
    "Today we're going to talk about neural networks and their applications in computer vision"
   ]
  },
  {
   "cell_type": "markdown",
   "metadata": {
    "slideshow": {
     "slide_type": "slide"
    }
   },
   "source": [
    "<a id=\"neural-networks\"></a>\n",
    "### Neural Networks\n",
    "\n",
    "Deep learning is one of the most popular and cutting-edge incarnations of neural networks. To understand deep learning, we will start from the basics of neural networks. One of the original building blocks of neural networks is the perceptron.\n",
    "\n",
    "Perceptrons date back to the 1950s. They were an attempt to adopt the biological model of the brain to computers. Their first application was, naturally, image recognition."
   ]
  },
  {
   "cell_type": "markdown",
   "metadata": {
    "slideshow": {
     "slide_type": "slide"
    }
   },
   "source": [
    "<a id=\"the-perceptron\"></a>\n",
    "### The Perceptron\n",
    "\n",
    "You may recall from your high school biology that neurons work in the following way:\n",
    "\n",
    "- Each neuron is connected in a network to many other neurons.\n",
    "- These neurons both send and receive signals from connected neurons.\n",
    "- When a neuron receives a signal it can either fire or not, depending on whether the incoming signal is above some threshold.\n",
    "\n",
    "A single perceptron, like a neuron, can be thought of a decision-making unit. If the weight of the incoming signals is above a threshold, the perceptron fires, and if not it doesn't. In this case firing equals outputting a value of 1 and not firing equals outputting a value of 0.\n",
    "\n",
    "<img src=\"images/ann-perceptron.png\" width=500>\n",
    "<br>\n",
    "<img src=\"images/ann-perceptron-math.png\" widht=500>"
   ]
  },
  {
   "cell_type": "markdown",
   "metadata": {
    "slideshow": {
     "slide_type": "slide"
    }
   },
   "source": [
    "<a id=\"the-perceptron-as-a-decision-process\"></a>\n",
    "### The perceptron as a decision process\n",
    "\n",
    "As a example, imagine you are considering taking a new job. There are several factors that go into the decision:\n",
    "- The location.\n",
    "- The pay.\n",
    "- The type of work.\n",
    "- How trendy the office is.\n",
    "\n",
    "Obviously, not all of these will carry the same weight when making your decision. In the perceptron, each input then is modified by a weighting factor. \n",
    "\n",
    "If the weighted incoming values are greater than the threshold the unit outputs a 1; if not, it outputs a 0."
   ]
  },
  {
   "cell_type": "markdown",
   "metadata": {
    "slideshow": {
     "slide_type": "fragment"
    }
   },
   "source": [
    "#### Example\n",
    "\n",
    "Let's now see how learning can take place with a perceptron. We will train a perceptron with two inputs to learn the `AND` rule. That is, we want the perceptron to output a 1 when both inputs are 1, and a 0 in all other cases.\n",
    "\n",
    "Say our $x_1$ input is equal to 1 and our $x_2$ input is equal to -1. $w_1$ is randomly set to 0.8, and $w_2$ is randomly set to 0.4. As both must be positive for our output to be 1, then our threshold is any value greater than 1.\n",
    "\n",
    "Therefore, we have:\n",
    "\n",
    "### $$w_1x_1 + w_2x_2 = 1 \\cdot 0.8 + -1 \\cdot 0.4 = 0.8 – 0.4 = 0.4$$\n",
    "\n",
    "Now, since we expect our output to be 0, we can say that we have an error of 0.4. We will now attempt to improve our model by pushing these errors back down to the inputs in order to update the weights."
   ]
  },
  {
   "cell_type": "markdown",
   "metadata": {
    "slideshow": {
     "slide_type": "slide"
    }
   },
   "source": [
    "<a id=\"perceptron-update-rule\"></a>\n",
    "### Perceptron update rule\n",
    "\n",
    "<img src=\"images/ann-perceptron-update.png\">\n",
    "\n",
    "Here, $w_i$ is the weight of the $i$th input, $t$ is the target outcome, and 0 is the actual outcome. Ignore the $\\eta$ term for now. $\\eta$ is the learning rate and it determines how large or small our updates should be. For now, we will assume it is set to 1.\n",
    "\n",
    "In our example case on the previous slide, our target outcome is 0, and our actual outcome is 0.4. \n",
    "\n",
    "\n",
    "**Updating the $x_1$ weight**\n",
    "\n",
    "Let's look at $x_1$ to update its weight. We have $1 * (0 – 0.4) * 1$, which equals -0.4. That is our $w$ delta; therefore, updating equation 1, we have $0.8 – 0.4$, which gives us our new weight $w_1 = 0.4$. \n",
    "\n",
    "**Updating the $x_2$ weight**\n",
    "\n",
    "The weight for $x_1$ has come down. What about the weight for $x_2$? Let's take a look. That one is $1 * (0 – 0.4) * -1$, which equals 0.4. Updating the weight, we have $0.2 + 0.4 = 0.6$. Notice the weights are converging to parity, which is what we would expect.\n"
   ]
  },
  {
   "cell_type": "markdown",
   "metadata": {
    "slideshow": {
     "slide_type": "slide"
    }
   },
   "source": [
    "<a id=\"the-perceptron-as-the-fundamental-building-block-of-neural-nets\"></a>\n",
    "### The perceptron as the fundamental building block of neural nets\n",
    "\n",
    "This ultra-simple model is conceptually the building block of today's fancier neural networks. Of course, many advancements have been applied over the years. For example, the mathematics of neurons today are continuous rather than discrete, many activation functions have been tested (including our familiar logit function), and different network structures have been experimented with. The phrase \"deep learning\" indicates the network contains \"hidden layers\" -- layers between the input layers and output layers.\n",
    "\n",
    "<img src=\"images/ann-layers.png\">\n",
    "\n",
    "We are actually already familiar with one of the most frequently used continuous neuron models -- logistic regression! Recall that a logistic regressor is the logit function applied to a linear function, just like our perceptron is a \"transfer function\" (\"sign\" in this case) applied to a linear function."
   ]
  },
  {
   "cell_type": "markdown",
   "metadata": {
    "slideshow": {
     "slide_type": "fragment"
    }
   },
   "source": [
    "<a id=\"the-continuous-perceptron-logistic-regression\"></a>\n",
    "### The continuous perceptron: Logistic Regression \n",
    "\n",
    "Let's see how the discrete perceptron model relates to the continuous logistic regression model in more detail. Let coefficient $i$ be $\\beta_i$, feature $i$ be $x_i$, and the logit function be $\\sigma(t)$. Then our familiar logistic regressor is:\n",
    "\n",
    "### $$p(y|\\mathbf{x}) = \\frac{1}{1 + e^{-(\\beta_0 + \\beta_1x_1 + ... + \\beta_nx_n)}} = \\sigma(\\beta_0 + \\beta_1x_1 + ... + \\beta_nx_n)$$\n",
    "\n",
    "Now let's relate this to the perceptron. Define the coefficient $\\beta_i$ to be weight $w_i$. Define the threshold as $\\beta_0$. Define the transfer function as our logit function $\\sigma(x)$. After making these replacements, we get a very similar formula to the perceptron that is continuous and easily differentiable (necessary for training via backpropagation):\n",
    "\n",
    "### $$ouput_{logreg} = \\sigma(w_1x_1 + ... + w_nx_n - threshold)$$\n",
    "\n",
    "**A fundamental neuron used in modern-day deep learning is a logistic regressor!**\n",
    "\n",
    "For clarity's sake, let's directly compare this to our perceptron transfer function -- it is nearly identical. (Verify the use of sgn() below is equivalent to the definition given earlier -- just subtract the threshold from both sides of the inequalities.)\n",
    "\n",
    "### $$output_{perceptron} = sgn(w_1x_1 + ... + w_nx_n - threshold)$$\n"
   ]
  },
  {
   "cell_type": "markdown",
   "metadata": {
    "slideshow": {
     "slide_type": "slide"
    }
   },
   "source": [
    "<a id=\"image-similarity-with-deep-features\"></a>\n",
    "## Image similarity with deep features\n",
    "---\n",
    "\n",
    "Now that we've learned a bit about the building blocks of deep learning, let's use a pre-trained deep learning network to find the image most similar to ourselves in the CIFAR-10 image database.\n",
    "\n",
    "We will first need to make sure GraphLab Create is installed. This is a platform that makes large-scale (distributed) learning possible with a very simple API. Fortunately for us, it is available free for a one year period for students (bootcamps included).\n",
    "\n",
    "Follow these directions to get it installed: https://turi.com/download/install-graphlab-create-command-line.html\n",
    "\n",
    "Once that is completed, we can begin our code in our Jupyter notebook."
   ]
  },
  {
   "cell_type": "markdown",
   "metadata": {
    "slideshow": {
     "slide_type": "slide"
    }
   },
   "source": [
    "<a id=\"getting-started-with-graphlab-create\"></a>\n",
    "### Getting started with GraphLab Create"
   ]
  },
  {
   "cell_type": "code",
   "execution_count": 2,
   "metadata": {
    "slideshow": {
     "slide_type": "-"
    }
   },
   "outputs": [
    {
     "name": "stdout",
     "output_type": "stream",
     "text": [
      "This non-commercial license of GraphLab Create for academic use is assigned to kiefer.katovich@generalassemb.ly and will expire on April 27, 2018.\n"
     ]
    },
    {
     "name": "stderr",
     "output_type": "stream",
     "text": [
      "[INFO] graphlab.cython.cy_server: GraphLab Create v2.1 started. Logging: /tmp/graphlab_server_1493391769.log\n"
     ]
    },
    {
     "data": {
      "text/html": [
       "<pre>Downloading http://s3.amazonaws.com/dato-datasets/coursera/deep_learning/image_train_data/dir_archive.ini to /var/tmp/graphlab-kiefer/1854/a3cd386d-687c-47cf-9584-baab99dc5ae0.ini</pre>"
      ],
      "text/plain": [
       "Downloading http://s3.amazonaws.com/dato-datasets/coursera/deep_learning/image_train_data/dir_archive.ini to /var/tmp/graphlab-kiefer/1854/a3cd386d-687c-47cf-9584-baab99dc5ae0.ini"
      ]
     },
     "metadata": {},
     "output_type": "display_data"
    },
    {
     "data": {
      "text/html": [
       "<pre>Downloading http://s3.amazonaws.com/dato-datasets/coursera/deep_learning/image_train_data/objects.bin to /var/tmp/graphlab-kiefer/1854/ad5bb38d-f7c9-47e7-b606-4a737a1e8626.bin</pre>"
      ],
      "text/plain": [
       "Downloading http://s3.amazonaws.com/dato-datasets/coursera/deep_learning/image_train_data/objects.bin to /var/tmp/graphlab-kiefer/1854/ad5bb38d-f7c9-47e7-b606-4a737a1e8626.bin"
      ]
     },
     "metadata": {},
     "output_type": "display_data"
    },
    {
     "data": {
      "text/html": [
       "<pre>Downloading http://s3.amazonaws.com/dato-datasets/coursera/deep_learning/image_train_data/m_8b0619884fada761.frame_idx to /var/tmp/graphlab-kiefer/1854/f1a4e48b-d8ab-40a3-9119-5dc8f0461f0b.frame_idx</pre>"
      ],
      "text/plain": [
       "Downloading http://s3.amazonaws.com/dato-datasets/coursera/deep_learning/image_train_data/m_8b0619884fada761.frame_idx to /var/tmp/graphlab-kiefer/1854/f1a4e48b-d8ab-40a3-9119-5dc8f0461f0b.frame_idx"
      ]
     },
     "metadata": {},
     "output_type": "display_data"
    },
    {
     "data": {
      "text/html": [
       "<pre>Downloading http://s3.amazonaws.com/dato-datasets/coursera/deep_learning/image_train_data/m_8b0619884fada761.sidx to /var/tmp/graphlab-kiefer/1854/5280c4e4-180f-4be6-b0b4-1784e7bfe046.sidx</pre>"
      ],
      "text/plain": [
       "Downloading http://s3.amazonaws.com/dato-datasets/coursera/deep_learning/image_train_data/m_8b0619884fada761.sidx to /var/tmp/graphlab-kiefer/1854/5280c4e4-180f-4be6-b0b4-1784e7bfe046.sidx"
      ]
     },
     "metadata": {},
     "output_type": "display_data"
    },
    {
     "data": {
      "text/html": [
       "<pre>Downloading http://s3.amazonaws.com/dato-datasets/coursera/deep_learning/image_train_data/m_8b0619884fada761.0000 to /var/tmp/graphlab-kiefer/1854/54c009ba-2c21-4392-a3cc-f10d0cfc9301.0000</pre>"
      ],
      "text/plain": [
       "Downloading http://s3.amazonaws.com/dato-datasets/coursera/deep_learning/image_train_data/m_8b0619884fada761.0000 to /var/tmp/graphlab-kiefer/1854/54c009ba-2c21-4392-a3cc-f10d0cfc9301.0000"
      ]
     },
     "metadata": {},
     "output_type": "display_data"
    },
    {
     "data": {
      "text/html": [
       "<div style=\"max-height:1000px;max-width:1500px;overflow:auto;\"><table frame=\"box\" rules=\"cols\">\n",
       "    <tr>\n",
       "        <th style=\"padding-left: 1em; padding-right: 1em; text-align: center\">id</th>\n",
       "        <th style=\"padding-left: 1em; padding-right: 1em; text-align: center\">image</th>\n",
       "        <th style=\"padding-left: 1em; padding-right: 1em; text-align: center\">label</th>\n",
       "        <th style=\"padding-left: 1em; padding-right: 1em; text-align: center\">deep_features</th>\n",
       "        <th style=\"padding-left: 1em; padding-right: 1em; text-align: center\">image_array</th>\n",
       "    </tr>\n",
       "    <tr>\n",
       "        <td style=\"padding-left: 1em; padding-right: 1em; text-align: center; vertical-align: top\">24</td>\n",
       "        <td style=\"padding-left: 1em; padding-right: 1em; text-align: center; vertical-align: top\">Height: 32 Width: 32</td>\n",
       "        <td style=\"padding-left: 1em; padding-right: 1em; text-align: center; vertical-align: top\">bird</td>\n",
       "        <td style=\"padding-left: 1em; padding-right: 1em; text-align: center; vertical-align: top\">[0.242871761322,<br>1.09545373917, 0.0, ...</td>\n",
       "        <td style=\"padding-left: 1em; padding-right: 1em; text-align: center; vertical-align: top\">[73.0, 77.0, 58.0, 71.0,<br>68.0, 50.0, 77.0, 69.0, ...</td>\n",
       "    </tr>\n",
       "    <tr>\n",
       "        <td style=\"padding-left: 1em; padding-right: 1em; text-align: center; vertical-align: top\">33</td>\n",
       "        <td style=\"padding-left: 1em; padding-right: 1em; text-align: center; vertical-align: top\">Height: 32 Width: 32</td>\n",
       "        <td style=\"padding-left: 1em; padding-right: 1em; text-align: center; vertical-align: top\">cat</td>\n",
       "        <td style=\"padding-left: 1em; padding-right: 1em; text-align: center; vertical-align: top\">[0.525087952614, 0.0,<br>0.0, 0.0, 0.0, 0.0, ...</td>\n",
       "        <td style=\"padding-left: 1em; padding-right: 1em; text-align: center; vertical-align: top\">[7.0, 5.0, 8.0, 7.0, 5.0,<br>8.0, 5.0, 4.0, 6.0, 7.0, ...</td>\n",
       "    </tr>\n",
       "    <tr>\n",
       "        <td style=\"padding-left: 1em; padding-right: 1em; text-align: center; vertical-align: top\">36</td>\n",
       "        <td style=\"padding-left: 1em; padding-right: 1em; text-align: center; vertical-align: top\">Height: 32 Width: 32</td>\n",
       "        <td style=\"padding-left: 1em; padding-right: 1em; text-align: center; vertical-align: top\">cat</td>\n",
       "        <td style=\"padding-left: 1em; padding-right: 1em; text-align: center; vertical-align: top\">[0.566015958786, 0.0,<br>0.0, 0.0, 0.0, 0.0, ...</td>\n",
       "        <td style=\"padding-left: 1em; padding-right: 1em; text-align: center; vertical-align: top\">[169.0, 122.0, 65.0,<br>131.0, 108.0, 75.0, ...</td>\n",
       "    </tr>\n",
       "    <tr>\n",
       "        <td style=\"padding-left: 1em; padding-right: 1em; text-align: center; vertical-align: top\">70</td>\n",
       "        <td style=\"padding-left: 1em; padding-right: 1em; text-align: center; vertical-align: top\">Height: 32 Width: 32</td>\n",
       "        <td style=\"padding-left: 1em; padding-right: 1em; text-align: center; vertical-align: top\">dog</td>\n",
       "        <td style=\"padding-left: 1em; padding-right: 1em; text-align: center; vertical-align: top\">[1.12979578972, 0.0, 0.0,<br>0.778194487095, 0.0, ...</td>\n",
       "        <td style=\"padding-left: 1em; padding-right: 1em; text-align: center; vertical-align: top\">[154.0, 179.0, 152.0,<br>159.0, 183.0, 157.0, ...</td>\n",
       "    </tr>\n",
       "    <tr>\n",
       "        <td style=\"padding-left: 1em; padding-right: 1em; text-align: center; vertical-align: top\">90</td>\n",
       "        <td style=\"padding-left: 1em; padding-right: 1em; text-align: center; vertical-align: top\">Height: 32 Width: 32</td>\n",
       "        <td style=\"padding-left: 1em; padding-right: 1em; text-align: center; vertical-align: top\">bird</td>\n",
       "        <td style=\"padding-left: 1em; padding-right: 1em; text-align: center; vertical-align: top\">[1.71786928177, 0.0, 0.0,<br>0.0, 0.0, 0.0, ...</td>\n",
       "        <td style=\"padding-left: 1em; padding-right: 1em; text-align: center; vertical-align: top\">[216.0, 195.0, 180.0,<br>201.0, 178.0, 160.0, ...</td>\n",
       "    </tr>\n",
       "    <tr>\n",
       "        <td style=\"padding-left: 1em; padding-right: 1em; text-align: center; vertical-align: top\">97</td>\n",
       "        <td style=\"padding-left: 1em; padding-right: 1em; text-align: center; vertical-align: top\">Height: 32 Width: 32</td>\n",
       "        <td style=\"padding-left: 1em; padding-right: 1em; text-align: center; vertical-align: top\">automobile</td>\n",
       "        <td style=\"padding-left: 1em; padding-right: 1em; text-align: center; vertical-align: top\">[1.57818555832, 0.0, 0.0,<br>0.0, 0.0, 0.0, ...</td>\n",
       "        <td style=\"padding-left: 1em; padding-right: 1em; text-align: center; vertical-align: top\">[33.0, 44.0, 27.0, 29.0,<br>44.0, 31.0, 32.0, 45.0, ...</td>\n",
       "    </tr>\n",
       "    <tr>\n",
       "        <td style=\"padding-left: 1em; padding-right: 1em; text-align: center; vertical-align: top\">107</td>\n",
       "        <td style=\"padding-left: 1em; padding-right: 1em; text-align: center; vertical-align: top\">Height: 32 Width: 32</td>\n",
       "        <td style=\"padding-left: 1em; padding-right: 1em; text-align: center; vertical-align: top\">dog</td>\n",
       "        <td style=\"padding-left: 1em; padding-right: 1em; text-align: center; vertical-align: top\">[0.0, 0.0,<br>0.220677852631, 0.0,  ...</td>\n",
       "        <td style=\"padding-left: 1em; padding-right: 1em; text-align: center; vertical-align: top\">[97.0, 51.0, 31.0, 104.0,<br>58.0, 38.0, 107.0, 61.0, ...</td>\n",
       "    </tr>\n",
       "    <tr>\n",
       "        <td style=\"padding-left: 1em; padding-right: 1em; text-align: center; vertical-align: top\">121</td>\n",
       "        <td style=\"padding-left: 1em; padding-right: 1em; text-align: center; vertical-align: top\">Height: 32 Width: 32</td>\n",
       "        <td style=\"padding-left: 1em; padding-right: 1em; text-align: center; vertical-align: top\">bird</td>\n",
       "        <td style=\"padding-left: 1em; padding-right: 1em; text-align: center; vertical-align: top\">[0.0, 0.23753464222, 0.0,<br>0.0, 0.0, 0.0, ...</td>\n",
       "        <td style=\"padding-left: 1em; padding-right: 1em; text-align: center; vertical-align: top\">[93.0, 96.0, 88.0, 102.0,<br>106.0, 97.0, 117.0, ...</td>\n",
       "    </tr>\n",
       "    <tr>\n",
       "        <td style=\"padding-left: 1em; padding-right: 1em; text-align: center; vertical-align: top\">136</td>\n",
       "        <td style=\"padding-left: 1em; padding-right: 1em; text-align: center; vertical-align: top\">Height: 32 Width: 32</td>\n",
       "        <td style=\"padding-left: 1em; padding-right: 1em; text-align: center; vertical-align: top\">automobile</td>\n",
       "        <td style=\"padding-left: 1em; padding-right: 1em; text-align: center; vertical-align: top\">[0.0, 0.0, 0.0, 0.0, 0.0,<br>0.0, 7.5737862587, 0.0, ...</td>\n",
       "        <td style=\"padding-left: 1em; padding-right: 1em; text-align: center; vertical-align: top\">[35.0, 59.0, 53.0, 36.0,<br>56.0, 56.0, 42.0, 62.0, ...</td>\n",
       "    </tr>\n",
       "    <tr>\n",
       "        <td style=\"padding-left: 1em; padding-right: 1em; text-align: center; vertical-align: top\">138</td>\n",
       "        <td style=\"padding-left: 1em; padding-right: 1em; text-align: center; vertical-align: top\">Height: 32 Width: 32</td>\n",
       "        <td style=\"padding-left: 1em; padding-right: 1em; text-align: center; vertical-align: top\">bird</td>\n",
       "        <td style=\"padding-left: 1em; padding-right: 1em; text-align: center; vertical-align: top\">[0.658935725689, 0.0,<br>0.0, 0.0, 0.0, 0.0, ...</td>\n",
       "        <td style=\"padding-left: 1em; padding-right: 1em; text-align: center; vertical-align: top\">[205.0, 193.0, 195.0,<br>200.0, 187.0, 193.0, ...</td>\n",
       "    </tr>\n",
       "</table>\n",
       "[2005 rows x 5 columns]<br/>Note: Only the head of the SFrame is printed.<br/>You can use print_rows(num_rows=m, num_columns=n) to print more rows and columns.\n",
       "</div>"
      ],
      "text/plain": [
       "Columns:\n",
       "\tid\tint\n",
       "\timage\tImage\n",
       "\tlabel\tstr\n",
       "\tdeep_features\tarray\n",
       "\timage_array\tarray\n",
       "\n",
       "Rows: 2005\n",
       "\n",
       "Data:\n",
       "+-----+----------------------+------------+-------------------------------+\n",
       "|  id |        image         |   label    |         deep_features         |\n",
       "+-----+----------------------+------------+-------------------------------+\n",
       "|  24 | Height: 32 Width: 32 |    bird    | [0.242871761322, 1.0954537... |\n",
       "|  33 | Height: 32 Width: 32 |    cat     | [0.525087952614, 0.0, 0.0,... |\n",
       "|  36 | Height: 32 Width: 32 |    cat     | [0.566015958786, 0.0, 0.0,... |\n",
       "|  70 | Height: 32 Width: 32 |    dog     | [1.12979578972, 0.0, 0.0, ... |\n",
       "|  90 | Height: 32 Width: 32 |    bird    | [1.71786928177, 0.0, 0.0, ... |\n",
       "|  97 | Height: 32 Width: 32 | automobile | [1.57818555832, 0.0, 0.0, ... |\n",
       "| 107 | Height: 32 Width: 32 |    dog     | [0.0, 0.0, 0.220677852631,... |\n",
       "| 121 | Height: 32 Width: 32 |    bird    | [0.0, 0.23753464222, 0.0, ... |\n",
       "| 136 | Height: 32 Width: 32 | automobile | [0.0, 0.0, 0.0, 0.0, 0.0, ... |\n",
       "| 138 | Height: 32 Width: 32 |    bird    | [0.658935725689, 0.0, 0.0,... |\n",
       "+-----+----------------------+------------+-------------------------------+\n",
       "+-------------------------------+\n",
       "|          image_array          |\n",
       "+-------------------------------+\n",
       "| [73.0, 77.0, 58.0, 71.0, 6... |\n",
       "| [7.0, 5.0, 8.0, 7.0, 5.0, ... |\n",
       "| [169.0, 122.0, 65.0, 131.0... |\n",
       "| [154.0, 179.0, 152.0, 159.... |\n",
       "| [216.0, 195.0, 180.0, 201.... |\n",
       "| [33.0, 44.0, 27.0, 29.0, 4... |\n",
       "| [97.0, 51.0, 31.0, 104.0, ... |\n",
       "| [93.0, 96.0, 88.0, 102.0, ... |\n",
       "| [35.0, 59.0, 53.0, 36.0, 5... |\n",
       "| [205.0, 193.0, 195.0, 200.... |\n",
       "+-------------------------------+\n",
       "[2005 rows x 5 columns]\n",
       "Note: Only the head of the SFrame is printed.\n",
       "You can use print_rows(num_rows=m, num_columns=n) to print more rows and columns."
      ]
     },
     "execution_count": 2,
     "metadata": {},
     "output_type": "execute_result"
    }
   ],
   "source": [
    "import graphlab\n",
    "graphlab.canvas.set_target('ipynb')\n",
    "\n",
    "# load pre-trained model\n",
    "gl_img = graphlab.SFrame('http://s3.amazonaws.com/dato-datasets/coursera/deep_learning/image_train_data')\n",
    "gl_img"
   ]
  },
  {
   "cell_type": "markdown",
   "metadata": {
    "slideshow": {
     "slide_type": "slide"
    }
   },
   "source": [
    "In this DataFrame we have a number of columns describing the images, but we are primarily concerned with the `deep_features` column. \n",
    "\n",
    "These are features that were learned from a deep learning neural network. They won't make any sense to you, but they are the learned features that discriminate from the various classes of images in the CIFAR-10 data set. We are going to use something called transfer learning to allow us to use these deep features for our own purposes.\n",
    "\n",
    "Because each layer of a network can be thought of as a progressively more holistic representation of the trained object, we can 'cut off the head' of the network (so to speak) and use it to extract lower-level features to apply on our own images.\n",
    "\n",
    "<img src=\"http://i.imgur.com/p3vKsAo.png\" width=700>>"
   ]
  },
  {
   "cell_type": "markdown",
   "metadata": {
    "slideshow": {
     "slide_type": "slide"
    }
   },
   "source": [
    "<a id=\"we-can-look-at-the-first--in-the-dataset\"></a>\n",
    "## We can look at the first 5 in the dataset"
   ]
  },
  {
   "cell_type": "code",
   "execution_count": 3,
   "metadata": {
    "slideshow": {
     "slide_type": "-"
    }
   },
   "outputs": [
    {
     "data": {
      "application/javascript": [
       "$(\"head\").append($(\"<link/>\").attr({\n",
       "  rel:  \"stylesheet\",\n",
       "  type: \"text/css\",\n",
       "  href: \"//cdnjs.cloudflare.com/ajax/libs/font-awesome/4.1.0/css/font-awesome.min.css\"\n",
       "}));\n",
       "$(\"head\").append($(\"<link/>\").attr({\n",
       "  rel:  \"stylesheet\",\n",
       "  type: \"text/css\",\n",
       "  href: \"https://static.turi.com/products/graphlab-create/2.1/canvas/css/canvas.css\"\n",
       "}));\n",
       "\n",
       "            (function(){\n",
       "\n",
       "                var e = null;\n",
       "                if (typeof element == 'undefined') {\n",
       "                    var scripts = document.getElementsByTagName('script');\n",
       "                    var thisScriptTag = scripts[scripts.length-1];\n",
       "                    var parentDiv = thisScriptTag.parentNode;\n",
       "                    e = document.createElement('div');\n",
       "                    parentDiv.appendChild(e);\n",
       "                } else {\n",
       "                    e = element[0];\n",
       "                }\n",
       "\n",
       "                if (typeof requirejs !== 'undefined') {\n",
       "                    // disable load timeout; ipython_app.js is large and can take a while to load.\n",
       "                    requirejs.config({waitSeconds: 0});\n",
       "                }\n",
       "\n",
       "                require(['https://static.turi.com/products/graphlab-create/2.1/canvas/js/ipython_app.js'], function(IPythonApp){\n",
       "                    var app = new IPythonApp();\n",
       "                    app.attachView('sarray','Images', {\"ipython\": true, \"rows\": [{\"format\": \"png\", \"value\": \"image/png;base64,iVBORw0KGgoAAAANSUhEUgAAAIAAAACACAIAAABMXPacAAARgUlEQVR4nO1dS3Mb15U+jW683wAJgg9RICmJomSJShxPNFJsJXGScabijGYWU1OV3Ww8P2X2WUxVllm4KpWkKuNJpRJXMskMNZFj2ZJsKZZFiZT4JkAAbDwaaKAfmAWb9zv4BVeLe1YfUY3u2zy4533O1b7/7g0iIiK/b9MpRbShwJdXlwUOG1GB5+dmBbYNS+C22Rb4aONY4O7xQGAaRojR1k5V4M9erAucTiYFzqdzAheyGYFXLy2x5SUEbphYUstqCVxvHQlsjK2CErGYwKERMDlhAQcW/ku5IpZUns0L/LffvSZwfFkX2DPwXw0nteBBpEgqKQZIJoO84SnCRtMcXHG83xC4erAjcKh3ReB4viBwLIrNmE/hPrpbF9gddvgirq5iL08vfk1gny2j3ewKnIxB1ERC2ONDG1Ium4KYKhSyAn/l9csCn12c5svY3Hgm8PP1bYHPX1jBkqJ4xPQ5vHW4MBI4UfEE9lK43u73sNSBfwLUDpBMigGSSTFAMmnvvvPNE5RPQFCGRzCY8jlN4Ewc3yzmigJbLow2VwfOFIEjuiuwM4SpSkRuD/J9Ko5lRDQ8L0KQ+74HddW0sbxGG8J3a/cQD9AhoB0diqV4lukootmVtMBG1hd4aRmWbsjAreI5LMP28fnuPrRdImwInMvj/kM30AdqB0gmxQDJpBggmYx0unyCwjoM6hgEF9kD2Oy+Azke1SEB4xFIN7MLabh5BFmfm8D9s/kx4WsyHTCXhU/QO4YqqnbgjozY8roO1EwsMSFwMo2oydERwg+lypzAaeYrENHQwspHBnTAi8cHAvcbiHA061iS2ceb7jcQrnjv334kcJaFOurtQE+oHSCZFAMkk2KAZDJ8L4jJOgQD2fMgfMtlCNYX64iWuA5ixVPcQRjBYNddyPpmDdax1YOEJaJIBLfq+ZDLzS6E7N5BU+BoAeqnw1yK5s4LgQcDvELbhI459qDSWg/G3BGfoOESCaiQvb0tvJGPz+MxuCDl83jrH733nsClGai0dh+v88f/vHMC1A6QTIoBkkkxQDIZZisQTGEdketiDhLt7LkZgV9sfylwewABmnQguF0WxDd7sIj9EHC9CUxEnQ6M69f/+YbAVhiPGHSQVhy4EL6hEmJH9R5SmwcsIGP3WIB+D891HegJIkrFId/npkv4Cvv6gMV8YnmkNG9+F2mM5Sv4bt1CSGrtwzvAv/i/YP2kSCopBkgmxQDJZAy9/RPkwQgm00T2stpEJMQNQ8Af1CBwBz0mlAkRj6YJy9dngXh7yB5GVKkg6VosnhH4y3v3BNbY+to12PLxNITy/Dxclh7TK61GTWDHR0gqlYCqIyLNh6xPhVmISYesNz14MIU5yPrK8rzAX/z1scBra6iyuf+HTwV266os5dUgxQDJpBggmYzzlyZP0PYGLNZ2Bwb44REEqMeSqzUm35sefAiWTiafVfbEWDR8yKoUiWh15XWBBxZ+E3Yby/CHkOl9F27EZApyPF5AWsLq4NGahnvu70KleU6fL8MZQZORC1k/EYN/8JVrUFdTl5ncf7Av8Cd37gu8/QyPMAYIYUW1AKsdIJkUAySTYoBkMh49fn6CdB+Z1oiB+P78wqLA0wuQejsvfitwq4GAe+cYPkRYh/SMMV+hMotKGyIqZFFi9PGnawLrrKbzyuotgattqJ8uS13EUsgrFKcnBR6OWE15Cmqsuoul0ni5USaBTMbNFcj9RA5LerQDdVL9HKGqYR1+Q9pg2tGAnzG0A5WmdoBkUgyQTIoBksl4cC8o+S9kIUArZ5AD4AJ6fvGswL/74I8C23FYzXYDQnngQ+5PlBDkKc6gvYmI/vzJn7GgOIRmfAm9PitvvSnw24toQfjVL38hcKP+VOCZKQRqHAc+QV+HqtP6UF1E5Nn4OSbCkON6BB7M9gG8pc1NZMgpHGYQamZ6EdqUhZSoPwyepXaAZFIMkEyKAZLJoNN+zG6HFWJWTYE/v/+FwIsLsN+zrIhz4EAHrL5+SeC5Egox7S4C+i2TZWaJEhGmckoXBH5WY7H+FuL4Cx6as6J5tKpFLOSBfQev4Pv4nWVK6AvrNtDyRkQJHve3oB4++O/f41Yj3CqS5G2t+A8cmihFzXsIVaVYqCqaDrLoagdIJsUAyaQYIJkUAySTMTURaIZUHI4Yz4DX2CCHXgfRq1IJGfC6icrZYhH3WV6Edt16Do1XmRhzxLjO//B3iPGFcnC4irevC7zNim2/2GGNG0dYRnyIPFJ4hCX1WfAulIH3REQHz+FkxViRlsZcVJPVCE9nWDsiK08226x33GROXA3fbdrBstUOkEyKAZJJMUAyGRenA1HuDsGMHGuiS4chDYd9RMpKZXhD6xvwmLwhIl8ff4rKqkJySuDW8diwDqeLzHXaQfJk8wV8wDt3PxM4gjgbrW9v4GX2UQV1pYgYYjoNAd2LwWMaFVi3H9HwDJuGNAsXsssW22iiTiCRZtE1Dbc1InicxloZddbkff3GxROgdoBkUgyQTIoBkskYOoFYj8cRKhppkFbdAYRyi3VUZ9iwDs2H1OtbLOjWQnTsuAbpWUzCPyCi5bOvCTw7g8x1hbXyHT6FEV377KHAuSgE8cBkQ9lm8bnNzP2BhxxRKgk/g4jaUQj72hF8gskC8vsrF+D9pNncqMMjJOVdVuSbnoRGfOvb3xI4eSb4j6kdIJkUAySTYoBkMrITQV7FslgZ6QgW8WEVQZXtGiRjNAkjmtXdUt+GJI0kIIg7DUjJpSKEPhFdv/m2wHc//ovAgwbcjo7Jmv9Y9oNYcW6vjc97Nl6nz653Qizpr7NqXKJCHvL9cA9vaoQR23nn3W8K/NeHm8BbKM7VC9CIb99+V+DMBFTOy6PgerUDJJNigGRSDJBMRuFUMFlMdm/t7QrcYVbtEYv7l9lg5zNLiB0d7rABrSNY4G+u3hR4Lj+mA371m18LfPfhJwKHE6gLLpTfELhYYmOr+8iAOy6Edb+FHIPFsu16HnLf03A9EWlsLiD5KDmwLES97tzFNGyzCc+pOPcNgedWUIJmuWhh//IjFPPWa4FHpXaAZFIMkEyKAZLJGEWCNO/5q2XxqbeNPPAiy/36IdjyTTagX0vA0J5fRYyICHri1q3vCfzwL4/ZNVQboattYgFhqF4H3RDJJAq2ylOrAh9sorA3G4fKSfmQ+yOCsG6yHvTW2KwO8jyoBM2A+qm18RYj1u+XZzGifBTXuPgn0YM9+Af+AN/1bVWY9WqQYoBkUgyQTMZADwTh3AIE5ZursNOzE7CCG4fwA6wGP3MGwvfMNJo4wglkb6t1GOahJAQ9ESUn8TvYY7OcZioXBV5eQV3QSEPsSdfgvhgxyP2nTdj7vsZs/wiM/XQGaWoiyrFYUN+GVhsbLEL4fOgirBRiTd59FoZyRwhhuUNcEw4FkTS1AySTYoBkUgyQTMaLrcCcnzwHP6DGjrC5UYa127eR1+22IQG1PqRbxIEuaezD6Db1lwLnJ8YmJR2ZsJwPmrz0CCmHeBZyv8fs934POuD4JYL4LRbE1xP4nRXSCFv1/TFHwCWs1jDwaN+H3I+w1MeIECVrsxmzB/uIpEVSUEshHW/ddQPNonaAZFIMkEyKAZLJyJ2G9eemMYjDPILNXt+A7d89hIBuHcHaPW7gmlQOtr/J+gl6DmJHu7WxwnyHGctXLiOYnozCXRiwlHXIQHJ1geUJfpjDlO1ff/FfAt832YAoAyVJkRCEOBGFbTbPLwJV4bDhTW0Lb+QOGLbZaZot1rLQwU88lYE27bmB+lE7QDIpBkgmxQDJZDinNnjtOSLX2gAC9+O7HwlsdyCU/T4s3G4H1/fmEcy5cAECfX0XhfxaeMwP+OoqJl/Xm7Dr+Uw904KQJXbY2/QsGrVf66D/+8MnfxI4w3yI5fnzAo9SY2cJOUzNtE3kfn3WVrZf3WKfQ4VEDGi1EcuiawZzR9ivPRpWsaBXgxQDJJNigGQyHD/wAx7eh4yO5WDhTrBesOISOqeeP0Df78CCpVw7QF3QylWcR//GGwjodzpjQZjNdTy6z9rQ2ibUkuMhPOWFcY3J8gFzk7Dx7TwGPGk2dMNhEy4OHTO9QtRnR8/32ehad8ji+w6fOcuyGqxNQWfCnh935wyhHV1fHej8apBigGRSDJBMigGSyVi8Fkwu77ahVKdnwZgzFWSuoyGUrB7tQE1ZPlTTMITIWo9p1P0mqmj5dF0ialXZUaTbUJgd1iEdPQsFG9KBn+yhqKt0C4G5r137gcDm3Z8LXDOh8EfdsSnu/gjp9yFzAj02D8zQkKjRDVZoxebEh1lre4ydxDFggbzB6X9M7QDJpBggmRQDJJNRbQR+U4wdL+Q0wJhOEtJwwJrxuINmh+FYReNoUdvYeClwPI0vP7qHTmsiykVREVVKIp9T20YXnFtEPW8hDaGsNTC+9ulHyIT0CyjqimgQvnoXjli3MzY5l8IoLRiyfH0kymq82EGBnsvmzUfz7HME40YOsMH6QWwvcMrUDpBMigGSSTFAMhmdehDwSrIsR4MlWKwBQlQLF88JXK0iEd9mM43KcWQ59vYRTXuNBebKM2zkEpFrQci2u3icwxrwRsc4LdtiobyehSqoxgHrgmsjeNfrsUkabN6IT2NJeZcNWY8mEET73t8jjJjOIqB2/xOopfoBbmsQhvMOPBaYYxo0dhrIUztAMikGSCbFAMlk5CJB4KJThwAtTkIfELNe221IwCETxNMFJGrySfgHxyxbcrADfTA5xRv56DM2oL3TxSMSLJAyw7PeGmJH/T5miQxYo3Z8yGQ9q661WRbFD431ifDLXAdxISOC2976/tcFXr2Jt354Dy7L//4B6sdi4awRG2ul+2pg06tBigGSSTFAMhnDXmD8RhKIbBgxSMCFRRRX7dYQbIklEfXOTECmZ9LQAYU4gjC7m5CSi99AdRQRpcKodhrp6O9IpLGMcgKfG+zIImJVsV3WWeezDjp+fYjZ/o4zVhvgsZHl2gjqYe1PjwReuoR+8YvX4BV9/TvQmpkZ4LXf47t7T+GO6IPs6XoUSSXFAMmkGCCZjGQ5kI9GDMwIRSABkxnohlCdTUZNYDxFi7UqFNhwj0IJgvvJOr7barMJfESzcxWBd/egZgYsjp9kyyuxo04zUch3s4NYv6FxfcBeIYT76NqYH8DEPvkO/mjuw5j/6X98IPC//Os7Av/NrasCX78O3VA5i3OnPvg5zh58sBakptUOkEyKAZJJMUAyGfFyICttZgWnCrDrXYOdeMDKTtMZXKMzobx7hEjI2VnogzPnMWlvfQvBfSJ67TKM65cmfIIEO6rOYMOY4uxE1KU51AgdPIH+8FgVrc/sfZ13TOhjBzjE2KmpRMwrYvNdu0do3Hj/J5g1mIpC1l+8gp6RiQxyxbf/EQP8jg/ePwFqB0gmxQDJpBggmQz7NK4fYueEcml43IfN3vUQ0S4XMdZuaho53g9/+0TgAjscbvUaBP3a/6yNLSKGR5xbQZC9+gQ54RSbE5tk0++uTkMH7Dcxa3CrAX2gjZisZ5OVvDE3gBwWPmKZCHJGTIWwOeCjAa7/8Y//XeASa3mfnkM74u1/wujaG28FfoPaAZJJMUAyKQZIJsPuBfIxHGKH77DuNV7rGQ+jFe3lxpcCP/4cpy74PdQUNdixBhMXURe0OIccAxFprJhyeRYz/8z7SFM77ADPzAS+ns8i3FQuwu1o2XidOktlh0Jscl54bHg30w7ksFDSfKUi8D/c/juBj+2nAjcslKi22i8FrkKL0fs/wzlzS/PBK6gdIJkUAySTYoBkMmbKlRNkWYjh2EPWweyDSVaTDeFrIUqeZpPwfFZZ77IRSMdNRFEqS/AhiOjRM9QFZebRknbpTQzx2N9EjCg+hXR0tY/bspmstDSLGYR9C+1vtgefw7HHZrJqbFCfRkxV6PAXInF8Pc3mSWkpNtS7jHW4C9Cgu8+w1I/WAg2qdoBkUgyQTP8Pn1EdDRneKyYAAAAASUVORK5CYII=\\n\", \"height\": 128, \"channels\": 3, \"width\": 128, \"type\": \"image\", \"id\": 4777802192}, {\"format\": \"png\", \"value\": \"image/png;base64,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\\n\", \"height\": 128, \"channels\": 3, \"width\": 128, \"type\": \"image\", \"id\": 4777802256}, {\"format\": \"png\", \"value\": \"image/png;base64,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\\n\", \"height\": 128, \"channels\": 3, \"width\": 128, \"type\": \"image\", \"id\": 4777802320}, {\"format\": \"png\", \"value\": \"image/png;base64,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\\n\", \"height\": 128, \"channels\": 3, \"width\": 128, \"type\": \"image\", \"id\": 4777802384}, {\"format\": \"png\", \"value\": \"image/png;base64,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\\n\", \"height\": 128, \"channels\": 3, \"width\": 128, \"type\": \"image\", \"id\": 4777802448}], \"selected_variable\": {\"name\": [\"<SArray>\"], \"dtype\": \"Image\", \"view_component\": \"Images\", \"view_file\": \"sarray\", \"descriptives\": {\"rows\": 5}, \"type\": \"SArray\", \"view_components\": [\"Images\"]}}, e);\n",
       "                });\n",
       "            })();\n",
       "        "
      ]
     },
     "metadata": {},
     "output_type": "display_data"
    }
   ],
   "source": [
    "graphlab.image_analysis.resize(gl_img['image'][:5], 128,128).show()"
   ]
  },
  {
   "cell_type": "markdown",
   "metadata": {
    "slideshow": {
     "slide_type": "slide"
    }
   },
   "source": [
    "<a id=\"next-we-can-pull-in-our-own-image\"></a>\n",
    "## Next we can pull in our own image"
   ]
  },
  {
   "cell_type": "code",
   "execution_count": 4,
   "metadata": {
    "slideshow": {
     "slide_type": "-"
    }
   },
   "outputs": [
    {
     "data": {
      "text/html": [
       "<pre>Downloading https://pbs.twimg.com/profile_images/627283912075702272/gsmHwYrT.jpg to /var/tmp/graphlab-kiefer/1854/6cce1b9d-f414-4997-8152-5a77ab07a531.jpg</pre>"
      ],
      "text/plain": [
       "Downloading https://pbs.twimg.com/profile_images/627283912075702272/gsmHwYrT.jpg to /var/tmp/graphlab-kiefer/1854/6cce1b9d-f414-4997-8152-5a77ab07a531.jpg"
      ]
     },
     "metadata": {},
     "output_type": "display_data"
    },
    {
     "data": {
      "application/javascript": [
       "$(\"head\").append($(\"<link/>\").attr({\n",
       "  rel:  \"stylesheet\",\n",
       "  type: \"text/css\",\n",
       "  href: \"//cdnjs.cloudflare.com/ajax/libs/font-awesome/4.1.0/css/font-awesome.min.css\"\n",
       "}));\n",
       "$(\"head\").append($(\"<link/>\").attr({\n",
       "  rel:  \"stylesheet\",\n",
       "  type: \"text/css\",\n",
       "  href: \"https://static.turi.com/products/graphlab-create/2.1/canvas/css/canvas.css\"\n",
       "}));\n",
       "\n",
       "            (function(){\n",
       "\n",
       "                var e = null;\n",
       "                if (typeof element == 'undefined') {\n",
       "                    var scripts = document.getElementsByTagName('script');\n",
       "                    var thisScriptTag = scripts[scripts.length-1];\n",
       "                    var parentDiv = thisScriptTag.parentNode;\n",
       "                    e = document.createElement('div');\n",
       "                    parentDiv.appendChild(e);\n",
       "                } else {\n",
       "                    e = element[0];\n",
       "                }\n",
       "\n",
       "                if (typeof requirejs !== 'undefined') {\n",
       "                    // disable load timeout; ipython_app.js is large and can take a while to load.\n",
       "                    requirejs.config({waitSeconds: 0});\n",
       "                }\n",
       "\n",
       "                require(['https://static.turi.com/products/graphlab-create/2.1/canvas/js/ipython_app.js'], function(IPythonApp){\n",
       "                    var app = new IPythonApp();\n",
       "                    app.attachView('sarray','Images', {\"ipython\": true, \"rows\": [{\"format\": \"png\", \"value\": \"image/png;base64,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\\n\", \"height\": 128, \"channels\": 3, \"width\": 128, \"type\": \"image\", \"id\": 4777858960}], \"selected_variable\": {\"name\": [\"<SArray>\"], \"dtype\": \"Image\", \"view_component\": \"Images\", \"view_file\": \"sarray\", \"descriptives\": {\"rows\": 1}, \"type\": \"SArray\", \"view_components\": [\"Images\"]}}, e);\n",
       "                });\n",
       "            })();\n",
       "        "
      ]
     },
     "metadata": {},
     "output_type": "display_data"
    }
   ],
   "source": [
    "img = graphlab.Image('https://pbs.twimg.com/profile_images/627283912075702272/gsmHwYrT.jpg')\n",
    "ppsf = graphlab.SArray([img])\n",
    "ppsf = graphlab.image_analysis.resize(ppsf, 32,32)\n",
    "graphlab.image_analysis.resize(ppsf, 128,128).show()"
   ]
  },
  {
   "cell_type": "code",
   "execution_count": 5,
   "metadata": {},
   "outputs": [
    {
     "data": {
      "text/html": [
       "<div style=\"max-height:1000px;max-width:1500px;overflow:auto;\"><table frame=\"box\" rules=\"cols\">\n",
       "    <tr>\n",
       "        <th style=\"padding-left: 1em; padding-right: 1em; text-align: center\">image</th>\n",
       "    </tr>\n",
       "    <tr>\n",
       "        <td style=\"padding-left: 1em; padding-right: 1em; text-align: center; vertical-align: top\">Height: 32 Width: 32</td>\n",
       "    </tr>\n",
       "</table>\n",
       "[1 rows x 1 columns]<br/>\n",
       "</div>"
      ],
      "text/plain": [
       "Columns:\n",
       "\timage\tImage\n",
       "\n",
       "Rows: 1\n",
       "\n",
       "Data:\n",
       "+----------------------+\n",
       "|        image         |\n",
       "+----------------------+\n",
       "| Height: 32 Width: 32 |\n",
       "+----------------------+\n",
       "[1 rows x 1 columns]"
      ]
     },
     "execution_count": 5,
     "metadata": {},
     "output_type": "execute_result"
    }
   ],
   "source": [
    "ppsf = graphlab.SFrame(ppsf).rename({'X1': 'image'})\n",
    "ppsf"
   ]
  },
  {
   "cell_type": "markdown",
   "metadata": {
    "slideshow": {
     "slide_type": "slide"
    }
   },
   "source": [
    "<a id=\"next-we-need-to-extract-the-deep-features-from-our-image\"></a>\n",
    "## Next we need to extract the deep features from our image"
   ]
  },
  {
   "cell_type": "code",
   "execution_count": 6,
   "metadata": {
    "slideshow": {
     "slide_type": "-"
    }
   },
   "outputs": [
    {
     "data": {
      "text/html": [
       "<pre>Downloading https://static.turi.com/products/graphlab-create/resources/models/python2.7/imagenet_model_iter45/dir_archive.ini to /var/tmp/graphlab-kiefer/1854/7e9ff59b-9214-4804-8867-e5653d1c37ed.ini</pre>"
      ],
      "text/plain": [
       "Downloading https://static.turi.com/products/graphlab-create/resources/models/python2.7/imagenet_model_iter45/dir_archive.ini to /var/tmp/graphlab-kiefer/1854/7e9ff59b-9214-4804-8867-e5653d1c37ed.ini"
      ]
     },
     "metadata": {},
     "output_type": "display_data"
    },
    {
     "data": {
      "text/html": [
       "<pre>Downloading https://static.turi.com/products/graphlab-create/resources/models/python2.7/imagenet_model_iter45/objects.bin to /var/tmp/graphlab-kiefer/1854/732ddb0e-1986-4555-8c95-ba4005d06a32.bin</pre>"
      ],
      "text/plain": [
       "Downloading https://static.turi.com/products/graphlab-create/resources/models/python2.7/imagenet_model_iter45/objects.bin to /var/tmp/graphlab-kiefer/1854/732ddb0e-1986-4555-8c95-ba4005d06a32.bin"
      ]
     },
     "metadata": {},
     "output_type": "display_data"
    },
    {
     "data": {
      "text/html": [
       "<pre>Images being resized.</pre>"
      ],
      "text/plain": [
       "Images being resized."
      ]
     },
     "metadata": {},
     "output_type": "display_data"
    },
    {
     "data": {
      "text/html": [
       "<div style=\"max-height:1000px;max-width:1500px;overflow:auto;\"><table frame=\"box\" rules=\"cols\">\n",
       "    <tr>\n",
       "        <th style=\"padding-left: 1em; padding-right: 1em; text-align: center\">image</th>\n",
       "        <th style=\"padding-left: 1em; padding-right: 1em; text-align: center\">deep_features</th>\n",
       "    </tr>\n",
       "    <tr>\n",
       "        <td style=\"padding-left: 1em; padding-right: 1em; text-align: center; vertical-align: top\">Height: 32 Width: 32</td>\n",
       "        <td style=\"padding-left: 1em; padding-right: 1em; text-align: center; vertical-align: top\">[1.57483696938, 0.0, 0.0,<br>0.0, 0.0, 0.0, ...</td>\n",
       "    </tr>\n",
       "</table>\n",
       "[1 rows x 2 columns]<br/>\n",
       "</div>"
      ],
      "text/plain": [
       "Columns:\n",
       "\timage\tImage\n",
       "\tdeep_features\tarray\n",
       "\n",
       "Rows: 1\n",
       "\n",
       "Data:\n",
       "+----------------------+-------------------------------+\n",
       "|        image         |         deep_features         |\n",
       "+----------------------+-------------------------------+\n",
       "| Height: 32 Width: 32 | [1.57483696938, 0.0, 0.0, ... |\n",
       "+----------------------+-------------------------------+\n",
       "[1 rows x 2 columns]"
      ]
     },
     "execution_count": 6,
     "metadata": {},
     "output_type": "execute_result"
    }
   ],
   "source": [
    "extractor = graphlab.feature_engineering.DeepFeatureExtractor(features='image', model='auto')\n",
    "extractor = extractor.fit(ppsf)\n",
    "ppsf['deep_features'] = extractor.transform(ppsf)['deep_features.image']\n",
    "ppsf"
   ]
  },
  {
   "cell_type": "markdown",
   "metadata": {
    "slideshow": {
     "slide_type": "slide"
    }
   },
   "source": [
    "<a id=\"then-we-append-it-to-our-sframe\"></a>\n",
    "## Then we append it to our SFrame"
   ]
  },
  {
   "cell_type": "code",
   "execution_count": 7,
   "metadata": {
    "slideshow": {
     "slide_type": "-"
    }
   },
   "outputs": [
    {
     "data": {
      "text/html": [
       "<div style=\"max-height:1000px;max-width:1500px;overflow:auto;\"><table frame=\"box\" rules=\"cols\">\n",
       "    <tr>\n",
       "        <th style=\"padding-left: 1em; padding-right: 1em; text-align: center\">id</th>\n",
       "        <th style=\"padding-left: 1em; padding-right: 1em; text-align: center\">image</th>\n",
       "        <th style=\"padding-left: 1em; padding-right: 1em; text-align: center\">label</th>\n",
       "        <th style=\"padding-left: 1em; padding-right: 1em; text-align: center\">deep_features</th>\n",
       "    </tr>\n",
       "    <tr>\n",
       "        <td style=\"padding-left: 1em; padding-right: 1em; text-align: center; vertical-align: top\">49840</td>\n",
       "        <td style=\"padding-left: 1em; padding-right: 1em; text-align: center; vertical-align: top\">Height: 32 Width: 32</td>\n",
       "        <td style=\"padding-left: 1em; padding-right: 1em; text-align: center; vertical-align: top\">cat</td>\n",
       "        <td style=\"padding-left: 1em; padding-right: 1em; text-align: center; vertical-align: top\">[0.0344250798225, 0.0,<br>0.0, 0.0, 0.0, 0.0, ...</td>\n",
       "    </tr>\n",
       "    <tr>\n",
       "        <td style=\"padding-left: 1em; padding-right: 1em; text-align: center; vertical-align: top\">49845</td>\n",
       "        <td style=\"padding-left: 1em; padding-right: 1em; text-align: center; vertical-align: top\">Height: 32 Width: 32</td>\n",
       "        <td style=\"padding-left: 1em; padding-right: 1em; text-align: center; vertical-align: top\">dog</td>\n",
       "        <td style=\"padding-left: 1em; padding-right: 1em; text-align: center; vertical-align: top\">[0.125242829323, 0.0,<br>0.0, 0.0, 0.0, 0.0, ...</td>\n",
       "    </tr>\n",
       "    <tr>\n",
       "        <td style=\"padding-left: 1em; padding-right: 1em; text-align: center; vertical-align: top\">49881</td>\n",
       "        <td style=\"padding-left: 1em; padding-right: 1em; text-align: center; vertical-align: top\">Height: 32 Width: 32</td>\n",
       "        <td style=\"padding-left: 1em; padding-right: 1em; text-align: center; vertical-align: top\">bird</td>\n",
       "        <td style=\"padding-left: 1em; padding-right: 1em; text-align: center; vertical-align: top\">[0.0, 0.0, 0.0, 0.0, 0.0,<br>0.0, 9.30746841431, 0.0, ...</td>\n",
       "    </tr>\n",
       "    <tr>\n",
       "        <td style=\"padding-left: 1em; padding-right: 1em; text-align: center; vertical-align: top\">49896</td>\n",
       "        <td style=\"padding-left: 1em; padding-right: 1em; text-align: center; vertical-align: top\">Height: 32 Width: 32</td>\n",
       "        <td style=\"padding-left: 1em; padding-right: 1em; text-align: center; vertical-align: top\">cat</td>\n",
       "        <td style=\"padding-left: 1em; padding-right: 1em; text-align: center; vertical-align: top\">[0.0, 0.0,<br>0.592454433441, 0.0,  ...</td>\n",
       "    </tr>\n",
       "    <tr>\n",
       "        <td style=\"padding-left: 1em; padding-right: 1em; text-align: center; vertical-align: top\">49913</td>\n",
       "        <td style=\"padding-left: 1em; padding-right: 1em; text-align: center; vertical-align: top\">Height: 32 Width: 32</td>\n",
       "        <td style=\"padding-left: 1em; padding-right: 1em; text-align: center; vertical-align: top\">automobile</td>\n",
       "        <td style=\"padding-left: 1em; padding-right: 1em; text-align: center; vertical-align: top\">[1.2023819685,<br>0.342965483665, 0.0,  ...</td>\n",
       "    </tr>\n",
       "    <tr>\n",
       "        <td style=\"padding-left: 1em; padding-right: 1em; text-align: center; vertical-align: top\">49919</td>\n",
       "        <td style=\"padding-left: 1em; padding-right: 1em; text-align: center; vertical-align: top\">Height: 32 Width: 32</td>\n",
       "        <td style=\"padding-left: 1em; padding-right: 1em; text-align: center; vertical-align: top\">automobile</td>\n",
       "        <td style=\"padding-left: 1em; padding-right: 1em; text-align: center; vertical-align: top\">[0.0, 0.0, 0.0,<br>0.769036352634, 0.0,  ...</td>\n",
       "    </tr>\n",
       "    <tr>\n",
       "        <td style=\"padding-left: 1em; padding-right: 1em; text-align: center; vertical-align: top\">49927</td>\n",
       "        <td style=\"padding-left: 1em; padding-right: 1em; text-align: center; vertical-align: top\">Height: 32 Width: 32</td>\n",
       "        <td style=\"padding-left: 1em; padding-right: 1em; text-align: center; vertical-align: top\">dog</td>\n",
       "        <td style=\"padding-left: 1em; padding-right: 1em; text-align: center; vertical-align: top\">[0.558163285255, 0.0,<br>1.05110442638, 0.0, 0.0, ...</td>\n",
       "    </tr>\n",
       "    <tr>\n",
       "        <td style=\"padding-left: 1em; padding-right: 1em; text-align: center; vertical-align: top\">49958</td>\n",
       "        <td style=\"padding-left: 1em; padding-right: 1em; text-align: center; vertical-align: top\">Height: 32 Width: 32</td>\n",
       "        <td style=\"padding-left: 1em; padding-right: 1em; text-align: center; vertical-align: top\">cat</td>\n",
       "        <td style=\"padding-left: 1em; padding-right: 1em; text-align: center; vertical-align: top\">[0.674960494041, 0.0,<br>0.0, 1.9640891552, ...</td>\n",
       "    </tr>\n",
       "    <tr>\n",
       "        <td style=\"padding-left: 1em; padding-right: 1em; text-align: center; vertical-align: top\">49970</td>\n",
       "        <td style=\"padding-left: 1em; padding-right: 1em; text-align: center; vertical-align: top\">Height: 32 Width: 32</td>\n",
       "        <td style=\"padding-left: 1em; padding-right: 1em; text-align: center; vertical-align: top\">cat</td>\n",
       "        <td style=\"padding-left: 1em; padding-right: 1em; text-align: center; vertical-align: top\">[1.07501864433, 0.0, 0.0,<br>0.0, 0.0, 0.0, ...</td>\n",
       "    </tr>\n",
       "    <tr>\n",
       "        <td style=\"padding-left: 1em; padding-right: 1em; text-align: center; vertical-align: top\">50000</td>\n",
       "        <td style=\"padding-left: 1em; padding-right: 1em; text-align: center; vertical-align: top\">Height: 32 Width: 32</td>\n",
       "        <td style=\"padding-left: 1em; padding-right: 1em; text-align: center; vertical-align: top\">me</td>\n",
       "        <td style=\"padding-left: 1em; padding-right: 1em; text-align: center; vertical-align: top\">[1.57483696938, 0.0, 0.0,<br>0.0, 0.0, 0.0, ...</td>\n",
       "    </tr>\n",
       "</table>\n",
       "[10 rows x 4 columns]<br/>\n",
       "</div>"
      ],
      "text/plain": [
       "Columns:\n",
       "\tid\tint\n",
       "\timage\tImage\n",
       "\tlabel\tstr\n",
       "\tdeep_features\tarray\n",
       "\n",
       "Rows: 10\n",
       "\n",
       "Data:\n",
       "+-------+----------------------+------------+-------------------------------+\n",
       "|   id  |        image         |   label    |         deep_features         |\n",
       "+-------+----------------------+------------+-------------------------------+\n",
       "| 49840 | Height: 32 Width: 32 |    cat     | [0.0344250798225, 0.0, 0.0... |\n",
       "| 49845 | Height: 32 Width: 32 |    dog     | [0.125242829323, 0.0, 0.0,... |\n",
       "| 49881 | Height: 32 Width: 32 |    bird    | [0.0, 0.0, 0.0, 0.0, 0.0, ... |\n",
       "| 49896 | Height: 32 Width: 32 |    cat     | [0.0, 0.0, 0.592454433441,... |\n",
       "| 49913 | Height: 32 Width: 32 | automobile | [1.2023819685, 0.342965483... |\n",
       "| 49919 | Height: 32 Width: 32 | automobile | [0.0, 0.0, 0.0, 0.76903635... |\n",
       "| 49927 | Height: 32 Width: 32 |    dog     | [0.558163285255, 0.0, 1.05... |\n",
       "| 49958 | Height: 32 Width: 32 |    cat     | [0.674960494041, 0.0, 0.0,... |\n",
       "| 49970 | Height: 32 Width: 32 |    cat     | [1.07501864433, 0.0, 0.0, ... |\n",
       "| 50000 | Height: 32 Width: 32 |     me     | [1.57483696938, 0.0, 0.0, ... |\n",
       "+-------+----------------------+------------+-------------------------------+\n",
       "[10 rows x 4 columns]"
      ]
     },
     "execution_count": 7,
     "metadata": {},
     "output_type": "execute_result"
    }
   ],
   "source": [
    "ppsf['label'] = 'me'\n",
    "gl_img['id'].max()\n",
    "\n",
    "ppsf['id'] = 50000\n",
    "labels = ['id', 'image', 'label', 'deep_features']\n",
    "part_train = gl_img[labels]\n",
    "new_train = part_train.append(ppsf[labels])\n",
    "new_train.tail()"
   ]
  },
  {
   "cell_type": "markdown",
   "metadata": {
    "slideshow": {
     "slide_type": "slide"
    }
   },
   "source": [
    "<a id=\"now-we-use-knn-to-find-our-spirit-animal\"></a>\n",
    "## Now we use knn to find our spirit animal"
   ]
  },
  {
   "cell_type": "code",
   "execution_count": 8,
   "metadata": {
    "slideshow": {
     "slide_type": "-"
    }
   },
   "outputs": [
    {
     "data": {
      "text/html": [
       "<pre>Starting brute force nearest neighbors model training.</pre>"
      ],
      "text/plain": [
       "Starting brute force nearest neighbors model training."
      ]
     },
     "metadata": {},
     "output_type": "display_data"
    },
    {
     "data": {
      "text/html": [
       "<pre>Starting pairwise querying.</pre>"
      ],
      "text/plain": [
       "Starting pairwise querying."
      ]
     },
     "metadata": {},
     "output_type": "display_data"
    },
    {
     "data": {
      "text/html": [
       "<pre>+--------------+---------+-------------+--------------+</pre>"
      ],
      "text/plain": [
       "+--------------+---------+-------------+--------------+"
      ]
     },
     "metadata": {},
     "output_type": "display_data"
    },
    {
     "data": {
      "text/html": [
       "<pre>| Query points | # Pairs | % Complete. | Elapsed Time |</pre>"
      ],
      "text/plain": [
       "| Query points | # Pairs | % Complete. | Elapsed Time |"
      ]
     },
     "metadata": {},
     "output_type": "display_data"
    },
    {
     "data": {
      "text/html": [
       "<pre>+--------------+---------+-------------+--------------+</pre>"
      ],
      "text/plain": [
       "+--------------+---------+-------------+--------------+"
      ]
     },
     "metadata": {},
     "output_type": "display_data"
    },
    {
     "data": {
      "text/html": [
       "<pre>| 0            | 1       | 0.0498504   | 21.923ms     |</pre>"
      ],
      "text/plain": [
       "| 0            | 1       | 0.0498504   | 21.923ms     |"
      ]
     },
     "metadata": {},
     "output_type": "display_data"
    },
    {
     "data": {
      "text/html": [
       "<pre>| Done         |         | 100         | 305.152ms    |</pre>"
      ],
      "text/plain": [
       "| Done         |         | 100         | 305.152ms    |"
      ]
     },
     "metadata": {},
     "output_type": "display_data"
    },
    {
     "data": {
      "text/html": [
       "<pre>+--------------+---------+-------------+--------------+</pre>"
      ],
      "text/plain": [
       "+--------------+---------+-------------+--------------+"
      ]
     },
     "metadata": {},
     "output_type": "display_data"
    },
    {
     "data": {
      "application/javascript": [
       "$(\"head\").append($(\"<link/>\").attr({\n",
       "  rel:  \"stylesheet\",\n",
       "  type: \"text/css\",\n",
       "  href: \"//cdnjs.cloudflare.com/ajax/libs/font-awesome/4.1.0/css/font-awesome.min.css\"\n",
       "}));\n",
       "$(\"head\").append($(\"<link/>\").attr({\n",
       "  rel:  \"stylesheet\",\n",
       "  type: \"text/css\",\n",
       "  href: \"https://static.turi.com/products/graphlab-create/2.1/canvas/css/canvas.css\"\n",
       "}));\n",
       "\n",
       "            (function(){\n",
       "\n",
       "                var e = null;\n",
       "                if (typeof element == 'undefined') {\n",
       "                    var scripts = document.getElementsByTagName('script');\n",
       "                    var thisScriptTag = scripts[scripts.length-1];\n",
       "                    var parentDiv = thisScriptTag.parentNode;\n",
       "                    e = document.createElement('div');\n",
       "                    parentDiv.appendChild(e);\n",
       "                } else {\n",
       "                    e = element[0];\n",
       "                }\n",
       "\n",
       "                if (typeof requirejs !== 'undefined') {\n",
       "                    // disable load timeout; ipython_app.js is large and can take a while to load.\n",
       "                    requirejs.config({waitSeconds: 0});\n",
       "                }\n",
       "\n",
       "                require(['https://static.turi.com/products/graphlab-create/2.1/canvas/js/ipython_app.js'], function(IPythonApp){\n",
       "                    var app = new IPythonApp();\n",
       "                    app.attachView('sarray','Images', {\"ipython\": true, \"rows\": [{\"format\": \"png\", \"value\": \"image/png;base64,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\\n\", \"height\": 128, \"channels\": 3, \"width\": 128, \"type\": \"image\", \"id\": 4767795216}, {\"format\": \"png\", \"value\": \"image/png;base64,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\\n\", \"height\": 128, \"channels\": 3, \"width\": 128, \"type\": \"image\", \"id\": 4767795280}, {\"format\": \"png\", \"value\": \"image/png;base64,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\\n\", \"height\": 128, \"channels\": 3, \"width\": 128, \"type\": \"image\", \"id\": 4767794448}, {\"format\": \"png\", \"value\": \"image/png;base64,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\\n\", \"height\": 128, \"channels\": 3, \"width\": 128, \"type\": \"image\", \"id\": 4767794512}], \"selected_variable\": {\"name\": [\"<SArray>\"], \"dtype\": \"Image\", \"view_component\": \"Images\", \"view_file\": \"sarray\", \"descriptives\": {\"rows\": 4}, \"type\": \"SArray\", \"view_components\": [\"Images\"]}}, e);\n",
       "                });\n",
       "            })();\n",
       "        "
      ]
     },
     "metadata": {},
     "output_type": "display_data"
    }
   ],
   "source": [
    "knn_model = graphlab.nearest_neighbors.create(new_train, features=['deep_features'], label='id')\n",
    "\n",
    "me_test = new_train[-1:]\n",
    "def reveal_my_twin(x):\n",
    "    return gl_img.filter_by(x['reference_label'],'id')\n",
    "\n",
    "spirit_animal = reveal_my_twin(knn_model.query(me_test))\n",
    "graphlab.image_analysis.resize(spirit_animal['image'], 128,128).show()"
   ]
  },
  {
   "cell_type": "markdown",
   "metadata": {
    "slideshow": {
     "slide_type": "slide"
    }
   },
   "source": [
    "<a id=\"independent-exercise\"></a>\n",
    "### Independent Exercise\n",
    "\n",
    "Use the deep features on your own images to find the most similar images."
   ]
  },
  {
   "cell_type": "code",
   "execution_count": null,
   "metadata": {
    "collapsed": true
   },
   "outputs": [],
   "source": []
  }
 ],
 "metadata": {
  "anaconda-cloud": {},
  "celltoolbar": "Slideshow",
  "kernelspec": {
   "display_name": "Python 2",
   "language": "python",
   "name": "python2"
  },
  "language_info": {
   "codemirror_mode": {
    "name": "ipython",
    "version": 2
   },
   "file_extension": ".py",
   "mimetype": "text/x-python",
   "name": "python",
   "nbconvert_exporter": "python",
   "pygments_lexer": "ipython2",
   "version": "2.7.13"
  }
 },
 "nbformat": 4,
 "nbformat_minor": 1
}
