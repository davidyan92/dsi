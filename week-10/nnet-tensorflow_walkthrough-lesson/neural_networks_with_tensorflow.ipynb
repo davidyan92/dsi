{
 "cells": [
  {
   "cell_type": "markdown",
   "metadata": {},
   "source": [
    "<img src=\"http://imgur.com/1ZcRyrc.png\" style=\"float: left; margin: 20px; height: 55px\">\n",
    "\n",
    "# Neural Networks with TensorFlow\n",
    "\n",
    "_Authors: Richard Harris (CHI)_\n",
    "\n",
    "---\n",
    "\n",
    "<a id=\"learning-objectives\"></a>\n",
    "### Learning Objectives\n",
    "- Get a quick overview of neural networks\n",
    "- Build a linear regression in Tensorflow\n",
    "- Tune our approach to linear regression to make it more efficient\n",
    "- Build a Multilayer Perceptron Feed-forward network"
   ]
  },
  {
   "cell_type": "markdown",
   "metadata": {},
   "source": [
    "### Lesson Guide\n",
    "\n",
    "- [Introduction](#introduction)\n",
    "- [What are Neural Networks?](#what-are-neural-networks)\n",
    "- [Pros vs. Cons](#pros-vs-cons)\n",
    "- [Features](#features)\n",
    "- [Outputs](#outputs)\n",
    "- [Hidden Layers](#hidden-layers)\n",
    "- [Activation Function](#activation-function)\n",
    "\t- [ReLU](#relu)\n",
    "\t- [Softmax](#softmax)\n",
    "- [Backpropogation](#backpropogation)\n",
    "- [Epochs and Batch Sizes](#epochs-and-batch-sizes)\n",
    "- [Common Neural Net libraries in Python](#common-neural-net-libraries-in-python)\n",
    "- [Codealong: Linear Models in TensorFlow](#codealong-linear-models-in-tensorflow)\n",
    "\t- [Setup parameters and data that we will use later](#setup-parameters-and-data-that-we-will-use-later)\n",
    "\t- [Create tensors that correspond to our data](#create-tensors-that-correspond-to-our-data)\n",
    "\t- [Create weights to use in our model](#create-weights-to-use-in-our-model)\n",
    "\t- [Define a linear equation](#define-a-linear-equation)\n",
    "\t- [Define a loss function](#define-a-loss-function)\n",
    "\t- [Instantiate an optimizer](#instantiate-an-optimizer)\n",
    "\t- [Time to train our linear regression/neural network](#time-to-train-our-linear-regressionneural-network)\n",
    "\t- [Great, we've got a linear model, but there are still a few things we can improve](#great-weve-got-a-linear-model-but-there-are-still-a-few-things-we-can-improve)\n",
    "\t- [An example with real data](#an-example-with-real-data)\n",
    "\t- [Create tensors that correspond to our data](#create-tensors-that-correspond-to-our-data)\n",
    "\t- [Create weights to use in our model](#create-weights-to-use-in-our-model)\n",
    "\t- [Create model, loss function, and optimizaer](#create-model-loss-function-and-optimizaer)\n",
    "\t- [Scale our data](#scale-our-data)\n",
    "\t- [Train our network on the Boston data](#train-our-network-on-the-boston-data)\n",
    "\t- [Plot MSE over Epochs](#plot-mse-over-epochs)\n",
    "- [Train a Multilayer Perceptron on the Titanic data](#train-a-multilayer-perceptron-on-the-titanic-data)\n",
    "\t- [Load in the titanic data](#load-in-the-titanic-data)\n",
    "\t- [Do a bit of data cleaning](#do-a-bit-of-data-cleaning)\n",
    "\t- [Create tensors](#create-tensors)\n",
    "\t- [Create weights](#create-weights)\n",
    "\t- [Create the structure of the Multilayer Perceptron network](#create-the-structure-of-the-multilayer-perceptron-network)\n",
    "\t- [Define loss function](#define-loss-function)\n",
    "\t- [Define optimizer](#define-optimizer)\n",
    "\t- [Train the network](#train-the-network)\n",
    "\t- [A final example with more hidden layers](#a-final-example-with-more-hidden-layers)\n",
    "- [Additionl Resources](#additionl-resources)\n"
   ]
  },
  {
   "cell_type": "code",
   "execution_count": 1,
   "metadata": {},
   "outputs": [],
   "source": [
    "import numpy as np\n",
    "import pandas as pd\n",
    "import matplotlib.pyplot as plt\n",
    "%matplotlib inline\n",
    "import tensorflow as tf\n",
    "from sklearn.base import TransformerMixin\n",
    "from sklearn.preprocessing import Imputer, LabelBinarizer, OneHotEncoder\n",
    "from sklearn.pipeline import make_pipeline, make_union\n",
    "from sklearn.model_selection import train_test_split"
   ]
  },
  {
   "cell_type": "markdown",
   "metadata": {},
   "source": [
    "<a id=\"introduction\"></a>\n",
    "## Introduction\n",
    "---\n",
    "\n",
    "Neural networks are incredibly powerful and constantly talked about these days -- they've handled tasks such as image classification, [playing Go](http://www.nature.com/news/google-ai-algorithm-masters-ancient-game-of-go-1.19234), and [creating tweets in the style of President Trump](https://twitter.com/deepdrumpf?lang=en) with relatively little effort.\n",
    "\n",
    "This is a rapidly evolving field and represents some of the newest parts of Data Science, thanks to the increase in processing power and scale of data.\n",
    "\n",
    "In short, what you'll find with neural networks are some advantages and disadvantages:"
   ]
  },
  {
   "cell_type": "markdown",
   "metadata": {},
   "source": [
    "<a id=\"what-are-neural-networks\"></a>\n",
    "## What are Neural Networks?\n",
    "---\n",
    "\n",
    "Neural networks, in a single line, attempt to iteratively train a set (or sets) of weights that, when used together, return the most accurate predictions for a set of inputs. Just like many of our past models, the model is trained using a loss function, which our model will attempt to minimize over iterations. Remember that a loss function is some function that takes in our predictions and the actual values and returns some sort of aggregate value that shows how accurate (or not) we were.\n",
    "\n",
    "Neural networks do this by establishing sets of neurons (known as hidden layers) that take in some sort of input(s), apply a weight, and pass that output onward. As we feed more data into the network, it adjusts those weights based on the output of the loss function, until we have highly trained and specific weights.\n",
    "\n",
    "Why does one neuron turn out one way and a second neuron another? That's not generally something we can understand (though attempts have been made, such as Google's Deep Dream). You can understand this as a kind of (very advanced) mathematic optimization."
   ]
  },
  {
   "cell_type": "markdown",
   "metadata": {},
   "source": [
    "![](./assets/images/neuralnet.png)"
   ]
  },
  {
   "cell_type": "markdown",
   "metadata": {},
   "source": [
    "<a id=\"pros-vs-cons\"></a>\n",
    "## Pros vs. Cons\n",
    "---\n",
    "\n",
    "**Advantages**\n",
    "\n",
    "- Exceptionally accurate because we can learn complicated decision boundaries\n",
    "- Appropriate for a vast range of techniques\n",
    "\n",
    "**Disadvantages**\n",
    "\n",
    "- Long training time\n",
    "- Requires more data than most algorithms\n",
    "- Can become very complex and hard to interpret\n",
    "- Less user-friendly coding"
   ]
  },
  {
   "cell_type": "markdown",
   "metadata": {},
   "source": [
    "<a id=\"features\"></a>\n",
    "## Features\n",
    "---\n",
    "\n",
    "Much like our other machine learning techniques, we do need to feed data into the network. While neural networks are pretty good at taking data in any form, it can help the network a lot to reduce the number of inputs when necessary -- particularly with image data. A smaller quantity inputs can usually give just as good results as a larger input without much change in accuracy."
   ]
  },
  {
   "cell_type": "markdown",
   "metadata": {},
   "source": [
    "<a id=\"outputs\"></a>\n",
    "## Outputs\n",
    "---\n",
    "\n",
    "Much like other techniques, we do want some sort of output at the end as well. In most cases:\n",
    "\n",
    "for a regression style technique, one output is usually fine\n",
    "for a classification technique, one output per class is a good idea (in other words, we model a one-against-all approach)\n"
   ]
  },
  {
   "cell_type": "markdown",
   "metadata": {},
   "source": [
    "<a id=\"hidden-layers\"></a>\n",
    "## Hidden Layers\n",
    "---\n",
    "\n",
    "What makes neural networks tick is the idea of hidden layers. Hidden does not mean anything particularly devious here, just that it is not the input or the output layer.\n",
    "\n",
    "Hidden layers can have any number of neurons per layer and you can include any number of layers in a neural network. Inputs into a neuron have different weights that are modified across iterations of the model and have a bias term as well -- you can kind of almost imagine them as mini-linear models (though, that linearity does not need to hold at all)."
   ]
  },
  {
   "cell_type": "markdown",
   "metadata": {},
   "source": [
    "<a id=\"activation-function\"></a>\n",
    "## Activation Function\n",
    "---\n",
    "\n",
    "Neurons also may have an activation function that \"turns them on\" in certain cases. Some examples are:\n",
    "\n",
    "<a id=\"relu\"></a>\n",
    "### ReLU\n",
    "\n",
    "Also known as a [Rectified Linear Unit](https://en.wikipedia.org/wiki/Rectifier_(neural_networks)), this turns the output to 0 if the output would be less than 0 (i.e., take the output and feed it through f(y) = max(0, y)). This means that the neuron is activated when its output is positive and not activated otherwise.\n",
    "\n",
    "<a id=\"softmax\"></a>\n",
    "### Softmax\n",
    "\n",
    "Used frequently at the output layer, this essentially \"squishes\" a bunch of inputs into a normalized scale of 0-1, which is great for creating something akin to a probability of falling into a given class. ([More information here](https://en.wikipedia.org/wiki/Softmax_function))\n",
    "\n",
    "There's a wealth of information on different types of activation functions within [this article](https://en.wikipedia.org/wiki/Activation_function) -- different activation functions, hidden layers, and neurons per layer can change how effective your neural network will be!"
   ]
  },
  {
   "cell_type": "markdown",
   "metadata": {},
   "source": [
    "<a id=\"backpropogation\"></a>\n",
    "## Backpropogation\n",
    "---\n",
    "\n",
    "While there are many ways that a neural network learns, we'll focus in this seminar week on the easiest to understand method. Backpropogation is the process of using how well the network performed compared to the actual outputs and using those errors to propogate changes to the weights in each hidden layer.\n",
    "\n",
    "How do we make good or bad choices within the network? We compare the outputs of the predictions (using the loss function), and make tiny changes to compare the outputs. Most frequently we use a learning rate and a gradient descent method to estimate the changes that our successive models have used."
   ]
  },
  {
   "cell_type": "markdown",
   "metadata": {},
   "source": [
    "<a id=\"epochs-and-batch-sizes\"></a>\n",
    "## Epochs and Batch Sizes\n",
    "---\n",
    "\n",
    "Epochs: The number of iterations of full model fitting (i.e., how many times do you run through the fitting process?) There's no upper limit but generally there will be a point where additional epochs do not generate new insights\n",
    "Batch Size: Neural networks tend to work best when you feed portions of your data in at a time (versus the full set) and adjust weights in between. Smaller batches allow for more frequent updates but may be less consistent in what changes are needed."
   ]
  },
  {
   "cell_type": "markdown",
   "metadata": {},
   "source": [
    "<a id=\"common-neural-net-libraries-in-python\"></a>\n",
    "## Common Neural Net libraries in Python\n",
    "---\n",
    "\n",
    "There are a number of libraries available for neural networks in Python, including:\n",
    "\n",
    "- [Tensorflow](https://www.tensorflow.org/)\n",
    "- [Caffe](http://caffe.berkeleyvision.org/)\n",
    "- [Lasagne](https://lasagne.readthedocs.io/en/latest/)\n",
    "- [Theano](http://deeplearning.net/software/theano/)\n",
    "- [Keras](https://keras.io/)\n",
    "\n",
    "We'll be using the Tensorflow library (by Google) in these examples, but the development environment is very open right now!"
   ]
  },
  {
   "cell_type": "markdown",
   "metadata": {},
   "source": [
    "<a id=\"codealong-linear-models-in-tensorflow\"></a>\n",
    "## Codealong: Linear Models in TensorFlow\n",
    "---"
   ]
  },
  {
   "cell_type": "markdown",
   "metadata": {},
   "source": [
    "Haven't you ever wanted to get rid of those pesky linear models in sklearn? Let's replicate that effort using Tensorflow.\n",
    "\n",
    "Tensorflow works by setting up `tensors`, which essentially hold numeric data of various shapes, and passes them through user-defined operations. The user-defined operations will be our Neural Network layers. When we initialize a session within Tensorflow, that starts the process of filling (or refilling) those tensors. You can imagine this system as actually setting up a set of calculations first and then filling them in with real data later.\n",
    "\n",
    "**Tensors are a lot like vectors and matricies:**\n",
    "- 0D Tensor = Scalar\n",
    "- 1D Tensor = Vector\n",
    "- 2D Tensor = Matrix\n",
    "- 4D Tensor = ??\n",
    "\n",
    "What we'll do here is start with some fake data to show off the basic process and then use some real data to reinforce those lessons.\n",
    "\n",
    "(This first section is taken from [this example](https://github.com/aymericdamien/TensorFlow-Examples/blob/master/notebooks/2_BasicModels/linear_regression.ipynb))"
   ]
  },
  {
   "cell_type": "markdown",
   "metadata": {},
   "source": [
    "<a id=\"setup-parameters-and-data-that-we-will-use-later\"></a>\n",
    "### Setup parameters and data that we will use later"
   ]
  },
  {
   "cell_type": "code",
   "execution_count": 2,
   "metadata": {
    "collapsed": true
   },
   "outputs": [],
   "source": [
    "# Set up some parameters that we will use later\n",
    "\n",
    "learning_rate = 0.01 # Size of Gradient Descent step\n",
    "training_epochs = 2000 # How many times we'll iterate through the full set\n",
    "display_step = 50 # We want to see something every 50 steps"
   ]
  },
  {
   "cell_type": "code",
   "execution_count": 3,
   "metadata": {
    "collapsed": true
   },
   "outputs": [],
   "source": [
    "train_X = np.asarray([3.3,4.4,5.5,6.71,6.93,4.168,9.779,6.182,7.59,2.167,\n",
    "                         7.042,10.791,5.313,7.997,5.654,9.27,3.1])\n",
    "train_Y = np.asarray([1.7,2.76,2.09,3.19,1.694,1.573,3.366,2.596,2.53,1.221,\n",
    "                         2.827,3.465,1.65,2.904,2.42,2.94,1.3])\n",
    "n_samples = train_X.shape[0]"
   ]
  },
  {
   "cell_type": "markdown",
   "metadata": {},
   "source": [
    "<a id=\"create-tensors-that-correspond-to-our-data\"></a>\n",
    "### Create tensors that correspond to our data"
   ]
  },
  {
   "cell_type": "code",
   "execution_count": 4,
   "metadata": {
    "collapsed": true
   },
   "outputs": [],
   "source": [
    "X = tf.placeholder(\"float\")\n",
    "Y = tf.placeholder(\"float\")"
   ]
  },
  {
   "cell_type": "markdown",
   "metadata": {},
   "source": [
    "<a id=\"create-weights-to-use-in-our-model\"></a>\n",
    "### Create weights to use in our model\n",
    "- W will be the weight term, like the beta coefficient in a linear regression\n",
    "- b will be the bias term like the constant in a linear regression"
   ]
  },
  {
   "cell_type": "code",
   "execution_count": 5,
   "metadata": {
    "collapsed": true
   },
   "outputs": [],
   "source": [
    "W = tf.Variable(np.random.randn(), name=\"weight\")\n",
    "b = tf.Variable(np.random.randn(), name=\"bias\")"
   ]
  },
  {
   "cell_type": "markdown",
   "metadata": {},
   "source": [
    "<a id=\"define-a-linear-equation\"></a>\n",
    "### Define a linear equation\n",
    "- As we build more complex networks we can change this equation\n",
    "\n",
    "This sure starts to look like we're trying to identify the weights for an equation that looks like:\n",
    "\n",
    "$Y = b + W \\cdot X$\n",
    "\n",
    "is the same thing as\n",
    "\n",
    "$Y = \\alpha + \\beta \\cdot X$\n",
    "\n",
    "which should look a lot like a linear regression."
   ]
  },
  {
   "cell_type": "code",
   "execution_count": 6,
   "metadata": {
    "collapsed": true
   },
   "outputs": [],
   "source": [
    "pred = tf.add(tf.multiply(X, W), b)"
   ]
  },
  {
   "cell_type": "markdown",
   "metadata": {},
   "source": [
    "<a id=\"define-a-loss-function\"></a>\n",
    "### Define a loss function\n",
    "- As most machine learning models, we need someway to measure how close our prediction are to our actual values.\n",
    "- In this case we use mean squared error, although the syntax may look a little foreign\n",
    "- reduce_sum is the same as a sum in Python"
   ]
  },
  {
   "cell_type": "code",
   "execution_count": 7,
   "metadata": {
    "collapsed": true
   },
   "outputs": [],
   "source": [
    "cost = tf.reduce_sum(tf.pow(pred-Y, 2))/(2*n_samples)"
   ]
  },
  {
   "cell_type": "markdown",
   "metadata": {},
   "source": [
    "So far we've written the optimization problem:\n",
    "\n",
    "$$\\min_{w, b} {\\|y - (Xw + b) \\|}$$\n",
    "\n",
    "Which says that we want to find a set of b and W that makes mean squared error as small as possible on our training data."
   ]
  },
  {
   "cell_type": "markdown",
   "metadata": {},
   "source": [
    "<a id=\"instantiate-an-optimizer\"></a>\n",
    "### Instantiate an optimizer\n",
    "- We still need a way to solve for our weights W\n",
    "- Tensorflow comes with several solvers to do the work for us"
   ]
  },
  {
   "cell_type": "code",
   "execution_count": 8,
   "metadata": {
    "collapsed": true
   },
   "outputs": [],
   "source": [
    "optimizer = tf.train.GradientDescentOptimizer(learning_rate).minimize(cost)"
   ]
  },
  {
   "cell_type": "markdown",
   "metadata": {},
   "source": [
    "<a id=\"time-to-train-our-linear-regressionneural-network\"></a>\n",
    "### Time to train our linear regression/neural network\n",
    "- We instantiate a tensorflow session using tf.Session()\n",
    "- Rather than training the network completely, we will loop every 50 epochs so we can see b and W change and watch our MSE drop."
   ]
  },
  {
   "cell_type": "code",
   "execution_count": 9,
   "metadata": {},
   "outputs": [
    {
     "name": "stdout",
     "output_type": "stream",
     "text": [
      "Epoch: 0050 cost=  0.154262 W= 0.405064 b= -0.316979\n",
      "Epoch: 0100 cost=  0.145331 W= 0.395818 b= -0.25046\n",
      "Epoch: 0150 cost=  0.137431 W= 0.387121 b= -0.187897\n",
      "Epoch: 0200 cost=  0.130444 W= 0.378942 b= -0.129055\n",
      "Epoch: 0250 cost=  0.124264 W= 0.371249 b= -0.0737121\n",
      "Epoch: 0300 cost=  0.118798 W= 0.364013 b= -0.021661\n",
      "Epoch: 0350 cost=  0.113963 W= 0.357208 b= 0.0272943\n",
      "Epoch: 0400 cost=  0.109687 W= 0.350808 b= 0.0733379\n",
      "Epoch: 0450 cost=  0.105905 W= 0.344788 b= 0.116643\n",
      "Epoch: 0500 cost=  0.102560 W= 0.339127 b= 0.157373\n",
      "Epoch: 0550 cost=  0.099602 W= 0.333802 b= 0.19568\n",
      "Epoch: 0600 cost=  0.096985 W= 0.328793 b= 0.231709\n",
      "Epoch: 0650 cost=  0.094671 W= 0.324083 b= 0.265596\n",
      "Epoch: 0700 cost=  0.092624 W= 0.319653 b= 0.297467\n",
      "Epoch: 0750 cost=  0.090814 W= 0.315486 b= 0.327442\n",
      "Epoch: 0800 cost=  0.089213 W= 0.311567 b= 0.355634\n",
      "Epoch: 0850 cost=  0.087797 W= 0.307881 b= 0.38215\n",
      "Epoch: 0900 cost=  0.086545 W= 0.304414 b= 0.407089\n",
      "Epoch: 0950 cost=  0.085438 W= 0.301154 b= 0.430544\n",
      "Epoch: 1000 cost=  0.084459 W= 0.298088 b= 0.452605\n",
      "Epoch: 1050 cost=  0.083593 W= 0.295203 b= 0.473354\n",
      "Epoch: 1100 cost=  0.082827 W= 0.292491 b= 0.492868\n",
      "Epoch: 1150 cost=  0.082150 W= 0.289939 b= 0.511222\n",
      "Epoch: 1200 cost=  0.081551 W= 0.28754 b= 0.528484\n",
      "Epoch: 1250 cost=  0.081022 W= 0.285283 b= 0.54472\n",
      "Epoch: 1300 cost=  0.080553 W= 0.28316 b= 0.559991\n",
      "Epoch: 1350 cost=  0.080139 W= 0.281164 b= 0.574353\n",
      "Epoch: 1400 cost=  0.079773 W= 0.279286 b= 0.587862\n",
      "Epoch: 1450 cost=  0.079450 W= 0.27752 b= 0.600566\n",
      "Epoch: 1500 cost=  0.079164 W= 0.275859 b= 0.612516\n",
      "Epoch: 1550 cost=  0.078911 W= 0.274297 b= 0.623753\n",
      "Epoch: 1600 cost=  0.078687 W= 0.272828 b= 0.634322\n",
      "Epoch: 1650 cost=  0.078489 W= 0.271446 b= 0.644262\n",
      "Epoch: 1700 cost=  0.078315 W= 0.270146 b= 0.653611\n",
      "Epoch: 1750 cost=  0.078160 W= 0.268924 b= 0.662403\n",
      "Epoch: 1800 cost=  0.078024 W= 0.267775 b= 0.670673\n",
      "Epoch: 1850 cost=  0.077903 W= 0.266693 b= 0.678452\n",
      "Epoch: 1900 cost=  0.077796 W= 0.265676 b= 0.685768\n",
      "Epoch: 1950 cost=  0.077702 W= 0.26472 b= 0.69265\n",
      "Epoch: 2000 cost=  0.077619 W= 0.26382 b= 0.699121\n",
      "Optimization finished\n",
      "Training cost= 0.0776185 W= 0.26382 b= 0.699121 \n",
      "\n"
     ]
    },
    {
     "data": {
      "image/png": "[encoded data removed]",
      "text/plain": [
       "<matplotlib.figure.Figure at 0x103ac13d0>"
      ]
     },
     "metadata": {},
     "output_type": "display_data"
    }
   ],
   "source": [
    "# Give initial values to b and w\n",
    "init = tf.global_variables_initializer()\n",
    "\n",
    "with tf.Session() as sess:\n",
    "    sess.run(init)\n",
    "    \n",
    "    # Print results from every few epochs\n",
    "    for epoch in range(training_epochs): \n",
    "        for (x, y) in zip(train_X, train_Y):\n",
    "            sess.run(optimizer, feed_dict={X: x, Y:y})\n",
    "        \n",
    "        \n",
    "        if (epoch+1) % display_step == 0: \n",
    "            c = sess.run(cost, feed_dict={X: train_X, Y:train_Y})\n",
    "            print 'Epoch:', '%04d' % (epoch+1), 'cost=', '{:9f}'.format(c), \\\n",
    "            \"W=\", sess.run(W), \"b=\", sess.run(b)\n",
    "    \n",
    "    print 'Optimization finished'\n",
    "    training_cost = sess.run(cost, feed_dict={X: train_X, Y: train_Y})\n",
    "    print \"Training cost=\", training_cost, \"W=\", sess.run(W), \"b=\", sess.run(b), '\\n'\n",
    "    \n",
    "    \n",
    "    # Plot final regression\n",
    "    plt.plot(train_X, train_Y, 'ro', label='Original Data')\n",
    "    plt.plot(train_X, sess.run(W) * train_X + sess.run(b), label='Fitted Data')\n",
    "    plt.title('Tensorflow-fit Linear Model')\n",
    "    plt.legend()\n",
    "    plt.show()"
   ]
  },
  {
   "cell_type": "markdown",
   "metadata": {},
   "source": [
    "<a id=\"great-weve-got-a-linear-model-but-there-are-still-a-few-things-we-can-improve\"></a>\n",
    "### Great, we've got a linear model, but there are still a few things we can improve\n",
    "- We need to extend this concept to multiple regression with several Ws\n",
    "- We can standardize the inputs to make it easier for the solver to find a solution"
   ]
  },
  {
   "cell_type": "markdown",
   "metadata": {},
   "source": [
    "<a id=\"an-example-with-real-data\"></a>\n",
    "### An example with real data\n",
    "- We'll use the boston data set to implement multiple regression in TensorFlow"
   ]
  },
  {
   "cell_type": "code",
   "execution_count": 10,
   "metadata": {
    "collapsed": true
   },
   "outputs": [],
   "source": [
    "from sklearn.datasets import load_boston\n",
    "\n",
    "boston = load_boston()\n",
    "df = pd.DataFrame(boston.data, columns=boston.feature_names)"
   ]
  },
  {
   "cell_type": "code",
   "execution_count": 11,
   "metadata": {},
   "outputs": [
    {
     "data": {
      "text/html": [
       "<div>\n",
       "<style>\n",
       "    .dataframe thead tr:only-child th {\n",
       "        text-align: right;\n",
       "    }\n",
       "\n",
       "    .dataframe thead th {\n",
       "        text-align: left;\n",
       "    }\n",
       "\n",
       "    .dataframe tbody tr th {\n",
       "        vertical-align: top;\n",
       "    }\n",
       "</style>\n",
       "<table border=\"1\" class=\"dataframe\">\n",
       "  <thead>\n",
       "    <tr style=\"text-align: right;\">\n",
       "      <th></th>\n",
       "      <th>CRIM</th>\n",
       "      <th>ZN</th>\n",
       "      <th>INDUS</th>\n",
       "      <th>CHAS</th>\n",
       "      <th>NOX</th>\n",
       "      <th>RM</th>\n",
       "      <th>AGE</th>\n",
       "      <th>DIS</th>\n",
       "      <th>RAD</th>\n",
       "      <th>TAX</th>\n",
       "      <th>PTRATIO</th>\n",
       "      <th>B</th>\n",
       "      <th>LSTAT</th>\n",
       "    </tr>\n",
       "  </thead>\n",
       "  <tbody>\n",
       "    <tr>\n",
       "      <th>0</th>\n",
       "      <td>0.00632</td>\n",
       "      <td>18.0</td>\n",
       "      <td>2.31</td>\n",
       "      <td>0.0</td>\n",
       "      <td>0.538</td>\n",
       "      <td>6.575</td>\n",
       "      <td>65.2</td>\n",
       "      <td>4.0900</td>\n",
       "      <td>1.0</td>\n",
       "      <td>296.0</td>\n",
       "      <td>15.3</td>\n",
       "      <td>396.90</td>\n",
       "      <td>4.98</td>\n",
       "    </tr>\n",
       "    <tr>\n",
       "      <th>1</th>\n",
       "      <td>0.02731</td>\n",
       "      <td>0.0</td>\n",
       "      <td>7.07</td>\n",
       "      <td>0.0</td>\n",
       "      <td>0.469</td>\n",
       "      <td>6.421</td>\n",
       "      <td>78.9</td>\n",
       "      <td>4.9671</td>\n",
       "      <td>2.0</td>\n",
       "      <td>242.0</td>\n",
       "      <td>17.8</td>\n",
       "      <td>396.90</td>\n",
       "      <td>9.14</td>\n",
       "    </tr>\n",
       "    <tr>\n",
       "      <th>2</th>\n",
       "      <td>0.02729</td>\n",
       "      <td>0.0</td>\n",
       "      <td>7.07</td>\n",
       "      <td>0.0</td>\n",
       "      <td>0.469</td>\n",
       "      <td>7.185</td>\n",
       "      <td>61.1</td>\n",
       "      <td>4.9671</td>\n",
       "      <td>2.0</td>\n",
       "      <td>242.0</td>\n",
       "      <td>17.8</td>\n",
       "      <td>392.83</td>\n",
       "      <td>4.03</td>\n",
       "    </tr>\n",
       "    <tr>\n",
       "      <th>3</th>\n",
       "      <td>0.03237</td>\n",
       "      <td>0.0</td>\n",
       "      <td>2.18</td>\n",
       "      <td>0.0</td>\n",
       "      <td>0.458</td>\n",
       "      <td>6.998</td>\n",
       "      <td>45.8</td>\n",
       "      <td>6.0622</td>\n",
       "      <td>3.0</td>\n",
       "      <td>222.0</td>\n",
       "      <td>18.7</td>\n",
       "      <td>394.63</td>\n",
       "      <td>2.94</td>\n",
       "    </tr>\n",
       "    <tr>\n",
       "      <th>4</th>\n",
       "      <td>0.06905</td>\n",
       "      <td>0.0</td>\n",
       "      <td>2.18</td>\n",
       "      <td>0.0</td>\n",
       "      <td>0.458</td>\n",
       "      <td>7.147</td>\n",
       "      <td>54.2</td>\n",
       "      <td>6.0622</td>\n",
       "      <td>3.0</td>\n",
       "      <td>222.0</td>\n",
       "      <td>18.7</td>\n",
       "      <td>396.90</td>\n",
       "      <td>5.33</td>\n",
       "    </tr>\n",
       "  </tbody>\n",
       "</table>\n",
       "</div>"
      ],
      "text/plain": [
       "      CRIM    ZN  INDUS  CHAS    NOX     RM   AGE     DIS  RAD    TAX  \\\n",
       "0  0.00632  18.0   2.31   0.0  0.538  6.575  65.2  4.0900  1.0  296.0   \n",
       "1  0.02731   0.0   7.07   0.0  0.469  6.421  78.9  4.9671  2.0  242.0   \n",
       "2  0.02729   0.0   7.07   0.0  0.469  7.185  61.1  4.9671  2.0  242.0   \n",
       "3  0.03237   0.0   2.18   0.0  0.458  6.998  45.8  6.0622  3.0  222.0   \n",
       "4  0.06905   0.0   2.18   0.0  0.458  7.147  54.2  6.0622  3.0  222.0   \n",
       "\n",
       "   PTRATIO       B  LSTAT  \n",
       "0     15.3  396.90   4.98  \n",
       "1     17.8  396.90   9.14  \n",
       "2     17.8  392.83   4.03  \n",
       "3     18.7  394.63   2.94  \n",
       "4     18.7  396.90   5.33  "
      ]
     },
     "execution_count": 11,
     "metadata": {},
     "output_type": "execute_result"
    }
   ],
   "source": [
    "df.head()"
   ]
  },
  {
   "cell_type": "code",
   "execution_count": 12,
   "metadata": {},
   "outputs": [
    {
     "data": {
      "text/plain": [
       "array([ 24. ,  21.6,  34.7,  33.4,  36.2])"
      ]
     },
     "execution_count": 12,
     "metadata": {},
     "output_type": "execute_result"
    }
   ],
   "source": [
    "boston.target[0:5]"
   ]
  },
  {
   "cell_type": "markdown",
   "metadata": {},
   "source": [
    "<a id=\"create-tensors-that-correspond-to-our-data\"></a>\n",
    "### Create tensors that correspond to our data\n",
    "- This we tell Tensorflow that our feature matrix has 13 features and our outcome has one vector\n",
    "- We also tell it how many observations we have"
   ]
  },
  {
   "cell_type": "code",
   "execution_count": 13,
   "metadata": {
    "collapsed": true
   },
   "outputs": [],
   "source": [
    "X = tf.placeholder(tf.float32, shape=[None, 13], name='Xs')\n",
    "Y = tf.placeholder(tf.float32, shape=[None, 1], name='Y')\n",
    "n_samples = df.shape[0]"
   ]
  },
  {
   "cell_type": "markdown",
   "metadata": {
    "collapsed": true
   },
   "source": [
    "<a id=\"create-weights-to-use-in-our-model\"></a>\n",
    "### Create weights to use in our model\n"
   ]
  },
  {
   "cell_type": "code",
   "execution_count": 14,
   "metadata": {
    "collapsed": true
   },
   "outputs": [],
   "source": [
    "W = tf.Variable(tf.zeros([13, 1]))\n",
    "b = tf.Variable(tf.zeros([1]))"
   ]
  },
  {
   "cell_type": "markdown",
   "metadata": {},
   "source": [
    "<a id=\"create-model-loss-function-and-optimizaer\"></a>\n",
    "### Create model, loss function, and optimizaer\n",
    "- We will modify the model a little with matrix multiplication so we can use mutiple Ws"
   ]
  },
  {
   "cell_type": "code",
   "execution_count": 15,
   "metadata": {
    "collapsed": true
   },
   "outputs": [],
   "source": [
    "pred = tf.add(tf.matmul(X, W), b)"
   ]
  },
  {
   "cell_type": "code",
   "execution_count": 16,
   "metadata": {
    "collapsed": true
   },
   "outputs": [],
   "source": [
    "cost = tf.reduce_sum(tf.pow(pred-Y, 2))/(2*n_samples)"
   ]
  },
  {
   "cell_type": "code",
   "execution_count": 17,
   "metadata": {
    "collapsed": true
   },
   "outputs": [],
   "source": [
    "optimizer = tf.train.GradientDescentOptimizer(learning_rate).minimize(cost)"
   ]
  },
  {
   "cell_type": "markdown",
   "metadata": {},
   "source": [
    "<a id=\"scale-our-data\"></a>\n",
    "### Scale our data\n",
    "- Optimization problems tend to work best when all the numbers and derivatives are around the same magnitude\n",
    "    - Neural Nets are especially sensitive to this\n",
    "- We will use sklearn to standardize our data"
   ]
  },
  {
   "cell_type": "code",
   "execution_count": 18,
   "metadata": {
    "collapsed": true
   },
   "outputs": [],
   "source": [
    "from sklearn.preprocessing import StandardScaler\n",
    "train_X = StandardScaler().fit_transform(df.values)\n",
    "train_Y = boston.target\n",
    "cost_history = []"
   ]
  },
  {
   "cell_type": "markdown",
   "metadata": {},
   "source": [
    "<a id=\"train-our-network-on-the-boston-data\"></a>\n",
    "### Train our network on the Boston data"
   ]
  },
  {
   "cell_type": "code",
   "execution_count": 19,
   "metadata": {
    "collapsed": true
   },
   "outputs": [],
   "source": [
    "# Set up some parameters that we will use later\n",
    "\n",
    "learning_rate = 0.01 # Size of Gradient Descent step\n",
    "training_epochs = 1000 # How many times we'll iterate through the full set\n",
    "display_step = 50 # We want to see something every 50 steps"
   ]
  },
  {
   "cell_type": "code",
   "execution_count": 20,
   "metadata": {},
   "outputs": [
    {
     "name": "stdout",
     "output_type": "stream",
     "text": [
      "Epoch: 0050 cost= 109.496483 W= [-0.56201518  0.46835619 -0.61104381  0.55889142 -0.47626033  1.81559396\n",
      " -0.36564958 -0.1600478  -0.29272541 -0.57083827 -1.09925532  0.55320776\n",
      " -1.64753366] b= [ 8.90032101] \n",
      "\n",
      "Epoch: 0100 cost= 47.493828 W= [-0.58871984  0.45371988 -0.5614242   0.78619611 -0.43711033  2.575845\n",
      " -0.25068393 -0.6731317  -0.02960126 -0.4996174  -1.44008243  0.66400641\n",
      " -2.27466226] b= [ 14.28506851] \n",
      "\n",
      "Epoch: 0150 cost= 24.869040 W= [-0.59252065  0.44397196 -0.51269847  0.8609367  -0.46293616  2.95881987\n",
      " -0.18989979 -1.04056668  0.18664187 -0.44456077 -1.60275173  0.73729998\n",
      " -2.6562469 ] b= [ 17.54287148] \n",
      "\n",
      "Epoch: 0200 cost= 16.540710 W= [-0.59833997  0.44930342 -0.47929701  0.8714394  -0.53116816  3.14418721\n",
      " -0.16572933 -1.30951416  0.3538354  -0.42011723 -1.68824065  0.79211408\n",
      " -2.90699053] b= [ 19.51386833] \n",
      "\n",
      "Epoch: 0250 cost= 13.430635 W= [-0.60717493  0.46441856 -0.45492196  0.85811615 -0.61741561  3.2223146\n",
      " -0.1580416  -1.51833618  0.4876076  -0.41701069 -1.73758638  0.83189297\n",
      " -3.07863212] b= [ 20.70633125] \n",
      "\n",
      "Epoch: 0300 cost= 12.235949 W= [-0.61820573  0.48562366 -0.4357166   0.83850724 -0.70911598  3.2426517\n",
      " -0.15678839 -1.68852329  0.59888172 -0.42801651 -1.76993215  0.85962808\n",
      " -3.20069814] b= [ 21.42777634] \n",
      "\n",
      "Epoch: 0350 cost= 11.750593 W= [-0.63054341  0.51048243 -0.41958642  0.81957108 -0.80016696  3.2325449\n",
      " -0.15731177 -1.8322103   0.69472635 -0.44824922 -1.79415429  0.8780964\n",
      " -3.29069996] b= [ 21.86425781] \n",
      "\n",
      "Epoch: 0400 cost= 11.532336 W= [-0.64350456  0.53732431 -0.4053587   0.80355954 -0.8877185   3.20715737\n",
      " -0.157585   -1.95652592  0.77967757 -0.47447312 -1.81426358  0.88967198\n",
      " -3.359272  ] b= [ 22.12833214] \n",
      "\n",
      "Epoch: 0450 cost= 11.418046 W= [-0.65662366  0.56498498 -0.3923465   0.79076886 -0.97054261  3.17488003\n",
      " -0.15684137 -2.06586695  0.85665613 -0.50455534 -1.83201385  0.89626992\n",
      " -3.41303134] b= [ 22.28809929] \n",
      "\n",
      "Epoch: 0500 cost= 11.346886 W= [-0.66960186  0.59265786 -0.38012925  0.78078675 -1.04821467  3.14031482\n",
      " -0.15490142 -2.16310096  0.92756146 -0.5370844  -1.84814644  0.89937061\n",
      " -3.45620751] b= [ 22.38475609] \n",
      "\n",
      "Epoch: 0550 cost= 11.295694 W= [-0.6822558   0.61979467 -0.36843985  0.77302837 -1.12070453  3.10593891\n",
      " -0.15184405 -2.25020695  0.99364996 -0.57111776 -1.86297321  0.90008271\n",
      " -3.4915812 ] b= [ 22.4432373] \n",
      "\n",
      "Epoch: 0600 cost= 11.255282 W= [-0.69447571  0.64603603 -0.35710436  0.76694435 -1.18817043  3.07303095\n",
      " -0.14784828 -2.32862902  1.05577171 -0.60601813 -1.87663746  0.89921665\n",
      " -3.52103543] b= [ 22.47861862] \n",
      "\n",
      "Epoch: 0650 cost= 11.221727 W= [-0.70620024  0.6711579  -0.34600896  0.7620886  -1.25085545  3.0421946\n",
      " -0.14311743 -2.39947557  1.11451805 -0.64134759 -1.88922393  0.89735299\n",
      " -3.54588318] b= [ 22.50001907] \n",
      "\n",
      "Epoch: 0700 cost= 11.193125 W= [-0.71739721  0.69503415 -0.33507881  0.75811952 -1.30903685  3.01365733\n",
      " -0.13784531 -2.46363068  1.17031324 -0.67680019 -1.90080452  0.89489931\n",
      " -3.56706738] b= [ 22.51296425] \n",
      "\n",
      "Epoch: 0750 cost= 11.168408 W= [-0.72805369  0.71760541 -0.32426664  0.75478786 -1.36299992  2.98744154\n",
      " -0.13220263 -2.52182531  1.22347283 -0.71215832 -1.91145027  0.89213747\n",
      " -3.58528447] b= [ 22.52080345] \n",
      "\n",
      "Epoch: 0800 cost= 11.146878 W= [-0.73816925  0.73885953 -0.31354448  0.75191468 -1.41302574  2.96345949\n",
      " -0.1263333  -2.57467818  1.2742393  -0.74726546 -1.92123497  0.88925809\n",
      " -3.60106063] b= [ 22.52554321] \n",
      "\n",
      "Epoch: 0850 cost= 11.128015 W= [-0.74775159  0.75881588 -0.30289754  0.74937367 -1.45938408  2.941571\n",
      " -0.12035435 -2.62272239  1.32280588 -0.78200644 -1.93023193  0.88638663\n",
      " -3.61480546] b= [ 22.52840996] \n",
      "\n",
      "Epoch: 0900 cost= 11.111414 W= [-0.7568143   0.7775141  -0.29232073  0.74707639 -1.50233245  2.92161345\n",
      " -0.11435935 -2.6664238   1.36933136 -0.81629634 -1.93851185  0.88360339\n",
      " -3.62683988] b= [ 22.53014565] \n",
      "\n",
      "Epoch: 0950 cost= 11.096749 W= [-0.76537436  0.79500669 -0.28181511  0.74496138 -1.54211354  2.90341806\n",
      " -0.10842109 -2.70619512  1.41394949 -0.85007161 -1.94614196  0.88095683\n",
      " -3.63742399] b= [ 22.53120041] \n",
      "\n",
      "Epoch: 1000 cost= 11.083744 W= [-0.77345103  0.81135422 -0.27138665  0.74298579 -1.5789547   2.88682485\n",
      " -0.10259481 -2.74240303  1.45677555 -0.88328475 -1.95318472  0.87847435\n",
      " -3.64676929] b= [ 22.53183174] \n",
      "\n",
      "Optimization finished\n",
      "Training cost= 11.0837 \n",
      "intercept:  22.5318 \n",
      "\n",
      "CRIM : -0.773451\n",
      "ZN : 0.811354\n",
      "INDUS : -0.271387\n",
      "CHAS : 0.742986\n",
      "NOX : -1.57895\n",
      "RM : 2.88682\n",
      "AGE : -0.102595\n",
      "DIS : -2.7424\n",
      "RAD : 1.45678\n",
      "TAX : -0.883285\n",
      "PTRATIO : -1.95318\n",
      "B : 0.878474\n",
      "LSTAT : -3.64677\n",
      "MSE: 11.0837\n"
     ]
    },
    {
     "data": {
      "image/png": "[encoded data removed]",
      "text/plain": [
       "<matplotlib.figure.Figure at 0x1148e9410>"
      ]
     },
     "metadata": {},
     "output_type": "display_data"
    }
   ],
   "source": [
    "init = tf.global_variables_initializer()\n",
    "\n",
    "with tf.Session() as sess:\n",
    "    sess.run(init)\n",
    "    \n",
    "    for epoch in range(training_epochs): \n",
    "        sess.run(optimizer, feed_dict={X: train_X, Y:train_Y.reshape(506, 1)})\n",
    "        cost_history.append(sess.run(cost, feed_dict={X: train_X, Y:train_Y.reshape(506, 1)}))\n",
    "        \n",
    "        if (epoch+1) % display_step == 0: \n",
    "            c = sess.run(cost, feed_dict={X: train_X, Y: train_Y.reshape(506, 1)})\n",
    "            print 'Epoch:', '%04d' % (epoch+1), 'cost=', '{:9f}'.format(c), \\\n",
    "            \"W=\", sess.run(W).reshape(13,), \"b=\", sess.run(b), '\\n'\n",
    "            \n",
    "    \n",
    "    print 'Optimization finished'\n",
    "    training_cost = sess.run(cost, feed_dict={X: train_X, Y: train_Y.reshape(506,1)})\n",
    "    print \"Training cost=\", training_cost, '\\n', \"intercept: \", sess.run(b)[0],'\\n'\n",
    "    weights = sess.run(W).reshape(13,)\n",
    "    for x in zip(df.columns, weights):\n",
    "        print x[0], ':', x[1]\n",
    "        \n",
    "    pred_y = sess.run(pred, feed_dict={X: train_X})\n",
    "    mse = sess.run(cost, feed_dict={X:train_X, Y:train_Y.reshape(506,1)})\n",
    "    print(\"MSE: %.4f\" % mse) \n",
    "\n",
    "    fig, ax = plt.subplots()\n",
    "    ax.scatter(train_Y, pred_y)\n",
    "    ax.plot([train_Y.min(), train_Y.max()], [train_Y.min(), train_Y.max()], 'k--', lw=3)\n",
    "    ax.set_xlabel('Measured')\n",
    "    ax.set_ylabel('Predicted')\n",
    "    plt.show()"
   ]
  },
  {
   "cell_type": "markdown",
   "metadata": {},
   "source": [
    "This is hard to read because there is more going on, but it's just like Multiple Linear Regression. As we train our network further and further we get better estimates for our parameters and our MSE decreases."
   ]
  },
  {
   "cell_type": "markdown",
   "metadata": {},
   "source": [
    "<a id=\"plot-mse-over-epochs\"></a>\n",
    "### Plot MSE over Epochs"
   ]
  },
  {
   "cell_type": "code",
   "execution_count": 21,
   "metadata": {},
   "outputs": [
    {
     "data": {
      "text/plain": [
       "[<matplotlib.lines.Line2D at 0x11808c210>]"
      ]
     },
     "execution_count": 21,
     "metadata": {},
     "output_type": "execute_result"
    },
    {
     "data": {
      "image/png": "[encoded data removed]",
      "text/plain": [
       "<matplotlib.figure.Figure at 0x117ed8bd0>"
      ]
     },
     "metadata": {},
     "output_type": "display_data"
    }
   ],
   "source": [
    "plt.plot(range(1000) , cost_history)"
   ]
  },
  {
   "cell_type": "markdown",
   "metadata": {},
   "source": [
    "<a id=\"train-a-multilayer-perceptron-on-the-titanic-data\"></a>\n",
    "## Train a Multilayer Perceptron on the Titanic data\n",
    "---\n",
    "\n",
    "- A feedforward multilayer perceptron is one the most well known neural network archtectures\n",
    "- They a structured just like the picture in the intro\n",
    "    - We have an input layer of features\n",
    "    - These input features are passed into neurons in the hidden layers\n",
    "    - Each neuron is a perceptron, kind of like a bunch of small linear regressions\n",
    "    - We pass information from one layer of neurons to the next layer of neurons until we hit the output layer\n",
    "    - The output layer does one calculation to output a prediction of our outome."
   ]
  },
  {
   "cell_type": "markdown",
   "metadata": {},
   "source": [
    "![](./assets/images/neuralnet.png)"
   ]
  },
  {
   "cell_type": "markdown",
   "metadata": {},
   "source": [
    "<a id=\"load-in-the-titanic-data\"></a>\n",
    "### Load in the titanic data"
   ]
  },
  {
   "cell_type": "code",
   "execution_count": 22,
   "metadata": {
    "collapsed": true
   },
   "outputs": [],
   "source": [
    "data = pd.read_csv('assets/datasets/titanic_train.csv')\n",
    "X = data.drop('Survived', axis=1)\n",
    "y = data[['Survived']]"
   ]
  },
  {
   "cell_type": "code",
   "execution_count": 23,
   "metadata": {
    "collapsed": true
   },
   "outputs": [],
   "source": [
    "X_train, X_test, y_train, y_test = train_test_split(X, y, test_size=0.33, random_state=42)"
   ]
  },
  {
   "cell_type": "markdown",
   "metadata": {},
   "source": [
    "<a id=\"do-a-bit-of-data-cleaning\"></a>\n",
    "### Do a bit of data cleaning"
   ]
  },
  {
   "cell_type": "code",
   "execution_count": 24,
   "metadata": {},
   "outputs": [
    {
     "data": {
      "text/plain": [
       "array([[ 51.8625],\n",
       "       [ 15.5   ],\n",
       "       [ 41.5792],\n",
       "       [ 14.4542],\n",
       "       [ 10.5167]])"
      ]
     },
     "execution_count": 24,
     "metadata": {},
     "output_type": "execute_result"
    }
   ],
   "source": [
    "# Create a helper class to extract features one by one in a pipeline\n",
    "class FeatureExtractor(TransformerMixin):\n",
    "    def __init__(self, column):\n",
    "        self.column = column\n",
    "    \n",
    "    def fit(self, x, y=None):\n",
    "        return self\n",
    "    \n",
    "    def transform(self, x, y=None):\n",
    "        return x[self.column].values.reshape(-1, 1)\n",
    "    \n",
    "    \n",
    "FeatureExtractor('Fare').fit_transform(X_train)[0:5]"
   ]
  },
  {
   "cell_type": "code",
   "execution_count": 25,
   "metadata": {
    "collapsed": true
   },
   "outputs": [],
   "source": [
    "# Create a pipeline to binarize labels and impute missing values with an appropriate method\n",
    "pclass_pipe = make_pipeline(\n",
    "    FeatureExtractor('Pclass'),\n",
    "    LabelBinarizer(),\n",
    "    Imputer(strategy='most_frequent')\n",
    ")\n",
    "sex_pipe = make_pipeline(\n",
    "    FeatureExtractor('Sex'),\n",
    "    LabelBinarizer(),\n",
    "    Imputer(strategy='most_frequent')\n",
    ")\n",
    "age_pipe = make_pipeline(\n",
    "    FeatureExtractor('Age'),\n",
    "    Imputer(strategy='mean')\n",
    ")\n",
    "sibsp_pipe = make_pipeline(\n",
    "    FeatureExtractor('SibSp'),\n",
    "    Imputer(strategy='most_frequent')\n",
    ")\n",
    "parch_pipe = make_pipeline(\n",
    "    FeatureExtractor('Parch'),\n",
    "    Imputer(strategy='most_frequent')\n",
    ")\n",
    "\n",
    "fu = make_union(pclass_pipe, sex_pipe, age_pipe, sibsp_pipe, parch_pipe)"
   ]
  },
  {
   "cell_type": "code",
   "execution_count": 26,
   "metadata": {},
   "outputs": [
    {
     "data": {
      "text/plain": [
       "array([[  1.        ,   0.        ,   0.        ,   1.        ,\n",
       "         54.        ,   0.        ,   0.        ],\n",
       "       [  0.        ,   0.        ,   1.        ,   1.        ,\n",
       "         29.52598326,   0.        ,   0.        ],\n",
       "       [  0.        ,   1.        ,   0.        ,   1.        ,\n",
       "         25.        ,   1.        ,   2.        ],\n",
       "       [  0.        ,   0.        ,   1.        ,   1.        ,\n",
       "         26.        ,   1.        ,   0.        ],\n",
       "       [  0.        ,   0.        ,   1.        ,   0.        ,\n",
       "         22.        ,   0.        ,   0.        ]])"
      ]
     },
     "execution_count": 26,
     "metadata": {},
     "output_type": "execute_result"
    }
   ],
   "source": [
    "fu.fit(X_train)\n",
    "\n",
    "fu.transform(X_train)[0:5]"
   ]
  },
  {
   "cell_type": "code",
   "execution_count": 27,
   "metadata": {
    "collapsed": true
   },
   "outputs": [],
   "source": [
    "# Create X, y, train, and test\n",
    "def multi_binarizer(data):\n",
    "    data = data.copy()\n",
    "    data['Survived Class 0'] = data['Survived'].apply(lambda x: 1 if x == 0 else 0)\n",
    "    return data[['Survived Class 0', 'Survived']].values\n",
    "\n",
    "train_X = fu.transform(X_train)\n",
    "train_Y = multi_binarizer(y_train)\n",
    "test_X = fu.transform(X_test)\n",
    "ttest_Y = multi_binarizer(y_test)"
   ]
  },
  {
   "cell_type": "markdown",
   "metadata": {},
   "source": [
    "<a id=\"create-tensors\"></a>\n",
    "### Create tensors"
   ]
  },
  {
   "cell_type": "code",
   "execution_count": 28,
   "metadata": {
    "collapsed": true
   },
   "outputs": [],
   "source": [
    "n_input = train_X.shape[1]\n",
    "n_train = train_X.shape[0]\n",
    "n_classes = 2\n",
    "\n",
    "x = tf.placeholder('float', [None, n_input])\n",
    "y = tf.placeholder('float', [None, n_classes])"
   ]
  },
  {
   "cell_type": "markdown",
   "metadata": {},
   "source": [
    "<a id=\"create-weights\"></a>\n",
    "### Create weights"
   ]
  },
  {
   "cell_type": "code",
   "execution_count": 29,
   "metadata": {
    "collapsed": true
   },
   "outputs": [],
   "source": [
    "# Define the number of neurons in each hidden layer\n",
    "n_hidden_1 = 4\n",
    "n_hidden_2 = 4"
   ]
  },
  {
   "cell_type": "code",
   "execution_count": 30,
   "metadata": {
    "collapsed": true
   },
   "outputs": [],
   "source": [
    "stddev = 0.1\n",
    "\n",
    "weights = {\n",
    "    'h1': tf.Variable(tf.random_normal([n_input, n_hidden_1], stddev=stddev)),\n",
    "    'h2': tf.Variable(tf.random_normal([n_hidden_1, n_hidden_2], stddev=stddev)),\n",
    "    'out': tf.Variable(tf.random_normal([n_hidden_2, n_classes], stddev=stddev))\n",
    "}\n",
    "biases = {\n",
    "    'b1': tf.Variable(tf.random_normal([n_hidden_1])),\n",
    "    'b2': tf.Variable(tf.random_normal([n_hidden_2])),\n",
    "    'out': tf.Variable(tf.random_normal([n_classes]))\n",
    "}"
   ]
  },
  {
   "cell_type": "markdown",
   "metadata": {},
   "source": [
    "<a id=\"create-the-structure-of-the-multilayer-perceptron-network\"></a>\n",
    "### Create the structure of the Multilayer Perceptron network\n",
    "- This is very similar to what we did in linear regression\n",
    "    - `tf.add(tf.matmul(x, weights['h1']), biases['b1'])` is nearly identical\n",
    "- There are two major changes\n",
    "    - We now use a dictionary to make it easier to access our weight\n",
    "    - We wrap the output from each layer in a ReLu function, `tf.nn.relu()`\n",
    "- Each layer is fed directly into the next layer, which is why we call it a feed-forward network\n",
    "    \n",
    "    \n",
    "Note: ReLu functions have come into popularity lately because the flat part of the function allows us to train complex interactions, while the linear part of the function helps us avoid the [vanishing gradient](https://en.wikipedia.org/wiki/Vanishing_gradient_problem) problem."
   ]
  },
  {
   "cell_type": "markdown",
   "metadata": {},
   "source": [
    "**The ReLu function**\n",
    "![](./assets/images/relu.png)"
   ]
  },
  {
   "cell_type": "code",
   "execution_count": 31,
   "metadata": {
    "collapsed": true
   },
   "outputs": [],
   "source": [
    "def multilayer_perceptron(x, weights, biases):\n",
    "    # Layer 1, ReLU activation, 4 neurons\n",
    "    layer_1 = tf.nn.relu(tf.add(tf.matmul(x, weights['h1']), biases['b1']))\n",
    "    # Layer 2, ReLU activation, 4 Neurons\n",
    "    layer_2 = tf.nn.relu(tf.add(tf.matmul(layer_1, weights['h2']), biases['b2']))\n",
    "    return tf.matmul(layer_2, weights['out']) + biases['out']"
   ]
  },
  {
   "cell_type": "code",
   "execution_count": 32,
   "metadata": {
    "collapsed": true
   },
   "outputs": [],
   "source": [
    "pred = multilayer_perceptron(x, weights, biases)"
   ]
  },
  {
   "cell_type": "markdown",
   "metadata": {},
   "source": [
    "<a id=\"define-loss-function\"></a>\n",
    "### Define loss function\n",
    "- We no longer MSE because this is not a regression problem, but a classification\n",
    "- Cross-entropy is a common loss function to use with neural nets"
   ]
  },
  {
   "cell_type": "code",
   "execution_count": 33,
   "metadata": {
    "collapsed": true
   },
   "outputs": [],
   "source": [
    "cost = tf.reduce_mean(tf.nn.softmax_cross_entropy_with_logits(logits=pred, labels=y))"
   ]
  },
  {
   "cell_type": "markdown",
   "metadata": {},
   "source": [
    "<a id=\"define-optimizer\"></a>\n",
    "### Define optimizer"
   ]
  },
  {
   "cell_type": "code",
   "execution_count": 34,
   "metadata": {
    "collapsed": true
   },
   "outputs": [],
   "source": [
    "optm = tf.train.GradientDescentOptimizer(learning_rate).minimize(cost)"
   ]
  },
  {
   "cell_type": "markdown",
   "metadata": {},
   "source": [
    "<a id=\"train-the-network\"></a>\n",
    "### Train the network\n",
    "- We've changed the training procedure a little\n",
    "- We've added a batch_size.\n",
    "    - This is a trick to make optimization faster\n",
    "    - Rather than using all of our samples on every epoch to train the network, we sample observations\n",
    "    - This reduces the computation time, without a heavy impact on the optimization procedure"
   ]
  },
  {
   "cell_type": "code",
   "execution_count": 35,
   "metadata": {
    "collapsed": true
   },
   "outputs": [],
   "source": [
    "learning_rate = 0.001 # A weight to determine how fast the network is trained\n",
    "training_epochs = 2500 # How many times we update the weights by the learning_rate\n",
    "batch_size = 50 # How many samples of data we use at a time to compute the update\n",
    "display_step = 100 # How often\n",
    "\n",
    "corr = tf.equal(tf.argmax(pred, 1), tf.argmax(y, 1))\n",
    "accr = tf.reduce_mean(tf.cast(corr, 'float'))\n",
    "init = tf.global_variables_initializer()"
   ]
  },
  {
   "cell_type": "code",
   "execution_count": 36,
   "metadata": {},
   "outputs": [
    {
     "name": "stdout",
     "output_type": "stream",
     "text": [
      "Epoch: 000/2500 cost: 0.801703930\n",
      " Training accuracy: 0.300\n",
      "Epoch: 100/2500 cost: 0.667392221\n",
      " Training accuracy: 0.600\n",
      "Epoch: 200/2500 cost: 0.653392163\n",
      " Training accuracy: 0.640\n",
      "Epoch: 300/2500 cost: 0.657487062\n",
      " Training accuracy: 0.700\n",
      "Epoch: 400/2500 cost: 0.664966264\n",
      " Training accuracy: 0.540\n",
      "Epoch: 500/2500 cost: 0.646538231\n",
      " Training accuracy: 0.620\n",
      "Epoch: 600/2500 cost: 0.652824120\n",
      " Training accuracy: 0.580\n",
      "Epoch: 700/2500 cost: 0.651596384\n",
      " Training accuracy: 0.620\n",
      "Epoch: 800/2500 cost: 0.651729746\n",
      " Training accuracy: 0.680\n",
      "Epoch: 900/2500 cost: 0.634381018\n",
      " Training accuracy: 0.560\n",
      "Epoch: 1000/2500 cost: 0.662174680\n",
      " Training accuracy: 0.640\n",
      "Epoch: 1100/2500 cost: 0.601430416\n",
      " Training accuracy: 0.620\n",
      "Epoch: 1200/2500 cost: 0.562362476\n",
      " Training accuracy: 0.760\n",
      "Epoch: 1300/2500 cost: 0.551218802\n",
      " Training accuracy: 0.620\n",
      "Epoch: 1400/2500 cost: 0.482181427\n",
      " Training accuracy: 0.860\n",
      "Epoch: 1500/2500 cost: 0.445274025\n",
      " Training accuracy: 0.880\n",
      "Epoch: 1600/2500 cost: 0.443089659\n",
      " Training accuracy: 0.820\n",
      "Epoch: 1700/2500 cost: 0.424853393\n",
      " Training accuracy: 0.820\n",
      "Epoch: 1800/2500 cost: 0.547499852\n",
      " Training accuracy: 0.720\n",
      "Epoch: 1900/2500 cost: 0.434633390\n",
      " Training accuracy: 0.720\n",
      "Epoch: 2000/2500 cost: 0.389567771\n",
      " Training accuracy: 0.840\n",
      "Epoch: 2100/2500 cost: 0.420492245\n",
      " Training accuracy: 0.840\n",
      "Epoch: 2200/2500 cost: 0.455976053\n",
      " Training accuracy: 0.880\n",
      "Epoch: 2300/2500 cost: 0.397744829\n",
      " Training accuracy: 0.880\n",
      "Epoch: 2400/2500 cost: 0.413989261\n",
      " Training accuracy: 0.760\n"
     ]
    }
   ],
   "source": [
    "sess = tf.Session()\n",
    "sess.run(init)\n",
    "\n",
    "for epoch in range(training_epochs):\n",
    "    avg_cost = 0.0\n",
    "    total_batch = int(n_train/batch_size)\n",
    "    for i in range(total_batch):\n",
    "        random_index = np.random.randint(n_train, size=batch_size)\n",
    "        batch_xs = train_X[random_index, :]\n",
    "        batch_ys = train_Y[random_index, :]\n",
    "        sess.run(optm, feed_dict={x: batch_xs, y: batch_ys})\n",
    "        avg_cost += sess.run(cost,\n",
    "            feed_dict={x: batch_xs, y: batch_ys})/total_batch\n",
    "        \n",
    "    if epoch % display_step == 0:\n",
    "        print (\"Epoch: %03d/%03d cost: %.9f\" % \n",
    "               (epoch, training_epochs, avg_cost))\n",
    "        train_acc = sess.run(accr, feed_dict={x: batch_xs, y: batch_ys})\n",
    "        print (\" Training accuracy: %.3f\" % (train_acc))"
   ]
  },
  {
   "cell_type": "code",
   "execution_count": 37,
   "metadata": {
    "collapsed": true
   },
   "outputs": [],
   "source": [
    "predictions = sess.run(tf.argmax(pred, 1), feed_dict={x:test_X})"
   ]
  },
  {
   "cell_type": "code",
   "execution_count": 38,
   "metadata": {},
   "outputs": [
    {
     "data": {
      "text/plain": [
       "0.81694915254237288"
      ]
     },
     "execution_count": 38,
     "metadata": {},
     "output_type": "execute_result"
    }
   ],
   "source": [
    "from sklearn.metrics import accuracy_score\n",
    "accuracy_score(y_test['Survived'], predictions)"
   ]
  },
  {
   "cell_type": "markdown",
   "metadata": {},
   "source": [
    "<a id=\"a-final-example-with-more-hidden-layers\"></a>\n",
    "### A final example with more hidden layers"
   ]
  },
  {
   "cell_type": "code",
   "execution_count": 39,
   "metadata": {},
   "outputs": [
    {
     "name": "stdout",
     "output_type": "stream",
     "text": [
      "Epoch: 000/7500 cost: 0.703459539\n",
      " Training accuracy: 0.540\n",
      "Epoch: 100/7500 cost: 0.648077277\n",
      " Training accuracy: 0.720\n",
      "Epoch: 200/7500 cost: 0.650019066\n",
      " Training accuracy: 0.720\n",
      "Epoch: 300/7500 cost: 0.633597667\n",
      " Training accuracy: 0.660\n",
      "Epoch: 400/7500 cost: 0.655787349\n",
      " Training accuracy: 0.640\n",
      "Epoch: 500/7500 cost: 0.655253416\n",
      " Training accuracy: 0.620\n",
      "Epoch: 600/7500 cost: 0.641669658\n",
      " Training accuracy: 0.760\n",
      "Epoch: 700/7500 cost: 0.606665308\n",
      " Training accuracy: 0.680\n",
      "Epoch: 800/7500 cost: 0.502929246\n",
      " Training accuracy: 0.840\n",
      "Epoch: 900/7500 cost: 0.458643954\n",
      " Training accuracy: 0.860\n",
      "Epoch: 1000/7500 cost: 0.474865602\n",
      " Training accuracy: 0.760\n",
      "Epoch: 1100/7500 cost: 0.460915506\n",
      " Training accuracy: 0.780\n",
      "Epoch: 1200/7500 cost: 0.426819742\n",
      " Training accuracy: 0.780\n",
      "Epoch: 1300/7500 cost: 0.450268859\n",
      " Training accuracy: 0.840\n",
      "Epoch: 1400/7500 cost: 0.432139212\n",
      " Training accuracy: 0.840\n",
      "Epoch: 1500/7500 cost: 0.445740963\n",
      " Training accuracy: 0.840\n",
      "Epoch: 1600/7500 cost: 0.413085572\n",
      " Training accuracy: 0.740\n",
      "Epoch: 1700/7500 cost: 0.417553113\n",
      " Training accuracy: 0.800\n",
      "Epoch: 1800/7500 cost: 0.388157303\n",
      " Training accuracy: 0.900\n",
      "Epoch: 1900/7500 cost: 0.384393613\n",
      " Training accuracy: 0.820\n",
      "Epoch: 2000/7500 cost: 0.374013085\n",
      " Training accuracy: 0.760\n",
      "Epoch: 2100/7500 cost: 0.412517865\n",
      " Training accuracy: 0.840\n",
      "Epoch: 2200/7500 cost: 0.397762632\n",
      " Training accuracy: 0.800\n",
      "Epoch: 2300/7500 cost: 0.412860112\n",
      " Training accuracy: 0.840\n",
      "Epoch: 2400/7500 cost: 0.405943497\n",
      " Training accuracy: 0.720\n",
      "Epoch: 2500/7500 cost: 0.393474281\n",
      " Training accuracy: 0.880\n",
      "Epoch: 2600/7500 cost: 0.418664634\n",
      " Training accuracy: 0.820\n",
      "Epoch: 2700/7500 cost: 0.405666899\n",
      " Training accuracy: 0.840\n",
      "Epoch: 2800/7500 cost: 0.436362256\n",
      " Training accuracy: 0.840\n",
      "Epoch: 2900/7500 cost: 0.420687096\n",
      " Training accuracy: 0.880\n",
      "Epoch: 3000/7500 cost: 0.372082748\n",
      " Training accuracy: 0.840\n",
      "Epoch: 3100/7500 cost: 0.414962400\n",
      " Training accuracy: 0.820\n",
      "Epoch: 3200/7500 cost: 0.385292609\n",
      " Training accuracy: 0.880\n",
      "Epoch: 3300/7500 cost: 0.404227227\n",
      " Training accuracy: 0.800\n",
      "Epoch: 3400/7500 cost: 0.366978583\n",
      " Training accuracy: 0.860\n",
      "Epoch: 3500/7500 cost: 0.371606951\n",
      " Training accuracy: 0.840\n",
      "Epoch: 3600/7500 cost: 0.372051624\n",
      " Training accuracy: 0.880\n",
      "Epoch: 3700/7500 cost: 0.390805822\n",
      " Training accuracy: 0.900\n",
      "Epoch: 3800/7500 cost: 0.420084165\n",
      " Training accuracy: 0.780\n",
      "Epoch: 3900/7500 cost: 0.374303254\n",
      " Training accuracy: 0.880\n",
      "Epoch: 4000/7500 cost: 0.382652444\n",
      " Training accuracy: 0.820\n",
      "Epoch: 4100/7500 cost: 0.332172021\n",
      " Training accuracy: 0.820\n",
      "Epoch: 4200/7500 cost: 0.405082830\n",
      " Training accuracy: 0.900\n",
      "Epoch: 4300/7500 cost: 0.387039594\n",
      " Training accuracy: 0.840\n",
      "Epoch: 4400/7500 cost: 0.366349242\n",
      " Training accuracy: 0.820\n",
      "Epoch: 4500/7500 cost: 0.402757276\n",
      " Training accuracy: 0.840\n",
      "Epoch: 4600/7500 cost: 0.370967104\n",
      " Training accuracy: 0.860\n",
      "Epoch: 4700/7500 cost: 0.379626049\n",
      " Training accuracy: 0.880\n",
      "Epoch: 4800/7500 cost: 0.355532950\n",
      " Training accuracy: 0.940\n",
      "Epoch: 4900/7500 cost: 0.356115932\n",
      " Training accuracy: 0.780\n",
      "Epoch: 5000/7500 cost: 0.379692821\n",
      " Training accuracy: 0.860\n",
      "Epoch: 5100/7500 cost: 0.382209090\n",
      " Training accuracy: 0.840\n",
      "Epoch: 5200/7500 cost: 0.402254636\n",
      " Training accuracy: 0.820\n",
      "Epoch: 5300/7500 cost: 0.410613279\n",
      " Training accuracy: 0.900\n",
      "Epoch: 5400/7500 cost: 0.449036021\n",
      " Training accuracy: 0.760\n",
      "Epoch: 5500/7500 cost: 0.358031568\n",
      " Training accuracy: 0.820\n",
      "Epoch: 5600/7500 cost: 0.397309913\n",
      " Training accuracy: 0.880\n",
      "Epoch: 5700/7500 cost: 0.394778964\n",
      " Training accuracy: 0.740\n",
      "Epoch: 5800/7500 cost: 0.398440169\n",
      " Training accuracy: 0.760\n",
      "Epoch: 5900/7500 cost: 0.416472053\n",
      " Training accuracy: 0.800\n",
      "Epoch: 6000/7500 cost: 0.366647035\n",
      " Training accuracy: 0.780\n",
      "Epoch: 6100/7500 cost: 0.367149765\n",
      " Training accuracy: 0.840\n",
      "Epoch: 6200/7500 cost: 0.370932509\n",
      " Training accuracy: 0.880\n",
      "Epoch: 6300/7500 cost: 0.385810597\n",
      " Training accuracy: 0.860\n",
      "Epoch: 6400/7500 cost: 0.418050408\n",
      " Training accuracy: 0.840\n",
      "Epoch: 6500/7500 cost: 0.396608231\n",
      " Training accuracy: 0.880\n",
      "Epoch: 6600/7500 cost: 0.414986166\n",
      " Training accuracy: 0.720\n",
      "Epoch: 6700/7500 cost: 0.346554837\n",
      " Training accuracy: 0.900\n",
      "Epoch: 6800/7500 cost: 0.397256567\n",
      " Training accuracy: 0.860\n",
      "Epoch: 6900/7500 cost: 0.371092165\n",
      " Training accuracy: 0.860\n",
      "Epoch: 7000/7500 cost: 0.363648602\n",
      " Training accuracy: 0.920\n",
      "Epoch: 7100/7500 cost: 0.342860265\n",
      " Training accuracy: 0.820\n",
      "Epoch: 7200/7500 cost: 0.381398732\n",
      " Training accuracy: 0.760\n",
      "Epoch: 7300/7500 cost: 0.382715613\n",
      " Training accuracy: 0.740\n",
      "Epoch: 7400/7500 cost: 0.375695513\n",
      " Training accuracy: 0.840\n"
     ]
    },
    {
     "data": {
      "text/plain": [
       "[<matplotlib.lines.Line2D at 0x11892a290>]"
      ]
     },
     "execution_count": 39,
     "metadata": {},
     "output_type": "execute_result"
    },
    {
     "data": {
      "image/png": "[encoded data removed]",
      "text/plain": [
       "<matplotlib.figure.Figure at 0x1185cfd90>"
      ]
     },
     "metadata": {},
     "output_type": "display_data"
    }
   ],
   "source": [
    "learning_rate = 0.005\n",
    "training_epochs = 7500\n",
    "batch_size = 50\n",
    "display_step = 100\n",
    "\n",
    "n_hidden_1 = 8\n",
    "n_hidden_2 = 8\n",
    "n_hidden_3 = 8\n",
    "n_input = train_X.shape[1]\n",
    "n_train = train_X.shape[0]\n",
    "n_classes = 2\n",
    "\n",
    "x = tf.placeholder('float', [None, n_input])\n",
    "y = tf.placeholder('float', [None, n_classes])\n",
    "\n",
    "def multilayer_perceptron(x, weights, biases):\n",
    "    # Layer 1, ReLU activation, 4 neurons\n",
    "    layer_1 = tf.nn.relu(tf.add(tf.matmul(x, weights['h1']), biases['b1']))\n",
    "    # Layer 2, ReLU activation, 4 Neurons\n",
    "    layer_2 = tf.nn.relu(tf.add(tf.matmul(layer_1, weights['h2']), biases['b2']))\n",
    "    # Layer 3, ReLu activation, 4 Neurons\n",
    "    layer_3 = tf.nn.relu(tf.add(tf.matmul(layer_2, weights['h3']), biases['b3']))\n",
    "    return tf.matmul(layer_3, weights['out']) + biases['out']\n",
    "\n",
    "stddev = 0.1\n",
    "\n",
    "weights = {\n",
    "    'h1': tf.Variable(tf.random_normal([n_input, n_hidden_1], stddev=stddev)),\n",
    "    'h2': tf.Variable(tf.random_normal([n_hidden_1, n_hidden_2], stddev=stddev)),\n",
    "    'h3': tf.Variable(tf.random_normal([n_hidden_2, n_hidden_3], stddev=stddev)),\n",
    "    'out': tf.Variable(tf.random_normal([n_hidden_3, n_classes], stddev=stddev))\n",
    "}\n",
    "biases = {\n",
    "    'b1': tf.Variable(tf.random_normal([n_hidden_1])),\n",
    "    'b2': tf.Variable(tf.random_normal([n_hidden_2])),\n",
    "    'b3': tf.Variable(tf.random_normal([n_hidden_3])),\n",
    "    'out': tf.Variable(tf.random_normal([n_classes]))\n",
    "}\n",
    "\n",
    "pred = multilayer_perceptron(x, weights, biases)\n",
    "\n",
    "\n",
    "cost = tf.reduce_mean(tf.nn.softmax_cross_entropy_with_logits(logits=pred, labels=y))\n",
    "optm = tf.train.GradientDescentOptimizer(learning_rate).minimize(cost)\n",
    "\n",
    "# We also set up some helper functions\n",
    "\n",
    "corr = tf.equal(tf.argmax(pred, 1), tf.argmax(y, 1))\n",
    "accr = tf.reduce_mean(tf.cast(corr, 'float'))\n",
    "\n",
    "init = tf.global_variables_initializer()\n",
    "\n",
    "sess = tf.Session()\n",
    "sess.run(init)\n",
    "\n",
    "cost_counter = []\n",
    "\n",
    "for epoch in range(training_epochs):\n",
    "    avg_cost = 0.0\n",
    "    total_batch = int(n_train/batch_size)\n",
    "    for i in range(total_batch):\n",
    "        random_index = np.random.randint(n_train, size=batch_size)\n",
    "        batch_xs = train_X[random_index, :]\n",
    "        batch_ys = train_Y[random_index, :]\n",
    "        sess.run(optm, feed_dict={x: batch_xs, y: batch_ys})\n",
    "        avg_cost += sess.run(cost,\n",
    "            feed_dict={x: batch_xs, y: batch_ys})/total_batch\n",
    "        \n",
    "    cost_counter.append(avg_cost)\n",
    "        \n",
    "    if epoch % display_step == 0:\n",
    "        print (\"Epoch: %03d/%03d cost: %.9f\" % \n",
    "               (epoch, training_epochs, avg_cost))\n",
    "        train_acc = sess.run(accr, feed_dict={x: batch_xs, y: batch_ys})\n",
    "        print (\" Training accuracy: %.3f\" % (train_acc))\n",
    "        \n",
    "predictions = sess.run(tf.argmax(pred, 1), feed_dict={x:test_X})\n",
    "\n",
    "plt.plot(range(training_epochs), cost_counter)"
   ]
  },
  {
   "cell_type": "code",
   "execution_count": 40,
   "metadata": {
    "collapsed": true
   },
   "outputs": [],
   "source": [
    "predictions = sess.run(tf.argmax(pred, 1), feed_dict={x:test_X})"
   ]
  },
  {
   "cell_type": "code",
   "execution_count": 41,
   "metadata": {},
   "outputs": [
    {
     "data": {
      "text/plain": [
       "0.82372881355932204"
      ]
     },
     "execution_count": 41,
     "metadata": {},
     "output_type": "execute_result"
    }
   ],
   "source": [
    "from sklearn.metrics import accuracy_score\n",
    "accuracy_score(y_test['Survived'], predictions)"
   ]
  },
  {
   "cell_type": "markdown",
   "metadata": {},
   "source": [
    "<a id=\"additionl-resources\"></a>\n",
    "## Additional Resources\n",
    "---\n",
    "\n",
    "- [Neural Networks and Deep Learning](http://neuralnetworksanddeeplearning.com/chap1.html)\n",
    "- [Deep Learning](http://www.deeplearningbook.org/)\n",
    "- [Tensorflow Tutorials](https://github.com/pkmital/tensorflow_tutorials)\n",
    "- [Awesome Tensorflow](https://github.com/jtoy/awesome-tensorflow)\n",
    "- [Tensorflow Examples](https://github.com/aymericdamien/TensorFlow-Examples)\n",
    "- [Mind: How to Build a Neural Network](https://stevenmiller888.github.io/mind-how-to-build-a-neural-network/)"
   ]
  }
 ],
 "metadata": {
  "kernelspec": {
   "display_name": "Python 2",
   "language": "python",
   "name": "python2"
  },
  "language_info": {
   "codemirror_mode": {
    "name": "ipython",
    "version": 2
   },
   "file_extension": ".py",
   "mimetype": "text/x-python",
   "name": "python",
   "nbconvert_exporter": "python",
   "pygments_lexer": "ipython2",
   "version": "2.7.13"
  }
 },
 "nbformat": 4,
 "nbformat_minor": 2
}
