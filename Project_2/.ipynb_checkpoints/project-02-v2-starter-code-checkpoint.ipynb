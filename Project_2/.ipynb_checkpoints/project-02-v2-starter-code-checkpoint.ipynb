{
 "cells": [
  {
   "cell_type": "markdown",
   "metadata": {},
   "source": [
    "<img src=\"http://imgur.com/1ZcRyrc.png\" style=\"float: left; margin: 15px; height: 80px\">\n",
    "\n",
    "# Project 2\n",
    "\n",
    "### Exploratory Data Analysis (EDA)\n",
    "\n",
    "---\n",
    "\n",
    "Your hometown mayor just created a new data analysis team to give policy advice, and the administration recruited _you_ via LinkedIn to join it. Unfortunately, due to budget constraints, for now the \"team\" is just you...\n",
    "\n",
    "The mayor wants to start a new initiative to move the needle on one of two separate issues: high school education outcomes, or drug abuse in the community.\n",
    "\n",
    "Also unfortunately, that is the entirety of what you've been told. And the mayor just went on a lobbyist-funded fact-finding trip in the Bahamas. In the meantime, you got your hands on two national datasets: one on SAT scores by state, and one on drug use by age. Start exploring these to look for useful patterns and possible hypotheses!\n",
    "\n",
    "---\n",
    "\n",
    "This project is focused on exploratory data analysis, aka \"EDA\". EDA is an essential part of the data science analysis pipeline. Failure to perform EDA before modeling is almost guaranteed to lead to bad models and faulty conclusions. What you do in this project are good practices for all projects going forward, especially those after this bootcamp!\n",
    "\n",
    "This lab includes a variety of plotting problems. Much of the plotting code will be left up to you to find either in the lecture notes, or if not there, online. There are massive amounts of code snippets either in documentation or sites like [Stack Overflow](https://stackoverflow.com/search?q=%5Bpython%5D+seaborn) that have almost certainly done what you are trying to do.\n",
    "\n",
    "**Get used to googling for code!** You will use it every single day as a data scientist, especially for visualization and plotting.\n",
    "\n",
    "#### Package imports"
   ]
  },
  {
   "cell_type": "code",
   "execution_count": 1,
   "metadata": {
    "collapsed": true
   },
   "outputs": [],
   "source": [
    "import numpy as np\n",
    "import scipy.stats as stats\n",
    "import csv\n",
    "import pandas as pd\n",
    "from pprint import pprint\n",
    "import seaborn as ss\n",
    "import matplotlib.pyplot as plt\n",
    "import scipy.stats as stats\n",
    "\n",
    "# this line tells jupyter notebook to put the plots in the notebook rather than saving them to file.\n",
    "%matplotlib inline\n",
    "\n",
    "# this line makes plots prettier on mac retina screens. If you don't have one it shouldn't do anything.\n",
    "%config InlineBackend.figure_format = 'retina'"
   ]
  },
  {
   "cell_type": "markdown",
   "metadata": {},
   "source": [
    "<img src=\"http://imgur.com/l5NasQj.png\" style=\"float: left; margin: 25px 15px 0px 0px; height: 25px\">\n",
    "\n",
    "## 1. Load the `sat_scores.csv` dataset and describe it\n",
    "\n",
    "---\n",
    "\n",
    "You should replace the placeholder path to the `sat_scores.csv` dataset below with your specific path to the file.\n",
    "\n",
    "### 1.1 Load the file with the `csv` module and put it in a Python dictionary\n",
    "\n",
    "The dictionary format for data will be the column names as key, and the data under each column as the values.\n",
    "\n",
    "Toy example:\n",
    "```python\n",
    "data = {\n",
    "    'column1':[0,1,2,3],\n",
    "    'column2':['a','b','c','d']\n",
    "    }\n",
    "```"
   ]
  },
  {
   "cell_type": "code",
   "execution_count": 2,
   "metadata": {
    "scrolled": true
   },
   "outputs": [
    {
     "name": "stdout",
     "output_type": "stream",
     "text": [
      "['Math', 'State', 'Rate', 'Verbal']\n"
     ]
    }
   ],
   "source": [
    "with open('sat_scores.csv', 'r') as f:\n",
    "    contents = csv.reader(f)\n",
    "    contents = np.array(list(contents))\n",
    "    header = contents[0]\n",
    "    data = contents[1:]\n",
    "    sat_dict = {h:[float(d[i]) if d[i].isdigit() else d[i] for d in data] for i, h in enumerate(header)}\n",
    "    pprint(sat_dict.keys())\n",
    "        "
   ]
  },
  {
   "cell_type": "markdown",
   "metadata": {},
   "source": [
    "### 1.2 Make a pandas DataFrame object with the SAT dictionary, and another with the pandas `.read_csv()` function\n",
    "\n",
    "Compare the DataFrames using the `.dtypes` attribute in the DataFrame objects. What is the difference between loading from file and inputting this dictionary (if any)?"
   ]
  },
  {
   "cell_type": "markdown",
   "metadata": {},
   "source": [
    "### ANSWER\n",
    "###### Differences:\n",
    "\n",
    ">Loading from file using `.read_csv()`, pandas will automatically detect columns with numbers and convert them into type integer\n",
    "\n",
    ">Loading from dictionary, pandas will choose to keep the data types as previously in the dictionary"
   ]
  },
  {
   "cell_type": "code",
   "execution_count": 3,
   "metadata": {},
   "outputs": [
    {
     "name": "stdout",
     "output_type": "stream",
     "text": [
      "Math      float64\n",
      "Rate      float64\n",
      "State      object\n",
      "Verbal    float64\n",
      "dtype: object\n",
      "State     object\n",
      "Rate       int64\n",
      "Verbal     int64\n",
      "Math       int64\n",
      "dtype: object\n"
     ]
    }
   ],
   "source": [
    "df_dict = pd.DataFrame(sat_dict)\n",
    "pprint(df_dict.dtypes)\n",
    "df_file = pd.read_csv('sat_scores.csv')\n",
    "pprint(df_file.dtypes)"
   ]
  },
  {
   "cell_type": "markdown",
   "metadata": {},
   "source": [
    "If you did not convert the string column values to float in your dictionary, the columns in the DataFrame are of type `object` (which are string values, essentially). "
   ]
  },
  {
   "cell_type": "markdown",
   "metadata": {},
   "source": [
    "### 1.3 Look at the first ten rows of the DataFrame: what does our data describe?\n",
    "\n",
    "From now on, use the DataFrame loaded from the file using the `.read_csv()` function.\n",
    "\n",
    "Use the `.head(num)` built-in DataFrame function, where `num` is the number of rows to print out.\n",
    "\n",
    "You are not given a \"codebook\" with this data, so you will have to make some (very minor) inference."
   ]
  },
  {
   "cell_type": "markdown",
   "metadata": {},
   "source": [
    "### ANSWER\n",
    "\n",
    "> The data shows the college acceptance rate for each state based on their average verbal and math scores"
   ]
  },
  {
   "cell_type": "code",
   "execution_count": 4,
   "metadata": {},
   "outputs": [
    {
     "data": {
      "text/html": [
       "<div>\n",
       "<style scoped>\n",
       "    .dataframe tbody tr th:only-of-type {\n",
       "        vertical-align: middle;\n",
       "    }\n",
       "\n",
       "    .dataframe tbody tr th {\n",
       "        vertical-align: top;\n",
       "    }\n",
       "\n",
       "    .dataframe thead th {\n",
       "        text-align: right;\n",
       "    }\n",
       "</style>\n",
       "<table border=\"1\" class=\"dataframe\">\n",
       "  <thead>\n",
       "    <tr style=\"text-align: right;\">\n",
       "      <th></th>\n",
       "      <th>State</th>\n",
       "      <th>Rate</th>\n",
       "      <th>Verbal</th>\n",
       "      <th>Math</th>\n",
       "    </tr>\n",
       "  </thead>\n",
       "  <tbody>\n",
       "    <tr>\n",
       "      <th>0</th>\n",
       "      <td>CT</td>\n",
       "      <td>82</td>\n",
       "      <td>509</td>\n",
       "      <td>510</td>\n",
       "    </tr>\n",
       "    <tr>\n",
       "      <th>1</th>\n",
       "      <td>NJ</td>\n",
       "      <td>81</td>\n",
       "      <td>499</td>\n",
       "      <td>513</td>\n",
       "    </tr>\n",
       "    <tr>\n",
       "      <th>2</th>\n",
       "      <td>MA</td>\n",
       "      <td>79</td>\n",
       "      <td>511</td>\n",
       "      <td>515</td>\n",
       "    </tr>\n",
       "    <tr>\n",
       "      <th>3</th>\n",
       "      <td>NY</td>\n",
       "      <td>77</td>\n",
       "      <td>495</td>\n",
       "      <td>505</td>\n",
       "    </tr>\n",
       "    <tr>\n",
       "      <th>4</th>\n",
       "      <td>NH</td>\n",
       "      <td>72</td>\n",
       "      <td>520</td>\n",
       "      <td>516</td>\n",
       "    </tr>\n",
       "    <tr>\n",
       "      <th>5</th>\n",
       "      <td>RI</td>\n",
       "      <td>71</td>\n",
       "      <td>501</td>\n",
       "      <td>499</td>\n",
       "    </tr>\n",
       "    <tr>\n",
       "      <th>6</th>\n",
       "      <td>PA</td>\n",
       "      <td>71</td>\n",
       "      <td>500</td>\n",
       "      <td>499</td>\n",
       "    </tr>\n",
       "    <tr>\n",
       "      <th>7</th>\n",
       "      <td>VT</td>\n",
       "      <td>69</td>\n",
       "      <td>511</td>\n",
       "      <td>506</td>\n",
       "    </tr>\n",
       "    <tr>\n",
       "      <th>8</th>\n",
       "      <td>ME</td>\n",
       "      <td>69</td>\n",
       "      <td>506</td>\n",
       "      <td>500</td>\n",
       "    </tr>\n",
       "    <tr>\n",
       "      <th>9</th>\n",
       "      <td>VA</td>\n",
       "      <td>68</td>\n",
       "      <td>510</td>\n",
       "      <td>501</td>\n",
       "    </tr>\n",
       "  </tbody>\n",
       "</table>\n",
       "</div>"
      ],
      "text/plain": [
       "  State  Rate  Verbal  Math\n",
       "0    CT    82     509   510\n",
       "1    NJ    81     499   513\n",
       "2    MA    79     511   515\n",
       "3    NY    77     495   505\n",
       "4    NH    72     520   516\n",
       "5    RI    71     501   499\n",
       "6    PA    71     500   499\n",
       "7    VT    69     511   506\n",
       "8    ME    69     506   500\n",
       "9    VA    68     510   501"
      ]
     },
     "execution_count": 4,
     "metadata": {},
     "output_type": "execute_result"
    }
   ],
   "source": [
    "df_file.head(10)"
   ]
  },
  {
   "cell_type": "markdown",
   "metadata": {},
   "source": [
    "<img src=\"http://imgur.com/l5NasQj.png\" style=\"float: left; margin: 25px 15px 0px 0px; height: 25px\">\n",
    "\n",
    "## 2. Create a \"data dictionary\" based on the data\n",
    "\n",
    "---\n",
    "\n",
    "A data dictionary is an object that describes your data. This should contain the name of each variable (column), the type of the variable, your description of what the variable is, and the shape (rows and columns) of the entire dataset."
   ]
  },
  {
   "cell_type": "code",
   "execution_count": 5,
   "metadata": {},
   "outputs": [
    {
     "name": "stdout",
     "output_type": "stream",
     "text": [
      "{'Math': {'description': 'SAT Math Score', 'type': dtype('int64')},\n",
      " 'Rate': {'description': 'Colledge Acceptance Rate', 'type': dtype('int64')},\n",
      " 'Shape': (52, 4),\n",
      " 'State': {'description': 'US State Code', 'type': dtype('O')},\n",
      " 'Verbal': {'description': 'SAT Verbal Score', 'type': dtype('int64')}}\n"
     ]
    }
   ],
   "source": [
    "dict(df_file.dtypes)\n",
    "list(df_file.columns)\n",
    "df_file.shape\n",
    "var_desc = {'State':'US State Code', \n",
    "            'Rate':'Colledge Acceptance Rate',\n",
    "           'Verbal':'SAT Verbal Score',\n",
    "           'Math':'SAT Math Score'}\n",
    "data_dict = {x:{} for x in list(df_file.columns)}\n",
    "\n",
    "for k_1, v_1 in data_dict.iteritems():\n",
    "    data_dict[k_1].update({'type':dict(df_file.dtypes)[k_1]})\n",
    "    data_dict[k_1].update({'description':var_desc[k_1]})\n",
    "\n",
    "data_dict.update({'Shape':df_file.shape})\n",
    "pprint(data_dict)\n"
   ]
  },
  {
   "cell_type": "markdown",
   "metadata": {},
   "source": [
    "<img src=\"http://imgur.com/l5NasQj.png\" style=\"float: left; margin: 25px 15px 0px 0px; height: 25px\">\n",
    "\n",
    "## 3. Plot the data using seaborn\n",
    "\n",
    "---\n",
    "\n",
    "### 3.1 Using seaborn's `distplot`, plot the distributions for each of `Rate`, `Math`, and `Verbal`\n",
    "\n",
    "Set the keyword argument `kde=False`. This way you can actually see the counts within bins. You can adjust the number of bins to your liking. \n",
    "\n",
    "[Please read over the `distplot` documentation to learn about the arguments and fine-tune your chart if you want.](https://stanford.edu/~mwaskom/software/seaborn/generated/seaborn.distplot.html#seaborn.distplot)"
   ]
  },
  {
   "cell_type": "markdown",
   "metadata": {},
   "source": [
    "# might be able to plot them all in one row"
   ]
  },
  {
   "cell_type": "code",
   "execution_count": 6,
   "metadata": {},
   "outputs": [
    {
     "name": "stdout",
     "output_type": "stream",
     "text": [
      "Skewness: 0.141302226779\n",
      "Median: 33.5\n",
      "Mode: ModeResult(mode=array([4]), count=array([3]))\n"
     ]
    },
    {
     "data": {
      "text/plain": [
       "count    52.000000\n",
       "mean     37.153846\n",
       "std      27.301788\n",
       "min       4.000000\n",
       "25%       9.000000\n",
       "50%      33.500000\n",
       "75%      63.500000\n",
       "max      82.000000\n",
       "Name: Rate, dtype: float64"
      ]
     },
     "execution_count": 6,
     "metadata": {},
     "output_type": "execute_result"
    }
   ],
   "source": [
    "# Stats of Acceptance Rate\n",
    "print('Skewness: ' + str(stats.skew(np.array(df_file['Rate']))))\n",
    "print('Median: ' + str(np.median(np.array(df_file['Rate']))))\n",
    "print('Mode: ' + str(stats.mode(np.array(df_file['Rate']))))\n",
    "df_file['Rate'].describe()"
   ]
  },
  {
   "cell_type": "code",
   "execution_count": 7,
   "metadata": {
    "scrolled": false
   },
   "outputs": [
    {
     "data": {
      "text/plain": [
       "<matplotlib.legend.Legend at 0x1a0ab9b9d0>"
      ]
     },
     "execution_count": 7,
     "metadata": {},
     "output_type": "execute_result"
    },
    {
     "data": {
      "image/png": "[encoded data removed]",
      "text/plain": [
       "<matplotlib.figure.Figure at 0x1a0ab9b510>"
      ]
     },
     "metadata": {
      "image/png": {
       "height": 372,
       "width": 617
      }
     },
     "output_type": "display_data"
    }
   ],
   "source": [
    "plt.figure(figsize=(10,6))\n",
    "plt.ylabel('Count')\n",
    "plt.xlabel('Acceptance Rate')\n",
    "ss.distplot(np.array(df_file['Rate']), bins=int(np.sqrt(df_file['Rate'].count())), kde=False, label='Rate', \n",
    "            rug=True, hist_kws=dict(edgecolor=\"k\", linewidth=2))\n",
    "plt.legend()"
   ]
  },
  {
   "cell_type": "code",
   "execution_count": 8,
   "metadata": {},
   "outputs": [
    {
     "name": "stdout",
     "output_type": "stream",
     "text": [
      "Skewness: 0.166619376314\n",
      "Median: 521.0\n",
      "Mode: ModeResult(mode=array([499]), count=array([6]))\n"
     ]
    },
    {
     "data": {
      "text/plain": [
       "count     52.000000\n",
       "mean     531.500000\n",
       "std       36.014975\n",
       "min      439.000000\n",
       "25%      504.000000\n",
       "50%      521.000000\n",
       "75%      555.750000\n",
       "max      603.000000\n",
       "Name: Math, dtype: float64"
      ]
     },
     "execution_count": 8,
     "metadata": {},
     "output_type": "execute_result"
    }
   ],
   "source": [
    "# Stats of Math Scores\n",
    "print('Skewness: ' + str(stats.skew(np.array(df_file['Math']))))\n",
    "print('Median: ' + str(np.median(np.array(df_file['Math']))))\n",
    "print('Mode: ' + str(stats.mode(np.array(df_file['Math']))))\n",
    "df_file['Math'].describe()"
   ]
  },
  {
   "cell_type": "code",
   "execution_count": 9,
   "metadata": {},
   "outputs": [
    {
     "data": {
      "text/plain": [
       "<matplotlib.legend.Legend at 0x1a134420d0>"
      ]
     },
     "execution_count": 9,
     "metadata": {},
     "output_type": "execute_result"
    },
    {
     "data": {
      "image/png": "[encoded data removed]",
      "text/plain": [
       "<matplotlib.figure.Figure at 0x1a0fbccbd0>"
      ]
     },
     "metadata": {
      "image/png": {
       "height": 372,
       "width": 607
      }
     },
     "output_type": "display_data"
    }
   ],
   "source": [
    "plt.figure(figsize=(10,6))\n",
    "plt.ylabel('Count')\n",
    "plt.xlabel('Math Score')\n",
    "ss.distplot(np.array(df_file['Math']), bins=int(np.sqrt(df_file['Math'].count())), kde=False, label='Math', \n",
    "            hist_kws=dict(edgecolor=\"k\", linewidth=2), rug=True, color='g')\n",
    "plt.legend()"
   ]
  },
  {
   "cell_type": "code",
   "execution_count": 10,
   "metadata": {},
   "outputs": [
    {
     "name": "stdout",
     "output_type": "stream",
     "text": [
      "Skewness: 0.252741961702\n",
      "Median: 526.5\n",
      "Mode: ModeResult(mode=array([562]), count=array([3]))\n"
     ]
    },
    {
     "data": {
      "text/plain": [
       "count     52.000000\n",
       "mean     532.019231\n",
       "std       33.236225\n",
       "min      482.000000\n",
       "25%      501.000000\n",
       "50%      526.500000\n",
       "75%      562.000000\n",
       "max      593.000000\n",
       "Name: Verbal, dtype: float64"
      ]
     },
     "execution_count": 10,
     "metadata": {},
     "output_type": "execute_result"
    }
   ],
   "source": [
    "# Stats of Verbal Scores\n",
    "print('Skewness: ' + str(stats.skew(np.array(df_file['Verbal']))))\n",
    "print('Median: ' + str(np.median(np.array(df_file['Verbal']))))\n",
    "print('Mode: ' + str(stats.mode(np.array(df_file['Verbal']))))\n",
    "df_file['Verbal'].describe()"
   ]
  },
  {
   "cell_type": "code",
   "execution_count": 11,
   "metadata": {
    "scrolled": false
   },
   "outputs": [
    {
     "data": {
      "text/plain": [
       "<matplotlib.legend.Legend at 0x1a13689610>"
      ]
     },
     "execution_count": 11,
     "metadata": {},
     "output_type": "execute_result"
    },
    {
     "data": {
      "image/png": "[encoded data removed]",
      "text/plain": [
       "<matplotlib.figure.Figure at 0x1a1369edd0>"
      ]
     },
     "metadata": {
      "image/png": {
       "height": 372,
       "width": 607
      }
     },
     "output_type": "display_data"
    }
   ],
   "source": [
    "plt.figure(figsize=(10,6))\n",
    "plt.ylabel('Count')\n",
    "plt.xlabel('Verbal Score')\n",
    "ss.distplot(np.array(df_file['Verbal']), bins=int(np.sqrt(df_file['Verbal'].count())), kde=False, label='Verbal', \n",
    "            hist_kws=dict(edgecolor=\"k\", linewidth=2), rug=True, color='y')\n",
    "plt.legend()"
   ]
  },
  {
   "cell_type": "markdown",
   "metadata": {},
   "source": [
    "### 3.2 Using seaborn's `pairplot`, show the joint distributions for each of `Rate`, `Math`, and `Verbal`\n",
    "\n",
    "Explain what the visualization tells you about your data.\n",
    "\n",
    "[Please read over the `pairplot` documentation to fine-tune your chart.](https://stanford.edu/~mwaskom/software/seaborn/generated/seaborn.pairplot.html#seaborn.pairplot)"
   ]
  },
  {
   "cell_type": "markdown",
   "metadata": {},
   "source": [
    "### ANSWER\n",
    "\n",
    "> The visualization displays the relationship between 'Rate', 'Math' and 'Verbal' variables.\n",
    "\n",
    "> Individual variable distributions seem to be skewed and not normally distributed.\n",
    "\n",
    "> 'Rate' generally has a negative linear relationship with both 'Math' and 'Verbal'.\n",
    "\n",
    "> 'Math' and 'Verbal' generally have positive linear relationship with each other."
   ]
  },
  {
   "cell_type": "code",
   "execution_count": 12,
   "metadata": {},
   "outputs": [
    {
     "data": {
      "text/plain": [
       "<seaborn.axisgrid.PairGrid at 0x1a13419d90>"
      ]
     },
     "execution_count": 12,
     "metadata": {},
     "output_type": "execute_result"
    },
    {
     "data": {
      "image/png": "[encoded data removed]",
      "text/plain": [
       "<matplotlib.figure.Figure at 0x1a13689510>"
      ]
     },
     "metadata": {
      "image/png": {
       "height": 529,
       "width": 528
      }
     },
     "output_type": "display_data"
    }
   ],
   "source": [
    "ss.pairplot(df_file[['Rate', 'Math', 'Verbal']], kind='reg', diag_kind='kde')"
   ]
  },
  {
   "cell_type": "markdown",
   "metadata": {},
   "source": [
    "<img src=\"http://imgur.com/l5NasQj.png\" style=\"float: left; margin: 25px 15px 0px 0px; height: 25px\">\n",
    "\n",
    "## 4. Plot the data using built-in pandas functions.\n",
    "\n",
    "---\n",
    "\n",
    "Pandas is very powerful and contains a variety of nice, built-in plotting functions for your data. Read the documentation here to understand the capabilities:\n",
    "\n",
    "http://pandas.pydata.org/pandas-docs/stable/visualization.html\n",
    "\n",
    "### 4.1 Plot a stacked histogram with `Verbal` and `Math` using pandas"
   ]
  },
  {
   "cell_type": "code",
   "execution_count": 13,
   "metadata": {},
   "outputs": [
    {
     "data": {
      "text/plain": [
       "<matplotlib.axes._subplots.AxesSubplot at 0x1a147b6310>"
      ]
     },
     "execution_count": 13,
     "metadata": {},
     "output_type": "execute_result"
    },
    {
     "data": {
      "image/png": "[encoded data removed]",
      "text/plain": [
       "<matplotlib.figure.Figure at 0x1a13c69cd0>"
      ]
     },
     "metadata": {
      "image/png": {
       "height": 250,
       "width": 384
      }
     },
     "output_type": "display_data"
    }
   ],
   "source": [
    "df_file[['Verbal', 'Math']].plot.hist(stacked=True, bins=int(np.sqrt(df_file['Verbal'].count())))"
   ]
  },
  {
   "cell_type": "markdown",
   "metadata": {},
   "source": [
    "### 4.2 Plot `Verbal` and `Math` on the same chart using boxplots\n",
    "\n",
    "What are the benefits of using a boxplot as compared to a scatterplot or a histogram?\n",
    "\n",
    "What's wrong with plotting a box-plot of `Rate` on the same chart as `Math` and `Verbal`?"
   ]
  },
  {
   "cell_type": "markdown",
   "metadata": {},
   "source": [
    "### ANSWER\n",
    "\n",
    "> 1. You can observe outliers, variances and differences in the distribution of data (median, interquartile range, maximum-minimum range) much easier with boxplots. i.e. we can tell that 'Verbal' has a smaller variance than 'Math'.\n",
    "\n",
    "> 2. The 'Rate' dataset is on a much smaller scale than those of 'Math' & 'Verbal', making it hard for us to use it for comparison with the latter two. However we could plot 'Rate' on the same chart if we choose to normalize all the datasets."
   ]
  },
  {
   "cell_type": "code",
   "execution_count": 14,
   "metadata": {},
   "outputs": [
    {
     "data": {
      "text/plain": [
       "<matplotlib.axes._subplots.AxesSubplot at 0x1a147c8590>"
      ]
     },
     "execution_count": 14,
     "metadata": {},
     "output_type": "execute_result"
    },
    {
     "data": {
      "image/png": "[encoded data removed]",
      "text/plain": [
       "<matplotlib.figure.Figure at 0x1a153ae610>"
      ]
     },
     "metadata": {
      "image/png": {
       "height": 250,
       "width": 377
      }
     },
     "output_type": "display_data"
    }
   ],
   "source": [
    "df_file[['Verbal', 'Math']].plot.box()"
   ]
  },
  {
   "cell_type": "markdown",
   "metadata": {},
   "source": [
    "<img src=\"http://imgur.com/xDpSobf.png\" style=\"float: left; margin: 25px 15px 0px 0px; height: 25px\">\n",
    "\n",
    "### 4.3 Plot `Verbal`, `Math`, and `Rate` appropriately on the same boxplot chart\n",
    "\n",
    "Think about how you might change the variables so that they would make sense on the same chart. Explain your rationale for the choices on the chart. You should strive to make the chart as intuitive as possible. \n"
   ]
  },
  {
   "cell_type": "code",
   "execution_count": 15,
   "metadata": {},
   "outputs": [
    {
     "data": {
      "text/html": [
       "<script>requirejs.config({paths: { 'plotly': ['https://cdn.plot.ly/plotly-latest.min']},});if(!window.Plotly) {{require(['plotly'],function(plotly) {window.Plotly=plotly;});}}</script>"
      ],
      "text/vnd.plotly.v1+html": [
       "<script>requirejs.config({paths: { 'plotly': ['https://cdn.plot.ly/plotly-latest.min']},});if(!window.Plotly) {{require(['plotly'],function(plotly) {window.Plotly=plotly;});}}</script>"
      ]
     },
     "metadata": {},
     "output_type": "display_data"
    }
   ],
   "source": [
    "import plotly.graph_objs as go\n",
    "from plotly.offline import download_plotlyjs, init_notebook_mode, plot, iplot\n",
    "init_notebook_mode(connected=True)"
   ]
  },
  {
   "cell_type": "code",
   "execution_count": 16,
   "metadata": {
    "collapsed": true
   },
   "outputs": [],
   "source": [
    "# function to normalize dataset\n",
    "def scaling_data(data):\n",
    "    data = np.array(data)\n",
    "    data_mean = data.mean()\n",
    "    data_std = data.std()\n",
    "    data_scaled = (data - data_mean)/data_std\n",
    "    return data_scaled"
   ]
  },
  {
   "cell_type": "code",
   "execution_count": 17,
   "metadata": {},
   "outputs": [
    {
     "data": {
      "application/vnd.plotly.v1+json": {
       "data": [
        {
         "boxmean": "sd",
         "boxpoints": "outliers",
         "line": {
          "color": "green"
         },
         "marker": {
          "color": "#3D9970"
         },
         "name": "Verbal",
         "type": "box",
         "y": [
          -0.6993517957667612,
          -1.003163770535948,
          -0.6385894008129238,
          -1.1246885604436228,
          -0.36515862352065565,
          -0.9424013755821107,
          -0.9727825730590293,
          -0.6385894008129238,
          -0.7904953881975172,
          -0.6689705982898425,
          -0.9424013755821107,
          -0.7297329932436798,
          -1.1854509553974601,
          -1.2462133503512975,
          -1.003163770535948,
          -1.398119337735891,
          -1.5196441276435655,
          -0.18287143865914354,
          -1.0335449680128668,
          -0.15249024118222487,
          -1.1854509553974601,
          -1.4285005352128095,
          -0.5474458083821677,
          -1.0335449680128668,
          -0.2740150310898996,
          -0.6993517957667612,
          0.21208412854079933,
          0.06017814115620591,
          0.21208412854079933,
          -0.15249024118222487,
          0.33360891844847407,
          0.910851670509929,
          0.5766584982638235,
          1.3361884351867905,
          0.5462773007869048,
          0.4551337083561488,
          0.8804704730330103,
          1.4577132250944653,
          1.3665696326637093,
          0.819708078079173,
          0.910851670509929,
          1.0627576578945224,
          1.3665696326637093,
          0.9716140654637664,
          1.5792380150021401,
          0.910851670509929,
          1.305807237709872,
          1.8526687922944083,
          1.3665696326637093,
          1.8222875948174895,
          1.0323764604176038,
          -0.7904953881975172
         ]
        },
        {
         "boxmean": "sd",
         "boxpoints": "outliers",
         "line": {
          "color": "blue"
         },
         "marker": {
          "color": "blue"
         },
         "name": "Math",
         "type": "box",
         "y": [
          -0.6027981695166219,
          -0.5186867970259305,
          -0.46261254869880286,
          -0.742983790334441,
          -0.434575424535239,
          -0.9112065353158237,
          -0.9112065353158237,
          -0.7149466661708771,
          -0.88316941115226,
          -0.8551322869886961,
          -0.9112065353158237,
          -0.6027981695166219,
          -0.9112065353158237,
          -1.191577776951462,
          -0.8551322869886961,
          -1.2196149011150257,
          -1.612134639404919,
          -0.15420418289960094,
          -0.9112065353158237,
          -0.12616705873603715,
          -0.9112065353158237,
          -0.46261254869880286,
          -0.6027981695166219,
          -0.4065383003716752,
          -0.18224130706316474,
          -0.46261254869880286,
          0.29438980371741996,
          -2.593433985129652,
          0.21027843122672857,
          -0.5467239211894943,
          0.29438980371741996,
          0.6027981695166219,
          0.29438980371741996,
          1.612134639404919,
          0.5186867970259305,
          0.3785011762081114,
          1.1355035286243342,
          1.612134639404919,
          1.3598005219328446,
          0.6308352936801856,
          1.023355031970079,
          0.8270951628251323,
          1.2756891494421532,
          0.8551322869886961,
          1.8083945085498656,
          0.5186867970259305,
          1.0794292802972065,
          2.0046543776948123,
          1.4158747702599723,
          1.892505881040557,
          0.5467239211894943,
          -0.49064967286236666
         ]
        },
        {
         "boxmean": "sd",
         "boxpoints": "outliers",
         "line": {
          "color": "orange"
         },
         "marker": {
          "color": "yellow"
         },
         "name": "Rate",
         "type": "box",
         "y": [
          1.6586345018292024,
          1.621649512937642,
          1.5476795351545216,
          1.473709557371401,
          1.2887846129135998,
          1.2517996240220395,
          1.2517996240220395,
          1.177829646238919,
          1.177829646238919,
          1.1408446573473587,
          1.1038596684557984,
          1.029889690672678,
          1.029889690672678,
          0.9559197128895575,
          0.8449647462148766,
          0.7340097795401959,
          0.6970247906486357,
          0.6600398017570753,
          0.6230548128655151,
          0.5860698239739549,
          0.5860698239739549,
          0.5490848350823946,
          0.5120998461908344,
          0.5120998461908344,
          -0.11664496496569002,
          -0.15362995385725028,
          -0.2275999316403708,
          -0.41252487609817207,
          -0.5234798427728529,
          -0.7084047872306541,
          -0.7453897761222144,
          -0.8933297316884554,
          -0.8933297316884554,
          -0.9303147205800156,
          -0.9303147205800156,
          -0.967299709471576,
          -0.967299709471576,
          -1.0412696872546965,
          -1.0412696872546965,
          -1.0412696872546965,
          -1.0782546761462568,
          -1.0782546761462568,
          -1.0782546761462568,
          -1.115239665037817,
          -1.1522246539293772,
          -1.1522246539293772,
          -1.1892096428209376,
          -1.1892096428209376,
          -1.2261946317124977,
          -1.2261946317124977,
          -1.2261946317124977,
          0.29018991284147283
         ]
        }
       ],
       "layout": {
        "boxmode": "group",
        "title": "I used z-score to normalize them so that they can be on the same scale.<br>However z-score does not convert the data into standard normal distributions.<br>Therefore, standard normal rules cannot be applied here.",
        "titlefont": {
         "size": 15
        },
        "yaxis": {
         "title": "Normalized Variables",
         "zeroline": true
        }
       }
      },
      "text/html": [
       "<div id=\"8072a2e2-cc30-4ac9-aebb-3bf4ae5eea1f\" style=\"height: 525px; width: 100%;\" class=\"plotly-graph-div\"></div><script type=\"text/javascript\">require([\"plotly\"], function(Plotly) { window.PLOTLYENV=window.PLOTLYENV || {};window.PLOTLYENV.BASE_URL=\"https://plot.ly\";Plotly.newPlot(\"8072a2e2-cc30-4ac9-aebb-3bf4ae5eea1f\", [{\"name\": \"Verbal\", \"boxmean\": \"sd\", \"marker\": {\"color\": \"#3D9970\"}, \"y\": [-0.6993517957667612, -1.003163770535948, -0.6385894008129238, -1.1246885604436228, -0.36515862352065565, -0.9424013755821107, -0.9727825730590293, -0.6385894008129238, -0.7904953881975172, -0.6689705982898425, -0.9424013755821107, -0.7297329932436798, -1.1854509553974601, -1.2462133503512975, -1.003163770535948, -1.398119337735891, -1.5196441276435655, -0.18287143865914354, -1.0335449680128668, -0.15249024118222487, -1.1854509553974601, -1.4285005352128095, -0.5474458083821677, -1.0335449680128668, -0.2740150310898996, -0.6993517957667612, 0.21208412854079933, 0.06017814115620591, 0.21208412854079933, -0.15249024118222487, 0.33360891844847407, 0.910851670509929, 0.5766584982638235, 1.3361884351867905, 0.5462773007869048, 0.4551337083561488, 0.8804704730330103, 1.4577132250944653, 1.3665696326637093, 0.819708078079173, 0.910851670509929, 1.0627576578945224, 1.3665696326637093, 0.9716140654637664, 1.5792380150021401, 0.910851670509929, 1.305807237709872, 1.8526687922944083, 1.3665696326637093, 1.8222875948174895, 1.0323764604176038, -0.7904953881975172], \"line\": {\"color\": \"green\"}, \"type\": \"box\", \"boxpoints\": \"outliers\"}, {\"name\": \"Math\", \"boxmean\": \"sd\", \"marker\": {\"color\": \"blue\"}, \"y\": [-0.6027981695166219, -0.5186867970259305, -0.46261254869880286, -0.742983790334441, -0.434575424535239, -0.9112065353158237, -0.9112065353158237, -0.7149466661708771, -0.88316941115226, -0.8551322869886961, -0.9112065353158237, -0.6027981695166219, -0.9112065353158237, -1.191577776951462, -0.8551322869886961, -1.2196149011150257, -1.612134639404919, -0.15420418289960094, -0.9112065353158237, -0.12616705873603715, -0.9112065353158237, -0.46261254869880286, -0.6027981695166219, -0.4065383003716752, -0.18224130706316474, -0.46261254869880286, 0.29438980371741996, -2.593433985129652, 0.21027843122672857, -0.5467239211894943, 0.29438980371741996, 0.6027981695166219, 0.29438980371741996, 1.612134639404919, 0.5186867970259305, 0.3785011762081114, 1.1355035286243342, 1.612134639404919, 1.3598005219328446, 0.6308352936801856, 1.023355031970079, 0.8270951628251323, 1.2756891494421532, 0.8551322869886961, 1.8083945085498656, 0.5186867970259305, 1.0794292802972065, 2.0046543776948123, 1.4158747702599723, 1.892505881040557, 0.5467239211894943, -0.49064967286236666], \"line\": {\"color\": \"blue\"}, \"type\": \"box\", \"boxpoints\": \"outliers\"}, {\"name\": \"Rate\", \"boxmean\": \"sd\", \"marker\": {\"color\": \"yellow\"}, \"y\": [1.6586345018292024, 1.621649512937642, 1.5476795351545216, 1.473709557371401, 1.2887846129135998, 1.2517996240220395, 1.2517996240220395, 1.177829646238919, 1.177829646238919, 1.1408446573473587, 1.1038596684557984, 1.029889690672678, 1.029889690672678, 0.9559197128895575, 0.8449647462148766, 0.7340097795401959, 0.6970247906486357, 0.6600398017570753, 0.6230548128655151, 0.5860698239739549, 0.5860698239739549, 0.5490848350823946, 0.5120998461908344, 0.5120998461908344, -0.11664496496569002, -0.15362995385725028, -0.2275999316403708, -0.41252487609817207, -0.5234798427728529, -0.7084047872306541, -0.7453897761222144, -0.8933297316884554, -0.8933297316884554, -0.9303147205800156, -0.9303147205800156, -0.967299709471576, -0.967299709471576, -1.0412696872546965, -1.0412696872546965, -1.0412696872546965, -1.0782546761462568, -1.0782546761462568, -1.0782546761462568, -1.115239665037817, -1.1522246539293772, -1.1522246539293772, -1.1892096428209376, -1.1892096428209376, -1.2261946317124977, -1.2261946317124977, -1.2261946317124977, 0.29018991284147283], \"line\": {\"color\": \"orange\"}, \"type\": \"box\", \"boxpoints\": \"outliers\"}], {\"title\": \"I used z-score to normalize them so that they can be on the same scale.<br>However z-score does not convert the data into standard normal distributions.<br>Therefore, standard normal rules cannot be applied here.\", \"titlefont\": {\"size\": 15}, \"boxmode\": \"group\", \"yaxis\": {\"zeroline\": true, \"title\": \"Normalized Variables\"}}, {\"linkText\": \"Export to plot.ly\", \"showLink\": true})});</script>"
      ],
      "text/vnd.plotly.v1+html": [
       "<div id=\"8072a2e2-cc30-4ac9-aebb-3bf4ae5eea1f\" style=\"height: 525px; width: 100%;\" class=\"plotly-graph-div\"></div><script type=\"text/javascript\">require([\"plotly\"], function(Plotly) { window.PLOTLYENV=window.PLOTLYENV || {};window.PLOTLYENV.BASE_URL=\"https://plot.ly\";Plotly.newPlot(\"8072a2e2-cc30-4ac9-aebb-3bf4ae5eea1f\", [{\"name\": \"Verbal\", \"boxmean\": \"sd\", \"marker\": {\"color\": \"#3D9970\"}, \"y\": [-0.6993517957667612, -1.003163770535948, -0.6385894008129238, -1.1246885604436228, -0.36515862352065565, -0.9424013755821107, -0.9727825730590293, -0.6385894008129238, -0.7904953881975172, -0.6689705982898425, -0.9424013755821107, -0.7297329932436798, -1.1854509553974601, -1.2462133503512975, -1.003163770535948, -1.398119337735891, -1.5196441276435655, -0.18287143865914354, -1.0335449680128668, -0.15249024118222487, -1.1854509553974601, -1.4285005352128095, -0.5474458083821677, -1.0335449680128668, -0.2740150310898996, -0.6993517957667612, 0.21208412854079933, 0.06017814115620591, 0.21208412854079933, -0.15249024118222487, 0.33360891844847407, 0.910851670509929, 0.5766584982638235, 1.3361884351867905, 0.5462773007869048, 0.4551337083561488, 0.8804704730330103, 1.4577132250944653, 1.3665696326637093, 0.819708078079173, 0.910851670509929, 1.0627576578945224, 1.3665696326637093, 0.9716140654637664, 1.5792380150021401, 0.910851670509929, 1.305807237709872, 1.8526687922944083, 1.3665696326637093, 1.8222875948174895, 1.0323764604176038, -0.7904953881975172], \"line\": {\"color\": \"green\"}, \"type\": \"box\", \"boxpoints\": \"outliers\"}, {\"name\": \"Math\", \"boxmean\": \"sd\", \"marker\": {\"color\": \"blue\"}, \"y\": [-0.6027981695166219, -0.5186867970259305, -0.46261254869880286, -0.742983790334441, -0.434575424535239, -0.9112065353158237, -0.9112065353158237, -0.7149466661708771, -0.88316941115226, -0.8551322869886961, -0.9112065353158237, -0.6027981695166219, -0.9112065353158237, -1.191577776951462, -0.8551322869886961, -1.2196149011150257, -1.612134639404919, -0.15420418289960094, -0.9112065353158237, -0.12616705873603715, -0.9112065353158237, -0.46261254869880286, -0.6027981695166219, -0.4065383003716752, -0.18224130706316474, -0.46261254869880286, 0.29438980371741996, -2.593433985129652, 0.21027843122672857, -0.5467239211894943, 0.29438980371741996, 0.6027981695166219, 0.29438980371741996, 1.612134639404919, 0.5186867970259305, 0.3785011762081114, 1.1355035286243342, 1.612134639404919, 1.3598005219328446, 0.6308352936801856, 1.023355031970079, 0.8270951628251323, 1.2756891494421532, 0.8551322869886961, 1.8083945085498656, 0.5186867970259305, 1.0794292802972065, 2.0046543776948123, 1.4158747702599723, 1.892505881040557, 0.5467239211894943, -0.49064967286236666], \"line\": {\"color\": \"blue\"}, \"type\": \"box\", \"boxpoints\": \"outliers\"}, {\"name\": \"Rate\", \"boxmean\": \"sd\", \"marker\": {\"color\": \"yellow\"}, \"y\": [1.6586345018292024, 1.621649512937642, 1.5476795351545216, 1.473709557371401, 1.2887846129135998, 1.2517996240220395, 1.2517996240220395, 1.177829646238919, 1.177829646238919, 1.1408446573473587, 1.1038596684557984, 1.029889690672678, 1.029889690672678, 0.9559197128895575, 0.8449647462148766, 0.7340097795401959, 0.6970247906486357, 0.6600398017570753, 0.6230548128655151, 0.5860698239739549, 0.5860698239739549, 0.5490848350823946, 0.5120998461908344, 0.5120998461908344, -0.11664496496569002, -0.15362995385725028, -0.2275999316403708, -0.41252487609817207, -0.5234798427728529, -0.7084047872306541, -0.7453897761222144, -0.8933297316884554, -0.8933297316884554, -0.9303147205800156, -0.9303147205800156, -0.967299709471576, -0.967299709471576, -1.0412696872546965, -1.0412696872546965, -1.0412696872546965, -1.0782546761462568, -1.0782546761462568, -1.0782546761462568, -1.115239665037817, -1.1522246539293772, -1.1522246539293772, -1.1892096428209376, -1.1892096428209376, -1.2261946317124977, -1.2261946317124977, -1.2261946317124977, 0.29018991284147283], \"line\": {\"color\": \"orange\"}, \"type\": \"box\", \"boxpoints\": \"outliers\"}], {\"title\": \"I used z-score to normalize them so that they can be on the same scale.<br>However z-score does not convert the data into standard normal distributions.<br>Therefore, standard normal rules cannot be applied here.\", \"titlefont\": {\"size\": 15}, \"boxmode\": \"group\", \"yaxis\": {\"zeroline\": true, \"title\": \"Normalized Variables\"}}, {\"linkText\": \"Export to plot.ly\", \"showLink\": true})});</script>"
      ]
     },
     "metadata": {},
     "output_type": "display_data"
    }
   ],
   "source": [
    "# plotting boxplots using plotly\n",
    "verbal_box = go.Box(\n",
    "    y=scaling_data(df_file['Verbal']),\n",
    "    name='Verbal',\n",
    "    marker=dict(\n",
    "        color='#3D9970'\n",
    "    ),\n",
    "    boxmean='sd',\n",
    "    boxpoints ='outliers',\n",
    "    line = dict(\n",
    "        color ='green')\n",
    ")\n",
    "\n",
    "math_box = go.Box(\n",
    "    y=scaling_data(df_file['Math']),\n",
    "    name='Math',\n",
    "    marker=dict(\n",
    "        color='blue'\n",
    "    ),\n",
    "    boxmean='sd',\n",
    "    boxpoints ='outliers',\n",
    "    line = dict(\n",
    "        color ='blue')\n",
    ")\n",
    "\n",
    "rate_box = go.Box(\n",
    "    y=scaling_data(df_file['Rate']),\n",
    "    name='Rate',\n",
    "    marker=dict(\n",
    "        color='yellow'\n",
    "    ),\n",
    "    boxmean='sd',\n",
    "    boxpoints ='outliers',\n",
    "    line = dict(\n",
    "        color ='orange')\n",
    ")\n",
    "\n",
    "data = [verbal_box, math_box, rate_box]\n",
    "\n",
    "layout = go.Layout(\n",
    "    title='I used z-score to normalize them so that they can be on the same scale.' \n",
    "        '<br>'\n",
    "        'However z-score does not convert the data into standard normal distributions.'\n",
    "        '<br>'\n",
    "        'Therefore, standard normal rules cannot be applied here.',\n",
    "    titlefont=dict(\n",
    "        size=15\n",
    "    ),\n",
    "    yaxis=dict(\n",
    "        title='Normalized Variables',\n",
    "        zeroline=True\n",
    "    ),\n",
    "    boxmode='group'\n",
    ")\n",
    "fig = go.Figure(data=data, layout=layout)\n",
    "iplot(fig)"
   ]
  },
  {
   "cell_type": "markdown",
   "metadata": {},
   "source": [
    "<img src=\"http://imgur.com/l5NasQj.png\" style=\"float: left; margin: 25px 15px 0px 0px; height: 25px\">\n",
    "\n",
    "## 5. Create and examine subsets of the data\n",
    "\n",
    "---\n",
    "\n",
    "For these questions you will practice **masking** in pandas. Masking uses conditional statements to select portions of your DataFrame (through boolean operations under the hood.)\n",
    "\n",
    "Remember the distinction between DataFrame indexing functions in pandas:\n",
    "\n",
    "    .iloc[row, col] : row and column are specified by index, which are integers\n",
    "    .loc[row, col]  : row and column are specified by string \"labels\" (boolean arrays are allowed; useful for rows)\n",
    "    .ix[row, col]   : row and column indexers can be a mix of labels and integer indices\n",
    "    \n",
    "For detailed reference and tutorial make sure to read over the pandas documentation:\n",
    "\n",
    "http://pandas.pydata.org/pandas-docs/stable/indexing.html\n",
    "\n",
    "\n",
    "\n",
    "### 5.1 Find the list of states that have `Verbal` scores greater than the average of `Verbal` scores across states\n",
    "\n",
    "How many states are above the mean? What does this tell you about the distribution of `Verbal` scores?\n",
    "\n",
    "\n"
   ]
  },
  {
   "cell_type": "markdown",
   "metadata": {},
   "source": [
    "### ANSWER\n",
    "\n",
    "> 24 States are above the mean\n",
    "\n",
    "> Since less than 50% of the scores lies on the right of the mean, the 'Verbal' scores are right skewed, as the mass of the distribution is leaning towards the left."
   ]
  },
  {
   "cell_type": "code",
   "execution_count": 18,
   "metadata": {},
   "outputs": [
    {
     "data": {
      "text/plain": [
       "0.46153846153846156"
      ]
     },
     "execution_count": 18,
     "metadata": {},
     "output_type": "execute_result"
    }
   ],
   "source": [
    "# percentage of verbal scores above mean\n",
    "float(len(df_file[df_file['Verbal'] > df_file['Verbal'].mean()])) / float(len(df_file['Verbal']))"
   ]
  },
  {
   "cell_type": "code",
   "execution_count": 19,
   "metadata": {},
   "outputs": [
    {
     "data": {
      "text/plain": [
       "24"
      ]
     },
     "execution_count": 19,
     "metadata": {},
     "output_type": "execute_result"
    }
   ],
   "source": [
    "# Number of verbal scores above mean\n",
    "len(df_file[df_file['Verbal'] > df_file['Verbal'].mean()])"
   ]
  },
  {
   "cell_type": "code",
   "execution_count": 20,
   "metadata": {
    "scrolled": true
   },
   "outputs": [
    {
     "data": {
      "text/html": [
       "<div>\n",
       "<style scoped>\n",
       "    .dataframe tbody tr th:only-of-type {\n",
       "        vertical-align: middle;\n",
       "    }\n",
       "\n",
       "    .dataframe tbody tr th {\n",
       "        vertical-align: top;\n",
       "    }\n",
       "\n",
       "    .dataframe thead th {\n",
       "        text-align: right;\n",
       "    }\n",
       "</style>\n",
       "<table border=\"1\" class=\"dataframe\">\n",
       "  <thead>\n",
       "    <tr style=\"text-align: right;\">\n",
       "      <th></th>\n",
       "      <th>State</th>\n",
       "      <th>Rate</th>\n",
       "      <th>Verbal</th>\n",
       "      <th>Math</th>\n",
       "    </tr>\n",
       "  </thead>\n",
       "  <tbody>\n",
       "    <tr>\n",
       "      <th>26</th>\n",
       "      <td>CO</td>\n",
       "      <td>31</td>\n",
       "      <td>539</td>\n",
       "      <td>542</td>\n",
       "    </tr>\n",
       "    <tr>\n",
       "      <th>27</th>\n",
       "      <td>OH</td>\n",
       "      <td>26</td>\n",
       "      <td>534</td>\n",
       "      <td>439</td>\n",
       "    </tr>\n",
       "    <tr>\n",
       "      <th>28</th>\n",
       "      <td>MT</td>\n",
       "      <td>23</td>\n",
       "      <td>539</td>\n",
       "      <td>539</td>\n",
       "    </tr>\n",
       "    <tr>\n",
       "      <th>30</th>\n",
       "      <td>ID</td>\n",
       "      <td>17</td>\n",
       "      <td>543</td>\n",
       "      <td>542</td>\n",
       "    </tr>\n",
       "    <tr>\n",
       "      <th>31</th>\n",
       "      <td>TN</td>\n",
       "      <td>13</td>\n",
       "      <td>562</td>\n",
       "      <td>553</td>\n",
       "    </tr>\n",
       "    <tr>\n",
       "      <th>32</th>\n",
       "      <td>NM</td>\n",
       "      <td>13</td>\n",
       "      <td>551</td>\n",
       "      <td>542</td>\n",
       "    </tr>\n",
       "    <tr>\n",
       "      <th>33</th>\n",
       "      <td>IL</td>\n",
       "      <td>12</td>\n",
       "      <td>576</td>\n",
       "      <td>589</td>\n",
       "    </tr>\n",
       "    <tr>\n",
       "      <th>34</th>\n",
       "      <td>KY</td>\n",
       "      <td>12</td>\n",
       "      <td>550</td>\n",
       "      <td>550</td>\n",
       "    </tr>\n",
       "    <tr>\n",
       "      <th>35</th>\n",
       "      <td>WY</td>\n",
       "      <td>11</td>\n",
       "      <td>547</td>\n",
       "      <td>545</td>\n",
       "    </tr>\n",
       "    <tr>\n",
       "      <th>36</th>\n",
       "      <td>MI</td>\n",
       "      <td>11</td>\n",
       "      <td>561</td>\n",
       "      <td>572</td>\n",
       "    </tr>\n",
       "    <tr>\n",
       "      <th>37</th>\n",
       "      <td>MN</td>\n",
       "      <td>9</td>\n",
       "      <td>580</td>\n",
       "      <td>589</td>\n",
       "    </tr>\n",
       "    <tr>\n",
       "      <th>38</th>\n",
       "      <td>KS</td>\n",
       "      <td>9</td>\n",
       "      <td>577</td>\n",
       "      <td>580</td>\n",
       "    </tr>\n",
       "    <tr>\n",
       "      <th>39</th>\n",
       "      <td>AL</td>\n",
       "      <td>9</td>\n",
       "      <td>559</td>\n",
       "      <td>554</td>\n",
       "    </tr>\n",
       "    <tr>\n",
       "      <th>40</th>\n",
       "      <td>NE</td>\n",
       "      <td>8</td>\n",
       "      <td>562</td>\n",
       "      <td>568</td>\n",
       "    </tr>\n",
       "    <tr>\n",
       "      <th>41</th>\n",
       "      <td>OK</td>\n",
       "      <td>8</td>\n",
       "      <td>567</td>\n",
       "      <td>561</td>\n",
       "    </tr>\n",
       "    <tr>\n",
       "      <th>42</th>\n",
       "      <td>MO</td>\n",
       "      <td>8</td>\n",
       "      <td>577</td>\n",
       "      <td>577</td>\n",
       "    </tr>\n",
       "    <tr>\n",
       "      <th>43</th>\n",
       "      <td>LA</td>\n",
       "      <td>7</td>\n",
       "      <td>564</td>\n",
       "      <td>562</td>\n",
       "    </tr>\n",
       "    <tr>\n",
       "      <th>44</th>\n",
       "      <td>WI</td>\n",
       "      <td>6</td>\n",
       "      <td>584</td>\n",
       "      <td>596</td>\n",
       "    </tr>\n",
       "    <tr>\n",
       "      <th>45</th>\n",
       "      <td>AR</td>\n",
       "      <td>6</td>\n",
       "      <td>562</td>\n",
       "      <td>550</td>\n",
       "    </tr>\n",
       "    <tr>\n",
       "      <th>46</th>\n",
       "      <td>UT</td>\n",
       "      <td>5</td>\n",
       "      <td>575</td>\n",
       "      <td>570</td>\n",
       "    </tr>\n",
       "    <tr>\n",
       "      <th>47</th>\n",
       "      <td>IA</td>\n",
       "      <td>5</td>\n",
       "      <td>593</td>\n",
       "      <td>603</td>\n",
       "    </tr>\n",
       "    <tr>\n",
       "      <th>48</th>\n",
       "      <td>SD</td>\n",
       "      <td>4</td>\n",
       "      <td>577</td>\n",
       "      <td>582</td>\n",
       "    </tr>\n",
       "    <tr>\n",
       "      <th>49</th>\n",
       "      <td>ND</td>\n",
       "      <td>4</td>\n",
       "      <td>592</td>\n",
       "      <td>599</td>\n",
       "    </tr>\n",
       "    <tr>\n",
       "      <th>50</th>\n",
       "      <td>MS</td>\n",
       "      <td>4</td>\n",
       "      <td>566</td>\n",
       "      <td>551</td>\n",
       "    </tr>\n",
       "  </tbody>\n",
       "</table>\n",
       "</div>"
      ],
      "text/plain": [
       "   State  Rate  Verbal  Math\n",
       "26    CO    31     539   542\n",
       "27    OH    26     534   439\n",
       "28    MT    23     539   539\n",
       "30    ID    17     543   542\n",
       "31    TN    13     562   553\n",
       "32    NM    13     551   542\n",
       "33    IL    12     576   589\n",
       "34    KY    12     550   550\n",
       "35    WY    11     547   545\n",
       "36    MI    11     561   572\n",
       "37    MN     9     580   589\n",
       "38    KS     9     577   580\n",
       "39    AL     9     559   554\n",
       "40    NE     8     562   568\n",
       "41    OK     8     567   561\n",
       "42    MO     8     577   577\n",
       "43    LA     7     564   562\n",
       "44    WI     6     584   596\n",
       "45    AR     6     562   550\n",
       "46    UT     5     575   570\n",
       "47    IA     5     593   603\n",
       "48    SD     4     577   582\n",
       "49    ND     4     592   599\n",
       "50    MS     4     566   551"
      ]
     },
     "execution_count": 20,
     "metadata": {},
     "output_type": "execute_result"
    }
   ],
   "source": [
    "# List of verbal scores above mean\n",
    "df_file[df_file['Verbal'] > df_file['Verbal'].mean()]"
   ]
  },
  {
   "cell_type": "markdown",
   "metadata": {},
   "source": [
    "### 5.2 Find the list of states that have `Verbal` scores greater than the median of `Verbal` scores across states\n",
    "\n",
    "How does this compare to the list of states greater than the mean of `Verbal` scores? Why?"
   ]
  },
  {
   "cell_type": "markdown",
   "metadata": {},
   "source": [
    "### ANSWER\n",
    "\n",
    "> There are 2 more states greater than the median as compared to the mean.\n",
    "\n",
    "> Exactly 50% of the verbal scores are greater than the median. This is because in a right skewed distribution, the median is smaller than the mean."
   ]
  },
  {
   "cell_type": "code",
   "execution_count": 21,
   "metadata": {},
   "outputs": [
    {
     "data": {
      "text/plain": [
       "0.5"
      ]
     },
     "execution_count": 21,
     "metadata": {},
     "output_type": "execute_result"
    }
   ],
   "source": [
    "# Percentage of Verbal scores above median\n",
    "float(len(df_file[df_file['Verbal'] > df_file['Verbal'].median()])) / float(len(df_file['Verbal']))"
   ]
  },
  {
   "cell_type": "code",
   "execution_count": 22,
   "metadata": {},
   "outputs": [
    {
     "data": {
      "text/plain": [
       "26"
      ]
     },
     "execution_count": 22,
     "metadata": {},
     "output_type": "execute_result"
    }
   ],
   "source": [
    "# Number of Verbal scores above median\n",
    "len(df_file[df_file['Verbal'] > df_file['Verbal'].median()])"
   ]
  },
  {
   "cell_type": "code",
   "execution_count": 23,
   "metadata": {
    "scrolled": true
   },
   "outputs": [
    {
     "data": {
      "text/html": [
       "<div>\n",
       "<style scoped>\n",
       "    .dataframe tbody tr th:only-of-type {\n",
       "        vertical-align: middle;\n",
       "    }\n",
       "\n",
       "    .dataframe tbody tr th {\n",
       "        vertical-align: top;\n",
       "    }\n",
       "\n",
       "    .dataframe thead th {\n",
       "        text-align: right;\n",
       "    }\n",
       "</style>\n",
       "<table border=\"1\" class=\"dataframe\">\n",
       "  <thead>\n",
       "    <tr style=\"text-align: right;\">\n",
       "      <th></th>\n",
       "      <th>State</th>\n",
       "      <th>Rate</th>\n",
       "      <th>Verbal</th>\n",
       "      <th>Math</th>\n",
       "    </tr>\n",
       "  </thead>\n",
       "  <tbody>\n",
       "    <tr>\n",
       "      <th>19</th>\n",
       "      <td>WA</td>\n",
       "      <td>53</td>\n",
       "      <td>527</td>\n",
       "      <td>527</td>\n",
       "    </tr>\n",
       "    <tr>\n",
       "      <th>26</th>\n",
       "      <td>CO</td>\n",
       "      <td>31</td>\n",
       "      <td>539</td>\n",
       "      <td>542</td>\n",
       "    </tr>\n",
       "    <tr>\n",
       "      <th>27</th>\n",
       "      <td>OH</td>\n",
       "      <td>26</td>\n",
       "      <td>534</td>\n",
       "      <td>439</td>\n",
       "    </tr>\n",
       "    <tr>\n",
       "      <th>28</th>\n",
       "      <td>MT</td>\n",
       "      <td>23</td>\n",
       "      <td>539</td>\n",
       "      <td>539</td>\n",
       "    </tr>\n",
       "    <tr>\n",
       "      <th>29</th>\n",
       "      <td>WV</td>\n",
       "      <td>18</td>\n",
       "      <td>527</td>\n",
       "      <td>512</td>\n",
       "    </tr>\n",
       "    <tr>\n",
       "      <th>30</th>\n",
       "      <td>ID</td>\n",
       "      <td>17</td>\n",
       "      <td>543</td>\n",
       "      <td>542</td>\n",
       "    </tr>\n",
       "    <tr>\n",
       "      <th>31</th>\n",
       "      <td>TN</td>\n",
       "      <td>13</td>\n",
       "      <td>562</td>\n",
       "      <td>553</td>\n",
       "    </tr>\n",
       "    <tr>\n",
       "      <th>32</th>\n",
       "      <td>NM</td>\n",
       "      <td>13</td>\n",
       "      <td>551</td>\n",
       "      <td>542</td>\n",
       "    </tr>\n",
       "    <tr>\n",
       "      <th>33</th>\n",
       "      <td>IL</td>\n",
       "      <td>12</td>\n",
       "      <td>576</td>\n",
       "      <td>589</td>\n",
       "    </tr>\n",
       "    <tr>\n",
       "      <th>34</th>\n",
       "      <td>KY</td>\n",
       "      <td>12</td>\n",
       "      <td>550</td>\n",
       "      <td>550</td>\n",
       "    </tr>\n",
       "    <tr>\n",
       "      <th>35</th>\n",
       "      <td>WY</td>\n",
       "      <td>11</td>\n",
       "      <td>547</td>\n",
       "      <td>545</td>\n",
       "    </tr>\n",
       "    <tr>\n",
       "      <th>36</th>\n",
       "      <td>MI</td>\n",
       "      <td>11</td>\n",
       "      <td>561</td>\n",
       "      <td>572</td>\n",
       "    </tr>\n",
       "    <tr>\n",
       "      <th>37</th>\n",
       "      <td>MN</td>\n",
       "      <td>9</td>\n",
       "      <td>580</td>\n",
       "      <td>589</td>\n",
       "    </tr>\n",
       "    <tr>\n",
       "      <th>38</th>\n",
       "      <td>KS</td>\n",
       "      <td>9</td>\n",
       "      <td>577</td>\n",
       "      <td>580</td>\n",
       "    </tr>\n",
       "    <tr>\n",
       "      <th>39</th>\n",
       "      <td>AL</td>\n",
       "      <td>9</td>\n",
       "      <td>559</td>\n",
       "      <td>554</td>\n",
       "    </tr>\n",
       "    <tr>\n",
       "      <th>40</th>\n",
       "      <td>NE</td>\n",
       "      <td>8</td>\n",
       "      <td>562</td>\n",
       "      <td>568</td>\n",
       "    </tr>\n",
       "    <tr>\n",
       "      <th>41</th>\n",
       "      <td>OK</td>\n",
       "      <td>8</td>\n",
       "      <td>567</td>\n",
       "      <td>561</td>\n",
       "    </tr>\n",
       "    <tr>\n",
       "      <th>42</th>\n",
       "      <td>MO</td>\n",
       "      <td>8</td>\n",
       "      <td>577</td>\n",
       "      <td>577</td>\n",
       "    </tr>\n",
       "    <tr>\n",
       "      <th>43</th>\n",
       "      <td>LA</td>\n",
       "      <td>7</td>\n",
       "      <td>564</td>\n",
       "      <td>562</td>\n",
       "    </tr>\n",
       "    <tr>\n",
       "      <th>44</th>\n",
       "      <td>WI</td>\n",
       "      <td>6</td>\n",
       "      <td>584</td>\n",
       "      <td>596</td>\n",
       "    </tr>\n",
       "    <tr>\n",
       "      <th>45</th>\n",
       "      <td>AR</td>\n",
       "      <td>6</td>\n",
       "      <td>562</td>\n",
       "      <td>550</td>\n",
       "    </tr>\n",
       "    <tr>\n",
       "      <th>46</th>\n",
       "      <td>UT</td>\n",
       "      <td>5</td>\n",
       "      <td>575</td>\n",
       "      <td>570</td>\n",
       "    </tr>\n",
       "    <tr>\n",
       "      <th>47</th>\n",
       "      <td>IA</td>\n",
       "      <td>5</td>\n",
       "      <td>593</td>\n",
       "      <td>603</td>\n",
       "    </tr>\n",
       "    <tr>\n",
       "      <th>48</th>\n",
       "      <td>SD</td>\n",
       "      <td>4</td>\n",
       "      <td>577</td>\n",
       "      <td>582</td>\n",
       "    </tr>\n",
       "    <tr>\n",
       "      <th>49</th>\n",
       "      <td>ND</td>\n",
       "      <td>4</td>\n",
       "      <td>592</td>\n",
       "      <td>599</td>\n",
       "    </tr>\n",
       "    <tr>\n",
       "      <th>50</th>\n",
       "      <td>MS</td>\n",
       "      <td>4</td>\n",
       "      <td>566</td>\n",
       "      <td>551</td>\n",
       "    </tr>\n",
       "  </tbody>\n",
       "</table>\n",
       "</div>"
      ],
      "text/plain": [
       "   State  Rate  Verbal  Math\n",
       "19    WA    53     527   527\n",
       "26    CO    31     539   542\n",
       "27    OH    26     534   439\n",
       "28    MT    23     539   539\n",
       "29    WV    18     527   512\n",
       "30    ID    17     543   542\n",
       "31    TN    13     562   553\n",
       "32    NM    13     551   542\n",
       "33    IL    12     576   589\n",
       "34    KY    12     550   550\n",
       "35    WY    11     547   545\n",
       "36    MI    11     561   572\n",
       "37    MN     9     580   589\n",
       "38    KS     9     577   580\n",
       "39    AL     9     559   554\n",
       "40    NE     8     562   568\n",
       "41    OK     8     567   561\n",
       "42    MO     8     577   577\n",
       "43    LA     7     564   562\n",
       "44    WI     6     584   596\n",
       "45    AR     6     562   550\n",
       "46    UT     5     575   570\n",
       "47    IA     5     593   603\n",
       "48    SD     4     577   582\n",
       "49    ND     4     592   599\n",
       "50    MS     4     566   551"
      ]
     },
     "execution_count": 23,
     "metadata": {},
     "output_type": "execute_result"
    }
   ],
   "source": [
    "# List of Verbal scores above median\n",
    "df_file[df_file['Verbal'] > df_file['Verbal'].median()]"
   ]
  },
  {
   "cell_type": "markdown",
   "metadata": {},
   "source": [
    "### 5.3 Create a column that is the difference between the `Verbal` and `Math` scores\n",
    "\n",
    "Specifically, this should be `Verbal - Math`."
   ]
  },
  {
   "cell_type": "code",
   "execution_count": 24,
   "metadata": {
    "scrolled": true
   },
   "outputs": [
    {
     "data": {
      "text/html": [
       "<div>\n",
       "<style scoped>\n",
       "    .dataframe tbody tr th:only-of-type {\n",
       "        vertical-align: middle;\n",
       "    }\n",
       "\n",
       "    .dataframe tbody tr th {\n",
       "        vertical-align: top;\n",
       "    }\n",
       "\n",
       "    .dataframe thead th {\n",
       "        text-align: right;\n",
       "    }\n",
       "</style>\n",
       "<table border=\"1\" class=\"dataframe\">\n",
       "  <thead>\n",
       "    <tr style=\"text-align: right;\">\n",
       "      <th></th>\n",
       "      <th>State</th>\n",
       "      <th>Rate</th>\n",
       "      <th>Verbal</th>\n",
       "      <th>Math</th>\n",
       "      <th>Diff_verbal_math</th>\n",
       "    </tr>\n",
       "  </thead>\n",
       "  <tbody>\n",
       "    <tr>\n",
       "      <th>0</th>\n",
       "      <td>CT</td>\n",
       "      <td>82</td>\n",
       "      <td>509</td>\n",
       "      <td>510</td>\n",
       "      <td>1</td>\n",
       "    </tr>\n",
       "    <tr>\n",
       "      <th>1</th>\n",
       "      <td>NJ</td>\n",
       "      <td>81</td>\n",
       "      <td>499</td>\n",
       "      <td>513</td>\n",
       "      <td>14</td>\n",
       "    </tr>\n",
       "    <tr>\n",
       "      <th>2</th>\n",
       "      <td>MA</td>\n",
       "      <td>79</td>\n",
       "      <td>511</td>\n",
       "      <td>515</td>\n",
       "      <td>4</td>\n",
       "    </tr>\n",
       "    <tr>\n",
       "      <th>3</th>\n",
       "      <td>NY</td>\n",
       "      <td>77</td>\n",
       "      <td>495</td>\n",
       "      <td>505</td>\n",
       "      <td>10</td>\n",
       "    </tr>\n",
       "    <tr>\n",
       "      <th>4</th>\n",
       "      <td>NH</td>\n",
       "      <td>72</td>\n",
       "      <td>520</td>\n",
       "      <td>516</td>\n",
       "      <td>4</td>\n",
       "    </tr>\n",
       "    <tr>\n",
       "      <th>5</th>\n",
       "      <td>RI</td>\n",
       "      <td>71</td>\n",
       "      <td>501</td>\n",
       "      <td>499</td>\n",
       "      <td>2</td>\n",
       "    </tr>\n",
       "    <tr>\n",
       "      <th>6</th>\n",
       "      <td>PA</td>\n",
       "      <td>71</td>\n",
       "      <td>500</td>\n",
       "      <td>499</td>\n",
       "      <td>1</td>\n",
       "    </tr>\n",
       "    <tr>\n",
       "      <th>7</th>\n",
       "      <td>VT</td>\n",
       "      <td>69</td>\n",
       "      <td>511</td>\n",
       "      <td>506</td>\n",
       "      <td>5</td>\n",
       "    </tr>\n",
       "    <tr>\n",
       "      <th>8</th>\n",
       "      <td>ME</td>\n",
       "      <td>69</td>\n",
       "      <td>506</td>\n",
       "      <td>500</td>\n",
       "      <td>6</td>\n",
       "    </tr>\n",
       "    <tr>\n",
       "      <th>9</th>\n",
       "      <td>VA</td>\n",
       "      <td>68</td>\n",
       "      <td>510</td>\n",
       "      <td>501</td>\n",
       "      <td>9</td>\n",
       "    </tr>\n",
       "    <tr>\n",
       "      <th>10</th>\n",
       "      <td>DE</td>\n",
       "      <td>67</td>\n",
       "      <td>501</td>\n",
       "      <td>499</td>\n",
       "      <td>2</td>\n",
       "    </tr>\n",
       "    <tr>\n",
       "      <th>11</th>\n",
       "      <td>MD</td>\n",
       "      <td>65</td>\n",
       "      <td>508</td>\n",
       "      <td>510</td>\n",
       "      <td>2</td>\n",
       "    </tr>\n",
       "    <tr>\n",
       "      <th>12</th>\n",
       "      <td>NC</td>\n",
       "      <td>65</td>\n",
       "      <td>493</td>\n",
       "      <td>499</td>\n",
       "      <td>6</td>\n",
       "    </tr>\n",
       "    <tr>\n",
       "      <th>13</th>\n",
       "      <td>GA</td>\n",
       "      <td>63</td>\n",
       "      <td>491</td>\n",
       "      <td>489</td>\n",
       "      <td>2</td>\n",
       "    </tr>\n",
       "    <tr>\n",
       "      <th>14</th>\n",
       "      <td>IN</td>\n",
       "      <td>60</td>\n",
       "      <td>499</td>\n",
       "      <td>501</td>\n",
       "      <td>2</td>\n",
       "    </tr>\n",
       "    <tr>\n",
       "      <th>15</th>\n",
       "      <td>SC</td>\n",
       "      <td>57</td>\n",
       "      <td>486</td>\n",
       "      <td>488</td>\n",
       "      <td>2</td>\n",
       "    </tr>\n",
       "    <tr>\n",
       "      <th>16</th>\n",
       "      <td>DC</td>\n",
       "      <td>56</td>\n",
       "      <td>482</td>\n",
       "      <td>474</td>\n",
       "      <td>8</td>\n",
       "    </tr>\n",
       "    <tr>\n",
       "      <th>17</th>\n",
       "      <td>OR</td>\n",
       "      <td>55</td>\n",
       "      <td>526</td>\n",
       "      <td>526</td>\n",
       "      <td>0</td>\n",
       "    </tr>\n",
       "    <tr>\n",
       "      <th>18</th>\n",
       "      <td>FL</td>\n",
       "      <td>54</td>\n",
       "      <td>498</td>\n",
       "      <td>499</td>\n",
       "      <td>1</td>\n",
       "    </tr>\n",
       "    <tr>\n",
       "      <th>19</th>\n",
       "      <td>WA</td>\n",
       "      <td>53</td>\n",
       "      <td>527</td>\n",
       "      <td>527</td>\n",
       "      <td>0</td>\n",
       "    </tr>\n",
       "    <tr>\n",
       "      <th>20</th>\n",
       "      <td>TX</td>\n",
       "      <td>53</td>\n",
       "      <td>493</td>\n",
       "      <td>499</td>\n",
       "      <td>6</td>\n",
       "    </tr>\n",
       "    <tr>\n",
       "      <th>21</th>\n",
       "      <td>HI</td>\n",
       "      <td>52</td>\n",
       "      <td>485</td>\n",
       "      <td>515</td>\n",
       "      <td>30</td>\n",
       "    </tr>\n",
       "    <tr>\n",
       "      <th>22</th>\n",
       "      <td>AK</td>\n",
       "      <td>51</td>\n",
       "      <td>514</td>\n",
       "      <td>510</td>\n",
       "      <td>4</td>\n",
       "    </tr>\n",
       "    <tr>\n",
       "      <th>23</th>\n",
       "      <td>CA</td>\n",
       "      <td>51</td>\n",
       "      <td>498</td>\n",
       "      <td>517</td>\n",
       "      <td>19</td>\n",
       "    </tr>\n",
       "    <tr>\n",
       "      <th>24</th>\n",
       "      <td>AZ</td>\n",
       "      <td>34</td>\n",
       "      <td>523</td>\n",
       "      <td>525</td>\n",
       "      <td>2</td>\n",
       "    </tr>\n",
       "    <tr>\n",
       "      <th>25</th>\n",
       "      <td>NV</td>\n",
       "      <td>33</td>\n",
       "      <td>509</td>\n",
       "      <td>515</td>\n",
       "      <td>6</td>\n",
       "    </tr>\n",
       "    <tr>\n",
       "      <th>26</th>\n",
       "      <td>CO</td>\n",
       "      <td>31</td>\n",
       "      <td>539</td>\n",
       "      <td>542</td>\n",
       "      <td>3</td>\n",
       "    </tr>\n",
       "    <tr>\n",
       "      <th>27</th>\n",
       "      <td>OH</td>\n",
       "      <td>26</td>\n",
       "      <td>534</td>\n",
       "      <td>439</td>\n",
       "      <td>95</td>\n",
       "    </tr>\n",
       "    <tr>\n",
       "      <th>28</th>\n",
       "      <td>MT</td>\n",
       "      <td>23</td>\n",
       "      <td>539</td>\n",
       "      <td>539</td>\n",
       "      <td>0</td>\n",
       "    </tr>\n",
       "    <tr>\n",
       "      <th>29</th>\n",
       "      <td>WV</td>\n",
       "      <td>18</td>\n",
       "      <td>527</td>\n",
       "      <td>512</td>\n",
       "      <td>15</td>\n",
       "    </tr>\n",
       "    <tr>\n",
       "      <th>30</th>\n",
       "      <td>ID</td>\n",
       "      <td>17</td>\n",
       "      <td>543</td>\n",
       "      <td>542</td>\n",
       "      <td>1</td>\n",
       "    </tr>\n",
       "    <tr>\n",
       "      <th>31</th>\n",
       "      <td>TN</td>\n",
       "      <td>13</td>\n",
       "      <td>562</td>\n",
       "      <td>553</td>\n",
       "      <td>9</td>\n",
       "    </tr>\n",
       "    <tr>\n",
       "      <th>32</th>\n",
       "      <td>NM</td>\n",
       "      <td>13</td>\n",
       "      <td>551</td>\n",
       "      <td>542</td>\n",
       "      <td>9</td>\n",
       "    </tr>\n",
       "    <tr>\n",
       "      <th>33</th>\n",
       "      <td>IL</td>\n",
       "      <td>12</td>\n",
       "      <td>576</td>\n",
       "      <td>589</td>\n",
       "      <td>13</td>\n",
       "    </tr>\n",
       "    <tr>\n",
       "      <th>34</th>\n",
       "      <td>KY</td>\n",
       "      <td>12</td>\n",
       "      <td>550</td>\n",
       "      <td>550</td>\n",
       "      <td>0</td>\n",
       "    </tr>\n",
       "    <tr>\n",
       "      <th>35</th>\n",
       "      <td>WY</td>\n",
       "      <td>11</td>\n",
       "      <td>547</td>\n",
       "      <td>545</td>\n",
       "      <td>2</td>\n",
       "    </tr>\n",
       "    <tr>\n",
       "      <th>36</th>\n",
       "      <td>MI</td>\n",
       "      <td>11</td>\n",
       "      <td>561</td>\n",
       "      <td>572</td>\n",
       "      <td>11</td>\n",
       "    </tr>\n",
       "    <tr>\n",
       "      <th>37</th>\n",
       "      <td>MN</td>\n",
       "      <td>9</td>\n",
       "      <td>580</td>\n",
       "      <td>589</td>\n",
       "      <td>9</td>\n",
       "    </tr>\n",
       "    <tr>\n",
       "      <th>38</th>\n",
       "      <td>KS</td>\n",
       "      <td>9</td>\n",
       "      <td>577</td>\n",
       "      <td>580</td>\n",
       "      <td>3</td>\n",
       "    </tr>\n",
       "    <tr>\n",
       "      <th>39</th>\n",
       "      <td>AL</td>\n",
       "      <td>9</td>\n",
       "      <td>559</td>\n",
       "      <td>554</td>\n",
       "      <td>5</td>\n",
       "    </tr>\n",
       "    <tr>\n",
       "      <th>40</th>\n",
       "      <td>NE</td>\n",
       "      <td>8</td>\n",
       "      <td>562</td>\n",
       "      <td>568</td>\n",
       "      <td>6</td>\n",
       "    </tr>\n",
       "    <tr>\n",
       "      <th>41</th>\n",
       "      <td>OK</td>\n",
       "      <td>8</td>\n",
       "      <td>567</td>\n",
       "      <td>561</td>\n",
       "      <td>6</td>\n",
       "    </tr>\n",
       "    <tr>\n",
       "      <th>42</th>\n",
       "      <td>MO</td>\n",
       "      <td>8</td>\n",
       "      <td>577</td>\n",
       "      <td>577</td>\n",
       "      <td>0</td>\n",
       "    </tr>\n",
       "    <tr>\n",
       "      <th>43</th>\n",
       "      <td>LA</td>\n",
       "      <td>7</td>\n",
       "      <td>564</td>\n",
       "      <td>562</td>\n",
       "      <td>2</td>\n",
       "    </tr>\n",
       "    <tr>\n",
       "      <th>44</th>\n",
       "      <td>WI</td>\n",
       "      <td>6</td>\n",
       "      <td>584</td>\n",
       "      <td>596</td>\n",
       "      <td>12</td>\n",
       "    </tr>\n",
       "    <tr>\n",
       "      <th>45</th>\n",
       "      <td>AR</td>\n",
       "      <td>6</td>\n",
       "      <td>562</td>\n",
       "      <td>550</td>\n",
       "      <td>12</td>\n",
       "    </tr>\n",
       "    <tr>\n",
       "      <th>46</th>\n",
       "      <td>UT</td>\n",
       "      <td>5</td>\n",
       "      <td>575</td>\n",
       "      <td>570</td>\n",
       "      <td>5</td>\n",
       "    </tr>\n",
       "    <tr>\n",
       "      <th>47</th>\n",
       "      <td>IA</td>\n",
       "      <td>5</td>\n",
       "      <td>593</td>\n",
       "      <td>603</td>\n",
       "      <td>10</td>\n",
       "    </tr>\n",
       "    <tr>\n",
       "      <th>48</th>\n",
       "      <td>SD</td>\n",
       "      <td>4</td>\n",
       "      <td>577</td>\n",
       "      <td>582</td>\n",
       "      <td>5</td>\n",
       "    </tr>\n",
       "    <tr>\n",
       "      <th>49</th>\n",
       "      <td>ND</td>\n",
       "      <td>4</td>\n",
       "      <td>592</td>\n",
       "      <td>599</td>\n",
       "      <td>7</td>\n",
       "    </tr>\n",
       "    <tr>\n",
       "      <th>50</th>\n",
       "      <td>MS</td>\n",
       "      <td>4</td>\n",
       "      <td>566</td>\n",
       "      <td>551</td>\n",
       "      <td>15</td>\n",
       "    </tr>\n",
       "    <tr>\n",
       "      <th>51</th>\n",
       "      <td>All</td>\n",
       "      <td>45</td>\n",
       "      <td>506</td>\n",
       "      <td>514</td>\n",
       "      <td>8</td>\n",
       "    </tr>\n",
       "  </tbody>\n",
       "</table>\n",
       "</div>"
      ],
      "text/plain": [
       "   State  Rate  Verbal  Math  Diff_verbal_math\n",
       "0     CT    82     509   510                 1\n",
       "1     NJ    81     499   513                14\n",
       "2     MA    79     511   515                 4\n",
       "3     NY    77     495   505                10\n",
       "4     NH    72     520   516                 4\n",
       "5     RI    71     501   499                 2\n",
       "6     PA    71     500   499                 1\n",
       "7     VT    69     511   506                 5\n",
       "8     ME    69     506   500                 6\n",
       "9     VA    68     510   501                 9\n",
       "10    DE    67     501   499                 2\n",
       "11    MD    65     508   510                 2\n",
       "12    NC    65     493   499                 6\n",
       "13    GA    63     491   489                 2\n",
       "14    IN    60     499   501                 2\n",
       "15    SC    57     486   488                 2\n",
       "16    DC    56     482   474                 8\n",
       "17    OR    55     526   526                 0\n",
       "18    FL    54     498   499                 1\n",
       "19    WA    53     527   527                 0\n",
       "20    TX    53     493   499                 6\n",
       "21    HI    52     485   515                30\n",
       "22    AK    51     514   510                 4\n",
       "23    CA    51     498   517                19\n",
       "24    AZ    34     523   525                 2\n",
       "25    NV    33     509   515                 6\n",
       "26    CO    31     539   542                 3\n",
       "27    OH    26     534   439                95\n",
       "28    MT    23     539   539                 0\n",
       "29    WV    18     527   512                15\n",
       "30    ID    17     543   542                 1\n",
       "31    TN    13     562   553                 9\n",
       "32    NM    13     551   542                 9\n",
       "33    IL    12     576   589                13\n",
       "34    KY    12     550   550                 0\n",
       "35    WY    11     547   545                 2\n",
       "36    MI    11     561   572                11\n",
       "37    MN     9     580   589                 9\n",
       "38    KS     9     577   580                 3\n",
       "39    AL     9     559   554                 5\n",
       "40    NE     8     562   568                 6\n",
       "41    OK     8     567   561                 6\n",
       "42    MO     8     577   577                 0\n",
       "43    LA     7     564   562                 2\n",
       "44    WI     6     584   596                12\n",
       "45    AR     6     562   550                12\n",
       "46    UT     5     575   570                 5\n",
       "47    IA     5     593   603                10\n",
       "48    SD     4     577   582                 5\n",
       "49    ND     4     592   599                 7\n",
       "50    MS     4     566   551                15\n",
       "51   All    45     506   514                 8"
      ]
     },
     "execution_count": 24,
     "metadata": {},
     "output_type": "execute_result"
    }
   ],
   "source": [
    "df_file['Diff_verbal_math'] = abs(np.array(df_file['Verbal']) - np.array(df_file['Math']))\n",
    "df_file"
   ]
  },
  {
   "cell_type": "markdown",
   "metadata": {},
   "source": [
    "### 5.4 Create two new DataFrames showing states with the greatest difference between scores\n",
    "\n",
    "1. Your first DataFrame should be the 10 states with the greatest gap between `Verbal` and `Math` scores where `Verbal` is greater than `Math`. It should be sorted appropriately to show the ranking of states.\n",
    "2. Your second DataFrame will be the inverse: states with the greatest gap between `Verbal` and `Math` such that `Math` is greater than `Verbal`. Again, this should be sorted appropriately to show rank.\n",
    "3. Print the header of both variables, only showing the top 3 states in each."
   ]
  },
  {
   "cell_type": "code",
   "execution_count": 25,
   "metadata": {
    "collapsed": true,
    "scrolled": false
   },
   "outputs": [],
   "source": [
    "# First DataFrame\n",
    "df_top_10_verbal_bigger_math = df_file[df_file['Verbal'] > df_file['Math']]"
   ]
  },
  {
   "cell_type": "code",
   "execution_count": 26,
   "metadata": {
    "collapsed": true
   },
   "outputs": [],
   "source": [
    "# Second DataFrame\n",
    "df_top_10_math_bigger_verbal = df_file[df_file['Math'] > df_file['Verbal']]"
   ]
  },
  {
   "cell_type": "code",
   "execution_count": 27,
   "metadata": {},
   "outputs": [
    {
     "data": {
      "text/html": [
       "<div>\n",
       "<style scoped>\n",
       "    .dataframe tbody tr th:only-of-type {\n",
       "        vertical-align: middle;\n",
       "    }\n",
       "\n",
       "    .dataframe tbody tr th {\n",
       "        vertical-align: top;\n",
       "    }\n",
       "\n",
       "    .dataframe thead th {\n",
       "        text-align: right;\n",
       "    }\n",
       "</style>\n",
       "<table border=\"1\" class=\"dataframe\">\n",
       "  <thead>\n",
       "    <tr style=\"text-align: right;\">\n",
       "      <th></th>\n",
       "      <th>State</th>\n",
       "      <th>Rate</th>\n",
       "      <th>Verbal</th>\n",
       "      <th>Math</th>\n",
       "      <th>Diff_verbal_math</th>\n",
       "    </tr>\n",
       "  </thead>\n",
       "  <tbody>\n",
       "    <tr>\n",
       "      <th>27</th>\n",
       "      <td>OH</td>\n",
       "      <td>26</td>\n",
       "      <td>534</td>\n",
       "      <td>439</td>\n",
       "      <td>95</td>\n",
       "    </tr>\n",
       "    <tr>\n",
       "      <th>29</th>\n",
       "      <td>WV</td>\n",
       "      <td>18</td>\n",
       "      <td>527</td>\n",
       "      <td>512</td>\n",
       "      <td>15</td>\n",
       "    </tr>\n",
       "    <tr>\n",
       "      <th>50</th>\n",
       "      <td>MS</td>\n",
       "      <td>4</td>\n",
       "      <td>566</td>\n",
       "      <td>551</td>\n",
       "      <td>15</td>\n",
       "    </tr>\n",
       "    <tr>\n",
       "      <th>45</th>\n",
       "      <td>AR</td>\n",
       "      <td>6</td>\n",
       "      <td>562</td>\n",
       "      <td>550</td>\n",
       "      <td>12</td>\n",
       "    </tr>\n",
       "    <tr>\n",
       "      <th>31</th>\n",
       "      <td>TN</td>\n",
       "      <td>13</td>\n",
       "      <td>562</td>\n",
       "      <td>553</td>\n",
       "      <td>9</td>\n",
       "    </tr>\n",
       "    <tr>\n",
       "      <th>9</th>\n",
       "      <td>VA</td>\n",
       "      <td>68</td>\n",
       "      <td>510</td>\n",
       "      <td>501</td>\n",
       "      <td>9</td>\n",
       "    </tr>\n",
       "    <tr>\n",
       "      <th>32</th>\n",
       "      <td>NM</td>\n",
       "      <td>13</td>\n",
       "      <td>551</td>\n",
       "      <td>542</td>\n",
       "      <td>9</td>\n",
       "    </tr>\n",
       "    <tr>\n",
       "      <th>16</th>\n",
       "      <td>DC</td>\n",
       "      <td>56</td>\n",
       "      <td>482</td>\n",
       "      <td>474</td>\n",
       "      <td>8</td>\n",
       "    </tr>\n",
       "    <tr>\n",
       "      <th>41</th>\n",
       "      <td>OK</td>\n",
       "      <td>8</td>\n",
       "      <td>567</td>\n",
       "      <td>561</td>\n",
       "      <td>6</td>\n",
       "    </tr>\n",
       "    <tr>\n",
       "      <th>8</th>\n",
       "      <td>ME</td>\n",
       "      <td>69</td>\n",
       "      <td>506</td>\n",
       "      <td>500</td>\n",
       "      <td>6</td>\n",
       "    </tr>\n",
       "  </tbody>\n",
       "</table>\n",
       "</div>"
      ],
      "text/plain": [
       "   State  Rate  Verbal  Math  Diff_verbal_math\n",
       "27    OH    26     534   439                95\n",
       "29    WV    18     527   512                15\n",
       "50    MS     4     566   551                15\n",
       "45    AR     6     562   550                12\n",
       "31    TN    13     562   553                 9\n",
       "9     VA    68     510   501                 9\n",
       "32    NM    13     551   542                 9\n",
       "16    DC    56     482   474                 8\n",
       "41    OK     8     567   561                 6\n",
       "8     ME    69     506   500                 6"
      ]
     },
     "execution_count": 27,
     "metadata": {},
     "output_type": "execute_result"
    }
   ],
   "source": [
    "# Print Verbal bigger than Math top ten\n",
    "df_top_10_verbal_bigger_math.sort_values(by='Diff_verbal_math', ascending=False).head(10)"
   ]
  },
  {
   "cell_type": "code",
   "execution_count": 28,
   "metadata": {},
   "outputs": [
    {
     "data": {
      "text/html": [
       "<div>\n",
       "<style scoped>\n",
       "    .dataframe tbody tr th:only-of-type {\n",
       "        vertical-align: middle;\n",
       "    }\n",
       "\n",
       "    .dataframe tbody tr th {\n",
       "        vertical-align: top;\n",
       "    }\n",
       "\n",
       "    .dataframe thead th {\n",
       "        text-align: right;\n",
       "    }\n",
       "</style>\n",
       "<table border=\"1\" class=\"dataframe\">\n",
       "  <thead>\n",
       "    <tr style=\"text-align: right;\">\n",
       "      <th></th>\n",
       "      <th>State</th>\n",
       "      <th>Rate</th>\n",
       "      <th>Verbal</th>\n",
       "      <th>Math</th>\n",
       "      <th>Diff_verbal_math</th>\n",
       "    </tr>\n",
       "  </thead>\n",
       "  <tbody>\n",
       "    <tr>\n",
       "      <th>21</th>\n",
       "      <td>HI</td>\n",
       "      <td>52</td>\n",
       "      <td>485</td>\n",
       "      <td>515</td>\n",
       "      <td>30</td>\n",
       "    </tr>\n",
       "    <tr>\n",
       "      <th>23</th>\n",
       "      <td>CA</td>\n",
       "      <td>51</td>\n",
       "      <td>498</td>\n",
       "      <td>517</td>\n",
       "      <td>19</td>\n",
       "    </tr>\n",
       "    <tr>\n",
       "      <th>1</th>\n",
       "      <td>NJ</td>\n",
       "      <td>81</td>\n",
       "      <td>499</td>\n",
       "      <td>513</td>\n",
       "      <td>14</td>\n",
       "    </tr>\n",
       "    <tr>\n",
       "      <th>33</th>\n",
       "      <td>IL</td>\n",
       "      <td>12</td>\n",
       "      <td>576</td>\n",
       "      <td>589</td>\n",
       "      <td>13</td>\n",
       "    </tr>\n",
       "    <tr>\n",
       "      <th>44</th>\n",
       "      <td>WI</td>\n",
       "      <td>6</td>\n",
       "      <td>584</td>\n",
       "      <td>596</td>\n",
       "      <td>12</td>\n",
       "    </tr>\n",
       "    <tr>\n",
       "      <th>36</th>\n",
       "      <td>MI</td>\n",
       "      <td>11</td>\n",
       "      <td>561</td>\n",
       "      <td>572</td>\n",
       "      <td>11</td>\n",
       "    </tr>\n",
       "    <tr>\n",
       "      <th>3</th>\n",
       "      <td>NY</td>\n",
       "      <td>77</td>\n",
       "      <td>495</td>\n",
       "      <td>505</td>\n",
       "      <td>10</td>\n",
       "    </tr>\n",
       "    <tr>\n",
       "      <th>47</th>\n",
       "      <td>IA</td>\n",
       "      <td>5</td>\n",
       "      <td>593</td>\n",
       "      <td>603</td>\n",
       "      <td>10</td>\n",
       "    </tr>\n",
       "    <tr>\n",
       "      <th>37</th>\n",
       "      <td>MN</td>\n",
       "      <td>9</td>\n",
       "      <td>580</td>\n",
       "      <td>589</td>\n",
       "      <td>9</td>\n",
       "    </tr>\n",
       "    <tr>\n",
       "      <th>51</th>\n",
       "      <td>All</td>\n",
       "      <td>45</td>\n",
       "      <td>506</td>\n",
       "      <td>514</td>\n",
       "      <td>8</td>\n",
       "    </tr>\n",
       "  </tbody>\n",
       "</table>\n",
       "</div>"
      ],
      "text/plain": [
       "   State  Rate  Verbal  Math  Diff_verbal_math\n",
       "21    HI    52     485   515                30\n",
       "23    CA    51     498   517                19\n",
       "1     NJ    81     499   513                14\n",
       "33    IL    12     576   589                13\n",
       "44    WI     6     584   596                12\n",
       "36    MI    11     561   572                11\n",
       "3     NY    77     495   505                10\n",
       "47    IA     5     593   603                10\n",
       "37    MN     9     580   589                 9\n",
       "51   All    45     506   514                 8"
      ]
     },
     "execution_count": 28,
     "metadata": {},
     "output_type": "execute_result"
    }
   ],
   "source": [
    "# Print Math bigger than Verbal top ten\n",
    "df_top_10_math_bigger_verbal.sort_values(by='Diff_verbal_math', ascending=False, ).head(10)"
   ]
  },
  {
   "cell_type": "markdown",
   "metadata": {},
   "source": [
    "## 6. Examine summary statistics\n",
    "\n",
    "---\n",
    "\n",
    "Checking the summary statistics for data is an essential step in the EDA process!\n",
    "\n",
    "<img src=\"http://imgur.com/l5NasQj.png\" style=\"float: left; margin: 25px 15px 0px 0px; height: 25px\">\n",
    "\n",
    "### 6.1 Create the correlation matrix of your variables (excluding `State`).\n",
    "\n",
    "What does the correlation matrix tell you?\n"
   ]
  },
  {
   "cell_type": "markdown",
   "metadata": {},
   "source": [
    "### ANSWER\n",
    "\n",
    "> It tells me that 'Rate' is negatively correlated with both 'Verbal' and 'Math'.\n",
    "\n",
    "> It tells that 'Verbal' and 'Math' are positively correlated with one another."
   ]
  },
  {
   "cell_type": "code",
   "execution_count": 29,
   "metadata": {},
   "outputs": [
    {
     "data": {
      "text/html": [
       "<div>\n",
       "<style scoped>\n",
       "    .dataframe tbody tr th:only-of-type {\n",
       "        vertical-align: middle;\n",
       "    }\n",
       "\n",
       "    .dataframe tbody tr th {\n",
       "        vertical-align: top;\n",
       "    }\n",
       "\n",
       "    .dataframe thead th {\n",
       "        text-align: right;\n",
       "    }\n",
       "</style>\n",
       "<table border=\"1\" class=\"dataframe\">\n",
       "  <thead>\n",
       "    <tr style=\"text-align: right;\">\n",
       "      <th></th>\n",
       "      <th>Rate</th>\n",
       "      <th>Verbal</th>\n",
       "      <th>Math</th>\n",
       "    </tr>\n",
       "  </thead>\n",
       "  <tbody>\n",
       "    <tr>\n",
       "      <th>Rate</th>\n",
       "      <td>1.000000</td>\n",
       "      <td>-0.886432</td>\n",
       "      <td>-0.773746</td>\n",
       "    </tr>\n",
       "    <tr>\n",
       "      <th>Verbal</th>\n",
       "      <td>-0.886432</td>\n",
       "      <td>1.000000</td>\n",
       "      <td>0.899871</td>\n",
       "    </tr>\n",
       "    <tr>\n",
       "      <th>Math</th>\n",
       "      <td>-0.773746</td>\n",
       "      <td>0.899871</td>\n",
       "      <td>1.000000</td>\n",
       "    </tr>\n",
       "  </tbody>\n",
       "</table>\n",
       "</div>"
      ],
      "text/plain": [
       "            Rate    Verbal      Math\n",
       "Rate    1.000000 -0.886432 -0.773746\n",
       "Verbal -0.886432  1.000000  0.899871\n",
       "Math   -0.773746  0.899871  1.000000"
      ]
     },
     "execution_count": 29,
     "metadata": {},
     "output_type": "execute_result"
    }
   ],
   "source": [
    "correlation = df_file[['Rate', 'Verbal', 'Math']].corr(method='pearson')\n",
    "correlation"
   ]
  },
  {
   "cell_type": "code",
   "execution_count": 30,
   "metadata": {},
   "outputs": [
    {
     "data": {
      "text/plain": [
       "<matplotlib.axes._subplots.AxesSubplot at 0x1a174775d0>"
      ]
     },
     "execution_count": 30,
     "metadata": {},
     "output_type": "execute_result"
    },
    {
     "data": {
      "image/png": "[encoded data removed]",
      "text/plain": [
       "<matplotlib.figure.Figure at 0x1a17476110>"
      ]
     },
     "metadata": {
      "image/png": {
       "height": 250,
       "width": 357
      }
     },
     "output_type": "display_data"
    }
   ],
   "source": [
    "ss.heatmap(correlation, cmap=\"Blues\")"
   ]
  },
  {
   "cell_type": "markdown",
   "metadata": {},
   "source": [
    "<img src=\"http://imgur.com/l5NasQj.png\" style=\"float: left; margin: 25px 15px 0px 0px; height: 25px\">\n",
    "\n",
    "### 6.2 Use pandas'  `.describe()` built-in function on your DataFrame\n",
    "\n",
    "Write up what each of the rows returned by the function indicate."
   ]
  },
  {
   "cell_type": "markdown",
   "metadata": {},
   "source": [
    "### ANSWER\n",
    "\n",
    "> * **count:** *This row indicates the number of datapoints in the column*\n",
    "> * **mean:** *This row indicates the average of all the datapoints in the column*\n",
    "> * **std:** *This row indicates the average difference of the datapoints from the mean of the column*\n",
    "> * **min:** *This row indicates the minimum datapoint in the column*\n",
    "> * **25%:** *This row indicates the 25th percentile datapoint in the column. 25% of the datapoints in the column are lower than this datapoint*\n",
    "> * **50%:** *This row indicates the 50th percentile datapoint in the column. 50% of the datapoints in the column are lower than this datapoint*\n",
    "> * **75%:** *This row indicates the 75th percentile datapoint in the column. 75% of the datapoints in the column are lower than this datapoint*\n",
    "> * **max:** *This row indicates the maximum datapoint in the column*"
   ]
  },
  {
   "cell_type": "code",
   "execution_count": 31,
   "metadata": {},
   "outputs": [
    {
     "data": {
      "text/html": [
       "<div>\n",
       "<style scoped>\n",
       "    .dataframe tbody tr th:only-of-type {\n",
       "        vertical-align: middle;\n",
       "    }\n",
       "\n",
       "    .dataframe tbody tr th {\n",
       "        vertical-align: top;\n",
       "    }\n",
       "\n",
       "    .dataframe thead th {\n",
       "        text-align: right;\n",
       "    }\n",
       "</style>\n",
       "<table border=\"1\" class=\"dataframe\">\n",
       "  <thead>\n",
       "    <tr style=\"text-align: right;\">\n",
       "      <th></th>\n",
       "      <th>Rate</th>\n",
       "      <th>Verbal</th>\n",
       "      <th>Math</th>\n",
       "      <th>Diff_verbal_math</th>\n",
       "    </tr>\n",
       "  </thead>\n",
       "  <tbody>\n",
       "    <tr>\n",
       "      <th>count</th>\n",
       "      <td>52.000000</td>\n",
       "      <td>52.000000</td>\n",
       "      <td>52.000000</td>\n",
       "      <td>52.000000</td>\n",
       "    </tr>\n",
       "    <tr>\n",
       "      <th>mean</th>\n",
       "      <td>37.153846</td>\n",
       "      <td>532.019231</td>\n",
       "      <td>531.500000</td>\n",
       "      <td>7.903846</td>\n",
       "    </tr>\n",
       "    <tr>\n",
       "      <th>std</th>\n",
       "      <td>27.301788</td>\n",
       "      <td>33.236225</td>\n",
       "      <td>36.014975</td>\n",
       "      <td>13.565035</td>\n",
       "    </tr>\n",
       "    <tr>\n",
       "      <th>min</th>\n",
       "      <td>4.000000</td>\n",
       "      <td>482.000000</td>\n",
       "      <td>439.000000</td>\n",
       "      <td>0.000000</td>\n",
       "    </tr>\n",
       "    <tr>\n",
       "      <th>25%</th>\n",
       "      <td>9.000000</td>\n",
       "      <td>501.000000</td>\n",
       "      <td>504.000000</td>\n",
       "      <td>2.000000</td>\n",
       "    </tr>\n",
       "    <tr>\n",
       "      <th>50%</th>\n",
       "      <td>33.500000</td>\n",
       "      <td>526.500000</td>\n",
       "      <td>521.000000</td>\n",
       "      <td>5.000000</td>\n",
       "    </tr>\n",
       "    <tr>\n",
       "      <th>75%</th>\n",
       "      <td>63.500000</td>\n",
       "      <td>562.000000</td>\n",
       "      <td>555.750000</td>\n",
       "      <td>9.000000</td>\n",
       "    </tr>\n",
       "    <tr>\n",
       "      <th>max</th>\n",
       "      <td>82.000000</td>\n",
       "      <td>593.000000</td>\n",
       "      <td>603.000000</td>\n",
       "      <td>95.000000</td>\n",
       "    </tr>\n",
       "  </tbody>\n",
       "</table>\n",
       "</div>"
      ],
      "text/plain": [
       "            Rate      Verbal        Math  Diff_verbal_math\n",
       "count  52.000000   52.000000   52.000000         52.000000\n",
       "mean   37.153846  532.019231  531.500000          7.903846\n",
       "std    27.301788   33.236225   36.014975         13.565035\n",
       "min     4.000000  482.000000  439.000000          0.000000\n",
       "25%     9.000000  501.000000  504.000000          2.000000\n",
       "50%    33.500000  526.500000  521.000000          5.000000\n",
       "75%    63.500000  562.000000  555.750000          9.000000\n",
       "max    82.000000  593.000000  603.000000         95.000000"
      ]
     },
     "execution_count": 31,
     "metadata": {},
     "output_type": "execute_result"
    }
   ],
   "source": [
    "df_file.describe()"
   ]
  },
  {
   "cell_type": "markdown",
   "metadata": {},
   "source": [
    "<img src=\"http://imgur.com/xDpSobf.png\" style=\"float: left; margin: 25px 15px 0px 0px; height: 25px\">\n",
    "\n",
    "### 6.3 Assign and print the _covariance_ matrix for the dataset\n",
    "\n",
    "1. Describe how the covariance matrix is different from the correlation matrix.\n",
    "2. What is the process to convert the covariance into the correlation?\n",
    "3. Why is the correlation matrix preferred to the covariance matrix for examining relationships in your data?"
   ]
  },
  {
   "cell_type": "markdown",
   "metadata": {},
   "source": [
    "### ANSWER\n",
    "\n",
    "> 1. The covariance matrix has much more **variation in values** than the correlation matrix. We cannot tell from the covariance whether the relationship between 'Rate' and 'Rate', and 'Verbal' and 'Verbal' are the same or not, **although they should be the same**, because the numbers are different.\n",
    "\n",
    "> 2. By normalizing the covariance via dividing the covariance by the product of the individual standard deviation of the two variables\n",
    "\n",
    "> 3. Since correlation output will always have a constant range between 1 to -1, it **enables fair comparison** of relationships between individual set of two variables."
   ]
  },
  {
   "cell_type": "code",
   "execution_count": 32,
   "metadata": {},
   "outputs": [
    {
     "data": {
      "text/html": [
       "<div>\n",
       "<style scoped>\n",
       "    .dataframe tbody tr th:only-of-type {\n",
       "        vertical-align: middle;\n",
       "    }\n",
       "\n",
       "    .dataframe tbody tr th {\n",
       "        vertical-align: top;\n",
       "    }\n",
       "\n",
       "    .dataframe thead th {\n",
       "        text-align: right;\n",
       "    }\n",
       "</style>\n",
       "<table border=\"1\" class=\"dataframe\">\n",
       "  <thead>\n",
       "    <tr style=\"text-align: right;\">\n",
       "      <th></th>\n",
       "      <th>Rate</th>\n",
       "      <th>Verbal</th>\n",
       "      <th>Math</th>\n",
       "    </tr>\n",
       "  </thead>\n",
       "  <tbody>\n",
       "    <tr>\n",
       "      <th>Rate</th>\n",
       "      <td>745.387632</td>\n",
       "      <td>-804.355958</td>\n",
       "      <td>-760.803922</td>\n",
       "    </tr>\n",
       "    <tr>\n",
       "      <th>Verbal</th>\n",
       "      <td>-804.355958</td>\n",
       "      <td>1104.646682</td>\n",
       "      <td>1077.147059</td>\n",
       "    </tr>\n",
       "    <tr>\n",
       "      <th>Math</th>\n",
       "      <td>-760.803922</td>\n",
       "      <td>1077.147059</td>\n",
       "      <td>1297.078431</td>\n",
       "    </tr>\n",
       "  </tbody>\n",
       "</table>\n",
       "</div>"
      ],
      "text/plain": [
       "              Rate       Verbal         Math\n",
       "Rate    745.387632  -804.355958  -760.803922\n",
       "Verbal -804.355958  1104.646682  1077.147059\n",
       "Math   -760.803922  1077.147059  1297.078431"
      ]
     },
     "execution_count": 32,
     "metadata": {},
     "output_type": "execute_result"
    }
   ],
   "source": [
    "covariance = df_file[['Rate', 'Verbal', 'Math']].cov()\n",
    "covariance"
   ]
  },
  {
   "cell_type": "markdown",
   "metadata": {},
   "source": [
    "<img src=\"http://imgur.com/l5NasQj.png\" style=\"float: left; margin: 25px 15px 0px 0px; height: 25px\">\n",
    "\n",
    "## 7. Performing EDA on \"drug use by age\" data.\n",
    "\n",
    "---\n",
    "\n",
    "You will now switch datasets to one with many more variables. This section of the project is more open-ended - use the techniques you practiced above!\n",
    "\n",
    "We'll work with the \"drug-use-by-age.csv\" data, sourced from and described here: https://github.com/fivethirtyeight/data/tree/master/drug-use-by-age.\n",
    "\n",
    "### 7.1\n",
    "\n",
    "Load the data using pandas. Does this data require cleaning? Are variables missing? How will this affect your approach to EDA on the data?"
   ]
  },
  {
   "cell_type": "markdown",
   "metadata": {},
   "source": [
    "### ANSWER\n",
    "\n",
    "> We can shorten the headers by providing abbreviations\n",
    "\n",
    "> Yes, the following columns needs to be cleaned and converted into float data type:\n",
    "    \n",
    "> 1. **cocaine-frequency:** *Replace '-' on row 16 with 0*\n",
    "> 2. **crack-frequency:** *Replace '-' on row 0,2,16 with 0*\n",
    "> 3. **heroin-frequency:** *Replace '-' on row 1 with 0*\n",
    "> 4. **inhalant-frequency:** *Replace '-' on row 16 with 0*\n",
    "> 5. **oxycontin-frequency:** *Replace '-' on row 16 with 0*\n",
    "> 6. **meth-frequency:** *Replace '-' on row 0,16 with 0*\n",
    "\n",
    "> Column **'age'** does not need cleaning as it is a categorical variable\n",
    "\n",
    "> Column **'n'** does not need cleaning as it represents number of people in the age group, converting them to float will not make sense. **i.e. You cant have 0.1 of a person**\n",
    "\n",
    "> All the other columns should be in float.\n",
    "\n",
    "> There are variables missing as highlighted above. After examining the dataset, i decided to replace them with 0. The reason is because all of their respective usage is 0. Thus we can infer that they are most likely **not** being randomly fed with a '-' value.\n",
    "\n",
    "> In light of this, some parts of the data does not make sense. For example, for age 13, percentage of people who use crack is 0, however the median number of times crack is used is 3 when it should be 0 instead. **If there is no one using crack, how can there be a frequency of usage!**\n",
    "\n",
    "> We must be careful not to find relationships where there is obviously none. For example,  finding correlation between a categorical variable 'age' and a continious variable 'alcohol-use'. **Relationships such as correlation should only be examined between two continuous variables.**"
   ]
  },
  {
   "cell_type": "code",
   "execution_count": 33,
   "metadata": {
    "collapsed": true
   },
   "outputs": [],
   "source": [
    "# read raw from github\n",
    "url = 'https://raw.githubusercontent.com/fivethirtyeight/data/master/drug-use-by-age/drug-use-by-age.csv'\n",
    "drug_df = pd.read_csv(url)"
   ]
  },
  {
   "cell_type": "code",
   "execution_count": 34,
   "metadata": {
    "scrolled": true
   },
   "outputs": [
    {
     "name": "stdout",
     "output_type": "stream",
     "text": [
      "<class 'pandas.core.frame.DataFrame'>\n",
      "RangeIndex: 17 entries, 0 to 16\n",
      "Data columns (total 28 columns):\n",
      "age                        17 non-null object\n",
      "n                          17 non-null int64\n",
      "alcohol-use                17 non-null float64\n",
      "alcohol-frequency          17 non-null float64\n",
      "marijuana-use              17 non-null float64\n",
      "marijuana-frequency        17 non-null float64\n",
      "cocaine-use                17 non-null float64\n",
      "cocaine-frequency          17 non-null object\n",
      "crack-use                  17 non-null float64\n",
      "crack-frequency            17 non-null object\n",
      "heroin-use                 17 non-null float64\n",
      "heroin-frequency           17 non-null object\n",
      "hallucinogen-use           17 non-null float64\n",
      "hallucinogen-frequency     17 non-null float64\n",
      "inhalant-use               17 non-null float64\n",
      "inhalant-frequency         17 non-null object\n",
      "pain-releiver-use          17 non-null float64\n",
      "pain-releiver-frequency    17 non-null float64\n",
      "oxycontin-use              17 non-null float64\n",
      "oxycontin-frequency        17 non-null object\n",
      "tranquilizer-use           17 non-null float64\n",
      "tranquilizer-frequency     17 non-null float64\n",
      "stimulant-use              17 non-null float64\n",
      "stimulant-frequency        17 non-null float64\n",
      "meth-use                   17 non-null float64\n",
      "meth-frequency             17 non-null object\n",
      "sedative-use               17 non-null float64\n",
      "sedative-frequency         17 non-null float64\n",
      "dtypes: float64(20), int64(1), object(7)\n",
      "memory usage: 3.8+ KB\n"
     ]
    }
   ],
   "source": [
    "# check info of drug use dataframe\n",
    "drug_df.info()"
   ]
  },
  {
   "cell_type": "code",
   "execution_count": 35,
   "metadata": {
    "collapsed": true
   },
   "outputs": [],
   "source": [
    "# shorten headers\n",
    "old_headers = drug_df.columns\n",
    "\n",
    "new_headers = {x:x.split('-')[0][:3] + '_u' if i % 2 == 0 else x.split('-')[0][:3] + '_f' for i, x in enumerate(old_headers) if len(x) > 4}\n",
    "drug_df.rename(columns=new_headers, inplace=True)"
   ]
  },
  {
   "cell_type": "code",
   "execution_count": 36,
   "metadata": {
    "collapsed": true
   },
   "outputs": [],
   "source": [
    "# define function to replace '-' with float\n",
    "def ele_to_float(element):\n",
    "    if element == '-':\n",
    "        element = float(0)\n",
    "        return element\n",
    "    else:\n",
    "        element = float(element)\n",
    "        return element"
   ]
  },
  {
   "cell_type": "code",
   "execution_count": 37,
   "metadata": {
    "collapsed": true
   },
   "outputs": [],
   "source": [
    "# clean up columns mentioned above\n",
    "drug_df.loc[:, (drug_df.columns != 'age') & (drug_df.columns != 'n')] = drug_df.loc[:, (drug_df.columns != 'age') & (drug_df.columns != 'n')].applymap(ele_to_float)"
   ]
  },
  {
   "cell_type": "code",
   "execution_count": 38,
   "metadata": {},
   "outputs": [
    {
     "name": "stdout",
     "output_type": "stream",
     "text": [
      "<class 'pandas.core.frame.DataFrame'>\n",
      "RangeIndex: 17 entries, 0 to 16\n",
      "Data columns (total 28 columns):\n",
      "age      17 non-null object\n",
      "n        17 non-null int64\n",
      "alc_u    17 non-null float64\n",
      "alc_f    17 non-null float64\n",
      "mar_u    17 non-null float64\n",
      "mar_f    17 non-null float64\n",
      "coc_u    17 non-null float64\n",
      "coc_f    17 non-null float64\n",
      "cra_u    17 non-null float64\n",
      "cra_f    17 non-null float64\n",
      "her_u    17 non-null float64\n",
      "her_f    17 non-null float64\n",
      "hal_u    17 non-null float64\n",
      "hal_f    17 non-null float64\n",
      "inh_u    17 non-null float64\n",
      "inh_f    17 non-null float64\n",
      "pai_u    17 non-null float64\n",
      "pai_f    17 non-null float64\n",
      "oxy_u    17 non-null float64\n",
      "oxy_f    17 non-null float64\n",
      "tra_u    17 non-null float64\n",
      "tra_f    17 non-null float64\n",
      "sti_u    17 non-null float64\n",
      "sti_f    17 non-null float64\n",
      "met_u    17 non-null float64\n",
      "met_f    17 non-null float64\n",
      "sed_u    17 non-null float64\n",
      "sed_f    17 non-null float64\n",
      "dtypes: float64(26), int64(1), object(1)\n",
      "memory usage: 3.8+ KB\n"
     ]
    }
   ],
   "source": [
    "drug_df.info()"
   ]
  },
  {
   "cell_type": "markdown",
   "metadata": {},
   "source": [
    "### 7.2 Do a high-level, initial overview of the data\n",
    "\n",
    "Get a feel for what this dataset is all about.\n",
    "\n",
    "Use whichever techniques you'd like, including those from the SAT dataset EDA. The final response to this question should be a written description of what you infer about the dataset.\n",
    "\n",
    "Some things to consider doing:\n",
    "\n",
    "- Look for relationships between variables and subsets of those variables' values\n",
    "- Derive new features from the ones available to help your analysis\n",
    "- Visualize everything!"
   ]
  },
  {
   "cell_type": "code",
   "execution_count": 39,
   "metadata": {
    "collapsed": true
   },
   "outputs": [],
   "source": [
    "# Control Supply & Demand of Drugs for certain age groups\n",
    "# Investigate Prevalence of Drugs in all age groups\n",
    "# Investigate Correlation of Drugs for all age groups\n",
    "# Get total consumption rate by multiplying uses column with frequency column"
   ]
  },
  {
   "cell_type": "code",
   "execution_count": 40,
   "metadata": {
    "collapsed": true
   },
   "outputs": [],
   "source": [
    "# Uni-variate analysis first\n",
    "# Separate uses from\n",
    "freq_list = [header for header in drug_df.columns if '_f' in header]\n",
    "uses_list = [header for header in drug_df.columns if '_u' in header]\n",
    "drug_df_uses = drug_df.drop(columns=freq_list)\n",
    "drug_df_freq = drug_df.drop(columns=uses_list)"
   ]
  },
  {
   "cell_type": "code",
   "execution_count": 41,
   "metadata": {
    "collapsed": true
   },
   "outputs": [],
   "source": [
    "# Get total consumption for each drug by age\n",
    "all_drugs_uses = drug_df_uses.loc[:, (drug_df_uses.columns != 'age') & (drug_df_uses.columns != 'n')]\n",
    "all_drugs_uses_n = all_drugs_uses.apply(lambda x: np.round(drug_df['n'].median() * x / 100))\n",
    "all_drugs_freq = drug_df_freq.loc[:, (drug_df_uses.columns != 'age') & (drug_df_uses.columns != 'n')]\n",
    "\n",
    "for i, (header_u, header_f) in enumerate(zip(all_drugs_uses_n.columns, all_drugs_freq.columns)):\n",
    "    if i == 0:\n",
    "        result = all_drugs_uses_n[header_u] * all_drugs_freq[header_f]\n",
    "        df = pd.DataFrame(result, columns=[header_u[:3]])\n",
    "    else:\n",
    "        result = all_drugs_uses_n[header_u] * all_drugs_freq[header_f]\n",
    "        result = pd.DataFrame(result, columns=[header_u[:3]])\n",
    "        df = pd.concat([df, result], axis=1)\n",
    "drug_df_consumption = pd.concat([drug_df['age'], df], axis=1)"
   ]
  },
  {
   "cell_type": "code",
   "execution_count": 54,
   "metadata": {},
   "outputs": [
    {
     "data": {
      "text/plain": [
       "<matplotlib.axes._subplots.AxesSubplot at 0x1a1b0a13d0>"
      ]
     },
     "execution_count": 54,
     "metadata": {},
     "output_type": "execute_result"
    },
    {
     "data": {
      "image/png": "[encoded data removed]",
      "text/plain": [
       "<matplotlib.figure.Figure at 0x1a1758d790>"
      ]
     },
     "metadata": {
      "image/png": {
       "height": 579,
       "width": 885
      }
     },
     "output_type": "display_data"
    }
   ],
   "source": [
    "# People per Drug for age groups\n",
    "all_drugs_uses_n.plot(figsize=(15, 10), kind='bar')"
   ]
  },
  {
   "cell_type": "code",
   "execution_count": 43,
   "metadata": {
    "scrolled": true
   },
   "outputs": [
    {
     "data": {
      "text/plain": [
       "alc    71708.0\n",
       "mar    28188.0\n",
       "pai     2142.0\n",
       "tra      686.0\n",
       "her      506.0\n",
       "sti      468.0\n",
       "coc      450.0\n",
       "met      288.0\n",
       "hal      285.0\n",
       "oxy      234.0\n",
       "inh      117.0\n",
       "sed       80.0\n",
       "cra       66.0\n",
       "dtype: float64"
      ]
     },
     "execution_count": 43,
     "metadata": {},
     "output_type": "execute_result"
    }
   ],
   "source": [
    "# Median Drug consumption per age group\n",
    "drug_df_consumption.median().sort_values(ascending=False)"
   ]
  },
  {
   "cell_type": "code",
   "execution_count": 44,
   "metadata": {
    "scrolled": false
   },
   "outputs": [
    {
     "data": {
      "text/plain": [
       "<matplotlib.axes._subplots.AxesSubplot at 0x1a1756ab90>"
      ]
     },
     "execution_count": 44,
     "metadata": {},
     "output_type": "execute_result"
    },
    {
     "data": {
      "image/png": "[encoded data removed]",
      "text/plain": [
       "<matplotlib.figure.Figure at 0x1a1753cc10>"
      ]
     },
     "metadata": {
      "image/png": {
       "height": 250,
       "width": 368
      }
     },
     "output_type": "display_data"
    }
   ],
   "source": [
    "# Drug consumption heatmap as age increases\n",
    "drug_correlation = drug_df_consumption.corr()\n",
    "ss.heatmap(drug_correlation)"
   ]
  },
  {
   "cell_type": "markdown",
   "metadata": {},
   "source": [
    "### 7.3 Create a testable hypothesis about this data\n",
    "\n",
    "Requirements for the question:\n",
    "\n",
    "1. Write a specific question you would like to answer with the data (that can be accomplished with EDA).\n",
    "2. Write a description of the \"deliverables\": what will you report after testing/examining your hypothesis?\n",
    "3. Use EDA techniques of your choice, numeric and/or visual, to look into your question.\n",
    "4. Write up your report on what you have found regarding the hypothesis about the data you came up with.\n",
    "\n",
    "\n",
    "Your hypothesis could be on:\n",
    "\n",
    "- Difference of group means\n",
    "- Correlations between variables\n",
    "- Anything else you think is interesting, testable, and meaningful!\n",
    "\n",
    "**Important notes:**\n",
    "\n",
    "You should be only doing EDA _relevant to your question_ here. It is easy to go down rabbit holes trying to look at every facet of your data, and so we want you to get in the practice of specifying a hypothesis you are interested in first and scoping your work to specifically answer that question.\n",
    "\n",
    "Some of you may want to jump ahead to \"modeling\" data to answer your question. This is a topic addressed in the next project and **you should not do this for this project.** We specifically want you to not do modeling to emphasize the importance of performing EDA _before_ you jump to statistical analysis."
   ]
  },
  {
   "cell_type": "markdown",
   "metadata": {
    "collapsed": true
   },
   "source": [
    "** Question and deliverables**\n",
    "\n",
    "\n",
    "..."
   ]
  },
  {
   "cell_type": "code",
   "execution_count": 45,
   "metadata": {
    "collapsed": true
   },
   "outputs": [],
   "source": [
    "# Code"
   ]
  },
  {
   "cell_type": "markdown",
   "metadata": {},
   "source": [
    "**Report**\n",
    "\n",
    "\n",
    "\n",
    "..."
   ]
  },
  {
   "cell_type": "markdown",
   "metadata": {},
   "source": [
    "<img src=\"http://imgur.com/xDpSobf.png\" style=\"float: left; margin: 25px 15px 0px 0px; height: 25px\">\n",
    "\n",
    "## 8. Introduction to dealing with outliers\n",
    "\n",
    "---\n",
    "\n",
    "Outliers are an interesting problem in statistics, in that there is not an agreed upon best way to define them. Subjectivity in selecting and analyzing data is a problem that will recur throughout the course.\n",
    "\n",
    "1. Pull out the rate variable from the sat dataset.\n",
    "2. Are there outliers in the dataset? Define, in words, how you _numerically define outliers._\n",
    "3. Print out the outliers in the dataset.\n",
    "4. Remove the outliers from the dataset.\n",
    "5. Compare the mean, median, and standard deviation of the \"cleaned\" data without outliers to the original. What is different about them and why?"
   ]
  },
  {
   "cell_type": "markdown",
   "metadata": {
    "collapsed": true
   },
   "source": [
    "### ANSWER\n",
    "\n",
    "> 2. No, there isn't. Outliers are observations that lie below *Q1 - (1.5 x IQR)* or above *Q3 + (1.5 x IQR)*."
   ]
  },
  {
   "cell_type": "code",
   "execution_count": 46,
   "metadata": {
    "scrolled": true
   },
   "outputs": [],
   "source": [
    "rate_data = df_file['Rate'].sort_values()"
   ]
  },
  {
   "cell_type": "code",
   "execution_count": 47,
   "metadata": {},
   "outputs": [
    {
     "data": {
      "text/plain": [
       "54.5"
      ]
     },
     "execution_count": 47,
     "metadata": {},
     "output_type": "execute_result"
    }
   ],
   "source": [
    "IQR = 1.5 * (np.percentile(rate_data, 75) - np.percentile(rate_data, 25))\n",
    "stats.iqr(rate_data)"
   ]
  },
  {
   "cell_type": "code",
   "execution_count": 48,
   "metadata": {},
   "outputs": [
    {
     "data": {
      "text/plain": [
       "<matplotlib.axes._subplots.AxesSubplot at 0x1a192a84d0>"
      ]
     },
     "execution_count": 48,
     "metadata": {},
     "output_type": "execute_result"
    },
    {
     "data": {
      "image/png": "[encoded data removed]",
      "text/plain": [
       "<matplotlib.figure.Figure at 0x102a15ad0>"
      ]
     },
     "metadata": {
      "image/png": {
       "height": 250,
       "width": 370
      }
     },
     "output_type": "display_data"
    }
   ],
   "source": [
    "rate_data.plot(kind='box')"
   ]
  },
  {
   "cell_type": "code",
   "execution_count": null,
   "metadata": {
    "collapsed": true
   },
   "outputs": [],
   "source": []
  },
  {
   "cell_type": "markdown",
   "metadata": {},
   "source": [
    "<img src=\"http://imgur.com/GCAf1UX.png\" style=\"float: left; margin: 25px 15px 0px 0px; height: 25px\">\n",
    "\n",
    "### 9. Percentile scoring and spearman rank correlation\n",
    "\n",
    "---\n",
    "\n",
    "### 9.1 Calculate the spearman correlation of sat `Verbal` and `Math`\n",
    "\n",
    "1. How does the spearman correlation compare to the pearson correlation? \n",
    "2. Describe clearly in words the process of calculating the spearman rank correlation.\n",
    "  - Hint: the word \"rank\" is in the name of the process for a reason!\n"
   ]
  },
  {
   "cell_type": "code",
   "execution_count": null,
   "metadata": {
    "collapsed": true
   },
   "outputs": [],
   "source": []
  },
  {
   "cell_type": "markdown",
   "metadata": {},
   "source": [
    "### 9.2 Percentile scoring\n",
    "\n",
    "Look up percentile scoring of data. In other words, the conversion of numeric data to their equivalent percentile scores.\n",
    "\n",
    "http://docs.scipy.org/doc/numpy-dev/reference/generated/numpy.percentile.html\n",
    "\n",
    "http://docs.scipy.org/doc/scipy/reference/generated/scipy.stats.percentileofscore.html\n",
    "\n",
    "1. Convert `Rate` to percentiles in the sat scores as a new column.\n",
    "2. Show the percentile of California in `Rate`.\n",
    "3. How is percentile related to the spearman rank correlation?"
   ]
  },
  {
   "cell_type": "code",
   "execution_count": null,
   "metadata": {
    "collapsed": true
   },
   "outputs": [],
   "source": []
  },
  {
   "cell_type": "markdown",
   "metadata": {},
   "source": [
    "### 9.3 Percentiles and outliers\n",
    "\n",
    "1. Why might percentile scoring be useful for dealing with outliers?\n",
    "2. Plot the distribution of a variable of your choice from the drug use dataset.\n",
    "3. Plot the same variable but percentile scored.\n",
    "4. Describe the effect, visually, of coverting raw scores to percentile."
   ]
  },
  {
   "cell_type": "code",
   "execution_count": null,
   "metadata": {
    "collapsed": true
   },
   "outputs": [],
   "source": []
  }
 ],
 "metadata": {
  "kernelspec": {
   "display_name": "Python 2",
   "language": "python",
   "name": "python2"
  },
  "language_info": {
   "codemirror_mode": {
    "name": "ipython",
    "version": 2
   },
   "file_extension": ".py",
   "mimetype": "text/x-python",
   "name": "python",
   "nbconvert_exporter": "python",
   "pygments_lexer": "ipython2",
   "version": "2.7.11"
  }
 },
 "nbformat": 4,
 "nbformat_minor": 1
}
