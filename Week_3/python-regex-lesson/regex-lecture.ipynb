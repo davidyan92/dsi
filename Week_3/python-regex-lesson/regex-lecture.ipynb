{
 "cells": [
  {
   "cell_type": "markdown",
   "metadata": {
    "slideshow": {
     "slide_type": "notes"
    }
   },
   "source": [
    "> **Jupyter slideshow:** This notebook can be displayed as slides. To view it as a slideshow in your browser, type the following in the console:\n",
    "\n",
    "\n",
    "> `> jupyter nbconvert [this_notebook.ipynb] --to slides --post serve`\n",
    "\n",
    "\n",
    "> To toggle off the slideshow cell formatting, click the `CellToolbar` button, then `View --> Cell Toolbar --> None`."
   ]
  },
  {
   "cell_type": "markdown",
   "metadata": {
    "slideshow": {
     "slide_type": "slide"
    }
   },
   "source": [
    "<img src=\"http://imgur.com/1ZcRyrc.png\" style=\"float: left; margin: 20px; height: 55px\">\n",
    "\n",
    "# Regular Expressions\n",
    "\n",
    "_Authors: Alex Combs (NYC)_\n",
    "\n",
    "---\n",
    "\n",
    "<a id=\"learning-objectives\"></a>\n",
    "### Learning Objectives\n",
    "*After this lesson, you will be able to:*\n",
    "- Define regular expressions.\n",
    "- Use regular expressions to match text.\n",
    "- Demonstrate how to use capturing and non-capturing groups.\n",
    "- Use advanced methods such as lookaheads."
   ]
  },
  {
   "cell_type": "markdown",
   "metadata": {},
   "source": [
    "### Lesson Guide\n",
    "- [Exploring `regex`](#exploring-regex)\n",
    "- [The Most Famous Quote in `regex-dom`](#most-famous-quote-in-regex-dom)\n",
    "- [So, What Does a Regular Expression Look Like?](#so-what-does-a-regular-expression-look-like)\n",
    "- [The History of Regular Expressions](#the-history-of-regular-expressions)\n",
    "- [Where are `regex` Implemented?](#where-is-regex-implemented)\n",
    "- [Basic Regular Expression Syntax](#basic-regular-expression-syntax)\n",
    "\t- [Literals](#literals)\n",
    "\t- [Character Classes](#character-classes)\n",
    "\t- [Character Classes Can Also Accept Certain Ranges](#character-classes-can-also-accept-certain-ranges)\n",
    "\t- [Character Class Negation](#character-class-negation)\n",
    "- [Exercise #1](#exercise-)\n",
    "\t- [What Happens if We Put Two Character Class Brackets Back to Back?](#what-happens-if-we-put-two-character-class-brackets-back-to-back)\n",
    "- [Shorthand for Character Classes](#shorthand-for-character-classes)\n",
    "- [Special Characters](#special-characters)\n",
    "- [Exercise #2](#exercise-2)\n",
    "- [The Dot](#the-dot)\n",
    "- [Anchors](#anchors)\n",
    "- [Exercise #3](#exercise-3)\n",
    "- [Modifiers](#modifiers)\n",
    "- [Quantifiers](#quantifiers)\n",
    "- [Greedy and Lazy Matching](#greedy-and-lazy-matching)\n",
    "- [Exercise #4](#exercise-4)\n",
    "- [Groups and Capturing](#groups-and-capturing)\n",
    "- [Exercise #5](#exercise-)\n",
    "- [Alternation](#alternation)\n",
    "- [Word Border](#word-border)\n",
    "- [Lookahead](#lookahead)\n",
    "- [Exercise #6](#exercise-5)\n",
    "- [`regex` in Python and `pandas`](#regex-in-python-and-pandas)\n",
    "\t- [`regex`' `.search()` Method](#regex-search-method)\n",
    "\t- [`regex`' `.findall()` method](#regex-findall-method)\n",
    "\t- [Using `pandas`](#using-pandas)\n",
    "\t- [`str.contains`](#strcontains)\n",
    "\t- [`str.extract`](#strextract)\n",
    "- [Independent Practice](#independent-practice)\n",
    "- [Extra Practice](#extra-practice)\n"
   ]
  },
  {
   "cell_type": "markdown",
   "metadata": {
    "slideshow": {
     "slide_type": "slide"
    }
   },
   "source": [
    "<img src=\"../assets/regex1.png\">\n",
    "<br>\n",
    "<center>**as in**</center>\n",
    "<br>\n",
    "<img src=\"../assets/regex2.png\">\n",
    "<br>\n",
    "<center>**not as in**</center>\n",
    "<img src=\"../assets/regex3.png\">"
   ]
  },
  {
   "cell_type": "code",
   "execution_count": 15,
   "metadata": {
    "collapsed": true,
    "slideshow": {
     "slide_type": "slide"
    }
   },
   "outputs": [],
   "source": [
    "from __future__ import division\n",
    "\n",
    "from IPython.core.display import Image\n",
    "\n",
    "import numpy as np\n",
    "import pandas as pd\n",
    "\n",
    "import matplotlib.pyplot as plt\n",
    "%matplotlib inline"
   ]
  },
  {
   "cell_type": "markdown",
   "metadata": {
    "slideshow": {
     "slide_type": "slide"
    }
   },
   "source": [
    "<a id=\"exploring-regex\"></a>\n",
    "## Exploring `regex`\n",
    "\n",
    "---\n",
    "\n",
    "[RegExr](http://regexr.com/) lets you explore `regex`.\n",
    "\n",
    "- Copy the text in the cell below into the body of the website linked above.\n",
    "\n",
    "- Make sure to click on flags in the upper right-hand corner, and check that **g** and **m** are clicked."
   ]
  },
  {
   "cell_type": "markdown",
   "metadata": {
    "slideshow": {
     "slide_type": "-"
    }
   },
   "source": [
    "```\n",
    "1. This is a string\n",
    "\n",
    "2. That is also a string\n",
    "\n",
    "3. This is an illusion\n",
    "\n",
    "4. THIS IS LOUD\n",
    "\n",
    "that isn't thus\n",
    "\n",
    "bob this is bob\n",
    "bob bob_ ralph_ bobbobbobbybobbob\n",
    "ababababab\n",
    "\n",
    "6. tHiS\tiS\tCoFu SEd\n",
    "\n",
    "777. THIS IS 100%-THE-BEST!!!\n",
    "\n",
    "8888. this_is_a_fiiile.py\n",
    "\n",
    "hidden bob\n",
    "```"
   ]
  },
  {
   "cell_type": "markdown",
   "metadata": {
    "slideshow": {
     "slide_type": "slide"
    }
   },
   "source": [
    "<a id=\"most-famous-quote-in-regex-dom\"></a>\n",
    "## The Most Famous Quote in `regex-dom`\n",
    "\n",
    ">\"Some people, when confronted with a problem, think \n",
    "'I know, I'll use regular expressions.'  Now they have two problems.\" — Jamie Zawinski (Netscape engineer)"
   ]
  },
  {
   "cell_type": "markdown",
   "metadata": {
    "slideshow": {
     "slide_type": "slide"
    }
   },
   "source": [
    "<a id=\"so-what-does-a-regular-expression-look-like\"></a>\n",
    "## So, What Does a Regular Expression Look Like?"
   ]
  },
  {
   "cell_type": "markdown",
   "metadata": {
    "slideshow": {
     "slide_type": "fragment"
    }
   },
   "source": [
    "## ```/^([a-z0-9_\\.-]+)@([\\da-z\\.-]+)\\.([a-z\\.]{2,6})$/```\n",
    "\n"
   ]
  },
  {
   "cell_type": "markdown",
   "metadata": {
    "collapsed": false,
    "hideCode": true,
    "hidePrompt": true,
    "slideshow": {
     "slide_type": "slide"
    }
   },
   "source": [
    "<img src=\"../assets/regex4.png\">"
   ]
  },
  {
   "cell_type": "markdown",
   "metadata": {
    "slideshow": {
     "slide_type": "slide"
    }
   },
   "source": [
    "<a id=\"the-history-of-regular-expressions\"></a>\n",
    "## The History of Regular Expressions\n",
    "\n",
    "---\n",
    "\n",
    "Regular expressions and neural nets have a common ancestry in the work of McColloch and Pitts (1943) and their attempt to computationally represent a model of a neuron. \n",
    "\n",
    "This work was picked up by Steve Kleene (Mr. \\*) and developed further into the idea of regular expressions. His idea was then popularized by its inclusion in Unix in the 1970s, in the form of [**grep**](http://opensourceforu.com/2012/06/beginners-guide-gnu-grep-basics-regular-expressions/). Its inclusion in PERL in the 1980s cemented its popularity.\n",
    "\n",
    "Here's [the story of Walter Pitts](http://nautil.us/issue/21/information/the-man-who-tried-to-redeem-the-world-with-logic)."
   ]
  },
  {
   "cell_type": "markdown",
   "metadata": {
    "slideshow": {
     "slide_type": "slide"
    }
   },
   "source": [
    "<a id=\"where-is-regex-implemented\"></a>\n",
    "## Where are `regex` Implemented?\n",
    "\n",
    "---\n",
    "\n",
    "There are any number of places where `regex`s can be run — from your text editor, to the `bash` shell, to Python, and even SQL. It is typically baked into the standard libary of programming languages.\n",
    "\n",
    "In Python, it can be imported like so:\n",
    "\n",
    "```python\n",
    "import re\n",
    "```"
   ]
  },
  {
   "cell_type": "markdown",
   "metadata": {
    "slideshow": {
     "slide_type": "slide"
    }
   },
   "source": [
    "<a id=\"basic-regular-expression-syntax\"></a>\n",
    "## Basic Regular Expression Syntax\n",
    "---\n",
    "\n",
    "<a id=\"literals\"></a>\n",
    "### Literals\n",
    "\n",
    "Literals are essentially just what you think of as characters in a string. For example:\n",
    "\n",
    "```\n",
    "a\n",
    "b\n",
    "c\n",
    "X\n",
    "Y\n",
    "Z\n",
    "1\n",
    "5\n",
    "100\n",
    "``` \n",
    "\n",
    "These are all considered literals."
   ]
  },
  {
   "cell_type": "markdown",
   "metadata": {
    "slideshow": {
     "slide_type": "slide"
    }
   },
   "source": [
    "<a id=\"character-classes\"></a>\n",
    "### Character Classes\n",
    "\n",
    "A character class is a set of characters matched as an \"or.\"\n",
    "\n",
    "```\n",
    "[io]\n",
    "```\n",
    "\n",
    "So, this class would run as \"match either i or o.\"\n",
    "\n",
    "You can include as many characters as you like in between the brackets.\n",
    "\n",
    "Character classes match only a single character."
   ]
  },
  {
   "cell_type": "markdown",
   "metadata": {
    "slideshow": {
     "slide_type": "slide"
    }
   },
   "source": [
    "<a id=\"character-classes-can-also-accept-certain-ranges\"></a>\n",
    "### Character Classes Can Also Accept Certain Ranges\n",
    "\n",
    "For example, the following will all work:\n",
    "    \n",
    "```\n",
    "[a-f]\n",
    "[a-z]\n",
    "[A-Z]\n",
    "[a-zA-Z]\n",
    "[1-4]\n",
    "[a-c1-3]\n",
    "```"
   ]
  },
  {
   "cell_type": "markdown",
   "metadata": {
    "slideshow": {
     "slide_type": "slide"
    }
   },
   "source": [
    "<a id=\"character-class-negation\"></a>\n",
    "### Character Class Negation\n",
    "\n",
    "We can also add **negation** to character classes. For example:\n",
    "\n",
    "```\n",
    "[^a-z]\n",
    "```\n",
    "\n",
    "This means match *ANYTHING* that is *NOT* `a` through `z`."
   ]
  },
  {
   "cell_type": "markdown",
   "metadata": {
    "slideshow": {
     "slide_type": "slide"
    }
   },
   "source": [
    "<a id=\"exercise-\"></a>\n",
    "## Exercise #1\n",
    "\n",
    "---\n",
    "\n",
    "<a id=\"what-happens-if-we-put-two-character-class-brackets-back-to-back\"></a>\n",
    "### What Happens If We Put Two Character Class Brackets Back to Back?\n",
    "\n",
    "Using RegExr and the text snippet from earlier, match **\"That\", \"that\"**, and **\"thus\"** — but not **\"This\"** and **\"this\"** — using the following:\n",
    "- One literal\n",
    "- Two character classes (no negation)\n",
    "- One negation in a character class"
   ]
  },
  {
   "cell_type": "code",
   "execution_count": null,
   "metadata": {
    "collapsed": true,
    "slideshow": {
     "slide_type": "slide"
    }
   },
   "outputs": [],
   "source": [
    "# A:            "
   ]
  },
  {
   "cell_type": "markdown",
   "metadata": {
    "slideshow": {
     "slide_type": "slide"
    }
   },
   "source": [
    "<a id=\"shorthand-for-character-classes\"></a>\n",
    "## Shorthand for Character Classes\n",
    "---\n",
    "\n",
    "```\n",
    "\\w - Matches word characters (includes digits and underscores)\n",
    "\\W - Matches what \\w doesn't — non-word characters\n",
    "\\d - Matches all digit characters\n",
    "\\D - Matches all non-digit characters\n",
    "\\s - Matches whitespace (including tabs)\n",
    "\\S - Matches non-whitespace\n",
    "\\n - Matches new lines\n",
    "\\r - Matches carriage returns\n",
    "\\t - Matches tabs\n",
    "```"
   ]
  },
  {
   "cell_type": "markdown",
   "metadata": {
    "slideshow": {
     "slide_type": "fragment"
    }
   },
   "source": [
    "These can also be placed into brackets like so:\n",
    "\n",
    "```\n",
    "[\\d\\t]\n",
    "[^\\d\\t]\n",
    "```"
   ]
  },
  {
   "cell_type": "markdown",
   "metadata": {
    "slideshow": {
     "slide_type": "slide"
    }
   },
   "source": [
    "<a id=\"special-characters\"></a>\n",
    "## Special Characters\n",
    "---\n",
    "\n",
    "Certain characters must be escaped with a backslash: \"`\\`.\"\n",
    "\n",
    "These include the following:\n",
    "\n",
    "```\n",
    ".\n",
    "?\n",
    "\\\n",
    "{\n",
    "}\n",
    "(\n",
    ")\n",
    "[\n",
    "]\n",
    "+\n",
    "-\n",
    "&\n",
    "<\n",
    ">\n",
    "```"
   ]
  },
  {
   "cell_type": "markdown",
   "metadata": {
    "slideshow": {
     "slide_type": "slide"
    }
   },
   "source": [
    "<a id=\"exercise-2\"></a>\n",
    "## Exercise #2\n",
    "\n",
    "---\n",
    "\n",
    "Use RegExr and our text snippet to match all digits. Do this three ways:\n",
    "\n",
    "```\n",
    "- First, with character classes\n",
    "- Second, with the shorthand character classes\n",
    "- Third, using only negation\n",
    "```"
   ]
  },
  {
   "cell_type": "code",
   "execution_count": null,
   "metadata": {
    "collapsed": true,
    "slideshow": {
     "slide_type": "fragment"
    }
   },
   "outputs": [],
   "source": [
    "# A:"
   ]
  },
  {
   "cell_type": "markdown",
   "metadata": {
    "slideshow": {
     "slide_type": "slide"
    }
   },
   "source": [
    "<a id=\"the-dot\"></a>\n",
    "## The Dot\n",
    "\n",
    "---\n",
    "\n",
    "The dot matches any single character."
   ]
  },
  {
   "cell_type": "markdown",
   "metadata": {
    "slideshow": {
     "slide_type": "slide"
    }
   },
   "source": [
    "<a id=\"anchors\"></a>\n",
    "## Anchors\n",
    "\n",
    "---\n",
    "\n",
    "Anchors are used to denote the start and end of a line.\n",
    "\n",
    "```\n",
    "^ - Matches the start of the line\n",
    "$ - Matches the end of the line\n",
    "```\n",
    "\n",
    "Example:\n",
    "\n",
    "```bash\n",
    "^Now - Matches the word \"Now\" when it occurs at the beginning of a line.  \n",
    "country$ - Matches the word \"country\" when it occurs at the end of a line.\n",
    "```"
   ]
  },
  {
   "cell_type": "markdown",
   "metadata": {
    "slideshow": {
     "slide_type": "slide"
    }
   },
   "source": [
    "<a id=\"exercise-3\"></a>\n",
    "## Exercise #3\n",
    "\n",
    "---\n",
    "\n",
    "Use an anchor and a character class to find the **bab** and the **bob** at the end of the line, but not elsewhere."
   ]
  },
  {
   "cell_type": "code",
   "execution_count": 1,
   "metadata": {
    "collapsed": true,
    "slideshow": {
     "slide_type": "fragment"
    }
   },
   "outputs": [],
   "source": [
    "# A:"
   ]
  },
  {
   "cell_type": "markdown",
   "metadata": {
    "slideshow": {
     "slide_type": "slide"
    }
   },
   "source": [
    "<a id=\"modifiers\"></a>\n",
    "## Modifiers\n",
    "\n",
    "---\n",
    "\n",
    "Modifiers control the following:\n",
    "    \n",
    "```\n",
    "g - Global match (matches every occurance in the text, rather than just the first)\n",
    "i - Case insensitivity\n",
    "m - Multiline (modifies how ^ and $ work)\n",
    "```"
   ]
  },
  {
   "cell_type": "markdown",
   "metadata": {
    "slideshow": {
     "slide_type": "-"
    }
   },
   "source": [
    "<a id=\"quantifiers\"></a>\n",
    "## Quantifiers\n",
    "\n",
    "---\n",
    "\n",
    "Quantfiers adjust how many items are matched.\n",
    "\n",
    "```\n",
    "* - Zero or more\n",
    "+ - One or more\n",
    "? - Zero or one\n",
    "{n} - Exactly 'n' number\n",
    "{n,} - Matches 'n' or more occurrences\n",
    "{n,m} - Between 'n' and 'm'\n",
    "```"
   ]
  },
  {
   "cell_type": "markdown",
   "metadata": {
    "slideshow": {
     "slide_type": "slide"
    }
   },
   "source": [
    "<a id=\"greedy-and-lazy-matching\"></a>\n",
    "## Greedy and Lazy Matching\n",
    "\n",
    "---\n",
    "\n",
    "\n",
    "By nature, ```.+ and .*``` are *greedy* matchers. This means they will match for as many characters as possible (i.e., the longest match).\n",
    "\n",
    "This can be flipped to lazy matching (the shortest match) by adding a question mark: `?`.\n"
   ]
  },
  {
   "cell_type": "markdown",
   "metadata": {
    "slideshow": {
     "slide_type": "slide"
    }
   },
   "source": [
    "<a id=\"exercise-4\"></a>\n",
    "## Exercise #4\n",
    "---\n",
    "\n",
    "1. Find **bob**, but only if it occurs three times in a row without any spaces.\n",
    "2. Find **bob** if it occurs twice in a row, with or without spaces."
   ]
  },
  {
   "cell_type": "code",
   "execution_count": null,
   "metadata": {
    "collapsed": true,
    "slideshow": {
     "slide_type": "fragment"
    }
   },
   "outputs": [],
   "source": [
    "# A:"
   ]
  },
  {
   "cell_type": "markdown",
   "metadata": {
    "slideshow": {
     "slide_type": "slide"
    }
   },
   "source": [
    "<a id=\"groups-and-capturing\"></a>\n",
    "## Groups and Capturing\n",
    "\n",
    "---\n",
    "\n",
    "In `regex`, parentheses — `()` — denote groupings. These groups can then be quantified.\n",
    "\n",
    "Additionally, these groups can be designated as either \"capture\" or \"non-capture.\"\n",
    "\n",
    "To mark a group as a capture group, just put it in parenthesis — (match_phrase).\n",
    "\n",
    "To mark it as a non-capture group, punctuate it like so — (?:match_phrase).\n",
    "\n",
    "Each capture group is assigned a consecutive number that can be referenced (e.g., ```$1, $2...```)."
   ]
  },
  {
   "cell_type": "markdown",
   "metadata": {
    "slideshow": {
     "slide_type": "slide"
    }
   },
   "source": [
    "<a id=\"exercise-5\"></a>\n",
    "## Exercise #5\n",
    "\n",
    "---\n",
    "\n",
    "1. Run the following in RegExr: ```(bob.?) (bob.?)```.\n",
    "2. Then, click on \"list\" at the bottom to open the tab and try entering ```$1```.\n",
    "3. Now, enter ```$2``` instead — what is the difference?\n",
    "4. Change the code to make the first one a non-capture group.\n",
    "5. Enter ```$1``` again — what has changed?"
   ]
  },
  {
   "cell_type": "markdown",
   "metadata": {
    "slideshow": {
     "slide_type": "slide"
    }
   },
   "source": [
    "<a id=\"alternation\"></a>\n",
    "## Alternation\n",
    "\n",
    "---\n",
    "\n",
    "The pipe character — `|` — can be used to denote an OR relation, just like in Python.\n",
    "\n",
    "For example, `(bob|bab)` or `(b(o|a)b)`."
   ]
  },
  {
   "cell_type": "markdown",
   "metadata": {
    "slideshow": {
     "slide_type": "slide"
    }
   },
   "source": [
    "<a id=\"word-border\"></a>\n",
    "## Word Border\n",
    "\n",
    "---\n",
    "\n",
    "The word border — `\\b` — limits matches to those that mark the boundaries of words.\n",
    "\n",
    "These borders can be used on both the left and right sides of the match."
   ]
  },
  {
   "cell_type": "markdown",
   "metadata": {
    "slideshow": {
     "slide_type": "slide"
    }
   },
   "source": [
    "<a id=\"lookahead\"></a>\n",
    "## Lookahead\n",
    "---\n",
    "\n",
    "There are two types of lookaheads: postive and negative.\n",
    "\n",
    "```    \n",
    "(?=match_text) — A postive lookahead says, \"only match the current pattern if it is followed by another pattern.\"\n",
    "(?!match_text) — A negative lookahead says the opposite.\n",
    "\n",
    "Examples:\n",
    "- that(?=guy) — Only match \"that\" if it is followed by \"guy.\"\n",
    "- these(?!guys) — Only match \"these\" if it is NOT follow by \"guys.\"\n",
    "```"
   ]
  },
  {
   "cell_type": "markdown",
   "metadata": {
    "slideshow": {
     "slide_type": "slide"
    }
   },
   "source": [
    "<a id=\"exercise-6\"></a>\n",
    "## Exercise #6\n",
    "---\n",
    "\n",
    "1. Match **bob** only if it is followed by \"_\".\n",
    "2. Match **bob** if it is followed by \"_\" or a new line character (Hint: How do we specify \"or\" in `regex`?).\n",
    "3. Match **bob** only if it isn't followed by a space or a new line character."
   ]
  },
  {
   "cell_type": "code",
   "execution_count": null,
   "metadata": {
    "collapsed": true,
    "slideshow": {
     "slide_type": "fragment"
    }
   },
   "outputs": [],
   "source": [
    "# A:"
   ]
  },
  {
   "cell_type": "markdown",
   "metadata": {
    "slideshow": {
     "slide_type": "slide"
    }
   },
   "source": [
    "<a id=\"regex-in-python-and-pandas\"></a>\n",
    "## Regex in Python and `pandas`\n",
    "\n",
    "---\n",
    "\n",
    "Let's practice working with `regex` in Python and `pandas` using the string below."
   ]
  },
  {
   "cell_type": "code",
   "execution_count": 1,
   "metadata": {
    "collapsed": true,
    "slideshow": {
     "slide_type": "-"
    }
   },
   "outputs": [],
   "source": [
    "\n",
    "my_string = \"\"\"\n",
    "I said a hip hop,\n",
    "The hippie, the hippie,\n",
    "To the hip, hip hop, and you don't stop, a rock it\n",
    "To the bang bang boogie, say, up jump the boogie,\n",
    "To the rhythm of the boogie, the beat.\n",
    "\"\"\""
   ]
  },
  {
   "cell_type": "code",
   "execution_count": 2,
   "metadata": {
    "collapsed": true,
    "slideshow": {
     "slide_type": "-"
    }
   },
   "outputs": [],
   "source": [
    "# Import the `regex` module.\n",
    "import re"
   ]
  },
  {
   "cell_type": "markdown",
   "metadata": {
    "slideshow": {
     "slide_type": "slide"
    }
   },
   "source": [
    "<a id=\"regex-search-method\"></a>\n",
    "### `regex`' `.search()` Method"
   ]
  },
  {
   "cell_type": "code",
   "execution_count": 3,
   "metadata": {
    "collapsed": false,
    "slideshow": {
     "slide_type": "-"
    }
   },
   "outputs": [],
   "source": [
    "# `.search()` returns a match object.\n",
    "mo = re.search('h([io])p', my_string)"
   ]
  },
  {
   "cell_type": "code",
   "execution_count": 4,
   "metadata": {
    "collapsed": false,
    "slideshow": {
     "slide_type": "-"
    }
   },
   "outputs": [
    {
     "data": {
      "text/plain": [
       "'hip'"
      ]
     },
     "execution_count": 4,
     "metadata": {},
     "output_type": "execute_result"
    }
   ],
   "source": [
    "# Everything that matches the expression:\n",
    "mo.group()"
   ]
  },
  {
   "cell_type": "code",
   "execution_count": 8,
   "metadata": {
    "collapsed": false,
    "slideshow": {
     "slide_type": "-"
    }
   },
   "outputs": [
    {
     "data": {
      "text/plain": [
       "'i'"
      ]
     },
     "execution_count": 8,
     "metadata": {},
     "output_type": "execute_result"
    }
   ],
   "source": [
    "# The match groups (like $1, $2):\n",
    "mo.group(1)"
   ]
  },
  {
   "cell_type": "markdown",
   "metadata": {
    "slideshow": {
     "slide_type": "slide"
    }
   },
   "source": [
    "<a id=\"regex-findall-method\"></a>\n",
    "### `regex`' `.findall()` Method"
   ]
  },
  {
   "cell_type": "code",
   "execution_count": 10,
   "metadata": {
    "collapsed": false,
    "slideshow": {
     "slide_type": "-"
    }
   },
   "outputs": [],
   "source": [
    "mo = re.findall('h[io]p', my_string)"
   ]
  },
  {
   "cell_type": "code",
   "execution_count": 11,
   "metadata": {
    "collapsed": false,
    "slideshow": {
     "slide_type": "-"
    }
   },
   "outputs": [
    {
     "data": {
      "text/plain": [
       "['hip', 'hop', 'hip', 'hip', 'hip', 'hip', 'hop']"
      ]
     },
     "execution_count": 11,
     "metadata": {},
     "output_type": "execute_result"
    }
   ],
   "source": [
    "mo"
   ]
  },
  {
   "cell_type": "code",
   "execution_count": 12,
   "metadata": {
    "collapsed": true,
    "slideshow": {
     "slide_type": "-"
    }
   },
   "outputs": [],
   "source": [
    "# `.findall()` will return only the capture groups, if included.\n",
    "mo = re.findall('h([io])p', my_string)"
   ]
  },
  {
   "cell_type": "code",
   "execution_count": 13,
   "metadata": {
    "collapsed": false,
    "slideshow": {
     "slide_type": "-"
    }
   },
   "outputs": [
    {
     "data": {
      "text/plain": [
       "['i', 'o', 'i', 'i', 'i', 'i', 'o']"
      ]
     },
     "execution_count": 13,
     "metadata": {},
     "output_type": "execute_result"
    }
   ],
   "source": [
    "mo"
   ]
  },
  {
   "cell_type": "markdown",
   "metadata": {
    "slideshow": {
     "slide_type": "slide"
    }
   },
   "source": [
    "<a id=\"using-pandas\"></a>\n",
    "### Using `pandas`"
   ]
  },
  {
   "cell_type": "code",
   "execution_count": 16,
   "metadata": {
    "collapsed": false,
    "slideshow": {
     "slide_type": "-"
    }
   },
   "outputs": [
    {
     "data": {
      "text/plain": [
       "0     onefish\n",
       "1     twofish\n",
       "2     redfish\n",
       "3    bluefish\n",
       "dtype: object"
      ]
     },
     "execution_count": 16,
     "metadata": {},
     "output_type": "execute_result"
    }
   ],
   "source": [
    "fish = pd.Series(['onefish', 'twofish','redfish', 'bluefish'])\n",
    "fish"
   ]
  },
  {
   "cell_type": "markdown",
   "metadata": {
    "slideshow": {
     "slide_type": "slide"
    }
   },
   "source": [
    "<a id=\"strcontains\"></a>\n",
    "### `str.contains`"
   ]
  },
  {
   "cell_type": "code",
   "execution_count": 17,
   "metadata": {
    "collapsed": false,
    "slideshow": {
     "slide_type": "-"
    }
   },
   "outputs": [
    {
     "data": {
      "text/plain": [
       "3    bluefish\n",
       "dtype: object"
      ]
     },
     "execution_count": 17,
     "metadata": {},
     "output_type": "execute_result"
    }
   ],
   "source": [
    "# Get all fish that start with \"b.\"\n",
    "fish[fish.str.contains('^b')]"
   ]
  },
  {
   "cell_type": "markdown",
   "metadata": {
    "slideshow": {
     "slide_type": "slide"
    }
   },
   "source": [
    "<a id=\"strextract\"></a>\n",
    "### `str.extract`"
   ]
  },
  {
   "cell_type": "code",
   "execution_count": 18,
   "metadata": {
    "collapsed": false,
    "slideshow": {
     "slide_type": "-"
    }
   },
   "outputs": [
    {
     "data": {
      "text/plain": [
       "0     one\n",
       "1     two\n",
       "2     red\n",
       "3    blue\n",
       "dtype: object"
      ]
     },
     "execution_count": 18,
     "metadata": {},
     "output_type": "execute_result"
    }
   ],
   "source": [
    "# `.extract()` maps capture groups to new Series.\n",
    "fish.str.extract('(.*)fish', expand=False)"
   ]
  },
  {
   "cell_type": "markdown",
   "metadata": {
    "slideshow": {
     "slide_type": "slide"
    }
   },
   "source": [
    "<a id=\"independent-practice\"></a>\n",
    "## Independent Practice\n",
    "---\n",
    "\n",
    "Pull up the following tutorials for regular expressions in Python. \n",
    "\n",
    "- [TutorialPoint](http://www.tutorialspoint.com/python/python_reg_expressions.htm)  \n",
    "- [Google Regex Tutorial](https://developers.google.com/edu/python/regular-expressions) (findall)\n",
    "\n",
    "In the cells below, import Python's `regex` library and experiment with matching on the string.\n",
    "\n",
    "Try out some of the following:\n",
    "- Match with and without case sensitivity.\n",
    "- Match using word borders (try \"bob\").\n",
    "- Use positive and negative lookaheads.\n",
    "- Experiment with the multi-line flag.\n",
    "- Try matching the second or third instance of a repetitive pattern (\"ab\" or \"bob,\" for example).\n",
    "- Try using `re.sub` to replace a matching string.\n",
    "- Note the difference between `search` and `match`.\n",
    "- What happens to the order of groups if they are nested?"
   ]
  },
  {
   "cell_type": "code",
   "execution_count": 14,
   "metadata": {
    "collapsed": true,
    "slideshow": {
     "slide_type": "-"
    }
   },
   "outputs": [],
   "source": [
    "test = \"\"\"\n",
    "1. This is a string\n",
    "\n",
    "2. That is also a string\n",
    "\n",
    "3. This is an illusion\n",
    "\n",
    "4. THIS IS LOUD\n",
    "\n",
    "that isn't thus\n",
    "\n",
    "bob this is bob\n",
    "bob bob_ ralph_ bobbobbobbybobbob\n",
    "ababababab\n",
    "\n",
    "6. tHiS\tiS\tCoFu SEd\n",
    "\n",
    "777. THIS IS 100%-THE-BEST!!!\n",
    "\n",
    "8888. this_is_a_fiiile.py\n",
    "\n",
    "hidden bob\n",
    "\n",
    "\"\"\""
   ]
  },
  {
   "cell_type": "markdown",
   "metadata": {
    "slideshow": {
     "slide_type": "-"
    }
   },
   "source": [
    "<a id=\"extra-practice\"></a>\n",
    "## Extra Practice\n",
    "\n",
    "---\n",
    "\n",
    "Pull up the [Regex Golf](http://regex.alf.nu/) website and solve as many as you can!\n",
    "\n",
    "If you get bored, try [Regex Crossword](https://regexcrossword.com/)."
   ]
  }
 ],
 "metadata": {
  "anaconda-cloud": {},
  "celltoolbar": "Slideshow",
  "kernelspec": {
   "display_name": "Python 2",
   "language": "python",
   "name": "python2"
  },
  "language_info": {
   "codemirror_mode": {
    "name": "ipython",
    "version": 2
   },
   "file_extension": ".py",
   "mimetype": "text/x-python",
   "name": "python",
   "nbconvert_exporter": "python",
   "pygments_lexer": "ipython2",
   "version": "2.7.13"
  }
 },
 "nbformat": 4,
 "nbformat_minor": 0
}
