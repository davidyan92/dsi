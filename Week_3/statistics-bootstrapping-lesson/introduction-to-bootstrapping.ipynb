{
 "cells": [
  {
   "cell_type": "markdown",
   "metadata": {},
   "source": [
    "<img src=\"http://imgur.com/1ZcRyrc.png\" style=\"float: left; margin: 20px; height: 55px\">\n",
    "\n",
    "## Introduction to Bootstrapping\n",
    "\n",
    "_Authors: Kiefer Katovich (SF)_\n",
    "\n",
    "---\n",
    "\n",
    "### Learning Objectives\n",
    "- Understand the concept of the parametric bootstrap\n",
    "- Code the parametric bootstrap by hand\n",
    "- Apply the parametric bootstrap to calculate confidence intervals for statistics\n",
    "- Understand when the bootstrap is useful\n",
    "- Practice performing the bootstrap"
   ]
  },
  {
   "cell_type": "markdown",
   "metadata": {},
   "source": [
    "### Lesson Guide\n",
    "- [The bootstrapping procedure](#bootstrapping)\n",
    "- [Coding the nonparametric bootstrap](#code-bootstrap)\n",
    "- [Comparing bootstrapped confidence intervals to standard](#compare-to-classic)\n",
    "- [Bootstrapping the median](#bootstrap-median)\n",
    "- [Theory behind the bootstrap](#theory)\n",
    "- [Independent practice: confidence intervals of correlations](#independent-practice)\n"
   ]
  },
  {
   "cell_type": "code",
   "execution_count": 1,
   "metadata": {
    "collapsed": true
   },
   "outputs": [],
   "source": [
    "import matplotlib.pyplot as plt\n",
    "import numpy as np\n",
    "import pandas as pd\n",
    "import seaborn as sns\n",
    "import scipy.stats as stats\n",
    "\n",
    "plt.style.use('fivethirtyeight')\n",
    "\n",
    "%matplotlib inline\n",
    "%config InlineBackend.figure_format = 'retina'"
   ]
  },
  {
   "cell_type": "markdown",
   "metadata": {},
   "source": [
    "<a id='bootstrapping'></a>\n",
    "\n",
    "## The bootstrapping procedure\n",
    "\n",
    "---\n",
    "\n",
    "Bootstrapping is a powerful resampling method that allows us to estimate the degree of our uncertainty about practically any statistic. The beauty of bootstrapping is that this is done directly from the data without needing to make any assumptions about the distribution of our statistic!\n",
    "\n",
    "There are many variations on the bootstrap. In this lesson we will cover only the classic **nonparametric bootstrap**. \n",
    "\n",
    "#### Bootstrapping the confidence interval of a statistic.\n",
    "\n",
    "Say we wanted to calculate the 95% confidence interval around a statistic such as our sample mean. We could do this using the formula derived based on the Central Limit Theorm (CLT), selecting z-scores along the unit Normal distribution that corresponds to our confidence level and multiplying them by our standard error.\n",
    "\n",
    "The nonparametric bootstrap procedure on the other hand does not rely on distributional assumputions of the parameter. Below is pseudocode describing the process:\n",
    "\n",
    "---\n",
    "\n",
    "```\n",
    "for specified number of bootstrap iterations\n",
    "    create a bootstrap sample by randomly selecting observations with replacement from your sample \n",
    "        (same size as sample)\n",
    "    calculate the statistic of interest on bootstrap sample\n",
    "\n",
    "calculate lower and upper percentile bounds of bootstrap statistics according to threshold\n",
    "```\n",
    "\n",
    "---\n",
    "\n",
    "Where the 95% confidence threshold in our case would mean we calculate be 2.5th and 97.5th percentile of the bootstrapped sample means."
   ]
  },
  {
   "cell_type": "markdown",
   "metadata": {},
   "source": [
    "<a id='code-bootstrap'></a>\n",
    "\n",
    "### Coding the nonparametric bootstrap by hand: starcraft data\n",
    "\n",
    "---\n",
    "\n",
    "Below we will code the nonparametric bootstrap function and calculate the confidence interval for the mean APM (Actions per Minute) from a sample of Starcraft data. \n",
    "\n",
    "**Load the Starcraft data:**"
   ]
  },
  {
   "cell_type": "code",
   "execution_count": 2,
   "metadata": {
    "collapsed": true
   },
   "outputs": [],
   "source": [
    "starcraft = './datasets/Starcraft_sample.csv'"
   ]
  },
  {
   "cell_type": "code",
   "execution_count": 3,
   "metadata": {
    "collapsed": false
   },
   "outputs": [],
   "source": [
    "# read in data:\n",
    "# examine data:"
   ]
  },
  {
   "cell_type": "markdown",
   "metadata": {},
   "source": [
    "**Extract the APM vector from the dataset:**"
   ]
  },
  {
   "cell_type": "code",
   "execution_count": 4,
   "metadata": {
    "collapsed": true
   },
   "outputs": [],
   "source": [
    "# APM values:"
   ]
  },
  {
   "cell_type": "markdown",
   "metadata": {},
   "source": [
    "**Plot the distribution of APM with a histogram:**"
   ]
  },
  {
   "cell_type": "code",
   "execution_count": 5,
   "metadata": {
    "collapsed": false
   },
   "outputs": [],
   "source": [
    "# A:"
   ]
  },
  {
   "cell_type": "markdown",
   "metadata": {},
   "source": [
    "**Lets write a function for the nonparametric bootstrap procedure.**\n",
    "\n",
    "The function will take three arguments:\n",
    "- The sample\n",
    "- The function to calculate the statistic of interest\n",
    "- The number of iterations\n",
    "\n",
    "The function should return a vector of the \"bootstrapped\" statistics. Refer to the pseudocode above. Remember that the random sampling must be done **with replacement** and the random sample must be the same size as the original sample."
   ]
  },
  {
   "cell_type": "code",
   "execution_count": 6,
   "metadata": {
    "collapsed": true
   },
   "outputs": [],
   "source": [
    "def bootstrap(sample, stat_func, iters=1000):\n",
    "    boots = []\n",
    "    for i in range(iters):\n",
    "        random_sample = np.random.choice(sample, replace=True, size=len(sample))\n",
    "        stat = stat_func(random_sample)\n",
    "        boots.append(stat)\n",
    "    return boots"
   ]
  },
  {
   "cell_type": "markdown",
   "metadata": {},
   "source": [
    "**Using our bootstrapping function with 1000 iterations lets calculate the 95% confidence interval for the mean APM.**\n",
    "\n",
    "Remember that for a 95% confidence interval, we will want to find the 2.5th percentile bootstrapped mean and the 97.5th percentile bootstrapped mean (corresponding to a threshold of 0.05).\n",
    "\n",
    "The [`scipy.stats.scoreatpercentile`](https://docs.scipy.org/doc/scipy-0.14.0/reference/generated/scipy.stats.scoreatpercentile.html) function is useful for finding the values at these percentiles."
   ]
  },
  {
   "cell_type": "code",
   "execution_count": null,
   "metadata": {
    "collapsed": true
   },
   "outputs": [],
   "source": [
    "apm_boot = bootstrap(apm, np.mean)\n",
    "\n",
    "apm_lower = stats.scoreatpercentile(apm_boot, 2.5)\n",
    "apm_upper = stats.scoreatpercentile(apm_boot, 97.5)\n",
    "\n",
    "print apm_lower, np.mean(apm), apm_upper"
   ]
  },
  {
   "cell_type": "markdown",
   "metadata": {},
   "source": [
    "<a id='compare-to-classic'></a>\n",
    "\n",
    "### Comparing the bootstrapped confidence interval to the classic formula\n",
    "\n",
    "---\n",
    "\n",
    "The classic formula for calculating the confidence interval bounds for the sample mean is:\n",
    "\n",
    "### $$ [\\; \\bar{x} + z_{\\alpha/2}\\frac{s}{\\sqrt{n}},\\; \\bar{x} + z_{1-\\alpha/2} \\frac{s}{\\sqrt{n}} ]$$\n",
    "\n",
    "Where in our case $\\alpha = 0.05$. Filling in the appropriate z-scores according to this threshold we have:\n",
    "\n",
    "### $$ [\\; \\bar{x} -1.96 \\frac{s}{\\sqrt{n}},\\; \\bar{x} + 1.96 \\frac{s}{\\sqrt{n}} ]$$\n",
    "\n",
    "**Calculate the confidence interval for the mean APM with the formula above and compare it to our bootstrapped confidence interval.**"
   ]
  },
  {
   "cell_type": "code",
   "execution_count": 8,
   "metadata": {
    "collapsed": false
   },
   "outputs": [],
   "source": [
    "std = np.std(apm)\n",
    "sqrtn = np.sqrt(len(apm))\n",
    "\n",
    "apm_lower = np.mean(apm) - 1.96*(std/sqrtn)\n",
    "apm_upper = np.mean(apm) + 1.96*(std/sqrtn)\n",
    "\n",
    "print apm_lower, np.mean(apm), apm_upper"
   ]
  },
  {
   "cell_type": "markdown",
   "metadata": {},
   "source": [
    "<a id='bootstrap-median'></a>\n",
    "\n",
    "### A more practical example: bootstrapping the median\n",
    "\n",
    "---\n",
    "\n",
    "In the case of estimating the confidence around the sample mean, the bootstrapping procedure is not particularly useful since the sample mean has such nice properties distributional properties. \n",
    "\n",
    "The bootstrap becomes much more useful when we need to calculate our uncertaintly around statistics without straightforward formulas or ones with unreasonably strict assumptions. The median is one such statistic. \n",
    "\n",
    "**Formula for the sample error of the median (to use for calculating confidence interval around the median):**\n",
    "\n",
    "There is in fact a formula for the sample error of the median:\n",
    "\n",
    "### $$ \\text{s.e. median} = 1.2533 \\cdot \\text{s.e. mean} $$\n",
    "\n",
    "Which is a function of the sample error of the mean and uses a heuristic multiplier 1.2533. Furthermore, it requires these assumptions to work:\n",
    "\n",
    "1. $N$ is large\n",
    "2. The sample of measurements are drawn from a normally distributed population\n",
    "\n",
    "**Check:** What about these assumptions is impractical?\n",
    "\n",
    "---\n",
    "\n",
    "The second assumption is strict – many distributions are not normally distributed. Furthermore, what tangible benefit do we get from calculating the median over the mean if we know ahead of time that the population is normally distributed?\n",
    "\n",
    "The median is much more useful when we suspect a non-normally distributed population.\n",
    "\n",
    "\n",
    "**Plot the distribution of APM from the Starcraft data with a vertical line indicating the median.**"
   ]
  },
  {
   "cell_type": "code",
   "execution_count": 9,
   "metadata": {
    "collapsed": false
   },
   "outputs": [],
   "source": [
    "apm_median = np.median(apm)\n",
    "ax = sns.distplot(apm, bins=25, kde=False)\n",
    "ax.axvline(apm_median, lw=2.5, ls='dashed', color='black')"
   ]
  },
  {
   "cell_type": "markdown",
   "metadata": {},
   "source": [
    "#### Calculate a 99% confidence interval for the median for computed with the formula above.\n",
    "\n",
    "The associated z-score magnitude is 2.576"
   ]
  },
  {
   "cell_type": "code",
   "execution_count": 10,
   "metadata": {
    "collapsed": false
   },
   "outputs": [],
   "source": [
    "se_mean = np.std(apm)/np.sqrt(len(apm))\n",
    "se_median = se_mean*1.2533\n",
    "\n",
    "apm_med_lower = np.median(apm) - 2.576*se_median\n",
    "apm_med_upper = np.median(apm) + 2.576*se_median\n",
    "\n",
    "print apm_med_lower, np.median(apm), apm_med_upper"
   ]
  },
  {
   "cell_type": "markdown",
   "metadata": {},
   "source": [
    "**Bootstrap the 99% confidence interval for the median with 1000 iterations.**"
   ]
  },
  {
   "cell_type": "code",
   "execution_count": 11,
   "metadata": {
    "collapsed": false
   },
   "outputs": [],
   "source": [
    "med_boot = bootstrap(apm, np.median)\n",
    "\n",
    "med_boot_lower = stats.scoreatpercentile(med_boot, 0.5)\n",
    "med_boot_upper = stats.scoreatpercentile(med_boot, 99.5)\n",
    "\n",
    "print med_boot_lower, np.median(apm), med_boot_upper"
   ]
  },
  {
   "cell_type": "markdown",
   "metadata": {},
   "source": [
    "**How is the distribution different using the boostrap?**"
   ]
  },
  {
   "cell_type": "code",
   "execution_count": 12,
   "metadata": {
    "collapsed": true
   },
   "outputs": [],
   "source": [
    "ax = sns.distplot(apm, bins=20, kde=False)\n",
    "ax.axvline(np.median(apm), lw=3, color='black')\n",
    "ax.axvline(apm_med_lower, lw=2.5, color='black', ls='dashed')\n",
    "ax.axvline(apm_med_upper, lw=2.5, color='black', ls='dashed')\n",
    "ax.axvline(med_boot_lower, lw=2.5, color='darkgoldenrod', ls='dashed')\n",
    "ax.axvline(med_boot_upper, lw=2.5, color='darkgoldenrod', ls='dashed')"
   ]
  },
  {
   "cell_type": "markdown",
   "metadata": {},
   "source": [
    "<a id='theory'></a>\n",
    "\n",
    "### Theory behind the bootstrap\n",
    "\n",
    "---\n",
    "\n",
    "The idea grounding the boostrap is that inferences we can draw from random samples drawn from our sample can in turn be applied to our inference about the overall population. This is because our random sample of the sample mirrors the fact that our sample is randomly drawn from the population. \n",
    "\n",
    "Essentially, bootstrap samples are to our original sample as our original sample is to the overall population.\n",
    "\n",
    "With a population parameter $\\theta$ and sample statistic $\\hat{\\theta}$ we make an inference about the uncertainty around our estimate of the population parameter.\n",
    "\n",
    "> We infer the population $\\theta$ and uncertainty of the inference from sample $\\hat{\\theta}_{s}$.\n",
    "\n",
    "With bootstrapping we mirror this process *to make an inference about the uncertainty around our \"estimate\" of the sample statistic.*\n",
    "\n",
    "> Infer uncertainty of our sample statistic $\\hat{\\theta}_{s}$ from multiple random bootstrap samples drawn from the sample.\n",
    "\n"
   ]
  },
  {
   "cell_type": "markdown",
   "metadata": {},
   "source": [
    "<a id='independent-practice'></a>\n",
    "\n",
    "### Independent practice: bootstrapping the confidence interval of the correlation coefficient\n",
    "\n",
    "---\n",
    "\n",
    "Like the median, computing the confidence interval for the pearson correlation coefficient is not straightforward without using the bootstrap procedure. \n",
    "\n",
    "**Using the starcraft data or another dataset of your choice, calculate the correlation between two variables you are interested in and then compute the 95% and 99% confidence interval of the correlation with the bootstrap.**"
   ]
  },
  {
   "cell_type": "code",
   "execution_count": 13,
   "metadata": {
    "collapsed": true
   },
   "outputs": [],
   "source": [
    "# A:"
   ]
  }
 ],
 "metadata": {
  "kernelspec": {
   "display_name": "Python 2",
   "language": "python",
   "name": "python2"
  },
  "language_info": {
   "codemirror_mode": {
    "name": "ipython",
    "version": 2
   },
   "file_extension": ".py",
   "mimetype": "text/x-python",
   "name": "python",
   "nbconvert_exporter": "python",
   "pygments_lexer": "ipython2",
   "version": "2.7.13"
  }
 },
 "nbformat": 4,
 "nbformat_minor": 2
}
