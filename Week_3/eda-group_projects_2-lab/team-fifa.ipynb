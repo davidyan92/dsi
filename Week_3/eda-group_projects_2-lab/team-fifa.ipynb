{
 "cells": [
  {
   "cell_type": "markdown",
   "metadata": {},
   "source": [
    "# Team FIFA\n",
    "\n",
    "---\n",
    "You are working for an advertising analytics consulting company.  Your client, a name brand television network, needs to re-formulate their pricing structure for advertisement slots during soccer matches for new customers.  They also want this new structure to incentivize existing customers to create new partnerships/sponsors with teams and players.  \n",
    "\n",
    "**Goals:**\n",
    "- Determine a reasonable metric to decide how exciting a game is.\n",
    "    - Engineer this feature using existing data.\n",
    "- Suggest a pricing structure tied to the overall value associated with \"game excitement\".\n",
    "\n",
    "**Presentation requirements:**\n",
    "- At least 50% of presentation must address a non-technical audience.\n",
    "- Someone who hasn't presented in class yet must take lead on presentation."
   ]
  },
  {
   "cell_type": "markdown",
   "metadata": {},
   "source": [
    "## Analysis\n",
    "\n",
    "**Goal:** \n",
    "1. Establish a pricing structure where a more exciting game advertisement slot would fetch the highest price.\n",
    "2. Identify potential candidates for sponsorship\n",
    "\n",
    "\n",
    "**Explore**\n",
    "\n",
    "- Measure of exciting game:\n",
    "    1. total goals scored -> more goals per game, more exciting\n",
    "    2. closer game -> more often ties occur per game, more exciting\n",
    "    3. presence of star players in game\n",
    "    \n",
    "\n",
    "- Most exciting timeslot of game:\n",
    "    - at what point in the game (by min) are most goals scored?\n",
    "    \n",
    "\n",
    "- Sponsorship:\n",
    "    - identify star players => players that score the most goals\n",
    "\n",
    "\n",
    "**Assume:**\n",
    "- 3 advert slots per game - before, halftime, after\n",
    "- pricing should follow non-linear structure, more excitement = more viewers = more expensive advert slots\n",
    "\n",
    "**Propose 2 prong pricing mechanism:**\n",
    "1. Base advert slot price for game, given predicted level of game excitement\n",
    "2. As game progresses, advert slot prices increase\n",
    "\n",
    "http://brandchannel.com/2014/01/22/super-bowl-who-fifas-world-cup-is-the-biggest-ad-game-in-the-world/\n",
    "Price per 30s can go upwards of US$4M!!!\n",
    "\n",
    "**Data we lack**\n",
    "1. Unique Teams. With this piece of data we will be able to predict the excitement value of an upcoming game between 2 teams based on their past results."
   ]
  },
  {
   "cell_type": "code",
   "execution_count": 1,
   "metadata": {
    "collapsed": true
   },
   "outputs": [],
   "source": [
    "import pandas as pd\n",
    "import numpy as np\n",
    "import seaborn as sns\n",
    "import matplotlib.pyplot as plt\n",
    "\n",
    "%matplotlib inline\n",
    "sns.set_style('darkgrid')\n",
    "\n",
    "df = pd.read_csv(\"./datasets/fifa_goals.csv\")"
   ]
  },
  {
   "cell_type": "markdown",
   "metadata": {},
   "source": [
    "## Clean Data"
   ]
  },
  {
   "cell_type": "code",
   "execution_count": 2,
   "metadata": {},
   "outputs": [
    {
     "name": "stdout",
     "output_type": "stream",
     "text": [
      "(2207, 5)\n"
     ]
    },
    {
     "data": {
      "text/html": [
       "<div>\n",
       "<style>\n",
       "    .dataframe thead tr:only-child th {\n",
       "        text-align: right;\n",
       "    }\n",
       "\n",
       "    .dataframe thead th {\n",
       "        text-align: left;\n",
       "    }\n",
       "\n",
       "    .dataframe tbody tr th {\n",
       "        vertical-align: top;\n",
       "    }\n",
       "</style>\n",
       "<table border=\"1\" class=\"dataframe\">\n",
       "  <thead>\n",
       "    <tr style=\"text-align: right;\">\n",
       "      <th></th>\n",
       "      <th>game_id</th>\n",
       "      <th>minute</th>\n",
       "      <th>player</th>\n",
       "      <th>team1score</th>\n",
       "      <th>team2score</th>\n",
       "    </tr>\n",
       "  </thead>\n",
       "  <tbody>\n",
       "    <tr>\n",
       "      <th>0</th>\n",
       "      <td>1</td>\n",
       "      <td>18</td>\n",
       "      <td>Schiavio</td>\n",
       "      <td>1</td>\n",
       "      <td>0</td>\n",
       "    </tr>\n",
       "    <tr>\n",
       "      <th>1</th>\n",
       "      <td>1</td>\n",
       "      <td>20</td>\n",
       "      <td>Orsi</td>\n",
       "      <td>2</td>\n",
       "      <td>0</td>\n",
       "    </tr>\n",
       "    <tr>\n",
       "      <th>2</th>\n",
       "      <td>1</td>\n",
       "      <td>29</td>\n",
       "      <td>Schiavio</td>\n",
       "      <td>3</td>\n",
       "      <td>0</td>\n",
       "    </tr>\n",
       "    <tr>\n",
       "      <th>3</th>\n",
       "      <td>1</td>\n",
       "      <td>57</td>\n",
       "      <td>Donelli</td>\n",
       "      <td>3</td>\n",
       "      <td>1</td>\n",
       "    </tr>\n",
       "    <tr>\n",
       "      <th>4</th>\n",
       "      <td>1</td>\n",
       "      <td>63</td>\n",
       "      <td>Ferrari</td>\n",
       "      <td>4</td>\n",
       "      <td>1</td>\n",
       "    </tr>\n",
       "  </tbody>\n",
       "</table>\n",
       "</div>"
      ],
      "text/plain": [
       "   game_id minute    player  team1score  team2score\n",
       "0        1     18  Schiavio           1           0\n",
       "1        1     20      Orsi           2           0\n",
       "2        1     29  Schiavio           3           0\n",
       "3        1     57   Donelli           3           1\n",
       "4        1     63   Ferrari           4           1"
      ]
     },
     "execution_count": 2,
     "metadata": {},
     "output_type": "execute_result"
    }
   ],
   "source": [
    "print df.shape\n",
    "df.head()"
   ]
  },
  {
   "cell_type": "code",
   "execution_count": 3,
   "metadata": {},
   "outputs": [
    {
     "name": "stdout",
     "output_type": "stream",
     "text": [
      "<class 'pandas.core.frame.DataFrame'>\n",
      "RangeIndex: 2207 entries, 0 to 2206\n",
      "Data columns (total 5 columns):\n",
      "game_id       2207 non-null int64\n",
      "minute        2207 non-null object\n",
      "player        2207 non-null object\n",
      "team1score    2207 non-null int64\n",
      "team2score    2207 non-null int64\n",
      "dtypes: int64(3), object(2)\n",
      "memory usage: 86.3+ KB\n"
     ]
    }
   ],
   "source": [
    "df.info()"
   ]
  },
  {
   "cell_type": "code",
   "execution_count": 4,
   "metadata": {},
   "outputs": [
    {
     "data": {
      "text/plain": [
       "game_id       0\n",
       "minute        0\n",
       "player        0\n",
       "team1score    0\n",
       "team2score    0\n",
       "dtype: int64"
      ]
     },
     "execution_count": 4,
     "metadata": {},
     "output_type": "execute_result"
    }
   ],
   "source": [
    "df.isnull().sum()\n",
    "# there are no missing values to clean"
   ]
  },
  {
   "cell_type": "markdown",
   "metadata": {},
   "source": [
    "## Identify games with most \"action\"\n",
    "\n",
    "Games with more goals get a higher game excitement score"
   ]
  },
  {
   "cell_type": "code",
   "execution_count": 5,
   "metadata": {},
   "outputs": [
    {
     "data": {
      "text/html": [
       "<div>\n",
       "<style>\n",
       "    .dataframe thead tr:only-child th {\n",
       "        text-align: right;\n",
       "    }\n",
       "\n",
       "    .dataframe thead th {\n",
       "        text-align: left;\n",
       "    }\n",
       "\n",
       "    .dataframe tbody tr th {\n",
       "        vertical-align: top;\n",
       "    }\n",
       "</style>\n",
       "<table border=\"1\" class=\"dataframe\">\n",
       "  <thead>\n",
       "    <tr style=\"text-align: right;\">\n",
       "      <th></th>\n",
       "      <th>game_id</th>\n",
       "      <th>totalscore</th>\n",
       "    </tr>\n",
       "  </thead>\n",
       "  <tbody>\n",
       "    <tr>\n",
       "      <th>0</th>\n",
       "      <td>830</td>\n",
       "      <td>10.0</td>\n",
       "    </tr>\n",
       "    <tr>\n",
       "      <th>1</th>\n",
       "      <td>276</td>\n",
       "      <td>9.2</td>\n",
       "    </tr>\n",
       "    <tr>\n",
       "      <th>2</th>\n",
       "      <td>823</td>\n",
       "      <td>9.2</td>\n",
       "    </tr>\n",
       "    <tr>\n",
       "      <th>3</th>\n",
       "      <td>21</td>\n",
       "      <td>8.3</td>\n",
       "    </tr>\n",
       "    <tr>\n",
       "      <th>4</th>\n",
       "      <td>57</td>\n",
       "      <td>8.3</td>\n",
       "    </tr>\n",
       "  </tbody>\n",
       "</table>\n",
       "</div>"
      ],
      "text/plain": [
       "   game_id  totalscore\n",
       "0      830        10.0\n",
       "1      276         9.2\n",
       "2      823         9.2\n",
       "3       21         8.3\n",
       "4       57         8.3"
      ]
     },
     "execution_count": 5,
     "metadata": {},
     "output_type": "execute_result"
    }
   ],
   "source": [
    "def range_scale(val):\n",
    "    new_val = val/df_score_per_game['totalscore'].max()\n",
    "    if new_val < 0.1:\n",
    "        new_val = 0.1\n",
    "        return new_val\n",
    "    else:\n",
    "        return np.round(new_val, decimals=2)\n",
    "    \n",
    "df['totalscore'] = df['team1score'] + df['team2score']\n",
    "df_score_per_game = df.groupby('game_id')['totalscore'].max().sort_values(ascending=False)\n",
    "df_score_per_game = pd.DataFrame(df_score_per_game)\n",
    "score_range = df_score_per_game['totalscore'].max() - df_score_per_game['totalscore'].min()\n",
    "action = df_score_per_game['totalscore'].astype(float).map(range_scale) * 10\n",
    "action = pd.DataFrame(action)\n",
    "action.reset_index(inplace=True)\n",
    "action.head()"
   ]
  },
  {
   "cell_type": "markdown",
   "metadata": {},
   "source": [
    "## Identify close games\n",
    "\n",
    "Games that are closer (e.g. more ties per game) get a higher game excitement score.\n"
   ]
  },
  {
   "cell_type": "code",
   "execution_count": 1,
   "metadata": {},
   "outputs": [
    {
     "ename": "NameError",
     "evalue": "name 'df' is not defined",
     "output_type": "error",
     "traceback": [
      "\u001b[0;31m---------------------------------------------------------------------------\u001b[0m",
      "\u001b[0;31mNameError\u001b[0m                                 Traceback (most recent call last)",
      "\u001b[0;32m<ipython-input-1-e1e558d5ead8>\u001b[0m in \u001b[0;36m<module>\u001b[0;34m()\u001b[0m\n\u001b[1;32m      1\u001b[0m \u001b[0;31m#Create a mask column to check if there is a tie in score between Team 1 and Team 2\u001b[0m\u001b[0;34m\u001b[0m\u001b[0;34m\u001b[0m\u001b[0m\n\u001b[0;32m----> 2\u001b[0;31m \u001b[0mdf\u001b[0m\u001b[0;34m[\u001b[0m\u001b[0;34m'tie'\u001b[0m\u001b[0;34m]\u001b[0m \u001b[0;34m=\u001b[0m \u001b[0mdf\u001b[0m\u001b[0;34m[\u001b[0m\u001b[0;34m'team1score'\u001b[0m\u001b[0;34m]\u001b[0m \u001b[0;34m==\u001b[0m \u001b[0mdf\u001b[0m\u001b[0;34m[\u001b[0m\u001b[0;34m'team2score'\u001b[0m\u001b[0;34m]\u001b[0m\u001b[0;34m\u001b[0m\u001b[0m\n\u001b[0m\u001b[1;32m      3\u001b[0m \u001b[0;34m\u001b[0m\u001b[0m\n\u001b[1;32m      4\u001b[0m \u001b[0;31m#Count the highest number of ties within each game\u001b[0m\u001b[0;34m\u001b[0m\u001b[0;34m\u001b[0m\u001b[0m\n\u001b[1;32m      5\u001b[0m \u001b[0mtie_true\u001b[0m \u001b[0;34m=\u001b[0m \u001b[0mdf\u001b[0m\u001b[0;34m[\u001b[0m\u001b[0;34m'tie'\u001b[0m\u001b[0;34m]\u001b[0m \u001b[0;34m==\u001b[0m \u001b[0mTrue\u001b[0m\u001b[0;34m\u001b[0m\u001b[0m\n",
      "\u001b[0;31mNameError\u001b[0m: name 'df' is not defined"
     ]
    }
   ],
   "source": [
    "#Create a mask column to check if there is a tie in score between Team 1 and Team 2\n",
    "df['tie'] = df['team1score'] == df['team2score']\n",
    "\n",
    "#Count the highest number of ties within each game\n",
    "tie_true = df['tie'] == True\n",
    "df_tie_true = df[tie_true].groupby('game_id')['tie'].agg(['count']).sort_values(['count'], ascending=False)\n",
    "df_tie_true.head(10)\n",
    "\n",
    "#Assign a value of 0 to games with no ties\n",
    "tie_false = df['tie'] == False\n",
    "df_tie_false = df[tie_false].drop_duplicates('game_id')\n",
    "df_tie_false['count'] = 0\n",
    "\n",
    "#Combine the df_tie_false with df_tie_true to get a new df of the number of ties per game\n",
    "df_tie = pd.concat([df_tie_true['count'], df_tie_false['count']])\n",
    "df_tie = pd.DataFrame(df_tie, columns=['count'])\n",
    "df_tie['tiesscore'] = (df_tie['count']/3. * 9.) +1.\n",
    "df_tie.reset_index(inplace=True)\n",
    "df_tie\n"
   ]
  },
  {
   "cell_type": "markdown",
   "metadata": {},
   "source": [
    "## Identify the star players"
   ]
  },
  {
   "cell_type": "code",
   "execution_count": 10,
   "metadata": {},
   "outputs": [
    {
     "data": {
      "text/html": [
       "<div>\n",
       "<style>\n",
       "    .dataframe thead tr:only-child th {\n",
       "        text-align: right;\n",
       "    }\n",
       "\n",
       "    .dataframe thead th {\n",
       "        text-align: left;\n",
       "    }\n",
       "\n",
       "    .dataframe tbody tr th {\n",
       "        vertical-align: top;\n",
       "    }\n",
       "</style>\n",
       "<table border=\"1\" class=\"dataframe\">\n",
       "  <thead>\n",
       "    <tr style=\"text-align: right;\">\n",
       "      <th></th>\n",
       "      <th>0</th>\n",
       "      <th>1</th>\n",
       "    </tr>\n",
       "  </thead>\n",
       "  <tbody>\n",
       "    <tr>\n",
       "      <th>202</th>\n",
       "      <td>MÃ¼ller</td>\n",
       "      <td>15</td>\n",
       "    </tr>\n",
       "    <tr>\n",
       "      <th>346</th>\n",
       "      <td>Ronaldo</td>\n",
       "      <td>11</td>\n",
       "    </tr>\n",
       "    <tr>\n",
       "      <th>214</th>\n",
       "      <td>Klinsmann</td>\n",
       "      <td>10</td>\n",
       "    </tr>\n",
       "    <tr>\n",
       "      <th>150</th>\n",
       "      <td>Seeler</td>\n",
       "      <td>9</td>\n",
       "    </tr>\n",
       "    <tr>\n",
       "      <th>1168</th>\n",
       "      <td>Klose</td>\n",
       "      <td>9</td>\n",
       "    </tr>\n",
       "    <tr>\n",
       "      <th>861</th>\n",
       "      <td>Lato</td>\n",
       "      <td>8</td>\n",
       "    </tr>\n",
       "    <tr>\n",
       "      <th>1060</th>\n",
       "      <td>PelÃ©</td>\n",
       "      <td>8</td>\n",
       "    </tr>\n",
       "    <tr>\n",
       "      <th>217</th>\n",
       "      <td>Jairzinho</td>\n",
       "      <td>8</td>\n",
       "    </tr>\n",
       "    <tr>\n",
       "      <th>758</th>\n",
       "      <td>Rahn</td>\n",
       "      <td>8</td>\n",
       "    </tr>\n",
       "    <tr>\n",
       "      <th>829</th>\n",
       "      <td>Vieri</td>\n",
       "      <td>7</td>\n",
       "    </tr>\n",
       "  </tbody>\n",
       "</table>\n",
       "</div>"
      ],
      "text/plain": [
       "              0   1\n",
       "202     MÃ¼ller  15\n",
       "346     Ronaldo  11\n",
       "214   Klinsmann  10\n",
       "150      Seeler   9\n",
       "1168      Klose   9\n",
       "861        Lato   8\n",
       "1060      PelÃ©   8\n",
       "217   Jairzinho   8\n",
       "758        Rahn   8\n",
       "829       Vieri   7"
      ]
     },
     "execution_count": 10,
     "metadata": {},
     "output_type": "execute_result"
    }
   ],
   "source": [
    "unique_player = df[['game_id','player']].groupby('game_id')['player'].unique()\n",
    "count_ud = {}\n",
    "for unique in unique_player:\n",
    "    for u in unique:\n",
    "        if u in count_ud.keys():\n",
    "            count_ud[u] += 1\n",
    "        else:\n",
    "            count_ud[u] = 1\n",
    "count_pdf = pd.DataFrame(count_ud.items())\n",
    "count_pdf = count_pdf.sort_values(1, ascending=False)\n",
    "count_pdf.head(10)"
   ]
  },
  {
   "cell_type": "code",
   "execution_count": 11,
   "metadata": {
    "collapsed": true
   },
   "outputs": [],
   "source": [
    "count_pdf = count_pdf.sort_values(1, ascending=False).reset_index(drop=True)\n",
    "count_pdf['score']=0\n",
    "count_pdf.rename(columns={0:'player', 1:'match_with_score'}, inplace=True)\n",
    "for i in range(10):\n",
    "    count_pdf.loc[i,'score'] = 10-i\n",
    "df['player_score'] = df['player'].apply(lambda x: count_pdf.loc[count_pdf['player'] == x,'score'].iloc[0])\n",
    "topten = df[['game_id','player_score']].groupby('game_id').sum().reset_index(drop=True).sort_values('player_score', ascending=False)"
   ]
  },
  {
   "cell_type": "code",
   "execution_count": 12,
   "metadata": {},
   "outputs": [
    {
     "data": {
      "text/html": [
       "<div>\n",
       "<style>\n",
       "    .dataframe thead tr:only-child th {\n",
       "        text-align: right;\n",
       "    }\n",
       "\n",
       "    .dataframe thead th {\n",
       "        text-align: left;\n",
       "    }\n",
       "\n",
       "    .dataframe tbody tr th {\n",
       "        vertical-align: top;\n",
       "    }\n",
       "</style>\n",
       "<table border=\"1\" class=\"dataframe\">\n",
       "  <thead>\n",
       "    <tr style=\"text-align: right;\">\n",
       "      <th></th>\n",
       "      <th>index</th>\n",
       "      <th>player_score</th>\n",
       "      <th>star_score</th>\n",
       "    </tr>\n",
       "  </thead>\n",
       "  <tbody>\n",
       "    <tr>\n",
       "      <th>0</th>\n",
       "      <td>492</td>\n",
       "      <td>30</td>\n",
       "      <td>10.0</td>\n",
       "    </tr>\n",
       "    <tr>\n",
       "      <th>1</th>\n",
       "      <td>488</td>\n",
       "      <td>27</td>\n",
       "      <td>9.1</td>\n",
       "    </tr>\n",
       "    <tr>\n",
       "      <th>2</th>\n",
       "      <td>548</td>\n",
       "      <td>26</td>\n",
       "      <td>8.8</td>\n",
       "    </tr>\n",
       "    <tr>\n",
       "      <th>3</th>\n",
       "      <td>555</td>\n",
       "      <td>22</td>\n",
       "      <td>7.6</td>\n",
       "    </tr>\n",
       "    <tr>\n",
       "      <th>4</th>\n",
       "      <td>501</td>\n",
       "      <td>20</td>\n",
       "      <td>7.0</td>\n",
       "    </tr>\n",
       "  </tbody>\n",
       "</table>\n",
       "</div>"
      ],
      "text/plain": [
       "   index  player_score  star_score\n",
       "0    492            30        10.0\n",
       "1    488            27         9.1\n",
       "2    548            26         8.8\n",
       "3    555            22         7.6\n",
       "4    501            20         7.0"
      ]
     },
     "execution_count": 12,
     "metadata": {},
     "output_type": "execute_result"
    }
   ],
   "source": [
    "topten.reset_index(inplace=True)\n",
    "topten['star_score'] = (topten['player_score']/30.*9.) + 1.\n",
    "\n",
    "topten.head()"
   ]
  },
  {
   "cell_type": "code",
   "execution_count": 13,
   "metadata": {},
   "outputs": [
    {
     "data": {
      "text/html": [
       "<div>\n",
       "<style>\n",
       "    .dataframe thead tr:only-child th {\n",
       "        text-align: right;\n",
       "    }\n",
       "\n",
       "    .dataframe thead th {\n",
       "        text-align: left;\n",
       "    }\n",
       "\n",
       "    .dataframe tbody tr th {\n",
       "        vertical-align: top;\n",
       "    }\n",
       "</style>\n",
       "<table border=\"1\" class=\"dataframe\">\n",
       "  <thead>\n",
       "    <tr style=\"text-align: right;\">\n",
       "      <th></th>\n",
       "      <th>index</th>\n",
       "      <th>player_score</th>\n",
       "      <th>star_score</th>\n",
       "    </tr>\n",
       "  </thead>\n",
       "  <tbody>\n",
       "    <tr>\n",
       "      <th>704</th>\n",
       "      <td>242</td>\n",
       "      <td>0</td>\n",
       "      <td>1.0</td>\n",
       "    </tr>\n",
       "    <tr>\n",
       "      <th>705</th>\n",
       "      <td>243</td>\n",
       "      <td>0</td>\n",
       "      <td>1.0</td>\n",
       "    </tr>\n",
       "    <tr>\n",
       "      <th>706</th>\n",
       "      <td>244</td>\n",
       "      <td>0</td>\n",
       "      <td>1.0</td>\n",
       "    </tr>\n",
       "    <tr>\n",
       "      <th>707</th>\n",
       "      <td>245</td>\n",
       "      <td>0</td>\n",
       "      <td>1.0</td>\n",
       "    </tr>\n",
       "    <tr>\n",
       "      <th>708</th>\n",
       "      <td>354</td>\n",
       "      <td>0</td>\n",
       "      <td>1.0</td>\n",
       "    </tr>\n",
       "  </tbody>\n",
       "</table>\n",
       "</div>"
      ],
      "text/plain": [
       "     index  player_score  star_score\n",
       "704    242             0         1.0\n",
       "705    243             0         1.0\n",
       "706    244             0         1.0\n",
       "707    245             0         1.0\n",
       "708    354             0         1.0"
      ]
     },
     "execution_count": 13,
     "metadata": {},
     "output_type": "execute_result"
    }
   ],
   "source": [
    "topten.tail()"
   ]
  },
  {
   "cell_type": "markdown",
   "metadata": {},
   "source": [
    "## Calculate weighted game excitement score"
   ]
  },
  {
   "cell_type": "code",
   "execution_count": 14,
   "metadata": {
    "collapsed": true
   },
   "outputs": [],
   "source": [
    "excitement = pd.merge(action, df_tie, left_on='game_id', right_on='index')\n",
    "excitement.drop(['index', 'count'], axis=1, inplace=True)\n",
    "excitement = pd.merge(excitement, topten, left_on='game_id', right_on='index')\n",
    "excitement.drop(['index', 'player_score'], axis=1, inplace=True)"
   ]
  },
  {
   "cell_type": "code",
   "execution_count": 15,
   "metadata": {},
   "outputs": [
    {
     "data": {
      "text/html": [
       "<div>\n",
       "<style>\n",
       "    .dataframe thead tr:only-child th {\n",
       "        text-align: right;\n",
       "    }\n",
       "\n",
       "    .dataframe thead th {\n",
       "        text-align: left;\n",
       "    }\n",
       "\n",
       "    .dataframe tbody tr th {\n",
       "        vertical-align: top;\n",
       "    }\n",
       "</style>\n",
       "<table border=\"1\" class=\"dataframe\">\n",
       "  <thead>\n",
       "    <tr style=\"text-align: right;\">\n",
       "      <th></th>\n",
       "      <th>game_id</th>\n",
       "      <th>totalscore</th>\n",
       "      <th>tiesscore</th>\n",
       "      <th>star_score</th>\n",
       "    </tr>\n",
       "  </thead>\n",
       "  <tbody>\n",
       "    <tr>\n",
       "      <th>0</th>\n",
       "      <td>276</td>\n",
       "      <td>9.2</td>\n",
       "      <td>10.0</td>\n",
       "      <td>1.0</td>\n",
       "    </tr>\n",
       "    <tr>\n",
       "      <th>1</th>\n",
       "      <td>21</td>\n",
       "      <td>8.3</td>\n",
       "      <td>10.0</td>\n",
       "      <td>1.0</td>\n",
       "    </tr>\n",
       "    <tr>\n",
       "      <th>2</th>\n",
       "      <td>57</td>\n",
       "      <td>8.3</td>\n",
       "      <td>1.0</td>\n",
       "      <td>1.0</td>\n",
       "    </tr>\n",
       "    <tr>\n",
       "      <th>3</th>\n",
       "      <td>211</td>\n",
       "      <td>7.5</td>\n",
       "      <td>1.0</td>\n",
       "      <td>1.0</td>\n",
       "    </tr>\n",
       "    <tr>\n",
       "      <th>4</th>\n",
       "      <td>51</td>\n",
       "      <td>7.5</td>\n",
       "      <td>4.0</td>\n",
       "      <td>1.0</td>\n",
       "    </tr>\n",
       "  </tbody>\n",
       "</table>\n",
       "</div>"
      ],
      "text/plain": [
       "   game_id  totalscore  tiesscore  star_score\n",
       "0      276         9.2       10.0         1.0\n",
       "1       21         8.3       10.0         1.0\n",
       "2       57         8.3        1.0         1.0\n",
       "3      211         7.5        1.0         1.0\n",
       "4       51         7.5        4.0         1.0"
      ]
     },
     "execution_count": 15,
     "metadata": {},
     "output_type": "execute_result"
    }
   ],
   "source": [
    "excitement.head()"
   ]
  },
  {
   "cell_type": "code",
   "execution_count": 16,
   "metadata": {},
   "outputs": [
    {
     "data": {
      "text/html": [
       "<div>\n",
       "<style>\n",
       "    .dataframe thead tr:only-child th {\n",
       "        text-align: right;\n",
       "    }\n",
       "\n",
       "    .dataframe thead th {\n",
       "        text-align: left;\n",
       "    }\n",
       "\n",
       "    .dataframe tbody tr th {\n",
       "        vertical-align: top;\n",
       "    }\n",
       "</style>\n",
       "<table border=\"1\" class=\"dataframe\">\n",
       "  <thead>\n",
       "    <tr style=\"text-align: right;\">\n",
       "      <th></th>\n",
       "      <th>game_id</th>\n",
       "      <th>totalscore</th>\n",
       "      <th>tiesscore</th>\n",
       "      <th>star_score</th>\n",
       "      <th>excitement</th>\n",
       "    </tr>\n",
       "  </thead>\n",
       "  <tbody>\n",
       "    <tr>\n",
       "      <th>0</th>\n",
       "      <td>276</td>\n",
       "      <td>9.2</td>\n",
       "      <td>10.0</td>\n",
       "      <td>1.0</td>\n",
       "      <td>8.78</td>\n",
       "    </tr>\n",
       "    <tr>\n",
       "      <th>1</th>\n",
       "      <td>21</td>\n",
       "      <td>8.3</td>\n",
       "      <td>10.0</td>\n",
       "      <td>1.0</td>\n",
       "      <td>8.42</td>\n",
       "    </tr>\n",
       "    <tr>\n",
       "      <th>18</th>\n",
       "      <td>610</td>\n",
       "      <td>5.8</td>\n",
       "      <td>10.0</td>\n",
       "      <td>1.0</td>\n",
       "      <td>7.42</td>\n",
       "    </tr>\n",
       "    <tr>\n",
       "      <th>35</th>\n",
       "      <td>38</td>\n",
       "      <td>5.0</td>\n",
       "      <td>10.0</td>\n",
       "      <td>1.0</td>\n",
       "      <td>7.10</td>\n",
       "    </tr>\n",
       "    <tr>\n",
       "      <th>22</th>\n",
       "      <td>275</td>\n",
       "      <td>5.0</td>\n",
       "      <td>10.0</td>\n",
       "      <td>1.0</td>\n",
       "      <td>7.10</td>\n",
       "    </tr>\n",
       "  </tbody>\n",
       "</table>\n",
       "</div>"
      ],
      "text/plain": [
       "    game_id  totalscore  tiesscore  star_score  excitement\n",
       "0       276         9.2       10.0         1.0        8.78\n",
       "1        21         8.3       10.0         1.0        8.42\n",
       "18      610         5.8       10.0         1.0        7.42\n",
       "35       38         5.0       10.0         1.0        7.10\n",
       "22      275         5.0       10.0         1.0        7.10"
      ]
     },
     "execution_count": 16,
     "metadata": {},
     "output_type": "execute_result"
    }
   ],
   "source": [
    "# calculate weighted excitement score\n",
    "excitement['excitement'] = excitement['totalscore']*.4 + excitement['tiesscore']*.5 + excitement['star_score']*.1\n",
    "excitement.sort_values('excitement', ascending=False, inplace=True)\n",
    "excitement.head()"
   ]
  },
  {
   "cell_type": "code",
   "execution_count": 17,
   "metadata": {},
   "outputs": [
    {
     "data": {
      "text/html": [
       "<div>\n",
       "<style>\n",
       "    .dataframe thead tr:only-child th {\n",
       "        text-align: right;\n",
       "    }\n",
       "\n",
       "    .dataframe thead th {\n",
       "        text-align: left;\n",
       "    }\n",
       "\n",
       "    .dataframe tbody tr th {\n",
       "        vertical-align: top;\n",
       "    }\n",
       "</style>\n",
       "<table border=\"1\" class=\"dataframe\">\n",
       "  <thead>\n",
       "    <tr style=\"text-align: right;\">\n",
       "      <th></th>\n",
       "      <th>game_id</th>\n",
       "      <th>totalscore</th>\n",
       "      <th>tiesscore</th>\n",
       "      <th>star_score</th>\n",
       "      <th>excitement</th>\n",
       "    </tr>\n",
       "  </thead>\n",
       "  <tbody>\n",
       "    <tr>\n",
       "      <th>379</th>\n",
       "      <td>598</td>\n",
       "      <td>1.0</td>\n",
       "      <td>1.0</td>\n",
       "      <td>1.0</td>\n",
       "      <td>1.0</td>\n",
       "    </tr>\n",
       "    <tr>\n",
       "      <th>380</th>\n",
       "      <td>683</td>\n",
       "      <td>1.0</td>\n",
       "      <td>1.0</td>\n",
       "      <td>1.0</td>\n",
       "      <td>1.0</td>\n",
       "    </tr>\n",
       "    <tr>\n",
       "      <th>381</th>\n",
       "      <td>674</td>\n",
       "      <td>1.0</td>\n",
       "      <td>1.0</td>\n",
       "      <td>1.0</td>\n",
       "      <td>1.0</td>\n",
       "    </tr>\n",
       "    <tr>\n",
       "      <th>382</th>\n",
       "      <td>668</td>\n",
       "      <td>1.0</td>\n",
       "      <td>1.0</td>\n",
       "      <td>1.0</td>\n",
       "      <td>1.0</td>\n",
       "    </tr>\n",
       "    <tr>\n",
       "      <th>405</th>\n",
       "      <td>373</td>\n",
       "      <td>1.0</td>\n",
       "      <td>1.0</td>\n",
       "      <td>1.0</td>\n",
       "      <td>1.0</td>\n",
       "    </tr>\n",
       "  </tbody>\n",
       "</table>\n",
       "</div>"
      ],
      "text/plain": [
       "     game_id  totalscore  tiesscore  star_score  excitement\n",
       "379      598         1.0        1.0         1.0         1.0\n",
       "380      683         1.0        1.0         1.0         1.0\n",
       "381      674         1.0        1.0         1.0         1.0\n",
       "382      668         1.0        1.0         1.0         1.0\n",
       "405      373         1.0        1.0         1.0         1.0"
      ]
     },
     "execution_count": 17,
     "metadata": {},
     "output_type": "execute_result"
    }
   ],
   "source": [
    "excitement.tail()"
   ]
  },
  {
   "cell_type": "markdown",
   "metadata": {},
   "source": [
    "## Identify the most exciting part of match\n",
    "\n",
    "Assume most exciting part of match is when most goals are scored"
   ]
  },
  {
   "cell_type": "code",
   "execution_count": 18,
   "metadata": {},
   "outputs": [
    {
     "data": {
      "text/plain": [
       "game_id           int64\n",
       "minute          float64\n",
       "player           object\n",
       "team1score        int64\n",
       "team2score        int64\n",
       "totalscore        int64\n",
       "tie                bool\n",
       "player_score      int64\n",
       "dtype: object"
      ]
     },
     "execution_count": 18,
     "metadata": {},
     "output_type": "execute_result"
    }
   ],
   "source": [
    "dfh= df.copy()\n",
    "\n",
    "# There are + in minute col. at 90+, 45+ and 120+\n",
    "# https://www.washingtonpost.com/news/fancy-stats/wp/2014/06/12/stoppage-time-in-soccer-how-it-works-and-what-it-means/?utm_term=.afacfa0de718\n",
    "# the plus is when a goal happens during stoppage time -> arbitiarily assign a 0.5 to those so we can identify them later\n",
    "\n",
    "dfh['minute'].replace('45+', '45.5', inplace=True)\n",
    "dfh['minute'].replace('90+', '90.5', inplace=True)\n",
    "dfh['minute'].replace('120+', '120.5', inplace=True)\n",
    "dfh['minute']= dfh['minute'].astype('float')\n",
    "dfh.dtypes"
   ]
  },
  {
   "cell_type": "code",
   "execution_count": 19,
   "metadata": {},
   "outputs": [
    {
     "data": {
      "image/png": "[encoded data removed]",
      "text/plain": [
       "<matplotlib.figure.Figure at 0xf6f0908>"
      ]
     },
     "metadata": {},
     "output_type": "display_data"
    }
   ],
   "source": [
    "fig = plt.figure(figsize=(15,7))\n",
    "ax = fig.gca()\n",
    "\n",
    "sns.distplot(dfh['minute'], bins=24)\n",
    "_ = plt.xlabel('minute')\n",
    "_ = plt.ylabel('count of goals')\n",
    "_ = plt.title('Number of goals scored at minute in game')"
   ]
  },
  {
   "cell_type": "markdown",
   "metadata": {},
   "source": [
    "## Pricing Mechanism:\n",
    "\n"
   ]
  },
  {
   "cell_type": "code",
   "execution_count": 21,
   "metadata": {},
   "outputs": [
    {
     "data": {
      "text/plain": [
       "5.010600828525497"
      ]
     },
     "execution_count": 21,
     "metadata": {},
     "output_type": "execute_result"
    }
   ],
   "source": [
    "# define function to have pricing \n",
    "def pricing(excitement, slotnum=1):\n",
    "    \"\"\"given excitement score of game (1-10 scale, 10 most exciting), advert num (1=before, 2=halftime, 3=after)\n",
    "    return advert price per minute\"\"\"\n",
    "    assert 1 <= slotnum <= 3\n",
    "    p = 2.5\n",
    "    price = ((excitement**p)/(10.**p) * 7.5) + 0.5\n",
    "    \n",
    "    # adjust for slot\n",
    "    if slotnum ==2:\n",
    "        price = price *.9\n",
    "    elif slotnum ==1:\n",
    "        price = price * .8\n",
    "    return price\n",
    "    \n",
    "pricing(9, 1)"
   ]
  },
  {
   "cell_type": "code",
   "execution_count": 22,
   "metadata": {},
   "outputs": [
    {
     "data": {
      "image/png": "[encoded data removed]",
      "text/plain": [
       "<matplotlib.figure.Figure at 0xfa3d358>"
      ]
     },
     "metadata": {},
     "output_type": "display_data"
    }
   ],
   "source": [
    "# pricing mechanism\n",
    "# Assume max possible price is $8M and min possible price is $0.5M\n",
    "price = pd.DataFrame({'Score': range(1,11)})\n",
    "price['Before Game'] = [pricing(x,1) for x in price['Score']]\n",
    "price['During Game'] = [pricing(x,2) for x in price['Score']]\n",
    "price['After Game'] = [pricing(x,3) for x in price['Score']]\n",
    "\n",
    "fig = plt.figure(figsize=(10, 7))\n",
    "ax = fig.gca()\n",
    "\n",
    "price.plot(x='Score', ax=ax)\n",
    "ax = plt.xlabel('Game Excitement Score')\n",
    "ax = plt.ylabel('Advert Price per Minute ($M)')\n",
    "ax = plt.title('Advert Pricing Structure')\n",
    "\n"
   ]
  },
  {
   "cell_type": "markdown",
   "metadata": {},
   "source": [
    "## Sponsorship:\n",
    "\n",
    "Target top 10 players."
   ]
  }
 ],
 "metadata": {
  "kernelspec": {
   "display_name": "Python 2",
   "language": "python",
   "name": "python2"
  },
  "language_info": {
   "codemirror_mode": {
    "name": "ipython",
    "version": 2
   },
   "file_extension": ".py",
   "mimetype": "text/x-python",
   "name": "python",
   "nbconvert_exporter": "python",
   "pygments_lexer": "ipython2",
   "version": "2.7.11"
  }
 },
 "nbformat": 4,
 "nbformat_minor": 2
}
