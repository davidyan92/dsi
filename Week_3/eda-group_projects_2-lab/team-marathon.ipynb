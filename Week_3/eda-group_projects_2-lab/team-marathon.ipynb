{
 "cells": [
  {
   "cell_type": "markdown",
   "metadata": {},
   "source": [
    "# Team Marathon\n",
    "\n",
    "---\n",
    "\n",
    "The overlords at the Marathon Planning Committee have petitioned a group of DSI students to help decide the best future sites to host marathons.  The committee believes that people who choose to attend the events are drawn to the challenge and competitive aspects as the core value (harder marathons == better value).  However, a small contingency within the group believe that the \"spirit\" of the event, it's potential for spectatorship, determines the value (better spectacle == better value).\n",
    "\n",
    "**Goals:**\n",
    "- Suggest qualities of high performing events. \n",
    "    - Engineer new features / metrics to evaluate high performance.\n",
    "    - Keep in mind the goal of the committee is to use these metrics to decide future sites for events.\n",
    "- Settle the dispute within the committee about the value of challenge vs popularity.\n",
    "    - Which is more important?\n",
    "    - Are they valuable for different reasons?\n",
    "  \n",
    "**Presentation requirements:**\n",
    "- At least 75% of the presentation must address a non-technical audience.\n",
    "- Someone who hasn't presented yet must take lead on presentation."
   ]
  },
  {
   "cell_type": "code",
   "execution_count": 1,
   "metadata": {
    "collapsed": true
   },
   "outputs": [],
   "source": [
    "import pandas as pd\n",
    "import numpy as np\n",
    "import seaborn as sns\n",
    "\n",
    "%matplotlib inline\n",
    "\n",
    "df = pd.read_csv(\"./datasets/Winners.csv\")"
   ]
  },
  {
   "cell_type": "code",
   "execution_count": null,
   "metadata": {
    "collapsed": true
   },
   "outputs": [],
   "source": []
  }
 ],
 "metadata": {
  "kernelspec": {
   "display_name": "Python 2",
   "language": "python",
   "name": "python2"
  },
  "language_info": {
   "codemirror_mode": {
    "name": "ipython",
    "version": 2
   },
   "file_extension": ".py",
   "mimetype": "text/x-python",
   "name": "python",
   "nbconvert_exporter": "python",
   "pygments_lexer": "ipython2",
   "version": "2.7.13"
  }
 },
 "nbformat": 4,
 "nbformat_minor": 2
}
