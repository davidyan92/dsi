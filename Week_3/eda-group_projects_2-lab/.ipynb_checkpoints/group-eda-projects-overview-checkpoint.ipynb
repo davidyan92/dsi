{
 "cells": [
  {
   "cell_type": "markdown",
   "metadata": {},
   "source": [
    "<img src=\"http://imgur.com/1ZcRyrc.png\" style=\"float: left; margin: 20px; height: 55px\">\n",
    "\n",
    "## Group EDA Projects and Presentations II\n",
    "\n",
    "_Authors: Dave Yerrington (SF)_\n",
    "\n",
    "---\n",
    "\n",
    "<br>\n",
    "<img src=\"https://snag.gy/LZToF2.jpg\" style=\"width: 500px\">\n",
    "<br>\n",
    "\n",
    "These group EDA projects are focused on presenting findings at a high level to a non-technical audience. The timeframe to perform the EDA and develop the presentations are limited, so time-boxing your work is critical. Make sure that you give yourself enough time to develop a compelling presentation to give to your classmates.\n",
    "\n",
    "Please focus on the provided goals. How achievable are they? Give numeric evidence for your findings and arguments. Not everything is achievable, so it's important to explain *why* to an audience that doesn't know anything about data analysis.  Specifically, in the event that a goal can't be achieved, explain why in simple language and back this reasoning up with measurable details.\n",
    "\n",
    "It's also important to address your approach to the problem to the class audience. A notebook presentation is fine for a technical report, but because your priority is convincing a non-technical audience you should strongly consider making a more formal and polished slideshow.  Keep in mind that while explaining your code can still be relevant, **frame everything you present in terms of the audience and the goals**.  If what you're choosing to present isn't relevant or necessary please consider ommitting those details.\n"
   ]
  },
  {
   "cell_type": "markdown",
   "metadata": {},
   "source": [
    "### Group 1: Adult Education\n",
    "\n",
    "---\n",
    "\n",
    "You are a member of the data science department at a private school. The marketing department has approached us to help write a series of blog posts that can help sell the value proposition of the school.  Secondarily, business development is very interested in developing online products in emerging markets.\n",
    "\n",
    "[See the Adult Education notebook for more detail and instructions.](./team-adult-education.ipynb)"
   ]
  },
  {
   "cell_type": "markdown",
   "metadata": {},
   "source": [
    "### Group 2: FIFA\n",
    "\n",
    "---\n",
    "\n",
    "You are working for an advertising analytics consulting company.  Your client, a name brand television network, needs help deciding how to re-formulate the pricing structure for new customers, but also incentivize existing clients to convert to new partnerships sponsors for teams and players.\n",
    "\n",
    "[See the FIFA notebook for more detail and instructions.](./team-fifa.ipynb)"
   ]
  },
  {
   "cell_type": "markdown",
   "metadata": {},
   "source": [
    "### Group 3: Mobile Madness\n",
    "\n",
    "---\n",
    "\n",
    "You are on the data science department of a mobile device company. In an effort to extend account lifetime of existing customers, we need to develop targeted A/B experiments. In order to do that efficiently, we need to have a better degree of certainty about which customers are likely to to \"churn\" and why.\n",
    "\n",
    "[See the Mobile Madness notebook for more detail and instructions.](./team-mobile-madness.ipynb)"
   ]
  },
  {
   "cell_type": "markdown",
   "metadata": {},
   "source": [
    "### Group 4: Marathon\n",
    "\n",
    "The overlords at the Marathon Planning Committee have petitioned a group of DSI students to help decide the best future sites to host marathons.  The committee believes that people who choose to attend the events are drawn to the challenge and competitive aspects as the core value (harder marathons == better value).  However, a small contingency within the group believe that the \"spirit\" of the event, it's potential for spectatorship, determines the value (better spectacle == better value).\n",
    "\n",
    "[See the Marathon notebook for more detail and instructions.](./team-marathon.ipynb)"
   ]
  },
  {
   "cell_type": "code",
   "execution_count": null,
   "metadata": {
    "collapsed": true
   },
   "outputs": [],
   "source": []
  }
 ],
 "metadata": {
  "kernelspec": {
   "display_name": "Python 2",
   "language": "python",
   "name": "python2"
  },
  "language_info": {
   "codemirror_mode": {
    "name": "ipython",
    "version": 2
   },
   "file_extension": ".py",
   "mimetype": "text/x-python",
   "name": "python",
   "nbconvert_exporter": "python",
   "pygments_lexer": "ipython2",
   "version": "2.7.11"
  }
 },
 "nbformat": 4,
 "nbformat_minor": 2
}
