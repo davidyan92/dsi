{
 "cells": [
  {
   "cell_type": "markdown",
   "metadata": {},
   "source": [
    "# Team Adult Education \n",
    "\n",
    "---\n",
    "\n",
    "You are a member of the data science department at a private school. The marketing department has approached us to help write a series of blog posts that can help sell the value proposition of the school.  Secondarily, business development is very interested in developing online products in emerging markets.\n",
    "\n",
    "**The goals are:**\n",
    "\n",
    "- Describe the areas of highest value within the dataset.\n",
    "- Describe characteristics that you believe target value.\n",
    "- Identify possible markets and demographic characteristics for business development.\n",
    "\n",
    "**Presentation requirements:**\n",
    "\n",
    "- At least 50% of presentation must address a non-technical audience. \n",
    "- Someone who hasn't presented in class yet must take lead on presentation."
   ]
  },
  {
   "cell_type": "code",
   "execution_count": 1,
   "metadata": {
    "collapsed": true
   },
   "outputs": [],
   "source": [
    "import pandas as pd\n",
    "import numpy as np\n",
    "import seaborn as sns\n",
    "\n",
    "%matplotlib inline\n",
    "\n",
    "df = pd.read_csv(\"./datasets/adult.csv\")\n"
   ]
  },
  {
   "cell_type": "code",
   "execution_count": null,
   "metadata": {
    "collapsed": true
   },
   "outputs": [],
   "source": []
  }
 ],
 "metadata": {
  "kernelspec": {
   "display_name": "Python 2",
   "language": "python",
   "name": "python2"
  },
  "language_info": {
   "codemirror_mode": {
    "name": "ipython",
    "version": 2
   },
   "file_extension": ".py",
   "mimetype": "text/x-python",
   "name": "python",
   "nbconvert_exporter": "python",
   "pygments_lexer": "ipython2",
   "version": "2.7.11"
  }
 },
 "nbformat": 4,
 "nbformat_minor": 2
}
