{
 "cells": [
  {
   "cell_type": "code",
   "execution_count": null,
   "metadata": {},
   "outputs": [],
   "source": [
    "# task 1\n",
    "weight = float(input(\"How many pounds does your suitcase weight?\"))\n",
    "if weight > 50:\n",
    "    print(\"Suitcase is over 50lbs!\")\n",
    "else:\n",
    "    print(\"Suitcase is not over 50lbs!\")"
   ]
  },
  {
   "cell_type": "code",
   "execution_count": null,
   "metadata": {},
   "outputs": [],
   "source": [
    "# task 2\n",
    "inputs = False\n",
    "tries = 0\n",
    "while inputs == False and tries < 5:\n",
    "    try:\n",
    "        temperature = float(input('What is the temperature? '))\n",
    "        weather = raw_input('What is the weather? (rain or shine) ')\n",
    "        if temperature > 60 and weather =='rain':\n",
    "            print('Bring an umbrella!')\n",
    "            break\n",
    "        elif temperature <= 60 and weather == 'rain':\n",
    "            print('Bring an umbrella and a jacket!')\n",
    "            break\n",
    "        elif temperature > 60 and weather == 'shine':\n",
    "            print('Wear a T-shirt!')\n",
    "            break\n",
    "        elif temperature <= 60 and weather == 'shine':\n",
    "            print('Bring a jacket!')\n",
    "            break\n",
    "        else:\n",
    "            tries += 1\n",
    "            print('invalid entry! you have ' + str(5-tries) + ' left!')\n",
    "    except:\n",
    "        tries += 1\n",
    "        print('invalid entry! you have ' + str(5-tries) + ' left!')\n",
    "    \n"
   ]
  },
  {
   "cell_type": "code",
   "execution_count": null,
   "metadata": {},
   "outputs": [],
   "source": [
    "# task 3\n",
    "for x in range(16):\n",
    "    print(x)"
   ]
  },
  {
   "cell_type": "code",
   "execution_count": null,
   "metadata": {},
   "outputs": [],
   "source": [
    "# task 4\n",
    "for x in range(16):\n",
    "    if x % 2 != 0:\n",
    "        print(str(x) + ' is odd!')\n",
    "    elif x % 2 == 0:\n",
    "        print(str(x) + ' is even!')"
   ]
  },
  {
   "cell_type": "code",
   "execution_count": null,
   "metadata": {},
   "outputs": [],
   "source": [
    "# task 5\n",
    "for x in range(31):\n",
    "    if x % 3 == 0 and x % 5 != 0:\n",
    "        print(str(x) + ' fizz')\n",
    "    elif x % 5 == 0 and x % 3 != 0:\n",
    "        print(str(x) + ' buzz')\n",
    "    elif x % 3 == 0 and x % 5 == 0:\n",
    "        print(str(x) + ' fizzbuzz')\n",
    "    else:\n",
    "        print(x)"
   ]
  },
  {
   "cell_type": "code",
   "execution_count": 12,
   "metadata": {},
   "outputs": [
    {
     "name": "stdout",
     "output_type": "stream",
     "text": [
      "DUCK\n",
      "RAT\n",
      "BOAR\n",
      "SLUG\n",
      "MAMMOTH\n",
      "GAZELLE\n"
     ]
    }
   ],
   "source": [
    "# task 6\n",
    "animals = ['duck', 'rat', 'boar', 'slug', 'mammoth', 'gazelle']\n",
    "for x in animals:\n",
    "    print(x.upper())"
   ]
  },
  {
   "cell_type": "code",
   "execution_count": 14,
   "metadata": {},
   "outputs": [
    {
     "name": "stdout",
     "output_type": "stream",
     "text": [
      "['Duck', 'Rat', 'Boar', 'Slug', 'Mammoth', 'Gazelle']\n"
     ]
    }
   ],
   "source": [
    "# task 7\n",
    "animals = ['duck', 'rat', 'boar', 'slug', 'mammoth', 'gazelle']\n",
    "animals_modified = [x[0].upper() + x[1:] for x in animals]\n",
    "print(animals_modified)"
   ]
  },
  {
   "cell_type": "code",
   "execution_count": 17,
   "metadata": {},
   "outputs": [
    {
     "name": "stdout",
     "output_type": "stream",
     "text": [
      "duck, number of vowels:1\n",
      "rat, number of vowels:1\n",
      "boar, number of vowels:2\n",
      "slug, number of vowels:1\n",
      "mammoth, number of vowels:2\n",
      "gazelle, number of vowels:3\n"
     ]
    }
   ],
   "source": [
    "# task 8\n",
    "animals = ['duck', 'rat', 'boar', 'slug', 'mammoth', 'gazelle']\n",
    "for x in animals:\n",
    "    count_vowels = x.count('a') + x.count('e') + x.count('i') + x.count('o') + x.count('u')\n",
    "    print(x + ', number of vowels:' + str(count_vowels))\n"
   ]
  },
  {
   "cell_type": "code",
   "execution_count": 21,
   "metadata": {},
   "outputs": [
    {
     "name": "stdout",
     "output_type": "stream",
     "text": [
      "('DAVID', 2)\n"
     ]
    }
   ],
   "source": [
    "# task 9\n",
    "def count_vowels(word):\n",
    "    word_lower = word.lower()\n",
    "    count = word_lower.count('a') + word_lower.count('e') + word_lower.count('i') + word_lower.count('o') + word_lower.count('u')\n",
    "    return word, count\n",
    "\n",
    "test = count_vowels('DAVID')\n",
    "print(test)"
   ]
  },
  {
   "cell_type": "code",
   "execution_count": 23,
   "metadata": {},
   "outputs": [
    {
     "name": "stdout",
     "output_type": "stream",
     "text": [
      "Something went wrong.\n"
     ]
    }
   ],
   "source": [
    "# task 10\n",
    "def triangle_area(height, width):\n",
    "    try:\n",
    "        area = height * width / 2    \n",
    "        return area\n",
    "    except:\n",
    "        return \"Something went wrong.\"\n",
    "\n",
    "test = triangle_area('bye', 2)\n",
    "print(test)"
   ]
  },
  {
   "cell_type": "code",
   "execution_count": 24,
   "metadata": {},
   "outputs": [
    {
     "name": "stdout",
     "output_type": "stream",
     "text": [
      "(1000008, 27778)\n"
     ]
    }
   ],
   "source": [
    "# task 11\n",
    "sentence = \"A MAN KNOCKED ON MY DOOR AND ASKED FOR A SMALL DONATION TOWARDS THE LOCAL SWIMMING POOL SO I GAVE HIM A GLASS OF WATER\"\n",
    "vowel_count = 0\n",
    "iter_count = 0\n",
    "while vowel_count < 1000000:\n",
    "    sentence_lower = sentence.lower()\n",
    "    vowel_count += sentence_lower.count('a') + sentence_lower.count('e') + sentence_lower.count('i') + sentence_lower.count('o') + sentence_lower.count('u')\n",
    "    iter_count += 1\n",
    "\n",
    "print(vowel_count, iter_count)"
   ]
  },
  {
   "cell_type": "code",
   "execution_count": 37,
   "metadata": {},
   "outputs": [
    {
     "name": "stdout",
     "output_type": "stream",
     "text": [
      "['!1', '23.1', '23.4.5', '??12', '.12', '12-12', '-11.1', '0-1', '*12.1', '1000']\n",
      "[-11.1, 0.12, 23.1, 1000.0]\n"
     ]
    }
   ],
   "source": [
    "# task 12\n",
    "corrupted = ['!1', '23.1', '23.4.5', '??12', '.12', '12-12', '-11.1', '0-1', '*12.1', '1000']\n",
    "uncorrupted_list = []\n",
    "for x in corrupted:\n",
    "    try:\n",
    "        x_float = float(x)\n",
    "        uncorrupted_list.append(x_float)\n",
    "        uncorrupted_list.sort()\n",
    "    except:\n",
    "        continue\n",
    "    \n",
    "print(corrupted)\n",
    "print(uncorrupted_list)"
   ]
  },
  {
   "cell_type": "code",
   "execution_count": 33,
   "metadata": {
    "collapsed": true
   },
   "outputs": [],
   "source": [
    "# task 13\n"
   ]
  },
  {
   "cell_type": "code",
   "execution_count": null,
   "metadata": {
    "collapsed": true
   },
   "outputs": [],
   "source": []
  }
 ],
 "metadata": {
  "kernelspec": {
   "display_name": "Python 2",
   "language": "python",
   "name": "python2"
  },
  "language_info": {
   "codemirror_mode": {
    "name": "ipython",
    "version": 2
   },
   "file_extension": ".py",
   "mimetype": "text/x-python",
   "name": "python",
   "nbconvert_exporter": "python",
   "pygments_lexer": "ipython2",
   "version": "2.7.13"
  }
 },
 "nbformat": 4,
 "nbformat_minor": 2
}
