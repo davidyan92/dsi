{
 "cells": [
  {
   "cell_type": "code",
   "execution_count": 329,
   "metadata": {
    "collapsed": true
   },
   "outputs": [],
   "source": [
    "import pandas as pd\n",
    "import numpy as np\n",
    "import matplotlib.pyplot as plt\n",
    "import scipy as sp\n",
    "from sklearn import preprocessing as pp\n",
    "%matplotlib inline\n",
    "%config InlineBackend.figure_format = 'retina'"
   ]
  },
  {
   "cell_type": "code",
   "execution_count": 330,
   "metadata": {
    "collapsed": true
   },
   "outputs": [],
   "source": [
    "# Features are mainly demographic data from onset of survey,\n",
    "# excluding 1 relationship centric feature - 'relationship quality'\n",
    "\n",
    "# Goal is to only use data gathered at the start of the survey, Wave 1,\n",
    "# to try to predict the outcome of partnered respondents, based on respondent and partner demographic data\n",
    "# This allows us to investigate and discover what type of individuals \n",
    "# have better chance of surviving a 6 year relationship"
   ]
  },
  {
   "cell_type": "code",
   "execution_count": 331,
   "metadata": {
    "collapsed": true
   },
   "outputs": [],
   "source": [
    "df_w5 = pd.read_stata('/Users/david.yan/Downloads/HCMST_wave_5_supplement_ver_1.dta')\n",
    "df_w4 = pd.read_stata('/Users/david.yan/Downloads/wave_4_supplement_v1_2.dta')\n",
    "df_w123 = pd.read_stata('/Users/david.yan/Downloads/HCMST_ver_3.04.dta')"
   ]
  },
  {
   "cell_type": "code",
   "execution_count": 332,
   "metadata": {
    "collapsed": true
   },
   "outputs": [],
   "source": [
    "w5_cols = df_w5.columns.tolist()\n",
    "w4_cols = df_w4.columns.tolist()\n",
    "w123_cols = df_w123.columns.tolist()"
   ]
  },
  {
   "cell_type": "code",
   "execution_count": 333,
   "metadata": {},
   "outputs": [
    {
     "name": "stdout",
     "output_type": "stream",
     "text": [
      "78 62 387\n"
     ]
    }
   ],
   "source": [
    "print(len(w5_cols), len(w4_cols), len(w123_cols))"
   ]
  },
  {
   "cell_type": "code",
   "execution_count": 334,
   "metadata": {},
   "outputs": [
    {
     "name": "stdout",
     "output_type": "stream",
     "text": [
      "(4002, 387) (4002, 62) (4002, 78)\n"
     ]
    }
   ],
   "source": [
    "print(df_w123.shape, df_w4.shape, df_w5.shape)"
   ]
  },
  {
   "cell_type": "code",
   "execution_count": 335,
   "metadata": {
    "collapsed": true
   },
   "outputs": [],
   "source": [
    "wave_1_couples = df_w123.loc[(df_w123['qflag'] == 'partnered') & (df_w123['partner_deceased'] == 'not deceased'), 'caseid_new':]"
   ]
  },
  {
   "cell_type": "code",
   "execution_count": 336,
   "metadata": {},
   "outputs": [
    {
     "name": "stdout",
     "output_type": "stream",
     "text": [
      "<class 'pandas.core.frame.DataFrame'>\n",
      "Int64Index: 2981 entries, 0 to 4001\n",
      "Columns: 387 entries, caseid_new to w3_nonmbtiming_month\n",
      "dtypes: category(325), float32(16), float64(39), int32(4), int8(2), object(1)\n",
      "memory usage: 2.1+ MB\n"
     ]
    }
   ],
   "source": [
    "wave_1_couples.info()"
   ]
  },
  {
   "cell_type": "code",
   "execution_count": 337,
   "metadata": {
    "scrolled": true
   },
   "outputs": [
    {
     "data": {
      "text/html": [
       "<div>\n",
       "<style>\n",
       "    .dataframe thead tr:only-child th {\n",
       "        text-align: right;\n",
       "    }\n",
       "\n",
       "    .dataframe thead th {\n",
       "        text-align: left;\n",
       "    }\n",
       "\n",
       "    .dataframe tbody tr th {\n",
       "        vertical-align: top;\n",
       "    }\n",
       "</style>\n",
       "<table border=\"1\" class=\"dataframe\">\n",
       "  <thead>\n",
       "    <tr style=\"text-align: right;\">\n",
       "      <th></th>\n",
       "      <th>caseid_new</th>\n",
       "      <th>weight1</th>\n",
       "      <th>weight2</th>\n",
       "      <th>ppage</th>\n",
       "      <th>ppagecat</th>\n",
       "      <th>ppagect4</th>\n",
       "      <th>ppeduc</th>\n",
       "      <th>ppeducat</th>\n",
       "      <th>ppethm</th>\n",
       "      <th>ppgender</th>\n",
       "      <th>...</th>\n",
       "      <th>w3_mbtiming_year</th>\n",
       "      <th>w3_mbtiming_month</th>\n",
       "      <th>w3_q5</th>\n",
       "      <th>w3_q6</th>\n",
       "      <th>w3_q7</th>\n",
       "      <th>w3_q8</th>\n",
       "      <th>w3_q9</th>\n",
       "      <th>w3_q10</th>\n",
       "      <th>w3_nonmbtiming_year</th>\n",
       "      <th>w3_nonmbtiming_month</th>\n",
       "    </tr>\n",
       "  </thead>\n",
       "  <tbody>\n",
       "    <tr>\n",
       "      <th>22</th>\n",
       "      <td>44486</td>\n",
       "      <td>3581</td>\n",
       "      <td>3581.0</td>\n",
       "      <td>48</td>\n",
       "      <td>45-54</td>\n",
       "      <td>45-59</td>\n",
       "      <td>some college, no degree</td>\n",
       "      <td>some college</td>\n",
       "      <td>black, non-hispanic</td>\n",
       "      <td>female</td>\n",
       "      <td>...</td>\n",
       "      <td>NaN</td>\n",
       "      <td>NaN</td>\n",
       "      <td>NaN</td>\n",
       "      <td>NaN</td>\n",
       "      <td>NaN</td>\n",
       "      <td>NaN</td>\n",
       "      <td>NaN</td>\n",
       "      <td>NaN</td>\n",
       "      <td>NaN</td>\n",
       "      <td>NaN</td>\n",
       "    </tr>\n",
       "    <tr>\n",
       "      <th>73</th>\n",
       "      <td>97195</td>\n",
       "      <td>43431</td>\n",
       "      <td>43431.0</td>\n",
       "      <td>19</td>\n",
       "      <td>18-24</td>\n",
       "      <td>18-29</td>\n",
       "      <td>some college, no degree</td>\n",
       "      <td>some college</td>\n",
       "      <td>white, non-hispanic</td>\n",
       "      <td>male</td>\n",
       "      <td>...</td>\n",
       "      <td>NaN</td>\n",
       "      <td>NaN</td>\n",
       "      <td>yes</td>\n",
       "      <td>no</td>\n",
       "      <td>no, did not marry [xNameP]</td>\n",
       "      <td>NaN</td>\n",
       "      <td>NaN</td>\n",
       "      <td>NaN</td>\n",
       "      <td>NaN</td>\n",
       "      <td>NaN</td>\n",
       "    </tr>\n",
       "    <tr>\n",
       "      <th>97</th>\n",
       "      <td>121515</td>\n",
       "      <td>39909</td>\n",
       "      <td>39909.0</td>\n",
       "      <td>51</td>\n",
       "      <td>45-54</td>\n",
       "      <td>45-59</td>\n",
       "      <td>bachelors degree</td>\n",
       "      <td>bachelor's degree or higher</td>\n",
       "      <td>white, non-hispanic</td>\n",
       "      <td>female</td>\n",
       "      <td>...</td>\n",
       "      <td>NaN</td>\n",
       "      <td>NaN</td>\n",
       "      <td>yes</td>\n",
       "      <td>no</td>\n",
       "      <td>no, did not marry [xNameP]</td>\n",
       "      <td>NaN</td>\n",
       "      <td>NaN</td>\n",
       "      <td>NaN</td>\n",
       "      <td>NaN</td>\n",
       "      <td>NaN</td>\n",
       "    </tr>\n",
       "    <tr>\n",
       "      <th>119</th>\n",
       "      <td>144545</td>\n",
       "      <td>109536</td>\n",
       "      <td>109536.0</td>\n",
       "      <td>54</td>\n",
       "      <td>45-54</td>\n",
       "      <td>45-59</td>\n",
       "      <td>professional or doctorate degree</td>\n",
       "      <td>bachelor's degree or higher</td>\n",
       "      <td>other, non-hispanic</td>\n",
       "      <td>male</td>\n",
       "      <td>...</td>\n",
       "      <td>NaN</td>\n",
       "      <td>NaN</td>\n",
       "      <td>yes</td>\n",
       "      <td>no</td>\n",
       "      <td>no, did not marry [xNameP]</td>\n",
       "      <td>NaN</td>\n",
       "      <td>NaN</td>\n",
       "      <td>NaN</td>\n",
       "      <td>NaN</td>\n",
       "      <td>NaN</td>\n",
       "    </tr>\n",
       "    <tr>\n",
       "      <th>122</th>\n",
       "      <td>147245</td>\n",
       "      <td>69278</td>\n",
       "      <td>69278.0</td>\n",
       "      <td>24</td>\n",
       "      <td>18-24</td>\n",
       "      <td>18-29</td>\n",
       "      <td>high school graduate - high school diploma or ...</td>\n",
       "      <td>high school</td>\n",
       "      <td>white, non-hispanic</td>\n",
       "      <td>male</td>\n",
       "      <td>...</td>\n",
       "      <td>NaN</td>\n",
       "      <td>NaN</td>\n",
       "      <td>yes</td>\n",
       "      <td>yes</td>\n",
       "      <td>no, did not marry [xNameP]</td>\n",
       "      <td>NaN</td>\n",
       "      <td>NaN</td>\n",
       "      <td>NaN</td>\n",
       "      <td>NaN</td>\n",
       "      <td>NaN</td>\n",
       "    </tr>\n",
       "  </tbody>\n",
       "</table>\n",
       "<p>5 rows × 387 columns</p>\n",
       "</div>"
      ],
      "text/plain": [
       "     caseid_new  weight1   weight2 ppage ppagecat ppagect4  \\\n",
       "22        44486     3581    3581.0    48    45-54    45-59   \n",
       "73        97195    43431   43431.0    19    18-24    18-29   \n",
       "97       121515    39909   39909.0    51    45-54    45-59   \n",
       "119      144545   109536  109536.0    54    45-54    45-59   \n",
       "122      147245    69278   69278.0    24    18-24    18-29   \n",
       "\n",
       "                                                ppeduc  \\\n",
       "22                             some college, no degree   \n",
       "73                             some college, no degree   \n",
       "97                                    bachelors degree   \n",
       "119                   professional or doctorate degree   \n",
       "122  high school graduate - high school diploma or ...   \n",
       "\n",
       "                        ppeducat               ppethm ppgender  \\\n",
       "22                  some college  black, non-hispanic   female   \n",
       "73                  some college  white, non-hispanic     male   \n",
       "97   bachelor's degree or higher  white, non-hispanic   female   \n",
       "119  bachelor's degree or higher  other, non-hispanic     male   \n",
       "122                  high school  white, non-hispanic     male   \n",
       "\n",
       "            ...          w3_mbtiming_year  w3_mbtiming_month w3_q5 w3_q6  \\\n",
       "22          ...                       NaN                NaN   NaN   NaN   \n",
       "73          ...                       NaN                NaN   yes    no   \n",
       "97          ...                       NaN                NaN   yes    no   \n",
       "119         ...                       NaN                NaN   yes    no   \n",
       "122         ...                       NaN                NaN   yes   yes   \n",
       "\n",
       "                          w3_q7 w3_q8 w3_q9 w3_q10 w3_nonmbtiming_year  \\\n",
       "22                          NaN   NaN   NaN    NaN                 NaN   \n",
       "73   no, did not marry [xNameP]   NaN   NaN    NaN                 NaN   \n",
       "97   no, did not marry [xNameP]   NaN   NaN    NaN                 NaN   \n",
       "119  no, did not marry [xNameP]   NaN   NaN    NaN                 NaN   \n",
       "122  no, did not marry [xNameP]   NaN   NaN    NaN                 NaN   \n",
       "\n",
       "    w3_nonmbtiming_month  \n",
       "22                   NaN  \n",
       "73                   NaN  \n",
       "97                   NaN  \n",
       "119                  NaN  \n",
       "122                  NaN  \n",
       "\n",
       "[5 rows x 387 columns]"
      ]
     },
     "execution_count": 337,
     "metadata": {},
     "output_type": "execute_result"
    }
   ],
   "source": [
    "# Must make sure all couples in dataset are partnered right from the start\n",
    "cp_index = np.concatenate((w4_breakup.index,w5_breakup.index,survived_couples.index))\n",
    "wave_1_couples.loc[cp_index].head()"
   ]
  },
  {
   "cell_type": "code",
   "execution_count": 338,
   "metadata": {
    "collapsed": true
   },
   "outputs": [],
   "source": [
    "wave_2_couples_broke_up = wave_1_couples.loc[wave_1_couples['w2_broke_up']=='broke up']\n",
    "wave_3_couples_broke_up = wave_1_couples.loc[wave_1_couples['w3_broke_up']=='broke up']\n",
    "w4_breakup = df_w4.loc[df_w4['w4_broke_up']=='broke up']\n",
    "w5_breakup = df_w5.loc[df_w5['w5_broke_up']=='broke up']\n",
    "survived_couples=df_w5.loc[df_w5['w5_broke_up']=='still together']"
   ]
  },
  {
   "cell_type": "code",
   "execution_count": 339,
   "metadata": {
    "collapsed": true
   },
   "outputs": [],
   "source": [
    "w2_breakup_list=wave_2_couples_broke_up['caseid_new'].tolist()\n",
    "w3_breakup_list=wave_3_couples_broke_up['caseid_new'].tolist()\n",
    "w4_breakup_list=w4_breakup['caseid_new'].tolist()\n",
    "w5_breakup_list=w5_breakup['caseid_new'].tolist()\n",
    "survived_couples_list=survived_couples['caseid_new'].tolist()"
   ]
  },
  {
   "cell_type": "code",
   "execution_count": 340,
   "metadata": {},
   "outputs": [
    {
     "name": "stdout",
     "output_type": "stream",
     "text": [
      "503\n",
      "1066\n"
     ]
    }
   ],
   "source": [
    "print(len(w5_breakup_list)+len(w4_breakup_list)+len(w3_breakup_list)+len(w2_breakup_list))\n",
    "print(len(survived_couples_list))"
   ]
  },
  {
   "cell_type": "code",
   "execution_count": 341,
   "metadata": {},
   "outputs": [],
   "source": [
    "breakup_list = np.concatenate((w5_breakup_list,w4_breakup_list,w3_breakup_list,w2_breakup_list), axis=0)\n",
    "together_list = survived_couples_list"
   ]
  },
  {
   "cell_type": "code",
   "execution_count": 342,
   "metadata": {},
   "outputs": [],
   "source": [
    "features = wave_1_couples.loc[:,:'coresident'].columns\n",
    "couple_data = wave_1_couples[features]"
   ]
  },
  {
   "cell_type": "code",
   "execution_count": 343,
   "metadata": {},
   "outputs": [],
   "source": [
    "couple_data.set_index(keys=['caseid_new'], inplace=True)"
   ]
  },
  {
   "cell_type": "code",
   "execution_count": 344,
   "metadata": {},
   "outputs": [],
   "source": [
    "# dropping obviously irrelevant columns\n",
    "cols_to_drop = couple_data.loc[w2_breakup_list,'pphhcomp11_member2_age':'weight_couples_coresident'].columns"
   ]
  },
  {
   "cell_type": "code",
   "execution_count": 345,
   "metadata": {},
   "outputs": [
    {
     "name": "stderr",
     "output_type": "stream",
     "text": [
      "/Users/david.yan/anaconda/lib/python3.6/site-packages/ipykernel_launcher.py:1: SettingWithCopyWarning: \n",
      "A value is trying to be set on a copy of a slice from a DataFrame\n",
      "\n",
      "See the caveats in the documentation: http://pandas.pydata.org/pandas-docs/stable/indexing.html#indexing-view-versus-copy\n",
      "  \"\"\"Entry point for launching an IPython kernel.\n"
     ]
    }
   ],
   "source": [
    "couple_data.drop(labels=cols_to_drop, axis=1, inplace=True)"
   ]
  },
  {
   "cell_type": "code",
   "execution_count": 346,
   "metadata": {},
   "outputs": [],
   "source": [
    "couple_breakup = couple_data.loc[breakup_list,:]\n",
    "couple_together = couple_data.loc[together_list,:]"
   ]
  },
  {
   "cell_type": "code",
   "execution_count": 347,
   "metadata": {},
   "outputs": [
    {
     "name": "stdout",
     "output_type": "stream",
     "text": [
      "(503, 231)\n",
      "(1066, 231)\n"
     ]
    }
   ],
   "source": [
    "print(couple_breakup.shape)\n",
    "print(couple_together.shape)"
   ]
  },
  {
   "cell_type": "code",
   "execution_count": 348,
   "metadata": {},
   "outputs": [],
   "source": [
    "couple_breakup['relationship_outcome_6yrs'] = [1 for x in range(couple_breakup.shape[0])]\n",
    "couple_together['relationship_outcome_6yrs'] = [0 for x in range(couple_together.shape[0])]"
   ]
  },
  {
   "cell_type": "code",
   "execution_count": 349,
   "metadata": {},
   "outputs": [
    {
     "name": "stdout",
     "output_type": "stream",
     "text": [
      "[1]\n",
      "[0]\n"
     ]
    }
   ],
   "source": [
    "print(couple_breakup.relationship_outcome_6yrs.unique())\n",
    "print(couple_together.relationship_outcome_6yrs.unique())"
   ]
  },
  {
   "cell_type": "code",
   "execution_count": 350,
   "metadata": {
    "scrolled": true
   },
   "outputs": [],
   "source": [
    "couple_data = pd.concat([couple_breakup, couple_together], axis=0)"
   ]
  },
  {
   "cell_type": "code",
   "execution_count": 351,
   "metadata": {
    "collapsed": true
   },
   "outputs": [],
   "source": [
    "# drop more unnecessary columns that will not be useful features\n",
    "couple_data.drop(labels=['weight1','weight2'], axis=1, inplace=True)"
   ]
  },
  {
   "cell_type": "code",
   "execution_count": 352,
   "metadata": {},
   "outputs": [],
   "source": [
    "# drop age category columns, already have age continuous column\n",
    "couple_data.drop(labels=['ppagecat','ppagect4'], axis=1, inplace=True)"
   ]
  },
  {
   "cell_type": "code",
   "execution_count": 353,
   "metadata": {},
   "outputs": [],
   "source": [
    "# use education category instead of education\n",
    "couple_data.drop(labels=['ppeduc'], axis=1, inplace=True)"
   ]
  },
  {
   "cell_type": "code",
   "execution_count": 354,
   "metadata": {},
   "outputs": [],
   "source": [
    "# use continuous household income instead of categorical household income\n",
    "couple_data.drop(labels=['ppincimp'], axis=1, inplace=True)"
   ]
  },
  {
   "cell_type": "code",
   "execution_count": 355,
   "metadata": {},
   "outputs": [],
   "source": [
    "# Drop MSA metropolitan statistical area, irrelevancy\n",
    "couple_data.drop(labels=['ppmsacat'], axis=1, inplace=True)"
   ]
  },
  {
   "cell_type": "code",
   "execution_count": 356,
   "metadata": {},
   "outputs": [],
   "source": [
    "# drop ppt01, ppt1317, ppt25, ppt612, features aggregated in children_in_hh\n",
    "couple_data.drop(labels=['ppt01','ppt1317','ppt25','ppt612'], axis=1, inplace=True)"
   ]
  },
  {
   "cell_type": "code",
   "execution_count": 357,
   "metadata": {},
   "outputs": [],
   "source": [
    "# drop ppq14arace, redundant column, there are individual race columns\n",
    "couple_data.drop(labels=['ppq14arace'], axis=1, inplace=True)"
   ]
  },
  {
   "cell_type": "code",
   "execution_count": 358,
   "metadata": {},
   "outputs": [],
   "source": [
    "# drop ppppcmdate_yrmo, pppadate_yrmo, date of survey is irrelevant\n",
    "couple_data.drop(labels=['ppppcmdate_yrmo','pppadate_yrmo'], axis=1, inplace=True)"
   ]
  },
  {
   "cell_type": "code",
   "execution_count": 359,
   "metadata": {},
   "outputs": [],
   "source": [
    "# drop HCMST_main_interview_yrmo, date of interview is irrelevant\n",
    "# drop interview duration, qflag - all partnered\n",
    "couple_data.drop(labels=['HCMST_main_interview_yrmo','duration','qflag'], axis=1, inplace=True)"
   ]
  },
  {
   "cell_type": "code",
   "execution_count": 360,
   "metadata": {
    "collapsed": true
   },
   "outputs": [],
   "source": [
    "# drop papglb_status, same as glbstatus\n",
    "# drop recsource, source of recruitment is irrelevant\n",
    "# drop s1a,s2,q3_codes,q5,q15a1_compressed,q17c,q17d redundant or too many NAs, \n",
    "couple_data.drop(labels=['glbstatus','papglb_status','recsource','s1','s1a','s2','q3_codes','q5','q15a1_compressed','q17c','q17d'], axis=1, inplace=True)"
   ]
  },
  {
   "cell_type": "code",
   "execution_count": 361,
   "metadata": {
    "collapsed": true
   },
   "outputs": [],
   "source": [
    "# drop q18a_1, q18a_2, q18a_3, q18b_codes, q18c_codes, low variance and too many NAs\n",
    "couple_data.drop(labels=['q18a_1','q18a_2','q18a_3','q18b_codes','q18c_codes','q18a_refused'], axis=1, inplace=True)"
   ]
  },
  {
   "cell_type": "code",
   "execution_count": 362,
   "metadata": {
    "collapsed": true
   },
   "outputs": [],
   "source": [
    "# drop q20, q21a_refusal, q21b_refusal,q21c_refusal,q21d_refusal,q21e,q21e_refusal,q24_codes\n",
    "# 'q31_9','q31_other_text_entered','q33_7','q33_other_text_entered',not usable column\n",
    "# q35_codes, q35_text_entered, summary_q24_total\n",
    "couple_data.drop(labels=['q20','q21a_refusal','q21b_refusal','q21c_refusal','q21d_refusal',\n",
    "                        'q21e','q21e_refusal','q24_codes','q31_9','q31_other_text_entered',\n",
    "                        'q33_7','q33_other_text_entered','q35_codes','q35_text_entered',\n",
    "                        'summary_q24_total'], axis=1, inplace=True)"
   ]
  },
  {
   "cell_type": "code",
   "execution_count": 363,
   "metadata": {
    "collapsed": true
   },
   "outputs": [],
   "source": [
    "# drop marrynotreally, marrycountry, civilnotreally, partner_deceased\n",
    "# partner_religion_reclassified, partner_religion_child_reclass, own_religion_child_reclass\n",
    "# q32_internet, how_met_online, potential_partner_gender_recodes, how_long_ago_first_met_cat\n",
    "# duplicated representation of previous columns, too many NA\n",
    "couple_data.drop(labels=['marrynotreally','marrycountry','civilnotreally','partner_deceased',\n",
    "                        'partner_religion_reclassified','partner_religion_child_reclass',\n",
    "                        'own_religion_child_reclass','q32_internet','how_met_online',\n",
    "                        'either_internet','either_internet_adjusted','potential_partner_gender_recodes',\n",
    "                        'how_long_ago_first_met_cat'], axis=1, inplace=True)"
   ]
  },
  {
   "cell_type": "code",
   "execution_count": 364,
   "metadata": {
    "collapsed": true
   },
   "outputs": [],
   "source": [
    "# drop q24_R_friend, q24_P_friend, q24_R_family, q24_P_family, q24_R_neighbor, q24_P_neighbor\n",
    "# q24_R_cowork, q24_P_cowork,papreligion,q13b,respondent_religion_at_16,partner_religion_at_16\n",
    "# q7b, q8b,q30\n",
    "# columns are aggregated into other columns\n",
    "couple_data.drop(labels=['q24_R_friend','q24_P_friend','q24_R_family','q24_P_family','q24_R_neighbor','q24_P_neighbor',\n",
    "                        'q24_R_cowork','q24_P_cowork','papreligion','q13b','respondent_religion_at_16',\n",
    "                        'partner_religion_at_16','q7b','q8b','q30'], axis=1, inplace=True)"
   ]
  },
  {
   "cell_type": "code",
   "execution_count": 365,
   "metadata": {
    "collapsed": true
   },
   "outputs": [],
   "source": [
    "# drop home_country_recode, too many NAs\n",
    "couple_data.drop(labels=['home_country_recode'], axis=1, inplace=True)"
   ]
  },
  {
   "cell_type": "code",
   "execution_count": 368,
   "metadata": {},
   "outputs": [
    {
     "data": {
      "text/plain": [
       "(1569, 154)"
      ]
     },
     "execution_count": 368,
     "metadata": {},
     "output_type": "execute_result"
    }
   ],
   "source": [
    "couple_data.shape"
   ]
  },
  {
   "cell_type": "code",
   "execution_count": 426,
   "metadata": {
    "collapsed": true
   },
   "outputs": [],
   "source": [
    "# Iterate through each series in the dataframe, impute nulls with highest mode, binary values\n",
    "import random\n",
    "sr = random.SystemRandom()\n",
    "\n",
    "def impute_bin_cols(cols):\n",
    "    \n",
    "    for col in cols:\n",
    "        # get number of keys\n",
    "        greater_key = (list(couple_data[col].value_counts().sort_values(ascending=False).to_dict().keys())[0])\n",
    "        greater_counts = couple_data[col].value_counts().to_dict()[greater_key]\n",
    "\n",
    "        if len(couple_data[col].value_counts().sort_values(ascending=False).to_dict().keys()) > 1:\n",
    "            lesser_key = (list(couple_data[col].value_counts().sort_values(ascending=False).to_dict().keys())[1])\n",
    "            lesser_counts = couple_data[col].value_counts().to_dict()[lesser_key]\n",
    "\n",
    "            if greater_counts > lesser_counts:\n",
    "                couple_data[col].fillna(greater_key, inplace=True)\n",
    "            else:\n",
    "                couple_data[col].fillna(sr.choice([greater_key,lesser_key]), inplace=True)\n",
    "        else:\n",
    "            couple_data[col].fillna(greater_key, inplace=True)\n",
    "    \n",
    "    return couple_data[cols].isnull().sum()"
   ]
  },
  {
   "cell_type": "code",
   "execution_count": 515,
   "metadata": {
    "scrolled": true
   },
   "outputs": [
    {
     "data": {
      "text/plain": [
       "relationship_outcome_6yrs           0\n",
       "q17b                                0\n",
       "q23                                 0\n",
       "q21d                                0\n",
       "q21c                                0\n",
       "q21b                                0\n",
       "q21a                                0\n",
       "q19                                 0\n",
       "gender_attraction                   0\n",
       "q16                                 0\n",
       "coresident                          0\n",
       "q14                                 0\n",
       "q13a                                0\n",
       "q12                                 0\n",
       "q11                                 0\n",
       "q10                                 0\n",
       "q9                                  0\n",
       "q8a                                 0\n",
       "q25                                 0\n",
       "q26                                 0\n",
       "q27                                 0\n",
       "q28                                 0\n",
       "q33_5                               0\n",
       "q33_4                               0\n",
       "q33_3                               0\n",
       "q33_2                               0\n",
       "q33_1                               0\n",
       "q32                                 0\n",
       "q31_8                               0\n",
       "q31_7                               0\n",
       "                                   ..\n",
       "q24_church                          0\n",
       "q24_military                        0\n",
       "q24_college                         0\n",
       "q24_school                          0\n",
       "q24_btwn_I_neighbor                 0\n",
       "q24_btwn_I_sig_other                0\n",
       "q24_btwn_I_family                   0\n",
       "q24_btwn_I_friend                   0\n",
       "q24_btwn_I_cowork                   0\n",
       "q24_P_sig_other                     0\n",
       "q24_internet_game                   0\n",
       "q24_internet_community              0\n",
       "q24_fam_grandmother_active          0\n",
       "q24_internet_other                  0\n",
       "q24_fam_uncle_nephew_active         0\n",
       "q24_fam_aunt_niece_active           0\n",
       "q24_fam_cousins_active              0\n",
       "q24_fam_other_active                0\n",
       "q24_fam_father_active               0\n",
       "q24_fam_mother_active               0\n",
       "q24_fam_brother_active              0\n",
       "q24_fam_sister_active               0\n",
       "q24_work_neighbor                   0\n",
       "q24_business_trip                   0\n",
       "q24_singles_service_non_internet    0\n",
       "q24_vacation                        0\n",
       "q24_blind_date                      0\n",
       "q24_private_party                   0\n",
       "q24_public                          0\n",
       "ppage                               0\n",
       "Length: 152, dtype: int64"
      ]
     },
     "execution_count": 515,
     "metadata": {},
     "output_type": "execute_result"
    }
   ],
   "source": [
    "couple_data.isnull().sum().sort_values(ascending=False)"
   ]
  },
  {
   "cell_type": "code",
   "execution_count": 370,
   "metadata": {},
   "outputs": [],
   "source": [
    "# investigate null features\n",
    "# drop features with more than 70% null\n",
    "couple_data.drop(labels=['q22'], axis=1, inplace=True)"
   ]
  },
  {
   "cell_type": "code",
   "execution_count": 371,
   "metadata": {
    "collapsed": true
   },
   "outputs": [],
   "source": [
    "# drop q17a, use q17b instead, current marriage already taken into account in 'married' column\n",
    "couple_data.drop(labels=['q17a'], axis=1, inplace=True)"
   ]
  },
  {
   "cell_type": "code",
   "execution_count": 372,
   "metadata": {},
   "outputs": [],
   "source": [
    "# fill null and 'refused' values\n",
    "couple_data.q17b.fillna('never married', inplace=True)\n",
    "couple_data.q17b = couple_data.q17b.map(lambda x: 'never married' if x == 'refused' else x)\n",
    "\n",
    "couple_data.q26 = couple_data.q26.map(lambda x: 'did not attend same college or university' if x == 'refused' else x)\n",
    "\n",
    "couple_data.parental_approval.fillna(\"don't approve or don't know\", inplace=True)"
   ]
  },
  {
   "cell_type": "code",
   "execution_count": 375,
   "metadata": {
    "scrolled": true
   },
   "outputs": [],
   "source": [
    "# fill null values for continuous variable\n",
    "couple_data.q21d.fillna(couple_data.q21d.median(), inplace=True)\n",
    "couple_data.q21c.fillna(couple_data.q21c.median(), inplace=True)\n",
    "couple_data.how_long_ago_first_cohab.fillna(couple_data.how_long_ago_first_cohab.median(), inplace=True)"
   ]
  },
  {
   "cell_type": "code",
   "execution_count": 389,
   "metadata": {
    "scrolled": true
   },
   "outputs": [],
   "source": [
    "# q24 columns \n",
    "cols = [x for x in couple_data.columns if 'q24_' in x]\n",
    "impute_bin_cols(cols)"
   ]
  },
  {
   "cell_type": "code",
   "execution_count": 514,
   "metadata": {},
   "outputs": [
    {
     "data": {
      "text/plain": [
       "met_through_as_coworkers    0\n",
       "met_through_friends         0\n",
       "met_through_family          0\n",
       "papevangelical              0\n",
       "met_through_as_neighbors    0\n",
       "US_raised                   0\n",
       "coresident                  0\n",
       "dtype: int64"
      ]
     },
     "execution_count": 514,
     "metadata": {},
     "output_type": "execute_result"
    }
   ],
   "source": [
    "# more binary columns\n",
    "cols = ['met_through_as_coworkers','met_through_friends','met_through_family',\n",
    "        'papevangelical','met_through_as_neighbors','US_raised','coresident']\n",
    "impute_bin_cols(cols)"
   ]
  },
  {
   "cell_type": "code",
   "execution_count": 431,
   "metadata": {
    "collapsed": true
   },
   "outputs": [],
   "source": [
    "# partner mum years of education\n",
    "couple_data.partner_mom_yrsed.fillna(couple_data.partner_mom_yrsed.median(), inplace=True)"
   ]
  },
  {
   "cell_type": "code",
   "execution_count": 435,
   "metadata": {
    "collapsed": true
   },
   "outputs": [],
   "source": [
    "# distancemoved_10mi\n",
    "couple_data.distancemoved_10mi.fillna(couple_data.distancemoved_10mi.median(), inplace=True)"
   ]
  },
  {
   "cell_type": "code",
   "execution_count": 441,
   "metadata": {
    "collapsed": true
   },
   "outputs": [],
   "source": [
    "# how_long_ago_first_romantic\n",
    "couple_data.how_long_ago_first_romantic.fillna(couple_data.how_long_ago_first_romantic.median(), inplace=True)"
   ]
  },
  {
   "cell_type": "code",
   "execution_count": 444,
   "metadata": {
    "collapsed": true
   },
   "outputs": [],
   "source": [
    "# how_long_relationship\n",
    "couple_data.how_long_relationship.fillna(couple_data.how_long_relationship.median(), inplace=True)"
   ]
  },
  {
   "cell_type": "code",
   "execution_count": 447,
   "metadata": {
    "collapsed": true
   },
   "outputs": [],
   "source": [
    "# q21b how old were you when your romantic relationship began with your partner\n",
    "couple_data.q21b.fillna(couple_data.q21b.median(), inplace=True)"
   ]
  },
  {
   "cell_type": "code",
   "execution_count": 450,
   "metadata": {
    "collapsed": true
   },
   "outputs": [],
   "source": [
    "# respondent_mom_yrsed\n",
    "couple_data.respondent_mom_yrsed.fillna(couple_data.respondent_mom_yrsed.median(), inplace=True)"
   ]
  },
  {
   "cell_type": "code",
   "execution_count": 455,
   "metadata": {
    "collapsed": true
   },
   "outputs": [],
   "source": [
    "# fill null and convert relationship quality to integers\n",
    "couple_data.relationship_quality.fillna('fair', inplace=True)\n",
    "couple_data.relationship_quality = couple_data.relationship_quality.map(lambda x: 5 if x == 'excellent' else 4\n",
    "                                if x == 'good' else 3 if x == 'fair' else 2 if x == 'poor' else 1)"
   ]
  },
  {
   "cell_type": "code",
   "execution_count": 461,
   "metadata": {},
   "outputs": [
    {
     "data": {
      "text/html": [
       "<div>\n",
       "<style>\n",
       "    .dataframe thead tr:only-child th {\n",
       "        text-align: right;\n",
       "    }\n",
       "\n",
       "    .dataframe thead th {\n",
       "        text-align: left;\n",
       "    }\n",
       "\n",
       "    .dataframe tbody tr th {\n",
       "        vertical-align: top;\n",
       "    }\n",
       "</style>\n",
       "<table border=\"1\" class=\"dataframe\">\n",
       "  <thead>\n",
       "    <tr style=\"text-align: right;\">\n",
       "      <th></th>\n",
       "      <th>gender_attraction</th>\n",
       "      <th>same_sex_couple</th>\n",
       "    </tr>\n",
       "    <tr>\n",
       "      <th>caseid_new</th>\n",
       "      <th></th>\n",
       "      <th></th>\n",
       "    </tr>\n",
       "  </thead>\n",
       "  <tbody>\n",
       "    <tr>\n",
       "      <th>4528265</th>\n",
       "      <td>NaN</td>\n",
       "      <td>different sex couple</td>\n",
       "    </tr>\n",
       "    <tr>\n",
       "      <th>799451</th>\n",
       "      <td>NaN</td>\n",
       "      <td>different sex couple</td>\n",
       "    </tr>\n",
       "    <tr>\n",
       "      <th>1601511</th>\n",
       "      <td>NaN</td>\n",
       "      <td>different sex couple</td>\n",
       "    </tr>\n",
       "    <tr>\n",
       "      <th>1674621</th>\n",
       "      <td>NaN</td>\n",
       "      <td>different sex couple</td>\n",
       "    </tr>\n",
       "    <tr>\n",
       "      <th>2780461</th>\n",
       "      <td>NaN</td>\n",
       "      <td>different sex couple</td>\n",
       "    </tr>\n",
       "    <tr>\n",
       "      <th>4346371</th>\n",
       "      <td>NaN</td>\n",
       "      <td>different sex couple</td>\n",
       "    </tr>\n",
       "    <tr>\n",
       "      <th>4489454</th>\n",
       "      <td>NaN</td>\n",
       "      <td>different sex couple</td>\n",
       "    </tr>\n",
       "  </tbody>\n",
       "</table>\n",
       "</div>"
      ],
      "text/plain": [
       "           gender_attraction       same_sex_couple\n",
       "caseid_new                                        \n",
       "4528265                  NaN  different sex couple\n",
       "799451                   NaN  different sex couple\n",
       "1601511                  NaN  different sex couple\n",
       "1674621                  NaN  different sex couple\n",
       "2780461                  NaN  different sex couple\n",
       "4346371                  NaN  different sex couple\n",
       "4489454                  NaN  different sex couple"
      ]
     },
     "execution_count": 461,
     "metadata": {},
     "output_type": "execute_result"
    }
   ],
   "source": [
    "# Filling null values for gender attraction\n",
    "couple_data[['gender_attraction','same_sex_couple']].loc[couple_data.gender_attraction.isnull()]"
   ]
  },
  {
   "cell_type": "code",
   "execution_count": 478,
   "metadata": {
    "collapsed": true
   },
   "outputs": [],
   "source": [
    "couple_data.gender_attraction.fillna('opposite gender only', inplace=True)"
   ]
  },
  {
   "cell_type": "code",
   "execution_count": 482,
   "metadata": {
    "collapsed": true,
    "scrolled": true
   },
   "outputs": [],
   "source": [
    "# q21a how old were you when you first met\n",
    "couple_data.q21a.fillna(couple_data.q21a.median(), inplace=True)"
   ]
  },
  {
   "cell_type": "code",
   "execution_count": 479,
   "metadata": {
    "collapsed": true
   },
   "outputs": [],
   "source": [
    "# how_long_ago_first_met\n",
    "couple_data.how_long_ago_first_met.fillna(couple_data.how_long_ago_first_met.median(), inplace=True)"
   ]
  },
  {
   "cell_type": "code",
   "execution_count": 476,
   "metadata": {
    "collapsed": true
   },
   "outputs": [],
   "source": [
    "# q16 how many of your relatives do you see in person at least once a month\n",
    "couple_data.q16.fillna(np.median([int(i) for i in couple_data.q16.unique() if np.isnan(i) == False]), inplace=True)\n",
    "couple_data.q16 = couple_data.q16.astype('float64')"
   ]
  },
  {
   "cell_type": "code",
   "execution_count": 485,
   "metadata": {
    "collapsed": true
   },
   "outputs": [],
   "source": [
    "# age difference\n",
    "couple_data.age_difference.fillna(couple_data.age_difference.median(), inplace=True)"
   ]
  },
  {
   "cell_type": "code",
   "execution_count": 488,
   "metadata": {
    "collapsed": true
   },
   "outputs": [],
   "source": [
    "# q9 how old is your partner\n",
    "couple_data.q9.fillna(couple_data.q9.median(), inplace=True)"
   ]
  },
  {
   "cell_type": "code",
   "execution_count": 512,
   "metadata": {
    "collapsed": true
   },
   "outputs": [],
   "source": [
    "# respondent race \n",
    "couple_data.respondent_race.fillna('NH white', inplace=True)"
   ]
  },
  {
   "cell_type": "code",
   "execution_count": 505,
   "metadata": {
    "collapsed": true
   },
   "outputs": [],
   "source": [
    "# partner religion at 16 years old\n",
    "couple_data.partner_relig_16_cat.fillna('No religion', inplace=True)"
   ]
  },
  {
   "cell_type": "code",
   "execution_count": 502,
   "metadata": {
    "collapsed": true
   },
   "outputs": [],
   "source": [
    "# respondent religion at 16 years old\n",
    "couple_data.respondent_relig_16_cat.fillna('No religion', inplace=True)"
   ]
  },
  {
   "cell_type": "code",
   "execution_count": 492,
   "metadata": {
    "collapsed": true
   },
   "outputs": [],
   "source": [
    "# papglb_friend\n",
    "# do you have any friends or relatives who you know to be gay, lesbian, or bis \n",
    "couple_data.papglb_friend.fillna('i would prefer to not answer this question', inplace=True)"
   ]
  },
  {
   "cell_type": "code",
   "execution_count": 498,
   "metadata": {
    "collapsed": true
   },
   "outputs": [],
   "source": [
    "# partner years of education\n",
    "couple_data.partner_yrsed.fillna(couple_data.partner_yrsed.median(), inplace=True)"
   ]
  },
  {
   "cell_type": "code",
   "execution_count": 495,
   "metadata": {
    "collapsed": true
   },
   "outputs": [],
   "source": [
    "# partner race\n",
    "couple_data.partner_race.fillna('NH white', inplace=True)"
   ]
  },
  {
   "cell_type": "code",
   "execution_count": null,
   "metadata": {},
   "outputs": [],
   "source": [
    "\n"
   ]
  },
  {
   "cell_type": "code",
   "execution_count": null,
   "metadata": {},
   "outputs": [],
   "source": []
  },
  {
   "cell_type": "code",
   "execution_count": null,
   "metadata": {
    "collapsed": true
   },
   "outputs": [],
   "source": []
  }
 ],
 "metadata": {
  "kernelspec": {
   "display_name": "Python 3",
   "language": "python",
   "name": "python3"
  },
  "language_info": {
   "codemirror_mode": {
    "name": "ipython",
    "version": 3
   },
   "file_extension": ".py",
   "mimetype": "text/x-python",
   "name": "python",
   "nbconvert_exporter": "python",
   "pygments_lexer": "ipython3",
   "version": "3.6.3"
  }
 },
 "nbformat": 4,
 "nbformat_minor": 2
}
