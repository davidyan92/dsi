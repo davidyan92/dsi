{
 "cells": [
  {
   "cell_type": "code",
   "execution_count": 5,
   "metadata": {
    "collapsed": true
   },
   "outputs": [],
   "source": [
    "import pandas as pd\n",
    "import numpy as np"
   ]
  },
  {
   "cell_type": "code",
   "execution_count": 27,
   "metadata": {},
   "outputs": [],
   "source": [
    "df_w5 = pd.read_stata('/Users/david.yan/Downloads/HCMST_wave_5_supplement_ver_1.dta')\n",
    "df_w4 = pd.read_stata('/Users/david.yan/Downloads/wave_4_supplement_v1_2.dta')\n",
    "df_w123 = pd.read_stata('/Users/david.yan/Downloads/HCMST_ver_3.04.dta')"
   ]
  },
  {
   "cell_type": "code",
   "execution_count": 28,
   "metadata": {},
   "outputs": [],
   "source": [
    "w5_cols = df_w5.columns.tolist()\n",
    "w4_cols = df_w4.columns.tolist()\n",
    "w123_cols = df_w123.columns.tolist()"
   ]
  },
  {
   "cell_type": "code",
   "execution_count": 29,
   "metadata": {},
   "outputs": [
    {
     "name": "stdout",
     "output_type": "stream",
     "text": [
      "(78, 62, 387)\n"
     ]
    }
   ],
   "source": [
    "print(len(w5_cols), len(w4_cols), len(w123_cols))"
   ]
  },
  {
   "cell_type": "code",
   "execution_count": 34,
   "metadata": {},
   "outputs": [
    {
     "name": "stdout",
     "output_type": "stream",
     "text": [
      "((4002, 387), (4002, 62), (4002, 78))\n"
     ]
    }
   ],
   "source": [
    "print(df_w123.shape, df_w4.shape, df_w5.shape)"
   ]
  },
  {
   "cell_type": "code",
   "execution_count": 35,
   "metadata": {},
   "outputs": [
    {
     "data": {
      "text/plain": [
       "caseid_new                        0\n",
       "weight1                           0\n",
       "weight2                         993\n",
       "ppage                             0\n",
       "ppagecat                          0\n",
       "ppagect4                          0\n",
       "ppeduc                            0\n",
       "ppeducat                          0\n",
       "ppethm                            0\n",
       "ppgender                          0\n",
       "pphhhead                          0\n",
       "pphouseholdsize                   0\n",
       "pphouse                           0\n",
       "ppincimp                          0\n",
       "hhinc                             0\n",
       "ppmarit                           0\n",
       "ppmsacat                          0\n",
       "ppreg4                            0\n",
       "ppreg9                            0\n",
       "pprent                            0\n",
       "ppt01                             0\n",
       "ppt1317                           0\n",
       "ppt18ov                           0\n",
       "ppt25                             0\n",
       "ppt612                            0\n",
       "children_in_hh                    0\n",
       "ppwork                            0\n",
       "ppnet                             0\n",
       "ppq14arace                        0\n",
       "pphispan                          0\n",
       "                               ... \n",
       "w3_xpartnered                     0\n",
       "w3_xdeceased                    993\n",
       "w3_multiname                   3998\n",
       "w3_xss                         1771\n",
       "w3_xlast                       1313\n",
       "w3_xyear                       1313\n",
       "w3_xmonth                      1313\n",
       "w3_xqualified                     0\n",
       "w3_status                      1313\n",
       "w3_complete                    1313\n",
       "w3_source                      2042\n",
       "w3_HCMST_interview_fin_yrmo    2042\n",
       "w3_days_elapsed                2042\n",
       "w3_duration                    2042\n",
       "w3_xmarry                      2042\n",
       "w3_xtype                       2042\n",
       "w3_q1                          2610\n",
       "w3_q2                          2646\n",
       "w3_q3                          3966\n",
       "w3_q4                          3979\n",
       "w3_mbtiming_year               3979\n",
       "w3_mbtiming_month              3979\n",
       "w3_q5                          3434\n",
       "w3_q6                          3530\n",
       "w3_q7                          3530\n",
       "w3_q8                          3865\n",
       "w3_q9                          3906\n",
       "w3_q10                         3915\n",
       "w3_nonmbtiming_year            3915\n",
       "w3_nonmbtiming_month           3915\n",
       "Length: 387, dtype: int64"
      ]
     },
     "execution_count": 35,
     "metadata": {},
     "output_type": "execute_result"
    }
   ],
   "source": [
    "df_w123.isnull().sum()"
   ]
  },
  {
   "cell_type": "code",
   "execution_count": null,
   "metadata": {
    "collapsed": true
   },
   "outputs": [],
   "source": []
  }
 ],
 "metadata": {
  "kernelspec": {
   "display_name": "Python 2",
   "language": "python",
   "name": "python2"
  },
  "language_info": {
   "codemirror_mode": {
    "name": "ipython",
    "version": 2
   },
   "file_extension": ".py",
   "mimetype": "text/x-python",
   "name": "python",
   "nbconvert_exporter": "python",
   "pygments_lexer": "ipython2",
   "version": "2.7.11"
  }
 },
 "nbformat": 4,
 "nbformat_minor": 2
}
