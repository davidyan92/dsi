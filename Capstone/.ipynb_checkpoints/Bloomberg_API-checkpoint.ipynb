{
 "cells": [
  {
   "cell_type": "code",
   "execution_count": 1,
   "metadata": {
    "collapsed": true
   },
   "outputs": [],
   "source": [
    "# packages for this module\n",
    "from pprint import pprint\n",
    "import requests"
   ]
  },
  {
   "cell_type": "code",
   "execution_count": 2,
   "metadata": {
    "scrolled": false
   },
   "outputs": [
    {
     "name": "stdout",
     "output_type": "stream",
     "text": [
      "TechCrunch is a leading technology media property, dedicated to obsessively profiling startups, reviewing new Internet products, and breaking tech news.\n"
     ]
    }
   ],
   "source": [
    "# Get all news sources from API\n",
    "# request parameters: category, language, country\n",
    "# for non english text, encode in utf-8\n",
    "url = ('https://newsapi.org/v2/sources?'\n",
    "       'language=cn&'\n",
    "       'apiKey=bb741a03dfe14e99bad9c75cabaa13ba')\n",
    "\n",
    "response = requests.get(url)\n",
    "json_data = response.json()\n",
    "source = json_data['sources'][0]\n",
    "source['description'].encode('utf-8')\n",
    "print(source['description'])"
   ]
  },
  {
   "cell_type": "code",
   "execution_count": 3,
   "metadata": {},
   "outputs": [
    {
     "data": {
      "text/plain": [
       "10"
      ]
     },
     "execution_count": 3,
     "metadata": {},
     "output_type": "execute_result"
    }
   ],
   "source": [
    "# Retrieving top 10 headlines from source\n",
    "# Parameters are:\n",
    "# sources, q, category, language, country\n",
    "url = ('https://newsapi.org/v2/top-headlines?'\n",
    "       'sources=bbc-news&'\n",
    "       'apiKey=bb741a03dfe14e99bad9c75cabaa13ba')\n",
    "\n",
    "response = requests.get(url)\n",
    "json_data = response.json()\n",
    "\n",
    "len(json_data['articles'])\n",
    "\n"
   ]
  },
  {
   "cell_type": "code",
   "execution_count": 5,
   "metadata": {
    "scrolled": false
   },
   "outputs": [
    {
     "name": "stdout",
     "output_type": "stream",
     "text": [
      "[u'description',\n",
      " u'title',\n",
      " u'url',\n",
      " u'author',\n",
      " u'publishedAt',\n",
      " u'source',\n",
      " u'urlToImage']\n"
     ]
    }
   ],
   "source": [
    "# Retrieve all news articles\n",
    "# parameters are: \n",
    "# q (keywords / phrases), sources, domains, from, to, \n",
    "# language, sortBy, page, country, category\n",
    "\n",
    "url = ('https://newsapi.org/v2/everything?'\n",
    "       'q=bitcoin&page=500&'\n",
    "       'apiKey=bb741a03dfe14e99bad9c75cabaa13ba')\n",
    "\n",
    "response = requests.get(url)\n",
    "json_data = response.json()\n",
    "\n",
    "pprint(json_data['articles'][0].keys())"
   ]
  },
  {
   "cell_type": "code",
   "execution_count": null,
   "metadata": {
    "collapsed": true
   },
   "outputs": [],
   "source": []
  }
 ],
 "metadata": {
  "kernelspec": {
   "display_name": "Python 2",
   "language": "python",
   "name": "python2"
  },
  "language_info": {
   "codemirror_mode": {
    "name": "ipython",
    "version": 2
   },
   "file_extension": ".py",
   "mimetype": "text/x-python",
   "name": "python",
   "nbconvert_exporter": "python",
   "pygments_lexer": "ipython2",
   "version": "2.7.11"
  }
 },
 "nbformat": 4,
 "nbformat_minor": 2
}
