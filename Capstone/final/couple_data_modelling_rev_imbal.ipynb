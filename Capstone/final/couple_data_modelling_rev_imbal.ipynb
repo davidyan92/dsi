{
 "cells": [
  {
   "cell_type": "markdown",
   "metadata": {},
   "source": [
    "### Use Features Selection to review factors that affect relationship outcome"
   ]
  },
  {
   "cell_type": "code",
   "execution_count": 1,
   "metadata": {
    "collapsed": true
   },
   "outputs": [],
   "source": [
    "# Model Check\n",
    "# Oversample Minority\n",
    "# Shuffle Predictors and Targets such that predictors point to new targets\n",
    "# Use dataset without Smoteen & Tomek"
   ]
  },
  {
   "cell_type": "markdown",
   "metadata": {},
   "source": [
    "### Result from using dataset without Smoteen & Tomek\n",
    "> * Only GridSearchCV LogReg & GridSearchCV SGDClassifier performed normally **(Training Result > Test Result)** under imbalanced dataset \n",
    "    "
   ]
  },
  {
   "cell_type": "markdown",
   "metadata": {},
   "source": [
    "### Result from using dataset with Smoteen & Tomek\n",
    "> * All models performed normally"
   ]
  },
  {
   "cell_type": "markdown",
   "metadata": {},
   "source": [
    "### Minority class over Majority class, Reverse Imbalance\n",
    "> * LogReg, Ridge LogReg, Lasso LogReg & Xgboost Classifier perform normally under reversed imbalanced\n",
    "* GridSearchCV LogReg & GridSearchCV SGDClassifier did not perform normally **(Training Result < Test Result)**"
   ]
  },
  {
   "cell_type": "markdown",
   "metadata": {},
   "source": [
    "### Shuffle Predictors & Targets\n",
    "> * Scores across the models all dropped"
   ]
  },
  {
   "cell_type": "code",
   "execution_count": 5,
   "metadata": {},
   "outputs": [
    {
     "name": "stderr",
     "output_type": "stream",
     "text": [
      "/home/ec2-user/anaconda3/lib/python3.6/importlib/_bootstrap.py:219: ImportWarning: can't resolve package from __spec__ or __package__, falling back on __name__ and __path__\n",
      "  return f(*args, **kwds)\n"
     ]
    }
   ],
   "source": [
    "import pandas as pd\n",
    "import numpy as np\n",
    "import matplotlib.pyplot as plt\n",
    "import scipy as sp\n",
    "import seaborn as sns\n",
    "from sklearn import preprocessing as pp\n",
    "import pickle\n",
    "%matplotlib inline\n",
    "%config InlineBackend.figure_format = 'retina'"
   ]
  },
  {
   "cell_type": "code",
   "execution_count": 6,
   "metadata": {
    "collapsed": true
   },
   "outputs": [],
   "source": [
    "from sklearn.linear_model import LogisticRegressionCV, LogisticRegression, SGDClassifier\n",
    "from sklearn.model_selection import cross_val_predict, GridSearchCV, train_test_split\n",
    "from sklearn import metrics\n",
    "from sklearn.preprocessing import StandardScaler\n",
    "import xgboost as xgb"
   ]
  },
  {
   "cell_type": "code",
   "execution_count": 7,
   "metadata": {
    "collapsed": true
   },
   "outputs": [],
   "source": [
    "# X = pd.read_pickle('./couple_data_xgboost_predictors')\n",
    "# X = pd.read_pickle('./couple_data_predictors')\n",
    "# X = pd.read_pickle('./couple_data_without_resample_predictors')\n",
    "X = pd.read_pickle('./couple_data_rev_imbal_predictors')\n",
    "# X = pd.read_pickle('./couple_data_lasso_predictors')\n",
    "y = pd.read_pickle('./couple_data_rev_imbal_target')\n",
    "# y = pd.read_pickle('./couple_data_without_resample_target')\n",
    "# y = pd.read_pickle('./couple_data_target')"
   ]
  },
  {
   "cell_type": "code",
   "execution_count": 8,
   "metadata": {
    "collapsed": true
   },
   "outputs": [],
   "source": [
    "# Shuffling Predictors, swapping rows\n",
    "# for verification only\n",
    "# X = X.sample(frac=1, replace=False)"
   ]
  },
  {
   "cell_type": "code",
   "execution_count": 9,
   "metadata": {
    "collapsed": true
   },
   "outputs": [],
   "source": [
    "# Scale the resampled features\n",
    "Xs = StandardScaler().fit_transform(X)\n",
    "y = y.values.ravel()"
   ]
  },
  {
   "cell_type": "code",
   "execution_count": 10,
   "metadata": {
    "collapsed": true
   },
   "outputs": [],
   "source": [
    "# Training and Test set\n",
    "X_train, X_test, y_train, y_test = train_test_split(Xs, y, test_size=0.33, random_state=42)"
   ]
  },
  {
   "cell_type": "markdown",
   "metadata": {},
   "source": [
    "### GridSearch Logistic Regression"
   ]
  },
  {
   "cell_type": "code",
   "execution_count": 15,
   "metadata": {},
   "outputs": [
    {
     "name": "stdout",
     "output_type": "stream",
     "text": [
      "GRID SEARCH:\n",
      "Best parameters set:\n",
      "f1 score: 0.887417218543\n",
      "\tC: 0.097700995729922469\n",
      "\tpenalty: 'l1'\n",
      "\tsolver: 'liblinear'\n",
      "-----------------------------------------\n",
      "-----------------------------------------\n",
      "GRIDSEARCHCV LOGREG RESULT:\n",
      "                precision    recall  f1-score   support\n",
      "\n",
      "      break up       0.90      0.89      0.90       356\n",
      "still together       0.77      0.78      0.78       165\n",
      "\n",
      "   avg / total       0.86      0.86      0.86       521\n",
      "\n"
     ]
    }
   ],
   "source": [
    "# Gridsearch for Ridge and Lasso Logistic Regression, optimize C\n",
    "\n",
    "parameters = {\n",
    "    'penalty':['l1','l2'],\n",
    "    'solver':['liblinear'],\n",
    "    'C':np.logspace(-5,0,100)\n",
    "}\n",
    "\n",
    "print (\"GRID SEARCH:\")\n",
    "lr_grid_search = GridSearchCV(LogisticRegression(), parameters, cv=10, verbose=0)\n",
    "lr_grid_search.fit(X_train, y_train)\n",
    "print (\"Best parameters set:\")\n",
    "print('f1 score:', lr_grid_search.best_score_)\n",
    "lr_best_parameters = lr_grid_search.best_estimator_.get_params()\n",
    "for param_name in sorted(parameters.keys()):\n",
    "    print (\"\\t%s: %r\" % (param_name, lr_best_parameters[param_name]))\n",
    "print (\"-----------------------------------------\")\n",
    "print (\"-----------------------------------------\")\n",
    "print (\"GRIDSEARCHCV LOGREG RESULT:\")\n",
    "clf = lr_grid_search.best_estimator_\n",
    "lr_gs_predicted = clf.predict(X_test)\n",
    "print(metrics.classification_report(y_test, lr_gs_predicted, labels=[1,0], target_names=['break up','still together']))"
   ]
  },
  {
   "cell_type": "code",
   "execution_count": 16,
   "metadata": {},
   "outputs": [
    {
     "data": {
      "text/html": [
       "<div>\n",
       "<style>\n",
       "    .dataframe thead tr:only-child th {\n",
       "        text-align: right;\n",
       "    }\n",
       "\n",
       "    .dataframe thead th {\n",
       "        text-align: left;\n",
       "    }\n",
       "\n",
       "    .dataframe tbody tr th {\n",
       "        vertical-align: top;\n",
       "    }\n",
       "</style>\n",
       "<table border=\"1\" class=\"dataframe\">\n",
       "  <thead>\n",
       "    <tr style=\"text-align: right;\">\n",
       "      <th></th>\n",
       "      <th>coef</th>\n",
       "      <th>mag</th>\n",
       "      <th>pred</th>\n",
       "    </tr>\n",
       "  </thead>\n",
       "  <tbody>\n",
       "    <tr>\n",
       "      <th>33</th>\n",
       "      <td>-0.918089</td>\n",
       "      <td>0.918089</td>\n",
       "      <td>coresident[T.Yes]</td>\n",
       "    </tr>\n",
       "    <tr>\n",
       "      <th>31</th>\n",
       "      <td>-0.541351</td>\n",
       "      <td>0.541351</td>\n",
       "      <td>married[T.married]</td>\n",
       "    </tr>\n",
       "    <tr>\n",
       "      <th>32</th>\n",
       "      <td>-0.420350</td>\n",
       "      <td>0.420350</td>\n",
       "      <td>parental_approval[T.approve]</td>\n",
       "    </tr>\n",
       "    <tr>\n",
       "      <th>9</th>\n",
       "      <td>-0.407524</td>\n",
       "      <td>0.407524</td>\n",
       "      <td>parent_alive[T.neither father nor mother are a...</td>\n",
       "    </tr>\n",
       "    <tr>\n",
       "      <th>51</th>\n",
       "      <td>-0.382412</td>\n",
       "      <td>0.382412</td>\n",
       "      <td>how_long_ago_first_cohab</td>\n",
       "    </tr>\n",
       "    <tr>\n",
       "      <th>52</th>\n",
       "      <td>-0.306339</td>\n",
       "      <td>0.306339</td>\n",
       "      <td>how_long_relationship</td>\n",
       "    </tr>\n",
       "    <tr>\n",
       "      <th>43</th>\n",
       "      <td>-0.199315</td>\n",
       "      <td>0.199315</td>\n",
       "      <td>couple_relig_comb[T.Protestant or oth Christia...</td>\n",
       "    </tr>\n",
       "    <tr>\n",
       "      <th>10</th>\n",
       "      <td>-0.179838</td>\n",
       "      <td>0.179838</td>\n",
       "      <td>met_partner_work[T.yes]</td>\n",
       "    </tr>\n",
       "    <tr>\n",
       "      <th>8</th>\n",
       "      <td>-0.168686</td>\n",
       "      <td>0.168686</td>\n",
       "      <td>parent_alive[T.mother only]</td>\n",
       "    </tr>\n",
       "    <tr>\n",
       "      <th>56</th>\n",
       "      <td>-0.166525</td>\n",
       "      <td>0.166525</td>\n",
       "      <td>partner_yrsed</td>\n",
       "    </tr>\n",
       "  </tbody>\n",
       "</table>\n",
       "</div>"
      ],
      "text/plain": [
       "        coef       mag                                               pred\n",
       "33 -0.918089  0.918089                                  coresident[T.Yes]\n",
       "31 -0.541351  0.541351                                 married[T.married]\n",
       "32 -0.420350  0.420350                       parental_approval[T.approve]\n",
       "9  -0.407524  0.407524  parent_alive[T.neither father nor mother are a...\n",
       "51 -0.382412  0.382412                           how_long_ago_first_cohab\n",
       "52 -0.306339  0.306339                              how_long_relationship\n",
       "43 -0.199315  0.199315  couple_relig_comb[T.Protestant or oth Christia...\n",
       "10 -0.179838  0.179838                            met_partner_work[T.yes]\n",
       "8  -0.168686  0.168686                        parent_alive[T.mother only]\n",
       "56 -0.166525  0.166525                                      partner_yrsed"
      ]
     },
     "execution_count": 16,
     "metadata": {},
     "output_type": "execute_result"
    }
   ],
   "source": [
    "# Get top 10 coefficients\n",
    "lr_gs_coef = pd.DataFrame({\n",
    "    'coef':clf.coef_.ravel(),\n",
    "    'mag':np.abs(clf.coef_.ravel()),\n",
    "    'pred':X.columns\n",
    "})\n",
    "lr_gs_coef.sort_values(by=['mag'], ascending=False, inplace=True)\n",
    "lr_gs_coef.head(10)"
   ]
  },
  {
   "cell_type": "markdown",
   "metadata": {},
   "source": [
    "### GridSearch SGDClassifier"
   ]
  },
  {
   "cell_type": "code",
   "execution_count": 17,
   "metadata": {},
   "outputs": [
    {
     "name": "stdout",
     "output_type": "stream",
     "text": [
      "GRID SEARCH:\n",
      "Best parameters set:\n",
      "f1 score: 0.891201513718\n",
      "\talpha: 0.015199110829529331\n",
      "\tl1_ratio: 0.11288378916846889\n",
      "\tlearning_rate: 'optimal'\n",
      "\tloss: 'hinge'\n",
      "\tpenalty: 'l1'\n",
      "-----------------------------------------\n",
      "-----------------------------------------\n",
      "GRIDSEARCHCV SGDCLASSIFIER RESULT:\n",
      "                precision    recall  f1-score   support\n",
      "\n",
      "      break up       0.89      0.87      0.88       356\n",
      "still together       0.73      0.77      0.75       165\n",
      "\n",
      "   avg / total       0.84      0.84      0.84       521\n",
      "\n"
     ]
    }
   ],
   "source": [
    "# Gridsearch SGDclassifier with log loss and optimal learning rate\n",
    "sgd_parameters = {\n",
    "    'learning_rate': ['optimal'],\n",
    "    'loss':['log','hinge'],\n",
    "    'penalty': ['l1','l2','elasticnet'],\n",
    "    'alpha': np.logspace(-10,5,100),\n",
    "    'l1_ratio': np.logspace(-1,0,20)\n",
    "}\n",
    "\n",
    "print (\"GRID SEARCH:\")\n",
    "sgd_grid_search = GridSearchCV(SGDClassifier(max_iter=10000, tol=0.0001), sgd_parameters, cv=10, verbose=0)\n",
    "sgd_grid_search.fit(X_train, y_train)\n",
    "print (\"Best parameters set:\")\n",
    "print('f1 score:', sgd_grid_search.best_score_)\n",
    "sgd_best_parameters = sgd_grid_search.best_estimator_.get_params()\n",
    "for param_name in sorted(sgd_parameters.keys()):\n",
    "    print (\"\\t%s: %r\" % (param_name, sgd_best_parameters[param_name]))\n",
    "print (\"-----------------------------------------\")\n",
    "print (\"-----------------------------------------\")\n",
    "print (\"GRIDSEARCHCV SGDCLASSIFIER RESULT:\")\n",
    "sgd_clf = sgd_grid_search.best_estimator_\n",
    "sgd_predicted = sgd_clf.predict(X_test)\n",
    "print(metrics.classification_report(y_test, sgd_predicted, labels=[1,0], target_names=['break up','still together']))"
   ]
  },
  {
   "cell_type": "code",
   "execution_count": 18,
   "metadata": {},
   "outputs": [
    {
     "data": {
      "text/html": [
       "<div>\n",
       "<style>\n",
       "    .dataframe thead tr:only-child th {\n",
       "        text-align: right;\n",
       "    }\n",
       "\n",
       "    .dataframe thead th {\n",
       "        text-align: left;\n",
       "    }\n",
       "\n",
       "    .dataframe tbody tr th {\n",
       "        vertical-align: top;\n",
       "    }\n",
       "</style>\n",
       "<table border=\"1\" class=\"dataframe\">\n",
       "  <thead>\n",
       "    <tr style=\"text-align: right;\">\n",
       "      <th></th>\n",
       "      <th>coef</th>\n",
       "      <th>mag</th>\n",
       "      <th>pred</th>\n",
       "    </tr>\n",
       "  </thead>\n",
       "  <tbody>\n",
       "    <tr>\n",
       "      <th>31</th>\n",
       "      <td>-0.599935</td>\n",
       "      <td>0.599935</td>\n",
       "      <td>married[T.married]</td>\n",
       "    </tr>\n",
       "    <tr>\n",
       "      <th>33</th>\n",
       "      <td>-0.490681</td>\n",
       "      <td>0.490681</td>\n",
       "      <td>coresident[T.Yes]</td>\n",
       "    </tr>\n",
       "    <tr>\n",
       "      <th>32</th>\n",
       "      <td>-0.337862</td>\n",
       "      <td>0.337862</td>\n",
       "      <td>parental_approval[T.approve]</td>\n",
       "    </tr>\n",
       "    <tr>\n",
       "      <th>9</th>\n",
       "      <td>-0.308300</td>\n",
       "      <td>0.308300</td>\n",
       "      <td>parent_alive[T.neither father nor mother are a...</td>\n",
       "    </tr>\n",
       "    <tr>\n",
       "      <th>52</th>\n",
       "      <td>-0.294287</td>\n",
       "      <td>0.294287</td>\n",
       "      <td>how_long_relationship</td>\n",
       "    </tr>\n",
       "    <tr>\n",
       "      <th>56</th>\n",
       "      <td>-0.157177</td>\n",
       "      <td>0.157177</td>\n",
       "      <td>partner_yrsed</td>\n",
       "    </tr>\n",
       "    <tr>\n",
       "      <th>8</th>\n",
       "      <td>-0.139256</td>\n",
       "      <td>0.139256</td>\n",
       "      <td>parent_alive[T.mother only]</td>\n",
       "    </tr>\n",
       "    <tr>\n",
       "      <th>10</th>\n",
       "      <td>-0.126572</td>\n",
       "      <td>0.126572</td>\n",
       "      <td>met_partner_work[T.yes]</td>\n",
       "    </tr>\n",
       "    <tr>\n",
       "      <th>27</th>\n",
       "      <td>-0.113465</td>\n",
       "      <td>0.113465</td>\n",
       "      <td>same_sex_couple[T.same-sex couple]</td>\n",
       "    </tr>\n",
       "    <tr>\n",
       "      <th>18</th>\n",
       "      <td>-0.104822</td>\n",
       "      <td>0.104822</td>\n",
       "      <td>q24_church[T.Yes]</td>\n",
       "    </tr>\n",
       "  </tbody>\n",
       "</table>\n",
       "</div>"
      ],
      "text/plain": [
       "        coef       mag                                               pred\n",
       "31 -0.599935  0.599935                                 married[T.married]\n",
       "33 -0.490681  0.490681                                  coresident[T.Yes]\n",
       "32 -0.337862  0.337862                       parental_approval[T.approve]\n",
       "9  -0.308300  0.308300  parent_alive[T.neither father nor mother are a...\n",
       "52 -0.294287  0.294287                              how_long_relationship\n",
       "56 -0.157177  0.157177                                      partner_yrsed\n",
       "8  -0.139256  0.139256                        parent_alive[T.mother only]\n",
       "10 -0.126572  0.126572                            met_partner_work[T.yes]\n",
       "27 -0.113465  0.113465                 same_sex_couple[T.same-sex couple]\n",
       "18 -0.104822  0.104822                                  q24_church[T.Yes]"
      ]
     },
     "execution_count": 18,
     "metadata": {},
     "output_type": "execute_result"
    }
   ],
   "source": [
    "# Get top 10 coefficients\n",
    "sgd_coef = pd.DataFrame({\n",
    "    'coef':sgd_clf.coef_.ravel(),\n",
    "    'mag':np.abs(sgd_clf.coef_.ravel()),\n",
    "    'pred':X.columns\n",
    "})\n",
    "sgd_coef.sort_values(by=['mag'], ascending=False, inplace=True)\n",
    "sgd_coef.head(10)"
   ]
  },
  {
   "cell_type": "markdown",
   "metadata": {},
   "source": [
    "### GridSearch XGBoost Classifier"
   ]
  },
  {
   "cell_type": "code",
   "execution_count": 19,
   "metadata": {},
   "outputs": [
    {
     "name": "stdout",
     "output_type": "stream",
     "text": [
      "f1 score: 0.917064609061\n",
      "colsample_bytree: 0.7\n",
      "learning_rate: 0.05\n",
      "max_depth: 6\n",
      "min_child_weight: 11\n",
      "missing: -999\n",
      "n_estimators: 1000\n",
      "nthread: 4\n",
      "objective: 'binary:logistic'\n",
      "seed: 65\n",
      "silent: 1\n",
      "subsample: 0.8\n",
      "-----------------------------------------\n",
      "-----------------------------------------\n",
      "GRIDSEARCHCV XGBCLASSIFIER RESULT:\n",
      "                precision    recall  f1-score   support\n",
      "\n",
      "      break up       0.89      0.89      0.89       356\n",
      "still together       0.77      0.77      0.77       165\n",
      "\n",
      "   avg / total       0.85      0.85      0.85       521\n",
      "\n"
     ]
    },
    {
     "name": "stderr",
     "output_type": "stream",
     "text": [
      "/home/ec2-user/anaconda3/lib/python3.6/site-packages/sklearn/model_selection/_search.py:761: DeprecationWarning: The grid_scores_ attribute was deprecated in version 0.18 in favor of the more elaborate cv_results_ attribute. The grid_scores_ attribute will not be available from 0.20\n",
      "  DeprecationWarning)\n"
     ]
    }
   ],
   "source": [
    "# Reference link: https://www.kaggle.com/phunter/xgboost-with-gridsearchcv\n",
    "# Credit to Shize's R code and the python re-implementation\n",
    "\n",
    "xgb_model = xgb.XGBClassifier()\n",
    "\n",
    "#brute force scan for all parameters, here are the tricks\n",
    "#usually max_depth is 6,7,8\n",
    "#learning rate is around 0.05, but small changes may make big diff\n",
    "#tuning min_child_weight subsample colsample_bytree can have \n",
    "#much fun of fighting against overfit \n",
    "#n_estimators is how many round of boosting\n",
    "#finally, ensemble xgboost with multiple seeds may reduce variance\n",
    "parameters = {'nthread': [4], #when use hyperthread, xgboost may become slower\n",
    "              'objective': ['binary:logistic'],\n",
    "              'learning_rate': [0.05], #so called `eta` value\n",
    "              'max_depth': [6,7,8],\n",
    "              'min_child_weight': [11],\n",
    "              'silent': [1],\n",
    "              'subsample': [0.8],\n",
    "              'colsample_bytree': [0.7],\n",
    "              'n_estimators': [1000], #number of trees, change it to 1000 for better results\n",
    "              'missing': [-999],\n",
    "              'seed': [65]}\n",
    "\n",
    "xgb_clf = GridSearchCV(xgb_model, parameters, n_jobs=5, scoring='f1', verbose=0, refit=True, cv=10)\n",
    "\n",
    "xgb_clf.fit(X_train, y_train)\n",
    "\n",
    "best_parameters, score, _ = max(xgb_clf.grid_scores_, key=lambda x: x[1])\n",
    "print('f1 score:', score)\n",
    "for param_name in sorted(best_parameters.keys()):\n",
    "    print(\"%s: %r\" % (param_name, best_parameters[param_name]))\n",
    "    \n",
    "print (\"-----------------------------------------\")\n",
    "print (\"-----------------------------------------\")\n",
    "print (\"GRIDSEARCHCV XGBCLASSIFIER RESULT:\")\n",
    "xgb_predicted = xgb_clf.best_estimator_.predict(X_test)\n",
    "print(metrics.classification_report(y_test, xgb_predicted, labels=[1,0], target_names=['break up','still together']))"
   ]
  },
  {
   "cell_type": "code",
   "execution_count": 20,
   "metadata": {},
   "outputs": [
    {
     "data": {
      "text/html": [
       "<div>\n",
       "<style>\n",
       "    .dataframe thead tr:only-child th {\n",
       "        text-align: right;\n",
       "    }\n",
       "\n",
       "    .dataframe thead th {\n",
       "        text-align: left;\n",
       "    }\n",
       "\n",
       "    .dataframe tbody tr th {\n",
       "        vertical-align: top;\n",
       "    }\n",
       "</style>\n",
       "<table border=\"1\" class=\"dataframe\">\n",
       "  <thead>\n",
       "    <tr style=\"text-align: right;\">\n",
       "      <th></th>\n",
       "      <th>importance</th>\n",
       "      <th>pred</th>\n",
       "    </tr>\n",
       "  </thead>\n",
       "  <tbody>\n",
       "    <tr>\n",
       "      <th>48</th>\n",
       "      <td>0.117596</td>\n",
       "      <td>distancemoved_10mi</td>\n",
       "    </tr>\n",
       "    <tr>\n",
       "      <th>50</th>\n",
       "      <td>0.091917</td>\n",
       "      <td>how_long_ago_first_romantic</td>\n",
       "    </tr>\n",
       "    <tr>\n",
       "      <th>53</th>\n",
       "      <td>0.089291</td>\n",
       "      <td>age_difference</td>\n",
       "    </tr>\n",
       "    <tr>\n",
       "      <th>51</th>\n",
       "      <td>0.088707</td>\n",
       "      <td>how_long_ago_first_cohab</td>\n",
       "    </tr>\n",
       "    <tr>\n",
       "      <th>49</th>\n",
       "      <td>0.080245</td>\n",
       "      <td>how_long_ago_first_met</td>\n",
       "    </tr>\n",
       "    <tr>\n",
       "      <th>56</th>\n",
       "      <td>0.057485</td>\n",
       "      <td>partner_yrsed</td>\n",
       "    </tr>\n",
       "    <tr>\n",
       "      <th>55</th>\n",
       "      <td>0.053691</td>\n",
       "      <td>respondent_yrsed</td>\n",
       "    </tr>\n",
       "    <tr>\n",
       "      <th>52</th>\n",
       "      <td>0.042019</td>\n",
       "      <td>how_long_relationship</td>\n",
       "    </tr>\n",
       "    <tr>\n",
       "      <th>1</th>\n",
       "      <td>0.039685</td>\n",
       "      <td>higher_income_earner[T.female_earn_more]</td>\n",
       "    </tr>\n",
       "    <tr>\n",
       "      <th>32</th>\n",
       "      <td>0.037934</td>\n",
       "      <td>parental_approval[T.approve]</td>\n",
       "    </tr>\n",
       "  </tbody>\n",
       "</table>\n",
       "</div>"
      ],
      "text/plain": [
       "    importance                                      pred\n",
       "48    0.117596                        distancemoved_10mi\n",
       "50    0.091917               how_long_ago_first_romantic\n",
       "53    0.089291                            age_difference\n",
       "51    0.088707                  how_long_ago_first_cohab\n",
       "49    0.080245                    how_long_ago_first_met\n",
       "56    0.057485                             partner_yrsed\n",
       "55    0.053691                          respondent_yrsed\n",
       "52    0.042019                     how_long_relationship\n",
       "1     0.039685  higher_income_earner[T.female_earn_more]\n",
       "32    0.037934              parental_approval[T.approve]"
      ]
     },
     "execution_count": 20,
     "metadata": {},
     "output_type": "execute_result"
    }
   ],
   "source": [
    "# Get top 10 coefficients\n",
    "xgb_featimpt = pd.DataFrame({\n",
    "    'importance':xgb_clf.best_estimator_.feature_importances_,\n",
    "    'pred':X.columns\n",
    "})\n",
    "xgb_featimpt = xgb_featimpt[xgb_featimpt.importance > 0]\n",
    "xgb_featimpt.sort_values(by=['importance'], ascending=False, inplace=True)\n",
    "xgb_featimpt.head(10)"
   ]
  },
  {
   "cell_type": "code",
   "execution_count": 21,
   "metadata": {
    "collapsed": true
   },
   "outputs": [],
   "source": [
    "# Only GridSearch LogReg & Gridsearch SGDClassifier performs normally in an imbalanced dataset"
   ]
  },
  {
   "cell_type": "code",
   "execution_count": 22,
   "metadata": {},
   "outputs": [
    {
     "data": {
      "text/html": [
       "<div>\n",
       "<style>\n",
       "    .dataframe thead tr:only-child th {\n",
       "        text-align: right;\n",
       "    }\n",
       "\n",
       "    .dataframe thead th {\n",
       "        text-align: left;\n",
       "    }\n",
       "\n",
       "    .dataframe tbody tr th {\n",
       "        vertical-align: top;\n",
       "    }\n",
       "</style>\n",
       "<table border=\"1\" class=\"dataframe\">\n",
       "  <thead>\n",
       "    <tr style=\"text-align: right;\">\n",
       "      <th></th>\n",
       "      <th>importance</th>\n",
       "      <th>pred</th>\n",
       "    </tr>\n",
       "  </thead>\n",
       "  <tbody>\n",
       "    <tr>\n",
       "      <th>0</th>\n",
       "      <td>0.0</td>\n",
       "      <td>Intercept</td>\n",
       "    </tr>\n",
       "    <tr>\n",
       "      <th>3</th>\n",
       "      <td>0.0</td>\n",
       "      <td>same_high_school[T.same high school]</td>\n",
       "    </tr>\n",
       "    <tr>\n",
       "      <th>4</th>\n",
       "      <td>0.0</td>\n",
       "      <td>same_college_uni[T.did not attend same college...</td>\n",
       "    </tr>\n",
       "    <tr>\n",
       "      <th>6</th>\n",
       "      <td>0.0</td>\n",
       "      <td>both_parents_knew_before_met[T.yes]</td>\n",
       "    </tr>\n",
       "    <tr>\n",
       "      <th>7</th>\n",
       "      <td>0.0</td>\n",
       "      <td>parent_alive[T.father only]</td>\n",
       "    </tr>\n",
       "    <tr>\n",
       "      <th>11</th>\n",
       "      <td>0.0</td>\n",
       "      <td>fam_intro_partner[T.yes]</td>\n",
       "    </tr>\n",
       "    <tr>\n",
       "      <th>13</th>\n",
       "      <td>0.0</td>\n",
       "      <td>colleague_intro_partner[T.yes]</td>\n",
       "    </tr>\n",
       "    <tr>\n",
       "      <th>15</th>\n",
       "      <td>0.0</td>\n",
       "      <td>q24_met_online[T.met online]</td>\n",
       "    </tr>\n",
       "    <tr>\n",
       "      <th>16</th>\n",
       "      <td>0.0</td>\n",
       "      <td>q24_school[T.Yes]</td>\n",
       "    </tr>\n",
       "    <tr>\n",
       "      <th>17</th>\n",
       "      <td>0.0</td>\n",
       "      <td>q24_college[T.Yes]</td>\n",
       "    </tr>\n",
       "    <tr>\n",
       "      <th>18</th>\n",
       "      <td>0.0</td>\n",
       "      <td>q24_church[T.Yes]</td>\n",
       "    </tr>\n",
       "    <tr>\n",
       "      <th>19</th>\n",
       "      <td>0.0</td>\n",
       "      <td>q24_vol_org[T.Yes]</td>\n",
       "    </tr>\n",
       "    <tr>\n",
       "      <th>20</th>\n",
       "      <td>0.0</td>\n",
       "      <td>q24_customer[T.Yes]</td>\n",
       "    </tr>\n",
       "    <tr>\n",
       "      <th>22</th>\n",
       "      <td>0.0</td>\n",
       "      <td>q24_internet_dating[T.Yes]</td>\n",
       "    </tr>\n",
       "    <tr>\n",
       "      <th>23</th>\n",
       "      <td>0.0</td>\n",
       "      <td>q24_public[T.Yes]</td>\n",
       "    </tr>\n",
       "    <tr>\n",
       "      <th>24</th>\n",
       "      <td>0.0</td>\n",
       "      <td>q24_private_party[T.Yes]</td>\n",
       "    </tr>\n",
       "    <tr>\n",
       "      <th>25</th>\n",
       "      <td>0.0</td>\n",
       "      <td>q24_fam_female[T.Yes]</td>\n",
       "    </tr>\n",
       "    <tr>\n",
       "      <th>26</th>\n",
       "      <td>0.0</td>\n",
       "      <td>q24_fam_male[T.Yes]</td>\n",
       "    </tr>\n",
       "    <tr>\n",
       "      <th>29</th>\n",
       "      <td>0.0</td>\n",
       "      <td>met_through_family[T.met through family]</td>\n",
       "    </tr>\n",
       "    <tr>\n",
       "      <th>30</th>\n",
       "      <td>0.0</td>\n",
       "      <td>met_through_as_neighbors[T.met through or as n...</td>\n",
       "    </tr>\n",
       "    <tr>\n",
       "      <th>35</th>\n",
       "      <td>0.0</td>\n",
       "      <td>couple_politic_view_comb[T.democrat_republican]</td>\n",
       "    </tr>\n",
       "    <tr>\n",
       "      <th>36</th>\n",
       "      <td>0.0</td>\n",
       "      <td>couple_politic_view_comb[T.other_other]</td>\n",
       "    </tr>\n",
       "    <tr>\n",
       "      <th>37</th>\n",
       "      <td>0.0</td>\n",
       "      <td>couple_politic_view_comb[T.republican_other]</td>\n",
       "    </tr>\n",
       "    <tr>\n",
       "      <th>39</th>\n",
       "      <td>0.0</td>\n",
       "      <td>couple_evang_comb[T.no_evang or born again]</td>\n",
       "    </tr>\n",
       "    <tr>\n",
       "      <th>41</th>\n",
       "      <td>0.0</td>\n",
       "      <td>couple_relig_comb[T.Catholic_other]</td>\n",
       "    </tr>\n",
       "    <tr>\n",
       "      <th>45</th>\n",
       "      <td>0.0</td>\n",
       "      <td>couple_relig_comb[T.other_other]</td>\n",
       "    </tr>\n",
       "    <tr>\n",
       "      <th>47</th>\n",
       "      <td>0.0</td>\n",
       "      <td>couple_race_comb[T.other_other]</td>\n",
       "    </tr>\n",
       "  </tbody>\n",
       "</table>\n",
       "</div>"
      ],
      "text/plain": [
       "    importance                                               pred\n",
       "0          0.0                                          Intercept\n",
       "3          0.0               same_high_school[T.same high school]\n",
       "4          0.0  same_college_uni[T.did not attend same college...\n",
       "6          0.0                both_parents_knew_before_met[T.yes]\n",
       "7          0.0                        parent_alive[T.father only]\n",
       "11         0.0                           fam_intro_partner[T.yes]\n",
       "13         0.0                     colleague_intro_partner[T.yes]\n",
       "15         0.0                       q24_met_online[T.met online]\n",
       "16         0.0                                  q24_school[T.Yes]\n",
       "17         0.0                                 q24_college[T.Yes]\n",
       "18         0.0                                  q24_church[T.Yes]\n",
       "19         0.0                                 q24_vol_org[T.Yes]\n",
       "20         0.0                                q24_customer[T.Yes]\n",
       "22         0.0                         q24_internet_dating[T.Yes]\n",
       "23         0.0                                  q24_public[T.Yes]\n",
       "24         0.0                           q24_private_party[T.Yes]\n",
       "25         0.0                              q24_fam_female[T.Yes]\n",
       "26         0.0                                q24_fam_male[T.Yes]\n",
       "29         0.0           met_through_family[T.met through family]\n",
       "30         0.0  met_through_as_neighbors[T.met through or as n...\n",
       "35         0.0    couple_politic_view_comb[T.democrat_republican]\n",
       "36         0.0            couple_politic_view_comb[T.other_other]\n",
       "37         0.0       couple_politic_view_comb[T.republican_other]\n",
       "39         0.0        couple_evang_comb[T.no_evang or born again]\n",
       "41         0.0                couple_relig_comb[T.Catholic_other]\n",
       "45         0.0                   couple_relig_comb[T.other_other]\n",
       "47         0.0                    couple_race_comb[T.other_other]"
      ]
     },
     "execution_count": 22,
     "metadata": {},
     "output_type": "execute_result"
    }
   ],
   "source": [
    "# Check for any feature that are removed in this round which might result in the drop in performance\n",
    "xgb_featimpt = pd.DataFrame({\n",
    "    'importance':xgb_clf.best_estimator_.feature_importances_,\n",
    "    'pred':X.columns\n",
    "})\n",
    "xgb_featimpt[xgb_featimpt.importance <= 0]"
   ]
  },
  {
   "cell_type": "code",
   "execution_count": 23,
   "metadata": {
    "collapsed": true
   },
   "outputs": [],
   "source": [
    "# Drop in the above features might be the cause of the drop from previous score"
   ]
  },
  {
   "cell_type": "code",
   "execution_count": 1,
   "metadata": {},
   "outputs": [
    {
     "name": "stderr",
     "output_type": "stream",
     "text": [
      "/home/ec2-user/anaconda3/lib/python3.6/site-packages/deap/tools/_hypervolume/pyhv.py:33: ImportWarning: Falling back to the python version of hypervolume module. Expect this to be very slow.\n",
      "  \"module. Expect this to be very slow.\", ImportWarning)\n",
      "/home/ec2-user/anaconda3/lib/python3.6/importlib/_bootstrap.py:219: ImportWarning: can't resolve package from __spec__ or __package__, falling back on __name__ and __path__\n",
      "  return f(*args, **kwds)\n",
      "/home/ec2-user/anaconda3/lib/python3.6/importlib/_bootstrap.py:219: ImportWarning: can't resolve package from __spec__ or __package__, falling back on __name__ and __path__\n",
      "  return f(*args, **kwds)\n",
      "/home/ec2-user/anaconda3/lib/python3.6/importlib/_bootstrap.py:219: ImportWarning: can't resolve package from __spec__ or __package__, falling back on __name__ and __path__\n",
      "  return f(*args, **kwds)\n",
      "/home/ec2-user/anaconda3/lib/python3.6/importlib/_bootstrap.py:219: ImportWarning: can't resolve package from __spec__ or __package__, falling back on __name__ and __path__\n",
      "  return f(*args, **kwds)\n",
      "/home/ec2-user/anaconda3/lib/python3.6/importlib/_bootstrap.py:219: ImportWarning: can't resolve package from __spec__ or __package__, falling back on __name__ and __path__\n",
      "  return f(*args, **kwds)\n",
      "/home/ec2-user/anaconda3/lib/python3.6/importlib/_bootstrap.py:219: ImportWarning: can't resolve package from __spec__ or __package__, falling back on __name__ and __path__\n",
      "  return f(*args, **kwds)\n"
     ]
    }
   ],
   "source": [
    "# Try TPOT\n",
    "from tpot import TPOTClassifier"
   ]
  },
  {
   "cell_type": "code",
   "execution_count": 2,
   "metadata": {},
   "outputs": [
    {
     "name": "stderr",
     "output_type": "stream",
     "text": [
      "/home/ec2-user/anaconda3/lib/python3.6/importlib/_bootstrap.py:219: ImportWarning: can't resolve package from __spec__ or __package__, falling back on __name__ and __path__\n",
      "  return f(*args, **kwds)\n",
      "/home/ec2-user/anaconda3/lib/python3.6/site-packages/sklearn/cross_validation.py:41: DeprecationWarning: This module was deprecated in version 0.18 in favor of the model_selection module into which all the refactored classes and functions are moved. Also note that the interface of the new CV iterators are different from that of this module. This module will be removed in 0.20.\n",
      "  \"This module will be removed in 0.20.\", DeprecationWarning)\n"
     ]
    }
   ],
   "source": [
    "pipeline_optimizer = TPOTClassifier()"
   ]
  },
  {
   "cell_type": "code",
   "execution_count": 3,
   "metadata": {
    "collapsed": true
   },
   "outputs": [],
   "source": [
    "pipeline_optimizer = TPOTClassifier(generations=5, population_size=20, cv=5,\n",
    "                                    random_state=42, verbosity=2)"
   ]
  },
  {
   "cell_type": "code",
   "execution_count": 11,
   "metadata": {},
   "outputs": [
    {
     "name": "stderr",
     "output_type": "stream",
     "text": [
      "Optimization Progress:  33%|███▎      | 40/120 [12:10<14:24, 10.80s/pipeline]  "
     ]
    },
    {
     "name": "stdout",
     "output_type": "stream",
     "text": [
      "Generation 1 - Current best internal CV score: 0.8818072073683269\n"
     ]
    },
    {
     "name": "stderr",
     "output_type": "stream",
     "text": [
      "Optimization Progress:  50%|█████     | 60/120 [20:49<26:31, 26.53s/pipeline]"
     ]
    },
    {
     "name": "stdout",
     "output_type": "stream",
     "text": [
      "Generation 2 - Current best internal CV score: 0.884632924975409\n"
     ]
    },
    {
     "name": "stderr",
     "output_type": "stream",
     "text": [
      "Optimization Progress:  67%|██████▋   | 80/120 [26:53<03:22,  5.06s/pipeline]"
     ]
    },
    {
     "name": "stdout",
     "output_type": "stream",
     "text": [
      "Generation 3 - Current best internal CV score: 0.884632924975409\n"
     ]
    },
    {
     "name": "stderr",
     "output_type": "stream",
     "text": [
      "Optimization Progress:  83%|████████▎ | 100/120 [35:40<09:54, 29.74s/pipeline]"
     ]
    },
    {
     "name": "stdout",
     "output_type": "stream",
     "text": [
      "Generation 4 - Current best internal CV score: 0.8865197174282393\n"
     ]
    },
    {
     "name": "stderr",
     "output_type": "stream",
     "text": [
      "                                                                              \r"
     ]
    },
    {
     "name": "stdout",
     "output_type": "stream",
     "text": [
      "Generation 5 - Current best internal CV score: 0.8865197174282393\n",
      "\n",
      "Best pipeline: ExtraTreesClassifier(CombineDFs(input_matrix, input_matrix), bootstrap=False, criterion=entropy, max_features=0.2, min_samples_leaf=8, min_samples_split=6, n_estimators=100)\n",
      "0.865642994242\n"
     ]
    }
   ],
   "source": [
    "pipeline_optimizer.fit(X_train, y_train)\n",
    "print(pipeline_optimizer.score(X_test, y_test))\n",
    "# pipeline_optimizer.export('tpot_exported_pipeline.py')"
   ]
  },
  {
   "cell_type": "code",
   "execution_count": 12,
   "metadata": {},
   "outputs": [
    {
     "name": "stdout",
     "output_type": "stream",
     "text": [
      "                precision    recall  f1-score   support\n",
      "\n",
      "      break up       0.90      0.91      0.90       356\n",
      "still together       0.80      0.77      0.78       165\n",
      "\n",
      "   avg / total       0.86      0.87      0.86       521\n",
      "\n"
     ]
    }
   ],
   "source": [
    "yhat = pipeline_optimizer.predict(X_test)\n",
    "print(metrics.classification_report(y_test, yhat, labels=[1,0], target_names=['break up','still together']))"
   ]
  },
  {
   "cell_type": "code",
   "execution_count": null,
   "metadata": {
    "collapsed": true
   },
   "outputs": [],
   "source": []
  }
 ],
 "metadata": {
  "kernelspec": {
   "display_name": "Python 3",
   "language": "python",
   "name": "python3"
  },
  "language_info": {
   "codemirror_mode": {
    "name": "ipython",
    "version": 3
   },
   "file_extension": ".py",
   "mimetype": "text/x-python",
   "name": "python",
   "nbconvert_exporter": "python",
   "pygments_lexer": "ipython3",
   "version": "3.6.3"
  }
 },
 "nbformat": 4,
 "nbformat_minor": 2
}
