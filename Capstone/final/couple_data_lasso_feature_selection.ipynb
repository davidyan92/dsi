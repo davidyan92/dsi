{
 "cells": [
  {
   "cell_type": "code",
   "execution_count": 1,
   "metadata": {
    "collapsed": true
   },
   "outputs": [],
   "source": [
    "import pandas as pd\n",
    "import numpy as np\n",
    "pd.set_option('max_colwidth',100)\n",
    "import matplotlib.pyplot as plt\n",
    "import scipy as sp\n",
    "import seaborn as sns\n",
    "from sklearn import preprocessing as pp\n",
    "import pickle\n",
    "%matplotlib inline\n",
    "%config InlineBackend.figure_format = 'retina'"
   ]
  },
  {
   "cell_type": "code",
   "execution_count": 2,
   "metadata": {
    "collapsed": true
   },
   "outputs": [],
   "source": [
    "from sklearn.linear_model import LogisticRegressionCV, LogisticRegression, SGDClassifier\n",
    "from sklearn.model_selection import cross_val_predict, GridSearchCV, train_test_split\n",
    "from sklearn import metrics\n",
    "from sklearn.preprocessing import StandardScaler\n",
    "import xgboost as xgb"
   ]
  },
  {
   "cell_type": "code",
   "execution_count": 3,
   "metadata": {
    "collapsed": true
   },
   "outputs": [],
   "source": [
    "X = pd.read_pickle('./couple_data_without_resample_predictors')\n",
    "y = pd.read_pickle('./couple_data_without_resample_target')"
   ]
  },
  {
   "cell_type": "code",
   "execution_count": 4,
   "metadata": {
    "collapsed": true
   },
   "outputs": [],
   "source": [
    "# Scale the resampled features\n",
    "Xs = StandardScaler().fit_transform(X)\n",
    "y = y.values.ravel()"
   ]
  },
  {
   "cell_type": "code",
   "execution_count": 5,
   "metadata": {
    "collapsed": true
   },
   "outputs": [],
   "source": [
    "# Training and Test set\n",
    "X_train, X_test, y_train, y_test = train_test_split(Xs, y, test_size=0.3, random_state=42)"
   ]
  },
  {
   "cell_type": "code",
   "execution_count": 6,
   "metadata": {
    "scrolled": false
   },
   "outputs": [
    {
     "data": {
      "text/plain": [
       "LogisticRegressionCV(Cs=100, class_weight=None, cv=5, dual=False,\n",
       "           fit_intercept=True, intercept_scaling=1.0, max_iter=100,\n",
       "           multi_class='ovr', n_jobs=-1, penalty='l1', random_state=None,\n",
       "           refit=True, scoring='accuracy', solver='liblinear', tol=0.0001,\n",
       "           verbose=0)"
      ]
     },
     "execution_count": 6,
     "metadata": {},
     "output_type": "execute_result"
    }
   ],
   "source": [
    "lr_lasso = LogisticRegressionCV(scoring='accuracy', penalty='l1', solver='liblinear', Cs=100, cv=5, n_jobs=-1)\n",
    "lr_lasso.fit(X_train, y_train)"
   ]
  },
  {
   "cell_type": "code",
   "execution_count": 7,
   "metadata": {},
   "outputs": [
    {
     "data": {
      "text/plain": [
       "0.64686468646864681"
      ]
     },
     "execution_count": 7,
     "metadata": {},
     "output_type": "execute_result"
    }
   ],
   "source": [
    "metrics.f1_score(y_test,lr_lasso.predict(X_test))"
   ]
  },
  {
   "cell_type": "code",
   "execution_count": 8,
   "metadata": {},
   "outputs": [
    {
     "data": {
      "text/html": [
       "<div>\n",
       "<style>\n",
       "    .dataframe thead tr:only-child th {\n",
       "        text-align: right;\n",
       "    }\n",
       "\n",
       "    .dataframe thead th {\n",
       "        text-align: left;\n",
       "    }\n",
       "\n",
       "    .dataframe tbody tr th {\n",
       "        vertical-align: top;\n",
       "    }\n",
       "</style>\n",
       "<table border=\"1\" class=\"dataframe\">\n",
       "  <thead>\n",
       "    <tr style=\"text-align: right;\">\n",
       "      <th></th>\n",
       "      <th>pred</th>\n",
       "    </tr>\n",
       "  </thead>\n",
       "  <tbody>\n",
       "    <tr>\n",
       "      <th>0</th>\n",
       "      <td>hhinc[T.low_hhinc]</td>\n",
       "    </tr>\n",
       "    <tr>\n",
       "      <th>1</th>\n",
       "      <td>pprent[T.rented for cash]</td>\n",
       "    </tr>\n",
       "    <tr>\n",
       "      <th>2</th>\n",
       "      <td>higher_income_earner[T.male_earn_more]</td>\n",
       "    </tr>\n",
       "    <tr>\n",
       "      <th>3</th>\n",
       "      <td>grow_up_same_city_town[T.yes]</td>\n",
       "    </tr>\n",
       "    <tr>\n",
       "      <th>4</th>\n",
       "      <td>parent_alive[T.mother only]</td>\n",
       "    </tr>\n",
       "    <tr>\n",
       "      <th>5</th>\n",
       "      <td>parent_alive[T.neither father nor mother are alive]</td>\n",
       "    </tr>\n",
       "    <tr>\n",
       "      <th>6</th>\n",
       "      <td>met_partner_work[T.yes]</td>\n",
       "    </tr>\n",
       "    <tr>\n",
       "      <th>7</th>\n",
       "      <td>same_sex_couple[T.same-sex couple]</td>\n",
       "    </tr>\n",
       "    <tr>\n",
       "      <th>8</th>\n",
       "      <td>met_through_friends[T.meet through friends]</td>\n",
       "    </tr>\n",
       "    <tr>\n",
       "      <th>9</th>\n",
       "      <td>married[T.married]</td>\n",
       "    </tr>\n",
       "    <tr>\n",
       "      <th>10</th>\n",
       "      <td>parental_approval[T.approve]</td>\n",
       "    </tr>\n",
       "    <tr>\n",
       "      <th>11</th>\n",
       "      <td>couple_politic_view_comb[T.democrat_republican]</td>\n",
       "    </tr>\n",
       "    <tr>\n",
       "      <th>12</th>\n",
       "      <td>couple_politic_view_comb[T.republican_republican]</td>\n",
       "    </tr>\n",
       "    <tr>\n",
       "      <th>13</th>\n",
       "      <td>couple_relig_comb[T.Protestant or oth Christian_Protestant or oth Christian]</td>\n",
       "    </tr>\n",
       "    <tr>\n",
       "      <th>14</th>\n",
       "      <td>couple_relig_comb[T.Protestant or oth Christian_other]</td>\n",
       "    </tr>\n",
       "    <tr>\n",
       "      <th>15</th>\n",
       "      <td>couple_race_comb[T.other_other]</td>\n",
       "    </tr>\n",
       "    <tr>\n",
       "      <th>16</th>\n",
       "      <td>gender_work_status[T.not-working_male]</td>\n",
       "    </tr>\n",
       "    <tr>\n",
       "      <th>17</th>\n",
       "      <td>gender_work_status[T.self-employed_male]</td>\n",
       "    </tr>\n",
       "    <tr>\n",
       "      <th>18</th>\n",
       "      <td>marriage_count_gender[T.married before_male]</td>\n",
       "    </tr>\n",
       "    <tr>\n",
       "      <th>19</th>\n",
       "      <td>marriage_count_gender[T.never married_male]</td>\n",
       "    </tr>\n",
       "    <tr>\n",
       "      <th>20</th>\n",
       "      <td>relatives_seen_per_month</td>\n",
       "    </tr>\n",
       "    <tr>\n",
       "      <th>21</th>\n",
       "      <td>how_long_relationship</td>\n",
       "    </tr>\n",
       "    <tr>\n",
       "      <th>22</th>\n",
       "      <td>couple_moms_yrsed_diff</td>\n",
       "    </tr>\n",
       "  </tbody>\n",
       "</table>\n",
       "</div>"
      ],
      "text/plain": [
       "                                                                            pred\n",
       "0                                                             hhinc[T.low_hhinc]\n",
       "1                                                      pprent[T.rented for cash]\n",
       "2                                         higher_income_earner[T.male_earn_more]\n",
       "3                                                  grow_up_same_city_town[T.yes]\n",
       "4                                                    parent_alive[T.mother only]\n",
       "5                            parent_alive[T.neither father nor mother are alive]\n",
       "6                                                        met_partner_work[T.yes]\n",
       "7                                             same_sex_couple[T.same-sex couple]\n",
       "8                                    met_through_friends[T.meet through friends]\n",
       "9                                                             married[T.married]\n",
       "10                                                  parental_approval[T.approve]\n",
       "11                               couple_politic_view_comb[T.democrat_republican]\n",
       "12                             couple_politic_view_comb[T.republican_republican]\n",
       "13  couple_relig_comb[T.Protestant or oth Christian_Protestant or oth Christian]\n",
       "14                        couple_relig_comb[T.Protestant or oth Christian_other]\n",
       "15                                               couple_race_comb[T.other_other]\n",
       "16                                        gender_work_status[T.not-working_male]\n",
       "17                                      gender_work_status[T.self-employed_male]\n",
       "18                                  marriage_count_gender[T.married before_male]\n",
       "19                                   marriage_count_gender[T.never married_male]\n",
       "20                                                      relatives_seen_per_month\n",
       "21                                                         how_long_relationship\n",
       "22                                                        couple_moms_yrsed_diff"
      ]
     },
     "execution_count": 8,
     "metadata": {},
     "output_type": "execute_result"
    }
   ],
   "source": [
    "ft_sel_coef = pd.DataFrame({\n",
    "    'coef':lr_lasso.coef_.ravel(),\n",
    "    'mag':np.abs(lr_lasso.coef_.ravel()),\n",
    "    'pred':X.columns\n",
    "})\n",
    "\n",
    "feat_sel = ft_sel_coef[ft_sel_coef.mag > 0].pred\n",
    "feat_sel = pd.DataFrame(feat_sel.values, columns=[feat_sel.name])\n",
    "feat_sel"
   ]
  },
  {
   "cell_type": "code",
   "execution_count": 9,
   "metadata": {
    "collapsed": true
   },
   "outputs": [],
   "source": [
    "Xs_df = pd.DataFrame(Xs, columns=X.columns)\n",
    "pred_df = Xs_df[feat_sel.values.ravel()]\n",
    "pred_df.to_pickle('./couple_data_without_resample_lasso_feature_selection_predictors')"
   ]
  },
  {
   "cell_type": "code",
   "execution_count": null,
   "metadata": {
    "collapsed": true
   },
   "outputs": [],
   "source": []
  }
 ],
 "metadata": {
  "kernelspec": {
   "display_name": "Python 3",
   "language": "python",
   "name": "python3"
  },
  "language_info": {
   "codemirror_mode": {
    "name": "ipython",
    "version": 3
   },
   "file_extension": ".py",
   "mimetype": "text/x-python",
   "name": "python",
   "nbconvert_exporter": "python",
   "pygments_lexer": "ipython3",
   "version": "3.6.3"
  }
 },
 "nbformat": 4,
 "nbformat_minor": 2
}
