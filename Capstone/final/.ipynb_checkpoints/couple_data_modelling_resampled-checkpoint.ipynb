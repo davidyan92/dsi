{
 "cells": [
  {
   "cell_type": "markdown",
   "metadata": {},
   "source": [
    "# Modelling"
   ]
  },
  {
   "cell_type": "code",
   "execution_count": 1,
   "metadata": {
    "collapsed": true
   },
   "outputs": [],
   "source": [
    "# Model Check\n",
    "# Oversample Minority\n",
    "# shuffle predictors and targets such that predictors point to new targets\n",
    "# Use dataset without smoteen & tomek"
   ]
  },
  {
   "cell_type": "code",
   "execution_count": 4,
   "metadata": {},
   "outputs": [
    {
     "name": "stderr",
     "output_type": "stream",
     "text": [
      "/home/ec2-user/anaconda3/lib/python3.6/importlib/_bootstrap.py:219: ImportWarning: can't resolve package from __spec__ or __package__, falling back on __name__ and __path__\n",
      "  return f(*args, **kwds)\n"
     ]
    }
   ],
   "source": [
    "import pandas as pd\n",
    "pd.set_option('max_colwidth',100)\n",
    "import numpy as np\n",
    "import matplotlib.pyplot as plt\n",
    "import scipy as sp\n",
    "import seaborn as sns\n",
    "from sklearn import preprocessing as pp\n",
    "import pickle\n",
    "%matplotlib inline\n",
    "%config InlineBackend.figure_format = 'retina'"
   ]
  },
  {
   "cell_type": "code",
   "execution_count": 5,
   "metadata": {},
   "outputs": [
    {
     "name": "stderr",
     "output_type": "stream",
     "text": [
      "/home/ec2-user/anaconda3/lib/python3.6/importlib/_bootstrap.py:219: ImportWarning: can't resolve package from __spec__ or __package__, falling back on __name__ and __path__\n",
      "  return f(*args, **kwds)\n",
      "/home/ec2-user/anaconda3/lib/python3.6/site-packages/sklearn/cross_validation.py:41: DeprecationWarning: This module was deprecated in version 0.18 in favor of the model_selection module into which all the refactored classes and functions are moved. Also note that the interface of the new CV iterators are different from that of this module. This module will be removed in 0.20.\n",
      "  \"This module will be removed in 0.20.\", DeprecationWarning)\n"
     ]
    }
   ],
   "source": [
    "# Logistic Regression\n",
    "from sklearn.linear_model import LogisticRegressionCV, LogisticRegression, SGDClassifier\n",
    "from sklearn.model_selection import cross_val_predict, GridSearchCV, train_test_split\n",
    "from sklearn import metrics\n",
    "from sklearn.preprocessing import StandardScaler\n",
    "import xgboost as xgb"
   ]
  },
  {
   "cell_type": "code",
   "execution_count": 6,
   "metadata": {
    "collapsed": true
   },
   "outputs": [],
   "source": [
    "X_st_df = pd.read_pickle('./couple_data_predictors')\n",
    "y_st_df = pd.read_pickle('./couple_data_target')"
   ]
  },
  {
   "cell_type": "code",
   "execution_count": 7,
   "metadata": {
    "collapsed": true
   },
   "outputs": [],
   "source": [
    "# Scale the resampled features\n",
    "Xs_st = StandardScaler().fit_transform(X_st_df)\n",
    "y_st = y_st_df.values.ravel()"
   ]
  },
  {
   "cell_type": "code",
   "execution_count": 8,
   "metadata": {
    "collapsed": true
   },
   "outputs": [],
   "source": [
    "# Training and Test set\n",
    "X_train, X_test, y_train, y_test = train_test_split(Xs_st, y_st, test_size=0.33, random_state=42)"
   ]
  },
  {
   "cell_type": "markdown",
   "metadata": {},
   "source": [
    "### GridSearch Logistic Regression"
   ]
  },
  {
   "cell_type": "code",
   "execution_count": 13,
   "metadata": {},
   "outputs": [
    {
     "name": "stdout",
     "output_type": "stream",
     "text": [
      "GRID SEARCH:\n",
      "Best parameters set:\n",
      "f1 score: 0.871253405995\n",
      "\tC: 0.019179102616724886\n",
      "\tpenalty: 'l2'\n",
      "\tsolver: 'liblinear'\n",
      "-----------------------------------------\n",
      "-----------------------------------------\n",
      "GRIDSEARCHCV LOGREG RESULT:\n",
      "                precision    recall  f1-score   support\n",
      "\n",
      "      break up       0.88      0.84      0.86       367\n",
      "still together       0.84      0.88      0.86       357\n",
      "\n",
      "   avg / total       0.86      0.86      0.86       724\n",
      "\n"
     ]
    }
   ],
   "source": [
    "# Gridsearch for Ridge and Lasso Logistic Regression, optimize C\n",
    "\n",
    "parameters = {\n",
    "    'penalty':['l1','l2'],\n",
    "    'solver':['liblinear'],\n",
    "    'C':np.logspace(-5,0,100)\n",
    "}\n",
    "\n",
    "print (\"GRID SEARCH:\")\n",
    "lr_grid_search = GridSearchCV(LogisticRegression(), parameters, cv=10, verbose=0)\n",
    "lr_grid_search.fit(X_train, y_train)\n",
    "print (\"Best parameters set:\")\n",
    "print('f1 score:', lr_grid_search.best_score_)\n",
    "lr_best_parameters = lr_grid_search.best_estimator_.get_params()\n",
    "for param_name in sorted(parameters.keys()):\n",
    "    print (\"\\t%s: %r\" % (param_name, lr_best_parameters[param_name]))\n",
    "print (\"-----------------------------------------\")\n",
    "print (\"-----------------------------------------\")\n",
    "print (\"GRIDSEARCHCV LOGREG RESULT:\")\n",
    "clf = lr_grid_search.best_estimator_\n",
    "lr_gs_predicted = clf.predict(X_test)\n",
    "print(metrics.classification_report(y_test, lr_gs_predicted, labels=[1,0], target_names=['break up','still together']))"
   ]
  },
  {
   "cell_type": "code",
   "execution_count": 14,
   "metadata": {},
   "outputs": [
    {
     "data": {
      "text/html": [
       "<div>\n",
       "<style>\n",
       "    .dataframe thead tr:only-child th {\n",
       "        text-align: right;\n",
       "    }\n",
       "\n",
       "    .dataframe thead th {\n",
       "        text-align: left;\n",
       "    }\n",
       "\n",
       "    .dataframe tbody tr th {\n",
       "        vertical-align: top;\n",
       "    }\n",
       "</style>\n",
       "<table border=\"1\" class=\"dataframe\">\n",
       "  <thead>\n",
       "    <tr style=\"text-align: right;\">\n",
       "      <th></th>\n",
       "      <th>coef</th>\n",
       "      <th>mag</th>\n",
       "      <th>pred</th>\n",
       "    </tr>\n",
       "  </thead>\n",
       "  <tbody>\n",
       "    <tr>\n",
       "      <th>33</th>\n",
       "      <td>-0.660917</td>\n",
       "      <td>0.660917</td>\n",
       "      <td>coresident[T.Yes]</td>\n",
       "    </tr>\n",
       "    <tr>\n",
       "      <th>31</th>\n",
       "      <td>-0.482298</td>\n",
       "      <td>0.482298</td>\n",
       "      <td>married[T.married]</td>\n",
       "    </tr>\n",
       "    <tr>\n",
       "      <th>32</th>\n",
       "      <td>-0.404847</td>\n",
       "      <td>0.404847</td>\n",
       "      <td>parental_approval[T.approve]</td>\n",
       "    </tr>\n",
       "    <tr>\n",
       "      <th>9</th>\n",
       "      <td>-0.345266</td>\n",
       "      <td>0.345266</td>\n",
       "      <td>parent_alive[T.neither father nor mother are alive]</td>\n",
       "    </tr>\n",
       "    <tr>\n",
       "      <th>43</th>\n",
       "      <td>-0.296333</td>\n",
       "      <td>0.296333</td>\n",
       "      <td>couple_relig_comb[T.Protestant or oth Christian_Protestant or oth Christian]</td>\n",
       "    </tr>\n",
       "    <tr>\n",
       "      <th>52</th>\n",
       "      <td>-0.268042</td>\n",
       "      <td>0.268042</td>\n",
       "      <td>how_long_relationship</td>\n",
       "    </tr>\n",
       "    <tr>\n",
       "      <th>50</th>\n",
       "      <td>-0.255254</td>\n",
       "      <td>0.255254</td>\n",
       "      <td>how_long_ago_first_romantic</td>\n",
       "    </tr>\n",
       "    <tr>\n",
       "      <th>18</th>\n",
       "      <td>-0.233371</td>\n",
       "      <td>0.233371</td>\n",
       "      <td>q24_church[T.Yes]</td>\n",
       "    </tr>\n",
       "    <tr>\n",
       "      <th>51</th>\n",
       "      <td>-0.227258</td>\n",
       "      <td>0.227258</td>\n",
       "      <td>how_long_ago_first_cohab</td>\n",
       "    </tr>\n",
       "    <tr>\n",
       "      <th>30</th>\n",
       "      <td>-0.205329</td>\n",
       "      <td>0.205329</td>\n",
       "      <td>met_through_as_neighbors[T.met through or as neighbors]</td>\n",
       "    </tr>\n",
       "  </tbody>\n",
       "</table>\n",
       "</div>"
      ],
      "text/plain": [
       "        coef       mag  \\\n",
       "33 -0.660917  0.660917   \n",
       "31 -0.482298  0.482298   \n",
       "32 -0.404847  0.404847   \n",
       "9  -0.345266  0.345266   \n",
       "43 -0.296333  0.296333   \n",
       "52 -0.268042  0.268042   \n",
       "50 -0.255254  0.255254   \n",
       "18 -0.233371  0.233371   \n",
       "51 -0.227258  0.227258   \n",
       "30 -0.205329  0.205329   \n",
       "\n",
       "                                                                            pred  \n",
       "33                                                             coresident[T.Yes]  \n",
       "31                                                            married[T.married]  \n",
       "32                                                  parental_approval[T.approve]  \n",
       "9                            parent_alive[T.neither father nor mother are alive]  \n",
       "43  couple_relig_comb[T.Protestant or oth Christian_Protestant or oth Christian]  \n",
       "52                                                         how_long_relationship  \n",
       "50                                                   how_long_ago_first_romantic  \n",
       "18                                                             q24_church[T.Yes]  \n",
       "51                                                      how_long_ago_first_cohab  \n",
       "30                       met_through_as_neighbors[T.met through or as neighbors]  "
      ]
     },
     "execution_count": 14,
     "metadata": {},
     "output_type": "execute_result"
    }
   ],
   "source": [
    "# Get top 10 coefficients\n",
    "lr_gs_coef = pd.DataFrame({\n",
    "    'coef':clf.coef_.ravel(),\n",
    "    'mag':np.abs(clf.coef_.ravel()),\n",
    "    'pred':X_st_df.columns\n",
    "})\n",
    "lr_gs_coef.sort_values(by=['mag'], ascending=False, inplace=True)\n",
    "lr_gs_coef.head(10)"
   ]
  },
  {
   "cell_type": "markdown",
   "metadata": {},
   "source": [
    "### GridSearch SGDClassifier"
   ]
  },
  {
   "cell_type": "code",
   "execution_count": 15,
   "metadata": {},
   "outputs": [
    {
     "name": "stdout",
     "output_type": "stream",
     "text": [
      "GRID SEARCH:\n",
      "Best parameters set:\n",
      "f1 score: 0.873978201635\n",
      "\talpha: 0.0053366992312063122\n",
      "\tl1_ratio: 0.10000000000000001\n",
      "\tlearning_rate: 'optimal'\n",
      "\tloss: 'log'\n",
      "\tpenalty: 'elasticnet'\n",
      "-----------------------------------------\n",
      "-----------------------------------------\n",
      "GRIDSEARCHCV SGDCLASSIFIER RESULT:\n",
      "                precision    recall  f1-score   support\n",
      "\n",
      "      break up       0.88      0.84      0.86       367\n",
      "still together       0.84      0.88      0.86       357\n",
      "\n",
      "   avg / total       0.86      0.86      0.86       724\n",
      "\n"
     ]
    }
   ],
   "source": [
    "# Gridsearch SGDclassifier with log loss and optimal learning rate\n",
    "\n",
    "sgd_parameters = {\n",
    "    'learning_rate': ['optimal'],\n",
    "    'loss':['log','hinge'],\n",
    "    'penalty': ['l1','l2','elasticnet'],\n",
    "    'alpha': np.logspace(-10,5,100),\n",
    "    'l1_ratio': np.logspace(-1,0,20)\n",
    "}\n",
    "\n",
    "print (\"GRID SEARCH:\")\n",
    "sgd_grid_search = GridSearchCV(SGDClassifier(max_iter=10000, tol=0.0001), sgd_parameters, cv=10, verbose=0)\n",
    "sgd_grid_search.fit(X_train, y_train)\n",
    "print (\"Best parameters set:\")\n",
    "print('f1 score:', sgd_grid_search.best_score_)\n",
    "sgd_best_parameters = sgd_grid_search.best_estimator_.get_params()\n",
    "for param_name in sorted(sgd_parameters.keys()):\n",
    "    print (\"\\t%s: %r\" % (param_name, sgd_best_parameters[param_name]))\n",
    "print (\"-----------------------------------------\")\n",
    "print (\"-----------------------------------------\")\n",
    "print (\"GRIDSEARCHCV SGDCLASSIFIER RESULT:\")\n",
    "sgd_clf = sgd_grid_search.best_estimator_\n",
    "sgd_predicted = sgd_clf.predict(X_test)\n",
    "print(metrics.classification_report(y_test, sgd_predicted, labels=[1,0], target_names=['break up','still together']))"
   ]
  },
  {
   "cell_type": "code",
   "execution_count": 16,
   "metadata": {},
   "outputs": [
    {
     "data": {
      "text/html": [
       "<div>\n",
       "<style>\n",
       "    .dataframe thead tr:only-child th {\n",
       "        text-align: right;\n",
       "    }\n",
       "\n",
       "    .dataframe thead th {\n",
       "        text-align: left;\n",
       "    }\n",
       "\n",
       "    .dataframe tbody tr th {\n",
       "        vertical-align: top;\n",
       "    }\n",
       "</style>\n",
       "<table border=\"1\" class=\"dataframe\">\n",
       "  <thead>\n",
       "    <tr style=\"text-align: right;\">\n",
       "      <th></th>\n",
       "      <th>coef</th>\n",
       "      <th>mag</th>\n",
       "      <th>pred</th>\n",
       "    </tr>\n",
       "  </thead>\n",
       "  <tbody>\n",
       "    <tr>\n",
       "      <th>33</th>\n",
       "      <td>-0.984743</td>\n",
       "      <td>0.984743</td>\n",
       "      <td>coresident[T.Yes]</td>\n",
       "    </tr>\n",
       "    <tr>\n",
       "      <th>32</th>\n",
       "      <td>-0.595150</td>\n",
       "      <td>0.595150</td>\n",
       "      <td>parental_approval[T.approve]</td>\n",
       "    </tr>\n",
       "    <tr>\n",
       "      <th>9</th>\n",
       "      <td>-0.563936</td>\n",
       "      <td>0.563936</td>\n",
       "      <td>parent_alive[T.neither father nor mother are alive]</td>\n",
       "    </tr>\n",
       "    <tr>\n",
       "      <th>31</th>\n",
       "      <td>-0.553029</td>\n",
       "      <td>0.553029</td>\n",
       "      <td>married[T.married]</td>\n",
       "    </tr>\n",
       "    <tr>\n",
       "      <th>51</th>\n",
       "      <td>-0.516062</td>\n",
       "      <td>0.516062</td>\n",
       "      <td>how_long_ago_first_cohab</td>\n",
       "    </tr>\n",
       "    <tr>\n",
       "      <th>43</th>\n",
       "      <td>-0.460647</td>\n",
       "      <td>0.460647</td>\n",
       "      <td>couple_relig_comb[T.Protestant or oth Christian_Protestant or oth Christian]</td>\n",
       "    </tr>\n",
       "    <tr>\n",
       "      <th>37</th>\n",
       "      <td>-0.377442</td>\n",
       "      <td>0.377442</td>\n",
       "      <td>couple_politic_view_comb[T.republican_other]</td>\n",
       "    </tr>\n",
       "    <tr>\n",
       "      <th>18</th>\n",
       "      <td>-0.335849</td>\n",
       "      <td>0.335849</td>\n",
       "      <td>q24_church[T.Yes]</td>\n",
       "    </tr>\n",
       "    <tr>\n",
       "      <th>52</th>\n",
       "      <td>-0.326403</td>\n",
       "      <td>0.326403</td>\n",
       "      <td>how_long_relationship</td>\n",
       "    </tr>\n",
       "    <tr>\n",
       "      <th>56</th>\n",
       "      <td>-0.301940</td>\n",
       "      <td>0.301940</td>\n",
       "      <td>partner_yrsed</td>\n",
       "    </tr>\n",
       "  </tbody>\n",
       "</table>\n",
       "</div>"
      ],
      "text/plain": [
       "        coef       mag  \\\n",
       "33 -0.984743  0.984743   \n",
       "32 -0.595150  0.595150   \n",
       "9  -0.563936  0.563936   \n",
       "31 -0.553029  0.553029   \n",
       "51 -0.516062  0.516062   \n",
       "43 -0.460647  0.460647   \n",
       "37 -0.377442  0.377442   \n",
       "18 -0.335849  0.335849   \n",
       "52 -0.326403  0.326403   \n",
       "56 -0.301940  0.301940   \n",
       "\n",
       "                                                                            pred  \n",
       "33                                                             coresident[T.Yes]  \n",
       "32                                                  parental_approval[T.approve]  \n",
       "9                            parent_alive[T.neither father nor mother are alive]  \n",
       "31                                                            married[T.married]  \n",
       "51                                                      how_long_ago_first_cohab  \n",
       "43  couple_relig_comb[T.Protestant or oth Christian_Protestant or oth Christian]  \n",
       "37                                  couple_politic_view_comb[T.republican_other]  \n",
       "18                                                             q24_church[T.Yes]  \n",
       "52                                                         how_long_relationship  \n",
       "56                                                                 partner_yrsed  "
      ]
     },
     "execution_count": 16,
     "metadata": {},
     "output_type": "execute_result"
    }
   ],
   "source": [
    "# Get top 10 coefficients\n",
    "sgd_coef = pd.DataFrame({\n",
    "    'coef':sgd_clf.coef_.ravel(),\n",
    "    'mag':np.abs(sgd_clf.coef_.ravel()),\n",
    "    'pred':X_st_df.columns\n",
    "})\n",
    "sgd_coef.sort_values(by=['mag'], ascending=False, inplace=True)\n",
    "sgd_coef.head(10)"
   ]
  },
  {
   "cell_type": "markdown",
   "metadata": {},
   "source": [
    "### GridSearch XGBoost Classifier"
   ]
  },
  {
   "cell_type": "code",
   "execution_count": 17,
   "metadata": {},
   "outputs": [
    {
     "name": "stdout",
     "output_type": "stream",
     "text": [
      "f1 score: 0.877142802118\n",
      "colsample_bytree: 0.7\n",
      "learning_rate: 0.05\n",
      "max_depth: 6\n",
      "min_child_weight: 11\n",
      "missing: -999\n",
      "n_estimators: 1000\n",
      "nthread: 4\n",
      "objective: 'binary:logistic'\n",
      "seed: 65\n",
      "silent: 1\n",
      "subsample: 0.8\n",
      "-----------------------------------------\n",
      "-----------------------------------------\n",
      "GRIDSEARCHCV XGBCLASSIFIER RESULT:\n",
      "                precision    recall  f1-score   support\n",
      "\n",
      "      break up       0.88      0.86      0.87       367\n",
      "still together       0.86      0.88      0.87       357\n",
      "\n",
      "   avg / total       0.87      0.87      0.87       724\n",
      "\n"
     ]
    },
    {
     "name": "stderr",
     "output_type": "stream",
     "text": [
      "/home/ec2-user/anaconda3/lib/python3.6/site-packages/sklearn/model_selection/_search.py:761: DeprecationWarning: The grid_scores_ attribute was deprecated in version 0.18 in favor of the more elaborate cv_results_ attribute. The grid_scores_ attribute will not be available from 0.20\n",
      "  DeprecationWarning)\n"
     ]
    }
   ],
   "source": [
    "# Reference link: https://www.kaggle.com/phunter/xgboost-with-gridsearchcv\n",
    "# Credit to Shize's R code and the python re-implementation\n",
    "\n",
    "xgb_model = xgb.XGBClassifier()\n",
    "\n",
    "#brute force scan for all parameters, here are the tricks\n",
    "#usually max_depth is 6,7,8\n",
    "#learning rate is around 0.05, but small changes may make big diff\n",
    "#tuning min_child_weight subsample colsample_bytree can have \n",
    "#much fun of fighting against overfit \n",
    "#n_estimators is how many round of boosting\n",
    "#finally, ensemble xgboost with multiple seeds may reduce variance\n",
    "parameters = {'nthread':[4], #when use hyperthread, xgboost may become slower\n",
    "              'objective':['binary:logistic'],\n",
    "              'learning_rate': [0.05], #so called `eta` value\n",
    "              'max_depth': [6,7,8],\n",
    "              'min_child_weight': [11],\n",
    "              'silent': [1],\n",
    "              'subsample': [0.8],\n",
    "              'colsample_bytree': [0.7],\n",
    "              'n_estimators': [1000], #number of trees, change it to 1000 for better results\n",
    "              'missing':[-999],\n",
    "              'seed': [65]}\n",
    "\n",
    "xgb_clf = GridSearchCV(xgb_model, parameters, n_jobs=5, scoring='f1', verbose=0, refit=True, cv=10)\n",
    "\n",
    "xgb_clf.fit(X_train, y_train)\n",
    "\n",
    "best_parameters, score, _ = max(xgb_clf.grid_scores_, key=lambda x: x[1])\n",
    "print('f1 score:', score)\n",
    "for param_name in sorted(best_parameters.keys()):\n",
    "    print(\"%s: %r\" % (param_name, best_parameters[param_name]))\n",
    "    \n",
    "print (\"-----------------------------------------\")\n",
    "print (\"-----------------------------------------\")\n",
    "print (\"GRIDSEARCHCV XGBCLASSIFIER RESULT:\")\n",
    "xgb_predicted = xgb_clf.best_estimator_.predict(X_test)\n",
    "print(metrics.classification_report(y_test, xgb_predicted, labels=[1,0], target_names=['break up','still together']))"
   ]
  },
  {
   "cell_type": "code",
   "execution_count": 18,
   "metadata": {},
   "outputs": [
    {
     "data": {
      "text/html": [
       "<div>\n",
       "<style>\n",
       "    .dataframe thead tr:only-child th {\n",
       "        text-align: right;\n",
       "    }\n",
       "\n",
       "    .dataframe thead th {\n",
       "        text-align: left;\n",
       "    }\n",
       "\n",
       "    .dataframe tbody tr th {\n",
       "        vertical-align: top;\n",
       "    }\n",
       "</style>\n",
       "<table border=\"1\" class=\"dataframe\">\n",
       "  <thead>\n",
       "    <tr style=\"text-align: right;\">\n",
       "      <th></th>\n",
       "      <th>importance</th>\n",
       "      <th>pred</th>\n",
       "    </tr>\n",
       "  </thead>\n",
       "  <tbody>\n",
       "    <tr>\n",
       "      <th>48</th>\n",
       "      <td>0.106005</td>\n",
       "      <td>distancemoved_10mi</td>\n",
       "    </tr>\n",
       "    <tr>\n",
       "      <th>50</th>\n",
       "      <td>0.088425</td>\n",
       "      <td>how_long_ago_first_romantic</td>\n",
       "    </tr>\n",
       "    <tr>\n",
       "      <th>49</th>\n",
       "      <td>0.086510</td>\n",
       "      <td>how_long_ago_first_met</td>\n",
       "    </tr>\n",
       "    <tr>\n",
       "      <th>53</th>\n",
       "      <td>0.083203</td>\n",
       "      <td>age_difference</td>\n",
       "    </tr>\n",
       "    <tr>\n",
       "      <th>51</th>\n",
       "      <td>0.075544</td>\n",
       "      <td>how_long_ago_first_cohab</td>\n",
       "    </tr>\n",
       "    <tr>\n",
       "      <th>56</th>\n",
       "      <td>0.063011</td>\n",
       "      <td>partner_yrsed</td>\n",
       "    </tr>\n",
       "    <tr>\n",
       "      <th>58</th>\n",
       "      <td>0.055875</td>\n",
       "      <td>respondent_mom_yrsed</td>\n",
       "    </tr>\n",
       "    <tr>\n",
       "      <th>55</th>\n",
       "      <td>0.047346</td>\n",
       "      <td>respondent_yrsed</td>\n",
       "    </tr>\n",
       "    <tr>\n",
       "      <th>52</th>\n",
       "      <td>0.042646</td>\n",
       "      <td>how_long_relationship</td>\n",
       "    </tr>\n",
       "    <tr>\n",
       "      <th>32</th>\n",
       "      <td>0.039164</td>\n",
       "      <td>parental_approval[T.approve]</td>\n",
       "    </tr>\n",
       "  </tbody>\n",
       "</table>\n",
       "</div>"
      ],
      "text/plain": [
       "    importance                          pred\n",
       "48    0.106005            distancemoved_10mi\n",
       "50    0.088425   how_long_ago_first_romantic\n",
       "49    0.086510        how_long_ago_first_met\n",
       "53    0.083203                age_difference\n",
       "51    0.075544      how_long_ago_first_cohab\n",
       "56    0.063011                 partner_yrsed\n",
       "58    0.055875          respondent_mom_yrsed\n",
       "55    0.047346              respondent_yrsed\n",
       "52    0.042646         how_long_relationship\n",
       "32    0.039164  parental_approval[T.approve]"
      ]
     },
     "execution_count": 18,
     "metadata": {},
     "output_type": "execute_result"
    }
   ],
   "source": [
    "# Get top 10 coefficients\n",
    "xgb_featimpt = pd.DataFrame({\n",
    "    'importance':xgb_clf.best_estimator_.feature_importances_,\n",
    "    'pred':X_st_df.columns\n",
    "})\n",
    "xgb_featimpt = xgb_featimpt[xgb_featimpt.importance > 0]\n",
    "xgb_featimpt.sort_values(by=['importance'], ascending=False, inplace=True)\n",
    "xgb_featimpt.head(10)"
   ]
  },
  {
   "cell_type": "code",
   "execution_count": 19,
   "metadata": {},
   "outputs": [
    {
     "name": "stdout",
     "output_type": "stream",
     "text": [
      "0.867403314917\n"
     ]
    }
   ],
   "source": [
    "print(metrics.accuracy_score(y_test, xgb_predicted))"
   ]
  },
  {
   "cell_type": "code",
   "execution_count": 20,
   "metadata": {
    "scrolled": true
   },
   "outputs": [
    {
     "data": {
      "text/html": [
       "<div>\n",
       "<style>\n",
       "    .dataframe thead tr:only-child th {\n",
       "        text-align: right;\n",
       "    }\n",
       "\n",
       "    .dataframe thead th {\n",
       "        text-align: left;\n",
       "    }\n",
       "\n",
       "    .dataframe tbody tr th {\n",
       "        vertical-align: top;\n",
       "    }\n",
       "</style>\n",
       "<table border=\"1\" class=\"dataframe\">\n",
       "  <thead>\n",
       "    <tr style=\"text-align: right;\">\n",
       "      <th></th>\n",
       "      <th>importance</th>\n",
       "      <th>pred</th>\n",
       "    </tr>\n",
       "  </thead>\n",
       "  <tbody>\n",
       "    <tr>\n",
       "      <th>0</th>\n",
       "      <td>0.0</td>\n",
       "      <td>Intercept</td>\n",
       "    </tr>\n",
       "    <tr>\n",
       "      <th>6</th>\n",
       "      <td>0.0</td>\n",
       "      <td>both_parents_knew_before_met[T.yes]</td>\n",
       "    </tr>\n",
       "    <tr>\n",
       "      <th>7</th>\n",
       "      <td>0.0</td>\n",
       "      <td>parent_alive[T.father only]</td>\n",
       "    </tr>\n",
       "    <tr>\n",
       "      <th>11</th>\n",
       "      <td>0.0</td>\n",
       "      <td>fam_intro_partner[T.yes]</td>\n",
       "    </tr>\n",
       "    <tr>\n",
       "      <th>13</th>\n",
       "      <td>0.0</td>\n",
       "      <td>colleague_intro_partner[T.yes]</td>\n",
       "    </tr>\n",
       "    <tr>\n",
       "      <th>16</th>\n",
       "      <td>0.0</td>\n",
       "      <td>q24_school[T.Yes]</td>\n",
       "    </tr>\n",
       "    <tr>\n",
       "      <th>17</th>\n",
       "      <td>0.0</td>\n",
       "      <td>q24_college[T.Yes]</td>\n",
       "    </tr>\n",
       "    <tr>\n",
       "      <th>18</th>\n",
       "      <td>0.0</td>\n",
       "      <td>q24_church[T.Yes]</td>\n",
       "    </tr>\n",
       "    <tr>\n",
       "      <th>19</th>\n",
       "      <td>0.0</td>\n",
       "      <td>q24_vol_org[T.Yes]</td>\n",
       "    </tr>\n",
       "    <tr>\n",
       "      <th>20</th>\n",
       "      <td>0.0</td>\n",
       "      <td>q24_customer[T.Yes]</td>\n",
       "    </tr>\n",
       "    <tr>\n",
       "      <th>22</th>\n",
       "      <td>0.0</td>\n",
       "      <td>q24_internet_dating[T.Yes]</td>\n",
       "    </tr>\n",
       "    <tr>\n",
       "      <th>23</th>\n",
       "      <td>0.0</td>\n",
       "      <td>q24_public[T.Yes]</td>\n",
       "    </tr>\n",
       "    <tr>\n",
       "      <th>25</th>\n",
       "      <td>0.0</td>\n",
       "      <td>q24_fam_female[T.Yes]</td>\n",
       "    </tr>\n",
       "    <tr>\n",
       "      <th>26</th>\n",
       "      <td>0.0</td>\n",
       "      <td>q24_fam_male[T.Yes]</td>\n",
       "    </tr>\n",
       "    <tr>\n",
       "      <th>36</th>\n",
       "      <td>0.0</td>\n",
       "      <td>couple_politic_view_comb[T.other_other]</td>\n",
       "    </tr>\n",
       "    <tr>\n",
       "      <th>41</th>\n",
       "      <td>0.0</td>\n",
       "      <td>couple_relig_comb[T.Catholic_other]</td>\n",
       "    </tr>\n",
       "    <tr>\n",
       "      <th>45</th>\n",
       "      <td>0.0</td>\n",
       "      <td>couple_relig_comb[T.other_other]</td>\n",
       "    </tr>\n",
       "  </tbody>\n",
       "</table>\n",
       "</div>"
      ],
      "text/plain": [
       "    importance                                     pred\n",
       "0          0.0                                Intercept\n",
       "6          0.0      both_parents_knew_before_met[T.yes]\n",
       "7          0.0              parent_alive[T.father only]\n",
       "11         0.0                 fam_intro_partner[T.yes]\n",
       "13         0.0           colleague_intro_partner[T.yes]\n",
       "16         0.0                        q24_school[T.Yes]\n",
       "17         0.0                       q24_college[T.Yes]\n",
       "18         0.0                        q24_church[T.Yes]\n",
       "19         0.0                       q24_vol_org[T.Yes]\n",
       "20         0.0                      q24_customer[T.Yes]\n",
       "22         0.0               q24_internet_dating[T.Yes]\n",
       "23         0.0                        q24_public[T.Yes]\n",
       "25         0.0                    q24_fam_female[T.Yes]\n",
       "26         0.0                      q24_fam_male[T.Yes]\n",
       "36         0.0  couple_politic_view_comb[T.other_other]\n",
       "41         0.0      couple_relig_comb[T.Catholic_other]\n",
       "45         0.0         couple_relig_comb[T.other_other]"
      ]
     },
     "execution_count": 20,
     "metadata": {},
     "output_type": "execute_result"
    }
   ],
   "source": [
    "xgb_featimpt = pd.DataFrame({\n",
    "    'importance':xgb_clf.best_estimator_.feature_importances_,\n",
    "    'pred':X_st_df.columns\n",
    "})\n",
    "xgb_featimpt[xgb_featimpt.importance <= 0]"
   ]
  },
  {
   "cell_type": "code",
   "execution_count": 9,
   "metadata": {
    "collapsed": true
   },
   "outputs": [],
   "source": [
    "# Try TPOT\n",
    "from tpot import TPOTClassifier"
   ]
  },
  {
   "cell_type": "code",
   "execution_count": 10,
   "metadata": {},
   "outputs": [
    {
     "name": "stderr",
     "output_type": "stream",
     "text": [
      "/home/ec2-user/anaconda3/lib/python3.6/importlib/_bootstrap.py:219: ImportWarning: can't resolve package from __spec__ or __package__, falling back on __name__ and __path__\n",
      "  return f(*args, **kwds)\n"
     ]
    }
   ],
   "source": [
    "pipeline_optimizer = TPOTClassifier(generations=5, population_size=20, cv=5,\n",
    "                                    random_state=42, verbosity=2, n_jobs=-1)"
   ]
  },
  {
   "cell_type": "code",
   "execution_count": 11,
   "metadata": {},
   "outputs": [
    {
     "name": "stderr",
     "output_type": "stream",
     "text": [
      "Optimization Progress:  33%|███▎      | 40/120 [00:48<01:21,  1.02s/pipeline]"
     ]
    },
    {
     "name": "stdout",
     "output_type": "stream",
     "text": [
      "Generation 1 - Current best internal CV score: 0.8699235858727054\n"
     ]
    },
    {
     "name": "stderr",
     "output_type": "stream",
     "text": [
      "Optimization Progress:  50%|█████     | 60/120 [01:05<00:39,  1.52pipeline/s]"
     ]
    },
    {
     "name": "stdout",
     "output_type": "stream",
     "text": [
      "Generation 2 - Current best internal CV score: 0.8712841300903923\n"
     ]
    },
    {
     "name": "stderr",
     "output_type": "stream",
     "text": [
      "Optimization Progress:  67%|██████▋   | 80/120 [01:32<01:45,  2.64s/pipeline]"
     ]
    },
    {
     "name": "stdout",
     "output_type": "stream",
     "text": [
      "Generation 3 - Current best internal CV score: 0.8712841300903923\n"
     ]
    },
    {
     "name": "stderr",
     "output_type": "stream",
     "text": [
      "Optimization Progress:  83%|████████▎ | 100/120 [02:18<00:48,  2.41s/pipeline]"
     ]
    },
    {
     "name": "stdout",
     "output_type": "stream",
     "text": [
      "Generation 4 - Current best internal CV score: 0.8746948094306216\n"
     ]
    },
    {
     "name": "stderr",
     "output_type": "stream",
     "text": [
      "                                                                              \r"
     ]
    },
    {
     "name": "stdout",
     "output_type": "stream",
     "text": [
      "Generation 5 - Current best internal CV score: 0.8746948094306216\n",
      "\n",
      "Best pipeline: GradientBoostingClassifier(CombineDFs(input_matrix, input_matrix), learning_rate=0.1, max_depth=6, max_features=0.85, min_samples_leaf=1, min_samples_split=13, n_estimators=100, subsample=0.6)\n",
      "0.875690607735\n"
     ]
    }
   ],
   "source": [
    "pipeline_optimizer.fit(X_train, y_train)\n",
    "print(pipeline_optimizer.score(X_test, y_test))\n",
    "# pipeline_optimizer.export('tpot_exported_pipeline.py')"
   ]
  },
  {
   "cell_type": "code",
   "execution_count": 14,
   "metadata": {},
   "outputs": [
    {
     "name": "stdout",
     "output_type": "stream",
     "text": [
      "                precision    recall  f1-score   support\n",
      "\n",
      "      break up       0.88      0.88      0.88       367\n",
      "still together       0.87      0.87      0.87       357\n",
      "\n",
      "   avg / total       0.88      0.88      0.88       724\n",
      "\n"
     ]
    }
   ],
   "source": [
    "yhat = pipeline_optimizer.predict(X_test)\n",
    "print(metrics.classification_report(y_test, yhat, labels=[1,0], target_names=['break up','still together']))"
   ]
  },
  {
   "cell_type": "markdown",
   "metadata": {},
   "source": [
    "### Best Models from TPOT\n",
    "> * Gradient Boosting Classifier - **precision: 0.88** | **recall: 0.88** | **f1-score: 0.88**\n",
    "* Extra Trees Classifier - **precision: 0.87** | **recall: 0.87** | **f1-score: 0.87**"
   ]
  },
  {
   "cell_type": "code",
   "execution_count": 15,
   "metadata": {
    "collapsed": true
   },
   "outputs": [],
   "source": [
    "extratreesclassifier = pipeline_optimizer.fitted_pipeline_.steps[-1][1]"
   ]
  },
  {
   "cell_type": "code",
   "execution_count": 17,
   "metadata": {},
   "outputs": [
    {
     "data": {
      "text/plain": [
       "Pipeline(memory=None,\n",
       "     steps=[('featureunion', FeatureUnion(n_jobs=1,\n",
       "       transformer_list=[('functiontransformer-1', FunctionTransformer(accept_sparse=False,\n",
       "          func=<function copy at 0x7ff6406b57b8>, inv_kw_args=None,\n",
       "          inverse_func=None, kw_args=None, pass_y='deprecated',\n",
       "          validate=True)), ('...auto', random_state=None,\n",
       "              subsample=0.6000000000000001, verbose=0, warm_start=False))])"
      ]
     },
     "execution_count": 17,
     "metadata": {},
     "output_type": "execute_result"
    }
   ],
   "source": [
    "pipeline_optimizer.fitted_pipeline_"
   ]
  },
  {
   "cell_type": "code",
   "execution_count": 16,
   "metadata": {},
   "outputs": [
    {
     "ename": "NotFittedError",
     "evalue": "This GradientBoostingClassifier instance is not fitted yet. Call 'fit' with appropriate arguments before using this method.",
     "output_type": "error",
     "traceback": [
      "\u001b[0;31m---------------------------------------------------------------------------\u001b[0m",
      "\u001b[0;31mNotFittedError\u001b[0m                            Traceback (most recent call last)",
      "\u001b[0;32m<ipython-input-16-50f9b429c8a2>\u001b[0m in \u001b[0;36m<module>\u001b[0;34m()\u001b[0m\n\u001b[1;32m      6\u001b[0m export_graphviz(extratreesclassifier, out_file=dot_data,  \n\u001b[1;32m      7\u001b[0m                 \u001b[0mfilled\u001b[0m\u001b[0;34m=\u001b[0m\u001b[0;32mTrue\u001b[0m\u001b[0;34m,\u001b[0m \u001b[0mrounded\u001b[0m\u001b[0;34m=\u001b[0m\u001b[0;32mTrue\u001b[0m\u001b[0;34m,\u001b[0m\u001b[0;34m\u001b[0m\u001b[0m\n\u001b[0;32m----> 8\u001b[0;31m                 special_characters=True)\n\u001b[0m\u001b[1;32m      9\u001b[0m \u001b[0mgraph\u001b[0m \u001b[0;34m=\u001b[0m \u001b[0mpydotplus\u001b[0m\u001b[0;34m.\u001b[0m\u001b[0mgraph_from_dot_data\u001b[0m\u001b[0;34m(\u001b[0m\u001b[0mdot_data\u001b[0m\u001b[0;34m.\u001b[0m\u001b[0mgetvalue\u001b[0m\u001b[0;34m(\u001b[0m\u001b[0;34m)\u001b[0m\u001b[0;34m)\u001b[0m\u001b[0;34m\u001b[0m\u001b[0m\n\u001b[1;32m     10\u001b[0m \u001b[0mImage\u001b[0m\u001b[0;34m(\u001b[0m\u001b[0mgraph\u001b[0m\u001b[0;34m.\u001b[0m\u001b[0mcreate_png\u001b[0m\u001b[0;34m(\u001b[0m\u001b[0;34m)\u001b[0m\u001b[0;34m)\u001b[0m\u001b[0;34m\u001b[0m\u001b[0m\n",
      "\u001b[0;32m~/anaconda3/lib/python3.6/site-packages/sklearn/tree/export.py\u001b[0m in \u001b[0;36mexport_graphviz\u001b[0;34m(decision_tree, out_file, max_depth, feature_names, class_names, label, filled, leaves_parallel, impurity, node_ids, proportion, rotate, rounded, special_characters, precision)\u001b[0m\n\u001b[1;32m    390\u001b[0m                 \u001b[0mout_file\u001b[0m\u001b[0;34m.\u001b[0m\u001b[0mwrite\u001b[0m\u001b[0;34m(\u001b[0m\u001b[0;34m'%d -> %d ;\\n'\u001b[0m \u001b[0;34m%\u001b[0m \u001b[0;34m(\u001b[0m\u001b[0mparent\u001b[0m\u001b[0;34m,\u001b[0m \u001b[0mnode_id\u001b[0m\u001b[0;34m)\u001b[0m\u001b[0;34m)\u001b[0m\u001b[0;34m\u001b[0m\u001b[0m\n\u001b[1;32m    391\u001b[0m \u001b[0;34m\u001b[0m\u001b[0m\n\u001b[0;32m--> 392\u001b[0;31m     \u001b[0mcheck_is_fitted\u001b[0m\u001b[0;34m(\u001b[0m\u001b[0mdecision_tree\u001b[0m\u001b[0;34m,\u001b[0m \u001b[0;34m'tree_'\u001b[0m\u001b[0;34m)\u001b[0m\u001b[0;34m\u001b[0m\u001b[0m\n\u001b[0m\u001b[1;32m    393\u001b[0m     \u001b[0mown_file\u001b[0m \u001b[0;34m=\u001b[0m \u001b[0;32mFalse\u001b[0m\u001b[0;34m\u001b[0m\u001b[0m\n\u001b[1;32m    394\u001b[0m     \u001b[0mreturn_string\u001b[0m \u001b[0;34m=\u001b[0m \u001b[0;32mFalse\u001b[0m\u001b[0;34m\u001b[0m\u001b[0m\n",
      "\u001b[0;32m~/anaconda3/lib/python3.6/site-packages/sklearn/utils/validation.py\u001b[0m in \u001b[0;36mcheck_is_fitted\u001b[0;34m(estimator, attributes, msg, all_or_any)\u001b[0m\n\u001b[1;32m    766\u001b[0m \u001b[0;34m\u001b[0m\u001b[0m\n\u001b[1;32m    767\u001b[0m     \u001b[0;32mif\u001b[0m \u001b[0;32mnot\u001b[0m \u001b[0mall_or_any\u001b[0m\u001b[0;34m(\u001b[0m\u001b[0;34m[\u001b[0m\u001b[0mhasattr\u001b[0m\u001b[0;34m(\u001b[0m\u001b[0mestimator\u001b[0m\u001b[0;34m,\u001b[0m \u001b[0mattr\u001b[0m\u001b[0;34m)\u001b[0m \u001b[0;32mfor\u001b[0m \u001b[0mattr\u001b[0m \u001b[0;32min\u001b[0m \u001b[0mattributes\u001b[0m\u001b[0;34m]\u001b[0m\u001b[0;34m)\u001b[0m\u001b[0;34m:\u001b[0m\u001b[0;34m\u001b[0m\u001b[0m\n\u001b[0;32m--> 768\u001b[0;31m         \u001b[0;32mraise\u001b[0m \u001b[0mNotFittedError\u001b[0m\u001b[0;34m(\u001b[0m\u001b[0mmsg\u001b[0m \u001b[0;34m%\u001b[0m \u001b[0;34m{\u001b[0m\u001b[0;34m'name'\u001b[0m\u001b[0;34m:\u001b[0m \u001b[0mtype\u001b[0m\u001b[0;34m(\u001b[0m\u001b[0mestimator\u001b[0m\u001b[0;34m)\u001b[0m\u001b[0;34m.\u001b[0m\u001b[0m__name__\u001b[0m\u001b[0;34m}\u001b[0m\u001b[0;34m)\u001b[0m\u001b[0;34m\u001b[0m\u001b[0m\n\u001b[0m\u001b[1;32m    769\u001b[0m \u001b[0;34m\u001b[0m\u001b[0m\n\u001b[1;32m    770\u001b[0m \u001b[0;34m\u001b[0m\u001b[0m\n",
      "\u001b[0;31mNotFittedError\u001b[0m: This GradientBoostingClassifier instance is not fitted yet. Call 'fit' with appropriate arguments before using this method."
     ]
    }
   ],
   "source": [
    "from sklearn.externals.six import StringIO  \n",
    "from IPython.display import Image  \n",
    "from sklearn.tree import export_graphviz\n",
    "import pydotplus\n",
    "dot_data = StringIO()\n",
    "export_graphviz(extratreesclassifier, out_file=dot_data,  \n",
    "                filled=True, rounded=True,\n",
    "                special_characters=True)\n",
    "graph = pydotplus.graph_from_dot_data(dot_data.getvalue())  \n",
    "Image(graph.create_png())"
   ]
  },
  {
   "cell_type": "code",
   "execution_count": null,
   "metadata": {
    "collapsed": true
   },
   "outputs": [],
   "source": []
  }
 ],
 "metadata": {
  "kernelspec": {
   "display_name": "Python 3",
   "language": "python",
   "name": "python3"
  },
  "language_info": {
   "codemirror_mode": {
    "name": "ipython",
    "version": 3
   },
   "file_extension": ".py",
   "mimetype": "text/x-python",
   "name": "python",
   "nbconvert_exporter": "python",
   "pygments_lexer": "ipython3",
   "version": "3.6.3"
  }
 },
 "nbformat": 4,
 "nbformat_minor": 2
}
