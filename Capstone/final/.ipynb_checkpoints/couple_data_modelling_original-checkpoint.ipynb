{
 "cells": [
  {
   "cell_type": "code",
   "execution_count": 1,
   "metadata": {
    "collapsed": true
   },
   "outputs": [],
   "source": [
    "# Model Check\n",
    "# Oversample Minority\n",
    "# Shuffle Predictors and Targets such that predictors point to new targets\n",
    "# Use dataset without Smoteen & Tomek"
   ]
  },
  {
   "cell_type": "code",
   "execution_count": 1,
   "metadata": {
    "collapsed": true
   },
   "outputs": [],
   "source": [
    "import pandas as pd\n",
    "import numpy as np\n",
    "pd.set_option('max_colwidth',100)\n",
    "import matplotlib.pyplot as plt\n",
    "import scipy as sp\n",
    "import seaborn as sns\n",
    "from sklearn import preprocessing as pp\n",
    "import pickle\n",
    "%matplotlib inline\n",
    "%config InlineBackend.figure_format = 'retina'"
   ]
  },
  {
   "cell_type": "code",
   "execution_count": 2,
   "metadata": {
    "collapsed": true
   },
   "outputs": [],
   "source": [
    "from sklearn.linear_model import LogisticRegressionCV, LogisticRegression, SGDClassifier\n",
    "from sklearn.model_selection import cross_val_predict, GridSearchCV, train_test_split\n",
    "from sklearn import metrics\n",
    "from sklearn.preprocessing import StandardScaler\n",
    "import xgboost as xgb"
   ]
  },
  {
   "cell_type": "code",
   "execution_count": 3,
   "metadata": {
    "collapsed": true
   },
   "outputs": [],
   "source": [
    "# pred = pd.read_pickle('./couple_data_without_resample_lasso_feature_selection_predictors')\n",
    "pred = pd.read_pickle('./couple_data_without_resample_lasso_feature_selection_predictors')\n",
    "target = pd.read_pickle('./couple_data_without_resample_target')"
   ]
  },
  {
   "cell_type": "code",
   "execution_count": 4,
   "metadata": {
    "collapsed": true
   },
   "outputs": [],
   "source": [
    "X_train, X_test, y_train, y_test = train_test_split(pred.values, target.values.ravel(), test_size=0.3, random_state=42)"
   ]
  },
  {
   "cell_type": "markdown",
   "metadata": {},
   "source": [
    "### GridSearch Logistic Regression"
   ]
  },
  {
   "cell_type": "code",
   "execution_count": 13,
   "metadata": {},
   "outputs": [
    {
     "name": "stdout",
     "output_type": "stream",
     "text": [
      "GRID SEARCH:\n",
      "Fitting 5 folds for each of 200 candidates, totalling 1000 fits\n",
      "Best parameters set:\n",
      "\tC: 0.021544346900318846\n",
      "\tpenalty: 'l2'\n",
      "\tsolver: 'liblinear'\n",
      "-----------------------------------------\n",
      "-----------------------------------------\n",
      "GRIDSEARCHCV LOGREG RESULT:\n",
      "                precision    recall  f1-score   support\n",
      "\n",
      "      break up       0.71      0.63      0.67       153\n",
      "still together       0.84      0.88      0.86       342\n",
      "\n",
      "   avg / total       0.80      0.81      0.80       495\n",
      "\n"
     ]
    },
    {
     "name": "stderr",
     "output_type": "stream",
     "text": [
      "[Parallel(n_jobs=-1)]: Done 1000 out of 1000 | elapsed:    1.8s finished\n"
     ]
    }
   ],
   "source": [
    "# Gridsearch for Ridge and Lasso Logistic Regression, optimize C\n",
    "\n",
    "parameters = {\n",
    "    'penalty':['l1','l2'],\n",
    "    'solver':['liblinear'],\n",
    "    'C':np.logspace(-5,0,100)\n",
    "}\n",
    "\n",
    "print (\"GRID SEARCH:\")\n",
    "lr_grid_search = GridSearchCV(LogisticRegression(), parameters, cv=5, verbose=1, n_jobs=-1, scoring='roc_auc')\n",
    "lr_grid_search.fit(X_train, y_train)\n",
    "print (\"Best parameters set:\")\n",
    "lr_best_parameters = lr_grid_search.best_estimator_.get_params()\n",
    "for param_name in sorted(parameters.keys()):\n",
    "    print (\"\\t%s: %r\" % (param_name, lr_best_parameters[param_name]))\n",
    "print (\"-----------------------------------------\")\n",
    "print (\"-----------------------------------------\")\n",
    "print (\"GRIDSEARCHCV LOGREG RESULT:\")\n",
    "clf = lr_grid_search.best_estimator_\n",
    "lr_gs_predicted = clf.predict(X_test)\n",
    "print(metrics.classification_report(y_test, lr_gs_predicted, labels=[1,0], target_names=['break up','still together']))"
   ]
  },
  {
   "cell_type": "code",
   "execution_count": 14,
   "metadata": {
    "collapsed": true
   },
   "outputs": [],
   "source": [
    "# Get top 10 coefficients\n",
    "lr_gs_coef = pd.DataFrame({\n",
    "    'coef':clf.coef_.ravel(),\n",
    "    'mag':np.abs(clf.coef_.ravel()),\n",
    "    'pred':pred.columns\n",
    "})\n",
    "lr_gs_coef.sort_values(by=['mag'], ascending=False, inplace=True)"
   ]
  },
  {
   "cell_type": "code",
   "execution_count": 15,
   "metadata": {},
   "outputs": [
    {
     "data": {
      "text/html": [
       "<div>\n",
       "<style>\n",
       "    .dataframe thead tr:only-child th {\n",
       "        text-align: right;\n",
       "    }\n",
       "\n",
       "    .dataframe thead th {\n",
       "        text-align: left;\n",
       "    }\n",
       "\n",
       "    .dataframe tbody tr th {\n",
       "        vertical-align: top;\n",
       "    }\n",
       "</style>\n",
       "<table border=\"1\" class=\"dataframe\">\n",
       "  <thead>\n",
       "    <tr style=\"text-align: right;\">\n",
       "      <th></th>\n",
       "      <th>coef</th>\n",
       "      <th>mag</th>\n",
       "      <th>pred</th>\n",
       "    </tr>\n",
       "  </thead>\n",
       "  <tbody>\n",
       "    <tr>\n",
       "      <th>12</th>\n",
       "      <td>0.170742</td>\n",
       "      <td>0.170742</td>\n",
       "      <td>couple_race_comb[T.other_other]</td>\n",
       "    </tr>\n",
       "    <tr>\n",
       "      <th>10</th>\n",
       "      <td>0.141614</td>\n",
       "      <td>0.141614</td>\n",
       "      <td>couple_relig_comb[T.Protestant or oth Christian_other]</td>\n",
       "    </tr>\n",
       "    <tr>\n",
       "      <th>0</th>\n",
       "      <td>0.126065</td>\n",
       "      <td>0.126065</td>\n",
       "      <td>hhinc[T.low_hhinc]</td>\n",
       "    </tr>\n",
       "    <tr>\n",
       "      <th>15</th>\n",
       "      <td>0.107548</td>\n",
       "      <td>0.107548</td>\n",
       "      <td>marriage_count_gender[T.married before_male]</td>\n",
       "    </tr>\n",
       "    <tr>\n",
       "      <th>11</th>\n",
       "      <td>0.070987</td>\n",
       "      <td>0.070987</td>\n",
       "      <td>couple_race_comb[T.NH white_other]</td>\n",
       "    </tr>\n",
       "    <tr>\n",
       "      <th>13</th>\n",
       "      <td>0.069624</td>\n",
       "      <td>0.069624</td>\n",
       "      <td>gender_internet_access[T.yes_female]</td>\n",
       "    </tr>\n",
       "    <tr>\n",
       "      <th>6</th>\n",
       "      <td>0.057908</td>\n",
       "      <td>0.057908</td>\n",
       "      <td>met_through_friends[T.meet through friends]</td>\n",
       "    </tr>\n",
       "    <tr>\n",
       "      <th>1</th>\n",
       "      <td>0.040186</td>\n",
       "      <td>0.040186</td>\n",
       "      <td>parent_alive[T.father only]</td>\n",
       "    </tr>\n",
       "  </tbody>\n",
       "</table>\n",
       "</div>"
      ],
      "text/plain": [
       "        coef       mag                                                    pred\n",
       "12  0.170742  0.170742                         couple_race_comb[T.other_other]\n",
       "10  0.141614  0.141614  couple_relig_comb[T.Protestant or oth Christian_other]\n",
       "0   0.126065  0.126065                                      hhinc[T.low_hhinc]\n",
       "15  0.107548  0.107548            marriage_count_gender[T.married before_male]\n",
       "11  0.070987  0.070987                      couple_race_comb[T.NH white_other]\n",
       "13  0.069624  0.069624                    gender_internet_access[T.yes_female]\n",
       "6   0.057908  0.057908             met_through_friends[T.meet through friends]\n",
       "1   0.040186  0.040186                             parent_alive[T.father only]"
      ]
     },
     "execution_count": 15,
     "metadata": {},
     "output_type": "execute_result"
    }
   ],
   "source": [
    "# Lasso LogReg factors that contribute to couple breakup\n",
    "lr_gs_coef[lr_gs_coef.coef > 0]"
   ]
  },
  {
   "cell_type": "code",
   "execution_count": 16,
   "metadata": {
    "collapsed": true
   },
   "outputs": [],
   "source": [
    "# Race in Gender Race can either be white or non-white"
   ]
  },
  {
   "cell_type": "code",
   "execution_count": 17,
   "metadata": {},
   "outputs": [
    {
     "data": {
      "text/html": [
       "<div>\n",
       "<style>\n",
       "    .dataframe thead tr:only-child th {\n",
       "        text-align: right;\n",
       "    }\n",
       "\n",
       "    .dataframe thead th {\n",
       "        text-align: left;\n",
       "    }\n",
       "\n",
       "    .dataframe tbody tr th {\n",
       "        vertical-align: top;\n",
       "    }\n",
       "</style>\n",
       "<table border=\"1\" class=\"dataframe\">\n",
       "  <thead>\n",
       "    <tr style=\"text-align: right;\">\n",
       "      <th></th>\n",
       "      <th>coef</th>\n",
       "      <th>mag</th>\n",
       "      <th>pred</th>\n",
       "    </tr>\n",
       "  </thead>\n",
       "  <tbody>\n",
       "    <tr>\n",
       "      <th>9</th>\n",
       "      <td>-0.674038</td>\n",
       "      <td>0.674038</td>\n",
       "      <td>coresident[T.Yes]</td>\n",
       "    </tr>\n",
       "    <tr>\n",
       "      <th>7</th>\n",
       "      <td>-0.359860</td>\n",
       "      <td>0.359860</td>\n",
       "      <td>married[T.married]</td>\n",
       "    </tr>\n",
       "    <tr>\n",
       "      <th>19</th>\n",
       "      <td>-0.335256</td>\n",
       "      <td>0.335256</td>\n",
       "      <td>how_long_relationship</td>\n",
       "    </tr>\n",
       "    <tr>\n",
       "      <th>8</th>\n",
       "      <td>-0.282591</td>\n",
       "      <td>0.282591</td>\n",
       "      <td>parental_approval[T.approve]</td>\n",
       "    </tr>\n",
       "    <tr>\n",
       "      <th>3</th>\n",
       "      <td>-0.257410</td>\n",
       "      <td>0.257410</td>\n",
       "      <td>parent_alive[T.neither father nor mother are alive]</td>\n",
       "    </tr>\n",
       "    <tr>\n",
       "      <th>18</th>\n",
       "      <td>-0.238178</td>\n",
       "      <td>0.238178</td>\n",
       "      <td>how_long_ago_first_cohab</td>\n",
       "    </tr>\n",
       "    <tr>\n",
       "      <th>17</th>\n",
       "      <td>-0.148573</td>\n",
       "      <td>0.148573</td>\n",
       "      <td>relatives_seen_per_month</td>\n",
       "    </tr>\n",
       "    <tr>\n",
       "      <th>14</th>\n",
       "      <td>-0.107532</td>\n",
       "      <td>0.107532</td>\n",
       "      <td>hhhead_gender[T.yes_male]</td>\n",
       "    </tr>\n",
       "    <tr>\n",
       "      <th>2</th>\n",
       "      <td>-0.097515</td>\n",
       "      <td>0.097515</td>\n",
       "      <td>parent_alive[T.mother only]</td>\n",
       "    </tr>\n",
       "    <tr>\n",
       "      <th>4</th>\n",
       "      <td>-0.065731</td>\n",
       "      <td>0.065731</td>\n",
       "      <td>met_partner_work[T.yes]</td>\n",
       "    </tr>\n",
       "    <tr>\n",
       "      <th>5</th>\n",
       "      <td>-0.050152</td>\n",
       "      <td>0.050152</td>\n",
       "      <td>self_intro_partner[T.yes]</td>\n",
       "    </tr>\n",
       "    <tr>\n",
       "      <th>16</th>\n",
       "      <td>-0.001912</td>\n",
       "      <td>0.001912</td>\n",
       "      <td>marriage_count_gender[T.never married_male]</td>\n",
       "    </tr>\n",
       "  </tbody>\n",
       "</table>\n",
       "</div>"
      ],
      "text/plain": [
       "        coef       mag                                                 pred\n",
       "9  -0.674038  0.674038                                    coresident[T.Yes]\n",
       "7  -0.359860  0.359860                                   married[T.married]\n",
       "19 -0.335256  0.335256                                how_long_relationship\n",
       "8  -0.282591  0.282591                         parental_approval[T.approve]\n",
       "3  -0.257410  0.257410  parent_alive[T.neither father nor mother are alive]\n",
       "18 -0.238178  0.238178                             how_long_ago_first_cohab\n",
       "17 -0.148573  0.148573                             relatives_seen_per_month\n",
       "14 -0.107532  0.107532                            hhhead_gender[T.yes_male]\n",
       "2  -0.097515  0.097515                          parent_alive[T.mother only]\n",
       "4  -0.065731  0.065731                              met_partner_work[T.yes]\n",
       "5  -0.050152  0.050152                            self_intro_partner[T.yes]\n",
       "16 -0.001912  0.001912          marriage_count_gender[T.never married_male]"
      ]
     },
     "execution_count": 17,
     "metadata": {},
     "output_type": "execute_result"
    }
   ],
   "source": [
    "# Lasso LogReg factors that contribute to couple staying together\n",
    "lr_gs_coef[lr_gs_coef.coef < 0]"
   ]
  },
  {
   "cell_type": "markdown",
   "metadata": {},
   "source": [
    "### GridSearch SGDClassifier"
   ]
  },
  {
   "cell_type": "code",
   "execution_count": 20,
   "metadata": {},
   "outputs": [
    {
     "name": "stdout",
     "output_type": "stream",
     "text": [
      "GRID SEARCH:\n",
      "Fitting 5 folds for each of 12000 candidates, totalling 60000 fits\n"
     ]
    },
    {
     "name": "stderr",
     "output_type": "stream",
     "text": [
      "[Parallel(n_jobs=1)]: Done 60000 out of 60000 | elapsed:  4.3min finished\n"
     ]
    },
    {
     "name": "stdout",
     "output_type": "stream",
     "text": [
      "Best parameters set:\n",
      "\talpha: 0.043287612810830614\n",
      "\tl1_ratio: 0.14384498882876628\n",
      "\tlearning_rate: 'optimal'\n",
      "\tloss: 'hinge'\n",
      "\tpenalty: 'l2'\n",
      "-----------------------------------------\n",
      "-----------------------------------------\n",
      "GRIDSEARCHCV SGDCLASSIFIER RESULT:\n",
      "                precision    recall  f1-score   support\n",
      "\n",
      "      break up       0.72      0.61      0.66       153\n",
      "still together       0.84      0.89      0.86       342\n",
      "\n",
      "   avg / total       0.80      0.81      0.80       495\n",
      "\n"
     ]
    }
   ],
   "source": [
    "# Gridsearch SGDclassifier with log loss and optimal learning rate\n",
    "sgd_parameters = {\n",
    "    'learning_rate': ['optimal'],\n",
    "    'loss':['log','hinge'],\n",
    "    'penalty': ['l1','l2','elasticnet'],\n",
    "    'alpha': np.logspace(-10,5,100),\n",
    "    'l1_ratio': np.logspace(-1,0,20)\n",
    "}\n",
    "\n",
    "print (\"GRID SEARCH:\")\n",
    "sgd_grid_search = GridSearchCV(SGDClassifier(max_iter=10000, tol=0.0001), sgd_parameters, cv=5, verbose=1, scoring='roc_auc')\n",
    "sgd_grid_search.fit(X_train, y_train)\n",
    "print (\"Best parameters set:\")\n",
    "sgd_best_parameters = sgd_grid_search.best_estimator_.get_params()\n",
    "for param_name in sorted(sgd_parameters.keys()):\n",
    "    print (\"\\t%s: %r\" % (param_name, sgd_best_parameters[param_name]))\n",
    "print (\"-----------------------------------------\")\n",
    "print (\"-----------------------------------------\")\n",
    "print (\"GRIDSEARCHCV SGDCLASSIFIER RESULT:\")\n",
    "sgd_clf = sgd_grid_search.best_estimator_\n",
    "sgd_predicted = sgd_clf.predict(X_test)\n",
    "print(metrics.classification_report(y_test, sgd_predicted, labels=[1,0], target_names=['break up','still together']))"
   ]
  },
  {
   "cell_type": "code",
   "execution_count": 21,
   "metadata": {
    "collapsed": true
   },
   "outputs": [],
   "source": [
    "sgd_coef = pd.DataFrame({\n",
    "    'coef':sgd_clf.coef_.ravel(),\n",
    "    'mag':np.abs(sgd_clf.coef_.ravel()),\n",
    "    'pred':pred.columns\n",
    "})\n",
    "sgd_coef.sort_values(by=['mag'], ascending=False, inplace=True)"
   ]
  },
  {
   "cell_type": "code",
   "execution_count": 22,
   "metadata": {},
   "outputs": [
    {
     "data": {
      "text/html": [
       "<div>\n",
       "<style>\n",
       "    .dataframe thead tr:only-child th {\n",
       "        text-align: right;\n",
       "    }\n",
       "\n",
       "    .dataframe thead th {\n",
       "        text-align: left;\n",
       "    }\n",
       "\n",
       "    .dataframe tbody tr th {\n",
       "        vertical-align: top;\n",
       "    }\n",
       "</style>\n",
       "<table border=\"1\" class=\"dataframe\">\n",
       "  <thead>\n",
       "    <tr style=\"text-align: right;\">\n",
       "      <th></th>\n",
       "      <th>coef</th>\n",
       "      <th>mag</th>\n",
       "      <th>pred</th>\n",
       "    </tr>\n",
       "  </thead>\n",
       "  <tbody>\n",
       "    <tr>\n",
       "      <th>16</th>\n",
       "      <td>0.056738</td>\n",
       "      <td>0.056738</td>\n",
       "      <td>marriage_count_gender[T.never married_male]</td>\n",
       "    </tr>\n",
       "    <tr>\n",
       "      <th>15</th>\n",
       "      <td>0.053156</td>\n",
       "      <td>0.053156</td>\n",
       "      <td>marriage_count_gender[T.married before_male]</td>\n",
       "    </tr>\n",
       "    <tr>\n",
       "      <th>13</th>\n",
       "      <td>0.049358</td>\n",
       "      <td>0.049358</td>\n",
       "      <td>gender_internet_access[T.yes_female]</td>\n",
       "    </tr>\n",
       "    <tr>\n",
       "      <th>12</th>\n",
       "      <td>0.046371</td>\n",
       "      <td>0.046371</td>\n",
       "      <td>couple_race_comb[T.other_other]</td>\n",
       "    </tr>\n",
       "    <tr>\n",
       "      <th>11</th>\n",
       "      <td>0.024308</td>\n",
       "      <td>0.024308</td>\n",
       "      <td>couple_race_comb[T.NH white_other]</td>\n",
       "    </tr>\n",
       "    <tr>\n",
       "      <th>0</th>\n",
       "      <td>0.016767</td>\n",
       "      <td>0.016767</td>\n",
       "      <td>hhinc[T.low_hhinc]</td>\n",
       "    </tr>\n",
       "    <tr>\n",
       "      <th>1</th>\n",
       "      <td>0.014774</td>\n",
       "      <td>0.014774</td>\n",
       "      <td>parent_alive[T.father only]</td>\n",
       "    </tr>\n",
       "    <tr>\n",
       "      <th>10</th>\n",
       "      <td>0.009392</td>\n",
       "      <td>0.009392</td>\n",
       "      <td>couple_relig_comb[T.Protestant or oth Christian_other]</td>\n",
       "    </tr>\n",
       "    <tr>\n",
       "      <th>6</th>\n",
       "      <td>0.007520</td>\n",
       "      <td>0.007520</td>\n",
       "      <td>met_through_friends[T.meet through friends]</td>\n",
       "    </tr>\n",
       "    <tr>\n",
       "      <th>5</th>\n",
       "      <td>0.003380</td>\n",
       "      <td>0.003380</td>\n",
       "      <td>self_intro_partner[T.yes]</td>\n",
       "    </tr>\n",
       "  </tbody>\n",
       "</table>\n",
       "</div>"
      ],
      "text/plain": [
       "        coef       mag                                                    pred\n",
       "16  0.056738  0.056738             marriage_count_gender[T.never married_male]\n",
       "15  0.053156  0.053156            marriage_count_gender[T.married before_male]\n",
       "13  0.049358  0.049358                    gender_internet_access[T.yes_female]\n",
       "12  0.046371  0.046371                         couple_race_comb[T.other_other]\n",
       "11  0.024308  0.024308                      couple_race_comb[T.NH white_other]\n",
       "0   0.016767  0.016767                                      hhinc[T.low_hhinc]\n",
       "1   0.014774  0.014774                             parent_alive[T.father only]\n",
       "10  0.009392  0.009392  couple_relig_comb[T.Protestant or oth Christian_other]\n",
       "6   0.007520  0.007520             met_through_friends[T.meet through friends]\n",
       "5   0.003380  0.003380                               self_intro_partner[T.yes]"
      ]
     },
     "execution_count": 22,
     "metadata": {},
     "output_type": "execute_result"
    }
   ],
   "source": [
    "# SGD factors that contribute to couple breakup\n",
    "sgd_coef[sgd_coef.coef > 0]"
   ]
  },
  {
   "cell_type": "code",
   "execution_count": 23,
   "metadata": {},
   "outputs": [
    {
     "data": {
      "text/html": [
       "<div>\n",
       "<style>\n",
       "    .dataframe thead tr:only-child th {\n",
       "        text-align: right;\n",
       "    }\n",
       "\n",
       "    .dataframe thead th {\n",
       "        text-align: left;\n",
       "    }\n",
       "\n",
       "    .dataframe tbody tr th {\n",
       "        vertical-align: top;\n",
       "    }\n",
       "</style>\n",
       "<table border=\"1\" class=\"dataframe\">\n",
       "  <thead>\n",
       "    <tr style=\"text-align: right;\">\n",
       "      <th></th>\n",
       "      <th>coef</th>\n",
       "      <th>mag</th>\n",
       "      <th>pred</th>\n",
       "    </tr>\n",
       "  </thead>\n",
       "  <tbody>\n",
       "    <tr>\n",
       "      <th>9</th>\n",
       "      <td>-0.822612</td>\n",
       "      <td>0.822612</td>\n",
       "      <td>coresident[T.Yes]</td>\n",
       "    </tr>\n",
       "    <tr>\n",
       "      <th>19</th>\n",
       "      <td>-0.151826</td>\n",
       "      <td>0.151826</td>\n",
       "      <td>how_long_relationship</td>\n",
       "    </tr>\n",
       "    <tr>\n",
       "      <th>7</th>\n",
       "      <td>-0.109738</td>\n",
       "      <td>0.109738</td>\n",
       "      <td>married[T.married]</td>\n",
       "    </tr>\n",
       "    <tr>\n",
       "      <th>3</th>\n",
       "      <td>-0.104791</td>\n",
       "      <td>0.104791</td>\n",
       "      <td>parent_alive[T.neither father nor mother are alive]</td>\n",
       "    </tr>\n",
       "    <tr>\n",
       "      <th>8</th>\n",
       "      <td>-0.104656</td>\n",
       "      <td>0.104656</td>\n",
       "      <td>parental_approval[T.approve]</td>\n",
       "    </tr>\n",
       "    <tr>\n",
       "      <th>17</th>\n",
       "      <td>-0.051492</td>\n",
       "      <td>0.051492</td>\n",
       "      <td>relatives_seen_per_month</td>\n",
       "    </tr>\n",
       "    <tr>\n",
       "      <th>2</th>\n",
       "      <td>-0.035884</td>\n",
       "      <td>0.035884</td>\n",
       "      <td>parent_alive[T.mother only]</td>\n",
       "    </tr>\n",
       "    <tr>\n",
       "      <th>18</th>\n",
       "      <td>-0.034176</td>\n",
       "      <td>0.034176</td>\n",
       "      <td>how_long_ago_first_cohab</td>\n",
       "    </tr>\n",
       "    <tr>\n",
       "      <th>14</th>\n",
       "      <td>-0.031736</td>\n",
       "      <td>0.031736</td>\n",
       "      <td>hhhead_gender[T.yes_male]</td>\n",
       "    </tr>\n",
       "    <tr>\n",
       "      <th>4</th>\n",
       "      <td>-0.006187</td>\n",
       "      <td>0.006187</td>\n",
       "      <td>met_partner_work[T.yes]</td>\n",
       "    </tr>\n",
       "  </tbody>\n",
       "</table>\n",
       "</div>"
      ],
      "text/plain": [
       "        coef       mag                                                 pred\n",
       "9  -0.822612  0.822612                                    coresident[T.Yes]\n",
       "19 -0.151826  0.151826                                how_long_relationship\n",
       "7  -0.109738  0.109738                                   married[T.married]\n",
       "3  -0.104791  0.104791  parent_alive[T.neither father nor mother are alive]\n",
       "8  -0.104656  0.104656                         parental_approval[T.approve]\n",
       "17 -0.051492  0.051492                             relatives_seen_per_month\n",
       "2  -0.035884  0.035884                          parent_alive[T.mother only]\n",
       "18 -0.034176  0.034176                             how_long_ago_first_cohab\n",
       "14 -0.031736  0.031736                            hhhead_gender[T.yes_male]\n",
       "4  -0.006187  0.006187                              met_partner_work[T.yes]"
      ]
     },
     "execution_count": 23,
     "metadata": {},
     "output_type": "execute_result"
    }
   ],
   "source": [
    "# SGD factors that contribute to couple staying together\n",
    "sgd_coef[sgd_coef.coef < 0]"
   ]
  },
  {
   "cell_type": "code",
   "execution_count": 33,
   "metadata": {},
   "outputs": [
    {
     "data": {
      "text/plain": [
       "1.0000000000000001e-05"
      ]
     },
     "execution_count": 33,
     "metadata": {},
     "output_type": "execute_result"
    }
   ],
   "source": [
    "np.min(np.logspace(-5,0,10))"
   ]
  },
  {
   "cell_type": "markdown",
   "metadata": {},
   "source": [
    "### GridSearch XGBoost Classifier"
   ]
  },
  {
   "cell_type": "code",
   "execution_count": 25,
   "metadata": {
    "scrolled": false
   },
   "outputs": [
    {
     "name": "stdout",
     "output_type": "stream",
     "text": [
      "Fitting 5 folds for each of 600 candidates, totalling 3000 fits\n"
     ]
    },
    {
     "name": "stderr",
     "output_type": "stream",
     "text": [
      "[Parallel(n_jobs=-1)]: Done  42 tasks      | elapsed:   26.6s\n",
      "[Parallel(n_jobs=-1)]: Done 192 tasks      | elapsed:  1.8min\n",
      "[Parallel(n_jobs=-1)]: Done 442 tasks      | elapsed:  4.1min\n",
      "[Parallel(n_jobs=-1)]: Done 792 tasks      | elapsed:  7.4min\n",
      "[Parallel(n_jobs=-1)]: Done 1242 tasks      | elapsed: 11.5min\n",
      "[Parallel(n_jobs=-1)]: Done 1792 tasks      | elapsed: 16.5min\n",
      "[Parallel(n_jobs=-1)]: Done 2442 tasks      | elapsed: 22.1min\n",
      "[Parallel(n_jobs=-1)]: Done 3000 out of 3000 | elapsed: 26.9min finished\n"
     ]
    },
    {
     "name": "stdout",
     "output_type": "stream",
     "text": [
      "base_score: 0.5\n",
      "booster: 'gbtree'\n",
      "colsample_bylevel: 1\n",
      "colsample_bytree: 0.5\n",
      "gamma: 0.1\n",
      "learning_rate: 0.05\n",
      "max_delta_step: 0\n",
      "max_depth: 6\n",
      "min_child_weight: 11\n",
      "missing: -999\n",
      "n_estimators: 1000\n",
      "n_jobs: 1\n",
      "nthread: 4\n",
      "objective: 'binary:logistic'\n",
      "random_state: 0\n",
      "reg_alpha: 1.0\n",
      "reg_lambda: 1.0\n",
      "scale_pos_weight: 1\n",
      "seed: 65\n",
      "silent: 1\n",
      "subsample: 0.5\n",
      "-----------------------------------------\n",
      "-----------------------------------------\n",
      "GRIDSEARCHCV XGBCLASSIFIER RESULT:\n",
      "                precision    recall  f1-score   support\n",
      "\n",
      "      break up       0.67      0.61      0.64       153\n",
      "still together       0.83      0.87      0.85       342\n",
      "\n",
      "   avg / total       0.78      0.79      0.78       495\n",
      "\n"
     ]
    }
   ],
   "source": [
    "# Reference link: https://www.kaggle.com/phunter/xgboost-with-gridsearchcv\n",
    "# Credit to Shize's R code and the python re-implementation\n",
    "\n",
    "xgb_model = xgb.XGBClassifier()\n",
    "\n",
    "#brute force scan for all parameters, here are the tricks\n",
    "#usually max_depth is 6,7,8\n",
    "#learning rate is around 0.05, but small changes may make big diff\n",
    "#tuning min_child_weight subsample colsample_bytree can have \n",
    "#much fun of fighting against overfit \n",
    "#n_estimators is how many round of boosting\n",
    "#finally, ensemble xgboost with multiple seeds may reduce variance\n",
    "parameters = {'nthread': [4], #when use hyperthread, xgboost may become slower\n",
    "              'objective': ['binary:logistic'],\n",
    "              'learning_rate': [0.05], #so called `eta` value\n",
    "              'max_depth': [6,7,8],\n",
    "              'min_child_weight': [11],\n",
    "              'gamma': [0,0.1],\n",
    "              'subsample': [0.5],\n",
    "              'colsample_bytree': [0.5],\n",
    "              'silent': [1],\n",
    "              'scale_pos_weight': [1],\n",
    "              'n_estimators': [1000], #number of trees, change it to 1000 for better results\n",
    "              'missing': [-999],\n",
    "              'reg_alpha': np.logspace(-5,0,10),\n",
    "              'reg_lambda': np.logspace(-5,0,10),\n",
    "              'seed': [65]}\n",
    "\n",
    "xgb_clf = GridSearchCV(xgb_model, parameters, n_jobs=-1, verbose=1, cv=5, scoring='roc_auc')\n",
    "\n",
    "xgb_clf.fit(X_train, y_train)\n",
    "\n",
    "best_parameters = xgb_clf.best_estimator_.get_params()\n",
    "for param_name in sorted(best_parameters.keys()):\n",
    "    print(\"%s: %r\" % (param_name, best_parameters[param_name]))\n",
    "    \n",
    "print (\"-----------------------------------------\")\n",
    "print (\"-----------------------------------------\")\n",
    "print (\"GRIDSEARCHCV XGBCLASSIFIER RESULT:\")\n",
    "xgb_predicted = xgb_clf.best_estimator_.predict(X_test)\n",
    "print(metrics.classification_report(y_test, xgb_predicted, labels=[1,0], target_names=['break up','still together']))"
   ]
  },
  {
   "cell_type": "code",
   "execution_count": 26,
   "metadata": {},
   "outputs": [
    {
     "data": {
      "text/html": [
       "<div>\n",
       "<style>\n",
       "    .dataframe thead tr:only-child th {\n",
       "        text-align: right;\n",
       "    }\n",
       "\n",
       "    .dataframe thead th {\n",
       "        text-align: left;\n",
       "    }\n",
       "\n",
       "    .dataframe tbody tr th {\n",
       "        vertical-align: top;\n",
       "    }\n",
       "</style>\n",
       "<table border=\"1\" class=\"dataframe\">\n",
       "  <thead>\n",
       "    <tr style=\"text-align: right;\">\n",
       "      <th></th>\n",
       "      <th>importance</th>\n",
       "      <th>pred</th>\n",
       "    </tr>\n",
       "  </thead>\n",
       "  <tbody>\n",
       "    <tr>\n",
       "      <th>19</th>\n",
       "      <td>0.204359</td>\n",
       "      <td>how_long_relationship</td>\n",
       "    </tr>\n",
       "    <tr>\n",
       "      <th>18</th>\n",
       "      <td>0.147505</td>\n",
       "      <td>how_long_ago_first_cohab</td>\n",
       "    </tr>\n",
       "    <tr>\n",
       "      <th>17</th>\n",
       "      <td>0.138661</td>\n",
       "      <td>relatives_seen_per_month</td>\n",
       "    </tr>\n",
       "    <tr>\n",
       "      <th>5</th>\n",
       "      <td>0.065698</td>\n",
       "      <td>self_intro_partner[T.yes]</td>\n",
       "    </tr>\n",
       "    <tr>\n",
       "      <th>8</th>\n",
       "      <td>0.056222</td>\n",
       "      <td>parental_approval[T.approve]</td>\n",
       "    </tr>\n",
       "    <tr>\n",
       "      <th>9</th>\n",
       "      <td>0.052432</td>\n",
       "      <td>coresident[T.Yes]</td>\n",
       "    </tr>\n",
       "    <tr>\n",
       "      <th>13</th>\n",
       "      <td>0.052116</td>\n",
       "      <td>gender_internet_access[T.yes_female]</td>\n",
       "    </tr>\n",
       "    <tr>\n",
       "      <th>0</th>\n",
       "      <td>0.049589</td>\n",
       "      <td>hhinc[T.low_hhinc]</td>\n",
       "    </tr>\n",
       "    <tr>\n",
       "      <th>7</th>\n",
       "      <td>0.047694</td>\n",
       "      <td>married[T.married]</td>\n",
       "    </tr>\n",
       "    <tr>\n",
       "      <th>14</th>\n",
       "      <td>0.041061</td>\n",
       "      <td>hhhead_gender[T.yes_male]</td>\n",
       "    </tr>\n",
       "  </tbody>\n",
       "</table>\n",
       "</div>"
      ],
      "text/plain": [
       "    importance                                  pred\n",
       "19    0.204359                 how_long_relationship\n",
       "18    0.147505              how_long_ago_first_cohab\n",
       "17    0.138661              relatives_seen_per_month\n",
       "5     0.065698             self_intro_partner[T.yes]\n",
       "8     0.056222          parental_approval[T.approve]\n",
       "9     0.052432                     coresident[T.Yes]\n",
       "13    0.052116  gender_internet_access[T.yes_female]\n",
       "0     0.049589                    hhinc[T.low_hhinc]\n",
       "7     0.047694                    married[T.married]\n",
       "14    0.041061             hhhead_gender[T.yes_male]"
      ]
     },
     "execution_count": 26,
     "metadata": {},
     "output_type": "execute_result"
    }
   ],
   "source": [
    "xgb_featimpt = pd.DataFrame({\n",
    "    'importance':xgb_clf.best_estimator_.feature_importances_,\n",
    "    'pred':pred.columns\n",
    "})\n",
    "xgb_featimpt = xgb_featimpt[xgb_featimpt.importance > 0]\n",
    "xgb_featimpt.sort_values(by=['importance'], ascending=False, inplace=True)\n",
    "xgb_featimpt.head(10)"
   ]
  },
  {
   "cell_type": "code",
   "execution_count": 5,
   "metadata": {
    "collapsed": true
   },
   "outputs": [],
   "source": [
    "# Try TPOT\n",
    "from tpot import TPOTClassifier"
   ]
  },
  {
   "cell_type": "code",
   "execution_count": 16,
   "metadata": {
    "collapsed": true
   },
   "outputs": [],
   "source": [
    "pipeline_optimizer = TPOTClassifier(scoring='roc_auc', cv=5, random_state=42, verbosity=2, n_jobs=-1, \\\n",
    "                                    generations=10)"
   ]
  },
  {
   "cell_type": "code",
   "execution_count": 17,
   "metadata": {
    "scrolled": false
   },
   "outputs": [
    {
     "name": "stderr",
     "output_type": "stream",
     "text": [
      "Optimization Progress:   0%|          | 0/1100 [00:00<?, ?pipeline/s]Process ForkPoolWorker-1125:\n",
      "Process ForkPoolWorker-1124:\n",
      "Process ForkPoolWorker-1121:\n",
      "Process ForkPoolWorker-1122:\n",
      "Traceback (most recent call last):\n",
      "Traceback (most recent call last):\n",
      "Traceback (most recent call last):\n",
      "Traceback (most recent call last):\n",
      "  File \"/Users/david.yan/anaconda/lib/python3.6/multiprocessing/process.py\", line 258, in _bootstrap\n",
      "    self.run()\n",
      "  File \"/Users/david.yan/anaconda/lib/python3.6/multiprocessing/process.py\", line 258, in _bootstrap\n",
      "    self.run()\n",
      "  File \"/Users/david.yan/anaconda/lib/python3.6/multiprocessing/process.py\", line 258, in _bootstrap\n",
      "    self.run()\n",
      "  File \"/Users/david.yan/anaconda/lib/python3.6/multiprocessing/process.py\", line 258, in _bootstrap\n",
      "    self.run()\n",
      "  File \"/Users/david.yan/anaconda/lib/python3.6/multiprocessing/process.py\", line 93, in run\n",
      "    self._target(*self._args, **self._kwargs)\n",
      "  File \"/Users/david.yan/anaconda/lib/python3.6/multiprocessing/process.py\", line 93, in run\n",
      "    self._target(*self._args, **self._kwargs)\n",
      "  File \"/Users/david.yan/anaconda/lib/python3.6/multiprocessing/process.py\", line 93, in run\n",
      "    self._target(*self._args, **self._kwargs)\n",
      "  File \"/Users/david.yan/anaconda/lib/python3.6/multiprocessing/process.py\", line 93, in run\n",
      "    self._target(*self._args, **self._kwargs)\n",
      "  File \"/Users/david.yan/anaconda/lib/python3.6/multiprocessing/pool.py\", line 108, in worker\n",
      "    task = get()\n",
      "  File \"/Users/david.yan/anaconda/lib/python3.6/multiprocessing/pool.py\", line 108, in worker\n",
      "    task = get()\n",
      "  File \"/Users/david.yan/anaconda/lib/python3.6/multiprocessing/pool.py\", line 108, in worker\n",
      "    task = get()\n",
      "  File \"/Users/david.yan/anaconda/lib/python3.6/multiprocessing/pool.py\", line 108, in worker\n",
      "    task = get()\n",
      "  File \"/Users/david.yan/anaconda/lib/python3.6/site-packages/sklearn/externals/joblib/pool.py\", line 360, in get\n",
      "    racquire()\n",
      "  File \"/Users/david.yan/anaconda/lib/python3.6/site-packages/sklearn/externals/joblib/pool.py\", line 360, in get\n",
      "    racquire()\n",
      "  File \"/Users/david.yan/anaconda/lib/python3.6/site-packages/sklearn/externals/joblib/pool.py\", line 360, in get\n",
      "    racquire()\n",
      "  File \"/Users/david.yan/anaconda/lib/python3.6/site-packages/sklearn/externals/joblib/pool.py\", line 362, in get\n",
      "    return recv()\n",
      "KeyboardInterrupt\n",
      "KeyboardInterrupt\n",
      "KeyboardInterrupt\n",
      "  File \"/Users/david.yan/anaconda/lib/python3.6/multiprocessing/connection.py\", line 250, in recv\n",
      "    buf = self._recv_bytes()\n",
      "  File \"/Users/david.yan/anaconda/lib/python3.6/multiprocessing/connection.py\", line 407, in _recv_bytes\n",
      "    buf = self._recv(4)\n",
      "  File \"/Users/david.yan/anaconda/lib/python3.6/multiprocessing/connection.py\", line 379, in _recv\n",
      "    chunk = read(handle, remaining)\n",
      "KeyboardInterrupt\n",
      "                                                                                \r"
     ]
    },
    {
     "name": "stdout",
     "output_type": "stream",
     "text": [
      "\n",
      "\n",
      "TPOT closed prematurely. Will use the current best pipeline.\n"
     ]
    },
    {
     "ename": "RuntimeError",
     "evalue": "A pipeline has not yet been optimized. Please call fit() first.",
     "output_type": "error",
     "traceback": [
      "\u001b[0;31m---------------------------------------------------------------------------\u001b[0m",
      "\u001b[0;31mRuntimeError\u001b[0m                              Traceback (most recent call last)",
      "\u001b[0;32m<ipython-input-17-4b73c289cd48>\u001b[0m in \u001b[0;36m<module>\u001b[0;34m()\u001b[0m\n\u001b[0;32m----> 1\u001b[0;31m \u001b[0mpipeline_optimizer\u001b[0m\u001b[0;34m.\u001b[0m\u001b[0mfit\u001b[0m\u001b[0;34m(\u001b[0m\u001b[0mX_train\u001b[0m\u001b[0;34m,\u001b[0m \u001b[0my_train\u001b[0m\u001b[0;34m)\u001b[0m\u001b[0;34m\u001b[0m\u001b[0m\n\u001b[0m\u001b[1;32m      2\u001b[0m \u001b[0mprint\u001b[0m\u001b[0;34m(\u001b[0m\u001b[0mpipeline_optimizer\u001b[0m\u001b[0;34m.\u001b[0m\u001b[0mscore\u001b[0m\u001b[0;34m(\u001b[0m\u001b[0mX_test\u001b[0m\u001b[0;34m,\u001b[0m \u001b[0my_test\u001b[0m\u001b[0;34m)\u001b[0m\u001b[0;34m)\u001b[0m\u001b[0;34m\u001b[0m\u001b[0m\n",
      "\u001b[0;32m~/anaconda/lib/python3.6/site-packages/tpot/base.py\u001b[0m in \u001b[0;36mfit\u001b[0;34m(self, features, target, sample_weight, groups)\u001b[0m\n\u001b[1;32m    669\u001b[0m                     \u001b[0;31m# raise the exception if it's our last attempt\u001b[0m\u001b[0;34m\u001b[0m\u001b[0;34m\u001b[0m\u001b[0m\n\u001b[1;32m    670\u001b[0m                     \u001b[0;32mif\u001b[0m \u001b[0mattempt\u001b[0m \u001b[0;34m==\u001b[0m \u001b[0;34m(\u001b[0m\u001b[0mattempts\u001b[0m \u001b[0;34m-\u001b[0m \u001b[0;36m1\u001b[0m\u001b[0;34m)\u001b[0m\u001b[0;34m:\u001b[0m\u001b[0;34m\u001b[0m\u001b[0m\n\u001b[0;32m--> 671\u001b[0;31m                         \u001b[0;32mraise\u001b[0m \u001b[0me\u001b[0m\u001b[0;34m\u001b[0m\u001b[0m\n\u001b[0m\u001b[1;32m    672\u001b[0m             \u001b[0;32mreturn\u001b[0m \u001b[0mself\u001b[0m\u001b[0;34m\u001b[0m\u001b[0m\n\u001b[1;32m    673\u001b[0m \u001b[0;34m\u001b[0m\u001b[0m\n",
      "\u001b[0;32m~/anaconda/lib/python3.6/site-packages/tpot/base.py\u001b[0m in \u001b[0;36mfit\u001b[0;34m(self, features, target, sample_weight, groups)\u001b[0m\n\u001b[1;32m    660\u001b[0m                         \u001b[0mself\u001b[0m\u001b[0;34m.\u001b[0m\u001b[0m_pbar\u001b[0m\u001b[0;34m.\u001b[0m\u001b[0mclose\u001b[0m\u001b[0;34m(\u001b[0m\u001b[0;34m)\u001b[0m\u001b[0;34m\u001b[0m\u001b[0m\n\u001b[1;32m    661\u001b[0m \u001b[0;34m\u001b[0m\u001b[0m\n\u001b[0;32m--> 662\u001b[0;31m                     \u001b[0mself\u001b[0m\u001b[0;34m.\u001b[0m\u001b[0m_update_top_pipeline\u001b[0m\u001b[0;34m(\u001b[0m\u001b[0;34m)\u001b[0m\u001b[0;34m\u001b[0m\u001b[0m\n\u001b[0m\u001b[1;32m    663\u001b[0m                     \u001b[0mself\u001b[0m\u001b[0;34m.\u001b[0m\u001b[0m_summary_of_best_pipeline\u001b[0m\u001b[0;34m(\u001b[0m\u001b[0mfeatures\u001b[0m\u001b[0;34m,\u001b[0m \u001b[0mtarget\u001b[0m\u001b[0;34m)\u001b[0m\u001b[0;34m\u001b[0m\u001b[0m\n\u001b[1;32m    664\u001b[0m                     \u001b[0;31m# Delete the temporary cache before exiting\u001b[0m\u001b[0;34m\u001b[0m\u001b[0;34m\u001b[0m\u001b[0m\n",
      "\u001b[0;32m~/anaconda/lib/python3.6/site-packages/tpot/base.py\u001b[0m in \u001b[0;36m_update_top_pipeline\u001b[0;34m(self)\u001b[0m\n\u001b[1;32m    734\u001b[0m             \u001b[0;31m# If user passes CTRL+C in initial generation, self._pareto_front (halloffame) shoule be not updated yet.\u001b[0m\u001b[0;34m\u001b[0m\u001b[0;34m\u001b[0m\u001b[0m\n\u001b[1;32m    735\u001b[0m             \u001b[0;31m# need raise RuntimeError because no pipeline has been optimized\u001b[0m\u001b[0;34m\u001b[0m\u001b[0;34m\u001b[0m\u001b[0m\n\u001b[0;32m--> 736\u001b[0;31m             \u001b[0;32mraise\u001b[0m \u001b[0mRuntimeError\u001b[0m\u001b[0;34m(\u001b[0m\u001b[0;34m'A pipeline has not yet been optimized. Please call fit() first.'\u001b[0m\u001b[0;34m)\u001b[0m\u001b[0;34m\u001b[0m\u001b[0m\n\u001b[0m\u001b[1;32m    737\u001b[0m \u001b[0;34m\u001b[0m\u001b[0m\n\u001b[1;32m    738\u001b[0m     \u001b[0;32mdef\u001b[0m \u001b[0m_summary_of_best_pipeline\u001b[0m\u001b[0;34m(\u001b[0m\u001b[0mself\u001b[0m\u001b[0;34m,\u001b[0m \u001b[0mfeatures\u001b[0m\u001b[0;34m,\u001b[0m \u001b[0mtarget\u001b[0m\u001b[0;34m)\u001b[0m\u001b[0;34m:\u001b[0m\u001b[0;34m\u001b[0m\u001b[0m\n",
      "\u001b[0;31mRuntimeError\u001b[0m: A pipeline has not yet been optimized. Please call fit() first."
     ]
    }
   ],
   "source": [
    "pipeline_optimizer.fit(X_train, y_train)\n",
    "print(pipeline_optimizer.score(X_test, y_test))"
   ]
  },
  {
   "cell_type": "code",
   "execution_count": 15,
   "metadata": {},
   "outputs": [
    {
     "name": "stdout",
     "output_type": "stream",
     "text": [
      "                precision    recall  f1-score   support\n",
      "\n",
      "      break up       0.66      0.67      0.67       153\n",
      "still together       0.85      0.85      0.85       342\n",
      "\n",
      "   avg / total       0.79      0.79      0.79       495\n",
      "\n"
     ]
    }
   ],
   "source": [
    "yhat = pipeline_optimizer.predict(X_test)\n",
    "print(metrics.classification_report(y_test, yhat, labels=[1,0], target_names=['break up','still together']))"
   ]
  },
  {
   "cell_type": "code",
   "execution_count": 14,
   "metadata": {},
   "outputs": [
    {
     "data": {
      "text/plain": [
       "True"
      ]
     },
     "execution_count": 14,
     "metadata": {},
     "output_type": "execute_result"
    }
   ],
   "source": [
    "pipeline_optimizer.export('./tpot_exported_pipeline_1.py')"
   ]
  },
  {
   "cell_type": "code",
   "execution_count": 65,
   "metadata": {
    "collapsed": true,
    "scrolled": false
   },
   "outputs": [],
   "source": [
    "from sklearn.svm import SVC"
   ]
  },
  {
   "cell_type": "code",
   "execution_count": 66,
   "metadata": {},
   "outputs": [
    {
     "name": "stdout",
     "output_type": "stream",
     "text": [
      "Fitting 5 folds for each of 200 candidates, totalling 1000 fits\n"
     ]
    },
    {
     "name": "stderr",
     "output_type": "stream",
     "text": [
      "[Parallel(n_jobs=-1)]: Done 1000 out of 1000 | elapsed: 21.4min finished\n"
     ]
    },
    {
     "data": {
      "text/plain": [
       "GridSearchCV(cv=5, error_score='raise',\n",
       "       estimator=SVC(C=1.0, cache_size=200, class_weight=None, coef0=0.0,\n",
       "  decision_function_shape='ovr', degree=3, gamma='auto', kernel='rbf',\n",
       "  max_iter=-1, probability=False, random_state=None, shrinking=True,\n",
       "  tol=0.001, verbose=False),\n",
       "       fit_params=None, iid=True, n_jobs=-1,\n",
       "       param_grid={'C': array([  1.00000e-03,   3.59381e-03,   1.29155e-02,   4.64159e-02,\n",
       "         1.66810e-01,   5.99484e-01,   2.15443e+00,   7.74264e+00,\n",
       "         2.78256e+01,   1.00000e+02]), 'gamma': array([  1.00000e-05,   5.99484e-05,   3.59381e-04,   2.15443e-03,\n",
       "         1.29155e-02,   7.74264e-02,   4.64159e-01,   2.78256e+00,\n",
       "         1.66810e+01,   1.00000e+02]), 'kernel': ['linear', 'rbf']},\n",
       "       pre_dispatch='2*n_jobs', refit=True, return_train_score='warn',\n",
       "       scoring=None, verbose=1)"
      ]
     },
     "execution_count": 66,
     "metadata": {},
     "output_type": "execute_result"
    }
   ],
   "source": [
    "svc_params = {\n",
    "    'C':np.logspace(-3, 2, 10),\n",
    "    'gamma':np.logspace(-5, 2, 10),\n",
    "    'kernel':['linear','rbf']\n",
    "}\n",
    "\n",
    "svc_gs = GridSearchCV(SVC(max_iter=10000, tol=0.0001), svc_params, cv=5, verbose=1, n_jobs=-1)\n",
    "svc_gs.fit(X_train, y_train)"
   ]
  },
  {
   "cell_type": "code",
   "execution_count": 67,
   "metadata": {},
   "outputs": [
    {
     "name": "stdout",
     "output_type": "stream",
     "text": [
      "C: 7.7426368268112773\n",
      "cache_size: 200\n",
      "class_weight: None\n",
      "coef0: 0.0\n",
      "decision_function_shape: 'ovr'\n",
      "degree: 3\n",
      "gamma: 0.01291549665014884\n",
      "kernel: 'rbf'\n",
      "max_iter: -1\n",
      "probability: False\n",
      "random_state: None\n",
      "shrinking: True\n",
      "tol: 0.001\n",
      "verbose: False\n"
     ]
    }
   ],
   "source": [
    "best_parameters = svc_gs.best_estimator_.get_params()\n",
    "for param_name in sorted(best_parameters.keys()):\n",
    "    print(\"%s: %r\" % (param_name, best_parameters[param_name]))"
   ]
  },
  {
   "cell_type": "code",
   "execution_count": 68,
   "metadata": {},
   "outputs": [
    {
     "name": "stdout",
     "output_type": "stream",
     "text": [
      "                precision    recall  f1-score   support\n",
      "\n",
      "      break up       0.68      0.58      0.62       153\n",
      "still together       0.82      0.88      0.85       342\n",
      "\n",
      "   avg / total       0.78      0.79      0.78       495\n",
      "\n"
     ]
    }
   ],
   "source": [
    "yhat = svc_gs.best_estimator_.predict(X_test)\n",
    "print(metrics.classification_report(y_test, yhat, labels=[1,0], target_names=['break up','still together']))"
   ]
  },
  {
   "cell_type": "code",
   "execution_count": 69,
   "metadata": {},
   "outputs": [
    {
     "name": "stdout",
     "output_type": "stream",
     "text": [
      "Fitting 5 folds for each of 100 candidates, totalling 500 fits\n"
     ]
    },
    {
     "name": "stderr",
     "output_type": "stream",
     "text": [
      "[Parallel(n_jobs=-1)]: Done 500 out of 500 | elapsed:   26.0s finished\n"
     ]
    },
    {
     "data": {
      "text/plain": [
       "GridSearchCV(cv=5, error_score='raise',\n",
       "       estimator=KNeighborsClassifier(algorithm='auto', leaf_size=30, metric='minkowski',\n",
       "           metric_params=None, n_jobs=1, n_neighbors=5, p=2,\n",
       "           weights='uniform'),\n",
       "       fit_params=None, iid=True, n_jobs=-1,\n",
       "       param_grid={'n_neighbors': range(1, 51), 'weights': ['distance', 'uniform']},\n",
       "       pre_dispatch='2*n_jobs', refit=True, return_train_score='warn',\n",
       "       scoring=None, verbose=1)"
      ]
     },
     "execution_count": 69,
     "metadata": {},
     "output_type": "execute_result"
    }
   ],
   "source": [
    "from sklearn.neighbors import KNeighborsClassifier\n",
    "\n",
    "knn_params = {\n",
    "    'n_neighbors':range(1,51),\n",
    "    'weights':['distance','uniform']\n",
    "}\n",
    "\n",
    "knn_gs = GridSearchCV(KNeighborsClassifier(), knn_params, cv=5, verbose=1, n_jobs=-1)\n",
    "knn_gs.fit(X_train, y_train)"
   ]
  },
  {
   "cell_type": "code",
   "execution_count": 31,
   "metadata": {},
   "outputs": [
    {
     "name": "stdout",
     "output_type": "stream",
     "text": [
      "algorithm: 'auto'\n",
      "leaf_size: 30\n",
      "metric: 'minkowski'\n",
      "metric_params: None\n",
      "n_jobs: 1\n",
      "n_neighbors: 25\n",
      "p: 2\n",
      "weights: 'uniform'\n"
     ]
    }
   ],
   "source": [
    "best_parameters = knn_gs.best_estimator_.get_params()\n",
    "for param_name in sorted(best_parameters.keys()):\n",
    "    print(\"%s: %r\" % (param_name, best_parameters[param_name]))"
   ]
  },
  {
   "cell_type": "code",
   "execution_count": 32,
   "metadata": {},
   "outputs": [
    {
     "name": "stdout",
     "output_type": "stream",
     "text": [
      "                precision    recall  f1-score   support\n",
      "\n",
      "      break up       0.70      0.28      0.40       172\n",
      "still together       0.74      0.94      0.83       372\n",
      "\n",
      "   avg / total       0.73      0.73      0.69       544\n",
      "\n"
     ]
    }
   ],
   "source": [
    "yhat = knn_gs.best_estimator_.predict(X_test)\n",
    "print(metrics.classification_report(y_test, yhat, labels=[1,0], target_names=['break up','still together']))"
   ]
  },
  {
   "cell_type": "code",
   "execution_count": null,
   "metadata": {
    "collapsed": true
   },
   "outputs": [],
   "source": [
    "# Check whether why TPOT did not churn out LOGREG as best model\n",
    "# Wrap up with Dashboard and explaination"
   ]
  }
 ],
 "metadata": {
  "kernelspec": {
   "display_name": "Python 3",
   "language": "python",
   "name": "python3"
  },
  "language_info": {
   "codemirror_mode": {
    "name": "ipython",
    "version": 3
   },
   "file_extension": ".py",
   "mimetype": "text/x-python",
   "name": "python",
   "nbconvert_exporter": "python",
   "pygments_lexer": "ipython3",
   "version": "3.6.3"
  }
 },
 "nbformat": 4,
 "nbformat_minor": 2
}
