{
 "cells": [
  {
   "cell_type": "code",
   "execution_count": 760,
   "metadata": {
    "collapsed": true
   },
   "outputs": [],
   "source": [
    "import pandas as pd\n",
    "import numpy as np\n",
    "import matplotlib.pyplot as plt\n",
    "import scipy as sp\n",
    "import seaborn as sns\n",
    "from sklearn import preprocessing as pp\n",
    "%matplotlib inline\n",
    "%config InlineBackend.figure_format = 'retina'"
   ]
  },
  {
   "cell_type": "code",
   "execution_count": 761,
   "metadata": {
    "collapsed": true
   },
   "outputs": [],
   "source": [
    "# Features are mainly demographic data from onset of survey,\n",
    "# excluding 1 relationship centric feature - 'relationship quality'\n",
    "\n",
    "# Goal is to only use data gathered at the start of the survey, Wave 1,\n",
    "# to try to predict the outcome of partnered respondents, based on respondent and partner demographic data\n",
    "# This allows us to investigate and discover what type of individuals \n",
    "# have better chance of surviving a 6 year relationship"
   ]
  },
  {
   "cell_type": "markdown",
   "metadata": {},
   "source": [
    "# EDA & Cleaning"
   ]
  },
  {
   "cell_type": "code",
   "execution_count": 762,
   "metadata": {
    "collapsed": true
   },
   "outputs": [],
   "source": [
    "df_w5 = pd.read_stata('./datasets/HCMST_wave_5_supplement_ver_1.dta')\n",
    "df_w4 = pd.read_stata('./datasets/wave_4_supplement_v1_2.dta')\n",
    "df_w123 = pd.read_stata('./datasets/HCMST_ver_3.04.dta')"
   ]
  },
  {
   "cell_type": "code",
   "execution_count": 763,
   "metadata": {
    "collapsed": true
   },
   "outputs": [],
   "source": [
    "w5_cols = df_w5.columns.tolist()\n",
    "w4_cols = df_w4.columns.tolist()\n",
    "w123_cols = df_w123.columns.tolist()"
   ]
  },
  {
   "cell_type": "code",
   "execution_count": 764,
   "metadata": {},
   "outputs": [
    {
     "name": "stdout",
     "output_type": "stream",
     "text": [
      "78 62 387\n"
     ]
    }
   ],
   "source": [
    "# Checking number of features for each wave\n",
    "print(len(w5_cols), len(w4_cols), len(w123_cols))"
   ]
  },
  {
   "cell_type": "code",
   "execution_count": 765,
   "metadata": {},
   "outputs": [
    {
     "name": "stdout",
     "output_type": "stream",
     "text": [
      "(4002, 387) (4002, 62) (4002, 78)\n"
     ]
    }
   ],
   "source": [
    "# checking rows and columns for each wave\n",
    "print(df_w123.shape, df_w4.shape, df_w5.shape)"
   ]
  },
  {
   "cell_type": "code",
   "execution_count": 766,
   "metadata": {
    "collapsed": true
   },
   "outputs": [],
   "source": [
    "# \n",
    "wave_1_couples = df_w123.loc[(df_w123['qflag'] == 'partnered') & (df_w123['partner_deceased'] == 'not deceased'), 'caseid_new':]"
   ]
  },
  {
   "cell_type": "code",
   "execution_count": 767,
   "metadata": {},
   "outputs": [
    {
     "name": "stdout",
     "output_type": "stream",
     "text": [
      "<class 'pandas.core.frame.DataFrame'>\n",
      "Int64Index: 2981 entries, 0 to 4001\n",
      "Columns: 387 entries, caseid_new to w3_nonmbtiming_month\n",
      "dtypes: category(325), float32(16), float64(39), int32(4), int8(2), object(1)\n",
      "memory usage: 2.1+ MB\n"
     ]
    }
   ],
   "source": [
    "wave_1_couples.info()"
   ]
  },
  {
   "cell_type": "code",
   "execution_count": 768,
   "metadata": {
    "scrolled": false
   },
   "outputs": [
    {
     "name": "stdout",
     "output_type": "stream",
     "text": [
      "40"
     ]
    },
    {
     "name": "stderr",
     "output_type": "stream",
     "text": [
      "/Users/david.yan/anaconda/lib/python3.6/site-packages/ipykernel_launcher.py:7: UserWarning: Boolean Series key will be reindexed to match DataFrame index.\n",
      "  import sys\n",
      "/Users/david.yan/anaconda/lib/python3.6/site-packages/ipykernel_launcher.py:9: UserWarning: Boolean Series key will be reindexed to match DataFrame index.\n",
      "  if __name__ == '__main__':\n",
      "/Users/david.yan/anaconda/lib/python3.6/site-packages/ipykernel_launcher.py:11: UserWarning: Boolean Series key will be reindexed to match DataFrame index.\n",
      "  # This is added back by InteractiveShellApp.init_path()\n"
     ]
    },
    {
     "name": "stdout",
     "output_type": "stream",
     "text": [
      "\n",
      "\n",
      "18\n",
      "\n",
      "12\n",
      "\n",
      "8\n"
     ]
    },
    {
     "name": "stderr",
     "output_type": "stream",
     "text": [
      "/Users/david.yan/anaconda/lib/python3.6/site-packages/ipykernel_launcher.py:13: UserWarning: Boolean Series key will be reindexed to match DataFrame index.\n",
      "  del sys.path[0]\n"
     ]
    }
   ],
   "source": [
    "# Get relationship status of couples that have deceased partners\n",
    "w2_dead = wave_1_couples[wave_1_couples.w2_broke_up == 'partner passed away'].index\n",
    "w3_dead = wave_1_couples[wave_1_couples.w3_broke_up == 'partner deceased'].index\n",
    "w4_dead = df_w4[df_w4.w4_broke_up == 'partner passed away'].index\n",
    "w5_dead = df_w5[df_w5.w5_broke_up == 'partner deceased'].index\n",
    "\n",
    "print(len(wave_1_couples.loc[wave_1_couples.loc[w2_dead,['qflag']].index][wave_1_couples.qflag == 'partnered'].index))\n",
    "print('')\n",
    "print(len(wave_1_couples.loc[wave_1_couples.loc[w3_dead,['w2_broke_up']].index][wave_1_couples.w2_broke_up == 'still together'].index))\n",
    "print('') \n",
    "print(len(wave_1_couples.loc[wave_1_couples.loc[w4_dead,['w3_broke_up']].index][wave_1_couples.w3_broke_up == 'still together'].index))\n",
    "print('') \n",
    "print(len(df_w4.loc[df_w4.loc[w5_dead,['w4_broke_up']].index][df_w4.w4_broke_up == 'still together'].index))"
   ]
  },
  {
   "cell_type": "code",
   "execution_count": 769,
   "metadata": {},
   "outputs": [
    {
     "name": "stderr",
     "output_type": "stream",
     "text": [
      "/Users/david.yan/anaconda/lib/python3.6/site-packages/ipykernel_launcher.py:1: UserWarning: Boolean Series key will be reindexed to match DataFrame index.\n",
      "  \"\"\"Entry point for launching an IPython kernel.\n",
      "/Users/david.yan/anaconda/lib/python3.6/site-packages/ipykernel_launcher.py:2: UserWarning: Boolean Series key will be reindexed to match DataFrame index.\n",
      "  \n",
      "/Users/david.yan/anaconda/lib/python3.6/site-packages/ipykernel_launcher.py:3: UserWarning: Boolean Series key will be reindexed to match DataFrame index.\n",
      "  This is separate from the ipykernel package so we can avoid doing imports until\n",
      "/Users/david.yan/anaconda/lib/python3.6/site-packages/ipykernel_launcher.py:4: UserWarning: Boolean Series key will be reindexed to match DataFrame index.\n",
      "  after removing the cwd from sys.path.\n"
     ]
    }
   ],
   "source": [
    "w2_dead_st = wave_1_couples.loc[wave_1_couples.loc[w2_dead,['qflag','caseid_new']].index][wave_1_couples.qflag == 'partnered'].caseid_new.values\n",
    "w3_dead_st = wave_1_couples.loc[wave_1_couples.loc[w3_dead,['w2_broke_up','caseid_new']].index][wave_1_couples.w2_broke_up == 'still together'].caseid_new.values\n",
    "w4_dead_st = wave_1_couples.loc[wave_1_couples.loc[w4_dead,['w3_broke_up','caseid_new']].index][wave_1_couples.w3_broke_up == 'still together'].caseid_new.values\n",
    "w5_dead_st = df_w4.loc[df_w4.loc[w5_dead,['w4_broke_up','caseid_new']].index][df_w4.w4_broke_up == 'still together'].caseid_new.values"
   ]
  },
  {
   "cell_type": "code",
   "execution_count": 770,
   "metadata": {
    "collapsed": true
   },
   "outputs": [],
   "source": [
    "# prior relationship status of all couples that have deceased partners is still together\n",
    "tot_dead_list = np.concatenate((w2_dead_st,w3_dead_st,w4_dead_st,w5_dead_st))"
   ]
  },
  {
   "cell_type": "code",
   "execution_count": 771,
   "metadata": {
    "collapsed": true
   },
   "outputs": [],
   "source": [
    "wave_2_couples_broke_up = wave_1_couples.loc[wave_1_couples['w2_broke_up']=='broke up']\n",
    "wave_3_couples_broke_up = wave_1_couples.loc[wave_1_couples['w3_broke_up']=='broke up']\n",
    "w4_breakup = df_w4.loc[df_w4['w4_broke_up']=='broke up']\n",
    "w5_breakup = df_w5.loc[df_w5['w5_broke_up']=='broke up']\n",
    "survived_couples=df_w5.loc[df_w5['w5_broke_up']=='still together']"
   ]
  },
  {
   "cell_type": "code",
   "execution_count": 772,
   "metadata": {
    "collapsed": true
   },
   "outputs": [],
   "source": [
    "w2_breakup_list=wave_2_couples_broke_up['caseid_new'].tolist()\n",
    "w3_breakup_list=wave_3_couples_broke_up['caseid_new'].tolist()\n",
    "w4_breakup_list=w4_breakup['caseid_new'].tolist()\n",
    "w5_breakup_list=w5_breakup['caseid_new'].tolist()\n",
    "survived_couples_list=survived_couples['caseid_new'].tolist()"
   ]
  },
  {
   "cell_type": "code",
   "execution_count": 773,
   "metadata": {
    "scrolled": true
   },
   "outputs": [
    {
     "data": {
      "text/html": [
       "<div>\n",
       "<style>\n",
       "    .dataframe thead tr:only-child th {\n",
       "        text-align: right;\n",
       "    }\n",
       "\n",
       "    .dataframe thead th {\n",
       "        text-align: left;\n",
       "    }\n",
       "\n",
       "    .dataframe tbody tr th {\n",
       "        vertical-align: top;\n",
       "    }\n",
       "</style>\n",
       "<table border=\"1\" class=\"dataframe\">\n",
       "  <thead>\n",
       "    <tr style=\"text-align: right;\">\n",
       "      <th></th>\n",
       "      <th>caseid_new</th>\n",
       "      <th>weight1</th>\n",
       "      <th>weight2</th>\n",
       "      <th>ppage</th>\n",
       "      <th>ppagecat</th>\n",
       "      <th>ppagect4</th>\n",
       "      <th>ppeduc</th>\n",
       "      <th>ppeducat</th>\n",
       "      <th>ppethm</th>\n",
       "      <th>ppgender</th>\n",
       "      <th>...</th>\n",
       "      <th>w3_mbtiming_year</th>\n",
       "      <th>w3_mbtiming_month</th>\n",
       "      <th>w3_q5</th>\n",
       "      <th>w3_q6</th>\n",
       "      <th>w3_q7</th>\n",
       "      <th>w3_q8</th>\n",
       "      <th>w3_q9</th>\n",
       "      <th>w3_q10</th>\n",
       "      <th>w3_nonmbtiming_year</th>\n",
       "      <th>w3_nonmbtiming_month</th>\n",
       "    </tr>\n",
       "  </thead>\n",
       "  <tbody>\n",
       "    <tr>\n",
       "      <th>22</th>\n",
       "      <td>44486</td>\n",
       "      <td>3581</td>\n",
       "      <td>3581.0</td>\n",
       "      <td>48</td>\n",
       "      <td>45-54</td>\n",
       "      <td>45-59</td>\n",
       "      <td>some college, no degree</td>\n",
       "      <td>some college</td>\n",
       "      <td>black, non-hispanic</td>\n",
       "      <td>female</td>\n",
       "      <td>...</td>\n",
       "      <td>NaN</td>\n",
       "      <td>NaN</td>\n",
       "      <td>NaN</td>\n",
       "      <td>NaN</td>\n",
       "      <td>NaN</td>\n",
       "      <td>NaN</td>\n",
       "      <td>NaN</td>\n",
       "      <td>NaN</td>\n",
       "      <td>NaN</td>\n",
       "      <td>NaN</td>\n",
       "    </tr>\n",
       "    <tr>\n",
       "      <th>73</th>\n",
       "      <td>97195</td>\n",
       "      <td>43431</td>\n",
       "      <td>43431.0</td>\n",
       "      <td>19</td>\n",
       "      <td>18-24</td>\n",
       "      <td>18-29</td>\n",
       "      <td>some college, no degree</td>\n",
       "      <td>some college</td>\n",
       "      <td>white, non-hispanic</td>\n",
       "      <td>male</td>\n",
       "      <td>...</td>\n",
       "      <td>NaN</td>\n",
       "      <td>NaN</td>\n",
       "      <td>yes</td>\n",
       "      <td>no</td>\n",
       "      <td>no, did not marry [xNameP]</td>\n",
       "      <td>NaN</td>\n",
       "      <td>NaN</td>\n",
       "      <td>NaN</td>\n",
       "      <td>NaN</td>\n",
       "      <td>NaN</td>\n",
       "    </tr>\n",
       "    <tr>\n",
       "      <th>97</th>\n",
       "      <td>121515</td>\n",
       "      <td>39909</td>\n",
       "      <td>39909.0</td>\n",
       "      <td>51</td>\n",
       "      <td>45-54</td>\n",
       "      <td>45-59</td>\n",
       "      <td>bachelors degree</td>\n",
       "      <td>bachelor's degree or higher</td>\n",
       "      <td>white, non-hispanic</td>\n",
       "      <td>female</td>\n",
       "      <td>...</td>\n",
       "      <td>NaN</td>\n",
       "      <td>NaN</td>\n",
       "      <td>yes</td>\n",
       "      <td>no</td>\n",
       "      <td>no, did not marry [xNameP]</td>\n",
       "      <td>NaN</td>\n",
       "      <td>NaN</td>\n",
       "      <td>NaN</td>\n",
       "      <td>NaN</td>\n",
       "      <td>NaN</td>\n",
       "    </tr>\n",
       "    <tr>\n",
       "      <th>119</th>\n",
       "      <td>144545</td>\n",
       "      <td>109536</td>\n",
       "      <td>109536.0</td>\n",
       "      <td>54</td>\n",
       "      <td>45-54</td>\n",
       "      <td>45-59</td>\n",
       "      <td>professional or doctorate degree</td>\n",
       "      <td>bachelor's degree or higher</td>\n",
       "      <td>other, non-hispanic</td>\n",
       "      <td>male</td>\n",
       "      <td>...</td>\n",
       "      <td>NaN</td>\n",
       "      <td>NaN</td>\n",
       "      <td>yes</td>\n",
       "      <td>no</td>\n",
       "      <td>no, did not marry [xNameP]</td>\n",
       "      <td>NaN</td>\n",
       "      <td>NaN</td>\n",
       "      <td>NaN</td>\n",
       "      <td>NaN</td>\n",
       "      <td>NaN</td>\n",
       "    </tr>\n",
       "    <tr>\n",
       "      <th>122</th>\n",
       "      <td>147245</td>\n",
       "      <td>69278</td>\n",
       "      <td>69278.0</td>\n",
       "      <td>24</td>\n",
       "      <td>18-24</td>\n",
       "      <td>18-29</td>\n",
       "      <td>high school graduate - high school diploma or ...</td>\n",
       "      <td>high school</td>\n",
       "      <td>white, non-hispanic</td>\n",
       "      <td>male</td>\n",
       "      <td>...</td>\n",
       "      <td>NaN</td>\n",
       "      <td>NaN</td>\n",
       "      <td>yes</td>\n",
       "      <td>yes</td>\n",
       "      <td>no, did not marry [xNameP]</td>\n",
       "      <td>NaN</td>\n",
       "      <td>NaN</td>\n",
       "      <td>NaN</td>\n",
       "      <td>NaN</td>\n",
       "      <td>NaN</td>\n",
       "    </tr>\n",
       "  </tbody>\n",
       "</table>\n",
       "<p>5 rows × 387 columns</p>\n",
       "</div>"
      ],
      "text/plain": [
       "     caseid_new  weight1   weight2 ppage ppagecat ppagect4  \\\n",
       "22        44486     3581    3581.0    48    45-54    45-59   \n",
       "73        97195    43431   43431.0    19    18-24    18-29   \n",
       "97       121515    39909   39909.0    51    45-54    45-59   \n",
       "119      144545   109536  109536.0    54    45-54    45-59   \n",
       "122      147245    69278   69278.0    24    18-24    18-29   \n",
       "\n",
       "                                                ppeduc  \\\n",
       "22                             some college, no degree   \n",
       "73                             some college, no degree   \n",
       "97                                    bachelors degree   \n",
       "119                   professional or doctorate degree   \n",
       "122  high school graduate - high school diploma or ...   \n",
       "\n",
       "                        ppeducat               ppethm ppgender  \\\n",
       "22                  some college  black, non-hispanic   female   \n",
       "73                  some college  white, non-hispanic     male   \n",
       "97   bachelor's degree or higher  white, non-hispanic   female   \n",
       "119  bachelor's degree or higher  other, non-hispanic     male   \n",
       "122                  high school  white, non-hispanic     male   \n",
       "\n",
       "            ...          w3_mbtiming_year  w3_mbtiming_month w3_q5 w3_q6  \\\n",
       "22          ...                       NaN                NaN   NaN   NaN   \n",
       "73          ...                       NaN                NaN   yes    no   \n",
       "97          ...                       NaN                NaN   yes    no   \n",
       "119         ...                       NaN                NaN   yes    no   \n",
       "122         ...                       NaN                NaN   yes   yes   \n",
       "\n",
       "                          w3_q7 w3_q8 w3_q9 w3_q10 w3_nonmbtiming_year  \\\n",
       "22                          NaN   NaN   NaN    NaN                 NaN   \n",
       "73   no, did not marry [xNameP]   NaN   NaN    NaN                 NaN   \n",
       "97   no, did not marry [xNameP]   NaN   NaN    NaN                 NaN   \n",
       "119  no, did not marry [xNameP]   NaN   NaN    NaN                 NaN   \n",
       "122  no, did not marry [xNameP]   NaN   NaN    NaN                 NaN   \n",
       "\n",
       "    w3_nonmbtiming_month  \n",
       "22                   NaN  \n",
       "73                   NaN  \n",
       "97                   NaN  \n",
       "119                  NaN  \n",
       "122                  NaN  \n",
       "\n",
       "[5 rows x 387 columns]"
      ]
     },
     "execution_count": 773,
     "metadata": {},
     "output_type": "execute_result"
    }
   ],
   "source": [
    "# Must make sure all couples in dataset are partnered right from the start\n",
    "cp_index = np.concatenate((w4_breakup.index,w5_breakup.index,survived_couples.index))\n",
    "wave_1_couples.loc[cp_index].head()"
   ]
  },
  {
   "cell_type": "code",
   "execution_count": 774,
   "metadata": {
    "collapsed": true
   },
   "outputs": [],
   "source": [
    "# for x in tot_dead_st:\n",
    "#     if x in w2_breakup_list or x in w3_breakup_list or x in w4_breakup_list or x in w5_breakup_list:\n",
    "#         print(x)"
   ]
  },
  {
   "cell_type": "code",
   "execution_count": 775,
   "metadata": {},
   "outputs": [
    {
     "name": "stdout",
     "output_type": "stream",
     "text": [
      "503\n",
      "1144\n"
     ]
    }
   ],
   "source": [
    "# check the imbalance of the data\n",
    "print(len(w5_breakup_list)+len(w4_breakup_list)+len(w3_breakup_list)+len(w2_breakup_list))\n",
    "print(len(tot_dead_list)+len(survived_couples_list))"
   ]
  },
  {
   "cell_type": "code",
   "execution_count": 776,
   "metadata": {
    "collapsed": true
   },
   "outputs": [],
   "source": [
    "breakup_list = np.concatenate((w5_breakup_list,w4_breakup_list,w3_breakup_list,w2_breakup_list), axis=0)\n",
    "together_list = np.concatenate((tot_dead_list,survived_couples_list), axis=0)"
   ]
  },
  {
   "cell_type": "code",
   "execution_count": 777,
   "metadata": {
    "collapsed": true
   },
   "outputs": [],
   "source": [
    "# only want wave 1 features\n",
    "features = wave_1_couples.loc[:,:'coresident'].columns\n",
    "couple_data = wave_1_couples[features]"
   ]
  },
  {
   "cell_type": "code",
   "execution_count": 778,
   "metadata": {
    "collapsed": true
   },
   "outputs": [],
   "source": [
    "couple_data.set_index(keys=['caseid_new'], inplace=True)"
   ]
  },
  {
   "cell_type": "code",
   "execution_count": 779,
   "metadata": {
    "collapsed": true
   },
   "outputs": [],
   "source": [
    "# dropping obviously irrelevant columns\n",
    "cols_to_drop = couple_data.loc[w2_breakup_list,'pphhcomp11_member2_age':'weight_couples_coresident'].columns"
   ]
  },
  {
   "cell_type": "code",
   "execution_count": 780,
   "metadata": {},
   "outputs": [
    {
     "name": "stderr",
     "output_type": "stream",
     "text": [
      "/Users/david.yan/anaconda/lib/python3.6/site-packages/ipykernel_launcher.py:1: SettingWithCopyWarning: \n",
      "A value is trying to be set on a copy of a slice from a DataFrame\n",
      "\n",
      "See the caveats in the documentation: http://pandas.pydata.org/pandas-docs/stable/indexing.html#indexing-view-versus-copy\n",
      "  \"\"\"Entry point for launching an IPython kernel.\n"
     ]
    }
   ],
   "source": [
    "couple_data.drop(labels=cols_to_drop, axis=1, inplace=True)"
   ]
  },
  {
   "cell_type": "code",
   "execution_count": 781,
   "metadata": {
    "collapsed": true
   },
   "outputs": [],
   "source": [
    "couple_breakup = couple_data.loc[breakup_list,:]\n",
    "couple_together = couple_data.loc[together_list,:]"
   ]
  },
  {
   "cell_type": "code",
   "execution_count": 782,
   "metadata": {},
   "outputs": [
    {
     "name": "stdout",
     "output_type": "stream",
     "text": [
      "(503, 231)\n",
      "(1144, 231)\n"
     ]
    }
   ],
   "source": [
    "print(couple_breakup.shape)\n",
    "print(couple_together.shape)"
   ]
  },
  {
   "cell_type": "code",
   "execution_count": 783,
   "metadata": {
    "collapsed": true
   },
   "outputs": [],
   "source": [
    "couple_breakup['relationship_outcome_6yrs'] = [1 for x in range(couple_breakup.shape[0])]\n",
    "couple_together['relationship_outcome_6yrs'] = [0 for x in range(couple_together.shape[0])]"
   ]
  },
  {
   "cell_type": "code",
   "execution_count": 784,
   "metadata": {},
   "outputs": [
    {
     "name": "stdout",
     "output_type": "stream",
     "text": [
      "[1]\n",
      "[0]\n"
     ]
    }
   ],
   "source": [
    "print(couple_breakup.relationship_outcome_6yrs.unique())\n",
    "print(couple_together.relationship_outcome_6yrs.unique())"
   ]
  },
  {
   "cell_type": "code",
   "execution_count": 785,
   "metadata": {
    "collapsed": true,
    "scrolled": true
   },
   "outputs": [],
   "source": [
    "couple_data = pd.concat([couple_breakup, couple_together], axis=0)"
   ]
  },
  {
   "cell_type": "code",
   "execution_count": 786,
   "metadata": {
    "collapsed": true
   },
   "outputs": [],
   "source": [
    "# drop more unnecessary columns that will not be useful features\n",
    "couple_data.drop(labels=['weight1','weight2'], axis=1, inplace=True)\n",
    "# drop age category columns, already have age continuous column\n",
    "couple_data.drop(labels=['ppagecat','ppagect4'], axis=1, inplace=True)\n",
    "# use education category instead of education\n",
    "couple_data.drop(labels=['ppeduc'], axis=1, inplace=True)\n",
    "# use continuous household income instead of categorical household income\n",
    "couple_data.drop(labels=['ppincimp'], axis=1, inplace=True)\n",
    "# Drop MSA metropolitan statistical area, irrelevancy\n",
    "couple_data.drop(labels=['ppmsacat'], axis=1, inplace=True)\n",
    "# drop ppt01, ppt1317, ppt25, ppt612, features aggregated in children_in_hh\n",
    "couple_data.drop(labels=['ppt01','ppt1317','ppt25','ppt612'], axis=1, inplace=True)\n",
    "# drop ppq14arace, redundant column, there are individual race columns\n",
    "couple_data.drop(labels=['ppq14arace'], axis=1, inplace=True)\n",
    "# drop ppppcmdate_yrmo, pppadate_yrmo, date of survey is irrelevant\n",
    "couple_data.drop(labels=['ppppcmdate_yrmo','pppadate_yrmo'], axis=1, inplace=True)\n",
    "# drop HCMST_main_interview_yrmo, date of interview is irrelevant\n",
    "# drop interview duration, qflag - all partnered\n",
    "couple_data.drop(labels=['HCMST_main_interview_yrmo','duration','qflag'], axis=1, inplace=True)\n",
    "# drop papglb_status, same as glbstatus\n",
    "# drop recsource, source of recruitment is irrelevant\n",
    "# drop s1a,s2,q3_codes,q5,q15a1_compressed,q17c,q17d redundant or too many NAs, \n",
    "couple_data.drop(labels=['glbstatus','papglb_status','recsource','s1','s1a','s2','q3_codes','q5','q15a1_compressed','q17c','q17d'], axis=1, inplace=True)\n",
    "# drop q18a_1, q18a_2, q18a_3, q18b_codes, q18c_codes, low variance and too many NAs\n",
    "couple_data.drop(labels=['q18a_1','q18a_2','q18a_3','q18b_codes','q18c_codes','q18a_refused'], axis=1, inplace=True)\n",
    "# drop q20, q21a_refusal, q21b_refusal,q21c_refusal,q21d_refusal,q21e,q21e_refusal,q24_codes\n",
    "# 'q31_9','q31_other_text_entered','q33_7','q33_other_text_entered',not usable column\n",
    "# q35_codes, q35_text_entered, summary_q24_total\n",
    "couple_data.drop(labels=['q20','q21a_refusal','q21b_refusal','q21c_refusal','q21d_refusal',\n",
    "                        'q21e','q21e_refusal','q24_codes','q31_9','q31_other_text_entered',\n",
    "                        'q33_7','q33_other_text_entered','q35_codes','q35_text_entered',\n",
    "                        'summary_q24_total'], axis=1, inplace=True)\n",
    "# drop marrynotreally, marrycountry, civilnotreally, partner_deceased\n",
    "# partner_religion_reclassified, partner_religion_child_reclass, own_religion_child_reclass\n",
    "# q32_internet, how_met_online, potential_partner_gender_recodes, how_long_ago_first_met_cat\n",
    "# duplicated representation of previous columns, too many NA\n",
    "couple_data.drop(labels=['marrynotreally','marrycountry','civilnotreally','partner_deceased',\n",
    "                        'partner_religion_reclassified','partner_religion_child_reclass',\n",
    "                        'own_religion_child_reclass','q32_internet','how_met_online',\n",
    "                        'either_internet','either_internet_adjusted','potential_partner_gender_recodes',\n",
    "                        'how_long_ago_first_met_cat','pphouseholdsize'], axis=1, inplace=True)\n",
    "# drop q24_R_friend, q24_P_friend, q24_R_family, q24_P_family, q24_R_neighbor, q24_P_neighbor\n",
    "# q24_R_cowork, q24_P_cowork,papreligion,q13b,respondent_religion_at_16,partner_religion_at_16\n",
    "# q7b, q8b,q30\n",
    "# columns are aggregated into other columns\n",
    "couple_data.drop(labels=['q24_R_friend','q24_P_friend','q24_R_family','q24_P_family','q24_R_neighbor','q24_P_neighbor',\n",
    "                        'q24_R_cowork','q24_P_cowork','papreligion','q13b','respondent_religion_at_16',\n",
    "                        'partner_religion_at_16','q7b','q8b','q30'], axis=1, inplace=True)\n",
    "# drop home_country_recode, too many NAs\n",
    "couple_data.drop(labels=['home_country_recode'], axis=1, inplace=True)"
   ]
  },
  {
   "cell_type": "code",
   "execution_count": 787,
   "metadata": {
    "collapsed": true
   },
   "outputs": [],
   "source": [
    "# Iterate through each series in the dataframe, impute nulls with highest mode, binary values\n",
    "import random\n",
    "sr = random.SystemRandom()\n",
    "\n",
    "def impute_bin_cols(cols):\n",
    "    \n",
    "    for col in cols:\n",
    "        # get number of keys\n",
    "        key_arr = [k for k in couple_data[col].value_counts().sort_values(ascending=False).to_dict().keys()]\n",
    "        greater_key = key_arr[0]\n",
    "        greater_counts = couple_data[col].value_counts().to_dict()[greater_key]\n",
    "\n",
    "        if len(couple_data[col].value_counts().sort_values(ascending=False).to_dict().keys()) > 1:\n",
    "            lesser_key = key_arr[1]\n",
    "            lesser_counts = couple_data[col].value_counts().to_dict()[lesser_key]\n",
    "\n",
    "            if greater_counts > lesser_counts:\n",
    "                couple_data[col].fillna(greater_key, inplace=True)\n",
    "            else:\n",
    "                couple_data[col].fillna(sr.choice([greater_key,lesser_key]), inplace=True)\n",
    "        else:\n",
    "            couple_data[col].fillna(greater_key, inplace=True)\n",
    "    \n",
    "    return couple_data[cols].isnull().sum()"
   ]
  },
  {
   "cell_type": "code",
   "execution_count": 788,
   "metadata": {
    "scrolled": true
   },
   "outputs": [
    {
     "data": {
      "text/plain": [
       "q22                                 1266\n",
       "q17b                                 955\n",
       "q26                                  730\n",
       "q21d                                 698\n",
       "q17a                                 692\n",
       "parental_approval                    451\n",
       "q21c                                 344\n",
       "how_long_ago_first_cohab             344\n",
       "q24_internet_game                     33\n",
       "q24_internet_chat                     33\n",
       "q24_vol_org                           33\n",
       "q24_customer                          33\n",
       "q24_bar_restaurant                    33\n",
       "q24_internet_dating                   33\n",
       "q24_internet_social_networking        33\n",
       "q24_private_party                     33\n",
       "q24_internet_community                33\n",
       "q24_internet_other                    33\n",
       "q24_public                            33\n",
       "q24_military                          33\n",
       "q24_blind_date                        33\n",
       "q24_vacation                          33\n",
       "q24_singles_service_non_internet      33\n",
       "q24_church                            33\n",
       "q24_btwn_I_sig_other                  33\n",
       "q24_P_sig_other                       33\n",
       "q24_college                           33\n",
       "q24_met_online                        33\n",
       "q24_R_sig_other                       33\n",
       "met_through_as_coworkers              33\n",
       "                                    ... \n",
       "q32                                    0\n",
       "q33_1                                  0\n",
       "q33_2                                  0\n",
       "q33_4                                  0\n",
       "q31_4                                  0\n",
       "q33_5                                  0\n",
       "q33_6                                  0\n",
       "same_sex_couple                        0\n",
       "alt_partner_gender                     0\n",
       "married                                0\n",
       "respondent_yrsed                       0\n",
       "q31_5                                  0\n",
       "q31_3                                  0\n",
       "q6b                                    0\n",
       "q14                                    0\n",
       "q7a                                    0\n",
       "q8a                                    0\n",
       "q10                                    0\n",
       "q11                                    0\n",
       "q12                                    0\n",
       "q13a                                   0\n",
       "q19                                    0\n",
       "q31_2                                  0\n",
       "q23                                    0\n",
       "q25                                    0\n",
       "q27                                    0\n",
       "q28                                    0\n",
       "q29                                    0\n",
       "q31_1                                  0\n",
       "ppage                                  0\n",
       "Length: 153, dtype: int64"
      ]
     },
     "execution_count": 788,
     "metadata": {},
     "output_type": "execute_result"
    }
   ],
   "source": [
    "couple_data.isnull().sum().sort_values(ascending=False)"
   ]
  },
  {
   "cell_type": "code",
   "execution_count": 789,
   "metadata": {
    "collapsed": true
   },
   "outputs": [],
   "source": [
    "# investigate null features\n",
    "# drop features with more than 70% null\n",
    "couple_data.drop(labels=['q22'], axis=1, inplace=True)\n",
    "# drop q17a, use q17b instead, current marriage already taken into account in 'married' column\n",
    "couple_data.drop(labels=['q17a'], axis=1, inplace=True)"
   ]
  },
  {
   "cell_type": "code",
   "execution_count": 790,
   "metadata": {
    "collapsed": true
   },
   "outputs": [],
   "source": [
    "# fill null and 'refused' values\n",
    "couple_data.q17b.fillna('never married', inplace=True)\n",
    "couple_data.q17b = couple_data.q17b.map(lambda x: 'never married' if x == 'refused' else x)\n",
    "\n",
    "couple_data.q26 = couple_data.q26.map(lambda x: 'did not attend same college or university' if x == 'refused' else x)\n",
    "\n",
    "couple_data.parental_approval.fillna(\"don't approve or don't know\", inplace=True)\n",
    "# fill null values for continuous variable\n",
    "couple_data.q21d.fillna(couple_data.q21d.median(), inplace=True)\n",
    "couple_data.q21c.fillna(couple_data.q21c.median(), inplace=True)\n",
    "couple_data.how_long_ago_first_cohab.fillna(couple_data.how_long_ago_first_cohab.median(), inplace=True)\n",
    "# partner mum years of education\n",
    "couple_data.partner_mom_yrsed.fillna(couple_data.partner_mom_yrsed.median(), inplace=True)\n",
    "# distancemoved_10mi\n",
    "couple_data.distancemoved_10mi.fillna(couple_data.distancemoved_10mi.median(), inplace=True)\n",
    "# how_long_ago_first_romantic\n",
    "couple_data.how_long_ago_first_romantic.fillna(couple_data.how_long_ago_first_romantic.median(), inplace=True)\n",
    "# how_long_relationship\n",
    "couple_data.how_long_relationship.fillna(couple_data.how_long_relationship.median(), inplace=True)\n",
    "# q21b how old were you when your romantic relationship began with your partner\n",
    "couple_data.q21b.fillna(couple_data.q21b.median(), inplace=True)\n",
    "# respondent_mom_yrsed\n",
    "couple_data.respondent_mom_yrsed.fillna(couple_data.respondent_mom_yrsed.median(), inplace=True)\n",
    "# fill null and convert relationship quality to integers\n",
    "couple_data.relationship_quality.fillna('fair', inplace=True)\n",
    "couple_data.relationship_quality = couple_data.relationship_quality.map(lambda x: 5 if x == 'excellent' else 4\n",
    "                                if x == 'good' else 3 if x == 'fair' else 2 if x == 'poor' else 1)\n",
    "# Filling null values for gender attraction\n",
    "couple_data[['gender_attraction','same_sex_couple']].loc[couple_data.gender_attraction.isnull()]\n",
    "couple_data.gender_attraction.fillna('opposite gender only', inplace=True)\n",
    "# q21a how old were you when you first met\n",
    "couple_data.q21a.fillna(couple_data.q21a.median(), inplace=True)\n",
    "# how_long_ago_first_met\n",
    "couple_data.how_long_ago_first_met.fillna(couple_data.how_long_ago_first_met.median(), inplace=True)\n",
    "# q16 how many of your relatives do you see in person at least once a month\n",
    "couple_data.q16 = couple_data.q16.astype('float64')\n",
    "couple_data.q16.fillna(np.median([int(i) for i in couple_data.q16.unique() if np.isnan(i) == False]), inplace=True)\n",
    "# age difference\n",
    "couple_data.age_difference.fillna(couple_data.age_difference.median(), inplace=True)# q9 how old is your partner\n",
    "couple_data.q9.fillna(couple_data.q9.median(), inplace=True)\n",
    "# respondent race \n",
    "couple_data.respondent_race.fillna('NH white', inplace=True)\n",
    "# partner religion at 16 years old\n",
    "couple_data.partner_relig_16_cat.fillna('No religion', inplace=True)\n",
    "# respondent religion at 16 years old\n",
    "couple_data.respondent_relig_16_cat.fillna('No religion', inplace=True)\n",
    "# papglb_friend\n",
    "# do you have any friends or relatives who you know to be gay, lesbian, or bis \n",
    "couple_data.papglb_friend.fillna('i would prefer to not answer this question', inplace=True)\n",
    "# partner years of education\n",
    "couple_data.partner_yrsed.fillna(couple_data.partner_yrsed.median(), inplace=True)\n",
    "# partner race\n",
    "couple_data.partner_race.fillna('NH white', inplace=True)"
   ]
  },
  {
   "cell_type": "code",
   "execution_count": 791,
   "metadata": {
    "scrolled": true
   },
   "outputs": [
    {
     "data": {
      "text/plain": [
       "q24_met_online                      0\n",
       "q24_R_sig_other                     0\n",
       "q24_P_sig_other                     0\n",
       "q24_btwn_I_cowork                   0\n",
       "q24_btwn_I_friend                   0\n",
       "q24_btwn_I_family                   0\n",
       "q24_btwn_I_sig_other                0\n",
       "q24_btwn_I_neighbor                 0\n",
       "q24_school                          0\n",
       "q24_college                         0\n",
       "q24_military                        0\n",
       "q24_church                          0\n",
       "q24_vol_org                         0\n",
       "q24_customer                        0\n",
       "q24_bar_restaurant                  0\n",
       "q24_internet_dating                 0\n",
       "q24_internet_social_networking      0\n",
       "q24_internet_game                   0\n",
       "q24_internet_chat                   0\n",
       "q24_internet_community              0\n",
       "q24_internet_other                  0\n",
       "q24_public                          0\n",
       "q24_private_party                   0\n",
       "q24_blind_date                      0\n",
       "q24_vacation                        0\n",
       "q24_singles_service_non_internet    0\n",
       "q24_business_trip                   0\n",
       "q24_work_neighbor                   0\n",
       "q24_fam_sister_active               0\n",
       "q24_fam_brother_active              0\n",
       "q24_fam_mother_active               0\n",
       "q24_fam_father_active               0\n",
       "q24_fam_other_active                0\n",
       "q24_fam_cousins_active              0\n",
       "q24_fam_aunt_niece_active           0\n",
       "q24_fam_uncle_nephew_active         0\n",
       "q24_fam_grandmother_active          0\n",
       "q24_fam_grandfather_active          0\n",
       "q24_fam_sister_passive              0\n",
       "q24_fam_brother_passive             0\n",
       "q24_fam_mother_passive              0\n",
       "q24_fam_father_passive              0\n",
       "q24_fam_other_passive               0\n",
       "q24_fam_cousins_passive             0\n",
       "q24_fam_aunt_niece_passive          0\n",
       "q24_fam_uncle_nephew_passive        0\n",
       "q24_fam_grandmother_passive         0\n",
       "q24_fam_grandfather_passive         0\n",
       "q24_fam_female                      0\n",
       "q24_fam_male                        0\n",
       "dtype: int64"
      ]
     },
     "execution_count": 791,
     "metadata": {},
     "output_type": "execute_result"
    }
   ],
   "source": [
    "# q24 columns \n",
    "cols = [x for x in couple_data.columns if 'q24_' in x]\n",
    "impute_bin_cols(cols)"
   ]
  },
  {
   "cell_type": "code",
   "execution_count": 792,
   "metadata": {
    "scrolled": true
   },
   "outputs": [
    {
     "data": {
      "text/plain": [
       "met_through_as_coworkers    0\n",
       "met_through_friends         0\n",
       "met_through_family          0\n",
       "papevangelical              0\n",
       "met_through_as_neighbors    0\n",
       "US_raised                   0\n",
       "coresident                  0\n",
       "dtype: int64"
      ]
     },
     "execution_count": 792,
     "metadata": {},
     "output_type": "execute_result"
    }
   ],
   "source": [
    "# more binary columns\n",
    "cols = ['met_through_as_coworkers','met_through_friends','met_through_family',\n",
    "        'papevangelical','met_through_as_neighbors','US_raised','coresident']\n",
    "impute_bin_cols(cols)"
   ]
  },
  {
   "cell_type": "code",
   "execution_count": 793,
   "metadata": {
    "collapsed": true
   },
   "outputs": [],
   "source": [
    "# age column should be continuous\n",
    "couple_data.ppage = couple_data.ppage.astype('float64')\n",
    "# number of adults over 18+ in HH should be continuous\n",
    "couple_data.ppt18ov = couple_data.ppt18ov.astype('float64')\n",
    "# relationship_quality also continuous\n",
    "couple_data.relationship_quality = couple_data.relationship_quality.astype('float64')"
   ]
  },
  {
   "cell_type": "code",
   "execution_count": 794,
   "metadata": {
    "scrolled": true
   },
   "outputs": [
    {
     "name": "stdout",
     "output_type": "stream",
     "text": [
      "bachelor's degree or higher    669\n",
      "some college                   463\n",
      "high school                    371\n",
      "less than high school          144\n",
      "Name: ppeducat, dtype: int64\n",
      "------------------------\n",
      "white, non-hispanic       1238\n",
      "hispanic                   175\n",
      "black, non-hispanic        118\n",
      "2+ races, non-hispanic      65\n",
      "other, non-hispanic         51\n",
      "Name: ppethm, dtype: int64\n",
      "------------------------\n",
      "male      838\n",
      "female    809\n",
      "Name: ppgender, dtype: int64\n",
      "------------------------\n",
      "yes    1368\n",
      "no      279\n",
      "Name: pphhhead, dtype: int64\n",
      "------------------------\n",
      "a one-family house detached from any other house     1222\n",
      "a building with 2 or more apartments                  240\n",
      "a one-family house attached to one or more houses     127\n",
      "a mobile home                                          57\n",
      "boat, rv, van, etc.                                     1\n",
      "Name: pphouse, dtype: int64\n",
      "------------------------\n",
      "married                860\n",
      "never married          312\n",
      "living with partner    284\n",
      "divorced               133\n",
      "widowed                 37\n",
      "separated               21\n",
      "Name: ppmarit, dtype: int64\n",
      "------------------------\n",
      "south        526\n",
      "west         430\n",
      "midwest      356\n",
      "northeast    335\n",
      "Name: ppreg4, dtype: int64\n",
      "------------------------\n",
      "pacific               296\n",
      "south atlantic        287\n",
      "mid-atlantic          247\n",
      "east-north central    245\n",
      "west-south central    154\n",
      "mountain              134\n",
      "west-north central    111\n",
      "new england            88\n",
      "east-south central     85\n",
      "Name: ppreg9, dtype: int64\n",
      "------------------------\n",
      "owned or being bought by you or someone in your household    1304\n",
      "rented for cash                                               324\n",
      "occupied without payment of cash rent                          19\n",
      "Name: pprent, dtype: int64\n",
      "------------------------\n",
      "working - as a paid employee                    1011\n",
      "not working - retired                            204\n",
      "working - self-employed                          146\n",
      "not working - other                              108\n",
      "not working - disabled                           105\n",
      "not working - looking for work                    64\n",
      "not working - on temporary layoff from a job       9\n",
      "Name: ppwork, dtype: int64\n",
      "------------------------\n",
      "yes    1304\n",
      "no      343\n",
      "Name: ppnet, dtype: int64\n",
      "------------------------\n",
      "no, i am not                               1472\n",
      "yes, mexican, mexican-american, chicano      73\n",
      "yes, other spanish/hispanic/latino           37\n",
      "yes, puerto rican                            24\n",
      "yes, south american                          15\n",
      "yes, cuban                                   11\n",
      "yes, caribbean                                8\n",
      "yes, central american                         7\n",
      "Name: pphispan, dtype: int64\n",
      "------------------------\n",
      "yes        1401\n",
      "no          244\n",
      "refused       2\n",
      "Name: pprace_white, dtype: int64\n",
      "------------------------\n",
      "no         1505\n",
      "yes         140\n",
      "refused       2\n",
      "Name: pprace_black, dtype: int64\n",
      "------------------------\n",
      "no         1591\n",
      "yes          54\n",
      "refused       2\n",
      "Name: pprace_nativeamerican, dtype: int64\n",
      "------------------------\n",
      "no         1642\n",
      "yes           3\n",
      "refused       2\n",
      "Name: pprace_asianindian, dtype: int64\n",
      "------------------------\n",
      "no         1637\n",
      "yes           8\n",
      "refused       2\n",
      "Name: pprace_chinese, dtype: int64\n",
      "------------------------\n",
      "no         1632\n",
      "yes          13\n",
      "refused       2\n",
      "Name: pprace_filipino, dtype: int64\n",
      "------------------------\n",
      "no         1637\n",
      "yes           8\n",
      "refused       2\n",
      "Name: pprace_japanese, dtype: int64\n",
      "------------------------\n",
      "no         1638\n",
      "yes           7\n",
      "refused       2\n",
      "Name: pprace_korean, dtype: int64\n",
      "------------------------\n",
      "no         1643\n",
      "yes           2\n",
      "refused       2\n",
      "Name: pprace_vietnamese, dtype: int64\n",
      "------------------------\n",
      "no         1640\n",
      "yes           5\n",
      "refused       2\n",
      "Name: pprace_otherasian, dtype: int64\n",
      "------------------------\n",
      "no         1645\n",
      "refused       2\n",
      "yes           0\n",
      "Name: pprace_hawaiian, dtype: int64\n",
      "------------------------\n",
      "no         1643\n",
      "yes           2\n",
      "refused       2\n",
      "Name: pprace_guamanian, dtype: int64\n",
      "------------------------\n",
      "no         1645\n",
      "refused       2\n",
      "Name: pprace_samoan, dtype: int64\n",
      "------------------------\n",
      "no         1642\n",
      "yes           3\n",
      "refused       2\n",
      "Name: pprace_otherpacificislander, dtype: int64\n",
      "------------------------\n",
      "no         1552\n",
      "yes          93\n",
      "refused       2\n",
      "Name: pprace_someotherrace, dtype: int64\n",
      "------------------------\n",
      "yes, friends                                  590\n",
      "no                                            454\n",
      "yes, both                                     452\n",
      "yes, relatives                                115\n",
      "i would prefer to not answer this question     36\n",
      "Name: papglb_friend, dtype: int64\n",
      "------------------------\n",
      "democrat      965\n",
      "republican    644\n",
      "other          38\n",
      "Name: pppartyid3, dtype: int64\n",
      "------------------------\n",
      "no     1215\n",
      "yes     432\n",
      "Name: papevangelical, dtype: int64\n",
      "------------------------\n",
      "female                   845\n",
      "male                     800\n",
      "other, please specify      2\n",
      "Name: q4, dtype: int64\n",
      "------------------------\n",
      "no (not latino or hispanic)                1513\n",
      "yes, mexican, mexican american, chicano      59\n",
      "yes, other latino/hispanic                   41\n",
      "yes, puerto rican                            28\n",
      "yes, cuban                                    4\n",
      "refused                                       2\n",
      "Name: q6a, dtype: int64\n",
      "------------------------\n",
      "white                                1391\n",
      "black or african american             132\n",
      "other (please specify)                 67\n",
      "asian or pacific islander              30\n",
      "refused                                14\n",
      "american indian, aleut, or eskimo      13\n",
      "Name: q6b, dtype: int64\n",
      "------------------------\n",
      "no         1266\n",
      "yes         377\n",
      "refused       4\n",
      "Name: q7a, dtype: int64\n",
      "------------------------\n",
      "yes, the same                1291\n",
      "no, has changed religions     350\n",
      "refused                         6\n",
      "Name: q8a, dtype: int64\n",
      "------------------------\n",
      "some college, no degree             390\n",
      "hs graduate or ged                  377\n",
      "bachelor's degree                   355\n",
      "master's degree                     197\n",
      "associate degree                    135\n",
      "professional or doctorate degree     68\n",
      "12th grade no diploma                43\n",
      "11th grade                           27\n",
      "10th grade                           23\n",
      "7th or 8th grade                     13\n",
      "9th grade                            11\n",
      "5th or 6th grade                      4\n",
      "refused                               3\n",
      "1st - 4th grade                       1\n",
      "no formal education                   0\n",
      "Name: q10, dtype: int64\n",
      "------------------------\n",
      "hs graduate or ged                  709\n",
      "bachelor's degree                   206\n",
      "some college, no degree             186\n",
      "12th grade no diploma                97\n",
      "associate degree                     83\n",
      "7th or 8th grade                     79\n",
      "master's degree                      72\n",
      "10th grade                           41\n",
      "5th or 6th grade                     39\n",
      "9th grade                            31\n",
      "refused                              28\n",
      "11th grade                           26\n",
      "no formal education                  22\n",
      "professional or doctorate degree     17\n",
      "1st - 4th grade                      11\n",
      "Name: q11, dtype: int64\n",
      "------------------------\n",
      "democrat                         716\n",
      "republican                       404\n",
      "independent                      262\n",
      "no preference                    238\n",
      "another party, please specify     22\n",
      "refused                            5\n",
      "Name: q12, dtype: int64\n",
      "------------------------\n",
      "yes, the same                   1268\n",
      "no, i have changed religions     375\n",
      "refused                            4\n",
      "Name: q13a, dtype: int64\n",
      "------------------------\n",
      "hs graduate or ged                  549\n",
      "bachelor's degree                   226\n",
      "some college, no degree             221\n",
      "associate degree                    143\n",
      "master's degree                     104\n",
      "7th or 8th grade                     89\n",
      "12th grade no diploma                85\n",
      "10th grade                           53\n",
      "9th grade                            49\n",
      "5th or 6th grade                     48\n",
      "11th grade                           32\n",
      "professional or doctorate degree     20\n",
      "no formal education                  10\n",
      "1st - 4th grade                       9\n",
      "refused                               9\n",
      "Name: q14, dtype: int64\n",
      "------------------------\n",
      "never married         1430\n",
      "once                   158\n",
      "twice                   52\n",
      "three times              6\n",
      "four or more times       1\n",
      "Name: q17b, dtype: int64\n",
      "------------------------\n",
      "opposite gender only    1223\n",
      "only same gender         208\n",
      "mostly opposite           91\n",
      "same gender mostly        74\n",
      "both genders equally      51\n",
      "Name: gender_attraction, dtype: int64\n",
      "------------------------\n",
      "yes        1219\n",
      "no          427\n",
      "refused       1\n",
      "Name: q19, dtype: int64\n",
      "------------------------\n",
      "i earned more                      757\n",
      "partner earned more                669\n",
      "we earned about the same amount    211\n",
      "refused                             10\n",
      "Name: q23, dtype: int64\n",
      "------------------------\n",
      "different high school    1419\n",
      "same high school          222\n",
      "refused                     6\n",
      "Name: q25, dtype: int64\n",
      "------------------------\n",
      "did not attend same college or university    1437\n",
      "attended same college or university           210\n",
      "Name: q26, dtype: int64\n",
      "------------------------\n",
      "no         1302\n",
      "yes         339\n",
      "refused       6\n",
      "Name: q27, dtype: int64\n",
      "------------------------\n",
      "no         1554\n",
      "yes          88\n",
      "refused       5\n",
      "Name: q28, dtype: int64\n",
      "------------------------\n",
      "father and mother                      787\n",
      "neither father nor mother are alive    441\n",
      "mother only                            334\n",
      "father only                             78\n",
      "refused                                  7\n",
      "Name: q29, dtype: int64\n",
      "------------------------\n",
      "no         1357\n",
      "yes         282\n",
      "refused       8\n",
      "Name: q31_1, dtype: int64\n",
      "------------------------\n",
      "no         1399\n",
      "yes         240\n",
      "refused       8\n",
      "Name: q31_2, dtype: int64\n",
      "------------------------\n",
      "no         1556\n",
      "yes          83\n",
      "refused       8\n",
      "Name: q31_3, dtype: int64\n",
      "------------------------\n",
      "no         1535\n",
      "yes         104\n",
      "refused       8\n",
      "Name: q31_4, dtype: int64\n",
      "------------------------\n",
      "no         1616\n",
      "yes          23\n",
      "refused       8\n",
      "Name: q31_5, dtype: int64\n",
      "------------------------\n",
      "no         1456\n",
      "yes         183\n",
      "refused       8\n",
      "Name: q31_6, dtype: int64\n",
      "------------------------\n",
      "no         1558\n",
      "yes          81\n",
      "refused       8\n",
      "Name: q31_7, dtype: int64\n",
      "------------------------\n",
      "no         1462\n",
      "yes         177\n",
      "refused       8\n",
      "Name: q31_8, dtype: int64\n",
      "------------------------\n",
      "no, we did not meet through the internet                                    1453\n",
      "yes, an internet dating or matchmaking site (like eharmony or match.com)      72\n",
      "yes, a social networking site (like facebook or myspace)                      38\n",
      "yes, a different kind of internet service                                     37\n",
      "yes, an internet chat room                                                    28\n",
      "yes, an internet classified advertising site (like craigslist)                13\n",
      "refused                                                                        6\n",
      "Name: q32, dtype: int64\n",
      "------------------------\n",
      "no         1497\n",
      "yes         140\n",
      "refused      10\n",
      "Name: q33_1, dtype: int64\n",
      "------------------------\n",
      "no         1132\n",
      "yes         505\n",
      "refused      10\n",
      "Name: q33_2, dtype: int64\n",
      "------------------------\n",
      "no         1513\n",
      "yes         124\n",
      "refused      10\n",
      "Name: q33_3, dtype: int64\n",
      "------------------------\n",
      "no         1569\n",
      "yes          68\n",
      "refused      10\n",
      "Name: q33_4, dtype: int64\n",
      "------------------------\n",
      "no         1614\n",
      "yes          23\n",
      "refused      10\n",
      "Name: q33_5, dtype: int64\n",
      "------------------------\n",
      "no         946\n",
      "yes        691\n",
      "refused     10\n",
      "Name: q33_6, dtype: int64\n",
      "------------------------\n",
      "excellent    923\n",
      "good         526\n",
      "fair         152\n",
      "poor          26\n",
      "very poor     12\n",
      "refused        8\n",
      "Name: q34, dtype: int64\n",
      "------------------------\n",
      "met offline    1477\n",
      "met online      170\n",
      "Name: q24_met_online, dtype: int64\n",
      "------------------------\n",
      "No     1610\n",
      "Yes      37\n",
      "Name: q24_R_sig_other, dtype: int64\n",
      "------------------------\n",
      "No     1601\n",
      "Yes      46\n",
      "Name: q24_P_sig_other, dtype: int64\n",
      "------------------------\n",
      "No     1641\n",
      "Yes       6\n",
      "Name: q24_btwn_I_cowork, dtype: int64\n",
      "------------------------\n",
      "No     1605\n",
      "Yes      42\n",
      "Name: q24_btwn_I_friend, dtype: int64\n",
      "------------------------\n",
      "No     1639\n",
      "Yes       8\n",
      "Name: q24_btwn_I_family, dtype: int64\n",
      "------------------------\n",
      "No     1592\n",
      "Yes      55\n",
      "Name: q24_btwn_I_sig_other, dtype: int64\n",
      "------------------------\n",
      "No     1642\n",
      "Yes       5\n",
      "Name: q24_btwn_I_neighbor, dtype: int64\n",
      "------------------------\n",
      "No     1482\n",
      "Yes     165\n",
      "Name: q24_school, dtype: int64\n",
      "------------------------\n",
      "No     1494\n",
      "Yes     153\n",
      "Name: q24_college, dtype: int64\n",
      "------------------------\n",
      "No     1613\n",
      "Yes      34\n",
      "Name: q24_military, dtype: int64\n",
      "------------------------\n",
      "No     1547\n",
      "Yes     100\n",
      "Name: q24_church, dtype: int64\n",
      "------------------------\n",
      "No     1516\n",
      "Yes     131\n",
      "Name: q24_vol_org, dtype: int64\n",
      "------------------------\n",
      "No     1516\n",
      "Yes     131\n",
      "Name: q24_customer, dtype: int64\n",
      "------------------------\n",
      "No     1346\n",
      "Yes     301\n",
      "Name: q24_bar_restaurant, dtype: int64\n",
      "------------------------\n",
      "No     1556\n",
      "Yes      91\n",
      "Name: q24_internet_dating, dtype: int64\n",
      "------------------------\n",
      "No     1630\n",
      "Yes      17\n",
      "Name: q24_internet_social_networking, dtype: int64\n",
      "------------------------\n",
      "No     1640\n",
      "Yes       7\n",
      "Name: q24_internet_game, dtype: int64\n",
      "------------------------\n",
      "No     1612\n",
      "Yes      35\n",
      "Name: q24_internet_chat, dtype: int64\n",
      "------------------------\n",
      "No     1644\n",
      "Yes       3\n",
      "Name: q24_internet_community, dtype: int64\n",
      "------------------------\n",
      "No     1628\n",
      "Yes      19\n",
      "Name: q24_internet_other, dtype: int64\n",
      "------------------------\n",
      "No     1514\n",
      "Yes     133\n",
      "Name: q24_public, dtype: int64\n",
      "------------------------\n",
      "No     1439\n",
      "Yes     208\n",
      "Name: q24_private_party, dtype: int64\n",
      "------------------------\n",
      "No     1595\n",
      "Yes      52\n",
      "Name: q24_blind_date, dtype: int64\n",
      "------------------------\n",
      "No     1606\n",
      "Yes      41\n",
      "Name: q24_vacation, dtype: int64\n",
      "------------------------\n",
      "No     1625\n",
      "Yes      22\n",
      "Name: q24_singles_service_non_internet, dtype: int64\n",
      "------------------------\n",
      "No     1630\n",
      "Yes      17\n",
      "Name: q24_business_trip, dtype: int64\n",
      "------------------------\n",
      "No     1642\n",
      "Yes       5\n",
      "Name: q24_work_neighbor, dtype: int64\n",
      "------------------------\n",
      "No     1584\n",
      "Yes      63\n",
      "Name: q24_fam_sister_active, dtype: int64\n",
      "------------------------\n"
     ]
    },
    {
     "name": "stdout",
     "output_type": "stream",
     "text": [
      "No     1592\n",
      "Yes      55\n",
      "Name: q24_fam_brother_active, dtype: int64\n",
      "------------------------\n",
      "No     1599\n",
      "Yes      48\n",
      "Name: q24_fam_mother_active, dtype: int64\n",
      "------------------------\n",
      "No     1623\n",
      "Yes      24\n",
      "Name: q24_fam_father_active, dtype: int64\n",
      "------------------------\n",
      "No     1616\n",
      "Yes      31\n",
      "Name: q24_fam_other_active, dtype: int64\n",
      "------------------------\n",
      "No     1615\n",
      "Yes      32\n",
      "Name: q24_fam_cousins_active, dtype: int64\n",
      "------------------------\n",
      "No     1639\n",
      "Yes       8\n",
      "Name: q24_fam_aunt_niece_active, dtype: int64\n",
      "------------------------\n",
      "No     1640\n",
      "Yes       7\n",
      "Name: q24_fam_uncle_nephew_active, dtype: int64\n",
      "------------------------\n",
      "No     1646\n",
      "Yes       1\n",
      "Name: q24_fam_grandmother_active, dtype: int64\n",
      "------------------------\n",
      "No     1647\n",
      "Yes       0\n",
      "Name: q24_fam_grandfather_active, dtype: int64\n",
      "------------------------\n",
      "No     1644\n",
      "Yes       3\n",
      "Name: q24_fam_sister_passive, dtype: int64\n",
      "------------------------\n",
      "No     1644\n",
      "Yes       3\n",
      "Name: q24_fam_brother_passive, dtype: int64\n",
      "------------------------\n",
      "No     1644\n",
      "Yes       3\n",
      "Name: q24_fam_mother_passive, dtype: int64\n",
      "------------------------\n",
      "No     1644\n",
      "Yes       3\n",
      "Name: q24_fam_father_passive, dtype: int64\n",
      "------------------------\n",
      "No     1645\n",
      "Yes       2\n",
      "Name: q24_fam_other_passive, dtype: int64\n",
      "------------------------\n",
      "No    1647\n",
      "Name: q24_fam_cousins_passive, dtype: int64\n",
      "------------------------\n",
      "No    1647\n",
      "Name: q24_fam_aunt_niece_passive, dtype: int64\n",
      "------------------------\n",
      "No    1647\n",
      "Name: q24_fam_uncle_nephew_passive, dtype: int64\n",
      "------------------------\n",
      "No    1647\n",
      "Name: q24_fam_grandmother_passive, dtype: int64\n",
      "------------------------\n",
      "No    1647\n",
      "Name: q24_fam_grandfather_passive, dtype: int64\n",
      "------------------------\n",
      "No     1529\n",
      "Yes     118\n",
      "Name: q24_fam_female, dtype: int64\n",
      "------------------------\n",
      "No     1558\n",
      "Yes      89\n",
      "Name: q24_fam_male, dtype: int64\n",
      "------------------------\n",
      "different sex couple    1357\n",
      "same-sex couple          290\n",
      "Name: same_sex_couple, dtype: int64\n",
      "------------------------\n",
      "female                   844\n",
      "male                     803\n",
      "other, please specify      0\n",
      "Name: alt_partner_gender, dtype: int64\n",
      "------------------------\n",
      "NH white                  1283\n",
      "Hispanic                   175\n",
      " NH black                  124\n",
      " NH Asian Pac Islander      37\n",
      " NH Other                   14\n",
      " NH Amer Indian             14\n",
      "Name: respondent_race, dtype: int64\n",
      "------------------------\n",
      "NH white                  1330\n",
      "Hispanic                   132\n",
      " NH black                  125\n",
      " NH Asian Pac Islander      27\n",
      " NH Other                   22\n",
      " NH Amer Indian             11\n",
      "Name: partner_race, dtype: int64\n",
      "------------------------\n",
      "not met through friends    1091\n",
      "meet through friends        556\n",
      "Name: met_through_friends, dtype: int64\n",
      "------------------------\n",
      "not met through family    1412\n",
      "met through family         235\n",
      "Name: met_through_family, dtype: int64\n",
      "------------------------\n",
      "did not meet through or as neighbors    1502\n",
      "met through or as neighbors              145\n",
      "Name: met_through_as_neighbors, dtype: int64\n",
      "------------------------\n",
      "Protestant or oth Christian     901\n",
      "Catholic                        446\n",
      "No religion                     202\n",
      "Jewish                           50\n",
      "Neither Christian nor Jewish     48\n",
      "Name: respondent_relig_16_cat, dtype: int64\n",
      "------------------------\n",
      "Protestant or oth Christian     864\n",
      "Catholic                        464\n",
      "No religion                     241\n",
      "Jewish                           48\n",
      "Neither Christian nor Jewish     30\n",
      "Name: partner_relig_16_cat, dtype: int64\n",
      "------------------------\n",
      "married        955\n",
      "not married    692\n",
      "Name: married, dtype: int64\n",
      "------------------------\n",
      "approve                        903\n",
      "don't approve or don't know    744\n",
      "Name: parental_approval, dtype: int64\n",
      "------------------------\n",
      "raised in US         1573\n",
      "raised outside US      74\n",
      "Name: US_raised, dtype: int64\n",
      "------------------------\n",
      "Yes    1220\n",
      "No      427\n",
      "Name: coresident, dtype: int64\n",
      "------------------------\n"
     ]
    }
   ],
   "source": [
    "# loop through every feature and check values again\n",
    "for col in couple_data.columns:\n",
    "    if couple_data[col].dtype.name == 'category' or couple_data[col].dtype.name == 'object':\n",
    "        print(couple_data[col].value_counts())\n",
    "        print('------------------------')"
   ]
  },
  {
   "cell_type": "code",
   "execution_count": 795,
   "metadata": {
    "scrolled": true
   },
   "outputs": [
    {
     "data": {
      "text/plain": [
       "pprace_white                   0\n",
       "pprace_black                   0\n",
       "pprace_nativeamerican          0\n",
       "pprace_asianindian             0\n",
       "pprace_chinese                 0\n",
       "pprace_filipino                0\n",
       "pprace_japanese                0\n",
       "pprace_korean                  0\n",
       "pprace_vietnamese              0\n",
       "pprace_otherasian              0\n",
       "pprace_hawaiian                0\n",
       "pprace_guamanian               0\n",
       "pprace_samoan                  0\n",
       "pprace_otherpacificislander    0\n",
       "pprace_someotherrace           0\n",
       "dtype: int64"
      ]
     },
     "execution_count": 795,
     "metadata": {},
     "output_type": "execute_result"
    }
   ],
   "source": [
    "cols = [col for col in couple_data.columns if 'pprace' in col]\n",
    "# Convert all refused value into Nan\n",
    "for col in cols:\n",
    "    # get hi\n",
    "    couple_data[col] = couple_data[col].map(lambda x: np.nan if x == 'refused' else x)\n",
    "# Impute them with larger count\n",
    "impute_bin_cols(cols)"
   ]
  },
  {
   "cell_type": "code",
   "execution_count": 796,
   "metadata": {
    "collapsed": true,
    "scrolled": true
   },
   "outputs": [],
   "source": [
    "# yes, friends                                  590\n",
    "# no                                            454\n",
    "# yes, both                                     452\n",
    "# yes, relatives                                115\n",
    "# i would prefer to not answer this question     36\n",
    "# Name: papglb_friend, dtype: int64\n",
    "# we can induce from the fact that they did not choose to answer the question that\n",
    "# they have reservations about telling the truth. Most likely, answer is yes\n",
    "couple_data.papglb_friend = couple_data.papglb_friend.map(lambda x: 'yes, both' if x == 'i would prefer to not answer this question' else x)"
   ]
  },
  {
   "cell_type": "code",
   "execution_count": 797,
   "metadata": {},
   "outputs": [
    {
     "data": {
      "text/html": [
       "<div>\n",
       "<style>\n",
       "    .dataframe thead tr:only-child th {\n",
       "        text-align: right;\n",
       "    }\n",
       "\n",
       "    .dataframe thead th {\n",
       "        text-align: left;\n",
       "    }\n",
       "\n",
       "    .dataframe tbody tr th {\n",
       "        vertical-align: top;\n",
       "    }\n",
       "</style>\n",
       "<table border=\"1\" class=\"dataframe\">\n",
       "  <thead>\n",
       "    <tr style=\"text-align: right;\">\n",
       "      <th></th>\n",
       "      <th>alt_partner_gender</th>\n",
       "      <th>q4</th>\n",
       "      <th>same_sex_couple</th>\n",
       "    </tr>\n",
       "    <tr>\n",
       "      <th>caseid_new</th>\n",
       "      <th></th>\n",
       "      <th></th>\n",
       "      <th></th>\n",
       "    </tr>\n",
       "  </thead>\n",
       "  <tbody>\n",
       "    <tr>\n",
       "      <th>106296</th>\n",
       "      <td>male</td>\n",
       "      <td>other, please specify</td>\n",
       "      <td>different sex couple</td>\n",
       "    </tr>\n",
       "    <tr>\n",
       "      <th>630534</th>\n",
       "      <td>female</td>\n",
       "      <td>other, please specify</td>\n",
       "      <td>different sex couple</td>\n",
       "    </tr>\n",
       "  </tbody>\n",
       "</table>\n",
       "</div>"
      ],
      "text/plain": [
       "           alt_partner_gender                     q4       same_sex_couple\n",
       "caseid_new                                                                \n",
       "106296                   male  other, please specify  different sex couple\n",
       "630534                 female  other, please specify  different sex couple"
      ]
     },
     "execution_count": 797,
     "metadata": {},
     "output_type": "execute_result"
    }
   ],
   "source": [
    "couple_data[couple_data.q4 == 'other, please specify'].loc[:,['alt_partner_gender','q4','same_sex_couple']]"
   ]
  },
  {
   "cell_type": "code",
   "execution_count": 798,
   "metadata": {
    "collapsed": true
   },
   "outputs": [],
   "source": [
    "# remove ambiguous values from q4\n",
    "# female                   845\n",
    "# male                     800\n",
    "# other, please specify      2\n",
    "couple_data.q4.loc[106296] = 'male'\n",
    "couple_data.q4.loc[630534] = 'female'"
   ]
  },
  {
   "cell_type": "code",
   "execution_count": 799,
   "metadata": {
    "collapsed": true
   },
   "outputs": [],
   "source": [
    "# remove ambiguous from q6a, q6b, \n",
    "# no (not latino or hispanic), white\n",
    "couple_data.q6a = couple_data.q6a.map(lambda x: 'no (not latino or hispanic)' if x == 'refused' else x)\n",
    "couple_data.q6b = couple_data.q6b.map(lambda x: 'white' if x == 'refused' else x)"
   ]
  },
  {
   "cell_type": "code",
   "execution_count": 800,
   "metadata": {
    "scrolled": true
   },
   "outputs": [
    {
     "data": {
      "text/plain": [
       "q7a      0\n",
       "q8a      0\n",
       "q13a     0\n",
       "q19      0\n",
       "q25      0\n",
       "q27      0\n",
       "q28      0\n",
       "q31_1    0\n",
       "q31_2    0\n",
       "q31_3    0\n",
       "q31_4    0\n",
       "q31_5    0\n",
       "q31_6    0\n",
       "q31_7    0\n",
       "q31_8    0\n",
       "q33_1    0\n",
       "q33_2    0\n",
       "q33_3    0\n",
       "q33_4    0\n",
       "q33_5    0\n",
       "q33_6    0\n",
       "dtype: int64"
      ]
     },
     "execution_count": 800,
     "metadata": {},
     "output_type": "execute_result"
    }
   ],
   "source": [
    "# remove ambiguous from q7a, q8a, q13a,q19,q25,q27,q28,q31_1,q31_2,q31_3,q31_4,q31_5,q31_6,q31_7,q31_8\n",
    "# q33_1,q33_2,q33_3\n",
    "cols = ['q7a','q8a','q13a','q19','q25','q27','q28','q31_1','q31_2','q31_3','q31_4','q31_5','q31_6','q31_7',\n",
    "        'q31_8','q33_1','q33_2','q33_3','q33_4','q33_5','q33_6']\n",
    "for col in cols:\n",
    "    couple_data[col] = couple_data[col].map(lambda x: np.nan if x == 'refused' else x)\n",
    "impute_bin_cols(cols)"
   ]
  },
  {
   "cell_type": "code",
   "execution_count": 801,
   "metadata": {
    "collapsed": true
   },
   "outputs": [],
   "source": [
    "# remove ambiguous from q10,q11, q14\n",
    "# no formal education\n",
    "couple_data.q10 = couple_data.q10.map(lambda x: 'no formal education' if x == 'refused' else x)\n",
    "couple_data.q11 = couple_data.q11.map(lambda x: 'no formal education' if x == 'refused' else x)\n",
    "couple_data.q14 = couple_data.q14.map(lambda x: 'no formal education' if x == 'refused' else x)"
   ]
  },
  {
   "cell_type": "code",
   "execution_count": 802,
   "metadata": {
    "collapsed": true
   },
   "outputs": [],
   "source": [
    "# democrat                         716\n",
    "# republican                       404\n",
    "# independent                      262\n",
    "# no preference                    238\n",
    "# another party, please specify     22\n",
    "# refused                            5\n",
    "# Name: q12, dtype: int64\n",
    "couple_data.q12 = couple_data.q12.map(lambda x: 'no preference' if x == 'refused' else x)"
   ]
  },
  {
   "cell_type": "code",
   "execution_count": 803,
   "metadata": {
    "collapsed": true
   },
   "outputs": [],
   "source": [
    "# i earned more                      757\n",
    "# partner earned more                669\n",
    "# we earned about the same amount    211\n",
    "# refused                             10\n",
    "# Name: q23, dtype: int64\n",
    "couple_data.q23 = couple_data.q23.map(lambda x: 'we earned about the same amount' if x == 'refused' else x)"
   ]
  },
  {
   "cell_type": "code",
   "execution_count": 804,
   "metadata": {
    "collapsed": true
   },
   "outputs": [],
   "source": [
    "# father and mother                      787\n",
    "# neither father nor mother are alive    441\n",
    "# mother only                            334\n",
    "# father only                             78\n",
    "# refused                                  7\n",
    "# Name: q29, dtype: int64\n",
    "couple_data.q29 = couple_data.q29.map(lambda x: 'father and mother' if x == 'refused' else x)"
   ]
  },
  {
   "cell_type": "code",
   "execution_count": 805,
   "metadata": {
    "collapsed": true
   },
   "outputs": [],
   "source": [
    "# no, we did not meet through the internet                                    1453\n",
    "# yes, an internet dating or matchmaking site (like eharmony or match.com)      72\n",
    "# yes, a social networking site (like facebook or myspace)                      38\n",
    "# yes, a different kind of internet service                                     37\n",
    "# yes, an internet chat room                                                    28\n",
    "# yes, an internet classified advertising site (like craigslist)                13\n",
    "# refused                                                                        6\n",
    "# Name: q32, dtype: int64\n",
    "couple_data.q32 = couple_data.q32.map(lambda x: 'no, we did not meet through the internet' if x == 'refused' else x)"
   ]
  },
  {
   "cell_type": "code",
   "execution_count": 806,
   "metadata": {
    "collapsed": true
   },
   "outputs": [],
   "source": [
    "# check features with 1 distinct value more than or equals to 95% of the sample\n",
    "# if feature important, seek workaround, otherwise remove\n",
    "def get_low_var(df):\n",
    "    low_var_cols = []\n",
    "    cols = df.columns\n",
    "    \n",
    "    for col in cols:\n",
    "        arr = np.array(df[col].value_counts() / df.shape[0])\n",
    "        for prop in arr:\n",
    "            if prop >= 0.95:\n",
    "                low_var_cols.append(col)\n",
    "                \n",
    "    return low_var_cols"
   ]
  },
  {
   "cell_type": "code",
   "execution_count": 807,
   "metadata": {
    "collapsed": true,
    "scrolled": false
   },
   "outputs": [],
   "source": [
    "# remove features with 1 distinct value more than or equals to 95% of sample\n",
    "low_var_features = get_low_var(couple_data)\n",
    "couple_data.drop(labels=low_var_features, axis=1, inplace=True)"
   ]
  },
  {
   "cell_type": "code",
   "execution_count": 808,
   "metadata": {
    "collapsed": true
   },
   "outputs": [],
   "source": [
    "# remove identical columns based on data dictionary\n",
    "couple_data.drop(labels=['q4','q6a','q6b','q8a','q9','q10','q11','q13a','q14','q19','q21a','q21b','q21c'], axis=1, inplace=True)"
   ]
  },
  {
   "cell_type": "code",
   "execution_count": 809,
   "metadata": {
    "collapsed": true,
    "scrolled": true
   },
   "outputs": [],
   "source": [
    "# rename question columns\n",
    "couple_data.rename(index=str, columns={'q4':'partner_gender','q7a':'partner_christ_type',\n",
    "                                      'q12':'partner_politic_view','q16':'relatives_seen_per_month',\n",
    "                                      'q17b':'marriage_count','q21d':'age_when_married',\n",
    "                                       'q23':'higher_income_earner','q25':'same_high_school',\n",
    "                                      'q26':'same_college_uni','q27':'grow_up_same_city_town',\n",
    "                                      'q28':'both_parents_knew_before_met','q29':'parent_alive',\n",
    "                                      'q31_1':'met_partner_work','q31_2':'met_partner_school',\n",
    "                                      'q31_3':'met_partner_church','q31_4':'met_partner_online_dating',\n",
    "                                      'q31_6':'met_partner_nightclub','q31_8':'met_partner_private_party',\n",
    "                                      'q32':'met_partner_internet','q33_1':'fam_intro_partner',\n",
    "                                      'q33_2':'friend_intro_partner','q33_3':'colleague_intro_partner',\n",
    "                                      'q33_6':'self_intro_partner'}, inplace=True)"
   ]
  },
  {
   "cell_type": "code",
   "execution_count": 810,
   "metadata": {
    "collapsed": true
   },
   "outputs": [],
   "source": [
    "# Remove more duplicate columns\n",
    "couple_data.drop(labels=['met_partner_online_dating','met_partner_internet',\n",
    "                        'met_partner_school','met_partner_church',\n",
    "                        'met_partner_private_party','met_partner_nightclub'], axis=1, inplace=True)"
   ]
  },
  {
   "cell_type": "code",
   "execution_count": 811,
   "metadata": {
    "collapsed": true
   },
   "outputs": [],
   "source": [
    "# Group values in ppwork into employee, self-employed, not-working \n",
    "couple_data.ppwork = couple_data.ppwork.map(lambda x: 'employee' if x.find('employee') >= 0 else \\\n",
    "                                           'self-employed' if x.find('self-employed') >= 0 else \\\n",
    "                                           'not-working')"
   ]
  },
  {
   "cell_type": "code",
   "execution_count": 812,
   "metadata": {
    "collapsed": true
   },
   "outputs": [],
   "source": [
    "# Drop relationship_quality as feature will carry most weight in the prediction\n",
    "# We also will want more objective than subjective features\n",
    "couple_data.drop(labels=['relationship_quality'], axis=1, inplace=True)\n",
    "# remove q34, same as relationship quality\n",
    "# remove ppmarit, already have married or not column\n",
    "# remove ppeducat, already have years of education\n",
    "# remove ppage, already have age difference\n",
    "# remove children in household, not very informative as data is concentrated on 0 children\n",
    "# remove ppethm, already have respondent / partner race\n",
    "# remove number of adults in household, data too concentrated on smaller numbers\n",
    "# remove ppgender, redundant as we only need to know whether couple is same sex or not\n",
    "# remove pphouse, EDA shows type of house dont affect relationship outcome\n",
    "# remove ppreg4 and ppreg9, columns only pertains to USA\n",
    "# remove pprent, EDA shows type of rental dont affect relationship outcome\n",
    "# remove ppwork, EDA shows status of employment dont affect relationship outcome\n",
    "# remove papevangelical, EDA shows whether born again or evangelical dont affect relationship outcome\n",
    "# remove ppnet, EDA shows whether respondent have his own internet access dont affect relationship outcome\n",
    "# remove marriage count cause too low variance\n",
    "# remove gender attraction, redundant column as already have same sex couple columns\n",
    "# remove alt partner gender, already have same sex couple column\n",
    "# Will be more useful if most of the pp columns came with partner counterparts\n",
    "# Features will not be very informative if it only concerns\n",
    "couple_data.drop(labels=['q34','ppmarit','ppeducat','ppage','children_in_hh','ppethm','pphispan', \\\n",
    "                        'pprace_white','pprace_black','pprace_someotherrace','ppt18ov', \\\n",
    "                        'pphouse','ppreg4','ppreg9','pprent','ppwork','ppnet','relatives_seen_per_month', \\\n",
    "                        'papglb_friend','pphhhead','hhinc','marriage_count','gender_attraction', \\\n",
    "                        'alt_partner_gender'], axis=1, inplace=True)"
   ]
  },
  {
   "cell_type": "markdown",
   "metadata": {},
   "source": [
    "### Create new Features that compares Respondent to Partner Characteristics"
   ]
  },
  {
   "cell_type": "code",
   "execution_count": 813,
   "metadata": {
    "collapsed": true
   },
   "outputs": [],
   "source": [
    "# Include gender in higher income earner column to make it more informative\n",
    "couple_income = couple_data.higher_income_earner.astype('object') + '_' + couple_data.ppgender.astype('object')\n",
    "couple_data.higher_income_earner = couple_income.map(lambda x: 'male_earn_more' if x.find('earned more_male') >= 0 else \\\n",
    "                 'female_earn_more' if x.find('earned more_female') >= 0 else 'both_earn_same')"
   ]
  },
  {
   "cell_type": "code",
   "execution_count": 814,
   "metadata": {
    "collapsed": true
   },
   "outputs": [],
   "source": [
    "# Couple political views combination\n",
    "# Make sure unique values for both are the same\n",
    "couple_data.partner_politic_view = couple_data.partner_politic_view.map(lambda x: 'other' if x != 'democrat' and x != 'republican' else x)\n",
    "couple_political_view_comb = couple_data.partner_politic_view.astype('object') + '_' + couple_data.pppartyid3.astype('object') "
   ]
  },
  {
   "cell_type": "code",
   "execution_count": 815,
   "metadata": {
    "scrolled": true
   },
   "outputs": [
    {
     "data": {
      "text/plain": [
       "democrat_democrat        621\n",
       "republican_republican    324\n",
       "other_democrat           267\n",
       "other_republican         228\n",
       "democrat_republican       92\n",
       "republican_democrat       77\n",
       "other_other               32\n",
       "republican_other           3\n",
       "democrat_other             3\n",
       "dtype: int64"
      ]
     },
     "execution_count": 815,
     "metadata": {},
     "output_type": "execute_result"
    }
   ],
   "source": [
    "couple_political_view_comb.value_counts()"
   ]
  },
  {
   "cell_type": "code",
   "execution_count": 816,
   "metadata": {
    "collapsed": true
   },
   "outputs": [],
   "source": [
    "# Remove Duplicates\n",
    "couple_data['couple_politic_view_comb'] = couple_political_view_comb.map(lambda x: 'democrat_other' if x.find('democrat') >= 0 and x.find('other') >= 0 \\\n",
    "                                else 'republican_other' if x.find('republican') >= 0 and x.find('other') >= 0 \\\n",
    "                                else 'democrat_republican' if x.find('democrat') >= 0 and x.find('republican') >= 0 \\\n",
    "                                else x)"
   ]
  },
  {
   "cell_type": "code",
   "execution_count": 817,
   "metadata": {
    "collapsed": true
   },
   "outputs": [],
   "source": [
    "# remove individual political view columns\n",
    "couple_data.drop(labels=['partner_politic_view','pppartyid3'], axis=1, inplace=True)"
   ]
  },
  {
   "cell_type": "code",
   "execution_count": 818,
   "metadata": {
    "collapsed": true
   },
   "outputs": [],
   "source": [
    "# couple evangelical / born again or not, combinations\n",
    "couple_data.partner_christ_type = couple_data.partner_christ_type.map(lambda x: 'evang or born again' if x == 'yes' else x)\n",
    "couple_data.papevangelical = couple_data.papevangelical.map(lambda x: 'evang or born again' if x == 'yes' else x)"
   ]
  },
  {
   "cell_type": "code",
   "execution_count": 819,
   "metadata": {
    "collapsed": true
   },
   "outputs": [],
   "source": [
    "couple_evang_comb = couple_data.partner_christ_type.astype('object') + '_' + couple_data.papevangelical.astype('object')\n",
    "couple_data['couple_evang_comb'] = couple_evang_comb.map(lambda x: 'no_evang or born again' if x.find('evang or born again') >= 0 and x.find('no') >= 0 else x)"
   ]
  },
  {
   "cell_type": "code",
   "execution_count": 820,
   "metadata": {
    "collapsed": true
   },
   "outputs": [],
   "source": [
    "# remove individual evang columns\n",
    "couple_data.drop(labels=['partner_christ_type','papevangelical'], axis=1, inplace=True)"
   ]
  },
  {
   "cell_type": "code",
   "execution_count": 821,
   "metadata": {
    "collapsed": true
   },
   "outputs": [],
   "source": [
    "# couples are assumed to have not changed their religion\n",
    "# group no religion, jewish and neiether christian nor jewish together as other\n",
    "couple_data.respondent_relig_16_cat = couple_data.respondent_relig_16_cat.map(lambda x: 'other' if x != 'Protestant or oth Christian' and \\\n",
    "                                       x != 'Catholic' else x)\n",
    "couple_data.partner_relig_16_cat = couple_data.partner_relig_16_cat.map(lambda x: 'other' if x != 'Protestant or oth Christian' and \\\n",
    "                                       x != 'Catholic' else x)"
   ]
  },
  {
   "cell_type": "code",
   "execution_count": 822,
   "metadata": {
    "collapsed": true
   },
   "outputs": [],
   "source": [
    "couple_relig_comb = couple_data.respondent_relig_16_cat.astype('object') + '_' + couple_data.partner_relig_16_cat.astype('object')\n",
    "couple_data['couple_relig_comb'] = couple_relig_comb.map(lambda x: 'Protestant or oth Christian_Catholic' if x.find('Protestant or oth Christian') >= 0 and \\\n",
    "                     x.find('Catholic') >= 0 else 'Protestant or oth Christian_other' if x.find('Protestant or oth Christian') >= 0 and \\\n",
    "                     x.find('other') >= 0 else 'Catholic_other' if x.find('Catholic') >= 0 and x.find('other') >= 0 \\\n",
    "                      else x)"
   ]
  },
  {
   "cell_type": "code",
   "execution_count": 823,
   "metadata": {
    "collapsed": true
   },
   "outputs": [],
   "source": [
    "# remove individual religion columns\n",
    "couple_data.drop(labels=['respondent_relig_16_cat','partner_relig_16_cat'], axis=1, inplace=True)"
   ]
  },
  {
   "cell_type": "code",
   "execution_count": 824,
   "metadata": {},
   "outputs": [
    {
     "data": {
      "text/plain": [
       "25.0    692\n",
       "Name: age_when_married, dtype: int64"
      ]
     },
     "execution_count": 824,
     "metadata": {},
     "output_type": "execute_result"
    }
   ],
   "source": [
    "# it seems like age when married column does not tally with married or not column,\n",
    "# since couple is not married, there should not be an age when they were married\n",
    "couple_data[couple_data.married == 'not married'].loc[:,['age_when_married']].age_when_married.value_counts()"
   ]
  },
  {
   "cell_type": "code",
   "execution_count": 825,
   "metadata": {
    "collapsed": true
   },
   "outputs": [],
   "source": [
    "# dropping age when married column\n",
    "couple_data.drop(labels=['age_when_married'], axis=1, inplace=True)"
   ]
  },
  {
   "cell_type": "code",
   "execution_count": 826,
   "metadata": {},
   "outputs": [
    {
     "name": "stdout",
     "output_type": "stream",
     "text": [
      "NH white                 1283\n",
      "Hispanic                  175\n",
      "NH black                  124\n",
      "NH Asian Pac Islander      37\n",
      "NH Other                   14\n",
      "NH Amer Indian             14\n",
      "Name: respondent_race, dtype: int64\n",
      "NH white                 1330\n",
      "Hispanic                  132\n",
      "NH black                  125\n",
      "NH Asian Pac Islander      27\n",
      "NH Other                   22\n",
      "NH Amer Indian             11\n",
      "Name: partner_race, dtype: int64\n"
     ]
    }
   ],
   "source": [
    "# trim leading and trailing white spaces\n",
    "couple_data.respondent_race = couple_data.respondent_race.map(lambda x: x.strip())\n",
    "couple_data.partner_race = couple_data.partner_race.map(lambda x: x.strip())\n",
    "print(couple_data.respondent_race.value_counts())\n",
    "print(couple_data.partner_race.value_counts())"
   ]
  },
  {
   "cell_type": "code",
   "execution_count": 827,
   "metadata": {
    "collapsed": true
   },
   "outputs": [],
   "source": [
    "# To make race columns more useful, we will reduce it to just two unique values, NH white & others\n",
    "couple_data.respondent_race = couple_data.respondent_race.map(lambda x: 'other' if x != 'NH white' else x)\n",
    "couple_data.partner_race = couple_data.partner_race.map(lambda x: 'other' if x != 'NH white' else x)"
   ]
  },
  {
   "cell_type": "code",
   "execution_count": 828,
   "metadata": {
    "collapsed": true
   },
   "outputs": [],
   "source": [
    "# Get couple race combinations\n",
    "couple_race_comb = couple_data.respondent_race.astype('object') + '_' + couple_data.partner_race.astype('object')\n",
    "couple_data['couple_race_comb'] = couple_race_comb.map(lambda x: 'NH white_other' if x.find('NH white') >= 0 and x.find('other') >= 0 else x)"
   ]
  },
  {
   "cell_type": "code",
   "execution_count": 829,
   "metadata": {
    "collapsed": true
   },
   "outputs": [],
   "source": [
    "# Drop individual race columns\n",
    "couple_data.drop(labels=['respondent_race','partner_race'], axis=1, inplace=True)"
   ]
  },
  {
   "cell_type": "code",
   "execution_count": 830,
   "metadata": {
    "collapsed": true
   },
   "outputs": [],
   "source": [
    "# drop ppgender, only pertains to individual\n",
    "couple_data.drop(labels=['ppgender'], axis=1, inplace=True)"
   ]
  },
  {
   "cell_type": "code",
   "execution_count": 831,
   "metadata": {
    "scrolled": true
   },
   "outputs": [
    {
     "name": "stdout",
     "output_type": "stream",
     "text": [
      "<class 'pandas.core.frame.DataFrame'>\n",
      "Index: 1647 entries, 33536 to 4621371\n",
      "Data columns (total 46 columns):\n",
      "higher_income_earner            1647 non-null object\n",
      "same_high_school                1647 non-null object\n",
      "same_college_uni                1647 non-null object\n",
      "grow_up_same_city_town          1647 non-null object\n",
      "both_parents_knew_before_met    1647 non-null object\n",
      "parent_alive                    1647 non-null object\n",
      "met_partner_work                1647 non-null object\n",
      "fam_intro_partner               1647 non-null object\n",
      "friend_intro_partner            1647 non-null object\n",
      "colleague_intro_partner         1647 non-null object\n",
      "self_intro_partner              1647 non-null object\n",
      "q24_met_online                  1647 non-null category\n",
      "q24_school                      1647 non-null category\n",
      "q24_college                     1647 non-null category\n",
      "q24_church                      1647 non-null category\n",
      "q24_vol_org                     1647 non-null category\n",
      "q24_customer                    1647 non-null category\n",
      "q24_bar_restaurant              1647 non-null category\n",
      "q24_internet_dating             1647 non-null category\n",
      "q24_public                      1647 non-null category\n",
      "q24_private_party               1647 non-null category\n",
      "q24_fam_female                  1647 non-null category\n",
      "q24_fam_male                    1647 non-null category\n",
      "distancemoved_10mi              1647 non-null float64\n",
      "same_sex_couple                 1647 non-null category\n",
      "how_long_ago_first_met          1647 non-null float64\n",
      "how_long_ago_first_romantic     1647 non-null float64\n",
      "how_long_ago_first_cohab        1647 non-null float64\n",
      "how_long_relationship           1647 non-null float32\n",
      "age_difference                  1647 non-null float64\n",
      "met_through_friends             1647 non-null category\n",
      "met_through_family              1647 non-null category\n",
      "met_through_as_neighbors        1647 non-null category\n",
      "met_through_as_coworkers        1647 non-null float64\n",
      "married                         1647 non-null category\n",
      "parental_approval               1647 non-null category\n",
      "respondent_yrsed                1647 non-null float32\n",
      "partner_yrsed                   1647 non-null float32\n",
      "partner_mom_yrsed               1647 non-null float32\n",
      "respondent_mom_yrsed            1647 non-null float32\n",
      "coresident                      1647 non-null category\n",
      "relationship_outcome_6yrs       1647 non-null int64\n",
      "couple_politic_view_comb        1647 non-null object\n",
      "couple_evang_comb               1647 non-null object\n",
      "couple_relig_comb               1647 non-null object\n",
      "couple_race_comb                1647 non-null object\n",
      "dtypes: category(19), float32(5), float64(6), int64(1), object(15)\n",
      "memory usage: 360.5+ KB\n"
     ]
    }
   ],
   "source": [
    "# Create new feature called partner to respondent years of education\n",
    "couple_data.info()"
   ]
  },
  {
   "cell_type": "code",
   "execution_count": 832,
   "metadata": {
    "collapsed": true
   },
   "outputs": [],
   "source": [
    "# pickle cleaned data\n",
    "couple_data.to_pickle('./couple_data')"
   ]
  },
  {
   "cell_type": "code",
   "execution_count": null,
   "metadata": {
    "collapsed": true
   },
   "outputs": [],
   "source": []
  }
 ],
 "metadata": {
  "kernelspec": {
   "display_name": "Python 3",
   "language": "python",
   "name": "python3"
  },
  "language_info": {
   "codemirror_mode": {
    "name": "ipython",
    "version": 3
   },
   "file_extension": ".py",
   "mimetype": "text/x-python",
   "name": "python",
   "nbconvert_exporter": "python",
   "pygments_lexer": "ipython3",
   "version": "3.6.3"
  }
 },
 "nbformat": 4,
 "nbformat_minor": 2
}
