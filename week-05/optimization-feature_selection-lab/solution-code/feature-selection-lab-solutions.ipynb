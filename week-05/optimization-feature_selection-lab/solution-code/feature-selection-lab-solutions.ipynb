{
 "cells": [
  {
   "cell_type": "markdown",
   "metadata": {},
   "source": [
    "<img src=\"http://imgur.com/1ZcRyrc.png\" style=\"float: left; margin: 20px; height: 55px\">\n",
    "\n",
    "# Feature Selection on the Titanic Dataset\n",
    "\n",
    "_Authors: Joseph Nelson (SF)_\n",
    "\n",
    "---\n",
    "\n",
    "In this lab you will explore a variety of different feature selection methods in sklearn. You will be using the titanic dataset.\n",
    "\n",
    "You can load the titanic data as follows:\n",
    "\n",
    "    psql -h dsi.c20gkj5cvu3l.us-east-1.rds.amazonaws.com -p 5432 -U dsi_student titanic\n",
    "    password: gastudents\n",
    "\n",
    "Or alternatively load the dataset from the local folder:\n",
    "\n",
    "    ./datasets/titanic_train.csv\n",
    "    \n",
    "\n",
    "## Some useful feature selection resources\n",
    "\n",
    "---\n",
    "\n",
    "- Michigan State Overview on [feature selection](http://www.cse.msu.edu/~cse802/Feature_selection.pdf) and (bonus) Texas A&M on [bidrectional feature selection](http://research.cs.tamu.edu/prism/lectures/pr/pr_l11.pdf)\n",
    "- Sklearn documentation on [feature selection](http://scikit-learn.org/stable/modules/feature_selection.html)\n",
    "- Side-by-side comparison of [feature selection tactics](http://blog.datadive.net/selecting-good-features-part-iv-stability-selection-rfe-and-everything-side-by-side/)"
   ]
  },
  {
   "cell_type": "code",
   "execution_count": 1,
   "metadata": {
    "collapsed": false
   },
   "outputs": [],
   "source": [
    "import pandas as pd\n",
    "import numpy as np\n",
    "import matplotlib.pyplot as plt\n",
    "import seaborn as sns\n",
    "\n",
    "plt.style.use('fivethirtyeight')\n",
    "\n",
    "%matplotlib inline\n",
    "%config InlineBackend.figure_format = 'retina'"
   ]
  },
  {
   "cell_type": "markdown",
   "metadata": {
    "collapsed": true
   },
   "source": [
    "### 1. Import the data and perform EDA. Engineer any features you think are predictive of survival.\n",
    "\n",
    "We'll be working with the titanic datasets - go ahead and import it from the dataset folder (or query for it as described above). "
   ]
  },
  {
   "cell_type": "code",
   "execution_count": 2,
   "metadata": {
    "collapsed": false
   },
   "outputs": [],
   "source": [
    "df = pd.read_csv('../datasets/titanic_train.csv')"
   ]
  },
  {
   "cell_type": "code",
   "execution_count": 3,
   "metadata": {
    "collapsed": false
   },
   "outputs": [
    {
     "data": {
      "text/html": [
       "<div>\n",
       "<table border=\"1\" class=\"dataframe\">\n",
       "  <thead>\n",
       "    <tr style=\"text-align: right;\">\n",
       "      <th></th>\n",
       "      <th>PassengerId</th>\n",
       "      <th>Survived</th>\n",
       "      <th>Pclass</th>\n",
       "      <th>Name</th>\n",
       "      <th>Sex</th>\n",
       "      <th>Age</th>\n",
       "      <th>SibSp</th>\n",
       "      <th>Parch</th>\n",
       "      <th>Ticket</th>\n",
       "      <th>Fare</th>\n",
       "      <th>Cabin</th>\n",
       "      <th>Embarked</th>\n",
       "    </tr>\n",
       "  </thead>\n",
       "  <tbody>\n",
       "    <tr>\n",
       "      <th>0</th>\n",
       "      <td>1</td>\n",
       "      <td>0</td>\n",
       "      <td>3</td>\n",
       "      <td>Braund, Mr. Owen Harris</td>\n",
       "      <td>male</td>\n",
       "      <td>22.0</td>\n",
       "      <td>1</td>\n",
       "      <td>0</td>\n",
       "      <td>A/5 21171</td>\n",
       "      <td>7.2500</td>\n",
       "      <td>NaN</td>\n",
       "      <td>S</td>\n",
       "    </tr>\n",
       "    <tr>\n",
       "      <th>1</th>\n",
       "      <td>2</td>\n",
       "      <td>1</td>\n",
       "      <td>1</td>\n",
       "      <td>Cumings, Mrs. John Bradley (Florence Briggs Th...</td>\n",
       "      <td>female</td>\n",
       "      <td>38.0</td>\n",
       "      <td>1</td>\n",
       "      <td>0</td>\n",
       "      <td>PC 17599</td>\n",
       "      <td>71.2833</td>\n",
       "      <td>C85</td>\n",
       "      <td>C</td>\n",
       "    </tr>\n",
       "  </tbody>\n",
       "</table>\n",
       "</div>"
      ],
      "text/plain": [
       "   PassengerId  Survived  Pclass  \\\n",
       "0            1         0       3   \n",
       "1            2         1       1   \n",
       "\n",
       "                                                Name     Sex   Age  SibSp  \\\n",
       "0                            Braund, Mr. Owen Harris    male  22.0      1   \n",
       "1  Cumings, Mrs. John Bradley (Florence Briggs Th...  female  38.0      1   \n",
       "\n",
       "   Parch     Ticket     Fare Cabin Embarked  \n",
       "0      0  A/5 21171   7.2500   NaN        S  \n",
       "1      0   PC 17599  71.2833   C85        C  "
      ]
     },
     "execution_count": 3,
     "metadata": {},
     "output_type": "execute_result"
    }
   ],
   "source": [
    "df.head(2)"
   ]
  },
  {
   "cell_type": "code",
   "execution_count": 4,
   "metadata": {
    "collapsed": false
   },
   "outputs": [
    {
     "data": {
      "text/plain": [
       "PassengerId      int64\n",
       "Survived         int64\n",
       "Pclass           int64\n",
       "Name            object\n",
       "Sex             object\n",
       "Age            float64\n",
       "SibSp            int64\n",
       "Parch            int64\n",
       "Ticket          object\n",
       "Fare           float64\n",
       "Cabin           object\n",
       "Embarked        object\n",
       "dtype: object"
      ]
     },
     "execution_count": 4,
     "metadata": {},
     "output_type": "execute_result"
    }
   ],
   "source": [
    "df.dtypes"
   ]
  },
  {
   "cell_type": "code",
   "execution_count": 5,
   "metadata": {
    "collapsed": false
   },
   "outputs": [
    {
     "data": {
      "text/plain": [
       "PassengerId      0\n",
       "Survived         0\n",
       "Pclass           0\n",
       "Name             0\n",
       "Sex              0\n",
       "Age            177\n",
       "SibSp            0\n",
       "Parch            0\n",
       "Ticket           0\n",
       "Fare             0\n",
       "Cabin          687\n",
       "Embarked         2\n",
       "dtype: int64"
      ]
     },
     "execution_count": 5,
     "metadata": {},
     "output_type": "execute_result"
    }
   ],
   "source": [
    "df.isnull().sum()"
   ]
  },
  {
   "cell_type": "code",
   "execution_count": 6,
   "metadata": {
    "collapsed": false
   },
   "outputs": [
    {
     "name": "stdout",
     "output_type": "stream",
     "text": [
      "PassengerId 891\n",
      "Survived 2\n",
      "Pclass 3\n",
      "Name 891\n",
      "Sex 2\n",
      "Age 88\n",
      "SibSp 7\n",
      "Parch 7\n",
      "Ticket 681\n",
      "Fare 248\n",
      "Cabin 147\n",
      "Embarked 3\n"
     ]
    }
   ],
   "source": [
    "for item in df:\n",
    "    print item, df[item].nunique()\n"
   ]
  },
  {
   "cell_type": "code",
   "execution_count": 8,
   "metadata": {
    "collapsed": true
   },
   "outputs": [],
   "source": [
    "# I'll create some dummy-coded columns for which letter was in the cabin and the\n",
    "# number of the cabin. In the case there are multiple, just using first.\n",
    "# if null, just coding 0s!\n",
    "# (This is intended to be kind of dumb to see if features will be eliminated!)"
   ]
  },
  {
   "cell_type": "code",
   "execution_count": 9,
   "metadata": {
    "collapsed": false
   },
   "outputs": [
    {
     "data": {
      "text/plain": [
       "array(['Z', 'C', 'E', 'G', 'D', 'A', 'B', 'F', 'T'], dtype=object)"
      ]
     },
     "execution_count": 9,
     "metadata": {},
     "output_type": "execute_result"
    }
   ],
   "source": [
    "cabin_letter = df.Cabin.map(lambda x: 'Z' if pd.isnull(x) else x.split()[0][0])\n",
    "cabin_letter.unique()"
   ]
  },
  {
   "cell_type": "code",
   "execution_count": 10,
   "metadata": {
    "collapsed": false
   },
   "outputs": [
    {
     "data": {
      "text/html": [
       "<div>\n",
       "<table border=\"1\" class=\"dataframe\">\n",
       "  <thead>\n",
       "    <tr style=\"text-align: right;\">\n",
       "      <th></th>\n",
       "      <th>cabin_A</th>\n",
       "      <th>cabin_B</th>\n",
       "      <th>cabin_C</th>\n",
       "      <th>cabin_D</th>\n",
       "      <th>cabin_E</th>\n",
       "      <th>cabin_F</th>\n",
       "      <th>cabin_G</th>\n",
       "      <th>cabin_T</th>\n",
       "      <th>cabin_Z</th>\n",
       "    </tr>\n",
       "  </thead>\n",
       "  <tbody>\n",
       "    <tr>\n",
       "      <th>0</th>\n",
       "      <td>0</td>\n",
       "      <td>0</td>\n",
       "      <td>0</td>\n",
       "      <td>0</td>\n",
       "      <td>0</td>\n",
       "      <td>0</td>\n",
       "      <td>0</td>\n",
       "      <td>0</td>\n",
       "      <td>1</td>\n",
       "    </tr>\n",
       "    <tr>\n",
       "      <th>1</th>\n",
       "      <td>0</td>\n",
       "      <td>0</td>\n",
       "      <td>1</td>\n",
       "      <td>0</td>\n",
       "      <td>0</td>\n",
       "      <td>0</td>\n",
       "      <td>0</td>\n",
       "      <td>0</td>\n",
       "      <td>0</td>\n",
       "    </tr>\n",
       "    <tr>\n",
       "      <th>2</th>\n",
       "      <td>0</td>\n",
       "      <td>0</td>\n",
       "      <td>0</td>\n",
       "      <td>0</td>\n",
       "      <td>0</td>\n",
       "      <td>0</td>\n",
       "      <td>0</td>\n",
       "      <td>0</td>\n",
       "      <td>1</td>\n",
       "    </tr>\n",
       "    <tr>\n",
       "      <th>3</th>\n",
       "      <td>0</td>\n",
       "      <td>0</td>\n",
       "      <td>1</td>\n",
       "      <td>0</td>\n",
       "      <td>0</td>\n",
       "      <td>0</td>\n",
       "      <td>0</td>\n",
       "      <td>0</td>\n",
       "      <td>0</td>\n",
       "    </tr>\n",
       "    <tr>\n",
       "      <th>4</th>\n",
       "      <td>0</td>\n",
       "      <td>0</td>\n",
       "      <td>0</td>\n",
       "      <td>0</td>\n",
       "      <td>0</td>\n",
       "      <td>0</td>\n",
       "      <td>0</td>\n",
       "      <td>0</td>\n",
       "      <td>1</td>\n",
       "    </tr>\n",
       "  </tbody>\n",
       "</table>\n",
       "</div>"
      ],
      "text/plain": [
       "   cabin_A  cabin_B  cabin_C  cabin_D  cabin_E  cabin_F  cabin_G  cabin_T  \\\n",
       "0        0        0        0        0        0        0        0        0   \n",
       "1        0        0        1        0        0        0        0        0   \n",
       "2        0        0        0        0        0        0        0        0   \n",
       "3        0        0        1        0        0        0        0        0   \n",
       "4        0        0        0        0        0        0        0        0   \n",
       "\n",
       "   cabin_Z  \n",
       "0        1  \n",
       "1        0  \n",
       "2        1  \n",
       "3        0  \n",
       "4        1  "
      ]
     },
     "execution_count": 10,
     "metadata": {},
     "output_type": "execute_result"
    }
   ],
   "source": [
    "cabin_dummy = pd.get_dummies(cabin_letter, prefix='cabin')\n",
    "cabin_dummy.head()"
   ]
  },
  {
   "cell_type": "code",
   "execution_count": 11,
   "metadata": {
    "collapsed": false
   },
   "outputs": [],
   "source": [
    "cabin_dummy.drop('cabin_Z', axis=1, inplace=True)"
   ]
  },
  {
   "cell_type": "code",
   "execution_count": 12,
   "metadata": {
    "collapsed": false
   },
   "outputs": [
    {
     "data": {
      "text/plain": [
       "array([  0,  85, 123,  46,   6, 103,  56,  23,  78,  33,  30,  52,  28,\n",
       "        83,  31,   5,  10,  26, 110,  58, 101,  47,  86,   2,  19,   7,\n",
       "        49,   4,  32,  80,  36,  15,  93,  35,  87,  77,  67,  94, 125,\n",
       "        99, 118,  22, 106,  65,  54,  57,  34,  18, 124,  91,  40, 128,\n",
       "        37,  50,  82,  96,  44, 104, 111,  92,  38,  21,  12,  63,  14,\n",
       "        20,  79,  25,  73,  95,  39,  70,  16,  68,  41,   9,  48, 126,\n",
       "        71,  51,  62,  24,  90,  45,   8, 121,  11,   3,  17, 102,  69,\n",
       "        42, 148])"
      ]
     },
     "execution_count": 12,
     "metadata": {},
     "output_type": "execute_result"
    }
   ],
   "source": [
    "def cabin_numberer(x):\n",
    "    try:\n",
    "        return int(x.split()[0][1:])\n",
    "    except:\n",
    "        return 0\n",
    "\n",
    "cabin_num = df.Cabin.map(cabin_numberer)\n",
    "cabin_num.unique()"
   ]
  },
  {
   "cell_type": "code",
   "execution_count": 13,
   "metadata": {
    "collapsed": true
   },
   "outputs": [],
   "source": [
    "df['cabin_number'] = cabin_num\n",
    "df = pd.concat([df, cabin_dummy], axis=1)"
   ]
  },
  {
   "cell_type": "code",
   "execution_count": 14,
   "metadata": {
    "collapsed": true
   },
   "outputs": [],
   "source": [
    "# Lets be real: a Persons name, their passenger ID, Ticket number \n",
    "# aren't going to be useful features."
   ]
  },
  {
   "cell_type": "code",
   "execution_count": 15,
   "metadata": {
    "collapsed": true
   },
   "outputs": [],
   "source": [
    "# Keep passengerid in for the sake of example\n",
    "# Remove name, ticket, and cabin\n",
    "df.drop('PassengerId', inplace=True, axis=1)\n",
    "df.drop('Name', inplace=True, axis=1)\n",
    "df.drop('Ticket', inplace=True, axis=1)\n",
    "df.drop('Cabin', inplace=True, axis=1)"
   ]
  },
  {
   "cell_type": "code",
   "execution_count": 16,
   "metadata": {
    "collapsed": true
   },
   "outputs": [],
   "source": [
    "# impute the median for Age to fill the nulls\n",
    "df.Age.fillna(df.Age.median(), inplace=True)\n",
    "\n",
    "# Mean and median age values are very close (28 and 29) \n",
    "# we can assume our distribution of age is fairly normal\n"
   ]
  },
  {
   "cell_type": "code",
   "execution_count": 17,
   "metadata": {
    "collapsed": false
   },
   "outputs": [],
   "source": [
    "# make dummy variables for embarked, dropping the original Embarked column \n",
    "# and 'S' (the most common embarcation point)\n",
    "df = pd.concat([df, pd.get_dummies(df.Embarked)], axis=1)\n",
    "df.drop('S', inplace=True, axis=1)\n",
    "df.drop('Embarked', inplace=True, axis=1)\n",
    "\n",
    "# I could just use drop_first = True, but there is more than one way to do anything."
   ]
  },
  {
   "cell_type": "code",
   "execution_count": 18,
   "metadata": {
    "collapsed": false
   },
   "outputs": [],
   "source": [
    "# instead of sex, create a column called 'male' with a binary value\n",
    "df['Male'] = df.Sex.apply(lambda x: 'female' not in str(x))\n",
    "\n",
    "# drop the original Sex column\n",
    "df.drop('Sex', inplace=True, axis=1)"
   ]
  },
  {
   "cell_type": "code",
   "execution_count": 19,
   "metadata": {
    "collapsed": false
   },
   "outputs": [
    {
     "data": {
      "text/html": [
       "<div>\n",
       "<table border=\"1\" class=\"dataframe\">\n",
       "  <thead>\n",
       "    <tr style=\"text-align: right;\">\n",
       "      <th></th>\n",
       "      <th>Survived</th>\n",
       "      <th>Pclass</th>\n",
       "      <th>Age</th>\n",
       "      <th>SibSp</th>\n",
       "      <th>Parch</th>\n",
       "      <th>Fare</th>\n",
       "      <th>cabin_number</th>\n",
       "      <th>cabin_A</th>\n",
       "      <th>cabin_B</th>\n",
       "      <th>cabin_C</th>\n",
       "      <th>cabin_D</th>\n",
       "      <th>cabin_E</th>\n",
       "      <th>cabin_F</th>\n",
       "      <th>cabin_G</th>\n",
       "      <th>cabin_T</th>\n",
       "      <th>C</th>\n",
       "      <th>Q</th>\n",
       "      <th>Male</th>\n",
       "    </tr>\n",
       "  </thead>\n",
       "  <tbody>\n",
       "    <tr>\n",
       "      <th>0</th>\n",
       "      <td>0</td>\n",
       "      <td>3</td>\n",
       "      <td>22.0</td>\n",
       "      <td>1</td>\n",
       "      <td>0</td>\n",
       "      <td>7.2500</td>\n",
       "      <td>0</td>\n",
       "      <td>0</td>\n",
       "      <td>0</td>\n",
       "      <td>0</td>\n",
       "      <td>0</td>\n",
       "      <td>0</td>\n",
       "      <td>0</td>\n",
       "      <td>0</td>\n",
       "      <td>0</td>\n",
       "      <td>0</td>\n",
       "      <td>0</td>\n",
       "      <td>True</td>\n",
       "    </tr>\n",
       "    <tr>\n",
       "      <th>1</th>\n",
       "      <td>1</td>\n",
       "      <td>1</td>\n",
       "      <td>38.0</td>\n",
       "      <td>1</td>\n",
       "      <td>0</td>\n",
       "      <td>71.2833</td>\n",
       "      <td>85</td>\n",
       "      <td>0</td>\n",
       "      <td>0</td>\n",
       "      <td>1</td>\n",
       "      <td>0</td>\n",
       "      <td>0</td>\n",
       "      <td>0</td>\n",
       "      <td>0</td>\n",
       "      <td>0</td>\n",
       "      <td>1</td>\n",
       "      <td>0</td>\n",
       "      <td>False</td>\n",
       "    </tr>\n",
       "    <tr>\n",
       "      <th>2</th>\n",
       "      <td>1</td>\n",
       "      <td>3</td>\n",
       "      <td>26.0</td>\n",
       "      <td>0</td>\n",
       "      <td>0</td>\n",
       "      <td>7.9250</td>\n",
       "      <td>0</td>\n",
       "      <td>0</td>\n",
       "      <td>0</td>\n",
       "      <td>0</td>\n",
       "      <td>0</td>\n",
       "      <td>0</td>\n",
       "      <td>0</td>\n",
       "      <td>0</td>\n",
       "      <td>0</td>\n",
       "      <td>0</td>\n",
       "      <td>0</td>\n",
       "      <td>False</td>\n",
       "    </tr>\n",
       "    <tr>\n",
       "      <th>3</th>\n",
       "      <td>1</td>\n",
       "      <td>1</td>\n",
       "      <td>35.0</td>\n",
       "      <td>1</td>\n",
       "      <td>0</td>\n",
       "      <td>53.1000</td>\n",
       "      <td>123</td>\n",
       "      <td>0</td>\n",
       "      <td>0</td>\n",
       "      <td>1</td>\n",
       "      <td>0</td>\n",
       "      <td>0</td>\n",
       "      <td>0</td>\n",
       "      <td>0</td>\n",
       "      <td>0</td>\n",
       "      <td>0</td>\n",
       "      <td>0</td>\n",
       "      <td>False</td>\n",
       "    </tr>\n",
       "    <tr>\n",
       "      <th>4</th>\n",
       "      <td>0</td>\n",
       "      <td>3</td>\n",
       "      <td>35.0</td>\n",
       "      <td>0</td>\n",
       "      <td>0</td>\n",
       "      <td>8.0500</td>\n",
       "      <td>0</td>\n",
       "      <td>0</td>\n",
       "      <td>0</td>\n",
       "      <td>0</td>\n",
       "      <td>0</td>\n",
       "      <td>0</td>\n",
       "      <td>0</td>\n",
       "      <td>0</td>\n",
       "      <td>0</td>\n",
       "      <td>0</td>\n",
       "      <td>0</td>\n",
       "      <td>True</td>\n",
       "    </tr>\n",
       "  </tbody>\n",
       "</table>\n",
       "</div>"
      ],
      "text/plain": [
       "   Survived  Pclass   Age  SibSp  Parch     Fare  cabin_number  cabin_A  \\\n",
       "0         0       3  22.0      1      0   7.2500             0        0   \n",
       "1         1       1  38.0      1      0  71.2833            85        0   \n",
       "2         1       3  26.0      0      0   7.9250             0        0   \n",
       "3         1       1  35.0      1      0  53.1000           123        0   \n",
       "4         0       3  35.0      0      0   8.0500             0        0   \n",
       "\n",
       "   cabin_B  cabin_C  cabin_D  cabin_E  cabin_F  cabin_G  cabin_T  C  Q   Male  \n",
       "0        0        0        0        0        0        0        0  0  0   True  \n",
       "1        0        1        0        0        0        0        0  1  0  False  \n",
       "2        0        0        0        0        0        0        0  0  0  False  \n",
       "3        0        1        0        0        0        0        0  0  0  False  \n",
       "4        0        0        0        0        0        0        0  0  0   True  "
      ]
     },
     "execution_count": 19,
     "metadata": {},
     "output_type": "execute_result"
    }
   ],
   "source": [
    "df.head()\n",
    "# Data After cleaning and parsing"
   ]
  },
  {
   "cell_type": "markdown",
   "metadata": {},
   "source": [
    "### 2. Set up predictor and target matrices\n",
    "\n",
    "- target should be `Survived`\n",
    "- predictor matrix will be all other variables"
   ]
  },
  {
   "cell_type": "code",
   "execution_count": 20,
   "metadata": {
    "collapsed": false
   },
   "outputs": [],
   "source": [
    "# this list of column names will come in handly later.\n",
    "cols = list(df.columns)\n",
    "cols.remove('Survived')\n",
    "\n",
    "X = df[cols]\n",
    "y = df.Survived.values"
   ]
  },
  {
   "cell_type": "markdown",
   "metadata": {},
   "source": [
    "### 3. Feature selection\n",
    "\n",
    "Let's use the `SelectKBest` method in scikit learn to see which are the top 5 features. Also load the `f_classif` and `chi2` functions which will be our metrics to evaluate what makes a variable the \"best\".\n",
    "\n",
    "```python\n",
    "from sklearn.feature_selection import SelectKBest, f_classif, chi2\n",
    "```\n",
    "\n",
    "- What are the top 5 features for `X` using `f_classif`?\n",
    "- What are the top 5 features for `X` using `chi2`?\n",
    "\n",
    "\n",
    "> The f-test is explained variance divided by unexplained variance. High numbers will results if our explained variance, what we know is much greater than unexplained, what we dont know. The Chi2 goodness of fit is the sum of the difference squared between observed and expected divided by expected."
   ]
  },
  {
   "cell_type": "code",
   "execution_count": 21,
   "metadata": {
    "collapsed": false
   },
   "outputs": [
    {
     "data": {
      "text/html": [
       "<div>\n",
       "<table border=\"1\" class=\"dataframe\">\n",
       "  <thead>\n",
       "    <tr style=\"text-align: right;\">\n",
       "      <th></th>\n",
       "      <th>feature</th>\n",
       "      <th>f_classif</th>\n",
       "      <th>chi2 score</th>\n",
       "    </tr>\n",
       "  </thead>\n",
       "  <tbody>\n",
       "    <tr>\n",
       "      <th>16</th>\n",
       "      <td>Male</td>\n",
       "      <td>372.406</td>\n",
       "      <td>92.7024</td>\n",
       "    </tr>\n",
       "    <tr>\n",
       "      <th>0</th>\n",
       "      <td>Pclass</td>\n",
       "      <td>115.031</td>\n",
       "      <td>30.8737</td>\n",
       "    </tr>\n",
       "    <tr>\n",
       "      <th>4</th>\n",
       "      <td>Fare</td>\n",
       "      <td>63.0308</td>\n",
       "      <td>4518.32</td>\n",
       "    </tr>\n",
       "    <tr>\n",
       "      <th>5</th>\n",
       "      <td>cabin_number</td>\n",
       "      <td>52.1563</td>\n",
       "      <td>3175.49</td>\n",
       "    </tr>\n",
       "    <tr>\n",
       "      <th>7</th>\n",
       "      <td>cabin_B</td>\n",
       "      <td>28.1172</td>\n",
       "      <td>25.8756</td>\n",
       "    </tr>\n",
       "    <tr>\n",
       "      <th>14</th>\n",
       "      <td>C</td>\n",
       "      <td>25.896</td>\n",
       "      <td>20.4644</td>\n",
       "    </tr>\n",
       "    <tr>\n",
       "      <th>9</th>\n",
       "      <td>cabin_D</td>\n",
       "      <td>20.6632</td>\n",
       "      <td>19.4896</td>\n",
       "    </tr>\n",
       "    <tr>\n",
       "      <th>10</th>\n",
       "      <td>cabin_E</td>\n",
       "      <td>19.1792</td>\n",
       "      <td>18.1406</td>\n",
       "    </tr>\n",
       "    <tr>\n",
       "      <th>8</th>\n",
       "      <td>cabin_C</td>\n",
       "      <td>11.8417</td>\n",
       "      <td>10.9367</td>\n",
       "    </tr>\n",
       "    <tr>\n",
       "      <th>3</th>\n",
       "      <td>Parch</td>\n",
       "      <td>5.96346</td>\n",
       "      <td>10.0975</td>\n",
       "    </tr>\n",
       "    <tr>\n",
       "      <th>1</th>\n",
       "      <td>Age</td>\n",
       "      <td>3.76153</td>\n",
       "      <td>21.6492</td>\n",
       "    </tr>\n",
       "    <tr>\n",
       "      <th>11</th>\n",
       "      <td>cabin_F</td>\n",
       "      <td>2.99394</td>\n",
       "      <td>2.94697</td>\n",
       "    </tr>\n",
       "    <tr>\n",
       "      <th>2</th>\n",
       "      <td>SibSp</td>\n",
       "      <td>1.11057</td>\n",
       "      <td>2.58187</td>\n",
       "    </tr>\n",
       "    <tr>\n",
       "      <th>13</th>\n",
       "      <td>cabin_T</td>\n",
       "      <td>0.622687</td>\n",
       "      <td>0.622951</td>\n",
       "    </tr>\n",
       "    <tr>\n",
       "      <th>6</th>\n",
       "      <td>cabin_A</td>\n",
       "      <td>0.441793</td>\n",
       "      <td>0.435116</td>\n",
       "    </tr>\n",
       "    <tr>\n",
       "      <th>12</th>\n",
       "      <td>cabin_G</td>\n",
       "      <td>0.228787</td>\n",
       "      <td>0.228214</td>\n",
       "    </tr>\n",
       "    <tr>\n",
       "      <th>15</th>\n",
       "      <td>Q</td>\n",
       "      <td>0.0118463</td>\n",
       "      <td>0.0108468</td>\n",
       "    </tr>\n",
       "  </tbody>\n",
       "</table>\n",
       "</div>"
      ],
      "text/plain": [
       "         feature  f_classif chi2 score\n",
       "16          Male    372.406    92.7024\n",
       "0         Pclass    115.031    30.8737\n",
       "4           Fare    63.0308    4518.32\n",
       "5   cabin_number    52.1563    3175.49\n",
       "7        cabin_B    28.1172    25.8756\n",
       "14             C     25.896    20.4644\n",
       "9        cabin_D    20.6632    19.4896\n",
       "10       cabin_E    19.1792    18.1406\n",
       "8        cabin_C    11.8417    10.9367\n",
       "3          Parch    5.96346    10.0975\n",
       "1            Age    3.76153    21.6492\n",
       "11       cabin_F    2.99394    2.94697\n",
       "2          SibSp    1.11057    2.58187\n",
       "13       cabin_T   0.622687   0.622951\n",
       "6        cabin_A   0.441793   0.435116\n",
       "12       cabin_G   0.228787   0.228214\n",
       "15             Q  0.0118463  0.0108468"
      ]
     },
     "execution_count": 21,
     "metadata": {},
     "output_type": "execute_result"
    }
   ],
   "source": [
    "from sklearn.feature_selection import SelectKBest, chi2, f_classif\n",
    "\n",
    "# build the selector (we'll build one with each score type)\n",
    "skb_f = SelectKBest(f_classif, k=5)\n",
    "skb_chi2 = SelectKBest(chi2, k=5)\n",
    "\n",
    "# train the selector on our data\n",
    "skb_f.fit(X, y)\n",
    "skb_chi2.fit(X, y)\n",
    "\n",
    "# examine results\n",
    "kbest = pd.DataFrame([cols, list(skb_f.scores_), list(skb_chi2.scores_)], \n",
    "                     index=['feature','f_classif','chi2 score']).T.sort_values('f_classif', ascending=False)\n",
    "kbest"
   ]
  },
  {
   "cell_type": "markdown",
   "metadata": {},
   "source": [
    "### 4. Recursive Feature Elimination (RFE)\n",
    "\n",
    "Sklearn also offers recursive feature elimination as a class named `RFECV`. Use it in combination with a logistic regression model to see what features would be kept with this method.\n",
    "\n",
    "When instantiating the `RFECV`:\n",
    "- `step` indicates what percent of features (or number of features if an integer) to remove at each iteration.\n",
    "- `cv` indicates the number of cross-validation folds to use for evaluating what features are important.\n",
    "\n",
    "Store the columns in a variable called `rfecv_columns`."
   ]
  },
  {
   "cell_type": "code",
   "execution_count": 22,
   "metadata": {
    "collapsed": false
   },
   "outputs": [
    {
     "name": "stdout",
     "output_type": "stream",
     "text": [
      "[ True False  True  True False False  True  True  True  True  True  True\n",
      "  True  True  True  True  True]\n",
      "[1 2 1 1 4 3 1 1 1 1 1 1 1 1 1 1 1]\n"
     ]
    }
   ],
   "source": [
    "from sklearn.feature_selection import RFECV\n",
    "from sklearn.linear_model import LogisticRegression\n",
    "\n",
    "lr = LogisticRegression()\n",
    "selector = RFECV(lr, step=1, cv=10)\n",
    "selector = selector.fit(X, y)\n",
    "\n",
    "print selector.support_\n",
    "print selector.ranking_\n",
    "\n",
    " "
   ]
  },
  {
   "cell_type": "code",
   "execution_count": 23,
   "metadata": {
    "collapsed": false
   },
   "outputs": [
    {
     "data": {
      "text/plain": [
       "array(['Pclass', 'SibSp', 'Parch', 'cabin_A', 'cabin_B', 'cabin_C',\n",
       "       'cabin_D', 'cabin_E', 'cabin_F', 'cabin_G', 'cabin_T', 'C', 'Q',\n",
       "       'Male'], \n",
       "      dtype='|S12')"
      ]
     },
     "execution_count": 23,
     "metadata": {},
     "output_type": "execute_result"
    }
   ],
   "source": [
    "# the column names correspond to the one below.  RFECV only excluded a few features.\n",
    "rfecv_columns = np.array(cols)[selector.support_]\n",
    "rfecv_columns"
   ]
  },
  {
   "cell_type": "markdown",
   "metadata": {},
   "source": [
    "### 5. Feature elimination using the lasso penalty\n",
    "\n",
    "The L1 penalty is a popular method for feature selection. As the regularization strength increases more features will be removed.\n",
    "\n",
    "Load the `LogisticRegressionCV` class.\n",
    "\n",
    "1. Standardize your predictor matrix (required for regularization!)\n",
    "- Create a logistic regression cross-validator object :\n",
    "    - Set `penalty='l1'` (Lasso).\n",
    "    - Set `Cs=100` (search 100 different regularization strengths).\n",
    "    - Set `solver='liblinear'` (required for the Lasso penalty).\n",
    "    - Set `cv=10` for 10 cross-validation folds.\n",
    "- Fit on the target and standardized predictors.\n",
    "- Sort the logistic regression coefficients by absolute value. Do the top 5 correspond to those selected by the f-score and chi2?\n",
    "\n",
    "\n",
    "> Answer: *Not completely. That could be due to scaling.\n",
    "> Some features are going to perform better based on the model type and If we had not regularized some could be percieved as much more significant than they are.*\n",
    "\n",
    "Choose which ones you would keep and store them in a variable called `lr_columns`."
   ]
  },
  {
   "cell_type": "code",
   "execution_count": 24,
   "metadata": {
    "collapsed": true
   },
   "outputs": [],
   "source": [
    "from sklearn.preprocessing import StandardScaler\n",
    "\n",
    "ss = StandardScaler()\n",
    "Xs = ss.fit_transform(X)"
   ]
  },
  {
   "cell_type": "code",
   "execution_count": 25,
   "metadata": {
    "collapsed": false
   },
   "outputs": [
    {
     "data": {
      "text/plain": [
       "LogisticRegressionCV(Cs=100, class_weight=None, cv=10, dual=False,\n",
       "           fit_intercept=True, intercept_scaling=1.0, max_iter=100,\n",
       "           multi_class='ovr', n_jobs=1, penalty='l1', random_state=None,\n",
       "           refit=True, scoring=None, solver='liblinear', tol=0.0001,\n",
       "           verbose=0)"
      ]
     },
     "execution_count": 25,
     "metadata": {},
     "output_type": "execute_result"
    }
   ],
   "source": [
    "from sklearn.linear_model import LogisticRegressionCV\n",
    "\n",
    "lrcv = LogisticRegressionCV(penalty='l1', Cs=100, cv=10, solver='liblinear')\n",
    "lrcv.fit(Xs, y)\n"
   ]
  },
  {
   "cell_type": "code",
   "execution_count": 26,
   "metadata": {
    "collapsed": false
   },
   "outputs": [
    {
     "data": {
      "text/plain": [
       "array([ 0.08111308])"
      ]
     },
     "execution_count": 26,
     "metadata": {},
     "output_type": "execute_result"
    }
   ],
   "source": [
    "lrcv.C_"
   ]
  },
  {
   "cell_type": "code",
   "execution_count": 27,
   "metadata": {
    "collapsed": false
   },
   "outputs": [
    {
     "data": {
      "text/html": [
       "<div>\n",
       "<table border=\"1\" class=\"dataframe\">\n",
       "  <thead>\n",
       "    <tr style=\"text-align: right;\">\n",
       "      <th></th>\n",
       "      <th>lasso_coefs</th>\n",
       "    </tr>\n",
       "  </thead>\n",
       "  <tbody>\n",
       "    <tr>\n",
       "      <th>Male</th>\n",
       "      <td>1.140579</td>\n",
       "    </tr>\n",
       "    <tr>\n",
       "      <th>Pclass</th>\n",
       "      <td>0.665772</td>\n",
       "    </tr>\n",
       "    <tr>\n",
       "      <th>Age</th>\n",
       "      <td>0.315447</td>\n",
       "    </tr>\n",
       "    <tr>\n",
       "      <th>SibSp</th>\n",
       "      <td>0.197803</td>\n",
       "    </tr>\n",
       "    <tr>\n",
       "      <th>cabin_E</th>\n",
       "      <td>0.147684</td>\n",
       "    </tr>\n",
       "    <tr>\n",
       "      <th>C</th>\n",
       "      <td>0.104206</td>\n",
       "    </tr>\n",
       "    <tr>\n",
       "      <th>cabin_D</th>\n",
       "      <td>0.081655</td>\n",
       "    </tr>\n",
       "    <tr>\n",
       "      <th>cabin_F</th>\n",
       "      <td>0.064450</td>\n",
       "    </tr>\n",
       "    <tr>\n",
       "      <th>Fare</th>\n",
       "      <td>0.036166</td>\n",
       "    </tr>\n",
       "    <tr>\n",
       "      <th>cabin_B</th>\n",
       "      <td>0.023137</td>\n",
       "    </tr>\n",
       "    <tr>\n",
       "      <th>cabin_number</th>\n",
       "      <td>0.022543</td>\n",
       "    </tr>\n",
       "    <tr>\n",
       "      <th>Parch</th>\n",
       "      <td>0.000000</td>\n",
       "    </tr>\n",
       "    <tr>\n",
       "      <th>cabin_A</th>\n",
       "      <td>0.000000</td>\n",
       "    </tr>\n",
       "    <tr>\n",
       "      <th>cabin_G</th>\n",
       "      <td>0.000000</td>\n",
       "    </tr>\n",
       "    <tr>\n",
       "      <th>cabin_T</th>\n",
       "      <td>0.000000</td>\n",
       "    </tr>\n",
       "    <tr>\n",
       "      <th>Q</th>\n",
       "      <td>0.000000</td>\n",
       "    </tr>\n",
       "    <tr>\n",
       "      <th>cabin_C</th>\n",
       "      <td>0.000000</td>\n",
       "    </tr>\n",
       "  </tbody>\n",
       "</table>\n",
       "</div>"
      ],
      "text/plain": [
       "              lasso_coefs\n",
       "Male             1.140579\n",
       "Pclass           0.665772\n",
       "Age              0.315447\n",
       "SibSp            0.197803\n",
       "cabin_E          0.147684\n",
       "C                0.104206\n",
       "cabin_D          0.081655\n",
       "cabin_F          0.064450\n",
       "Fare             0.036166\n",
       "cabin_B          0.023137\n",
       "cabin_number     0.022543\n",
       "Parch            0.000000\n",
       "cabin_A          0.000000\n",
       "cabin_G          0.000000\n",
       "cabin_T          0.000000\n",
       "Q                0.000000\n",
       "cabin_C          0.000000"
      ]
     },
     "execution_count": 27,
     "metadata": {},
     "output_type": "execute_result"
    }
   ],
   "source": [
    "# What are the best coefficients according to a model using lasso?\n",
    "coeffs = pd.DataFrame(lrcv.coef_, columns=X.columns)\n",
    "coeffs_t = coeffs.transpose()\n",
    "coeffs_t.columns = ['lasso_coefs']\n",
    "coeffs_abs = coeffs_t.abs().sort_values('lasso_coefs', ascending=False)\n",
    "coeffs_abs"
   ]
  },
  {
   "cell_type": "code",
   "execution_count": 28,
   "metadata": {
    "collapsed": false
   },
   "outputs": [],
   "source": [
    "# A few variables were eliminated. Not totally consistent with RFECV - \n",
    "# More features were eliminated by the Lasso method"
   ]
  },
  {
   "cell_type": "markdown",
   "metadata": {},
   "source": [
    "### 6. Compare features sets\n",
    "\n",
    "Use the optimized logistic regression from the previous question on the features selected from different methods. \n",
    "- `kbest_columns`\n",
    "- `rfecv_columns`\n",
    "- `lasso_columns`\n",
    "- `all_columns`\n",
    "\n",
    "**Questions:**\n",
    "- Which scores the highest? (use cross_val_score)\n",
    "- Is the difference significant?\n"
   ]
  },
  {
   "cell_type": "code",
   "execution_count": 29,
   "metadata": {
    "collapsed": false
   },
   "outputs": [],
   "source": [
    "from sklearn.model_selection import cross_val_score\n",
    "from sklearn.linear_model import LogisticRegression"
   ]
  },
  {
   "cell_type": "code",
   "execution_count": 30,
   "metadata": {
    "collapsed": true
   },
   "outputs": [],
   "source": [
    "kbest_columns = kbest.feature.values[0:5]\n",
    "lasso_columns = coeffs_abs.index[coeffs_t.lasso_coefs != 0]"
   ]
  },
  {
   "cell_type": "code",
   "execution_count": 31,
   "metadata": {
    "collapsed": false
   },
   "outputs": [
    {
     "data": {
      "text/html": [
       "<div>\n",
       "<table border=\"1\" class=\"dataframe\">\n",
       "  <thead>\n",
       "    <tr style=\"text-align: right;\">\n",
       "      <th></th>\n",
       "      <th>mean score</th>\n",
       "      <th>std score</th>\n",
       "    </tr>\n",
       "  </thead>\n",
       "  <tbody>\n",
       "    <tr>\n",
       "      <th>kbest</th>\n",
       "      <td>0.776691</td>\n",
       "      <td>0.019541</td>\n",
       "    </tr>\n",
       "    <tr>\n",
       "      <th>rfecv</th>\n",
       "      <td>0.787832</td>\n",
       "      <td>0.020027</td>\n",
       "    </tr>\n",
       "    <tr>\n",
       "      <th>lr</th>\n",
       "      <td>0.780055</td>\n",
       "      <td>0.019567</td>\n",
       "    </tr>\n",
       "    <tr>\n",
       "      <th>all</th>\n",
       "      <td>0.781166</td>\n",
       "      <td>0.020190</td>\n",
       "    </tr>\n",
       "  </tbody>\n",
       "</table>\n",
       "</div>"
      ],
      "text/plain": [
       "       mean score  std score\n",
       "kbest    0.776691   0.019541\n",
       "rfecv    0.787832   0.020027\n",
       "lr       0.780055   0.019567\n",
       "all      0.781166   0.020190"
      ]
     },
     "execution_count": 31,
     "metadata": {},
     "output_type": "execute_result"
    }
   ],
   "source": [
    "lr = LogisticRegression(C=lrcv.C_[0], penalty='l1', solver='liblinear')\n",
    "\n",
    "# defining a function to test our best features head-to-head\n",
    "def score(X):\n",
    "    scores = cross_val_score(lr, X, y, cv=5)\n",
    "    return scores.mean(), scores.std()\n",
    "\n",
    "# list of all our lists of best features being executed in the score function\n",
    "all_scores = [\n",
    "    score(X[kbest_columns]),\n",
    "    score(X[rfecv_columns]),\n",
    "    score(X[lasso_columns]),\n",
    "    score(X)]\n",
    "\n",
    "#putting results into a dataframe\n",
    "pd.DataFrame(all_scores, columns=['mean score', 'std score'], index = ['kbest', 'rfecv', 'lr', 'all'])"
   ]
  },
  {
   "cell_type": "code",
   "execution_count": 32,
   "metadata": {
    "collapsed": true
   },
   "outputs": [],
   "source": [
    "# There is very, very little difference in performance \n",
    "# of different features for this dataset."
   ]
  },
  {
   "cell_type": "markdown",
   "metadata": {},
   "source": [
    "### 7. [Bonus] Display the lasso logistic regression coefficients with a barchart.\n",
    "\n",
    "Start from the most negative on the left."
   ]
  },
  {
   "cell_type": "code",
   "execution_count": 33,
   "metadata": {
    "collapsed": false
   },
   "outputs": [
    {
     "data": {
      "text/plain": [
       "<matplotlib.axes._subplots.AxesSubplot at 0x110013850>"
      ]
     },
     "execution_count": 33,
     "metadata": {},
     "output_type": "execute_result"
    },
    {
     "data": {
      "image/png": "[encoded data removed]",
      "text/plain": [
       "<matplotlib.figure.Figure at 0x110063850>"
      ]
     },
     "metadata": {
      "image/png": {
       "height": 304,
       "width": 416
      }
     },
     "output_type": "display_data"
    }
   ],
   "source": [
    "coeffs_t.sort_values('lasso_coefs').plot(kind='bar')\n"
   ]
  }
 ],
 "metadata": {
  "anaconda-cloud": {},
  "kernelspec": {
   "display_name": "Python 2",
   "language": "python",
   "name": "python2"
  },
  "language_info": {
   "codemirror_mode": {
    "name": "ipython",
    "version": 2
   },
   "file_extension": ".py",
   "mimetype": "text/x-python",
   "name": "python",
   "nbconvert_exporter": "python",
   "pygments_lexer": "ipython2",
   "version": "2.7.12"
  }
 },
 "nbformat": 4,
 "nbformat_minor": 0
}
