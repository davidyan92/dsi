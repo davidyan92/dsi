{
 "cells": [
  {
   "cell_type": "markdown",
   "metadata": {},
   "source": [
    "<img src=\"http://imgur.com/1ZcRyrc.png\" style=\"float: left; margin: 20px; height: 55px\">\n",
    "\n",
    "# Evaluating Classification Models on Humor Styles Data\n",
    "\n",
    "_Authors: Kiefer Katovich (SF)_\n",
    "\n",
    "---\n",
    "\n",
    "In this lab you will be practicing evaluating classification models (Logistic Regression in particular) on a \"Humor Styles\" survey.\n",
    "\n",
    "This survey is designed to evaluate what \"style\" of humor subjects have. Your goal will be to classify gender using the responses on the survey."
   ]
  },
  {
   "cell_type": "markdown",
   "metadata": {},
   "source": [
    "## Humor styles questions encoding reference\n",
    "\n",
    "### 32 questions:\n",
    "\n",
    "Subjects answered **32** different questions outlined below:\n",
    "\n",
    "    1. I usually don't laugh or joke with other people.\n",
    "    2. If I feel depressed, I can cheer myself up with humor.\n",
    "    3. If someone makes a mistake, I will tease them about it.\n",
    "    4. I let people laugh at me or make fun of me at my expense more than I should.\n",
    "    5. I don't have to work very hard to make other people laugh. I am a naturally humorous person.\n",
    "    6. Even when I'm alone, I am often amused by the absurdities of life.\n",
    "    7. People are never offended or hurt by my sense of humor.\n",
    "    8. I will often get carried away in putting myself down if it makes family or friends laugh.\n",
    "    9. I rarely make other people laugh by telling funny stories about myself.\n",
    "    10. If I am feeling upset or unhappy I usually try to think of something funny about the situation to make myself feel better.\n",
    "    11. When telling jokes or saying funny things, I am usually not concerned about how other people are taking it.\n",
    "    12. I often try to make people like or accept me more by saying something funny about my own weaknesses, blunders, or faults.\n",
    "    13. I laugh and joke a lot with my closest friends.\n",
    "    14. My humorous outlook on life keeps me from getting overly upset or depressed about things.\n",
    "    15. I do not like it when people use humor as a way of criticizing or putting someone down.\n",
    "    16. I don't often say funny things to put myself down.\n",
    "    17. I usually don't like to tell jokes or amuse people.\n",
    "    18. If I'm by myself and I'm feeling unhappy, I make an effort to think of something funny to cheer myself up.\n",
    "    19. Sometimes I think of something that is so funny that I can't stop myself from saying it, even if it is not appropriate for the situation.\n",
    "    20. I often go overboard in putting myself down when I am making jokes or trying to be funny.\n",
    "    21. I enjoy making people laugh.\n",
    "    22. If I am feeling sad or upset, I usually lose my sense of humor.\n",
    "    23. I never participate in laughing at others even if all my friends are doing it.\n",
    "    24. When I am with friends or family, I often seem to be the one that other people make fun of or joke about.\n",
    "    25. I donít often joke around with my friends.\n",
    "    26. It is my experience that thinking about some amusing aspect of a situation is often a very effective way of coping with problems.\n",
    "    27. If I don't like someone, I often use humor or teasing to put them down.\n",
    "    28. If I am having problems or feeling unhappy, I often cover it up by joking around, so that even my closest friends don't know how I really feel.\n",
    "    29. I usually can't think of witty things to say when I'm with other people.\n",
    "    30. I don't need to be with other people to feel amused. I can usually find things to laugh about even when I'm by myself.\n",
    "    31. Even if something is really funny to me, I will not laugh or joke about it if someone will be offended.\n",
    "    32. Letting others laugh at me is my way of keeping my friends and family in good spirits.\n",
    "\n",
    "---\n",
    "\n",
    "### Response scale:\n",
    "\n",
    "For each question, there are 5 possible response codes (\"likert scale\") that correspond to different answers. There is also a code that indicates there is no response for that subject.\n",
    "\n",
    "    1 == \"Never or very rarely true\"\n",
    "    2 == \"Rarely true\"\n",
    "    3 == \"Sometimes true\"\n",
    "    4 == \"Often true\"\n",
    "    5 == \"Very often or always true\n",
    "    [-1 == Did not select an answer]\n",
    "    \n",
    "---\n",
    "\n",
    "### Demographics:\n",
    "\n",
    "    age: entered as as text then parsed to an interger.\n",
    "    gender: chosen from drop down list (1=male, 2=female, 3=other, 0=declined)\n",
    "    accuracy: How accurate they thought their answers were on a scale from 0 to 100, answers were entered as text and parsed to an integer. They were instructed to enter a 0 if they did not want to be included in research.\t"
   ]
  },
  {
   "cell_type": "code",
   "execution_count": 241,
   "metadata": {
    "collapsed": true
   },
   "outputs": [],
   "source": [
    "import matplotlib.pyplot as plt\n",
    "import numpy as np\n",
    "import pandas as pd\n",
    "\n",
    "import seaborn as sns\n",
    "\n",
    "%matplotlib inline\n",
    "%config InlineBackend.figure_format = 'retina'\n",
    "\n",
    "from sklearn.linear_model import LogisticRegression\n",
    "from sklearn.neighbors import KNeighborsClassifier\n",
    "from sklearn.model_selection import cross_val_score"
   ]
  },
  {
   "cell_type": "markdown",
   "metadata": {},
   "source": [
    "### 1. Load the data and perform any EDA and cleaning you think is necessary.\n",
    "\n",
    "It is worth reading over the description of the data columns above for this."
   ]
  },
  {
   "cell_type": "code",
   "execution_count": 242,
   "metadata": {
    "collapsed": true
   },
   "outputs": [],
   "source": [
    "hsq = pd.read_csv('./datasets/hsq_data.csv')"
   ]
  },
  {
   "cell_type": "code",
   "execution_count": 243,
   "metadata": {},
   "outputs": [
    {
     "data": {
      "text/html": [
       "<div>\n",
       "<style scoped>\n",
       "    .dataframe tbody tr th:only-of-type {\n",
       "        vertical-align: middle;\n",
       "    }\n",
       "\n",
       "    .dataframe tbody tr th {\n",
       "        vertical-align: top;\n",
       "    }\n",
       "\n",
       "    .dataframe thead th {\n",
       "        text-align: right;\n",
       "    }\n",
       "</style>\n",
       "<table border=\"1\" class=\"dataframe\">\n",
       "  <thead>\n",
       "    <tr style=\"text-align: right;\">\n",
       "      <th></th>\n",
       "      <th>Q1</th>\n",
       "      <th>Q2</th>\n",
       "      <th>Q3</th>\n",
       "      <th>Q4</th>\n",
       "      <th>Q5</th>\n",
       "      <th>Q6</th>\n",
       "      <th>Q7</th>\n",
       "      <th>Q8</th>\n",
       "      <th>Q9</th>\n",
       "      <th>Q10</th>\n",
       "      <th>...</th>\n",
       "      <th>Q30</th>\n",
       "      <th>Q31</th>\n",
       "      <th>Q32</th>\n",
       "      <th>affiliative</th>\n",
       "      <th>selfenhancing</th>\n",
       "      <th>agressive</th>\n",
       "      <th>selfdefeating</th>\n",
       "      <th>age</th>\n",
       "      <th>gender</th>\n",
       "      <th>accuracy</th>\n",
       "    </tr>\n",
       "  </thead>\n",
       "  <tbody>\n",
       "    <tr>\n",
       "      <th>0</th>\n",
       "      <td>2</td>\n",
       "      <td>2</td>\n",
       "      <td>3</td>\n",
       "      <td>1</td>\n",
       "      <td>4</td>\n",
       "      <td>5</td>\n",
       "      <td>4</td>\n",
       "      <td>3</td>\n",
       "      <td>4</td>\n",
       "      <td>3</td>\n",
       "      <td>...</td>\n",
       "      <td>4</td>\n",
       "      <td>2</td>\n",
       "      <td>2</td>\n",
       "      <td>4.0</td>\n",
       "      <td>3.5</td>\n",
       "      <td>3.0</td>\n",
       "      <td>2.3</td>\n",
       "      <td>25</td>\n",
       "      <td>2</td>\n",
       "      <td>100</td>\n",
       "    </tr>\n",
       "    <tr>\n",
       "      <th>1</th>\n",
       "      <td>2</td>\n",
       "      <td>3</td>\n",
       "      <td>2</td>\n",
       "      <td>2</td>\n",
       "      <td>4</td>\n",
       "      <td>4</td>\n",
       "      <td>4</td>\n",
       "      <td>3</td>\n",
       "      <td>4</td>\n",
       "      <td>3</td>\n",
       "      <td>...</td>\n",
       "      <td>4</td>\n",
       "      <td>3</td>\n",
       "      <td>1</td>\n",
       "      <td>3.3</td>\n",
       "      <td>3.5</td>\n",
       "      <td>3.3</td>\n",
       "      <td>2.4</td>\n",
       "      <td>44</td>\n",
       "      <td>2</td>\n",
       "      <td>90</td>\n",
       "    </tr>\n",
       "    <tr>\n",
       "      <th>2</th>\n",
       "      <td>3</td>\n",
       "      <td>4</td>\n",
       "      <td>3</td>\n",
       "      <td>3</td>\n",
       "      <td>4</td>\n",
       "      <td>4</td>\n",
       "      <td>3</td>\n",
       "      <td>1</td>\n",
       "      <td>2</td>\n",
       "      <td>4</td>\n",
       "      <td>...</td>\n",
       "      <td>5</td>\n",
       "      <td>4</td>\n",
       "      <td>2</td>\n",
       "      <td>3.9</td>\n",
       "      <td>3.9</td>\n",
       "      <td>3.1</td>\n",
       "      <td>2.3</td>\n",
       "      <td>50</td>\n",
       "      <td>1</td>\n",
       "      <td>75</td>\n",
       "    </tr>\n",
       "    <tr>\n",
       "      <th>3</th>\n",
       "      <td>3</td>\n",
       "      <td>3</td>\n",
       "      <td>3</td>\n",
       "      <td>4</td>\n",
       "      <td>3</td>\n",
       "      <td>5</td>\n",
       "      <td>4</td>\n",
       "      <td>3</td>\n",
       "      <td>-1</td>\n",
       "      <td>4</td>\n",
       "      <td>...</td>\n",
       "      <td>5</td>\n",
       "      <td>3</td>\n",
       "      <td>3</td>\n",
       "      <td>3.6</td>\n",
       "      <td>4.0</td>\n",
       "      <td>2.9</td>\n",
       "      <td>3.3</td>\n",
       "      <td>30</td>\n",
       "      <td>2</td>\n",
       "      <td>85</td>\n",
       "    </tr>\n",
       "    <tr>\n",
       "      <th>4</th>\n",
       "      <td>1</td>\n",
       "      <td>4</td>\n",
       "      <td>2</td>\n",
       "      <td>2</td>\n",
       "      <td>3</td>\n",
       "      <td>5</td>\n",
       "      <td>4</td>\n",
       "      <td>1</td>\n",
       "      <td>4</td>\n",
       "      <td>4</td>\n",
       "      <td>...</td>\n",
       "      <td>5</td>\n",
       "      <td>4</td>\n",
       "      <td>2</td>\n",
       "      <td>4.1</td>\n",
       "      <td>4.1</td>\n",
       "      <td>2.9</td>\n",
       "      <td>2.0</td>\n",
       "      <td>52</td>\n",
       "      <td>1</td>\n",
       "      <td>80</td>\n",
       "    </tr>\n",
       "  </tbody>\n",
       "</table>\n",
       "<p>5 rows × 39 columns</p>\n",
       "</div>"
      ],
      "text/plain": [
       "   Q1  Q2  Q3  Q4  Q5  Q6  Q7  Q8  Q9  Q10    ...     Q30  Q31  Q32  \\\n",
       "0   2   2   3   1   4   5   4   3   4    3    ...       4    2    2   \n",
       "1   2   3   2   2   4   4   4   3   4    3    ...       4    3    1   \n",
       "2   3   4   3   3   4   4   3   1   2    4    ...       5    4    2   \n",
       "3   3   3   3   4   3   5   4   3  -1    4    ...       5    3    3   \n",
       "4   1   4   2   2   3   5   4   1   4    4    ...       5    4    2   \n",
       "\n",
       "   affiliative  selfenhancing  agressive  selfdefeating  age  gender  accuracy  \n",
       "0          4.0            3.5        3.0            2.3   25       2       100  \n",
       "1          3.3            3.5        3.3            2.4   44       2        90  \n",
       "2          3.9            3.9        3.1            2.3   50       1        75  \n",
       "3          3.6            4.0        2.9            3.3   30       2        85  \n",
       "4          4.1            4.1        2.9            2.0   52       1        80  \n",
       "\n",
       "[5 rows x 39 columns]"
      ]
     },
     "execution_count": 243,
     "metadata": {},
     "output_type": "execute_result"
    }
   ],
   "source": [
    "# A:\n",
    "hsq.head()"
   ]
  },
  {
   "cell_type": "code",
   "execution_count": 244,
   "metadata": {},
   "outputs": [
    {
     "name": "stdout",
     "output_type": "stream",
     "text": [
      "<class 'pandas.core.frame.DataFrame'>\n",
      "RangeIndex: 1071 entries, 0 to 1070\n",
      "Data columns (total 39 columns):\n",
      "Q1               1071 non-null int64\n",
      "Q2               1071 non-null int64\n",
      "Q3               1071 non-null int64\n",
      "Q4               1071 non-null int64\n",
      "Q5               1071 non-null int64\n",
      "Q6               1071 non-null int64\n",
      "Q7               1071 non-null int64\n",
      "Q8               1071 non-null int64\n",
      "Q9               1071 non-null int64\n",
      "Q10              1071 non-null int64\n",
      "Q11              1071 non-null int64\n",
      "Q12              1071 non-null int64\n",
      "Q13              1071 non-null int64\n",
      "Q14              1071 non-null int64\n",
      "Q15              1071 non-null int64\n",
      "Q16              1071 non-null int64\n",
      "Q17              1071 non-null int64\n",
      "Q18              1071 non-null int64\n",
      "Q19              1071 non-null int64\n",
      "Q20              1071 non-null int64\n",
      "Q21              1071 non-null int64\n",
      "Q22              1071 non-null int64\n",
      "Q23              1071 non-null int64\n",
      "Q24              1071 non-null int64\n",
      "Q25              1071 non-null int64\n",
      "Q26              1071 non-null int64\n",
      "Q27              1071 non-null int64\n",
      "Q28              1071 non-null int64\n",
      "Q29              1071 non-null int64\n",
      "Q30              1071 non-null int64\n",
      "Q31              1071 non-null int64\n",
      "Q32              1071 non-null int64\n",
      "affiliative      1071 non-null float64\n",
      "selfenhancing    1071 non-null float64\n",
      "agressive        1071 non-null float64\n",
      "selfdefeating    1071 non-null float64\n",
      "age              1071 non-null int64\n",
      "gender           1071 non-null int64\n",
      "accuracy         1071 non-null int64\n",
      "dtypes: float64(4), int64(35)\n",
      "memory usage: 326.4 KB\n"
     ]
    }
   ],
   "source": [
    "hsq.info()"
   ]
  },
  {
   "cell_type": "code",
   "execution_count": 245,
   "metadata": {},
   "outputs": [
    {
     "data": {
      "text/html": [
       "<div>\n",
       "<style scoped>\n",
       "    .dataframe tbody tr th:only-of-type {\n",
       "        vertical-align: middle;\n",
       "    }\n",
       "\n",
       "    .dataframe tbody tr th {\n",
       "        vertical-align: top;\n",
       "    }\n",
       "\n",
       "    .dataframe thead th {\n",
       "        text-align: right;\n",
       "    }\n",
       "</style>\n",
       "<table border=\"1\" class=\"dataframe\">\n",
       "  <thead>\n",
       "    <tr style=\"text-align: right;\">\n",
       "      <th></th>\n",
       "      <th>Q1</th>\n",
       "      <th>Q2</th>\n",
       "      <th>Q3</th>\n",
       "      <th>Q4</th>\n",
       "      <th>Q5</th>\n",
       "      <th>Q6</th>\n",
       "      <th>Q7</th>\n",
       "      <th>Q8</th>\n",
       "      <th>Q9</th>\n",
       "      <th>Q10</th>\n",
       "      <th>...</th>\n",
       "      <th>Q30</th>\n",
       "      <th>Q31</th>\n",
       "      <th>Q32</th>\n",
       "      <th>affiliative</th>\n",
       "      <th>selfenhancing</th>\n",
       "      <th>agressive</th>\n",
       "      <th>selfdefeating</th>\n",
       "      <th>age</th>\n",
       "      <th>gender</th>\n",
       "      <th>accuracy</th>\n",
       "    </tr>\n",
       "  </thead>\n",
       "  <tbody>\n",
       "    <tr>\n",
       "      <th>count</th>\n",
       "      <td>1071.000000</td>\n",
       "      <td>1071.000000</td>\n",
       "      <td>1071.000000</td>\n",
       "      <td>1071.000000</td>\n",
       "      <td>1071.000000</td>\n",
       "      <td>1071.000000</td>\n",
       "      <td>1071.000000</td>\n",
       "      <td>1071.000000</td>\n",
       "      <td>1071.000000</td>\n",
       "      <td>1071.000000</td>\n",
       "      <td>...</td>\n",
       "      <td>1071.000000</td>\n",
       "      <td>1071.000000</td>\n",
       "      <td>1071.000000</td>\n",
       "      <td>1071.000000</td>\n",
       "      <td>1071.000000</td>\n",
       "      <td>1071.000000</td>\n",
       "      <td>1071.000000</td>\n",
       "      <td>1071.000000</td>\n",
       "      <td>1071.000000</td>\n",
       "      <td>1071.000000</td>\n",
       "    </tr>\n",
       "    <tr>\n",
       "      <th>mean</th>\n",
       "      <td>2.025210</td>\n",
       "      <td>3.342670</td>\n",
       "      <td>3.078431</td>\n",
       "      <td>2.833800</td>\n",
       "      <td>3.599440</td>\n",
       "      <td>4.152194</td>\n",
       "      <td>3.277311</td>\n",
       "      <td>2.535014</td>\n",
       "      <td>2.582633</td>\n",
       "      <td>2.869281</td>\n",
       "      <td>...</td>\n",
       "      <td>3.945845</td>\n",
       "      <td>2.767507</td>\n",
       "      <td>2.838469</td>\n",
       "      <td>4.010644</td>\n",
       "      <td>3.375537</td>\n",
       "      <td>2.956583</td>\n",
       "      <td>2.762745</td>\n",
       "      <td>70.966387</td>\n",
       "      <td>1.455649</td>\n",
       "      <td>87.542484</td>\n",
       "    </tr>\n",
       "    <tr>\n",
       "      <th>std</th>\n",
       "      <td>1.075782</td>\n",
       "      <td>1.112898</td>\n",
       "      <td>1.167877</td>\n",
       "      <td>1.160252</td>\n",
       "      <td>1.061281</td>\n",
       "      <td>0.979315</td>\n",
       "      <td>1.099974</td>\n",
       "      <td>1.231380</td>\n",
       "      <td>1.224530</td>\n",
       "      <td>1.205013</td>\n",
       "      <td>...</td>\n",
       "      <td>1.135189</td>\n",
       "      <td>1.309601</td>\n",
       "      <td>1.233889</td>\n",
       "      <td>0.708479</td>\n",
       "      <td>0.661533</td>\n",
       "      <td>0.410870</td>\n",
       "      <td>0.645982</td>\n",
       "      <td>1371.989249</td>\n",
       "      <td>0.522076</td>\n",
       "      <td>12.038483</td>\n",
       "    </tr>\n",
       "    <tr>\n",
       "      <th>min</th>\n",
       "      <td>-1.000000</td>\n",
       "      <td>-1.000000</td>\n",
       "      <td>-1.000000</td>\n",
       "      <td>-1.000000</td>\n",
       "      <td>-1.000000</td>\n",
       "      <td>-1.000000</td>\n",
       "      <td>-1.000000</td>\n",
       "      <td>-1.000000</td>\n",
       "      <td>-1.000000</td>\n",
       "      <td>-1.000000</td>\n",
       "      <td>...</td>\n",
       "      <td>-1.000000</td>\n",
       "      <td>-1.000000</td>\n",
       "      <td>-1.000000</td>\n",
       "      <td>1.300000</td>\n",
       "      <td>0.000000</td>\n",
       "      <td>0.000000</td>\n",
       "      <td>0.000000</td>\n",
       "      <td>14.000000</td>\n",
       "      <td>0.000000</td>\n",
       "      <td>2.000000</td>\n",
       "    </tr>\n",
       "    <tr>\n",
       "      <th>25%</th>\n",
       "      <td>1.000000</td>\n",
       "      <td>3.000000</td>\n",
       "      <td>2.000000</td>\n",
       "      <td>2.000000</td>\n",
       "      <td>3.000000</td>\n",
       "      <td>4.000000</td>\n",
       "      <td>3.000000</td>\n",
       "      <td>2.000000</td>\n",
       "      <td>2.000000</td>\n",
       "      <td>2.000000</td>\n",
       "      <td>...</td>\n",
       "      <td>3.000000</td>\n",
       "      <td>2.000000</td>\n",
       "      <td>2.000000</td>\n",
       "      <td>3.600000</td>\n",
       "      <td>2.900000</td>\n",
       "      <td>2.800000</td>\n",
       "      <td>2.300000</td>\n",
       "      <td>18.500000</td>\n",
       "      <td>1.000000</td>\n",
       "      <td>80.000000</td>\n",
       "    </tr>\n",
       "    <tr>\n",
       "      <th>50%</th>\n",
       "      <td>2.000000</td>\n",
       "      <td>3.000000</td>\n",
       "      <td>3.000000</td>\n",
       "      <td>3.000000</td>\n",
       "      <td>4.000000</td>\n",
       "      <td>4.000000</td>\n",
       "      <td>3.000000</td>\n",
       "      <td>2.000000</td>\n",
       "      <td>2.000000</td>\n",
       "      <td>3.000000</td>\n",
       "      <td>...</td>\n",
       "      <td>4.000000</td>\n",
       "      <td>3.000000</td>\n",
       "      <td>3.000000</td>\n",
       "      <td>4.100000</td>\n",
       "      <td>3.400000</td>\n",
       "      <td>3.000000</td>\n",
       "      <td>2.800000</td>\n",
       "      <td>23.000000</td>\n",
       "      <td>1.000000</td>\n",
       "      <td>90.000000</td>\n",
       "    </tr>\n",
       "    <tr>\n",
       "      <th>75%</th>\n",
       "      <td>3.000000</td>\n",
       "      <td>4.000000</td>\n",
       "      <td>4.000000</td>\n",
       "      <td>4.000000</td>\n",
       "      <td>4.000000</td>\n",
       "      <td>5.000000</td>\n",
       "      <td>4.000000</td>\n",
       "      <td>3.000000</td>\n",
       "      <td>3.000000</td>\n",
       "      <td>4.000000</td>\n",
       "      <td>...</td>\n",
       "      <td>5.000000</td>\n",
       "      <td>4.000000</td>\n",
       "      <td>4.000000</td>\n",
       "      <td>4.500000</td>\n",
       "      <td>3.800000</td>\n",
       "      <td>3.300000</td>\n",
       "      <td>3.100000</td>\n",
       "      <td>31.000000</td>\n",
       "      <td>2.000000</td>\n",
       "      <td>95.000000</td>\n",
       "    </tr>\n",
       "    <tr>\n",
       "      <th>max</th>\n",
       "      <td>5.000000</td>\n",
       "      <td>5.000000</td>\n",
       "      <td>5.000000</td>\n",
       "      <td>5.000000</td>\n",
       "      <td>5.000000</td>\n",
       "      <td>5.000000</td>\n",
       "      <td>5.000000</td>\n",
       "      <td>5.000000</td>\n",
       "      <td>5.000000</td>\n",
       "      <td>5.000000</td>\n",
       "      <td>...</td>\n",
       "      <td>5.000000</td>\n",
       "      <td>5.000000</td>\n",
       "      <td>5.000000</td>\n",
       "      <td>5.100000</td>\n",
       "      <td>5.000000</td>\n",
       "      <td>5.000000</td>\n",
       "      <td>5.000000</td>\n",
       "      <td>44849.000000</td>\n",
       "      <td>3.000000</td>\n",
       "      <td>100.000000</td>\n",
       "    </tr>\n",
       "  </tbody>\n",
       "</table>\n",
       "<p>8 rows × 39 columns</p>\n",
       "</div>"
      ],
      "text/plain": [
       "                Q1           Q2           Q3           Q4           Q5  \\\n",
       "count  1071.000000  1071.000000  1071.000000  1071.000000  1071.000000   \n",
       "mean      2.025210     3.342670     3.078431     2.833800     3.599440   \n",
       "std       1.075782     1.112898     1.167877     1.160252     1.061281   \n",
       "min      -1.000000    -1.000000    -1.000000    -1.000000    -1.000000   \n",
       "25%       1.000000     3.000000     2.000000     2.000000     3.000000   \n",
       "50%       2.000000     3.000000     3.000000     3.000000     4.000000   \n",
       "75%       3.000000     4.000000     4.000000     4.000000     4.000000   \n",
       "max       5.000000     5.000000     5.000000     5.000000     5.000000   \n",
       "\n",
       "                Q6           Q7           Q8           Q9          Q10  \\\n",
       "count  1071.000000  1071.000000  1071.000000  1071.000000  1071.000000   \n",
       "mean      4.152194     3.277311     2.535014     2.582633     2.869281   \n",
       "std       0.979315     1.099974     1.231380     1.224530     1.205013   \n",
       "min      -1.000000    -1.000000    -1.000000    -1.000000    -1.000000   \n",
       "25%       4.000000     3.000000     2.000000     2.000000     2.000000   \n",
       "50%       4.000000     3.000000     2.000000     2.000000     3.000000   \n",
       "75%       5.000000     4.000000     3.000000     3.000000     4.000000   \n",
       "max       5.000000     5.000000     5.000000     5.000000     5.000000   \n",
       "\n",
       "          ...               Q30          Q31          Q32  affiliative  \\\n",
       "count     ...       1071.000000  1071.000000  1071.000000  1071.000000   \n",
       "mean      ...          3.945845     2.767507     2.838469     4.010644   \n",
       "std       ...          1.135189     1.309601     1.233889     0.708479   \n",
       "min       ...         -1.000000    -1.000000    -1.000000     1.300000   \n",
       "25%       ...          3.000000     2.000000     2.000000     3.600000   \n",
       "50%       ...          4.000000     3.000000     3.000000     4.100000   \n",
       "75%       ...          5.000000     4.000000     4.000000     4.500000   \n",
       "max       ...          5.000000     5.000000     5.000000     5.100000   \n",
       "\n",
       "       selfenhancing    agressive  selfdefeating           age       gender  \\\n",
       "count    1071.000000  1071.000000    1071.000000   1071.000000  1071.000000   \n",
       "mean        3.375537     2.956583       2.762745     70.966387     1.455649   \n",
       "std         0.661533     0.410870       0.645982   1371.989249     0.522076   \n",
       "min         0.000000     0.000000       0.000000     14.000000     0.000000   \n",
       "25%         2.900000     2.800000       2.300000     18.500000     1.000000   \n",
       "50%         3.400000     3.000000       2.800000     23.000000     1.000000   \n",
       "75%         3.800000     3.300000       3.100000     31.000000     2.000000   \n",
       "max         5.000000     5.000000       5.000000  44849.000000     3.000000   \n",
       "\n",
       "          accuracy  \n",
       "count  1071.000000  \n",
       "mean     87.542484  \n",
       "std      12.038483  \n",
       "min       2.000000  \n",
       "25%      80.000000  \n",
       "50%      90.000000  \n",
       "75%      95.000000  \n",
       "max     100.000000  \n",
       "\n",
       "[8 rows x 39 columns]"
      ]
     },
     "execution_count": 245,
     "metadata": {},
     "output_type": "execute_result"
    }
   ],
   "source": [
    "hsq.describe()"
   ]
  },
  {
   "cell_type": "code",
   "execution_count": 246,
   "metadata": {},
   "outputs": [
    {
     "data": {
      "text/plain": [
       "1    581\n",
       "2    477\n",
       "3      8\n",
       "0      5\n",
       "Name: gender, dtype: int64"
      ]
     },
     "execution_count": 246,
     "metadata": {},
     "output_type": "execute_result"
    }
   ],
   "source": [
    "# Check the target column\n",
    "hsq['gender'].value_counts()"
   ]
  },
  {
   "cell_type": "code",
   "execution_count": 247,
   "metadata": {
    "scrolled": true
   },
   "outputs": [
    {
     "data": {
      "text/plain": [
       "44849     1\n",
       "2670      1\n",
       "242       1\n",
       "151       1\n",
       "56        1\n",
       "68        1\n",
       "67        1\n",
       "66        1\n",
       "60        1\n",
       "70        2\n",
       "59        2\n",
       "58        2\n",
       "69        2\n",
       "57        3\n",
       "62        3\n",
       "47        3\n",
       "64        4\n",
       "54        5\n",
       "53        5\n",
       "52        5\n",
       "50        5\n",
       "43        5\n",
       "55        5\n",
       "61        6\n",
       "51        6\n",
       "49        6\n",
       "42        6\n",
       "44        7\n",
       "48        7\n",
       "38        8\n",
       "45        8\n",
       "36        9\n",
       "46        9\n",
       "37       11\n",
       "41       12\n",
       "34       13\n",
       "39       14\n",
       "40       15\n",
       "33       16\n",
       "31       16\n",
       "35       21\n",
       "32       22\n",
       "29       22\n",
       "28       23\n",
       "30       24\n",
       "14       25\n",
       "27       34\n",
       "24       35\n",
       "25       37\n",
       "15       37\n",
       "26       44\n",
       "23       45\n",
       "21       52\n",
       "17       63\n",
       "19       65\n",
       "16       69\n",
       "20       71\n",
       "18       74\n",
       "22       79\n",
       "Name: age, dtype: int64"
      ]
     },
     "execution_count": 247,
     "metadata": {},
     "output_type": "execute_result"
    }
   ],
   "source": [
    "# Check the age column\n",
    "hsq['age'].value_counts().sort_values()"
   ]
  },
  {
   "cell_type": "code",
   "execution_count": 248,
   "metadata": {},
   "outputs": [
    {
     "name": "stderr",
     "output_type": "stream",
     "text": [
      "/Users/david.yan/anaconda/envs/py27/lib/python2.7/site-packages/ipykernel_launcher.py:4: SettingWithCopyWarning: \n",
      "A value is trying to be set on a copy of a slice from a DataFrame.\n",
      "Try using .loc[row_indexer,col_indexer] = value instead\n",
      "\n",
      "See the caveats in the documentation: http://pandas.pydata.org/pandas-docs/stable/indexing.html#indexing-view-versus-copy\n",
      "  after removing the cwd from sys.path.\n"
     ]
    },
    {
     "data": {
      "text/plain": [
       "1    581\n",
       "0    477\n",
       "Name: gender, dtype: int64"
      ]
     },
     "execution_count": 248,
     "metadata": {},
     "output_type": "execute_result"
    }
   ],
   "source": [
    "# drop all rows containing 3 and 0 for gender\n",
    "temp_df = hsq[hsq['gender'].isin([1,2])]\n",
    "# transform 1=male, 2=female to 0=male, 1=female\n",
    "temp_df['gender'] = temp_df['gender'].map(lambda x: 1 if x == 1 else 0)\n",
    "temp_df['gender'].value_counts()"
   ]
  },
  {
   "cell_type": "code",
   "execution_count": 249,
   "metadata": {},
   "outputs": [
    {
     "name": "stderr",
     "output_type": "stream",
     "text": [
      "/Users/david.yan/anaconda/envs/py27/lib/python2.7/site-packages/ipykernel_launcher.py:2: SettingWithCopyWarning: \n",
      "A value is trying to be set on a copy of a slice from a DataFrame.\n",
      "Try using .loc[row_indexer,col_indexer] = value instead\n",
      "\n",
      "See the caveats in the documentation: http://pandas.pydata.org/pandas-docs/stable/indexing.html#indexing-view-versus-copy\n",
      "  \n"
     ]
    }
   ],
   "source": [
    "# nan for age columns that are above 100\n",
    "temp_df['age'] = temp_df['age'].map(lambda x: np.nan if x > 100 else x)"
   ]
  },
  {
   "cell_type": "code",
   "execution_count": 250,
   "metadata": {},
   "outputs": [
    {
     "name": "stderr",
     "output_type": "stream",
     "text": [
      "/Users/david.yan/anaconda/envs/py27/lib/python2.7/site-packages/ipykernel_launcher.py:4: SettingWithCopyWarning: \n",
      "A value is trying to be set on a copy of a slice from a DataFrame.\n",
      "Try using .loc[row_indexer,col_indexer] = value instead\n",
      "\n",
      "See the caveats in the documentation: http://pandas.pydata.org/pandas-docs/stable/indexing.html#indexing-view-versus-copy\n",
      "  after removing the cwd from sys.path.\n"
     ]
    }
   ],
   "source": [
    "# nan for answer that are -1\n",
    "cols = [x for x in temp_df.columns if x.startswith('Q')]\n",
    "for col in cols:\n",
    "    temp_df[col] = temp_df[col].map(lambda x: np.nan if x == -1 else x)"
   ]
  },
  {
   "cell_type": "code",
   "execution_count": 251,
   "metadata": {},
   "outputs": [
    {
     "name": "stderr",
     "output_type": "stream",
     "text": [
      "/Users/david.yan/anaconda/envs/py27/lib/python2.7/site-packages/ipykernel_launcher.py:1: SettingWithCopyWarning: \n",
      "A value is trying to be set on a copy of a slice from a DataFrame\n",
      "\n",
      "See the caveats in the documentation: http://pandas.pydata.org/pandas-docs/stable/indexing.html#indexing-view-versus-copy\n",
      "  \"\"\"Entry point for launching an IPython kernel.\n"
     ]
    }
   ],
   "source": [
    "temp_df.dropna(inplace=True)"
   ]
  },
  {
   "cell_type": "code",
   "execution_count": 252,
   "metadata": {
    "scrolled": true
   },
   "outputs": [
    {
     "data": {
      "text/plain": [
       "22.0    75\n",
       "18.0    67\n",
       "20.0    66\n",
       "16.0    61\n",
       "17.0    58\n",
       "19.0    57\n",
       "21.0    50\n",
       "23.0    42\n",
       "26.0    41\n",
       "25.0    33\n",
       "15.0    32\n",
       "27.0    31\n",
       "24.0    31\n",
       "14.0    24\n",
       "28.0    22\n",
       "30.0    22\n",
       "32.0    21\n",
       "29.0    20\n",
       "35.0    20\n",
       "31.0    15\n",
       "40.0    15\n",
       "33.0    15\n",
       "34.0    12\n",
       "39.0    12\n",
       "41.0    12\n",
       "37.0    11\n",
       "36.0     9\n",
       "46.0     8\n",
       "38.0     7\n",
       "45.0     7\n",
       "44.0     6\n",
       "51.0     6\n",
       "49.0     6\n",
       "48.0     6\n",
       "50.0     5\n",
       "55.0     5\n",
       "54.0     5\n",
       "53.0     5\n",
       "43.0     4\n",
       "42.0     4\n",
       "61.0     4\n",
       "64.0     4\n",
       "52.0     4\n",
       "62.0     3\n",
       "47.0     2\n",
       "58.0     2\n",
       "59.0     2\n",
       "56.0     1\n",
       "66.0     1\n",
       "60.0     1\n",
       "67.0     1\n",
       "68.0     1\n",
       "70.0     1\n",
       "69.0     1\n",
       "57.0     1\n",
       "Name: age, dtype: int64"
      ]
     },
     "execution_count": 252,
     "metadata": {},
     "output_type": "execute_result"
    }
   ],
   "source": [
    "temp_df['age'].value_counts()"
   ]
  },
  {
   "cell_type": "code",
   "execution_count": 253,
   "metadata": {
    "scrolled": true
   },
   "outputs": [
    {
     "name": "stdout",
     "output_type": "stream",
     "text": [
      "<class 'pandas.core.frame.DataFrame'>\n",
      "Int64Index: 977 entries, 0 to 1070\n",
      "Data columns (total 39 columns):\n",
      "Q1               977 non-null float64\n",
      "Q2               977 non-null float64\n",
      "Q3               977 non-null float64\n",
      "Q4               977 non-null float64\n",
      "Q5               977 non-null float64\n",
      "Q6               977 non-null float64\n",
      "Q7               977 non-null float64\n",
      "Q8               977 non-null float64\n",
      "Q9               977 non-null float64\n",
      "Q10              977 non-null float64\n",
      "Q11              977 non-null float64\n",
      "Q12              977 non-null float64\n",
      "Q13              977 non-null float64\n",
      "Q14              977 non-null float64\n",
      "Q15              977 non-null float64\n",
      "Q16              977 non-null float64\n",
      "Q17              977 non-null float64\n",
      "Q18              977 non-null float64\n",
      "Q19              977 non-null float64\n",
      "Q20              977 non-null float64\n",
      "Q21              977 non-null float64\n",
      "Q22              977 non-null float64\n",
      "Q23              977 non-null float64\n",
      "Q24              977 non-null float64\n",
      "Q25              977 non-null float64\n",
      "Q26              977 non-null float64\n",
      "Q27              977 non-null float64\n",
      "Q28              977 non-null float64\n",
      "Q29              977 non-null float64\n",
      "Q30              977 non-null float64\n",
      "Q31              977 non-null float64\n",
      "Q32              977 non-null float64\n",
      "affiliative      977 non-null float64\n",
      "selfenhancing    977 non-null float64\n",
      "agressive        977 non-null float64\n",
      "selfdefeating    977 non-null float64\n",
      "age              977 non-null float64\n",
      "gender           977 non-null int64\n",
      "accuracy         977 non-null int64\n",
      "dtypes: float64(37), int64(2)\n",
      "memory usage: 305.3 KB\n"
     ]
    }
   ],
   "source": [
    "temp_df.info()"
   ]
  },
  {
   "cell_type": "code",
   "execution_count": 254,
   "metadata": {},
   "outputs": [
    {
     "data": {
      "text/html": [
       "<div>\n",
       "<style scoped>\n",
       "    .dataframe tbody tr th:only-of-type {\n",
       "        vertical-align: middle;\n",
       "    }\n",
       "\n",
       "    .dataframe tbody tr th {\n",
       "        vertical-align: top;\n",
       "    }\n",
       "\n",
       "    .dataframe thead th {\n",
       "        text-align: right;\n",
       "    }\n",
       "</style>\n",
       "<table border=\"1\" class=\"dataframe\">\n",
       "  <thead>\n",
       "    <tr style=\"text-align: right;\">\n",
       "      <th></th>\n",
       "      <th>Q1</th>\n",
       "      <th>Q2</th>\n",
       "      <th>Q3</th>\n",
       "      <th>Q4</th>\n",
       "      <th>Q5</th>\n",
       "      <th>Q6</th>\n",
       "      <th>Q7</th>\n",
       "      <th>Q8</th>\n",
       "      <th>Q9</th>\n",
       "      <th>Q10</th>\n",
       "      <th>...</th>\n",
       "      <th>Q30</th>\n",
       "      <th>Q31</th>\n",
       "      <th>Q32</th>\n",
       "      <th>affiliative</th>\n",
       "      <th>selfenhancing</th>\n",
       "      <th>agressive</th>\n",
       "      <th>selfdefeating</th>\n",
       "      <th>age</th>\n",
       "      <th>gender</th>\n",
       "      <th>accuracy</th>\n",
       "    </tr>\n",
       "  </thead>\n",
       "  <tbody>\n",
       "    <tr>\n",
       "      <th>count</th>\n",
       "      <td>977.000000</td>\n",
       "      <td>977.000000</td>\n",
       "      <td>977.000000</td>\n",
       "      <td>977.000000</td>\n",
       "      <td>977.000000</td>\n",
       "      <td>977.000000</td>\n",
       "      <td>977.000000</td>\n",
       "      <td>977.000000</td>\n",
       "      <td>977.000000</td>\n",
       "      <td>977.000000</td>\n",
       "      <td>...</td>\n",
       "      <td>977.000000</td>\n",
       "      <td>977.000000</td>\n",
       "      <td>977.000000</td>\n",
       "      <td>977.000000</td>\n",
       "      <td>977.000000</td>\n",
       "      <td>977.000000</td>\n",
       "      <td>977.000000</td>\n",
       "      <td>977.000000</td>\n",
       "      <td>977.000000</td>\n",
       "      <td>977.000000</td>\n",
       "    </tr>\n",
       "    <tr>\n",
       "      <th>mean</th>\n",
       "      <td>2.033777</td>\n",
       "      <td>3.346981</td>\n",
       "      <td>3.083930</td>\n",
       "      <td>2.829069</td>\n",
       "      <td>3.621290</td>\n",
       "      <td>4.169908</td>\n",
       "      <td>3.296827</td>\n",
       "      <td>2.541453</td>\n",
       "      <td>2.594678</td>\n",
       "      <td>2.871034</td>\n",
       "      <td>...</td>\n",
       "      <td>3.974411</td>\n",
       "      <td>2.798362</td>\n",
       "      <td>2.843398</td>\n",
       "      <td>4.013715</td>\n",
       "      <td>3.390072</td>\n",
       "      <td>2.968475</td>\n",
       "      <td>2.767963</td>\n",
       "      <td>26.251791</td>\n",
       "      <td>0.547595</td>\n",
       "      <td>87.700102</td>\n",
       "    </tr>\n",
       "    <tr>\n",
       "      <th>std</th>\n",
       "      <td>1.059638</td>\n",
       "      <td>1.089900</td>\n",
       "      <td>1.155492</td>\n",
       "      <td>1.156084</td>\n",
       "      <td>1.029223</td>\n",
       "      <td>0.947276</td>\n",
       "      <td>1.084503</td>\n",
       "      <td>1.193635</td>\n",
       "      <td>1.206833</td>\n",
       "      <td>1.179465</td>\n",
       "      <td>...</td>\n",
       "      <td>1.052106</td>\n",
       "      <td>1.276071</td>\n",
       "      <td>1.223506</td>\n",
       "      <td>0.701620</td>\n",
       "      <td>0.640547</td>\n",
       "      <td>0.387469</td>\n",
       "      <td>0.636643</td>\n",
       "      <td>10.848720</td>\n",
       "      <td>0.497985</td>\n",
       "      <td>11.501832</td>\n",
       "    </tr>\n",
       "    <tr>\n",
       "      <th>min</th>\n",
       "      <td>1.000000</td>\n",
       "      <td>1.000000</td>\n",
       "      <td>1.000000</td>\n",
       "      <td>1.000000</td>\n",
       "      <td>1.000000</td>\n",
       "      <td>1.000000</td>\n",
       "      <td>1.000000</td>\n",
       "      <td>1.000000</td>\n",
       "      <td>1.000000</td>\n",
       "      <td>1.000000</td>\n",
       "      <td>...</td>\n",
       "      <td>1.000000</td>\n",
       "      <td>1.000000</td>\n",
       "      <td>1.000000</td>\n",
       "      <td>1.300000</td>\n",
       "      <td>1.000000</td>\n",
       "      <td>1.000000</td>\n",
       "      <td>1.000000</td>\n",
       "      <td>14.000000</td>\n",
       "      <td>0.000000</td>\n",
       "      <td>7.000000</td>\n",
       "    </tr>\n",
       "    <tr>\n",
       "      <th>25%</th>\n",
       "      <td>1.000000</td>\n",
       "      <td>3.000000</td>\n",
       "      <td>2.000000</td>\n",
       "      <td>2.000000</td>\n",
       "      <td>3.000000</td>\n",
       "      <td>4.000000</td>\n",
       "      <td>3.000000</td>\n",
       "      <td>2.000000</td>\n",
       "      <td>2.000000</td>\n",
       "      <td>2.000000</td>\n",
       "      <td>...</td>\n",
       "      <td>3.000000</td>\n",
       "      <td>2.000000</td>\n",
       "      <td>2.000000</td>\n",
       "      <td>3.600000</td>\n",
       "      <td>3.000000</td>\n",
       "      <td>2.800000</td>\n",
       "      <td>2.300000</td>\n",
       "      <td>19.000000</td>\n",
       "      <td>0.000000</td>\n",
       "      <td>80.000000</td>\n",
       "    </tr>\n",
       "    <tr>\n",
       "      <th>50%</th>\n",
       "      <td>2.000000</td>\n",
       "      <td>3.000000</td>\n",
       "      <td>3.000000</td>\n",
       "      <td>3.000000</td>\n",
       "      <td>4.000000</td>\n",
       "      <td>4.000000</td>\n",
       "      <td>3.000000</td>\n",
       "      <td>2.000000</td>\n",
       "      <td>2.000000</td>\n",
       "      <td>3.000000</td>\n",
       "      <td>...</td>\n",
       "      <td>4.000000</td>\n",
       "      <td>3.000000</td>\n",
       "      <td>3.000000</td>\n",
       "      <td>4.100000</td>\n",
       "      <td>3.500000</td>\n",
       "      <td>3.000000</td>\n",
       "      <td>2.800000</td>\n",
       "      <td>22.000000</td>\n",
       "      <td>1.000000</td>\n",
       "      <td>90.000000</td>\n",
       "    </tr>\n",
       "    <tr>\n",
       "      <th>75%</th>\n",
       "      <td>3.000000</td>\n",
       "      <td>4.000000</td>\n",
       "      <td>4.000000</td>\n",
       "      <td>4.000000</td>\n",
       "      <td>4.000000</td>\n",
       "      <td>5.000000</td>\n",
       "      <td>4.000000</td>\n",
       "      <td>3.000000</td>\n",
       "      <td>3.000000</td>\n",
       "      <td>4.000000</td>\n",
       "      <td>...</td>\n",
       "      <td>5.000000</td>\n",
       "      <td>4.000000</td>\n",
       "      <td>4.000000</td>\n",
       "      <td>4.500000</td>\n",
       "      <td>3.800000</td>\n",
       "      <td>3.300000</td>\n",
       "      <td>3.100000</td>\n",
       "      <td>31.000000</td>\n",
       "      <td>1.000000</td>\n",
       "      <td>95.000000</td>\n",
       "    </tr>\n",
       "    <tr>\n",
       "      <th>max</th>\n",
       "      <td>5.000000</td>\n",
       "      <td>5.000000</td>\n",
       "      <td>5.000000</td>\n",
       "      <td>5.000000</td>\n",
       "      <td>5.000000</td>\n",
       "      <td>5.000000</td>\n",
       "      <td>5.000000</td>\n",
       "      <td>5.000000</td>\n",
       "      <td>5.000000</td>\n",
       "      <td>5.000000</td>\n",
       "      <td>...</td>\n",
       "      <td>5.000000</td>\n",
       "      <td>5.000000</td>\n",
       "      <td>5.000000</td>\n",
       "      <td>5.000000</td>\n",
       "      <td>5.000000</td>\n",
       "      <td>5.000000</td>\n",
       "      <td>5.000000</td>\n",
       "      <td>70.000000</td>\n",
       "      <td>1.000000</td>\n",
       "      <td>100.000000</td>\n",
       "    </tr>\n",
       "  </tbody>\n",
       "</table>\n",
       "<p>8 rows × 39 columns</p>\n",
       "</div>"
      ],
      "text/plain": [
       "               Q1          Q2          Q3          Q4          Q5          Q6  \\\n",
       "count  977.000000  977.000000  977.000000  977.000000  977.000000  977.000000   \n",
       "mean     2.033777    3.346981    3.083930    2.829069    3.621290    4.169908   \n",
       "std      1.059638    1.089900    1.155492    1.156084    1.029223    0.947276   \n",
       "min      1.000000    1.000000    1.000000    1.000000    1.000000    1.000000   \n",
       "25%      1.000000    3.000000    2.000000    2.000000    3.000000    4.000000   \n",
       "50%      2.000000    3.000000    3.000000    3.000000    4.000000    4.000000   \n",
       "75%      3.000000    4.000000    4.000000    4.000000    4.000000    5.000000   \n",
       "max      5.000000    5.000000    5.000000    5.000000    5.000000    5.000000   \n",
       "\n",
       "               Q7          Q8          Q9         Q10     ...             Q30  \\\n",
       "count  977.000000  977.000000  977.000000  977.000000     ...      977.000000   \n",
       "mean     3.296827    2.541453    2.594678    2.871034     ...        3.974411   \n",
       "std      1.084503    1.193635    1.206833    1.179465     ...        1.052106   \n",
       "min      1.000000    1.000000    1.000000    1.000000     ...        1.000000   \n",
       "25%      3.000000    2.000000    2.000000    2.000000     ...        3.000000   \n",
       "50%      3.000000    2.000000    2.000000    3.000000     ...        4.000000   \n",
       "75%      4.000000    3.000000    3.000000    4.000000     ...        5.000000   \n",
       "max      5.000000    5.000000    5.000000    5.000000     ...        5.000000   \n",
       "\n",
       "              Q31         Q32  affiliative  selfenhancing   agressive  \\\n",
       "count  977.000000  977.000000   977.000000     977.000000  977.000000   \n",
       "mean     2.798362    2.843398     4.013715       3.390072    2.968475   \n",
       "std      1.276071    1.223506     0.701620       0.640547    0.387469   \n",
       "min      1.000000    1.000000     1.300000       1.000000    1.000000   \n",
       "25%      2.000000    2.000000     3.600000       3.000000    2.800000   \n",
       "50%      3.000000    3.000000     4.100000       3.500000    3.000000   \n",
       "75%      4.000000    4.000000     4.500000       3.800000    3.300000   \n",
       "max      5.000000    5.000000     5.000000       5.000000    5.000000   \n",
       "\n",
       "       selfdefeating         age      gender    accuracy  \n",
       "count     977.000000  977.000000  977.000000  977.000000  \n",
       "mean        2.767963   26.251791    0.547595   87.700102  \n",
       "std         0.636643   10.848720    0.497985   11.501832  \n",
       "min         1.000000   14.000000    0.000000    7.000000  \n",
       "25%         2.300000   19.000000    0.000000   80.000000  \n",
       "50%         2.800000   22.000000    1.000000   90.000000  \n",
       "75%         3.100000   31.000000    1.000000   95.000000  \n",
       "max         5.000000   70.000000    1.000000  100.000000  \n",
       "\n",
       "[8 rows x 39 columns]"
      ]
     },
     "execution_count": 254,
     "metadata": {},
     "output_type": "execute_result"
    }
   ],
   "source": [
    "temp_df.describe()"
   ]
  },
  {
   "cell_type": "markdown",
   "metadata": {},
   "source": [
    "### 2. Set up a predictor matrix to predict `gender` (only male vs. female)\n",
    "\n",
    "Choice of predictors is up to you. Justify which variables you include."
   ]
  },
  {
   "cell_type": "code",
   "execution_count": 255,
   "metadata": {
    "collapsed": true
   },
   "outputs": [],
   "source": [
    "# A:\n",
    "# remove summary columns because we want our predictors to be as granular as possible\n",
    "df = temp_df.drop(labels=['affiliative','selfenhancing','agressive','selfdefeating'], axis=1)"
   ]
  },
  {
   "cell_type": "code",
   "execution_count": 256,
   "metadata": {},
   "outputs": [],
   "source": [
    "# get target and predictor columns\n",
    "y = df['gender']\n",
    "X = df.drop(labels='gender',axis=1)"
   ]
  },
  {
   "cell_type": "markdown",
   "metadata": {},
   "source": [
    "### 3. Fit a Logistic Regression model and compare your cross-validated accuracy to the baseline."
   ]
  },
  {
   "cell_type": "code",
   "execution_count": 257,
   "metadata": {},
   "outputs": [
    {
     "data": {
      "text/plain": [
       "0.54759467758444214"
      ]
     },
     "execution_count": 257,
     "metadata": {},
     "output_type": "execute_result"
    }
   ],
   "source": [
    "# get baseline acc\n",
    "baseline_acc = y.mean()\n",
    "baseline_acc"
   ]
  },
  {
   "cell_type": "code",
   "execution_count": 258,
   "metadata": {
    "collapsed": true
   },
   "outputs": [],
   "source": [
    "# initialize standardization protocol\n",
    "from sklearn.preprocessing import StandardScaler\n",
    "scaler = StandardScaler()"
   ]
  },
  {
   "cell_type": "code",
   "execution_count": 259,
   "metadata": {
    "collapsed": true
   },
   "outputs": [],
   "source": [
    "# standardize predictors\n",
    "Xs = scaler.fit_transform(X)"
   ]
  },
  {
   "cell_type": "code",
   "execution_count": 260,
   "metadata": {},
   "outputs": [],
   "source": [
    "# get cross validated accuracy, total true / total sample size\n",
    "lrm = LogisticRegression()\n",
    "scores = cross_val_score(lrm, Xs, y, cv=25)"
   ]
  },
  {
   "cell_type": "code",
   "execution_count": 261,
   "metadata": {},
   "outputs": [
    {
     "name": "stdout",
     "output_type": "stream",
     "text": [
      "[ 0.6         0.6         0.6         0.625       0.675       0.625       0.675\n",
      "  0.575       0.525       0.625       0.53846154  0.64102564  0.46153846\n",
      "  0.64102564  0.64102564  0.56410256  0.71794872  0.44736842  0.65789474\n",
      "  0.65789474  0.71052632  0.63157895  0.57894737  0.44736842  0.63157895]\n",
      "0.603731443995\n"
     ]
    }
   ],
   "source": [
    "print(scores)\n",
    "print(np.mean(scores))"
   ]
  },
  {
   "cell_type": "code",
   "execution_count": 262,
   "metadata": {
    "collapsed": true
   },
   "outputs": [],
   "source": [
    "# only slightly better than baseline, not very good"
   ]
  },
  {
   "cell_type": "markdown",
   "metadata": {},
   "source": [
    "### 4. Create a 50-50 train-test split. Fit the model on training and get the predictions and predicted probabilities on the test data."
   ]
  },
  {
   "cell_type": "code",
   "execution_count": 263,
   "metadata": {
    "collapsed": true
   },
   "outputs": [],
   "source": [
    "# A:\n",
    "from sklearn.model_selection import train_test_split"
   ]
  },
  {
   "cell_type": "code",
   "execution_count": 264,
   "metadata": {
    "collapsed": true
   },
   "outputs": [],
   "source": [
    "# Get Training & Testing Sets\n",
    "X_train, X_test, y_train, y_test = train_test_split(Xs, y, test_size=0.5)"
   ]
  },
  {
   "cell_type": "code",
   "execution_count": 265,
   "metadata": {},
   "outputs": [
    {
     "data": {
      "text/plain": [
       "LogisticRegression(C=1.0, class_weight=None, dual=False, fit_intercept=True,\n",
       "          intercept_scaling=1, max_iter=100, multi_class='ovr', n_jobs=1,\n",
       "          penalty='l2', random_state=None, solver='liblinear', tol=0.0001,\n",
       "          verbose=0, warm_start=False)"
      ]
     },
     "execution_count": 265,
     "metadata": {},
     "output_type": "execute_result"
    }
   ],
   "source": [
    "# Fit the logistic model\n",
    "lrm.fit(X_train,y_train)"
   ]
  },
  {
   "cell_type": "code",
   "execution_count": 266,
   "metadata": {
    "collapsed": true
   },
   "outputs": [],
   "source": [
    "# get predictions & predicted probabilities\n",
    "pred = lrm.predict(X_test)\n",
    "pred_prob = lrm.predict_proba(X_test)"
   ]
  },
  {
   "cell_type": "code",
   "execution_count": 267,
   "metadata": {},
   "outputs": [
    {
     "name": "stdout",
     "output_type": "stream",
     "text": [
      "489\n",
      "279\n",
      "276\n",
      "185\n"
     ]
    }
   ],
   "source": [
    "print(len(pred == 1))\n",
    "print(np.sum(pred == 1))\n",
    "print(np.sum(y_test == 1))\n",
    "print(np.sum((y_test==1) & (pred==1)))"
   ]
  },
  {
   "cell_type": "markdown",
   "metadata": {},
   "source": [
    "### 5. Manually calculate the true positives, false positives, true negatives, and false negatives."
   ]
  },
  {
   "cell_type": "code",
   "execution_count": 268,
   "metadata": {},
   "outputs": [
    {
     "name": "stdout",
     "output_type": "stream",
     "text": [
      "(185, 94, 119, 91)\n"
     ]
    }
   ],
   "source": [
    "# A:\n",
    "tp = np.sum((y_test==1) & (pred==1))\n",
    "fp = np.sum((y_test==0) & (pred==1))\n",
    "tn = np.sum((y_test==0) & (pred==0))\n",
    "fn = np.sum((y_test==1) & (pred==0))\n",
    "print(tp, fp, tn, fn)"
   ]
  },
  {
   "cell_type": "markdown",
   "metadata": {},
   "source": [
    "### 6. Construct the confusion matrix. "
   ]
  },
  {
   "cell_type": "code",
   "execution_count": 269,
   "metadata": {},
   "outputs": [
    {
     "data": {
      "text/html": [
       "<div>\n",
       "<style scoped>\n",
       "    .dataframe tbody tr th:only-of-type {\n",
       "        vertical-align: middle;\n",
       "    }\n",
       "\n",
       "    .dataframe tbody tr th {\n",
       "        vertical-align: top;\n",
       "    }\n",
       "\n",
       "    .dataframe thead th {\n",
       "        text-align: right;\n",
       "    }\n",
       "</style>\n",
       "<table border=\"1\" class=\"dataframe\">\n",
       "  <thead>\n",
       "    <tr style=\"text-align: right;\">\n",
       "      <th></th>\n",
       "      <th>predicted_male</th>\n",
       "      <th>predicted_female</th>\n",
       "    </tr>\n",
       "  </thead>\n",
       "  <tbody>\n",
       "    <tr>\n",
       "      <th>is_male</th>\n",
       "      <td>185</td>\n",
       "      <td>91</td>\n",
       "    </tr>\n",
       "    <tr>\n",
       "      <th>is_female</th>\n",
       "      <td>94</td>\n",
       "      <td>119</td>\n",
       "    </tr>\n",
       "  </tbody>\n",
       "</table>\n",
       "</div>"
      ],
      "text/plain": [
       "           predicted_male  predicted_female\n",
       "is_male               185                91\n",
       "is_female              94               119"
      ]
     },
     "execution_count": 269,
     "metadata": {},
     "output_type": "execute_result"
    }
   ],
   "source": [
    "# A:\n",
    "from sklearn.metrics import confusion_matrix\n",
    "cm = confusion_matrix(y_test, pred, labels=[1,0])\n",
    "cm_df = pd.DataFrame(cm, index=['is_male','is_female'], columns=['predicted_male','predicted_female'])\n",
    "cm_df"
   ]
  },
  {
   "cell_type": "markdown",
   "metadata": {},
   "source": [
    "### 7. Print out the false positive count as you change your threshold for predicting label 1."
   ]
  },
  {
   "cell_type": "code",
   "execution_count": 270,
   "metadata": {},
   "outputs": [
    {
     "data": {
      "text/html": [
       "<div>\n",
       "<style scoped>\n",
       "    .dataframe tbody tr th:only-of-type {\n",
       "        vertical-align: middle;\n",
       "    }\n",
       "\n",
       "    .dataframe tbody tr th {\n",
       "        vertical-align: top;\n",
       "    }\n",
       "\n",
       "    .dataframe thead th {\n",
       "        text-align: right;\n",
       "    }\n",
       "</style>\n",
       "<table border=\"1\" class=\"dataframe\">\n",
       "  <thead>\n",
       "    <tr style=\"text-align: right;\">\n",
       "      <th></th>\n",
       "      <th>female</th>\n",
       "      <th>male</th>\n",
       "    </tr>\n",
       "  </thead>\n",
       "  <tbody>\n",
       "    <tr>\n",
       "      <th>0</th>\n",
       "      <td>0.803723</td>\n",
       "      <td>0.196277</td>\n",
       "    </tr>\n",
       "    <tr>\n",
       "      <th>1</th>\n",
       "      <td>0.471520</td>\n",
       "      <td>0.528480</td>\n",
       "    </tr>\n",
       "    <tr>\n",
       "      <th>2</th>\n",
       "      <td>0.641294</td>\n",
       "      <td>0.358706</td>\n",
       "    </tr>\n",
       "    <tr>\n",
       "      <th>3</th>\n",
       "      <td>0.568388</td>\n",
       "      <td>0.431612</td>\n",
       "    </tr>\n",
       "    <tr>\n",
       "      <th>4</th>\n",
       "      <td>0.751751</td>\n",
       "      <td>0.248249</td>\n",
       "    </tr>\n",
       "  </tbody>\n",
       "</table>\n",
       "</div>"
      ],
      "text/plain": [
       "     female      male\n",
       "0  0.803723  0.196277\n",
       "1  0.471520  0.528480\n",
       "2  0.641294  0.358706\n",
       "3  0.568388  0.431612\n",
       "4  0.751751  0.248249"
      ]
     },
     "execution_count": 270,
     "metadata": {},
     "output_type": "execute_result"
    }
   ],
   "source": [
    "# A:\n",
    "pp_df = pd.DataFrame(pred_prob, columns=['female','male'])\n",
    "pp_df.head()"
   ]
  },
  {
   "cell_type": "code",
   "execution_count": 271,
   "metadata": {},
   "outputs": [
    {
     "name": "stdout",
     "output_type": "stream",
     "text": [
      "('Threshold: ', 0.01, ', False Positive = ', 213)\n",
      "('Threshold: ', 0.02, ', False Positive = ', 213)\n",
      "('Threshold: ', 0.03, ', False Positive = ', 213)\n",
      "('Threshold: ', 0.04, ', False Positive = ', 213)\n",
      "('Threshold: ', 0.05, ', False Positive = ', 213)\n",
      "('Threshold: ', 0.06, ', False Positive = ', 213)\n",
      "('Threshold: ', 0.07, ', False Positive = ', 213)\n",
      "('Threshold: ', 0.08, ', False Positive = ', 213)\n",
      "('Threshold: ', 0.09, ', False Positive = ', 213)\n",
      "('Threshold: ', 0.1, ', False Positive = ', 213)\n",
      "('Threshold: ', 0.11, ', False Positive = ', 213)\n",
      "('Threshold: ', 0.12, ', False Positive = ', 213)\n",
      "('Threshold: ', 0.13, ', False Positive = ', 212)\n",
      "('Threshold: ', 0.14, ', False Positive = ', 212)\n",
      "('Threshold: ', 0.15, ', False Positive = ', 212)\n",
      "('Threshold: ', 0.16, ', False Positive = ', 212)\n",
      "('Threshold: ', 0.17, ', False Positive = ', 212)\n",
      "('Threshold: ', 0.18, ', False Positive = ', 212)\n",
      "('Threshold: ', 0.19, ', False Positive = ', 212)\n",
      "('Threshold: ', 0.2, ', False Positive = ', 212)\n",
      "('Threshold: ', 0.21, ', False Positive = ', 212)\n",
      "('Threshold: ', 0.22, ', False Positive = ', 212)\n",
      "('Threshold: ', 0.23, ', False Positive = ', 212)\n",
      "('Threshold: ', 0.24, ', False Positive = ', 208)\n",
      "('Threshold: ', 0.25, ', False Positive = ', 206)\n",
      "('Threshold: ', 0.26, ', False Positive = ', 204)\n",
      "('Threshold: ', 0.27, ', False Positive = ', 201)\n",
      "('Threshold: ', 0.28, ', False Positive = ', 196)\n",
      "('Threshold: ', 0.29, ', False Positive = ', 193)\n",
      "('Threshold: ', 0.3, ', False Positive = ', 189)\n",
      "('Threshold: ', 0.31, ', False Positive = ', 185)\n",
      "('Threshold: ', 0.32, ', False Positive = ', 182)\n",
      "('Threshold: ', 0.33, ', False Positive = ', 180)\n",
      "('Threshold: ', 0.34, ', False Positive = ', 179)\n",
      "('Threshold: ', 0.35, ', False Positive = ', 177)\n",
      "('Threshold: ', 0.36, ', False Positive = ', 173)\n",
      "('Threshold: ', 0.37, ', False Positive = ', 169)\n",
      "('Threshold: ', 0.38, ', False Positive = ', 164)\n",
      "('Threshold: ', 0.39, ', False Positive = ', 161)\n",
      "('Threshold: ', 0.4, ', False Positive = ', 155)\n",
      "('Threshold: ', 0.41, ', False Positive = ', 151)\n",
      "('Threshold: ', 0.42, ', False Positive = ', 146)\n",
      "('Threshold: ', 0.43, ', False Positive = ', 135)\n",
      "('Threshold: ', 0.44, ', False Positive = ', 132)\n",
      "('Threshold: ', 0.45, ', False Positive = ', 124)\n",
      "('Threshold: ', 0.46, ', False Positive = ', 117)\n",
      "('Threshold: ', 0.47, ', False Positive = ', 112)\n",
      "('Threshold: ', 0.48, ', False Positive = ', 108)\n",
      "('Threshold: ', 0.49, ', False Positive = ', 100)\n",
      "('Threshold: ', 0.5, ', False Positive = ', 94)\n",
      "('Threshold: ', 0.51, ', False Positive = ', 89)\n",
      "('Threshold: ', 0.52, ', False Positive = ', 83)\n",
      "('Threshold: ', 0.53, ', False Positive = ', 80)\n",
      "('Threshold: ', 0.54, ', False Positive = ', 77)\n",
      "('Threshold: ', 0.55, ', False Positive = ', 76)\n",
      "('Threshold: ', 0.56, ', False Positive = ', 71)\n",
      "('Threshold: ', 0.57, ', False Positive = ', 68)\n",
      "('Threshold: ', 0.58, ', False Positive = ', 57)\n",
      "('Threshold: ', 0.59, ', False Positive = ', 54)\n",
      "('Threshold: ', 0.6, ', False Positive = ', 46)\n",
      "('Threshold: ', 0.61, ', False Positive = ', 44)\n",
      "('Threshold: ', 0.62, ', False Positive = ', 41)\n",
      "('Threshold: ', 0.63, ', False Positive = ', 38)\n",
      "('Threshold: ', 0.64, ', False Positive = ', 34)\n",
      "('Threshold: ', 0.65, ', False Positive = ', 32)\n",
      "('Threshold: ', 0.66, ', False Positive = ', 29)\n",
      "('Threshold: ', 0.67, ', False Positive = ', 29)\n",
      "('Threshold: ', 0.68, ', False Positive = ', 26)\n",
      "('Threshold: ', 0.69, ', False Positive = ', 24)\n",
      "('Threshold: ', 0.7, ', False Positive = ', 20)\n",
      "('Threshold: ', 0.71, ', False Positive = ', 18)\n",
      "('Threshold: ', 0.72, ', False Positive = ', 13)\n",
      "('Threshold: ', 0.73, ', False Positive = ', 13)\n",
      "('Threshold: ', 0.74, ', False Positive = ', 12)\n",
      "('Threshold: ', 0.75, ', False Positive = ', 10)\n",
      "('Threshold: ', 0.76, ', False Positive = ', 8)\n",
      "('Threshold: ', 0.77, ', False Positive = ', 8)\n",
      "('Threshold: ', 0.78, ', False Positive = ', 6)\n",
      "('Threshold: ', 0.79, ', False Positive = ', 5)\n",
      "('Threshold: ', 0.8, ', False Positive = ', 3)\n",
      "('Threshold: ', 0.81, ', False Positive = ', 3)\n",
      "('Threshold: ', 0.82, ', False Positive = ', 3)\n",
      "('Threshold: ', 0.83, ', False Positive = ', 2)\n",
      "('Threshold: ', 0.84, ', False Positive = ', 1)\n",
      "('Threshold: ', 0.85, ', False Positive = ', 1)\n",
      "('Threshold: ', 0.86, ', False Positive = ', 0)\n",
      "('Threshold: ', 0.87, ', False Positive = ', 0)\n",
      "('Threshold: ', 0.88, ', False Positive = ', 0)\n",
      "('Threshold: ', 0.89, ', False Positive = ', 0)\n",
      "('Threshold: ', 0.9, ', False Positive = ', 0)\n",
      "('Threshold: ', 0.91, ', False Positive = ', 0)\n",
      "('Threshold: ', 0.92, ', False Positive = ', 0)\n",
      "('Threshold: ', 0.93, ', False Positive = ', 0)\n",
      "('Threshold: ', 0.94, ', False Positive = ', 0)\n",
      "('Threshold: ', 0.95, ', False Positive = ', 0)\n",
      "('Threshold: ', 0.96, ', False Positive = ', 0)\n",
      "('Threshold: ', 0.97, ', False Positive = ', 0)\n",
      "('Threshold: ', 0.98, ', False Positive = ', 0)\n",
      "('Threshold: ', 0.99, ', False Positive = ', 0)\n"
     ]
    }
   ],
   "source": [
    "for thresh in np.arange(1,100)/100.:\n",
    "    male_label = np.array([1 if x >= round(thresh,2) else 0 for x in pp_df.male.values])\n",
    "    print('Threshold: ', round(thresh,2), ', False Positive = ', np.sum((y_test==0) & (male_label==1)))"
   ]
  },
  {
   "cell_type": "markdown",
   "metadata": {},
   "source": [
    "### 8. Plot an ROC curve using your predicted probabilities on the test data.\n",
    "\n",
    "Calculate the area under the curve.\n",
    "\n",
    "> *Hint: go back to the lecture to find code for plotting the ROC curve.*"
   ]
  },
  {
   "cell_type": "code",
   "execution_count": 272,
   "metadata": {
    "collapsed": true
   },
   "outputs": [],
   "source": [
    "from sklearn.metrics import roc_curve, auc"
   ]
  },
  {
   "cell_type": "code",
   "execution_count": 275,
   "metadata": {
    "collapsed": true
   },
   "outputs": [],
   "source": [
    "# A:\n",
    "fpr, tpr, _ = roc_curve(y_test, pred_prob[:,1])\n",
    "roc_auc = auc(fpr, tpr)"
   ]
  },
  {
   "cell_type": "code",
   "execution_count": 276,
   "metadata": {},
   "outputs": [
    {
     "data": {
      "image/png": "[encoded data removed]",
      "text/plain": [
       "<matplotlib.figure.Figure at 0x10c031e90>"
      ]
     },
     "metadata": {
      "image/png": {
       "height": 506,
       "width": 512
      }
     },
     "output_type": "display_data"
    }
   ],
   "source": [
    "plt.figure(figsize=[8,8])\n",
    "plt.plot(fpr, tpr, label='ROC curve (area = %0.2f)' % roc_auc, linewidth=4)\n",
    "plt.plot([0, 1], [0, 1], 'k--', linewidth=4)\n",
    "plt.xlim([-0.05, 1.0])\n",
    "plt.ylim([-0.05, 1.05])\n",
    "plt.xlabel('False Positive Rate', fontsize=18)\n",
    "plt.ylabel('True Positive Rate', fontsize=18)\n",
    "plt.title('Receiver operating characteristic: is male', fontsize=18)\n",
    "plt.legend(loc=\"lower right\")\n",
    "plt.show()"
   ]
  },
  {
   "cell_type": "markdown",
   "metadata": {},
   "source": [
    "### 9. Cross-validate a logistic regression with a Ridge penalty.\n",
    "\n",
    "Logistic regression can also use the Ridge penalty. Sklearn's `LogisticRegressionCV` class will help you cross-validate an appropriate regularization strength.\n",
    "\n",
    "**Important `LogisticRegressionCV` arguments:**\n",
    "- `penalty`: this can be one of `'l1'` or `'l2'`. L1 is the Lasso, and L2 is the Ridge.\n",
    "- `Cs`: How many different (automatically-selected) regularization strengths should be tested.\n",
    "- `cv`: How many cross-validation folds should be used to test regularization strength.\n",
    "- `solver`: When using the lasso penalty, this should be set to `'liblinear'`\n",
    "\n",
    "> **Note:** The `C` regularization strength is the *inverse* of alpha. That is to say, `C = 1./alpha`"
   ]
  },
  {
   "cell_type": "code",
   "execution_count": 277,
   "metadata": {
    "collapsed": true
   },
   "outputs": [],
   "source": [
    "from sklearn.linear_model import LogisticRegressionCV"
   ]
  },
  {
   "cell_type": "code",
   "execution_count": 278,
   "metadata": {},
   "outputs": [
    {
     "data": {
      "text/plain": [
       "LogisticRegressionCV(Cs=200, class_weight=None, cv=25, dual=False,\n",
       "           fit_intercept=True, intercept_scaling=1.0, max_iter=100,\n",
       "           multi_class='ovr', n_jobs=1, penalty='l2', random_state=None,\n",
       "           refit=True, scoring=None, solver='lbfgs', tol=0.0001, verbose=0)"
      ]
     },
     "execution_count": 278,
     "metadata": {},
     "output_type": "execute_result"
    }
   ],
   "source": [
    "# A:\n",
    "lr_ridge = LogisticRegressionCV(penalty='l2', Cs=200, cv=25)\n",
    "lr_ridge.fit(X_train, y_train)"
   ]
  },
  {
   "cell_type": "code",
   "execution_count": 279,
   "metadata": {},
   "outputs": [
    {
     "name": "stdout",
     "output_type": "stream",
     "text": [
      "[ 0.00255291]\n"
     ]
    }
   ],
   "source": [
    "print lr_ridge.C_"
   ]
  },
  {
   "cell_type": "markdown",
   "metadata": {},
   "source": [
    "**9.B Calculate the predicted labels and predicted probabilities on the test set with the Ridge logisitic regression.**"
   ]
  },
  {
   "cell_type": "code",
   "execution_count": 280,
   "metadata": {
    "collapsed": true
   },
   "outputs": [],
   "source": [
    "# A:\n",
    "ridge_pred = lr_ridge.predict(X_test)\n",
    "ridge_pp = lr_ridge.predict_proba(X_test)"
   ]
  },
  {
   "cell_type": "markdown",
   "metadata": {},
   "source": [
    "**9.C Construct the confusion matrix for the Ridge LR.**"
   ]
  },
  {
   "cell_type": "code",
   "execution_count": 281,
   "metadata": {},
   "outputs": [
    {
     "data": {
      "text/html": [
       "<div>\n",
       "<style scoped>\n",
       "    .dataframe tbody tr th:only-of-type {\n",
       "        vertical-align: middle;\n",
       "    }\n",
       "\n",
       "    .dataframe tbody tr th {\n",
       "        vertical-align: top;\n",
       "    }\n",
       "\n",
       "    .dataframe thead th {\n",
       "        text-align: right;\n",
       "    }\n",
       "</style>\n",
       "<table border=\"1\" class=\"dataframe\">\n",
       "  <thead>\n",
       "    <tr style=\"text-align: right;\">\n",
       "      <th></th>\n",
       "      <th>predicted_male</th>\n",
       "      <th>predicted_female</th>\n",
       "    </tr>\n",
       "  </thead>\n",
       "  <tbody>\n",
       "    <tr>\n",
       "      <th>is_male</th>\n",
       "      <td>185</td>\n",
       "      <td>91</td>\n",
       "    </tr>\n",
       "    <tr>\n",
       "      <th>is_female</th>\n",
       "      <td>94</td>\n",
       "      <td>119</td>\n",
       "    </tr>\n",
       "  </tbody>\n",
       "</table>\n",
       "</div>"
      ],
      "text/plain": [
       "           predicted_male  predicted_female\n",
       "is_male               185                91\n",
       "is_female              94               119"
      ]
     },
     "execution_count": 281,
     "metadata": {},
     "output_type": "execute_result"
    }
   ],
   "source": [
    "cm_df"
   ]
  },
  {
   "cell_type": "code",
   "execution_count": 283,
   "metadata": {},
   "outputs": [
    {
     "data": {
      "text/html": [
       "<div>\n",
       "<style scoped>\n",
       "    .dataframe tbody tr th:only-of-type {\n",
       "        vertical-align: middle;\n",
       "    }\n",
       "\n",
       "    .dataframe tbody tr th {\n",
       "        vertical-align: top;\n",
       "    }\n",
       "\n",
       "    .dataframe thead th {\n",
       "        text-align: right;\n",
       "    }\n",
       "</style>\n",
       "<table border=\"1\" class=\"dataframe\">\n",
       "  <thead>\n",
       "    <tr style=\"text-align: right;\">\n",
       "      <th></th>\n",
       "      <th>predicted_male</th>\n",
       "      <th>predicted_female</th>\n",
       "    </tr>\n",
       "  </thead>\n",
       "  <tbody>\n",
       "    <tr>\n",
       "      <th>is_male</th>\n",
       "      <td>228</td>\n",
       "      <td>48</td>\n",
       "    </tr>\n",
       "    <tr>\n",
       "      <th>is_female</th>\n",
       "      <td>135</td>\n",
       "      <td>78</td>\n",
       "    </tr>\n",
       "  </tbody>\n",
       "</table>\n",
       "</div>"
      ],
      "text/plain": [
       "           predicted_male  predicted_female\n",
       "is_male               228                48\n",
       "is_female             135                78"
      ]
     },
     "execution_count": 283,
     "metadata": {},
     "output_type": "execute_result"
    }
   ],
   "source": [
    "# A:\n",
    "ridge_cm = confusion_matrix(y_test, ridge_pred, labels=[1,0])\n",
    "ridge_cm_df = pd.DataFrame(ridge_cm, index=['is_male','is_female'], columns=['predicted_male','predicted_female'])\n",
    "ridge_cm_df"
   ]
  },
  {
   "cell_type": "markdown",
   "metadata": {},
   "source": [
    "### 10. Plot the ROC curve for the original and Ridge logistic regressions on the same plot.\n",
    "\n",
    "Which performs better?"
   ]
  },
  {
   "cell_type": "code",
   "execution_count": 284,
   "metadata": {
    "collapsed": true
   },
   "outputs": [],
   "source": [
    "ridge_fpr, ridge_tpr, _ = roc_curve(y_test, ridge_pp[:,1])\n",
    "ridge_roc_auc = auc(ridge_fpr, ridge_tpr)"
   ]
  },
  {
   "cell_type": "code",
   "execution_count": 285,
   "metadata": {},
   "outputs": [
    {
     "data": {
      "image/png": "[encoded data removed]",
      "text/plain": [
       "<matplotlib.figure.Figure at 0x10c046a10>"
      ]
     },
     "metadata": {
      "image/png": {
       "height": 506,
       "width": 512
      }
     },
     "output_type": "display_data"
    }
   ],
   "source": [
    "# A:\n",
    "plt.figure(figsize=[8,8])\n",
    "plt.plot(fpr, tpr, label='ROC curve (area = %0.2f)' % roc_auc, linewidth=4)\n",
    "plt.plot(ridge_fpr, ridge_tpr, label='Ridge ROC curve (area = %0.2f)' % ridge_roc_auc, linewidth=4, color='darkred')\n",
    "\n",
    "plt.plot([0, 1], [0, 1], 'k--', linewidth=4)\n",
    "plt.xlim([-0.05, 1.0])\n",
    "plt.ylim([-0.05, 1.05])\n",
    "plt.xlabel('False Positive Rate', fontsize=18)\n",
    "plt.ylabel('True Positive Rate', fontsize=18)\n",
    "plt.title('Receiver operating characteristic: is male', fontsize=18)\n",
    "plt.legend(loc=\"lower right\")\n",
    "plt.show()"
   ]
  },
  {
   "cell_type": "markdown",
   "metadata": {},
   "source": [
    "### 11. Cross-validate a Lasso logistic regression.\n",
    "\n",
    "**Remember:**\n",
    "- `penalty` must be set to `'l1'`\n",
    "- `solver` must be set to `'liblinear'`\n",
    "\n",
    "> **Note:** The lasso penalty can be considerably slower. You may want to try fewer Cs or use fewer cv folds."
   ]
  },
  {
   "cell_type": "code",
   "execution_count": 290,
   "metadata": {},
   "outputs": [
    {
     "data": {
      "text/plain": [
       "LogisticRegressionCV(Cs=200, class_weight=None, cv=25, dual=False,\n",
       "           fit_intercept=True, intercept_scaling=1.0, max_iter=100,\n",
       "           multi_class='ovr', n_jobs=1, penalty='l1', random_state=None,\n",
       "           refit=True, scoring=None, solver='liblinear', tol=0.0001,\n",
       "           verbose=0)"
      ]
     },
     "execution_count": 290,
     "metadata": {},
     "output_type": "execute_result"
    }
   ],
   "source": [
    "# A:\n",
    "lr_ridge = LogisticRegressionCV(penalty='l1', Cs=200, cv=25,solver='liblinear')\n",
    "lr_ridge.fit(X_train, y_train)"
   ]
  },
  {
   "cell_type": "code",
   "execution_count": 291,
   "metadata": {},
   "outputs": [
    {
     "data": {
      "text/plain": [
       "array([ 0.07842822])"
      ]
     },
     "execution_count": 291,
     "metadata": {},
     "output_type": "execute_result"
    }
   ],
   "source": [
    "lr_ridge.C_"
   ]
  },
  {
   "cell_type": "markdown",
   "metadata": {},
   "source": [
    "### 12. Make the confusion matrix for the Lasso model."
   ]
  },
  {
   "cell_type": "code",
   "execution_count": 294,
   "metadata": {
    "collapsed": true
   },
   "outputs": [],
   "source": [
    "# A:\n",
    "lr_pred = lr_ridge.predict(X_test)\n",
    "lr_pp = lr_ridge.predict_proba(X_test)"
   ]
  },
  {
   "cell_type": "code",
   "execution_count": 295,
   "metadata": {},
   "outputs": [
    {
     "data": {
      "text/html": [
       "<div>\n",
       "<style scoped>\n",
       "    .dataframe tbody tr th:only-of-type {\n",
       "        vertical-align: middle;\n",
       "    }\n",
       "\n",
       "    .dataframe tbody tr th {\n",
       "        vertical-align: top;\n",
       "    }\n",
       "\n",
       "    .dataframe thead th {\n",
       "        text-align: right;\n",
       "    }\n",
       "</style>\n",
       "<table border=\"1\" class=\"dataframe\">\n",
       "  <thead>\n",
       "    <tr style=\"text-align: right;\">\n",
       "      <th></th>\n",
       "      <th>predicted_male</th>\n",
       "      <th>predicted_female</th>\n",
       "    </tr>\n",
       "  </thead>\n",
       "  <tbody>\n",
       "    <tr>\n",
       "      <th>is_male</th>\n",
       "      <td>166</td>\n",
       "      <td>110</td>\n",
       "    </tr>\n",
       "    <tr>\n",
       "      <th>is_female</th>\n",
       "      <td>78</td>\n",
       "      <td>135</td>\n",
       "    </tr>\n",
       "  </tbody>\n",
       "</table>\n",
       "</div>"
      ],
      "text/plain": [
       "           predicted_male  predicted_female\n",
       "is_male               166               110\n",
       "is_female              78               135"
      ]
     },
     "execution_count": 295,
     "metadata": {},
     "output_type": "execute_result"
    }
   ],
   "source": [
    "lr_cm = confusion_matrix(y_test, lr_pred, labels=[1,0])\n",
    "lr_cm_df = pd.DataFrame(lr_cm, index=['is_male','is_female'], columns=['predicted_male','predicted_female'])\n",
    "lr_cm_df"
   ]
  },
  {
   "cell_type": "markdown",
   "metadata": {},
   "source": [
    "### 13. Plot all three logistic regression models on the same ROC plot.\n",
    "\n",
    "Which is the best? (if any)"
   ]
  },
  {
   "cell_type": "code",
   "execution_count": 297,
   "metadata": {
    "collapsed": true
   },
   "outputs": [],
   "source": [
    "# A:\n",
    "lr_fpr, lr_tpr, _ = roc_curve(y_test, lr_pp[:,1])\n",
    "lr_roc_auc = auc(lr_fpr, lr_tpr)"
   ]
  },
  {
   "cell_type": "code",
   "execution_count": 298,
   "metadata": {},
   "outputs": [
    {
     "data": {
      "image/png": "[encoded data removed]",
      "text/plain": [
       "<matplotlib.figure.Figure at 0x10c0d20d0>"
      ]
     },
     "metadata": {
      "image/png": {
       "height": 506,
       "width": 512
      }
     },
     "output_type": "display_data"
    }
   ],
   "source": [
    "plt.figure(figsize=[8,8])\n",
    "plt.plot(fpr, tpr, label='ROC curve (area = %0.2f)' % roc_auc, linewidth=4)\n",
    "plt.plot(ridge_fpr, ridge_tpr, label='Ridge ROC curve (area = %0.2f)' % ridge_roc_auc, linewidth=4, color='darkred')\n",
    "plt.plot(lr_fpr, lr_tpr, label='Lasso ROC curve (area = %0.2f)' % lr_roc_auc, linewidth=4, color='darkorange')\n",
    "\n",
    "plt.plot([0, 1], [0, 1], 'k--', linewidth=4)\n",
    "plt.xlim([-0.05, 1.0])\n",
    "plt.ylim([-0.05, 1.05])\n",
    "plt.xlabel('False Positive Rate', fontsize=18)\n",
    "plt.ylabel('True Positive Rate', fontsize=18)\n",
    "plt.title('Receiver operating characteristic: is male', fontsize=18)\n",
    "plt.legend(loc=\"lower right\")\n",
    "plt.show()"
   ]
  },
  {
   "cell_type": "markdown",
   "metadata": {},
   "source": [
    "### 14. Look at the coefficients for the Lasso logistic regression model. Which variables are the most important?"
   ]
  },
  {
   "cell_type": "code",
   "execution_count": 302,
   "metadata": {},
   "outputs": [
    {
     "data": {
      "text/plain": [
       "(1, 34)"
      ]
     },
     "execution_count": 302,
     "metadata": {},
     "output_type": "execute_result"
    }
   ],
   "source": [
    "lr_ridge.coef_.shape"
   ]
  },
  {
   "cell_type": "code",
   "execution_count": 303,
   "metadata": {},
   "outputs": [
    {
     "data": {
      "text/html": [
       "<div>\n",
       "<style scoped>\n",
       "    .dataframe tbody tr th:only-of-type {\n",
       "        vertical-align: middle;\n",
       "    }\n",
       "\n",
       "    .dataframe tbody tr th {\n",
       "        vertical-align: top;\n",
       "    }\n",
       "\n",
       "    .dataframe thead th {\n",
       "        text-align: right;\n",
       "    }\n",
       "</style>\n",
       "<table border=\"1\" class=\"dataframe\">\n",
       "  <thead>\n",
       "    <tr style=\"text-align: right;\">\n",
       "      <th></th>\n",
       "      <th>abs_coef</th>\n",
       "      <th>coef</th>\n",
       "      <th>predictors</th>\n",
       "    </tr>\n",
       "  </thead>\n",
       "  <tbody>\n",
       "    <tr>\n",
       "      <th>14</th>\n",
       "      <td>0.329240</td>\n",
       "      <td>-0.329240</td>\n",
       "      <td>Q15</td>\n",
       "    </tr>\n",
       "    <tr>\n",
       "      <th>8</th>\n",
       "      <td>0.065194</td>\n",
       "      <td>0.065194</td>\n",
       "      <td>Q9</td>\n",
       "    </tr>\n",
       "    <tr>\n",
       "      <th>3</th>\n",
       "      <td>0.064260</td>\n",
       "      <td>0.064260</td>\n",
       "      <td>Q4</td>\n",
       "    </tr>\n",
       "    <tr>\n",
       "      <th>6</th>\n",
       "      <td>0.059880</td>\n",
       "      <td>-0.059880</td>\n",
       "      <td>Q7</td>\n",
       "    </tr>\n",
       "    <tr>\n",
       "      <th>0</th>\n",
       "      <td>0.000000</td>\n",
       "      <td>0.000000</td>\n",
       "      <td>Q1</td>\n",
       "    </tr>\n",
       "    <tr>\n",
       "      <th>26</th>\n",
       "      <td>0.000000</td>\n",
       "      <td>0.000000</td>\n",
       "      <td>Q27</td>\n",
       "    </tr>\n",
       "    <tr>\n",
       "      <th>21</th>\n",
       "      <td>0.000000</td>\n",
       "      <td>0.000000</td>\n",
       "      <td>Q22</td>\n",
       "    </tr>\n",
       "    <tr>\n",
       "      <th>22</th>\n",
       "      <td>0.000000</td>\n",
       "      <td>0.000000</td>\n",
       "      <td>Q23</td>\n",
       "    </tr>\n",
       "    <tr>\n",
       "      <th>23</th>\n",
       "      <td>0.000000</td>\n",
       "      <td>0.000000</td>\n",
       "      <td>Q24</td>\n",
       "    </tr>\n",
       "    <tr>\n",
       "      <th>24</th>\n",
       "      <td>0.000000</td>\n",
       "      <td>0.000000</td>\n",
       "      <td>Q25</td>\n",
       "    </tr>\n",
       "    <tr>\n",
       "      <th>25</th>\n",
       "      <td>0.000000</td>\n",
       "      <td>0.000000</td>\n",
       "      <td>Q26</td>\n",
       "    </tr>\n",
       "    <tr>\n",
       "      <th>28</th>\n",
       "      <td>0.000000</td>\n",
       "      <td>0.000000</td>\n",
       "      <td>Q29</td>\n",
       "    </tr>\n",
       "    <tr>\n",
       "      <th>27</th>\n",
       "      <td>0.000000</td>\n",
       "      <td>0.000000</td>\n",
       "      <td>Q28</td>\n",
       "    </tr>\n",
       "    <tr>\n",
       "      <th>19</th>\n",
       "      <td>0.000000</td>\n",
       "      <td>0.000000</td>\n",
       "      <td>Q20</td>\n",
       "    </tr>\n",
       "    <tr>\n",
       "      <th>29</th>\n",
       "      <td>0.000000</td>\n",
       "      <td>0.000000</td>\n",
       "      <td>Q30</td>\n",
       "    </tr>\n",
       "    <tr>\n",
       "      <th>30</th>\n",
       "      <td>0.000000</td>\n",
       "      <td>0.000000</td>\n",
       "      <td>Q31</td>\n",
       "    </tr>\n",
       "    <tr>\n",
       "      <th>31</th>\n",
       "      <td>0.000000</td>\n",
       "      <td>0.000000</td>\n",
       "      <td>Q32</td>\n",
       "    </tr>\n",
       "    <tr>\n",
       "      <th>32</th>\n",
       "      <td>0.000000</td>\n",
       "      <td>0.000000</td>\n",
       "      <td>age</td>\n",
       "    </tr>\n",
       "    <tr>\n",
       "      <th>20</th>\n",
       "      <td>0.000000</td>\n",
       "      <td>0.000000</td>\n",
       "      <td>Q21</td>\n",
       "    </tr>\n",
       "    <tr>\n",
       "      <th>17</th>\n",
       "      <td>0.000000</td>\n",
       "      <td>0.000000</td>\n",
       "      <td>Q18</td>\n",
       "    </tr>\n",
       "    <tr>\n",
       "      <th>18</th>\n",
       "      <td>0.000000</td>\n",
       "      <td>0.000000</td>\n",
       "      <td>Q19</td>\n",
       "    </tr>\n",
       "    <tr>\n",
       "      <th>1</th>\n",
       "      <td>0.000000</td>\n",
       "      <td>0.000000</td>\n",
       "      <td>Q2</td>\n",
       "    </tr>\n",
       "    <tr>\n",
       "      <th>16</th>\n",
       "      <td>0.000000</td>\n",
       "      <td>0.000000</td>\n",
       "      <td>Q17</td>\n",
       "    </tr>\n",
       "    <tr>\n",
       "      <th>15</th>\n",
       "      <td>0.000000</td>\n",
       "      <td>0.000000</td>\n",
       "      <td>Q16</td>\n",
       "    </tr>\n",
       "    <tr>\n",
       "      <th>13</th>\n",
       "      <td>0.000000</td>\n",
       "      <td>0.000000</td>\n",
       "      <td>Q14</td>\n",
       "    </tr>\n",
       "    <tr>\n",
       "      <th>12</th>\n",
       "      <td>0.000000</td>\n",
       "      <td>0.000000</td>\n",
       "      <td>Q13</td>\n",
       "    </tr>\n",
       "    <tr>\n",
       "      <th>11</th>\n",
       "      <td>0.000000</td>\n",
       "      <td>0.000000</td>\n",
       "      <td>Q12</td>\n",
       "    </tr>\n",
       "    <tr>\n",
       "      <th>10</th>\n",
       "      <td>0.000000</td>\n",
       "      <td>0.000000</td>\n",
       "      <td>Q11</td>\n",
       "    </tr>\n",
       "    <tr>\n",
       "      <th>9</th>\n",
       "      <td>0.000000</td>\n",
       "      <td>0.000000</td>\n",
       "      <td>Q10</td>\n",
       "    </tr>\n",
       "    <tr>\n",
       "      <th>7</th>\n",
       "      <td>0.000000</td>\n",
       "      <td>0.000000</td>\n",
       "      <td>Q8</td>\n",
       "    </tr>\n",
       "    <tr>\n",
       "      <th>5</th>\n",
       "      <td>0.000000</td>\n",
       "      <td>0.000000</td>\n",
       "      <td>Q6</td>\n",
       "    </tr>\n",
       "    <tr>\n",
       "      <th>4</th>\n",
       "      <td>0.000000</td>\n",
       "      <td>0.000000</td>\n",
       "      <td>Q5</td>\n",
       "    </tr>\n",
       "    <tr>\n",
       "      <th>2</th>\n",
       "      <td>0.000000</td>\n",
       "      <td>0.000000</td>\n",
       "      <td>Q3</td>\n",
       "    </tr>\n",
       "    <tr>\n",
       "      <th>33</th>\n",
       "      <td>0.000000</td>\n",
       "      <td>0.000000</td>\n",
       "      <td>accuracy</td>\n",
       "    </tr>\n",
       "  </tbody>\n",
       "</table>\n",
       "</div>"
      ],
      "text/plain": [
       "    abs_coef      coef predictors\n",
       "14  0.329240 -0.329240        Q15\n",
       "8   0.065194  0.065194         Q9\n",
       "3   0.064260  0.064260         Q4\n",
       "6   0.059880 -0.059880         Q7\n",
       "0   0.000000  0.000000         Q1\n",
       "26  0.000000  0.000000        Q27\n",
       "21  0.000000  0.000000        Q22\n",
       "22  0.000000  0.000000        Q23\n",
       "23  0.000000  0.000000        Q24\n",
       "24  0.000000  0.000000        Q25\n",
       "25  0.000000  0.000000        Q26\n",
       "28  0.000000  0.000000        Q29\n",
       "27  0.000000  0.000000        Q28\n",
       "19  0.000000  0.000000        Q20\n",
       "29  0.000000  0.000000        Q30\n",
       "30  0.000000  0.000000        Q31\n",
       "31  0.000000  0.000000        Q32\n",
       "32  0.000000  0.000000        age\n",
       "20  0.000000  0.000000        Q21\n",
       "17  0.000000  0.000000        Q18\n",
       "18  0.000000  0.000000        Q19\n",
       "1   0.000000  0.000000         Q2\n",
       "16  0.000000  0.000000        Q17\n",
       "15  0.000000  0.000000        Q16\n",
       "13  0.000000  0.000000        Q14\n",
       "12  0.000000  0.000000        Q13\n",
       "11  0.000000  0.000000        Q12\n",
       "10  0.000000  0.000000        Q11\n",
       "9   0.000000  0.000000        Q10\n",
       "7   0.000000  0.000000         Q8\n",
       "5   0.000000  0.000000         Q6\n",
       "4   0.000000  0.000000         Q5\n",
       "2   0.000000  0.000000         Q3\n",
       "33  0.000000  0.000000   accuracy"
      ]
     },
     "execution_count": 303,
     "metadata": {},
     "output_type": "execute_result"
    }
   ],
   "source": [
    "# A:\n",
    "lr_betas = pd.DataFrame({'predictors':X.columns,'coef':lr_ridge.coef_[0],'abs_coef':np.abs(lr_ridge.coef_[0])})\n",
    "lr_betas.sort_values('abs_coef', ascending=False, inplace=True)\n",
    "lr_betas"
   ]
  },
  {
   "cell_type": "code",
   "execution_count": null,
   "metadata": {
    "collapsed": true
   },
   "outputs": [],
   "source": [
    "# Question 15 has the most effect in the model\n",
    "# I do not like it when people use humor as a way of criticizing or putting someone down.\n",
    "# Higher score, meaning the more the surveyer agrees with this statement, \n",
    "# indicates higher likelihood of surveyer being female with all other variables constant"
   ]
  }
 ],
 "metadata": {
  "kernelspec": {
   "display_name": "Python 2",
   "language": "python",
   "name": "python2"
  },
  "language_info": {
   "codemirror_mode": {
    "name": "ipython",
    "version": 2
   },
   "file_extension": ".py",
   "mimetype": "text/x-python",
   "name": "python",
   "nbconvert_exporter": "python",
   "pygments_lexer": "ipython2",
   "version": "2.7.11"
  }
 },
 "nbformat": 4,
 "nbformat_minor": 2
}
