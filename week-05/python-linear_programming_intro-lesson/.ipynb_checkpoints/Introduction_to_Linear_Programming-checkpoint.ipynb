{
 "cells": [
  {
   "cell_type": "markdown",
   "metadata": {},
   "source": [
    "# Introduction to Linear Programming\n",
    "## Install ```pulp``` package"
   ]
  },
  {
   "cell_type": "markdown",
   "metadata": {},
   "source": [
    "PuLP is an Linear Programming modeler written in python. PuLP can generate MPS (Mathematical Programming System) or LP files and thereafter call [GLPK](http://www.gnu.org/software/glpk/glpk.html), [COIN CLP/CBC](http://www.coin-or.org), [CPLEX](http://www.cplex.com), and [GUROBI](http://www.gurobi.com) to solve linear problems.\n",
    "> Documentation: https://pythonhosted.org/PuLP/."
   ]
  },
  {
   "cell_type": "code",
   "execution_count": 1,
   "metadata": {},
   "outputs": [],
   "source": [
    "# !conda install -c agerlach pulp --yes\n",
    "# uncomment the line above to install pulp package"
   ]
  },
  {
   "cell_type": "markdown",
   "metadata": {},
   "source": [
    "## Example 1\n",
    "### Wooden toys\n",
    "\n",
    "> Giapetto’s Woodcarving, Inc., manufactures two types of wooden toys: soldiers and trains.\n",
    "\n",
    "> A soldier sells for 27 dollars and uses 10 dollars worth of raw materials. Each soldier that is manufactured increases Giapetto’s variable labor and overhead costs by 14 dollars. \n",
    "\n",
    "> * A train sells for 21 dollars and uses 9 dollars worth of raw materials. Each train built increases Giapetto’s variable labour and overhead costs by 10 dollars. \n",
    "\n",
    "> * The manufacture of wooden soldiers and trains requires two types of skilled labour: carpentry and finishing. A soldier requires 2 hours of finishing labour and 1 hour of carpentry labor. \n",
    "> * A train requires 1 hour of finishing labor and 1 hour of carpentry labour. Each week, Giapetto can obtain all the needed raw material but only 100 finishing hours and 80 carpentry hours. \n",
    "> * Demand for trains is unlimited, but at most 40 soldiers are bought each week. Giapetto wants to maximize weekly profit (revenues-costs).\n",
    "\n",
    "### Objective\n",
    "Formulate a mathematical model of Giapetto’s situation that can be used to maximize Giapetto’s weekly profit.\n",
    "\n",
    "> Source: Winston, Wayne. [**Operations Research: Applications and Algorithms**](http://www.dphu.org/uploads/attachements/books/books_3337_0.pdf \"Operations Research: Applications and Algorithms\"), 4th ed. Belmont, CA: Duxbury Press, 2004"
   ]
  },
  {
   "cell_type": "code",
   "execution_count": 2,
   "metadata": {
    "collapsed": true
   },
   "outputs": [],
   "source": [
    "import numpy as np\n",
    "import pulp"
   ]
  },
  {
   "cell_type": "markdown",
   "metadata": {},
   "source": [
    "## Create new problems to solve\n",
    "Use ```LpProblem()``` to create new problems. Create \"myProblem\"\n",
    "\n",
    "```python\n",
    "prob = LpProblem(\"myProblem\", LpMinimize)\n",
    "```"
   ]
  },
  {
   "cell_type": "code",
   "execution_count": 3,
   "metadata": {},
   "outputs": [
    {
     "name": "stdout",
     "output_type": "stream",
     "text": [
      "Giapetto:\n",
      "MAXIMIZE\n",
      "None\n",
      "VARIABLES\n",
      "\n"
     ]
    }
   ],
   "source": [
    "# create the LP object, set up as a maximization problem\n",
    "my_objective = pulp.LpProblem('Giapetto', pulp.LpMaximize)\n",
    "\n",
    "print my_objective"
   ]
  },
  {
   "cell_type": "markdown",
   "metadata": {},
   "source": [
    "## Create new variables\n",
    "Use ```LpVariable()``` to create new variables. \n",
    "\n",
    "* To create a variable ```0 <= x <= 3```\n",
    "\n",
    "```python\n",
    "x = LpVariable(\"x\", 0, 3)```\n",
    "\n",
    "* To create a variable ```0 <= y <= 1```\n",
    "\n",
    "```python\n",
    "y = LpVariable(\"y\", 0, 1)\n",
    "```"
   ]
  },
  {
   "cell_type": "code",
   "execution_count": 4,
   "metadata": {},
   "outputs": [],
   "source": [
    "# set up decision variables\n",
    "\n",
    "soldiers = pulp.LpVariable('soldiers', lowBound=0, cat='Integer')\n",
    "trains = pulp.LpVariable('trains', lowBound=0, cat='Integer')"
   ]
  },
  {
   "cell_type": "markdown",
   "metadata": {},
   "source": [
    "Combine variables to create expressions and constraints and add them to the problem.\n",
    "\n",
    "```python\n",
    "prob += x + y <= 2\n",
    "```\n",
    "If you add an expression (not a constraint), it will become the objective.\n",
    "\n",
    "```python\n",
    "prob += -4*x + y\n",
    "```"
   ]
  },
  {
   "cell_type": "code",
   "execution_count": 5,
   "metadata": {
    "collapsed": true
   },
   "outputs": [],
   "source": [
    "# model weekly production costs\n",
    "raw_material_costs = 10 * soldiers + 9 * trains\n",
    "variable_costs = 14 * soldiers + 10 * trains\n",
    "\n",
    "# model weekly revenues from toy sales\n",
    "revenues = 27 * soldiers + 21 * trains\n",
    "\n",
    "# use weekly profit as the objective function to maximize\n",
    "profit = revenues - (raw_material_costs + variable_costs)"
   ]
  },
  {
   "cell_type": "markdown",
   "metadata": {},
   "source": [
    "## Add objective function\n",
    "Now we add in the objective function:"
   ]
  },
  {
   "cell_type": "code",
   "execution_count": 6,
   "metadata": {
    "collapsed": true
   },
   "outputs": [],
   "source": [
    "# here's where we actually add it to the objective function\n",
    "my_objective += profit"
   ]
  },
  {
   "cell_type": "markdown",
   "metadata": {},
   "source": [
    "## Add constraints"
   ]
  },
  {
   "cell_type": "code",
   "execution_count": 7,
   "metadata": {
    "collapsed": true
   },
   "outputs": [],
   "source": [
    "# add constraints for available labour hours\n",
    "carpentry_hours = soldiers + trains\n",
    "my_objective += (carpentry_hours <= 80)\n",
    "\n",
    "finishing_hours = 2*soldiers + trains\n",
    "my_objective += (finishing_hours <= 100)\n",
    "\n",
    "# add constraint representing demand for soldiers\n",
    "my_objective += (soldiers <= 40)"
   ]
  },
  {
   "cell_type": "markdown",
   "metadata": {},
   "source": [
    "## Verify objective\n",
    "Let's print out the problem and make sure we have everything:"
   ]
  },
  {
   "cell_type": "code",
   "execution_count": 8,
   "metadata": {
    "scrolled": true
   },
   "outputs": [
    {
     "name": "stdout",
     "output_type": "stream",
     "text": [
      "Giapetto:\n",
      "MAXIMIZE\n",
      "3*soldiers + 2*trains + 0\n",
      "SUBJECT TO\n",
      "_C1: soldiers + trains <= 80\n",
      "\n",
      "_C2: 2 soldiers + trains <= 100\n",
      "\n",
      "_C3: soldiers <= 40\n",
      "\n",
      "VARIABLES\n",
      "0 <= soldiers Integer\n",
      "0 <= trains Integer\n",
      "\n"
     ]
    }
   ],
   "source": [
    "print my_objective"
   ]
  },
  {
   "cell_type": "markdown",
   "metadata": {},
   "source": [
    "## Solve\n",
    "Looks good — now we solve the LP.\n"
   ]
  },
  {
   "cell_type": "code",
   "execution_count": 9,
   "metadata": {
    "collapsed": true
   },
   "outputs": [],
   "source": [
    "# solve the LP using the default solver\n",
    "optimization_result = my_objective.solve()"
   ]
  },
  {
   "cell_type": "markdown",
   "metadata": {},
   "source": [
    "## Verify optimal\n",
    "If not optimal solution, an AssertionError will be generated."
   ]
  },
  {
   "cell_type": "code",
   "execution_count": 10,
   "metadata": {
    "collapsed": true
   },
   "outputs": [],
   "source": [
    "# make sure we got an optimal solution\n",
    "assert optimization_result == pulp.LpStatusOptimal"
   ]
  },
  {
   "cell_type": "markdown",
   "metadata": {},
   "source": [
    "## The answer"
   ]
  },
  {
   "cell_type": "code",
   "execution_count": 11,
   "metadata": {},
   "outputs": [
    {
     "name": "stdout",
     "output_type": "stream",
     "text": [
      "Optimal weekly number of soldiers to produce: 20\n",
      "Optimal weekly number of trains to produce: 60\n"
     ]
    }
   ],
   "source": [
    "# display the results\n",
    "for var in (soldiers, trains):\n",
    "    print('Optimal weekly number of {} to produce: {:1.0f}'.format(var.name, var.value()))"
   ]
  },
  {
   "cell_type": "markdown",
   "metadata": {},
   "source": [
    "## Fun thing to try\n",
    "### Sudoku\n",
    "A Sudoku Problem formulated as Linear Programming\n",
    " https://pythonhosted.org/PuLP/CaseStudies/a_sudoku_problem.html"
   ]
  },
  {
   "cell_type": "markdown",
   "metadata": {},
   "source": [
    "## Useful reference\n",
    "Mitchell, Stuart. \"[An introduction to pulp for Python programmers](ojs.pythonpapers.org/index.php/tppm/article/download/111/112)\" Python Papers Monograph 1 (2009): 14."
   ]
  },
  {
   "cell_type": "code",
   "execution_count": null,
   "metadata": {
    "collapsed": true
   },
   "outputs": [],
   "source": []
  }
 ],
 "metadata": {
  "kernelspec": {
   "display_name": "Python 2",
   "language": "python",
   "name": "python2"
  },
  "language_info": {
   "codemirror_mode": {
    "name": "ipython",
    "version": 2
   },
   "file_extension": ".py",
   "mimetype": "text/x-python",
   "name": "python",
   "nbconvert_exporter": "python",
   "pygments_lexer": "ipython2",
   "version": "2.7.11"
  }
 },
 "nbformat": 4,
 "nbformat_minor": 1
}
