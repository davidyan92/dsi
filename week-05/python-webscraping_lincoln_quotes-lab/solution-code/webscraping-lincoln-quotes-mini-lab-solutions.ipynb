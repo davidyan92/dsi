{
 "cells": [
  {
   "cell_type": "markdown",
   "metadata": {},
   "source": [
    "<img src=\"http://imgur.com/1ZcRyrc.png\" style=\"float: left; margin: 20px; height: 55px\">\n",
    "\n",
    "# Automated Data Collection: Lincoln Quotes\n",
    "\n",
    "_Authors: Joseph Nelson (DC)_\n",
    "\n",
    "---\n",
    "\n",
    "For this mini-lab, you are asked to produce a list of all of Lincoln's quotes available on this page: http://www.successories.com/iquote/author/291/abraham-lincoln-quotes/1 \n",
    "\n",
    "Use the `requests` and `BeautifulSoup` libraries in Python.\n",
    "\n",
    "For a bonus, collect all the quotes from each page available on Successories."
   ]
  },
  {
   "cell_type": "code",
   "execution_count": 1,
   "metadata": {
    "collapsed": true
   },
   "outputs": [],
   "source": [
    "import requests\n",
    "from bs4 import BeautifulSoup"
   ]
  },
  {
   "cell_type": "code",
   "execution_count": 2,
   "metadata": {
    "collapsed": false
   },
   "outputs": [],
   "source": [
    "# declare a list\n",
    "lincoln_quotes = []\n",
    "\n",
    "# iteraterate through the 44 pages of lincoln quotes\n",
    "for page in range(1,45):\n",
    "    \n",
    "    # make request for that page\n",
    "    r = requests.get(\"http://www.successories.com/iquote/author/291/abraham-lincoln-quotes/%s\" % page)\n",
    "    \n",
    "    # turn into a BeautifulSoup object\n",
    "    soup = BeautifulSoup(r.text, 'lxml')\n",
    "    \n",
    "    # find quotes on page\n",
    "    quotes = soup.find_all(name='div', attrs={'class':'quote'})\n",
    "    \n",
    "    # add to our quotes list\n",
    "    for quote in quotes:\n",
    "        lincoln_quotes.append(quote.text)"
   ]
  },
  {
   "cell_type": "code",
   "execution_count": 3,
   "metadata": {
    "collapsed": false
   },
   "outputs": [
    {
     "name": "stdout",
     "output_type": "stream",
     "text": [
      "440\n",
      "[u'\"I am for those means which will give the greatest good to the greatest number.\"', u'\"Having thus chosen our course, without guile and with pure purpose, let us renew our trust in God, and go forward without fear and with manly hearts.\"', u'\"You have to do your own growing no matter how tall your grandfather was.\"', u'\"I have been driven many times to my knees by the overwhelming conviction that I had nowhere to go. My own wisdom, and that of all about me, seemed insufficient for the day.\"', u'\"I see a very dark cloud on America\\'s horizon, and that cloud is coming from Rome\"', u'\"Things may come to those who wait...but only the things left by those who hustle.\"', u'\"Lonely men seek companionship. Lonely women sit at home and wait. They never meet.\"', u'\"And in the end it\\'s not the years in your life that count. It\\'s the life in your years.\"', u'\"It is difficult to make a man miserable while he feels he is worthy of himself and claims kindred to the great God who made him.\"', u'\"Every man is said to have his peculiar ambition.\"', u'\"Upon the subject of education, not presuming to dictate any plan or system respecting it, I can only say that I view it as the most important subject which we as a people may be engaged in. That everyone may receive at least a moderate education appears to be an objective of vital importance.\"', u'\"I never had a policy; I have just tried to do my very best each and every day.\"', u'\"My earlier views at the unsoundness of the Christian scheme of salvation and the human origin of the scriptures, have become clearer and stronger with advancing years and I see no reason for thinking I shall ever change them\"', u'\"He has a right to criticize, who has a heart to help.\"', u'\"It is the eternal struggle between these two principles - right and wrong. They are the two principles that have stood face to face from the beginning of time and will ever continue to struggle. It is the same spirit that says, \"You work and toil and earn bread, and I\\'ll eat it.\"', u'\"Neither anticipated that the cause of the conflict [slavery] might cease with, or even before, the conflict itself should cease. Each looked for an easier triumph, and a result less fundamental and astounding. Both read the same Bible, and pray to the same God; and each invokes His aid against the other. It may seem strange that any men should dare to ask a just God\\'s assistance in wringing their bread from the sweat of other men\\'s faces; but let us judge not that we be not judged. The prayers of both could not be answered; that of neither has\"', u'\"Our defense is in the preservation of the spirit which prizes liberty as a heritage of all men, in all lands, everywhere. Destroy this spirit and you have planted the seeds of despotism around your own doors.\"', u'\"The assertion that \"all men are created equal\" was of no practical use in effecting our separation from Great Britain and it was placed in the Declaration not for that, but for future use.\"', u'\"Public sentiment is everything. With public sentiment, nothing can fail. Without it, nothing can succeed.\"', u'\"If I were two-faced, would I be wearing this one?\"', u'\"I was losing interest in politics, when the repeal of the Missouri Compromise aroused me again. What I have done since then is pretty well known.\"', u'\"God must love the common man, he made so many of them.\"', u'\"All that I am, or hope to be, I owe to my angel mother.\"', u'\"A woman is the only thing I am afraid of that I know will not hurt me.\"', u'\"A friend is one who has the same enemies as you have.\"']\n"
     ]
    }
   ],
   "source": [
    "print(len(lincoln_quotes))\n",
    "print(lincoln_quotes[0:25])"
   ]
  },
  {
   "cell_type": "code",
   "execution_count": null,
   "metadata": {
    "collapsed": true
   },
   "outputs": [],
   "source": []
  }
 ],
 "metadata": {
  "kernelspec": {
   "display_name": "Python 2",
   "language": "python",
   "name": "python2"
  },
  "language_info": {
   "codemirror_mode": {
    "name": "ipython",
    "version": 2
   },
   "file_extension": ".py",
   "mimetype": "text/x-python",
   "name": "python",
   "nbconvert_exporter": "python",
   "pygments_lexer": "ipython2",
   "version": "2.7.13"
  }
 },
 "nbformat": 4,
 "nbformat_minor": 2
}
