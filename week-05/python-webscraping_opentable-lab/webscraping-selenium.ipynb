{
 "cells": [
  {
   "cell_type": "markdown",
   "metadata": {
    "collapsed": true
   },
   "source": [
    "<img src=\"http://imgur.com/1ZcRyrc.png\" style=\"float: left; margin: 20px; height: 55px\">\n",
    "\n",
    "# Webscraping OpenTable with Selenium: Guided Lab\n",
    "\n",
    "_Authors: Joseph Nelson (DC)_\n",
    "\n",
    "---\n",
    "\n",
    "> *Note: this lab is intended to be instructor-guided.*\n",
    "\n",
    "\n",
    "In today's codealong lab, we will build a scraper using urllib and BeautifulSoup. We will remedy some of the pitfalls of automated scraping by using a a \"headless\" browser called Selenium.\n",
    "\n",
    "You will be scraping OpenTable's DC listings. We're interested in knowing the restaurant's **name, location, price, and how many people booked it today.**\n",
    "\n",
    "OpenTable provides all of this information on this given page: http://www.opentable.com/washington-dc-restaurant-listings."
   ]
  },
  {
   "cell_type": "markdown",
   "metadata": {},
   "source": [
    "### 1. Inspect the elements of this page to assure we can find each of the bits of information in which we're interested."
   ]
  },
  {
   "cell_type": "markdown",
   "metadata": {},
   "source": [
    "### 2. Use `urllib` and `BeautifulSoup` to read the contents of the HTML."
   ]
  },
  {
   "cell_type": "code",
   "execution_count": 40,
   "metadata": {
    "collapsed": true,
    "scrolled": true
   },
   "outputs": [],
   "source": [
    "from bs4 import BeautifulSoup as bs\n",
    "import urllib"
   ]
  },
  {
   "cell_type": "code",
   "execution_count": 103,
   "metadata": {},
   "outputs": [],
   "source": [
    "# set the url we want to visit\n",
    "url = \"https://www.bloomberg.com/asia\"\n",
    "\n",
    "# A:\n",
    "contents = urllib.urlopen(url).read()"
   ]
  },
  {
   "cell_type": "code",
   "execution_count": 104,
   "metadata": {},
   "outputs": [
    {
     "data": {
      "text/plain": [
       "553139"
      ]
     },
     "execution_count": 104,
     "metadata": {},
     "output_type": "execute_result"
    }
   ],
   "source": [
    "len(contents)"
   ]
  },
  {
   "cell_type": "markdown",
   "metadata": {},
   "source": [
    "### 3. Print out the HTML (only print a fraction of it). What is in it?"
   ]
  },
  {
   "cell_type": "code",
   "execution_count": 43,
   "metadata": {},
   "outputs": [
    {
     "data": {
      "text/plain": [
       "'<!DOCTYPE html>\\n<html xmlns:og=\"http://ogp.me/ns#\" data-view-uid=\"0\"><head>\\n<base href=\\'https://www.bloomberg.com/\\'> <meta charset=\"utf-8\"> <title>Bloomberg -  Asia Edition</title> <meta http-equiv=\"X-UA-Compatible\" content=\"IE=11,10,9\"> <script type=\"text/javascript\">!function(e,t){function u(){return t.getElementById(\"bb-nav\")}function M(){return document.querySelector(\".bb-unsupported-message__text\")}function L(){var e=document.getElementById(\"bb_unsupported_custom_message\");if(e)return JSON.parse(e.innerHTML).message}function o(){var o=\\'body.bb-unsupported-browser .bb-nav-placeholder{height:auto}body.bb-unsupported-browser #bb-that,body.bb-unsupported-browser .bb-nav-root{display:none;height:auto}body.bb-unsupported-browser .bb-nav-root{display:block}.bb-unsupported-message{background-color:#000;padding:20px 0}@media screen and (max-width: 63.6875rem){.bb-unsupported-message__logo-box{padding-bottom:10px}.bb-unsupported-message__copy{margin:0}}@media screen and (min-width: 63.75rem){.bb-unsupported-message__content{font-size:12px;display:table-cell;padding-left:50px}.bb-unsupported-message__logo-box{display:table-cell;vertical-align:middle}.bb-unsupported-message__copy{margin:1em 0}}.bb-unsupported-message__logo-box{padding-bottom:10px}.bb-unsupported-message__copy{margin:0}.bb-unsupported-message__message{width:70%;margin:0 auto;color:#fff}.bb-unsupported-message__content{font-size:12px}.bb-unsupported-message__logo:before{content:\"\";display:block;background:url(\"data:image/svg+xml;base64,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\") no-repeat;width:7.8125rem;height:1.5rem}.bb-unsupported-message__copy-link{color:#fff;text-decoration:underline}.bb-unsupported-message a:hover{color:#eee}\\',s=t.head||t.getElementsByTagName(\"head\")[0],a=t.createElement(\"style\"),n=L();s.appendChild(a),a.styleSheet?a.styleSheet.cssText=o:a.innerHTML=o,t.body.className+=\" bb-unsupported-browser\",u().outerHTML=\\'<div class=\"bb-unsupported-message\"> <div class=\"bb-unsupported-message__message\"> <div class=\"bb-unsupported-message__logo-box\"> <a href=\"/\" class=\"bb-unsupported-message__logo\"></a> </div> <div class=\"bb-unsupported-message__content\"> <p class=\"bb-unsupported-message__copy\"> <span class=\"bb-unsupported-message__text\"> <strong>Your browser is no longer supported.</strong> You can still use the site, but some features may not work as expected. Please consider upgrading to one of the following browsers. </span> <a href=\"http://www.google.com/chrome?hl=en\" class=\"bb-unsupported-message__copy-link\">Chrome</a>, <a href=\"http://www.mozilla.com/firefox/\" class=\"bb-unsupported-message__copy-link\">Firefox</a>, <a href=\"https://itunes.apple.com//app/os-x-mavericks/id675248567?mt=12&uo=4\" class=\"bb-unsupported-message__copy-link\">Safari</a>, <a href=\"http://www.opera.com/browser/\" class=\"bb-unsupported-message__copy-link\">Opera</a> or <a href=\"http://windows.microsoft.com/en-us/internet-explorer/download-ie\" class=\"bb-unsupported-message__copy-link\">Edge / Internet Explorer</a>. </p> </div> </div> </div>\\',e[\"bb-unsupported-browser\"]=!0,e.dispatchEvent(new e.CustomEvent(\"bb-unsupported-browser\")),n&&(M().innerHTML=n)}!function(){try{new e.CustomEvent(\"test\")}catch(M){var u=function(e,u){u=u||{bubbles:!1,cancelable:!1,detail:void 0};var M=t.createEvent(\"CustomEvent\");return M.initCustomEvent(e,u.bubbles,u.cancelable,u.detail),M};u.prototype=e.Event.prototype,e.CustomEvent=u}}();var s=e.navigator.userAgent;if(9===t.documentMode||10===t.documentMode||!e.CSSMediaRule&&!e.matchMedia&&!e.msMatchMedia||s.indexOf(\"BB10\")!==-1){if(\"interactive\"===t.readyState||\"complete\"===t.readyState)return void o();t.addEventListener?t.addEventListener(\"DOMContentLoaded\",o):e.attachEvent(\"onload\",o)}}(window,document);</script> <script type=\"text/javascript\"> (function(_document, _window) {var EXPERIENCE_MAPPING = { \"EUR\": \"/europe\", \"APAC\": \"/asia\", \"MIDEAST\": \"/middleeast\", \"AMER\": \"/\", \"AFRICA\": \"/africa\", \"CANADA\": \"/canada\" };var REGION_MAPPING = { \"Asia\": \"/asia\", \"Europe\": \"/europe\", \"MidEast\": \"/middleeast\", \"Africa\": \"/africa\" };var COUNTRY_MAPPING = { \"CA\": \"/canada\" };function getCookieValue(key) { var matched = _document.cookie.match(new RegExp(key + \"=([^;]+);\"));return matched && matched[1] || null; }function stopDownloadingThings() { if (_window.stop) { _window.stop(); } else if (_document.execCommand) { _document.execCommand(\"Stop\", false); } }function redirectTo(destination) {if (_document.location.pathname === destination) { return; }_document.documentElement.style.display = \"none\"; stopDownloadingThings(); _document.location.replace(destination); }function redirectToAppropriateRegion() { if (_document.location.pathname !== \"/\" || _document.location.search.indexOf(\"inPreview=true\") >= 0) { return; }var experience = getCookieValue(\"exp_pref\"); var region = getCookieValue(\"ak_rg\"); var country = getCookieValue(\"ak_co\");var destination = EXPERIENCE_MAPPING[experience] || COUNTRY_MAPPING[country] || REGION_MAPPING[region];if (!destination) { return; }redirectTo(destination); }redirectToAppropriateRegion(); })(document, window); </script> <meta name=\"viewport\" content=\"width=device-width, initial-scale=1, maximum-scale=1, user-scalable=no\"> <meta name=\"format-detection\" content=\"telephone=no\"> <meta name=\"msapplication-TileColor\" content=\"#ff0000\"> <meta name=\"msapplication-TileImage\" content=\"https://assets.bwbx.io/business/public/images/favicons/mstile-144x144-bbd2101292.png\"> <meta name=\"apple-mobile-web-app-capable\" content=\"no\"> <meta name=\"apple-mobile-web-app-status-bar-style\" content=\"black\"> <meta name=\"referrer\" content=\"unsafe-url\"> <meta name=\"referrer\" content=\"always\"><link rel=\"manifest\" href=\"/manifest.json\"> <link rel=\"apple-touch-icon\" sizes=\"57x57\" href=\"https://assets.bwbx.io/business/public/images/favicons/apple-touch-icon-57x57-b572ef8093.png\"> <link rel=\"apple-touch-icon\" sizes=\"114x114\" href=\"https://assets.bwbx.io/business/public/images/favicons/apple-touch-icon-114x114-b5fb8b8c07.png\"> <link rel=\"apple-touch-icon\" sizes=\"72x72\" href=\"https://assets.bwbx.io/business/public/images/favicons/apple-touch-icon-72x72-a5bfb2afba.png\"> <link rel=\"apple-touch-icon\" sizes=\"144x144\" href=\"https://assets.bwbx.io/business/public/images/favicons/apple-touch-icon-144x144-3c26d576a9.png\"> <link rel=\"apple-touch-icon\" sizes=\"60x60\" href=\"https://assets.bwbx.io/business/public/images/favicons/apple-touch-icon-60x60-b0d19bb405.png\"> <link rel=\"apple-touch-icon\" sizes=\"120x120\" href=\"https://assets.bwbx.io/business/public/images/favicons/apple-touch-icon-120x120-ef3226f2bd.png\"> <link rel=\"apple-touch-icon\" sizes=\"76x76\" href=\"https://assets.bwbx.io/business/public/images/favicons/apple-touch-icon-76x76-6ed14bcfc8.png\"> <link rel=\"apple-touch-icon\" sizes=\"152x152\" href=\"https://assets.bwbx.io/business/public/images/favicons/apple-touch-icon-152x152-5ccd0ec96e.png\"> <link rel=\"apple-touch-icon\" sizes=\"180x180\" href=\"https://assets.bwbx.io/business/public/images/favicons/apple-touch-icon-180x180-c1a237984e.png\"> <link rel=\"icon\" type=\"image/png\" href=\"https://assets.bwbx.io/business/public/images/favicons/favicon-192x192-3621dae772.png\" sizes=\"192x192\"> <link rel=\"icon\" type=\"image/png\" href=\"https://assets.bwbx.io/business/public/images/favicons/favicon-160x160-16c867e67a.png\" sizes=\"160x160\"> <link rel=\"icon\" type=\"image/png\" href=\"https://assets.bwbx.io/business/public/images/favicons/favicon-96x96-4333659912.png\" sizes=\"96x96\"> <link rel=\"icon\" type=\"image/png\" href=\"https://assets.bwbx.io/business/public/images/favicons/favicon-16x16-cc2a6c3317.png\" sizes=\"16x16\"> <link rel=\"icon\" type=\"image/png\" href=\"https://assets.bwbx.io/business/public/images/favicons/favicon-32x32-d2b81a9373.png\" sizes=\"32x32\"><link rel=\"stylesheet\" type=\"text/css\" href=\"https://assets.bwbx.io/font-service/css/AvenirNext-Demi,BWHaasText-55Roman,BWHaasText-56Italic,BWHaasText-75Bold,BWHaasHead-95Black,BWHaasHead-75Bold,Bloomberg/font-face.css\"> <link rel=\"stylesheet\" type=\"text/css\" href=\"https://assets.bwbx.io/font-service/css/AvenirNext-Regular,TiemposTextWeb-Regular,TiemposTextWeb-RegularItalic,TiemposHeadlineWeb-Bold,TiemposTextWeb-Semibold,MetricWeb-Semibold/font-face.css\"> <link rel=\"stylesheet\" media=\"all\" type=\"text/css\" href=\"https://www.bbthat.com/assets/v1.4.0/that.css\"> <link href=\"https://assets.bwbx.io/business/public/stylesheets/application-c550cc8600.css\" media=\"all\" rel=\"stylesheet\" type=\"text/css\"><link href=\"https://assets.bwbx.io/font-service/css/Bloomberg,BWHaasText-55Roman,BWHaasHead-75Bold,BWHaasHead-95Black,AvenirNext-Demi/font-face.css\" media=\"all\" rel=\"stylesheet\" type=\"text/css\"><link href=\"https://nav.bloomberg.com/public/stylesheets/bb-global-nav-f7134e6769.css\" media=\"all\" rel=\"stylesheet\" type=\"text/css\"> <link href=\"https://assets.bwbx.io/font-service/css/Bloomberg/font-face.css\" media=\"all\" rel=\"stylesheet\" type=\"text/css\"><link href=\"https://nav.bloomberg.com/public/stylesheets/bb-global-footer-af4496cb6b.css\" media=\"all\" rel=\"stylesheet\" type=\"text/css\"><script src=\"//cdn.optimizely.com/js/4368606971.js\"></script>  <script> if(!(self === top || /^https?:\\\\/\\\\/(([^.]+)\\\\.)*(optimizely|bloomberg)\\\\.com\\\\//.test(document.referrer))) { top.location.replace(self.location); } </script><meta property=\"og:site_name\" content=\"Bloomberg.com\"> <meta property=\"og:type\" content=\"website\"><noscript> <link href=\"https://assets.bwbx.io/business/public/stylesheets/noscript-fd9d34dc4b.css\" media=\"all\" rel=\"stylesheet\" type=\"text/css\"> </noscript><script type=\"text/javascript\">!function(e,n){if(\"function\"==typeof define&&define.amd)define([\"exports\",\"module\"],n);else if(\"undefined\"!=typeof exports&&\"undefined\"!=typeof module)n(exports,module);else{var t={exports:{}};n(t.exports,t),e.bbLoader=t.exports}}(this,function(e,n){\"use strict\";function t(){return Boolean(u[r.document.readyState])}function o(e){return r.window&&r.window.bbLoader?r.window.bbLoader[e]:{}}var u={complete:!0,interactive:!0},d={load:\"load\",DOMContentLoaded:\"DOMContentLoaded\"},i={load:\"load\"},r={document:\"undefined\"!=typeof document?document:null,window:\"undefined\"!=typeof window?window:null},a={loaded:o(\"loaded\")||{},queue:o(\"queue\")||{},clearQueue:function(e){this.queue[e]=[]},enqueue:function(e,n){return this.loaded[e]?void n():(this.queue[e]=this.queue[e]||[],void this.queue[e].push(n))},load:function(e){var n=arguments.length<=1||void 0===arguments[1]?{}:arguments[1],o=arguments.length<=2||void 0===arguments[2]?null:arguments[2],u=arguments.length<=3||void 0===arguments[3]?\"load\":arguments[3];if(!d[u])throw new Error(\"Unsupported timing specified: \"+u+\" Choose from the following: \"+Object.keys(d));if(!this.loaded[e]){var i=this.loadImmediately.bind(this,e,n,o);return t()?void i():void r.window.addEventListener(d[u],i,!1)}},loadImmediately:function(e){var n=this,t=arguments.length<=1||void 0===arguments[1]?{}:arguments[1],o=arguments.length<=2||void 0===arguments[2]?null:arguments[2],u=(o?r.document.getElementById(o):null)||r.document.head,d=r.document.createElement(\"script\");Object.keys(t).forEach(function(e){d.setAttribute(e,t[e])});var a=function t(){n.loaded[e]=!0;var o=n.queue[e]||[];o.forEach(function(e){e()}),o.length=0,d.removeEventListener(i.load,t,!1),d=null};d.addEventListener(i.load,a),u.appendChild(d),u=null},reset:function(){this.loaded={},this.queue={}},stub:function(){var e=arguments.length<=0||void 0===arguments[0]?{}:arguments[0];Object.keys(e).forEach(function(n){return r[n]=e[n]})}};n.exports=a});</script><script type=\"text/javascript\"> (function() { var data = {\"pageName\":\"homepage\",\"adcode\":\"business/home\",\"refresh\":\"false\",\"pageType\":\"homepage\",\"contentType\":\"homepage-asia\",\"template\":\"bbiz-homepage-html\",\"transporter\":\"false\"};  if (/(^|(; ))is-auto-refresh=Y($|;)/.test(document.cookie)) { data.refresh = \"true\"; } window.dataLayer = window.dataLayer || []; window.dataLayer.push(data); })(); </script><!-- Google Tag Manager --> <script>(function(w,d,s,l,i){w[l]=w[l]||[];w[l].push({\\'gtm.start\\': new Date().getTime(),event:\\'gtm.js\\'});var f=d.getElementsByTagName(s)[0], j=d.createElement(s),dl=l!=\\'dataLayer\\'?\\'&l=\\'+l:\\'\\';j.async=true;j.src= \\'https://www.googletagmanager.com/gtm.js?id=\\'+i+dl;f.parentNode.insertBefore(j,f); })(window,document,\\'script\\',\\'dataLayer\\',\\'GTM-MNTH5N\\');</script> <!-- End Google Tag Manager --><meta name=\"description\" content=\"Bloomberg delivers business and markets news, data, analysis, and video to the world, featuring stories from Businessweek and Bloomberg News\" data-ephemeral=\"true\"><meta name=\"twitter:card\" content=\"summary\" data-ephemeral=\"true\"><meta name=\"twitter:site\" content=\"@business\" data-ephemeral=\"true\"><meta name=\"twitter:description\" content=\"Bloomberg delivers business and markets news, data, analysis, and video to the world, featuring stories from Businessweek and Bloomberg News\" data-ephemeral=\"true\"><meta name=\"twitter:title\" content=\"Bloomberg -  Asia Edition\" data-ephemeral=\"true\"><meta name=\"twitter:url\" content=\"https://www.bloomberg.com/asia\" data-ephemeral=\"true\"><meta name=\"twitter:image\" content=\"https://assets.bwbx.io/business/public/images/social_fallbacks/bloomberg_default-a4f15fa7ee.jpg\" data-ephemeral=\"true\"><meta property=\"og:description\" content=\"Bloomberg delivers business and markets news, data, analysis, and video to the world, featuring stories from Businessweek and Bloomberg News\" data-ephemeral=\"true\"><meta property=\"og:title\" content=\"Bloomberg -  Asia Edition\" data-ephemeral=\"true\"><meta property=\"og:url\" content=\"https://www.bloomberg.com/asia\" data-ephemeral=\"true\"><meta property=\"og:image\" content=\"https://assets.bwbx.io/business/public/images/social_fallbacks/bloomberg_default-a4f15fa7ee.jpg\" data-ephemeral=\"true\"><link rel=\"canonical\" href=\"https://www.bloomberg.com/asia\" data-ephemeral=\"true\"><meta name=\"parsely-title\" content=\"Bloomberg -  Asia Edition\" data-ephemeral=\"true\"><meta name=\"parsely-link\" content=\"https://www.bloomberg.com/asia\" data-ephemeral=\"true\"><meta name=\"parsely-type\" content=\"frontpage\" data-ephemeral=\"true\"><meta name=\"parsely-section\" content=\"home\" data-ephemeral=\"true\"><meta name=\"parsely-image-url\" content=\"https://assets.bwbx.io/business/public/images/social_fallbacks/bloomberg_default-a4f15fa7ee.jpg\" data-ephemeral=\"true\"><meta name=\"msvalidate.01\" content=\"5D3CA7474520CBF79EC78AE5EB7B0EBC\" data-ephemeral=\"true\"></head> <body class=\"default-layout middle-east homepage-section-front section-front\" data-tracker-events=\"click,pageview\"><!-- Google Tag Manager (noscript) --> <noscript><iframe src=\"https://www.googletagmanager.com/ns.html?id=GTM-MNTH5N\" height=\"0\" width=\"0\" style=\"display:none;visibility:hidden\"></iframe></noscript> <!-- End Google Tag Manager (noscript) --><script type=\"text/javascript\"> if (\"serviceWorker\" in navigator) { window.addEventListener(\"load\", function() { navigator.serviceWorker.register(\"/service-worker.js\").then(function(registration) { console.log(\"ServiceWorker registration successful with scope: \", registration.scope); }, function(err) { console.log(\"ServiceWorker registration failed: \", err); }); }); } </script> <style> .india-banner { display:none; } </style><div class=\"india-banner\" data-tracker-events=\"click\" data-tracker-category=\"nav\" data-tracker-label=\"india-banner\"> <div class=\"india-banner__content\"> <div class=\"india-banner__text\"> <a class=\"india-banner__link\" href=\"http://www.bloombergquint.com\" data-track-label=\"link\" data-track-action=\"click\"> For more local news from India, visit Bloombergquint.com </a> </div> </div> <div class=\"india-banner__close-button\" data-track-label=\"close\" data-track-action=\"click\"></div> </div> <div class=\"truste\"> <div id=\"consent_blackbar\"></div> </div><div class=\"header-ad-container\"> <div class=\"header-ad\">  </div> </div><div class=\"top-hat\">  <style>\\n@font-face {\\n    font-family: \\'AvenirNextPForBBG-Regular\\';\\n    \\n    \\n    src: url(\\'https://assets.bwbx.io/font-service/fonts/AvenirNextPForBBG-Regular-09359fef74.woff2\\') format(\\'woff2\\'),\\n         url(\\'https://assets.bwbx.io/font-service/fonts/AvenirNextPForBBG-Regular-91967b382a.woff\\') format(\\'woff\\');\\n}\\n\\n@font-face {\\n    font-family: \\'AvenirNextPForBBG-Demi\\';\\n    \\n    \\n    src: url(\\'https://assets.bwbx.io/font-service/fonts/AvenirNextPForBBG-Demi-62597c630e.woff2\\') format(\\'woff2\\'),\\n         url(\\'https://assets.bwbx.io/font-service/fonts/AvenirNextPForBBG-Demi-d7e488b711.woff\\') format(\\'woff\\');\\n}\\n#bb-that a{text-decoration:none}#bb-that .bb-that__sitemap{overflow:hidden;position:relative}#bb-that .bb-that__sitemap{max-height:0;-webkit-transition:max-height 0.6s ease-in-out;-o-transition:max-height 0.6s ease-in-out;transition:max-height 0.6s ease-in-out}#bb-that{background:#000;position:relative}@media (max-width: 759px){#bb-that{display:none}}#bb-that .bb-that--container{margin:0 auto;padding:0 30px;box-sizing:content-box}@media (min-width: 1020px){#bb-that .bb-that--container{padding:0}}#bb-that .bb-that--container:before,#bb-that .bb-that--container:after{content:\" \";display:table}#bb-that .bb-that--container:after{clear:both}@media (min-width: 760px){#bb-that .bb-that--container{width:680px}}@media (min-width: 1020px){#bb-that .bb-that--container{width:980px}}@media (min-width: 1280px){#bb-that .bb-that--container{width:1160px}}#bb-that .bb-that-header{font-family:\"AvenirNextPForBBG-Demi\",\"Helvetica Neue\",Helvetica,Arial,sans-serif;font-size:15px;line-height:30px;padding:15px}@media (min-width: 760px){#bb-that .bb-that-header{font-family:\"AvenirNextPForBBG-Demi\",\"Helvetica Neue\",Helvetica,Arial,sans-serif;font-size:12px;height:30px;padding:0}}#bb-that .bb-that-header__link{position:relative;display:block}@media (min-width: 760px){#bb-that .bb-that-header__link{display:inline-block;padding:0 12px}}#bb-that .bb-that-header__link,#bb-that .bb-that-header__link>span{color:#f3f4ef;font-family:inherit;font-size:inherit;line-height:inherit}@media (min-width: 760px){#bb-that .bb-that-header__link,#bb-that .bb-that-header__link>span{line-height:1;-webkit-font-smoothing:subpixel-antialiased;-moz-osx-font-smoothing:auto}}#bb-that .bb-that-header__link:first-child{padding-left:0}#bb-that .bb-that-header__link:after{font-size:9px;position:absolute}@media (min-width: 760px){#bb-that .bb-that-header__link+.bb-that-header__link{border-left:1px solid #b3b3b3}#bb-that .bb-that-header__link+.bb-that-header__link:after{top:-3px}}#bb-that .bb-that-header__link>span:first-of-type{display:inline}#bb-that .bb-that-header__link>span:first-of-type+span{display:none}@media (max-width: 1019px){#bb-that .bb-that-header__link>span:first-of-type{display:none}#bb-that .bb-that-header__link>span:first-of-type+span{display:inline}}#bb-that .bb-that-header--sitemap-trigger{padding:0 27px 0 12px}#bb-that .bb-that-header--sitemap-trigger:after{display:inline-block;content:url(\"data:image/svg+xml,%3Csvg%20xmlns%3D%27http%3A%2F%2Fwww.w3.org%2F2000%2Fsvg%27%20viewBox%3D%270%200%2015%2015%27%3E%3Cpath%20d%3D%27M0,2.5l7.5,10l7.5-10H0z%27%20fill%3D%27%23fff%27%2F%3E%3C%2Fsvg%3E\");height:9px;width:9px;line-height:initial;opacity:0.7;-webkit-transition:opacity 0.1s ease-out;-o-transition:opacity 0.1s ease-out;transition:opacity 0.1s ease-out}#bb-that .bb-that-header--sitemap-trigger:hover:after{opacity:1}#bb-that .bb-that-header--sitemap-trigger:after{height:9px;width:9px;-webkit-transform:rotate(0);-ms-transform:rotate(0);-o-transform:rotate(0);transform:rotate(0);-webkit-transition:transform 0.35s ease;-o-transition:transform 0.35s ease;transition:transform 0.35s ease}@media (min-width: 760px){#bb-that .bb-that-header--sitemap-trigger:after{right:12px;top:2px;line-height:1}}@media (min-width: 1020px){#bb-that .bb-that--open{border-bottom:1px solid #474747}}#bb-that .bb-that--open .bb-that-header--sitemap-trigger:after{-webkit-transform:rotate(180deg);-ms-transform:rotate(180deg);-o-transform:rotate(180deg);transform:rotate(180deg)}\\n</style>\\n<div id=\"bb-that\">\\n    <nav class=\"bb-that\">\\n        <header class=\"bb-that-header bb-that--container\">\\n        <a class=\"bb-that-header__link bb-that-header--sitemap-trigger\" href=\"http://www.bloomberg.com/company/?utm_source=bloomberg-menu&amp;utm_medium=bcom\">Bloomberg the Company &amp; Its Products</a><a class=\"bb-that-header__link\" href=\"https://bba.bloomberg.net/?utm_source=bloomberg-menu&amp;utm_medium=bcom\"><span>Bloomberg Anywhere Remote Login</span><span>Bloomberg Anywhere Login</span></a><a class=\"bb-that-header__link\" href=\"http://www.bloomberg.com/professional/request-demo/?utm_source=bloomberg-menu&amp;utm_medium=bcom&amp;bbgsum=DG-WS-PROF-DEMO-bbgmenu\">Bloomberg Terminal Demo Request</a>    </header>\\n        <div class=\"bb-that__sitemap bb-that--container\">\\n    <div class=\"bb-that__close\"></div>\\n\\n        <ul class=\"bb-that__sitemap-sections bb-that--visible-md bb-that--visible-lg\">\\n                    <li class=\"bb-that__col bb-that__col--md\">\\n            <section class=\"bb-that-category\">\\n    <h2 class=\"bb-that-category__title\">Bloomberg</h2>\\n    <div class=\"bb-that-category__content\"><p class=\"bb-that-category__text\">Connecting decision makers to a dynamic network of information, people and ideas, Bloomberg quickly and accurately delivers business and financial information, news and insight around the world.</p></div></section>            <section class=\"bb-that-category\">\\n    <h2 class=\"bb-that-category__title\">For Customers</h2>\\n    <div class=\"bb-that-category__content\"><li class=\"bb-that-category__item\"><a class=\"bb-that-category__link\" href=\"https://bba.bloomberg.net/?utm_source=bloomberg-menu&amp;utm_medium=bcom\">Bloomberg Anywhere Remote Login</a></li><li class=\"bb-that-category__item\"><a class=\"bb-that-category__link\" href=\"http://www.bloomberg.com/professional/downloads/?utm_source=bloomberg-menu&amp;utm_medium=bcom\">Software Updates</a></li><li class=\"bb-that-category__item\"><a class=\"bb-that-category__link\" href=\"http://service.bloomberg.com/portal/sessions/new?utm_source=bloomberg-menu&amp;utm_medium=bcom\">Manage Products and Account Information</a></li></div></section>            <section class=\"bb-that-category\">\\n    <h2 class=\"bb-that-category__title\">Support</h2>\\n    <div class=\"bb-that-category__content\"><p class=\"bb-that-category__text\"><span>Americas</span>+1 212 318 2000</p><p class=\"bb-that-category__text\"><span>EMEA</span>+44 20 7330 7500</p><p class=\"bb-that-category__text\"><span>Asia Pacific</span>+65 6212 1000</p></div></section>    </li>\\n                    <li class=\"bb-that__col bb-that__col--md\">\\n            <section class=\"bb-that-category\">\\n    <h2 class=\"bb-that-category__title\">Company</h2>\\n    <ul class=\"bb-that-category__content\"><li class=\"bb-that-category__item\"><a class=\"bb-that-category__link\" href=\"http://www.bloomberg.com/company/london/?utm_source=bloomberg-menu&amp;utm_medium=bcom\">Bloomberg London</a></li><li class=\"bb-that-category__item\"><a class=\"bb-that-category__link\" href=\"https://www.bloomberg.com/company/?utm_source=bloomberg-menu&amp;utm_medium=bcom\">About</a></li><li class=\"bb-that-category__item\"><a class=\"bb-that-category__link\" href=\"http://www.bloomberg.com/careers/?utm_source=bloomberg-menu&amp;utm_medium=bcom\">Careers</a></li><li class=\"bb-that-category__item\"><a class=\"bb-that-category__link\" href=\"http://www.bloomberg.com/diversity-inclusion/?utm_source=bloomberg-menu&amp;utm_medium=bcom\">Diversity and Inclusion</a></li><li class=\"bb-that-category__item\"><a class=\"bb-that-category__link\" href=\"http://www.bloomberg.com/philanthropy/?utm_source=bloomberg-menu&amp;utm_medium=bcom\">Philanthropy and Engagement</a></li><li class=\"bb-that-category__item\"><a class=\"bb-that-category__link\" href=\"http://www.bloomberg.com/bcause/?utm_source=bloomberg-menu&amp;utm_medium=bcom\">Sustainability</a></li><li class=\"bb-that-category__item\"><a class=\"bb-that-category__link\" href=\"http://www.techatbloomberg.com?utm_source=bloomberg-menu&amp;utm_medium=bcom\">Tech</a></li></ul></section>            <section class=\"bb-that-category\">\\n    <h2 class=\"bb-that-category__title\">Communications</h2>\\n    <ul class=\"bb-that-category__content\"><li class=\"bb-that-category__item\"><a class=\"bb-that-category__link\" href=\"http://www.bloomberg.com/company/announcements/?utm_source=bloomberg-menu&amp;utm_medium=bcom\">Press Announcements</a></li><li class=\"bb-that-category__item\"><a class=\"bb-that-category__link\" href=\"http://www.bloomberg.com/company/press-contacts/?utm_source=bloomberg-menu&amp;utm_medium=bcom\">Press Contacts</a></li></ul></section>            <section class=\"bb-that-category\">\\n    <h2 class=\"bb-that-category__title\">Follow</h2>\\n    <div class=\"bb-that-category__content\"><li class=\"bb-that-category__item\"><a href=\"http://www.facebook.com/Bloomberglp\" class=\"bb-that-category__social-link bb-that--icon-facebook\" target=\"_blank\">Facebook</a></li><li class=\"bb-that-category__item\"><a href=\"https://twitter.com/bloomberg\" class=\"bb-that-category__social-link bb-that--icon-twitter\" target=\"_blank\">Twitter</a></li><li class=\"bb-that-category__item\"><a href=\"https://www.linkedin.com/company/2494\" class=\"bb-that-category__social-link bb-that--icon-linkedin\" target=\"_blank\">LinkedIn</a></li><li class=\"bb-that-category__item\"><a href=\"https://www.instagram.com/bloomberg/\" class=\"bb-that-category__social-link bb-that--icon-instagram\" target=\"_blank\">Instagram</a></li></div></section>    </li>\\n                    <li class=\"bb-that__col bb-that__col--md\">\\n            <section class=\"bb-that-category\">\\n    <h2 class=\"bb-that-category__title\">Products</h2>\\n    <ul class=\"bb-that-category__content\"><li class=\"bb-that-category__item\"><a class=\"bb-that-category__link\" href=\"http://www.bloomberg.com/professional/solution/bloomberg-terminal/?utm_source=bloomberg-menu&amp;utm_medium=bcom&amp;bbgsum=DG-WS-PROF-SOLU-TERMINAL-bbgmenu\">Bloomberg Terminal</a></li><li class=\"bb-that-category__item\"><a class=\"bb-that-category__link\" href=\"https://www.bloomberg.com/professional/solution/execution-order-management/?utm_source=bloomberg-menu&amp;utm_medium=bcom&amp;bbgsum=DG-WS-PROF-SOLU-EXORDMGMT-bbgmenu\">Execution and Order Management</a></li><li class=\"bb-that-category__item\"><a class=\"bb-that-category__link\" href=\"https://www.bloomberg.com/professional/solution/data-and-content/?utm_source=bloomberg-menu&amp;utm_medium=bcom&amp;bbgsum=DG-WS-PROF-SOLU-DATACONT-bbgmenu\">Data and Content</a></li><li class=\"bb-that-category__item\"><a class=\"bb-that-category__link\" href=\"https://www.bloomberg.com/professional/solution/financial-data-management/?utm_source=bloomberg-menu&amp;utm_medium=bcom&amp;bbgsum=DG-WS-PROF-SOLU-FINDATA-bbgmenu\">Financial Data Management</a></li><li class=\"bb-that-category__item\"><a class=\"bb-that-category__link\" href=\"https://www.bloomberg.com/professional/solution/integration-and-distribution/?utm_source=bloomberg-menu&amp;utm_medium=bcom&amp;bbgsum=DG-WS-PROF-SOLU-INTEGDIST-bbgmenu\">Integration and Distribution</a></li><li class=\"bb-that-category__item\"><a class=\"bb-that-category__link\" href=\"https://www.bloomberg.com/professional/solution/tradebook/?utm_source=bloomberg-menu&amp;utm_medium=bcom&amp;bbgsum=DG-WS-PROF-SOLU-TBOOK-bbgmenu\">Bloomberg Tradebook</a></li></ul></section>            <section class=\"bb-that-category\">\\n    <h2 class=\"bb-that-category__title\">Industry Products</h2>\\n    <ul class=\"bb-that-category__content\"><li class=\"bb-that-category__item\"><a class=\"bb-that-category__link\" href=\"https://www.bna.com/bloomberglaw/?utm_source=bloomberg-menu&amp;utm_medium=bcom\">Bloomberg Law</a></li><li class=\"bb-that-category__item\"><a class=\"bb-that-category__link\" href=\"https://www.bna.com/tax?utm_source=bloomberg-menu&amp;utm_medium=bcom\">Bloomberg Tax</a></li><li class=\"bb-that-category__item\"><a class=\"bb-that-category__link\" href=\"http://about.bgov.com/?utm_source=bloomberg-menu&amp;utm_medium=bcom\">Bloomberg Government</a></li><li class=\"bb-that-category__item\"><a class=\"bb-that-category__link\" href=\"https://www.bna.com/ehs/?utm_source=bloomberg-menu&amp;utm_medium=bcom\">Bloomberg Environment</a></li><li class=\"bb-that-category__item\"><a class=\"bb-that-category__link\" href=\"http://about.bnef.com/?utm_source=bloomberg-menu&amp;utm_medium=bcom\">Bloomberg New Energy Finance</a></li></ul></section>    </li>\\n                    <li class=\"bb-that__col bb-that__col--md\">\\n            <section class=\"bb-that-category\">\\n    <h2 class=\"bb-that-category__title\">Media</h2>\\n    <ul class=\"bb-that-category__content\"><li class=\"bb-that-category__item\"><a class=\"bb-that-category__link\" href=\"https://www.bloomberg.com/markets/?utm_source=bloomberg-menu&amp;utm_medium=bcom\">Bloomberg Markets</a></li><li class=\"bb-that-category__item\"><a class=\"bb-that-category__link\" href=\"https://www.bloomberg.com/technology/?utm_source=bloomberg-menu&amp;utm_medium=bcom\">Bloomberg Technology</a></li><li class=\"bb-that-category__item\"><a class=\"bb-that-category__link\" href=\"https://www.bloomberg.com/pursuits/?utm_source=bloomberg-menu&amp;utm_medium=bcom\">Bloomberg Pursuits</a></li><li class=\"bb-that-category__item\"><a class=\"bb-that-category__link\" href=\"http://www.bloomberg.com/politics/?utm_source=bloomberg-menu&amp;utm_medium=bcom\">Bloomberg Politics</a></li><li class=\"bb-that-category__item\"><a class=\"bb-that-category__link\" href=\"https://www.bloomberg.com/view/?utm_source=bloomberg-menu&amp;utm_medium=bcom\">Bloomberg Opinion</a></li><li class=\"bb-that-category__item\"><a class=\"bb-that-category__link\" href=\"https://www.bloomberg.com/businessweek/?utm_source=bloomberg-menu&amp;utm_medium=bcom\">Bloomberg Businessweek</a></li><li class=\"bb-that-category__item\"><a class=\"bb-that-category__link\" href=\"http://www.bloomberglive.com/?utm_source=bloomberg-menu&amp;utm_medium=bcom\">Bloomberg Live Conferences</a></li><li class=\"bb-that-category__item\"><a class=\"bb-that-category__link\" href=\"https://www.bloombergapps.com/?utm_source=bloomberg-menu&amp;utm_medium=bcom\">Bloomberg Apps</a></li><li class=\"bb-that-category__item\"><a class=\"bb-that-category__link\" href=\"https://www.bloombergradio.com/?utm_source=bloomberg-menu&amp;utm_medium=bcom\">Bloomberg Radio</a></li><li class=\"bb-that-category__item\"><a class=\"bb-that-category__link\" href=\"http://www.bloomberg.com/live?utm_source=bloomberg-menu&amp;utm_medium=bcom\">Bloomberg Television</a></li><li class=\"bb-that-category__item\"><a class=\"bb-that-category__link\" href=\"http://www.bloomberg.com/company/news-bureaus/?utm_source=bloomberg-menu&amp;utm_medium=bcom\">News Bureaus</a></li></ul></section>            <section class=\"bb-that-category\">\\n    <h2 class=\"bb-that-category__title\">Media Services</h2>\\n    <ul class=\"bb-that-category__content\"><li class=\"bb-that-category__item\"><a class=\"bb-that-category__link\" href=\"http://www.bloomberg.com/distribution?utm_source=bloomberg-menu&amp;utm_medium=bcom\">Bloomberg Media Distribution</a></li><li class=\"bb-that-category__item\"><a class=\"bb-that-category__link\" href=\"http://www.bloombergmedia.com/?utm_source=bloomberg-menu&amp;utm_medium=bcom\">Advertising</a></li></ul></section>    </li>\\n            </ul>\\n\\n        <ul class=\"bb-that__sitemap-sections bb-that--visible-sm\">\\n                    <li class=\"bb-that__col bb-that__col--sm\">\\n            <section class=\"bb-that-category\">\\n    <h2 class=\"bb-that-category__title\">Company</h2>\\n    <ul class=\"bb-that-category__content\"><li class=\"bb-that-category__item\"><a class=\"bb-that-category__link\" href=\"http://www.bloomberg.com/company/london/?utm_source=bloomberg-menu&amp;utm_medium=bcom\">Bloomberg London</a></li><li class=\"bb-that-category__item\"><a class=\"bb-that-category__link\" href=\"https://www.bloomberg.com/company/?utm_source=bloomberg-menu&amp;utm_medium=bcom\">About</a></li><li class=\"bb-that-category__item\"><a class=\"bb-that-category__link\" href=\"http://www.bloomberg.com/careers/?utm_source=bloomberg-menu&amp;utm_medium=bcom\">Careers</a></li><li class=\"bb-that-category__item\"><a class=\"bb-that-category__link\" href=\"http://www.bloomberg.com/diversity-inclusion/?utm_source=bloomberg-menu&amp;utm_medium=bcom\">Diversity and Inclusion</a></li><li class=\"bb-that-category__item\"><a class=\"bb-that-category__link\" href=\"http://www.bloomberg.com/philanthropy/?utm_source=bloomberg-menu&amp;utm_medium=bcom\">Philanthropy and Engagement</a></li><li class=\"bb-that-category__item\"><a class=\"bb-that-category__link\" href=\"http://www.bloomberg.com/bcause/?utm_source=bloomberg-menu&amp;utm_medium=bcom\">Sustainability</a></li><li class=\"bb-that-category__item\"><a class=\"bb-that-category__link\" href=\"http://www.techatbloomberg.com?utm_source=bloomberg-menu&amp;utm_medium=bcom\">Tech</a></li></ul></section>            <section class=\"bb-that-category\">\\n    <h2 class=\"bb-that-category__title\">Communications</h2>\\n    <ul class=\"bb-that-category__content\"><li class=\"bb-that-category__item\"><a class=\"bb-that-category__link\" href=\"http://www.bloomberg.com/company/announcements/?utm_source=bloomberg-menu&amp;utm_medium=bcom\">Press Announcements</a></li><li class=\"bb-that-category__item\"><a class=\"bb-that-category__link\" href=\"http://www.bloomberg.com/company/press-contacts/?utm_source=bloomberg-menu&amp;utm_medium=bcom\">Press Contacts</a></li></ul></section>            <section class=\"bb-that-category\">\\n    <h2 class=\"bb-that-category__title\">Follow</h2>\\n    <ul class=\"bb-that-category__content\"><li class=\"bb-that-category__item\"><a href=\"http://www.facebook.com/Bloomberglp\" class=\"bb-that-category__social-link bb-that--icon-facebook\" target=\"_blank\">Facebook</a></li><li class=\"bb-that-category__item\"><a href=\"https://twitter.com/bloomberg\" class=\"bb-that-category__social-link bb-that--icon-twitter\" target=\"_blank\">Twitter</a></li><li class=\"bb-that-category__item\"><a href=\"https://www.linkedin.com/company/2494\" class=\"bb-that-category__social-link bb-that--icon-linkedin\" target=\"_blank\">LinkedIn</a></li><li class=\"bb-that-category__item\"><a href=\"https://www.instagram.com/bloomberg/\" class=\"bb-that-category__social-link bb-that--icon-instagram\" target=\"_blank\">Instagram</a></li></ul></section>    </li>\\n                    <li class=\"bb-that__col bb-that__col--sm\">\\n            <section class=\"bb-that-category\">\\n    <h2 class=\"bb-that-category__title\">Products</h2>\\n    <ul class=\"bb-that-category__content\"><li class=\"bb-that-category__item\"><a class=\"bb-that-category__link\" href=\"http://www.bloomberg.com/professional/solution/bloomberg-terminal/?utm_source=bloomberg-menu&amp;utm_medium=bcom&amp;bbgsum=DG-WS-PROF-SOLU-TERMINAL-bbgmenu\">Bloomberg Terminal</a></li><li class=\"bb-that-category__item\"><a class=\"bb-that-category__link\" href=\"https://www.bloomberg.com/professional/solution/execution-order-management/?utm_source=bloomberg-menu&amp;utm_medium=bcom&amp;bbgsum=DG-WS-PROF-SOLU-EXORDMGMT-bbgmenu\">Execution and<br> Order Management</a></li><li class=\"bb-that-category__item\"><a class=\"bb-that-category__link\" href=\"https://www.bloomberg.com/professional/solution/data-and-content/?utm_source=bloomberg-menu&amp;utm_medium=bcom&amp;bbgsum=DG-WS-PROF-SOLU-DATACONT-bbgmenu\">Data and Content</a></li><li class=\"bb-that-category__item\"><a class=\"bb-that-category__link\" href=\"https://www.bloomberg.com/professional/solution/financial-data-management/?utm_source=bloomberg-menu&amp;utm_medium=bcom&amp;bbgsum=DG-WS-PROF-SOLU-FINDATA-bbgmenu\">Financial Data<br> Management</a></li><li class=\"bb-that-category__item\"><a class=\"bb-that-category__link\" href=\"https://www.bloomberg.com/professional/solution/integration-and-distribution/?utm_source=bloomberg-menu&amp;utm_medium=bcom&amp;bbgsum=DG-WS-PROF-SOLU-INTEGDIST-bbgmenu\">Integration and<br> Distribution</a></li><li class=\"bb-that-category__item\"><a class=\"bb-that-category__link\" href=\"https://www.bloomberg.com/professional/solution/tradebook/?utm_source=bloomberg-menu&amp;utm_medium=bcom&amp;bbgsum=DG-WS-PROF-SOLU-TBOOK-bbgmenu\">Bloomberg<br> Tradebook</a></li></ul></section>            <section class=\"bb-that-category\">\\n    <h2 class=\"bb-that-category__title\">Industry Products</h2>\\n    <ul class=\"bb-that-category__content\"><li class=\"bb-that-category__item\"><a class=\"bb-that-category__link\" href=\"https://www.bna.com/bloomberglaw/?utm_source=bloomberg-menu&amp;utm_medium=bcom\">Bloomberg Law</a></li><li class=\"bb-that-category__item\"><a class=\"bb-that-category__link\" href=\"https://www.bna.com/tax?utm_source=bloomberg-menu&amp;utm_medium=bcom\">Bloomberg Tax</a></li><li class=\"bb-that-category__item\"><a class=\"bb-that-category__link\" href=\"http://about.bgov.com/?utm_source=bloomberg-menu&amp;utm_medium=bcom\">Bloomberg Government</a></li><li class=\"bb-that-category__item\"><a class=\"bb-that-category__link\" href=\"https://www.bna.com/ehs/?utm_source=bloomberg-menu&amp;utm_medium=bcom\">Bloomberg Environment</a></li><li class=\"bb-that-category__item\"><a class=\"bb-that-category__link\" href=\"http://about.bnef.com/?utm_source=bloomberg-menu&amp;utm_medium=bcom\">Bloomberg New Energy Finance</a></li></ul></section>    </li>\\n                    <li class=\"bb-that__col bb-that__col--sm\">\\n            <section class=\"bb-that-category\">\\n    <h2 class=\"bb-that-category__title\">Media</h2>\\n    <ul class=\"bb-that-category__content\"><li class=\"bb-that-category__item\"><a class=\"bb-that-category__link\" href=\"https://www.bloomberg.com/markets/?utm_source=bloomberg-menu&amp;utm_medium=bcom\">Bloomberg Markets</a></li><li class=\"bb-that-category__item\"><a class=\"bb-that-category__link\" href=\"https://www.bloomberg.com/technology/?utm_source=bloomberg-menu&amp;utm_medium=bcom\">Bloomberg<br> Technology</a></li><li class=\"bb-that-category__item\"><a class=\"bb-that-category__link\" href=\"https://www.bloomberg.com/pursuits/?utm_source=bloomberg-menu&amp;utm_medium=bcom\">Bloomberg Pursuits</a></li><li class=\"bb-that-category__item\"><a class=\"bb-that-category__link\" href=\"http://www.bloomberg.com/politics/?utm_source=bloomberg-menu&amp;utm_medium=bcom\">Bloomberg Politics</a></li><li class=\"bb-that-category__item\"><a class=\"bb-that-category__link\" href=\"https://www.bloomberg.com/view/?utm_source=bloomberg-menu&amp;utm_medium=bcom\">Bloomberg Opinion</a></li><li class=\"bb-that-category__item\"><a class=\"bb-that-category__link\" href=\"https://www.bloomberg.com/businessweek/?utm_source=bloomberg-menu&amp;utm_medium=bcom\">Bloomberg<br> Businessweek</a></li><li class=\"bb-that-category__item\"><a class=\"bb-that-category__link\" href=\"http://www.bloomberglive.com/?utm_source=bloomberg-menu&amp;utm_medium=bcom\">Bloomberg Live Conferences</a></li><li class=\"bb-that-category__item\"><a class=\"bb-that-category__link\" href=\"https://www.bloombergapps.com/?utm_source=bloomberg-menu&amp;utm_medium=bcom\">Bloomberg Apps</a></li><li class=\"bb-that-category__item\"><a class=\"bb-that-category__link\" href=\"https://www.bloombergradio.com/?utm_source=bloomberg-menu&amp;utm_medium=bcom\">Bloomberg Radio</a></li><li class=\"bb-that-category__item\"><a class=\"bb-that-category__link\" href=\"http://www.bloomberg.com/live?utm_source=bloomberg-menu&amp;utm_medium=bcom\">Bloomberg Television</a></li><li class=\"bb-that-category__item\"><a class=\"bb-that-category__link\" href=\"http://www.bloomberg.com/company/news-bureaus/?utm_source=bloomberg-menu&amp;utm_medium=bcom\">News Bureaus</a></li></ul></section>            <section class=\"bb-that-category\">\\n    <h2 class=\"bb-that-category__title\">Media Services</h2>\\n    <ul class=\"bb-that-category__content\"><li class=\"bb-that-category__item\"><a class=\"bb-that-category__link\" href=\"http://www.bloomberg.com/distribution?utm_source=bloomberg-menu&amp;utm_medium=bcom\">Bloomberg Media Distribution</a></li><li class=\"bb-that-category__item\"><a class=\"bb-that-category__link\" href=\"http://www.bloombergmedia.com/?utm_source=bloomberg-menu&amp;utm_medium=bcom\">Advertising</a></li></ul></section>    </li>\\n                    <li class=\"bb-that__col bb-that__col--sm\">\\n            <section class=\"bb-that-category\">\\n    <h2 class=\"bb-that-category__title\">Bloomberg</h2>\\n    <div class=\"bb-that-category__content\"><p class=\"bb-that-category__text\">Connecting decision makers to a dynamic network of information, people and ideas, Bloomberg quickly and accurately delivers business and financial information, news and insight around the world.</p></div></section>            <section class=\"bb-that-category\">\\n    <h2 class=\"bb-that-category__title\">For Customers</h2>\\n    <div class=\"bb-that-category__content\"><li class=\"bb-that-category__item\"><a class=\"bb-that-category__link\" href=\"https://bba.bloomberg.net/?utm_source=bloomberg-menu&amp;utm_medium=bcom\">Bloomberg Anywhere Remote Login</a></li><li class=\"bb-that-category__item\"><a class=\"bb-that-category__link\" href=\"http://www.bloomberg.com/professional/downloads/?utm_source=bloomberg-menu&amp;utm_medium=bcom\">Software Updates</a></li><li class=\"bb-that-category__item\"><a class=\"bb-that-category__link\" href=\"http://service.bloomberg.com/portal/sessions/new?utm_source=bloomberg-menu&amp;utm_medium=bcom\">Manage Contracts and Orders</a></li></div></section>            <section class=\"bb-that-category\">\\n    <h2 class=\"bb-that-category__title\">Support</h2>\\n    <div class=\"bb-that-category__content\"><p class=\"bb-that-category__text\"><span>Americas</span>+1 212 318 2000</p><p class=\"bb-that-category__text\"><span>EMEA</span>+44 20 7330 7500</p><p class=\"bb-that-category__text\"><span>Asia Pacific</span>+65 6212 1000</p></div></section>    </li>\\n            </ul>\\n</div>    </nav>\\n</div>\\n </div><div class=\"container\"><div class=\"facemelter-container\"> <div class=\"facemelter-container__background\"></div><div class=\"bb-nav-placeholder\"> <div class=\"bb-nav-root\"> <nav is=\"bb-nav\" class=\"bb-nav\" id=\"bb-nav\" data-theme=\"default\" data-mode=\"business-home\" data-reg-env=\"production\" data-progress=\"0\" data-headline=\"\" data-base=\"https://nav.bloomberg.com\" data-tracker-category=\"nav\" data-tracker-events=\"click\" data-tracker-label=\"header\" data-site=\"global\" data-persist-for=\"none\"> <div class=\"bb-nav__container\"> <div class=\"bb-nav__content\"> <h1 class=\"bb-nav-logo\" is=\"bb-nav-logo\"> <div class=\"bb-nav-logo__rubix\" data-tracker-label=\"bomb.open.rubix_button\" data-tracker-action=\"click\"></div> <div class=\"bb-nav-logo__menu\" data-tracker-label=\"bomb.open.menu_button\" data-tracker-action=\"click\"> <div class=\"bb-nav-logo__menu-link\">MENU</div> </div> <a href=\"http://www.bloomberg.com\" class=\"bb-nav-logo__link\" data-tracker-label=\"logo\" data-tracker-action=\"click\"></a> <div class=\"bb-nav-logo__arrow\"></div> </h1><div class=\"bb-nav-content-logo\" is=\"bb-nav-content-logo\"> <h1 class=\"bb-nav-content-logo__headline\" data-tracker-label=\"content\"> <a href=\"http://www.bloomberg.com\" class=\"bb-nav-content-logo__site\" data-tracker-label=\"logo\" data-tracker-action=\"click\"></a> </h1> <div class=\"bb-nav-content-logo__down-arrow\" data-tracker-label=\"expand\" data-tracker-action=\"click\"></div> </div><h2 class=\"bb-nav-headline\"></h2><bb-experience-select class=\"bb-nav-experience-select\"></bb-experience-select><div class=\"bb-nav-categories\"> <ul class=\"bb-nav-categories__container\"> <li class=\"bb-nav-categories__category bb-nav-categories__about has-submenu\"> <div class=\"bb-nav-submenu\" is=\"bb-nav-submenu\"> <div class=\"bb-nav-submenu__content\"> <div class=\"bb-nav-submenu__inner\"> <ul class=\"bb-nav-submenu__categories\"> <li class=\"bb-nav-submenu__category\"> <a class=\"bb-nav-submenu__category-link\" data-subroute=\"\" href=\"https://www.bloomberg.com/company/\" data-tracker-label=\"about_the_company\" data-tracker-action=\"click\"> About The Company </a> </li><li class=\"bb-nav-submenu__category\"> <a class=\"bb-nav-submenu__category-link\" data-subroute=\"\" href=\"https://www.bloomberg.com/company/london\" data-tracker-label=\"bloomberg_london\" data-tracker-action=\"click\"> Bloomberg London </a> </li> </ul> <div class=\"bb-nav-submenu__cards\" hidden=\"\"></div> </div> </div> </div> </li> <li class=\"bb-nav-categories__home\"> <a href=\"http://www.bloomberg.com\" class=\"bb-nav-categories__home-link\"> Homepage </a> </li> <li is=\"bb-nav-category\" class=\"bb-nav-categories__category has-submenu \" data-tracker-label=\"markets\" data-vertical=\"markets\"> <div class=\"bb-nav-categories__category-container\"> <div class=\"bb-nav-categories__notch\"></div> <a href=\"http://www.bloomberg.com/markets\" class=\"bb-nav-categories__link\" data-category-path=\"/markets\" data-category-vertical=\"markets\" target=\"_self\" data-tracker-action=\"click\">Markets</a> </div> <div class=\"bb-nav-submenu\" is=\"bb-nav-submenu\"> <div class=\"bb-nav-submenu__content\"> <div class=\"bb-nav-submenu__inner\"> <ul class=\"bb-nav-submenu__categories\"> <li class=\"bb-nav-submenu__category\"> <a class=\"bb-nav-submenu__category-link\" data-subroute=\"https://nav.bloomberg.com/global/api/markets_stocks\" href=\"https://www.bloomberg.com/markets/stocks\" data-tracker-label=\"stocks\" data-tracker-action=\"click\"> Stocks </a> </li><li class=\"bb-nav-submenu__category\"> <a class=\"bb-nav-submenu__category-link\" data-subroute=\"https://nav.bloomberg.com/global/api/markets_currencies\" href=\"https://www.bloomberg.com/markets/currencies\" data-tracker-label=\"currencies\" data-tracker-action=\"click\"> Currencies </a> </li><li class=\"bb-nav-submenu__category\"> <a class=\"bb-nav-submenu__category-link\" data-subroute=\"https://nav.bloomberg.com/global/api/markets_fixed_income\" href=\"https://www.bloomberg.com/markets/fixed-income\" data-tracker-label=\"fixed_income\" data-tracker-action=\"click\"> Fixed Income </a> </li><li class=\"bb-nav-submenu__category\"> <a class=\"bb-nav-submenu__category-link\" data-subroute=\"https://nav.bloomberg.com/global/api/markets_etfs\" href=\"https://www.bloomberg.com/markets/etfs\" data-tracker-label=\"etfs\" data-tracker-action=\"click\"> ETFs </a> </li><li class=\"bb-nav-submenu__category\"> <a class=\"bb-nav-submenu__category-link\" data-subroute=\"https://nav.bloomberg.com/global/api/markets_commodities\" href=\"https://www.bloomberg.com/markets/commodities\" data-tracker-label=\"commodities\" data-tracker-action=\"click\"> Commodities </a> </li><li class=\"bb-nav-submenu__category\"> <a class=\"bb-nav-submenu__category-link\" data-subroute=\"https://nav.bloomberg.com/global/api/markets_rates_bonds\" href=\"https://www.bloomberg.com/markets/rates-bonds\" data-tracker-label=\"rates_plus_bonds\" data-tracker-action=\"click\"> Rates + Bonds </a> </li><li class=\"bb-nav-submenu__category\"> <a class=\"bb-nav-submenu__category-link\" data-subroute=\"https://nav.bloomberg.com/global/api/markets_economics\" href=\"https://www.bloomberg.com/markets/economics\" data-tracker-label=\"economics\" data-tracker-action=\"click\"> Economics </a> </li><li class=\"bb-nav-submenu__category\"> <a class=\"bb-nav-submenu__category-link\" data-subroute=\"https://nav.bloomberg.com/global/api/markets_magazine\" href=\"https://www.bloomberg.com/markets/markets-magazine\" data-tracker-label=\"magazine\" data-tracker-action=\"click\"> Magazine </a> </li><li class=\"bb-nav-submenu__category\"> <a class=\"bb-nav-submenu__category-link\" data-subroute=\"https://nav.bloomberg.com/global/api/markets_benchmark\" href=\"https://www.bloomberg.com/markets/benchmark\" data-tracker-label=\"benchmark\" data-tracker-action=\"click\"> Benchmark </a> </li><li class=\"bb-nav-submenu__category\"> <a class=\"bb-nav-submenu__category-link\" data-subroute=\"https://nav.bloomberg.com/global/api/markets_watchlist\" href=\"https://www.bloomberg.com/markets/watchlist\" data-tracker-label=\"watchlist\" data-tracker-action=\"click\"> Watchlist </a> </li><li class=\"bb-nav-submenu__category\"> <a class=\"bb-nav-submenu__category-link\" data-subroute=\"https://nav.bloomberg.com/global/api/markets_economic_calendar\" href=\"https://www.bloomberg.com/markets/economic-calendar\" data-tracker-label=\"economic_calendar\" data-tracker-action=\"click\"> Economic Calendar </a> </li> </ul> <div class=\"bb-nav-submenu__cards\" hidden=\"\"></div> </div> </div> </div> </li><li is=\"bb-nav-category\" class=\"bb-nav-categories__category has-submenu \" data-tracker-label=\"technology\" data-vertical=\"technology\"> <div class=\"bb-nav-categories__category-container\"> <div class=\"bb-nav-categories__notch\"></div> <a href=\"http://www.bloomberg.com/technology\" class=\"bb-nav-categories__link\" data-category-path=\"/technology\" data-category-vertical=\"technology\" target=\"_self\" data-tracker-action=\"click\">Tech</a> </div> <div class=\"bb-nav-submenu\" is=\"bb-nav-submenu\"> <div class=\"bb-nav-submenu__content\"> <div class=\"bb-nav-submenu__inner\"> <ul class=\"bb-nav-submenu__categories\"> <li class=\"bb-nav-submenu__category\"> <a class=\"bb-nav-submenu__category-link\" data-subroute=\"https://nav.bloomberg.com/global/api/technology_us\" href=\"https://www.bloomberg.com/topics/silicon-valley\" data-tracker-label=\"us\" data-tracker-action=\"click\"> U.S. </a> </li><li class=\"bb-nav-submenu__category\"> <a class=\"bb-nav-submenu__category-link\" data-subroute=\"https://nav.bloomberg.com/global/api/technology_global\" href=\"https://www.bloomberg.com/topics/global-tech\" data-tracker-label=\"global\" data-tracker-action=\"click\"> Global </a> </li><li class=\"bb-nav-submenu__category\"> <a class=\"bb-nav-submenu__category-link\" data-subroute=\"https://nav.bloomberg.com/global/api/technology_start_ups\" href=\"https://www.bloomberg.com/topics/startups\" data-tracker-label=\"startups\" data-tracker-action=\"click\"> Startups </a> </li><li class=\"bb-nav-submenu__category\"> <a class=\"bb-nav-submenu__category-link\" data-subroute=\"https://nav.bloomberg.com/global/api/technology_bloomberg_tv\" href=\"https://www.bloomberg.com/shows/bloomberg-technology\" data-tracker-label=\"bloomberg_technology_tv\" data-tracker-action=\"click\"> Bloomberg Technology TV </a> </li><li class=\"bb-nav-submenu__category\"> <a class=\"bb-nav-submenu__category-link\" data-subroute=\"https://nav.bloomberg.com/global/api/news_special-reports_gadgets-with-gurman\" href=\"https://www.bloomberg.com/news/special-reports/gadgets-with-gurman\" data-tracker-label=\"gadgets_with_gurman\" data-tracker-action=\"click\"> Gadgets With Gurman </a> </li><li class=\"bb-nav-submenu__category\"> <a class=\"bb-nav-submenu__category-link\" data-subroute=\"https://nav.bloomberg.com/global/api/news_special-reports_digital-defense\" href=\"https://www.bloomberg.com/news/special-reports/digital-defense\" data-tracker-label=\"digital_defense\" data-tracker-action=\"click\"> Digital Defense </a> </li><li class=\"bb-nav-submenu__category\"> <a class=\"bb-nav-submenu__category-link\" data-subroute=\"https://nav.bloomberg.com/global/api/technology_studio_1\" href=\"https://www.bloomberg.com/shows/studio-1\" data-tracker-label=\"studio_10\" data-tracker-action=\"click\"> Studio 1.0 </a> </li><li class=\"bb-nav-submenu__category\"> <a class=\"bb-nav-submenu__category-link\" data-subroute=\"https://nav.bloomberg.com/global/api/news_special-reports_focus-on-infrastructure\" href=\"https://www.bloomberg.com/news/special-reports/focus-on-infrastructure\" data-tracker-label=\"focus_on__infrastructure\" data-tracker-action=\"click\"> Focus On: Infrastructure </a> </li> </ul> <div class=\"bb-nav-submenu__cards\" hidden=\"\"></div> </div> </div> </div> </li><li is=\"bb-nav-category\" class=\"bb-nav-categories__category has-submenu \" data-tracker-label=\"pursuits\" data-vertical=\"pursuits\"> <div class=\"bb-nav-categories__category-container\"> <div class=\"bb-nav-categories__notch\"></div> <a href=\"http://www.bloomberg.com/pursuits\" class=\"bb-nav-categories__link\" data-category-path=\"/pursuits\" data-category-vertical=\"pursuits\" target=\"_self\" data-tracker-action=\"click\">Pursuits</a> </div> <div class=\"bb-nav-submenu\" is=\"bb-nav-submenu\"> <div class=\"bb-nav-submenu__content\"> <div class=\"bb-nav-submenu__inner\"> <ul class=\"bb-nav-submenu__categories\"> <li class=\"bb-nav-submenu__category\"> <a class=\"bb-nav-submenu__category-link\" data-subroute=\"https://nav.bloomberg.com/global/api/pursuits_autos\" href=\"https://www.bloomberg.com/pursuits/cars-bikes\" data-tracker-label=\"cars_and_bikes\" data-tracker-action=\"click\"> Cars &amp; Bikes </a> </li><li class=\"bb-nav-submenu__category\"> <a class=\"bb-nav-submenu__category-link\" data-subroute=\"https://nav.bloomberg.com/global/api/pursuits_style\" href=\"https://www.bloomberg.com/pursuits/style-grooming\" data-tracker-label=\"style_and_grooming\" data-tracker-action=\"click\"> Style &amp; Grooming </a> </li><li class=\"bb-nav-submenu__category\"> <a class=\"bb-nav-submenu__category-link\" data-subroute=\"https://nav.bloomberg.com/global/api/pursuits_scene\" href=\"https://www.bloomberg.com/pursuits/spend\" data-tracker-label=\"spend\" data-tracker-action=\"click\"> Spend </a> </li><li class=\"bb-nav-submenu__category\"> <a class=\"bb-nav-submenu__category-link\" data-subroute=\"https://nav.bloomberg.com/global/api/pursuits_timepieces\" href=\"https://www.bloomberg.com/pursuits/watches-gadgets\" data-tracker-label=\"watches_and_gadgets\" data-tracker-action=\"click\"> Watches &amp; Gadgets </a> </li><li class=\"bb-nav-submenu__category\"> <a class=\"bb-nav-submenu__category-link\" data-subroute=\"https://nav.bloomberg.com/global/api/pursuits_food\" href=\"https://www.bloomberg.com/pursuits/food-drinks\" data-tracker-label=\"food_and_drinks\" data-tracker-action=\"click\"> Food &amp; Drinks </a> </li><li class=\"bb-nav-submenu__category\"> <a class=\"bb-nav-submenu__category-link\" data-subroute=\"https://nav.bloomberg.com/global/api/pursuits_travel\" href=\"https://www.bloomberg.com/pursuits/travel\" data-tracker-label=\"travel\" data-tracker-action=\"click\"> Travel </a> </li><li class=\"bb-nav-submenu__category\"> <a class=\"bb-nav-submenu__category-link\" data-subroute=\"https://nav.bloomberg.com/global/api/pursuits_property\" href=\"https://www.bloomberg.com/pursuits/real-estate\" data-tracker-label=\"real_estate\" data-tracker-action=\"click\"> Real Estate </a> </li><li class=\"bb-nav-submenu__category\"> <a class=\"bb-nav-submenu__category-link\" data-subroute=\"https://nav.bloomberg.com/global/api/pursuits_art\" href=\"https://www.bloomberg.com/pursuits/art-design\" data-tracker-label=\"art_and_design\" data-tracker-action=\"click\"> Art &amp; Design </a> </li><li class=\"bb-nav-submenu__category\"> <a class=\"bb-nav-submenu__category-link\" data-subroute=\"\" href=\"https://www.bloomberg.com/shows/brilliant-ideas\" data-tracker-label=\"brilliant_ideas\" data-tracker-action=\"click\"> Brilliant Ideas </a> </li> </ul> <div class=\"bb-nav-submenu__cards\" hidden=\"\"></div> </div> </div> </div> </li><li is=\"bb-nav-category\" class=\"bb-nav-categories__category has-submenu \" data-tracker-label=\"politics\" data-vertical=\"politics\"> <div class=\"bb-nav-categories__category-container\"> <div class=\"bb-nav-categories__notch\"></div> <a href=\"http://www.bloomberg.com/politics\" class=\"bb-nav-categories__link\" data-category-path=\"/politics\" data-category-vertical=\"politics\" target=\"_self\" data-tracker-action=\"click\">Politics</a> </div> <div class=\"bb-nav-submenu\" is=\"bb-nav-submenu\"> <div class=\"bb-nav-submenu__content\"> <div class=\"bb-nav-submenu__inner\"> <ul class=\"bb-nav-submenu__categories\"> <li class=\"bb-nav-submenu__category\"> <a class=\"bb-nav-submenu__category-link\" data-subroute=\"\" href=\"https://www.bloomberg.com/graphics/global-risk-briefing/\" data-tracker-label=\"global_risk_briefing\" data-tracker-action=\"click\"> Global Risk Briefing </a> </li><li class=\"bb-nav-submenu__category\"> <a class=\"bb-nav-submenu__category-link\" data-subroute=\"\" href=\"https://www.bloomberg.com/graphics/2017-how-well-know-if-trump-is-making-america-great-again/\" data-tracker-label=\"road_to_brexit__the_heartlands_where_a_good_deal_matters_most\" data-tracker-action=\"click\"> Road to Brexit: The Heartlands Where a Good Deal Matters Most </a> </li><li class=\"bb-nav-submenu__category\"> <a class=\"bb-nav-submenu__category-link\" data-subroute=\"\" href=\"https://www.bloomberg.com/graphics/tracking-trumps-web-of-conflicts/\" data-tracker-label=\"tracking_trump\\xe2\\x80\\x99s_web_of_conflicts\" data-tracker-action=\"click\"> Tracking Trump\\xe2\\x80\\x99s Web of Conflicts </a> </li><li class=\"bb-nav-submenu__category\"> <a class=\"bb-nav-submenu__category-link\" data-subroute=\"\" href=\"https://www.bloomberg.com/graphics/2017-senate-vs-house-tax-bills/\" data-tracker-label=\"how_the_house_and_senate_tax_bills_stack_up\" data-tracker-action=\"click\"> How the House and Senate Tax Bills Stack Up </a> </li><li class=\"bb-nav-submenu__category\"> <a class=\"bb-nav-submenu__category-link\" data-subroute=\"\" href=\"https://www.bloomberg.com/graphics/2017-nkorea-missiles/\" data-tracker-label=\"kim_jong_un\\xe2\\x80\\x99s_big_nuclear_push_is_closing_in_on_america\" data-tracker-action=\"click\"> Kim Jong Un\\xe2\\x80\\x99s Big Nuclear Push Is Closing In on America </a> </li> </ul> <div class=\"bb-nav-submenu__cards\" hidden=\"\"></div> </div> </div> </div> </li><li is=\"bb-nav-category\" class=\"bb-nav-categories__category has-submenu \" data-tracker-label=\"opinion\" data-vertical=\"opinion\"> <div class=\"bb-nav-categories__category-container\"> <div class=\"bb-nav-categories__notch\"></div> <span class=\"bb-nav-categories__link\" data-category-path=\"/opinion\" data-category-vertical=\"opinion\" target=\"_self\" data-tracker-action=\"click\">Opinion</span> </div> <div class=\"bb-nav-submenu\" is=\"bb-nav-submenu\"> <div class=\"bb-nav-submenu__content\"> <div class=\"bb-nav-submenu__inner\"> <ul class=\"bb-nav-submenu__categories\"> <li class=\"bb-nav-submenu__category\"> <a class=\"bb-nav-submenu__category-link\" data-subroute=\"https://nav.bloomberg.com/global/api/opinion_view\" href=\"https://www.bloomberg.com/view/\" data-tracker-label=\"view\" data-tracker-action=\"click\"> View </a> </li><li class=\"bb-nav-submenu__category\"> <a class=\"bb-nav-submenu__category-link\" data-subroute=\"https://nav.bloomberg.com/global/api/opinion_gadfly\" href=\"https://www.bloomberg.com/gadfly/\" data-tracker-label=\"gadfly\" data-tracker-action=\"click\"> Gadfly </a> </li> </ul> <div class=\"bb-nav-submenu__cards\" hidden=\"\"></div> </div> </div> </div> </li><li is=\"bb-nav-category\" class=\"bb-nav-categories__category has-submenu \" data-tracker-label=\"businessweek\" data-vertical=\"businessweek\"> <div class=\"bb-nav-categories__category-container\"> <div class=\"bb-nav-categories__notch\"></div> <a href=\"http://www.bloomberg.com/businessweek\" class=\"bb-nav-categories__link\" data-category-path=\"/businessweek\" data-category-vertical=\"businessweek\" target=\"_self\" data-tracker-action=\"click\">Businessweek</a> </div> <div class=\"bb-nav-submenu\" is=\"bb-nav-submenu\"> <div class=\"bb-nav-submenu__content\"> <div class=\"bb-nav-submenu__inner\"> <ul class=\"bb-nav-submenu__categories\"> <li class=\"bb-nav-submenu__category\"> <a class=\"bb-nav-submenu__category-link\" data-subroute=\"\" href=\"https://www.bloomberg.com/magazine/businessweek/17_44\" data-tracker-label=\"latest_issue\" data-tracker-action=\"click\"> Latest Issue </a> </li><li class=\"bb-nav-submenu__category\"> <a class=\"bb-nav-submenu__category-link\" data-subroute=\"\" href=\"https://www.bloomberg.com/podcasts/debrief\" data-tracker-label=\"debrief_podcast\" data-tracker-action=\"click\"> Debrief Podcast </a> </li><li class=\"bb-nav-submenu__category\"> <a class=\"bb-nav-submenu__category-link\" data-subroute=\"https://nav.bloomberg.com/global/api/businessweek_subscribe\" href=\"https://subscribe.businessweek.com/servlet/OrdersGateway?cds_mag_code=BWK&amp;cds_page_id=221240&amp;source=bbwnavbar\" data-tracker-label=\"subscribe\" data-tracker-action=\"click\"> Subscribe </a> </li> </ul> <div class=\"bb-nav-submenu__cards\" hidden=\"\"></div> </div> </div> </div> </li><li is=\"bb-nav-category\" class=\"bb-nav-categories__category has-submenu \" data-tracker-label=\"footer\" data-vertical=\"footer\"> <div class=\"bb-nav-categories__category-container\"> <div class=\"bb-nav-categories__notch\"></div> <span class=\"bb-nav-categories__link\" data-category-path=\"/footer\" data-category-vertical=\"footer\" target=\"_self\" data-tracker-action=\"click\">More</span> </div> <div class=\"bb-nav-submenu\" is=\"bb-nav-submenu\"> <div class=\"bb-nav-submenu__content\"> <div class=\"bb-nav-submenu__inner\"> <ul class=\"bb-nav-submenu__categories\"> <li class=\"bb-nav-submenu__category\"> <a class=\"bb-nav-submenu__category-link\" data-subroute=\"\" href=\"https://www.bloomberg.com/climate-changed\" data-tracker-label=\"climate_changed\" data-tracker-action=\"click\"> Climate Changed </a> </li><li class=\"bb-nav-submenu__category\"> <a class=\"bb-nav-submenu__category-link\" data-subroute=\"\" href=\"https://www.bloomberg.com/graphics\" data-tracker-label=\"graphics\" data-tracker-action=\"click\"> Graphics </a> </li><li class=\"bb-nav-submenu__category\"> <a class=\"bb-nav-submenu__category-link\" data-subroute=\"\" href=\"https://www.bloomberg.com/billionaires/\" data-tracker-label=\"billionaires\" data-tracker-action=\"click\"> Billionaires </a> </li><li class=\"bb-nav-submenu__category\"> <a class=\"bb-nav-submenu__category-link\" data-subroute=\"\" href=\"https://www.bloomberg.com/game-plan\" data-tracker-label=\"game_plan\" data-tracker-action=\"click\"> Game Plan </a> </li><li class=\"bb-nav-submenu__category\"> <a class=\"bb-nav-submenu__category-link\" data-subroute=\"\" href=\"https://www.bloomberg.com/small-business\" data-tracker-label=\"small_business\" data-tracker-action=\"click\"> Small Business </a> </li><li class=\"bb-nav-submenu__category\"> <a class=\"bb-nav-submenu__category-link\" data-subroute=\"\" href=\"https://www.bloomberg.com/personal-finance\" data-tracker-label=\"personal_finance\" data-tracker-action=\"click\"> Personal Finance </a> </li><li class=\"bb-nav-submenu__category\"> <a class=\"bb-nav-submenu__category-link\" data-subroute=\"\" href=\"https://www.bloomberg.com/segments/inspire-go\" data-tracker-label=\"inspire_go\" data-tracker-action=\"click\"> Inspire GO </a> </li><li class=\"bb-nav-submenu__category\"> <a class=\"bb-nav-submenu__category-link\" data-subroute=\"\" href=\"https://www.bloomberg.com/features/2016-peer-to-peer/\" data-tracker-label=\"the_david_rubenstein_show\" data-tracker-action=\"click\"> The David Rubenstein Show </a> </li><li class=\"bb-nav-submenu__category\"> <a class=\"bb-nav-submenu__category-link\" data-subroute=\"\" href=\"https://www.bloomberg.com/sponsor/partnerships/\" data-tracker-label=\"sponsored_content\" data-tracker-action=\"click\"> Sponsored Content </a> </li><li class=\"bb-nav-submenu__category\"> <a class=\"bb-nav-submenu__category-link\" data-subroute=\"\" href=\"https://www.bloomberg.com/tips/\" data-tracker-label=\"send_tips\" data-tracker-action=\"click\"> Send Tips </a> </li> </ul> <div class=\"bb-nav-submenu__cards\" hidden=\"\"></div> </div> </div> </div> </li> <li class=\"bb-nav-categories__category bb-nav-categories__sign-in\"> <a id=\"bb-nav-dropdown-sign-in\" class=\"bb-nav-categories__sign-in-link\" href=\"https://login.bloomberg.com/?in_source=login_direct\" data-tracker-label=\"sign_in\" data-tracker-action=\"click\"> Sign In </a> </li> <li class=\"bb-nav-categories__category bb-nav-categories__experience\"> <bb-experience-select class=\"bb-nav-mobile-experience-select\"></bb-experience-select> </li> </ul> </div><div class=\"bb-nav-touts\" is=\"bb-nav-touts\" data-tracker-label=\"tout\"> <a target=\"_self\" id=\"bb-nav-sign-in\" class=\"bb-nav-touts__link\" href=\"https://login.bloomberg.com/?in_source=login_direct\" data-tracker-label=\"sign_in\" data-tracker-action=\"click\">Sign In</a> <a target=\"_blank\" class=\"bb-nav-touts__subscribe-link\" href=\"http://businessweekmag.com/navbartextlink\" data-vertical-target=\"businessweek\" data-tracker-label=\"subscribe\" data-tracker-action=\"click\">Subscribe</a> </div><div class=\"bb-nav-social-container\"> <bb-social class=\"bb-nav-social\"></bb-social> </div><div class=\"bb-nav-search\" is=\"bb-nav-search\" data-tracker-label=\"search\"> <form class=\"bb-nav-search__form\" action=\"/search\" method=\"get\" autocomplete=\"false\"> <input type=\"text\" class=\"bb-nav-search__input\" placeholder=\"What are you searching for?\" name=\"query\" autocomplete=\"off\"> </form> <div class=\"bb-search-drawer\" tabindex=\"0\"> <div class=\"bb-search-drawer__content\"> <bb-quick-links></bb-quick-links> <bb-search-suggestions></bb-search-suggestions> </div> </div> </div> <span class=\"bb-nav-search__icon\" data-tracker-label=\"search.icon\" data-tracker-action=\"click\"></span> </div> </div> <div class=\"bb-progress\"> <div class=\"bb-progress__status\"></div> </div> </nav> </div> </div><div class=\"breaking-news-placeholder\">  </div> </div><div class=\"right-below-header-ad-placeholder\"><div data-view-uid=\"0_1\"><div id=\"0_1\" class=\"ad-v2 on-large-desktop on-small-desktop on-tablet constrained-width\" data-position=\"pushdown1\"> <script type=\"text/javascript\"> (function(global) { global.bbLoader.enqueue(\"critical\", function() { global.__bloomberg__.ads.createAd({ adCode: \"business/home\", dimensions: {\"large_desktop\":[[970,380],[970,66],[1,1]],\"small_desktop\":[[970,380],[970,66],[1,1]],\"tablet\":[[970,380],[970,66],[1,1]]}, id: \"0_1\", strategy: \"\", targeting: {\"page\":\"home\",\"position\":\"pushdown1\"}, targetingModifiers: [global.__bloomberg__.byzantium.getTags] }); }); })(window); </script> </div></div></div><div id=\"divIDrefer\">  </div><main id=\"content\" class=\"main-content\"><div class=\"home transporter\" data-view-uid=\"1|0_2\">\\n        <style type=\"text/css\">\\n\\n            .bb-transporter {\\n                position: relative;\\n            }\\n\\n            .bb-transporter:after {\\n                content: \"\";\\n                display: table;\\n                clear: both;\\n            }\\n\\n            .bb-transporter-item {\\n                float: left;\\n                position: relative;\\n                width: 100%;\\n                z-index: 1;\\n                -webkit-backface-visibility: hidden;\\n                backface-visibility: hidden;\\n            }\\n\\n        </style>\\n    <div class=\"home__top-modules bb-transporter-item\" data-transporter-id=\"0\" data-view-uid=\"1|0_2_1\"><div class=\"home__top-of-page\" data-view-uid=\"1|0_2_1_1\"><iframe src=\"//www.bloomberg.com/markets/components/data-drawer?linksType=nav\" class=\"market-summary-v3\" data-view-uid=\"1|0_2_1_1_1\"></iframe><div class=\"home__top-of-home\" data-tracker-label=\"top_of_home.undefined_module\" data-tracker-events=\"click\" data-tracker-category=\"module\"> <div class=\"home__heroes with-box-ad\">  <div class=\"home__markets-bar\" data-view-uid=\"1|0_2_1_1_2\"><div class=\"markets-bar\" data-tracker-events=\"click\" data-tracker-category=\"module\" data-tracker-label=\"markets_bar\"> <div class=\"markets-bar-title\"> <span>Markets Stories</span> </div> <div class=\"markets-bar-marquee\"> <div class=\"markets-bar-collection\"> <div class=\"markets-bar-item\" data-view-uid=\"1|0_2_1_1_2_1\"><div class=\"markets-bar-story\"> <a class=\"markets-bar-item__link\" href=\"https://www.bloomberg.com/politics/articles/2017-12-23/trump-travel-ban-dealt-new-blow-by-san-francisco-appeals-court\" data-tracker-label=\"story.01\" data-tracker-action=\"click\"> <span class=\"markets-bar-item__headline\">Trump Travel Ban Dealt Blow by San Francisco Appeals Court</span>  <time class=\"markets-bar-item__published-at\" datetime=\"2017-12-23T00:06:38.466Z\"> 2 hours ago </time>  </a> </div></div><div class=\"markets-bar-item\" data-view-uid=\"1|0_2_1_1_2_2\"><div class=\"markets-bar-story\"> <a class=\"markets-bar-item__link\" href=\"https://www.bloomberg.com/politics/articles/2017-12-22/saudis-seek-6-billion-from-alwaleed-wall-street-journal-says\" data-tracker-label=\"story.02\" data-tracker-action=\"click\"> <span class=\"markets-bar-item__headline\">Saudis Seek $6 Billion From Alwaleed, Wall Street Journal Says</span>  <time class=\"markets-bar-item__published-at\" datetime=\"2017-12-22T23:26:46.549Z\"> 3 hours ago </time>  </a> </div></div><div class=\"markets-bar-ad\" data-view-uid=\"1|0_2_1_1_2_3\"><div data-view-uid=\"1|0_2_1_1_2_3_1\"><div id=\"1|0_2_1_1_2_3_1\" class=\"ad-v2 on-small-desktop on-large-desktop\" data-position=\"scrollbar\"> <script type=\"text/javascript\"> (function(global) { global.bbLoader.enqueue(\"critical\", function() { global.__bloomberg__.ads.createAd({ adCode: \"business/home\", dimensions: {\"small_desktop\":[[1,1],[5,4]],\"large_desktop\":[[1,1],[5,4]]}, id: \"1|0_2_1_1_2_3_1\", strategy: \"\", targeting: {\"page\":\"home\",\"position\":\"scrollbar\"}, targetingModifiers: [global.__bloomberg__.byzantium.getTags] }); }); })(window); </script> </div></div></div><div class=\"markets-bar-item\" data-view-uid=\"1|0_2_1_1_2_4\"><div class=\"markets-bar-story\"> <a class=\"markets-bar-item__link\" href=\"https://www.bloomberg.com/news/articles/2017-12-22/as-inflation-surges-venezuela-s-holiday-treat-is-out-of-reach\" data-tracker-label=\"story.03\" data-tracker-action=\"click\"> <span class=\"markets-bar-item__headline\">As Venezuela\\xe2\\x80\\x99s Inflation Surges, a Favorite Holiday Treat Is Out of Reach</span>  <time class=\"markets-bar-item__published-at\" datetime=\"2017-12-22T23:25:53.090Z\"> 3 hours ago </time>  </a> </div></div><div class=\"markets-bar-item\" data-view-uid=\"1|0_2_1_1_2_5\"><div class=\"markets-bar-story\"> <a class=\"markets-bar-item__link\" href=\"https://www.bloomberg.com/politics/articles/2017-12-22/billion-dollar-writedowns-pile-up-as-companies-analyze-tax-bill\" data-tracker-label=\"story.04\" data-tracker-action=\"click\"> <span class=\"markets-bar-item__headline\">Billion-Dollar Writedowns Pile Up as Companies Analyze Tax Bill</span>  </a> </div></div><div class=\"markets-bar-item\" data-view-uid=\"1|0_2_1_1_2_6\"><div class=\"markets-bar-story\"> <a class=\"markets-bar-item__link\" href=\"https://www.bloomberg.com/politics/articles/2017-12-22/top-u-s-space-contractors-cited-for-lapses-by-pentagon-watchdog\" data-tracker-label=\"story.05\" data-tracker-action=\"click\"> <span class=\"markets-bar-item__headline\">Pentagon Watchdog Cites Top U.S. Space Contractors for Quality-Control Lapses</span>  </a> </div></div><div class=\"markets-bar-item\" data-view-uid=\"1|0_2_1_1_2_7\"><div class=\"markets-bar-story\"> <a class=\"markets-bar-item__link\" href=\"https://www.bloomberg.com/politics/articles/2017-12-22/gop-bill-s-conflicting-dates-stir-debate-on-early-tax-payments\" data-tracker-label=\"story.06\" data-tracker-action=\"click\"> <span class=\"markets-bar-item__headline\">GOP Bill\\'s Conflicting Dates Stir Debate on Early Tax Payments</span>  </a> </div></div><div class=\"markets-bar-item\" data-view-uid=\"1|0_2_1_1_2_8\"><div class=\"markets-bar-story\"> <a class=\"markets-bar-item__link\" href=\"https://www.bloomberg.com/politics/articles/2017-12-22/-madam-brexit-eyes-2022-vote-after-surviving-tumultuous-year\" data-tracker-label=\"story.07\" data-tracker-action=\"click\"> <span class=\"markets-bar-item__headline\">Theresa May Eyes 2022 Vote After Surviving a Tumultuous Year</span>  </a> </div></div><div class=\"markets-bar-item\" data-view-uid=\"1|0_2_1_1_2_9\"><div class=\"markets-bar-story\"> <a class=\"markets-bar-item__link\" href=\"https://www.bloomberg.com/politics/articles/2017-12-22/bofa-says-tax-act-forces-3-billion-fourth-quarter-earnings-cut\" data-tracker-label=\"story.08\" data-tracker-action=\"click\"> <span class=\"markets-bar-item__headline\">BofA Says Tax Act Forces $3 Billion Fourth-Quarter Earnings Cut</span>  </a> </div></div></div> </div> </div></div><div class=\"home__hero-v6\" data-view-uid=\"1|0_2_1_1_3\"><section class=\"hero-v6 storycount-3\" data-tracker-category=\"module\" data-tracker-events=\"click\" data-tracker-label=\"hero\"> <div class=\"hero-v6__stories\"> <div class=\"hero-v6-story\" data-view-uid=\"1|0_2_1_1_3_1\" data-tracker-label=\"hero-v6.01\" data-tracker-action=\"click\"><a href=\"https://www.bloomberg.com/politics/articles/2017-12-22/un-imposes-new-sanctions-targeting-north-korean-oil-imports\" class=\"hero-v6-story__image\">   <div class=\"hero-v6-story__crop hero-v6-story__crop--small\"> <div class=\"crop\" style=\"background-image: url(https://assets.bwbx.io/images/users/iqjWHBFdfxIU/i0iyYt0lE4kY/v1/488x-1.jpg);\"> </div> </div>  <div class=\"hero-v6-story__crop hero-v6-story__crop--medium\"> <div class=\"crop\" style=\"background-image: url(https://assets.bwbx.io/images/users/iqjWHBFdfxIU/i0iyYt0lE4kY/v1/628x-1.jpg);\"> </div> </div>  <div class=\"hero-v6-story__crop hero-v6-story__crop--large\"> <div class=\"crop\" style=\"background-image: url(https://assets.bwbx.io/images/users/iqjWHBFdfxIU/i0iyYt0lE4kY/v1/750x-1.jpg);\"> </div> </div>  <div class=\"hero-v6-story__crop hero-v6-story__crop--largest\"> <div class=\"crop\" style=\"background-image: url(https://assets.bwbx.io/images/users/iqjWHBFdfxIU/i0iyYt0lE4kY/v1/1200x-1.jpg);\"> </div> </div>  </a> <div class=\"hero-v6-story__content \"> <div class=\"hero-v6-story__info-container\"> <div class=\"hero-v6-story__info\">  <div class=\"hero-v6-story__eyebrow\"> <div class=\"vertical-and-timestamp\">  <div class=\"vertical-label politics\">politics</div>  <time class=\"published-at\" datetime=\"2017-12-22T18:31:39.795Z\"> Updated an hour ago </time> </div> </div>  <div class=\"hero-v6-story__headline\">  <a href=\"/news/articles/2017-12-22/un-imposes-new-sanctions-targeting-north-korean-oil-imports\" class=\"hero-v6-story__headline-link\" data-tracker-label=\"headline\" data-tracker-action=\"click\"> North Korea Sanctions Tightened by UN Following Missile Test </a> </div> </div> </div> <div class=\"hero-v6-story__related-stories\">  <div class=\"hero-v6-story__related-story\"> <span class=\"hero-v6-story__related-story-arrow\"></span> <a class=\"hero-v6-story__related-story-link vertical-technology\" href=\"https://www.bloomberg.com/news/articles/2017-12-22/hardening-power-grids-for-nuclear-and-emp-attacks-by-north-korea\" data-resource-type=\"article\" data-resource-id=\"P1DFKC6TTDS001\" data-tracker-label=\"related_story.1.headline\" data-tracker-action=\"click\"> Can America\\xe2\\x80\\x99s Power Grid Survive an Electromagnetic Attack? </a> </div>  </div> </div> <div class=\"hero-v6-story__social\"> <div class=\"bb-social-links\" data-view-uid=\"1|0_2_1_1_3_1_1\"><a data-view-uid=\"1|0_2_1_1_3_1_1_1\" class=\"bb-social-link bb-social-link--facebook\" href=\"http://www.facebook.com/sharer/sharer.php?u=https%3A%2F%2Fwww.bloomberg.com%2Fpolitics%2Farticles%2F2017-12-22%2Fun-imposes-new-sanctions-targeting-north-korean-oil-imports\" rel=\"nofollow\" data-social-network=\"facebook\" target=\"bb-social-popup--facebook\" data-tracker-label=\"facebook_share\" data-tracker-action=\"share\">Share on Facebook</a><a data-view-uid=\"1|0_2_1_1_3_1_1_2\" class=\"bb-social-link bb-social-link--twitter\" href=\"https://twitter.com/intent/tweet?url=https%3A%2F%2Fwww.bloomberg.com%2Fpolitics%2Farticles%2F2017-12-22%2Fun-imposes-new-sanctions-targeting-north-korean-oil-imports&amp;text=UN%20imposes%20new%20sanctions%20targeting%20North%20Korean%20oil%20imports&amp;via=bpolitics\" rel=\"nofollow\" data-social-network=\"twitter\" target=\"bb-social-popup--twitter\" data-tracker-label=\"twitter_share\" data-tracker-action=\"share\">Share on Twitter</a></div></div></div><div class=\"hero-v6-story\" data-view-uid=\"1|0_2_1_1_3_2\" data-tracker-label=\"hero-v6.02\" data-tracker-action=\"click\"><a href=\"https://www.bloomberg.com/news/articles/2017-12-22/novogratz-shelves-hedge-fund-sees-bitcoin-dropping-to-8-000\" class=\"hero-v6-story__image\">   <div class=\"hero-v6-story__crop hero-v6-story__crop--small\"> <div class=\"crop\" style=\"background-image: url(https://assets.bwbx.io/images/users/iqjWHBFdfxIU/iHbbWUMo7rKI/v0/488x-1.jpg);\"> </div> </div>  <div class=\"hero-v6-story__crop hero-v6-story__crop--medium\"> <div class=\"crop\" style=\"background-image: url(https://assets.bwbx.io/images/users/iqjWHBFdfxIU/iHbbWUMo7rKI/v0/628x-1.jpg);\"> </div> </div>  <div class=\"hero-v6-story__crop hero-v6-story__crop--large\"> <div class=\"crop\" style=\"background-image: url(https://assets.bwbx.io/images/users/iqjWHBFdfxIU/iHbbWUMo7rKI/v0/750x-1.jpg);\"> </div> </div>  <div class=\"hero-v6-story__crop hero-v6-story__crop--largest\"> <div class=\"crop\" style=\"background-image: url(https://assets.bwbx.io/images/users/iqjWHBFdfxIU/iHbbWUMo7rKI/v0/1200x-1.jpg);\"> </div> </div>  </a> <div class=\"hero-v6-story__content \"> <div class=\"hero-v6-story__info-container\"> <div class=\"hero-v6-story__info\">  <div class=\"hero-v6-story__eyebrow\"> <div class=\"vertical-and-timestamp\">  <div class=\"vertical-label markets\">markets</div>  <time class=\"published-at\" datetime=\"2017-12-22T17:23:55.114Z\"> Updated 3 hours ago </time> </div> </div>  <div class=\"hero-v6-story__headline\">  <a href=\"/news/articles/2017-12-22/novogratz-shelves-hedge-fund-sees-bitcoin-dropping-to-8-000\" class=\"hero-v6-story__headline-link\" data-tracker-label=\"headline\" data-tracker-action=\"click\"> Novogratz Halts Hedge Fund, Says Bitcoin May Drop to $8,000 </a> </div> </div> </div> <div class=\"hero-v6-story__related-stories\">  <div class=\"hero-v6-story__related-story\"> <span class=\"hero-v6-story__related-story-arrow\"></span> <a class=\"hero-v6-story__related-story-link vertical-technology\" href=\"https://www.bloomberg.com/news/articles/2017-12-22/bitcoin-traders-claim-there-s-method-to-their-madness\" data-resource-type=\"article\" data-resource-id=\"P1DHNV6KLVR401\" data-tracker-label=\"related_story.1.headline\" data-tracker-action=\"click\"> Bitcoin Traders Claim There\\xe2\\x80\\x99s Method to Their Madness </a> </div>  <div class=\"hero-v6-story__related-story\"> <span class=\"hero-v6-story__related-story-arrow\"></span> <a class=\"hero-v6-story__related-story-link vertical-technology\" href=\"https://www.bloomberg.com/news/articles/2017-12-22/bitcoin-growing-pains-even-more-pronounced-as-price-takes-a-dive\" data-resource-type=\"article\" data-resource-id=\"P1DHNV6KLVR401\" data-tracker-label=\"related_story.2.headline\" data-tracker-action=\"click\"> Bitcoin Growing Pains More Pronounced as Price Takes a Dive </a> </div>  <div class=\"hero-v6-story__related-story\"> <span class=\"hero-v6-story__related-story-arrow\"></span> <a class=\"hero-v6-story__related-story-link vertical-markets\" href=\"https://www.bloomberg.com/news/articles/2017-12-22/crypto-linked-firms-found-guilty-by-association-as-bitcoin-sinks\" data-resource-type=\"article\" data-resource-id=\"P1DHNV6KLVR401\" data-tracker-label=\"related_story.3.headline\" data-tracker-action=\"click\"> Firms That Anchored Themselves to Crypto Sink Alongside Bitcoin </a> </div>  <div class=\"hero-v6-story__related-story\"> <span class=\"hero-v6-story__related-story-arrow\"></span> <a class=\"hero-v6-story__related-story-link vertical-markets\" href=\"https://www.bloomberg.com/news/articles/2017-12-21/goldman-is-said-to-be-building-a-cryptocurrency-trading-desk\" data-resource-type=\"article\" data-resource-id=\"P1DHNV6KLVR401\" data-tracker-label=\"related_story.4.headline\" data-tracker-action=\"click\"> Goldman Is Setting Up a Cryptocurrency Trading Desk </a> </div>  </div> </div> <div class=\"hero-v6-story__social\"> <div class=\"bb-social-links\" data-view-uid=\"1|0_2_1_1_3_2_1\"><a data-view-uid=\"1|0_2_1_1_3_2_1_1\" class=\"bb-social-link bb-social-link--facebook\" href=\"http://www.facebook.com/sharer/sharer.php?u=https%3A%2F%2Fwww.bloomberg.com%2Fnews%2Farticles%2F2017-12-22%2Fnovogratz-shelves-hedge-fund-sees-bitcoin-dropping-to-8-000\" rel=\"nofollow\" data-social-network=\"facebook\" target=\"bb-social-popup--facebook\" data-tracker-label=\"facebook_share\" data-tracker-action=\"share\">Share on Facebook</a><a data-view-uid=\"1|0_2_1_1_3_2_1_2\" class=\"bb-social-link bb-social-link--twitter\" href=\"https://twitter.com/intent/tweet?url=https%3A%2F%2Fwww.bloomberg.com%2Fnews%2Farticles%2F2017-12-22%2Fnovogratz-shelves-hedge-fund-sees-bitcoin-dropping-to-8-000&amp;text=Novogratz%20Halts%20Hedge%20Fund%2C%20Says%20Bitcoin%20May%20Drop%20to%20%248%2C000&amp;via=markets\" rel=\"nofollow\" data-social-network=\"twitter\" target=\"bb-social-popup--twitter\" data-tracker-label=\"twitter_share\" data-tracker-action=\"share\">Share on Twitter</a></div></div></div><div class=\"hero-v6-story\" data-view-uid=\"1|0_2_1_1_3_3\" data-tracker-label=\"hero-v6.03\" data-tracker-action=\"click\"><a href=\"https://www.bloomberg.com/news/articles/2017-12-22/apple-sanctioned-in-qualcomm-ftc-case-for-withholding-documents\" class=\"hero-v6-story__image\">   <div class=\"hero-v6-story__crop hero-v6-story__crop--small\"> <div class=\"crop\" style=\"background-image: url(https://assets.bwbx.io/images/users/iqjWHBFdfxIU/iBEocDVr.9QA/v0/488x-1.jpg);\"> </div> </div>  <div class=\"hero-v6-story__crop hero-v6-story__crop--medium\"> <div class=\"crop\" style=\"background-image: url(https://assets.bwbx.io/images/users/iqjWHBFdfxIU/iBEocDVr.9QA/v0/628x-1.jpg);\"> </div> </div>  <div class=\"hero-v6-story__crop hero-v6-story__crop--large\"> <div class=\"crop\" style=\"background-image: url(https://assets.bwbx.io/images/users/iqjWHBFdfxIU/iBEocDVr.9QA/v0/750x-1.jpg);\"> </div> </div>  <div class=\"hero-v6-story__crop hero-v6-story__crop--largest\"> <div class=\"crop\" style=\"background-image: url(https://assets.bwbx.io/images/users/iqjWHBFdfxIU/iBEocDVr.9QA/v0/1200x-1.jpg);\"> </div> </div>  </a> <div class=\"hero-v6-story__content \"> <div class=\"hero-v6-story__info-container\"> <div class=\"hero-v6-story__info\">  <div class=\"hero-v6-story__eyebrow\"> <div class=\"vertical-and-timestamp\">  <div class=\"vertical-label technology\">technology</div>  <time class=\"published-at\" datetime=\"2017-12-22T18:46:04.781Z\"> Updated 4 hours ago </time> </div> </div>  <div class=\"hero-v6-story__headline\">  <a href=\"/news/articles/2017-12-22/apple-sanctioned-in-qualcomm-ftc-case-for-withholding-documents\" class=\"hero-v6-story__headline-link\" data-tracker-label=\"headline\" data-tracker-action=\"click\"> Apple Sanctioned in Qualcomm FTC Case Over Withheld Evidence </a> </div> </div> </div> <div class=\"hero-v6-story__related-stories\">  </div> </div> <div class=\"hero-v6-story__social\"> <div class=\"bb-social-links\" data-view-uid=\"1|0_2_1_1_3_3_1\"><a data-view-uid=\"1|0_2_1_1_3_3_1_1\" class=\"bb-social-link bb-social-link--facebook\" href=\"http://www.facebook.com/sharer/sharer.php?u=https%3A%2F%2Fwww.bloomberg.com%2Fnews%2Farticles%2F2017-12-22%2Fapple-sanctioned-in-qualcomm-ftc-case-for-withholding-documents\" rel=\"nofollow\" data-social-network=\"facebook\" target=\"bb-social-popup--facebook\" data-tracker-label=\"facebook_share\" data-tracker-action=\"share\">Share on Facebook</a><a data-view-uid=\"1|0_2_1_1_3_3_1_2\" class=\"bb-social-link bb-social-link--twitter\" href=\"https://twitter.com/intent/tweet?url=https%3A%2F%2Fwww.bloomberg.com%2Fnews%2Farticles%2F2017-12-22%2Fapple-sanctioned-in-qualcomm-ftc-case-for-withholding-documents&amp;text=Apple%20Sanctioned%20in%20Qualcomm%20FTC%20Case%20Over%20Withheld%20Evidence&amp;via=technology\" rel=\"nofollow\" data-social-network=\"twitter\" target=\"bb-social-popup--twitter\" data-tracker-label=\"twitter_share\" data-tracker-action=\"share\">Share on Twitter</a></div></div></div><div class=\"hero-v6-story ad-after\" data-view-uid=\"1|0_2_1_1_3_4\" data-tracker-label=\"hero-v6.04\" data-tracker-action=\"click\"><div id=\"1|0_2_1_1_3_4\" class=\"ad-v2 on-mobile\" data-position=\"mobile1\"> <script type=\"text/javascript\"> (function(global) { global.bbLoader.enqueue(\"critical\", function() { global.__bloomberg__.ads.createAd({ adCode: \"business/home\", dimensions: {\"mobile\":[[1,1],[5,4],[994,48],[994,380],[994,700],[300,250]]}, id: \"1|0_2_1_1_3_4\", strategy: \"\", targeting: {\"page\":\"home\",\"position\":\"mobile1\"}, targetingModifiers: [global.__bloomberg__.byzantium.getTags] }); }); })(window); </script> </div></div></div> </section></div><div class=\"advertisement\" data-view-uid=\"1|0_2_1_1_4\"><div data-view-uid=\"1|0_2_1_1_4_1\"><div id=\"1|0_2_1_1_4_1\" class=\"ad-v2 on-small-desktop on-large-desktop\" data-position=\"box1\"> <script type=\"text/javascript\"> (function(global) { global.bbLoader.enqueue(\"critical\", function() { global.__bloomberg__.ads.createAd({ adCode: \"business/home\", dimensions: {\"small_desktop\":[[5,4],[300,250]],\"large_desktop\":[[5,4],[300,250]]}, id: \"1|0_2_1_1_4_1\", strategy: \"\", targeting: {\"page\":\"home\",\"position\":\"box1\",\"edition\":\"asia\"}, targetingModifiers: [global.__bloomberg__.byzantium.getTags] }); }); })(window); </script> </div></div></div><div class=\"module-view\" data-view-uid=\"1|0_2_1_1_5\"><div class=\"newsletter-tout\" data-tracker-events=\"click\" data-tracker-category=\"engagement\" data-tracker-label=\"newsletter_tout\"> <img class=\"newsletter-tout__image\" src=\"https://assets.bwbx.io/images/users/iqjWHBFdfxIU/iwgbWi0eehbM/v2/360x-1.jpg\"> <div class=\"newsletter-tout__signup\"> <div class=\"newsletter-tout__tagline\"> Get the best of Bloomberg delivered to your inbox daily </div> <div class=\"newsletter-tout__box ready\"> <form class=\"newsletter-tout__form\" method=\"post\"> <input class=\"newsletter-tout__input\" type=\"text\" placeholder=\"Enter your e-mail\"> <input type=\"hidden\" name=\"vars[source]\" value=\"section_front\"> <button class=\"newsletter-tout__submit\" type=\"submit\" data-tracker-label=\"signup\" data-tracker-action=\"click\">Sign Up</button> </form> <div class=\"newsletter-tout__loading\">Registering...</div> <div class=\"newsletter-tout__success\"> <div class=\"newsletter-tout__success-title\">Thank you for subscribing.</div> </div> <div class=\"newsletter-tout__message\"> </div> </div> </div><div class=\"newsletter-tout-dialog\"> <a class=\"newsletter-tout-dialog__close\">\\xe2\\x9c\\x95</a> <div class=\"newsletter-tout-dialog__message\">Success! You\\'re signed up for the Business newsletter. Here are more newsletters you may be interested in.</div> <div class=\"newsletter-tout-dialog__email\">placeholder</div>  <label data-tracker-action=\"click\" data-tracker-label=\"checkbox.bpol\" for=\"bpol\" class=\"newsletter-tout-dialog-option bpol\" id=\"option-bpol\" data-state=\"ready\"> <form> <div class=\"newsletter-tout-dialog-option__success\"> You will now receive the Politics newsletter <div class=\"newsletter-tout-dialog-option__nubbin\"></div> </div> <div class=\"newsletter-tout-dialog-option__failure\"> Could not subscribe to<br>Politics newsletter <div class=\"newsletter-tout-dialog-option__nubbin\"></div> </div> <input id=\"bpol\" type=\"checkbox\" class=\"newsletter-tout-dialog-option__checkbox\"> <div class=\"newsletter-tout-dialog-option__text\"> <div class=\"newsletter-tout-dialog-option__title\">Politics</div> <div class=\"newsletter-tout-dialog-option__tout\">Get the latest on global politics in your inbox, every day.</div> </div> </form> </label>  <label data-tracker-action=\"click\" data-tracker-label=\"checkbox.markets\" for=\"markets\" class=\"newsletter-tout-dialog-option markets\" id=\"option-markets\" data-state=\"ready\"> <form> <div class=\"newsletter-tout-dialog-option__success\"> You will now receive the Markets newsletter <div class=\"newsletter-tout-dialog-option__nubbin\"></div> </div> <div class=\"newsletter-tout-dialog-option__failure\"> Could not subscribe to<br>Markets newsletter <div class=\"newsletter-tout-dialog-option__nubbin\"></div> </div> <input id=\"markets\" type=\"checkbox\" class=\"newsletter-tout-dialog-option__checkbox\"> <div class=\"newsletter-tout-dialog-option__text\"> <div class=\"newsletter-tout-dialog-option__title\">Markets</div> <div class=\"newsletter-tout-dialog-option__tout\">The most important market news of the day.</div> </div> </form> </label>  <label data-tracker-action=\"click\" data-tracker-label=\"checkbox.technology\" for=\"technology\" class=\"newsletter-tout-dialog-option technology\" id=\"option-technology\" data-state=\"ready\"> <form> <div class=\"newsletter-tout-dialog-option__success\"> You will now receive the Technology newsletter <div class=\"newsletter-tout-dialog-option__nubbin\"></div> </div> <div class=\"newsletter-tout-dialog-option__failure\"> Could not subscribe to<br>Technology newsletter <div class=\"newsletter-tout-dialog-option__nubbin\"></div> </div> <input id=\"technology\" type=\"checkbox\" class=\"newsletter-tout-dialog-option__checkbox\"> <div class=\"newsletter-tout-dialog-option__text\"> <div class=\"newsletter-tout-dialog-option__title\">Technology</div> <div class=\"newsletter-tout-dialog-option__tout\">Exclusive insights on technology around the world.</div> </div> </form> </label>  <label data-tracker-action=\"click\" data-tracker-label=\"checkbox.pursuits\" for=\"pursuits\" class=\"newsletter-tout-dialog-option pursuits\" id=\"option-pursuits\" data-state=\"ready\"> <form> <div class=\"newsletter-tout-dialog-option__success\"> You will now receive the Pursuits newsletter <div class=\"newsletter-tout-dialog-option__nubbin\"></div> </div> <div class=\"newsletter-tout-dialog-option__failure\"> Could not subscribe to<br>Pursuits newsletter <div class=\"newsletter-tout-dialog-option__nubbin\"></div> </div> <input id=\"pursuits\" type=\"checkbox\" class=\"newsletter-tout-dialog-option__checkbox\"> <div class=\"newsletter-tout-dialog-option__text\"> <div class=\"newsletter-tout-dialog-option__title\">Pursuits</div> <div class=\"newsletter-tout-dialog-option__tout\">Travel with us, drive with us, eat with us.</div> </div> </form> </label>  <label data-tracker-action=\"click\" data-tracker-label=\"checkbox.game-plan\" for=\"game-plan\" class=\"newsletter-tout-dialog-option game-plan\" id=\"option-game-plan\" data-state=\"ready\"> <form> <div class=\"newsletter-tout-dialog-option__success\"> You will now receive the Game Plan newsletter <div class=\"newsletter-tout-dialog-option__nubbin\"></div> </div> <div class=\"newsletter-tout-dialog-option__failure\"> Could not subscribe to<br>Game Plan newsletter <div class=\"newsletter-tout-dialog-option__nubbin\"></div> </div> <input id=\"game-plan\" type=\"checkbox\" class=\"newsletter-tout-dialog-option__checkbox\"> <div class=\"newsletter-tout-dialog-option__text\"> <div class=\"newsletter-tout-dialog-option__title\">Game Plan</div> <div class=\"newsletter-tout-dialog-option__tout\">Your cheat sheet on life, in one weekly email.</div> </div> </form> </label>  <label data-tracker-action=\"click\" data-tracker-label=\"checkbox.share-the-view\" for=\"share-the-view\" class=\"newsletter-tout-dialog-option share-the-view\" id=\"option-share-the-view\" data-state=\"ready\"> <form> <div class=\"newsletter-tout-dialog-option__success\"> You will now receive the View newsletter <div class=\"newsletter-tout-dialog-option__nubbin\"></div> </div> <div class=\"newsletter-tout-dialog-option__failure\"> Could not subscribe to<br>View newsletter <div class=\"newsletter-tout-dialog-option__nubbin\"></div> </div> <input id=\"share-the-view\" type=\"checkbox\" class=\"newsletter-tout-dialog-option__checkbox\"> <div class=\"newsletter-tout-dialog-option__text\"> <div class=\"newsletter-tout-dialog-option__title\">View</div> <div class=\"newsletter-tout-dialog-option__tout\">Clear thinking from leading voices in business, economics, politics, foreign affairs, culture, and more.</div> </div> </form> </label>  <label data-tracker-action=\"click\" data-tracker-label=\"checkbox.money-stuff\" for=\"money-stuff\" class=\"newsletter-tout-dialog-option money-stuff\" id=\"option-money-stuff\" data-state=\"ready\"> <form> <div class=\"newsletter-tout-dialog-option__success\"> You will now receive the Money Stuff newsletter <div class=\"newsletter-tout-dialog-option__nubbin\"></div> </div> <div class=\"newsletter-tout-dialog-option__failure\"> Could not subscribe to<br>Money Stuff newsletter <div class=\"newsletter-tout-dialog-option__nubbin\"></div> </div> <input id=\"money-stuff\" type=\"checkbox\" class=\"newsletter-tout-dialog-option__checkbox\"> <div class=\"newsletter-tout-dialog-option__text\"> <div class=\"newsletter-tout-dialog-option__title\">Money Stuff</div> <div class=\"newsletter-tout-dialog-option__tout\">A daily take on Wall Street, finance, companies and stuff.</div> </div> </form> </label>  <label data-tracker-action=\"click\" data-tracker-label=\"checkbox.early-returns\" for=\"early-returns\" class=\"newsletter-tout-dialog-option early-returns\" id=\"option-early-returns\" data-state=\"ready\"> <form> <div class=\"newsletter-tout-dialog-option__success\"> You will now receive the Early Returns newsletter <div class=\"newsletter-tout-dialog-option__nubbin\"></div> </div> <div class=\"newsletter-tout-dialog-option__failure\"> Could not subscribe to<br>Early Returns newsletter <div class=\"newsletter-tout-dialog-option__nubbin\"></div> </div> <input id=\"early-returns\" type=\"checkbox\" class=\"newsletter-tout-dialog-option__checkbox\"> <div class=\"newsletter-tout-dialog-option__text\"> <div class=\"newsletter-tout-dialog-option__title\">Early Returns</div> <div class=\"newsletter-tout-dialog-option__tout\">A daily round-up of superb political insights.</div> </div> </form> </label>  <label data-tracker-action=\"click\" data-tracker-label=\"checkbox.ritholtz-s-reads\" for=\"ritholtz-s-reads\" class=\"newsletter-tout-dialog-option ritholtz-s-reads\" id=\"option-ritholtz-s-reads\" data-state=\"ready\"> <form> <div class=\"newsletter-tout-dialog-option__success\"> You will now receive the Reads newsletter <div class=\"newsletter-tout-dialog-option__nubbin\"></div> </div> <div class=\"newsletter-tout-dialog-option__failure\"> Could not subscribe to<br>Reads newsletter <div class=\"newsletter-tout-dialog-option__nubbin\"></div> </div> <input id=\"ritholtz-s-reads\" type=\"checkbox\" class=\"newsletter-tout-dialog-option__checkbox\"> <div class=\"newsletter-tout-dialog-option__text\"> <div class=\"newsletter-tout-dialog-option__title\">Reads</div> <div class=\"newsletter-tout-dialog-option__tout\">Savvy thoughts on finance, markets and the world at large.</div> </div> </form> </label>  <div class=\"newsletter-tout-dialog__extra\"> <div class=\"newsletter-tout-dialog__signup-text\"> You will now receive the <span class=\"newsletter-tout-dialog__signup-count\">0</span> additional newsletter(s). </div> <a class=\"newsletter-tout-dialog__close-button\">Save &amp; Close</a> </div> </div> </div></div></div><div data-view-uid=\"1|0_2_1_1_8\"><div id=\"1|0_2_1_1_8\" class=\"ad-v2 on-tablet on-small-desktop on-large-desktop\" data-position=\"belowhero\"> <script type=\"text/javascript\"> (function(global) { global.bbLoader.enqueue(\"critical\", function() { global.__bloomberg__.ads.createAd({ adCode: \"business/home\", dimensions: {\"tablet\":[[994,700],[994,48]],\"small_desktop\":[[994,700],[994,48]],\"large_desktop\":[[994,700],[994,48]]}, id: \"1|0_2_1_1_8\", strategy: \"\", targeting: {\"page\":\"home\",\"position\":\"belowhero\",\"edition\":\"asia\"}, targetingModifiers: [global.__bloomberg__.byzantium.getTags] }); }); })(window); </script> </div></div><div class=\"home__grid\">      <div class=\"home__group home__left-rail\" data-view-uid=\"1|0_2_1_1_6\"><div class=\"module-view\" data-view-uid=\"1|0_2_1_1_6_1\"><section class=\"top-news-v3\" data-sponsored=\"false\" data-tracker-events=\"click\" data-tracker-category=\"module\" data-tracker-label=\"top_news\"><header class=\"top-news-v3__header\" data-sponsored=\"false\">  <h1 class=\"top-news-v3__title\">Trending</h1>  <div class=\"top-news-v3__sponsored-logo\" data-view-uid=\"1|0_2_1_1_6_1_23\"><div id=\"1|0_2_1_1_6_1_23\" class=\"ad-v2 application-ad on-all-breakpoints\" data-position=\"topnewsspon\"></div></div></header><ul class=\"top-news-v3__stories\" data-parity=\"even\" data-collapsed=\"true\">  <li class=\"top-news-v3-story-view\" data-view-uid=\"1|0_2_1_1_6_1_1\"><article class=\"top-news-v3-story type-article\" data-tracker-label=\"01\"><h2 class=\"top-news-v3-story-reaction\"> <a href=\"/news/articles/2017-12-20/asian-equities-set-to-drop-as-u-s-rally-stalls-markets-wrap\" class=\"top-news-v3-story-reaction__link\" data-resource-type=\"article\" data-resource-id=\"P1A5C9SYF01S01\" data-tracker-label=\"reaction\" data-tracker-action=\"click\">  </a> </h2> <h1 class=\"top-news-v3-story-headline\"> <a href=\"/news/articles/2017-12-20/asian-equities-set-to-drop-as-u-s-rally-stalls-markets-wrap\" class=\"top-news-v3-story-headline__link\" data-resource-type=\"article\" data-resource-id=\"P1A5C9SYF01S01\" data-tracker-label=\"headline\" data-tracker-action=\"click\"> U.S. Stocks Bounce Back After Tax-Cut Passage: Markets Wrap </a> </h1>  <a href=\"/news/articles/2017-12-20/asian-equities-set-to-drop-as-u-s-rally-stalls-markets-wrap\" class=\"top-news-v3-story-thumbnail\" data-resource-type=\"article\" data-resource-id=\"P1A5C9SYF01S01\" data-tracker-label=\"image\" data-tracker-action=\"click\"> <img src=\"https://assets.bwbx.io/images/users/iqjWHBFdfxIU/i1Y4yqLl8jZU/v0/190x-1.jpg\" alt=\"\"> </a> <span class=\"top-news-v3-story-number theme__color\">1</span><div class=\"bb-social-links\" data-view-uid=\"1|0_2_1_1_6_1_1_1\"><a data-view-uid=\"1|0_2_1_1_6_1_1_1_1\" class=\"bb-social-link bb-social-link--facebook\" href=\"http://www.facebook.com/sharer/sharer.php?u=https%3A%2F%2Fwww.bloomberg.com%2Fnews%2Farticles%2F2017-12-20%2Fasian-equities-set-to-drop-as-u-s-rally-stalls-markets-wrap\" rel=\"nofollow\" data-social-network=\"facebook\" target=\"bb-social-popup--facebook\" data-tracker-label=\"facebook_share\" data-tracker-action=\"share\">Share on Facebook</a><a data-view-uid=\"1|0_2_1_1_6_1_1_1_2\" class=\"bb-social-link bb-social-link--twitter\" href=\"https://twitter.com/intent/tweet?url=https%3A%2F%2Fwww.bloomberg.com%2Fnews%2Farticles%2F2017-12-20%2Fasian-equities-set-to-drop-as-u-s-rally-stalls-markets-wrap&amp;text=U.S.%20Stocks%20Bounce%20Back%20After%20Tax-Cut%20Passage%3A%20Markets%20Wrap&amp;via=business\" rel=\"nofollow\" data-social-network=\"twitter\" target=\"bb-social-popup--twitter\" data-tracker-label=\"twitter_share\" data-tracker-action=\"share\">Share on Twitter</a></div> </article></li><li class=\"top-news-v3-story-view\" data-view-uid=\"1|0_2_1_1_6_1_2\"><article class=\"top-news-v3-story type-article\" data-tracker-label=\"02\"><h2 class=\"top-news-v3-story-reaction\"> <a href=\"/news/articles/2017-12-22/wealthy-americans-are-already-trying-to-exploit-the-new-tax-law\" class=\"top-news-v3-story-reaction__link\" data-resource-type=\"article\" data-resource-id=\"P1DHUU6TTDS201\" data-tracker-label=\"reaction\" data-tracker-action=\"click\">  </a> </h2> <h1 class=\"top-news-v3-story-headline\"> <a href=\"/news/articles/2017-12-22/wealthy-americans-are-already-trying-to-exploit-the-new-tax-law\" class=\"top-news-v3-story-headline__link\" data-resource-type=\"article\" data-resource-id=\"P1DHUU6TTDS201\" data-tracker-label=\"headline\" data-tracker-action=\"click\"> Wealthy Americans Are Already Trying to Exploit the New Tax Law </a> </h1> <span class=\"top-news-v3-story-number theme__color\">2</span><div class=\"bb-social-links\" data-view-uid=\"1|0_2_1_1_6_1_2_1\"><a data-view-uid=\"1|0_2_1_1_6_1_2_1_1\" class=\"bb-social-link bb-social-link--facebook\" href=\"http://www.facebook.com/sharer/sharer.php?u=https%3A%2F%2Fwww.bloomberg.com%2Fpolitics%2Farticles%2F2017-12-22%2Fwealthy-americans-are-already-trying-to-exploit-the-new-tax-law\" rel=\"nofollow\" data-social-network=\"facebook\" target=\"bb-social-popup--facebook\" data-tracker-label=\"facebook_share\" data-tracker-action=\"share\">Share on Facebook</a><a data-view-uid=\"1|0_2_1_1_6_1_2_1_2\" class=\"bb-social-link bb-social-link--twitter\" href=\"https://twitter.com/intent'"
      ]
     },
     "execution_count": 43,
     "metadata": {},
     "output_type": "execute_result"
    }
   ],
   "source": [
    "# A:\n",
    "contents[:100000]"
   ]
  },
  {
   "cell_type": "markdown",
   "metadata": {},
   "source": [
    "### 4. Use Beautiful Soup to convert the raw HTML into a soup object."
   ]
  },
  {
   "cell_type": "code",
   "execution_count": 44,
   "metadata": {},
   "outputs": [],
   "source": [
    "# A:\n",
    "html_obj = bs(contents, 'html.parser', from_encoding='utf-8')"
   ]
  },
  {
   "cell_type": "markdown",
   "metadata": {},
   "source": [
    "### 5. Extract the name of each restaurant.\n",
    "\n",
    "Let's first find each restaurant name listed on the page we've loaded. How do we find the page location of the restaurant? \n",
    "\n",
    "> *Hint: we need to know where in the **html** the restaurant element is housed.*\n",
    "\n",
    "**5.A See if you can find the restaurant name on the page. Keep in mind there are many restaurants loaded on the page.**"
   ]
  },
  {
   "cell_type": "code",
   "execution_count": 45,
   "metadata": {
    "scrolled": true
   },
   "outputs": [
    {
     "name": "stdout",
     "output_type": "stream",
     "text": [
      "[<a class=\"hero-v6-story__headline-link\" data-tracker-action=\"click\" data-tracker-label=\"headline\" href=\"/news/articles/2017-12-22/un-imposes-new-sanctions-targeting-north-korean-oil-imports\"> North Korea Sanctions Tightened by UN Following Missile Test </a>, <a class=\"hero-v6-story__headline-link\" data-tracker-action=\"click\" data-tracker-label=\"headline\" href=\"/news/articles/2017-12-22/novogratz-shelves-hedge-fund-sees-bitcoin-dropping-to-8-000\"> Novogratz Halts Hedge Fund, Says Bitcoin May Drop to $8,000 </a>, <a class=\"hero-v6-story__headline-link\" data-tracker-action=\"click\" data-tracker-label=\"headline\" href=\"/news/articles/2017-12-22/apple-sanctioned-in-qualcomm-ftc-case-for-withholding-documents\"> Apple Sanctioned in Qualcomm FTC Case Over Withheld Evidence </a>]\n"
     ]
    }
   ],
   "source": [
    "# A:\n",
    "print html_obj.find_all('a', {'class': 'hero-v6-story__headline-link'})"
   ]
  },
  {
   "cell_type": "markdown",
   "metadata": {},
   "source": [
    "**5.B Create a list of _only_ the restaurant names (no tags).**\n"
   ]
  },
  {
   "cell_type": "code",
   "execution_count": 46,
   "metadata": {
    "collapsed": true
   },
   "outputs": [],
   "source": [
    "# A:\n",
    "a_names = []\n",
    "# for each element you find, print out the article name\n",
    "for article in html_obj.find_all('a', {'class': 'hero-v6-story__headline-link'}):\n",
    "    title = article.renderContents()\n",
    "    a_names.append(title.strip())"
   ]
  },
  {
   "cell_type": "markdown",
   "metadata": {},
   "source": [
    "### 6. Repeat this process but for location.\n",
    "\n",
    "For example, barmini by Jose Andres is in the location listed as \"Penn Quarter\" in our search results."
   ]
  },
  {
   "cell_type": "code",
   "execution_count": 47,
   "metadata": {
    "collapsed": true
   },
   "outputs": [],
   "source": [
    "# A:\n",
    "for article in html_obj.find_all('a', {'class': 'highlights-v6-story__headline-link'}):\n",
    "    title = article.renderContents()\n",
    "    a_names.append(title.strip())"
   ]
  },
  {
   "cell_type": "code",
   "execution_count": 48,
   "metadata": {},
   "outputs": [
    {
     "data": {
      "text/plain": [
       "['North Korea Sanctions Tightened by UN Following Missile Test',\n",
       " 'Novogratz Halts Hedge Fund, Says Bitcoin May Drop to $8,000',\n",
       " 'Apple Sanctioned in Qualcomm FTC Case Over Withheld Evidence',\n",
       " 'Trump Travel Ban Dealt Blow by San Francisco Appeals Court',\n",
       " 'Even With Trump Minerals Order, U.S. Miners Face Uphill Battle With China',\n",
       " 'MLB Teams Up With Bejing Enterprises to Build Baseball Academies',\n",
       " 'Another Multimillion-Dollar da Vinci Is Hiding in Plain Sight',\n",
       " 'Goldman Is Setting Up a Cryptocurrency Trading Desk',\n",
       " 'Hauling a Christmas Tree in a Ferrari Is Totally Normal',\n",
       " 'The Best Wines I Tasted in 2017',\n",
       " 'The 16 Very Best Dishes I Ate in 2017',\n",
       " 'Bitcoin Lost Almost 20% of Its Value This Week',\n",
       " 'Apple Plans Combined iPhone, iPad &amp; Mac Apps to Create One User Experience']"
      ]
     },
     "execution_count": 48,
     "metadata": {},
     "output_type": "execute_result"
    }
   ],
   "source": [
    "a_names"
   ]
  },
  {
   "cell_type": "markdown",
   "metadata": {},
   "source": [
    "### 7. Get the price for each restaurant.\n",
    "\n",
    "The price is number of dollar signs on a scale of one to four for each restaurant. We'll follow the same process."
   ]
  },
  {
   "cell_type": "code",
   "execution_count": 82,
   "metadata": {
    "collapsed": true
   },
   "outputs": [],
   "source": [
    "# A:\n",
    "# Get homepage link then get price change worse\n",
    "asset_classes = html_obj.find_all('iframe', {'class': 'market-summary-v3'})"
   ]
  },
  {
   "cell_type": "code",
   "execution_count": 85,
   "metadata": {},
   "outputs": [
    {
     "data": {
      "text/plain": [
       "[<iframe class=\"market-summary-v3\" data-view-uid=\"1|0_2_1_1_1\" src=\"//www.bloomberg.com/markets/components/data-drawer?linksType=nav\"></iframe>]"
      ]
     },
     "execution_count": 85,
     "metadata": {},
     "output_type": "execute_result"
    }
   ],
   "source": [
    "asset_classes"
   ]
  },
  {
   "cell_type": "code",
   "execution_count": null,
   "metadata": {},
   "outputs": [],
   "source": []
  },
  {
   "cell_type": "markdown",
   "metadata": {},
   "source": [
    "**7.B Convert the dollar sign strings to a count of the number of dollar signs.**\n",
    "\n",
    "Can you figure out a way to simply print out the number of dollar signs per restaurant listed?"
   ]
  },
  {
   "cell_type": "code",
   "execution_count": 51,
   "metadata": {
    "collapsed": true
   },
   "outputs": [],
   "source": [
    "# A:"
   ]
  },
  {
   "cell_type": "markdown",
   "metadata": {},
   "source": [
    "### 8. Can you find the number of times a restaurant was booked.\n",
    "\n",
    "In the next cell, print out a sample of objects that contain the number of times the restaurant was booked.\n",
    "\n",
    "> *Note: if you can't, why do you think this is happening?*"
   ]
  },
  {
   "cell_type": "code",
   "execution_count": 52,
   "metadata": {
    "collapsed": true
   },
   "outputs": [],
   "source": [
    "# A:"
   ]
  },
  {
   "cell_type": "markdown",
   "metadata": {},
   "source": [
    "## Enter Selenium\n",
    "\n",
    "---\n",
    "\n",
    "Selenium is a headless browser. That means it enables us to mock human browsing behavior -- even waiting for JavaScript elements to load.\n",
    "\n",
    "If you do not already have Selenium installed, you can do so via pip. Simply: `pip install selenium`"
   ]
  },
  {
   "cell_type": "code",
   "execution_count": 92,
   "metadata": {},
   "outputs": [],
   "source": [
    "# import\n",
    "from selenium import webdriver"
   ]
  },
  {
   "cell_type": "markdown",
   "metadata": {},
   "source": [
    "Selenium requires us to determine a default browser to run. I'm going to opt for Firefox, but Chromium is also a very common choice. http://selenium-python.readthedocs.io/faq.html"
   ]
  },
  {
   "cell_type": "markdown",
   "metadata": {
    "collapsed": true
   },
   "source": [
    "### 9. What is going to happen when I run the next cell?\n",
    "\n",
    "The chromedriver has been provided in the 'chromedriver' folder so no reason to download another."
   ]
  },
  {
   "cell_type": "code",
   "execution_count": 93,
   "metadata": {},
   "outputs": [],
   "source": [
    "# create a driver called driver\n",
    "driver = webdriver.Chrome(executable_path=\"./chromedriver/chromedriver\")"
   ]
  },
  {
   "cell_type": "markdown",
   "metadata": {},
   "source": [
    "Pretty crazy, right? Let's close that driver.\n",
    "\n",
    "In case you're wondering. this should have opened up a new browswer window.  Check all of your desktop displays if you didn't see it automatically pop up."
   ]
  },
  {
   "cell_type": "code",
   "execution_count": 94,
   "metadata": {},
   "outputs": [],
   "source": [
    "# close it\n",
    "driver.close()"
   ]
  },
  {
   "cell_type": "markdown",
   "metadata": {},
   "source": [
    "### 10. Use the driver to visit `www.python.org`"
   ]
  },
  {
   "cell_type": "code",
   "execution_count": 95,
   "metadata": {},
   "outputs": [],
   "source": [
    "# A:\n",
    "driver = webdriver.Chrome(executable_path=\"./chromedriver/chromedriver\")\n",
    "driver.get(\"https://www.bloomberg.com/asia\")"
   ]
  },
  {
   "cell_type": "markdown",
   "metadata": {},
   "source": [
    "### 11. Visit the OpenTable page using the driver\n",
    "\n",
    "Let's return to our problem at hand. We need to visit the OpenTable listing for DC. Once there, we need to get the html to load. \n",
    "\n",
    "In the next cell, prove you can programmatically visit the page."
   ]
  },
  {
   "cell_type": "code",
   "execution_count": 98,
   "metadata": {},
   "outputs": [],
   "source": [
    "# A:\n",
    "assert 'Bloomberg - Asia Edition' in driver.title"
   ]
  },
  {
   "cell_type": "markdown",
   "metadata": {},
   "source": [
    "### 12. Resolve the javascript issue using the driver and find the bookings.\n",
    "\n",
    "What we can do in this case is:\n",
    "1. Request that the page load\n",
    "2. wait one second\n",
    "3. grab the source html from the page \n",
    "\n",
    "Because the page should believe I'm visiting from a live connection on a browser client, the JavaScript should render to be a part of the page source. I can then grab the page source.\n",
    "\n",
    "**Once you have the HTML with the javascript rendered, repeat the processes above to find the bookings.**"
   ]
  },
  {
   "cell_type": "code",
   "execution_count": 99,
   "metadata": {
    "collapsed": true
   },
   "outputs": [],
   "source": [
    "# import sleep\n",
    "from time import sleep"
   ]
  },
  {
   "cell_type": "code",
   "execution_count": 110,
   "metadata": {},
   "outputs": [],
   "source": [
    "# A:\n",
    "driver = webdriver.Chrome(executable_path=\"./chromedriver/chromedriver\")\n",
    "driver.get(\"https://www.bloomberg.com/asia\")\n",
    "sleep(20)\n",
    "blmberg_content = driver.page_source"
   ]
  },
  {
   "cell_type": "code",
   "execution_count": 111,
   "metadata": {},
   "outputs": [
    {
     "data": {
      "text/plain": [
       "676538"
      ]
     },
     "execution_count": 111,
     "metadata": {},
     "output_type": "execute_result"
    }
   ],
   "source": [
    "# there is a difference between scraping from selenium and urllib\n",
    "len(blmberg_content)"
   ]
  },
  {
   "cell_type": "code",
   "execution_count": 112,
   "metadata": {
    "collapsed": true
   },
   "outputs": [],
   "source": [
    "# convert to beautiful soup first\n",
    "blmberg_soup = BeautifulSoup(blmberg_content, 'lxml')"
   ]
  },
  {
   "cell_type": "code",
   "execution_count": 113,
   "metadata": {
    "collapsed": true
   },
   "outputs": [],
   "source": [
    "# get asset class summaries on page\n",
    "asset_classes = blmberg_soup.find_all('iframe', {'class':'market-summary-v3'})"
   ]
  },
  {
   "cell_type": "code",
   "execution_count": 114,
   "metadata": {},
   "outputs": [
    {
     "data": {
      "text/plain": [
       "[<iframe class=\"market-summary-v3\" data-view-uid=\"1|0_2_1_1_1\" src=\"//www.bloomberg.com/markets/components/data-drawer?linksType=nav\"></iframe>]"
      ]
     },
     "execution_count": 114,
     "metadata": {},
     "output_type": "execute_result"
    }
   ],
   "source": [
    "asset_classes"
   ]
  },
  {
   "cell_type": "markdown",
   "metadata": {},
   "source": [
    "### 13. Can we get all of the items we want from the page in a single `find_all`?\n",
    "\n",
    "To be most efficient, we want to only do a single loop for each entry on the page. That means we want to find what element all of other other elements (name, location, price, bookings) is housed within. Where on the page is each entry located?"
   ]
  },
  {
   "cell_type": "code",
   "execution_count": 60,
   "metadata": {
    "collapsed": true
   },
   "outputs": [],
   "source": [
    "# A:"
   ]
  },
  {
   "cell_type": "markdown",
   "metadata": {},
   "source": [
    "### 14. Does every single entry have each element we want?"
   ]
  },
  {
   "cell_type": "code",
   "execution_count": 61,
   "metadata": {
    "collapsed": true
   },
   "outputs": [],
   "source": [
    "# A:"
   ]
  },
  {
   "cell_type": "markdown",
   "metadata": {},
   "source": [
    "### 15. Use python exceptions to handle cases when bookings aren't found.\n",
    "\n",
    "When a booking is not found, store `'ZERO'`."
   ]
  },
  {
   "cell_type": "code",
   "execution_count": 62,
   "metadata": {
    "collapsed": true
   },
   "outputs": [],
   "source": [
    "# A:"
   ]
  },
  {
   "cell_type": "markdown",
   "metadata": {},
   "source": [
    "### 16. Putting it all together in a dataframe.\n",
    "\n",
    "**Loop through each entry. For each entry:**\n",
    "1. Grab the relevant information we want (name, location, price, bookings). \n",
    "2. Produce a dataframe with the columns \"name\",\"location\",\"price\",\"bookings\" that contains the 100 entries we would like."
   ]
  },
  {
   "cell_type": "code",
   "execution_count": 63,
   "metadata": {
    "collapsed": true
   },
   "outputs": [],
   "source": [
    "# A:"
   ]
  },
  {
   "cell_type": "markdown",
   "metadata": {},
   "source": [
    "### 17. [Bonus] Sending keys over the driver.\n",
    "\n",
    "We can send keys to the page using the driver. Below is a demonstration of how to search the page using the Selenium driver."
   ]
  },
  {
   "cell_type": "code",
   "execution_count": 64,
   "metadata": {},
   "outputs": [],
   "source": [
    "# we can send keys as well\n",
    "# from selenium.webdriver.common.keys import Keys"
   ]
  },
  {
   "cell_type": "code",
   "execution_count": 65,
   "metadata": {
    "collapsed": true
   },
   "outputs": [],
   "source": [
    "# # open the driver\n",
    "# driver = webdriver.Chrome(executable_path=\"./chromedriver/chromedriver\")\n",
    "# # visit Python\n",
    "# driver.get(\"http://www.python.org\")\n",
    "# # verify we're in the right place\n",
    "# assert \"Python\" in driver.title"
   ]
  },
  {
   "cell_type": "code",
   "execution_count": 66,
   "metadata": {
    "collapsed": true
   },
   "outputs": [],
   "source": [
    "# # find the search position\n",
    "# elem = driver.find_element_by_name(\"q\")\n",
    "# # clear it\n",
    "# elem.clear()\n",
    "# # type in pycon\n",
    "# elem.send_keys(\"pycon\")\n"
   ]
  },
  {
   "cell_type": "code",
   "execution_count": 67,
   "metadata": {
    "collapsed": true
   },
   "outputs": [],
   "source": [
    "# # send those keys\n",
    "# elem.send_keys(Keys.RETURN)\n",
    "# # no results\n",
    "# assert \"No results found.\" not in driver.page_source"
   ]
  },
  {
   "cell_type": "code",
   "execution_count": 68,
   "metadata": {
    "collapsed": true
   },
   "outputs": [],
   "source": [
    "# driver.close()"
   ]
  },
  {
   "cell_type": "code",
   "execution_count": 69,
   "metadata": {
    "collapsed": true
   },
   "outputs": [],
   "source": [
    "# # all at once:\n",
    "# driver = webdriver.Chrome(executable_path=\"./chromedriver/chromedriver\")\n",
    "# driver.get(\"http://www.python.org\")\n",
    "# assert \"Python\" in driver.title\n",
    "# elem = driver.find_element_by_name(\"q\")\n",
    "# elem.clear()\n",
    "# elem.send_keys(\"pycon\")\n",
    "# elem.send_keys(Keys.RETURN)\n",
    "# assert \"No results found.\" not in driver.page_source\n",
    "# driver.close()"
   ]
  },
  {
   "cell_type": "markdown",
   "metadata": {},
   "source": [
    "## Additional resources\n",
    "\n",
    "---\n",
    "\n",
    "The above example (and many others) are available in the Selenium docs: http://selenium-python.readthedocs.io/getting-started.html\n",
    "\n",
    "What is especially important is exploring functionality like locating elements: http://selenium-python.readthedocs.io/locating-elements.html#locating-elements\n",
    "\n",
    "FAQ:\n",
    "http://selenium-python.readthedocs.io/faq.html"
   ]
  }
 ],
 "metadata": {
  "kernelspec": {
   "display_name": "Python 2",
   "language": "python",
   "name": "python2"
  },
  "language_info": {
   "codemirror_mode": {
    "name": "ipython",
    "version": 2
   },
   "file_extension": ".py",
   "mimetype": "text/x-python",
   "name": "python",
   "nbconvert_exporter": "python",
   "pygments_lexer": "ipython2",
   "version": "2.7.11"
  }
 },
 "nbformat": 4,
 "nbformat_minor": 1
}
