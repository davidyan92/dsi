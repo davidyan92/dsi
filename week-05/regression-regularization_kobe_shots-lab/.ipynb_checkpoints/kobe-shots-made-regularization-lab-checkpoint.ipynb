{
 "cells": [
  {
   "cell_type": "markdown",
   "metadata": {},
   "source": [
    "<img src=\"http://imgur.com/1ZcRyrc.png\" style=\"float: left; margin: 20px; height: 55px\">\n",
    "\n",
    "# Predicting shots made per game by Kobe Bryant\n",
    "\n",
    "_Authors: Kiefer Katovich (SF)_\n",
    "\n",
    "---\n",
    "\n",
    "In this lab you'll be using regularized regression penalties Ridge, Lasso, and Elastic Net to try and predict how many shots Kobe Bryant made per game in his career.\n",
    "\n",
    "The Kobe shots dataset has hundreds of columns representing different characteristics of each basketball game. Fitting an ordinary linear regression using every predictor would dramatically overfit the model considering the limited number of observations (games) we have available. Furthermore, many of the predictors have significant multicollinearity. \n",
    "\n",
    "**Warning:** Some of these calculations are computationally expensive and may take a while to execute.  It may be worth while to only use a portion of the data to perform these calculations, especially if you have experienced kernel issues in the past.\n",
    "\n",
    "---\n",
    "\n",
    "### 1. Load packages and data"
   ]
  },
  {
   "cell_type": "code",
   "execution_count": 27,
   "metadata": {},
   "outputs": [],
   "source": [
    "import numpy as np\n",
    "import pandas as pd\n",
    "import patsy\n",
    "\n",
    "from sklearn.linear_model import Ridge, Lasso, ElasticNet, LinearRegression, RidgeCV, LassoCV, ElasticNetCV\n",
    "from sklearn.model_selection import cross_val_score, KFold\n",
    "\n",
    "import matplotlib\n",
    "import matplotlib.pyplot as plt\n",
    "import seaborn as sns\n",
    "plt.style.use('fivethirtyeight')\n",
    "\n",
    "%config InlineBackend.figure_format = 'retina'\n",
    "%matplotlib inline"
   ]
  },
  {
   "cell_type": "code",
   "execution_count": 2,
   "metadata": {
    "collapsed": true
   },
   "outputs": [],
   "source": [
    "kobe = pd.read_csv('./datasets/kobe_superwide_games.csv')"
   ]
  },
  {
   "cell_type": "markdown",
   "metadata": {},
   "source": [
    "---\n",
    "\n",
    "### 2. Examine the data\n",
    "\n",
    "- How many columns are there?\n",
    "- Examine what the observations (rows) and columns represent.\n",
    "- Why is this data that regularization might be particularly useful for?"
   ]
  },
  {
   "cell_type": "code",
   "execution_count": 14,
   "metadata": {},
   "outputs": [
    {
     "data": {
      "text/plain": [
       "(1558, 645)"
      ]
     },
     "execution_count": 14,
     "metadata": {},
     "output_type": "execute_result"
    }
   ],
   "source": [
    "# A:\n",
    "kobe.shape"
   ]
  },
  {
   "cell_type": "code",
   "execution_count": 16,
   "metadata": {},
   "outputs": [
    {
     "data": {
      "text/html": [
       "<div>\n",
       "<style scoped>\n",
       "    .dataframe tbody tr th:only-of-type {\n",
       "        vertical-align: middle;\n",
       "    }\n",
       "\n",
       "    .dataframe tbody tr th {\n",
       "        vertical-align: top;\n",
       "    }\n",
       "\n",
       "    .dataframe thead th {\n",
       "        text-align: right;\n",
       "    }\n",
       "</style>\n",
       "<table border=\"1\" class=\"dataframe\">\n",
       "  <thead>\n",
       "    <tr style=\"text-align: right;\">\n",
       "      <th></th>\n",
       "      <th>SHOTS_MADE</th>\n",
       "      <th>AWAY_GAME</th>\n",
       "      <th>SEASON_OPPONENT:atl:1996-97</th>\n",
       "      <th>SEASON_OPPONENT:atl:1997-98</th>\n",
       "      <th>SEASON_OPPONENT:atl:1999-00</th>\n",
       "      <th>SEASON_OPPONENT:atl:2000-01</th>\n",
       "      <th>SEASON_OPPONENT:atl:2001-02</th>\n",
       "      <th>SEASON_OPPONENT:atl:2002-03</th>\n",
       "      <th>SEASON_OPPONENT:atl:2003-04</th>\n",
       "      <th>SEASON_OPPONENT:atl:2004-05</th>\n",
       "      <th>...</th>\n",
       "      <th>ACTION_TYPE:tip_layup_shot</th>\n",
       "      <th>ACTION_TYPE:tip_shot</th>\n",
       "      <th>ACTION_TYPE:turnaround_bank_shot</th>\n",
       "      <th>ACTION_TYPE:turnaround_fadeaway_bank_jump_shot</th>\n",
       "      <th>ACTION_TYPE:turnaround_fadeaway_shot</th>\n",
       "      <th>ACTION_TYPE:turnaround_finger_roll_shot</th>\n",
       "      <th>ACTION_TYPE:turnaround_hook_shot</th>\n",
       "      <th>ACTION_TYPE:turnaround_jump_shot</th>\n",
       "      <th>SEASON_GAME_NUMBER</th>\n",
       "      <th>CAREER_GAME_NUMBER</th>\n",
       "    </tr>\n",
       "  </thead>\n",
       "  <tbody>\n",
       "    <tr>\n",
       "      <th>0</th>\n",
       "      <td>0.0</td>\n",
       "      <td>0</td>\n",
       "      <td>0.0</td>\n",
       "      <td>0.0</td>\n",
       "      <td>0.0</td>\n",
       "      <td>0.0</td>\n",
       "      <td>0.0</td>\n",
       "      <td>0.0</td>\n",
       "      <td>0.0</td>\n",
       "      <td>0.0</td>\n",
       "      <td>...</td>\n",
       "      <td>0.0</td>\n",
       "      <td>0.0</td>\n",
       "      <td>0.0</td>\n",
       "      <td>0.0</td>\n",
       "      <td>0.0</td>\n",
       "      <td>0.0</td>\n",
       "      <td>0.0</td>\n",
       "      <td>0.0</td>\n",
       "      <td>1</td>\n",
       "      <td>1</td>\n",
       "    </tr>\n",
       "    <tr>\n",
       "      <th>1</th>\n",
       "      <td>0.0</td>\n",
       "      <td>1</td>\n",
       "      <td>0.0</td>\n",
       "      <td>0.0</td>\n",
       "      <td>0.0</td>\n",
       "      <td>0.0</td>\n",
       "      <td>0.0</td>\n",
       "      <td>0.0</td>\n",
       "      <td>0.0</td>\n",
       "      <td>0.0</td>\n",
       "      <td>...</td>\n",
       "      <td>0.0</td>\n",
       "      <td>0.0</td>\n",
       "      <td>0.0</td>\n",
       "      <td>0.0</td>\n",
       "      <td>0.0</td>\n",
       "      <td>0.0</td>\n",
       "      <td>0.0</td>\n",
       "      <td>0.0</td>\n",
       "      <td>2</td>\n",
       "      <td>2</td>\n",
       "    </tr>\n",
       "  </tbody>\n",
       "</table>\n",
       "<p>2 rows × 645 columns</p>\n",
       "</div>"
      ],
      "text/plain": [
       "   SHOTS_MADE  AWAY_GAME  SEASON_OPPONENT:atl:1996-97  \\\n",
       "0         0.0          0                          0.0   \n",
       "1         0.0          1                          0.0   \n",
       "\n",
       "   SEASON_OPPONENT:atl:1997-98  SEASON_OPPONENT:atl:1999-00  \\\n",
       "0                          0.0                          0.0   \n",
       "1                          0.0                          0.0   \n",
       "\n",
       "   SEASON_OPPONENT:atl:2000-01  SEASON_OPPONENT:atl:2001-02  \\\n",
       "0                          0.0                          0.0   \n",
       "1                          0.0                          0.0   \n",
       "\n",
       "   SEASON_OPPONENT:atl:2002-03  SEASON_OPPONENT:atl:2003-04  \\\n",
       "0                          0.0                          0.0   \n",
       "1                          0.0                          0.0   \n",
       "\n",
       "   SEASON_OPPONENT:atl:2004-05         ...          \\\n",
       "0                          0.0         ...           \n",
       "1                          0.0         ...           \n",
       "\n",
       "   ACTION_TYPE:tip_layup_shot  ACTION_TYPE:tip_shot  \\\n",
       "0                         0.0                   0.0   \n",
       "1                         0.0                   0.0   \n",
       "\n",
       "   ACTION_TYPE:turnaround_bank_shot  \\\n",
       "0                               0.0   \n",
       "1                               0.0   \n",
       "\n",
       "   ACTION_TYPE:turnaround_fadeaway_bank_jump_shot  \\\n",
       "0                                             0.0   \n",
       "1                                             0.0   \n",
       "\n",
       "   ACTION_TYPE:turnaround_fadeaway_shot  \\\n",
       "0                                   0.0   \n",
       "1                                   0.0   \n",
       "\n",
       "   ACTION_TYPE:turnaround_finger_roll_shot  ACTION_TYPE:turnaround_hook_shot  \\\n",
       "0                                      0.0                               0.0   \n",
       "1                                      0.0                               0.0   \n",
       "\n",
       "   ACTION_TYPE:turnaround_jump_shot  SEASON_GAME_NUMBER  CAREER_GAME_NUMBER  \n",
       "0                               0.0                   1                   1  \n",
       "1                               0.0                   2                   2  \n",
       "\n",
       "[2 rows x 645 columns]"
      ]
     },
     "execution_count": 16,
     "metadata": {},
     "output_type": "execute_result"
    }
   ],
   "source": [
    "kobe.head(2)"
   ]
  },
  {
   "cell_type": "code",
   "execution_count": 19,
   "metadata": {
    "scrolled": false
   },
   "outputs": [
    {
     "data": {
      "text/html": [
       "<div>\n",
       "<style scoped>\n",
       "    .dataframe tbody tr th:only-of-type {\n",
       "        vertical-align: middle;\n",
       "    }\n",
       "\n",
       "    .dataframe tbody tr th {\n",
       "        vertical-align: top;\n",
       "    }\n",
       "\n",
       "    .dataframe thead th {\n",
       "        text-align: right;\n",
       "    }\n",
       "</style>\n",
       "<table border=\"1\" class=\"dataframe\">\n",
       "  <thead>\n",
       "    <tr style=\"text-align: right;\">\n",
       "      <th></th>\n",
       "      <th>SHOTS_MADE</th>\n",
       "      <th>AWAY_GAME</th>\n",
       "      <th>SEASON_OPPONENT:atl:1996-97</th>\n",
       "      <th>SEASON_OPPONENT:atl:1997-98</th>\n",
       "      <th>SEASON_OPPONENT:atl:1999-00</th>\n",
       "      <th>SEASON_OPPONENT:atl:2000-01</th>\n",
       "      <th>SEASON_OPPONENT:atl:2001-02</th>\n",
       "      <th>SEASON_OPPONENT:atl:2002-03</th>\n",
       "      <th>SEASON_OPPONENT:atl:2003-04</th>\n",
       "      <th>SEASON_OPPONENT:atl:2004-05</th>\n",
       "      <th>...</th>\n",
       "      <th>SEASON_OPPONENT:atl:2015-16</th>\n",
       "      <th>SEASON_OPPONENT:bkn:2012-13</th>\n",
       "      <th>SEASON_OPPONENT:bkn:2015-16</th>\n",
       "      <th>SEASON_OPPONENT:bos:1996-97</th>\n",
       "      <th>SEASON_OPPONENT:bos:1997-98</th>\n",
       "      <th>SEASON_OPPONENT:bos:1999-00</th>\n",
       "      <th>SEASON_OPPONENT:bos:2001-02</th>\n",
       "      <th>SEASON_OPPONENT:bos:2002-03</th>\n",
       "      <th>SEASON_OPPONENT:bos:2003-04</th>\n",
       "      <th>SEASON_OPPONENT:bos:2004-05</th>\n",
       "    </tr>\n",
       "  </thead>\n",
       "  <tbody>\n",
       "    <tr>\n",
       "      <th>count</th>\n",
       "      <td>1558.000000</td>\n",
       "      <td>1558.000000</td>\n",
       "      <td>1558.000000</td>\n",
       "      <td>1558.000000</td>\n",
       "      <td>1558.000000</td>\n",
       "      <td>1558.000000</td>\n",
       "      <td>1558.000000</td>\n",
       "      <td>1558.000000</td>\n",
       "      <td>1558.000000</td>\n",
       "      <td>1558.000000</td>\n",
       "      <td>...</td>\n",
       "      <td>1558.000000</td>\n",
       "      <td>1558.000000</td>\n",
       "      <td>1558.000000</td>\n",
       "      <td>1558.000000</td>\n",
       "      <td>1558.000000</td>\n",
       "      <td>1558.000000</td>\n",
       "      <td>1558.000000</td>\n",
       "      <td>1558.000000</td>\n",
       "      <td>1558.000000</td>\n",
       "      <td>1558.000000</td>\n",
       "    </tr>\n",
       "    <tr>\n",
       "      <th>mean</th>\n",
       "      <td>7.358793</td>\n",
       "      <td>0.500642</td>\n",
       "      <td>0.001284</td>\n",
       "      <td>0.001284</td>\n",
       "      <td>0.000642</td>\n",
       "      <td>0.000642</td>\n",
       "      <td>0.001284</td>\n",
       "      <td>0.001284</td>\n",
       "      <td>0.000642</td>\n",
       "      <td>0.000642</td>\n",
       "      <td>...</td>\n",
       "      <td>0.000642</td>\n",
       "      <td>0.001284</td>\n",
       "      <td>0.000642</td>\n",
       "      <td>0.000642</td>\n",
       "      <td>0.001284</td>\n",
       "      <td>0.001284</td>\n",
       "      <td>0.001284</td>\n",
       "      <td>0.001284</td>\n",
       "      <td>0.001284</td>\n",
       "      <td>0.001284</td>\n",
       "    </tr>\n",
       "    <tr>\n",
       "      <th>std</th>\n",
       "      <td>3.471180</td>\n",
       "      <td>0.500160</td>\n",
       "      <td>0.035817</td>\n",
       "      <td>0.035817</td>\n",
       "      <td>0.025335</td>\n",
       "      <td>0.025335</td>\n",
       "      <td>0.035817</td>\n",
       "      <td>0.035817</td>\n",
       "      <td>0.025335</td>\n",
       "      <td>0.025335</td>\n",
       "      <td>...</td>\n",
       "      <td>0.025335</td>\n",
       "      <td>0.035817</td>\n",
       "      <td>0.025335</td>\n",
       "      <td>0.025335</td>\n",
       "      <td>0.035817</td>\n",
       "      <td>0.035817</td>\n",
       "      <td>0.035817</td>\n",
       "      <td>0.035817</td>\n",
       "      <td>0.035817</td>\n",
       "      <td>0.035817</td>\n",
       "    </tr>\n",
       "    <tr>\n",
       "      <th>min</th>\n",
       "      <td>0.000000</td>\n",
       "      <td>0.000000</td>\n",
       "      <td>0.000000</td>\n",
       "      <td>0.000000</td>\n",
       "      <td>0.000000</td>\n",
       "      <td>0.000000</td>\n",
       "      <td>0.000000</td>\n",
       "      <td>0.000000</td>\n",
       "      <td>0.000000</td>\n",
       "      <td>0.000000</td>\n",
       "      <td>...</td>\n",
       "      <td>0.000000</td>\n",
       "      <td>0.000000</td>\n",
       "      <td>0.000000</td>\n",
       "      <td>0.000000</td>\n",
       "      <td>0.000000</td>\n",
       "      <td>0.000000</td>\n",
       "      <td>0.000000</td>\n",
       "      <td>0.000000</td>\n",
       "      <td>0.000000</td>\n",
       "      <td>0.000000</td>\n",
       "    </tr>\n",
       "    <tr>\n",
       "      <th>25%</th>\n",
       "      <td>5.000000</td>\n",
       "      <td>0.000000</td>\n",
       "      <td>0.000000</td>\n",
       "      <td>0.000000</td>\n",
       "      <td>0.000000</td>\n",
       "      <td>0.000000</td>\n",
       "      <td>0.000000</td>\n",
       "      <td>0.000000</td>\n",
       "      <td>0.000000</td>\n",
       "      <td>0.000000</td>\n",
       "      <td>...</td>\n",
       "      <td>0.000000</td>\n",
       "      <td>0.000000</td>\n",
       "      <td>0.000000</td>\n",
       "      <td>0.000000</td>\n",
       "      <td>0.000000</td>\n",
       "      <td>0.000000</td>\n",
       "      <td>0.000000</td>\n",
       "      <td>0.000000</td>\n",
       "      <td>0.000000</td>\n",
       "      <td>0.000000</td>\n",
       "    </tr>\n",
       "    <tr>\n",
       "      <th>50%</th>\n",
       "      <td>7.000000</td>\n",
       "      <td>1.000000</td>\n",
       "      <td>0.000000</td>\n",
       "      <td>0.000000</td>\n",
       "      <td>0.000000</td>\n",
       "      <td>0.000000</td>\n",
       "      <td>0.000000</td>\n",
       "      <td>0.000000</td>\n",
       "      <td>0.000000</td>\n",
       "      <td>0.000000</td>\n",
       "      <td>...</td>\n",
       "      <td>0.000000</td>\n",
       "      <td>0.000000</td>\n",
       "      <td>0.000000</td>\n",
       "      <td>0.000000</td>\n",
       "      <td>0.000000</td>\n",
       "      <td>0.000000</td>\n",
       "      <td>0.000000</td>\n",
       "      <td>0.000000</td>\n",
       "      <td>0.000000</td>\n",
       "      <td>0.000000</td>\n",
       "    </tr>\n",
       "    <tr>\n",
       "      <th>75%</th>\n",
       "      <td>10.000000</td>\n",
       "      <td>1.000000</td>\n",
       "      <td>0.000000</td>\n",
       "      <td>0.000000</td>\n",
       "      <td>0.000000</td>\n",
       "      <td>0.000000</td>\n",
       "      <td>0.000000</td>\n",
       "      <td>0.000000</td>\n",
       "      <td>0.000000</td>\n",
       "      <td>0.000000</td>\n",
       "      <td>...</td>\n",
       "      <td>0.000000</td>\n",
       "      <td>0.000000</td>\n",
       "      <td>0.000000</td>\n",
       "      <td>0.000000</td>\n",
       "      <td>0.000000</td>\n",
       "      <td>0.000000</td>\n",
       "      <td>0.000000</td>\n",
       "      <td>0.000000</td>\n",
       "      <td>0.000000</td>\n",
       "      <td>0.000000</td>\n",
       "    </tr>\n",
       "    <tr>\n",
       "      <th>max</th>\n",
       "      <td>22.000000</td>\n",
       "      <td>1.000000</td>\n",
       "      <td>1.000000</td>\n",
       "      <td>1.000000</td>\n",
       "      <td>1.000000</td>\n",
       "      <td>1.000000</td>\n",
       "      <td>1.000000</td>\n",
       "      <td>1.000000</td>\n",
       "      <td>1.000000</td>\n",
       "      <td>1.000000</td>\n",
       "      <td>...</td>\n",
       "      <td>1.000000</td>\n",
       "      <td>1.000000</td>\n",
       "      <td>1.000000</td>\n",
       "      <td>1.000000</td>\n",
       "      <td>1.000000</td>\n",
       "      <td>1.000000</td>\n",
       "      <td>1.000000</td>\n",
       "      <td>1.000000</td>\n",
       "      <td>1.000000</td>\n",
       "      <td>1.000000</td>\n",
       "    </tr>\n",
       "  </tbody>\n",
       "</table>\n",
       "<p>8 rows × 30 columns</p>\n",
       "</div>"
      ],
      "text/plain": [
       "        SHOTS_MADE    AWAY_GAME  SEASON_OPPONENT:atl:1996-97  \\\n",
       "count  1558.000000  1558.000000                  1558.000000   \n",
       "mean      7.358793     0.500642                     0.001284   \n",
       "std       3.471180     0.500160                     0.035817   \n",
       "min       0.000000     0.000000                     0.000000   \n",
       "25%       5.000000     0.000000                     0.000000   \n",
       "50%       7.000000     1.000000                     0.000000   \n",
       "75%      10.000000     1.000000                     0.000000   \n",
       "max      22.000000     1.000000                     1.000000   \n",
       "\n",
       "       SEASON_OPPONENT:atl:1997-98  SEASON_OPPONENT:atl:1999-00  \\\n",
       "count                  1558.000000                  1558.000000   \n",
       "mean                      0.001284                     0.000642   \n",
       "std                       0.035817                     0.025335   \n",
       "min                       0.000000                     0.000000   \n",
       "25%                       0.000000                     0.000000   \n",
       "50%                       0.000000                     0.000000   \n",
       "75%                       0.000000                     0.000000   \n",
       "max                       1.000000                     1.000000   \n",
       "\n",
       "       SEASON_OPPONENT:atl:2000-01  SEASON_OPPONENT:atl:2001-02  \\\n",
       "count                  1558.000000                  1558.000000   \n",
       "mean                      0.000642                     0.001284   \n",
       "std                       0.025335                     0.035817   \n",
       "min                       0.000000                     0.000000   \n",
       "25%                       0.000000                     0.000000   \n",
       "50%                       0.000000                     0.000000   \n",
       "75%                       0.000000                     0.000000   \n",
       "max                       1.000000                     1.000000   \n",
       "\n",
       "       SEASON_OPPONENT:atl:2002-03  SEASON_OPPONENT:atl:2003-04  \\\n",
       "count                  1558.000000                  1558.000000   \n",
       "mean                      0.001284                     0.000642   \n",
       "std                       0.035817                     0.025335   \n",
       "min                       0.000000                     0.000000   \n",
       "25%                       0.000000                     0.000000   \n",
       "50%                       0.000000                     0.000000   \n",
       "75%                       0.000000                     0.000000   \n",
       "max                       1.000000                     1.000000   \n",
       "\n",
       "       SEASON_OPPONENT:atl:2004-05             ...               \\\n",
       "count                  1558.000000             ...                \n",
       "mean                      0.000642             ...                \n",
       "std                       0.025335             ...                \n",
       "min                       0.000000             ...                \n",
       "25%                       0.000000             ...                \n",
       "50%                       0.000000             ...                \n",
       "75%                       0.000000             ...                \n",
       "max                       1.000000             ...                \n",
       "\n",
       "       SEASON_OPPONENT:atl:2015-16  SEASON_OPPONENT:bkn:2012-13  \\\n",
       "count                  1558.000000                  1558.000000   \n",
       "mean                      0.000642                     0.001284   \n",
       "std                       0.025335                     0.035817   \n",
       "min                       0.000000                     0.000000   \n",
       "25%                       0.000000                     0.000000   \n",
       "50%                       0.000000                     0.000000   \n",
       "75%                       0.000000                     0.000000   \n",
       "max                       1.000000                     1.000000   \n",
       "\n",
       "       SEASON_OPPONENT:bkn:2015-16  SEASON_OPPONENT:bos:1996-97  \\\n",
       "count                  1558.000000                  1558.000000   \n",
       "mean                      0.000642                     0.000642   \n",
       "std                       0.025335                     0.025335   \n",
       "min                       0.000000                     0.000000   \n",
       "25%                       0.000000                     0.000000   \n",
       "50%                       0.000000                     0.000000   \n",
       "75%                       0.000000                     0.000000   \n",
       "max                       1.000000                     1.000000   \n",
       "\n",
       "       SEASON_OPPONENT:bos:1997-98  SEASON_OPPONENT:bos:1999-00  \\\n",
       "count                  1558.000000                  1558.000000   \n",
       "mean                      0.001284                     0.001284   \n",
       "std                       0.035817                     0.035817   \n",
       "min                       0.000000                     0.000000   \n",
       "25%                       0.000000                     0.000000   \n",
       "50%                       0.000000                     0.000000   \n",
       "75%                       0.000000                     0.000000   \n",
       "max                       1.000000                     1.000000   \n",
       "\n",
       "       SEASON_OPPONENT:bos:2001-02  SEASON_OPPONENT:bos:2002-03  \\\n",
       "count                  1558.000000                  1558.000000   \n",
       "mean                      0.001284                     0.001284   \n",
       "std                       0.035817                     0.035817   \n",
       "min                       0.000000                     0.000000   \n",
       "25%                       0.000000                     0.000000   \n",
       "50%                       0.000000                     0.000000   \n",
       "75%                       0.000000                     0.000000   \n",
       "max                       1.000000                     1.000000   \n",
       "\n",
       "       SEASON_OPPONENT:bos:2003-04  SEASON_OPPONENT:bos:2004-05  \n",
       "count                  1558.000000                  1558.000000  \n",
       "mean                      0.001284                     0.001284  \n",
       "std                       0.035817                     0.035817  \n",
       "min                       0.000000                     0.000000  \n",
       "25%                       0.000000                     0.000000  \n",
       "50%                       0.000000                     0.000000  \n",
       "75%                       0.000000                     0.000000  \n",
       "max                       1.000000                     1.000000  \n",
       "\n",
       "[8 rows x 30 columns]"
      ]
     },
     "execution_count": 19,
     "metadata": {},
     "output_type": "execute_result"
    }
   ],
   "source": [
    "kobe[kobe.columns[:30]].describe()"
   ]
  },
  {
   "cell_type": "code",
   "execution_count": null,
   "metadata": {
    "collapsed": true
   },
   "outputs": [],
   "source": [
    "# Too many columns, regularization able to filter out 'bad' or unnecessary features to avoid overfitting"
   ]
  },
  {
   "cell_type": "markdown",
   "metadata": {},
   "source": [
    "---\n",
    "\n",
    "### 3. Make predictor and target variables. Standardize the predictors.\n",
    "\n",
    "Why is normalization necessary for regularized regressions?\n",
    "\n",
    "Use the `sklearn.preprocessing` class `StandardScaler` to standardize the predictors."
   ]
  },
  {
   "cell_type": "code",
   "execution_count": 4,
   "metadata": {
    "collapsed": true
   },
   "outputs": [],
   "source": [
    "# A:\n",
    "# Normalization is necessary because the betas of variables on different scales are biased.\n",
    "# To apply a constant 'penalty' on these variables will make no sense as it is not fair.\n",
    "# Thus when variables are on different scales, regularization is unable to filter out important/unimportant features\n",
    "# accurately\n",
    "\n",
    "# Standardization is necessary for regularized regression because the beta\n",
    "# values for each predictor variable must be on the same scale. If betas\n",
    "# are different sizes just because of the scale of predictor variables\n",
    "# the regularization term can't determine which betas are more/less \n",
    "# important based on their size."
   ]
  },
  {
   "cell_type": "code",
   "execution_count": 22,
   "metadata": {
    "collapsed": true
   },
   "outputs": [],
   "source": [
    "from sklearn.preprocessing import StandardScaler\n",
    "scaler = StandardScaler()"
   ]
  },
  {
   "cell_type": "code",
   "execution_count": 23,
   "metadata": {
    "collapsed": true
   },
   "outputs": [],
   "source": [
    "Y = kobe[['SHOTS_MADE']]\n",
    "X = kobe.drop(labels='SHOTS_MADE', axis=1)"
   ]
  },
  {
   "cell_type": "code",
   "execution_count": 26,
   "metadata": {},
   "outputs": [
    {
     "data": {
      "text/html": [
       "<div>\n",
       "<style scoped>\n",
       "    .dataframe tbody tr th:only-of-type {\n",
       "        vertical-align: middle;\n",
       "    }\n",
       "\n",
       "    .dataframe tbody tr th {\n",
       "        vertical-align: top;\n",
       "    }\n",
       "\n",
       "    .dataframe thead th {\n",
       "        text-align: right;\n",
       "    }\n",
       "</style>\n",
       "<table border=\"1\" class=\"dataframe\">\n",
       "  <thead>\n",
       "    <tr style=\"text-align: right;\">\n",
       "      <th></th>\n",
       "      <th>AWAY_GAME</th>\n",
       "      <th>SEASON_OPPONENT:atl:1996-97</th>\n",
       "      <th>SEASON_OPPONENT:atl:1997-98</th>\n",
       "      <th>SEASON_OPPONENT:atl:1999-00</th>\n",
       "      <th>SEASON_OPPONENT:atl:2000-01</th>\n",
       "      <th>SEASON_OPPONENT:atl:2001-02</th>\n",
       "      <th>SEASON_OPPONENT:atl:2002-03</th>\n",
       "      <th>SEASON_OPPONENT:atl:2003-04</th>\n",
       "      <th>SEASON_OPPONENT:atl:2004-05</th>\n",
       "      <th>SEASON_OPPONENT:atl:2005-06</th>\n",
       "      <th>...</th>\n",
       "      <th>ACTION_TYPE:tip_layup_shot</th>\n",
       "      <th>ACTION_TYPE:tip_shot</th>\n",
       "      <th>ACTION_TYPE:turnaround_bank_shot</th>\n",
       "      <th>ACTION_TYPE:turnaround_fadeaway_bank_jump_shot</th>\n",
       "      <th>ACTION_TYPE:turnaround_fadeaway_shot</th>\n",
       "      <th>ACTION_TYPE:turnaround_finger_roll_shot</th>\n",
       "      <th>ACTION_TYPE:turnaround_hook_shot</th>\n",
       "      <th>ACTION_TYPE:turnaround_jump_shot</th>\n",
       "      <th>SEASON_GAME_NUMBER</th>\n",
       "      <th>CAREER_GAME_NUMBER</th>\n",
       "    </tr>\n",
       "  </thead>\n",
       "  <tbody>\n",
       "    <tr>\n",
       "      <th>count</th>\n",
       "      <td>1.558000e+03</td>\n",
       "      <td>1.558000e+03</td>\n",
       "      <td>1.558000e+03</td>\n",
       "      <td>1.558000e+03</td>\n",
       "      <td>1.558000e+03</td>\n",
       "      <td>1.558000e+03</td>\n",
       "      <td>1.558000e+03</td>\n",
       "      <td>1.558000e+03</td>\n",
       "      <td>1.558000e+03</td>\n",
       "      <td>1.558000e+03</td>\n",
       "      <td>...</td>\n",
       "      <td>1.558000e+03</td>\n",
       "      <td>1.558000e+03</td>\n",
       "      <td>1.558000e+03</td>\n",
       "      <td>1.558000e+03</td>\n",
       "      <td>1.558000e+03</td>\n",
       "      <td>1.558000e+03</td>\n",
       "      <td>1.558000e+03</td>\n",
       "      <td>1.558000e+03</td>\n",
       "      <td>1.558000e+03</td>\n",
       "      <td>1.558000e+03</td>\n",
       "    </tr>\n",
       "    <tr>\n",
       "      <th>mean</th>\n",
       "      <td>2.365815e-17</td>\n",
       "      <td>1.368182e-17</td>\n",
       "      <td>1.368182e-17</td>\n",
       "      <td>1.368182e-17</td>\n",
       "      <td>9.121216e-18</td>\n",
       "      <td>9.121216e-18</td>\n",
       "      <td>9.121216e-18</td>\n",
       "      <td>1.368182e-17</td>\n",
       "      <td>1.368182e-17</td>\n",
       "      <td>1.482198e-17</td>\n",
       "      <td>...</td>\n",
       "      <td>-4.560608e-18</td>\n",
       "      <td>-4.560608e-17</td>\n",
       "      <td>-1.824243e-17</td>\n",
       "      <td>9.121216e-18</td>\n",
       "      <td>1.824243e-16</td>\n",
       "      <td>-2.280304e-18</td>\n",
       "      <td>-9.121216e-18</td>\n",
       "      <td>7.296973e-17</td>\n",
       "      <td>9.121216e-17</td>\n",
       "      <td>-1.459395e-16</td>\n",
       "    </tr>\n",
       "    <tr>\n",
       "      <th>std</th>\n",
       "      <td>1.000321e+00</td>\n",
       "      <td>1.000321e+00</td>\n",
       "      <td>1.000321e+00</td>\n",
       "      <td>1.000321e+00</td>\n",
       "      <td>1.000321e+00</td>\n",
       "      <td>1.000321e+00</td>\n",
       "      <td>1.000321e+00</td>\n",
       "      <td>1.000321e+00</td>\n",
       "      <td>1.000321e+00</td>\n",
       "      <td>1.000321e+00</td>\n",
       "      <td>...</td>\n",
       "      <td>1.000321e+00</td>\n",
       "      <td>1.000321e+00</td>\n",
       "      <td>1.000321e+00</td>\n",
       "      <td>1.000321e+00</td>\n",
       "      <td>1.000321e+00</td>\n",
       "      <td>1.000321e+00</td>\n",
       "      <td>1.000321e+00</td>\n",
       "      <td>1.000321e+00</td>\n",
       "      <td>1.000321e+00</td>\n",
       "      <td>1.000321e+00</td>\n",
       "    </tr>\n",
       "    <tr>\n",
       "      <th>min</th>\n",
       "      <td>-1.001285e+00</td>\n",
       "      <td>-3.585174e-02</td>\n",
       "      <td>-3.585174e-02</td>\n",
       "      <td>-2.534286e-02</td>\n",
       "      <td>-2.534286e-02</td>\n",
       "      <td>-3.585174e-02</td>\n",
       "      <td>-3.585174e-02</td>\n",
       "      <td>-2.534286e-02</td>\n",
       "      <td>-2.534286e-02</td>\n",
       "      <td>-3.585174e-02</td>\n",
       "      <td>...</td>\n",
       "      <td>-3.585174e-02</td>\n",
       "      <td>-2.818064e-01</td>\n",
       "      <td>-1.839222e-01</td>\n",
       "      <td>-2.534286e-02</td>\n",
       "      <td>-3.425907e-01</td>\n",
       "      <td>-3.574600e-02</td>\n",
       "      <td>-8.842809e-02</td>\n",
       "      <td>-6.432184e-01</td>\n",
       "      <td>-1.610867e+00</td>\n",
       "      <td>-1.733044e+00</td>\n",
       "    </tr>\n",
       "    <tr>\n",
       "      <th>25%</th>\n",
       "      <td>-1.001285e+00</td>\n",
       "      <td>-3.585174e-02</td>\n",
       "      <td>-3.585174e-02</td>\n",
       "      <td>-2.534286e-02</td>\n",
       "      <td>-2.534286e-02</td>\n",
       "      <td>-3.585174e-02</td>\n",
       "      <td>-3.585174e-02</td>\n",
       "      <td>-2.534286e-02</td>\n",
       "      <td>-2.534286e-02</td>\n",
       "      <td>-3.585174e-02</td>\n",
       "      <td>...</td>\n",
       "      <td>-3.585174e-02</td>\n",
       "      <td>-2.818064e-01</td>\n",
       "      <td>-1.839222e-01</td>\n",
       "      <td>-2.534286e-02</td>\n",
       "      <td>-3.425907e-01</td>\n",
       "      <td>-3.574600e-02</td>\n",
       "      <td>-8.842809e-02</td>\n",
       "      <td>-6.432184e-01</td>\n",
       "      <td>-8.428132e-01</td>\n",
       "      <td>-8.653954e-01</td>\n",
       "    </tr>\n",
       "    <tr>\n",
       "      <th>50%</th>\n",
       "      <td>9.987171e-01</td>\n",
       "      <td>-3.585174e-02</td>\n",
       "      <td>-3.585174e-02</td>\n",
       "      <td>-2.534286e-02</td>\n",
       "      <td>-2.534286e-02</td>\n",
       "      <td>-3.585174e-02</td>\n",
       "      <td>-3.585174e-02</td>\n",
       "      <td>-2.534286e-02</td>\n",
       "      <td>-2.534286e-02</td>\n",
       "      <td>-3.585174e-02</td>\n",
       "      <td>...</td>\n",
       "      <td>-3.585174e-02</td>\n",
       "      <td>-2.818064e-01</td>\n",
       "      <td>-1.839222e-01</td>\n",
       "      <td>-2.534286e-02</td>\n",
       "      <td>-3.425907e-01</td>\n",
       "      <td>-3.574600e-02</td>\n",
       "      <td>-8.842809e-02</td>\n",
       "      <td>-6.432184e-01</td>\n",
       "      <td>-3.635684e-02</td>\n",
       "      <td>2.996766e-05</td>\n",
       "    </tr>\n",
       "    <tr>\n",
       "      <th>75%</th>\n",
       "      <td>9.987171e-01</td>\n",
       "      <td>-3.585174e-02</td>\n",
       "      <td>-3.585174e-02</td>\n",
       "      <td>-2.534286e-02</td>\n",
       "      <td>-2.534286e-02</td>\n",
       "      <td>-3.585174e-02</td>\n",
       "      <td>-3.585174e-02</td>\n",
       "      <td>-2.534286e-02</td>\n",
       "      <td>-2.534286e-02</td>\n",
       "      <td>-3.585174e-02</td>\n",
       "      <td>...</td>\n",
       "      <td>-3.585174e-02</td>\n",
       "      <td>-2.818064e-01</td>\n",
       "      <td>-1.839222e-01</td>\n",
       "      <td>-2.534286e-02</td>\n",
       "      <td>-3.425907e-01</td>\n",
       "      <td>-3.574600e-02</td>\n",
       "      <td>-8.842809e-02</td>\n",
       "      <td>4.224971e-01</td>\n",
       "      <td>7.700996e-01</td>\n",
       "      <td>8.654553e-01</td>\n",
       "    </tr>\n",
       "    <tr>\n",
       "      <th>max</th>\n",
       "      <td>9.987171e-01</td>\n",
       "      <td>2.789265e+01</td>\n",
       "      <td>2.789265e+01</td>\n",
       "      <td>3.945884e+01</td>\n",
       "      <td>3.945884e+01</td>\n",
       "      <td>2.789265e+01</td>\n",
       "      <td>2.789265e+01</td>\n",
       "      <td>3.945884e+01</td>\n",
       "      <td>3.945884e+01</td>\n",
       "      <td>2.789265e+01</td>\n",
       "      <td>...</td>\n",
       "      <td>2.789265e+01</td>\n",
       "      <td>1.106839e+01</td>\n",
       "      <td>1.179686e+01</td>\n",
       "      <td>3.945884e+01</td>\n",
       "      <td>1.257104e+01</td>\n",
       "      <td>2.995240e+01</td>\n",
       "      <td>2.258712e+01</td>\n",
       "      <td>6.503345e+00</td>\n",
       "      <td>2.383012e+00</td>\n",
       "      <td>1.730881e+00</td>\n",
       "    </tr>\n",
       "  </tbody>\n",
       "</table>\n",
       "<p>8 rows × 644 columns</p>\n",
       "</div>"
      ],
      "text/plain": [
       "          AWAY_GAME  SEASON_OPPONENT:atl:1996-97  SEASON_OPPONENT:atl:1997-98  \\\n",
       "count  1.558000e+03                 1.558000e+03                 1.558000e+03   \n",
       "mean   2.365815e-17                 1.368182e-17                 1.368182e-17   \n",
       "std    1.000321e+00                 1.000321e+00                 1.000321e+00   \n",
       "min   -1.001285e+00                -3.585174e-02                -3.585174e-02   \n",
       "25%   -1.001285e+00                -3.585174e-02                -3.585174e-02   \n",
       "50%    9.987171e-01                -3.585174e-02                -3.585174e-02   \n",
       "75%    9.987171e-01                -3.585174e-02                -3.585174e-02   \n",
       "max    9.987171e-01                 2.789265e+01                 2.789265e+01   \n",
       "\n",
       "       SEASON_OPPONENT:atl:1999-00  SEASON_OPPONENT:atl:2000-01  \\\n",
       "count                 1.558000e+03                 1.558000e+03   \n",
       "mean                  1.368182e-17                 9.121216e-18   \n",
       "std                   1.000321e+00                 1.000321e+00   \n",
       "min                  -2.534286e-02                -2.534286e-02   \n",
       "25%                  -2.534286e-02                -2.534286e-02   \n",
       "50%                  -2.534286e-02                -2.534286e-02   \n",
       "75%                  -2.534286e-02                -2.534286e-02   \n",
       "max                   3.945884e+01                 3.945884e+01   \n",
       "\n",
       "       SEASON_OPPONENT:atl:2001-02  SEASON_OPPONENT:atl:2002-03  \\\n",
       "count                 1.558000e+03                 1.558000e+03   \n",
       "mean                  9.121216e-18                 9.121216e-18   \n",
       "std                   1.000321e+00                 1.000321e+00   \n",
       "min                  -3.585174e-02                -3.585174e-02   \n",
       "25%                  -3.585174e-02                -3.585174e-02   \n",
       "50%                  -3.585174e-02                -3.585174e-02   \n",
       "75%                  -3.585174e-02                -3.585174e-02   \n",
       "max                   2.789265e+01                 2.789265e+01   \n",
       "\n",
       "       SEASON_OPPONENT:atl:2003-04  SEASON_OPPONENT:atl:2004-05  \\\n",
       "count                 1.558000e+03                 1.558000e+03   \n",
       "mean                  1.368182e-17                 1.368182e-17   \n",
       "std                   1.000321e+00                 1.000321e+00   \n",
       "min                  -2.534286e-02                -2.534286e-02   \n",
       "25%                  -2.534286e-02                -2.534286e-02   \n",
       "50%                  -2.534286e-02                -2.534286e-02   \n",
       "75%                  -2.534286e-02                -2.534286e-02   \n",
       "max                   3.945884e+01                 3.945884e+01   \n",
       "\n",
       "       SEASON_OPPONENT:atl:2005-06         ...          \\\n",
       "count                 1.558000e+03         ...           \n",
       "mean                  1.482198e-17         ...           \n",
       "std                   1.000321e+00         ...           \n",
       "min                  -3.585174e-02         ...           \n",
       "25%                  -3.585174e-02         ...           \n",
       "50%                  -3.585174e-02         ...           \n",
       "75%                  -3.585174e-02         ...           \n",
       "max                   2.789265e+01         ...           \n",
       "\n",
       "       ACTION_TYPE:tip_layup_shot  ACTION_TYPE:tip_shot  \\\n",
       "count                1.558000e+03          1.558000e+03   \n",
       "mean                -4.560608e-18         -4.560608e-17   \n",
       "std                  1.000321e+00          1.000321e+00   \n",
       "min                 -3.585174e-02         -2.818064e-01   \n",
       "25%                 -3.585174e-02         -2.818064e-01   \n",
       "50%                 -3.585174e-02         -2.818064e-01   \n",
       "75%                 -3.585174e-02         -2.818064e-01   \n",
       "max                  2.789265e+01          1.106839e+01   \n",
       "\n",
       "       ACTION_TYPE:turnaround_bank_shot  \\\n",
       "count                      1.558000e+03   \n",
       "mean                      -1.824243e-17   \n",
       "std                        1.000321e+00   \n",
       "min                       -1.839222e-01   \n",
       "25%                       -1.839222e-01   \n",
       "50%                       -1.839222e-01   \n",
       "75%                       -1.839222e-01   \n",
       "max                        1.179686e+01   \n",
       "\n",
       "       ACTION_TYPE:turnaround_fadeaway_bank_jump_shot  \\\n",
       "count                                    1.558000e+03   \n",
       "mean                                     9.121216e-18   \n",
       "std                                      1.000321e+00   \n",
       "min                                     -2.534286e-02   \n",
       "25%                                     -2.534286e-02   \n",
       "50%                                     -2.534286e-02   \n",
       "75%                                     -2.534286e-02   \n",
       "max                                      3.945884e+01   \n",
       "\n",
       "       ACTION_TYPE:turnaround_fadeaway_shot  \\\n",
       "count                          1.558000e+03   \n",
       "mean                           1.824243e-16   \n",
       "std                            1.000321e+00   \n",
       "min                           -3.425907e-01   \n",
       "25%                           -3.425907e-01   \n",
       "50%                           -3.425907e-01   \n",
       "75%                           -3.425907e-01   \n",
       "max                            1.257104e+01   \n",
       "\n",
       "       ACTION_TYPE:turnaround_finger_roll_shot  \\\n",
       "count                             1.558000e+03   \n",
       "mean                             -2.280304e-18   \n",
       "std                               1.000321e+00   \n",
       "min                              -3.574600e-02   \n",
       "25%                              -3.574600e-02   \n",
       "50%                              -3.574600e-02   \n",
       "75%                              -3.574600e-02   \n",
       "max                               2.995240e+01   \n",
       "\n",
       "       ACTION_TYPE:turnaround_hook_shot  ACTION_TYPE:turnaround_jump_shot  \\\n",
       "count                      1.558000e+03                      1.558000e+03   \n",
       "mean                      -9.121216e-18                      7.296973e-17   \n",
       "std                        1.000321e+00                      1.000321e+00   \n",
       "min                       -8.842809e-02                     -6.432184e-01   \n",
       "25%                       -8.842809e-02                     -6.432184e-01   \n",
       "50%                       -8.842809e-02                     -6.432184e-01   \n",
       "75%                       -8.842809e-02                      4.224971e-01   \n",
       "max                        2.258712e+01                      6.503345e+00   \n",
       "\n",
       "       SEASON_GAME_NUMBER  CAREER_GAME_NUMBER  \n",
       "count        1.558000e+03        1.558000e+03  \n",
       "mean         9.121216e-17       -1.459395e-16  \n",
       "std          1.000321e+00        1.000321e+00  \n",
       "min         -1.610867e+00       -1.733044e+00  \n",
       "25%         -8.428132e-01       -8.653954e-01  \n",
       "50%         -3.635684e-02        2.996766e-05  \n",
       "75%          7.700996e-01        8.654553e-01  \n",
       "max          2.383012e+00        1.730881e+00  \n",
       "\n",
       "[8 rows x 644 columns]"
      ]
     },
     "execution_count": 26,
     "metadata": {},
     "output_type": "execute_result"
    }
   ],
   "source": [
    "Xs = scaler.fit_transform(X)\n",
    "Xs_df = pd.DataFrame(Xs, columns=X.columns)\n",
    "Xs_df.describe()"
   ]
  },
  {
   "cell_type": "markdown",
   "metadata": {},
   "source": [
    "---\n",
    "\n",
    "### 4. Build a linear regression predicting `SHOTS_MADE` from the rest of the columns.\n",
    "\n",
    "Cross-validate the $R^2$ of an ordinary linear regression model with 10 cross-validation folds.\n",
    "\n",
    "How does it perform?"
   ]
  },
  {
   "cell_type": "code",
   "execution_count": 35,
   "metadata": {},
   "outputs": [
    {
     "name": "stdout",
     "output_type": "stream",
     "text": [
      "[ -1.43172380e+29  -2.53227878e+28  -3.33960462e+28  -2.62514467e+27\n",
      "  -7.22387152e+27  -4.69173665e+27  -3.73187309e+27  -2.33035638e+27\n",
      "  -5.25889200e+27  -5.29863145e+28]\n",
      "-2.80739402702e+28\n"
     ]
    }
   ],
   "source": [
    "lr = LinearRegression()\n",
    "kf = KFold(n_splits=10)\n",
    "scores = cross_val_score(lr, Xs, Y.values.ravel(), cv=10)\n",
    "print(scores)\n",
    "print(np.mean(scores))"
   ]
  },
  {
   "cell_type": "markdown",
   "metadata": {},
   "source": [
    "---\n",
    "\n",
    "### 5. Find an optimal value for Ridge regression alpha using `RidgeCV`.\n",
    "\n",
    "[Go to the documentation and read how RidgeCV works.](http://scikit-learn.org/stable/modules/generated/sklearn.linear_model.RidgeCV.html)\n",
    "\n",
    "> *Hint: once the RidgeCV is fit, the attribute `.alpha_` contains the best alpha parameter it found through cross-validation.*\n",
    "\n",
    "Recall that Ridge performs best searching alphas through logarithmic space (`np.logspace`). This may take awhile to fit!\n"
   ]
  },
  {
   "cell_type": "code",
   "execution_count": 37,
   "metadata": {},
   "outputs": [
    {
     "data": {
      "text/plain": [
       "RidgeCV(alphas=array([  1.00000e+00,   1.05956e+00, ...,   9.43788e+04,   1.00000e+05]),\n",
       "    cv=10, fit_intercept=True, gcv_mode=None, normalize=False,\n",
       "    scoring=None, store_cv_values=False)"
      ]
     },
     "execution_count": 37,
     "metadata": {},
     "output_type": "execute_result"
    }
   ],
   "source": [
    "# A:\n",
    "ridge_alphas = np.logspace(0, 5, 200)\n",
    "\n",
    "optimal_ridge = RidgeCV(alphas=ridge_alphas, cv=10)\n",
    "optimal_ridge.fit(Xs, Y.values.ravel())"
   ]
  },
  {
   "cell_type": "code",
   "execution_count": 39,
   "metadata": {},
   "outputs": [
    {
     "name": "stdout",
     "output_type": "stream",
     "text": [
      "775.259748863\n"
     ]
    }
   ],
   "source": [
    "print optimal_ridge.alpha_"
   ]
  },
  {
   "cell_type": "markdown",
   "metadata": {},
   "source": [
    "---\n",
    "\n",
    "### 6. Cross-validate the Ridge regression $R^2$ with the optimal alpha.\n",
    "\n",
    "Is it better than the Linear regression? If so, why might this be?"
   ]
  },
  {
   "cell_type": "code",
   "execution_count": 45,
   "metadata": {},
   "outputs": [],
   "source": [
    "# A:\n",
    "ridge = Ridge(alpha=optimal_ridge.alpha_)\n",
    "ridge_scores = cross_val_score(ridge, Xs, Y.values.ravel(), cv=10)"
   ]
  },
  {
   "cell_type": "code",
   "execution_count": 46,
   "metadata": {},
   "outputs": [
    {
     "name": "stdout",
     "output_type": "stream",
     "text": [
      "[ 0.5822626   0.52880462  0.4869004   0.59583817  0.52396335  0.52942952\n",
      "  0.52842192  0.41153448  0.39857643  0.44489752]\n",
      "0.503062899682\n"
     ]
    }
   ],
   "source": [
    "print ridge_scores\n",
    "print np.mean(ridge_scores)"
   ]
  },
  {
   "cell_type": "code",
   "execution_count": null,
   "metadata": {
    "collapsed": true
   },
   "outputs": [],
   "source": [
    "# Much better score than plain linear regression\n",
    "# Ridge manages the betas of non-independent variables, reducing their effects on the regression model,\n",
    "# in turn preventing overfitting and allowing model to predict better for out-of-sample data."
   ]
  },
  {
   "cell_type": "markdown",
   "metadata": {},
   "source": [
    "---\n",
    "\n",
    "### 7. Find an optimal value for Lasso regression alpha using `LassoCV`.\n",
    "\n",
    "[Go to the documentation and read how LassoCV works.](http://scikit-learn.org/stable/modules/generated/sklearn.linear_model.LassoCV.html) It is very similar to `RidgeCV`.\n",
    "\n",
    "> *Hint: again, once the `LassoCV` is fit, the attribute `.alpha_` contains the best alpha parameter it found through cross-validation.*\n",
    "\n",
    "Recall that Lasso, unlike Ridge, performs best searching for alpha through linear space (`np.linspace`). However, you can actually let the LassoCV decide itself what alphas to use by instead setting the keyword argument `n_alphas=` to however many alphas you want it to search over. It is recommended to let sklearn choose the range of alphas.\n",
    "\n",
    "_**Tip:** If you find your CV taking a long time and you're not sure if its working set `verbose =1`._"
   ]
  },
  {
   "cell_type": "code",
   "execution_count": 47,
   "metadata": {},
   "outputs": [
    {
     "name": "stderr",
     "output_type": "stream",
     "text": [
      "........................................................................................................................................................................................................................................................................................................................................................................................................................................................................................................................................................................................................................................................................................................................................................................................................................................................................................................................................................................................................................................................................................................................................................................................................................................................................................................................................................................................................................................................................................................................................................................................................................................................................................................................................................................................................................................................................................................................................................................................................................................................................................................................................................................................................................................................................................................................................................................................................................................................................................................................................................................................................................................................................................................................................................................................................................................................................................................................................................................................................................................................................................................................................................................................................................................................................................................................................................................................................................................................................................................................................................................................................................................................................................................................................................................................................................................................................................................................................................................................................................................................................................................................................................................................................................................................................................................................................................................................................................................................................................................................................................................................................................................................................................................................................................................................................................................................................................................................................................................................................................................................................................................................................................................................................[Parallel(n_jobs=1)]: Done  10 out of  10 | elapsed:   23.4s finished\n"
     ]
    },
    {
     "data": {
      "text/plain": [
       "LassoCV(alphas=None, copy_X=True, cv=10, eps=0.001, fit_intercept=True,\n",
       "    max_iter=1000, n_alphas=500, n_jobs=1, normalize=False, positive=False,\n",
       "    precompute='auto', random_state=None, selection='cyclic', tol=0.0001,\n",
       "    verbose=1)"
      ]
     },
     "execution_count": 47,
     "metadata": {},
     "output_type": "execute_result"
    }
   ],
   "source": [
    "# A:\n",
    "optimal_lasso = LassoCV(n_alphas=500, cv=10, verbose=1)\n",
    "optimal_lasso.fit(Xs, Y.values.ravel())"
   ]
  },
  {
   "cell_type": "code",
   "execution_count": 48,
   "metadata": {},
   "outputs": [
    {
     "name": "stdout",
     "output_type": "stream",
     "text": [
      "0.0679053997933\n"
     ]
    }
   ],
   "source": [
    "print optimal_lasso.alpha_"
   ]
  },
  {
   "cell_type": "markdown",
   "metadata": {},
   "source": [
    "---\n",
    "\n",
    "### 8. Cross-validate the Lasso $R^2$ with the optimal alpha.\n",
    "\n",
    "Is it better than the Linear regression? Is it better than Ridge? What do the differences in results imply about the issues with the dataset?"
   ]
  },
  {
   "cell_type": "code",
   "execution_count": 51,
   "metadata": {
    "collapsed": true
   },
   "outputs": [],
   "source": [
    "# A:\n",
    "lasso = Lasso(alpha=optimal_lasso.alpha_)\n",
    "lasso_scores = cross_val_score(lasso, Xs, Y.values.ravel(), cv=10)"
   ]
  },
  {
   "cell_type": "code",
   "execution_count": 52,
   "metadata": {},
   "outputs": [
    {
     "name": "stdout",
     "output_type": "stream",
     "text": [
      "[ 0.61603625  0.52641159  0.53888743  0.61322432  0.54627539  0.5554072\n",
      "  0.52716822  0.44849563  0.4646267   0.51838952]\n",
      "0.535492226208\n"
     ]
    }
   ],
   "source": [
    "print lasso_scores\n",
    "print np.mean(lasso_scores)"
   ]
  },
  {
   "cell_type": "code",
   "execution_count": null,
   "metadata": {
    "collapsed": true
   },
   "outputs": [],
   "source": [
    "# Lasso performs slightly better than ridge\n",
    "# Instead of managing redundant or correlated variables, Lasso removes them completely by reducing their betas to 0,\n",
    "# removing the effect of these variables on the model completely\n",
    "# This leaves only the necessary features behind, which might explain the slightly better performance"
   ]
  },
  {
   "cell_type": "markdown",
   "metadata": {},
   "source": [
    "---\n",
    "\n",
    "### 9. Look at the coefficients for variables in the Lasso.\n",
    "\n",
    "1. Show the coefficient for variables, ordered from largest to smallest coefficient by absolute value.\n",
    "2. What percent of the variables in the original dataset are \"zeroed-out\" by the lasso?\n",
    "3. What are the most important predictors for how many shots Kobe made in a game?\n",
    "\n",
    "> **Note:** if you only fit the Lasso within `cross_val_score`, you will have to refit it outside of that\n",
    "function to pull out the coefficients."
   ]
  },
  {
   "cell_type": "code",
   "execution_count": 53,
   "metadata": {},
   "outputs": [
    {
     "data": {
      "text/plain": [
       "Lasso(alpha=0.067905399793263543, copy_X=True, fit_intercept=True,\n",
       "   max_iter=1000, normalize=False, positive=False, precompute=False,\n",
       "   random_state=None, selection='cyclic', tol=0.0001, warm_start=False)"
      ]
     },
     "execution_count": 53,
     "metadata": {},
     "output_type": "execute_result"
    }
   ],
   "source": [
    "# A:\n",
    "lasso.fit(Xs, Y.values.ravel())"
   ]
  },
  {
   "cell_type": "code",
   "execution_count": 55,
   "metadata": {},
   "outputs": [
    {
     "data": {
      "text/plain": [
       "644"
      ]
     },
     "execution_count": 55,
     "metadata": {},
     "output_type": "execute_result"
    }
   ],
   "source": [
    "len(lasso.coef_)"
   ]
  },
  {
   "cell_type": "code",
   "execution_count": 56,
   "metadata": {},
   "outputs": [
    {
     "data": {
      "text/html": [
       "<div>\n",
       "<style scoped>\n",
       "    .dataframe tbody tr th:only-of-type {\n",
       "        vertical-align: middle;\n",
       "    }\n",
       "\n",
       "    .dataframe tbody tr th {\n",
       "        vertical-align: top;\n",
       "    }\n",
       "\n",
       "    .dataframe thead th {\n",
       "        text-align: right;\n",
       "    }\n",
       "</style>\n",
       "<table border=\"1\" class=\"dataframe\">\n",
       "  <thead>\n",
       "    <tr style=\"text-align: right;\">\n",
       "      <th></th>\n",
       "      <th>abs_coef</th>\n",
       "      <th>coef</th>\n",
       "      <th>variable</th>\n",
       "    </tr>\n",
       "  </thead>\n",
       "  <tbody>\n",
       "    <tr>\n",
       "      <th>579</th>\n",
       "      <td>1.233880</td>\n",
       "      <td>1.233880</td>\n",
       "      <td>COMBINED_SHOT_TYPE:jump_shot</td>\n",
       "    </tr>\n",
       "    <tr>\n",
       "      <th>574</th>\n",
       "      <td>0.866201</td>\n",
       "      <td>0.866201</td>\n",
       "      <td>SHOT_TYPE:2pt_field_goal</td>\n",
       "    </tr>\n",
       "    <tr>\n",
       "      <th>566</th>\n",
       "      <td>0.453050</td>\n",
       "      <td>0.453050</td>\n",
       "      <td>SHOT_ZONE_BASIC:restricted_area</td>\n",
       "    </tr>\n",
       "    <tr>\n",
       "      <th>577</th>\n",
       "      <td>0.274926</td>\n",
       "      <td>0.274926</td>\n",
       "      <td>COMBINED_SHOT_TYPE:dunk</td>\n",
       "    </tr>\n",
       "    <tr>\n",
       "      <th>611</th>\n",
       "      <td>0.272130</td>\n",
       "      <td>-0.272130</td>\n",
       "      <td>ACTION_TYPE:jump_shot</td>\n",
       "    </tr>\n",
       "    <tr>\n",
       "      <th>575</th>\n",
       "      <td>0.140492</td>\n",
       "      <td>0.140492</td>\n",
       "      <td>SHOT_TYPE:3pt_field_goal</td>\n",
       "    </tr>\n",
       "    <tr>\n",
       "      <th>582</th>\n",
       "      <td>0.132360</td>\n",
       "      <td>0.132360</td>\n",
       "      <td>SECONDS_REMAINING</td>\n",
       "    </tr>\n",
       "    <tr>\n",
       "      <th>612</th>\n",
       "      <td>0.129658</td>\n",
       "      <td>-0.129658</td>\n",
       "      <td>ACTION_TYPE:layup_shot</td>\n",
       "    </tr>\n",
       "    <tr>\n",
       "      <th>423</th>\n",
       "      <td>0.127065</td>\n",
       "      <td>0.127065</td>\n",
       "      <td>SEASON_OPPONENT:sac:1999-00</td>\n",
       "    </tr>\n",
       "    <tr>\n",
       "      <th>561</th>\n",
       "      <td>0.118469</td>\n",
       "      <td>0.118469</td>\n",
       "      <td>SHOT_ZONE_BASIC:above_the_break_3</td>\n",
       "    </tr>\n",
       "    <tr>\n",
       "      <th>233</th>\n",
       "      <td>0.116944</td>\n",
       "      <td>0.116944</td>\n",
       "      <td>SEASON_OPPONENT:mem:2009-10</td>\n",
       "    </tr>\n",
       "    <tr>\n",
       "      <th>549</th>\n",
       "      <td>0.115167</td>\n",
       "      <td>-0.115167</td>\n",
       "      <td>SEASON:2015-16</td>\n",
       "    </tr>\n",
       "    <tr>\n",
       "      <th>333</th>\n",
       "      <td>0.111245</td>\n",
       "      <td>0.111245</td>\n",
       "      <td>SEASON_OPPONENT:nyk:2008-09</td>\n",
       "    </tr>\n",
       "    <tr>\n",
       "      <th>569</th>\n",
       "      <td>0.104304</td>\n",
       "      <td>0.104304</td>\n",
       "      <td>SHOT_ZONE_AREA:center(c)</td>\n",
       "    </tr>\n",
       "    <tr>\n",
       "      <th>395</th>\n",
       "      <td>0.099200</td>\n",
       "      <td>0.099200</td>\n",
       "      <td>SEASON_OPPONENT:phx:2009-10</td>\n",
       "    </tr>\n",
       "    <tr>\n",
       "      <th>594</th>\n",
       "      <td>0.096740</td>\n",
       "      <td>-0.096740</td>\n",
       "      <td>ACTION_TYPE:driving_floating_jump_shot</td>\n",
       "    </tr>\n",
       "    <tr>\n",
       "      <th>466</th>\n",
       "      <td>0.094990</td>\n",
       "      <td>0.094990</td>\n",
       "      <td>SEASON_OPPONENT:sea:2004-05</td>\n",
       "    </tr>\n",
       "    <tr>\n",
       "      <th>38</th>\n",
       "      <td>0.089163</td>\n",
       "      <td>-0.089163</td>\n",
       "      <td>SEASON_OPPONENT:bos:2015-16</td>\n",
       "    </tr>\n",
       "    <tr>\n",
       "      <th>556</th>\n",
       "      <td>0.079334</td>\n",
       "      <td>0.079334</td>\n",
       "      <td>SHOT_ZONE_RANGE:16-24_ft.</td>\n",
       "    </tr>\n",
       "    <tr>\n",
       "      <th>456</th>\n",
       "      <td>0.075074</td>\n",
       "      <td>-0.075074</td>\n",
       "      <td>SEASON_OPPONENT:sas:2014-15</td>\n",
       "    </tr>\n",
       "  </tbody>\n",
       "</table>\n",
       "</div>"
      ],
      "text/plain": [
       "     abs_coef      coef                                variable\n",
       "579  1.233880  1.233880            COMBINED_SHOT_TYPE:jump_shot\n",
       "574  0.866201  0.866201                SHOT_TYPE:2pt_field_goal\n",
       "566  0.453050  0.453050         SHOT_ZONE_BASIC:restricted_area\n",
       "577  0.274926  0.274926                 COMBINED_SHOT_TYPE:dunk\n",
       "611  0.272130 -0.272130                   ACTION_TYPE:jump_shot\n",
       "575  0.140492  0.140492                SHOT_TYPE:3pt_field_goal\n",
       "582  0.132360  0.132360                       SECONDS_REMAINING\n",
       "612  0.129658 -0.129658                  ACTION_TYPE:layup_shot\n",
       "423  0.127065  0.127065             SEASON_OPPONENT:sac:1999-00\n",
       "561  0.118469  0.118469       SHOT_ZONE_BASIC:above_the_break_3\n",
       "233  0.116944  0.116944             SEASON_OPPONENT:mem:2009-10\n",
       "549  0.115167 -0.115167                          SEASON:2015-16\n",
       "333  0.111245  0.111245             SEASON_OPPONENT:nyk:2008-09\n",
       "569  0.104304  0.104304                SHOT_ZONE_AREA:center(c)\n",
       "395  0.099200  0.099200             SEASON_OPPONENT:phx:2009-10\n",
       "594  0.096740 -0.096740  ACTION_TYPE:driving_floating_jump_shot\n",
       "466  0.094990  0.094990             SEASON_OPPONENT:sea:2004-05\n",
       "38   0.089163 -0.089163             SEASON_OPPONENT:bos:2015-16\n",
       "556  0.079334  0.079334               SHOT_ZONE_RANGE:16-24_ft.\n",
       "456  0.075074 -0.075074             SEASON_OPPONENT:sas:2014-15"
      ]
     },
     "execution_count": 56,
     "metadata": {},
     "output_type": "execute_result"
    }
   ],
   "source": [
    "lasso_coefs = pd.DataFrame({'variable':X.columns,\n",
    "                            'coef':lasso.coef_,\n",
    "                            'abs_coef':np.abs(lasso.coef_)})\n",
    "\n",
    "lasso_coefs.sort_values('abs_coef', inplace=True, ascending=False)\n",
    "\n",
    "lasso_coefs.head(20)"
   ]
  },
  {
   "cell_type": "code",
   "execution_count": 63,
   "metadata": {},
   "outputs": [
    {
     "name": "stdout",
     "output_type": "stream",
     "text": [
      "Percent variables zeroed out: 0.326059050064\n"
     ]
    }
   ],
   "source": [
    "print 'Percent variables zeroed out:', np.sum((lasso.coef_ == 0))/float(X.shape[0])"
   ]
  },
  {
   "cell_type": "code",
   "execution_count": null,
   "metadata": {
    "collapsed": true
   },
   "outputs": [],
   "source": [
    "# 32% "
   ]
  },
  {
   "cell_type": "markdown",
   "metadata": {},
   "source": [
    "---\n",
    "\n",
    "### 10. Find an optimal value for Elastic Net regression alpha using `ElasticNetCV`.\n",
    "\n",
    "[Go to the documentation and read how LassoCV works.](http://scikit-learn.org/stable/modules/generated/sklearn.linear_model.ElasticNetCV.html).\n",
    "\n",
    "Note here that you will be optimizing both the alpha parameter and the l1_ratio:\n",
    "- `alpha`: strength of regularization\n",
    "- `l1_ratio`: amount of ridge vs. lasso (0 = all ridge, 1 = all lasso)\n",
    "    \n",
    "Do not include 0 in the search for `l1_ratio`: it will not allow it and break!\n",
    "\n",
    "You can use `n_alphas` for the alpha parameters instead of setting your own values: highly recommended!\n",
    "\n",
    "Also - be careful setting too many l1_ratios over cross-validation folds in your search. It can take a very long time if you choose too many combinations and for the most part there are diminishing returns in this data."
   ]
  },
  {
   "cell_type": "code",
   "execution_count": 65,
   "metadata": {},
   "outputs": [
    {
     "name": "stderr",
     "output_type": "stream",
     "text": [
      "....................................................................................................................................................................................................................................................................................................................................................................................................................................................................................................................................................................................................................................................................................................................................................................................................................................................................................................................................................................................................................................................................................................................................................................................................................................................................................................................................................................................................................................................................................................................................................................................................................................................................................................................................................................................................................................................................................................................................................................................................................................................................................................................................................................................................................................................................................................................................................................................................................................................................................................................................................................................................................................................................................................................................................................................................................................................................................................................................................................................................................................................................................................................................................................................................................................................................................................................................................................................................................................................................................................................................................................................................................................................................................................................................................................................................................................................................................................................................................................................................................................................................................................................................................................................................................................................................................................................................................................................................................................................................................................................................................................................................................................................................................................................................................................................................................................................................................................................................................................................................................................................................................................................................................................................................................................................................................................................................................................................................................................................................................................................................................................................................................................................................................................................................................................................................................................................................................................................................................................................................................................................................................................................................................................................................................................................................................................................................................................................................................................................................................................................................................................................................................................................................................................................................................................................................................................................................................................................................................................................................................................................................................................................................................................................................................................................................................................................................................................................................................................................................................................................................................................................................................................................................................................................................................................................................................................................................................................................................................................................................................................................................................................................................................................................................................................................................................................................................................................................................................................................................................................................................."
     ]
    },
    {
     "name": "stderr",
     "output_type": "stream",
     "text": [
      "...................................................................................................................................................................................................................................................................................................................................................................................................................................................................................................................................................................................................................................................................................................................................................................................................................................................................................................................................................................................................................................................................................................................................................................................................................................................................................................................................................................................................................................................................................................................................................................................................................................................................................................................................................................................................................................................................................................................................................................................................................................................................................................................................................................................................................................................................................................................................................................................................................................................................................................................................................................................................................................................................................................................................................................................................................................................................................................................................................................................................................................................................................................................................................................................................................................................................................................................................................................................................................................................................................................................................................................................................................................................................................................................................................................................................................................................................................................................................................................................................................................................................................................................................................................................................................................................................................................................................................................................................................................................................................................................................................................................................................................................................................................................................................................................................................................................................................................................................................................................................................................................................................................................................................................................................................................................................................................................................................................................................................................................................................................................................................................................................................................................................................................................................................................................................................................................................................................................................................................................................................................................................................................................................................................................................................................................................................................................................................................................................................................................................................................................................................................................................................................................................................................................................................................................................................................................................................................................................................................................................................................................................................................................................................................................................................................................................................................................................................................................................................................................................................................................................................................................................................................................................................................................................................................................................................................................................................................................................................................................................................................................................................................................................................................................................................................................................................................................................................................................................................................................................................................................................."
     ]
    },
    {
     "name": "stderr",
     "output_type": "stream",
     "text": [
      "......................................................................................................................................................................................................................................................................................................................................................................................................................................................................................................................................................................................................................................................................................................................................................................................................................................................................................................................................................................................................................................................................................................................................................................................................................................................................................................................................................................................................................................................................................................................................................................................................................................................................................................................................................................................................................................................................................................................................................................................................................................................................................................................................................................................................................................................................................................................................................................................................................................................................................................................................................................................................................................................................................................................................................................................................................................................................................................................................................................................................................................................................................................................................................................................................................................................................................................................................................................................................................................................................................................................................................................................................................................................................................................................................................................................................................................................................................................................................................................................................................................................................................................................................................................................................................................................................................................................................................................................................................................................................................................................................................................................................................................................................................................................................................................................................................................................................................................................................................................................................................................................................................................................................................................................................................................................................................................................................................................................................................................................................................................................................................................................................................................................................................................................................................................................................................................................................................................................................................................................................................................................................................................................................................................................................................................................................................................................................................................................................................................................................................................................................................................................................................................................................................................................................................................................................................................................................................................................................................................................................................................................................................................................................................................................................................................................................................................................................................................................................................................................................................................................................................................................................................................................................................................................................................................................................................................................................................................................................................................................................................................................................................................................................................................................................................................................................................................................................................................................................................................................................................................................................"
     ]
    },
    {
     "name": "stderr",
     "output_type": "stream",
     "text": [
      ".........................................................................................................................................................................................................................................................................................................................................................................................................................[Parallel(n_jobs=1)]: Done 250 out of 250 | elapsed:  3.5min finished\n"
     ]
    },
    {
     "data": {
      "text/plain": [
       "ElasticNetCV(alphas=None, copy_X=True, cv=10, eps=0.001, fit_intercept=True,\n",
       "       l1_ratio=array([ 0.01   ,  0.05125,  0.0925 ,  0.13375,  0.175  ,  0.21625,\n",
       "        0.2575 ,  0.29875,  0.34   ,  0.38125,  0.4225 ,  0.46375,\n",
       "        0.505  ,  0.54625,  0.5875 ,  0.62875,  0.67   ,  0.71125,\n",
       "        0.7525 ,  0.79375,  0.835  ,  0.87625,  0.9175 ,  0.95875,  1.     ]),\n",
       "       max_iter=1000, n_alphas=100, n_jobs=1, normalize=False,\n",
       "       positive=False, precompute='auto', random_state=None,\n",
       "       selection='cyclic', tol=0.0001, verbose=1)"
      ]
     },
     "execution_count": 65,
     "metadata": {},
     "output_type": "execute_result"
    }
   ],
   "source": [
    "# A:\n",
    "l1_ratios = np.linspace(0.01, 1.0, 25)\n",
    "optimal_enet = ElasticNetCV(l1_ratio=l1_ratios, n_alphas=100, cv=10,\n",
    "                            verbose=1)\n",
    "optimal_enet.fit(Xs, Y.values.ravel())"
   ]
  },
  {
   "cell_type": "code",
   "execution_count": 66,
   "metadata": {},
   "outputs": [
    {
     "name": "stdout",
     "output_type": "stream",
     "text": [
      "0.0727136099882\n",
      "0.95875\n"
     ]
    }
   ],
   "source": [
    "print optimal_enet.alpha_\n",
    "print optimal_enet.l1_ratio_"
   ]
  },
  {
   "cell_type": "markdown",
   "metadata": {},
   "source": [
    "---\n",
    "\n",
    "### 11. Cross-validate the ElasticNet $R^2$ with the optimal alpha and l1_ratio.\n",
    "\n",
    "How does it compare to the Ridge and Lasso regularized regressions?"
   ]
  },
  {
   "cell_type": "code",
   "execution_count": 67,
   "metadata": {
    "collapsed": true
   },
   "outputs": [],
   "source": [
    "# A:\n",
    "elasticnet = ElasticNet(alpha=optimal_enet.alpha_, l1_ratio=optimal_enet.l1_ratio_)\n",
    "elasticnet_scores = cross_val_score(elasticnet, Xs, Y.values.ravel(), cv=10)"
   ]
  },
  {
   "cell_type": "code",
   "execution_count": 68,
   "metadata": {},
   "outputs": [
    {
     "name": "stdout",
     "output_type": "stream",
     "text": [
      "[ 0.61742795  0.52697978  0.53864379  0.61332045  0.54728018  0.55547707\n",
      "  0.52548033  0.4485161   0.46407359  0.52059974]\n",
      "0.535779898342\n"
     ]
    }
   ],
   "source": [
    "print(elasticnet_scores)\n",
    "print(np.mean(elasticnet_scores))"
   ]
  },
  {
   "cell_type": "code",
   "execution_count": null,
   "metadata": {
    "collapsed": true
   },
   "outputs": [],
   "source": [
    "# performs almost the same as Lasso\n",
    "# Expected since l1 ratio approaching full lasso, 0.95875"
   ]
  },
  {
   "cell_type": "markdown",
   "metadata": {},
   "source": [
    "---\n",
    "\n",
    "### 12. [Bonus] Compare the residuals for the Ridge and Lasso visually.\n"
   ]
  },
  {
   "cell_type": "code",
   "execution_count": 69,
   "metadata": {},
   "outputs": [
    {
     "data": {
      "text/plain": [
       "Lasso(alpha=0.067905399793263543, copy_X=True, fit_intercept=True,\n",
       "   max_iter=1000, normalize=False, positive=False, precompute=False,\n",
       "   random_state=None, selection='cyclic', tol=0.0001, warm_start=False)"
      ]
     },
     "execution_count": 69,
     "metadata": {},
     "output_type": "execute_result"
    }
   ],
   "source": [
    "# A: Maybe a jointplot?\n",
    "ridge.fit(Xs, Y.values.ravel())\n",
    "lasso.fit(Xs, Y.values.ravel())"
   ]
  },
  {
   "cell_type": "code",
   "execution_count": 70,
   "metadata": {
    "collapsed": true
   },
   "outputs": [],
   "source": [
    "ridge_pred = ridge.predict(Xs)\n",
    "lasso_pred = lasso.predict(Xs)"
   ]
  },
  {
   "cell_type": "code",
   "execution_count": 73,
   "metadata": {
    "collapsed": true
   },
   "outputs": [],
   "source": [
    "ridge_resid = Y.values.ravel() - ridge_pred\n",
    "lasso_resid = Y.values.ravel() - lasso_pred"
   ]
  },
  {
   "cell_type": "code",
   "execution_count": 74,
   "metadata": {},
   "outputs": [
    {
     "data": {
      "text/plain": [
       "<seaborn.axisgrid.JointGrid at 0x104624ed0>"
      ]
     },
     "execution_count": 74,
     "metadata": {},
     "output_type": "execute_result"
    },
    {
     "data": {
      "image/png": "[encoded data removed]",
      "text/plain": [
       "<matplotlib.figure.Figure at 0x108e54750>"
      ]
     },
     "metadata": {
      "image/png": {
       "height": 424,
       "width": 423
      }
     },
     "output_type": "display_data"
    }
   ],
   "source": [
    "sns.jointplot(ridge_resid, lasso_resid)"
   ]
  },
  {
   "cell_type": "code",
   "execution_count": null,
   "metadata": {
    "collapsed": true
   },
   "outputs": [],
   "source": []
  }
 ],
 "metadata": {
  "kernelspec": {
   "display_name": "Python 2",
   "language": "python",
   "name": "python2"
  },
  "language_info": {
   "codemirror_mode": {
    "name": "ipython",
    "version": 2
   },
   "file_extension": ".py",
   "mimetype": "text/x-python",
   "name": "python",
   "nbconvert_exporter": "python",
   "pygments_lexer": "ipython2",
   "version": "2.7.11"
  }
 },
 "nbformat": 4,
 "nbformat_minor": 1
}
