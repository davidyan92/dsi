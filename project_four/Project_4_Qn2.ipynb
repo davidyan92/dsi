{
 "cells": [
  {
   "cell_type": "code",
   "execution_count": 2,
   "metadata": {
    "collapsed": true
   },
   "outputs": [],
   "source": [
    "import requests\n",
    "import bs4\n",
    "from bs4 import BeautifulSoup\n",
    "import pandas as pd\n",
    "import time\n",
    "import regex as re\n",
    "import numpy as np\n",
    "import pandas as pd\n",
    "import matplotlib.pyplot as plt\n",
    "import seaborn as sns\n",
    "import pickle\n",
    "\n",
    "sns.set_style('whitegrid')\n",
    "\n",
    "%config InlineBackend.figure_format = 'retina'\n",
    "%matplotlib inline"
   ]
  },
  {
   "cell_type": "code",
   "execution_count": 3,
   "metadata": {},
   "outputs": [
    {
     "name": "stdout",
     "output_type": "stream",
     "text": [
      "<class 'pandas.core.frame.DataFrame'>\n",
      "RangeIndex: 3553 entries, 0 to 3552\n",
      "Data columns (total 5 columns):\n",
      "job_category        3553 non-null object\n",
      "job_title           3553 non-null object\n",
      "company_name        3553 non-null object\n",
      "summary             3553 non-null object\n",
      "salary_high_tier    3553 non-null int64\n",
      "dtypes: int64(1), object(4)\n",
      "memory usage: 138.9+ KB\n"
     ]
    }
   ],
   "source": [
    "df1 = pd.read_pickle('./sg_my_indeed_data_salaried_jobs')\n",
    "df1.reset_index(drop=True, inplace=True)\n",
    "df1.info()"
   ]
  },
  {
   "cell_type": "code",
   "execution_count": 81,
   "metadata": {},
   "outputs": [
    {
     "data": {
      "text/plain": [
       "(675, 5)"
      ]
     },
     "execution_count": 81,
     "metadata": {},
     "output_type": "execute_result"
    }
   ],
   "source": [
    "data_jobs = df1[df1.job_title.str.contains('data')]\n",
    "non_data_jobs = df1[~df1.job_title.str.contains('data')]\n",
    "data_jobs.shape"
   ]
  },
  {
   "cell_type": "code",
   "execution_count": 82,
   "metadata": {},
   "outputs": [
    {
     "data": {
      "text/plain": [
       "(857, 5)"
      ]
     },
     "execution_count": 82,
     "metadata": {},
     "output_type": "execute_result"
    }
   ],
   "source": [
    "ana_jobs = non_data_jobs[non_data_jobs.job_title.str.contains('analyst')]\n",
    "non_ana_jobs = non_data_jobs[~non_data_jobs.job_title.str.contains('analyst')]\n",
    "ana_jobs.shape"
   ]
  },
  {
   "cell_type": "code",
   "execution_count": 83,
   "metadata": {},
   "outputs": [
    {
     "data": {
      "text/plain": [
       "(709, 5)"
      ]
     },
     "execution_count": 83,
     "metadata": {},
     "output_type": "execute_result"
    }
   ],
   "source": [
    "eng_jobs = non_ana_jobs[(non_ana_jobs.job_title.str.contains('engineer')) | (non_ana_jobs.job_title.str.contains('database'))]\n",
    "non_eng_jobs = non_ana_jobs[(~non_ana_jobs.job_title.str.contains('engineer')) & (~non_ana_jobs.job_title.str.contains('database'))]\n",
    "eng_jobs.shape"
   ]
  },
  {
   "cell_type": "code",
   "execution_count": 84,
   "metadata": {},
   "outputs": [
    {
     "data": {
      "text/plain": [
       "(435, 5)"
      ]
     },
     "execution_count": 84,
     "metadata": {},
     "output_type": "execute_result"
    }
   ],
   "source": [
    "man_jobs = non_eng_jobs[non_eng_jobs.job_title.str.contains('manager')]\n",
    "non_man_jobs = non_eng_jobs[~non_eng_jobs.job_title.str.contains('manager')]\n",
    "man_jobs.shape"
   ]
  },
  {
   "cell_type": "code",
   "execution_count": 89,
   "metadata": {},
   "outputs": [
    {
     "name": "stderr",
     "output_type": "stream",
     "text": [
      "/Users/david.yan/anaconda/lib/python3.6/site-packages/pandas/core/generic.py:3110: SettingWithCopyWarning: \n",
      "A value is trying to be set on a copy of a slice from a DataFrame.\n",
      "Try using .loc[row_indexer,col_indexer] = value instead\n",
      "\n",
      "See the caveats in the documentation: http://pandas.pydata.org/pandas-docs/stable/indexing.html#indexing-view-versus-copy\n",
      "  self[name] = value\n"
     ]
    }
   ],
   "source": [
    "df = pd.DataFrame()\n",
    "data_jobs.job_title = data_jobs.job_title.map(lambda x: 'data_jobs')\n",
    "ana_jobs.job_title = ana_jobs.job_title.map(lambda x: 'analyst_jobs')\n",
    "eng_jobs.job_title = eng_jobs.job_title.map(lambda x: 'engineer_jobs')\n",
    "man_jobs.job_title = man_jobs.job_title.map(lambda x: 'manager_jobs')\n",
    "non_man_jobs.job_title = non_man_jobs.job_title.map(lambda x: 'other_jobs')"
   ]
  },
  {
   "cell_type": "code",
   "execution_count": 90,
   "metadata": {
    "scrolled": true
   },
   "outputs": [],
   "source": [
    "df['job_titles'] = pd.concat([data_jobs.job_title,ana_jobs.job_title,\n",
    "                        eng_jobs.job_title,man_jobs.job_title,\n",
    "                        non_man_jobs.job_title], ignore_index=True)"
   ]
  },
  {
   "cell_type": "code",
   "execution_count": 93,
   "metadata": {},
   "outputs": [],
   "source": [
    "final_df = pd.concat([df1[['company_name','summary','salary_high_tier']], df.job_titles], axis=1)"
   ]
  },
  {
   "cell_type": "code",
   "execution_count": 95,
   "metadata": {},
   "outputs": [],
   "source": [
    "# convert job_title into numbers\n",
    "final_df.job_titles = final_df.job_titles.map(lambda x: 1 if x == 'data_jobs' else\n",
    "                                             2 if x == 'analyst_jobs' else\n",
    "                                             3 if x == 'engineer_jobs' else\n",
    "                                             4 if x == 'manager_jobs' else 5)"
   ]
  },
  {
   "cell_type": "code",
   "execution_count": 100,
   "metadata": {},
   "outputs": [
    {
     "name": "stdout",
     "output_type": "stream",
     "text": [
      "<class 'pandas.core.frame.DataFrame'>\n",
      "RangeIndex: 3553 entries, 0 to 3552\n",
      "Data columns (total 4 columns):\n",
      "company_name        3553 non-null object\n",
      "summary             3553 non-null object\n",
      "salary_high_tier    3553 non-null int64\n",
      "job_titles          3553 non-null int64\n",
      "dtypes: int64(2), object(2)\n",
      "memory usage: 111.1+ KB\n"
     ]
    }
   ],
   "source": [
    "final_df.info()"
   ]
  },
  {
   "cell_type": "code",
   "execution_count": 96,
   "metadata": {
    "collapsed": true
   },
   "outputs": [],
   "source": [
    "from sklearn.feature_extraction.text import TfidfVectorizer\n",
    "from sklearn.model_selection import train_test_split, cross_val_predict, GridSearchCV\n",
    "from sklearn.linear_model import LogisticRegression, LogisticRegressionCV\n",
    "from sklearn import metrics\n",
    "from sklearn.metrics import classification_report\n",
    "from sklearn.preprocessing import StandardScaler"
   ]
  },
  {
   "cell_type": "code",
   "execution_count": 97,
   "metadata": {
    "collapsed": true
   },
   "outputs": [],
   "source": [
    "# Get TFIDF for company name\n",
    "job_company_tvec = TfidfVectorizer(ngram_range=(1,3), stop_words='english', min_df=2, max_df=0.5, max_features=25)\n",
    "job_company_tvec.fit(final_df.company_name)\n",
    "job_company_tvec_df = pd.DataFrame(job_company_tvec.transform(final_df.company_name).todense(),\n",
    "                       columns=['company_[' + f + ']' for f in job_company_tvec.get_feature_names()])"
   ]
  },
  {
   "cell_type": "code",
   "execution_count": 105,
   "metadata": {
    "collapsed": true
   },
   "outputs": [],
   "source": [
    "# Get TFIDF for job summary\n",
    "job_summary_tvec = TfidfVectorizer(ngram_range=(1,3), stop_words='english', min_df=2, max_df=0.5, max_features=25)\n",
    "job_summary_tvec.fit(final_df.summary)\n",
    "job_summary_tvec_df = pd.DataFrame(job_summary_tvec.transform(final_df.summary).todense(),\n",
    "                       columns=['summary_[' + f + ']' for f in job_summary_tvec.get_feature_names()])"
   ]
  },
  {
   "cell_type": "code",
   "execution_count": 106,
   "metadata": {
    "collapsed": true
   },
   "outputs": [],
   "source": [
    "X = pd.concat([final_df[['salary_high_tier']], job_company_tvec_df, job_summary_tvec_df], axis=1)\n",
    "y = final_df['job_titles'].values.ravel()"
   ]
  },
  {
   "cell_type": "code",
   "execution_count": 107,
   "metadata": {
    "collapsed": true
   },
   "outputs": [],
   "source": [
    "# Get training and testing set\n",
    "X_train, X_test, y_train, y_test = train_test_split(X, y, test_size=0.3, random_state=42)"
   ]
  },
  {
   "cell_type": "code",
   "execution_count": 108,
   "metadata": {
    "collapsed": true
   },
   "outputs": [],
   "source": [
    "# Standardize predictors\n",
    "X_train_ss = StandardScaler().fit_transform(X_train)\n",
    "X_test_ss = StandardScaler().fit_transform(X_test)"
   ]
  },
  {
   "cell_type": "code",
   "execution_count": 109,
   "metadata": {
    "collapsed": true
   },
   "outputs": [],
   "source": [
    "X_train_ss = pd.DataFrame(X_train_ss, columns=X_train.columns)\n",
    "X_test_ss = pd.DataFrame(X_test_ss, columns=X_train.columns)"
   ]
  },
  {
   "cell_type": "code",
   "execution_count": 110,
   "metadata": {},
   "outputs": [
    {
     "name": "stdout",
     "output_type": "stream",
     "text": [
      "GRID SEARCH:\n",
      "Best parameters set:\n",
      "\tC: 0.0095454845666183372\n",
      "\tpenalty: 'l2'\n",
      "\tsolver: 'liblinear'\n"
     ]
    }
   ],
   "source": [
    "# Gridsearch for Ridge and Lasso Logistic Regression, optimize C\n",
    "\n",
    "parameters = {\n",
    "    'penalty':['l1','l2'],\n",
    "    'solver':['liblinear'],\n",
    "    'C':np.logspace(-5,0,100)\n",
    "}\n",
    "\n",
    "print (\"GRID SEARCH:\")\n",
    "lr_grid_search = GridSearchCV(LogisticRegression(), parameters, cv=10, verbose=0)\n",
    "lr_grid_search.fit(X_train_ss, y_train)\n",
    "print (\"Best parameters set:\")\n",
    "lr_best_parameters = lr_grid_search.best_estimator_.get_params()\n",
    "for param_name in sorted(parameters.keys()):\n",
    "    print (\"\\t%s: %r\" % (param_name, lr_best_parameters[param_name]))"
   ]
  },
  {
   "cell_type": "code",
   "execution_count": 111,
   "metadata": {},
   "outputs": [
    {
     "name": "stdout",
     "output_type": "stream",
     "text": [
      "Logistic Regression with best parameter:\n",
      "               precision    recall  f1-score   support\n",
      "\n",
      "    data jobs       0.38      0.31      0.34       229\n",
      " analyst jobs       0.41      0.67      0.51       251\n",
      "engineer jobs       0.46      0.65      0.54       195\n",
      " manager jobs       0.40      0.06      0.11       126\n",
      "   other jobs       0.47      0.32      0.38       265\n",
      "\n",
      "  avg / total       0.43      0.43      0.40      1066\n",
      "\n"
     ]
    }
   ],
   "source": [
    "print (\"Logistic Regression with best parameter:\")\n",
    "clf = LogisticRegression(**lr_best_parameters)\n",
    "clf.fit(X_train_ss, y_train)\n",
    "lr_gs_pred = clf.predict(X_test_ss)\n",
    "print(metrics.classification_report(y_test, lr_gs_pred, labels=[1,2,3,4,5], target_names=['data jobs','analyst jobs','engineer jobs','manager jobs','other jobs']))"
   ]
  },
  {
   "cell_type": "code",
   "execution_count": 112,
   "metadata": {
    "collapsed": true
   },
   "outputs": [],
   "source": [
    "from sklearn.tree import DecisionTreeClassifier"
   ]
  },
  {
   "cell_type": "code",
   "execution_count": 113,
   "metadata": {
    "collapsed": true
   },
   "outputs": [],
   "source": [
    "# gridsearch params\n",
    "dtc_params = {\n",
    "    'max_depth':[None,1,2,3,4],\n",
    "    'max_features':[None,'log2','sqrt',2,3,4,5],\n",
    "    'min_samples_split':[2,3,4,5,10,15,20,25,30,40,50]\n",
    "}\n",
    "\n",
    "# set the gridsearch\n",
    "dtc_gs = GridSearchCV(DecisionTreeClassifier(), dtc_params, cv=5, verbose=1)"
   ]
  },
  {
   "cell_type": "code",
   "execution_count": 114,
   "metadata": {},
   "outputs": [
    {
     "name": "stdout",
     "output_type": "stream",
     "text": [
      "Fitting 5 folds for each of 385 candidates, totalling 1925 fits\n"
     ]
    },
    {
     "name": "stderr",
     "output_type": "stream",
     "text": [
      "[Parallel(n_jobs=1)]: Done 1925 out of 1925 | elapsed:   10.0s finished\n"
     ]
    },
    {
     "data": {
      "text/plain": [
       "GridSearchCV(cv=5, error_score='raise',\n",
       "       estimator=DecisionTreeClassifier(class_weight=None, criterion='gini', max_depth=None,\n",
       "            max_features=None, max_leaf_nodes=None,\n",
       "            min_impurity_decrease=0.0, min_impurity_split=None,\n",
       "            min_samples_leaf=1, min_samples_split=2,\n",
       "            min_weight_fraction_leaf=0.0, presort=False, random_state=None,\n",
       "            splitter='best'),\n",
       "       fit_params=None, iid=True, n_jobs=1,\n",
       "       param_grid={'max_depth': [None, 1, 2, 3, 4], 'max_features': [None, 'log2', 'sqrt', 2, 3, 4, 5], 'min_samples_split': [2, 3, 4, 5, 10, 15, 20, 25, 30, 40, 50]},\n",
       "       pre_dispatch='2*n_jobs', refit=True, return_train_score='warn',\n",
       "       scoring=None, verbose=1)"
      ]
     },
     "execution_count": 114,
     "metadata": {},
     "output_type": "execute_result"
    }
   ],
   "source": [
    "# use the gridsearch C model to fit the data\n",
    "dtc_gs.fit(X_train_ss, y_train)"
   ]
  },
  {
   "cell_type": "code",
   "execution_count": 115,
   "metadata": {},
   "outputs": [
    {
     "name": "stdout",
     "output_type": "stream",
     "text": [
      "{'max_depth': None, 'max_features': 'sqrt', 'min_samples_split': 30}\n",
      "0.416566143949\n"
     ]
    }
   ],
   "source": [
    "# Best Estimator\n",
    "dtc_best = dtc_gs.best_estimator_\n",
    "print(dtc_gs.best_params_)\n",
    "print(dtc_gs.best_score_)"
   ]
  },
  {
   "cell_type": "code",
   "execution_count": 119,
   "metadata": {},
   "outputs": [
    {
     "name": "stdout",
     "output_type": "stream",
     "text": [
      "               precision    recall  f1-score   support\n",
      "\n",
      "    data jobs       0.36      0.30      0.33       229\n",
      " analyst jobs       0.37      0.56      0.44       251\n",
      "engineer jobs       0.47      0.58      0.52       195\n",
      " manager jobs       0.20      0.17      0.18       126\n",
      "   other jobs       0.44      0.25      0.32       265\n",
      "\n",
      "  avg / total       0.38      0.38      0.37      1066\n",
      "\n"
     ]
    }
   ],
   "source": [
    "pred = dtc_best.predict(X_test_ss)\n",
    "print(metrics.classification_report(y_test, pred, labels=[1,2,3,4,5], target_names=['data jobs','analyst jobs','engineer jobs','manager jobs','other jobs']))"
   ]
  },
  {
   "cell_type": "code",
   "execution_count": 116,
   "metadata": {},
   "outputs": [
    {
     "data": {
      "text/html": [
       "<div>\n",
       "<style>\n",
       "    .dataframe thead tr:only-child th {\n",
       "        text-align: right;\n",
       "    }\n",
       "\n",
       "    .dataframe thead th {\n",
       "        text-align: left;\n",
       "    }\n",
       "\n",
       "    .dataframe tbody tr th {\n",
       "        vertical-align: top;\n",
       "    }\n",
       "</style>\n",
       "<table border=\"1\" class=\"dataframe\">\n",
       "  <thead>\n",
       "    <tr style=\"text-align: right;\">\n",
       "      <th></th>\n",
       "      <th>feature</th>\n",
       "      <th>importance</th>\n",
       "    </tr>\n",
       "  </thead>\n",
       "  <tbody>\n",
       "    <tr>\n",
       "      <th>28</th>\n",
       "      <td>summary_[analytics]</td>\n",
       "      <td>0.143267</td>\n",
       "    </tr>\n",
       "    <tr>\n",
       "      <th>3</th>\n",
       "      <td>company_[bhd]</td>\n",
       "      <td>0.066600</td>\n",
       "    </tr>\n",
       "    <tr>\n",
       "      <th>31</th>\n",
       "      <td>summary_[business]</td>\n",
       "      <td>0.058400</td>\n",
       "    </tr>\n",
       "    <tr>\n",
       "      <th>27</th>\n",
       "      <td>summary_[analyst]</td>\n",
       "      <td>0.049351</td>\n",
       "    </tr>\n",
       "    <tr>\n",
       "      <th>34</th>\n",
       "      <td>summary_[database]</td>\n",
       "      <td>0.042419</td>\n",
       "    </tr>\n",
       "    <tr>\n",
       "      <th>36</th>\n",
       "      <td>summary_[engineer]</td>\n",
       "      <td>0.040130</td>\n",
       "    </tr>\n",
       "    <tr>\n",
       "      <th>40</th>\n",
       "      <td>summary_[manager]</td>\n",
       "      <td>0.035201</td>\n",
       "    </tr>\n",
       "    <tr>\n",
       "      <th>26</th>\n",
       "      <td>summary_[analysis]</td>\n",
       "      <td>0.034207</td>\n",
       "    </tr>\n",
       "    <tr>\n",
       "      <th>13</th>\n",
       "      <td>company_[pte]</td>\n",
       "      <td>0.034001</td>\n",
       "    </tr>\n",
       "    <tr>\n",
       "      <th>37</th>\n",
       "      <td>summary_[experience]</td>\n",
       "      <td>0.032947</td>\n",
       "    </tr>\n",
       "  </tbody>\n",
       "</table>\n",
       "</div>"
      ],
      "text/plain": [
       "                 feature  importance\n",
       "28   summary_[analytics]    0.143267\n",
       "3          company_[bhd]    0.066600\n",
       "31    summary_[business]    0.058400\n",
       "27     summary_[analyst]    0.049351\n",
       "34    summary_[database]    0.042419\n",
       "36    summary_[engineer]    0.040130\n",
       "40     summary_[manager]    0.035201\n",
       "26    summary_[analysis]    0.034207\n",
       "13         company_[pte]    0.034001\n",
       "37  summary_[experience]    0.032947"
      ]
     },
     "execution_count": 116,
     "metadata": {},
     "output_type": "execute_result"
    }
   ],
   "source": [
    "fi = pd.DataFrame({\n",
    "        'feature':X_train_ss.columns,\n",
    "        'importance':dtc_best.feature_importances_\n",
    "    })\n",
    "\n",
    "fi.sort_values('importance', ascending=False, inplace=True)\n",
    "fi.head(10)"
   ]
  },
  {
   "cell_type": "code",
   "execution_count": 131,
   "metadata": {},
   "outputs": [],
   "source": [
    "coef = lr_grid_search.best_estimator_.coef_\n",
    "\n",
    "lr_coef_data = pd.DataFrame({'coef':coef[0],\n",
    "                    'mag':np.abs(coef[0]),\n",
    "                    'pred':X_test.columns})\n",
    "\n",
    "lr_coef_analyst = pd.DataFrame({'coef':coef[1],\n",
    "                    'mag':np.abs(coef[1]),\n",
    "                    'pred':X_test.columns})\n",
    "\n",
    "lr_coef_engineer = pd.DataFrame({'coef':coef[2],\n",
    "                    'mag':np.abs(coef[2]),\n",
    "                    'pred':X_test.columns})\n",
    "\n",
    "lr_coef_manager = pd.DataFrame({'coef':coef[3],\n",
    "                    'mag':np.abs(coef[3]),\n",
    "                    'pred':X_test.columns})\n",
    "\n",
    "lr_coef_other = pd.DataFrame({'coef':coef[4],\n",
    "                    'mag':np.abs(coef[4]),\n",
    "                    'pred':X_test.columns})\n",
    "\n",
    "lr_coef_data.sort_values('mag', ascending=False, inplace=True)\n",
    "lr_coef_analyst.sort_values('mag', ascending=False, inplace=True)\n",
    "lr_coef_engineer.sort_values('mag', ascending=False, inplace=True)\n",
    "lr_coef_manager.sort_values('mag', ascending=False, inplace=True)\n",
    "lr_coef_other.sort_values('mag', ascending=False, inplace=True)"
   ]
  },
  {
   "cell_type": "code",
   "execution_count": 133,
   "metadata": {
    "scrolled": true
   },
   "outputs": [
    {
     "data": {
      "text/html": [
       "<div>\n",
       "<style>\n",
       "    .dataframe thead tr:only-child th {\n",
       "        text-align: right;\n",
       "    }\n",
       "\n",
       "    .dataframe thead th {\n",
       "        text-align: left;\n",
       "    }\n",
       "\n",
       "    .dataframe tbody tr th {\n",
       "        vertical-align: top;\n",
       "    }\n",
       "</style>\n",
       "<table border=\"1\" class=\"dataframe\">\n",
       "  <thead>\n",
       "    <tr style=\"text-align: right;\">\n",
       "      <th></th>\n",
       "      <th>coef</th>\n",
       "      <th>mag</th>\n",
       "      <th>pred</th>\n",
       "    </tr>\n",
       "  </thead>\n",
       "  <tbody>\n",
       "    <tr>\n",
       "      <th>28</th>\n",
       "      <td>-0.257780</td>\n",
       "      <td>0.257780</td>\n",
       "      <td>summary_[analytics]</td>\n",
       "    </tr>\n",
       "    <tr>\n",
       "      <th>36</th>\n",
       "      <td>-0.246339</td>\n",
       "      <td>0.246339</td>\n",
       "      <td>summary_[engineer]</td>\n",
       "    </tr>\n",
       "    <tr>\n",
       "      <th>34</th>\n",
       "      <td>-0.241629</td>\n",
       "      <td>0.241629</td>\n",
       "      <td>summary_[database]</td>\n",
       "    </tr>\n",
       "    <tr>\n",
       "      <th>40</th>\n",
       "      <td>-0.219162</td>\n",
       "      <td>0.219162</td>\n",
       "      <td>summary_[manager]</td>\n",
       "    </tr>\n",
       "    <tr>\n",
       "      <th>27</th>\n",
       "      <td>0.187889</td>\n",
       "      <td>0.187889</td>\n",
       "      <td>summary_[analyst]</td>\n",
       "    </tr>\n",
       "    <tr>\n",
       "      <th>31</th>\n",
       "      <td>-0.129530</td>\n",
       "      <td>0.129530</td>\n",
       "      <td>summary_[business]</td>\n",
       "    </tr>\n",
       "    <tr>\n",
       "      <th>9</th>\n",
       "      <td>-0.128303</td>\n",
       "      <td>0.128303</td>\n",
       "      <td>company_[malaysia]</td>\n",
       "    </tr>\n",
       "    <tr>\n",
       "      <th>35</th>\n",
       "      <td>-0.127638</td>\n",
       "      <td>0.127638</td>\n",
       "      <td>summary_[design]</td>\n",
       "    </tr>\n",
       "    <tr>\n",
       "      <th>18</th>\n",
       "      <td>0.103262</td>\n",
       "      <td>0.103262</td>\n",
       "      <td>company_[singapore]</td>\n",
       "    </tr>\n",
       "    <tr>\n",
       "      <th>14</th>\n",
       "      <td>-0.101301</td>\n",
       "      <td>0.101301</td>\n",
       "      <td>company_[sdn]</td>\n",
       "    </tr>\n",
       "  </tbody>\n",
       "</table>\n",
       "</div>"
      ],
      "text/plain": [
       "        coef       mag                 pred\n",
       "28 -0.257780  0.257780  summary_[analytics]\n",
       "36 -0.246339  0.246339   summary_[engineer]\n",
       "34 -0.241629  0.241629   summary_[database]\n",
       "40 -0.219162  0.219162    summary_[manager]\n",
       "27  0.187889  0.187889    summary_[analyst]\n",
       "31 -0.129530  0.129530   summary_[business]\n",
       "9  -0.128303  0.128303   company_[malaysia]\n",
       "35 -0.127638  0.127638     summary_[design]\n",
       "18  0.103262  0.103262  company_[singapore]\n",
       "14 -0.101301  0.101301        company_[sdn]"
      ]
     },
     "execution_count": 133,
     "metadata": {},
     "output_type": "execute_result"
    }
   ],
   "source": [
    "# Top predictors for data jobs\n",
    "lr_coef_data.head(10)"
   ]
  },
  {
   "cell_type": "code",
   "execution_count": 134,
   "metadata": {},
   "outputs": [
    {
     "data": {
      "text/html": [
       "<div>\n",
       "<style>\n",
       "    .dataframe thead tr:only-child th {\n",
       "        text-align: right;\n",
       "    }\n",
       "\n",
       "    .dataframe thead th {\n",
       "        text-align: left;\n",
       "    }\n",
       "\n",
       "    .dataframe tbody tr th {\n",
       "        vertical-align: top;\n",
       "    }\n",
       "</style>\n",
       "<table border=\"1\" class=\"dataframe\">\n",
       "  <thead>\n",
       "    <tr style=\"text-align: right;\">\n",
       "      <th></th>\n",
       "      <th>coef</th>\n",
       "      <th>mag</th>\n",
       "      <th>pred</th>\n",
       "    </tr>\n",
       "  </thead>\n",
       "  <tbody>\n",
       "    <tr>\n",
       "      <th>28</th>\n",
       "      <td>-0.292979</td>\n",
       "      <td>0.292979</td>\n",
       "      <td>summary_[analytics]</td>\n",
       "    </tr>\n",
       "    <tr>\n",
       "      <th>34</th>\n",
       "      <td>0.237951</td>\n",
       "      <td>0.237951</td>\n",
       "      <td>summary_[database]</td>\n",
       "    </tr>\n",
       "    <tr>\n",
       "      <th>13</th>\n",
       "      <td>0.213333</td>\n",
       "      <td>0.213333</td>\n",
       "      <td>company_[pte]</td>\n",
       "    </tr>\n",
       "    <tr>\n",
       "      <th>27</th>\n",
       "      <td>-0.199669</td>\n",
       "      <td>0.199669</td>\n",
       "      <td>summary_[analyst]</td>\n",
       "    </tr>\n",
       "    <tr>\n",
       "      <th>36</th>\n",
       "      <td>0.198366</td>\n",
       "      <td>0.198366</td>\n",
       "      <td>summary_[engineer]</td>\n",
       "    </tr>\n",
       "    <tr>\n",
       "      <th>40</th>\n",
       "      <td>-0.198204</td>\n",
       "      <td>0.198204</td>\n",
       "      <td>summary_[manager]</td>\n",
       "    </tr>\n",
       "    <tr>\n",
       "      <th>9</th>\n",
       "      <td>-0.169721</td>\n",
       "      <td>0.169721</td>\n",
       "      <td>company_[malaysia]</td>\n",
       "    </tr>\n",
       "    <tr>\n",
       "      <th>31</th>\n",
       "      <td>-0.165022</td>\n",
       "      <td>0.165022</td>\n",
       "      <td>summary_[business]</td>\n",
       "    </tr>\n",
       "    <tr>\n",
       "      <th>17</th>\n",
       "      <td>0.148978</td>\n",
       "      <td>0.148978</td>\n",
       "      <td>company_[sg]</td>\n",
       "    </tr>\n",
       "    <tr>\n",
       "      <th>0</th>\n",
       "      <td>0.133071</td>\n",
       "      <td>0.133071</td>\n",
       "      <td>salary_high_tier</td>\n",
       "    </tr>\n",
       "  </tbody>\n",
       "</table>\n",
       "</div>"
      ],
      "text/plain": [
       "        coef       mag                 pred\n",
       "28 -0.292979  0.292979  summary_[analytics]\n",
       "34  0.237951  0.237951   summary_[database]\n",
       "13  0.213333  0.213333        company_[pte]\n",
       "27 -0.199669  0.199669    summary_[analyst]\n",
       "36  0.198366  0.198366   summary_[engineer]\n",
       "40 -0.198204  0.198204    summary_[manager]\n",
       "9  -0.169721  0.169721   company_[malaysia]\n",
       "31 -0.165022  0.165022   summary_[business]\n",
       "17  0.148978  0.148978         company_[sg]\n",
       "0   0.133071  0.133071     salary_high_tier"
      ]
     },
     "execution_count": 134,
     "metadata": {},
     "output_type": "execute_result"
    }
   ],
   "source": [
    "# Top predictors for analyst jobs\n",
    "lr_coef_analyst.head(10)"
   ]
  },
  {
   "cell_type": "code",
   "execution_count": 135,
   "metadata": {},
   "outputs": [
    {
     "data": {
      "text/html": [
       "<div>\n",
       "<style>\n",
       "    .dataframe thead tr:only-child th {\n",
       "        text-align: right;\n",
       "    }\n",
       "\n",
       "    .dataframe thead th {\n",
       "        text-align: left;\n",
       "    }\n",
       "\n",
       "    .dataframe tbody tr th {\n",
       "        vertical-align: top;\n",
       "    }\n",
       "</style>\n",
       "<table border=\"1\" class=\"dataframe\">\n",
       "  <thead>\n",
       "    <tr style=\"text-align: right;\">\n",
       "      <th></th>\n",
       "      <th>coef</th>\n",
       "      <th>mag</th>\n",
       "      <th>pred</th>\n",
       "    </tr>\n",
       "  </thead>\n",
       "  <tbody>\n",
       "    <tr>\n",
       "      <th>28</th>\n",
       "      <td>0.541766</td>\n",
       "      <td>0.541766</td>\n",
       "      <td>summary_[analytics]</td>\n",
       "    </tr>\n",
       "    <tr>\n",
       "      <th>40</th>\n",
       "      <td>0.335892</td>\n",
       "      <td>0.335892</td>\n",
       "      <td>summary_[manager]</td>\n",
       "    </tr>\n",
       "    <tr>\n",
       "      <th>31</th>\n",
       "      <td>0.301222</td>\n",
       "      <td>0.301222</td>\n",
       "      <td>summary_[business]</td>\n",
       "    </tr>\n",
       "    <tr>\n",
       "      <th>36</th>\n",
       "      <td>-0.188644</td>\n",
       "      <td>0.188644</td>\n",
       "      <td>summary_[engineer]</td>\n",
       "    </tr>\n",
       "    <tr>\n",
       "      <th>34</th>\n",
       "      <td>-0.150940</td>\n",
       "      <td>0.150940</td>\n",
       "      <td>summary_[database]</td>\n",
       "    </tr>\n",
       "    <tr>\n",
       "      <th>33</th>\n",
       "      <td>0.144927</td>\n",
       "      <td>0.144927</td>\n",
       "      <td>summary_[data analytics]</td>\n",
       "    </tr>\n",
       "    <tr>\n",
       "      <th>37</th>\n",
       "      <td>0.110430</td>\n",
       "      <td>0.110430</td>\n",
       "      <td>summary_[experience]</td>\n",
       "    </tr>\n",
       "    <tr>\n",
       "      <th>26</th>\n",
       "      <td>0.093732</td>\n",
       "      <td>0.093732</td>\n",
       "      <td>summary_[analysis]</td>\n",
       "    </tr>\n",
       "    <tr>\n",
       "      <th>39</th>\n",
       "      <td>0.078805</td>\n",
       "      <td>0.078805</td>\n",
       "      <td>summary_[management]</td>\n",
       "    </tr>\n",
       "    <tr>\n",
       "      <th>3</th>\n",
       "      <td>-0.067987</td>\n",
       "      <td>0.067987</td>\n",
       "      <td>company_[bhd]</td>\n",
       "    </tr>\n",
       "  </tbody>\n",
       "</table>\n",
       "</div>"
      ],
      "text/plain": [
       "        coef       mag                      pred\n",
       "28  0.541766  0.541766       summary_[analytics]\n",
       "40  0.335892  0.335892         summary_[manager]\n",
       "31  0.301222  0.301222        summary_[business]\n",
       "36 -0.188644  0.188644        summary_[engineer]\n",
       "34 -0.150940  0.150940        summary_[database]\n",
       "33  0.144927  0.144927  summary_[data analytics]\n",
       "37  0.110430  0.110430      summary_[experience]\n",
       "26  0.093732  0.093732        summary_[analysis]\n",
       "39  0.078805  0.078805      summary_[management]\n",
       "3  -0.067987  0.067987             company_[bhd]"
      ]
     },
     "execution_count": 135,
     "metadata": {},
     "output_type": "execute_result"
    }
   ],
   "source": [
    "# Top predictors for engineer jobs\n",
    "lr_coef_engineer.head(10)"
   ]
  },
  {
   "cell_type": "code",
   "execution_count": 136,
   "metadata": {},
   "outputs": [
    {
     "data": {
      "text/html": [
       "<div>\n",
       "<style>\n",
       "    .dataframe thead tr:only-child th {\n",
       "        text-align: right;\n",
       "    }\n",
       "\n",
       "    .dataframe thead th {\n",
       "        text-align: left;\n",
       "    }\n",
       "\n",
       "    .dataframe tbody tr th {\n",
       "        vertical-align: top;\n",
       "    }\n",
       "</style>\n",
       "<table border=\"1\" class=\"dataframe\">\n",
       "  <thead>\n",
       "    <tr style=\"text-align: right;\">\n",
       "      <th></th>\n",
       "      <th>coef</th>\n",
       "      <th>mag</th>\n",
       "      <th>pred</th>\n",
       "    </tr>\n",
       "  </thead>\n",
       "  <tbody>\n",
       "    <tr>\n",
       "      <th>28</th>\n",
       "      <td>-0.224331</td>\n",
       "      <td>0.224331</td>\n",
       "      <td>summary_[analytics]</td>\n",
       "    </tr>\n",
       "    <tr>\n",
       "      <th>13</th>\n",
       "      <td>-0.206087</td>\n",
       "      <td>0.206087</td>\n",
       "      <td>company_[pte]</td>\n",
       "    </tr>\n",
       "    <tr>\n",
       "      <th>31</th>\n",
       "      <td>-0.160932</td>\n",
       "      <td>0.160932</td>\n",
       "      <td>summary_[business]</td>\n",
       "    </tr>\n",
       "    <tr>\n",
       "      <th>34</th>\n",
       "      <td>-0.137449</td>\n",
       "      <td>0.137449</td>\n",
       "      <td>summary_[database]</td>\n",
       "    </tr>\n",
       "    <tr>\n",
       "      <th>27</th>\n",
       "      <td>0.133304</td>\n",
       "      <td>0.133304</td>\n",
       "      <td>summary_[analyst]</td>\n",
       "    </tr>\n",
       "    <tr>\n",
       "      <th>18</th>\n",
       "      <td>-0.123215</td>\n",
       "      <td>0.123215</td>\n",
       "      <td>company_[singapore]</td>\n",
       "    </tr>\n",
       "    <tr>\n",
       "      <th>36</th>\n",
       "      <td>-0.122550</td>\n",
       "      <td>0.122550</td>\n",
       "      <td>summary_[engineer]</td>\n",
       "    </tr>\n",
       "    <tr>\n",
       "      <th>0</th>\n",
       "      <td>0.102019</td>\n",
       "      <td>0.102019</td>\n",
       "      <td>salary_high_tier</td>\n",
       "    </tr>\n",
       "    <tr>\n",
       "      <th>40</th>\n",
       "      <td>-0.099448</td>\n",
       "      <td>0.099448</td>\n",
       "      <td>summary_[manager]</td>\n",
       "    </tr>\n",
       "    <tr>\n",
       "      <th>8</th>\n",
       "      <td>-0.090180</td>\n",
       "      <td>0.090180</td>\n",
       "      <td>company_[group]</td>\n",
       "    </tr>\n",
       "  </tbody>\n",
       "</table>\n",
       "</div>"
      ],
      "text/plain": [
       "        coef       mag                 pred\n",
       "28 -0.224331  0.224331  summary_[analytics]\n",
       "13 -0.206087  0.206087        company_[pte]\n",
       "31 -0.160932  0.160932   summary_[business]\n",
       "34 -0.137449  0.137449   summary_[database]\n",
       "27  0.133304  0.133304    summary_[analyst]\n",
       "18 -0.123215  0.123215  company_[singapore]\n",
       "36 -0.122550  0.122550   summary_[engineer]\n",
       "0   0.102019  0.102019     salary_high_tier\n",
       "40 -0.099448  0.099448    summary_[manager]\n",
       "8  -0.090180  0.090180      company_[group]"
      ]
     },
     "execution_count": 136,
     "metadata": {},
     "output_type": "execute_result"
    }
   ],
   "source": [
    "# Top predictors for manager jobs\n",
    "lr_coef_manager.head(10)"
   ]
  },
  {
   "cell_type": "code",
   "execution_count": 137,
   "metadata": {},
   "outputs": [
    {
     "data": {
      "text/html": [
       "<div>\n",
       "<style>\n",
       "    .dataframe thead tr:only-child th {\n",
       "        text-align: right;\n",
       "    }\n",
       "\n",
       "    .dataframe thead th {\n",
       "        text-align: left;\n",
       "    }\n",
       "\n",
       "    .dataframe tbody tr th {\n",
       "        vertical-align: top;\n",
       "    }\n",
       "</style>\n",
       "<table border=\"1\" class=\"dataframe\">\n",
       "  <thead>\n",
       "    <tr style=\"text-align: right;\">\n",
       "      <th></th>\n",
       "      <th>coef</th>\n",
       "      <th>mag</th>\n",
       "      <th>pred</th>\n",
       "    </tr>\n",
       "  </thead>\n",
       "  <tbody>\n",
       "    <tr>\n",
       "      <th>0</th>\n",
       "      <td>-0.252439</td>\n",
       "      <td>0.252439</td>\n",
       "      <td>salary_high_tier</td>\n",
       "    </tr>\n",
       "    <tr>\n",
       "      <th>36</th>\n",
       "      <td>0.201933</td>\n",
       "      <td>0.201933</td>\n",
       "      <td>summary_[engineer]</td>\n",
       "    </tr>\n",
       "    <tr>\n",
       "      <th>9</th>\n",
       "      <td>0.168598</td>\n",
       "      <td>0.168598</td>\n",
       "      <td>company_[malaysia]</td>\n",
       "    </tr>\n",
       "    <tr>\n",
       "      <th>3</th>\n",
       "      <td>0.161841</td>\n",
       "      <td>0.161841</td>\n",
       "      <td>company_[bhd]</td>\n",
       "    </tr>\n",
       "    <tr>\n",
       "      <th>18</th>\n",
       "      <td>-0.150087</td>\n",
       "      <td>0.150087</td>\n",
       "      <td>company_[singapore]</td>\n",
       "    </tr>\n",
       "    <tr>\n",
       "      <th>27</th>\n",
       "      <td>-0.138157</td>\n",
       "      <td>0.138157</td>\n",
       "      <td>summary_[analyst]</td>\n",
       "    </tr>\n",
       "    <tr>\n",
       "      <th>34</th>\n",
       "      <td>0.135403</td>\n",
       "      <td>0.135403</td>\n",
       "      <td>summary_[database]</td>\n",
       "    </tr>\n",
       "    <tr>\n",
       "      <th>31</th>\n",
       "      <td>0.131487</td>\n",
       "      <td>0.131487</td>\n",
       "      <td>summary_[business]</td>\n",
       "    </tr>\n",
       "    <tr>\n",
       "      <th>15</th>\n",
       "      <td>0.129281</td>\n",
       "      <td>0.129281</td>\n",
       "      <td>company_[sdn bhd]</td>\n",
       "    </tr>\n",
       "    <tr>\n",
       "      <th>14</th>\n",
       "      <td>0.129281</td>\n",
       "      <td>0.129281</td>\n",
       "      <td>company_[sdn]</td>\n",
       "    </tr>\n",
       "  </tbody>\n",
       "</table>\n",
       "</div>"
      ],
      "text/plain": [
       "        coef       mag                 pred\n",
       "0  -0.252439  0.252439     salary_high_tier\n",
       "36  0.201933  0.201933   summary_[engineer]\n",
       "9   0.168598  0.168598   company_[malaysia]\n",
       "3   0.161841  0.161841        company_[bhd]\n",
       "18 -0.150087  0.150087  company_[singapore]\n",
       "27 -0.138157  0.138157    summary_[analyst]\n",
       "34  0.135403  0.135403   summary_[database]\n",
       "31  0.131487  0.131487   summary_[business]\n",
       "15  0.129281  0.129281    company_[sdn bhd]\n",
       "14  0.129281  0.129281        company_[sdn]"
      ]
     },
     "execution_count": 137,
     "metadata": {},
     "output_type": "execute_result"
    }
   ],
   "source": [
    "# Top predictors for other jobs\n",
    "lr_coef_other.head(10)"
   ]
  },
  {
   "cell_type": "code",
   "execution_count": null,
   "metadata": {
    "collapsed": true
   },
   "outputs": [],
   "source": []
  }
 ],
 "metadata": {
  "kernelspec": {
   "display_name": "Python 3",
   "language": "python",
   "name": "python3"
  },
  "language_info": {
   "codemirror_mode": {
    "name": "ipython",
    "version": 3
   },
   "file_extension": ".py",
   "mimetype": "text/x-python",
   "name": "python",
   "nbconvert_exporter": "python",
   "pygments_lexer": "ipython3",
   "version": "3.6.3"
  }
 },
 "nbformat": 4,
 "nbformat_minor": 2
}
