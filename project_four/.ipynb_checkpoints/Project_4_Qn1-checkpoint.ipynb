{
 "cells": [
  {
   "cell_type": "markdown",
   "metadata": {},
   "source": [
    "> \n",
    "# Job titles to search for:\n",
    "* data scientist\n",
    "* data analyst\n",
    "* data architect\n",
    "* data engineer\n",
    "* statistician\n",
    "* database administrator\n",
    "* business analyst\n",
    "* data analytics manager\n",
    ">\n",
    "# Countries to search in:\n",
    "* Singapore\n"
   ]
  },
  {
   "cell_type": "code",
   "execution_count": null,
   "metadata": {
    "collapsed": true
   },
   "outputs": [],
   "source": [
    "# Each page has 15 job descriptions, 5 advertised jobs\n",
    "# url = 'https://www.indeed.com.sg/jobs?q=data+scientist&l=Singapore&start='\n",
    "# Assumption is that all job information gathered are data-related"
   ]
  },
  {
   "cell_type": "code",
   "execution_count": 3,
   "metadata": {
    "collapsed": true
   },
   "outputs": [],
   "source": [
    "import requests\n",
    "import bs4\n",
    "from bs4 import BeautifulSoup\n",
    "import pandas as pd\n",
    "import time\n",
    "import regex as re\n",
    "import numpy as np\n",
    "import pandas as pd\n",
    "import matplotlib.pyplot as plt\n",
    "import seaborn as sns\n",
    "import pickle\n",
    "\n",
    "sns.set_style('whitegrid')\n",
    "\n",
    "%config InlineBackend.figure_format = 'retina'\n",
    "%matplotlib inline"
   ]
  },
  {
   "cell_type": "markdown",
   "metadata": {},
   "source": [
    "# WEB SCRAPING MODULE"
   ]
  },
  {
   "cell_type": "code",
   "execution_count": 81,
   "metadata": {
    "collapsed": true
   },
   "outputs": [],
   "source": [
    "# Initialize search parameters and dataframe\n",
    "# 'my',\n",
    "country_set = ['sg','my']\n",
    "search_string = ['data scientist', 'data analyst', 'data architect', 'data engineer',\n",
    "       'statistician', 'database administrator', 'business analyst', 'data analytics manager']\n",
    "columns = [\"job_category\",\"job_title\", \"company_name\", \"location\", \"summary\", \"salary\"]"
   ]
  },
  {
   "cell_type": "code",
   "execution_count": 82,
   "metadata": {
    "scrolled": false
   },
   "outputs": [
    {
     "name": "stdout",
     "output_type": "stream",
     "text": [
      "<class 'pandas.core.frame.DataFrame'>\n",
      "RangeIndex: 7388 entries, 0 to 7387\n",
      "Data columns (total 6 columns):\n",
      "job_category    7388 non-null object\n",
      "job_title       7388 non-null object\n",
      "company_name    6245 non-null object\n",
      "location        7388 non-null object\n",
      "summary         6647 non-null object\n",
      "salary          332 non-null object\n",
      "dtypes: object(6)\n",
      "memory usage: 346.4+ KB\n"
     ]
    }
   ],
   "source": [
    "# Initialize container to store all job postings\n",
    "jobs_list = []\n",
    "\n",
    "# Iterate through search parameters and store relevant data in respective columns in dataframe\n",
    "for country in country_set:\n",
    "    for query in search_string:\n",
    "        \n",
    "        url = 'https://www.indeed.com.' + country + '/jobs?q=' + '+'.join([word for word in query.split()]) + '&start='\n",
    "        time.sleep(1)\n",
    "        page = requests.get(url)\n",
    "        soup = BeautifulSoup(page.text, 'lxml')\n",
    "        jobs_count = soup.find_all(name='div', attrs={'id':'searchCount'})[0].get_text()\n",
    "        \n",
    "        # Get maximum number of jobs to iterate over all pages\n",
    "        max_jobs = int(re.sub('[^0-9a-zA-Z]+', '', jobs_count.split()[-1]))\n",
    "        \n",
    "        for start_number in range(0,max_jobs,10):\n",
    "            time.sleep(1)\n",
    "            url_page = url + str(start_number)\n",
    "            page = requests.get(url_page)\n",
    "            soup = BeautifulSoup(page.text, 'lxml')\n",
    "            \n",
    "            # Get all advertised job descriptions\n",
    "            regex = re.compile('.*row.*')\n",
    "            jobs = soup.find_all(name='div', attrs={'class':regex})\n",
    "            \n",
    "            # Get job title from job description\n",
    "            for job in jobs:\n",
    "\n",
    "                job_title = job.find(name='a', attrs={'data-tn-element':'jobTitle'})\n",
    "                company = job.find(name='span', attrs={'class':'company'})\n",
    "                location = job.find(name='span', attrs={'class':'location'})\n",
    "                summary = job.find(name='span', attrs={'class':'summary'})\n",
    "                salary = job.find(name='span', attrs={'class':'no-wrap'})\n",
    "\n",
    "                # Put default for missing variables\n",
    "                if job_title != None:\n",
    "                    job_title_result = job_title.get_text()\n",
    "                    job_title_result = job_title_result.replace('\\n','')\n",
    "                    job_title_result = job_title_result.strip()\n",
    "                else:\n",
    "                    job_title_result = np.nan\n",
    "\n",
    "                if company != None:\n",
    "                    company_result = company.get_text()\n",
    "                    company_result = company_result.replace('\\n','')\n",
    "                    company_result = company_result.strip()\n",
    "                else:\n",
    "                    company_result = np.nan\n",
    "\n",
    "                if location != None:\n",
    "                    location_result = location.get_text()\n",
    "                    location_result = location_result.replace('\\n','')\n",
    "                    location_result = location_result.strip()\n",
    "                else:\n",
    "                    location_result = np.nan\n",
    "\n",
    "                if summary != None:\n",
    "                    summary_result = summary.get_text()\n",
    "                    summary_result = summary_result.replace('\\n','')\n",
    "                    summary_result = summary_result.strip()\n",
    "                else:\n",
    "                    summary_result = np.nan\n",
    "\n",
    "                if salary != None:\n",
    "\n",
    "                    salary_result = salary.get_text()\n",
    "                    salary_result = salary_result.replace('\\n','')\n",
    "                    salary_result = salary_result.strip()\n",
    "                else:\n",
    "                    salary_result = np.nan\n",
    "\n",
    "                # Append to list\n",
    "                job_category = '_'.join([word for word in query.split()])\n",
    "                jobs_list.append([job_category,job_title_result, company_result, location_result, summary_result, salary_result])\n",
    "\n",
    "# Convert jobs list to dataframe\n",
    "df = pd.DataFrame(jobs_list, columns = columns)\n",
    "# drop all duplicated job postings based on summary\n",
    "df.drop_duplicates(subset=['summary'], inplace=True)\n",
    "df.reset_index(drop=True, inplace=True)\n",
    "df.info()"
   ]
  },
  {
   "cell_type": "markdown",
   "metadata": {},
   "source": [
    "# SAVE SCRAPED JOBS IN PICKLE"
   ]
  },
  {
   "cell_type": "code",
   "execution_count": 84,
   "metadata": {
    "collapsed": true,
    "scrolled": false
   },
   "outputs": [],
   "source": [
    "# Save dataframe in pickle to not waste time scrapping again\n",
    "df.drop_duplicates(subset=['summary'], inplace=True)\n",
    "df.to_pickle('sg_my_indeed_data_related_jobs')"
   ]
  },
  {
   "cell_type": "markdown",
   "metadata": {},
   "source": [
    "# READ FILE & CLEAN DATA"
   ]
  },
  {
   "cell_type": "code",
   "execution_count": 4,
   "metadata": {},
   "outputs": [
    {
     "name": "stdout",
     "output_type": "stream",
     "text": [
      "<class 'pandas.core.frame.DataFrame'>\n",
      "RangeIndex: 5815 entries, 0 to 5814\n",
      "Data columns (total 6 columns):\n",
      "job_category    5815 non-null object\n",
      "job_title       5815 non-null object\n",
      "company_name    4945 non-null object\n",
      "location        5815 non-null object\n",
      "summary         5814 non-null object\n",
      "salary          284 non-null object\n",
      "dtypes: object(6)\n",
      "memory usage: 272.7+ KB\n"
     ]
    }
   ],
   "source": [
    "df1 = pd.read_pickle('./sg_my_indeed_data_related_jobs')\n",
    "df1.reset_index(drop=True, inplace=True)\n",
    "df1.info()"
   ]
  },
  {
   "cell_type": "code",
   "execution_count": 5,
   "metadata": {
    "collapsed": true
   },
   "outputs": [],
   "source": [
    "# Drop location column, frequency too concentrated on a two values\n",
    "df1.drop(labels=['location'], axis=1, inplace=True)"
   ]
  },
  {
   "cell_type": "code",
   "execution_count": 6,
   "metadata": {
    "collapsed": true
   },
   "outputs": [],
   "source": [
    "# Drop all null values except for salary\n",
    "df1.dropna(subset=['company_name','summary'], inplace=True)"
   ]
  },
  {
   "cell_type": "code",
   "execution_count": 7,
   "metadata": {
    "collapsed": true
   },
   "outputs": [],
   "source": [
    "# convert all to small letters if string\n",
    "df1 = df1.applymap(lambda x: x.lower().strip() if isinstance(x, str) else x)\n",
    "# remove all non-alphabets\n",
    "df1.job_title = df1.job_title.map(lambda x: re.sub(r'[^A-Za-z\\s]','',x).strip())\n",
    "df1.summary = df1.summary.map(lambda x: re.sub(r'[^A-Za-z\\s]','',x).strip())\n",
    "# remove business licence numbers\n",
    "df1.company_name = df1.company_name.map(lambda x: x[:x.index(', ea licence')] if x.find(', ea licence') != -1 else x)"
   ]
  },
  {
   "cell_type": "code",
   "execution_count": 8,
   "metadata": {
    "collapsed": true,
    "scrolled": true
   },
   "outputs": [],
   "source": [
    "# filter jobs by data related terms\n",
    "data_terms = ['data','analytics','intelligence','analysis','statistics','machine learning']\n",
    "df1_summary_null = df1.summary.map(lambda x: x if any(x.find(t)>=0 for t in data_terms) else np.nan).isnull()\n",
    "df1_job_title_null = df1.job_title.map(lambda x: x if any(x.find(t)>=0 for t in data_terms) else np.nan).isnull()\n",
    "df1_mod = df1[(~df1_summary_null) | (~df1_job_title_null)]"
   ]
  },
  {
   "cell_type": "code",
   "execution_count": 9,
   "metadata": {},
   "outputs": [
    {
     "name": "stdout",
     "output_type": "stream",
     "text": [
      "<class 'pandas.core.frame.DataFrame'>\n",
      "Int64Index: 206 entries, 5 to 5806\n",
      "Data columns (total 5 columns):\n",
      "job_category    206 non-null object\n",
      "job_title       206 non-null object\n",
      "company_name    206 non-null object\n",
      "summary         206 non-null object\n",
      "salary          206 non-null object\n",
      "dtypes: object(5)\n",
      "memory usage: 9.7+ KB\n"
     ]
    }
   ],
   "source": [
    "df1_mod[~df1_mod.salary.isnull()].info()"
   ]
  },
  {
   "cell_type": "code",
   "execution_count": 10,
   "metadata": {
    "collapsed": true
   },
   "outputs": [],
   "source": [
    "# Extract those without salary data\n",
    "df1_unsalaried = df1_mod[df1_mod.salary.isnull()]"
   ]
  },
  {
   "cell_type": "code",
   "execution_count": 11,
   "metadata": {
    "collapsed": true
   },
   "outputs": [],
   "source": [
    "# Extract those with salary data\n",
    "df1_salaried = df1_mod[~df1_mod.salary.isnull()]\n",
    "df1_salaried.reset_index(drop=True, inplace=True)"
   ]
  },
  {
   "cell_type": "code",
   "execution_count": 12,
   "metadata": {
    "collapsed": true
   },
   "outputs": [],
   "source": [
    "# Convert all salary into yearly format\n",
    "salary_type = df1_salaried.salary.map(lambda x: 'rm' if x.find('rm') >= 0 else 'sgd')\n",
    "salary_range = df1_salaried.salary.map(lambda x: re.sub('[^0-9\\s]', '', ' '.join(re.findall(r'\\d+(?:[\\d,.]*\\d)', x))))\n",
    "salary_period = df1_salaried.salary.map(lambda x: x[x.find('month'):] if x.find('month') >= 0 else x[x.find('hour'):] if x.find('hour') >= 0 else 'year')"
   ]
  },
  {
   "cell_type": "code",
   "execution_count": 13,
   "metadata": {
    "collapsed": true
   },
   "outputs": [],
   "source": [
    "# Get live exchange rate\n",
    "import requests as req"
   ]
  },
  {
   "cell_type": "code",
   "execution_count": 14,
   "metadata": {
    "collapsed": true
   },
   "outputs": [],
   "source": [
    "url = 'https://api.fixer.io/latest?base=SGD&symbols=MYR'\n",
    "req_obj = req.get(url)\n",
    "sgdmy_rate = req_obj.json()"
   ]
  },
  {
   "cell_type": "code",
   "execution_count": 15,
   "metadata": {
    "collapsed": true
   },
   "outputs": [],
   "source": [
    "# 1 SGD worth how much MYR\n",
    "exch_rate = sgdmy_rate['rates']['MYR']"
   ]
  },
  {
   "cell_type": "code",
   "execution_count": 16,
   "metadata": {
    "collapsed": true,
    "scrolled": false
   },
   "outputs": [],
   "source": [
    "temp_sal = []\n",
    "\n",
    "for i in range(0, len(salary_period)):\n",
    "    if salary_period.loc[i] == 'month':\n",
    "        if salary_type.loc[i] == 'rm':\n",
    "            sal = int(salary_range[i].split()[0])/exch_rate\n",
    "            temp_sal.append(sal*12)\n",
    "        else:\n",
    "            sal = int(salary_range[i].split()[0])\n",
    "            temp_sal.append(sal*12)\n",
    "    elif salary_period.loc[i] == 'hour':\n",
    "        if salary_type.loc[i] == 'rm':\n",
    "            sal = int(salary_range[i].split()[0])/exch_rate\n",
    "            temp_sal.append(sal*2080)\n",
    "        else:\n",
    "            sal = int(salary_range[i].split()[0])\n",
    "            temp_sal.append(sal*2080)\n",
    "    else:\n",
    "        if salary_type.loc[i] == 'rm':\n",
    "            temp_sal.append(int(salary_range[i].split()[0])/exch_rate)\n",
    "        else:\n",
    "            temp_sal.append(int(salary_range[i].split()[0]))\n",
    "\n",
    "salary_annual = pd.DataFrame(temp_sal, columns=['salary_annual'])"
   ]
  },
  {
   "cell_type": "code",
   "execution_count": 17,
   "metadata": {
    "collapsed": true
   },
   "outputs": [],
   "source": [
    "salary_annual = salary_annual.astype('int64')\n",
    "# Classifiy Salary into high, low tier\n",
    "salary_high_tier = salary_annual.applymap(lambda x: 1 if x > int(salary_annual.median()) else 0)"
   ]
  },
  {
   "cell_type": "code",
   "execution_count": 18,
   "metadata": {},
   "outputs": [
    {
     "name": "stderr",
     "output_type": "stream",
     "text": [
      "/Users/david.yan/anaconda/lib/python3.6/site-packages/ipykernel_launcher.py:1: SettingWithCopyWarning: \n",
      "A value is trying to be set on a copy of a slice from a DataFrame\n",
      "\n",
      "See the caveats in the documentation: http://pandas.pydata.org/pandas-docs/stable/indexing.html#indexing-view-versus-copy\n",
      "  \"\"\"Entry point for launching an IPython kernel.\n"
     ]
    }
   ],
   "source": [
    "df1_salaried.drop(labels=['salary'], axis=1, inplace=True)\n",
    "df1_salaried_mod = pd.concat([df1_salaried, salary_high_tier], axis=1)\n",
    "df1_salaried_mod.rename(index=str, columns={'salary_annual': 'salary_high_tier'}, inplace=True)"
   ]
  },
  {
   "cell_type": "code",
   "execution_count": 19,
   "metadata": {
    "scrolled": false
   },
   "outputs": [
    {
     "name": "stdout",
     "output_type": "stream",
     "text": [
      "<class 'pandas.core.frame.DataFrame'>\n",
      "Index: 206 entries, 0 to 205\n",
      "Data columns (total 5 columns):\n",
      "job_category        206 non-null object\n",
      "job_title           206 non-null object\n",
      "company_name        206 non-null object\n",
      "summary             206 non-null object\n",
      "salary_high_tier    206 non-null int64\n",
      "dtypes: int64(1), object(4)\n",
      "memory usage: 9.7+ KB\n"
     ]
    }
   ],
   "source": [
    "# We will use those jobs with description to predict those without\n",
    "df1_salaried_mod.info()"
   ]
  },
  {
   "cell_type": "markdown",
   "metadata": {},
   "source": [
    "# BAG OF WORDS MODELLING"
   ]
  },
  {
   "cell_type": "code",
   "execution_count": 20,
   "metadata": {
    "collapsed": true
   },
   "outputs": [],
   "source": [
    "# Question 1:\n",
    "\n",
    "# Get TFIDF of job title, company, location, summary\n",
    "# Use data with salary to predict those without\n",
    "# Find out features with highest significant in distinguishing high vs low salary jobs\n",
    "# Then collect TFIDF again for whole dataset and do second round of modelling\n",
    "# Check to see whether top features are the same with round 1\n",
    "# Features that appear highly significant in both rounds are the factors that are best at distinguishing\n",
    "# high vs low salary\n",
    "\n",
    "# For my study, i will generate features from my dataset using TFIDF\n",
    "\n",
    "# Will use log reg and decision tree to predict, unless results really bad"
   ]
  },
  {
   "cell_type": "code",
   "execution_count": 21,
   "metadata": {
    "collapsed": true
   },
   "outputs": [],
   "source": [
    "from sklearn.feature_extraction.text import TfidfVectorizer\n",
    "from sklearn.model_selection import train_test_split, cross_val_predict, GridSearchCV\n",
    "from sklearn.linear_model import LogisticRegression, LogisticRegressionCV\n",
    "from sklearn import metrics\n",
    "from sklearn.metrics import classification_report\n",
    "from sklearn.preprocessing import StandardScaler"
   ]
  },
  {
   "cell_type": "code",
   "execution_count": 22,
   "metadata": {
    "collapsed": true
   },
   "outputs": [],
   "source": [
    "# Get TFIDF for job summary\n",
    "job_summary_tvec = TfidfVectorizer(ngram_range=(1,3), stop_words='english', min_df=2, max_df=0.5, max_features=25)\n",
    "job_summary_tvec.fit(df1_salaried_mod.summary)\n",
    "job_summary_tvec_df = pd.DataFrame(job_summary_tvec.transform(df1_salaried_mod.summary).todense(),\n",
    "                       columns=['summary_[' + f + ']' for f in job_summary_tvec.get_feature_names()])"
   ]
  },
  {
   "cell_type": "code",
   "execution_count": 23,
   "metadata": {
    "collapsed": true,
    "scrolled": false
   },
   "outputs": [],
   "source": [
    "# Get TFIDF for job title\n",
    "job_title_tvec = TfidfVectorizer(ngram_range=(1,3), stop_words='english', min_df=2, max_df=0.5, max_features=25)\n",
    "job_title_tvec.fit(df1_salaried_mod.job_title)\n",
    "job_title_tvec_df = pd.DataFrame(job_title_tvec.transform(df1_salaried_mod.summary).todense(),\n",
    "                       columns=['title_[' + f + ']' for f in job_title_tvec.get_feature_names()])"
   ]
  },
  {
   "cell_type": "code",
   "execution_count": 24,
   "metadata": {
    "collapsed": true
   },
   "outputs": [],
   "source": [
    "# Get TFIDF for company name\n",
    "job_company_tvec = TfidfVectorizer(ngram_range=(1,3), stop_words='english', min_df=2, max_df=0.5, max_features=25)\n",
    "job_company_tvec.fit(df1_salaried_mod.company_name)\n",
    "job_company_tvec_df = pd.DataFrame(job_company_tvec.transform(df1_salaried_mod.company_name).todense(),\n",
    "                       columns=['company_[' + f + ']' for f in job_company_tvec.get_feature_names()])"
   ]
  },
  {
   "cell_type": "code",
   "execution_count": 25,
   "metadata": {
    "collapsed": true
   },
   "outputs": [],
   "source": [
    "y_with_sal = df1_salaried_mod.salary_high_tier\n",
    "X_with_sal = pd.concat([job_summary_tvec_df,job_title_tvec_df,job_company_tvec_df], axis=1)"
   ]
  },
  {
   "cell_type": "code",
   "execution_count": 26,
   "metadata": {
    "collapsed": true
   },
   "outputs": [],
   "source": [
    "# Get training and testing set\n",
    "X_train, X_test, y_train, y_test = train_test_split(X_with_sal, y_with_sal, test_size=0.3, random_state=42)"
   ]
  },
  {
   "cell_type": "code",
   "execution_count": 27,
   "metadata": {
    "collapsed": true
   },
   "outputs": [],
   "source": [
    "# Standardize predictors\n",
    "X_train_ss = StandardScaler().fit_transform(X_train)\n",
    "X_test_ss = StandardScaler().fit_transform(X_test)"
   ]
  },
  {
   "cell_type": "code",
   "execution_count": 30,
   "metadata": {
    "collapsed": true
   },
   "outputs": [],
   "source": [
    "X_train_ss = pd.DataFrame(X_train_ss, columns=X_train.columns)\n",
    "X_test_ss = pd.DataFrame(X_test_ss, columns=X_train.columns)"
   ]
  },
  {
   "cell_type": "code",
   "execution_count": 31,
   "metadata": {},
   "outputs": [
    {
     "data": {
      "text/plain": [
       "LogisticRegression(C=1.0, class_weight=None, dual=False, fit_intercept=True,\n",
       "          intercept_scaling=1, max_iter=100, multi_class='ovr', n_jobs=1,\n",
       "          penalty='l2', random_state=None, solver='liblinear', tol=0.0001,\n",
       "          verbose=0, warm_start=False)"
      ]
     },
     "execution_count": 31,
     "metadata": {},
     "output_type": "execute_result"
    }
   ],
   "source": [
    "# Fit with plain logistic regression\n",
    "lr = LogisticRegression()\n",
    "lr.fit(X_train_ss, y_train)"
   ]
  },
  {
   "cell_type": "code",
   "execution_count": 32,
   "metadata": {},
   "outputs": [
    {
     "name": "stdout",
     "output_type": "stream",
     "text": [
      "             precision    recall  f1-score   support\n",
      "\n",
      "          0       0.75      0.60      0.67        35\n",
      "          1       0.59      0.74      0.66        27\n",
      "\n",
      "avg / total       0.68      0.66      0.66        62\n",
      "\n",
      "f1-score: 0.655737704918\n"
     ]
    }
   ],
   "source": [
    "pred = lr.predict(X_test_ss)\n",
    "score = metrics.f1_score(y_test, pred)\n",
    "print(classification_report(y_test, pred))\n",
    "print('f1-score:', score)"
   ]
  },
  {
   "cell_type": "code",
   "execution_count": 33,
   "metadata": {},
   "outputs": [
    {
     "name": "stdout",
     "output_type": "stream",
     "text": [
      "GRID SEARCH:\n",
      "Best parameters set:\n",
      "\tC: 1.0000000000000001e-05\n",
      "\tpenalty: 'l2'\n",
      "\tsolver: 'liblinear'\n"
     ]
    }
   ],
   "source": [
    "# Gridsearch for Ridge and Lasso Logistic Regression, optimize C\n",
    "\n",
    "parameters = {\n",
    "    'penalty':['l1','l2'],\n",
    "    'solver':['liblinear'],\n",
    "    'C':np.logspace(-5,0,100)\n",
    "}\n",
    "\n",
    "print (\"GRID SEARCH:\")\n",
    "lr_grid_search = GridSearchCV(LogisticRegression(), parameters, cv=10, verbose=0)\n",
    "lr_grid_search.fit(X_train_ss, y_train)\n",
    "print (\"Best parameters set:\")\n",
    "lr_best_parameters = lr_grid_search.best_estimator_.get_params()\n",
    "for param_name in sorted(parameters.keys()):\n",
    "    print (\"\\t%s: %r\" % (param_name, lr_best_parameters[param_name]))"
   ]
  },
  {
   "cell_type": "code",
   "execution_count": 34,
   "metadata": {},
   "outputs": [
    {
     "name": "stdout",
     "output_type": "stream",
     "text": [
      "Logistic Regression with best parameter:\n",
      "             precision    recall  f1-score   support\n",
      "\n",
      "high salary       0.62      0.85      0.72        27\n",
      " low salary       0.84      0.60      0.70        35\n",
      "\n",
      "avg / total       0.74      0.71      0.71        62\n",
      "\n"
     ]
    }
   ],
   "source": [
    "print (\"Logistic Regression with best parameter:\")\n",
    "clf = LogisticRegression(**lr_best_parameters)\n",
    "clf.fit(X_train_ss, y_train)\n",
    "lr_gs_pred = clf.predict(X_test_ss)\n",
    "print(metrics.classification_report(y_test, lr_gs_pred, labels=[1,0], target_names=['high salary','low salary']))"
   ]
  },
  {
   "cell_type": "code",
   "execution_count": 35,
   "metadata": {
    "collapsed": true
   },
   "outputs": [],
   "source": [
    "from sklearn.tree import DecisionTreeClassifier"
   ]
  },
  {
   "cell_type": "code",
   "execution_count": 36,
   "metadata": {
    "collapsed": true
   },
   "outputs": [],
   "source": [
    "# gridsearch params\n",
    "dtc_params = {\n",
    "    'max_depth':[None,1,2,3,4],\n",
    "    'max_features':[None,'log2','sqrt',2,3,4,5],\n",
    "    'min_samples_split':[2,3,4,5,10,15,20,25,30,40,50]\n",
    "}\n",
    "\n",
    "# set the gridsearch\n",
    "dtc_gs = GridSearchCV(DecisionTreeClassifier(), dtc_params, cv=5, verbose=1)"
   ]
  },
  {
   "cell_type": "code",
   "execution_count": 37,
   "metadata": {},
   "outputs": [
    {
     "name": "stdout",
     "output_type": "stream",
     "text": [
      "Fitting 5 folds for each of 385 candidates, totalling 1925 fits\n"
     ]
    },
    {
     "name": "stderr",
     "output_type": "stream",
     "text": [
      "[Parallel(n_jobs=1)]: Done 1925 out of 1925 | elapsed:    4.1s finished\n"
     ]
    },
    {
     "data": {
      "text/plain": [
       "GridSearchCV(cv=5, error_score='raise',\n",
       "       estimator=DecisionTreeClassifier(class_weight=None, criterion='gini', max_depth=None,\n",
       "            max_features=None, max_leaf_nodes=None,\n",
       "            min_impurity_decrease=0.0, min_impurity_split=None,\n",
       "            min_samples_leaf=1, min_samples_split=2,\n",
       "            min_weight_fraction_leaf=0.0, presort=False, random_state=None,\n",
       "            splitter='best'),\n",
       "       fit_params=None, iid=True, n_jobs=1,\n",
       "       param_grid={'max_depth': [None, 1, 2, 3, 4], 'max_features': [None, 'log2', 'sqrt', 2, 3, 4, 5], 'min_samples_split': [2, 3, 4, 5, 10, 15, 20, 25, 30, 40, 50]},\n",
       "       pre_dispatch='2*n_jobs', refit=True, return_train_score='warn',\n",
       "       scoring=None, verbose=1)"
      ]
     },
     "execution_count": 37,
     "metadata": {},
     "output_type": "execute_result"
    }
   ],
   "source": [
    "# use the gridsearch C model to fit the data\n",
    "dtc_gs.fit(X_train_ss, y_train)"
   ]
  },
  {
   "cell_type": "code",
   "execution_count": 38,
   "metadata": {},
   "outputs": [
    {
     "name": "stdout",
     "output_type": "stream",
     "text": [
      "{'max_depth': 4, 'max_features': 'log2', 'min_samples_split': 15}\n",
      "0.784722222222\n"
     ]
    }
   ],
   "source": [
    "# Best Estimator\n",
    "dtc_best = dtc_gs.best_estimator_\n",
    "print(dtc_gs.best_params_)\n",
    "print(dtc_gs.best_score_)"
   ]
  },
  {
   "cell_type": "code",
   "execution_count": 39,
   "metadata": {},
   "outputs": [
    {
     "data": {
      "text/html": [
       "<div>\n",
       "<style>\n",
       "    .dataframe thead tr:only-child th {\n",
       "        text-align: right;\n",
       "    }\n",
       "\n",
       "    .dataframe thead th {\n",
       "        text-align: left;\n",
       "    }\n",
       "\n",
       "    .dataframe tbody tr th {\n",
       "        vertical-align: top;\n",
       "    }\n",
       "</style>\n",
       "<table border=\"1\" class=\"dataframe\">\n",
       "  <thead>\n",
       "    <tr style=\"text-align: right;\">\n",
       "      <th></th>\n",
       "      <th>feature</th>\n",
       "      <th>importance</th>\n",
       "    </tr>\n",
       "  </thead>\n",
       "  <tbody>\n",
       "    <tr>\n",
       "      <th>0</th>\n",
       "      <td>summary_[analysis]</td>\n",
       "      <td>0.430211</td>\n",
       "    </tr>\n",
       "    <tr>\n",
       "      <th>63</th>\n",
       "      <td>company_[pte]</td>\n",
       "      <td>0.176147</td>\n",
       "    </tr>\n",
       "    <tr>\n",
       "      <th>53</th>\n",
       "      <td>company_[ask]</td>\n",
       "      <td>0.164466</td>\n",
       "    </tr>\n",
       "    <tr>\n",
       "      <th>70</th>\n",
       "      <td>company_[services]</td>\n",
       "      <td>0.123917</td>\n",
       "    </tr>\n",
       "    <tr>\n",
       "      <th>66</th>\n",
       "      <td>company_[resources sdn]</td>\n",
       "      <td>0.105258</td>\n",
       "    </tr>\n",
       "    <tr>\n",
       "      <th>47</th>\n",
       "      <td>title_[support]</td>\n",
       "      <td>0.000000</td>\n",
       "    </tr>\n",
       "    <tr>\n",
       "      <th>52</th>\n",
       "      <td>company_[asia]</td>\n",
       "      <td>0.000000</td>\n",
       "    </tr>\n",
       "    <tr>\n",
       "      <th>51</th>\n",
       "      <td>company_[agensi pekerjaan]</td>\n",
       "      <td>0.000000</td>\n",
       "    </tr>\n",
       "    <tr>\n",
       "      <th>50</th>\n",
       "      <td>company_[agensi]</td>\n",
       "      <td>0.000000</td>\n",
       "    </tr>\n",
       "    <tr>\n",
       "      <th>49</th>\n",
       "      <td>title_[technical]</td>\n",
       "      <td>0.000000</td>\n",
       "    </tr>\n",
       "  </tbody>\n",
       "</table>\n",
       "</div>"
      ],
      "text/plain": [
       "                       feature  importance\n",
       "0           summary_[analysis]    0.430211\n",
       "63               company_[pte]    0.176147\n",
       "53               company_[ask]    0.164466\n",
       "70          company_[services]    0.123917\n",
       "66     company_[resources sdn]    0.105258\n",
       "47             title_[support]    0.000000\n",
       "52              company_[asia]    0.000000\n",
       "51  company_[agensi pekerjaan]    0.000000\n",
       "50            company_[agensi]    0.000000\n",
       "49           title_[technical]    0.000000"
      ]
     },
     "execution_count": 39,
     "metadata": {},
     "output_type": "execute_result"
    }
   ],
   "source": [
    "fi = pd.DataFrame({\n",
    "        'feature':X_train_ss.columns,\n",
    "        'importance':dtc_best.feature_importances_\n",
    "    })\n",
    "\n",
    "fi.sort_values('importance', ascending=False, inplace=True)\n",
    "fi.head(10)"
   ]
  },
  {
   "cell_type": "code",
   "execution_count": 40,
   "metadata": {},
   "outputs": [
    {
     "data": {
      "text/html": [
       "<div>\n",
       "<style>\n",
       "    .dataframe thead tr:only-child th {\n",
       "        text-align: right;\n",
       "    }\n",
       "\n",
       "    .dataframe thead th {\n",
       "        text-align: left;\n",
       "    }\n",
       "\n",
       "    .dataframe tbody tr th {\n",
       "        vertical-align: top;\n",
       "    }\n",
       "</style>\n",
       "<table border=\"1\" class=\"dataframe\">\n",
       "  <thead>\n",
       "    <tr style=\"text-align: right;\">\n",
       "      <th></th>\n",
       "      <th>coef</th>\n",
       "      <th>mag</th>\n",
       "      <th>pred</th>\n",
       "    </tr>\n",
       "  </thead>\n",
       "  <tbody>\n",
       "    <tr>\n",
       "      <th>68</th>\n",
       "      <td>-0.000290</td>\n",
       "      <td>0.000290</td>\n",
       "      <td>company_[sdn]</td>\n",
       "    </tr>\n",
       "    <tr>\n",
       "      <th>55</th>\n",
       "      <td>-0.000290</td>\n",
       "      <td>0.000290</td>\n",
       "      <td>company_[bhd]</td>\n",
       "    </tr>\n",
       "    <tr>\n",
       "      <th>69</th>\n",
       "      <td>-0.000290</td>\n",
       "      <td>0.000290</td>\n",
       "      <td>company_[sdn bhd]</td>\n",
       "    </tr>\n",
       "    <tr>\n",
       "      <th>63</th>\n",
       "      <td>0.000278</td>\n",
       "      <td>0.000278</td>\n",
       "      <td>company_[pte]</td>\n",
       "    </tr>\n",
       "    <tr>\n",
       "      <th>0</th>\n",
       "      <td>-0.000187</td>\n",
       "      <td>0.000187</td>\n",
       "      <td>summary_[analysis]</td>\n",
       "    </tr>\n",
       "    <tr>\n",
       "      <th>51</th>\n",
       "      <td>-0.000158</td>\n",
       "      <td>0.000158</td>\n",
       "      <td>company_[agensi pekerjaan]</td>\n",
       "    </tr>\n",
       "    <tr>\n",
       "      <th>62</th>\n",
       "      <td>-0.000158</td>\n",
       "      <td>0.000158</td>\n",
       "      <td>company_[pekerjaan]</td>\n",
       "    </tr>\n",
       "    <tr>\n",
       "      <th>50</th>\n",
       "      <td>-0.000158</td>\n",
       "      <td>0.000158</td>\n",
       "      <td>company_[agensi]</td>\n",
       "    </tr>\n",
       "    <tr>\n",
       "      <th>4</th>\n",
       "      <td>-0.000152</td>\n",
       "      <td>0.000152</td>\n",
       "      <td>summary_[data analysis]</td>\n",
       "    </tr>\n",
       "    <tr>\n",
       "      <th>71</th>\n",
       "      <td>0.000147</td>\n",
       "      <td>0.000147</td>\n",
       "      <td>company_[singapore]</td>\n",
       "    </tr>\n",
       "  </tbody>\n",
       "</table>\n",
       "</div>"
      ],
      "text/plain": [
       "        coef       mag                        pred\n",
       "68 -0.000290  0.000290               company_[sdn]\n",
       "55 -0.000290  0.000290               company_[bhd]\n",
       "69 -0.000290  0.000290           company_[sdn bhd]\n",
       "63  0.000278  0.000278               company_[pte]\n",
       "0  -0.000187  0.000187          summary_[analysis]\n",
       "51 -0.000158  0.000158  company_[agensi pekerjaan]\n",
       "62 -0.000158  0.000158         company_[pekerjaan]\n",
       "50 -0.000158  0.000158            company_[agensi]\n",
       "4  -0.000152  0.000152     summary_[data analysis]\n",
       "71  0.000147  0.000147         company_[singapore]"
      ]
     },
     "execution_count": 40,
     "metadata": {},
     "output_type": "execute_result"
    }
   ],
   "source": [
    "coef = lr_grid_search.best_estimator_.coef_\n",
    "lr_coef = pd.DataFrame({'coef':coef.ravel(),\n",
    "                    'mag':np.abs(coef.ravel()),\n",
    "                    'pred':X_test_ss.columns})\n",
    "\n",
    "lr_coef.sort_values('mag', ascending=False, inplace=True)\n",
    "lr_coef.head(10)"
   ]
  },
  {
   "cell_type": "code",
   "execution_count": 41,
   "metadata": {},
   "outputs": [
    {
     "name": "stdout",
     "output_type": "stream",
     "text": [
      "             precision    recall  f1-score   support\n",
      "\n",
      "high salary       0.48      0.93      0.63        27\n",
      " low salary       0.80      0.23      0.36        35\n",
      "\n",
      "avg / total       0.66      0.53      0.48        62\n",
      "\n"
     ]
    }
   ],
   "source": [
    "pred = dtc_best.predict(X_test_ss)\n",
    "print(classification_report(y_test, pred, labels=[1,0], target_names=['high salary','low salary']))"
   ]
  },
  {
   "cell_type": "code",
   "execution_count": 42,
   "metadata": {
    "collapsed": true
   },
   "outputs": [],
   "source": [
    "# Decision Tree has a better score than log reg\n",
    "# Will take Decision Tree as model to evaluate factors that impact salary"
   ]
  },
  {
   "cell_type": "code",
   "execution_count": 43,
   "metadata": {},
   "outputs": [
    {
     "name": "stdout",
     "output_type": "stream",
     "text": [
      "<class 'pandas.core.frame.DataFrame'>\n",
      "Int64Index: 3347 entries, 0 to 5814\n",
      "Data columns (total 5 columns):\n",
      "job_category    3347 non-null object\n",
      "job_title       3347 non-null object\n",
      "company_name    3347 non-null object\n",
      "summary         3347 non-null object\n",
      "salary          0 non-null object\n",
      "dtypes: object(5)\n",
      "memory usage: 156.9+ KB\n"
     ]
    }
   ],
   "source": [
    "# Use decision tree to predict the rest of the dataset\n",
    "df1_unsalaried.info()"
   ]
  },
  {
   "cell_type": "code",
   "execution_count": 44,
   "metadata": {
    "collapsed": true
   },
   "outputs": [],
   "source": [
    "# Get TFIDF for job title\n",
    "job_title_tvec_unsal = TfidfVectorizer(ngram_range=(1,3), stop_words='english', min_df=2, max_df=0.5, max_features=25)\n",
    "job_title_tvec_unsal.fit(df1_unsalaried.job_title)\n",
    "job_title_tvec_unsal_df = pd.DataFrame(job_title_tvec_unsal.transform(df1_unsalaried.job_title).todense(),\n",
    "                       columns=['title_[' + f + ']' for f in job_title_tvec_unsal.get_feature_names()])"
   ]
  },
  {
   "cell_type": "code",
   "execution_count": 45,
   "metadata": {
    "collapsed": true
   },
   "outputs": [],
   "source": [
    "# Get TFIDF for job summary\n",
    "job_summary_tvec_unsal = TfidfVectorizer(ngram_range=(1,3), stop_words='english', min_df=2, max_df=0.5, max_features=25)\n",
    "job_summary_tvec_unsal.fit(df1_unsalaried.summary)\n",
    "job_summary_tvec_unsal_df = pd.DataFrame(job_summary_tvec_unsal.transform(df1_unsalaried.summary).todense(),\n",
    "                       columns=['summary_[' + f + ']' for f in job_summary_tvec_unsal.get_feature_names()])"
   ]
  },
  {
   "cell_type": "code",
   "execution_count": 46,
   "metadata": {
    "collapsed": true
   },
   "outputs": [],
   "source": [
    "# Get TFIDF for company name\n",
    "job_company_tvec_unsal = TfidfVectorizer(ngram_range=(1,3), stop_words='english', min_df=2, max_df=0.5, max_features=25)\n",
    "job_company_tvec_unsal.fit(df1_unsalaried.company_name)\n",
    "job_company_tvec_unsal_df = pd.DataFrame(job_company_tvec_unsal.transform(df1_unsalaried.company_name).todense(),\n",
    "                       columns=['company_[' + f + ']' for f in job_company_tvec_unsal.get_feature_names()])"
   ]
  },
  {
   "cell_type": "code",
   "execution_count": 47,
   "metadata": {
    "collapsed": true
   },
   "outputs": [],
   "source": [
    "X_without_sal = pd.concat([job_summary_tvec_unsal_df,job_title_tvec_unsal_df,job_company_tvec_unsal_df], axis=1)"
   ]
  },
  {
   "cell_type": "code",
   "execution_count": 48,
   "metadata": {
    "collapsed": true
   },
   "outputs": [],
   "source": [
    "# Standardize predictors\n",
    "X_without_sal_ss = StandardScaler().fit_transform(X_without_sal)"
   ]
  },
  {
   "cell_type": "code",
   "execution_count": 49,
   "metadata": {
    "collapsed": true
   },
   "outputs": [],
   "source": [
    "X_without_sal_ss = pd.DataFrame(X_without_sal_ss, columns=X_without_sal.columns)"
   ]
  },
  {
   "cell_type": "code",
   "execution_count": 50,
   "metadata": {
    "scrolled": false
   },
   "outputs": [
    {
     "name": "stderr",
     "output_type": "stream",
     "text": [
      "/Users/david.yan/anaconda/lib/python3.6/site-packages/pandas/core/generic.py:3110: SettingWithCopyWarning: \n",
      "A value is trying to be set on a copy of a slice from a DataFrame.\n",
      "Try using .loc[row_indexer,col_indexer] = value instead\n",
      "\n",
      "See the caveats in the documentation: http://pandas.pydata.org/pandas-docs/stable/indexing.html#indexing-view-versus-copy\n",
      "  self[name] = value\n",
      "/Users/david.yan/anaconda/lib/python3.6/site-packages/pandas/core/frame.py:2746: SettingWithCopyWarning: \n",
      "A value is trying to be set on a copy of a slice from a DataFrame\n",
      "\n",
      "See the caveats in the documentation: http://pandas.pydata.org/pandas-docs/stable/indexing.html#indexing-view-versus-copy\n",
      "  **kwargs)\n"
     ]
    }
   ],
   "source": [
    "pred = dtc_best.predict(X_without_sal_ss)\n",
    "df1_unsalaried.salary = pred\n",
    "df1_unsalaried.rename(index=str, columns={\"salary\": \"salary_high_tier\"}, inplace=True)"
   ]
  },
  {
   "cell_type": "code",
   "execution_count": 51,
   "metadata": {
    "collapsed": true
   },
   "outputs": [],
   "source": [
    "# Merge predicted with original\n",
    "final_df = pd.concat([df1_unsalaried, df1_salaried_mod], axis=0, ignore_index=True)"
   ]
  },
  {
   "cell_type": "code",
   "execution_count": 52,
   "metadata": {
    "collapsed": true
   },
   "outputs": [],
   "source": [
    "# Get TFIDF for job title\n",
    "job_title_tvec_final = TfidfVectorizer(ngram_range=(1,3), stop_words='english', min_df=2, max_df=0.5, max_features=25)\n",
    "job_title_tvec_final.fit(final_df.job_title)\n",
    "job_title_tvec_final_df = pd.DataFrame(job_title_tvec_final.transform(final_df.job_title).todense(),\n",
    "                       columns=['title_[' + f + ']' for f in job_title_tvec_final.get_feature_names()])"
   ]
  },
  {
   "cell_type": "code",
   "execution_count": 53,
   "metadata": {
    "collapsed": true
   },
   "outputs": [],
   "source": [
    "# Get TFIDF for job summary\n",
    "job_summary_tvec_final = TfidfVectorizer(ngram_range=(1,3), stop_words='english', min_df=2, max_df=0.5, max_features=25)\n",
    "job_summary_tvec_final.fit(final_df.summary)\n",
    "job_summary_tvec_final_df = pd.DataFrame(job_summary_tvec_final.transform(final_df.summary).todense(),\n",
    "                       columns=['summary_[' + f + ']' for f in job_summary_tvec_final.get_feature_names()])"
   ]
  },
  {
   "cell_type": "code",
   "execution_count": 54,
   "metadata": {
    "collapsed": true
   },
   "outputs": [],
   "source": [
    "# Get TFIDF for company name\n",
    "job_company_tvec_final = TfidfVectorizer(ngram_range=(1,3), stop_words='english', min_df=2, max_df=0.5, max_features=25)\n",
    "job_company_tvec_final.fit(final_df.company_name)\n",
    "job_company_tvec_final_df = pd.DataFrame(job_company_tvec_final.transform(final_df.company_name).todense(),\n",
    "                       columns=['company_[' + f + ']' for f in job_company_tvec_final.get_feature_names()])"
   ]
  },
  {
   "cell_type": "code",
   "execution_count": 55,
   "metadata": {
    "collapsed": true
   },
   "outputs": [],
   "source": [
    "X = pd.concat([job_title_tvec_final_df, job_summary_tvec_final_df, job_company_tvec_final_df], axis=1)\n",
    "y = final_df.salary_high_tier"
   ]
  },
  {
   "cell_type": "code",
   "execution_count": 56,
   "metadata": {
    "collapsed": true
   },
   "outputs": [],
   "source": [
    "# Standardize predictors\n",
    "Xs = StandardScaler().fit_transform(X)\n",
    "Xs = pd.DataFrame(Xs, columns=X.columns)"
   ]
  },
  {
   "cell_type": "code",
   "execution_count": 57,
   "metadata": {
    "collapsed": true
   },
   "outputs": [],
   "source": [
    "X_train, X_test, y_train, y_test = train_test_split(Xs, y, test_size=0.33, random_state=42)"
   ]
  },
  {
   "cell_type": "code",
   "execution_count": 58,
   "metadata": {},
   "outputs": [
    {
     "name": "stdout",
     "output_type": "stream",
     "text": [
      "GRID SEARCH:\n",
      "Best parameters set:\n",
      "\tC: 0.061359072734131694\n",
      "\tpenalty: 'l1'\n",
      "\tsolver: 'liblinear'\n"
     ]
    }
   ],
   "source": [
    "# Gridsearch for Ridge and Lasso Logistic Regression, optimize C\n",
    "\n",
    "parameters = {\n",
    "    'penalty':['l1','l2'],\n",
    "    'solver':['liblinear'],\n",
    "    'C':np.logspace(-5,0,100)\n",
    "}\n",
    "\n",
    "print (\"GRID SEARCH:\")\n",
    "lr_grid_search = GridSearchCV(LogisticRegression(), parameters, cv=10, verbose=0)\n",
    "lr_grid_search.fit(X_train, y_train)\n",
    "print (\"Best parameters set:\")\n",
    "lr_best_parameters = lr_grid_search.best_estimator_.get_params()\n",
    "for param_name in sorted(parameters.keys()):\n",
    "    print (\"\\t%s: %r\" % (param_name, lr_best_parameters[param_name]))"
   ]
  },
  {
   "cell_type": "code",
   "execution_count": 59,
   "metadata": {},
   "outputs": [
    {
     "name": "stdout",
     "output_type": "stream",
     "text": [
      "Logistic Regression with best param:\n",
      "             precision    recall  f1-score   support\n",
      "\n",
      "high salary       0.97      0.99      0.98      1002\n",
      " low salary       0.92      0.85      0.88       171\n",
      "\n",
      "avg / total       0.97      0.97      0.97      1173\n",
      "\n"
     ]
    }
   ],
   "source": [
    "print(\"Logistic Regression with best param:\")\n",
    "clf = LogisticRegression(**lr_best_parameters)\n",
    "clf.fit(X_train, y_train)\n",
    "lr_gs_pred = clf.predict(X_test)\n",
    "print(metrics.classification_report(y_test, lr_gs_pred, labels=[1,0], target_names=['high salary','low salary']))"
   ]
  },
  {
   "cell_type": "code",
   "execution_count": 60,
   "metadata": {
    "collapsed": true
   },
   "outputs": [],
   "source": [
    "# Gridsearch params for decision tree classifier\n",
    "dtc_params = {\n",
    "    'max_depth':[None,1,2,3,4],\n",
    "    'max_features':[None,'log2','sqrt',2,3,4,5],\n",
    "    'min_samples_split':[2,3,4,5,10,15,20,25,30,40,50]\n",
    "}\n",
    "\n",
    "# set the gridsearch\n",
    "dtc_gs = GridSearchCV(DecisionTreeClassifier(), dtc_params, cv=5, verbose=1)"
   ]
  },
  {
   "cell_type": "code",
   "execution_count": 61,
   "metadata": {},
   "outputs": [
    {
     "name": "stdout",
     "output_type": "stream",
     "text": [
      "Fitting 5 folds for each of 385 candidates, totalling 1925 fits\n"
     ]
    },
    {
     "name": "stderr",
     "output_type": "stream",
     "text": [
      "[Parallel(n_jobs=1)]: Done 1925 out of 1925 | elapsed:    9.0s finished\n"
     ]
    },
    {
     "data": {
      "text/plain": [
       "GridSearchCV(cv=5, error_score='raise',\n",
       "       estimator=DecisionTreeClassifier(class_weight=None, criterion='gini', max_depth=None,\n",
       "            max_features=None, max_leaf_nodes=None,\n",
       "            min_impurity_decrease=0.0, min_impurity_split=None,\n",
       "            min_samples_leaf=1, min_samples_split=2,\n",
       "            min_weight_fraction_leaf=0.0, presort=False, random_state=None,\n",
       "            splitter='best'),\n",
       "       fit_params=None, iid=True, n_jobs=1,\n",
       "       param_grid={'max_depth': [None, 1, 2, 3, 4], 'max_features': [None, 'log2', 'sqrt', 2, 3, 4, 5], 'min_samples_split': [2, 3, 4, 5, 10, 15, 20, 25, 30, 40, 50]},\n",
       "       pre_dispatch='2*n_jobs', refit=True, return_train_score='warn',\n",
       "       scoring=None, verbose=1)"
      ]
     },
     "execution_count": 61,
     "metadata": {},
     "output_type": "execute_result"
    }
   ],
   "source": [
    "# use the gridsearch C model to fit the data\n",
    "dtc_gs.fit(X_train, y_train)"
   ]
  },
  {
   "cell_type": "code",
   "execution_count": 62,
   "metadata": {},
   "outputs": [
    {
     "name": "stdout",
     "output_type": "stream",
     "text": [
      "{'max_depth': 3, 'max_features': None, 'min_samples_split': 10}\n",
      "0.963025210084\n"
     ]
    }
   ],
   "source": [
    "# Best Estimator\n",
    "dtc_best = dtc_gs.best_estimator_\n",
    "print(dtc_gs.best_params_)\n",
    "print(dtc_gs.best_score_)"
   ]
  },
  {
   "cell_type": "code",
   "execution_count": 63,
   "metadata": {},
   "outputs": [
    {
     "name": "stdout",
     "output_type": "stream",
     "text": [
      "             precision    recall  f1-score   support\n",
      "\n",
      "high salary       0.97      0.99      0.98      1002\n",
      " low salary       0.96      0.84      0.90       171\n",
      "\n",
      "avg / total       0.97      0.97      0.97      1173\n",
      "\n"
     ]
    }
   ],
   "source": [
    "pred = dtc_best.predict(X_test)\n",
    "print(classification_report(y_test, pred, labels=[1,0], target_names=['high salary','low salary']))"
   ]
  },
  {
   "cell_type": "code",
   "execution_count": 64,
   "metadata": {},
   "outputs": [
    {
     "data": {
      "text/html": [
       "<div>\n",
       "<style>\n",
       "    .dataframe thead tr:only-child th {\n",
       "        text-align: right;\n",
       "    }\n",
       "\n",
       "    .dataframe thead th {\n",
       "        text-align: left;\n",
       "    }\n",
       "\n",
       "    .dataframe tbody tr th {\n",
       "        vertical-align: top;\n",
       "    }\n",
       "</style>\n",
       "<table border=\"1\" class=\"dataframe\">\n",
       "  <thead>\n",
       "    <tr style=\"text-align: right;\">\n",
       "      <th></th>\n",
       "      <th>feature</th>\n",
       "      <th>importance</th>\n",
       "    </tr>\n",
       "  </thead>\n",
       "  <tbody>\n",
       "    <tr>\n",
       "      <th>25</th>\n",
       "      <td>summary_[analysis]</td>\n",
       "      <td>0.765275</td>\n",
       "    </tr>\n",
       "    <tr>\n",
       "      <th>66</th>\n",
       "      <td>company_[sg]</td>\n",
       "      <td>0.106094</td>\n",
       "    </tr>\n",
       "    <tr>\n",
       "      <th>53</th>\n",
       "      <td>company_[citi]</td>\n",
       "      <td>0.105534</td>\n",
       "    </tr>\n",
       "    <tr>\n",
       "      <th>63</th>\n",
       "      <td>company_[sdn]</td>\n",
       "      <td>0.019874</td>\n",
       "    </tr>\n",
       "    <tr>\n",
       "      <th>37</th>\n",
       "      <td>summary_[knowledge]</td>\n",
       "      <td>0.003223</td>\n",
       "    </tr>\n",
       "    <tr>\n",
       "      <th>48</th>\n",
       "      <td>summary_[working]</td>\n",
       "      <td>0.000000</td>\n",
       "    </tr>\n",
       "    <tr>\n",
       "      <th>52</th>\n",
       "      <td>company_[bhd]</td>\n",
       "      <td>0.000000</td>\n",
       "    </tr>\n",
       "    <tr>\n",
       "      <th>51</th>\n",
       "      <td>company_[bank]</td>\n",
       "      <td>0.000000</td>\n",
       "    </tr>\n",
       "    <tr>\n",
       "      <th>50</th>\n",
       "      <td>company_[asia]</td>\n",
       "      <td>0.000000</td>\n",
       "    </tr>\n",
       "    <tr>\n",
       "      <th>49</th>\n",
       "      <td>summary_[years]</td>\n",
       "      <td>0.000000</td>\n",
       "    </tr>\n",
       "  </tbody>\n",
       "</table>\n",
       "</div>"
      ],
      "text/plain": [
       "                feature  importance\n",
       "25   summary_[analysis]    0.765275\n",
       "66         company_[sg]    0.106094\n",
       "53       company_[citi]    0.105534\n",
       "63        company_[sdn]    0.019874\n",
       "37  summary_[knowledge]    0.003223\n",
       "48    summary_[working]    0.000000\n",
       "52        company_[bhd]    0.000000\n",
       "51       company_[bank]    0.000000\n",
       "50       company_[asia]    0.000000\n",
       "49      summary_[years]    0.000000"
      ]
     },
     "execution_count": 64,
     "metadata": {},
     "output_type": "execute_result"
    }
   ],
   "source": [
    "fi = pd.DataFrame({\n",
    "        'feature':X_train.columns,\n",
    "        'importance':dtc_best.feature_importances_\n",
    "    })\n",
    "\n",
    "fi.sort_values('importance', ascending=False, inplace=True)\n",
    "fi.head(10)"
   ]
  },
  {
   "cell_type": "code",
   "execution_count": 65,
   "metadata": {},
   "outputs": [
    {
     "data": {
      "text/html": [
       "<div>\n",
       "<style>\n",
       "    .dataframe thead tr:only-child th {\n",
       "        text-align: right;\n",
       "    }\n",
       "\n",
       "    .dataframe thead th {\n",
       "        text-align: left;\n",
       "    }\n",
       "\n",
       "    .dataframe tbody tr th {\n",
       "        vertical-align: top;\n",
       "    }\n",
       "</style>\n",
       "<table border=\"1\" class=\"dataframe\">\n",
       "  <thead>\n",
       "    <tr style=\"text-align: right;\">\n",
       "      <th></th>\n",
       "      <th>coef</th>\n",
       "      <th>mag</th>\n",
       "      <th>pred</th>\n",
       "    </tr>\n",
       "  </thead>\n",
       "  <tbody>\n",
       "    <tr>\n",
       "      <th>25</th>\n",
       "      <td>-1.871381</td>\n",
       "      <td>1.871381</td>\n",
       "      <td>summary_[analysis]</td>\n",
       "    </tr>\n",
       "    <tr>\n",
       "      <th>53</th>\n",
       "      <td>-0.754058</td>\n",
       "      <td>0.754058</td>\n",
       "      <td>company_[citi]</td>\n",
       "    </tr>\n",
       "    <tr>\n",
       "      <th>66</th>\n",
       "      <td>-0.712999</td>\n",
       "      <td>0.712999</td>\n",
       "      <td>company_[sg]</td>\n",
       "    </tr>\n",
       "    <tr>\n",
       "      <th>64</th>\n",
       "      <td>-0.339217</td>\n",
       "      <td>0.339217</td>\n",
       "      <td>company_[sdn bhd]</td>\n",
       "    </tr>\n",
       "    <tr>\n",
       "      <th>30</th>\n",
       "      <td>0.123860</td>\n",
       "      <td>0.123860</td>\n",
       "      <td>summary_[business]</td>\n",
       "    </tr>\n",
       "    <tr>\n",
       "      <th>42</th>\n",
       "      <td>-0.089128</td>\n",
       "      <td>0.089128</td>\n",
       "      <td>summary_[responsible]</td>\n",
       "    </tr>\n",
       "    <tr>\n",
       "      <th>28</th>\n",
       "      <td>0.071538</td>\n",
       "      <td>0.071538</td>\n",
       "      <td>summary_[big]</td>\n",
       "    </tr>\n",
       "    <tr>\n",
       "      <th>13</th>\n",
       "      <td>0.059183</td>\n",
       "      <td>0.059183</td>\n",
       "      <td>title_[manager]</td>\n",
       "    </tr>\n",
       "    <tr>\n",
       "      <th>31</th>\n",
       "      <td>-0.044161</td>\n",
       "      <td>0.044161</td>\n",
       "      <td>summary_[data analysis]</td>\n",
       "    </tr>\n",
       "    <tr>\n",
       "      <th>62</th>\n",
       "      <td>0.017321</td>\n",
       "      <td>0.017321</td>\n",
       "      <td>company_[pte]</td>\n",
       "    </tr>\n",
       "  </tbody>\n",
       "</table>\n",
       "</div>"
      ],
      "text/plain": [
       "        coef       mag                     pred\n",
       "25 -1.871381  1.871381       summary_[analysis]\n",
       "53 -0.754058  0.754058           company_[citi]\n",
       "66 -0.712999  0.712999             company_[sg]\n",
       "64 -0.339217  0.339217        company_[sdn bhd]\n",
       "30  0.123860  0.123860       summary_[business]\n",
       "42 -0.089128  0.089128    summary_[responsible]\n",
       "28  0.071538  0.071538            summary_[big]\n",
       "13  0.059183  0.059183          title_[manager]\n",
       "31 -0.044161  0.044161  summary_[data analysis]\n",
       "62  0.017321  0.017321            company_[pte]"
      ]
     },
     "execution_count": 65,
     "metadata": {},
     "output_type": "execute_result"
    }
   ],
   "source": [
    "lr_coef = pd.DataFrame({'coef':clf.coef_.ravel(),\n",
    "                    'mag':np.abs(clf.coef_.ravel()),\n",
    "                    'pred':X_test.columns})\n",
    "\n",
    "lr_coef.sort_values('mag', ascending=False, inplace=True)\n",
    "lr_coef.head(10)"
   ]
  },
  {
   "cell_type": "code",
   "execution_count": 66,
   "metadata": {
    "collapsed": true
   },
   "outputs": [],
   "source": [
    "# Top Factors that affect high salary vs low salary are mostly the same\n",
    "# Decision Tree is the better model"
   ]
  },
  {
   "cell_type": "code",
   "execution_count": 68,
   "metadata": {
    "collapsed": true,
    "scrolled": false
   },
   "outputs": [],
   "source": [
    "# pickle final_df for question 2\n",
    "final_df.to_pickle('sg_my_indeed_data_salaried_jobs')"
   ]
  },
  {
   "cell_type": "code",
   "execution_count": null,
   "metadata": {
    "collapsed": true
   },
   "outputs": [],
   "source": []
  }
 ],
 "metadata": {
  "kernelspec": {
   "display_name": "Python 3",
   "language": "python",
   "name": "python3"
  },
  "language_info": {
   "codemirror_mode": {
    "name": "ipython",
    "version": 3
   },
   "file_extension": ".py",
   "mimetype": "text/x-python",
   "name": "python",
   "nbconvert_exporter": "python",
   "pygments_lexer": "ipython3",
   "version": "3.6.3"
  }
 },
 "nbformat": 4,
 "nbformat_minor": 2
}
