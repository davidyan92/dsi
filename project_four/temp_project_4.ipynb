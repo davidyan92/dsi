{
 "cells": [
  {
   "cell_type": "code",
   "execution_count": 2,
   "metadata": {
    "collapsed": true
   },
   "outputs": [],
   "source": [
    "from string import digits\n",
    "import requests\n",
    "import bs4\n",
    "from bs4 import BeautifulSoup\n",
    "import pandas as pd\n",
    "import time\n",
    "import regex as re\n",
    "import numpy as np\n",
    "import pandas as pd\n",
    "import matplotlib.pyplot as plt\n",
    "import seaborn as sns\n",
    "import pickle\n",
    "\n",
    "sns.set_style('whitegrid')\n",
    "\n",
    "%config InlineBackend.figure_format = 'retina'\n",
    "%matplotlib inline"
   ]
  },
  {
   "cell_type": "code",
   "execution_count": 16,
   "metadata": {},
   "outputs": [
    {
     "name": "stdout",
     "output_type": "stream",
     "text": [
      "<class 'pandas.core.frame.DataFrame'>\n",
      "Int64Index: 3016 entries, 0 to 3699\n",
      "Data columns (total 6 columns):\n",
      "job_category    3016 non-null object\n",
      "job_title       3016 non-null object\n",
      "company_name    3016 non-null object\n",
      "location        3016 non-null object\n",
      "summary         3016 non-null object\n",
      "salary          124 non-null object\n",
      "dtypes: object(6)\n",
      "memory usage: 164.9+ KB\n"
     ]
    }
   ],
   "source": [
    "df1 = pd.read_pickle('./indeed_data_related_jobs')\n",
    "df1.dropna(subset=['company_name', 'summary'], inplace=True)\n",
    "df1.info()"
   ]
  },
  {
   "cell_type": "code",
   "execution_count": 17,
   "metadata": {
    "collapsed": true
   },
   "outputs": [],
   "source": [
    "# convert all to small letters if string\n",
    "df1 = df1.applymap(lambda x: x.lower().strip() if isinstance(x, str) else x)\n",
    "# remove all non-alphabets\n",
    "df1.job_title = df1.job_title.map(lambda x: re.sub(r'[^A-Za-z\\s]','',x).strip())\n",
    "df1.location = df1.location.map(lambda x: re.sub(r'[^A-Za-z\\s]','',x).strip())\n",
    "df1.summary = df1.summary.map(lambda x: re.sub(r'[^A-Za-z\\s]','',x).strip())\n",
    "# remove business licence numbers\n",
    "df1.company_name = df1.company_name.map(lambda x: x[:x.index(', ea licence')] if x.find(', ea licence') != -1 else x)"
   ]
  },
  {
   "cell_type": "code",
   "execution_count": 49,
   "metadata": {},
   "outputs": [],
   "source": [
    "# Extract those with salary data\n",
    "df1_salaried = df1[~df1.salary.isnull()]\n",
    "df1_salaried.reset_index(drop=True, inplace=True)"
   ]
  },
  {
   "cell_type": "code",
   "execution_count": 50,
   "metadata": {},
   "outputs": [
    {
     "data": {
      "text/plain": [
       " a month    118\n",
       "0 a year      6\n",
       "Name: salary, dtype: int64"
      ]
     },
     "execution_count": 50,
     "metadata": {},
     "output_type": "execute_result"
    }
   ],
   "source": [
    "# Salary only comes in monthly and yearly format\n",
    "df1_salaried.salary.map(lambda x: x[-8:]).value_counts()"
   ]
  },
  {
   "cell_type": "code",
   "execution_count": 54,
   "metadata": {
    "scrolled": true
   },
   "outputs": [
    {
     "data": {
      "text/plain": [
       "0         $5,000 - $8,500 a month\n",
       "1        $36,000 - $72,000 a year\n",
       "2         $2,500 - $4,000 a month\n",
       "3        $5,000 - $14,000 a month\n",
       "4                  $4,300 a month\n",
       "5         $3,000 - $5,000 a month\n",
       "6         $3,600 - $4,000 a month\n",
       "7         $4,000 - $7,000 a month\n",
       "8         $1,300 - $1,600 a month\n",
       "9                  $3,500 a month\n",
       "10        $4,000 - $6,000 a month\n",
       "11        $3,800 - $4,200 a month\n",
       "12        $4,500 - $5,500 a month\n",
       "13        $5,000 - $6,500 a month\n",
       "14        $4,700 - $5,000 a month\n",
       "15        $2,400 - $3,000 a month\n",
       "16                 $4,500 a month\n",
       "17        $2,500 - $4,200 a month\n",
       "18        $2,200 - $3,000 a month\n",
       "19        $1,800 - $2,600 a month\n",
       "20        $4,000 - $6,000 a month\n",
       "21        $5,000 - $8,000 a month\n",
       "22        $4,800 - $7,000 a month\n",
       "23     $100,000 - $125,000 a year\n",
       "24       $21,000 - $50,000 a year\n",
       "25        $2,000 - $3,000 a month\n",
       "26       $4,600 - $12,600 a month\n",
       "27        $3,000 - $6,000 a month\n",
       "28        $2,500 - $4,000 a month\n",
       "29        $3,500 - $4,500 a month\n",
       "                  ...            \n",
       "94        $4,500 - $6,500 a month\n",
       "95        $3,000 - $4,000 a month\n",
       "96                 $5,000 a month\n",
       "97                 $7,500 a month\n",
       "98                 $4,300 a month\n",
       "99        $4,700 - $5,000 a month\n",
       "100       $3,000 - $5,000 a month\n",
       "101                $4,000 a month\n",
       "102       $4,500 - $5,500 a month\n",
       "103     $90,000 - $100,000 a year\n",
       "104       $2,200 - $3,000 a month\n",
       "105       $3,700 - $5,000 a month\n",
       "106                $1,600 a month\n",
       "107       $5,000 - $8,000 a month\n",
       "108       $5,000 - $6,500 a month\n",
       "109       $2,000 - $2,600 a month\n",
       "110      $36,000 - $72,000 a year\n",
       "111       $5,000 - $7,000 a month\n",
       "112       $5,500 - $7,500 a month\n",
       "113       $2,500 - $3,500 a month\n",
       "114     $10,000 - $12,000 a month\n",
       "115       $4,000 - $5,000 a month\n",
       "116      $7,000 - $11,000 a month\n",
       "117       $2,500 - $4,000 a month\n",
       "118       $4,000 - $5,000 a month\n",
       "119       $2,500 - $3,500 a month\n",
       "120       $3,000 - $3,500 a month\n",
       "121       $4,500 - $7,000 a month\n",
       "122       $3,700 - $4,700 a month\n",
       "123                $3,500 a month\n",
       "Name: salary, Length: 124, dtype: object"
      ]
     },
     "execution_count": 54,
     "metadata": {},
     "output_type": "execute_result"
    }
   ],
   "source": [
    "df1_salaried.salary"
   ]
  },
  {
   "cell_type": "code",
   "execution_count": 64,
   "metadata": {},
   "outputs": [],
   "source": [
    "# convert all salary into yearly format\n",
    "salary_range = df1_salaried.salary.map(lambda x: re.sub('[^0-9\\s]', '', ' '.join(re.findall(r'\\d+(?:[\\d,.]*\\d)', x))))\n",
    "salary_period = df1_salaried.salary.map(lambda x: x[x.find('month'):] if x.find('month') >= 0 else 'year')"
   ]
  },
  {
   "cell_type": "code",
   "execution_count": 70,
   "metadata": {},
   "outputs": [
    {
     "ename": "AttributeError",
     "evalue": "'list' object has no attribute 'mean'",
     "output_type": "error",
     "traceback": [
      "\u001b[0;31m---------------------------------------------------------------------------\u001b[0m",
      "\u001b[0;31mAttributeError\u001b[0m                            Traceback (most recent call last)",
      "\u001b[0;32m<ipython-input-70-31b1a536fa33>\u001b[0m in \u001b[0;36m<module>\u001b[0;34m()\u001b[0m\n\u001b[0;32m----> 1\u001b[0;31m \u001b[0msalary_range\u001b[0m\u001b[0;34m.\u001b[0m\u001b[0mmap\u001b[0m\u001b[0;34m(\u001b[0m\u001b[0;32mlambda\u001b[0m \u001b[0mx\u001b[0m\u001b[0;34m:\u001b[0m \u001b[0mx\u001b[0m\u001b[0;34m.\u001b[0m\u001b[0msplit\u001b[0m\u001b[0;34m(\u001b[0m\u001b[0;34m)\u001b[0m\u001b[0;34m.\u001b[0m\u001b[0mmean\u001b[0m\u001b[0;34m(\u001b[0m\u001b[0;34m)\u001b[0m\u001b[0;34m)\u001b[0m\u001b[0;34m\u001b[0m\u001b[0m\n\u001b[0m",
      "\u001b[0;32m~/anaconda/lib/python3.6/site-packages/pandas/core/series.py\u001b[0m in \u001b[0;36mmap\u001b[0;34m(self, arg, na_action)\u001b[0m\n\u001b[1;32m   2156\u001b[0m         \u001b[0;32melse\u001b[0m\u001b[0;34m:\u001b[0m\u001b[0;34m\u001b[0m\u001b[0m\n\u001b[1;32m   2157\u001b[0m             \u001b[0;31m# arg is a function\u001b[0m\u001b[0;34m\u001b[0m\u001b[0;34m\u001b[0m\u001b[0m\n\u001b[0;32m-> 2158\u001b[0;31m             \u001b[0mnew_values\u001b[0m \u001b[0;34m=\u001b[0m \u001b[0mmap_f\u001b[0m\u001b[0;34m(\u001b[0m\u001b[0mvalues\u001b[0m\u001b[0;34m,\u001b[0m \u001b[0marg\u001b[0m\u001b[0;34m)\u001b[0m\u001b[0;34m\u001b[0m\u001b[0m\n\u001b[0m\u001b[1;32m   2159\u001b[0m \u001b[0;34m\u001b[0m\u001b[0m\n\u001b[1;32m   2160\u001b[0m         return self._constructor(new_values,\n",
      "\u001b[0;32mpandas/_libs/src/inference.pyx\u001b[0m in \u001b[0;36mpandas._libs.lib.map_infer (pandas/_libs/lib.c:66645)\u001b[0;34m()\u001b[0m\n",
      "\u001b[0;32m<ipython-input-70-31b1a536fa33>\u001b[0m in \u001b[0;36m<lambda>\u001b[0;34m(x)\u001b[0m\n\u001b[0;32m----> 1\u001b[0;31m \u001b[0msalary_range\u001b[0m\u001b[0;34m.\u001b[0m\u001b[0mmap\u001b[0m\u001b[0;34m(\u001b[0m\u001b[0;32mlambda\u001b[0m \u001b[0mx\u001b[0m\u001b[0;34m:\u001b[0m \u001b[0mx\u001b[0m\u001b[0;34m.\u001b[0m\u001b[0msplit\u001b[0m\u001b[0;34m(\u001b[0m\u001b[0;34m)\u001b[0m\u001b[0;34m.\u001b[0m\u001b[0mmean\u001b[0m\u001b[0;34m(\u001b[0m\u001b[0;34m)\u001b[0m\u001b[0;34m)\u001b[0m\u001b[0;34m\u001b[0m\u001b[0m\n\u001b[0m",
      "\u001b[0;31mAttributeError\u001b[0m: 'list' object has no attribute 'mean'"
     ]
    }
   ],
   "source": [
    "salary_range.map(lambda x: x.split())"
   ]
  },
  {
   "cell_type": "code",
   "execution_count": null,
   "metadata": {},
   "outputs": [],
   "source": []
  },
  {
   "cell_type": "code",
   "execution_count": null,
   "metadata": {
    "collapsed": true
   },
   "outputs": [],
   "source": []
  }
 ],
 "metadata": {
  "kernelspec": {
   "display_name": "Python 3",
   "language": "python",
   "name": "python3"
  },
  "language_info": {
   "codemirror_mode": {
    "name": "ipython",
    "version": 3
   },
   "file_extension": ".py",
   "mimetype": "text/x-python",
   "name": "python",
   "nbconvert_exporter": "python",
   "pygments_lexer": "ipython3",
   "version": "3.6.3"
  }
 },
 "nbformat": 4,
 "nbformat_minor": 2
}
