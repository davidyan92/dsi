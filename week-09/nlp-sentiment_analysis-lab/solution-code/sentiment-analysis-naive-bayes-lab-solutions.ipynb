{
 "cells": [
  {
   "cell_type": "markdown",
   "metadata": {},
   "source": [
    "<img src=\"http://imgur.com/1ZcRyrc.png\" style=\"float: left; margin: 20px; height: 55px\">\n",
    "\n",
    "# Sentiment Analysis and Naive Bayes\n",
    "\n",
    "_Authors: Kiefer Katovich (SF)_\n",
    "\n",
    "---\n",
    "\n",
    "In the sentiment analysis lesson we used a predefined dictionary of positive and negative valences for words. This  lab has invert the process: you'll find which words are most likely to appear in positive or negative reviews by using the rotten vs. fresh binary label.\n",
    "\n",
    "### Naive Bayes\n",
    "\n",
    "A practical and common way to do this is with the Naive Bayes algorithm. Naive Bayes classifiers are covered in more depth in another lecture – for this lab you'll just be leveraging the sklearn implementation.\n",
    "\n",
    "Given a feature $x_i$ and target $y_i$, Naive Bayes classifiers solve for $P(x_i \\;|\\; y_i)$. In other words, the probability of a feature/predictor _given_ that the target is 1.\n",
    "\n",
    "We'll use this to figure out which words are more likely to appear when the target is 1 (\"fresh\") vs when the target is 0 (\"rotten\")."
   ]
  },
  {
   "cell_type": "markdown",
   "metadata": {},
   "source": [
    "---\n",
    "\n",
    "### 1. Load packages and movie data\n",
    "\n",
    "Do any cleaning you deem necessary."
   ]
  },
  {
   "cell_type": "code",
   "execution_count": 2,
   "metadata": {
    "collapsed": false
   },
   "outputs": [],
   "source": [
    "import pandas as pd\n",
    "import numpy as np\n",
    "\n",
    "# We are using the BernoulliNB version of Naive Bayes, which assumes predictors are binary encoded.\n",
    "from sklearn.naive_bayes import BernoulliNB\n",
    "from sklearn.model_selection import cross_val_score, train_test_split\n",
    "\n",
    "from sklearn.feature_extraction.text import CountVectorizer"
   ]
  },
  {
   "cell_type": "code",
   "execution_count": 3,
   "metadata": {
    "collapsed": true
   },
   "outputs": [],
   "source": [
    "rt = pd.read_csv('./datasets/rt_critics.csv')\n",
    "\n",
    "rt = rt[rt.fresh.isin(['fresh','rotten'])]\n",
    "rt.fresh = rt.fresh.map(lambda x: 1 if x == 'fresh' else 0)"
   ]
  },
  {
   "cell_type": "code",
   "execution_count": 4,
   "metadata": {
    "collapsed": false
   },
   "outputs": [
    {
     "data": {
      "text/html": [
       "<div>\n",
       "<table border=\"1\" class=\"dataframe\">\n",
       "  <thead>\n",
       "    <tr style=\"text-align: right;\">\n",
       "      <th></th>\n",
       "      <th>critic</th>\n",
       "      <th>fresh</th>\n",
       "      <th>imdb</th>\n",
       "      <th>publication</th>\n",
       "      <th>quote</th>\n",
       "      <th>review_date</th>\n",
       "      <th>rtid</th>\n",
       "      <th>title</th>\n",
       "    </tr>\n",
       "  </thead>\n",
       "  <tbody>\n",
       "    <tr>\n",
       "      <th>0</th>\n",
       "      <td>Derek Adams</td>\n",
       "      <td>1</td>\n",
       "      <td>114709.0</td>\n",
       "      <td>Time Out</td>\n",
       "      <td>So ingenious in concept, design and execution ...</td>\n",
       "      <td>2009-10-04</td>\n",
       "      <td>9559.0</td>\n",
       "      <td>Toy story</td>\n",
       "    </tr>\n",
       "    <tr>\n",
       "      <th>1</th>\n",
       "      <td>Richard Corliss</td>\n",
       "      <td>1</td>\n",
       "      <td>114709.0</td>\n",
       "      <td>TIME Magazine</td>\n",
       "      <td>The year's most inventive comedy.</td>\n",
       "      <td>2008-08-31</td>\n",
       "      <td>9559.0</td>\n",
       "      <td>Toy story</td>\n",
       "    </tr>\n",
       "  </tbody>\n",
       "</table>\n",
       "</div>"
      ],
      "text/plain": [
       "            critic  fresh      imdb    publication  \\\n",
       "0      Derek Adams      1  114709.0       Time Out   \n",
       "1  Richard Corliss      1  114709.0  TIME Magazine   \n",
       "\n",
       "                                               quote review_date    rtid  \\\n",
       "0  So ingenious in concept, design and execution ...  2009-10-04  9559.0   \n",
       "1                  The year's most inventive comedy.  2008-08-31  9559.0   \n",
       "\n",
       "       title  \n",
       "0  Toy story  \n",
       "1  Toy story  "
      ]
     },
     "execution_count": 4,
     "metadata": {},
     "output_type": "execute_result"
    }
   ],
   "source": [
    "rt.head(2)"
   ]
  },
  {
   "cell_type": "markdown",
   "metadata": {},
   "source": [
    "---\n",
    "\n",
    "### 2. Create a predictor matrix of words from the quotes with CountVectorizer\n",
    "\n",
    "It is up to you what ngram range you want to select. **Make sure that `binary=True`**"
   ]
  },
  {
   "cell_type": "code",
   "execution_count": 5,
   "metadata": {
    "collapsed": true
   },
   "outputs": [],
   "source": [
    "cv = CountVectorizer(ngram_range=(1,2), max_features=2500, binary=True, stop_words='english')\n",
    "words = cv.fit_transform(rt.quote)"
   ]
  },
  {
   "cell_type": "code",
   "execution_count": 6,
   "metadata": {
    "collapsed": false
   },
   "outputs": [
    {
     "data": {
      "text/plain": [
       "(14049, 2500)"
      ]
     },
     "execution_count": 6,
     "metadata": {},
     "output_type": "execute_result"
    }
   ],
   "source": [
    "words.shape"
   ]
  },
  {
   "cell_type": "code",
   "execution_count": 7,
   "metadata": {
    "collapsed": false
   },
   "outputs": [],
   "source": [
    "words = pd.DataFrame(words.todense(), columns=cv.get_feature_names())"
   ]
  },
  {
   "cell_type": "code",
   "execution_count": 8,
   "metadata": {
    "collapsed": false
   },
   "outputs": [
    {
     "data": {
      "text/html": [
       "<div>\n",
       "<table border=\"1\" class=\"dataframe\">\n",
       "  <thead>\n",
       "    <tr style=\"text-align: right;\">\n",
       "      <th></th>\n",
       "      <th>10</th>\n",
       "      <th>100</th>\n",
       "      <th>13</th>\n",
       "      <th>1961</th>\n",
       "      <th>1998</th>\n",
       "      <th>20</th>\n",
       "      <th>2001</th>\n",
       "      <th>30</th>\n",
       "      <th>40</th>\n",
       "      <th>50s</th>\n",
       "      <th>...</th>\n",
       "      <th>year</th>\n",
       "      <th>year old</th>\n",
       "      <th>years</th>\n",
       "      <th>years ago</th>\n",
       "      <th>yes</th>\n",
       "      <th>york</th>\n",
       "      <th>young</th>\n",
       "      <th>younger</th>\n",
       "      <th>youth</th>\n",
       "      <th>zone</th>\n",
       "    </tr>\n",
       "  </thead>\n",
       "  <tbody>\n",
       "    <tr>\n",
       "      <th>0</th>\n",
       "      <td>0</td>\n",
       "      <td>0</td>\n",
       "      <td>0</td>\n",
       "      <td>0</td>\n",
       "      <td>0</td>\n",
       "      <td>0</td>\n",
       "      <td>0</td>\n",
       "      <td>0</td>\n",
       "      <td>0</td>\n",
       "      <td>0</td>\n",
       "      <td>...</td>\n",
       "      <td>0</td>\n",
       "      <td>0</td>\n",
       "      <td>0</td>\n",
       "      <td>0</td>\n",
       "      <td>0</td>\n",
       "      <td>0</td>\n",
       "      <td>0</td>\n",
       "      <td>0</td>\n",
       "      <td>0</td>\n",
       "      <td>0</td>\n",
       "    </tr>\n",
       "    <tr>\n",
       "      <th>1</th>\n",
       "      <td>0</td>\n",
       "      <td>0</td>\n",
       "      <td>0</td>\n",
       "      <td>0</td>\n",
       "      <td>0</td>\n",
       "      <td>0</td>\n",
       "      <td>0</td>\n",
       "      <td>0</td>\n",
       "      <td>0</td>\n",
       "      <td>0</td>\n",
       "      <td>...</td>\n",
       "      <td>1</td>\n",
       "      <td>0</td>\n",
       "      <td>0</td>\n",
       "      <td>0</td>\n",
       "      <td>0</td>\n",
       "      <td>0</td>\n",
       "      <td>0</td>\n",
       "      <td>0</td>\n",
       "      <td>0</td>\n",
       "      <td>0</td>\n",
       "    </tr>\n",
       "    <tr>\n",
       "      <th>2</th>\n",
       "      <td>0</td>\n",
       "      <td>0</td>\n",
       "      <td>0</td>\n",
       "      <td>0</td>\n",
       "      <td>0</td>\n",
       "      <td>0</td>\n",
       "      <td>0</td>\n",
       "      <td>0</td>\n",
       "      <td>0</td>\n",
       "      <td>0</td>\n",
       "      <td>...</td>\n",
       "      <td>0</td>\n",
       "      <td>0</td>\n",
       "      <td>0</td>\n",
       "      <td>0</td>\n",
       "      <td>0</td>\n",
       "      <td>0</td>\n",
       "      <td>0</td>\n",
       "      <td>0</td>\n",
       "      <td>0</td>\n",
       "      <td>0</td>\n",
       "    </tr>\n",
       "    <tr>\n",
       "      <th>3</th>\n",
       "      <td>0</td>\n",
       "      <td>0</td>\n",
       "      <td>0</td>\n",
       "      <td>0</td>\n",
       "      <td>0</td>\n",
       "      <td>0</td>\n",
       "      <td>0</td>\n",
       "      <td>0</td>\n",
       "      <td>0</td>\n",
       "      <td>0</td>\n",
       "      <td>...</td>\n",
       "      <td>0</td>\n",
       "      <td>0</td>\n",
       "      <td>0</td>\n",
       "      <td>0</td>\n",
       "      <td>0</td>\n",
       "      <td>0</td>\n",
       "      <td>0</td>\n",
       "      <td>0</td>\n",
       "      <td>0</td>\n",
       "      <td>0</td>\n",
       "    </tr>\n",
       "    <tr>\n",
       "      <th>4</th>\n",
       "      <td>0</td>\n",
       "      <td>0</td>\n",
       "      <td>0</td>\n",
       "      <td>0</td>\n",
       "      <td>0</td>\n",
       "      <td>0</td>\n",
       "      <td>0</td>\n",
       "      <td>0</td>\n",
       "      <td>0</td>\n",
       "      <td>0</td>\n",
       "      <td>...</td>\n",
       "      <td>0</td>\n",
       "      <td>0</td>\n",
       "      <td>0</td>\n",
       "      <td>0</td>\n",
       "      <td>0</td>\n",
       "      <td>0</td>\n",
       "      <td>0</td>\n",
       "      <td>0</td>\n",
       "      <td>0</td>\n",
       "      <td>0</td>\n",
       "    </tr>\n",
       "  </tbody>\n",
       "</table>\n",
       "<p>5 rows × 2500 columns</p>\n",
       "</div>"
      ],
      "text/plain": [
       "   10  100  13  1961  1998  20  2001  30  40  50s  ...   year  year old  \\\n",
       "0   0    0   0     0     0   0     0   0   0    0  ...      0         0   \n",
       "1   0    0   0     0     0   0     0   0   0    0  ...      1         0   \n",
       "2   0    0   0     0     0   0     0   0   0    0  ...      0         0   \n",
       "3   0    0   0     0     0   0     0   0   0    0  ...      0         0   \n",
       "4   0    0   0     0     0   0     0   0   0    0  ...      0         0   \n",
       "\n",
       "   years  years ago  yes  york  young  younger  youth  zone  \n",
       "0      0          0    0     0      0        0      0     0  \n",
       "1      0          0    0     0      0        0      0     0  \n",
       "2      0          0    0     0      0        0      0     0  \n",
       "3      0          0    0     0      0        0      0     0  \n",
       "4      0          0    0     0      0        0      0     0  \n",
       "\n",
       "[5 rows x 2500 columns]"
      ]
     },
     "execution_count": 8,
     "metadata": {},
     "output_type": "execute_result"
    }
   ],
   "source": [
    "words.head()"
   ]
  },
  {
   "cell_type": "code",
   "execution_count": 9,
   "metadata": {
    "collapsed": false
   },
   "outputs": [
    {
     "name": "stdout",
     "output_type": "stream",
     "text": [
      "(14049, 2500)\n"
     ]
    }
   ],
   "source": [
    "print words.shape"
   ]
  },
  {
   "cell_type": "markdown",
   "metadata": {},
   "source": [
    "---\n",
    "\n",
    "### 3. Split data into training and testing splits\n",
    "\n",
    "You should keep 25% of the data in the test set."
   ]
  },
  {
   "cell_type": "code",
   "execution_count": 10,
   "metadata": {
    "collapsed": false
   },
   "outputs": [],
   "source": [
    "Xtrain, Xtest, ytrain, ytest = train_test_split(words.values, rt.fresh.values, test_size=0.25)"
   ]
  },
  {
   "cell_type": "code",
   "execution_count": 11,
   "metadata": {
    "collapsed": false
   },
   "outputs": [
    {
     "name": "stdout",
     "output_type": "stream",
     "text": [
      "(10536, 2500) (3513, 2500)\n"
     ]
    }
   ],
   "source": [
    "print Xtrain.shape, Xtest.shape"
   ]
  },
  {
   "cell_type": "markdown",
   "metadata": {},
   "source": [
    "---\n",
    "\n",
    "### 4. Build a `BernoulliNB` model predicting fresh vs. rotten from the word appearances\n",
    "\n",
    "The model should only be built (and cross-validated) on the training data.\n",
    "\n",
    "Cross-validate the score and compare it to baseline."
   ]
  },
  {
   "cell_type": "code",
   "execution_count": 12,
   "metadata": {
    "collapsed": true
   },
   "outputs": [],
   "source": [
    "nb = BernoulliNB()"
   ]
  },
  {
   "cell_type": "code",
   "execution_count": 13,
   "metadata": {
    "collapsed": false
   },
   "outputs": [
    {
     "data": {
      "text/plain": [
       "BernoulliNB(alpha=1.0, binarize=0.0, class_prior=None, fit_prior=True)"
      ]
     },
     "execution_count": 13,
     "metadata": {},
     "output_type": "execute_result"
    }
   ],
   "source": [
    "nb.fit(Xtrain, ytrain)"
   ]
  },
  {
   "cell_type": "code",
   "execution_count": 14,
   "metadata": {
    "collapsed": false
   },
   "outputs": [
    {
     "name": "stdout",
     "output_type": "stream",
     "text": [
      "[ 0.74240987  0.7329222   0.73896535  0.73659231  0.72649573]\n",
      "0.735477091947\n",
      "0.615413819286\n"
     ]
    }
   ],
   "source": [
    "nb_scores = cross_val_score(BernoulliNB(), Xtrain, ytrain, cv=5)\n",
    "print nb_scores\n",
    "print np.mean(nb_scores)\n",
    "print np.mean(ytrain)"
   ]
  },
  {
   "cell_type": "markdown",
   "metadata": {},
   "source": [
    "---\n",
    "\n",
    "### 5. Pull out the probability of words given \"fresh\"\n",
    "\n",
    "The `.feature_log_prob_` attribute of the naive bayes model contains the log probabilities of a feature appearing given a target class.\n",
    "\n",
    "The rows correspond to the class of the target, and the columns correpsond to the features. The first row is the 0 \"rotten\" class, and the second is the 1 \"fresh\" class.\n",
    "\n",
    "#### 5.1 Pull out the log probabilities and convert them to probabilities (for fresh and for rotten)."
   ]
  },
  {
   "cell_type": "code",
   "execution_count": 15,
   "metadata": {
    "collapsed": true
   },
   "outputs": [],
   "source": [
    "feat_lp = nb.feature_log_prob_"
   ]
  },
  {
   "cell_type": "code",
   "execution_count": 16,
   "metadata": {
    "collapsed": false
   },
   "outputs": [],
   "source": [
    "fresh_p = np.exp(feat_lp[1])"
   ]
  },
  {
   "cell_type": "code",
   "execution_count": 17,
   "metadata": {
    "collapsed": true
   },
   "outputs": [],
   "source": [
    "rotten_p = np.exp(feat_lp[0])"
   ]
  },
  {
   "cell_type": "markdown",
   "metadata": {},
   "source": [
    "#### 5.2 Make a dataframe with the probabilities and features"
   ]
  },
  {
   "cell_type": "code",
   "execution_count": 18,
   "metadata": {
    "collapsed": true
   },
   "outputs": [],
   "source": [
    "feat_probs = pd.DataFrame({'fresh_p':fresh_p, 'rotten_p':rotten_p, 'feature':words.columns.values})"
   ]
  },
  {
   "cell_type": "markdown",
   "metadata": {},
   "source": [
    "#### 5.3 Create a column that is the difference between fresh probability of appearance and rotten"
   ]
  },
  {
   "cell_type": "code",
   "execution_count": 20,
   "metadata": {
    "collapsed": true
   },
   "outputs": [],
   "source": [
    "feat_probs['fresh_diff'] = feat_probs.fresh_p - feat_probs.rotten_p"
   ]
  },
  {
   "cell_type": "markdown",
   "metadata": {},
   "source": [
    "#### 5.4 Look at the most likely words for fresh and rotten reviews"
   ]
  },
  {
   "cell_type": "code",
   "execution_count": 21,
   "metadata": {
    "collapsed": false
   },
   "outputs": [
    {
     "data": {
      "text/html": [
       "<div>\n",
       "<table border=\"1\" class=\"dataframe\">\n",
       "  <thead>\n",
       "    <tr style=\"text-align: right;\">\n",
       "      <th></th>\n",
       "      <th>feature</th>\n",
       "      <th>fresh_p</th>\n",
       "      <th>rotten_p</th>\n",
       "      <th>fresh_diff</th>\n",
       "    </tr>\n",
       "  </thead>\n",
       "  <tbody>\n",
       "    <tr>\n",
       "      <th>825</th>\n",
       "      <td>film</td>\n",
       "      <td>0.154178</td>\n",
       "      <td>0.111495</td>\n",
       "      <td>0.042683</td>\n",
       "    </tr>\n",
       "    <tr>\n",
       "      <th>193</th>\n",
       "      <td>best</td>\n",
       "      <td>0.041936</td>\n",
       "      <td>0.019734</td>\n",
       "      <td>0.022203</td>\n",
       "    </tr>\n",
       "    <tr>\n",
       "      <th>965</th>\n",
       "      <td>great</td>\n",
       "      <td>0.030065</td>\n",
       "      <td>0.009373</td>\n",
       "      <td>0.020691</td>\n",
       "    </tr>\n",
       "    <tr>\n",
       "      <th>693</th>\n",
       "      <td>entertaining</td>\n",
       "      <td>0.024360</td>\n",
       "      <td>0.006660</td>\n",
       "      <td>0.017700</td>\n",
       "    </tr>\n",
       "    <tr>\n",
       "      <th>1584</th>\n",
       "      <td>performance</td>\n",
       "      <td>0.023127</td>\n",
       "      <td>0.006413</td>\n",
       "      <td>0.016713</td>\n",
       "    </tr>\n",
       "    <tr>\n",
       "      <th>87</th>\n",
       "      <td>american</td>\n",
       "      <td>0.022047</td>\n",
       "      <td>0.007400</td>\n",
       "      <td>0.014647</td>\n",
       "    </tr>\n",
       "    <tr>\n",
       "      <th>694</th>\n",
       "      <td>entertainment</td>\n",
       "      <td>0.017422</td>\n",
       "      <td>0.004193</td>\n",
       "      <td>0.013229</td>\n",
       "    </tr>\n",
       "    <tr>\n",
       "      <th>900</th>\n",
       "      <td>fun</td>\n",
       "      <td>0.025131</td>\n",
       "      <td>0.013320</td>\n",
       "      <td>0.011811</td>\n",
       "    </tr>\n",
       "    <tr>\n",
       "      <th>837</th>\n",
       "      <td>films</td>\n",
       "      <td>0.023127</td>\n",
       "      <td>0.012087</td>\n",
       "      <td>0.011040</td>\n",
       "    </tr>\n",
       "    <tr>\n",
       "      <th>2248</th>\n",
       "      <td>time</td>\n",
       "      <td>0.039161</td>\n",
       "      <td>0.028367</td>\n",
       "      <td>0.010794</td>\n",
       "    </tr>\n",
       "    <tr>\n",
       "      <th>948</th>\n",
       "      <td>good</td>\n",
       "      <td>0.045637</td>\n",
       "      <td>0.035027</td>\n",
       "      <td>0.010610</td>\n",
       "    </tr>\n",
       "    <tr>\n",
       "      <th>2470</th>\n",
       "      <td>world</td>\n",
       "      <td>0.019426</td>\n",
       "      <td>0.009373</td>\n",
       "      <td>0.010053</td>\n",
       "    </tr>\n",
       "    <tr>\n",
       "      <th>1585</th>\n",
       "      <td>performances</td>\n",
       "      <td>0.019581</td>\n",
       "      <td>0.010113</td>\n",
       "      <td>0.009467</td>\n",
       "    </tr>\n",
       "    <tr>\n",
       "      <th>1454</th>\n",
       "      <td>movies</td>\n",
       "      <td>0.031915</td>\n",
       "      <td>0.022694</td>\n",
       "      <td>0.009221</td>\n",
       "    </tr>\n",
       "    <tr>\n",
       "      <th>2492</th>\n",
       "      <td>years</td>\n",
       "      <td>0.013105</td>\n",
       "      <td>0.003947</td>\n",
       "      <td>0.009158</td>\n",
       "    </tr>\n",
       "    <tr>\n",
       "      <th>903</th>\n",
       "      <td>funny</td>\n",
       "      <td>0.032069</td>\n",
       "      <td>0.023187</td>\n",
       "      <td>0.008882</td>\n",
       "    </tr>\n",
       "    <tr>\n",
       "      <th>1265</th>\n",
       "      <td>life</td>\n",
       "      <td>0.023898</td>\n",
       "      <td>0.015047</td>\n",
       "      <td>0.008851</td>\n",
       "    </tr>\n",
       "    <tr>\n",
       "      <th>306</th>\n",
       "      <td>cast</td>\n",
       "      <td>0.018964</td>\n",
       "      <td>0.010113</td>\n",
       "      <td>0.008850</td>\n",
       "    </tr>\n",
       "    <tr>\n",
       "      <th>936</th>\n",
       "      <td>gives</td>\n",
       "      <td>0.012334</td>\n",
       "      <td>0.003700</td>\n",
       "      <td>0.008634</td>\n",
       "    </tr>\n",
       "    <tr>\n",
       "      <th>1036</th>\n",
       "      <td>high</td>\n",
       "      <td>0.015880</td>\n",
       "      <td>0.007400</td>\n",
       "      <td>0.008480</td>\n",
       "    </tr>\n",
       "  </tbody>\n",
       "</table>\n",
       "</div>"
      ],
      "text/plain": [
       "            feature   fresh_p  rotten_p  fresh_diff\n",
       "825            film  0.154178  0.111495    0.042683\n",
       "193            best  0.041936  0.019734    0.022203\n",
       "965           great  0.030065  0.009373    0.020691\n",
       "693    entertaining  0.024360  0.006660    0.017700\n",
       "1584    performance  0.023127  0.006413    0.016713\n",
       "87         american  0.022047  0.007400    0.014647\n",
       "694   entertainment  0.017422  0.004193    0.013229\n",
       "900             fun  0.025131  0.013320    0.011811\n",
       "837           films  0.023127  0.012087    0.011040\n",
       "2248           time  0.039161  0.028367    0.010794\n",
       "948            good  0.045637  0.035027    0.010610\n",
       "2470          world  0.019426  0.009373    0.010053\n",
       "1585   performances  0.019581  0.010113    0.009467\n",
       "1454         movies  0.031915  0.022694    0.009221\n",
       "2492          years  0.013105  0.003947    0.009158\n",
       "903           funny  0.032069  0.023187    0.008882\n",
       "1265           life  0.023898  0.015047    0.008851\n",
       "306            cast  0.018964  0.010113    0.008850\n",
       "936           gives  0.012334  0.003700    0.008634\n",
       "1036           high  0.015880  0.007400    0.008480"
      ]
     },
     "execution_count": 21,
     "metadata": {},
     "output_type": "execute_result"
    }
   ],
   "source": [
    "feat_probs.sort_values('fresh_diff', ascending=False, inplace=True)\n",
    "feat_probs.head(20)"
   ]
  },
  {
   "cell_type": "code",
   "execution_count": 22,
   "metadata": {
    "collapsed": false
   },
   "outputs": [
    {
     "data": {
      "text/html": [
       "<div>\n",
       "<table border=\"1\" class=\"dataframe\">\n",
       "  <thead>\n",
       "    <tr style=\"text-align: right;\">\n",
       "      <th></th>\n",
       "      <th>feature</th>\n",
       "      <th>fresh_p</th>\n",
       "      <th>rotten_p</th>\n",
       "      <th>fresh_diff</th>\n",
       "    </tr>\n",
       "  </thead>\n",
       "  <tbody>\n",
       "    <tr>\n",
       "      <th>1269</th>\n",
       "      <td>like</td>\n",
       "      <td>0.044403</td>\n",
       "      <td>0.065614</td>\n",
       "      <td>-0.021211</td>\n",
       "    </tr>\n",
       "    <tr>\n",
       "      <th>157</th>\n",
       "      <td>bad</td>\n",
       "      <td>0.007092</td>\n",
       "      <td>0.024914</td>\n",
       "      <td>-0.017821</td>\n",
       "    </tr>\n",
       "    <tr>\n",
       "      <th>606</th>\n",
       "      <td>doesn</td>\n",
       "      <td>0.015109</td>\n",
       "      <td>0.030587</td>\n",
       "      <td>-0.015478</td>\n",
       "    </tr>\n",
       "    <tr>\n",
       "      <th>1754</th>\n",
       "      <td>really</td>\n",
       "      <td>0.006938</td>\n",
       "      <td>0.020967</td>\n",
       "      <td>-0.014029</td>\n",
       "    </tr>\n",
       "    <tr>\n",
       "      <th>1629</th>\n",
       "      <td>plot</td>\n",
       "      <td>0.012488</td>\n",
       "      <td>0.025900</td>\n",
       "      <td>-0.013412</td>\n",
       "    </tr>\n",
       "    <tr>\n",
       "      <th>1445</th>\n",
       "      <td>movie</td>\n",
       "      <td>0.131360</td>\n",
       "      <td>0.144549</td>\n",
       "      <td>-0.013189</td>\n",
       "    </tr>\n",
       "    <tr>\n",
       "      <th>1164</th>\n",
       "      <td>isn</td>\n",
       "      <td>0.011718</td>\n",
       "      <td>0.024667</td>\n",
       "      <td>-0.012949</td>\n",
       "    </tr>\n",
       "    <tr>\n",
       "      <th>1280</th>\n",
       "      <td>little</td>\n",
       "      <td>0.018347</td>\n",
       "      <td>0.030587</td>\n",
       "      <td>-0.012240</td>\n",
       "    </tr>\n",
       "    <tr>\n",
       "      <th>1894</th>\n",
       "      <td>script</td>\n",
       "      <td>0.010484</td>\n",
       "      <td>0.020967</td>\n",
       "      <td>-0.010483</td>\n",
       "    </tr>\n",
       "    <tr>\n",
       "      <th>1182</th>\n",
       "      <td>jokes</td>\n",
       "      <td>0.003238</td>\n",
       "      <td>0.013074</td>\n",
       "      <td>-0.009836</td>\n",
       "    </tr>\n",
       "    <tr>\n",
       "      <th>1191</th>\n",
       "      <td>just</td>\n",
       "      <td>0.027444</td>\n",
       "      <td>0.037247</td>\n",
       "      <td>-0.009803</td>\n",
       "    </tr>\n",
       "    <tr>\n",
       "      <th>1412</th>\n",
       "      <td>minutes</td>\n",
       "      <td>0.005550</td>\n",
       "      <td>0.014800</td>\n",
       "      <td>-0.009250</td>\n",
       "    </tr>\n",
       "    <tr>\n",
       "      <th>2330</th>\n",
       "      <td>unfortunately</td>\n",
       "      <td>0.000463</td>\n",
       "      <td>0.009373</td>\n",
       "      <td>-0.008911</td>\n",
       "    </tr>\n",
       "    <tr>\n",
       "      <th>612</th>\n",
       "      <td>don</td>\n",
       "      <td>0.010638</td>\n",
       "      <td>0.018994</td>\n",
       "      <td>-0.008355</td>\n",
       "    </tr>\n",
       "    <tr>\n",
       "      <th>768</th>\n",
       "      <td>fails</td>\n",
       "      <td>0.001542</td>\n",
       "      <td>0.009620</td>\n",
       "      <td>-0.008078</td>\n",
       "    </tr>\n",
       "    <tr>\n",
       "      <th>634</th>\n",
       "      <td>dull</td>\n",
       "      <td>0.001079</td>\n",
       "      <td>0.009127</td>\n",
       "      <td>-0.008048</td>\n",
       "    </tr>\n",
       "    <tr>\n",
       "      <th>810</th>\n",
       "      <td>feels</td>\n",
       "      <td>0.003854</td>\n",
       "      <td>0.011840</td>\n",
       "      <td>-0.007986</td>\n",
       "    </tr>\n",
       "    <tr>\n",
       "      <th>1924</th>\n",
       "      <td>series</td>\n",
       "      <td>0.006475</td>\n",
       "      <td>0.014307</td>\n",
       "      <td>-0.007831</td>\n",
       "    </tr>\n",
       "    <tr>\n",
       "      <th>1670</th>\n",
       "      <td>predictable</td>\n",
       "      <td>0.001079</td>\n",
       "      <td>0.008880</td>\n",
       "      <td>-0.007801</td>\n",
       "    </tr>\n",
       "    <tr>\n",
       "      <th>1687</th>\n",
       "      <td>problem</td>\n",
       "      <td>0.001850</td>\n",
       "      <td>0.009620</td>\n",
       "      <td>-0.007770</td>\n",
       "    </tr>\n",
       "  </tbody>\n",
       "</table>\n",
       "</div>"
      ],
      "text/plain": [
       "            feature   fresh_p  rotten_p  fresh_diff\n",
       "1269           like  0.044403  0.065614   -0.021211\n",
       "157             bad  0.007092  0.024914   -0.017821\n",
       "606           doesn  0.015109  0.030587   -0.015478\n",
       "1754         really  0.006938  0.020967   -0.014029\n",
       "1629           plot  0.012488  0.025900   -0.013412\n",
       "1445          movie  0.131360  0.144549   -0.013189\n",
       "1164            isn  0.011718  0.024667   -0.012949\n",
       "1280         little  0.018347  0.030587   -0.012240\n",
       "1894         script  0.010484  0.020967   -0.010483\n",
       "1182          jokes  0.003238  0.013074   -0.009836\n",
       "1191           just  0.027444  0.037247   -0.009803\n",
       "1412        minutes  0.005550  0.014800   -0.009250\n",
       "2330  unfortunately  0.000463  0.009373   -0.008911\n",
       "612             don  0.010638  0.018994   -0.008355\n",
       "768           fails  0.001542  0.009620   -0.008078\n",
       "634            dull  0.001079  0.009127   -0.008048\n",
       "810           feels  0.003854  0.011840   -0.007986\n",
       "1924         series  0.006475  0.014307   -0.007831\n",
       "1670    predictable  0.001079  0.008880   -0.007801\n",
       "1687        problem  0.001850  0.009620   -0.007770"
      ]
     },
     "execution_count": 22,
     "metadata": {},
     "output_type": "execute_result"
    }
   ],
   "source": [
    "feat_probs.sort_values('fresh_diff', ascending=True, inplace=True)\n",
    "feat_probs.head(20)"
   ]
  },
  {
   "cell_type": "markdown",
   "metadata": {},
   "source": [
    "---\n",
    "\n",
    "### 6. Examine how your model performs on the test set"
   ]
  },
  {
   "cell_type": "code",
   "execution_count": 23,
   "metadata": {
    "collapsed": false
   },
   "outputs": [
    {
     "name": "stdout",
     "output_type": "stream",
     "text": [
      "0.743524053516\n",
      "0.606034728153\n"
     ]
    }
   ],
   "source": [
    "print nb.score(Xtest, ytest)\n",
    "print np.mean(ytest)"
   ]
  },
  {
   "cell_type": "markdown",
   "metadata": {},
   "source": [
    "---\n",
    "\n",
    "### 7. Look at the top 10 movies and reviews likely to be fresh and top 10 likely to be rotten\n",
    "\n",
    "You can fit the model on the full set of data for this.\n",
    "\n",
    "> **Note:** Naive Bayes, while good at classifying, is known to be somewhat bad at giving accurate predicted probabilities (beyond getting it on the correct side of 50%). It is a good classifier but a bad estimator. "
   ]
  },
  {
   "cell_type": "code",
   "execution_count": 24,
   "metadata": {
    "collapsed": true
   },
   "outputs": [],
   "source": [
    "X = words.values\n",
    "y = rt.fresh"
   ]
  },
  {
   "cell_type": "code",
   "execution_count": 25,
   "metadata": {
    "collapsed": true
   },
   "outputs": [],
   "source": [
    "nbfull = BernoulliNB().fit(X,y)"
   ]
  },
  {
   "cell_type": "code",
   "execution_count": 26,
   "metadata": {
    "collapsed": true
   },
   "outputs": [],
   "source": [
    "pp = pd.DataFrame({\n",
    "        'prob_fresh':nbfull.predict_proba(X)[:,1],\n",
    "        'movie':rt.title,\n",
    "        'quote':rt.quote\n",
    "    })"
   ]
  },
  {
   "cell_type": "code",
   "execution_count": 27,
   "metadata": {
    "collapsed": false
   },
   "outputs": [
    {
     "name": "stdout",
     "output_type": "stream",
     "text": [
      "Kundun \tStunning, odd, glorious, calm and sensationally absorbing, director Martin Scorsese's Kundun is a remarkable piece of work with vital colors and a wrenching message.\n",
      "--------------------------------------------------\n",
      "\n",
      "The Wild Bunch \tThe Wild Bunch is Peckinpah's most complex inquiry into the metamorphosis of man into myth. Not incidentally, it is also a raucous, violent, powerful feat of American film making.\n",
      "--------------------------------------------------\n",
      "\n",
      "Witness \tPowerful, assured, full of beautiful imagery and thankfully devoid of easy moralising, it also offers a performance of surprising skill and sensitivity from Ford.\n",
      "--------------------------------------------------\n",
      "\n",
      "The English Patient \tThis is one of the year's most unabashed and powerful love stories, using flawless performances, intelligent dialogue, crisp camera work, and loaded glances to attain a level of eroticism and emotional connection that many similar films miss.\n",
      "--------------------------------------------------\n",
      "\n",
      "Places in the Heart \tOut of the memories of his boyhood in Waxahachie, Tex., during the Great Depression, and within the unlikely tradition of the old-fashioned ''mortgage'' melodrama, Robert Benton has made one of the best films in years about growing up American.\n",
      "--------------------------------------------------\n",
      "\n",
      "Mrs Brown \tCentering on a lesser-known chapter in the reign of Queen Victoria, this richly detailed drama about her intimate relationship with her servant that scandalized the country is extremely well-acted; Judi Dench deserves an Oscar nomination\n",
      "--------------------------------------------------\n",
      "\n",
      "Where the Wild Things Are \tWhere the Wild Things Are is a fiercely innovative film with surprising texture and nuance. It captures the joy and exuberance of childhood without shying away from its very real pains and woes.\n",
      "--------------------------------------------------\n",
      "\n",
      "Diva \tThe most exciting debut in years, it is unified by the extraordinary decor - colour supplement chic meets pop art surrealism - which creates a world of totally fantastic reality situated four-square in contemporary Paris.\n",
      "--------------------------------------------------\n",
      "\n",
      "2001: A Space Odyssey \tStanley Kubrick's 2001: A Space Odyssey is some sort of great film, and an unforgettable endeavor. Technically and imaginatively, what he put into it is staggering.\n",
      "--------------------------------------------------\n",
      "\n",
      "The Secret of Roan Inish \tTales within tales, a subtle sense of economic and social realities, fine landscape photography and strong performances make for an engrossing, unusual fantasy.\n",
      "--------------------------------------------------\n",
      "\n"
     ]
    }
   ],
   "source": [
    "pp.sort_values('prob_fresh', ascending=False, inplace=True)\n",
    "for movie, quote in zip(pp.movie[0:10], pp.quote[0:10]):\n",
    "    print movie,'\\t', quote\n",
    "    print '--------------------------------------------------\\n'"
   ]
  },
  {
   "cell_type": "code",
   "execution_count": 28,
   "metadata": {
    "collapsed": false
   },
   "outputs": [
    {
     "name": "stdout",
     "output_type": "stream",
     "text": [
      "Pokémon: The First Movie \tWith intentionally stilted animation, uninspired music and lame jokes, Pokemon is basically an ultralong version of the phenomenon's own boring TV 'toon.\n",
      "--------------------------------------------------\n",
      "\n",
      "Joe's Apartment \tThere's not enough story here for something half that length, so we're subjected to numerous pointless and irritating song-and-dance numbers designed to nudge the lame plot towards its conclusion.\n",
      "--------------------------------------------------\n",
      "\n",
      "Kazaam \tAs fairy tale, buddy comedy, family drama, thriller or rap revue, Kazaam is simply uninspired and unconvincing, and Mr. O'Neal, who can carry a basketball team, lacks the charisma to rescue this misguided effort.\n",
      "--------------------------------------------------\n",
      "\n",
      "Gung Ho \tA disappointment, a movie in which the Japanese are mostly used for the mechanical requirements of the plot, and the Americans are constructed from durable but boring stereotypes.\n",
      "--------------------------------------------------\n",
      "\n",
      "The Beverly Hillbillies \tImagine the dumbest half-hour sitcom you've ever seen, spin it out to 93 minutes by making it even more thin and shallow, and you have this movie. It's appalling. It's not even really a good version of whatever it was that made the TV series appealing.\n",
      "--------------------------------------------------\n",
      "\n",
      "Snow Day \tUnless you have a craving to watch a sluggish Ski-Doo race or want to admire Chase dressed as a hula dancer, consider this the cinematic equivalent of yellow snow.\n",
      "--------------------------------------------------\n",
      "\n",
      "Prêt-à-Porter \tDespite some delicious moments, this sluggish, overlong, halfhearted satire feels like a movie that wanted to go somewhere but never got there.\n",
      "--------------------------------------------------\n",
      "\n",
      "Basic Instinct 2 \tBasic Instinct 2 has a stylish look and a few sexy moments, but the plot goes from confusing to implausible to absolutely ludicrous in the final sequence.\n",
      "--------------------------------------------------\n",
      "\n",
      "Akira \tA compendium of the worst cliches of Japanese animation -- two hours of chases, laser attacks, machine-gun battles, spilled stage blood, computer-animated backgrounds and hokey dialogue.\n",
      "--------------------------------------------------\n",
      "\n",
      "Batman & Robin \tPointless, plodding plotting; asinine action; clueless, comatose characterization; and dumb dialogue.\n",
      "--------------------------------------------------\n",
      "\n"
     ]
    }
   ],
   "source": [
    "pp.sort_values('prob_fresh', ascending=True, inplace=True)\n",
    "for movie, quote in zip(pp.movie[0:10], pp.quote[0:10]):\n",
    "    print movie,'\\t', quote\n",
    "    print '--------------------------------------------------\\n'"
   ]
  },
  {
   "cell_type": "markdown",
   "metadata": {},
   "source": [
    "---\n",
    "\n",
    "### 8. Find the most likely to be fresh and rotten for movies with at least 10 reviews."
   ]
  },
  {
   "cell_type": "code",
   "execution_count": 33,
   "metadata": {
    "collapsed": false
   },
   "outputs": [
    {
     "data": {
      "text/html": [
       "<div>\n",
       "<table border=\"1\" class=\"dataframe\">\n",
       "  <thead>\n",
       "    <tr style=\"text-align: right;\">\n",
       "      <th></th>\n",
       "      <th>movie</th>\n",
       "      <th>counts</th>\n",
       "    </tr>\n",
       "  </thead>\n",
       "  <tbody>\n",
       "    <tr>\n",
       "      <th>0</th>\n",
       "      <td>The Hurricane</td>\n",
       "      <td>20</td>\n",
       "    </tr>\n",
       "    <tr>\n",
       "      <th>1</th>\n",
       "      <td>Fever Pitch</td>\n",
       "      <td>20</td>\n",
       "    </tr>\n",
       "    <tr>\n",
       "      <th>2</th>\n",
       "      <td>The Truman Show</td>\n",
       "      <td>20</td>\n",
       "    </tr>\n",
       "    <tr>\n",
       "      <th>3</th>\n",
       "      <td>The Green Mile</td>\n",
       "      <td>20</td>\n",
       "    </tr>\n",
       "    <tr>\n",
       "      <th>4</th>\n",
       "      <td>The Sixth Sense</td>\n",
       "      <td>20</td>\n",
       "    </tr>\n",
       "  </tbody>\n",
       "</table>\n",
       "</div>"
      ],
      "text/plain": [
       "             movie  counts\n",
       "0    The Hurricane      20\n",
       "1      Fever Pitch      20\n",
       "2  The Truman Show      20\n",
       "3   The Green Mile      20\n",
       "4  The Sixth Sense      20"
      ]
     },
     "execution_count": 33,
     "metadata": {},
     "output_type": "execute_result"
    }
   ],
   "source": [
    "# subset to movies with at least 10 reviews:\n",
    "movie_counts = pp.movie.value_counts().reset_index()\n",
    "movie_counts.columns = ['movie','counts']\n",
    "movie_counts.head()"
   ]
  },
  {
   "cell_type": "code",
   "execution_count": 34,
   "metadata": {
    "collapsed": false
   },
   "outputs": [],
   "source": [
    "pp_movies = pp[['movie','prob_fresh']].groupby('movie').agg(np.mean).reset_index()\n",
    "pp_movies = pp_movies[pp_movies.movie.isin(movie_counts[movie_counts.counts >= 10].movie)]"
   ]
  },
  {
   "cell_type": "code",
   "execution_count": 35,
   "metadata": {
    "collapsed": false
   },
   "outputs": [
    {
     "data": {
      "text/html": [
       "<div>\n",
       "<table border=\"1\" class=\"dataframe\">\n",
       "  <thead>\n",
       "    <tr style=\"text-align: right;\">\n",
       "      <th></th>\n",
       "      <th>movie</th>\n",
       "      <th>prob_fresh</th>\n",
       "    </tr>\n",
       "  </thead>\n",
       "  <tbody>\n",
       "    <tr>\n",
       "      <th>1417</th>\n",
       "      <td>The Iron Giant</td>\n",
       "      <td>0.979857</td>\n",
       "    </tr>\n",
       "    <tr>\n",
       "      <th>862</th>\n",
       "      <td>Midnight Run</td>\n",
       "      <td>0.938485</td>\n",
       "    </tr>\n",
       "    <tr>\n",
       "      <th>209</th>\n",
       "      <td>Boogie Nights</td>\n",
       "      <td>0.933018</td>\n",
       "    </tr>\n",
       "    <tr>\n",
       "      <th>830</th>\n",
       "      <td>Manhattan</td>\n",
       "      <td>0.923313</td>\n",
       "    </tr>\n",
       "    <tr>\n",
       "      <th>1447</th>\n",
       "      <td>The Little Mermaid</td>\n",
       "      <td>0.913110</td>\n",
       "    </tr>\n",
       "    <tr>\n",
       "      <th>1058</th>\n",
       "      <td>Raging Bull</td>\n",
       "      <td>0.909063</td>\n",
       "    </tr>\n",
       "    <tr>\n",
       "      <th>652</th>\n",
       "      <td>Il conformista</td>\n",
       "      <td>0.899021</td>\n",
       "    </tr>\n",
       "    <tr>\n",
       "      <th>1055</th>\n",
       "      <td>Quiz Show</td>\n",
       "      <td>0.897883</td>\n",
       "    </tr>\n",
       "    <tr>\n",
       "      <th>1615</th>\n",
       "      <td>Toy story</td>\n",
       "      <td>0.894362</td>\n",
       "    </tr>\n",
       "    <tr>\n",
       "      <th>298</th>\n",
       "      <td>Cookie's Fortune</td>\n",
       "      <td>0.889969</td>\n",
       "    </tr>\n",
       "    <tr>\n",
       "      <th>1065</th>\n",
       "      <td>Ran</td>\n",
       "      <td>0.888202</td>\n",
       "    </tr>\n",
       "    <tr>\n",
       "      <th>1593</th>\n",
       "      <td>Titanic</td>\n",
       "      <td>0.885836</td>\n",
       "    </tr>\n",
       "    <tr>\n",
       "      <th>1120</th>\n",
       "      <td>Schindler's List</td>\n",
       "      <td>0.883950</td>\n",
       "    </tr>\n",
       "    <tr>\n",
       "      <th>147</th>\n",
       "      <td>Bandit Queen</td>\n",
       "      <td>0.883369</td>\n",
       "    </tr>\n",
       "    <tr>\n",
       "      <th>775</th>\n",
       "      <td>Le notti di Cabiria</td>\n",
       "      <td>0.881404</td>\n",
       "    </tr>\n",
       "    <tr>\n",
       "      <th>783</th>\n",
       "      <td>Les quatre cents coups</td>\n",
       "      <td>0.879594</td>\n",
       "    </tr>\n",
       "    <tr>\n",
       "      <th>445</th>\n",
       "      <td>Fanny och Alexander</td>\n",
       "      <td>0.872531</td>\n",
       "    </tr>\n",
       "    <tr>\n",
       "      <th>129</th>\n",
       "      <td>Babe</td>\n",
       "      <td>0.868943</td>\n",
       "    </tr>\n",
       "    <tr>\n",
       "      <th>952</th>\n",
       "      <td>Nosferatu, eine Symphonie des Grauens</td>\n",
       "      <td>0.868932</td>\n",
       "    </tr>\n",
       "    <tr>\n",
       "      <th>1572</th>\n",
       "      <td>The Wild Bunch</td>\n",
       "      <td>0.867744</td>\n",
       "    </tr>\n",
       "  </tbody>\n",
       "</table>\n",
       "</div>"
      ],
      "text/plain": [
       "                                      movie  prob_fresh\n",
       "1417                         The Iron Giant    0.979857\n",
       "862                            Midnight Run    0.938485\n",
       "209                           Boogie Nights    0.933018\n",
       "830                               Manhattan    0.923313\n",
       "1447                     The Little Mermaid    0.913110\n",
       "1058                            Raging Bull    0.909063\n",
       "652                          Il conformista    0.899021\n",
       "1055                              Quiz Show    0.897883\n",
       "1615                              Toy story    0.894362\n",
       "298                        Cookie's Fortune    0.889969\n",
       "1065                                    Ran    0.888202\n",
       "1593                                Titanic    0.885836\n",
       "1120                       Schindler's List    0.883950\n",
       "147                            Bandit Queen    0.883369\n",
       "775                     Le notti di Cabiria    0.881404\n",
       "783                  Les quatre cents coups    0.879594\n",
       "445                     Fanny och Alexander    0.872531\n",
       "129                                    Babe    0.868943\n",
       "952   Nosferatu, eine Symphonie des Grauens    0.868932\n",
       "1572                         The Wild Bunch    0.867744"
      ]
     },
     "execution_count": 35,
     "metadata": {},
     "output_type": "execute_result"
    }
   ],
   "source": [
    "pp_movies.sort_values('prob_fresh', ascending=False, inplace=True)\n",
    "pp_movies.head(20)"
   ]
  },
  {
   "cell_type": "code",
   "execution_count": 36,
   "metadata": {
    "collapsed": false
   },
   "outputs": [
    {
     "data": {
      "text/html": [
       "<div>\n",
       "<table border=\"1\" class=\"dataframe\">\n",
       "  <thead>\n",
       "    <tr style=\"text-align: right;\">\n",
       "      <th></th>\n",
       "      <th>movie</th>\n",
       "      <th>prob_fresh</th>\n",
       "    </tr>\n",
       "  </thead>\n",
       "  <tbody>\n",
       "    <tr>\n",
       "      <th>152</th>\n",
       "      <td>Basic Instinct 2</td>\n",
       "      <td>0.172296</td>\n",
       "    </tr>\n",
       "    <tr>\n",
       "      <th>1205</th>\n",
       "      <td>Spy Hard</td>\n",
       "      <td>0.178794</td>\n",
       "    </tr>\n",
       "    <tr>\n",
       "      <th>1661</th>\n",
       "      <td>Vegas Vacation</td>\n",
       "      <td>0.178997</td>\n",
       "    </tr>\n",
       "    <tr>\n",
       "      <th>1669</th>\n",
       "      <td>Virus</td>\n",
       "      <td>0.198833</td>\n",
       "    </tr>\n",
       "    <tr>\n",
       "      <th>288</th>\n",
       "      <td>Color of Night</td>\n",
       "      <td>0.210623</td>\n",
       "    </tr>\n",
       "    <tr>\n",
       "      <th>139</th>\n",
       "      <td>Bad Boys</td>\n",
       "      <td>0.211745</td>\n",
       "    </tr>\n",
       "    <tr>\n",
       "      <th>9</th>\n",
       "      <td>3 Strikes</td>\n",
       "      <td>0.216798</td>\n",
       "    </tr>\n",
       "    <tr>\n",
       "      <th>391</th>\n",
       "      <td>Dracula: Dead and Loving It</td>\n",
       "      <td>0.220098</td>\n",
       "    </tr>\n",
       "    <tr>\n",
       "      <th>627</th>\n",
       "      <td>House Arrest</td>\n",
       "      <td>0.223951</td>\n",
       "    </tr>\n",
       "    <tr>\n",
       "      <th>1296</th>\n",
       "      <td>The Bachelor</td>\n",
       "      <td>0.224735</td>\n",
       "    </tr>\n",
       "    <tr>\n",
       "      <th>1632</th>\n",
       "      <td>Twisted</td>\n",
       "      <td>0.227563</td>\n",
       "    </tr>\n",
       "    <tr>\n",
       "      <th>811</th>\n",
       "      <td>Lost &amp; Found</td>\n",
       "      <td>0.227661</td>\n",
       "    </tr>\n",
       "    <tr>\n",
       "      <th>916</th>\n",
       "      <td>My Fellow Americans</td>\n",
       "      <td>0.239758</td>\n",
       "    </tr>\n",
       "    <tr>\n",
       "      <th>1164</th>\n",
       "      <td>Sleepover</td>\n",
       "      <td>0.240277</td>\n",
       "    </tr>\n",
       "    <tr>\n",
       "      <th>1175</th>\n",
       "      <td>Soldier</td>\n",
       "      <td>0.245642</td>\n",
       "    </tr>\n",
       "    <tr>\n",
       "      <th>527</th>\n",
       "      <td>Georgia Rule</td>\n",
       "      <td>0.250723</td>\n",
       "    </tr>\n",
       "    <tr>\n",
       "      <th>361</th>\n",
       "      <td>Deuce Bigalow: Male Gigolo</td>\n",
       "      <td>0.250894</td>\n",
       "    </tr>\n",
       "    <tr>\n",
       "      <th>867</th>\n",
       "      <td>Milk Money</td>\n",
       "      <td>0.259989</td>\n",
       "    </tr>\n",
       "    <tr>\n",
       "      <th>140</th>\n",
       "      <td>Bad Company</td>\n",
       "      <td>0.261892</td>\n",
       "    </tr>\n",
       "    <tr>\n",
       "      <th>932</th>\n",
       "      <td>Next Friday</td>\n",
       "      <td>0.265943</td>\n",
       "    </tr>\n",
       "  </tbody>\n",
       "</table>\n",
       "</div>"
      ],
      "text/plain": [
       "                            movie  prob_fresh\n",
       "152              Basic Instinct 2    0.172296\n",
       "1205                     Spy Hard    0.178794\n",
       "1661               Vegas Vacation    0.178997\n",
       "1669                        Virus    0.198833\n",
       "288                Color of Night    0.210623\n",
       "139                      Bad Boys    0.211745\n",
       "9                       3 Strikes    0.216798\n",
       "391   Dracula: Dead and Loving It    0.220098\n",
       "627                  House Arrest    0.223951\n",
       "1296                 The Bachelor    0.224735\n",
       "1632                      Twisted    0.227563\n",
       "811                  Lost & Found    0.227661\n",
       "916           My Fellow Americans    0.239758\n",
       "1164                    Sleepover    0.240277\n",
       "1175                      Soldier    0.245642\n",
       "527                  Georgia Rule    0.250723\n",
       "361    Deuce Bigalow: Male Gigolo    0.250894\n",
       "867                    Milk Money    0.259989\n",
       "140                   Bad Company    0.261892\n",
       "932                   Next Friday    0.265943"
      ]
     },
     "execution_count": 36,
     "metadata": {},
     "output_type": "execute_result"
    }
   ],
   "source": [
    "pp_movies.sort_values('prob_fresh', ascending=True, inplace=True)\n",
    "pp_movies.head(20)"
   ]
  }
 ],
 "metadata": {
  "kernelspec": {
   "display_name": "Python 2",
   "language": "python",
   "name": "python2"
  },
  "language_info": {
   "codemirror_mode": {
    "name": "ipython",
    "version": 2
   },
   "file_extension": ".py",
   "mimetype": "text/x-python",
   "name": "python",
   "nbconvert_exporter": "python",
   "pygments_lexer": "ipython2",
   "version": "2.7.12"
  }
 },
 "nbformat": 4,
 "nbformat_minor": 0
}
