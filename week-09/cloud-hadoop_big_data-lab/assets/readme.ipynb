{
 "cells": [
  {
   "cell_type": "markdown",
   "metadata": {},
   "source": [
    "---\n",
    "title: Hadoop Lab\n",
    "duration: \"1:25\"\n",
    "creator:\n",
    "    name: Francesco Mosconi\n",
    "    city: SF\n",
    "---"
   ]
  },
  {
   "cell_type": "markdown",
   "metadata": {},
   "source": [
    "# ![](https://ga-dash.s3.amazonaws.com/production/assets/logo-9f88ae6c9c3871690e33280fcf557f33.png) Hadoop Lab\n",
    "Week 10| Lab 1.2 "
   ]
  },
  {
   "cell_type": "markdown",
   "metadata": {},
   "source": [
    "### LEARNING OBJECTIVES\n",
    "*After this lab, you will be able to:*\n",
    "- Install local virtual machine running apache Hadoop\n",
    "- Navigate Hadoop file system (HDFS)"
   ]
  },
  {
   "cell_type": "markdown",
   "metadata": {},
   "source": [
    "### STUDENT PRE-WORK\n",
    "*Before this lesson, you should already be able to:*\n",
    "- Have Virtualbox installed on your system\n",
    "- Have the Virtualbox Machine Image already downloaded on your computer\n",
    "- Perform Map-Reduce from shell using python scripts"
   ]
  },
  {
   "cell_type": "markdown",
   "metadata": {},
   "source": [
    "### INSTRUCTOR PREP\n",
    "*Before this lesson, instructors will need to:*\n",
    "- Read in / Review any dataset(s) & starter/solution code\n",
    "- Generate a brief slide deck\n",
    "- Prepare any specific materials\n",
    "- Provide students with additional resources\n",
    "- Go through the installation of the virtual machine\n",
    "- Have the students download the virtual machine image on their own before the lab."
   ]
  },
  {
   "cell_type": "markdown",
   "metadata": {},
   "source": [
    "### LAB GUIDE\n",
    "\n",
    "| TIMING  | TYPE  | TOPIC  |\n",
    "|:-:|---|---|\n",
    "| 5 min | [Opening](#opening) | Opening |\n",
    "| 15 min | [Introduction](#introduction) | Installing the virtual machine |\n",
    "| 10 min | [Guided](#guided_practice) | Launch the VM and start the Big Data tools |\n",
    "| 5 min | [Guided-practice](#guided-practice) | Exploring HDFS from the command line |\n",
    "| 5 min | [Guided-practice](#guided-practice) | Exploring HDFS from the web interface |\n",
    "| 15 min | [Guided-practice](#guided-practice) | Hadoop word count |\n",
    "| 15 min | [Guided-practice](#guided-practice) | Hadoop Streaming word count |\n",
    "| 15 min | [Ind-practice](#ind-practice) | Hadoop Word Count |"
   ]
  },
  {
   "cell_type": "markdown",
   "metadata": {},
   "source": [
    "<a name=\"opening\"></a>\n",
    "## Opening (5 min)\n",
    "Over the course of the next three labs we will discover several tools to run map-reduce jobs. In particular in this lab we will explore Hadoop, which is a very common implementation of the map-reduce framework. We will do this through the use of a virtual machine, i.e. a simulated computer running on a host computer (our laptops).\n",
    "\n",
    "This lab will guide you through the installation and configuration of a virtual environment that we will use throughout this week.\n",
    "\n",
    "The environment is a virtual machine that runs on your computer and that comes packaged with a lot of neat software including:\n",
    "\n",
    "- Hadoop\n",
    "- Hive\n",
    "- Hue\n",
    "- Spark\n",
    "- Python with many useful packages\n",
    "\n",
    "Over the course of this week we will gradually discover this environment and what it can be used for."
   ]
  },
  {
   "cell_type": "markdown",
   "metadata": {},
   "source": [
    "<a name=\"introduction\"></a>\n",
    "## Installing the virtual machine (15 min)\n",
    "\n",
    "The first step in our journey is going to be to start a local virtual machine which will use throughout this week.\n",
    "\n",
    "In order to simplify the process, we've made this machine available as a virtualbox file at [this Dropbox location](https://www.dropbox.com/s/egzz6129w90okzf/GA%20DSI%20bigdata%200.9.ova?dl=0). \n",
    "\n",
    "From now on I will assume you have already installed [Virtualbox](https://www.virtualbox.org/) on your computer. If you have not installed them, please go ahead and do that immediately.\n",
    "\n",
    "### Download the virtual machine\n",
    "\n",
    "By now you shoudl already have downloaded the VM, but in case you haven't yet. Do so immediately.\n",
    "\n",
    "\n",
    "### Import the VM in virtualbox\n",
    "\n",
    "Oracle VM VirtualBox is a free and open-source hypervisor for x86 computers from Oracle Corporation. Developed initially by Innotek GmbH, it was acquired by Sun Microsystems in 2008 which was in turn acquired by Oracle in 2010.\n",
    "\n",
    "VirtualBox may be installed on a number of host operating systems, including: Linux, OS X, Windows, Solaris, and OpenSolaris. It supports the creation and management of guest virtual machines running versions and derivations of Windows, Linux, BSD, OS/2, Solaris, Haiku, OSx86 and others.\n",
    "\n",
    "For some guest operating systems, a \"Guest Additions\" package of device drivers and system applications is available which typically improves performance, especially of graphics.\n",
    "\n",
    "Once you have downloaded it, import it in virtualbox.\n",
    "\n",
    "![](./assets/images/virtualbox.png)\n",
    "\n",
    "![](./assets/images/import.png)"
   ]
  },
  {
   "cell_type": "markdown",
   "metadata": {},
   "source": [
    "<a name=\"guided_practice\"></a>\n",
    "## Launch the VM and start the Big Data tools  (10 min)\n",
    "\n",
    "### Launch the VM\n",
    "\n",
    "The VM is launched by pressing the Launch green arrow. This will open a terminal window and you'll see a lot of text. Finally you will be prompted to login. Do not login here. Instead connect via ssh from a terminal windows by typing:\n",
    "\n",
    "![](./assets/images/launch.png)\n",
    "    \n",
    "    ssh vagrant@10.211.55.101\n",
    "    password: vagrant\n",
    "\n",
    "### Start the Bigdata tools\n",
    "\n",
    "Once you're logged in type:\n",
    "\n",
    "    $ bigdata_start.sh\n",
    "\n",
    "and the following services will be started:\n",
    "\n",
    "- Hadoop\n",
    "- HDFS\n",
    "- Yarn\n",
    "- Hive server\n",
    "- Hue\n",
    "- Jupyter Notebook\n",
    "\n",
    "You may be requested for a password a few times (that's \"vagrant\"), just type it in.\n",
    "\n",
    "Let's have a look at some of the services available in this virtual machine.\n",
    "\n",
    "\n",
    "### Hadoop\n",
    "Apache Hadoop is an open-source software framework for distributed storage and distributed processing of very large data sets on computer clusters built from commodity hardware. All the modules in Hadoop are designed with a fundamental assumption that hardware failures are common and should be automatically handled by the framework.\n",
    "\n",
    "The core of Apache Hadoop consists of a storage part, known as Hadoop Distributed File System (HDFS), and a processing part called MapReduce. Hadoop splits files into large blocks and distributes them across nodes in a cluster.\n",
    "\n",
    "\n",
    "### HDFS\n",
    "The Hadoop distributed file system (HDFS) is a distributed, scalable, and portable file-system written in Java for the Hadoop framework. It's the file system supporting Hadoop.\n",
    "\n",
    "### YARN\n",
    "Yarn is a resource-management platform responsible for managing computing resources in clusters and using them for scheduling of users' applications. The fundamental idea of YARN is to split up the functionalities of resource management and job scheduling/monitoring into separate daemons. The idea is to have a global ResourceManager (RM) and per-application ApplicationMaster (AM).\n",
    "\n",
    "The ResourceManager and the NodeManager form the data-computation framework. The ResourceManager is the ultimate authority that arbitrates resources among all the applications in the system. The NodeManager is the per-machine framework agent who is responsible for containers, monitoring their resource usage (cpu, memory, disk, network) and reporting the same to the ResourceManager/Scheduler.\n",
    "\n",
    "The Yarn resource manager offers a web interface, that is accessible on our VM at this address:\n",
    "\n",
    "http://10.211.55.101:8088/cluster\n",
    "\n",
    "Go ahead and type that in your browser and you should see a screen like this:\n",
    "\n",
    "![](./assets/images/yarn.png)\n",
    "\n",
    "This will be useful when we run a hadoop job, in order to check the status of advancement."
   ]
  },
  {
   "cell_type": "markdown",
   "metadata": {},
   "source": [
    "<a name=\"guided-practice\"></a>\n",
    "## Exploring HDFS from the command line (5 min)\n",
    "\n",
    "Hadoop offers a command line interface to navigate the HDFS. The full documentation can be found here:\n",
    "\n",
    "http://hadoop.apache.org/docs/current/hadoop-project-dist/hadoop-common/FileSystemShell.html\n",
    "\n",
    "We've pre-loaded the machine with a few datasets, let's explore them typing the command:\n",
    "\n",
    "    $ hadoop fs -ls\n",
    "\n",
    "### Exercise 1:\n",
    "Explore HDFS and describe the content of each folder it contains. You will need to use a combination of commands like:\n",
    "\n",
    "    - ls\n",
    "    - cat"
   ]
  },
  {
   "cell_type": "markdown",
   "metadata": {},
   "source": [
    "<a name=\"guided-practice\"></a>\n",
    "## Exploring HDFS from the web interface (5 min)\n",
    "\n",
    "Hadoop also offers a web interface to navigate and manage HDFS. It can be found at this address:\n",
    "\n",
    "http://10.211.55.101:50070\n",
    "\n",
    "and it looks like this:\n",
    "\n",
    "![](./assets/images/hdfsweb.png)\n",
    "### Exercise 2:\n",
    "Find how you can navigate the HDFS from the web interface. Is the content listed similar to what you were finding with the command line?\n",
    "> Answer: no, because the web interface displays the content of the root folder, while the hadoop fs command automatically goes into the /users/hadoop folder."
   ]
  },
  {
   "cell_type": "markdown",
   "metadata": {},
   "source": [
    "<a name=\"guided-practice\"></a>\n",
    "## Hadoop word count (15 min)\n",
    "\n",
    "Let's create a very short file and count the number of words using Hadoop:\n",
    "\n",
    "    $ hadoop fs -mkdir wordcount-input\n",
    "    \n",
    "    $ echo \"hello dear world hello\" | hadoop fs -put - wordcount-input/hello.txt\n",
    "\n",
    "### Exercise 3:\n",
    "Run the word count with the following command:\n",
    "\n",
    "    $ hadoop jar /usr/local/lib/hadoop-2.7.2/share/hadoop/mapreduce/hadoop*example*.jar \\\n",
    "                  wordcount wordcount-input wordcount-output\n",
    "\n",
    "\n",
    "![](./assets/images/hdwcshell.png)\n",
    "\n",
    "![](./assets/images/hdwcyarn.png)\n",
    "\n",
    "Check the results by typing:\n",
    "\n",
    "    $ hadoop fs -cat wordcount-output/part*\n",
    "    \n",
    "you should see:\n",
    "\n",
    "    dear   1\n",
    "    hello  2\n",
    "    world  1"
   ]
  },
  {
   "cell_type": "markdown",
   "metadata": {},
   "source": [
    "<a name=\"guided-practice\"></a>\n",
    "## Hadoop Streaming word count (15 min)\n",
    "\n",
    "Hadoop also offers a streaming interface. The streaming interface will process the data as a stream, one piece at a time, and it requires to be told what to do with each piece of data. This is somewhat similar to what we did with the map-reduce from the shell that we used in the previous class.\n",
    "\n",
    "Let's use the same python scripts to run a hadoop streaming map-reduce. We have pre-copied those scripts to your VM home folder, so that they are easy to access.\n",
    "\n",
    "First of all let's copy some data to hdfs. The data folder contains a folder called `project_gutenberg`. Let's copy that to hadoop:\n",
    "\n",
    "    $ hadoop fs -copyFromLocal data/project_gutenberg project_gutenberg\n",
    "    $ hadoop fs -copyFromLocal scripts scripts\n",
    "\n",
    "Go ahead and check that it's there:\n",
    "\n",
    "http://10.211.55.101:50070/explorer.html#/user/vagrant\n",
    "\n",
    "Great! Now we should pipe all the data contained in that folder through our scripts with hadoop streaming.\n",
    "First let's make sure that the scripts work by using the shell pipes we learned in the last lecture.\n",
    "\n",
    "    $ cat data/project_gutenberg/pg84.txt | python scripts/mapper.py | sort -k1,1 | python scripts/reducer.py \n",
    "\n",
    "Great! They still work. Ok now let's do hadoop streaming MR:\n",
    "\n",
    "    $ export STREAMING_JAR=/usr/local/lib/hadoop-2.7.2/share/hadoop/tools/lib/hadoop-streaming-2.7.2.jar\n",
    "    \n",
    "    $ hadoop jar $STREAMING_JAR  \\\n",
    "      -file /home/vagrant/scripts/mapper.py   \\\n",
    "      -mapper /home/vagrant/scripts/mapper.py \\\n",
    "      -file /home/vagrant/scripts/reducer.py  \\\n",
    "      -reducer /home/vagrant/scripts/reducer.py \\\n",
    "      -input /user/vagrant/project_gutenberg/* \\\n",
    "      -output /user/vagrant/output_gutenberg\n",
    "\n",
    "\n",
    "Check the status of your MR job here:\n",
    "\n",
    "http://10.211.55.101:8088/cluster/apps\n",
    "\n",
    "You can check your results in the HDFS explorer:\n",
    "\n",
    "http://10.211.55.101:50070/explorer.html#/user/vagrant/output_gutenberg"
   ]
  },
  {
   "cell_type": "markdown",
   "metadata": {},
   "source": [
    "<a name=\"ind-practice\"></a>\n",
    "## Hadoop Word Count (15 min)\n",
    "\n",
    "You have learned how to spin up a local virtual machine running Hadoop and how to submit map reduce job flows to it! Congratulations.\n",
    "\n",
    "Go ahead and perform the map-reduce word count on the project gutenberg data using the Hadoop Jar used in exercise 3. You should get the list words with the counts as output. You can also save that list to a file and open it in Pandas to sort the words by the most frequent."
   ]
  },
  {
   "cell_type": "markdown",
   "metadata": {},
   "source": [
    "### ADDITIONAL RESOURCES\n",
    "\n",
    "- [Hadoop](http://hadoop.apache.org/)\n",
    "- [Hadoop command line](http://hadoop.apache.org/docs/current/hadoop-project-dist/hadoop-common/FileSystemShell.html)\n",
    "- [YARN](http://hadoop.apache.org/docs/current/hadoop-yarn/hadoop-yarn-site/YARN.html)\n",
    "- [Hadoop Streaming tutorial](http://www.michael-noll.com/tutorials/writing-an-hadoop-mapreduce-program-in-python/)\n",
    "- [Hadoop Streaming doc](https://hadoop.apache.org/docs/r1.2.1/streaming.html)"
   ]
  }
 ],
 "metadata": {
  "kernelspec": {
   "display_name": "Python 2",
   "language": "python",
   "name": "python2"
  },
  "language_info": {
   "codemirror_mode": {
    "name": "ipython",
    "version": 2
   },
   "file_extension": ".py",
   "mimetype": "text/x-python",
   "name": "python",
   "nbconvert_exporter": "python",
   "pygments_lexer": "ipython2",
   "version": "2.7.11"
  }
 },
 "nbformat": 4,
 "nbformat_minor": 0
}
