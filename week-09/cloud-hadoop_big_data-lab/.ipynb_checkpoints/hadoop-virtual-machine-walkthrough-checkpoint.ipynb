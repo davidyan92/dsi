{
 "cells": [
  {
   "cell_type": "markdown",
   "metadata": {},
   "source": [
    "<img src=\"http://imgur.com/1ZcRyrc.png\" style=\"float: left; margin: 20px; height: 55px\">\n",
    "\n",
    "# Hadoop Lab\n",
    "\n",
    "_Authors: Dave Yerrington (SF)_\n",
    "\n",
    "---\n",
    "### Learning Objectives\n",
    "*After this lab, you will be able to:*\n",
    "- Install local virtual machine running apache Hadoop\n",
    "- Navigate Hadoop file system (HDFS)\n",
    "\n",
    "### Preparation\n",
    "*Before this lesson, you will need to:*\n",
    "- Go through the installation of the virtual machine\n",
    "- Have the students download the virtual machine image on their own before the lab; see instructions below.\n",
    "- Note: Data assets for this lesson are included in the virtual machine.\n",
    "\n",
    "> Instructors: This week requires some additional preparation. *First*, you'll need to assist students with the use of the Virtual Machine to run the first few lessons and labs. *Second*, you'll need to check with your local team about buying or accessing AWS credits for your students to use EC2 and EMR services.\n"
   ]
  },
  {
   "cell_type": "markdown",
   "metadata": {},
   "source": [
    "### Lesson Guide\n",
    "- [Introduction](#intro)\n",
    "- [Installing the virtual machine](#vm)\n",
    "    - [Import the VM in VirtualBox](#import-vm)\n",
    "- [Launch the VM](#launch)\n",
    "- [Start the Bigdata tools](#start)\n",
    "- [Hadoop](#hadoop)\n",
    "- [YARN](#yarn)\n",
    "- [Exploring HDFS from the command line](#guided-practice)\n",
    "    - [Exercise 1](#ex1)\n",
    "- [Exploring HDFS from the web interface](#guided-practice2)\n",
    "    - [Exercise 2](#ex2)\n",
    "- [Hadoop word count](#guided-practice3)\n",
    "    - [Exercise 3](#ex3)\n",
    "- [Hadoop streaming word count](#guided-practice4)\n",
    "    - [Exercise 4](#ex4)\n",
    "- [Additional resources](#resources)"
   ]
  },
  {
   "cell_type": "markdown",
   "metadata": {},
   "source": [
    "<a name=\"intro\"></a>\n",
    "## Introduction\n",
    "---\n",
    "\n",
    "In this lab we will explore Hadoop, a very common implementation of the map-reduce framework. We will do this through the use of a virtual machine, i.e. a simulated computer running on a host computer (our laptops).\n",
    "\n",
    "This lab will guide you through the installation and configuration of the virtual environment. The environment is a virtual machine that runs on your computer and that comes packaged with a lot of neat software including:\n",
    "\n",
    "- Hadoop\n",
    "- Hive\n",
    "- Hue\n",
    "- Spark\n",
    "- Python with many useful packages"
   ]
  },
  {
   "cell_type": "markdown",
   "metadata": {},
   "source": [
    "<a name=\"vm\"></a>\n",
    "## Installing the virtual machine\n",
    "---\n",
    "\n",
    "The first step in our journey is going to be to start a local virtual machine which will use throughout this week.\n",
    "\n",
    "In order to simplify the process, we've made this machine available as a virtualbox file at [this Dropbox location](https://www.dropbox.com/sh/ktjhecqklpvwcce/AADZBLKS6KQJL3hUt10eQiqSa?dl=0). \n",
    "\n",
    "From now on I will assume you have already installed [Virtualbox](https://www.virtualbox.org/) on your computer. If you have not installed them, please go ahead and do that immediately."
   ]
  },
  {
   "cell_type": "markdown",
   "metadata": {},
   "source": [
    "<a id='import-vm'></a>\n",
    "### Import the VM in VirtualBox\n",
    "\n",
    "Oracle VM VirtualBox is a free and open-source hypervisor for x86 computers from Oracle Corporation. Developed initially by Innotek GmbH, it was acquired by Sun Microsystems in 2008 which was in turn acquired by Oracle in 2010.\n",
    "\n",
    "VirtualBox may be installed on a number of host operating systems, including: Linux, OS X, Windows, Solaris, and OpenSolaris. It supports the creation and management of guest virtual machines running versions and derivations of Windows, Linux, BSD, OS/2, Solaris, Haiku, OSx86 and others.\n",
    "\n",
    "For some guest operating systems, a \"Guest Additions\" package of device drivers and system applications is available which typically improves performance, especially of graphics.\n",
    "\n",
    "Once you have downloaded it, import it in virtualbox.\n",
    "\n",
    "![](./assets/images/virtualbox.png)\n",
    "\n",
    "![](./assets/images/import.png)"
   ]
  },
  {
   "cell_type": "markdown",
   "metadata": {},
   "source": [
    "<a id='launch'></a>\n",
    "## Launch the VM\n",
    "---\n",
    "\n",
    "The VM is launched by pressing the Launch green arrow. This will open a terminal window and you'll see a lot of text. Finally you will be prompted to login. Do not login here. Instead connect via ssh from a terminal windows by typing:\n",
    "    \n",
    "    ssh vagrant@10.211.55.101\n",
    "    password: vagrant\n",
    "\n",
    "![](./assets/images/launch.png)\n",
    "    \n"
   ]
  },
  {
   "cell_type": "markdown",
   "metadata": {},
   "source": [
    "<a id='start'></a>\n",
    "## Start the Bigdata tools\n",
    "---\n",
    "\n",
    "Once you're logged in type:\n",
    "\n",
    "    $ bigdata_start.sh\n",
    "\n",
    "and the following services will be started:\n",
    "\n",
    "- Hadoop\n",
    "- HDFS\n",
    "- Yarn\n",
    "- Hive server\n",
    "- Hue\n",
    "- Jupyter Notebook\n",
    "\n",
    "You may be requested for a password a few times (that's \"vagrant\"), just type it in.\n",
    "\n",
    "Let's have a look at some of the services available in this virtual machine."
   ]
  },
  {
   "cell_type": "markdown",
   "metadata": {},
   "source": [
    "<a id='hadoop'></a>\n",
    "## Hadoop\n",
    "\n",
    "---\n",
    "\n",
    "Apache Hadoop is an open-source software framework for distributed storage and distributed processing of very large data sets on computer clusters built from commodity hardware. All the modules in Hadoop are designed with a fundamental assumption that hardware failures are common and should be automatically handled by the framework.\n",
    "\n",
    "The core of Apache Hadoop consists of a storage part, known as **Hadoop Distributed File System (HDFS)**, and a processing part called MapReduce. Hadoop splits files into large blocks and distributes them across nodes in a cluster.\n",
    "\n",
    "### HDFS\n",
    "\n",
    "The Hadoop distributed file system (HDFS) is a distributed, scalable, and portable file-system written in Java for the Hadoop framework. It's the file system supporting Hadoop.\n"
   ]
  },
  {
   "cell_type": "markdown",
   "metadata": {},
   "source": [
    "<a id='yarn'></a>\n",
    "## YARN\n",
    "---\n",
    "\n",
    "Yarn is a resource-management platform responsible for managing computing resources in clusters and using them for scheduling of users' applications. The fundamental idea of YARN is to split up the functionalities of resource management and job scheduling/monitoring into separate daemons. The idea is to have a global ResourceManager (RM) and per-application ApplicationMaster (AM).\n",
    "\n",
    "The ResourceManager and the NodeManager form the data-computation framework. The ResourceManager is the ultimate authority that arbitrates resources among all the applications in the system. The NodeManager is the per-machine framework agent who is responsible for containers, monitoring their resource usage (cpu, memory, disk, network) and reporting the same to the ResourceManager/Scheduler.\n",
    "\n",
    "The Yarn resource manager offers a web interface, that is accessible on our VM at this address:\n",
    "\n",
    "http://10.211.55.101:8088/cluster\n",
    "\n",
    "Go ahead and type that in your browser and you should see a screen like this:\n",
    "\n",
    "![](./assets/images/yarn.png)\n",
    "\n",
    "This will be useful when we run a hadoop job, in order to check the status of advancement."
   ]
  },
  {
   "cell_type": "markdown",
   "metadata": {},
   "source": [
    "<a name=\"guided-practice\"></a>\n",
    "## Exploring HDFS from the command line\n",
    "---\n",
    "\n",
    "Hadoop offers a command line interface to navigate the HDFS. The full documentation can be found here:\n",
    "\n",
    "http://hadoop.apache.org/docs/current/hadoop-project-dist/hadoop-common/FileSystemShell.html\n",
    "\n",
    "We've pre-loaded the machine with a few datasets, let's explore them typing the command:\n",
    "\n",
    "    $ hadoop fs -ls"
   ]
  },
  {
   "cell_type": "markdown",
   "metadata": {},
   "source": [
    "<a id='ex1'></a>\n",
    "### Exercise 1\n",
    "Explore HDFS and describe the content of each folder it contains. You will need to use a combination of commands like:\n",
    "\n",
    "    - ls\n",
    "    - cat"
   ]
  },
  {
   "cell_type": "markdown",
   "metadata": {},
   "source": [
    "<a name=\"guided-practice2\"></a>\n",
    "## Exploring HDFS from the web interface\n",
    "---\n",
    "\n",
    "Hadoop also offers a web interface to navigate and manage HDFS. It can be found at this address:\n",
    "\n",
    "http://10.211.55.101:50070\n",
    "\n",
    "and it looks like this:\n",
    "\n",
    "![](./assets/images/hdfsweb.png)\n",
    "\n",
    "<a id='ex2'></a>\n",
    "### Exercise 2\n",
    "Find how you can navigate the HDFS from the web interface. Is the content listed similar to what you were finding with the command line?\n"
   ]
  },
  {
   "cell_type": "code",
   "execution_count": null,
   "metadata": {
    "collapsed": true
   },
   "outputs": [],
   "source": [
    "# Answer: no, because the web interface displays the content of the root folder, \n",
    "# while the hadoop fs command automatically goes into the /users/hadoop folder."
   ]
  },
  {
   "cell_type": "markdown",
   "metadata": {},
   "source": [
    "<a name=\"guided-practice3\"></a>\n",
    "## Hadoop word count\n",
    "\n",
    "Let's create a very short file and count the number of words using Hadoop:\n",
    "\n",
    "    $ hadoop fs -mkdir wordcount-input\n",
    "    \n",
    "    $ echo \"hello dear world hello\" | hadoop fs -put - wordcount-input/hello.txt\n",
    "\n",
    "<a id='ex3'></a>\n",
    "### Exercise 3:\n",
    "Run the word count with the following command:\n",
    "\n",
    "    $ hadoop jar /usr/local/lib/hadoop-2.7.2/share/hadoop/mapreduce/hadoop*example*.jar \\\n",
    "                  wordcount wordcount-input wordcount-output\n",
    "\n",
    "\n",
    "![](./assets/images/hdwcshell.png)\n",
    "\n",
    "![](./assets/images/hdwcyarn.png)\n",
    "\n",
    "Check the results by typing:\n",
    "\n",
    "    $ hadoop fs -cat wordcount-output/part*\n",
    "    \n",
    "you should see:\n",
    "\n",
    "    dear   1\n",
    "    hello  2\n",
    "    world  1"
   ]
  },
  {
   "cell_type": "markdown",
   "metadata": {},
   "source": [
    "<a name=\"guided-practice4\"></a>\n",
    "## Hadoop streaming word count\n",
    "---\n",
    "\n",
    "Hadoop also offers a streaming interface. The streaming interface will process the data as a stream, one piece at a time, and it requires to be told what to do with each piece of data. This is somewhat similar to what we did with the map-reduce from the shell that we used in the previous class.\n",
    "\n",
    "Let's use the same python scripts to run a hadoop streaming map-reduce. We have pre-copied those scripts to your VM home folder, so that they are easy to access.\n",
    "\n",
    "First of all let's copy some data to hdfs. The data folder contains a folder called `project_gutenberg`. Let's copy that to hadoop:\n",
    "\n",
    "    $ hadoop fs -copyFromLocal data/project_gutenberg project_gutenberg\n",
    "    $ hadoop fs -copyFromLocal scripts scripts\n",
    "\n",
    "Go ahead and check that it's there:\n",
    "\n",
    "http://10.211.55.101:50070/explorer.html#/user/vagrant\n",
    "\n",
    "Great! Now we should pipe all the data contained in that folder through our scripts with hadoop streaming.\n",
    "First let's make sure that the scripts work by using the shell pipes we learned in the last lecture.\n",
    "\n",
    "    $ cat data/project_gutenberg/pg84.txt | python scripts/mapper.py | sort -k1,1 | python scripts/reducer.py \n",
    "\n",
    "Great! They still work. Ok now let's do hadoop streaming MR:\n",
    "\n",
    "    $ export STREAMING_JAR=/usr/local/lib/hadoop-2.7.2/share/hadoop/tools/lib/hadoop-streaming-2.7.2.jar\n",
    "    \n",
    "    $ hadoop jar $STREAMING_JAR  \\\n",
    "      -file /home/vagrant/scripts/mapper.py   \\\n",
    "      -mapper /home/vagrant/scripts/mapper.py \\\n",
    "      -file /home/vagrant/scripts/reducer.py  \\\n",
    "      -reducer /home/vagrant/scripts/reducer.py \\\n",
    "      -input /user/vagrant/project_gutenberg/* \\\n",
    "      -output /user/vagrant/output_gutenberg\n",
    "\n",
    "\n",
    "Check the status of your MR job here:\n",
    "\n",
    "http://10.211.55.101:8088/cluster/apps\n",
    "\n",
    "You can check your results in the HDFS explorer:\n",
    "\n",
    "http://10.211.55.101:50070/explorer.html#/user/vagrant/output_gutenberg"
   ]
  },
  {
   "cell_type": "markdown",
   "metadata": {},
   "source": [
    "<a id='ex4'></a>\n",
    "### Exercise 4\n",
    "\n",
    "You have learned how to spin up a local virtual machine running Hadoop and how to submit map reduce job flows to it! Congratulations.\n",
    "\n",
    "Go ahead and perform the map-reduce word count on the project gutenberg data using the Hadoop Jar used in exercise 3. You should get the list words with the counts as output. You can also save that list to a file and open it in Pandas to sort the words by the most frequent."
   ]
  },
  {
   "cell_type": "markdown",
   "metadata": {},
   "source": [
    "<a id='resources'></a>\n",
    "## Additional resources\n",
    "---\n",
    "\n",
    "- [Hadoop](http://hadoop.apache.org/)\n",
    "- [Hadoop command line](http://hadoop.apache.org/docs/current/hadoop-project-dist/hadoop-common/FileSystemShell.html)\n",
    "- [YARN](http://hadoop.apache.org/docs/current/hadoop-yarn/hadoop-yarn-site/YARN.html)\n",
    "- [Hadoop Streaming tutorial](http://www.michael-noll.com/tutorials/writing-an-hadoop-mapreduce-program-in-python/)\n",
    "- [Hadoop Streaming doc](https://hadoop.apache.org/docs/r1.2.1/streaming.html)"
   ]
  },
  {
   "cell_type": "code",
   "execution_count": null,
   "metadata": {
    "collapsed": true
   },
   "outputs": [],
   "source": []
  }
 ],
 "metadata": {
  "kernelspec": {
   "display_name": "Python 2",
   "language": "python",
   "name": "python2"
  },
  "language_info": {
   "codemirror_mode": {
    "name": "ipython",
    "version": 2
   },
   "file_extension": ".py",
   "mimetype": "text/x-python",
   "name": "python",
   "nbconvert_exporter": "python",
   "pygments_lexer": "ipython2",
   "version": "2.7.12"
  }
 },
 "nbformat": 4,
 "nbformat_minor": 2
}
