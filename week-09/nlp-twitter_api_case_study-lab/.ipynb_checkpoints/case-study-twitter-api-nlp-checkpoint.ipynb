{
 "cells": [
  {
   "cell_type": "markdown",
   "metadata": {},
   "source": [
    "<img src=\"http://imgur.com/1ZcRyrc.png\" style=\"float: left; margin: 20px; height: 55px\">\n",
    "\n",
    "# NLP Using the Twitter API: Guided Lab\n",
    "\n",
    "_Authors: Dave Yerrington (SF)_\n",
    "\n",
    "---\n",
    "\n",
    "\n",
    "<img src=\"https://snag.gy/RNAEgP.jpg\" width=\"600\">\n",
    "\n",
    "### Can we correctly identify which of these two old men tweeted what?\n",
    "\n",
    "> *Note: this lab is intended to be a guided lab until the independent practice questions.*\n"
   ]
  },
  {
   "cell_type": "markdown",
   "metadata": {},
   "source": [
    "## Goals\n",
    "---\n",
    "\n",
    "We are going to attempt to classify whether a tweet comes from Trump or Sanders.  This lab involves multiple steps:\n",
    "- Create a developer account on Twitter\n",
    "- Create a method to pull a list of tweets from the Twitter API\n",
    "- Perform proper preprocessing on our text\n",
    "- Engineer sentiment feature in our dataset using TextBlob\n",
    "- Explore supervised classification techniques\n"
   ]
  },
  {
   "cell_type": "markdown",
   "metadata": {},
   "source": [
    "## Twitter API Developer Registration\n",
    "---\n",
    "\n",
    "If you haven't registered a Twitter account yet, this is a requirement in order to have a \"developer\" account.\n",
    "\n",
    "[Twitter Rest API](https://dev.twitter.com/rest/public)\n",
    "\n"
   ]
  },
  {
   "cell_type": "markdown",
   "metadata": {},
   "source": [
    "## Create an \"App\"\n",
    "\n",
    "---\n",
    "\n",
    "![](https://snag.gy/HPBQbJ.jpg)\n",
    "\n",
    "Go to Twitter and register an \"app\" [apps.twitter.com](https://apps.twitter.com/).\n",
    "\n",
    "> **Note**: For the required website field you can put a placeholder.\n",
    "\n",
    "After you set up our app, you will only need to reference the cooresponding keys Twitter generates for our app.  These are the keys that we will use with our application to communicate with the Twitter API."
   ]
  },
  {
   "cell_type": "markdown",
   "metadata": {},
   "source": [
    "## Install Python Twitter API library\n",
    "\n",
    "---\n",
    "\n",
    "Someone was nice enough to build a Python libary for us. It makes pulling tweets simple: we only need to plug in our keys and start collecting data. The library we will be using is provided by [Python Twitter Tools](http://mike.verdone.ca/twitter/).\n",
    "\n",
    "To install it, uncomment and run the next frame (there is no conda package)."
   ]
  },
  {
   "cell_type": "code",
   "execution_count": 90,
   "metadata": {},
   "outputs": [
    {
     "name": "stdout",
     "output_type": "stream",
     "text": [
      "Requirement already satisfied: twitter in /Users/david.yan/anaconda/lib/python3.6/site-packages\n",
      "Requirement already satisfied: python-twitter in /Users/david.yan/anaconda/lib/python3.6/site-packages\n",
      "Requirement already satisfied: requests-oauthlib in /Users/david.yan/anaconda/lib/python3.6/site-packages (from python-twitter)\n",
      "Requirement already satisfied: future in /Users/david.yan/anaconda/lib/python3.6/site-packages (from python-twitter)\n",
      "Requirement already satisfied: requests in /Users/david.yan/anaconda/lib/python3.6/site-packages (from python-twitter)\n",
      "Requirement already satisfied: oauthlib>=0.6.2 in /Users/david.yan/anaconda/lib/python3.6/site-packages (from requests-oauthlib->python-twitter)\n"
     ]
    }
   ],
   "source": [
    "!pip install twitter python-twitter\n"
   ]
  },
  {
   "cell_type": "markdown",
   "metadata": {},
   "source": [
    "## Some Boring Twitter Rules\n",
    "---\n",
    "\n",
    "**Twitter notifies you they will rate limit your requests:**\n",
    "\n",
    ">When using application-only authentication, rate limits are determined globally for the entire application. If a method allows for 15 requests per rate limit window, then it allows you to make 15 requests per window — on behalf of your application. This limit is considered completely separately from per-user limits. https://dev.twitter.com/rest/public/rate-limiting\n",
    "\n",
    "Here's a quick overview of what Twitter says are \"the rules\":\n",
    "\n",
    "![](https://snag.gy/yJ6vIH.jpg)\n"
   ]
  },
  {
   "cell_type": "markdown",
   "metadata": {},
   "source": [
    "## About those Keys: OAuth Review\n",
    "---\n",
    "\n",
    "![](https://g.twimg.com/dev/documentation/image/appauth_0.png)"
   ]
  },
  {
   "cell_type": "markdown",
   "metadata": {},
   "source": [
    "## What's going on here?  Take a minute.."
   ]
  },
  {
   "cell_type": "markdown",
   "metadata": {},
   "source": [
    "## Our Application Keys\n",
    "---\n",
    "\n",
    "Take note of your application keys you will use to connect to Twitter and mine tweets from the official Bernie Sanders and Donald Trump twitter accounts:\n",
    "\n",
    "![](https://snag.gy/H1djQK.jpg)"
   ]
  },
  {
   "cell_type": "markdown",
   "metadata": {},
   "source": [
    "## `TweetMiner` class structure\n",
    "\n",
    "---\n",
    "\n",
    "The following code will get you up and running, providing connectivity to twitter. The class has the ability to make requests and can eventually transform the JSON responses into DataFrames.\n",
    "\n",
    "This is a great example of using object-oriented Python to organize our code!\n",
    "\n",
    "> **Note:** \"request_limit\" is used in this class to limit the number of tweets that are pulled per instance request.  Setting it to something lower until you've worked the bugs out of your request, and captured the data you want, is essential to avoiding the rate limit blocks.\n",
    "\n",
    "### Twitter API key setup\n",
    "\n",
    "Fill the information below in with the keys for your account.\n",
    "\n",
    "- **consumer_key** - Find this in your app page under the \"Keys and Access Tokens\"\n",
    "- **consumer_secret** - Right under **consumer_key** in the \"Keys and Access Tokens\" tab\n",
    "- **access_token_key** - You will need to click the button to generate tokens to get this\n",
    "- **access_token_secret** - Also available after you generate tokens\n"
   ]
  },
  {
   "cell_type": "code",
   "execution_count": 91,
   "metadata": {},
   "outputs": [],
   "source": [
    "import twitter, re, datetime, pandas as pd\n",
    "\n",
    "# your keys go here:\n",
    "twitter_keys = {\n",
    "    'consumer_key':        'HxQhJAHM8azhFY6zqqn6Hk4Qs',\n",
    "    'consumer_secret':     '7K1FpXnJiVkuLaRMjfdr6yzn7rJf8yEogo1aC8lel95IalYtzO',\n",
    "    'access_token_key':    '1091617412-Lx3thzrY9lCk2Sm4mkFQwEgpGevns1id9W0iPsC',\n",
    "    'access_token_secret': 'e1WnhuJ12eUyoK7C5I5us6dxlyyLMCigqygKSZfznkzYj'\n",
    "}\n",
    "\n",
    "api = twitter.Api(\n",
    "    consumer_key         =   twitter_keys['consumer_key'],\n",
    "    consumer_secret      =   twitter_keys['consumer_secret'],\n",
    "    access_token_key     =   twitter_keys['access_token_key'],\n",
    "    access_token_secret  =   twitter_keys['access_token_secret']\n",
    ")\n"
   ]
  },
  {
   "cell_type": "code",
   "execution_count": 92,
   "metadata": {},
   "outputs": [],
   "source": [
    "class TweetMiner(object):\n",
    "\n",
    "    result_limit    =   20    \n",
    "    api             =   False\n",
    "    data            =   []\n",
    "    \n",
    "    def __init__(self, keys_dict, api, result_limit = 20):\n",
    "        \n",
    "        self.api = api\n",
    "        self.twitter_keys = keys_dict\n",
    "        \n",
    "        self.result_limit = result_limit\n",
    "        \n",
    "\n",
    "    def mine_user_tweets(self, user=\"dyerrington\", mine_rewteets=False, max_pages=5):\n",
    "\n",
    "        data           =  []\n",
    "        last_tweet_id  =  False\n",
    "        page           =  1\n",
    "        \n",
    "        while page <= max_pages:\n",
    "            \n",
    "            if last_tweet_id:\n",
    "                statuses   =   self.api.GetUserTimeline(screen_name=user, count=self.result_limit, max_id=last_tweet_id - 1)        \n",
    "            else:\n",
    "                statuses   =   self.api.GetUserTimeline(screen_name=user, count=self.result_limit)\n",
    "                \n",
    "            for item in statuses:\n",
    "\n",
    "                mined = {\n",
    "                    'tweet_id':        item.id,\n",
    "                    'handle':          item.user.name,\n",
    "                    'retweet_count':   item.retweet_count,\n",
    "                    'text':            item.text,\n",
    "                    'mined_at':        datetime.datetime.now(),\n",
    "                    'created_at':      item.created_at,\n",
    "                }\n",
    "                \n",
    "                last_tweet_id = item.id\n",
    "                data.append(mined)\n",
    "                \n",
    "            page += 1\n",
    "            \n",
    "        return data"
   ]
  },
  {
   "cell_type": "markdown",
   "metadata": {},
   "source": [
    "## Instantiate the class\n",
    "---\n",
    "\n",
    "Make sure you pass the keys dictionary and the api as arguments.\n",
    "\n",
    "**Check:** call the object's `mine_user_tweets()` method, providing a user to pull the tweets of."
   ]
  },
  {
   "cell_type": "code",
   "execution_count": 93,
   "metadata": {
    "collapsed": true
   },
   "outputs": [],
   "source": [
    "# A:\n",
    "# Initialize Tweet Miner Object\n",
    "tweetminer = TweetMiner(keys_dict=twitter_keys, api=api, result_limit=20)"
   ]
  },
  {
   "cell_type": "code",
   "execution_count": 94,
   "metadata": {
    "collapsed": true
   },
   "outputs": [],
   "source": [
    "donald_tweets = tweetminer.mine_user_tweets(user='realDonaldTrump', max_pages=10)\n",
    "bernie_tweets = tweetminer.mine_user_tweets(user='berniesanders', max_pages=10)"
   ]
  },
  {
   "cell_type": "markdown",
   "metadata": {},
   "source": [
    "### Convert the tweet ouputs to a pandas DataFrame\n",
    "\n",
    "> *Hint: this is as easy as passing it to the DataFrame constructor!*"
   ]
  },
  {
   "cell_type": "code",
   "execution_count": 95,
   "metadata": {},
   "outputs": [],
   "source": [
    "# A:\n",
    "donald_df = pd.DataFrame(donald_tweets)\n",
    "bernie_df = pd.DataFrame(bernie_tweets)"
   ]
  },
  {
   "cell_type": "markdown",
   "metadata": {
    "collapsed": true
   },
   "source": [
    "##  Create the training data\n",
    "\n",
    "---\n",
    "\n",
    "Let's get our \"mined\" data from the Twitter API.  \n",
    "\n",
    "1. Mine Trump tweets\n",
    "- Create a tweet DataFrame\n",
    "- Mine Sanders tweets\n",
    "- Append the results to our DataFrame"
   ]
  },
  {
   "cell_type": "code",
   "execution_count": 96,
   "metadata": {},
   "outputs": [],
   "source": [
    "# A:\n",
    "df = pd.concat([donald_df,bernie_df], ignore_index=True)"
   ]
  },
  {
   "cell_type": "markdown",
   "metadata": {},
   "source": [
    "## Any interesting ngrams going on with Trump?\n",
    "---\n",
    "\n",
    "Set up a vectorizer from sklearn and fit the text of Trump's tweets with an ngram range from 2 to 4. Figure out what the most common ngrams are.\n",
    "\n",
    "> **Note:** It's up to you whether you want to remove stopwords or not. How does keeping or removing stopwords affect the results?"
   ]
  },
  {
   "cell_type": "code",
   "execution_count": 116,
   "metadata": {
    "collapsed": true
   },
   "outputs": [],
   "source": [
    "# A:\n",
    "from sklearn.feature_extraction.text import TfidfVectorizer, CountVectorizer\n",
    "import numpy as np\n",
    "from collections import Counter"
   ]
  },
  {
   "cell_type": "code",
   "execution_count": 98,
   "metadata": {},
   "outputs": [
    {
     "data": {
      "text/plain": [
       "CountVectorizer(analyzer=u'word', binary=False, decode_error=u'strict',\n",
       "        dtype=<type 'numpy.int64'>, encoding=u'utf-8', input=u'content',\n",
       "        lowercase=True, max_df=1.0, max_features=None, min_df=1,\n",
       "        ngram_range=(2, 4), preprocessor=None, stop_words=None,\n",
       "        strip_accents=None, token_pattern=u'(?u)\\\\b\\\\w\\\\w+\\\\b',\n",
       "        tokenizer=None, vocabulary=None)"
      ]
     },
     "execution_count": 98,
     "metadata": {},
     "output_type": "execute_result"
    }
   ],
   "source": [
    "cvec = CountVectorizer(ngram_range=(2,4))\n",
    "cvec.fit(donald_df.text)"
   ]
  },
  {
   "cell_type": "code",
   "execution_count": 99,
   "metadata": {},
   "outputs": [
    {
     "data": {
      "text/plain": [
       "9591"
      ]
     },
     "execution_count": 99,
     "metadata": {},
     "output_type": "execute_result"
    }
   ],
   "source": [
    "len(cvec.get_feature_names())"
   ]
  },
  {
   "cell_type": "code",
   "execution_count": 100,
   "metadata": {},
   "outputs": [
    {
     "data": {
      "text/plain": [
       "CountVectorizer(analyzer=u'word', binary=False, decode_error=u'strict',\n",
       "        dtype=<type 'numpy.int64'>, encoding=u'utf-8', input=u'content',\n",
       "        lowercase=True, max_df=1.0, max_features=None, min_df=1,\n",
       "        ngram_range=(2, 4), preprocessor=None, stop_words='english',\n",
       "        strip_accents=None, token_pattern=u'(?u)\\\\b\\\\w\\\\w+\\\\b',\n",
       "        tokenizer=None, vocabulary=None)"
      ]
     },
     "execution_count": 100,
     "metadata": {},
     "output_type": "execute_result"
    }
   ],
   "source": [
    "cvec_stop = CountVectorizer(ngram_range=(2,4), stop_words='english')\n",
    "cvec_stop.fit(donald_df.text)"
   ]
  },
  {
   "cell_type": "code",
   "execution_count": 101,
   "metadata": {},
   "outputs": [
    {
     "data": {
      "text/plain": [
       "5328"
      ]
     },
     "execution_count": 101,
     "metadata": {},
     "output_type": "execute_result"
    }
   ],
   "source": [
    "len(cvec_stop.get_feature_names())"
   ]
  },
  {
   "cell_type": "code",
   "execution_count": 102,
   "metadata": {},
   "outputs": [],
   "source": [
    "tfidf_df = pd.DataFrame(cvec.transform(donald_df.text).todense(),\n",
    "                       columns=cvec.get_feature_names())\n",
    "tfidf_df_stop = pd.DataFrame(cvec_stop.transform(donald_df.text).todense(),\n",
    "                       columns=cvec_stop.get_feature_names())"
   ]
  },
  {
   "cell_type": "code",
   "execution_count": 103,
   "metadata": {
    "scrolled": true
   },
   "outputs": [
    {
     "data": {
      "text/plain": [
       "https co              158\n",
       "of the                 23\n",
       "our country            14\n",
       "to the                 14\n",
       "will be                12\n",
       "thank you              12\n",
       "the democrats          11\n",
       "in the                 10\n",
       "fake news              10\n",
       "democrats are           9\n",
       "honor to                9\n",
       "for our                 9\n",
       "for the                 9\n",
       "at the                  9\n",
       "is the                  9\n",
       "want to                 9\n",
       "the wall                9\n",
       "it was                  9\n",
       "rt realdonaldtrump      8\n",
       "the https               7\n",
       "dtype: int64"
      ]
     },
     "execution_count": 103,
     "metadata": {},
     "output_type": "execute_result"
    }
   ],
   "source": [
    "# without stop\n",
    "word_counts = tfidf_df.sum(axis=0)\n",
    "word_counts.sort_values(ascending = False).head(20)"
   ]
  },
  {
   "cell_type": "code",
   "execution_count": 104,
   "metadata": {
    "scrolled": true
   },
   "outputs": [
    {
     "data": {
      "text/plain": [
       "fake news                10\n",
       "rt realdonaldtrump        8\n",
       "stock market              7\n",
       "great honor               6\n",
       "davos switzerland         6\n",
       "president trump           6\n",
       "tax cut                   5\n",
       "southern border           5\n",
       "america great             4\n",
       "military safety           4\n",
       "rt foxnews                4\n",
       "great military            4\n",
       "white house               3\n",
       "great military safety     3\n",
       "illegal immigration       3\n",
       "just want                 3\n",
       "great news                3\n",
       "democrats want            3\n",
       "military https            3\n",
       "prime minister            3\n",
       "dtype: int64"
      ]
     },
     "execution_count": 104,
     "metadata": {},
     "output_type": "execute_result"
    }
   ],
   "source": [
    "# with stop\n",
    "word_counts = tfidf_df_stop.sum(axis=0)\n",
    "word_counts.sort_values(ascending = False).head(20)"
   ]
  },
  {
   "cell_type": "markdown",
   "metadata": {},
   "source": [
    "### Look at the ngrams for Bernie Sanders"
   ]
  },
  {
   "cell_type": "code",
   "execution_count": 105,
   "metadata": {},
   "outputs": [
    {
     "data": {
      "text/plain": [
       "CountVectorizer(analyzer=u'word', binary=False, decode_error=u'strict',\n",
       "        dtype=<type 'numpy.int64'>, encoding=u'utf-8', input=u'content',\n",
       "        lowercase=True, max_df=1.0, max_features=None, min_df=1,\n",
       "        ngram_range=(2, 4), preprocessor=None, stop_words=None,\n",
       "        strip_accents=None, token_pattern=u'(?u)\\\\b\\\\w\\\\w+\\\\b',\n",
       "        tokenizer=None, vocabulary=None)"
      ]
     },
     "execution_count": 105,
     "metadata": {},
     "output_type": "execute_result"
    }
   ],
   "source": [
    "cvec = CountVectorizer(ngram_range=(2,4))\n",
    "cvec.fit(bernie_df.text)"
   ]
  },
  {
   "cell_type": "code",
   "execution_count": 106,
   "metadata": {},
   "outputs": [
    {
     "data": {
      "text/plain": [
       "9795"
      ]
     },
     "execution_count": 106,
     "metadata": {},
     "output_type": "execute_result"
    }
   ],
   "source": [
    "len(cvec.get_feature_names())"
   ]
  },
  {
   "cell_type": "code",
   "execution_count": 107,
   "metadata": {},
   "outputs": [
    {
     "data": {
      "text/plain": [
       "CountVectorizer(analyzer=u'word', binary=False, decode_error=u'strict',\n",
       "        dtype=<type 'numpy.int64'>, encoding=u'utf-8', input=u'content',\n",
       "        lowercase=True, max_df=1.0, max_features=None, min_df=1,\n",
       "        ngram_range=(2, 4), preprocessor=None, stop_words='english',\n",
       "        strip_accents=None, token_pattern=u'(?u)\\\\b\\\\w\\\\w+\\\\b',\n",
       "        tokenizer=None, vocabulary=None)"
      ]
     },
     "execution_count": 107,
     "metadata": {},
     "output_type": "execute_result"
    }
   ],
   "source": [
    "cvec_stop = CountVectorizer(ngram_range=(2,4), stop_words='english')\n",
    "cvec_stop.fit(bernie_df.text)"
   ]
  },
  {
   "cell_type": "code",
   "execution_count": 108,
   "metadata": {},
   "outputs": [
    {
     "data": {
      "text/plain": [
       "5419"
      ]
     },
     "execution_count": 108,
     "metadata": {},
     "output_type": "execute_result"
    }
   ],
   "source": [
    "len(cvec_stop.get_feature_names())"
   ]
  },
  {
   "cell_type": "code",
   "execution_count": 109,
   "metadata": {},
   "outputs": [],
   "source": [
    "cfidf_df = pd.DataFrame(cvec.transform(bernie_df.text).todense(),\n",
    "                       columns=cvec.get_feature_names())\n",
    "cfidf_df_stop = pd.DataFrame(cvec_stop.transform(bernie_df.text).todense(),\n",
    "                       columns=cvec_stop.get_feature_names())"
   ]
  },
  {
   "cell_type": "code",
   "execution_count": 110,
   "metadata": {
    "scrolled": true
   },
   "outputs": [
    {
     "data": {
      "text/plain": [
       "https co                112\n",
       "health care              37\n",
       "to the                   15\n",
       "bernie sanders           15\n",
       "we must                  11\n",
       "to be                    10\n",
       "in the                   10\n",
       "of the                    9\n",
       "for all                   9\n",
       "it is                     9\n",
       "the republican            8\n",
       "are with                  8\n",
       "my thoughts               8\n",
       "with the                  7\n",
       "to make                   7\n",
       "vote for                  7\n",
       "thoughts are              7\n",
       "my thoughts are with      7\n",
       "my thoughts are           7\n",
       "thoughts are with         7\n",
       "dtype: int64"
      ]
     },
     "execution_count": 110,
     "metadata": {},
     "output_type": "execute_result"
    }
   ],
   "source": [
    "# without stop\n",
    "word_counts = cfidf_df.sum(axis=0)\n",
    "word_counts.sort_values(ascending = False).head(20)"
   ]
  },
  {
   "cell_type": "code",
   "execution_count": 111,
   "metadata": {
    "scrolled": true
   },
   "outputs": [
    {
     "data": {
      "text/plain": [
       "health care               37\n",
       "bernie sanders            15\n",
       "health care right          8\n",
       "care right                 8\n",
       "universal health           6\n",
       "senator berniesanders      5\n",
       "sen berniesanders          5\n",
       "universal health care      5\n",
       "president trump            4\n",
       "american people            4\n",
       "health insurance           4\n",
       "rt ironstache              4\n",
       "tuition free               4\n",
       "care https                 4\n",
       "health care https          4\n",
       "tax breaks                 4\n",
       "rt kamalaharris            4\n",
       "republican health care     3\n",
       "election day               3\n",
       "sen bernie sanders         3\n",
       "dtype: int64"
      ]
     },
     "execution_count": 111,
     "metadata": {},
     "output_type": "execute_result"
    }
   ],
   "source": [
    "# with stop\n",
    "word_counts = cfidf_df_stop.sum(axis=0)\n",
    "word_counts.sort_values(ascending = False).head(20)"
   ]
  },
  {
   "cell_type": "markdown",
   "metadata": {},
   "source": [
    "## Processing the tweets and building a model\n",
    "\n",
    "---\n",
    "\n",
    "To do classfication we will need to convert the tweets into a set of features.\n",
    "\n",
    "**You will need to:**\n",
    "- Vectorize input text data.\n",
    "- Intialize a model (try Logistic regression).\n",
    "- Train / Predict / cross-validate.\n",
    "- Evaluate the performance of the model.\n",
    "\n",
    "> **Bonus:** you may have noticed that there are website links in the tweets. What additional preprocessing steps can you do before building the model?\n"
   ]
  },
  {
   "cell_type": "code",
   "execution_count": 118,
   "metadata": {
    "collapsed": true
   },
   "outputs": [],
   "source": [
    "# A:\n",
    "# fit transform first\n",
    "tvec = TfidfVectorizer(ngram_range=(2,4), stop_words='english')\n",
    "tvec.fit(df.text)\n",
    "text_tvec_df = pd.DataFrame(tvec.transform(df.text).todense(),\n",
    "                       columns=tvec.get_feature_names())"
   ]
  },
  {
   "cell_type": "code",
   "execution_count": 119,
   "metadata": {
    "collapsed": true
   },
   "outputs": [],
   "source": [
    "# use handle column as target\n",
    "y = df.handle.map(lambda x: 1 if x == 'Donald J. Trump' else 0)\n",
    "X = text_tvec_df"
   ]
  },
  {
   "cell_type": "code",
   "execution_count": 120,
   "metadata": {},
   "outputs": [],
   "source": [
    "from sklearn.linear_model import LogisticRegression\n",
    "from sklearn.model_selection import cross_val_score\n",
    "from sklearn import metrics\n",
    "lr = LogisticRegression()"
   ]
  },
  {
   "cell_type": "code",
   "execution_count": 121,
   "metadata": {},
   "outputs": [
    {
     "name": "stdout",
     "output_type": "stream",
     "text": [
      "0.745\n",
      "0.0522015325446\n"
     ]
    }
   ],
   "source": [
    "scores = cross_val_score(lr, X, y, cv=10)\n",
    "print np.mean(scores)\n",
    "print np.std(scores)"
   ]
  },
  {
   "cell_type": "markdown",
   "metadata": {},
   "source": [
    "## Check the predicted probability for a random Sanders and Trump tweet\n",
    "---\n",
    "\n",
    "Below are provided a couple of tweets from both Sanders and Trump. I'm sure you can figure out on your own which one is which.\n",
    "\n",
    "Estimate the predicted probability of being trump for the two tweets."
   ]
  },
  {
   "cell_type": "code",
   "execution_count": 126,
   "metadata": {},
   "outputs": [
    {
     "data": {
      "text/plain": [
       "array([[ 0.5594169 ,  0.4405831 ],\n",
       "       [ 0.49297819,  0.50702181]])"
      ]
     },
     "execution_count": 126,
     "metadata": {},
     "output_type": "execute_result"
    }
   ],
   "source": [
    "# Prep our source as TfIdf vectors\n",
    "source_test = [\n",
    "    \"Demanding that the wealthy and the powerful start paying their fair share of taxes that's exactly what the American people want.\",\n",
    "    \"Crooked Hillary is spending tremendous amounts of Wall Street money on false ads against me. She is a very dishonest person!\"\n",
    "]\n",
    "\n",
    "############\n",
    "# NOTE:  Do not re-initialize the tfidf vectorizor or the feature space willbe overwritten and\n",
    "# hence your transform will not match the number of features you trained your model on.\n",
    "#\n",
    "# This is why you only need to \"transform\" since you already \"fit\" previously\n",
    "#\n",
    "####\n",
    "Xtest = pd.DataFrame(tvec.transform(source_test).todense(),\n",
    "                       columns=tvec.get_feature_names())\n",
    "lr.fit(X,y)\n",
    "lr.predict_proba(Xtest)"
   ]
  },
  {
   "cell_type": "markdown",
   "metadata": {},
   "source": [
    "## Independent practice questions\n",
    "\n",
    "---"
   ]
  },
  {
   "cell_type": "markdown",
   "metadata": {},
   "source": [
    "### 1. Pull tweets for some new users.\n",
    "\n",
    "Experiment with using more data.  The API will not like it if you blow through their limits - be careful.  Try to grab only what you need one time, then work on the copy of the objects that are returned.  \n",
    "\n",
    "> Read the documentation about rate limits and see if you can get enough without hitting the rate limit.  Are there any options available in the API to avoid such a problem?\n",
    "\n",
    "**Pull tweets for more than two different users of your choice.**"
   ]
  },
  {
   "cell_type": "code",
   "execution_count": 146,
   "metadata": {
    "collapsed": true
   },
   "outputs": [],
   "source": [
    "# A:\n",
    "chris_tweets = tweetminer.mine_user_tweets(user='christanggg', max_pages=10)\n",
    "marcus_tweets = tweetminer.mine_user_tweets(user='whatidooo', max_pages=10)"
   ]
  },
  {
   "cell_type": "code",
   "execution_count": 147,
   "metadata": {},
   "outputs": [],
   "source": [
    "chris_df = pd.DataFrame(chris_tweets)\n",
    "marcus_df = pd.DataFrame(marcus_tweets)\n",
    "df = pd.concat([chris_df,marcus_df], ignore_index=True)"
   ]
  },
  {
   "cell_type": "code",
   "execution_count": 148,
   "metadata": {},
   "outputs": [
    {
     "data": {
      "text/plain": [
       "Chris Tang     200\n",
       "marcus quah    196\n",
       "Name: handle, dtype: int64"
      ]
     },
     "execution_count": 148,
     "metadata": {},
     "output_type": "execute_result"
    }
   ],
   "source": [
    "df.handle.value_counts()"
   ]
  },
  {
   "cell_type": "code",
   "execution_count": 149,
   "metadata": {
    "scrolled": false
   },
   "outputs": [],
   "source": [
    "marcus_or_not = df.handle.map(lambda x: 1 if x == 'marcus quah' else 0)"
   ]
  },
  {
   "cell_type": "code",
   "execution_count": 151,
   "metadata": {
    "scrolled": true
   },
   "outputs": [
    {
     "data": {
      "text/plain": [
       "don know                             4\n",
       "rt manutd                            4\n",
       "rt manutd retweet                    2\n",
       "oh man                               2\n",
       "manutd retweet vote                  2\n",
       "people cut                           2\n",
       "20 mins                              2\n",
       "people cut queue                     2\n",
       "rt manutd retweet vote               2\n",
       "man match                            2\n",
       "ok la                                2\n",
       "vs monaco                            2\n",
       "french fries                         2\n",
       "wtf https                            2\n",
       "leicester vs monaco                  2\n",
       "old man                              2\n",
       "leicester vs                         2\n",
       "manutd retweet                       2\n",
       "ha ha                                2\n",
       "know time                            2\n",
       "lol wtf                              2\n",
       "paper today                          2\n",
       "retweet vote                         2\n",
       "stubborn old man                     2\n",
       "stubborn old                         2\n",
       "air spoil                            2\n",
       "lol wtf https                        2\n",
       "felt like                            2\n",
       "got time                             2\n",
       "cut queue                            2\n",
       "                                    ..\n",
       "playing scissors paper stone         1\n",
       "playing scissors paper               1\n",
       "playing scissors                     1\n",
       "playing radio loudly bus             1\n",
       "playing radio loudly                 1\n",
       "playing radio                        1\n",
       "playing poker                        1\n",
       "playing fullest potential kind       1\n",
       "pogba telling                        1\n",
       "pogba telling ander herrera          1\n",
       "prepare lessons tomorrow             1\n",
       "points climb                         1\n",
       "prepare lessons                      1\n",
       "prepare fledged adult                1\n",
       "prepare fledged                      1\n",
       "prefer called uncle 小弟               1\n",
       "prefer called uncle                  1\n",
       "prefer called                        1\n",
       "potential kind club                  1\n",
       "potential kind                       1\n",
       "possession walao footballing gods    1\n",
       "possession walao footballing         1\n",
       "possession walao                     1\n",
       "poor today ughhhhhhhhhhh             1\n",
       "poor today                           1\n",
       "points manchester city               1\n",
       "points manchester                    1\n",
       "points climb table staying           1\n",
       "points climb table                   1\n",
       "100 discount                         1\n",
       "Length: 2736, dtype: int64"
      ]
     },
     "execution_count": 151,
     "metadata": {},
     "output_type": "execute_result"
    }
   ],
   "source": [
    "# chris\n",
    "cvec = CountVectorizer(ngram_range=(2,4), stop_words='english')\n",
    "cvec.fit(chris_df.text)\n",
    "text_cvec_df = pd.DataFrame(cvec.transform(chris_df.text).todense(),\n",
    "                       columns=cvec.get_feature_names())\n",
    "text_cvec_df.sum(axis=0).sort_values(ascending=False)"
   ]
  },
  {
   "cell_type": "code",
   "execution_count": 150,
   "metadata": {
    "scrolled": true
   },
   "outputs": [
    {
     "data": {
      "text/plain": [
       "rt pakalupapito                           14\n",
       "rt 9gag                                   13\n",
       "rt thefunnyfml                             8\n",
       "rt drunksixthgrade                         6\n",
       "rt funnyviness                             5\n",
       "weijiebao misterjujubes                    5\n",
       "rt mrbrown                                 5\n",
       "rt transfersite                            5\n",
       "rt footymemes                              4\n",
       "rt time                                    4\n",
       "rt imlesliechow                            4\n",
       "littlelollygag weijiebao                   3\n",
       "misterjujubes sorry                        3\n",
       "rt roastmedaily                            3\n",
       "littlelollygag misterjujubes               3\n",
       "game played                                2\n",
       "start wol                                  2\n",
       "misterjujubes lol                          2\n",
       "misterjujubes hi                           2\n",
       "misterjujubes littlelollygag               2\n",
       "rt bestofbadpranks                         2\n",
       "misterjujubes good game played             2\n",
       "misterjujubes good game                    2\n",
       "littlelollygag weijiebao misterjujubes     2\n",
       "seller scammer https i0r2nrjm4e            2\n",
       "https i0r2nrjm4e                           2\n",
       "seller scammer https                       2\n",
       "rt comedypics                              2\n",
       "let know                                   2\n",
       "rt comedyworidstar                         2\n",
       "                                          ..\n",
       "racism backfired interesting               1\n",
       "racism backfired                           1\n",
       "quarelling shouting night streets          1\n",
       "quarelling shouting night                  1\n",
       "quarelling shouting                        1\n",
       "quahcy ok                                  1\n",
       "qbda5cp9mz http tar4mikke1                 1\n",
       "read time                                  1\n",
       "read time original cover                   1\n",
       "ref leichester match today                 1\n",
       "realize school start                       1\n",
       "ref leichester match                       1\n",
       "ref leichester                             1\n",
       "recovering https btlmu374mw                1\n",
       "recovering https                           1\n",
       "recovering ban https btlmu374mw            1\n",
       "recovering ban https                       1\n",
       "recovering ban                             1\n",
       "realize school start http                  1\n",
       "realize school                             1\n",
       "reading working                            1\n",
       "realize dreams dead https                  1\n",
       "realize dreams dead                        1\n",
       "realize dreams                             1\n",
       "real investors constantly grill            1\n",
       "real investors constantly                  1\n",
       "real investors                             1\n",
       "reading working loud johnstepper           1\n",
       "reading working loud                       1\n",
       "100 layers                                 1\n",
       "Length: 2873, dtype: int64"
      ]
     },
     "execution_count": 150,
     "metadata": {},
     "output_type": "execute_result"
    }
   ],
   "source": [
    "# marcus\n",
    "cvec = CountVectorizer(ngram_range=(2,4), stop_words='english')\n",
    "cvec.fit(marcus_df.text)\n",
    "text_cvec_df = pd.DataFrame(cvec.transform(marcus_df.text).todense(),\n",
    "                       columns=cvec.get_feature_names())\n",
    "text_cvec_df.sum(axis=0).sort_values(ascending=False)"
   ]
  },
  {
   "cell_type": "code",
   "execution_count": 136,
   "metadata": {
    "collapsed": true
   },
   "outputs": [],
   "source": [
    "tvec = TfidfVectorizer(ngram_range=(2,4), stop_words='english')\n",
    "tvec.fit(df.text)\n",
    "text_tvec_df = pd.DataFrame(tvec.transform(df.text).todense(),\n",
    "                       columns=tvec.get_feature_names())"
   ]
  },
  {
   "cell_type": "code",
   "execution_count": 138,
   "metadata": {
    "scrolled": true
   },
   "outputs": [],
   "source": [
    "y = marcus_or_not\n",
    "X = text_tvec_df"
   ]
  },
  {
   "cell_type": "code",
   "execution_count": 140,
   "metadata": {},
   "outputs": [
    {
     "data": {
      "text/plain": [
       "0.50505050505050497"
      ]
     },
     "execution_count": 140,
     "metadata": {},
     "output_type": "execute_result"
    }
   ],
   "source": [
    "# baseline\n",
    "1 - y.mean()"
   ]
  },
  {
   "cell_type": "markdown",
   "metadata": {},
   "source": [
    "### 2. Build a multi-class classification model to distinguish between the users.\n",
    "\n",
    "Try a new type of model than we used before."
   ]
  },
  {
   "cell_type": "code",
   "execution_count": 144,
   "metadata": {
    "collapsed": true
   },
   "outputs": [],
   "source": [
    "# A:\n",
    "import matplotlib.pyplot as plt\n",
    "from sklearn.neighbors import KNeighborsClassifier\n",
    "\n",
    "%matplotlib inline\n",
    "%config InlineBackend.figure_format = 'retina'"
   ]
  },
  {
   "cell_type": "code",
   "execution_count": 145,
   "metadata": {},
   "outputs": [
    {
     "data": {
      "image/png": "[encoded data removed]",
      "text/plain": [
       "<matplotlib.figure.Figure at 0x1032a4510>"
      ]
     },
     "metadata": {
      "image/png": {
       "height": 304,
       "width": 491
      }
     },
     "output_type": "display_data"
    }
   ],
   "source": [
    "# try knn\n",
    "k_values = range(1,50)\n",
    "accs = []\n",
    "for k in k_values:\n",
    "    knn = KNeighborsClassifier(n_neighbors=k)\n",
    "    scores = cross_val_score(knn, X, y, cv=10)\n",
    "    accs.append(np.mean(scores))\n",
    "    \n",
    "fig, ax = plt.subplots(figsize=(8,5))\n",
    "ax.plot(k_values, accs, lw=3)\n",
    "plt.show()"
   ]
  },
  {
   "cell_type": "markdown",
   "metadata": {},
   "source": [
    "### 3. Make a confusion matrix and classification report."
   ]
  },
  {
   "cell_type": "code",
   "execution_count": 160,
   "metadata": {
    "collapsed": true
   },
   "outputs": [],
   "source": [
    "# A:\n",
    "from sklearn.model_selection import train_test_split\n",
    "from sklearn.metrics import classification_report, confusion_matrix"
   ]
  },
  {
   "cell_type": "code",
   "execution_count": 161,
   "metadata": {
    "collapsed": true
   },
   "outputs": [],
   "source": [
    "X_train, X_test, y_train, y_test = train_test_split(X, y, test_size=0.3, random_state=42)"
   ]
  },
  {
   "cell_type": "code",
   "execution_count": 166,
   "metadata": {},
   "outputs": [
    {
     "data": {
      "text/plain": [
       "KNeighborsClassifier(algorithm='auto', leaf_size=30, metric='minkowski',\n",
       "           metric_params=None, n_jobs=1, n_neighbors=21, p=2,\n",
       "           weights='uniform')"
      ]
     },
     "execution_count": 166,
     "metadata": {},
     "output_type": "execute_result"
    }
   ],
   "source": [
    "knn = KNeighborsClassifier(n_neighbors=21)\n",
    "knn.fit(X_train, y_train)"
   ]
  },
  {
   "cell_type": "code",
   "execution_count": 167,
   "metadata": {
    "collapsed": true
   },
   "outputs": [],
   "source": [
    "yhat = knn.predict(X_test)"
   ]
  },
  {
   "cell_type": "code",
   "execution_count": 168,
   "metadata": {},
   "outputs": [
    {
     "data": {
      "text/html": [
       "<div>\n",
       "<style scoped>\n",
       "    .dataframe tbody tr th:only-of-type {\n",
       "        vertical-align: middle;\n",
       "    }\n",
       "\n",
       "    .dataframe tbody tr th {\n",
       "        vertical-align: top;\n",
       "    }\n",
       "\n",
       "    .dataframe thead th {\n",
       "        text-align: right;\n",
       "    }\n",
       "</style>\n",
       "<table border=\"1\" class=\"dataframe\">\n",
       "  <thead>\n",
       "    <tr style=\"text-align: right;\">\n",
       "      <th></th>\n",
       "      <th>predicted_marcus</th>\n",
       "      <th>predicted_chris</th>\n",
       "    </tr>\n",
       "  </thead>\n",
       "  <tbody>\n",
       "    <tr>\n",
       "      <th>marcus</th>\n",
       "      <td>29</td>\n",
       "      <td>24</td>\n",
       "    </tr>\n",
       "    <tr>\n",
       "      <th>chris</th>\n",
       "      <td>26</td>\n",
       "      <td>40</td>\n",
       "    </tr>\n",
       "  </tbody>\n",
       "</table>\n",
       "</div>"
      ],
      "text/plain": [
       "        predicted_marcus  predicted_chris\n",
       "marcus                29               24\n",
       "chris                 26               40"
      ]
     },
     "execution_count": 168,
     "metadata": {},
     "output_type": "execute_result"
    }
   ],
   "source": [
    "conmat = np.array(confusion_matrix(y_test, yhat, labels=[1,0]))\n",
    "\n",
    "confusion = pd.DataFrame(conmat, index=['marcus', 'chris'],\n",
    "                         columns=['predicted_marcus','predicted_chris'])\n",
    "confusion"
   ]
  },
  {
   "cell_type": "code",
   "execution_count": 169,
   "metadata": {},
   "outputs": [
    {
     "name": "stdout",
     "output_type": "stream",
     "text": [
      "             precision    recall  f1-score   support\n",
      "\n",
      "      chris       0.62      0.61      0.62        66\n",
      "     marcus       0.53      0.55      0.54        53\n",
      "\n",
      "avg / total       0.58      0.58      0.58       119\n",
      "\n"
     ]
    }
   ],
   "source": [
    "target_names = ['chris', 'marcus']\n",
    "print(classification_report(y_test, yhat, target_names=target_names))"
   ]
  },
  {
   "cell_type": "markdown",
   "metadata": {},
   "source": [
    "### 4. What is the most and least \"distinctive\" tweets for each user?\n",
    "\n",
    "To find this, identify the tweet that has the highest (correct) predicted probability of being that user's tweet for each user."
   ]
  },
  {
   "cell_type": "code",
   "execution_count": 14,
   "metadata": {
    "collapsed": true
   },
   "outputs": [],
   "source": [
    "# A:\n"
   ]
  }
 ],
 "metadata": {
  "anaconda-cloud": {},
  "kernelspec": {
   "display_name": "Python 2",
   "language": "python",
   "name": "python2"
  },
  "language_info": {
   "codemirror_mode": {
    "name": "ipython",
    "version": 2
   },
   "file_extension": ".py",
   "mimetype": "text/x-python",
   "name": "python",
   "nbconvert_exporter": "python",
   "pygments_lexer": "ipython2",
   "version": "2.7.11"
  }
 },
 "nbformat": 4,
 "nbformat_minor": 1
}
