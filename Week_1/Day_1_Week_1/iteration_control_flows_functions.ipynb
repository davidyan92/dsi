{
 "cells": [
  {
   "cell_type": "code",
   "execution_count": null,
   "metadata": {
    "collapsed": true
   },
   "outputs": [],
   "source": [
    "# task 1\n",
    "weight = float(input(\"How many pounds does your suitcase weight?\"))\n",
    "if weight > 50:\n",
    "    print(\"Suitcase is over 50lbs!\")\n",
    "else:\n",
    "    print(\"Suitcase is not over 50lbs!\")"
   ]
  },
  {
   "cell_type": "code",
   "execution_count": null,
   "metadata": {
    "collapsed": true
   },
   "outputs": [],
   "source": [
    "# task 2\n",
    "inputs = False\n",
    "tries = 0\n",
    "while inputs == False and tries < 5:\n",
    "    try:\n",
    "        temperature = float(input('What is the temperature? '))\n",
    "        weather = raw_input('What is the weather? (rain or shine) ')\n",
    "        if temperature > 60 and weather =='rain':\n",
    "            print('Bring an umbrella!')\n",
    "            break\n",
    "        elif temperature <= 60 and weather == 'rain':\n",
    "            print('Bring an umbrella and a jacket!')\n",
    "            break\n",
    "        elif temperature > 60 and weather == 'shine':\n",
    "            print('Wear a T-shirt!')\n",
    "            break\n",
    "        elif temperature <= 60 and weather == 'shine':\n",
    "            print('Bring a jacket!')\n",
    "            break\n",
    "        else:\n",
    "            tries += 1\n",
    "            print('invalid entry! you have ' + str(5-tries) + ' left!')\n",
    "    except:\n",
    "        tries += 1\n",
    "        print('invalid entry! you have ' + str(5-tries) + ' left!')\n",
    "    \n"
   ]
  },
  {
   "cell_type": "code",
   "execution_count": null,
   "metadata": {
    "collapsed": true
   },
   "outputs": [],
   "source": [
    "# task 3\n",
    "for x in range(16):\n",
    "    print(x)"
   ]
  },
  {
   "cell_type": "code",
   "execution_count": null,
   "metadata": {
    "collapsed": true
   },
   "outputs": [],
   "source": [
    "# task 4\n",
    "for x in range(16):\n",
    "    if x % 2 != 0:\n",
    "        print(str(x) + ' is odd!')\n",
    "    elif x % 2 == 0:\n",
    "        print(str(x) + ' is even!')"
   ]
  },
  {
   "cell_type": "code",
   "execution_count": null,
   "metadata": {
    "collapsed": true
   },
   "outputs": [],
   "source": [
    "# task 5\n",
    "for x in range(31):\n",
    "    if x % 3 == 0 and x % 5 != 0:\n",
    "        print(str(x) + ' fizz')\n",
    "    elif x % 5 == 0 and x % 3 != 0:\n",
    "        print(str(x) + ' buzz')\n",
    "    elif x % 3 == 0 and x % 5 == 0:\n",
    "        print(str(x) + ' fizzbuzz')\n",
    "    else:\n",
    "        print(x)"
   ]
  },
  {
   "cell_type": "code",
   "execution_count": null,
   "metadata": {
    "collapsed": true
   },
   "outputs": [],
   "source": [
    "# task 6\n",
    "animals = ['duck', 'rat', 'boar', 'slug', 'mammoth', 'gazelle']\n",
    "for x in animals:\n",
    "    print(x.upper())"
   ]
  },
  {
   "cell_type": "code",
   "execution_count": null,
   "metadata": {
    "collapsed": true
   },
   "outputs": [],
   "source": [
    "# task 7\n",
    "animals = ['duck', 'rat', 'boar', 'slug', 'mammoth', 'gazelle']\n",
    "animals_modified = [x[0].upper() + x[1:] for x in animals]\n",
    "print(animals_modified)"
   ]
  },
  {
   "cell_type": "code",
   "execution_count": null,
   "metadata": {
    "collapsed": true
   },
   "outputs": [],
   "source": [
    "# task 8\n",
    "animals = ['duck', 'rat', 'boar', 'slug', 'mammoth', 'gazelle']\n",
    "for x in animals:\n",
    "    count_vowels = x.count('a') + x.count('e') + x.count('i') + x.count('o') + x.count('u')\n",
    "    print(x + ', number of vowels:' + str(count_vowels))\n"
   ]
  },
  {
   "cell_type": "code",
   "execution_count": null,
   "metadata": {
    "collapsed": true
   },
   "outputs": [],
   "source": [
    "# task 9\n",
    "def count_vowels(word):\n",
    "    word_lower = word.lower()\n",
    "    count = word_lower.count('a') + word_lower.count('e') + word_lower.count('i') + word_lower.count('o') + word_lower.count('u')\n",
    "    return word, count\n",
    "\n",
    "test = count_vowels('DAVID')\n",
    "print(test)"
   ]
  },
  {
   "cell_type": "code",
   "execution_count": null,
   "metadata": {
    "collapsed": true
   },
   "outputs": [],
   "source": [
    "# task 10\n",
    "def triangle_area(height, width):\n",
    "    try:\n",
    "        area = height * width / 2    \n",
    "        return area\n",
    "    except:\n",
    "        return \"Something went wrong.\"\n",
    "\n",
    "test = triangle_area('bye', 2)\n",
    "print(test)"
   ]
  },
  {
   "cell_type": "code",
   "execution_count": null,
   "metadata": {
    "collapsed": true
   },
   "outputs": [],
   "source": [
    "# task 11\n",
    "sentence = \"A MAN KNOCKED ON MY DOOR AND ASKED FOR A SMALL DONATION TOWARDS THE LOCAL SWIMMING POOL SO I GAVE HIM A GLASS OF WATER\"\n",
    "vowel_count = 0\n",
    "iter_count = 0\n",
    "while vowel_count < 1000000:\n",
    "    sentence_lower = sentence.lower()\n",
    "    vowel_count += sentence_lower.count('a') + sentence_lower.count('e') + sentence_lower.count('i') + sentence_lower.count('o') + sentence_lower.count('u')\n",
    "    iter_count += 1\n",
    "\n",
    "print(vowel_count, iter_count)"
   ]
  },
  {
   "cell_type": "code",
   "execution_count": null,
   "metadata": {
    "collapsed": true
   },
   "outputs": [],
   "source": [
    "# task 12\n",
    "corrupted = ['!1', '23.1', '23.4.5', '??12', '.12', '12-12', '-11.1', '0-1', '*12.1', '1000']\n",
    "uncorrupted_list = []\n",
    "for x in corrupted:\n",
    "    try:\n",
    "        x_float = float(x)\n",
    "        uncorrupted_list.append(x_float)\n",
    "        uncorrupted_list.sort()\n",
    "    except:\n",
    "        continue\n",
    "    \n",
    "print(corrupted)\n",
    "print(uncorrupted_list)"
   ]
  },
  {
   "cell_type": "code",
   "execution_count": null,
   "metadata": {
    "collapsed": true
   },
   "outputs": [],
   "source": [
    "# task 13\n",
    "with open('coffee-preferences.csv', 'r') as file:\n",
    "    lines = file.readlines()\n",
    "    print(lines)\n",
    "    for line in lines:\n",
    "        print(line)"
   ]
  },
  {
   "cell_type": "code",
   "execution_count": null,
   "metadata": {
    "collapsed": true
   },
   "outputs": [],
   "source": [
    "# task 14\n",
    "with open('coffee-preferences.csv', 'r') as file:\n",
    "    lines = file.readlines()\n",
    "    newlines = []\n",
    "    for line in lines:\n",
    "        newlines.append(line.replace('\\n',''))\n",
    "    \n",
    "    print(newlines)\n"
   ]
  },
  {
   "cell_type": "code",
   "execution_count": null,
   "metadata": {
    "collapsed": true
   },
   "outputs": [],
   "source": [
    "# task 15\n",
    "with open('coffee-preferences.csv', 'r') as file:\n",
    "    lines = file.readlines()\n",
    "    newlines = []\n",
    "    for line in lines:\n",
    "        newlines.append(line.replace('\\n',''))\n",
    "    header = newlines[0]\n",
    "    data = newlines[1:]\n",
    "    \n",
    "    print(header)\n",
    "    print(data)"
   ]
  },
  {
   "cell_type": "code",
   "execution_count": null,
   "metadata": {
    "collapsed": true
   },
   "outputs": [],
   "source": [
    "# task 16\n",
    "with open('coffee-preferences.csv', 'r') as file:\n",
    "    lines = file.readlines()\n",
    "    newlines = []\n",
    "    for line in lines:\n",
    "        newlines.append(line.replace('\\n',''))\n",
    "    header = newlines[0]\n",
    "    data = newlines[1:]\n",
    "    header_split = header.split(',')\n",
    "    \n",
    "    print(header_split)"
   ]
  },
  {
   "cell_type": "code",
   "execution_count": null,
   "metadata": {
    "collapsed": true,
    "scrolled": true
   },
   "outputs": [],
   "source": [
    "# task 17\n",
    "with open('coffee-preferences.csv', 'r') as file:\n",
    "    lines = file.readlines()\n",
    "    newlines = []\n",
    "    for line in lines:\n",
    "        newlines.append(line.replace('\\n',''))\n",
    "        \n",
    "    header = newlines[0]\n",
    "    data = newlines[1:]\n",
    "    \n",
    "    header_split = header.split(',')\n",
    "    header_split.remove('Timestamp')\n",
    "    new_data = []\n",
    "    for row in data:\n",
    "        new_row = row.split(',')\n",
    "        new_row.pop(0)\n",
    "        new_data.append(new_row)\n",
    "\n",
    "    print(header_split)\n",
    "    print(new_data)"
   ]
  },
  {
   "cell_type": "code",
   "execution_count": null,
   "metadata": {
    "collapsed": true
   },
   "outputs": [],
   "source": [
    "# task 18\n",
    "with open('coffee-preferences.csv', 'r') as file:\n",
    "    lines = file.readlines()\n",
    "    newlines = []\n",
    "    for line in lines:\n",
    "        newlines.append(line.replace('\\n',''))\n",
    "        \n",
    "    header = newlines[0]\n",
    "    data = newlines[1:]\n",
    "    \n",
    "    header_split = header.split(',')\n",
    "    header_split.remove('Timestamp')\n",
    "    new_data = []\n",
    "    for row in data:\n",
    "        new_row = row.split(',')\n",
    "        new_row.pop(0)\n",
    "        new_data.append(new_row)\n",
    "        \n",
    "    for row in new_data:\n",
    "        for col in row:\n",
    "            index = row.index(col)\n",
    "            try:\n",
    "                if col != '':\n",
    "                    row[index] = float(col)\n",
    "                else:\n",
    "                    row[index] = None\n",
    "            except:\n",
    "                continue\n",
    "    print(new_data)"
   ]
  },
  {
   "cell_type": "code",
   "execution_count": null,
   "metadata": {
    "collapsed": true
   },
   "outputs": [],
   "source": [
    "# task 19\n",
    "with open('coffee-preferences.csv', 'r') as file:\n",
    "    lines = file.readlines()\n",
    "    newlines = []\n",
    "    for line in lines:\n",
    "        newlines.append(line.replace('\\n',''))\n",
    "        \n",
    "    header = newlines[0]\n",
    "    data = newlines[1:]\n",
    "    \n",
    "    header_split = header.split(',')\n",
    "    header_split.remove('Timestamp')\n",
    "    new_data = []\n",
    "    for row in data:\n",
    "        new_row = row.split(',')\n",
    "        new_row.pop(0)\n",
    "        new_data.append(new_row)\n",
    "        \n",
    "    for row in new_data:\n",
    "        for col in row:\n",
    "            index = row.index(col)\n",
    "            try:\n",
    "                if col != '':\n",
    "                    row[index] = float(col)\n",
    "                else:\n",
    "                    row[index] = None\n",
    "            except:\n",
    "                continue\n",
    "    \n",
    "    None_count_per_person = {}\n",
    "    for row in new_data:\n",
    "        if None_count_per_person.get(row[0]) is None:\n",
    "            None_count_per_person.update({row[0]:0})\n",
    "        for col in row:\n",
    "            if col == None:\n",
    "                None_count_per_person[row[0]] += 1\n",
    "                \n",
    "    print(None_count_per_person)"
   ]
  },
  {
   "cell_type": "code",
   "execution_count": null,
   "metadata": {
    "collapsed": true
   },
   "outputs": [],
   "source": [
    "# task 20\n",
    "import numpy as np\n",
    "with open('coffee-preferences.csv', 'r') as file:\n",
    "    lines = file.readlines()\n",
    "    newlines = []\n",
    "    for line in lines:\n",
    "        newlines.append(line.replace('\\n',''))\n",
    "        \n",
    "    header = newlines[0]\n",
    "    data = newlines[1:]\n",
    "    \n",
    "    header_split = header.split(',')\n",
    "    header_split.remove('Timestamp')\n",
    "    new_data = []\n",
    "    for row in data:\n",
    "        new_row = row.split(',')\n",
    "        new_row.pop(0)\n",
    "        new_data.append(new_row)\n",
    "        \n",
    "    for row in new_data:\n",
    "        for col in row:\n",
    "            index = row.index(col)\n",
    "            try:\n",
    "                if col != '':\n",
    "                    row[index] = float(col)\n",
    "                else:\n",
    "                    row[index] = None\n",
    "            except:\n",
    "                continue\n",
    "    \n",
    "    None_count_per_person = {}\n",
    "    for row in new_data:\n",
    "        if None_count_per_person.get(row[0]) is None:\n",
    "            None_count_per_person.update({row[0]:0})\n",
    "        for col in row:\n",
    "            if col == None:\n",
    "                None_count_per_person[row[0]] += 1\n",
    "\n",
    "    brand_names = header_split[1:]\n",
    "    np_new_data = np.array(new_data)\n",
    "    np_new_data = np.transpose(np_new_data)\n",
    "    ratings_per_coffee = np_new_data[1:]\n",
    "    ratings_per_coffee_without_none = []\n",
    "    for row in ratings_per_coffee:\n",
    "        row = [col for col in row if col is not None]\n",
    "        ratings_per_coffee_without_none.append(row)\n",
    "    \n",
    "    avg_rating_per_coffee_brand = {}\n",
    "    for counter, row in enumerate(ratings_per_coffee_without_none):\n",
    "        avg_rating_per_coffee_brand.update({brand_names[counter]:float(sum(row))/len(row) })\n",
    "    \n",
    "    print(avg_rating_per_coffee_brand)"
   ]
  },
  {
   "cell_type": "code",
   "execution_count": null,
   "metadata": {
    "collapsed": true
   },
   "outputs": [],
   "source": [
    "# task 21\n",
    "with open('coffee-preferences.csv', 'r') as file:\n",
    "    lines = file.readlines()\n",
    "    newlines = []\n",
    "    for line in lines:\n",
    "        newlines.append(line.replace('\\n',''))\n",
    "        \n",
    "    header = newlines[0]\n",
    "    data = newlines[1:]\n",
    "    \n",
    "    header_split = header.split(',')\n",
    "    header_split.remove('Timestamp')\n",
    "    new_data = []\n",
    "    for row in data:\n",
    "        new_row = row.split(',')\n",
    "        new_row.pop(0)\n",
    "        new_data.append(new_row)\n",
    "        \n",
    "    for row in new_data:\n",
    "        for col in row:\n",
    "            index = row.index(col)\n",
    "            try:\n",
    "                if col != '':\n",
    "                    row[index] = float(col)\n",
    "                else:\n",
    "                    row[index] = None\n",
    "            except:\n",
    "                continue\n",
    "    \n",
    "    None_count_per_person = {}\n",
    "    for row in new_data:\n",
    "        if None_count_per_person.get(row[0]) is None:\n",
    "            None_count_per_person.update({row[0]:0})\n",
    "        for col in row:\n",
    "            if col == None:\n",
    "                None_count_per_person[row[0]] += 1\n",
    "\n",
    "    brand_names = header_split[1:]\n",
    "    np_new_data = np.array(new_data)\n",
    "    np_new_data = np.transpose(np_new_data)\n",
    "    \n",
    "    all_names = np_new_data[0]\n",
    "    \n",
    "    print(all_names)"
   ]
  },
  {
   "cell_type": "code",
   "execution_count": 111,
   "metadata": {},
   "outputs": [
    {
     "name": "stdout",
     "output_type": "stream",
     "text": [
      "False\n"
     ]
    }
   ],
   "source": [
    "# task 22\n",
    "import random\n",
    "def same_name_three_times(list):\n",
    "    names =[]\n",
    "    for x in range(3):\n",
    "        names.append(random.choice(list))\n",
    "    return len(set(names)) <= 1\n",
    "\n",
    "print(same_name_three_times(all_names))"
   ]
  },
  {
   "cell_type": "code",
   "execution_count": 116,
   "metadata": {},
   "outputs": [
    {
     "name": "stdout",
     "output_type": "stream",
     "text": [
      "(259, 0.00259)\n"
     ]
    }
   ],
   "source": [
    "# task 23\n",
    "hit = False\n",
    "hits = 0\n",
    "for x in range(100000) :\n",
    "    hit = same_name_three_times(all_names)\n",
    "    if hit:\n",
    "        hits += 1\n",
    "\n",
    "print(hits, float(hits)/float(100000))"
   ]
  },
  {
   "cell_type": "code",
   "execution_count": null,
   "metadata": {
    "collapsed": true
   },
   "outputs": [],
   "source": []
  }
 ],
 "metadata": {
  "kernelspec": {
   "display_name": "Python 2",
   "language": "python",
   "name": "python2"
  },
  "language_info": {
   "codemirror_mode": {
    "name": "ipython",
    "version": 2
   },
   "file_extension": ".py",
   "mimetype": "text/x-python",
   "name": "python",
   "nbconvert_exporter": "python",
   "pygments_lexer": "ipython2",
   "version": "2.7.13"
  }
 },
 "nbformat": 4,
 "nbformat_minor": 2
}
