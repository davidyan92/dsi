{
 "cells": [
  {
   "cell_type": "code",
   "execution_count": 2,
   "metadata": {},
   "outputs": [
    {
     "name": "stdout",
     "output_type": "stream",
     "text": [
      "16\n"
     ]
    }
   ],
   "source": [
    "# task 1\n",
    "def sq_area(length):\n",
    "    return float(length) ** 2.0\n",
    "print(sq_area(4))"
   ]
  },
  {
   "cell_type": "code",
   "execution_count": 3,
   "metadata": {},
   "outputs": [
    {
     "name": "stdout",
     "output_type": "stream",
     "text": [
      "9.0\n"
     ]
    }
   ],
   "source": [
    "# task 2\n",
    "def tri_area(height, width):\n",
    "    return 0.5 * float(height) * float(width)\n",
    "print(tri_area(6,3))"
   ]
  },
  {
   "cell_type": "code",
   "execution_count": 6,
   "metadata": {},
   "outputs": [
    {
     "name": "stdout",
     "output_type": "stream",
     "text": [
      "(['y', 'a', 'n', 'd', 'a', 'w', 'e', 'i'], 8)\n"
     ]
    }
   ],
   "source": [
    "# task 3\n",
    "def ret_str_stats(string):\n",
    "    try:\n",
    "        char_list = list(string)\n",
    "        char_count = len(char_list)\n",
    "        return char_list, char_count\n",
    "    except:\n",
    "        print(\"Error Occurred\")\n",
    "        \n",
    "print(ret_str_stats('yandawei'))"
   ]
  },
  {
   "cell_type": "code",
   "execution_count": 9,
   "metadata": {},
   "outputs": [
    {
     "name": "stdout",
     "output_type": "stream",
     "text": [
      "(8.0, 2.0, 15.0)\n"
     ]
    }
   ],
   "source": [
    "# task 4\n",
    "def ret_sum_dif_prod(int1, int2):\n",
    "    #check if input is numeric else convert them\n",
    "    try:\n",
    "        float1 = float(int1)\n",
    "        float2 = float(int2)\n",
    "    except:\n",
    "        print(\"Cannot convert inputs into integers!\")\n",
    "        return \"Error\"\n",
    "    \n",
    "    float_sum = float1 + float2\n",
    "    float_dif = float1 - float2\n",
    "    float_prod = float1 * float2\n",
    "    \n",
    "    return float_sum, float_dif, float_prod\n",
    "\n",
    "print(ret_sum_dif_prod('5', '3'))\n",
    "    "
   ]
  },
  {
   "cell_type": "code",
   "execution_count": 11,
   "metadata": {},
   "outputs": [
    {
     "name": "stdout",
     "output_type": "stream",
     "text": [
      "([9, 8, 7, 6, 5, 4, 3, 2, 1], [8, 6, 4, 2])\n"
     ]
    }
   ],
   "source": [
    "# task 5\n",
    "def list_to_tup(list):\n",
    "    list.reverse()\n",
    "    odd_list = list[1::2]\n",
    "    \n",
    "    return list, odd_list\n",
    "\n",
    "a=[1,2,3,4,5,6,7,8,9]\n",
    "print(list_to_tup(a))"
   ]
  },
  {
   "cell_type": "code",
   "execution_count": 22,
   "metadata": {},
   "outputs": [
    {
     "name": "stdout",
     "output_type": "stream",
     "text": [
      "({'a': 1, 'c': 3, 'b': 2, 'e': 5, 'd': 4, 'g': 7, 'f': 6, 'i': 9, 'h': 8, 'k': 11, 'j': 10, 'm': 13, 'l': 12, 'o': 15, 'n': 14, 'q': 17, 'p': 16, 's': 19, 'r': 18, 'u': 21, 't': 20, 'w': 23, 'v': 22, 'y': 25, 'x': 24, 'z': 26}, 17)\n"
     ]
    }
   ],
   "source": [
    "# task 6\n",
    "import string\n",
    "alphabet_list = list(string.ascii_lowercase[:])\n",
    "\n",
    "def ret_word_score(word):\n",
    "    alphabet_dict = {}\n",
    "    word_score = 0\n",
    "    \n",
    "    try:\n",
    "        if word.isalpha():\n",
    "            for index, value in enumerate(alphabet_list):\n",
    "                alphabet_dict.update({value:index+1})\n",
    "            \n",
    "            for char in word:\n",
    "                word_score += alphabet_dict[char]\n",
    "    \n",
    "            return alphabet_dict, word_score \n",
    "        else:\n",
    "            print(\"Input must only contain alphabets!\")\n",
    "            return \"Error\"\n",
    "    except:\n",
    "        print(\"Something went wrong!\")\n",
    "        return \"Error\"\n",
    "\n",
    "print(ret_word_score('hi'))"
   ]
  },
  {
   "cell_type": "code",
   "execution_count": null,
   "metadata": {
    "collapsed": true
   },
   "outputs": [],
   "source": []
  }
 ],
 "metadata": {
  "kernelspec": {
   "display_name": "Python 2",
   "language": "python",
   "name": "python2"
  },
  "language_info": {
   "codemirror_mode": {
    "name": "ipython",
    "version": 2
   },
   "file_extension": ".py",
   "mimetype": "text/x-python",
   "name": "python",
   "nbconvert_exporter": "python",
   "pygments_lexer": "ipython2",
   "version": "2.7.13"
  }
 },
 "nbformat": 4,
 "nbformat_minor": 2
}
