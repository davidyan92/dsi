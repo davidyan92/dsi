{
 "cells": [
  {
   "cell_type": "code",
   "execution_count": 2,
   "metadata": {
    "collapsed": true
   },
   "outputs": [],
   "source": [
    "import numpy as np\n",
    "\n",
    "movies = [\n",
    "{\n",
    "\"name\": \"Usual Suspects\", \n",
    "\"imdb\": 7.0,\n",
    "\"category\": \"Thriller\"\n",
    "},\n",
    "{\n",
    "\"name\": \"Hitman\",\n",
    "\"imdb\": 6.3,\n",
    "\"category\": \"Action\"\n",
    "},\n",
    "{\n",
    "\"name\": \"Dark Knight\",\n",
    "\"imdb\": 9.0,\n",
    "\"category\": \"Adventure\"\n",
    "},\n",
    "{\n",
    "\"name\": \"The Help\",\n",
    "\"imdb\": 8.0,\n",
    "\"category\": \"Drama\"\n",
    "},\n",
    "{\n",
    "\"name\": \"The Choice\",\n",
    "\"imdb\": 6.2,\n",
    "\"category\": \"Romance\"\n",
    "},\n",
    "{\n",
    "\"name\": \"Colonia\",\n",
    "\"imdb\": 7.4,\n",
    "\"category\": \"Romance\"\n",
    "},\n",
    "{\n",
    "\"name\": \"Love\",\n",
    "\"imdb\": 6.0,\n",
    "\"category\": \"Romance\"\n",
    "},\n",
    "{\n",
    "\"name\": \"Bride Wars\",\n",
    "\"imdb\": 5.4,\n",
    "\"category\": \"Romance\"\n",
    "},\n",
    "{\n",
    "\"name\": \"AlphaJet\",\n",
    "\"imdb\": 3.2,\n",
    "\"category\": \"War\"\n",
    "},\n",
    "{\n",
    "\"name\": \"Ringing Crime\",\n",
    "\"imdb\": 4.0,\n",
    "\"category\": \"Crime\"\n",
    "},\n",
    "{\n",
    "\"name\": \"Joking muck\",\n",
    "\"imdb\": 7.2,\n",
    "\"category\": \"Comedy\"\n",
    "},\n",
    "{\n",
    "\"name\": \"What is the name\",\n",
    "\"imdb\": 9.2,\n",
    "\"category\": \"Suspense\"\n",
    "},\n",
    "{\n",
    "\"name\": \"Detective\",\n",
    "\"imdb\": 7.0,\n",
    "\"category\": \"Suspense\"\n",
    "},\n",
    "{\n",
    "\"name\": \"Exam\",\n",
    "\"imdb\": 4.2,\n",
    "\"category\": \"Thriller\"\n",
    "},\n",
    "{\n",
    "\"name\": \"We Two\",\n",
    "\"imdb\": 7.2,\n",
    "\"category\": \"Romance\"\n",
    "}\n",
    "]"
   ]
  },
  {
   "cell_type": "code",
   "execution_count": 5,
   "metadata": {},
   "outputs": [
    {
     "name": "stdout",
     "output_type": "stream",
     "text": [
      "(True, 7.0, 4)\n",
      "(True, 8.0999999999999996, 6.4866666666666672)\n"
     ]
    }
   ],
   "source": [
    "# Task 2\n",
    "#Write a function that:\n",
    "#Accepts a single movie dictionary from the movies list as an argument.\n",
    "#Returns True if the IMDB score is above 5.5.\n",
    "\n",
    "def movie_imdb_above_score(movie, score):\n",
    "    try:\n",
    "        if movie[\"imdb\"] > score:\n",
    "            return True, movie[\"imdb\"], score\n",
    "        else:\n",
    "            return False\n",
    "    except:\n",
    "        print(\"something wrong!\")\n",
    "        return \"Error\"\n",
    "\n",
    "#Write a function that:\n",
    "#Accepts the movies list and a specified category.\n",
    "#Returns True if the average score of the category is higher than the average score of all movies.   \n",
    "\n",
    "def avg_category_above_avg_movie_imdb(movies, category):\n",
    "    try:\n",
    "        category_scores = [x[\"imdb\"] for x in movies if x[\"category\"].lower() == category.lower()]\n",
    "        movie_scores = [x[\"imdb\"] for x in movies]\n",
    "        avg_category_scores = np.mean(category_scores)\n",
    "        avg_movie_scores = np.mean(movie_scores)\n",
    "\n",
    "        if avg_category_scores > avg_movie_scores:\n",
    "            return True, avg_category_scores, avg_movie_scores\n",
    "        else:\n",
    "            return False, avg_category_scores, avg_movie_scores\n",
    "    except:\n",
    "        print(\"Something Wrong!\")\n",
    "        return \"Error!\"\n",
    "    \n",
    "print(movie_imdb_above_score(movies[0], 4))\n",
    "print(avg_category_above_avg_movie_imdb(movies, 'suspense'))\n"
   ]
  },
  {
   "cell_type": "code",
   "execution_count": 9,
   "metadata": {},
   "outputs": [
    {
     "name": "stdout",
     "output_type": "stream",
     "text": [
      "[{'category': 'War', 'cat_avg_score': 3.2000000000000002, 'imdb': 3.2, 'name': 'AlphaJet'}, {'category': 'Crime', 'cat_avg_score': 4.0, 'imdb': 4.0, 'name': 'Ringing Crime'}, {'category': 'Thriller', 'cat_avg_score': 5.5999999999999996, 'imdb': 4.2, 'name': 'Exam'}, {'category': 'Thriller', 'cat_avg_score': 5.5999999999999996, 'imdb': 7.0, 'name': 'Usual Suspects'}, {'category': 'Action', 'cat_avg_score': 6.2999999999999998, 'imdb': 6.3, 'name': 'Hitman'}, {'category': 'Romance', 'cat_avg_score': 6.4400000000000004, 'imdb': 5.4, 'name': 'Bride Wars'}, {'category': 'Romance', 'cat_avg_score': 6.4400000000000004, 'imdb': 6.0, 'name': 'Love'}, {'category': 'Romance', 'cat_avg_score': 6.4400000000000004, 'imdb': 6.2, 'name': 'The Choice'}, {'category': 'Romance', 'cat_avg_score': 6.4400000000000004, 'imdb': 7.2, 'name': 'We Two'}, {'category': 'Romance', 'cat_avg_score': 6.4400000000000004, 'imdb': 7.4, 'name': 'Colonia'}, {'category': 'Comedy', 'cat_avg_score': 7.2000000000000002, 'imdb': 7.2, 'name': 'Joking muck'}, {'category': 'Drama', 'cat_avg_score': 8.0, 'imdb': 8.0, 'name': 'The Help'}, {'category': 'Suspense', 'cat_avg_score': 8.0999999999999996, 'imdb': 7.0, 'name': 'Detective'}, {'category': 'Suspense', 'cat_avg_score': 8.0999999999999996, 'imdb': 9.2, 'name': 'What is the name'}, {'category': 'Adventure', 'cat_avg_score': 9.0, 'imdb': 9.0, 'name': 'Dark Knight'}]\n"
     ]
    }
   ],
   "source": [
    "# task 3\n",
    "#Write a function that:\n",
    "#Accepts the list of movies and a specified imdb score.\n",
    "#Returns the sublist of movies that have a score greater than the specified score.\n",
    "\n",
    "def filter_movie_by_score(movies, score):\n",
    "    filter_movies = [x for x in movies if x[\"imdb\"] > score]\n",
    "    return filter_movies\n",
    "\n",
    "#Write a function that:\n",
    "#Accepts the movies list as an argument.\n",
    "#Returns the movies list sorted first by category and then by movie according to average score and individual score, respectively.\n",
    "\n",
    "def sorted_movie(movies):\n",
    "    category_set = { x[\"category\"] for x in movies }\n",
    "    category_list = list(category_set)\n",
    "    category_list_avg_score = []\n",
    "    \n",
    "    for cat in category_list:\n",
    "        category_score = []\n",
    "        category_score = [x['imdb'] for x in movies if x['category'] == cat]\n",
    "        category_list_avg_score.append(np.mean(category_score))\n",
    "    \n",
    "    movies_updated = []\n",
    "    for cat, avg_score in zip(category_list, category_list_avg_score):\n",
    "        for movie in movies:\n",
    "            movie_updated = movie.copy()\n",
    "            if movie['category'] == cat:\n",
    "                movie_updated.update({'cat_avg_score':avg_score})\n",
    "                movies_updated.append(movie_updated)\n",
    "     \n",
    "    sorted_updated_list = sorted(movies_updated, key=lambda k: (k['cat_avg_score'], k['imdb']))\n",
    "\n",
    "    return sorted_updated_list\n",
    "\n",
    "print(sorted_movie(movies))"
   ]
  },
  {
   "cell_type": "code",
   "execution_count": 39,
   "metadata": {},
   "outputs": [
    {
     "name": "stdout",
     "output_type": "stream",
     "text": [
      "{'category': ['Thriller', 'Adventure', 'Drama', 'Romance', 'Romance', 'Romance', 'Romance', 'War', 'Crime', 'Thriller', 'Romance'], 'title': ['Dark Knight', 'Bride Wars', 'Ringing Crime']}\n"
     ]
    }
   ],
   "source": [
    "# task 4\n",
    "#Write a function that:\n",
    "#Accepts the movies list and a category name.\n",
    "#Returns the movie names within that category (case-insensitive!)\n",
    "#If the category is not in the data, print a message that it does not exist and return None.\n",
    "\n",
    "def movies_in_category(movies, category):\n",
    "    mov_in_cat = [x['name'] for x in movies if x['category'].lower() == category.lower()]\n",
    "    if len(mov_in_cat) <= 0:\n",
    "        print(category + \" does not exist\")\n",
    "        return None\n",
    "    else:\n",
    "        return mov_in_cat\n",
    "\n",
    "#Write a function that:\n",
    "#Accepts the movies list and a \"search string\".\n",
    "#Returns a dictionary with keys 'category' and 'title' whose values are lists of categories that contain the search string and titles that contain the search string, respectively (case-insensitive!)\n",
    "\n",
    "def movies_filter(movies, string):\n",
    "    movies_dict = {'category':[], 'title':[]}\n",
    "    for movie in movies:\n",
    "        if string.lower() in movie['category'].lower():\n",
    "            movies_dict['category'].append(movie['category'])\n",
    "        if string.lower() in movie['name'].lower():\n",
    "            movies_dict['title'].append(movie['name'])\n",
    "    \n",
    "    return movies_dict\n",
    "\n",
    "print(movies_filter(movies, 'r'))"
   ]
  },
  {
   "cell_type": "code",
   "execution_count": 41,
   "metadata": {},
   "outputs": [
    {
     "ename": "SyntaxError",
     "evalue": "invalid syntax (<ipython-input-41-5218f9ebe7d0>, line 17)",
     "output_type": "error",
     "traceback": [
      "\u001b[0;36m  File \u001b[0;32m\"<ipython-input-41-5218f9ebe7d0>\"\u001b[0;36m, line \u001b[0;32m17\u001b[0m\n\u001b[0;31m    'and' = and\u001b[0m\n\u001b[0m              ^\u001b[0m\n\u001b[0;31mSyntaxError\u001b[0m\u001b[0;31m:\u001b[0m invalid syntax\n"
     ]
    }
   ],
   "source": [
    "# task 5\n",
    "#Write a function that:\n",
    "#Accepts the movies list and a \"search criteria\" variable.\n",
    "#If the criteria variable is numeric, return a list of movie titles with a score greater than or equal to the criteria.\n",
    "#If the criteria variable is a string, return a list of movie titles that match that category (case-insensitive!). If there is no match, return an empty list and print an informative message.\n",
    "\n",
    "#Write a function that:\n",
    "#Accepts the movies list and a string search criteria variable.\n",
    "#The search criteria variable can contain within it:\n",
    "#Boolean operations: 'AND', 'OR', and 'NOT' (can have/be lowercase as well, I just capitalized for clarity).\n",
    "#Search criteria specified with syntax score=..., category=..., and/or title=..., where the ... indicates what to look for.\n",
    "#If score is present, it means scores greater than or equal to the value.\n",
    "#For category and title, the string indicates that the category or title must contain the search string (case-insensitive).\n",
    "#Return the matches for the search criteria specified.\n",
    "    \n",
    "def advanced_movie_filter(movies, boolean, **kargs):\n",
    "    "
   ]
  },
  {
   "cell_type": "code",
   "execution_count": null,
   "metadata": {
    "collapsed": true
   },
   "outputs": [],
   "source": []
  }
 ],
 "metadata": {
  "kernelspec": {
   "display_name": "Python 2",
   "language": "python",
   "name": "python2"
  },
  "language_info": {
   "codemirror_mode": {
    "name": "ipython",
    "version": 2
   },
   "file_extension": ".py",
   "mimetype": "text/x-python",
   "name": "python",
   "nbconvert_exporter": "python",
   "pygments_lexer": "ipython2",
   "version": "2.7.11"
  }
 },
 "nbformat": 4,
 "nbformat_minor": 2
}
