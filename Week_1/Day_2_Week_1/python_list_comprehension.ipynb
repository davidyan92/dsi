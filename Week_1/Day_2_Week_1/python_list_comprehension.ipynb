{
 "cells": [
  {
   "cell_type": "code",
   "execution_count": 8,
   "metadata": {},
   "outputs": [
    {
     "name": "stdout",
     "output_type": "stream",
     "text": [
      "[('a', 'z'), ('b', 'y'), ('c', 'x'), ('d', 'w')]\n"
     ]
    }
   ],
   "source": [
    "a = ['a','b','c','d']\n",
    "z = ['z','y','x','w']\n",
    "zipped = [x for x in zip(a,z)]\n",
    "print(zipped)"
   ]
  },
  {
   "cell_type": "code",
   "execution_count": 9,
   "metadata": {},
   "outputs": [
    {
     "name": "stdout",
     "output_type": "stream",
     "text": [
      "[(0, 'a'), (1, 'b'), (2, 'c'), (3, 'd')]\n"
     ]
    }
   ],
   "source": [
    "enumerated = [x for x in enumerate(a)]\n",
    "print(enumerated)\n"
   ]
  },
  {
   "cell_type": "code",
   "execution_count": 10,
   "metadata": {},
   "outputs": [
    {
     "name": "stdout",
     "output_type": "stream",
     "text": [
      "['BLACK', 'YELLOW', 'RED', 'GREEN', 'BLUE']\n"
     ]
    }
   ],
   "source": [
    "import string\n",
    "import numpy as np\n",
    "# task 1.2\n",
    "strings = ['black','Yellow','ReD','GreeN','BLUe']\n",
    "strings_upper = [x.upper() for x in strings]\n",
    "print(strings_upper)"
   ]
  },
  {
   "cell_type": "code",
   "execution_count": 11,
   "metadata": {},
   "outputs": [
    {
     "name": "stdout",
     "output_type": "stream",
     "text": [
      "[2, 4, 6, 8, 10]\n"
     ]
    }
   ],
   "source": [
    "# task 2.2\n",
    "numbers = [1,2,3,4,5,6,7,8,9,10]\n",
    "numbers_even = [number for number in numbers if number % 2 == 0]\n",
    "print(numbers_even)"
   ]
  },
  {
   "cell_type": "code",
   "execution_count": 12,
   "metadata": {},
   "outputs": [
    {
     "name": "stdout",
     "output_type": "stream",
     "text": [
      "['v', 'c', '?', 'c', 'c', '?', '?', 'v', 'v', '?', 'v', 'c', 'c']\n"
     ]
    }
   ],
   "source": [
    "# task 3.2\n",
    "alphabet = list(string.ascii_lowercase)\n",
    "vowels = list('aeiou')\n",
    "characters = ['a','f',None,'k','l','1',12,'e','e',-1,'i','b','p']\n",
    "\n",
    "characters_convert = ['v' if x in vowels else 'c' if x in alphabet else '?' for x in characters]\n",
    "print(characters_convert)"
   ]
  },
  {
   "cell_type": "code",
   "execution_count": 13,
   "metadata": {},
   "outputs": [
    {
     "name": "stdout",
     "output_type": "stream",
     "text": [
      "[40.25, 37.0, 55.333333333333336]\n"
     ]
    }
   ],
   "source": [
    "# task 4.2\n",
    "number_sets = [[1,50,-40,20,90], [1004,1002,101,-90,40,34], [-1,-2,34,55,77,109]]\n",
    "mean_number_sets = [np.mean(x) for x in [[ele for ele in rlist if ele >= 1 and ele <= 100] for rlist in number_sets]]\n",
    "        \n",
    "print(mean_number_sets)"
   ]
  },
  {
   "cell_type": "code",
   "execution_count": 14,
   "metadata": {},
   "outputs": [
    {
     "name": "stdout",
     "output_type": "stream",
     "text": [
      "['alpha echo', 'foxtrot bravo', 'charlie golf', 'hotel delta']\n"
     ]
    }
   ],
   "source": [
    "# task 5.2\n",
    "strings1 = ['alpha','bravo','charlie','delta']\n",
    "strings2 = ['echo','foxtrot','golf','hotel']\n",
    "\n",
    "strings3 = [item1+' '+item2 if index % 2 == 0 else item2+' '+item1 for index, (item1, item2) in enumerate(zip(strings1, strings2))]\n",
    "print(strings3)"
   ]
  },
  {
   "cell_type": "code",
   "execution_count": 15,
   "metadata": {},
   "outputs": [
    {
     "name": "stdout",
     "output_type": "stream",
     "text": [
      "{'twelve': [12, 24, 36, 48, 60], 'seven': [7, 14, 21, 28, 35], 'five': [5, 10, 15, 20, 25]}\n"
     ]
    }
   ],
   "source": [
    "# task 6.2\n",
    "columns = ['five','seven','twelve']\n",
    "values = [5, 7, 12]\n",
    "multiples = [1, 2, 3, 4, 5]\n",
    "dictionary = {k:[v*m for m in multiples] for k, v in zip(columns, values)}\n",
    "print(dictionary)"
   ]
  },
  {
   "cell_type": "code",
   "execution_count": 18,
   "metadata": {},
   "outputs": [
    {
     "name": "stdout",
     "output_type": "stream",
     "text": [
      "[6.5, 3.0, 3.5, 4.5, 5.5]\n"
     ]
    }
   ],
   "source": [
    "# task 7.2\n",
    "N = [12, 5, 6, 8, 10]\n",
    "X = [1, 2, 3, 4, 5, 6, 7, 8, 9, 10, 11, 12, 13, 14, 15]\n",
    "median_list = [a for a in [np.median(X[:n]) for n in N]]\n",
    "print(median_list)"
   ]
  },
  {
   "cell_type": "code",
   "execution_count": 24,
   "metadata": {},
   "outputs": [
    {
     "name": "stdout",
     "output_type": "stream",
     "text": [
      "[89, 88, 87, 44, 43, 42, 8, 7, 6, 69, 68, 67, 34, 33, 32, 6, 5, 4, 49, 48, 47, 24, 23, 22, 4, 3, 2]\n"
     ]
    }
   ],
   "source": [
    "# task 8.2\n",
    "a = [9,7,5]\n",
    "b = [10,5,1]\n",
    "c = [1,2,3]\n",
    "output = []\n",
    "z = [a_ele*b_ele-c_ele for a_ele in a for b_ele in b for c_ele in c]\n",
    "print(z)"
   ]
  },
  {
   "cell_type": "code",
   "execution_count": null,
   "metadata": {
    "collapsed": true
   },
   "outputs": [],
   "source": []
  }
 ],
 "metadata": {
  "kernelspec": {
   "display_name": "Python 2",
   "language": "python",
   "name": "python2"
  },
  "language_info": {
   "codemirror_mode": {
    "name": "ipython",
    "version": 2
   },
   "file_extension": ".py",
   "mimetype": "text/x-python",
   "name": "python",
   "nbconvert_exporter": "python",
   "pygments_lexer": "ipython2",
   "version": "2.7.11"
  }
 },
 "nbformat": 4,
 "nbformat_minor": 2
}
