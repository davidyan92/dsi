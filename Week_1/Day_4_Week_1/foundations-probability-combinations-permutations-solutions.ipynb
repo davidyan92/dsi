{
 "cells": [
  {
   "cell_type": "markdown",
   "metadata": {
    "slideshow": {
     "slide_type": "slide"
    }
   },
   "source": [
    "<img src=\"http://imgur.com/1ZcRyrc.png\" style=\"float: left; margin: 20px; height: 55px\">\n",
    "\n",
    "## Foundations of Probability, Combinations and Permutations\n",
    "\n",
    "_Authors: Joseph Nelson (DC), Kiefer Katovich (SF), Richard Harris (CHI), Paul Martin (SF)_\n",
    "\n",
    "---\n",
    "\n",
    "\n",
    "### Lesson Guide\n",
    "\n",
    "- [Axioms of Probability](#probability_axioms)\n",
    "- [Properties of Probability](#properties_probability)\n",
    "- [Counting Principle](#counting_principle)\n",
    "- [Permutations](#permutation)\n",
    "- [Combinatorics](#combinatorics)\n",
    "- [Combinations](#combination)\n",
    "- [Practice Problems with Counting, Permutations, and Combinations](#practice)\n",
    "- [Distinguishable and Indistinguishable](#distinguishable_indistinguishable)"
   ]
  },
  {
   "cell_type": "markdown",
   "metadata": {},
   "source": [
    "<a id='probability_axioms'></a>\n",
    "\n",
    "### Events and probabilities\n",
    "\n",
    "---\n",
    "\n",
    "Probabilities quantify the chance of an event happening. Take for example rolling a die. We know all of the possible outcomes of rolling the die, but we do not know ahead of time which outcome will occur. These types of events are referred to as **random events, random experiments, or random variables**. Probabilities are assigned to the possible outcomes of these random variables. \n",
    "\n",
    "We can represent probability formally using a **sample space**, an **event space**, and and a **probability function**.\n",
    "\n",
    "Our sample space, denoted with $S$, defines the set of _all possible outcomes_. \n",
    "\n",
    "The event space, denoted with $F$, defines the outcomes that are subsets of the sample space necessarily. \n",
    "\n",
    "The probability function, denoted $P$, returns an events probability which is constrained to the range between 0 and 1, inclusive:\n",
    "\n",
    "### $$ P(S, F) \\rightarrow [0, 1]$$\n"
   ]
  },
  {
   "cell_type": "markdown",
   "metadata": {
    "slideshow": {
     "slide_type": "slide"
    }
   },
   "source": [
    "\n",
    "\n",
    "### The Three Axioms of Probability\n",
    "\n",
    "---\n",
    "\n",
    "**Axiom 1: Non-negativity**\n",
    "\n",
    "For any event $A$, the probability of the event must be greater than or equal to zero.\n",
    "\n",
    "### $$ 0 \\le P(A) $$\n",
    "\n",
    "In other words, probabilities must be non-negative, real numbers. \n",
    "\n",
    "**Axiom 2: Unit measure**\n",
    "\n",
    "The probability of the entire sample space is 1.\n",
    "\n",
    "### $$ P(S) = 1 $$\n",
    "\n",
    "From this axiom, we assume that the probability of all possible events - i.e., the sample space - must be equal to 1. This is sort of like saying the probability that _anything_ happens is 1. \n",
    "\n",
    "**Axiom 3: Additivity**\n",
    "\n",
    "For mutually exclusive, or, in other words \"disjoint\" events $E$, the probability of any of the events occuring is equivalent to the sum of their probabilties.\n",
    "\n",
    "### $$ P\\left(\\cup_{i=1}^{\\infty}\\; E_i \\right) = \\sum_{i=1}^{\\infty} P(E_i) $$\n",
    "\n",
    "For example, say we have two events - \"cloudy\" and \"sunny\" - that define outcomes for tomorrow's weather. These events are mutually exclusive. If it is cloudy it cannot be sunny, and vice versa. To get the probability of _either_ of these events occuring, we can add their probabilities together."
   ]
  },
  {
   "cell_type": "markdown",
   "metadata": {},
   "source": [
    "<a id='properties_probability'></a>\n",
    "\n",
    "### Properties of Probability\n",
    "\n",
    "---\n",
    "\n",
    "From the axioms outlined above, we can derive a variety of essential properties of probability. Many of these are outlined below.\n",
    "\n",
    "**The probability of no event**\n",
    "\n",
    "The probability of the empty set, denoted $\\emptyset$, is zero.\n",
    "\n",
    "### $$ P\\left(\\emptyset \\right) = 0 $$\n",
    "\n",
    "**The probability of A or B occuring (union)**\n",
    "\n",
    "The probability of event $A$ or event $B$ occuring is equivalent to the sum of their individual probabilities, minus the intersection of their probabilities (the probability they both occur).\n",
    "\n",
    "### $$ P(A \\cup B) = P(A) + P(B) - P(A \\cap B)$$\n",
    "\n",
    "**Conditional probability**\n",
    "\n",
    "The probability of an event that's conditional on another event is written using a vertical bar between the two events. The probability of event $A$ occuring _given_ event $B$ occurs is calculated like so:\n",
    "\n",
    "### $$ P(A | B) = \\frac{P(A \\cap B)}{P(B)} $$\n",
    "\n",
    "Meaning the probability of both $A$ and $B$ occuring is divided by the probability that $B$ occurs at all.\n",
    "\n",
    "**Joint probability**\n",
    "\n",
    "The joint probability of two events $A$ and $B$ is a reformulation of the above equation.\n",
    "\n",
    "### $$ P(A \\cap B) = P(A|B) \\; P(B) $$\n",
    "\n",
    "Verbally, if we want to know the probability that both $A$ and $B$ occur, we can multiply the probability that $B$ happens by the probability that $A$ happens given that $B$ happens.\n",
    "\n",
    "**The law of total probability**\n",
    "\n",
    "Lets say we want to know the probability of the event $B$ occuring across _all_ different events $A$. For example, lets say that we are a judge presiding over a murder trial. $B$ is the event that the suspect's wallet was found at the scene of the murder. We could have many hypotheses or possible scenarios in which the wallet is found at there, one being that the suspect was actually at the scene at the time of the murder.\n",
    "\n",
    "These different events $A$ - our scenarios - are disjoint. The _total probability_ of $B$ is the probability across all of these scenarios that the wallet is found at the murder scene. In other words - regardless of the possible scenario $A$ - it's the probability that the wallet is found at the scene.\n",
    "\n",
    "### $$ P(B) = \\sum_{i=1}^n P(B \\cap A_i) $$\n",
    "\n",
    "![total probability](../assets/images/output_27_0.png)"
   ]
  },
  {
   "cell_type": "markdown",
   "metadata": {},
   "source": [
    "### Combinatorics\n",
    "\n",
    "<a id='combinatorics'></a>\n",
    "[Combinatorics](https://en.wikipedia.org/wiki/Combinatorics) is the study of how sets can be enumerated (i.e., most sorts of questions along the line of \"How many ways can X happen in Y?\"). It's important to touch along this not only for the cool party tricks that you can point out (such as the birthday problem) but also because it leads us into probability distributions and how to calculate probabilities."
   ]
  },
  {
   "cell_type": "markdown",
   "metadata": {
    "hide_input": false,
    "slideshow": {
     "slide_type": "slide"
    }
   },
   "source": [
    "<a id='counting_principle'></a>\n",
    "\n",
    "### The Counting Principle\n",
    "\n",
    "---\n",
    "\n",
    "The counting principal says that:\n",
    "\n",
    "If $A$ can occur in $n$ ways \n",
    "\n",
    "and $B$ can occur in $m$ ways\n",
    "\n",
    "then $A$ and $B$ can occur in $n * m$ ways.\n",
    "\n",
    "Counting is a fundamental component of probability. From counting, we can start to examine combinations and permutations of events and their associated probabilties.\n"
   ]
  },
  {
   "cell_type": "markdown",
   "metadata": {
    "slideshow": {
     "slide_type": "fragment"
    }
   },
   "source": [
    "**Q: If you have two groups of students, 10 freshman and 11 sophmores, how many teams of 2 can be formed that include one member from each class?**"
   ]
  },
  {
   "cell_type": "code",
   "execution_count": 1,
   "metadata": {
    "collapsed": false,
    "slideshow": {
     "slide_type": "fragment"
    }
   },
   "outputs": [
    {
     "data": {
      "text/plain": [
       "110"
      ]
     },
     "execution_count": 1,
     "metadata": {},
     "output_type": "execute_result"
    }
   ],
   "source": [
    "teams_of_2 = 10 * 11\n",
    "teams_of_2"
   ]
  },
  {
   "cell_type": "markdown",
   "metadata": {
    "slideshow": {
     "slide_type": "slide"
    }
   },
   "source": [
    "### The factorial function\n",
    "\n",
    "---\n",
    "\n",
    "The factorial function is defined as: \n",
    "\n",
    "### $$ n! = n \\cdot (n-1) \\cdot (n-2) \\; ... \\; 1 $$\n",
    "\n",
    "This is an important part of permutations. When $n = k$, permutations of $n$ in $k$ arrangements is equivalent to $n!$\n",
    "\n",
    "The permutation function can be rewritten using factorials:\n",
    "\n",
    "### $$  \\text{permutations}(n, k) = \\frac{n!}{(n-k)!} $$"
   ]
  },
  {
   "cell_type": "markdown",
   "metadata": {
    "slideshow": {
     "slide_type": "fragment"
    }
   },
   "source": [
    "**Q: If there are 9 players on a baseball team, how many possible permutations are there for the first three players in the batting lineup?**"
   ]
  },
  {
   "cell_type": "code",
   "execution_count": 4,
   "metadata": {
    "collapsed": false,
    "slideshow": {
     "slide_type": "fragment"
    }
   },
   "outputs": [
    {
     "name": "stdout",
     "output_type": "stream",
     "text": [
      "504\n"
     ]
    }
   ],
   "source": [
    "from math import factorial\n",
    "\n",
    "print factorial(9)/factorial(9-3)"
   ]
  },
  {
   "cell_type": "markdown",
   "metadata": {
    "slideshow": {
     "slide_type": "slide"
    }
   },
   "source": [
    "**Q: Code the factorial function.**\n",
    "\n",
    "Try writing a function that will compute the factorial of a number."
   ]
  },
  {
   "cell_type": "code",
   "execution_count": 3,
   "metadata": {
    "collapsed": true,
    "slideshow": {
     "slide_type": "fragment"
    }
   },
   "outputs": [],
   "source": [
    "def factorial2(x):\n",
    "    if x < 0:\n",
    "        print(\"Must be a non-negative integer.\")\n",
    "    if x == 0:\n",
    "        return 1\n",
    "    else:\n",
    "        if x != int(x):\n",
    "            print(\"Must be an integer.\")\n",
    "        else:    \n",
    "            return x * factorial2(x-1)"
   ]
  },
  {
   "cell_type": "code",
   "execution_count": 4,
   "metadata": {
    "collapsed": false
   },
   "outputs": [
    {
     "data": {
      "text/plain": [
       "6"
      ]
     },
     "execution_count": 4,
     "metadata": {},
     "output_type": "execute_result"
    }
   ],
   "source": [
    "factorial2(3)"
   ]
  },
  {
   "cell_type": "markdown",
   "metadata": {
    "slideshow": {
     "slide_type": "slide"
    }
   },
   "source": [
    "<a id='permutation'></a>\n",
    "\n",
    "### Permutations\n",
    "\n",
    "---\n",
    "\n",
    "Permutations ask \"How many different ways can a subset be generated from a set. An example of this type of question is:\n",
    "\n",
    "- \"How many distinct groups of three students can I make from a class of 6?\"\n",
    "\n",
    "This assumes that the **order matters** because we want distinct groups!\n",
    "\n",
    "A permutation is an arragement of objects where the order is important. The permutations of a set of items or events are the total number of order-dependent arrangements possible.\n",
    "\n",
    "Given a set of items of size $n$ and arrangements of length $k$, the permutations are calculated like so:\n",
    "\n",
    "### $$ \\text{permutations}(n, k) = n \\cdot (n - 1) \\cdot (n - 2) \\; ... \\; (n - k + 1)$$\n",
    "\n",
    "which is 0 when $k > n$\n",
    "\n",
    "This can be generalized out to the following equation for **permutation without replacement**:\n",
    "\n",
    "$$ P(n, k) = \\frac{n!}{(n - k)!} $$\n",
    "\n",
    "Let's assume that we have six wonderful students in our class:\n",
    "\n",
    "- George Washington\n",
    "- John Adams\n",
    "- Thomas Jefferson\n",
    "- James Madison\n",
    "- James Monroe\n",
    "- John Quincy Adams\n",
    "\n",
    "We want to give out 10 points of extra credit to one student, 5 points to the next, and 1 point to a third student. We want a permutation of these students!\n",
    "\n",
    "Every time we take out a person, we can't choose them a second time. That means that our full set of choices is $6!$. First we have 6 choices, then 5 choices, then 4 choices, etc.\n",
    "\n",
    "However, we just want to make 3 choices every time we try -- we can represent this as $3!$. This gives us $6!$/$3!$\n",
    "\n",
    "What we want is something that equates to $6 \\cdot 5 \\cdot 4$ -- first we choose from 6 things, then we choose from 5 things, then we choose from 4 things.\n"
   ]
  },
  {
   "cell_type": "markdown",
   "metadata": {
    "slideshow": {
     "slide_type": "fragment"
    }
   },
   "source": [
    "**Q: There are 5 qualified candidates to fill 3 positions.  How many ways can the roles be filled, assuming only one person is hired for each position?**"
   ]
  },
  {
   "cell_type": "code",
   "execution_count": 3,
   "metadata": {
    "collapsed": false,
    "slideshow": {
     "slide_type": "fragment"
    }
   },
   "outputs": [
    {
     "data": {
      "text/plain": [
       "60"
      ]
     },
     "execution_count": 3,
     "metadata": {},
     "output_type": "execute_result"
    }
   ],
   "source": [
    "cands  = 5 * 4 * 3\n",
    "cands"
   ]
  },
  {
   "cell_type": "markdown",
   "metadata": {
    "slideshow": {
     "slide_type": "slide"
    }
   },
   "source": [
    "<a id='combination'></a>\n",
    "\n",
    "### Combinations\n",
    "\n",
    "---\n",
    "\n",
    "Like permutations, combinations are arrangements of objects. However, with combinations, the order of objects does not matter.\n",
    "\n",
    "With a combination, order no longer matters. Here, we just want any cohesive group of three students -- Washington, Adams, and Jefferson should count only once, even if I choose W, A, and J versus A, J, and W.\n",
    "\n",
    "Given a set of items of size $n$ and arrangements of length $k$, the combinations are calculated like so:\n",
    "\n",
    "### $$ \\text{combinations}(n, k) = \\frac{ \\text{permutations}(n,k) }{ \\text{permutations}(k, k) } = \\frac{n!}{(n-k)!k!}$$\n",
    "\n",
    "You'll _also_ see this referred to as the binomial coefficient and written as:\n",
    "\n",
    "$$ \\binom{n}{k}$$\n",
    "\n",
    "which is read n choose k or, from a group of n choose a group of k!\n",
    "\n",
    "An intuitive way to think about this is that we take the number of permutations, then we divide that by the number of possible orderings we could have in the available slots $k$."
   ]
  },
  {
   "cell_type": "markdown",
   "metadata": {},
   "source": [
    "### With Replacement\n",
    "\n",
    "The examples above assume that there once we've chosen something, it's gone for good. That's sometimes not the case! Sometimes we choose something and then put it back and choose again.\n",
    "\n",
    "For permutation with replacement, we represent that as:\n",
    "\n",
    "$$ P^R(n, k) = n^k $$\n",
    "\n",
    "We want all the different possibilities that we can make $k$ draws out of $n$ -- you can imagine it like $6 \\cdot 6 \\cdot 6$ (which is, of course, $6^3$).\n",
    "\n",
    "If we were replacing the students back and assigning students some extra credit, we'd have 216 different permutations of students.\n",
    "\n",
    "For combinations with replacement, we represent that as:\n",
    "\n",
    "$$ C^R(n, k) = \\frac{(n + r -1)}{r! (n-1)!}$$\n",
    "\n",
    "If we wanted to know how many different ways we could group 3 students together _including replacing them_, we would have $56$ different groups (including one of \"Washington, Washington, Washington\")"
   ]
  },
  {
   "cell_type": "markdown",
   "metadata": {
    "slideshow": {
     "slide_type": "fragment"
    }
   },
   "source": [
    "**Q: How many possible five-card hands are there with a deck of 52 cards?**"
   ]
  },
  {
   "cell_type": "code",
   "execution_count": 6,
   "metadata": {
    "collapsed": false,
    "slideshow": {
     "slide_type": "fragment"
    }
   },
   "outputs": [
    {
     "name": "stdout",
     "output_type": "stream",
     "text": [
      "2598960\n"
     ]
    }
   ],
   "source": [
    "print factorial(52) / (factorial(52-5) * factorial(5))"
   ]
  },
  {
   "cell_type": "markdown",
   "metadata": {
    "slideshow": {
     "slide_type": "slide"
    }
   },
   "source": [
    "<a id='practice'></a>\n",
    "\n",
    "### Practice Problems with Counting, Permutations, and Combinations\n",
    "\n",
    "---\n",
    "\n",
    "A restaurant has 22 employees, including:\n",
    "\n",
    "- Six chefs\n",
    "- Five waiters\n",
    "- Seven busboys \n",
    "\n",
    "The owner has requested a few things from you, the manager:\n",
    "\n",
    "1. A private party is coming on Tuesday and wants to know how many teams of one chef and two waiters can be formed.\n",
    "- Each busboy works just one day of the week. The owner wants to know how many different versions of the weekly busboy assignments are possible.\n",
    "- He wants his favorite waiter to serve him and his wife for their anniversary on Sunday, along with two other waiters. How many teams of three waiters can serve him?"
   ]
  },
  {
   "cell_type": "code",
   "execution_count": 7,
   "metadata": {
    "collapsed": false,
    "slideshow": {
     "slide_type": "fragment"
    }
   },
   "outputs": [
    {
     "name": "stdout",
     "output_type": "stream",
     "text": [
      "60.0\n"
     ]
    }
   ],
   "source": [
    "# 1:\n",
    "chefs = 6\n",
    "waiters = 5\n",
    "busboys = 7\n",
    "\n",
    "# Set up permutation and combination functions:\n",
    "def perm(n, k):\n",
    "    return float(factorial(n)) / factorial(n-k)\n",
    "\n",
    "def comb(n, k):\n",
    "    return float(perm(n, k)) / perm(k, k)\n",
    "\n",
    "# First figure out how many combinations of two waiters there are:\n",
    "waiter_combs = comb(waiters, 2)\n",
    "\n",
    "# For each combination of waiters, you have six possible pairings with chefs:\n",
    "groups = chefs * waiter_combs\n",
    "\n",
    "print groups"
   ]
  },
  {
   "cell_type": "code",
   "execution_count": 8,
   "metadata": {
    "collapsed": false,
    "slideshow": {
     "slide_type": "fragment"
    }
   },
   "outputs": [
    {
     "name": "stdout",
     "output_type": "stream",
     "text": [
      "5040.0\n"
     ]
    }
   ],
   "source": [
    "# 2:\n",
    "# Calculate the permutations of busboys. There are seven busboys, and \n",
    "# we want to know the number of possible orderings throughout the week.\n",
    "print perm(busboys, 7)"
   ]
  },
  {
   "cell_type": "code",
   "execution_count": 9,
   "metadata": {
    "collapsed": false,
    "slideshow": {
     "slide_type": "fragment"
    }
   },
   "outputs": [
    {
     "name": "stdout",
     "output_type": "stream",
     "text": [
      "6.0\n"
     ]
    }
   ],
   "source": [
    "# 3:\n",
    "# We have to remove his favorite waiter, who must be present, and then\n",
    "# calculate the combinations.\n",
    "print comb(waiters-1, 2)"
   ]
  },
  {
   "cell_type": "markdown",
   "metadata": {
    "slideshow": {
     "slide_type": "slide"
    }
   },
   "source": [
    "**Q: What is the probability that you are dealt two cards that are both  aces from a 52-card deck?**"
   ]
  },
  {
   "cell_type": "code",
   "execution_count": 10,
   "metadata": {
    "collapsed": false,
    "slideshow": {
     "slide_type": "fragment"
    }
   },
   "outputs": [
    {
     "name": "stdout",
     "output_type": "stream",
     "text": [
      "0.00452488687783\n"
     ]
    }
   ],
   "source": [
    "# Determine the number of different two-ace hands that are possible:\n",
    "ace_hands = comb(4,2)\n",
    "\n",
    "# Determine the number of possible two-card hands you can have from the deck:\n",
    "hands = comb(52,2)\n",
    "\n",
    "print ace_hands / hands"
   ]
  },
  {
   "cell_type": "markdown",
   "metadata": {
    "slideshow": {
     "slide_type": "slide"
    }
   },
   "source": [
    "**Q: What is the probability of getting two queens and three kings in a five-card hand?**"
   ]
  },
  {
   "cell_type": "code",
   "execution_count": 11,
   "metadata": {
    "collapsed": false,
    "slideshow": {
     "slide_type": "fragment"
    }
   },
   "outputs": [
    {
     "name": "stdout",
     "output_type": "stream",
     "text": [
      "9.23446301598e-06\n"
     ]
    }
   ],
   "source": [
    "# Calculate the number of three-king combinations:\n",
    "kings = comb(4,3)\n",
    "\n",
    "# Calculate the number of two-queen combinations:\n",
    "queens = comb(4,2)\n",
    "\n",
    "# Calculate all possible five-card combinations:\n",
    "hands = comb(52,5)\n",
    "\n",
    "# Grid all possible king combinations and queen combinations (using the counting principle):\n",
    "full = kings*queens\n",
    "\n",
    "print full / hands"
   ]
  },
  {
   "cell_type": "markdown",
   "metadata": {
    "slideshow": {
     "slide_type": "slide"
    }
   },
   "source": [
    "**Q: For 10 coin-flips, print out the probability of getting 0 heads through 10 heads.**\n",
    "\n",
    "Also, print out the sum of the probabilities."
   ]
  },
  {
   "cell_type": "code",
   "execution_count": 12,
   "metadata": {
    "collapsed": false,
    "slideshow": {
     "slide_type": "fragment"
    }
   },
   "outputs": [
    {
     "name": "stdout",
     "output_type": "stream",
     "text": [
      "Heads: 0 P =  0.0009765625\n",
      "Heads: 1 P =  0.009765625\n",
      "Heads: 2 P =  0.0439453125\n",
      "Heads: 3 P =  0.1171875\n",
      "Heads: 4 P =  0.205078125\n",
      "Heads: 5 P =  0.24609375\n",
      "Heads: 6 P =  0.205078125\n",
      "Heads: 7 P =  0.1171875\n",
      "Heads: 8 P =  0.0439453125\n",
      "Heads: 9 P =  0.009765625\n",
      "Heads: 10 P =  0.0009765625\n",
      "Total probability: 1.0\n"
     ]
    }
   ],
   "source": [
    "def flip_prob(heads, total):\n",
    "    head_combs = comb(total, heads)\n",
    "    total_possibilities = 2**total\n",
    "    return head_combs / total_possibilities\n",
    "    \n",
    "probs = []\n",
    "for i in range(0, 11):\n",
    "    flip = flip_prob(i, 10)\n",
    "    print 'Heads:', i, 'P = ', flip\n",
    "    probs.append(flip)\n",
    "    \n",
    "print 'Total probability:', sum(probs)"
   ]
  },
  {
   "cell_type": "markdown",
   "metadata": {
    "slideshow": {
     "slide_type": "slide"
    }
   },
   "source": [
    "<a id='distinguishable_indistinguishable'></a>\n",
    "\n",
    "### Distinguishable vs. Indistinguishable _(\"balls and urns\")_\n",
    "\n",
    "---\n",
    "\n",
    "Toy, textbook probability problems are famous form using \"balls\" and \"urns\" in their examples, where some number of balls must be placed in some number of urns. \n",
    "\n",
    "If the balls or urns are **distinguishable,** it means that there is a characteristic that distinguishes the items from each other, such as a marking. Similarly, if they are **indistinguishable** then there is no way to tell them apart. \n",
    "\n",
    "Depending on whether the items are distinguishable or indistinguishable, there are different numbers of distinct arrangements."
   ]
  },
  {
   "cell_type": "markdown",
   "metadata": {
    "slideshow": {
     "slide_type": "slide"
    }
   },
   "source": [
    "#### Distinguishable urns and distinguishable balls\n",
    "\n",
    "---\n",
    "\n",
    "In this scenario, our urns and balls are labeled. Distinct arrangements are affected by this labeling. For example:\n",
    "\n",
    "1. It matters whether urn A has one ball or. urn B has one ball (distinguishable urns).\n",
    "2. It matters whether ball X was placed in urn A or ball Y was placed in urn A (distinguishable balls).\n",
    "\n",
    "Because we have an option of three urns for each ball, we can calculate the arrangements like this:\n",
    "\n",
    "`(3 urns) * (3 urns) == (3 urns)**(2 balls) == 9`\n"
   ]
  },
  {
   "cell_type": "markdown",
   "metadata": {
    "slideshow": {
     "slide_type": "slide"
    }
   },
   "source": [
    "#### Distinguishable urns and indistinguishable balls\n",
    "\n",
    "---\n",
    "\n",
    "Now, our three urns are still labeled, but the balls are indistinguishable; there is no way to tell them apart in arrangements. We can only tell arrangements apart by how many balls are in each labeled urn.\n",
    "\n",
    "Imagine our balls are represented by the character `o`. We also have \"separator\" character `|` that divides the balls between urns. So, if all balls were in the first urn, it would look like this:\n",
    "\n",
    "    'oo||'\n",
    "    \n",
    "Or, if one ball was in the first and one was in the second:\n",
    "    \n",
    "    'o|o|'\n",
    "    \n",
    "Or, if one was in the first and one was in the third:\n",
    "\n",
    "    'o||o'\n",
    "    \n",
    "To find all the distinct arrangements of the two indistinguishable balls among the three distinguishable urns, we need to find all the combinations of the separators in the string, or `comb(4, 2)`.\n",
    "\n",
    "The general formula for the arrangements of $n$ indistinguishable items among $k$ distinguishable places is:\n",
    "\n",
    "### $$ \\text{combinations}(n+k-1, k-1)$$\n"
   ]
  },
  {
   "cell_type": "markdown",
   "metadata": {
    "slideshow": {
     "slide_type": "slide"
    }
   },
   "source": [
    "**Q: Suppose you have a game in which you can toss a ball and it will land in one of five buckets.**\n",
    "\n",
    "**You toss two balls and they each land in a bucket. If the balls are indistinguishable from each other, how many different outcomes (distributions of balls in buckets) are possible?**\n"
   ]
  },
  {
   "cell_type": "markdown",
   "metadata": {
    "slideshow": {
     "slide_type": "fragment"
    }
   },
   "source": [
    "\n",
    "    1.|BB |  2.|   |  3.|   |  4.|   |  5.|   |\n",
    "    1.|   |  2.|BB |  3.|   |  4.|   |  5.|   |\n",
    "    1.|   |  2.|   |  3.|BB |  4.|   |  5.|   |\n",
    "    1.|   |  2.|   |  3.|   |  4.|BB |  5.|   |\n",
    "    1.|   |  2.|   |  3.|   |  4.|   |  5.|BB |\n",
    "    1.|B  |  2.|B  |  3.|   |  4.|   |  5.|   |\n",
    "    1.|B  |  2.|   |  3.|B  |  4.|   |  5.|   |\n",
    "    1.|B  |  2.|   |  3.|   |  4.|B  |  5.|   |\n",
    "    1.|B  |  2.|   |  3.|   |  4.|   |  5.|B  |\n",
    "    1.|   |  2.|B  |  3.|B  |  4.|   |  5.|   |\n",
    "    1.|   |  2.|B  |  3.|   |  4.|B  |  5.|   |\n",
    "    1.|   |  2.|B  |  3.|   |  4.|   |  5.|B  |\n",
    "    1.|   |  2.|   |  3.|B  |  4.|B  |  5.|   |\n",
    "    1.|   |  2.|   |  3.|B  |  4.|   |  5.|B  |\n",
    "    1.|   |  2.|   |  3.|   |  4.|B  |  5.|B  |\n",
    "    "
   ]
  },
  {
   "cell_type": "code",
   "execution_count": 13,
   "metadata": {
    "collapsed": false,
    "slideshow": {
     "slide_type": "fragment"
    }
   },
   "outputs": [
    {
     "data": {
      "text/plain": [
       "15.0"
      ]
     },
     "execution_count": 13,
     "metadata": {},
     "output_type": "execute_result"
    }
   ],
   "source": [
    "comb(5+2-1, 5-1)"
   ]
  },
  {
   "cell_type": "markdown",
   "metadata": {
    "slideshow": {
     "slide_type": "slide"
    }
   },
   "source": [
    "**Q: How many solutions are there to this formula:**\n",
    "\n",
    "$X_1 + X_2 + X_3 + X_4 = 15$\n",
    "\n",
    "What about when the order of numbers matters?"
   ]
  },
  {
   "cell_type": "code",
   "execution_count": 14,
   "metadata": {
    "collapsed": true,
    "slideshow": {
     "slide_type": "fragment"
    }
   },
   "outputs": [],
   "source": [
    "# Conceptualize this as a balls-and-urns problem:\n",
    "balls = 15\n",
    "urns = 4"
   ]
  },
  {
   "cell_type": "markdown",
   "metadata": {},
   "source": [
    "The balls are indistinguishable (just because $X_1$ is three doesn't mean there are three versions, or, in other words, $1$ is indistinguishable from another $1$ in $1+1+1$)."
   ]
  },
  {
   "cell_type": "code",
   "execution_count": 15,
   "metadata": {
    "collapsed": false
   },
   "outputs": [
    {
     "name": "stdout",
     "output_type": "stream",
     "text": [
      "816.0\n"
     ]
    }
   ],
   "source": [
    "solutions = comb(balls + urns - 1, urns - 1)\n",
    "print solutions"
   ]
  },
  {
   "cell_type": "markdown",
   "metadata": {
    "slideshow": {
     "slide_type": "slide"
    }
   },
   "source": [
    "<a id='further_reading'></a>\n",
    "\n",
    "### Further Reading\n",
    "\n",
    "---\n",
    "\n",
    "There are two more scenarios we did not cover:\n",
    "- Indistinguishable urns and distinguishable balls\n",
    "- Indistinguishable urns and indistinguishable balls\n",
    "\n",
    "These are more complex and beyond the scope of this lecture, but if their solutions are of interest to you, here are some additional resources and reading materials:\n",
    "\n",
    "\n",
    "[Distributing balls into boxes 1](http://www.careerbless.com/aptitude/qa/permutations_combinations_imp7.php#p2)\n",
    "\n",
    "[Distributing balls into boxes 2](http://www.elcamino.edu/faculty/gfry/210/DistributeBallsBoxes.pdf)\n",
    "\n",
    "[Stirling numbers of the second kind](https://en.wikipedia.org/wiki/Stirling_numbers_of_the_second_kind)\n",
    "\n",
    "[Distinct objects into identical bins](https://brilliant.org/wiki/distinct-objects-into-identical-bins/)\n",
    "\n"
   ]
  },
  {
   "cell_type": "code",
   "execution_count": null,
   "metadata": {
    "collapsed": true
   },
   "outputs": [],
   "source": []
  }
 ],
 "metadata": {
  "kernelspec": {
   "display_name": "Python 2",
   "language": "python",
   "name": "python2"
  },
  "language_info": {
   "codemirror_mode": {
    "name": "ipython",
    "version": 2
   },
   "file_extension": ".py",
   "mimetype": "text/x-python",
   "name": "python",
   "nbconvert_exporter": "python",
   "pygments_lexer": "ipython2",
   "version": "2.7.12"
  }
 },
 "nbformat": 4,
 "nbformat_minor": 1
}
