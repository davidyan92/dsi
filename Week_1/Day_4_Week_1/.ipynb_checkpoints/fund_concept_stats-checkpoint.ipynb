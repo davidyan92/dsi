{
 "cells": [
  {
   "cell_type": "code",
   "execution_count": null,
   "metadata": {
    "collapsed": true
   },
   "outputs": [],
   "source": [
    "# Describing Matt's Example\n",
    "\n",
    "# Sample: \n",
    "    # 10,000 voters\n",
    "# Target Population:\n",
    "    # Plan to vote in New Hampshire\n",
    "# Sampled population:\n",
    "    # 900,000 voters\n",
    "# Sampling unit:\n",
    "    # A registered voters\n",
    "# Observation unit:\n",
    "    # A voter who responded\n",
    "# Sampling frame:\n",
    "    # Action of registering"
   ]
  },
  {
   "cell_type": "code",
   "execution_count": null,
   "metadata": {
    "collapsed": true
   },
   "outputs": [],
   "source": [
    "# Another Example\n",
    "\n",
    "# Sample:\n",
    "    # 1000 out of the 25,000 female undergraduate from Ohio State University\n",
    "# Target Population:\n",
    "    # 25,000 female undergraduate from Ohio State University\n",
    "# Sampled Population:\n",
    "    # 249 female undergraduates out of 1000\n",
    "# Sampling Unit:\n",
    "    # Female undergraduate in Ohio State University\n",
    "# Observation Unit:\n",
    "    # Female undergraduate in Ohio State University\n",
    "# Sampling Frame:\n",
    "    # Female undergraduate in Ohio State University"
   ]
  },
  {
   "cell_type": "code",
   "execution_count": null,
   "metadata": {
    "collapsed": true
   },
   "outputs": [],
   "source": [
    "# Independent practice\n",
    "\n",
    "# Sample:\n",
    "    # Homeless people receiving care from clinics in the HCH project\n",
    "# Target Population:\n",
    "    # Homeless people\n",
    "# Sampled Population:\n",
    "    # Homeless persons who received medical attention from one of the clinics in HCH project\n",
    "# Sampling Unit:\n",
    "    # A homeless person receiving care from clinic in the HCH project\n",
    "# Observation Unit:\n",
    "    # A homeless person receiving care from clinic in the HCH project\n",
    "# Sampling Frame:\n",
    "    # A homeless person that has a medical record in any of the clinics in the HCH project"
   ]
  },
  {
   "cell_type": "code",
   "execution_count": null,
   "metadata": {
    "collapsed": true
   },
   "outputs": [],
   "source": [
    "# What cases "
   ]
  }
 ],
 "metadata": {
  "kernelspec": {
   "display_name": "Python 2",
   "language": "python",
   "name": "python2"
  },
  "language_info": {
   "codemirror_mode": {
    "name": "ipython",
    "version": 2
   },
   "file_extension": ".py",
   "mimetype": "text/x-python",
   "name": "python",
   "nbconvert_exporter": "python",
   "pygments_lexer": "ipython2",
   "version": "2.7.11"
  }
 },
 "nbformat": 4,
 "nbformat_minor": 2
}
