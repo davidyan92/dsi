{
 "cells": [
  {
   "cell_type": "code",
   "execution_count": 7,
   "metadata": {},
   "outputs": [
    {
     "name": "stdout",
     "output_type": "stream",
     "text": [
      "362880\n"
     ]
    }
   ],
   "source": [
    "# recursive function acts like a nested function with a stop trigger\n",
    "# create a recursive function for factorial\n",
    "def factorial(number):\n",
    "    if not isinstance(number, int):\n",
    "        print(\"Input not integer!\")\n",
    "    elif number < 0:\n",
    "        print(\"Input cannot be negative!\")\n",
    "    elif number == 0:\n",
    "        return 1\n",
    "    else:\n",
    "        return number * factorial(number-1)\n",
    "\n",
    "print(factorial(9))"
   ]
  },
  {
   "cell_type": "code",
   "execution_count": 9,
   "metadata": {},
   "outputs": [],
   "source": [
    "import math\n"
   ]
  },
  {
   "cell_type": "code",
   "execution_count": 24,
   "metadata": {},
   "outputs": [
    {
     "data": {
      "text/plain": [
       "60"
      ]
     },
     "execution_count": 24,
     "metadata": {},
     "output_type": "execute_result"
    }
   ],
   "source": [
    "factorial(5)/(factorial(3) * factorial(2)) * 6"
   ]
  },
  {
   "cell_type": "code",
   "execution_count": 25,
   "metadata": {},
   "outputs": [
    {
     "data": {
      "text/plain": [
       "5040"
      ]
     },
     "execution_count": 25,
     "metadata": {},
     "output_type": "execute_result"
    }
   ],
   "source": [
    "factorial(7)"
   ]
  },
  {
   "cell_type": "code",
   "execution_count": 26,
   "metadata": {},
   "outputs": [
    {
     "data": {
      "text/plain": [
       "6"
      ]
     },
     "execution_count": 26,
     "metadata": {},
     "output_type": "execute_result"
    }
   ],
   "source": [
    "factorial(4)/(factorial(2) * factorial(2))"
   ]
  },
  {
   "cell_type": "code",
   "execution_count": 34,
   "metadata": {},
   "outputs": [
    {
     "name": "stdout",
     "output_type": "stream",
     "text": [
      "0.452488687783\n"
     ]
    }
   ],
   "source": [
    "two_card_comb = factorial(52)/(factorial(52-2) * factorial(2))\n",
    "two_ace_comb = factorial(4)/(factorial(2) * factorial(2))\n",
    "prob = float(two_ace_comb) / float(two_card_comb) * 100.0\n",
    "print(prob)"
   ]
  },
  {
   "cell_type": "code",
   "execution_count": 37,
   "metadata": {},
   "outputs": [
    {
     "name": "stdout",
     "output_type": "stream",
     "text": [
      "0.000923446301598\n"
     ]
    }
   ],
   "source": [
    "five_card_comb = factorial(52)/(factorial(52-5) * factorial(5))\n",
    "queen_comb = factorial(4)/(factorial(2) * factorial(2))\n",
    "king_comb = factorial(4)/(factorial(1) * factorial(3))\n",
    "queen_king_comb = queen_comb * king_comb\n",
    "prob = float(queen_king_comb) / float(five_card_comb) *100\n",
    "print(prob)"
   ]
  },
  {
   "cell_type": "code",
   "execution_count": 45,
   "metadata": {},
   "outputs": [
    {
     "name": "stdout",
     "output_type": "stream",
     "text": [
      "Probability of 0 head is 0.0009765625\n",
      "Probability of 1 head is 0.009765625\n",
      "Probability of 2 head is 0.0439453125\n",
      "Probability of 3 head is 0.1171875\n",
      "Probability of 4 head is 0.205078125\n",
      "Probability of 5 head is 0.24609375\n",
      "Probability of 6 head is 0.205078125\n",
      "Probability of 7 head is 0.1171875\n",
      "Probability of 8 head is 0.0439453125\n",
      "Probability of 9 head is 0.009765625\n",
      "Probability of 10 head is 0.0009765625\n",
      "1.0\n"
     ]
    }
   ],
   "source": [
    "ten_flip_comb = 2**10\n",
    "incre_head_prob_arr = []\n",
    "for x in range(11):\n",
    "    incre_head_comb = factorial(10)/(factorial(10-x) * factorial(x))\n",
    "    prob = float(incre_head_comb) / float(ten_flip_comb)\n",
    "    incre_head_prob_arr.append(prob)\n",
    "    print(\"Probability of \" + str(x) + \" head is \" + str(prob))\n",
    "\n",
    "print(sum(incre_head_prob_arr))"
   ]
  },
  {
   "cell_type": "code",
   "execution_count": 46,
   "metadata": {},
   "outputs": [
    {
     "name": "stdout",
     "output_type": "stream",
     "text": [
      "15\n"
     ]
    }
   ],
   "source": [
    "def perm(n,k):\n",
    "    outcome = factorial(n)/factorial(n-k)\n",
    "    return outcome\n",
    "def comb(n,k):\n",
    "    outcome = perm(n,k)/perm(k,k)\n",
    "    return outcome\n",
    "\n",
    "# comb(n+k-1,k-1) formula for ball urn problem\n",
    "#2 indistinguishable balls, 5 urns\n",
    "print(comb(2+5-1,5-1))"
   ]
  },
  {
   "cell_type": "code",
   "execution_count": 48,
   "metadata": {},
   "outputs": [
    {
     "name": "stdout",
     "output_type": "stream",
     "text": [
      "816\n"
     ]
    }
   ],
   "source": [
    "# 15 indistinguishable balls, 4 urns\n",
    "# represented as  a+b+c+d=15\n",
    "print(comb(15+4-1,4-1))"
   ]
  },
  {
   "cell_type": "code",
   "execution_count": null,
   "metadata": {
    "collapsed": true
   },
   "outputs": [],
   "source": []
  }
 ],
 "metadata": {
  "kernelspec": {
   "display_name": "Python 2",
   "language": "python",
   "name": "python2"
  },
  "language_info": {
   "codemirror_mode": {
    "name": "ipython",
    "version": 2
   },
   "file_extension": ".py",
   "mimetype": "text/x-python",
   "name": "python",
   "nbconvert_exporter": "python",
   "pygments_lexer": "ipython2",
   "version": "2.7.11"
  }
 },
 "nbformat": 4,
 "nbformat_minor": 2
}
