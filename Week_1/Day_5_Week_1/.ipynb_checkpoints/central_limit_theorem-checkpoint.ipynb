{
 "cells": [
  {
   "cell_type": "code",
   "execution_count": null,
   "metadata": {
    "collapsed": true
   },
   "outputs": [],
   "source": [
    "# 68, 95, 99.7 rule for Normal distributions\n",
    "# 68% of the observations lie within 1 SD from the mean\n",
    "# 95% of the observations lie within 2 SD from the mean\n",
    "# 99.7% of the observations lie within 3 SD from the mean\n",
    "\n"
   ]
  },
  {
   "cell_type": "code",
   "execution_count": null,
   "metadata": {
    "collapsed": true
   },
   "outputs": [],
   "source": [
    "# Z-Score quantifies how many SD the observation is away\n",
    "# from the population mean\n",
    "# formula = (x - mean) / sd of x\n",
    "# Z-score has a mean of 0\n",
    "# Z is the standard normal distribution\n"
   ]
  },
  {
   "cell_type": "code",
   "execution_count": 1,
   "metadata": {
    "collapsed": true
   },
   "outputs": [],
   "source": [
    "import numpy as np\n",
    "import scipy.stats as ss\n",
    "values = np.array([2,3,4,5,6])"
   ]
  },
  {
   "cell_type": "code",
   "execution_count": 3,
   "metadata": {},
   "outputs": [
    {
     "data": {
      "text/plain": [
       "array([-1.41421356, -0.70710678,  0.        ,  0.70710678,  1.41421356])"
      ]
     },
     "execution_count": 3,
     "metadata": {},
     "output_type": "execute_result"
    }
   ],
   "source": [
    "# It calculates the z-score of each value in array \n",
    "# relative the mean and standard deviation of the array\n",
    "ss.zscore(values)"
   ]
  },
  {
   "cell_type": "code",
   "execution_count": 4,
   "metadata": {
    "collapsed": true
   },
   "outputs": [],
   "source": [
    "# NO, the process does not enforce distribution\n",
    "# to be normally distributed"
   ]
  },
  {
   "cell_type": "code",
   "execution_count": null,
   "metadata": {
    "collapsed": true
   },
   "outputs": [],
   "source": [
    "# CLT stats that if we draw enough amount of samples of size\n",
    "# at least 30, and we plotted all their averages, it will\n",
    "# tend towards a normal distribution"
   ]
  },
  {
   "cell_type": "code",
   "execution_count": 36,
   "metadata": {},
   "outputs": [
    {
     "name": "stdout",
     "output_type": "stream",
     "text": [
      "[22000000.0, 17700000.0, 21500000.0, 22900000.0, 18050000.0, 26700000.0, 20400000.0, 23000000.0, 18435000.0, 17500000.0, 20500000.0, 18750000.0, 29400000.0, 24200000.0, 24200000.0, 21800000.0, 25300000.0, 20700000.0, 23800000.0, 19800000.0, 24300000.0, 20000000.0, 36600000.0, 23200000.0, 24450000.0, 21000000.0, 25500000.0, 29900000.0, 61200000.0, 21000000.0, 41800000.0, 20300000.0, 31000000.0, 21300000.0, 105000000.0, 18300000.0, 36400000.0, 22350000.0, 21700000.0, 21200000.0, 18000000.0, 20750000.0, 17500000.0, 18700000.0, 23500000.0, 22500000.0, 22900000.0, 33000000.0, 20300000.0, 24600000.0, 24800000.0, 21350000.0, 20800000.0, 20700000.0, 31900000.0, 61500000.0, 18500000.0, 72300000.0, 32000000.0, 23600000.0, 64700000.0, 17300000.0, 30000000.0, 24400000.0, 22700000.0, 22600000.0, 43800000.0, 20400000.0, 17400000.0, 18500000.0, 33600000.0, 33100000.0, 21800000.0, 27100000.0, 53200000.0, 23900000.0, 35400000.0, 44500000.0, 25900000.0, 19500000.0, 21500000.0, 56200000.0, 24300000.0, 18600000.0, 19200000.0, 22400000.0, 21000000.0, 19000000.0, 22000000.0, 23300000.0, 18700000.0, 17600000.0, 20550000.0, 23200000.0, 21100000.0, 23400000.0, 28000000.0, 18800000.0, 40400000.0, 80000000.0]\n"
     ]
    }
   ],
   "source": [
    "athletes_csv = 'Athletes.csv'\n",
    "\n",
    "import pandas as pd\n",
    "import matplotlib.pyplot as plt\n",
    "import seaborn as sns\n",
    "import random\n",
    "ath = pd.read_csv(athletes_csv)\n",
    "salary = ath['Total Pay'].values.tolist()\n",
    "\n",
    "new_salary = []\n",
    "for x in salary:\n",
    "    x = x.replace(',','')\n",
    "    x = x.replace('$','')\n",
    "    new_salary.append(float(x))\n",
    "print(new_salary)"
   ]
  },
  {
   "cell_type": "code",
   "execution_count": 34,
   "metadata": {
    "collapsed": true
   },
   "outputs": [],
   "source": [
    "def dist_plotter(sample):\n",
    "    fig, ax = plt.subplots(figsize=(8,6))\n",
    "    sns.distplot(sample, bins=50, kde=False)\n",
    "    plt.show()"
   ]
  },
  {
   "cell_type": "code",
   "execution_count": 32,
   "metadata": {
    "scrolled": true
   },
   "outputs": [
    {
     "data": {
      "image/png": "[encoded data removed]",
      "text/plain": [
       "<matplotlib.figure.Figure at 0x1a0a6a1fd0>"
      ]
     },
     "metadata": {},
     "output_type": "display_data"
    }
   ],
   "source": [
    "# plot distribution for atheletes\n",
    "dist_plotter(new_salary)"
   ]
  },
  {
   "cell_type": "code",
   "execution_count": 48,
   "metadata": {},
   "outputs": [],
   "source": [
    "# function to take random sample of n=30 1000 times,\n",
    "# get the mean of the samples and return the sample means as\n",
    "# a new list\n",
    "def mean_bs(data,n,num_of_sim):\n",
    "    sample_means = []\n",
    "    for x in range(num_of_sim):\n",
    "        sample_set = random.sample(data,n)\n",
    "        mean = np.mean(sample_set)\n",
    "        sample_means.append(mean)\n",
    "    return sample_means\n",
    "\n",
    "ath_bs_mean = mean_bs(new_salary,30,100000)"
   ]
  },
  {
   "cell_type": "code",
   "execution_count": 49,
   "metadata": {},
   "outputs": [
    {
     "data": {
      "image/png": "[encoded data removed]",
      "text/plain": [
       "<matplotlib.figure.Figure at 0x1a090cd250>"
      ]
     },
     "metadata": {},
     "output_type": "display_data"
    }
   ],
   "source": [
    "dist_plotter(ath_bs_mean)"
   ]
  },
  {
   "cell_type": "code",
   "execution_count": null,
   "metadata": {
    "collapsed": true
   },
   "outputs": [],
   "source": []
  }
 ],
 "metadata": {
  "kernelspec": {
   "display_name": "Python 2",
   "language": "python",
   "name": "python2"
  },
  "language_info": {
   "codemirror_mode": {
    "name": "ipython",
    "version": 2
   },
   "file_extension": ".py",
   "mimetype": "text/x-python",
   "name": "python",
   "nbconvert_exporter": "python",
   "pygments_lexer": "ipython2",
   "version": "2.7.11"
  }
 },
 "nbformat": 4,
 "nbformat_minor": 2
}
