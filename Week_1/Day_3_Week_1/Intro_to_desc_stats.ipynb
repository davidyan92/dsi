{
 "cells": [
  {
   "cell_type": "code",
   "execution_count": null,
   "metadata": {
    "collapsed": true
   },
   "outputs": [],
   "source": [
    "import numpy as np\n",
    "import scipy.stats as ss\n",
    "from pprint import pprint\n",
    "n = [3, 75, 98, 2, 10, 3, 14, 99, 44, 25, 31, 100, 356, 4, 23, 55, 327, 64, 6, 20]\n",
    "\n",
    "n_mean = np.mean(n)\n",
    "n_median = np.median(n)\n",
    "n_mode = ss.mode(n)\n",
    "n_range = max(n) - min(n)\n",
    "n_variance = np.var(n)\n",
    "n_std = np.std(n)\n",
    "\n",
    "n_unique = set(n)\n",
    "n_dict = {}\n",
    "\n",
    "for num in n_unique:\n",
    "    n_dict.update({num:n.count(num)})\n",
    "\n",
    "max_freq = max(n_dict.itervalues())\n",
    "n_mode_raw = n_dict.keys()[n_dict.values().index(max_freq)]\n",
    "\n",
    "print(n_mean, n_median, \n",
    "      n_mode, n_range, \n",
    "      n_variance, n_std,\n",
    "        max_freq, n_mode_raw)\n",
    "\n",
    "#data skewed to the left because mean > median"
   ]
  },
  {
   "cell_type": "code",
   "execution_count": null,
   "metadata": {},
   "outputs": [],
   "source": [
    "import seaborn as sns\n",
    "import matplotlib.pyplot as plt\n",
    "%matplotlib inline\n",
    "\n",
    "sns.set(color_codes=True)\n",
    "tips = sns.load_dataset(\"tips\")\n",
    "\n",
    "g = sns.lmplot(x='total_bill', y='tip', data=tips, markers=[\"x\", \"o\"],palette=\"Set1\",\n",
    "           hue='sex')\n",
    "print(g)"
   ]
  },
  {
   "cell_type": "code",
   "execution_count": null,
   "metadata": {},
   "outputs": [],
   "source": [
    "tips.drop(['size'], axis=1)"
   ]
  },
  {
   "cell_type": "code",
   "execution_count": null,
   "metadata": {
    "collapsed": true
   },
   "outputs": [],
   "source": []
  }
 ],
 "metadata": {
  "kernelspec": {
   "display_name": "Python 2",
   "language": "python",
   "name": "python2"
  },
  "language_info": {
   "codemirror_mode": {
    "name": "ipython",
    "version": 2
   },
   "file_extension": ".py",
   "mimetype": "text/x-python",
   "name": "python",
   "nbconvert_exporter": "python",
   "pygments_lexer": "ipython2",
   "version": "2.7.11"
  }
 },
 "nbformat": 4,
 "nbformat_minor": 2
}
