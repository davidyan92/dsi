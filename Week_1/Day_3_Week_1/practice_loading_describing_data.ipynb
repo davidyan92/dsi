{
 "cells": [
  {
   "cell_type": "code",
   "execution_count": 136,
   "metadata": {
    "collapsed": true
   },
   "outputs": [],
   "source": [
    "from pprint import pprint\n",
    "import matplotlib.pyplot as plt\n",
    "import numpy as np\n",
    "import pandas as pd\n",
    "import scipy.stats as ss\n",
    "names = [\"CRIM\", \"ZN\", \"INDUS\", \"CHAS\", \"NOX\", \"RM\", \"AGE\",\n",
    "         \"DIS\", \"RAD\", \"TAX\", \"PTRATIO\", \"B\", \"LSTAT\", \"MEDV\"]"
   ]
  },
  {
   "cell_type": "code",
   "execution_count": null,
   "metadata": {},
   "outputs": [],
   "source": [
    "with open('housing.data', 'rU') as f:\n",
    "    \n",
    "    file_contents = f.readlines()\n",
    "    data_list = []\n",
    "    \n",
    "    for x in file_contents:\n",
    "        x_modified = [float(y) for y in x.split()]\n",
    "        data_list.append(x_modified)\n",
    "    \n",
    "    data_dict = {k:[v[index] for v in data_list] for index, k in enumerate(names)}\n",
    "    f.close()"
   ]
  },
  {
   "cell_type": "code",
   "execution_count": null,
   "metadata": {},
   "outputs": [],
   "source": [
    "# Check for range in features\n",
    "# Very subjective\n",
    "# CRIM (0-100)\n",
    "# ZN (0-100)\n",
    "# NOX (0-1)\n",
    "# AGE (0-100)\n",
    "# CHAS (0-1)\n",
    "#\n",
    "\n",
    "print(names)"
   ]
  },
  {
   "cell_type": "code",
   "execution_count": null,
   "metadata": {},
   "outputs": [],
   "source": [
    "# Check whether there are any missing values in the data\n",
    "for key, data in data_dict.iteritems():\n",
    "    print \"%d rows in %s\" % (len(data), key)"
   ]
  },
  {
   "cell_type": "code",
   "execution_count": null,
   "metadata": {},
   "outputs": [],
   "source": [
    "# 4 two attributes that make the least sense to calculate mean and median\n",
    "print(data_dict['RAD'])"
   ]
  },
  {
   "cell_type": "code",
   "execution_count": 128,
   "metadata": {},
   "outputs": [
    {
     "name": "stdout",
     "output_type": "stream",
     "text": [
      "['NOX', 'DIS', -0.76923011322582791]\n",
      "['DIS', 'NOX', -0.76923011322582791]\n",
      "['NOX', 'INDUS', 0.76365144692091524]\n",
      "['INDUS', 'NOX', 0.76365144692091513]\n"
     ]
    }
   ],
   "source": [
    "# which two variables have the strongest linear association\n",
    "linear_assoc = []\n",
    "\n",
    "for name in data_dict.keys():\n",
    "    if name not in ['RAD', 'CHAS']:\n",
    "        for other in data_dict.keys():\n",
    "            if name != other and other not in ['RAD', 'CHAS']:\n",
    "                linear_assoc.append([name, other, np.corrcoef(data_dict[name], data_dict[other])[0,1]])\n",
    "\n",
    "sort_rel = sorted(linear_assoc, key=lambda x: np.abs(x[2]), reverse=True)\n",
    "\n",
    "for i in range(4):\n",
    "    print(sort_rel[i])\n"
   ]
  },
  {
   "cell_type": "code",
   "execution_count": 132,
   "metadata": {},
   "outputs": [
    {
     "name": "stdout",
     "output_type": "stream",
     "text": [
      "['INDUS', 0.29414627684418543]\n"
     ]
    }
   ],
   "source": [
    "# 6 look at distributional qualities of variables\n",
    "\n",
    "symmetric = []\n",
    "for name, data in data_dict.iteritems():\n",
    "    symmetric.append([name, ss.skew(data)])\n",
    "symmetric_sort = sorted(symmetric, key=lambda x: np.abs(x[1]))\n",
    "print(symmetric_sort[0])"
   ]
  },
  {
   "cell_type": "code",
   "execution_count": 134,
   "metadata": {},
   "outputs": [
    {
     "name": "stdout",
     "output_type": "stream",
     "text": [
      "['CRIM', 5.207652387859715]\n"
     ]
    }
   ],
   "source": [
    "# right skewed\n",
    "symmetric_sort = sorted(symmetric, key=lambda x: np.abs(x[1]), reverse=True)\n",
    "print(symmetric_sort[0])"
   ]
  },
  {
   "cell_type": "code",
   "execution_count": 135,
   "metadata": {},
   "outputs": [
    {
     "name": "stdout",
     "output_type": "stream",
     "text": [
      "['B', -2.8817983452627716]\n"
     ]
    }
   ],
   "source": [
    "# left skewed\n",
    "symmetric_sort = sorted(symmetric, key=lambda x: x[1])\n",
    "print(symmetric_sort[0])"
   ]
  },
  {
   "cell_type": "code",
   "execution_count": 141,
   "metadata": {},
   "outputs": [
    {
     "name": "stdout",
     "output_type": "stream",
     "text": [
      "['INDUS', 0.2941462768441846]\n"
     ]
    }
   ],
   "source": [
    "# employ mean normalisation\n",
    "sym_norm = []\n",
    "for name, data in data_dict.iteritems():\n",
    "    sym_norm.append([name, ss.skew([(x-np.mean(data))/np.ptp(data) for x in data])])\n",
    "sym_norm_sort = sorted(sym_norm, key=lambda x: np.abs(x[1]))\n",
    "print(sym_norm_sort[0])"
   ]
  },
  {
   "cell_type": "code",
   "execution_count": 142,
   "metadata": {},
   "outputs": [
    {
     "name": "stdout",
     "output_type": "stream",
     "text": [
      "['CRIM', 5.207652387859719]\n"
     ]
    }
   ],
   "source": [
    "# right skewed\n",
    "sym_norm_sort = sorted(sym_norm, key=lambda x: np.abs(x[1]), reverse=True)\n",
    "print(sym_norm_sort[0])"
   ]
  },
  {
   "cell_type": "code",
   "execution_count": 143,
   "metadata": {},
   "outputs": [
    {
     "name": "stdout",
     "output_type": "stream",
     "text": [
      "['B', -2.8817983452627693]\n"
     ]
    }
   ],
   "source": [
    "# left skewed\n",
    "sym_norm_sort = sorted(sym_norm, key=lambda x: x[1])\n",
    "print(sym_norm_sort[0])"
   ]
  },
  {
   "cell_type": "code",
   "execution_count": null,
   "metadata": {
    "collapsed": true
   },
   "outputs": [],
   "source": [
    "# 9 Univariate analysis of your choice\n"
   ]
  }
 ],
 "metadata": {
  "kernelspec": {
   "display_name": "Python 2",
   "language": "python",
   "name": "python2"
  },
  "language_info": {
   "codemirror_mode": {
    "name": "ipython",
    "version": 2
   },
   "file_extension": ".py",
   "mimetype": "text/x-python",
   "name": "python",
   "nbconvert_exporter": "python",
   "pygments_lexer": "ipython2",
   "version": "2.7.11"
  }
 },
 "nbformat": 4,
 "nbformat_minor": 2
}
