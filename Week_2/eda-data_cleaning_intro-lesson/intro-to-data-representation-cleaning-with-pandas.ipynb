{
 "cells": [
  {
   "cell_type": "markdown",
   "metadata": {
    "slideshow": {
     "slide_type": "notes"
    }
   },
   "source": [
    "> **Jupyter slideshow:** This notebook can be displayed as slides. To view it as a slideshow in your browser, type the following in the console:\n",
    "\n",
    "\n",
    "> `> ipython nbconvert [this_notebook.ipynb] --to slides --post serve`\n",
    "\n",
    "\n",
    "> To toggle off the slideshow cell formatting, click the `CellToolbar` button, then `View --> Cell Toolbar --> None`."
   ]
  },
  {
   "cell_type": "markdown",
   "metadata": {
    "slideshow": {
     "slide_type": "slide"
    }
   },
   "source": [
    "<img src=\"http://imgur.com/1ZcRyrc.png\" style=\"float: left; margin: 20px; height: 55px\">\n",
    "\n",
    "## Intro to Data Representation and Data Cleaning\n",
    "\n",
    "_Authors: Dave Yerrington (SF)_\n",
    "\n",
    "---\n",
    "\n",
    "<img src=\"https://snag.gy/ywU34V.jpg\" width=\"250\">"
   ]
  },
  {
   "cell_type": "markdown",
   "metadata": {
    "slideshow": {
     "slide_type": "slide"
    }
   },
   "source": [
    "### Learning Objectives\n",
    "*After this lesson, you will be able to:*\n",
    "- Inspect data types.\n",
    "- Clean up a column using `df.apply()`.\n",
    "- Recognize situations in which to use `.value_counts()` in your code."
   ]
  },
  {
   "cell_type": "markdown",
   "metadata": {
    "slideshow": {
     "slide_type": "slide"
    }
   },
   "source": [
    "### Lesson Guide\n",
    "\n",
    "- [Data Quality Measures](#data_quality_measures)\n",
    "- [Common Data Cleaning Strategies](#common_strategies)\n",
    "- [`pandas` Tools for Cleaning Data](#cleaning_tools)\n",
    "- [Common Operations on Data by Type](#common_operations)\n",
    "- [Guided Practice: Inspecting Data Types and Applying Functions](#guided_practice)\n",
    "- [Independent Practice: Sales Data](#independent_pratice)\n"
   ]
  },
  {
   "cell_type": "markdown",
   "metadata": {
    "slideshow": {
     "slide_type": "slide"
    }
   },
   "source": [
    "<a id='common_strategies'></a>\n",
    "\n",
    "### Common Data Cleaning Strategies\n",
    "\n",
    "---\n",
    "\n",
    " - Remove missing values.\n",
    " - Remove incorrect values.\n",
    " - Update incorrect values.\n",
    "  - Removing invalid characters.\n",
    "  - Truncating part of a value.\n",
    "  - Adding an extra numeral or string-based data.\n",
    " - Imputate missing or invalid data.\n",
    "  - Calculating the mean/median/mode of a column, sometimes within group subsets.\n",
    "  - Implementing model-based imputation (K-Nearest Neighbors, MICE, etc.).\n",
    " - Backfill or forward fill.\n"
   ]
  },
  {
   "cell_type": "markdown",
   "metadata": {
    "slideshow": {
     "slide_type": "slide"
    }
   },
   "source": [
    "<a id='data_quality_measures'></a>\n",
    "\n",
    "### Measures of Data Quality\n",
    "\n",
    "---\n",
    "\n",
    " - What is the relative value of the data column?\n",
    " - Is the data encoded properly?\n",
    " - Is the data consistently encoded? Does it represent the information it contains appropriately?"
   ]
  },
  {
   "cell_type": "markdown",
   "metadata": {
    "slideshow": {
     "slide_type": "slide"
    }
   },
   "source": [
    "<a id='cleaning_tools'></a>\n",
    "\n",
    "### `pandas` Tools for Cleaning Data\n",
    "\n",
    "---\n",
    "\n",
    "We're starting to get more comfortable with using `pandas` for manipulating and examining data. Now, let's add a couple more tools to our toolbox.\n",
    "\n",
    "The main data types in `pandas` objects are:\n",
    "- `float`\n",
    "- `int`\n",
    "- `bool`\n",
    "- `datetime64`\n",
    "- `timedelta`\n",
    "- `category`\n",
    "- `object`\n",
    "\n",
    "It is always important to evaluate the data types of columns to ensure that the information they contain is properly represented.\n",
    "\n",
    "See [`pandas`: dtypes](http://pandas.pydata.org/pandas-docs/stable/pandas.pdf) for a more detailed reference.\n",
    "\n",
    "We will be using two tools extensively in this lesson:\n",
    "\n",
    "**The `.apply()` function**\n",
    "\n",
    "This built-in function will apply a function to all cells, rows, or columns within a DataFrame. We will explore this process in detail below.\n",
    "\n",
    "**The Series `.value_counts` attribute**\n",
    "\n",
    "`pandas` Series objects have `.value_counts` attributes that return a new Series containing the counts of the data's unique values. This Series will be formatted in descending order by default, so the first element is the most frequently occuring value.\n",
    "\n",
    "Note: `.value_counts` excludes the counts of null values in the column!\n",
    "\n",
    "See [`pandas` Series: value_counts](http://nullege.com/codes/search/pandas.Series.value_counts) for more detailed information.\n"
   ]
  },
  {
   "cell_type": "markdown",
   "metadata": {
    "slideshow": {
     "slide_type": "slide"
    }
   },
   "source": [
    "<a id='common_operations'></a>\n",
    "\n",
    "### Common Operations on Data by Type\n",
    "\n",
    "---\n",
    "\n",
    "- **`float`**: Precision-specific math operations.\n",
    "- **`int`**: Operations with whole numbers.\n",
    "- **`bool`**: Control flow conditions.\n",
    "- **`datetime64`**: Resampling, slicing/selection, frequency back/front filling on a date range.\n",
    "- **`timedelta`**: Date comparisons.\n",
    "- **`category`**: A more powerful set type; can capture for example days as a category with ordinal (ordering) information.\n",
    "- **`object`**: All data types can be represented as an object, but math and date operations will not be possible. Limited control flow possibilities are available unless you are comparing strings."
   ]
  },
  {
   "cell_type": "markdown",
   "metadata": {
    "slideshow": {
     "slide_type": "slide"
    }
   },
   "source": [
    "<a id='guided_practice'></a>\n",
    "\n",
    "### Guided Practice: Inspecting Data Types and Applying Functions\n",
    "\n",
    "---\n",
    "\n",
    "[This guided practice](./practice-inspecting-data-applying-functions.ipynb) follows along with the questions in the Jupyter notebook provided.\n"
   ]
  },
  {
   "cell_type": "code",
   "execution_count": 1,
   "metadata": {
    "collapsed": true
   },
   "outputs": [],
   "source": [
    "import pandas as pd\n",
    "import numpy as np"
   ]
  },
  {
   "cell_type": "markdown",
   "metadata": {
    "slideshow": {
     "slide_type": "slide"
    }
   },
   "source": [
    "**1. Create a small DataFrame with different data types.**"
   ]
  },
  {
   "cell_type": "code",
   "execution_count": 2,
   "metadata": {
    "collapsed": true,
    "slideshow": {
     "slide_type": "-"
    }
   },
   "outputs": [],
   "source": [
    "test_data = dict( \n",
    "    A = np.random.rand(3),\n",
    "    B = 1,\n",
    "    C = 'foo',\n",
    "    D = pd.Timestamp('20010102'),\n",
    "    E = pd.Series([1.0]*3).astype('float32'),\n",
    "    F = False,\n",
    "    G = pd.Series([1]*3,dtype='int8')\n",
    ")"
   ]
  },
  {
   "cell_type": "code",
   "execution_count": 3,
   "metadata": {
    "collapsed": false,
    "slideshow": {
     "slide_type": "fragment"
    }
   },
   "outputs": [
    {
     "data": {
      "text/plain": [
       "{'A': array([ 0.52262705,  0.19537626,  0.89888063]),\n",
       " 'B': 1,\n",
       " 'C': 'foo',\n",
       " 'D': Timestamp('2001-01-02 00:00:00'),\n",
       " 'E': 0    1.0\n",
       " 1    1.0\n",
       " 2    1.0\n",
       " dtype: float32,\n",
       " 'F': False,\n",
       " 'G': 0    1\n",
       " 1    1\n",
       " 2    1\n",
       " dtype: int8}"
      ]
     },
     "execution_count": 3,
     "metadata": {},
     "output_type": "execute_result"
    }
   ],
   "source": [
    "test_data"
   ]
  },
  {
   "cell_type": "code",
   "execution_count": 4,
   "metadata": {
    "collapsed": false,
    "slideshow": {
     "slide_type": "slide"
    }
   },
   "outputs": [
    {
     "data": {
      "text/html": [
       "<div>\n",
       "<table border=\"1\" class=\"dataframe\">\n",
       "  <thead>\n",
       "    <tr style=\"text-align: right;\">\n",
       "      <th></th>\n",
       "      <th>A</th>\n",
       "      <th>B</th>\n",
       "      <th>C</th>\n",
       "      <th>D</th>\n",
       "      <th>E</th>\n",
       "      <th>F</th>\n",
       "      <th>G</th>\n",
       "    </tr>\n",
       "  </thead>\n",
       "  <tbody>\n",
       "    <tr>\n",
       "      <th>0</th>\n",
       "      <td>0.522627</td>\n",
       "      <td>1</td>\n",
       "      <td>foo</td>\n",
       "      <td>2001-01-02</td>\n",
       "      <td>1.0</td>\n",
       "      <td>False</td>\n",
       "      <td>1</td>\n",
       "    </tr>\n",
       "    <tr>\n",
       "      <th>1</th>\n",
       "      <td>0.195376</td>\n",
       "      <td>1</td>\n",
       "      <td>foo</td>\n",
       "      <td>2001-01-02</td>\n",
       "      <td>1.0</td>\n",
       "      <td>False</td>\n",
       "      <td>1</td>\n",
       "    </tr>\n",
       "    <tr>\n",
       "      <th>2</th>\n",
       "      <td>0.898881</td>\n",
       "      <td>1</td>\n",
       "      <td>foo</td>\n",
       "      <td>2001-01-02</td>\n",
       "      <td>1.0</td>\n",
       "      <td>False</td>\n",
       "      <td>1</td>\n",
       "    </tr>\n",
       "  </tbody>\n",
       "</table>\n",
       "</div>"
      ],
      "text/plain": [
       "          A  B    C          D    E      F  G\n",
       "0  0.522627  1  foo 2001-01-02  1.0  False  1\n",
       "1  0.195376  1  foo 2001-01-02  1.0  False  1\n",
       "2  0.898881  1  foo 2001-01-02  1.0  False  1"
      ]
     },
     "execution_count": 4,
     "metadata": {},
     "output_type": "execute_result"
    }
   ],
   "source": [
    "dft = pd.DataFrame(test_data)\n",
    "dft"
   ]
  },
  {
   "cell_type": "markdown",
   "metadata": {
    "slideshow": {
     "slide_type": "slide"
    }
   },
   "source": [
    "**2. Examine the data types of the columns.**"
   ]
  },
  {
   "cell_type": "code",
   "execution_count": 5,
   "metadata": {
    "collapsed": false,
    "slideshow": {
     "slide_type": "fragment"
    }
   },
   "outputs": [
    {
     "data": {
      "text/plain": [
       "A           float64\n",
       "B             int64\n",
       "C            object\n",
       "D    datetime64[ns]\n",
       "E           float32\n",
       "F              bool\n",
       "G              int8\n",
       "dtype: object"
      ]
     },
     "execution_count": 5,
     "metadata": {},
     "output_type": "execute_result"
    }
   ],
   "source": [
    "dft.dtypes"
   ]
  },
  {
   "cell_type": "markdown",
   "metadata": {
    "slideshow": {
     "slide_type": "slide"
    }
   },
   "source": [
    "**3. Create a Series object with integers 1-5 and float 6.0. What data type is the Series?**"
   ]
  },
  {
   "cell_type": "code",
   "execution_count": 6,
   "metadata": {
    "collapsed": false,
    "slideshow": {
     "slide_type": "fragment"
    }
   },
   "outputs": [
    {
     "data": {
      "text/plain": [
       "0    1.0\n",
       "1    2.0\n",
       "2    3.0\n",
       "3    4.0\n",
       "4    5.0\n",
       "5    6.0\n",
       "dtype: float64"
      ]
     },
     "execution_count": 6,
     "metadata": {},
     "output_type": "execute_result"
    }
   ],
   "source": [
    "pd.Series([1, 2, 3, 4, 5, 6.])"
   ]
  },
  {
   "cell_type": "markdown",
   "metadata": {
    "slideshow": {
     "slide_type": "-"
    }
   },
   "source": [
    "If a `pandas` object contains data of multiple dtypes in a single column, the dtype of that column will be used to accommodate all data types (`object` is the most general)."
   ]
  },
  {
   "cell_type": "markdown",
   "metadata": {
    "slideshow": {
     "slide_type": "slide"
    }
   },
   "source": [
    "**4. Create a Series with data `[1, 2, 3, 6., 'foo']`. What data type is the Series?**"
   ]
  },
  {
   "cell_type": "code",
   "execution_count": 7,
   "metadata": {
    "collapsed": false,
    "scrolled": true,
    "slideshow": {
     "slide_type": "fragment"
    }
   },
   "outputs": [
    {
     "data": {
      "text/plain": [
       "0      1\n",
       "1      2\n",
       "2      3\n",
       "3    foo\n",
       "dtype: object"
      ]
     },
     "execution_count": 7,
     "metadata": {},
     "output_type": "execute_result"
    }
   ],
   "source": [
    "pd.Series([1, 2, 3, 'foo'])"
   ]
  },
  {
   "cell_type": "markdown",
   "metadata": {
    "slideshow": {
     "slide_type": "slide"
    }
   },
   "source": [
    "**5. Use the `.get_dtype_counts()` function to determine how many columns there are of each type.**"
   ]
  },
  {
   "cell_type": "code",
   "execution_count": 5,
   "metadata": {
    "collapsed": false,
    "slideshow": {
     "slide_type": "fragment"
    }
   },
   "outputs": [
    {
     "data": {
      "text/plain": [
       "bool              1\n",
       "datetime64[ns]    1\n",
       "float32           1\n",
       "float64           1\n",
       "int64             1\n",
       "int8              1\n",
       "object            1\n",
       "dtype: object"
      ]
     },
     "execution_count": 5,
     "metadata": {},
     "output_type": "execute_result"
    }
   ],
   "source": [
    "dft.get_dtype_counts().astype(list)"
   ]
  },
  {
   "cell_type": "markdown",
   "metadata": {
    "slideshow": {
     "slide_type": "slide"
    }
   },
   "source": [
    "**With a partner, take three minutes to discuss:**\n",
    "\n",
    "*Without* running this code with a Python interpreter, what would you expect to be the most common `dtype`?\n",
    "\n",
    "    [1, 3, 9, .33, False, '03-20-1978', np.arange(22)]\n",
    "\n"
   ]
  },
  {
   "cell_type": "markdown",
   "metadata": {
    "slideshow": {
     "slide_type": "fragment"
    }
   },
   "source": [
    "You can do a lot more with dtypes. For more information, check out \n",
    "[`pandas` Documentation](http://pandas.pydata.org/pandas-docs/stable/pandas.pdf)."
   ]
  },
  {
   "cell_type": "markdown",
   "metadata": {
    "slideshow": {
     "slide_type": "slide"
    }
   },
   "source": [
    "**Applying Functions to Data with `df.apply()`**\n",
    "\n",
    "Generally, `df.apply()` will apply a singlular function to every cell of the DataFrame it's used within.  \n",
    "\n",
    "Note: There is another common built-in function, `df.map()`, that applies a function to each element of a single Series (column). For example:\n",
    "\n",
    "```python\n",
    "df['a'].map(my_func)\n",
    "```\n",
    "\n",
    "**6. Create another small DataFrame.**"
   ]
  },
  {
   "cell_type": "code",
   "execution_count": 6,
   "metadata": {
    "collapsed": false,
    "slideshow": {
     "slide_type": "-"
    }
   },
   "outputs": [
    {
     "data": {
      "text/html": [
       "<div>\n",
       "<table border=\"1\" class=\"dataframe\">\n",
       "  <thead>\n",
       "    <tr style=\"text-align: right;\">\n",
       "      <th></th>\n",
       "      <th>a</th>\n",
       "      <th>b</th>\n",
       "      <th>c</th>\n",
       "      <th>d</th>\n",
       "    </tr>\n",
       "  </thead>\n",
       "  <tbody>\n",
       "    <tr>\n",
       "      <th>0</th>\n",
       "      <td>-0.410785</td>\n",
       "      <td>0.190240</td>\n",
       "      <td>1.745112</td>\n",
       "      <td>-0.322609</td>\n",
       "    </tr>\n",
       "    <tr>\n",
       "      <th>1</th>\n",
       "      <td>0.281392</td>\n",
       "      <td>-0.229490</td>\n",
       "      <td>1.962935</td>\n",
       "      <td>0.946956</td>\n",
       "    </tr>\n",
       "    <tr>\n",
       "      <th>2</th>\n",
       "      <td>0.809197</td>\n",
       "      <td>0.318424</td>\n",
       "      <td>1.247255</td>\n",
       "      <td>1.052985</td>\n",
       "    </tr>\n",
       "    <tr>\n",
       "      <th>3</th>\n",
       "      <td>0.858677</td>\n",
       "      <td>0.244996</td>\n",
       "      <td>0.090704</td>\n",
       "      <td>1.250873</td>\n",
       "    </tr>\n",
       "    <tr>\n",
       "      <th>4</th>\n",
       "      <td>-0.737841</td>\n",
       "      <td>0.966909</td>\n",
       "      <td>0.580455</td>\n",
       "      <td>-1.126967</td>\n",
       "    </tr>\n",
       "  </tbody>\n",
       "</table>\n",
       "</div>"
      ],
      "text/plain": [
       "          a         b         c         d\n",
       "0 -0.410785  0.190240  1.745112 -0.322609\n",
       "1  0.281392 -0.229490  1.962935  0.946956\n",
       "2  0.809197  0.318424  1.247255  1.052985\n",
       "3  0.858677  0.244996  0.090704  1.250873\n",
       "4 -0.737841  0.966909  0.580455 -1.126967"
      ]
     },
     "execution_count": 6,
     "metadata": {},
     "output_type": "execute_result"
    }
   ],
   "source": [
    "# Create some more test data.\n",
    "df = pd.DataFrame(np.random.randn(5, 4), columns=['a', 'b', 'c', 'd'])\n",
    "df"
   ]
  },
  {
   "cell_type": "markdown",
   "metadata": {
    "slideshow": {
     "slide_type": "slide"
    }
   },
   "source": [
    "**7. Use the `.apply()` function to find the square root of all cells.**"
   ]
  },
  {
   "cell_type": "code",
   "execution_count": 7,
   "metadata": {
    "collapsed": false,
    "slideshow": {
     "slide_type": "fragment"
    }
   },
   "outputs": [
    {
     "data": {
      "text/html": [
       "<div>\n",
       "<table border=\"1\" class=\"dataframe\">\n",
       "  <thead>\n",
       "    <tr style=\"text-align: right;\">\n",
       "      <th></th>\n",
       "      <th>a</th>\n",
       "      <th>b</th>\n",
       "      <th>c</th>\n",
       "      <th>d</th>\n",
       "    </tr>\n",
       "  </thead>\n",
       "  <tbody>\n",
       "    <tr>\n",
       "      <th>0</th>\n",
       "      <td>NaN</td>\n",
       "      <td>0.436165</td>\n",
       "      <td>1.321027</td>\n",
       "      <td>NaN</td>\n",
       "    </tr>\n",
       "    <tr>\n",
       "      <th>1</th>\n",
       "      <td>0.530464</td>\n",
       "      <td>NaN</td>\n",
       "      <td>1.401048</td>\n",
       "      <td>0.973116</td>\n",
       "    </tr>\n",
       "    <tr>\n",
       "      <th>2</th>\n",
       "      <td>0.899554</td>\n",
       "      <td>0.564291</td>\n",
       "      <td>1.116806</td>\n",
       "      <td>1.026151</td>\n",
       "    </tr>\n",
       "    <tr>\n",
       "      <th>3</th>\n",
       "      <td>0.926648</td>\n",
       "      <td>0.494971</td>\n",
       "      <td>0.301172</td>\n",
       "      <td>1.118425</td>\n",
       "    </tr>\n",
       "    <tr>\n",
       "      <th>4</th>\n",
       "      <td>NaN</td>\n",
       "      <td>0.983315</td>\n",
       "      <td>0.761876</td>\n",
       "      <td>NaN</td>\n",
       "    </tr>\n",
       "  </tbody>\n",
       "</table>\n",
       "</div>"
      ],
      "text/plain": [
       "          a         b         c         d\n",
       "0       NaN  0.436165  1.321027       NaN\n",
       "1  0.530464       NaN  1.401048  0.973116\n",
       "2  0.899554  0.564291  1.116806  1.026151\n",
       "3  0.926648  0.494971  0.301172  1.118425\n",
       "4       NaN  0.983315  0.761876       NaN"
      ]
     },
     "execution_count": 7,
     "metadata": {},
     "output_type": "execute_result"
    }
   ],
   "source": [
    "# Square root ALL CELLS (NaN == Not a Number).\n",
    "df.apply(np.sqrt)"
   ]
  },
  {
   "cell_type": "markdown",
   "metadata": {
    "slideshow": {
     "slide_type": "slide"
    }
   },
   "source": [
    "**8. Use `.apply()` to find the mean of the columns.**"
   ]
  },
  {
   "cell_type": "code",
   "execution_count": 8,
   "metadata": {
    "collapsed": false,
    "slideshow": {
     "slide_type": "fragment"
    }
   },
   "outputs": [
    {
     "data": {
      "text/plain": [
       "a    0.160128\n",
       "b    0.298216\n",
       "c    1.125292\n",
       "d    0.360248\n",
       "dtype: float64"
      ]
     },
     "execution_count": 8,
     "metadata": {},
     "output_type": "execute_result"
    }
   ],
   "source": [
    "df.apply(np.mean, axis=0)"
   ]
  },
  {
   "cell_type": "markdown",
   "metadata": {
    "slideshow": {
     "slide_type": "slide"
    }
   },
   "source": [
    "**9. Find the mean of the rows.**"
   ]
  },
  {
   "cell_type": "code",
   "execution_count": 9,
   "metadata": {
    "collapsed": false,
    "slideshow": {
     "slide_type": "fragment"
    }
   },
   "outputs": [
    {
     "data": {
      "text/plain": [
       "0    0.300489\n",
       "1    0.740448\n",
       "2    0.856965\n",
       "3    0.611313\n",
       "4   -0.079361\n",
       "dtype: float64"
      ]
     },
     "execution_count": 9,
     "metadata": {},
     "output_type": "execute_result"
    }
   ],
   "source": [
    "df.apply(np.mean, axis=1)"
   ]
  },
  {
   "cell_type": "markdown",
   "metadata": {
    "slideshow": {
     "slide_type": "slide"
    }
   },
   "source": [
    "### Further Reading\n",
    "\n",
    "For more advanced information on `.apply` usage, check out these links:\n",
    "\n",
    "- [\"Why Not\"'s Gist Examples](https://gist.github.com/why-not/4582705)\n",
    "\n",
    "- [Chris Albon's Map + Apply Examples](http://chrisalbon.com/python/pandas_apply_operations_to_dataframes.html)\n"
   ]
  },
  {
   "cell_type": "markdown",
   "metadata": {
    "slideshow": {
     "slide_type": "slide"
    }
   },
   "source": [
    "**Counting Occurrances of Unique Values With `.value_counts()`**\n",
    "\n",
    "The `.value_counts` attribute tells us the count of unique values in a column's data. It's helpful for identifying unexpected values and getting a feel for the data's distribution, especially when looking at group membership.  Looking at the value counts per column can give us a quick overview of values expressed in our data.\n",
    "\n",
    "Some common use cases of `.value_counts` include:\n",
    " - Finding strings inside of mostly numeric/continuous data.\n",
    " - Finding non-numeric values.\n",
    " - General distributions of categorical variables.\n",
    " - Identifying the most and least common values."
   ]
  },
  {
   "cell_type": "markdown",
   "metadata": {
    "slideshow": {
     "slide_type": "slide"
    }
   },
   "source": [
    "**10. Use `numpy` to create a random vector of 50 numbers ranging from 0 to 6.**\n"
   ]
  },
  {
   "cell_type": "code",
   "execution_count": 10,
   "metadata": {
    "collapsed": false,
    "slideshow": {
     "slide_type": "fragment"
    }
   },
   "outputs": [
    {
     "data": {
      "text/plain": [
       "array([5, 5, 5, 2, 4, 2, 5, 4, 5, 4, 1, 1, 1, 3, 6, 1, 4, 6, 1, 0, 2, 2, 2,\n",
       "       5, 6, 5, 1, 2, 4, 4, 5, 0, 4, 2, 2, 1, 1, 1, 0, 1, 3, 6, 2, 6, 3, 6,\n",
       "       6, 6, 3, 6])"
      ]
     },
     "execution_count": 10,
     "metadata": {},
     "output_type": "execute_result"
    }
   ],
   "source": [
    "data = np.random.randint(0, 7, size = 50)\n",
    "data"
   ]
  },
  {
   "cell_type": "markdown",
   "metadata": {
    "slideshow": {
     "slide_type": "fragment"
    }
   },
   "source": [
    "**11. Convert the vector to a Series and count the occurrences of each number.**"
   ]
  },
  {
   "cell_type": "code",
   "execution_count": 11,
   "metadata": {
    "collapsed": false,
    "slideshow": {
     "slide_type": "fragment"
    }
   },
   "outputs": [
    {
     "data": {
      "text/plain": [
       "0    5\n",
       "1    5\n",
       "2    5\n",
       "3    2\n",
       "4    4\n",
       "dtype: int64"
      ]
     },
     "execution_count": 11,
     "metadata": {},
     "output_type": "execute_result"
    }
   ],
   "source": [
    "s = pd.Series(data)\n",
    "s.head()"
   ]
  },
  {
   "cell_type": "code",
   "execution_count": 12,
   "metadata": {
    "collapsed": false,
    "slideshow": {
     "slide_type": "fragment"
    }
   },
   "outputs": [
    {
     "data": {
      "text/plain": [
       "1    10\n",
       "6     9\n",
       "2     9\n",
       "5     8\n",
       "4     7\n",
       "3     4\n",
       "0     3\n",
       "dtype: int64"
      ]
     },
     "execution_count": 12,
     "metadata": {},
     "output_type": "execute_result"
    }
   ],
   "source": [
    "# The counts of each number that occurs in our array is listed.\n",
    "pd.value_counts(s)"
   ]
  },
  {
   "cell_type": "markdown",
   "metadata": {
    "slideshow": {
     "slide_type": "slide"
    }
   },
   "source": [
    "<a name=\"independent_ practice\"></a>\n",
    "\n",
    "### Independent Practice: Sales Data\n",
    "\n",
    "---\n",
    "\n",
    "1. Load the `sales.csv` data set from the `datasets` directory.\n",
    "- Inspect the data types.\n",
    "- Imagine you've found out that all your values in column 1 are off by one. Use `.apply()` or `.map()` to add `1` to column 1 of the data set.\n",
    "- Use `.value_counts` to count the values of one column of the data set.\n"
   ]
  },
  {
   "cell_type": "code",
   "execution_count": null,
   "metadata": {
    "collapsed": true
   },
   "outputs": [],
   "source": []
  }
 ],
 "metadata": {
  "anaconda-cloud": {},
  "celltoolbar": "Slideshow",
  "kernelspec": {
   "display_name": "Python 2",
   "language": "python",
   "name": "python2"
  },
  "language_info": {
   "codemirror_mode": {
    "name": "ipython",
    "version": 2
   },
   "file_extension": ".py",
   "mimetype": "text/x-python",
   "name": "python",
   "nbconvert_exporter": "python",
   "pygments_lexer": "ipython2",
   "version": "2.7.12"
  }
 },
 "nbformat": 4,
 "nbformat_minor": 0
}
