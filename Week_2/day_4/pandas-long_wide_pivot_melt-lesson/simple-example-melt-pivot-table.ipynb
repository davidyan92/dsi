{
 "cells": [
  {
   "cell_type": "markdown",
   "metadata": {},
   "source": [
    "<img src=\"http://imgur.com/1ZcRyrc.png\" style=\"float: left; margin: 20px; height: 55px\">\n",
    "\n",
    "## A Simple `.melt()` and `.pivot_table()` Example\n",
    "\n",
    "_Authors: Kiefer Katovich (SF)_\n",
    "\n",
    "---\n"
   ]
  },
  {
   "cell_type": "code",
   "execution_count": null,
   "metadata": {
    "collapsed": true
   },
   "outputs": [],
   "source": [
    "import pandas as pd\n",
    "import numpy as np"
   ]
  },
  {
   "cell_type": "markdown",
   "metadata": {},
   "source": [
    "#### Create some fake data about beer quality and ratings."
   ]
  },
  {
   "cell_type": "code",
   "execution_count": null,
   "metadata": {
    "collapsed": false
   },
   "outputs": [],
   "source": [
    "beers = {\n",
    "    'name':['coors','bud','natural light','keystone ice',\n",
    "            'sierra nevada', 'sam adams', 'new belgium',\n",
    "            'odouls',\n",
    "            'pbr','stella','chimay','magnolia','21amendment'],\n",
    "    'class':['crap','crap','crap','crap',\n",
    "             'mid','mid','mid',\n",
    "             'notabeer',\n",
    "             'pretentious','pretentious','pretentious','pretentious','pretentious']\n",
    "}\n",
    "beers['price'] = np.concatenate([np.array([1.5, 1.7, 1.2, 1.2]),\n",
    "                                np.array([2., 1.9, 2.1]),\n",
    "                                np.array([3.]),\n",
    "                                np.array([0.5,3.5, 10., 15.,2.])])\n",
    "beers['rating'] = np.random.normal(5, 2, size=13)\n",
    "\n",
    "for k, v in beers.items():\n",
    "    print k, len(v)\n",
    "beers = pd.DataFrame(beers)\n",
    "beers"
   ]
  },
  {
   "cell_type": "markdown",
   "metadata": {},
   "source": [
    "#### Melt the beer data into long format using the name of the beer as the ID."
   ]
  },
  {
   "cell_type": "code",
   "execution_count": null,
   "metadata": {
    "collapsed": false,
    "scrolled": true
   },
   "outputs": [],
   "source": [
    "beers_long = pd.melt(beers, id_vars=['name'])\n",
    "beers_long.sort_values('name', axis=0)"
   ]
  },
  {
   "cell_type": "markdown",
   "metadata": {},
   "source": [
    "#### Use `.pivot_table()` on the original beer DataFrame to summarize the mean and standard deviation for rating and price by class."
   ]
  },
  {
   "cell_type": "code",
   "execution_count": null,
   "metadata": {
    "collapsed": false
   },
   "outputs": [],
   "source": [
    "beer_class_summary = pd.pivot_table(beers, index='class', values=['rating','price'],\n",
    "                                   aggfunc=[np.mean, np.std])"
   ]
  },
  {
   "cell_type": "code",
   "execution_count": null,
   "metadata": {
    "collapsed": false
   },
   "outputs": [],
   "source": [
    "beer_class_summary"
   ]
  },
  {
   "cell_type": "markdown",
   "metadata": {},
   "source": [
    "#### Go from long format back to wide format using `.pivot_table()` and a custom aggregate function."
   ]
  },
  {
   "cell_type": "code",
   "execution_count": null,
   "metadata": {
    "collapsed": false
   },
   "outputs": [],
   "source": [
    "beers_long.head(3)"
   ]
  },
  {
   "cell_type": "code",
   "execution_count": null,
   "metadata": {
    "collapsed": false
   },
   "outputs": [],
   "source": [
    "def first_item(series):\n",
    "    item = series.iloc[0]\n",
    "    return item\n",
    "\n",
    "new_beers_wide = pd.pivot_table(beers_long, index='name', values='value',\n",
    "                                columns=['variable'], aggfunc=first_item)\n",
    "new_beers_wide.reset_index()"
   ]
  },
  {
   "cell_type": "code",
   "execution_count": null,
   "metadata": {
    "collapsed": true
   },
   "outputs": [],
   "source": []
  }
 ],
 "metadata": {
  "kernelspec": {
   "display_name": "Python 2",
   "language": "python",
   "name": "python2"
  },
  "language_info": {
   "codemirror_mode": {
    "name": "ipython",
    "version": 2
   },
   "file_extension": ".py",
   "mimetype": "text/x-python",
   "name": "python",
   "nbconvert_exporter": "python",
   "pygments_lexer": "ipython2",
   "version": "2.7.13"
  }
 },
 "nbformat": 4,
 "nbformat_minor": 0
}
