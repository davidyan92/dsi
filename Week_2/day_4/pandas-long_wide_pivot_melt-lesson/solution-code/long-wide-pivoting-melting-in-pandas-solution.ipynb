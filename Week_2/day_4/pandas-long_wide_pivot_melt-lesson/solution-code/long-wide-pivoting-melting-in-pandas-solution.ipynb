{
 "cells": [
  {
   "cell_type": "markdown",
   "metadata": {},
   "source": [
    "<img src=\"http://imgur.com/1ZcRyrc.png\" style=\"float: left; margin: 20px; height: 55px\">\n",
    "\n",
    "## `pandas` Long Format, Wide Format, Pivot Tables, and Melting\n",
    "\n",
    "_Authors: Kiefer Katovich (SF)_\n",
    "\n",
    "---\n",
    "\n",
    "This lesson is all about transforming data using `pandas`. Data transformation is the reorganization of your data set's rows and columns into a different, potentially more useful shape and format. \n",
    "\n",
    "The benefits of transforming your data include better access to relevant information and streamlined data manipulation. As you become more familiar with data sets and their associated operations, you will develop an intuition and appreciation for when it's better to work row-wise or column-wise.\n",
    "\n",
    "Different data formats are better for different tasks. It takes time and experience to learn the distinctions. But, for now, we'll introduce the common structures, transformations, and how to apply these transformations.\n",
    "\n",
    "### Learning Objectives\n",
    "- Understand the differences between long and wide format data.\n",
    "- Understand pivot tables.\n",
    "- Practice transforming data between long and wide formats.\n",
    "- Practice creating pivot tables.\n",
    "- Learn how to avoid common pitfalls and obstacles in data transformation with `pandas`.\n"
   ]
  },
  {
   "cell_type": "markdown",
   "metadata": {},
   "source": [
    "### Lesson Guide\n",
    "\n",
    "- [Wide Format Data](#wide_format)\n",
    "- [Load and Examine the NPAS Data](#load_nerdy)\n",
    "- [Long Format Data](#long_format)\n",
    "- [Using `pandas`' `.pivot_table()` Function: Long to Wide Format](#pivot_tables)\n",
    "- [MultiIndex/Hierarchical Indices in `pandas`](#multiindex)\n",
    "- [Using `pandas`' `.melt()` Function: Wide to Long Format](#melt)\n",
    "- [Summarizing Data With `.pivot_table()` and Aggregate  Functions](#pivot_table_summarizing)\n",
    "- [The Inner Workings of the MultiIndex](#examining_multiindex)\n",
    "- [Getting Rid of the MultiIndex: \"Flattening\" Data](#multiindex_to_flat)\n",
    "- [A Preface: Merging and Joining With Long and Wide Format Data](#merging_joining_preface)\n",
    "- [`pandas`' `.merge()` function: Joining Long Format vs. Wide Format Data](#pandas_merge)\n"
   ]
  },
  {
   "cell_type": "code",
   "execution_count": 1,
   "metadata": {
    "collapsed": true
   },
   "outputs": [],
   "source": [
    "import numpy as np\n",
    "import scipy.stats as stats\n",
    "import seaborn as sns\n",
    "import matplotlib.pyplot as plt\n",
    "import pandas as pd\n",
    "\n",
    "sns.set_style('darkgrid')\n",
    "\n",
    "%config InlineBackend.figure_format = 'retina'\n",
    "%matplotlib inline"
   ]
  },
  {
   "cell_type": "markdown",
   "metadata": {},
   "source": [
    "<a id='wide_format'></a>\n",
    "\n",
    "### Wide Format Data\n",
    "\n",
    "---\n",
    "\n",
    "Between \"wide\" and \"long,\" wide format data is the more intuitive. It's also a common format for `.csv` files. You've already viewed multiple data sets in wide format throughout this course.\n",
    "\n",
    "Wide format data is structured so that:\n",
    "\n",
    "- Unique IDs, subjects, observations, etc. are represented as rows.\n",
    "- Distinct information categories (variables) are represented as columns. In other words, there is a column for every \"variable\" with its own unique values.\n",
    "- This format can often be a more compact matrix, particularly if little or no information is missing.\n",
    "- It is not as useful for SQL-style operations: It can make it much harder or even impossible to join tables together on a value.\n",
    "- It can be useful in `pandas` when you need to perform operations on variables **across columns**; for example, multiplying columns together to create a new column.\n",
    "- It is the data format required for statistical modeling (with few exceptions)."
   ]
  },
  {
   "cell_type": "markdown",
   "metadata": {},
   "source": [
    "<a id='load_nerdy'></a>\n",
    "\n",
    "### Load and Examine the \"Nerdy Personality Attributes\" Data Set\n",
    "\n",
    "---\n",
    "\n",
    "This is a pre-cleaned and modified version of the full \"Nerdy Personality Attributes\" survey, which asked subjects to rate themselves based on questions related to \"nerdiness\" as well as more general personality traits such as openness and extraversion. Researches also collected demographic information from the subjects.\n",
    "\n",
    "You can find the raw data [here](http://personality-testing.info/_rawdata/), along with many other sociological surveys.\n",
    "\n",
    "In this modified version, for the sake of our example, some of the subjects provided data for the survey but not the demographic variables. Because there are missing values and the data is \"messy,\" we have a data cleaning problem.\n",
    "\n",
    "**Load the data (which is in wide format).** "
   ]
  },
  {
   "cell_type": "code",
   "execution_count": 2,
   "metadata": {
    "collapsed": false
   },
   "outputs": [
    {
     "name": "stdout",
     "output_type": "stream",
     "text": [
      "(1391, 57)\n"
     ]
    }
   ],
   "source": [
    "nerdy_wide_f = '../datasets/NPAS_parsed_trunc_wide_missing.csv'\n",
    "\n",
    "nerdy_wide = pd.read_csv(nerdy_wide_f)\n",
    "print nerdy_wide.shape"
   ]
  },
  {
   "cell_type": "markdown",
   "metadata": {},
   "source": [
    "This data set is in a familiar format in which each column is a variable and each row contains an observation for that variable, corresponding to a distinct subject.\n",
    "\n",
    "*Wide format implies that all of the information for one distinct subject will be represented in the columns corresponding to that row. A single subject should not be represented in multiple rows of data.*"
   ]
  },
  {
   "cell_type": "code",
   "execution_count": 3,
   "metadata": {
    "collapsed": false
   },
   "outputs": [
    {
     "data": {
      "text/html": [
       "<div>\n",
       "<table border=\"1\" class=\"dataframe\">\n",
       "  <thead>\n",
       "    <tr style=\"text-align: right;\">\n",
       "      <th></th>\n",
       "      <th>subject_id</th>\n",
       "      <th>academic_over_social</th>\n",
       "      <th>age</th>\n",
       "      <th>anxious</th>\n",
       "      <th>bookish</th>\n",
       "      <th>books_over_parties</th>\n",
       "      <th>calm</th>\n",
       "      <th>collect_books</th>\n",
       "      <th>conventional</th>\n",
       "      <th>critical</th>\n",
       "      <th>...</th>\n",
       "      <th>religion</th>\n",
       "      <th>reserved</th>\n",
       "      <th>socially_awkward</th>\n",
       "      <th>strange_person</th>\n",
       "      <th>sympathetic</th>\n",
       "      <th>urban</th>\n",
       "      <th>voted</th>\n",
       "      <th>was_odd_child</th>\n",
       "      <th>watch_science_shows</th>\n",
       "      <th>writing_novel</th>\n",
       "    </tr>\n",
       "  </thead>\n",
       "  <tbody>\n",
       "    <tr>\n",
       "      <th>0</th>\n",
       "      <td>0</td>\n",
       "      <td>5.0</td>\n",
       "      <td>NaN</td>\n",
       "      <td>1.0</td>\n",
       "      <td>5.0</td>\n",
       "      <td>5.0</td>\n",
       "      <td>7.0</td>\n",
       "      <td>5.0</td>\n",
       "      <td>1.0</td>\n",
       "      <td>1.0</td>\n",
       "      <td>...</td>\n",
       "      <td>NaN</td>\n",
       "      <td>7.0</td>\n",
       "      <td>5.0</td>\n",
       "      <td>5.0</td>\n",
       "      <td>7.0</td>\n",
       "      <td>NaN</td>\n",
       "      <td>NaN</td>\n",
       "      <td>5.0</td>\n",
       "      <td>5.0</td>\n",
       "      <td>3.0</td>\n",
       "    </tr>\n",
       "    <tr>\n",
       "      <th>1</th>\n",
       "      <td>1</td>\n",
       "      <td>2.0</td>\n",
       "      <td>50.0</td>\n",
       "      <td>4.0</td>\n",
       "      <td>4.0</td>\n",
       "      <td>4.0</td>\n",
       "      <td>6.0</td>\n",
       "      <td>5.0</td>\n",
       "      <td>1.0</td>\n",
       "      <td>3.0</td>\n",
       "      <td>...</td>\n",
       "      <td>1.0</td>\n",
       "      <td>5.0</td>\n",
       "      <td>5.0</td>\n",
       "      <td>4.0</td>\n",
       "      <td>5.0</td>\n",
       "      <td>2.0</td>\n",
       "      <td>1.0</td>\n",
       "      <td>3.0</td>\n",
       "      <td>5.0</td>\n",
       "      <td>1.0</td>\n",
       "    </tr>\n",
       "    <tr>\n",
       "      <th>2</th>\n",
       "      <td>2</td>\n",
       "      <td>5.0</td>\n",
       "      <td>22.0</td>\n",
       "      <td>7.0</td>\n",
       "      <td>5.0</td>\n",
       "      <td>5.0</td>\n",
       "      <td>2.0</td>\n",
       "      <td>5.0</td>\n",
       "      <td>1.0</td>\n",
       "      <td>6.0</td>\n",
       "      <td>...</td>\n",
       "      <td>1.0</td>\n",
       "      <td>7.0</td>\n",
       "      <td>5.0</td>\n",
       "      <td>5.0</td>\n",
       "      <td>2.0</td>\n",
       "      <td>1.0</td>\n",
       "      <td>1.0</td>\n",
       "      <td>5.0</td>\n",
       "      <td>5.0</td>\n",
       "      <td>4.0</td>\n",
       "    </tr>\n",
       "  </tbody>\n",
       "</table>\n",
       "<p>3 rows × 57 columns</p>\n",
       "</div>"
      ],
      "text/plain": [
       "   subject_id  academic_over_social   age  anxious  bookish  \\\n",
       "0           0                   5.0   NaN      1.0      5.0   \n",
       "1           1                   2.0  50.0      4.0      4.0   \n",
       "2           2                   5.0  22.0      7.0      5.0   \n",
       "\n",
       "   books_over_parties  calm  collect_books  conventional  critical  \\\n",
       "0                 5.0   7.0            5.0           1.0       1.0   \n",
       "1                 4.0   6.0            5.0           1.0       3.0   \n",
       "2                 5.0   2.0            5.0           1.0       6.0   \n",
       "\n",
       "       ...        religion  reserved  socially_awkward  strange_person  \\\n",
       "0      ...             NaN       7.0               5.0             5.0   \n",
       "1      ...             1.0       5.0               5.0             4.0   \n",
       "2      ...             1.0       7.0               5.0             5.0   \n",
       "\n",
       "   sympathetic  urban  voted  was_odd_child  watch_science_shows  \\\n",
       "0          7.0    NaN    NaN            5.0                  5.0   \n",
       "1          5.0    2.0    1.0            3.0                  5.0   \n",
       "2          2.0    1.0    1.0            5.0                  5.0   \n",
       "\n",
       "   writing_novel  \n",
       "0            3.0  \n",
       "1            1.0  \n",
       "2            4.0  \n",
       "\n",
       "[3 rows x 57 columns]"
      ]
     },
     "execution_count": 3,
     "metadata": {},
     "output_type": "execute_result"
    }
   ],
   "source": [
    "nerdy_wide.head(3)"
   ]
  },
  {
   "cell_type": "markdown",
   "metadata": {},
   "source": [
    "**Check to see how many null values there are per column.**"
   ]
  },
  {
   "cell_type": "code",
   "execution_count": 4,
   "metadata": {
    "collapsed": false
   },
   "outputs": [
    {
     "data": {
      "text/plain": [
       "subject_id                        0\n",
       "academic_over_social              0\n",
       "age                             691\n",
       "anxious                           0\n",
       "bookish                           0\n",
       "books_over_parties                0\n",
       "calm                              0\n",
       "collect_books                     0\n",
       "conventional                      0\n",
       "critical                          0\n",
       "dependable                        0\n",
       "diagnosed_autistic                0\n",
       "disorganized                      0\n",
       "education                       691\n",
       "engnat                          691\n",
       "enjoy_learning                    0\n",
       "excited_about_research            0\n",
       "extraverted                       0\n",
       "familysize                      691\n",
       "gender                          691\n",
       "hand                            691\n",
       "hobbies_over_people               0\n",
       "in_advanced_classes               0\n",
       "intelligence_over_appearance      0\n",
       "interested_science                0\n",
       "introspective                     0\n",
       "libraries_over_publicspace        0\n",
       "like_dry_topics                   0\n",
       "like_hard_material                0\n",
       "like_science_fiction              0\n",
       "like_superheroes                  0\n",
       "major                           970\n",
       "married                         691\n",
       "online_over_inperson              0\n",
       "opennness                         0\n",
       "play_many_videogames              0\n",
       "playes_rpgs                       0\n",
       "prefer_fictional_people           0\n",
       "race_arab                         0\n",
       "race_asian                        0\n",
       "race_black                        0\n",
       "race_hispanic                     0\n",
       "race_native_american              0\n",
       "race_native_austrailian           0\n",
       "race_nerdy                        0\n",
       "race_white                        0\n",
       "read_tech_reports                 0\n",
       "religion                        691\n",
       "reserved                          0\n",
       "socially_awkward                  0\n",
       "strange_person                    0\n",
       "sympathetic                       0\n",
       "urban                           691\n",
       "voted                           691\n",
       "was_odd_child                     0\n",
       "watch_science_shows               0\n",
       "writing_novel                     0\n",
       "dtype: int64"
      ]
     },
     "execution_count": 4,
     "metadata": {},
     "output_type": "execute_result"
    }
   ],
   "source": [
    "nerdy_wide.isnull().sum()"
   ]
  },
  {
   "cell_type": "markdown",
   "metadata": {},
   "source": [
    "The 691 missing demographic variables are intentional (I specifically enforced that only 700 of the subjects would have demographic information).\n",
    "\n",
    "However, we can see that the `major` variable has 970 missing values. This was not an intentional change.\n",
    "\n",
    "At this point, if we were to just drop all the rows that have any null values, we would lose at least 970 rows because of the missing `major` variable.\n",
    "\n",
    "With a numeric column, this would be hard to avoid without \"imputing\" some number to fill in those values. In the simplest case, imputing the mean or median for missing numeric values is a common fix (but not ideal).\n",
    "\n",
    "With a **categorical variable** like `major`, we have the luxury of replacing the missing values with a new category label that stands for \"missing.\" \n",
    "\n",
    "**Replace the missing `major` column values with `unknown`.**"
   ]
  },
  {
   "cell_type": "code",
   "execution_count": 5,
   "metadata": {
    "collapsed": false
   },
   "outputs": [
    {
     "name": "stdout",
     "output_type": "stream",
     "text": [
      "0\n"
     ]
    }
   ],
   "source": [
    "nerdy_wide.loc[nerdy_wide.major.isnull(), 'major'] = 'unknown'\n",
    "print nerdy_wide.major.isnull().sum()"
   ]
  },
  {
   "cell_type": "markdown",
   "metadata": {},
   "source": [
    "<a id='long_format'></a>\n",
    "\n",
    "### Long Format Data\n",
    "\n",
    "---\n",
    "\n",
    "Now, we can load the same data — this time in the format commonly called \"long.\"\n",
    "\n",
    "Long format data is structured so that:\n",
    "\n",
    "- There are potentially multiple `ID` (identification) columns.\n",
    "- There are pairs of columns such as `variable:value` that match a variable key to a value (In the simplest case, there would be a single `variable` column and a single `value` column).\n",
    "- The `variable` column corresponds to the multiple variable columns in a wide format data set. Instead of a column for each variable, you have a row for each `variable:value` pair *per ID*. \n",
    "- This is a standard format for SQL databases because it makes it easier to join different tables together with keys.\n",
    "\n",
    "**Load the long format of the same data below.**"
   ]
  },
  {
   "cell_type": "code",
   "execution_count": 6,
   "metadata": {
    "collapsed": false
   },
   "outputs": [
    {
     "name": "stdout",
     "output_type": "stream",
     "text": [
      "(70295, 3)\n"
     ]
    }
   ],
   "source": [
    "nerdy_long_f = '../datasets/NPAS_parsed_trunc_long_missing.csv'\n",
    "\n",
    "nerdy_long = pd.read_csv(nerdy_long_f)\n",
    "print nerdy_long.shape"
   ]
  },
  {
   "cell_type": "markdown",
   "metadata": {},
   "source": [
    "You can see that the long format data has far more rows than the wide data set but only three columns.\n",
    "\n",
    "Below you can view the three columns: `subject_id`, `variable`, and `value`.\n",
    "\n",
    "**`subject_id:`**\n",
    "- This is the primary \"key\" or `ID` column. Each `subject_id` will have corresponding entries in the `variable` column — one for each row.\n",
    "\n",
    "**`variable:`**\n",
    "- This column indicates the variable with which the item in the `value` column corresponds.\n",
    "\n",
    "**`value:`**\n",
    "\n",
    "- This contains all values for all variables for all IDs. Essentially, every cell in the wide data set except the `subject_id` is listed in this column."
   ]
  },
  {
   "cell_type": "code",
   "execution_count": 7,
   "metadata": {
    "collapsed": false
   },
   "outputs": [
    {
     "data": {
      "text/html": [
       "<div>\n",
       "<table border=\"1\" class=\"dataframe\">\n",
       "  <thead>\n",
       "    <tr style=\"text-align: right;\">\n",
       "      <th></th>\n",
       "      <th>subject_id</th>\n",
       "      <th>variable</th>\n",
       "      <th>value</th>\n",
       "    </tr>\n",
       "  </thead>\n",
       "  <tbody>\n",
       "    <tr>\n",
       "      <th>0</th>\n",
       "      <td>1</td>\n",
       "      <td>education</td>\n",
       "      <td>4.0</td>\n",
       "    </tr>\n",
       "    <tr>\n",
       "      <th>1</th>\n",
       "      <td>2</td>\n",
       "      <td>education</td>\n",
       "      <td>3.0</td>\n",
       "    </tr>\n",
       "    <tr>\n",
       "      <th>2</th>\n",
       "      <td>5</td>\n",
       "      <td>education</td>\n",
       "      <td>2.0</td>\n",
       "    </tr>\n",
       "    <tr>\n",
       "      <th>3</th>\n",
       "      <td>6</td>\n",
       "      <td>education</td>\n",
       "      <td>2.0</td>\n",
       "    </tr>\n",
       "    <tr>\n",
       "      <th>4</th>\n",
       "      <td>7</td>\n",
       "      <td>education</td>\n",
       "      <td>2.0</td>\n",
       "    </tr>\n",
       "  </tbody>\n",
       "</table>\n",
       "</div>"
      ],
      "text/plain": [
       "   subject_id   variable value\n",
       "0           1  education   4.0\n",
       "1           2  education   3.0\n",
       "2           5  education   2.0\n",
       "3           6  education   2.0\n",
       "4           7  education   2.0"
      ]
     },
     "execution_count": 7,
     "metadata": {},
     "output_type": "execute_result"
    }
   ],
   "source": [
    "nerdy_long.head()"
   ]
  },
  {
   "cell_type": "markdown",
   "metadata": {},
   "source": [
    "**Print out the unique values in the `variable` column.**\n",
    "\n",
    "You can see that the unique values in the `variable` column correspond to the column headers in the wide format data."
   ]
  },
  {
   "cell_type": "code",
   "execution_count": 8,
   "metadata": {
    "collapsed": false
   },
   "outputs": [
    {
     "data": {
      "text/plain": [
       "array(['education', 'urban', 'gender', 'engnat', 'age', 'hand', 'religion',\n",
       "       'voted', 'married', 'familysize', 'major', 'race_white',\n",
       "       'race_nerdy', 'race_native_american', 'writing_novel',\n",
       "       'read_tech_reports', 'online_over_inperson', 'introspective',\n",
       "       'hobbies_over_people', 'books_over_parties', 'bookish',\n",
       "       'libraries_over_publicspace', 'race_native_austrailian',\n",
       "       'like_hard_material', 'race_hispanic', 'diagnosed_autistic',\n",
       "       'play_many_videogames', 'race_arab', 'race_asian',\n",
       "       'interested_science', 'playes_rpgs', 'in_advanced_classes',\n",
       "       'collect_books', 'intelligence_over_appearance',\n",
       "       'watch_science_shows', 'academic_over_social',\n",
       "       'like_science_fiction', 'like_dry_topics', 'race_black', 'calm',\n",
       "       'disorganized', 'extraverted', 'dependable', 'critical',\n",
       "       'opennness', 'anxious', 'sympathetic', 'reserved', 'conventional',\n",
       "       'was_odd_child', 'prefer_fictional_people', 'enjoy_learning',\n",
       "       'excited_about_research', 'strange_person', 'like_superheroes',\n",
       "       'socially_awkward'], dtype=object)"
      ]
     },
     "execution_count": 8,
     "metadata": {},
     "output_type": "execute_result"
    }
   ],
   "source": [
    "nerdy_long.variable.unique()"
   ]
  },
  {
   "cell_type": "code",
   "execution_count": 9,
   "metadata": {
    "collapsed": false
   },
   "outputs": [
    {
     "data": {
      "text/plain": [
       "1391"
      ]
     },
     "execution_count": 9,
     "metadata": {},
     "output_type": "execute_result"
    }
   ],
   "source": [
    "len(nerdy_long.subject_id.unique())"
   ]
  },
  {
   "cell_type": "markdown",
   "metadata": {},
   "source": [
    "**Replace the missing values in `major` with `unknown` in the long format data set.**\n",
    "\n",
    "The process for replacing data will be different because of the format. Using logical selection masks with `pandas`' `.loc` syntax is the preferable way to do this."
   ]
  },
  {
   "cell_type": "code",
   "execution_count": 10,
   "metadata": {
    "collapsed": false
   },
   "outputs": [
    {
     "name": "stdout",
     "output_type": "stream",
     "text": [
      "subject_id    0\n",
      "variable      0\n",
      "value         0\n",
      "dtype: int64\n"
     ]
    }
   ],
   "source": [
    "# Rather than calling the `major` column like we would in a wide DF,\n",
    "# we have to isolate all rows with a variable value of `major` in a long DF.\n",
    "major_mask = (nerdy_long.variable == 'major') & (nerdy_long.value.isnull())\n",
    "nerdy_long.loc[major_mask, 'value'] = 'unknown'\n",
    "print nerdy_long[nerdy_long.variable == 'major'].isnull().sum()"
   ]
  },
  {
   "cell_type": "markdown",
   "metadata": {},
   "source": [
    "<a id='pivot_tables'></a>\n",
    "\n",
    "### `Pandas`' `.pivot_table()` Function: Long to Wide Format\n",
    "\n",
    "---\n",
    "\n",
    "The `pd.pivot_table()` function is a powerful tool for both transforming data from long to wide format as well as summarizing data with user-supplied functions.\n",
    "\n",
    "First, we'll look at transforming the long format data back into the wide format using the `.pivot_table()` function.\n",
    "\n",
    "**Important parameters for the `.pivot_table()` function include:**\n",
    "\n",
    "> The `pivot_table()` function takes a DataFrame to pivot as its first argument. \n",
    "    \n",
    "- **`columns`**: This is the list of columns in the long format data to be transformed back into columns in the wide format. After pivoting, each unique value in the long format column becomes a header in the wide format.\n",
    "- **`values`**: A single column indicating the values to use when pivoting and filling the new wide format columns.\n",
    "- **`index`**: Columns in the long format data that are index variables. These will be left as single columns, not spread out by unique value like in the `columns` parameter.\n",
    "- **`aggfunc`**: Often `.pivot_table()` is used to perform a summary of the data. `aggfunc` stands for \"aggregation function.\" It's required and defaults to `np.mean()`. You can also insert your own function, which we'll demonstrate below.\n",
    "- **`fill_value`**: If a cell is missing for the wide format data, this value will fill it in.\n",
    "    \n",
    "Next we'll put in our own function — `select_item_or_nan()` — to the `aggfunc` keyword argument. Because my `subject_id` column has a single variable value for each ID, I just want the single element in the long format value cell. My data is messy, so I have to write a function to check for places it could break. \n",
    "\n",
    "**Note:** Passed into my function, `x` will be a Series object. I pull out the first element of that using the `.iloc` indexer."
   ]
  },
  {
   "cell_type": "code",
   "execution_count": 45,
   "metadata": {
    "collapsed": false
   },
   "outputs": [
    {
     "data": {
      "text/html": [
       "<div>\n",
       "<table border=\"1\" class=\"dataframe\">\n",
       "  <thead>\n",
       "    <tr style=\"text-align: right;\">\n",
       "      <th></th>\n",
       "      <th>subject_id</th>\n",
       "      <th>variable</th>\n",
       "      <th>value</th>\n",
       "    </tr>\n",
       "  </thead>\n",
       "  <tbody>\n",
       "    <tr>\n",
       "      <th>0</th>\n",
       "      <td>1</td>\n",
       "      <td>education</td>\n",
       "      <td>4.0</td>\n",
       "    </tr>\n",
       "    <tr>\n",
       "      <th>1</th>\n",
       "      <td>2</td>\n",
       "      <td>education</td>\n",
       "      <td>3.0</td>\n",
       "    </tr>\n",
       "    <tr>\n",
       "      <th>2</th>\n",
       "      <td>5</td>\n",
       "      <td>education</td>\n",
       "      <td>2.0</td>\n",
       "    </tr>\n",
       "    <tr>\n",
       "      <th>3</th>\n",
       "      <td>6</td>\n",
       "      <td>education</td>\n",
       "      <td>2.0</td>\n",
       "    </tr>\n",
       "    <tr>\n",
       "      <th>4</th>\n",
       "      <td>7</td>\n",
       "      <td>education</td>\n",
       "      <td>2.0</td>\n",
       "    </tr>\n",
       "  </tbody>\n",
       "</table>\n",
       "</div>"
      ],
      "text/plain": [
       "   subject_id   variable value\n",
       "0           1  education   4.0\n",
       "1           2  education   3.0\n",
       "2           5  education   2.0\n",
       "3           6  education   2.0\n",
       "4           7  education   2.0"
      ]
     },
     "execution_count": 45,
     "metadata": {},
     "output_type": "execute_result"
    }
   ],
   "source": [
    "nerdy_long.head()"
   ]
  },
  {
   "cell_type": "code",
   "execution_count": 48,
   "metadata": {
    "collapsed": false
   },
   "outputs": [
    {
     "data": {
      "text/html": [
       "<div>\n",
       "<table border=\"1\" class=\"dataframe\">\n",
       "  <thead>\n",
       "    <tr style=\"text-align: right;\">\n",
       "      <th>variable</th>\n",
       "      <th>academic_over_social</th>\n",
       "      <th>age</th>\n",
       "      <th>anxious</th>\n",
       "      <th>bookish</th>\n",
       "      <th>books_over_parties</th>\n",
       "      <th>calm</th>\n",
       "      <th>collect_books</th>\n",
       "      <th>conventional</th>\n",
       "      <th>critical</th>\n",
       "      <th>dependable</th>\n",
       "      <th>...</th>\n",
       "      <th>religion</th>\n",
       "      <th>reserved</th>\n",
       "      <th>socially_awkward</th>\n",
       "      <th>strange_person</th>\n",
       "      <th>sympathetic</th>\n",
       "      <th>urban</th>\n",
       "      <th>voted</th>\n",
       "      <th>was_odd_child</th>\n",
       "      <th>watch_science_shows</th>\n",
       "      <th>writing_novel</th>\n",
       "    </tr>\n",
       "    <tr>\n",
       "      <th>subject_id</th>\n",
       "      <th></th>\n",
       "      <th></th>\n",
       "      <th></th>\n",
       "      <th></th>\n",
       "      <th></th>\n",
       "      <th></th>\n",
       "      <th></th>\n",
       "      <th></th>\n",
       "      <th></th>\n",
       "      <th></th>\n",
       "      <th></th>\n",
       "      <th></th>\n",
       "      <th></th>\n",
       "      <th></th>\n",
       "      <th></th>\n",
       "      <th></th>\n",
       "      <th></th>\n",
       "      <th></th>\n",
       "      <th></th>\n",
       "      <th></th>\n",
       "      <th></th>\n",
       "    </tr>\n",
       "  </thead>\n",
       "  <tbody>\n",
       "    <tr>\n",
       "      <th>0</th>\n",
       "      <td>5.0</td>\n",
       "      <td>NaN</td>\n",
       "      <td>1.0</td>\n",
       "      <td>5.0</td>\n",
       "      <td>5.0</td>\n",
       "      <td>7.0</td>\n",
       "      <td>5.0</td>\n",
       "      <td>1.0</td>\n",
       "      <td>1.0</td>\n",
       "      <td>7.0</td>\n",
       "      <td>...</td>\n",
       "      <td>NaN</td>\n",
       "      <td>7.0</td>\n",
       "      <td>5.0</td>\n",
       "      <td>5.0</td>\n",
       "      <td>7.0</td>\n",
       "      <td>NaN</td>\n",
       "      <td>NaN</td>\n",
       "      <td>5.0</td>\n",
       "      <td>5.0</td>\n",
       "      <td>3.0</td>\n",
       "    </tr>\n",
       "    <tr>\n",
       "      <th>1</th>\n",
       "      <td>2.0</td>\n",
       "      <td>50.0</td>\n",
       "      <td>4.0</td>\n",
       "      <td>4.0</td>\n",
       "      <td>4.0</td>\n",
       "      <td>6.0</td>\n",
       "      <td>5.0</td>\n",
       "      <td>1.0</td>\n",
       "      <td>3.0</td>\n",
       "      <td>5.0</td>\n",
       "      <td>...</td>\n",
       "      <td>1.0</td>\n",
       "      <td>5.0</td>\n",
       "      <td>5.0</td>\n",
       "      <td>4.0</td>\n",
       "      <td>5.0</td>\n",
       "      <td>2.0</td>\n",
       "      <td>1.0</td>\n",
       "      <td>3.0</td>\n",
       "      <td>5.0</td>\n",
       "      <td>1.0</td>\n",
       "    </tr>\n",
       "    <tr>\n",
       "      <th>2</th>\n",
       "      <td>5.0</td>\n",
       "      <td>22.0</td>\n",
       "      <td>7.0</td>\n",
       "      <td>5.0</td>\n",
       "      <td>5.0</td>\n",
       "      <td>2.0</td>\n",
       "      <td>5.0</td>\n",
       "      <td>1.0</td>\n",
       "      <td>6.0</td>\n",
       "      <td>3.0</td>\n",
       "      <td>...</td>\n",
       "      <td>1.0</td>\n",
       "      <td>7.0</td>\n",
       "      <td>5.0</td>\n",
       "      <td>5.0</td>\n",
       "      <td>2.0</td>\n",
       "      <td>1.0</td>\n",
       "      <td>1.0</td>\n",
       "      <td>5.0</td>\n",
       "      <td>5.0</td>\n",
       "      <td>4.0</td>\n",
       "    </tr>\n",
       "    <tr>\n",
       "      <th>3</th>\n",
       "      <td>5.0</td>\n",
       "      <td>NaN</td>\n",
       "      <td>4.0</td>\n",
       "      <td>4.0</td>\n",
       "      <td>5.0</td>\n",
       "      <td>7.0</td>\n",
       "      <td>5.0</td>\n",
       "      <td>1.0</td>\n",
       "      <td>2.0</td>\n",
       "      <td>7.0</td>\n",
       "      <td>...</td>\n",
       "      <td>NaN</td>\n",
       "      <td>2.0</td>\n",
       "      <td>5.0</td>\n",
       "      <td>5.0</td>\n",
       "      <td>6.0</td>\n",
       "      <td>NaN</td>\n",
       "      <td>NaN</td>\n",
       "      <td>5.0</td>\n",
       "      <td>5.0</td>\n",
       "      <td>4.0</td>\n",
       "    </tr>\n",
       "    <tr>\n",
       "      <th>4</th>\n",
       "      <td>4.0</td>\n",
       "      <td>NaN</td>\n",
       "      <td>3.0</td>\n",
       "      <td>5.0</td>\n",
       "      <td>5.0</td>\n",
       "      <td>6.0</td>\n",
       "      <td>4.0</td>\n",
       "      <td>2.0</td>\n",
       "      <td>5.0</td>\n",
       "      <td>4.0</td>\n",
       "      <td>...</td>\n",
       "      <td>NaN</td>\n",
       "      <td>6.0</td>\n",
       "      <td>0.0</td>\n",
       "      <td>5.0</td>\n",
       "      <td>5.0</td>\n",
       "      <td>NaN</td>\n",
       "      <td>NaN</td>\n",
       "      <td>5.0</td>\n",
       "      <td>4.0</td>\n",
       "      <td>1.0</td>\n",
       "    </tr>\n",
       "  </tbody>\n",
       "</table>\n",
       "<p>5 rows × 56 columns</p>\n",
       "</div>"
      ],
      "text/plain": [
       "variable   academic_over_social   age anxious bookish books_over_parties calm  \\\n",
       "subject_id                                                                      \n",
       "0                           5.0   NaN     1.0     5.0                5.0  7.0   \n",
       "1                           2.0  50.0     4.0     4.0                4.0  6.0   \n",
       "2                           5.0  22.0     7.0     5.0                5.0  2.0   \n",
       "3                           5.0   NaN     4.0     4.0                5.0  7.0   \n",
       "4                           4.0   NaN     3.0     5.0                5.0  6.0   \n",
       "\n",
       "variable   collect_books conventional critical dependable      ...       \\\n",
       "subject_id                                                     ...        \n",
       "0                    5.0          1.0      1.0        7.0      ...        \n",
       "1                    5.0          1.0      3.0        5.0      ...        \n",
       "2                    5.0          1.0      6.0        3.0      ...        \n",
       "3                    5.0          1.0      2.0        7.0      ...        \n",
       "4                    4.0          2.0      5.0        4.0      ...        \n",
       "\n",
       "variable   religion reserved socially_awkward strange_person sympathetic  \\\n",
       "subject_id                                                                 \n",
       "0               NaN      7.0              5.0            5.0         7.0   \n",
       "1               1.0      5.0              5.0            4.0         5.0   \n",
       "2               1.0      7.0              5.0            5.0         2.0   \n",
       "3               NaN      2.0              5.0            5.0         6.0   \n",
       "4               NaN      6.0              0.0            5.0         5.0   \n",
       "\n",
       "variable   urban voted was_odd_child watch_science_shows writing_novel  \n",
       "subject_id                                                              \n",
       "0            NaN   NaN           5.0                 5.0           3.0  \n",
       "1            2.0   1.0           3.0                 5.0           1.0  \n",
       "2            1.0   1.0           5.0                 5.0           4.0  \n",
       "3            NaN   NaN           5.0                 5.0           4.0  \n",
       "4            NaN   NaN           5.0                 4.0           1.0  \n",
       "\n",
       "[5 rows x 56 columns]"
      ]
     },
     "execution_count": 48,
     "metadata": {},
     "output_type": "execute_result"
    }
   ],
   "source": [
    "def select_item_or_nan(x):\n",
    "    x = x.iloc[0]\n",
    "    if len(x) == 0:\n",
    "        return np.nan\n",
    "    else:\n",
    "        return x\n",
    "# This will take a few seconds to run.\n",
    "nerdy_wide_pv = pd.pivot_table(nerdy_long, columns=['variable'], values='value',\n",
    "                            index=['subject_id'], aggfunc=select_item_or_nan,\n",
    "                            fill_value=np.nan)\n",
    "# 'pv' for 'pivot version.'\n",
    "nerdy_wide_pv.head()"
   ]
  },
  {
   "cell_type": "markdown",
   "metadata": {},
   "source": [
    "<a id='multiindex'></a>\n",
    "\n",
    "### MultiIndex/Hierarchical Indices in `pandas`\n",
    "\n",
    "---\n",
    "\n",
    "In the header, you can see that the format of the new wide data is *not* the same as our originally loaded wide format. `pandas` implements something called **MultiIndexing** or **hierarchical indexing**, which allows for \"tiered\" row and column labels.\n",
    "\n",
    "Right now the mMltiIndex is not terrible but can get confusing and annoying, which we will experience later in this lesson.\n",
    "\n",
    "The main difference is that we now have a `variable` name in the top left corner, which is \"labeling\" our columns (and corresponds to the name of our original column in the long format data). The row indexer has become our single key/ID variable, `subject_id`. The columns are what we would expect here: Each one is a variable, like in the original wide format data."
   ]
  },
  {
   "cell_type": "code",
   "execution_count": 12,
   "metadata": {
    "collapsed": false
   },
   "outputs": [
    {
     "data": {
      "text/html": [
       "<div>\n",
       "<table border=\"1\" class=\"dataframe\">\n",
       "  <thead>\n",
       "    <tr style=\"text-align: right;\">\n",
       "      <th>variable</th>\n",
       "      <th>academic_over_social</th>\n",
       "      <th>age</th>\n",
       "      <th>anxious</th>\n",
       "      <th>bookish</th>\n",
       "      <th>books_over_parties</th>\n",
       "      <th>calm</th>\n",
       "      <th>collect_books</th>\n",
       "      <th>conventional</th>\n",
       "      <th>critical</th>\n",
       "      <th>dependable</th>\n",
       "      <th>...</th>\n",
       "      <th>religion</th>\n",
       "      <th>reserved</th>\n",
       "      <th>socially_awkward</th>\n",
       "      <th>strange_person</th>\n",
       "      <th>sympathetic</th>\n",
       "      <th>urban</th>\n",
       "      <th>voted</th>\n",
       "      <th>was_odd_child</th>\n",
       "      <th>watch_science_shows</th>\n",
       "      <th>writing_novel</th>\n",
       "    </tr>\n",
       "    <tr>\n",
       "      <th>subject_id</th>\n",
       "      <th></th>\n",
       "      <th></th>\n",
       "      <th></th>\n",
       "      <th></th>\n",
       "      <th></th>\n",
       "      <th></th>\n",
       "      <th></th>\n",
       "      <th></th>\n",
       "      <th></th>\n",
       "      <th></th>\n",
       "      <th></th>\n",
       "      <th></th>\n",
       "      <th></th>\n",
       "      <th></th>\n",
       "      <th></th>\n",
       "      <th></th>\n",
       "      <th></th>\n",
       "      <th></th>\n",
       "      <th></th>\n",
       "      <th></th>\n",
       "      <th></th>\n",
       "    </tr>\n",
       "  </thead>\n",
       "  <tbody>\n",
       "    <tr>\n",
       "      <th>0</th>\n",
       "      <td>5.0</td>\n",
       "      <td>NaN</td>\n",
       "      <td>1.0</td>\n",
       "      <td>5.0</td>\n",
       "      <td>5.0</td>\n",
       "      <td>7.0</td>\n",
       "      <td>5.0</td>\n",
       "      <td>1.0</td>\n",
       "      <td>1.0</td>\n",
       "      <td>7.0</td>\n",
       "      <td>...</td>\n",
       "      <td>NaN</td>\n",
       "      <td>7.0</td>\n",
       "      <td>5.0</td>\n",
       "      <td>5.0</td>\n",
       "      <td>7.0</td>\n",
       "      <td>NaN</td>\n",
       "      <td>NaN</td>\n",
       "      <td>5.0</td>\n",
       "      <td>5.0</td>\n",
       "      <td>3.0</td>\n",
       "    </tr>\n",
       "    <tr>\n",
       "      <th>1</th>\n",
       "      <td>2.0</td>\n",
       "      <td>50.0</td>\n",
       "      <td>4.0</td>\n",
       "      <td>4.0</td>\n",
       "      <td>4.0</td>\n",
       "      <td>6.0</td>\n",
       "      <td>5.0</td>\n",
       "      <td>1.0</td>\n",
       "      <td>3.0</td>\n",
       "      <td>5.0</td>\n",
       "      <td>...</td>\n",
       "      <td>1.0</td>\n",
       "      <td>5.0</td>\n",
       "      <td>5.0</td>\n",
       "      <td>4.0</td>\n",
       "      <td>5.0</td>\n",
       "      <td>2.0</td>\n",
       "      <td>1.0</td>\n",
       "      <td>3.0</td>\n",
       "      <td>5.0</td>\n",
       "      <td>1.0</td>\n",
       "    </tr>\n",
       "    <tr>\n",
       "      <th>2</th>\n",
       "      <td>5.0</td>\n",
       "      <td>22.0</td>\n",
       "      <td>7.0</td>\n",
       "      <td>5.0</td>\n",
       "      <td>5.0</td>\n",
       "      <td>2.0</td>\n",
       "      <td>5.0</td>\n",
       "      <td>1.0</td>\n",
       "      <td>6.0</td>\n",
       "      <td>3.0</td>\n",
       "      <td>...</td>\n",
       "      <td>1.0</td>\n",
       "      <td>7.0</td>\n",
       "      <td>5.0</td>\n",
       "      <td>5.0</td>\n",
       "      <td>2.0</td>\n",
       "      <td>1.0</td>\n",
       "      <td>1.0</td>\n",
       "      <td>5.0</td>\n",
       "      <td>5.0</td>\n",
       "      <td>4.0</td>\n",
       "    </tr>\n",
       "    <tr>\n",
       "      <th>3</th>\n",
       "      <td>5.0</td>\n",
       "      <td>NaN</td>\n",
       "      <td>4.0</td>\n",
       "      <td>4.0</td>\n",
       "      <td>5.0</td>\n",
       "      <td>7.0</td>\n",
       "      <td>5.0</td>\n",
       "      <td>1.0</td>\n",
       "      <td>2.0</td>\n",
       "      <td>7.0</td>\n",
       "      <td>...</td>\n",
       "      <td>NaN</td>\n",
       "      <td>2.0</td>\n",
       "      <td>5.0</td>\n",
       "      <td>5.0</td>\n",
       "      <td>6.0</td>\n",
       "      <td>NaN</td>\n",
       "      <td>NaN</td>\n",
       "      <td>5.0</td>\n",
       "      <td>5.0</td>\n",
       "      <td>4.0</td>\n",
       "    </tr>\n",
       "    <tr>\n",
       "      <th>4</th>\n",
       "      <td>4.0</td>\n",
       "      <td>NaN</td>\n",
       "      <td>3.0</td>\n",
       "      <td>5.0</td>\n",
       "      <td>5.0</td>\n",
       "      <td>6.0</td>\n",
       "      <td>4.0</td>\n",
       "      <td>2.0</td>\n",
       "      <td>5.0</td>\n",
       "      <td>4.0</td>\n",
       "      <td>...</td>\n",
       "      <td>NaN</td>\n",
       "      <td>6.0</td>\n",
       "      <td>0.0</td>\n",
       "      <td>5.0</td>\n",
       "      <td>5.0</td>\n",
       "      <td>NaN</td>\n",
       "      <td>NaN</td>\n",
       "      <td>5.0</td>\n",
       "      <td>4.0</td>\n",
       "      <td>1.0</td>\n",
       "    </tr>\n",
       "  </tbody>\n",
       "</table>\n",
       "<p>5 rows × 56 columns</p>\n",
       "</div>"
      ],
      "text/plain": [
       "variable   academic_over_social   age anxious bookish books_over_parties calm  \\\n",
       "subject_id                                                                      \n",
       "0                           5.0   NaN     1.0     5.0                5.0  7.0   \n",
       "1                           2.0  50.0     4.0     4.0                4.0  6.0   \n",
       "2                           5.0  22.0     7.0     5.0                5.0  2.0   \n",
       "3                           5.0   NaN     4.0     4.0                5.0  7.0   \n",
       "4                           4.0   NaN     3.0     5.0                5.0  6.0   \n",
       "\n",
       "variable   collect_books conventional critical dependable      ...       \\\n",
       "subject_id                                                     ...        \n",
       "0                    5.0          1.0      1.0        7.0      ...        \n",
       "1                    5.0          1.0      3.0        5.0      ...        \n",
       "2                    5.0          1.0      6.0        3.0      ...        \n",
       "3                    5.0          1.0      2.0        7.0      ...        \n",
       "4                    4.0          2.0      5.0        4.0      ...        \n",
       "\n",
       "variable   religion reserved socially_awkward strange_person sympathetic  \\\n",
       "subject_id                                                                 \n",
       "0               NaN      7.0              5.0            5.0         7.0   \n",
       "1               1.0      5.0              5.0            4.0         5.0   \n",
       "2               1.0      7.0              5.0            5.0         2.0   \n",
       "3               NaN      2.0              5.0            5.0         6.0   \n",
       "4               NaN      6.0              0.0            5.0         5.0   \n",
       "\n",
       "variable   urban voted was_odd_child watch_science_shows writing_novel  \n",
       "subject_id                                                              \n",
       "0            NaN   NaN           5.0                 5.0           3.0  \n",
       "1            2.0   1.0           3.0                 5.0           1.0  \n",
       "2            1.0   1.0           5.0                 5.0           4.0  \n",
       "3            NaN   NaN           5.0                 5.0           4.0  \n",
       "4            NaN   NaN           5.0                 4.0           1.0  \n",
       "\n",
       "[5 rows x 56 columns]"
      ]
     },
     "execution_count": 12,
     "metadata": {},
     "output_type": "execute_result"
    }
   ],
   "source": [
    "nerdy_wide_pv.head()"
   ]
  },
  {
   "cell_type": "markdown",
   "metadata": {},
   "source": [
    "**Drop the null values from our recreated wide format data. How many unique subjects do we have?**\n",
    "\n",
    "Remember our `subject_id` is now the **index**, so we can access it using the `.index` attribute."
   ]
  },
  {
   "cell_type": "code",
   "execution_count": 13,
   "metadata": {
    "collapsed": false
   },
   "outputs": [
    {
     "name": "stdout",
     "output_type": "stream",
     "text": [
      "(700, 56)\n",
      "700\n"
     ]
    },
    {
     "data": {
      "text/html": [
       "<div>\n",
       "<table border=\"1\" class=\"dataframe\">\n",
       "  <thead>\n",
       "    <tr style=\"text-align: right;\">\n",
       "      <th>variable</th>\n",
       "      <th>academic_over_social</th>\n",
       "      <th>age</th>\n",
       "      <th>anxious</th>\n",
       "      <th>bookish</th>\n",
       "      <th>books_over_parties</th>\n",
       "      <th>calm</th>\n",
       "      <th>collect_books</th>\n",
       "      <th>conventional</th>\n",
       "      <th>critical</th>\n",
       "      <th>dependable</th>\n",
       "      <th>...</th>\n",
       "      <th>religion</th>\n",
       "      <th>reserved</th>\n",
       "      <th>socially_awkward</th>\n",
       "      <th>strange_person</th>\n",
       "      <th>sympathetic</th>\n",
       "      <th>urban</th>\n",
       "      <th>voted</th>\n",
       "      <th>was_odd_child</th>\n",
       "      <th>watch_science_shows</th>\n",
       "      <th>writing_novel</th>\n",
       "    </tr>\n",
       "    <tr>\n",
       "      <th>subject_id</th>\n",
       "      <th></th>\n",
       "      <th></th>\n",
       "      <th></th>\n",
       "      <th></th>\n",
       "      <th></th>\n",
       "      <th></th>\n",
       "      <th></th>\n",
       "      <th></th>\n",
       "      <th></th>\n",
       "      <th></th>\n",
       "      <th></th>\n",
       "      <th></th>\n",
       "      <th></th>\n",
       "      <th></th>\n",
       "      <th></th>\n",
       "      <th></th>\n",
       "      <th></th>\n",
       "      <th></th>\n",
       "      <th></th>\n",
       "      <th></th>\n",
       "      <th></th>\n",
       "    </tr>\n",
       "  </thead>\n",
       "  <tbody>\n",
       "    <tr>\n",
       "      <th>1</th>\n",
       "      <td>2.0</td>\n",
       "      <td>50.0</td>\n",
       "      <td>4.0</td>\n",
       "      <td>4.0</td>\n",
       "      <td>4.0</td>\n",
       "      <td>6.0</td>\n",
       "      <td>5.0</td>\n",
       "      <td>1.0</td>\n",
       "      <td>3.0</td>\n",
       "      <td>5.0</td>\n",
       "      <td>...</td>\n",
       "      <td>1.0</td>\n",
       "      <td>5.0</td>\n",
       "      <td>5.0</td>\n",
       "      <td>4.0</td>\n",
       "      <td>5.0</td>\n",
       "      <td>2.0</td>\n",
       "      <td>1.0</td>\n",
       "      <td>3.0</td>\n",
       "      <td>5.0</td>\n",
       "      <td>1.0</td>\n",
       "    </tr>\n",
       "    <tr>\n",
       "      <th>2</th>\n",
       "      <td>5.0</td>\n",
       "      <td>22.0</td>\n",
       "      <td>7.0</td>\n",
       "      <td>5.0</td>\n",
       "      <td>5.0</td>\n",
       "      <td>2.0</td>\n",
       "      <td>5.0</td>\n",
       "      <td>1.0</td>\n",
       "      <td>6.0</td>\n",
       "      <td>3.0</td>\n",
       "      <td>...</td>\n",
       "      <td>1.0</td>\n",
       "      <td>7.0</td>\n",
       "      <td>5.0</td>\n",
       "      <td>5.0</td>\n",
       "      <td>2.0</td>\n",
       "      <td>1.0</td>\n",
       "      <td>1.0</td>\n",
       "      <td>5.0</td>\n",
       "      <td>5.0</td>\n",
       "      <td>4.0</td>\n",
       "    </tr>\n",
       "    <tr>\n",
       "      <th>5</th>\n",
       "      <td>4.0</td>\n",
       "      <td>18.0</td>\n",
       "      <td>5.0</td>\n",
       "      <td>3.0</td>\n",
       "      <td>4.0</td>\n",
       "      <td>4.0</td>\n",
       "      <td>4.0</td>\n",
       "      <td>4.0</td>\n",
       "      <td>3.0</td>\n",
       "      <td>5.0</td>\n",
       "      <td>...</td>\n",
       "      <td>1.0</td>\n",
       "      <td>5.0</td>\n",
       "      <td>4.0</td>\n",
       "      <td>5.0</td>\n",
       "      <td>4.0</td>\n",
       "      <td>3.0</td>\n",
       "      <td>2.0</td>\n",
       "      <td>4.0</td>\n",
       "      <td>5.0</td>\n",
       "      <td>3.0</td>\n",
       "    </tr>\n",
       "    <tr>\n",
       "      <th>6</th>\n",
       "      <td>4.0</td>\n",
       "      <td>18.0</td>\n",
       "      <td>1.0</td>\n",
       "      <td>4.0</td>\n",
       "      <td>5.0</td>\n",
       "      <td>6.0</td>\n",
       "      <td>5.0</td>\n",
       "      <td>1.0</td>\n",
       "      <td>1.0</td>\n",
       "      <td>2.0</td>\n",
       "      <td>...</td>\n",
       "      <td>1.0</td>\n",
       "      <td>5.0</td>\n",
       "      <td>5.0</td>\n",
       "      <td>5.0</td>\n",
       "      <td>5.0</td>\n",
       "      <td>2.0</td>\n",
       "      <td>2.0</td>\n",
       "      <td>1.0</td>\n",
       "      <td>4.0</td>\n",
       "      <td>1.0</td>\n",
       "    </tr>\n",
       "    <tr>\n",
       "      <th>7</th>\n",
       "      <td>3.0</td>\n",
       "      <td>21.0</td>\n",
       "      <td>7.0</td>\n",
       "      <td>3.0</td>\n",
       "      <td>5.0</td>\n",
       "      <td>1.0</td>\n",
       "      <td>5.0</td>\n",
       "      <td>4.0</td>\n",
       "      <td>6.0</td>\n",
       "      <td>5.0</td>\n",
       "      <td>...</td>\n",
       "      <td>12.0</td>\n",
       "      <td>5.0</td>\n",
       "      <td>5.0</td>\n",
       "      <td>5.0</td>\n",
       "      <td>6.0</td>\n",
       "      <td>2.0</td>\n",
       "      <td>1.0</td>\n",
       "      <td>3.0</td>\n",
       "      <td>3.0</td>\n",
       "      <td>3.0</td>\n",
       "    </tr>\n",
       "  </tbody>\n",
       "</table>\n",
       "<p>5 rows × 56 columns</p>\n",
       "</div>"
      ],
      "text/plain": [
       "variable   academic_over_social   age anxious bookish books_over_parties calm  \\\n",
       "subject_id                                                                      \n",
       "1                           2.0  50.0     4.0     4.0                4.0  6.0   \n",
       "2                           5.0  22.0     7.0     5.0                5.0  2.0   \n",
       "5                           4.0  18.0     5.0     3.0                4.0  4.0   \n",
       "6                           4.0  18.0     1.0     4.0                5.0  6.0   \n",
       "7                           3.0  21.0     7.0     3.0                5.0  1.0   \n",
       "\n",
       "variable   collect_books conventional critical dependable      ...       \\\n",
       "subject_id                                                     ...        \n",
       "1                    5.0          1.0      3.0        5.0      ...        \n",
       "2                    5.0          1.0      6.0        3.0      ...        \n",
       "5                    4.0          4.0      3.0        5.0      ...        \n",
       "6                    5.0          1.0      1.0        2.0      ...        \n",
       "7                    5.0          4.0      6.0        5.0      ...        \n",
       "\n",
       "variable   religion reserved socially_awkward strange_person sympathetic  \\\n",
       "subject_id                                                                 \n",
       "1               1.0      5.0              5.0            4.0         5.0   \n",
       "2               1.0      7.0              5.0            5.0         2.0   \n",
       "5               1.0      5.0              4.0            5.0         4.0   \n",
       "6               1.0      5.0              5.0            5.0         5.0   \n",
       "7              12.0      5.0              5.0            5.0         6.0   \n",
       "\n",
       "variable   urban voted was_odd_child watch_science_shows writing_novel  \n",
       "subject_id                                                              \n",
       "1            2.0   1.0           3.0                 5.0           1.0  \n",
       "2            1.0   1.0           5.0                 5.0           4.0  \n",
       "5            3.0   2.0           4.0                 5.0           3.0  \n",
       "6            2.0   2.0           1.0                 4.0           1.0  \n",
       "7            2.0   1.0           3.0                 3.0           3.0  \n",
       "\n",
       "[5 rows x 56 columns]"
      ]
     },
     "execution_count": 13,
     "metadata": {},
     "output_type": "execute_result"
    }
   ],
   "source": [
    "nerdy_wide_pv.dropna(inplace=True)\n",
    "print nerdy_wide_pv.shape\n",
    "print len(nerdy_wide_pv.index.unique())\n",
    "\n",
    "nerdy_wide_pv.head()"
   ]
  },
  {
   "cell_type": "markdown",
   "metadata": {},
   "source": [
    "**Convert the `subject_id` index back into a column.**\n",
    "\n",
    "We can use the DataFrame function `.reset_index()` to move `subject_id` into a column and create a new index. We now have a DataFrame with the same format we loaded the original wide format data in previously. The only exception is that we still have the `variable` column label."
   ]
  },
  {
   "cell_type": "code",
   "execution_count": 14,
   "metadata": {
    "collapsed": false
   },
   "outputs": [],
   "source": [
    "nerdy_wide_flat = nerdy_wide_pv.reset_index()"
   ]
  },
  {
   "cell_type": "code",
   "execution_count": 15,
   "metadata": {
    "collapsed": false
   },
   "outputs": [
    {
     "data": {
      "text/html": [
       "<div>\n",
       "<table border=\"1\" class=\"dataframe\">\n",
       "  <thead>\n",
       "    <tr style=\"text-align: right;\">\n",
       "      <th>variable</th>\n",
       "      <th>subject_id</th>\n",
       "      <th>academic_over_social</th>\n",
       "      <th>age</th>\n",
       "      <th>anxious</th>\n",
       "      <th>bookish</th>\n",
       "      <th>books_over_parties</th>\n",
       "      <th>calm</th>\n",
       "      <th>collect_books</th>\n",
       "      <th>conventional</th>\n",
       "      <th>critical</th>\n",
       "      <th>...</th>\n",
       "      <th>religion</th>\n",
       "      <th>reserved</th>\n",
       "      <th>socially_awkward</th>\n",
       "      <th>strange_person</th>\n",
       "      <th>sympathetic</th>\n",
       "      <th>urban</th>\n",
       "      <th>voted</th>\n",
       "      <th>was_odd_child</th>\n",
       "      <th>watch_science_shows</th>\n",
       "      <th>writing_novel</th>\n",
       "    </tr>\n",
       "  </thead>\n",
       "  <tbody>\n",
       "    <tr>\n",
       "      <th>0</th>\n",
       "      <td>1</td>\n",
       "      <td>2.0</td>\n",
       "      <td>50.0</td>\n",
       "      <td>4.0</td>\n",
       "      <td>4.0</td>\n",
       "      <td>4.0</td>\n",
       "      <td>6.0</td>\n",
       "      <td>5.0</td>\n",
       "      <td>1.0</td>\n",
       "      <td>3.0</td>\n",
       "      <td>...</td>\n",
       "      <td>1.0</td>\n",
       "      <td>5.0</td>\n",
       "      <td>5.0</td>\n",
       "      <td>4.0</td>\n",
       "      <td>5.0</td>\n",
       "      <td>2.0</td>\n",
       "      <td>1.0</td>\n",
       "      <td>3.0</td>\n",
       "      <td>5.0</td>\n",
       "      <td>1.0</td>\n",
       "    </tr>\n",
       "    <tr>\n",
       "      <th>1</th>\n",
       "      <td>2</td>\n",
       "      <td>5.0</td>\n",
       "      <td>22.0</td>\n",
       "      <td>7.0</td>\n",
       "      <td>5.0</td>\n",
       "      <td>5.0</td>\n",
       "      <td>2.0</td>\n",
       "      <td>5.0</td>\n",
       "      <td>1.0</td>\n",
       "      <td>6.0</td>\n",
       "      <td>...</td>\n",
       "      <td>1.0</td>\n",
       "      <td>7.0</td>\n",
       "      <td>5.0</td>\n",
       "      <td>5.0</td>\n",
       "      <td>2.0</td>\n",
       "      <td>1.0</td>\n",
       "      <td>1.0</td>\n",
       "      <td>5.0</td>\n",
       "      <td>5.0</td>\n",
       "      <td>4.0</td>\n",
       "    </tr>\n",
       "  </tbody>\n",
       "</table>\n",
       "<p>2 rows × 57 columns</p>\n",
       "</div>"
      ],
      "text/plain": [
       "variable  subject_id academic_over_social   age anxious bookish  \\\n",
       "0                  1                  2.0  50.0     4.0     4.0   \n",
       "1                  2                  5.0  22.0     7.0     5.0   \n",
       "\n",
       "variable books_over_parties calm collect_books conventional critical  \\\n",
       "0                       4.0  6.0           5.0          1.0      3.0   \n",
       "1                       5.0  2.0           5.0          1.0      6.0   \n",
       "\n",
       "variable      ...      religion reserved socially_awkward strange_person  \\\n",
       "0             ...           1.0      5.0              5.0            4.0   \n",
       "1             ...           1.0      7.0              5.0            5.0   \n",
       "\n",
       "variable sympathetic urban voted was_odd_child watch_science_shows  \\\n",
       "0                5.0   2.0   1.0           3.0                 5.0   \n",
       "1                2.0   1.0   1.0           5.0                 5.0   \n",
       "\n",
       "variable writing_novel  \n",
       "0                  1.0  \n",
       "1                  4.0  \n",
       "\n",
       "[2 rows x 57 columns]"
      ]
     },
     "execution_count": 15,
     "metadata": {},
     "output_type": "execute_result"
    }
   ],
   "source": [
    "nerdy_wide_flat.head(2)"
   ]
  },
  {
   "cell_type": "code",
   "execution_count": 16,
   "metadata": {
    "collapsed": false
   },
   "outputs": [
    {
     "data": {
      "text/plain": [
       "'variable'"
      ]
     },
     "execution_count": 16,
     "metadata": {},
     "output_type": "execute_result"
    }
   ],
   "source": [
    "nerdy_wide_flat.columns.name"
   ]
  },
  {
   "cell_type": "markdown",
   "metadata": {},
   "source": [
    "**Remove the column label.**\n",
    "\n",
    "You can remove the column label (which can be confusing during print statements) by setting the `.columns.name` attribute to `None`."
   ]
  },
  {
   "cell_type": "code",
   "execution_count": 17,
   "metadata": {
    "collapsed": false
   },
   "outputs": [
    {
     "data": {
      "text/html": [
       "<div>\n",
       "<table border=\"1\" class=\"dataframe\">\n",
       "  <thead>\n",
       "    <tr style=\"text-align: right;\">\n",
       "      <th></th>\n",
       "      <th>subject_id</th>\n",
       "      <th>academic_over_social</th>\n",
       "      <th>age</th>\n",
       "      <th>anxious</th>\n",
       "      <th>bookish</th>\n",
       "      <th>books_over_parties</th>\n",
       "      <th>calm</th>\n",
       "      <th>collect_books</th>\n",
       "      <th>conventional</th>\n",
       "      <th>critical</th>\n",
       "      <th>...</th>\n",
       "      <th>religion</th>\n",
       "      <th>reserved</th>\n",
       "      <th>socially_awkward</th>\n",
       "      <th>strange_person</th>\n",
       "      <th>sympathetic</th>\n",
       "      <th>urban</th>\n",
       "      <th>voted</th>\n",
       "      <th>was_odd_child</th>\n",
       "      <th>watch_science_shows</th>\n",
       "      <th>writing_novel</th>\n",
       "    </tr>\n",
       "  </thead>\n",
       "  <tbody>\n",
       "    <tr>\n",
       "      <th>0</th>\n",
       "      <td>1</td>\n",
       "      <td>2.0</td>\n",
       "      <td>50.0</td>\n",
       "      <td>4.0</td>\n",
       "      <td>4.0</td>\n",
       "      <td>4.0</td>\n",
       "      <td>6.0</td>\n",
       "      <td>5.0</td>\n",
       "      <td>1.0</td>\n",
       "      <td>3.0</td>\n",
       "      <td>...</td>\n",
       "      <td>1.0</td>\n",
       "      <td>5.0</td>\n",
       "      <td>5.0</td>\n",
       "      <td>4.0</td>\n",
       "      <td>5.0</td>\n",
       "      <td>2.0</td>\n",
       "      <td>1.0</td>\n",
       "      <td>3.0</td>\n",
       "      <td>5.0</td>\n",
       "      <td>1.0</td>\n",
       "    </tr>\n",
       "    <tr>\n",
       "      <th>1</th>\n",
       "      <td>2</td>\n",
       "      <td>5.0</td>\n",
       "      <td>22.0</td>\n",
       "      <td>7.0</td>\n",
       "      <td>5.0</td>\n",
       "      <td>5.0</td>\n",
       "      <td>2.0</td>\n",
       "      <td>5.0</td>\n",
       "      <td>1.0</td>\n",
       "      <td>6.0</td>\n",
       "      <td>...</td>\n",
       "      <td>1.0</td>\n",
       "      <td>7.0</td>\n",
       "      <td>5.0</td>\n",
       "      <td>5.0</td>\n",
       "      <td>2.0</td>\n",
       "      <td>1.0</td>\n",
       "      <td>1.0</td>\n",
       "      <td>5.0</td>\n",
       "      <td>5.0</td>\n",
       "      <td>4.0</td>\n",
       "    </tr>\n",
       "  </tbody>\n",
       "</table>\n",
       "<p>2 rows × 57 columns</p>\n",
       "</div>"
      ],
      "text/plain": [
       "   subject_id academic_over_social   age anxious bookish books_over_parties  \\\n",
       "0           1                  2.0  50.0     4.0     4.0                4.0   \n",
       "1           2                  5.0  22.0     7.0     5.0                5.0   \n",
       "\n",
       "  calm collect_books conventional critical      ...      religion reserved  \\\n",
       "0  6.0           5.0          1.0      3.0      ...           1.0      5.0   \n",
       "1  2.0           5.0          1.0      6.0      ...           1.0      7.0   \n",
       "\n",
       "  socially_awkward strange_person sympathetic urban voted was_odd_child  \\\n",
       "0              5.0            4.0         5.0   2.0   1.0           3.0   \n",
       "1              5.0            5.0         2.0   1.0   1.0           5.0   \n",
       "\n",
       "  watch_science_shows writing_novel  \n",
       "0                 5.0           1.0  \n",
       "1                 5.0           4.0  \n",
       "\n",
       "[2 rows x 57 columns]"
      ]
     },
     "execution_count": 17,
     "metadata": {},
     "output_type": "execute_result"
    }
   ],
   "source": [
    "nerdy_wide_flat.columns.name = None\n",
    "nerdy_wide_flat.head(2)"
   ]
  },
  {
   "cell_type": "markdown",
   "metadata": {},
   "source": [
    "<a id='melt'></a>\n",
    "\n",
    "### Using pandas' `.melt()` Function: Wide to Long Format\n",
    "\n",
    "---\n",
    "\n",
    "**`.melt()`** is a function that essentially performs the inverse of `.pivot_table()` on DataFrames.\n",
    "\n",
    "`.melt()` takes a DataFrame as its first argument. Additional arguments typically used with this function are:\n",
    "\n",
    "- **`id_vars`**: The column or columns that will be ID variables. ID variables contain data points specified by the `variable` and `value` columns.\n",
    "- **`value_vars`**: A list that specifies which columns should be converted into single `value` and `variable` columns.\n",
    "- **`var_name`**: The header name of the `variable` column (default='variable').\n",
    "- **`value_name`**: The header name of the `value` column (default='value').\n",
    "\n",
    "**First, subset the wide format data into just columns: `['subject_id','anxious','booking','calm','major']`.**\n"
   ]
  },
  {
   "cell_type": "code",
   "execution_count": 18,
   "metadata": {
    "collapsed": false
   },
   "outputs": [
    {
     "data": {
      "text/html": [
       "<div>\n",
       "<table border=\"1\" class=\"dataframe\">\n",
       "  <thead>\n",
       "    <tr style=\"text-align: right;\">\n",
       "      <th></th>\n",
       "      <th>subject_id</th>\n",
       "      <th>major</th>\n",
       "      <th>anxious</th>\n",
       "      <th>bookish</th>\n",
       "      <th>calm</th>\n",
       "    </tr>\n",
       "  </thead>\n",
       "  <tbody>\n",
       "    <tr>\n",
       "      <th>0</th>\n",
       "      <td>1</td>\n",
       "      <td>biophysics</td>\n",
       "      <td>4.0</td>\n",
       "      <td>4.0</td>\n",
       "      <td>6.0</td>\n",
       "    </tr>\n",
       "    <tr>\n",
       "      <th>1</th>\n",
       "      <td>2</td>\n",
       "      <td>biology</td>\n",
       "      <td>7.0</td>\n",
       "      <td>5.0</td>\n",
       "      <td>2.0</td>\n",
       "    </tr>\n",
       "  </tbody>\n",
       "</table>\n",
       "</div>"
      ],
      "text/plain": [
       "   subject_id       major anxious bookish calm\n",
       "0           1  biophysics     4.0     4.0  6.0\n",
       "1           2     biology     7.0     5.0  2.0"
      ]
     },
     "execution_count": 18,
     "metadata": {},
     "output_type": "execute_result"
    }
   ],
   "source": [
    "nerdy_subset = nerdy_wide_flat[['subject_id','major','anxious','bookish','calm']]\n",
    "nerdy_subset.head(2)"
   ]
  },
  {
   "cell_type": "markdown",
   "metadata": {},
   "source": [
    "**Use `.melt()` on the subset with `id_vars=['subject_id','major']`.**\n",
    "\n",
    "Print out the shape of the data and the header. The non-ID columns and their values are now represented by the `variable:value` column pair.\n",
    "\n",
    "**Note**: When you only specify the `id_vars`, the remaining columns become part of the `variable` and `value` columns."
   ]
  },
  {
   "cell_type": "code",
   "execution_count": 19,
   "metadata": {
    "collapsed": false
   },
   "outputs": [
    {
     "name": "stdout",
     "output_type": "stream",
     "text": [
      "(700, 5) (2100, 4)\n"
     ]
    },
    {
     "data": {
      "text/html": [
       "<div>\n",
       "<table border=\"1\" class=\"dataframe\">\n",
       "  <thead>\n",
       "    <tr style=\"text-align: right;\">\n",
       "      <th></th>\n",
       "      <th>subject_id</th>\n",
       "      <th>major</th>\n",
       "      <th>variable</th>\n",
       "      <th>value</th>\n",
       "    </tr>\n",
       "  </thead>\n",
       "  <tbody>\n",
       "    <tr>\n",
       "      <th>0</th>\n",
       "      <td>1</td>\n",
       "      <td>biophysics</td>\n",
       "      <td>anxious</td>\n",
       "      <td>4.0</td>\n",
       "    </tr>\n",
       "    <tr>\n",
       "      <th>1</th>\n",
       "      <td>2</td>\n",
       "      <td>biology</td>\n",
       "      <td>anxious</td>\n",
       "      <td>7.0</td>\n",
       "    </tr>\n",
       "    <tr>\n",
       "      <th>2</th>\n",
       "      <td>5</td>\n",
       "      <td>Geology</td>\n",
       "      <td>anxious</td>\n",
       "      <td>5.0</td>\n",
       "    </tr>\n",
       "    <tr>\n",
       "      <th>3</th>\n",
       "      <td>6</td>\n",
       "      <td>unknown</td>\n",
       "      <td>anxious</td>\n",
       "      <td>1.0</td>\n",
       "    </tr>\n",
       "  </tbody>\n",
       "</table>\n",
       "</div>"
      ],
      "text/plain": [
       "   subject_id       major variable value\n",
       "0           1  biophysics  anxious   4.0\n",
       "1           2     biology  anxious   7.0\n",
       "2           5     Geology  anxious   5.0\n",
       "3           6     unknown  anxious   1.0"
      ]
     },
     "execution_count": 19,
     "metadata": {},
     "output_type": "execute_result"
    }
   ],
   "source": [
    "nerdy_sub_long = pd.melt(nerdy_subset, id_vars=['subject_id','major'])\n",
    "print nerdy_subset.shape, nerdy_sub_long.shape\n",
    "nerdy_sub_long.head(4)"
   ]
  },
  {
   "cell_type": "markdown",
   "metadata": {},
   "source": [
    "If we don't specify `major` as an `id_var`, it will end up in the `variable` column."
   ]
  },
  {
   "cell_type": "code",
   "execution_count": 20,
   "metadata": {
    "collapsed": false
   },
   "outputs": [
    {
     "name": "stdout",
     "output_type": "stream",
     "text": [
      "(700, 5) (2800, 3)\n"
     ]
    },
    {
     "data": {
      "text/html": [
       "<div>\n",
       "<table border=\"1\" class=\"dataframe\">\n",
       "  <thead>\n",
       "    <tr style=\"text-align: right;\">\n",
       "      <th></th>\n",
       "      <th>subject_id</th>\n",
       "      <th>variable</th>\n",
       "      <th>value</th>\n",
       "    </tr>\n",
       "  </thead>\n",
       "  <tbody>\n",
       "    <tr>\n",
       "      <th>0</th>\n",
       "      <td>1</td>\n",
       "      <td>major</td>\n",
       "      <td>biophysics</td>\n",
       "    </tr>\n",
       "    <tr>\n",
       "      <th>1</th>\n",
       "      <td>2</td>\n",
       "      <td>major</td>\n",
       "      <td>biology</td>\n",
       "    </tr>\n",
       "    <tr>\n",
       "      <th>2</th>\n",
       "      <td>5</td>\n",
       "      <td>major</td>\n",
       "      <td>Geology</td>\n",
       "    </tr>\n",
       "    <tr>\n",
       "      <th>3</th>\n",
       "      <td>6</td>\n",
       "      <td>major</td>\n",
       "      <td>unknown</td>\n",
       "    </tr>\n",
       "  </tbody>\n",
       "</table>\n",
       "</div>"
      ],
      "text/plain": [
       "   subject_id variable       value\n",
       "0           1    major  biophysics\n",
       "1           2    major     biology\n",
       "2           5    major     Geology\n",
       "3           6    major     unknown"
      ]
     },
     "execution_count": 20,
     "metadata": {},
     "output_type": "execute_result"
    }
   ],
   "source": [
    "nerdy_sub_long = pd.melt(nerdy_subset, id_vars='subject_id')\n",
    "print nerdy_subset.shape, nerdy_sub_long.shape\n",
    "nerdy_sub_long.head(4)"
   ]
  },
  {
   "cell_type": "markdown",
   "metadata": {},
   "source": [
    "The more `id_vars` that we specify, the flatter our DataFrame will be. "
   ]
  },
  {
   "cell_type": "markdown",
   "metadata": {},
   "source": [
    "You can achieve the same result without having to subset the DataFrame first by simply specifying the `value_vars` keyword argument. The output DataFrame will then only contain the data specified in the `id_vars` and `value_vars` arguments.\n",
    "\n",
    "**Create the same DataFrame with `.melt()` on the full wide data set, but select the columns to use with the `value_vars` argument.**"
   ]
  },
  {
   "cell_type": "code",
   "execution_count": 21,
   "metadata": {
    "collapsed": false
   },
   "outputs": [
    {
     "name": "stdout",
     "output_type": "stream",
     "text": [
      "(700, 57) (1400, 4)\n"
     ]
    },
    {
     "data": {
      "text/html": [
       "<div>\n",
       "<table border=\"1\" class=\"dataframe\">\n",
       "  <thead>\n",
       "    <tr style=\"text-align: right;\">\n",
       "      <th></th>\n",
       "      <th>subject_id</th>\n",
       "      <th>major</th>\n",
       "      <th>variable</th>\n",
       "      <th>value</th>\n",
       "    </tr>\n",
       "  </thead>\n",
       "  <tbody>\n",
       "    <tr>\n",
       "      <th>0</th>\n",
       "      <td>1</td>\n",
       "      <td>biophysics</td>\n",
       "      <td>bookish</td>\n",
       "      <td>4.0</td>\n",
       "    </tr>\n",
       "    <tr>\n",
       "      <th>1</th>\n",
       "      <td>2</td>\n",
       "      <td>biology</td>\n",
       "      <td>bookish</td>\n",
       "      <td>5.0</td>\n",
       "    </tr>\n",
       "    <tr>\n",
       "      <th>2</th>\n",
       "      <td>5</td>\n",
       "      <td>Geology</td>\n",
       "      <td>bookish</td>\n",
       "      <td>3.0</td>\n",
       "    </tr>\n",
       "    <tr>\n",
       "      <th>3</th>\n",
       "      <td>6</td>\n",
       "      <td>unknown</td>\n",
       "      <td>bookish</td>\n",
       "      <td>4.0</td>\n",
       "    </tr>\n",
       "  </tbody>\n",
       "</table>\n",
       "</div>"
      ],
      "text/plain": [
       "   subject_id       major variable value\n",
       "0           1  biophysics  bookish   4.0\n",
       "1           2     biology  bookish   5.0\n",
       "2           5     Geology  bookish   3.0\n",
       "3           6     unknown  bookish   4.0"
      ]
     },
     "execution_count": 21,
     "metadata": {},
     "output_type": "execute_result"
    }
   ],
   "source": [
    "# With two `value_vars`:\n",
    "nerdy_sub_long = pd.melt(nerdy_wide_flat, id_vars=['subject_id','major'], \n",
    "                         value_vars=['bookish','calm'])\n",
    "print nerdy_wide_flat.shape, nerdy_sub_long.shape\n",
    "nerdy_sub_long.head(4)"
   ]
  },
  {
   "cell_type": "code",
   "execution_count": 22,
   "metadata": {
    "collapsed": false
   },
   "outputs": [
    {
     "name": "stdout",
     "output_type": "stream",
     "text": [
      "(700, 57) (2100, 4)\n"
     ]
    },
    {
     "data": {
      "text/html": [
       "<div>\n",
       "<table border=\"1\" class=\"dataframe\">\n",
       "  <thead>\n",
       "    <tr style=\"text-align: right;\">\n",
       "      <th></th>\n",
       "      <th>subject_id</th>\n",
       "      <th>major</th>\n",
       "      <th>variable</th>\n",
       "      <th>value</th>\n",
       "    </tr>\n",
       "  </thead>\n",
       "  <tbody>\n",
       "    <tr>\n",
       "      <th>0</th>\n",
       "      <td>1</td>\n",
       "      <td>biophysics</td>\n",
       "      <td>anxious</td>\n",
       "      <td>4.0</td>\n",
       "    </tr>\n",
       "    <tr>\n",
       "      <th>1</th>\n",
       "      <td>2</td>\n",
       "      <td>biology</td>\n",
       "      <td>anxious</td>\n",
       "      <td>7.0</td>\n",
       "    </tr>\n",
       "    <tr>\n",
       "      <th>2</th>\n",
       "      <td>5</td>\n",
       "      <td>Geology</td>\n",
       "      <td>anxious</td>\n",
       "      <td>5.0</td>\n",
       "    </tr>\n",
       "    <tr>\n",
       "      <th>3</th>\n",
       "      <td>6</td>\n",
       "      <td>unknown</td>\n",
       "      <td>anxious</td>\n",
       "      <td>1.0</td>\n",
       "    </tr>\n",
       "  </tbody>\n",
       "</table>\n",
       "</div>"
      ],
      "text/plain": [
       "   subject_id       major variable value\n",
       "0           1  biophysics  anxious   4.0\n",
       "1           2     biology  anxious   7.0\n",
       "2           5     Geology  anxious   5.0\n",
       "3           6     unknown  anxious   1.0"
      ]
     },
     "execution_count": 22,
     "metadata": {},
     "output_type": "execute_result"
    }
   ],
   "source": [
    "# With all `value_vars`:\n",
    "nerdy_sub_long = pd.melt(nerdy_wide_flat, id_vars=['subject_id','major'], \n",
    "                         value_vars=['anxious','bookish','calm'])\n",
    "print nerdy_wide_flat.shape, nerdy_sub_long.shape\n",
    "nerdy_sub_long.head(4)"
   ]
  },
  {
   "cell_type": "code",
   "execution_count": 23,
   "metadata": {
    "collapsed": false
   },
   "outputs": [
    {
     "data": {
      "text/plain": [
       "subject_id     int64\n",
       "major         object\n",
       "variable      object\n",
       "value         object\n",
       "dtype: object"
      ]
     },
     "execution_count": 23,
     "metadata": {},
     "output_type": "execute_result"
    }
   ],
   "source": [
    "nerdy_sub_long.dtypes"
   ]
  },
  {
   "cell_type": "markdown",
   "metadata": {},
   "source": [
    "The `value` column is still a string, so we can convert it to a float."
   ]
  },
  {
   "cell_type": "code",
   "execution_count": 24,
   "metadata": {
    "collapsed": true
   },
   "outputs": [],
   "source": [
    "nerdy_sub_long.value = nerdy_sub_long.value.astype(float)"
   ]
  },
  {
   "cell_type": "markdown",
   "metadata": {},
   "source": [
    "<a id='pivot_table_summarizing'></a>\n",
    "\n",
    "### Summarizing Your Data With  `.pivot_table()` and Aggregate Functions\n",
    "\n",
    "---\n",
    "\n",
    "For those of you who have experience with Excel, `pandas`' `.pivot_table()` accomplishes the same thing. It's more powerful but harder to use than the spreadsheet version.\n",
    "\n",
    "`.pivot_table()` can take in a variable, value, and index to group by and apply aggregate functions to summarize the data. \n",
    "\n",
    "**Note**: Be careful that your index variable is not pulling out unique rows (For example, `subject_id` by variable would only have one value to send into the aggregate functions).\n",
    "\n",
    "Below, I am calling the `.pivot_table()` function with:\n",
    "\n",
    "- The long format data as the first argument.\n",
    "- `variable` specified as the columns that indicate the variable names (groups).\n",
    "- `value` specified as the column that contains the data per variable.\n",
    "- `major` as the index; the rows will be grouped by `major`.\n",
    "- `np.mean`, `np.median`, `np.std`, and `len` as aggregate functions. These will be calculated for each `major-by-variable` group.\n",
    "- A `fill_value` of `np.nan` for cells in the output table that have no data.\n",
    "\n"
   ]
  },
  {
   "cell_type": "code",
   "execution_count": 25,
   "metadata": {
    "collapsed": false
   },
   "outputs": [],
   "source": [
    "nerdy_major_summary = pd.pivot_table(nerdy_sub_long, columns=['variable'], values='value',\n",
    "                                     index=['major'], aggfunc=[np.mean, np.median, np.std, len],\n",
    "                                     fill_value=np.nan)"
   ]
  },
  {
   "cell_type": "markdown",
   "metadata": {},
   "source": [
    "The output DataFrame gives you a \"hierarchical\" column index — the three variables for each aggregate function. The row index is the `major` groups.\n",
    "\n",
    "If you apply more index variables, the row indices will also become hierarchical! However, this can quickly make for a bloated DataFrame."
   ]
  },
  {
   "cell_type": "code",
   "execution_count": 26,
   "metadata": {
    "collapsed": false
   },
   "outputs": [
    {
     "data": {
      "text/html": [
       "<div>\n",
       "<table border=\"1\" class=\"dataframe\">\n",
       "  <thead>\n",
       "    <tr>\n",
       "      <th></th>\n",
       "      <th colspan=\"3\" halign=\"left\">mean</th>\n",
       "      <th colspan=\"3\" halign=\"left\">median</th>\n",
       "      <th colspan=\"3\" halign=\"left\">std</th>\n",
       "      <th colspan=\"3\" halign=\"left\">len</th>\n",
       "    </tr>\n",
       "    <tr>\n",
       "      <th>variable</th>\n",
       "      <th>anxious</th>\n",
       "      <th>bookish</th>\n",
       "      <th>calm</th>\n",
       "      <th>anxious</th>\n",
       "      <th>bookish</th>\n",
       "      <th>calm</th>\n",
       "      <th>anxious</th>\n",
       "      <th>bookish</th>\n",
       "      <th>calm</th>\n",
       "      <th>anxious</th>\n",
       "      <th>bookish</th>\n",
       "      <th>calm</th>\n",
       "    </tr>\n",
       "    <tr>\n",
       "      <th>major</th>\n",
       "      <th></th>\n",
       "      <th></th>\n",
       "      <th></th>\n",
       "      <th></th>\n",
       "      <th></th>\n",
       "      <th></th>\n",
       "      <th></th>\n",
       "      <th></th>\n",
       "      <th></th>\n",
       "      <th></th>\n",
       "      <th></th>\n",
       "      <th></th>\n",
       "    </tr>\n",
       "  </thead>\n",
       "  <tbody>\n",
       "    <tr>\n",
       "      <th>None yet</th>\n",
       "      <td>7.000000</td>\n",
       "      <td>3.000000</td>\n",
       "      <td>3.000000</td>\n",
       "      <td>7.0</td>\n",
       "      <td>3.0</td>\n",
       "      <td>3.0</td>\n",
       "      <td>NaN</td>\n",
       "      <td>NaN</td>\n",
       "      <td>NaN</td>\n",
       "      <td>1</td>\n",
       "      <td>1</td>\n",
       "      <td>1</td>\n",
       "    </tr>\n",
       "    <tr>\n",
       "      <th>+ACI-+ACIAIg-hotel and restaurant management+ACIAIg-+ACI-</th>\n",
       "      <td>2.000000</td>\n",
       "      <td>2.000000</td>\n",
       "      <td>7.000000</td>\n",
       "      <td>2.0</td>\n",
       "      <td>2.0</td>\n",
       "      <td>7.0</td>\n",
       "      <td>NaN</td>\n",
       "      <td>NaN</td>\n",
       "      <td>NaN</td>\n",
       "      <td>1</td>\n",
       "      <td>1</td>\n",
       "      <td>1</td>\n",
       "    </tr>\n",
       "    <tr>\n",
       "      <th>Aerospace Engineer</th>\n",
       "      <td>2.000000</td>\n",
       "      <td>2.000000</td>\n",
       "      <td>7.000000</td>\n",
       "      <td>2.0</td>\n",
       "      <td>2.0</td>\n",
       "      <td>7.0</td>\n",
       "      <td>NaN</td>\n",
       "      <td>NaN</td>\n",
       "      <td>NaN</td>\n",
       "      <td>1</td>\n",
       "      <td>1</td>\n",
       "      <td>1</td>\n",
       "    </tr>\n",
       "    <tr>\n",
       "      <th>Aerospace Engineering</th>\n",
       "      <td>3.000000</td>\n",
       "      <td>4.000000</td>\n",
       "      <td>3.000000</td>\n",
       "      <td>3.0</td>\n",
       "      <td>4.0</td>\n",
       "      <td>3.0</td>\n",
       "      <td>NaN</td>\n",
       "      <td>NaN</td>\n",
       "      <td>NaN</td>\n",
       "      <td>1</td>\n",
       "      <td>1</td>\n",
       "      <td>1</td>\n",
       "    </tr>\n",
       "    <tr>\n",
       "      <th>Agricultural Economics</th>\n",
       "      <td>2.000000</td>\n",
       "      <td>2.000000</td>\n",
       "      <td>6.000000</td>\n",
       "      <td>2.0</td>\n",
       "      <td>2.0</td>\n",
       "      <td>6.0</td>\n",
       "      <td>NaN</td>\n",
       "      <td>NaN</td>\n",
       "      <td>NaN</td>\n",
       "      <td>1</td>\n",
       "      <td>1</td>\n",
       "      <td>1</td>\n",
       "    </tr>\n",
       "    <tr>\n",
       "      <th>Anthropology</th>\n",
       "      <td>5.333333</td>\n",
       "      <td>3.666667</td>\n",
       "      <td>4.333333</td>\n",
       "      <td>5.0</td>\n",
       "      <td>4.0</td>\n",
       "      <td>4.0</td>\n",
       "      <td>0.577350</td>\n",
       "      <td>0.577350</td>\n",
       "      <td>2.516611</td>\n",
       "      <td>3</td>\n",
       "      <td>3</td>\n",
       "      <td>3</td>\n",
       "    </tr>\n",
       "    <tr>\n",
       "      <th>Anthropology</th>\n",
       "      <td>5.000000</td>\n",
       "      <td>4.000000</td>\n",
       "      <td>3.000000</td>\n",
       "      <td>5.0</td>\n",
       "      <td>4.0</td>\n",
       "      <td>3.0</td>\n",
       "      <td>NaN</td>\n",
       "      <td>NaN</td>\n",
       "      <td>NaN</td>\n",
       "      <td>1</td>\n",
       "      <td>1</td>\n",
       "      <td>1</td>\n",
       "    </tr>\n",
       "    <tr>\n",
       "      <th>Architecture</th>\n",
       "      <td>3.000000</td>\n",
       "      <td>4.000000</td>\n",
       "      <td>5.666667</td>\n",
       "      <td>4.0</td>\n",
       "      <td>4.0</td>\n",
       "      <td>6.0</td>\n",
       "      <td>1.732051</td>\n",
       "      <td>1.000000</td>\n",
       "      <td>1.527525</td>\n",
       "      <td>3</td>\n",
       "      <td>3</td>\n",
       "      <td>3</td>\n",
       "    </tr>\n",
       "    <tr>\n",
       "      <th>Architecture</th>\n",
       "      <td>5.000000</td>\n",
       "      <td>1.000000</td>\n",
       "      <td>5.000000</td>\n",
       "      <td>5.0</td>\n",
       "      <td>1.0</td>\n",
       "      <td>5.0</td>\n",
       "      <td>NaN</td>\n",
       "      <td>NaN</td>\n",
       "      <td>NaN</td>\n",
       "      <td>1</td>\n",
       "      <td>1</td>\n",
       "      <td>1</td>\n",
       "    </tr>\n",
       "    <tr>\n",
       "      <th>Art</th>\n",
       "      <td>4.000000</td>\n",
       "      <td>4.333333</td>\n",
       "      <td>5.333333</td>\n",
       "      <td>5.0</td>\n",
       "      <td>4.5</td>\n",
       "      <td>5.5</td>\n",
       "      <td>2.366432</td>\n",
       "      <td>0.816497</td>\n",
       "      <td>1.211060</td>\n",
       "      <td>6</td>\n",
       "      <td>6</td>\n",
       "      <td>6</td>\n",
       "    </tr>\n",
       "  </tbody>\n",
       "</table>\n",
       "</div>"
      ],
      "text/plain": [
       "                                                        mean            \\\n",
       "variable                                             anxious   bookish   \n",
       "major                                                                    \n",
       " None yet                                           7.000000  3.000000   \n",
       "+ACI-+ACIAIg-hotel and restaurant management+AC...  2.000000  2.000000   \n",
       "Aerospace Engineer                                  2.000000  2.000000   \n",
       "Aerospace Engineering                               3.000000  4.000000   \n",
       "Agricultural Economics                              2.000000  2.000000   \n",
       "Anthropology                                        5.333333  3.666667   \n",
       "Anthropology                                        5.000000  4.000000   \n",
       "Architecture                                        3.000000  4.000000   \n",
       "Architecture                                        5.000000  1.000000   \n",
       "Art                                                 4.000000  4.333333   \n",
       "\n",
       "                                                              median          \\\n",
       "variable                                                calm anxious bookish   \n",
       "major                                                                          \n",
       " None yet                                           3.000000     7.0     3.0   \n",
       "+ACI-+ACIAIg-hotel and restaurant management+AC...  7.000000     2.0     2.0   \n",
       "Aerospace Engineer                                  7.000000     2.0     2.0   \n",
       "Aerospace Engineering                               3.000000     3.0     4.0   \n",
       "Agricultural Economics                              6.000000     2.0     2.0   \n",
       "Anthropology                                        4.333333     5.0     4.0   \n",
       "Anthropology                                        3.000000     5.0     4.0   \n",
       "Architecture                                        5.666667     4.0     4.0   \n",
       "Architecture                                        5.000000     5.0     1.0   \n",
       "Art                                                 5.333333     5.0     4.5   \n",
       "\n",
       "                                                              std            \\\n",
       "variable                                           calm   anxious   bookish   \n",
       "major                                                                         \n",
       " None yet                                           3.0       NaN       NaN   \n",
       "+ACI-+ACIAIg-hotel and restaurant management+AC...  7.0       NaN       NaN   \n",
       "Aerospace Engineer                                  7.0       NaN       NaN   \n",
       "Aerospace Engineering                               3.0       NaN       NaN   \n",
       "Agricultural Economics                              6.0       NaN       NaN   \n",
       "Anthropology                                        4.0  0.577350  0.577350   \n",
       "Anthropology                                        3.0       NaN       NaN   \n",
       "Architecture                                        6.0  1.732051  1.000000   \n",
       "Architecture                                        5.0       NaN       NaN   \n",
       "Art                                                 5.5  2.366432  0.816497   \n",
       "\n",
       "                                                                 len          \\\n",
       "variable                                                calm anxious bookish   \n",
       "major                                                                          \n",
       " None yet                                                NaN       1       1   \n",
       "+ACI-+ACIAIg-hotel and restaurant management+AC...       NaN       1       1   \n",
       "Aerospace Engineer                                       NaN       1       1   \n",
       "Aerospace Engineering                                    NaN       1       1   \n",
       "Agricultural Economics                                   NaN       1       1   \n",
       "Anthropology                                        2.516611       3       3   \n",
       "Anthropology                                             NaN       1       1   \n",
       "Architecture                                        1.527525       3       3   \n",
       "Architecture                                             NaN       1       1   \n",
       "Art                                                 1.211060       6       6   \n",
       "\n",
       "                                                         \n",
       "variable                                           calm  \n",
       "major                                                    \n",
       " None yet                                             1  \n",
       "+ACI-+ACIAIg-hotel and restaurant management+AC...    1  \n",
       "Aerospace Engineer                                    1  \n",
       "Aerospace Engineering                                 1  \n",
       "Agricultural Economics                                1  \n",
       "Anthropology                                          3  \n",
       "Anthropology                                          1  \n",
       "Architecture                                          3  \n",
       "Architecture                                          1  \n",
       "Art                                                   6  "
      ]
     },
     "execution_count": 26,
     "metadata": {},
     "output_type": "execute_result"
    }
   ],
   "source": [
    "nerdy_major_summary.head(10)"
   ]
  },
  {
   "cell_type": "markdown",
   "metadata": {},
   "source": [
    "<a id='examining_multiindex'></a>\n",
    "\n",
    "### The Inner Workings of the MultiIndex\n",
    "\n",
    "--- \n",
    "\n",
    "The `.names` attribute on the index and columns will show you the hierarchy of labels. The row index is `'major'`, and the two column indices are `None` and `'variable'` (The aggregate functions get no label from `.pivot_table()` in this case). \n",
    "\n",
    "If you print out the columns, you can see the data set has become a `pandas` `MultiIndex` object that has levels, labels, and names."
   ]
  },
  {
   "cell_type": "code",
   "execution_count": 49,
   "metadata": {
    "collapsed": false
   },
   "outputs": [
    {
     "name": "stdout",
     "output_type": "stream",
     "text": [
      "[u'major']\n"
     ]
    }
   ],
   "source": [
    "print nerdy_major_summary.index.names"
   ]
  },
  {
   "cell_type": "code",
   "execution_count": 50,
   "metadata": {
    "collapsed": false
   },
   "outputs": [
    {
     "name": "stdout",
     "output_type": "stream",
     "text": [
      "[None, u'variable']\n"
     ]
    }
   ],
   "source": [
    "print nerdy_major_summary.columns.names"
   ]
  },
  {
   "cell_type": "code",
   "execution_count": 51,
   "metadata": {
    "collapsed": false
   },
   "outputs": [
    {
     "name": "stdout",
     "output_type": "stream",
     "text": [
      "MultiIndex(levels=[[u'mean', u'median', u'std', u'len'], [u'anxious', u'bookish', u'calm']],\n",
      "           labels=[[0, 0, 0, 1, 1, 1, 2, 2, 2, 3, 3, 3], [0, 1, 2, 0, 1, 2, 0, 1, 2, 0, 1, 2]],\n",
      "           names=[None, u'variable'])\n"
     ]
    }
   ],
   "source": [
    "print nerdy_major_summary.columns"
   ]
  },
  {
   "cell_type": "markdown",
   "metadata": {},
   "source": [
    "Indexing along the hierarchical column headers can be done with chained bracket keys — i.e., including the top-level column label in the first bracket, and so on, down to the bottom level."
   ]
  },
  {
   "cell_type": "code",
   "execution_count": 28,
   "metadata": {
    "collapsed": false
   },
   "outputs": [
    {
     "data": {
      "text/html": [
       "<div>\n",
       "<table border=\"1\" class=\"dataframe\">\n",
       "  <thead>\n",
       "    <tr style=\"text-align: right;\">\n",
       "      <th>variable</th>\n",
       "      <th>anxious</th>\n",
       "      <th>bookish</th>\n",
       "      <th>calm</th>\n",
       "    </tr>\n",
       "    <tr>\n",
       "      <th>major</th>\n",
       "      <th></th>\n",
       "      <th></th>\n",
       "      <th></th>\n",
       "    </tr>\n",
       "  </thead>\n",
       "  <tbody>\n",
       "    <tr>\n",
       "      <th>None yet</th>\n",
       "      <td>7.0</td>\n",
       "      <td>3.0</td>\n",
       "      <td>3.0</td>\n",
       "    </tr>\n",
       "    <tr>\n",
       "      <th>+ACI-+ACIAIg-hotel and restaurant management+ACIAIg-+ACI-</th>\n",
       "      <td>2.0</td>\n",
       "      <td>2.0</td>\n",
       "      <td>7.0</td>\n",
       "    </tr>\n",
       "  </tbody>\n",
       "</table>\n",
       "</div>"
      ],
      "text/plain": [
       "variable                                            anxious  bookish  calm\n",
       "major                                                                     \n",
       " None yet                                               7.0      3.0   3.0\n",
       "+ACI-+ACIAIg-hotel and restaurant management+AC...      2.0      2.0   7.0"
      ]
     },
     "execution_count": 28,
     "metadata": {},
     "output_type": "execute_result"
    }
   ],
   "source": [
    "nerdy_major_summary['mean'].head(2)"
   ]
  },
  {
   "cell_type": "code",
   "execution_count": 29,
   "metadata": {
    "collapsed": false
   },
   "outputs": [
    {
     "data": {
      "text/plain": [
       "major\n",
       " None yet                                                    7.0\n",
       "+ACI-+ACIAIg-hotel and restaurant management+ACIAIg-+ACI-    2.0\n",
       "Name: anxious, dtype: float64"
      ]
     },
     "execution_count": 29,
     "metadata": {},
     "output_type": "execute_result"
    }
   ],
   "source": [
    "nerdy_major_summary['mean']['anxious'].head(2)"
   ]
  },
  {
   "cell_type": "code",
   "execution_count": 30,
   "metadata": {
    "collapsed": false
   },
   "outputs": [
    {
     "data": {
      "text/html": [
       "<div>\n",
       "<table border=\"1\" class=\"dataframe\">\n",
       "  <thead>\n",
       "    <tr style=\"text-align: right;\">\n",
       "      <th>variable</th>\n",
       "      <th>anxious</th>\n",
       "      <th>bookish</th>\n",
       "    </tr>\n",
       "    <tr>\n",
       "      <th>major</th>\n",
       "      <th></th>\n",
       "      <th></th>\n",
       "    </tr>\n",
       "  </thead>\n",
       "  <tbody>\n",
       "    <tr>\n",
       "      <th>None yet</th>\n",
       "      <td>7.0</td>\n",
       "      <td>3.0</td>\n",
       "    </tr>\n",
       "    <tr>\n",
       "      <th>+ACI-+ACIAIg-hotel and restaurant management+ACIAIg-+ACI-</th>\n",
       "      <td>2.0</td>\n",
       "      <td>2.0</td>\n",
       "    </tr>\n",
       "  </tbody>\n",
       "</table>\n",
       "</div>"
      ],
      "text/plain": [
       "variable                                            anxious  bookish\n",
       "major                                                               \n",
       " None yet                                               7.0      3.0\n",
       "+ACI-+ACIAIg-hotel and restaurant management+AC...      2.0      2.0"
      ]
     },
     "execution_count": 30,
     "metadata": {},
     "output_type": "execute_result"
    }
   ],
   "source": [
    "nerdy_major_summary['mean'][['anxious','bookish']].head(2)"
   ]
  },
  {
   "cell_type": "markdown",
   "metadata": {},
   "source": [
    "In some cases, you can just split them up by comma within the brackets."
   ]
  },
  {
   "cell_type": "code",
   "execution_count": 31,
   "metadata": {
    "collapsed": false
   },
   "outputs": [
    {
     "data": {
      "text/plain": [
       "major\n",
       " None yet                                                    3.0\n",
       "+ACI-+ACIAIg-hotel and restaurant management+ACIAIg-+ACI-    2.0\n",
       "Name: (mean, bookish), dtype: float64"
      ]
     },
     "execution_count": 31,
     "metadata": {},
     "output_type": "execute_result"
    }
   ],
   "source": [
    "nerdy_major_summary['mean', 'bookish'].head(2)"
   ]
  },
  {
   "cell_type": "markdown",
   "metadata": {},
   "source": [
    "<a id='multiindex_to_flat'></a>\n",
    "\n",
    "### Getting Rid of the MultiIndex: \"Flattening\" Data\n",
    "\n",
    "---\n",
    "\n",
    "MultiIndex DataFrames hold great potential and are a cool concept. That being said, the overhead and confusion on how to subset/mask them is most often not worth it, especially when your data needs to be formatted for insertion into a model.\n",
    "\n",
    "The most reliable way to \"flatten\" a MultiIndexed DataFrame is with the `.to_records()` function. To make this a new DataFrame, it needs to be wrapped in a `pd.DataFrame()` like so:"
   ]
  },
  {
   "cell_type": "code",
   "execution_count": 32,
   "metadata": {
    "collapsed": false
   },
   "outputs": [
    {
     "data": {
      "text/html": [
       "<div>\n",
       "<table border=\"1\" class=\"dataframe\">\n",
       "  <thead>\n",
       "    <tr style=\"text-align: right;\">\n",
       "      <th></th>\n",
       "      <th>major</th>\n",
       "      <th>('mean', 'anxious')</th>\n",
       "      <th>('mean', 'bookish')</th>\n",
       "      <th>('mean', 'calm')</th>\n",
       "      <th>('median', 'anxious')</th>\n",
       "      <th>('median', 'bookish')</th>\n",
       "      <th>('median', 'calm')</th>\n",
       "      <th>('std', 'anxious')</th>\n",
       "      <th>('std', 'bookish')</th>\n",
       "      <th>('std', 'calm')</th>\n",
       "      <th>('len', 'anxious')</th>\n",
       "      <th>('len', 'bookish')</th>\n",
       "      <th>('len', 'calm')</th>\n",
       "    </tr>\n",
       "  </thead>\n",
       "  <tbody>\n",
       "    <tr>\n",
       "      <th>0</th>\n",
       "      <td>None yet</td>\n",
       "      <td>7.0</td>\n",
       "      <td>3.0</td>\n",
       "      <td>3.0</td>\n",
       "      <td>7.0</td>\n",
       "      <td>3.0</td>\n",
       "      <td>3.0</td>\n",
       "      <td>NaN</td>\n",
       "      <td>NaN</td>\n",
       "      <td>NaN</td>\n",
       "      <td>1</td>\n",
       "      <td>1</td>\n",
       "      <td>1</td>\n",
       "    </tr>\n",
       "    <tr>\n",
       "      <th>1</th>\n",
       "      <td>+ACI-+ACIAIg-hotel and restaurant management+A...</td>\n",
       "      <td>2.0</td>\n",
       "      <td>2.0</td>\n",
       "      <td>7.0</td>\n",
       "      <td>2.0</td>\n",
       "      <td>2.0</td>\n",
       "      <td>7.0</td>\n",
       "      <td>NaN</td>\n",
       "      <td>NaN</td>\n",
       "      <td>NaN</td>\n",
       "      <td>1</td>\n",
       "      <td>1</td>\n",
       "      <td>1</td>\n",
       "    </tr>\n",
       "  </tbody>\n",
       "</table>\n",
       "</div>"
      ],
      "text/plain": [
       "                                               major  ('mean', 'anxious')  \\\n",
       "0                                           None yet                  7.0   \n",
       "1  +ACI-+ACIAIg-hotel and restaurant management+A...                  2.0   \n",
       "\n",
       "   ('mean', 'bookish')  ('mean', 'calm')  ('median', 'anxious')  \\\n",
       "0                  3.0               3.0                    7.0   \n",
       "1                  2.0               7.0                    2.0   \n",
       "\n",
       "   ('median', 'bookish')  ('median', 'calm')  ('std', 'anxious')  \\\n",
       "0                    3.0                 3.0                 NaN   \n",
       "1                    2.0                 7.0                 NaN   \n",
       "\n",
       "   ('std', 'bookish')  ('std', 'calm')  ('len', 'anxious')  \\\n",
       "0                 NaN              NaN                   1   \n",
       "1                 NaN              NaN                   1   \n",
       "\n",
       "   ('len', 'bookish')  ('len', 'calm')  \n",
       "0                   1                1  \n",
       "1                   1                1  "
      ]
     },
     "execution_count": 32,
     "metadata": {},
     "output_type": "execute_result"
    }
   ],
   "source": [
    "nerdy_major_flat = pd.DataFrame(nerdy_major_summary.to_records())\n",
    "nerdy_major_flat.head(2)"
   ]
  },
  {
   "cell_type": "markdown",
   "metadata": {},
   "source": [
    "You can see that the new column names are tuples of the hierarchy of MultiIndexed columns. For example, you could convert these to new, more easily indexed columns with something like a list comprehension.\n",
    "\n",
    "The **`.eval()`** function takes a string and trys to evaluate it as if it were a Python command.\n",
    "\n",
    "**Use a list comprehension and the `.eval()` function to convert the flattened MultiIndexed columns to something more readable.**"
   ]
  },
  {
   "cell_type": "code",
   "execution_count": 33,
   "metadata": {
    "collapsed": false
   },
   "outputs": [
    {
     "data": {
      "text/html": [
       "<div>\n",
       "<table border=\"1\" class=\"dataframe\">\n",
       "  <thead>\n",
       "    <tr style=\"text-align: right;\">\n",
       "      <th></th>\n",
       "      <th>major</th>\n",
       "      <th>mean_anxious</th>\n",
       "      <th>mean_bookish</th>\n",
       "      <th>mean_calm</th>\n",
       "      <th>median_anxious</th>\n",
       "      <th>median_bookish</th>\n",
       "      <th>median_calm</th>\n",
       "      <th>std_anxious</th>\n",
       "      <th>std_bookish</th>\n",
       "      <th>std_calm</th>\n",
       "      <th>len_anxious</th>\n",
       "      <th>len_bookish</th>\n",
       "      <th>len_calm</th>\n",
       "    </tr>\n",
       "  </thead>\n",
       "  <tbody>\n",
       "    <tr>\n",
       "      <th>0</th>\n",
       "      <td>None yet</td>\n",
       "      <td>7.0</td>\n",
       "      <td>3.0</td>\n",
       "      <td>3.0</td>\n",
       "      <td>7.0</td>\n",
       "      <td>3.0</td>\n",
       "      <td>3.0</td>\n",
       "      <td>NaN</td>\n",
       "      <td>NaN</td>\n",
       "      <td>NaN</td>\n",
       "      <td>1</td>\n",
       "      <td>1</td>\n",
       "      <td>1</td>\n",
       "    </tr>\n",
       "    <tr>\n",
       "      <th>1</th>\n",
       "      <td>+ACI-+ACIAIg-hotel and restaurant management+A...</td>\n",
       "      <td>2.0</td>\n",
       "      <td>2.0</td>\n",
       "      <td>7.0</td>\n",
       "      <td>2.0</td>\n",
       "      <td>2.0</td>\n",
       "      <td>7.0</td>\n",
       "      <td>NaN</td>\n",
       "      <td>NaN</td>\n",
       "      <td>NaN</td>\n",
       "      <td>1</td>\n",
       "      <td>1</td>\n",
       "      <td>1</td>\n",
       "    </tr>\n",
       "  </tbody>\n",
       "</table>\n",
       "</div>"
      ],
      "text/plain": [
       "                                               major  mean_anxious  \\\n",
       "0                                           None yet           7.0   \n",
       "1  +ACI-+ACIAIg-hotel and restaurant management+A...           2.0   \n",
       "\n",
       "   mean_bookish  mean_calm  median_anxious  median_bookish  median_calm  \\\n",
       "0           3.0        3.0             7.0             3.0          3.0   \n",
       "1           2.0        7.0             2.0             2.0          7.0   \n",
       "\n",
       "   std_anxious  std_bookish  std_calm  len_anxious  len_bookish  len_calm  \n",
       "0          NaN          NaN       NaN            1            1         1  \n",
       "1          NaN          NaN       NaN            1            1         1  "
      ]
     },
     "execution_count": 33,
     "metadata": {},
     "output_type": "execute_result"
    }
   ],
   "source": [
    "nerdy_major_flat.columns = ['_'.join(eval(c)) if c[0] == '(' else c for c in nerdy_major_flat.columns]\n",
    "nerdy_major_flat.head(2)"
   ]
  },
  {
   "cell_type": "markdown",
   "metadata": {},
   "source": [
    "<a id='merging_joining_preface'></a>\n",
    "\n",
    "### A Preface: Merging and Joining With Long and Wide Format Data\n",
    "\n",
    "---\n",
    "\n",
    "You will be merging and joining data sets extensively throughout this course and in your future careers. However, it is important to note the differences between merging long and wide data sets together.\n",
    "\n",
    "**Load in the data used above, but now split it so that the demographic variables are in one data set and the survey question answers are in another.** \n",
    "\n",
    "These data sets are in a wide format, and they both contain `subject_id`s to identify the questions' categories. \n",
    "\n",
    "As you may recall, the demographic responses have fewer observations."
   ]
  },
  {
   "cell_type": "code",
   "execution_count": 34,
   "metadata": {
    "collapsed": false
   },
   "outputs": [],
   "source": [
    "n_demos_file = '../datasets/NPAS_parsed_trunc_demo_sample.csv'\n",
    "n_survey_file = '../datasets/NPAS_parsed_trunc_survey.csv'\n",
    "\n",
    "demos_subset = pd.read_csv(n_demos_file)\n",
    "survey = pd.read_csv(n_survey_file)"
   ]
  },
  {
   "cell_type": "code",
   "execution_count": 35,
   "metadata": {
    "collapsed": false
   },
   "outputs": [
    {
     "name": "stdout",
     "output_type": "stream",
     "text": [
      "(700, 12) (1391, 46)\n"
     ]
    }
   ],
   "source": [
    "print demos_subset.shape, survey.shape"
   ]
  },
  {
   "cell_type": "code",
   "execution_count": 36,
   "metadata": {
    "collapsed": false
   },
   "outputs": [
    {
     "data": {
      "text/html": [
       "<div>\n",
       "<table border=\"1\" class=\"dataframe\">\n",
       "  <thead>\n",
       "    <tr style=\"text-align: right;\">\n",
       "      <th></th>\n",
       "      <th>education</th>\n",
       "      <th>urban</th>\n",
       "      <th>gender</th>\n",
       "      <th>engnat</th>\n",
       "      <th>age</th>\n",
       "      <th>hand</th>\n",
       "      <th>religion</th>\n",
       "      <th>voted</th>\n",
       "      <th>married</th>\n",
       "      <th>familysize</th>\n",
       "      <th>major</th>\n",
       "      <th>subject_id</th>\n",
       "    </tr>\n",
       "  </thead>\n",
       "  <tbody>\n",
       "    <tr>\n",
       "      <th>0</th>\n",
       "      <td>4.0</td>\n",
       "      <td>2.0</td>\n",
       "      <td>2.0</td>\n",
       "      <td>1.0</td>\n",
       "      <td>50.0</td>\n",
       "      <td>1.0</td>\n",
       "      <td>1.0</td>\n",
       "      <td>1.0</td>\n",
       "      <td>1.0</td>\n",
       "      <td>3.0</td>\n",
       "      <td>biophysics</td>\n",
       "      <td>1</td>\n",
       "    </tr>\n",
       "    <tr>\n",
       "      <th>1</th>\n",
       "      <td>3.0</td>\n",
       "      <td>1.0</td>\n",
       "      <td>2.0</td>\n",
       "      <td>2.0</td>\n",
       "      <td>22.0</td>\n",
       "      <td>1.0</td>\n",
       "      <td>1.0</td>\n",
       "      <td>1.0</td>\n",
       "      <td>1.0</td>\n",
       "      <td>2.0</td>\n",
       "      <td>biology</td>\n",
       "      <td>2</td>\n",
       "    </tr>\n",
       "  </tbody>\n",
       "</table>\n",
       "</div>"
      ],
      "text/plain": [
       "   education  urban  gender  engnat   age  hand  religion  voted  married  \\\n",
       "0        4.0    2.0     2.0     1.0  50.0   1.0       1.0    1.0      1.0   \n",
       "1        3.0    1.0     2.0     2.0  22.0   1.0       1.0    1.0      1.0   \n",
       "\n",
       "   familysize       major  subject_id  \n",
       "0         3.0  biophysics           1  \n",
       "1         2.0     biology           2  "
      ]
     },
     "execution_count": 36,
     "metadata": {},
     "output_type": "execute_result"
    }
   ],
   "source": [
    "demos_subset.head(2)"
   ]
  },
  {
   "cell_type": "code",
   "execution_count": 37,
   "metadata": {
    "collapsed": false
   },
   "outputs": [
    {
     "data": {
      "text/html": [
       "<div>\n",
       "<table border=\"1\" class=\"dataframe\">\n",
       "  <thead>\n",
       "    <tr style=\"text-align: right;\">\n",
       "      <th></th>\n",
       "      <th>race_white</th>\n",
       "      <th>race_nerdy</th>\n",
       "      <th>race_native_american</th>\n",
       "      <th>writing_novel</th>\n",
       "      <th>read_tech_reports</th>\n",
       "      <th>online_over_inperson</th>\n",
       "      <th>introspective</th>\n",
       "      <th>hobbies_over_people</th>\n",
       "      <th>books_over_parties</th>\n",
       "      <th>bookish</th>\n",
       "      <th>...</th>\n",
       "      <th>reserved</th>\n",
       "      <th>conventional</th>\n",
       "      <th>was_odd_child</th>\n",
       "      <th>prefer_fictional_people</th>\n",
       "      <th>enjoy_learning</th>\n",
       "      <th>excited_about_research</th>\n",
       "      <th>strange_person</th>\n",
       "      <th>like_superheroes</th>\n",
       "      <th>socially_awkward</th>\n",
       "      <th>subject_id</th>\n",
       "    </tr>\n",
       "  </thead>\n",
       "  <tbody>\n",
       "    <tr>\n",
       "      <th>0</th>\n",
       "      <td>1.0</td>\n",
       "      <td>0.0</td>\n",
       "      <td>0.0</td>\n",
       "      <td>3.0</td>\n",
       "      <td>5.0</td>\n",
       "      <td>4.0</td>\n",
       "      <td>5.0</td>\n",
       "      <td>4.0</td>\n",
       "      <td>5.0</td>\n",
       "      <td>5.0</td>\n",
       "      <td>...</td>\n",
       "      <td>7.0</td>\n",
       "      <td>1.0</td>\n",
       "      <td>5.0</td>\n",
       "      <td>5.0</td>\n",
       "      <td>5.0</td>\n",
       "      <td>5.0</td>\n",
       "      <td>5.0</td>\n",
       "      <td>5.0</td>\n",
       "      <td>5.0</td>\n",
       "      <td>0</td>\n",
       "    </tr>\n",
       "    <tr>\n",
       "      <th>1</th>\n",
       "      <td>1.0</td>\n",
       "      <td>0.0</td>\n",
       "      <td>0.0</td>\n",
       "      <td>1.0</td>\n",
       "      <td>4.0</td>\n",
       "      <td>3.0</td>\n",
       "      <td>3.0</td>\n",
       "      <td>1.0</td>\n",
       "      <td>4.0</td>\n",
       "      <td>4.0</td>\n",
       "      <td>...</td>\n",
       "      <td>5.0</td>\n",
       "      <td>1.0</td>\n",
       "      <td>3.0</td>\n",
       "      <td>3.0</td>\n",
       "      <td>3.0</td>\n",
       "      <td>4.0</td>\n",
       "      <td>4.0</td>\n",
       "      <td>4.0</td>\n",
       "      <td>5.0</td>\n",
       "      <td>1</td>\n",
       "    </tr>\n",
       "  </tbody>\n",
       "</table>\n",
       "<p>2 rows × 46 columns</p>\n",
       "</div>"
      ],
      "text/plain": [
       "   race_white  race_nerdy  race_native_american  writing_novel  \\\n",
       "0         1.0         0.0                   0.0            3.0   \n",
       "1         1.0         0.0                   0.0            1.0   \n",
       "\n",
       "   read_tech_reports  online_over_inperson  introspective  \\\n",
       "0                5.0                   4.0            5.0   \n",
       "1                4.0                   3.0            3.0   \n",
       "\n",
       "   hobbies_over_people  books_over_parties  bookish     ...      reserved  \\\n",
       "0                  4.0                 5.0      5.0     ...           7.0   \n",
       "1                  1.0                 4.0      4.0     ...           5.0   \n",
       "\n",
       "   conventional  was_odd_child  prefer_fictional_people  enjoy_learning  \\\n",
       "0           1.0            5.0                      5.0             5.0   \n",
       "1           1.0            3.0                      3.0             3.0   \n",
       "\n",
       "   excited_about_research  strange_person  like_superheroes  socially_awkward  \\\n",
       "0                     5.0             5.0               5.0               5.0   \n",
       "1                     4.0             4.0               4.0               5.0   \n",
       "\n",
       "   subject_id  \n",
       "0           0  \n",
       "1           1  \n",
       "\n",
       "[2 rows x 46 columns]"
      ]
     },
     "execution_count": 37,
     "metadata": {},
     "output_type": "execute_result"
    }
   ],
   "source": [
    "survey.head(2)"
   ]
  },
  {
   "cell_type": "code",
   "execution_count": 38,
   "metadata": {
    "collapsed": false
   },
   "outputs": [
    {
     "name": "stdout",
     "output_type": "stream",
     "text": [
      "Index([u'education', u'urban', u'gender', u'engnat', u'age', u'hand',\n",
      "       u'religion', u'voted', u'married', u'familysize', u'major',\n",
      "       u'subject_id'],\n",
      "      dtype='object')\n",
      "Index([u'race_white', u'race_nerdy', u'race_native_american', u'writing_novel',\n",
      "       u'read_tech_reports', u'online_over_inperson', u'introspective',\n",
      "       u'hobbies_over_people', u'books_over_parties', u'bookish',\n",
      "       u'libraries_over_publicspace', u'race_native_austrailian',\n",
      "       u'like_hard_material', u'race_hispanic', u'diagnosed_autistic',\n",
      "       u'play_many_videogames', u'race_arab', u'race_asian',\n",
      "       u'interested_science', u'playes_rpgs', u'in_advanced_classes',\n",
      "       u'collect_books', u'intelligence_over_appearance',\n",
      "       u'watch_science_shows', u'academic_over_social',\n",
      "       u'like_science_fiction', u'like_dry_topics', u'race_black', u'calm',\n",
      "       u'disorganized', u'extraverted', u'dependable', u'critical',\n",
      "       u'opennness', u'anxious', u'sympathetic', u'reserved', u'conventional',\n",
      "       u'was_odd_child', u'prefer_fictional_people', u'enjoy_learning',\n",
      "       u'excited_about_research', u'strange_person', u'like_superheroes',\n",
      "       u'socially_awkward', u'subject_id'],\n",
      "      dtype='object')\n"
     ]
    }
   ],
   "source": [
    "print demos_subset.columns\n",
    "print survey.columns"
   ]
  },
  {
   "cell_type": "markdown",
   "metadata": {},
   "source": [
    "<a id='pandas_merge'></a>\n",
    "\n",
    "### `pandas`' `.merge()` function: Joining Long Format vs. Wide Format Data\n",
    "\n",
    "---\n",
    "\n",
    "The `.merge()` function comes built into a DataFrame. The first argument is another DataFrame you want to merge it with, and the `on` keyword argument is the key(s) by which you want the DataFrames to be \"matched.\"\n",
    "\n",
    "We are specifying `how='inner'` here, which means that the key must be present in both DataFrames to have the corresponding rows included in the output. Because the demographics data set has fewer `subject_id`s, it will only merge the `subject_id` rows from the survey data set that are also present in the demographics data set.\n",
    "\n",
    "**Combine the survey and demographic wide format data sets using `.merge()`.**"
   ]
  },
  {
   "cell_type": "code",
   "execution_count": 39,
   "metadata": {
    "collapsed": false
   },
   "outputs": [],
   "source": [
    "demos_survey = demos_subset.merge(survey, on=['subject_id'], how='inner')"
   ]
  },
  {
   "cell_type": "code",
   "execution_count": 40,
   "metadata": {
    "collapsed": false
   },
   "outputs": [
    {
     "name": "stdout",
     "output_type": "stream",
     "text": [
      "(700, 57)\n"
     ]
    },
    {
     "data": {
      "text/html": [
       "<div>\n",
       "<table border=\"1\" class=\"dataframe\">\n",
       "  <thead>\n",
       "    <tr style=\"text-align: right;\">\n",
       "      <th></th>\n",
       "      <th>education</th>\n",
       "      <th>urban</th>\n",
       "      <th>gender</th>\n",
       "      <th>engnat</th>\n",
       "      <th>age</th>\n",
       "      <th>hand</th>\n",
       "      <th>religion</th>\n",
       "      <th>voted</th>\n",
       "      <th>married</th>\n",
       "      <th>familysize</th>\n",
       "      <th>...</th>\n",
       "      <th>sympathetic</th>\n",
       "      <th>reserved</th>\n",
       "      <th>conventional</th>\n",
       "      <th>was_odd_child</th>\n",
       "      <th>prefer_fictional_people</th>\n",
       "      <th>enjoy_learning</th>\n",
       "      <th>excited_about_research</th>\n",
       "      <th>strange_person</th>\n",
       "      <th>like_superheroes</th>\n",
       "      <th>socially_awkward</th>\n",
       "    </tr>\n",
       "  </thead>\n",
       "  <tbody>\n",
       "    <tr>\n",
       "      <th>0</th>\n",
       "      <td>4.0</td>\n",
       "      <td>2.0</td>\n",
       "      <td>2.0</td>\n",
       "      <td>1.0</td>\n",
       "      <td>50.0</td>\n",
       "      <td>1.0</td>\n",
       "      <td>1.0</td>\n",
       "      <td>1.0</td>\n",
       "      <td>1.0</td>\n",
       "      <td>3.0</td>\n",
       "      <td>...</td>\n",
       "      <td>5.0</td>\n",
       "      <td>5.0</td>\n",
       "      <td>1.0</td>\n",
       "      <td>3.0</td>\n",
       "      <td>3.0</td>\n",
       "      <td>3.0</td>\n",
       "      <td>4.0</td>\n",
       "      <td>4.0</td>\n",
       "      <td>4.0</td>\n",
       "      <td>5.0</td>\n",
       "    </tr>\n",
       "    <tr>\n",
       "      <th>1</th>\n",
       "      <td>3.0</td>\n",
       "      <td>1.0</td>\n",
       "      <td>2.0</td>\n",
       "      <td>2.0</td>\n",
       "      <td>22.0</td>\n",
       "      <td>1.0</td>\n",
       "      <td>1.0</td>\n",
       "      <td>1.0</td>\n",
       "      <td>1.0</td>\n",
       "      <td>2.0</td>\n",
       "      <td>...</td>\n",
       "      <td>2.0</td>\n",
       "      <td>7.0</td>\n",
       "      <td>1.0</td>\n",
       "      <td>5.0</td>\n",
       "      <td>5.0</td>\n",
       "      <td>5.0</td>\n",
       "      <td>5.0</td>\n",
       "      <td>5.0</td>\n",
       "      <td>3.0</td>\n",
       "      <td>5.0</td>\n",
       "    </tr>\n",
       "  </tbody>\n",
       "</table>\n",
       "<p>2 rows × 57 columns</p>\n",
       "</div>"
      ],
      "text/plain": [
       "   education  urban  gender  engnat   age  hand  religion  voted  married  \\\n",
       "0        4.0    2.0     2.0     1.0  50.0   1.0       1.0    1.0      1.0   \n",
       "1        3.0    1.0     2.0     2.0  22.0   1.0       1.0    1.0      1.0   \n",
       "\n",
       "   familysize        ...        sympathetic  reserved  conventional  \\\n",
       "0         3.0        ...                5.0       5.0           1.0   \n",
       "1         2.0        ...                2.0       7.0           1.0   \n",
       "\n",
       "   was_odd_child  prefer_fictional_people  enjoy_learning  \\\n",
       "0            3.0                      3.0             3.0   \n",
       "1            5.0                      5.0             5.0   \n",
       "\n",
       "   excited_about_research  strange_person  like_superheroes  socially_awkward  \n",
       "0                     4.0             4.0               4.0               5.0  \n",
       "1                     5.0             5.0               3.0               5.0  \n",
       "\n",
       "[2 rows x 57 columns]"
      ]
     },
     "execution_count": 40,
     "metadata": {},
     "output_type": "execute_result"
    }
   ],
   "source": [
    "print demos_survey.shape\n",
    "demos_survey.head(2)"
   ]
  },
  {
   "cell_type": "markdown",
   "metadata": {},
   "source": [
    "**Convert the demographic and survey data into long format using `.melt()`.**\n",
    "\n",
    "- For the demographic DataFrame, specify two `id_vars` — `gender` and `subject_id`.\n",
    "- For the survey DataFrame, only specify `subject_id` for `id_vars`."
   ]
  },
  {
   "cell_type": "code",
   "execution_count": 41,
   "metadata": {
    "collapsed": false
   },
   "outputs": [
    {
     "name": "stdout",
     "output_type": "stream",
     "text": [
      "(7000, 4)\n"
     ]
    },
    {
     "data": {
      "text/html": [
       "<div>\n",
       "<table border=\"1\" class=\"dataframe\">\n",
       "  <thead>\n",
       "    <tr style=\"text-align: right;\">\n",
       "      <th></th>\n",
       "      <th>subject_id</th>\n",
       "      <th>gender</th>\n",
       "      <th>variable</th>\n",
       "      <th>value</th>\n",
       "    </tr>\n",
       "  </thead>\n",
       "  <tbody>\n",
       "    <tr>\n",
       "      <th>0</th>\n",
       "      <td>1</td>\n",
       "      <td>2.0</td>\n",
       "      <td>education</td>\n",
       "      <td>4</td>\n",
       "    </tr>\n",
       "    <tr>\n",
       "      <th>1</th>\n",
       "      <td>2</td>\n",
       "      <td>2.0</td>\n",
       "      <td>education</td>\n",
       "      <td>3</td>\n",
       "    </tr>\n",
       "  </tbody>\n",
       "</table>\n",
       "</div>"
      ],
      "text/plain": [
       "   subject_id  gender   variable value\n",
       "0           1     2.0  education     4\n",
       "1           2     2.0  education     3"
      ]
     },
     "execution_count": 41,
     "metadata": {},
     "output_type": "execute_result"
    }
   ],
   "source": [
    "demos_long = pd.melt(demos_subset, id_vars=['subject_id','gender'])\n",
    "print demos_long.shape\n",
    "demos_long.head(2)"
   ]
  },
  {
   "cell_type": "code",
   "execution_count": 42,
   "metadata": {
    "collapsed": false
   },
   "outputs": [
    {
     "name": "stdout",
     "output_type": "stream",
     "text": [
      "(62595, 3)\n"
     ]
    },
    {
     "data": {
      "text/html": [
       "<div>\n",
       "<table border=\"1\" class=\"dataframe\">\n",
       "  <thead>\n",
       "    <tr style=\"text-align: right;\">\n",
       "      <th></th>\n",
       "      <th>subject_id</th>\n",
       "      <th>variable</th>\n",
       "      <th>value</th>\n",
       "    </tr>\n",
       "  </thead>\n",
       "  <tbody>\n",
       "    <tr>\n",
       "      <th>0</th>\n",
       "      <td>0</td>\n",
       "      <td>race_white</td>\n",
       "      <td>1.0</td>\n",
       "    </tr>\n",
       "    <tr>\n",
       "      <th>1</th>\n",
       "      <td>1</td>\n",
       "      <td>race_white</td>\n",
       "      <td>1.0</td>\n",
       "    </tr>\n",
       "  </tbody>\n",
       "</table>\n",
       "</div>"
      ],
      "text/plain": [
       "   subject_id    variable  value\n",
       "0           0  race_white    1.0\n",
       "1           1  race_white    1.0"
      ]
     },
     "execution_count": 42,
     "metadata": {},
     "output_type": "execute_result"
    }
   ],
   "source": [
    "survey_long = pd.melt(survey, id_vars=['subject_id'])\n",
    "print survey_long.shape\n",
    "survey_long.head(2)"
   ]
  },
  {
   "cell_type": "markdown",
   "metadata": {},
   "source": [
    "**Merge the long form data sets together, just like we did previously with the wide format data.**\n",
    "\n",
    "Here, we will still merge on `subject_id`, using `'inner'` for the `how` variable. We have duplicate named columns in each of these DataFrames (`variable` and `value`). We can specify `suffixes=('_survey','_demo')` to give the instances of the survey and demographic DataFrames appropriate column names when they are joined together."
   ]
  },
  {
   "cell_type": "code",
   "execution_count": 43,
   "metadata": {
    "collapsed": false
   },
   "outputs": [
    {
     "name": "stdout",
     "output_type": "stream",
     "text": [
      "(315000, 6)\n"
     ]
    },
    {
     "data": {
      "text/html": [
       "<div>\n",
       "<table border=\"1\" class=\"dataframe\">\n",
       "  <thead>\n",
       "    <tr style=\"text-align: right;\">\n",
       "      <th></th>\n",
       "      <th>subject_id</th>\n",
       "      <th>variable_survey</th>\n",
       "      <th>value_survey</th>\n",
       "      <th>gender</th>\n",
       "      <th>variable_demo</th>\n",
       "      <th>value_demo</th>\n",
       "    </tr>\n",
       "  </thead>\n",
       "  <tbody>\n",
       "    <tr>\n",
       "      <th>0</th>\n",
       "      <td>1</td>\n",
       "      <td>race_white</td>\n",
       "      <td>1.0</td>\n",
       "      <td>2.0</td>\n",
       "      <td>education</td>\n",
       "      <td>4</td>\n",
       "    </tr>\n",
       "    <tr>\n",
       "      <th>1</th>\n",
       "      <td>1</td>\n",
       "      <td>race_white</td>\n",
       "      <td>1.0</td>\n",
       "      <td>2.0</td>\n",
       "      <td>urban</td>\n",
       "      <td>2</td>\n",
       "    </tr>\n",
       "    <tr>\n",
       "      <th>2</th>\n",
       "      <td>1</td>\n",
       "      <td>race_white</td>\n",
       "      <td>1.0</td>\n",
       "      <td>2.0</td>\n",
       "      <td>engnat</td>\n",
       "      <td>1</td>\n",
       "    </tr>\n",
       "  </tbody>\n",
       "</table>\n",
       "</div>"
      ],
      "text/plain": [
       "   subject_id variable_survey  value_survey  gender variable_demo value_demo\n",
       "0           1      race_white           1.0     2.0     education          4\n",
       "1           1      race_white           1.0     2.0         urban          2\n",
       "2           1      race_white           1.0     2.0        engnat          1"
      ]
     },
     "execution_count": 43,
     "metadata": {},
     "output_type": "execute_result"
    }
   ],
   "source": [
    "demos_survey_long = survey_long.merge(demos_long, on='subject_id', how='inner',\n",
    "                                      suffixes=('_survey','_demo'))\n",
    "print demos_survey_long.shape\n",
    "demos_survey_long.head(3)"
   ]
  },
  {
   "cell_type": "code",
   "execution_count": null,
   "metadata": {
    "collapsed": true
   },
   "outputs": [],
   "source": []
  }
 ],
 "metadata": {
  "kernelspec": {
   "display_name": "Python 2",
   "language": "python",
   "name": "python2"
  },
  "language_info": {
   "codemirror_mode": {
    "name": "ipython",
    "version": 2
   },
   "file_extension": ".py",
   "mimetype": "text/x-python",
   "name": "python",
   "nbconvert_exporter": "python",
   "pygments_lexer": "ipython2",
   "version": "2.7.12"
  }
 },
 "nbformat": 4,
 "nbformat_minor": 0
}
