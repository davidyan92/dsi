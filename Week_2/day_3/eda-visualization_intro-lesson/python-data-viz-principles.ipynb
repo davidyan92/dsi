{
 "cells": [
  {
   "cell_type": "markdown",
   "metadata": {
    "slideshow": {
     "slide_type": "notes"
    }
   },
   "source": [
    "> **Jupyter slideshow:** This notebook can be displayed as slides. To view it as a slideshow in your browser, type the following in the console:\n",
    "\n",
    "\n",
    "> `> ipython nbconvert [this_notebook.ipynb] --to slides --post serve`\n",
    "\n",
    "\n",
    "> To toggle off the slideshow cell formatting, click the `CellToolbar` button, then `View --> Cell Toolbar --> None`."
   ]
  },
  {
   "cell_type": "markdown",
   "metadata": {
    "slideshow": {
     "slide_type": "slide"
    }
   },
   "source": [
    "<img src=\"http://imgur.com/1ZcRyrc.png\" style=\"float: left; margin: 20px; height: 55px\">\n",
    "\n",
    "## Principles of Data Visualization with Python\n",
    "\n",
    "_Author: Dave Yerrington | DSI-SF_\n",
    "\n",
    "---\n",
    "\n",
    "\n",
    "### Learning Objectives\n",
    "*After this lesson, you will be able to:*\n",
    "- Describe the characteristics of a great data visualization.\n"
   ]
  },
  {
   "cell_type": "markdown",
   "metadata": {
    "slideshow": {
     "slide_type": "slide"
    }
   },
   "source": [
    "### Lesson Guide\n",
    "\n",
    "- [Why Use Data Visualization?](#why_data_viz)\n",
    "- [Anscombe's Quartet](#anscombe)\n",
    "- [Attributes of Good Visualization](#viz_attr)\n",
    "- [Choosing the Right Chart](#chart_choice)\n",
    "- [Independent Research](#independent_research)\n",
    "- [Conclusion](#conclusion)\n"
   ]
  },
  {
   "cell_type": "markdown",
   "metadata": {
    "slideshow": {
     "slide_type": "slide"
    }
   },
   "source": [
    "<a id='why_data_viz'></a>\n",
    "\n",
    "### Discussion: Why Use Data Visualization?\n",
    "\n",
    "---\n",
    "\n",
    "With your table, discuss some of the ways you have used or enjoyed data visualization. Why do you think data visualization is useful? Why is it important?\n"
   ]
  },
  {
   "cell_type": "markdown",
   "metadata": {
    "slideshow": {
     "slide_type": "slide"
    }
   },
   "source": [
    "### Why Use Data Visualization?\n",
    "\n",
    "---\n",
    "\n",
    "Because of the way the human brain processes information, charts or graphs that visualize large amounts of complex data are easier to understand than spreadsheets or reports. \n",
    "\n",
    "Data visualization is a quick, easy way to convey concepts in a universal  manner — and you can experiment with different scenarios by making slight adjustments.\n",
    "\n",
    "Here's a helpful overview of the importance of data visualization:\n",
    "\n",
    "[SAS: Data Viz](http://www.sas.com/en_us/insights/big-data/data-visualization.html)"
   ]
  },
  {
   "cell_type": "code",
   "execution_count": 1,
   "metadata": {
    "collapsed": false,
    "slideshow": {
     "slide_type": "slide"
    }
   },
   "outputs": [
    {
     "data": {
      "text/html": [
       "<div>\n",
       "<table border=\"1\" class=\"dataframe\">\n",
       "  <thead>\n",
       "    <tr style=\"text-align: right;\">\n",
       "      <th></th>\n",
       "      <th>volume_sold</th>\n",
       "      <th>2015_margin</th>\n",
       "      <th>2015_q1_sales</th>\n",
       "      <th>2016_q1_sales</th>\n",
       "    </tr>\n",
       "  </thead>\n",
       "  <tbody>\n",
       "    <tr>\n",
       "      <th>0</th>\n",
       "      <td>18.420760</td>\n",
       "      <td>93.802281</td>\n",
       "      <td>337166.53</td>\n",
       "      <td>337804.05</td>\n",
       "    </tr>\n",
       "    <tr>\n",
       "      <th>1</th>\n",
       "      <td>4.776510</td>\n",
       "      <td>21.082425</td>\n",
       "      <td>22351.86</td>\n",
       "      <td>21736.63</td>\n",
       "    </tr>\n",
       "    <tr>\n",
       "      <th>2</th>\n",
       "      <td>16.602401</td>\n",
       "      <td>93.612494</td>\n",
       "      <td>277764.46</td>\n",
       "      <td>306942.27</td>\n",
       "    </tr>\n",
       "    <tr>\n",
       "      <th>3</th>\n",
       "      <td>4.296111</td>\n",
       "      <td>16.824704</td>\n",
       "      <td>16805.11</td>\n",
       "      <td>9307.75</td>\n",
       "    </tr>\n",
       "    <tr>\n",
       "      <th>4</th>\n",
       "      <td>8.156023</td>\n",
       "      <td>35.011457</td>\n",
       "      <td>54411.42</td>\n",
       "      <td>58939.90</td>\n",
       "    </tr>\n",
       "  </tbody>\n",
       "</table>\n",
       "</div>"
      ],
      "text/plain": [
       "   volume_sold  2015_margin  2015_q1_sales  2016_q1_sales\n",
       "0    18.420760    93.802281      337166.53      337804.05\n",
       "1     4.776510    21.082425       22351.86       21736.63\n",
       "2    16.602401    93.612494      277764.46      306942.27\n",
       "3     4.296111    16.824704       16805.11        9307.75\n",
       "4     8.156023    35.011457       54411.42       58939.90"
      ]
     },
     "execution_count": 1,
     "metadata": {},
     "output_type": "execute_result"
    }
   ],
   "source": [
    "# Check out my awesome text-based data viz below:\n",
    "import pandas as pd\n",
    "\n",
    "df = pd.read_csv(\"./datasets/sales_info.csv\")\n",
    "df.head()"
   ]
  },
  {
   "cell_type": "markdown",
   "metadata": {
    "slideshow": {
     "slide_type": "fragment"
    }
   },
   "source": [
    "How useful are our basic metrics: median, mean, mode? What happens if they're the same?"
   ]
  },
  {
   "cell_type": "markdown",
   "metadata": {
    "slideshow": {
     "slide_type": "slide"
    }
   },
   "source": [
    "<a id='anscombe'></a>\n",
    "\n",
    "### Anscombe's Quartet\n",
    "\n",
    "---\n",
    "\n",
    "Below are the summary statistics for four plots. What do you think the visualization for each plot would look like? \n",
    "\n",
    "![summary statistics for four different plots](./assets/images/anscombs%20quartet.png)"
   ]
  },
  {
   "cell_type": "markdown",
   "metadata": {
    "slideshow": {
     "slide_type": "slide"
    }
   },
   "source": [
    "You can probably already guess what the answer is: Although the four plots have the same summary statistics, \n",
    "they are actually completely different. This can be seen when we visualize them together. \n",
    "\n",
    "![anscomb's quartet](./assets/images/anscombs%20quartert%20visualization.png)"
   ]
  },
  {
   "cell_type": "markdown",
   "metadata": {
    "slideshow": {
     "slide_type": "slide"
    }
   },
   "source": [
    "These descriptive statistics come from a data set contructed in 1973 by the statistician **Francis Anscombe**. It is a classic demonstration of the importance of data visualization.\n",
    "\n",
    "- It highlights the failures of summary statistics.\n",
    "- It shows the effect of outliers on statistical properties.\n",
    "- Anscombe's intention was to attack the impression among statisticians that \"numerical calculations are exact, but graphs are rough.\""
   ]
  },
  {
   "cell_type": "markdown",
   "metadata": {
    "slideshow": {
     "slide_type": "slide"
    }
   },
   "source": [
    "<a id='viz_attr'></a>\n",
    "\n",
    "### Attributes of Good Visualization\n",
    "\n",
    "---\n",
    "\n",
    "What are some attributes you think are important for data visualizations to have? \n",
    "\n",
    "Let's take a look at what Jeffrey Shaffer, who teaches data visualization at the University of Cincinnati, thinks:\n",
    "\n",
    "![](./assets/images/data%20attributes.png)\n",
    "\n",
    "Interestingly, some attributes have more of an effect on our brains than others. The ones we tend to focus on most are position, then color, then size."
   ]
  },
  {
   "cell_type": "markdown",
   "metadata": {
    "collapsed": false,
    "slideshow": {
     "slide_type": "slide"
    }
   },
   "source": [
    "Let's take a look at three visualizations. Which one catches your attention most? Why?\n",
    "\n",
    "![](./assets/images/mixed%20shapes.png)\n",
    "\n",
    "![](./assets/images/squares%20and%20circles.png)\n",
    "\n",
    "![](./assets/images/color.png)\n"
   ]
  },
  {
   "cell_type": "markdown",
   "metadata": {
    "slideshow": {
     "slide_type": "slide"
    }
   },
   "source": [
    "Let's focus on color for a moment. Generally, in data visualizations, you’re going to use color in one of three ways: sequential, divergent, or categorical. \n",
    "\n",
    "Sequential colors are used to show values ordered from low to high.\n",
    "\n",
    "![sequential](./assets/images/sequential.png)"
   ]
  },
  {
   "cell_type": "markdown",
   "metadata": {
    "collapsed": true,
    "slideshow": {
     "slide_type": "slide"
    }
   },
   "source": [
    "Divergent colors are used to show ordered values that have a critical midpoint, like an average or zero.\n",
    "\n",
    "![divergent](./assets/images/divergent.png)"
   ]
  },
  {
   "cell_type": "markdown",
   "metadata": {
    "collapsed": true,
    "slideshow": {
     "slide_type": "slide"
    }
   },
   "source": [
    "Categorical colors are used to distinguish data that falls into distinct groups.\n",
    "\n",
    "![categorical](./assets/images/categorical.png)\n",
    "\n",
    "[Shaffer: Data visualization attributes](http://mediashift.org/2016/02/checklist-does-your-data-visualization-say-what-you-think-it-says/)"
   ]
  },
  {
   "cell_type": "markdown",
   "metadata": {
    "slideshow": {
     "slide_type": "slide"
    }
   },
   "source": [
    "<a id='chart_choice'></a>\n",
    "\n",
    "### Choosing the Right Chart\n",
    "\n",
    "---\n",
    "\n",
    "\n",
    "In addition to considering data visualization attributes, you should also carefully choose the type of chart or graph you'll use. Let's look at a few commonly used charts and graphs.\n",
    "\n",
    "![](http://www.comicsenglish.com/wp-content/uploads/2013/06/xkcd-stove_ownership.png)\n"
   ]
  },
  {
   "cell_type": "markdown",
   "metadata": {
    "slideshow": {
     "slide_type": "slide"
    }
   },
   "source": [
    "### The Bar Chart\n",
    "\n",
    "Bar charts are one of the most common ways of visualizing data. Why? Because they make it easy to compare information, revealing highs and lows quickly. Bar charts are most effective when you have numerical data that splits neatly into different categories.\n",
    "\n",
    "![](./assets/images/bar%20chart.png)"
   ]
  },
  {
   "cell_type": "markdown",
   "metadata": {
    "slideshow": {
     "slide_type": "slide"
    }
   },
   "source": [
    "### The Pie Chart\n",
    "\n",
    "Pie charts are the most commonly misused chart type. They should be only used to show relative proportions or percentages of information. \n",
    "\n",
    "If you want to compare data, leave it to bars or stacked bars. If your viewer has to work to translate pie wedges into relevant data or compare pie charts to one another, the key points you're trying to convey might go unnoticed. \n",
    "\n",
    "![](./assets/images/pie%20chart.jpg)\n",
    "[pie chart](http://www.tv.com/news/learning-about-the-2013-pilot-season-through-pie-charts-136243394841/)"
   ]
  },
  {
   "cell_type": "markdown",
   "metadata": {
    "slideshow": {
     "slide_type": "slide"
    }
   },
   "source": [
    "### The Best Use of a Pie Chart\n",
    "\n",
    "![](http://i.imgur.com/uhTf6Ek.jpg)"
   ]
  },
  {
   "cell_type": "markdown",
   "metadata": {
    "slideshow": {
     "slide_type": "slide"
    }
   },
   "source": [
    "### The Scatter Plot\n",
    "\n",
    "Scatter plots are a great way to give you a sense of trends, concentrations, and outliers. This will provide a clear idea of what you may want to investigate further. \n",
    "\n",
    "![](./assets/images/scatter%20plot.png)\n",
    "[scatter plot](https://en.wikibooks.org/wiki/Statistics/Displaying_Data/Scatter_Graphs)"
   ]
  },
  {
   "cell_type": "markdown",
   "metadata": {
    "slideshow": {
     "slide_type": "slide"
    }
   },
   "source": [
    "## The Histogram \n",
    "\n",
    "Histograms are useful when you want to see how your data are distributed across groups.\n",
    "\n",
    "![](./assets/images/histogram%20chart.png)\n",
    "\n",
    "This is not an all-inclusive list of chart and graph types, but the point is to remember that you have options. You should consider which one is most appropriate for representing a particular data set. \n",
    "\n",
    "[charts and graphs](https://drive.google.com/file/d/0Bx2SHQGVqWasT1l4NWtLclJJcWM/view)"
   ]
  },
  {
   "cell_type": "markdown",
   "metadata": {
    "slideshow": {
     "slide_type": "slide"
    }
   },
   "source": [
    "### Other Great Data Visualization Resources:\n",
    "\n",
    "https://github.com/mbostock/d3/wiki/Gallery"
   ]
  },
  {
   "cell_type": "markdown",
   "metadata": {
    "slideshow": {
     "slide_type": "slide"
    }
   },
   "source": [
    "<a id='independent_research'></a>\n",
    "\n",
    "### Independent Research: Python Plotting with `pandas` and `seaborn`\n",
    "\n",
    "---\n",
    "\n",
    "Open up the [independent research notebook](./explore-python-data-viz.ipynb) to explore plotting the sales data with Python. \n"
   ]
  },
  {
   "cell_type": "markdown",
   "metadata": {
    "slideshow": {
     "slide_type": "slide"
    }
   },
   "source": [
    "<a id='conclusion'></a>\n",
    "\n",
    "### Conclusion\n",
    "\n",
    "---\n",
    "\n",
    "- Why is data visualization so important? \n",
    "- What are some considerations to keep in mind when creating a visualization? \n",
    "- Describe when you would use the following types of charts or graphs:\n",
    "    - Bar chart\n",
    "    - Pie chart\n",
    "    - Scatter plot\n",
    "    - Histogram "
   ]
  }
 ],
 "metadata": {
  "anaconda-cloud": {},
  "celltoolbar": "Slideshow",
  "kernelspec": {
   "display_name": "Python 2",
   "language": "python",
   "name": "python2"
  },
  "language_info": {
   "codemirror_mode": {
    "name": "ipython",
    "version": 2
   },
   "file_extension": ".py",
   "mimetype": "text/x-python",
   "name": "python",
   "nbconvert_exporter": "python",
   "pygments_lexer": "ipython2",
   "version": "2.7.12"
  }
 },
 "nbformat": 4,
 "nbformat_minor": 0
}
