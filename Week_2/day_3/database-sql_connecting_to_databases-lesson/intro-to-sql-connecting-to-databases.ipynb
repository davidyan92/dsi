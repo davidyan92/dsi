{
 "cells": [
  {
   "cell_type": "markdown",
   "metadata": {},
   "source": [
    "<img src=\"http://imgur.com/1ZcRyrc.png\" style=\"float: left; margin: 20px; height: 55px\">\n",
    "\n",
    "# Intro to SQL: Connecting to Databases\n",
    "\n",
    "_Authors: Dave Yerrington (SF), Fancesco Mosconi (SF)_\n",
    "\n",
    "---\n",
    "\n",
    "### Learning Objectives\n",
    "*After this lesson, you will be able to:*\n",
    "- Connect to a local or remote database using the command line, Python, or `pandas`.\n",
    "- Connect to a local or remote database using SQLite Manager (for SQLite) or Postico (for POSTGRES).\n",
    "- Perform queries using SELECT.\n",
    "- Perform simple aggregations suing COUNT and MAX/MIN/SUM."
   ]
  },
  {
   "cell_type": "markdown",
   "metadata": {},
   "source": [
    "### Lesson Guide\n",
    "- [Connecting to a Local Database](#connecting-to-localdb)\n",
    "    - [SQLite](#sqlite)\n",
    "    - [Interacting with SQLite](#interacting-sqlite)\n",
    "    - [Common SQL Command Patterns](#command-patterns)\n",
    "    - [SQLite Command Line Utility](#sqlite-command-line)\n",
    "    - [Creating Tables and Adding Columns](#sqlite-tables-columns)\n",
    "    - [Adding Data](#adding-data)\n",
    "    - [Updating Records](#updating-records)\n",
    "    - [Removing Records](#removing-records)\n",
    "- [Connecting to a Remote Database](#remote-database)\n",
    "    - [PostgreSQL](#postgresql)\n",
    "- [Comparison of SQL Commands](#comparison-commands)\n",
    "- [SQLite from Python](#python-sqlite)\n",
    "    - [SQLite3 Package](#sqlite3)\n",
    "    - [SQLite3: Adding Data](#sqlite3-adding)\n",
    "    - [Adding Data From a `.csv` File](#adding-csv)\n",
    "- [`pandas` Connector](#pandas-connector)\n",
    "    - [Writing Data Into a Database](#pandas-writing)\n",
    "    - [Reading Data From a Database](#pandas-reading)\n",
    "- [SQL Syntax](#sql-syntax)\n",
    "    - [Aggregations](#aggregations)\n",
    "- [Independent Practice: Querying a Database](#ind-practice)"
   ]
  },
  {
   "cell_type": "markdown",
   "metadata": {},
   "source": [
    "<a name=\"connecting-to-localdb\"></a>\n",
    "## Connecting to a Local Database\n",
    "\n",
    "---\n",
    "\n",
    "A database can be local or remote; it can span a single machine or be distributed with replicated data over several. The latter configuration is called _sharding_.\n",
    "\n",
    "Let's start by connecting to a local _SQLite_ database.\n",
    "\n",
    "<a id='sqlite'></a>\n",
    "\n",
    "### SQLite\n",
    "\n",
    "**[SQLite](https://sqlite.org/)** is a database software package built on the Structured Query Language [(SQL)](https://www.sqlcourse.com/intro.html). It is similar to other SQL databases, such as [PostgreSQL](http://www.postgresql.org/), [MySQL](https://www.mysql.com/), Oracle, and Microsoft SQL Server, except it is *file-based* rather than *server-based*. This makes it easy to set up and use for small projects but less suitable for production environments. Once you are familiar with SQLite, the same ideas and similar syntax can be applied to other SQL databases.\n",
    "\n",
    "Version 3 of SQLite is bundled with most Python distributions (including our Anaconda distribution). There are two options we recommend for browsing SQLite3 databases:\n",
    "\n",
    "- [SQLite Browser](http://sqlitebrowser.org/), A free, cross-platform solution.\n",
    "- [SQLite Manager](https://addons.mozilla.org/en-US/firefox/addon/sqlite-manager/?src), a Firefox add-on for viewing SQLite database files via a simple GUI.\n",
    "\n",
    "\n",
    "_We'll be using the SQLite Browser in this lesson. If you haven't already, install SQLite Browser._  \n",
    "\n",
    "    brew cask install sqlitebrowser"
   ]
  },
  {
   "cell_type": "markdown",
   "metadata": {},
   "source": [
    "<a id='interacting-sqlite'></a>\n",
    "\n",
    "### Interacting with SQLite\n",
    "\n",
    "There are multiple ways of interacting with a SQLite database, including:\n",
    "\n",
    "1. SQLite command line utility\n",
    "2. Python's `sqlite3` package\n",
    "3. `pandas`' SQL Interface\n",
    "4. High-level ORMs (e.g., SQLAlchemy, Django ORM, etc.)\n",
    "\n",
    "Let's start with the first method. All of these methods provide some form of wrapper, or set of convenience functions, for interacting with SQLite. Behind the scenes, the Structured Query Language (SQL) itself defines the interface to the database software. This underlying SQL syntax will be visible to a greater or lesser degree, depending on the method chosen."
   ]
  },
  {
   "cell_type": "markdown",
   "metadata": {},
   "source": [
    "<a id='command-patterns'></a>\n",
    "\n",
    "### Common SQL Command Patterns\n",
    "\n",
    "The SQL command set has a rich syntax with numerous options, but most of the commonly used commands follow a few simple patterns. A basic familiarity of these patterns is helpful when working in SQL:\n",
    "\n",
    "    CREATE TABLE ...\n",
    "    ALTER TABLE ... ADD COLUMN ...\n",
    "    INSERT INTO ... VALUES ...\n",
    "    UPDATE ... SET ... WHERE ...\n",
    "    SELECT ... FROM ... WHERE ...\n",
    "    SELECT ... FROM ... JOIN ... ON ...\n",
    "    DELETE FROM ... WHERE ..."
   ]
  },
  {
   "cell_type": "markdown",
   "metadata": {},
   "source": [
    "<a id='sqlite-command-line'></a>\n",
    "\n",
    "### SQLite Command Line Utility\n",
    "\n",
    "The first method we'll explore is connecting to SQLite via the built-in [command line utility](https://www.sqlite.org/sqlite.html).  \n",
    "\n",
    "> Note: The commands in this section should be executed within your normal terminal shell.\n",
    "\n",
    "To start a new session of the interpreter, simply open your terminal and type `sqlite3`, followed by the name of the database file. If the file does not yet exist, SQLite will create it.\n",
    "\n",
    "    $ sqlite3 test1.sqlite\n",
    "\n",
    "    SQLite version 3.13.0 2016-05-18 10:57:30\n",
    "    Enter \".help\" for usage hints.\n",
    "    sqlite>\n",
    "\n",
    "Notice that your terminal prompt changes to `sqlite>`, indicating that you are now entering commands into the SQLite command line utility. Take a quick look at the `help` command:\n",
    "\n",
    "    sqlite> .help\n",
    "Display the current databases — you should see the new file `test1.db`:\n",
    "\n",
    "    sqlite> .databases\n",
    "    \n",
    "In order to execute a SQL statement, you will need to use the semicolon syntax (';') to designate the end of a statement. The statement below used to appear when initiating older versions of SQLite3 in terminal.\n",
    "    \n",
    "    \"Enter SQL statements terminated with a ';'.\"\n",
    " "
   ]
  },
  {
   "cell_type": "markdown",
   "metadata": {},
   "source": [
    "<a id='sqlite-tables-columns'></a>\n",
    "\n",
    "### Creating Tables and Adding Columns\n",
    "\n",
    "Create a table called `table1` with a single column, `field1`, containing an INTEGER PRIMARY KEY.\n",
    "\n",
    "    sqlite> CREATE TABLE table1 (field1 INTEGER PRIMARY KEY);\n",
    "\n",
    "Add a few more columns to `table1`.\n",
    "\n",
    "    sqlite> ALTER TABLE table1 ADD COLUMN field2 VARCHAR(16);\n",
    "    sqlite> ALTER TABLE table1 ADD COLUMN field3 REAL;\n",
    "    sqlite> ALTER TABLE table1 ADD COLUMN field4 TEXT;\n",
    "\n",
    "Notice the different field types in the ALTER TABLE commands. SQLite supports several different [field types](https://www.sqlite.org/datatype3.html), including INTEGERS, variable length character fields, or VARCHAR (with a max length), TEXT fields, and 'REALS,' which are used to store floating point numbers.\n",
    "\n",
    "Next, verify that the table was created.\n",
    "\n",
    "    sqlite> .tables\n",
    "\n",
    "You can check the schema of the table using `.schema`, which shows the commands that would be necessary to create the database tables from scratch.  \n",
    "\n",
    "    sqlite> .schema\n",
    "\n",
    "Notice that, in this case, our `table1` could have been created with a single command rather than by adding each column individually."
   ]
  },
  {
   "cell_type": "markdown",
   "metadata": {},
   "source": [
    "<a id='adding-data'></a>\n",
    "\n",
    "### Adding data\n",
    "\n",
    "Let's add some data:\n",
    "\n",
    "    sqlite> INSERT INTO table1 VALUES (1, 'Henry James', 42, '75 Mission Street, San Francisco, CA');\n",
    "    sqlite> INSERT INTO table1 VALUES (2, 'Carol James', 40, '75 Mission Street, San Francisco, CA');\n",
    "    sqlite> INSERT INTO table1 VALUES (3, 'Jesse James', 12, '75 Mission Street, San Francisco, CA');\n",
    "\n",
    "Notice that the first column has unique values — this is a requirement for the PRIMARY KEY (PK) column. If we try to add a record using an existing PK value, we'll get an error.\n",
    "\n",
    "    sqlite> INSERT INTO table1 VALUES (3, 'Julie James', 10, '75 Mission Street, San Francisco, CA');\n",
    "    Error: UNIQUE constraint failed: table1.field1\n",
    "\n",
    "Fortunately, SQLite has some built-in functionality to auto-increment the PK value — just set the value of the PK field to NULL while running the INSERT command, and it will automatically be set to a valid value.\n",
    "\n",
    "    sqlite> INSERT INTO table1 VALUES (NULL, 'Julie James', 10, '75 Mission Street, San Francisco, CA');\n",
    "\n",
    "Now that we have some data, take a look at the database using the **SQLite Browser**.\n",
    "\n",
    "1. Open the app.\n",
    "2. Open SQLite3 file \"Open Database\" from the file menu. \n",
    "   - _This file will be most likely be in the directory you were in when we started using `sqlite3` commands._\n",
    "3. After connecting to the database, click on \"Browse Data\" in the tabbed UI.\n",
    "\n",
    "Notice that the value in `field1` for the \"Julie James\" record has been automatically set to 4."
   ]
  },
  {
   "cell_type": "markdown",
   "metadata": {},
   "source": [
    "<a id='updating-records'></a>\n",
    "\n",
    "### Updating Records\n",
    "\n",
    "Suppose we need to update an existing record with new data — e.g., maybe Julie James is 9. For this, we use the UPDATE command.\n",
    "\n",
    "    sqlite> UPDATE table1 SET field3=9 WHERE field1=4;"
   ]
  },
  {
   "cell_type": "markdown",
   "metadata": {},
   "source": [
    "<a id='removing-records'></a>\n",
    "### Removing Records\n",
    "\n",
    "To remove records, use the DELETE command.\n",
    "\n",
    "    sqlite> DELETE FROM table1 WHERE field2 like '%Jesse%';\n",
    "\n",
    "Use SQLiteManager to verify that the \"Jesse James\" record has been removed. To exit the SQLite interpreter, type `.exit`.\n",
    "\n",
    "    sqlite>  .exit"
   ]
  },
  {
   "cell_type": "markdown",
   "metadata": {},
   "source": [
    "<a name=\"remote-database\"></a>\n",
    "## Connecting to a Remote Database\n",
    "\n",
    "---\n",
    "\n",
    "> Instructor Note: You will need to update this section with appropriate AWS configuration settings!\n",
    "\n",
    "<a id='postgresql'></a>\n",
    "### PostgreSQL\n",
    "\n",
    "**[PostgreSQL](http://www.postgresql.org/)** is a powerful SQL-based relational database.\n",
    "\n",
    "#### PostgreSQL Syntax\n",
    "\n",
    "GA provides a PostgreSQL database instance at the following address:\n",
    "\n",
    "You can connect to it using:\n",
    "\n",
    "> ### OSX Users\n",
    "> For OSX, we install PostgreSQL via the Postgres.app package from [postgresapp.com](http://postgresapp.com/).\n",
    "> Also, for easy access, add this alias to your `.bash_profile`:\n",
    ">\n",
    "> **Edit the file:** <br>\n",
    "> `sudo nano ~/.bash_profile`\n",
    ">\n",
    "> **Add this line:** <br>\n",
    "> `alias psql=/Applications/Postgres.app/Contents/Versions/9.5/bin/psql`  \n",
    ">> _\"`control+O`\"_ to 'WriteOut'  \n",
    ">> _\"`return/enter`\"_ to confirm  \n",
    ">> _\"`control+X`\"_ to exit  \n",
    ">\n",
    "> **Reload your profile:** <br>\n",
    "> `source ~/.bash_profile`\n",
    ">\n",
    "> ** Connect to GA's PostgreSQL DB**  \n",
    "> `psql -h dsi.c20gkj5cvu3l.us-east-1.rds.amazonaws.com -p 5432 -U dsi_student titanic`  \n",
    "    Password: gastudents\n",
    "\n",
    "PosgreSQL accepts the same syntax as SQLite, with exception of a few system commands. Here are the most common:\n",
    "\n",
    "- `\\q`: Quit/exit.\n",
    "- `\\c __database__`: Connect to a database.\n",
    "- `\\d __table__`: Show table definition, including triggers.\n",
    "- `\\dt *.*`: List tables from all schemas (if `*.*` is omitted, this will only show SEARCH_PATH ones).\n",
    "- `\\l`: List databases.\n",
    "- `\\dn`: List schemas.\n",
    "- `\\df`: List functions.\n",
    "- `\\dv`: List views.\n",
    "- `\\dt`: List tables.\n",
    "- `\\df+ __function`: Show function SQL code.\n",
    "- `\\x`: Pretty-format query results instead displaying not-so-useful ASCII tables.\n",
    "\n",
    "\n",
    "Suggestions:\n",
    "- If a command is run with an `-E` flag, it will describe the underlaying queries of the `\\` commands (good for learning!).\n",
    "- Most `\\d` commands support additional parameters of `__schema__.name__` and accept wildcards like `*.*`."
   ]
  },
  {
   "cell_type": "markdown",
   "metadata": {},
   "source": [
    "<a id='comparison-commands'></a>\n",
    "## Comparison of SQL Commands\n",
    "\n",
    "---\n",
    "\n",
    "\n",
    "|Task|MySQL|PostgreSQL|SQLite|\n",
    "|---|---|---|---|\n",
    "|Connect to a database|mysql &lt;dbname&gt;| psql &lt;dbname&gt;|sqlite3 &lt;filename&gt;|\n",
    "|Client help|help contents|\\?|.help|\n",
    "|SQL help|help contents|\\h|n/a|\n",
    "|List databases|SHOW DATABASES;|\\l|.databases|\n",
    "|Change database|USE &lt;dbname&gt;|\\c <dbname&gt;|n/a|\n",
    "|List tables|SHOW TABLES;|\\dt|.tables|\n",
    "|Show table|info DESCRIBE &lt;tablename&gt;|\\d &lt;tablename&gt;|.schema &lt;tablename&gt;|\n",
    "|Load data|LOAD DATA INFILE &lt;file&gt; |\\i &lt;file&gt;|.import &lt;file&gt; &lt;table&gt;|\n",
    "|Export data|SELECT ... INTO OUTFILE &lt;file&gt;|\\o &lt;file&gt;|.dump &lt;table&gt;|\n",
    "|Exit the client|quit (or exit)| \\q|.exit|"
   ]
  },
  {
   "cell_type": "markdown",
   "metadata": {},
   "source": [
    "<a name=\"intermission\"></a>\n",
    "\n",
    "## Intermission\n",
    "\n",
    "---\n",
    "\n",
    "We have seen how to connect to a local SQLite database and a remote postgreSQL database.\n",
    "\n",
    "**Check:** What SQL operations have we learned so far?\n",
    "\n",
    "**Check:** What commands have we learned for SQLite and PostgreSQL?\n"
   ]
  },
  {
   "cell_type": "markdown",
   "metadata": {},
   "source": [
    "<a name=\"python-sqlite\"></a>\n",
    "## Interacting with SQLite from Python\n",
    "\n",
    "---\n",
    "\n",
    "<a id='sqlite3'></a>\n",
    "### The SQLite3 Package\n",
    "\n",
    "The command line utility can be useful for basic SQL tasks, but, because we're using Python, it is often easier to access SQLite directly through Python code. We can use the Python [SQLite3](https://docs.python.org/2.7/library/sqlite3.html) package for just this purpose.\n",
    "\n",
    "**Below, we open a connection to a SQLite database file using Python. Like before, if the file does not already exist, it will automatically be created.**"
   ]
  },
  {
   "cell_type": "code",
   "execution_count": 1,
   "metadata": {},
   "outputs": [],
   "source": [
    "import sqlite3\n",
    "sqlite_db = '/Users/david.yan/test1.sqlite'\n",
    "conn = sqlite3.connect(sqlite_db) \n",
    "c = conn.cursor()\n"
   ]
  },
  {
   "cell_type": "markdown",
   "metadata": {},
   "source": [
    "_Note: The `.cursor()` method is necessary because, in many DB structures, a cursor is needed to iterate over the rows of data. The cursor also functions as a means of fetching information when using SQLite3. _"
   ]
  },
  {
   "cell_type": "markdown",
   "metadata": {},
   "source": [
    "**The syntax to create a table is similar to the console, only now we use the `.execute()` method of the cursor object (`c`) we just created:**"
   ]
  },
  {
   "cell_type": "code",
   "execution_count": 2,
   "metadata": {},
   "outputs": [],
   "source": [
    "c.execute('CREATE TABLE houses (field1 INTEGER PRIMARY KEY, sqft INTEGER, bdrms INTEGER, age INTEGER, price INTEGER);')\n",
    "\n",
    "# Save (commit) the changes.\n",
    "conn.commit()"
   ]
  },
  {
   "cell_type": "markdown",
   "metadata": {},
   "source": [
    "With the database saved, the table should now be viewable using SQLiteManager.\n",
    "\n",
    "<a id='sqlite3-adding'></a>\n",
    "### SQLite3: Adding Data\n",
    "\n",
    "Because we're back in Python, we can now use regular programming techniques in conjunction with the SQLite connection.  In particular, the cursor's `.execute()` method supports value substitution using the `?` character, which makes adding multiple records a bit easier.\n",
    "\n",
    "See the [docs](https://docs.python.org/2.7/library/sqlite3.html) for more details."
   ]
  },
  {
   "cell_type": "code",
   "execution_count": 3,
   "metadata": {
    "collapsed": true
   },
   "outputs": [],
   "source": [
    "last_sale = (None, 4000, 5, 22, 619000)\n",
    "c.execute('INSERT INTO houses VALUES (?,?,?,?,?)', last_sale)\n",
    "\n",
    "### Remember to commit the changes.\n",
    "conn.commit()"
   ]
  },
  {
   "cell_type": "markdown",
   "metadata": {},
   "source": [
    "Notice that, in this syntax, we use Python's `None` value, rather than `NULL`, to trigger SQLite and auto-increment the Primary Key. \n",
    "\n",
    "There is a related cursor method, `.executemany()`, which takes an array of tuples and loops through them, substituting one tuple at a time."
   ]
  },
  {
   "cell_type": "code",
   "execution_count": 4,
   "metadata": {
    "collapsed": true
   },
   "outputs": [],
   "source": [
    "recent_sales = [\n",
    "   (None, 2390, 4, 34, 319000),\n",
    "   (None, 1870, 3, 14, 289000),\n",
    "   (None, 1505, 3, 90, 269000),\n",
    " ]\n",
    "\n",
    "c.executemany('INSERT INTO houses VALUES (?, ?, ?, ?, ?)', recent_sales)\n",
    "\n",
    "conn.commit()"
   ]
  },
  {
   "cell_type": "markdown",
   "metadata": {},
   "source": [
    "Once again, use SQLite Browser to verify the database's contents. \n",
    "\n",
    "![SQLite Manager](https://snag.gy/xc8W5M.jpg)\n",
    "\n",
    "<a id='adding-csv'></a>\n",
    "\n",
    "### Adding Data From a `.csv` File\n",
    "\n",
    "Next, let's load our `housing.csv` data into an array and then `INSERT` those records into the database. In this example, we'll use the `numpy` `.genfromtxt()` function to read the file and parse its contents. "
   ]
  },
  {
   "cell_type": "code",
   "execution_count": 10,
   "metadata": {},
   "outputs": [],
   "source": [
    "from numpy import genfromtxt\n",
    "\n",
    "### import into nparray of ints, then convert to list of lists\n",
    "data = (genfromtxt('datasets/housing-data.csv', dtype='i8', \n",
    "                     delimiter=',', skip_header=1)).tolist()\n",
    "\n",
    "### append a None value to beginning of each sub-list\n",
    "for d in data:\n",
    "     d.insert(0, None)\n"
   ]
  },
  {
   "cell_type": "code",
   "execution_count": 11,
   "metadata": {
    "collapsed": true
   },
   "outputs": [],
   "source": [
    "### Loop through data, running an INSERT on each record (i.e., sublist).\n",
    "for d in data:\n",
    "    c.execute('INSERT INTO houses VALUES (?, ?, ?, ?, ?)', d)\n",
    "\n",
    "conn.commit()"
   ]
  },
  {
   "cell_type": "markdown",
   "metadata": {},
   "source": [
    "> **Remember:** All elements in a `numpy` array must be the same data type, so, if we want to \"add a `None`\" to each row, we would need to work around this. Lists can contain mixed types, so this is one approach.\n",
    "\n",
    "Still, in this case, the value we're adding is the same for all records, so we can simply use a `None` in the INSERT statement.\n",
    "\n",
    "**How do you delete data?**"
   ]
  },
  {
   "cell_type": "code",
   "execution_count": 13,
   "metadata": {},
   "outputs": [
    {
     "data": {
      "text/plain": [
       "15"
      ]
     },
     "execution_count": 13,
     "metadata": {},
     "output_type": "execute_result"
    }
   ],
   "source": [
    "### Similar syntax as before.\n",
    "results = c.execute(\"SELECT * FROM houses WHERE bdrms = 4\")\n",
    "\n",
    "### Here, results is a cursor object — use `.fetchall()` to extract a list.\n",
    "results.fetchall()"
   ]
  },
  {
   "cell_type": "markdown",
   "metadata": {},
   "source": [
    "<a id='pandas-connector'></a>\n",
    "\n",
    "## `pandas` Connector\n",
    "\n",
    "---\n",
    "\n",
    "While databases provide many analytical capabilities, it's often useful to pull data back into Python for more flexible programming. Large, fixed operations would be more efficient in a database, but `pandas` allows for interactive processing.\n",
    "\n",
    "For example, imagine you want to aggregate nightly logins or sales to present a report or dashboard. Most likely, you wouldn't be changing or operating on a large data set. You could perform this aggregation efficiently within a database.\n",
    "\n",
    "However, if we want to investigate login or sales data further and ask more interactive questions, using Python would be more practical."
   ]
  },
  {
   "cell_type": "code",
   "execution_count": 14,
   "metadata": {
    "collapsed": true
   },
   "outputs": [],
   "source": [
    "import pandas as pd"
   ]
  },
  {
   "cell_type": "markdown",
   "metadata": {},
   "source": [
    "`pandas` can connect to most relational databases. In this demonstration, we'll create and connect to a SQLite database.\n",
    "\n",
    "SQLite creates portable SQL databases saved in a single file. These databases are stored efficiently and allow for  fast querying, making them ideal for small databases or ones that need to be moved across machines."
   ]
  },
  {
   "cell_type": "markdown",
   "metadata": {},
   "source": [
    "<a id='pandas-writing'></a>\n",
    "\n",
    "### Writing Data Into a Database\n",
    "\n",
    "Data in `pandas` can be loaded into a relational database. For the most part, `pandas` can use column information to infer the schema for the table it creates. In the next demo, we will use the Rossmann Store's data set."
   ]
  },
  {
   "cell_type": "code",
   "execution_count": 15,
   "metadata": {},
   "outputs": [
    {
     "data": {
      "text/html": [
       "<div>\n",
       "<style scoped>\n",
       "    .dataframe tbody tr th:only-of-type {\n",
       "        vertical-align: middle;\n",
       "    }\n",
       "\n",
       "    .dataframe tbody tr th {\n",
       "        vertical-align: top;\n",
       "    }\n",
       "\n",
       "    .dataframe thead th {\n",
       "        text-align: right;\n",
       "    }\n",
       "</style>\n",
       "<table border=\"1\" class=\"dataframe\">\n",
       "  <thead>\n",
       "    <tr style=\"text-align: right;\">\n",
       "      <th></th>\n",
       "      <th>sqft</th>\n",
       "      <th>bdrms</th>\n",
       "      <th>age</th>\n",
       "      <th>price</th>\n",
       "    </tr>\n",
       "  </thead>\n",
       "  <tbody>\n",
       "    <tr>\n",
       "      <th>0</th>\n",
       "      <td>2104</td>\n",
       "      <td>3</td>\n",
       "      <td>70</td>\n",
       "      <td>399900</td>\n",
       "    </tr>\n",
       "    <tr>\n",
       "      <th>1</th>\n",
       "      <td>1600</td>\n",
       "      <td>3</td>\n",
       "      <td>28</td>\n",
       "      <td>329900</td>\n",
       "    </tr>\n",
       "    <tr>\n",
       "      <th>2</th>\n",
       "      <td>2400</td>\n",
       "      <td>3</td>\n",
       "      <td>44</td>\n",
       "      <td>369000</td>\n",
       "    </tr>\n",
       "    <tr>\n",
       "      <th>3</th>\n",
       "      <td>1416</td>\n",
       "      <td>2</td>\n",
       "      <td>49</td>\n",
       "      <td>232000</td>\n",
       "    </tr>\n",
       "    <tr>\n",
       "      <th>4</th>\n",
       "      <td>3000</td>\n",
       "      <td>4</td>\n",
       "      <td>75</td>\n",
       "      <td>539900</td>\n",
       "    </tr>\n",
       "  </tbody>\n",
       "</table>\n",
       "</div>"
      ],
      "text/plain": [
       "   sqft  bdrms  age   price\n",
       "0  2104      3   70  399900\n",
       "1  1600      3   28  329900\n",
       "2  2400      3   44  369000\n",
       "3  1416      2   49  232000\n",
       "4  3000      4   75  539900"
      ]
     },
     "execution_count": 15,
     "metadata": {},
     "output_type": "execute_result"
    }
   ],
   "source": [
    "data = pd.read_csv('datasets/housing-data.csv', low_memory=False)  # Low_memory = Gets rid of ambigious warning... nothing to see here\n",
    "data.head()"
   ]
  },
  {
   "cell_type": "markdown",
   "metadata": {},
   "source": [
    "Data is moved to the database through the `to_sql` command, similar to the `to_csv` command.\n",
    "\n",
    "`to_sql` takes the following arguments:\n",
    "- `name`, the table name to create.\n",
    "- `con`, a connection to a database.\n",
    "- `index`, whether or not to input the index column.\n",
    "- `schema`, if we want to write a custom schema for the new table.\n",
    "- `if_exists`, what to do if the table already exists. We can overwrite it, add to it, or fail.\n",
    "    \n",
    "> ### BTW, what was with the `conn` object?  \n",
    "> We defined it in a previous example:\n",
    "> ```python\n",
    "import sqlite3\n",
    "sqlite_db = './datasets/test_db.sqlite'\n",
    "conn = sqlite3.connect(sqlite_db) \n",
    "c = conn.cursor()\n",
    "```"
   ]
  },
  {
   "cell_type": "code",
   "execution_count": 16,
   "metadata": {},
   "outputs": [],
   "source": [
    "data.to_sql('houses_pandas',             # Name of the table.\n",
    "            con=conn,                    # The handle to the file that is set up.\n",
    "            if_exists='replace',         # Overwrite, append, or fail.\n",
    "            index=False)                 # Add index as column."
   ]
  },
  {
   "cell_type": "markdown",
   "metadata": {},
   "source": [
    "<a id='pandas-reading'></a>\n",
    "\n",
    "### Reading Data From a Database\n",
    "_Result as a DataFrame_\n",
    "\n",
    "If we already have data in our database, we can use `pandas` to query it. Querying is done through the `read_sql` command in the `sql` module."
   ]
  },
  {
   "cell_type": "code",
   "execution_count": 17,
   "metadata": {},
   "outputs": [],
   "source": [
    "df = pd.read_sql('SELECT * FROM houses_pandas LIMIT 10', con=conn)"
   ]
  },
  {
   "cell_type": "markdown",
   "metadata": {},
   "source": [
    "<a name=\"sql-syntax\"></a>\n",
    "\n",
    "## SQL Syntax\n",
    "\n",
    "---\n",
    "\n",
    "### SQL Operators\n",
    "\n",
    "> Note: Each of the following can be demonstrated in `pandas` using the data we've set up above. A demo and check are included for each, but we can try out a few before we begin.\n",
    "\n",
    "#### SELECT\n",
    "\n",
    "Every query should start with `SELECT`. `SELECT` is followed by the names of the columns in the output.\n",
    "\n",
    "`SELECT` is always paired with `FROM`, which identifies the table from which we're retrieving the data.\n",
    "\n",
    "```sql\n",
    "SELECT\n",
    "<columns>\n",
    "FROM\n",
    "<table>\n",
    "```\n",
    "\n",
    "`SELECT *` returns *all* of the columns.\n",
    "\n",
    "Housing data example:\n",
    "```sql\n",
    "SELECT\n",
    "sqft, bdrms\n",
    "FROM houses_pandas;\n",
    "```\n",
    "\n",
    "**Check:** What do `sqft`, `bdrms`, and `price` refer to? What will they return?\n",
    ">\n",
    "```sql\n",
    "SELECT\n",
    "sqft, bdrms, price\n",
    "FROM houses_pandas;\n",
    "```\n",
    "\n",
    "#### WHERE\n",
    "\n",
    "`WHERE`, which follows the `FROM` clause, is used to filter tables using specific criteria.\n",
    "\n",
    "```sql\n",
    "SELECT\n",
    "<columns>\n",
    "FROM\n",
    "<table>\n",
    "WHERE\n",
    "<condition>\n",
    "```\n",
    "Example:\n",
    "```sql\n",
    "SELECT\n",
    "sqft, bdrms, age, price\n",
    "FROM houses_pandas\n",
    "WHERE bdrms = 2 and price < 250000;\n",
    "```\n",
    "\n",
    "The condition is a filter that's applied to the rows. The rows that match the condition will be included in the output.\n",
    "\n",
    "**Check:** Write a query that returns the `sqft`, `bdrms`, and `age` for houses older than 60."
   ]
  },
  {
   "cell_type": "code",
   "execution_count": null,
   "metadata": {},
   "outputs": [],
   "source": [
    "# A:"
   ]
  },
  {
   "cell_type": "markdown",
   "metadata": {},
   "source": [
    "<a name=\"aggregations\"></a>\n",
    "\n",
    "### Aggregations\n",
    "\n",
    "Aggregations (or aggregate functions) are functions in which the values of multiple rows are grouped together as an input on certain criteria to form a single value of more significant meaning or measurement. Examples are sets, bags, or lists.\n",
    "\n",
    "Aggregate funtions include:\n",
    "\n",
    "- Average (i.e., arithmetic mean)\n",
    "- Count\n",
    "- Maximum\n",
    "- Minimum\n",
    "- Median\n",
    "- Mode\n",
    "- Sum\n",
    "\n",
    "In SQL, they are performed in a `SELECT` statement like the following:\n",
    "\n",
    "```sql\n",
    "SELECT COUNT(price)\n",
    "FROM houses_pandas;\n",
    "```\n",
    "\n",
    "```sql\n",
    "SELECT AVG(sqft), MIN(price), MAX(price)\n",
    "FROM houses_pandas\n",
    "WHERE bdrms = 2;\n",
    "```"
   ]
  },
  {
   "cell_type": "code",
   "execution_count": null,
   "metadata": {},
   "outputs": [],
   "source": [
    "# A:"
   ]
  },
  {
   "cell_type": "markdown",
   "metadata": {},
   "source": [
    "<a name=\"ind-practice\"></a>\n",
    "\n",
    "## Independent Practice: Querying a Database\n",
    "\n",
    "---\n",
    "\n",
    "Practice querying the SQLite database we've created using any of the methods you've learned so far:\n",
    "\n",
    "- Console connection\n",
    "- Python's `sqlite3` package\n",
    "- `pandas`\n",
    "- [SQLite Browser](http://www.sqlitebrowser.org/) (or Firefox's browser extension, [SQLite Manager](https://addons.mozilla.org/en-US/firefox/addon/sqlite-manager/?src))\n",
    "\n",
    "Practice querying the PostgreSQL database found here [add url](http://) using:\n",
    "- Console connection\n",
    "- Python's `sqlite3` package\n",
    "- `pandas`\n",
    "- [Postico](https://eggerapps.at/postico/)\n"
   ]
  },
  {
   "cell_type": "markdown",
   "metadata": {},
   "source": [
    "### What is the average price per room for one-bedroom apartments?"
   ]
  },
  {
   "cell_type": "code",
   "execution_count": 23,
   "metadata": {},
   "outputs": [
    {
     "data": {
      "text/html": [
       "<div>\n",
       "<style scoped>\n",
       "    .dataframe tbody tr th:only-of-type {\n",
       "        vertical-align: middle;\n",
       "    }\n",
       "\n",
       "    .dataframe tbody tr th {\n",
       "        vertical-align: top;\n",
       "    }\n",
       "\n",
       "    .dataframe thead th {\n",
       "        text-align: right;\n",
       "    }\n",
       "</style>\n",
       "<table border=\"1\" class=\"dataframe\">\n",
       "  <thead>\n",
       "    <tr style=\"text-align: right;\">\n",
       "      <th></th>\n",
       "      <th>average</th>\n",
       "    </tr>\n",
       "  </thead>\n",
       "  <tbody>\n",
       "    <tr>\n",
       "      <th>0</th>\n",
       "      <td>169900.0</td>\n",
       "    </tr>\n",
       "  </tbody>\n",
       "</table>\n",
       "</div>"
      ],
      "text/plain": [
       "    average\n",
       "0  169900.0"
      ]
     },
     "execution_count": 23,
     "metadata": {},
     "output_type": "execute_result"
    }
   ],
   "source": [
    "# A:\n",
    "pd.read_sql('SELECT AVG(price) AS average FROM houses_pandas where bdrms = 1', con=conn)"
   ]
  },
  {
   "cell_type": "markdown",
   "metadata": {},
   "source": [
    "### How old is the oldest three-bedroom apartment?"
   ]
  },
  {
   "cell_type": "code",
   "execution_count": 24,
   "metadata": {},
   "outputs": [
    {
     "data": {
      "text/html": [
       "<div>\n",
       "<style scoped>\n",
       "    .dataframe tbody tr th:only-of-type {\n",
       "        vertical-align: middle;\n",
       "    }\n",
       "\n",
       "    .dataframe tbody tr th {\n",
       "        vertical-align: top;\n",
       "    }\n",
       "\n",
       "    .dataframe thead th {\n",
       "        text-align: right;\n",
       "    }\n",
       "</style>\n",
       "<table border=\"1\" class=\"dataframe\">\n",
       "  <thead>\n",
       "    <tr style=\"text-align: right;\">\n",
       "      <th></th>\n",
       "      <th>MAX(age)</th>\n",
       "    </tr>\n",
       "  </thead>\n",
       "  <tbody>\n",
       "    <tr>\n",
       "      <th>0</th>\n",
       "      <td>78</td>\n",
       "    </tr>\n",
       "  </tbody>\n",
       "</table>\n",
       "</div>"
      ],
      "text/plain": [
       "   MAX(age)\n",
       "0        78"
      ]
     },
     "execution_count": 24,
     "metadata": {},
     "output_type": "execute_result"
    }
   ],
   "source": [
    "# A:\n",
    "sql_query = 'SELECT MAX(age) FROM houses_pandas WHERE bdrms = 3'\n",
    "\n",
    "pd.read_sql(sql_query, con=conn)"
   ]
  },
  {
   "cell_type": "markdown",
   "metadata": {},
   "source": [
    "### How old is the youngest apartment?"
   ]
  },
  {
   "cell_type": "code",
   "execution_count": 25,
   "metadata": {},
   "outputs": [
    {
     "data": {
      "text/html": [
       "<div>\n",
       "<style scoped>\n",
       "    .dataframe tbody tr th:only-of-type {\n",
       "        vertical-align: middle;\n",
       "    }\n",
       "\n",
       "    .dataframe tbody tr th {\n",
       "        vertical-align: top;\n",
       "    }\n",
       "\n",
       "    .dataframe thead th {\n",
       "        text-align: right;\n",
       "    }\n",
       "</style>\n",
       "<table border=\"1\" class=\"dataframe\">\n",
       "  <thead>\n",
       "    <tr style=\"text-align: right;\">\n",
       "      <th></th>\n",
       "      <th>MIN(age)</th>\n",
       "    </tr>\n",
       "  </thead>\n",
       "  <tbody>\n",
       "    <tr>\n",
       "      <th>0</th>\n",
       "      <td>5</td>\n",
       "    </tr>\n",
       "  </tbody>\n",
       "</table>\n",
       "</div>"
      ],
      "text/plain": [
       "   MIN(age)\n",
       "0         5"
      ]
     },
     "execution_count": 25,
     "metadata": {},
     "output_type": "execute_result"
    }
   ],
   "source": [
    "# A:\n",
    "sql_query = 'SELECT MIN(age) FROM houses_pandas'\n",
    "\n",
    "pd.read_sql(sql_query, con=conn)"
   ]
  },
  {
   "cell_type": "markdown",
   "metadata": {},
   "source": [
    "### What is the average age for the whole data set?"
   ]
  },
  {
   "cell_type": "code",
   "execution_count": 26,
   "metadata": {},
   "outputs": [
    {
     "data": {
      "text/html": [
       "<div>\n",
       "<style scoped>\n",
       "    .dataframe tbody tr th:only-of-type {\n",
       "        vertical-align: middle;\n",
       "    }\n",
       "\n",
       "    .dataframe tbody tr th {\n",
       "        vertical-align: top;\n",
       "    }\n",
       "\n",
       "    .dataframe thead th {\n",
       "        text-align: right;\n",
       "    }\n",
       "</style>\n",
       "<table border=\"1\" class=\"dataframe\">\n",
       "  <thead>\n",
       "    <tr style=\"text-align: right;\">\n",
       "      <th></th>\n",
       "      <th>AVG(age)</th>\n",
       "    </tr>\n",
       "  </thead>\n",
       "  <tbody>\n",
       "    <tr>\n",
       "      <th>0</th>\n",
       "      <td>42.744681</td>\n",
       "    </tr>\n",
       "  </tbody>\n",
       "</table>\n",
       "</div>"
      ],
      "text/plain": [
       "    AVG(age)\n",
       "0  42.744681"
      ]
     },
     "execution_count": 26,
     "metadata": {},
     "output_type": "execute_result"
    }
   ],
   "source": [
    "# A:\n",
    "sql_query = 'SELECT AVG(age) FROM houses_pandas'\n",
    "\n",
    "pd.read_sql(sql_query, con=conn)"
   ]
  },
  {
   "cell_type": "markdown",
   "metadata": {},
   "source": [
    "### What is the average age for each bedroom size?\n",
    "_Tip: This will most likely require `pandas`/SQL integration._"
   ]
  },
  {
   "cell_type": "code",
   "execution_count": 22,
   "metadata": {},
   "outputs": [
    {
     "data": {
      "text/html": [
       "<div>\n",
       "<style scoped>\n",
       "    .dataframe tbody tr th:only-of-type {\n",
       "        vertical-align: middle;\n",
       "    }\n",
       "\n",
       "    .dataframe tbody tr th {\n",
       "        vertical-align: top;\n",
       "    }\n",
       "\n",
       "    .dataframe thead th {\n",
       "        text-align: right;\n",
       "    }\n",
       "</style>\n",
       "<table border=\"1\" class=\"dataframe\">\n",
       "  <thead>\n",
       "    <tr style=\"text-align: right;\">\n",
       "      <th></th>\n",
       "      <th>bdrms</th>\n",
       "      <th>AVG(age)</th>\n",
       "    </tr>\n",
       "  </thead>\n",
       "  <tbody>\n",
       "    <tr>\n",
       "      <th>0</th>\n",
       "      <td>1</td>\n",
       "      <td>5.000000</td>\n",
       "    </tr>\n",
       "    <tr>\n",
       "      <th>1</th>\n",
       "      <td>2</td>\n",
       "      <td>56.666667</td>\n",
       "    </tr>\n",
       "    <tr>\n",
       "      <th>2</th>\n",
       "      <td>3</td>\n",
       "      <td>38.360000</td>\n",
       "    </tr>\n",
       "    <tr>\n",
       "      <th>3</th>\n",
       "      <td>4</td>\n",
       "      <td>46.857143</td>\n",
       "    </tr>\n",
       "    <tr>\n",
       "      <th>4</th>\n",
       "      <td>5</td>\n",
       "      <td>49.000000</td>\n",
       "    </tr>\n",
       "  </tbody>\n",
       "</table>\n",
       "</div>"
      ],
      "text/plain": [
       "   bdrms   AVG(age)\n",
       "0      1   5.000000\n",
       "1      2  56.666667\n",
       "2      3  38.360000\n",
       "3      4  46.857143\n",
       "4      5  49.000000"
      ]
     },
     "execution_count": 22,
     "metadata": {},
     "output_type": "execute_result"
    }
   ],
   "source": [
    "# A:\n",
    "df = pd.read_sql('SELECT bdrms, AVG(age) FROM houses_pandas GROUP BY bdrms', con=conn)\n",
    "df"
   ]
  },
  {
   "cell_type": "markdown",
   "metadata": {},
   "source": [
    "**If you finish, try completing the first sections of [SQL Zoo](http://www.sqlzoo.net).**"
   ]
  },
  {
   "cell_type": "markdown",
   "metadata": {},
   "source": [
    "<a id='additional-resources'></a>\n",
    "\n",
    "## Additional Resources \n",
    "\n",
    "---\n",
    "\n",
    "- [SQLite3's website](http://www.sqlite.org)  \n",
    "- [SQLite — Python tutorial](http://sebastianraschka.com/Articles/2014_sqlite_in_python_tutorial.html)  \n",
    "- [SQL Zoo](http://www.sqlzoo.net)"
   ]
  }
 ],
 "metadata": {
  "anaconda-cloud": {},
  "kernelspec": {
   "display_name": "Python 2",
   "language": "python",
   "name": "python2"
  },
  "language_info": {
   "codemirror_mode": {
    "name": "ipython",
    "version": 2
   },
   "file_extension": ".py",
   "mimetype": "text/x-python",
   "name": "python",
   "nbconvert_exporter": "python",
   "pygments_lexer": "ipython2",
   "version": "2.7.11"
  }
 },
 "nbformat": 4,
 "nbformat_minor": 1
}
