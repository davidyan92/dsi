{
 "cells": [
  {
   "cell_type": "markdown",
   "metadata": {},
   "source": [
    "<img src=\"http://imgur.com/1ZcRyrc.png\" style=\"float: left; margin: 20px; height: 55px\">\n",
    "\n",
    "## Practice Grouping Data with Pandas\n",
    "\n",
    "_Authors: Kiefer Katovich (SF), Dave Yerrington (SF), Mario Carrillo (SF)_\n",
    "\n",
    "---\n",
    "\n",
    "You are going to investigate UFO sightings around the US.  This lab will give you practice performing `groupby` operations to split data along multiple dimensions and investigate patterns between subsets of the data using basic aggregation.\n"
   ]
  },
  {
   "cell_type": "code",
   "execution_count": 2,
   "metadata": {
    "collapsed": true
   },
   "outputs": [],
   "source": [
    "import pandas as pd\n",
    "import numpy as np\n",
    "import seaborn as sns\n",
    "import matplotlib.pyplot as plt\n",
    "sns.set_style('whitegrid')\n",
    "\n",
    "%matplotlib inline\n",
    "%config InlineBackend.figure_format ='retina'"
   ]
  },
  {
   "cell_type": "markdown",
   "metadata": {},
   "source": [
    "#### 1. Load and print the header for the UFO data."
   ]
  },
  {
   "cell_type": "code",
   "execution_count": 3,
   "metadata": {
    "collapsed": true
   },
   "outputs": [],
   "source": [
    "ufo_csv = 'datasets/ufo.csv'"
   ]
  },
  {
   "cell_type": "code",
   "execution_count": 4,
   "metadata": {
    "scrolled": true
   },
   "outputs": [
    {
     "data": {
      "text/html": [
       "<div>\n",
       "<style scoped>\n",
       "    .dataframe tbody tr th:only-of-type {\n",
       "        vertical-align: middle;\n",
       "    }\n",
       "\n",
       "    .dataframe tbody tr th {\n",
       "        vertical-align: top;\n",
       "    }\n",
       "\n",
       "    .dataframe thead th {\n",
       "        text-align: right;\n",
       "    }\n",
       "</style>\n",
       "<table border=\"1\" class=\"dataframe\">\n",
       "  <thead>\n",
       "    <tr style=\"text-align: right;\">\n",
       "      <th></th>\n",
       "      <th>City</th>\n",
       "      <th>Colors Reported</th>\n",
       "      <th>Shape Reported</th>\n",
       "      <th>State</th>\n",
       "      <th>Time</th>\n",
       "    </tr>\n",
       "  </thead>\n",
       "  <tbody>\n",
       "    <tr>\n",
       "      <th>0</th>\n",
       "      <td>Ithaca</td>\n",
       "      <td>NaN</td>\n",
       "      <td>TRIANGLE</td>\n",
       "      <td>NY</td>\n",
       "      <td>6/1/1930 22:00</td>\n",
       "    </tr>\n",
       "    <tr>\n",
       "      <th>1</th>\n",
       "      <td>Willingboro</td>\n",
       "      <td>NaN</td>\n",
       "      <td>OTHER</td>\n",
       "      <td>NJ</td>\n",
       "      <td>6/30/1930 20:00</td>\n",
       "    </tr>\n",
       "    <tr>\n",
       "      <th>2</th>\n",
       "      <td>Holyoke</td>\n",
       "      <td>NaN</td>\n",
       "      <td>OVAL</td>\n",
       "      <td>CO</td>\n",
       "      <td>2/15/1931 14:00</td>\n",
       "    </tr>\n",
       "    <tr>\n",
       "      <th>3</th>\n",
       "      <td>Abilene</td>\n",
       "      <td>NaN</td>\n",
       "      <td>DISK</td>\n",
       "      <td>KS</td>\n",
       "      <td>6/1/1931 13:00</td>\n",
       "    </tr>\n",
       "    <tr>\n",
       "      <th>4</th>\n",
       "      <td>New York Worlds Fair</td>\n",
       "      <td>NaN</td>\n",
       "      <td>LIGHT</td>\n",
       "      <td>NY</td>\n",
       "      <td>4/18/1933 19:00</td>\n",
       "    </tr>\n",
       "  </tbody>\n",
       "</table>\n",
       "</div>"
      ],
      "text/plain": [
       "                   City Colors Reported Shape Reported State             Time\n",
       "0                Ithaca             NaN       TRIANGLE    NY   6/1/1930 22:00\n",
       "1           Willingboro             NaN          OTHER    NJ  6/30/1930 20:00\n",
       "2               Holyoke             NaN           OVAL    CO  2/15/1931 14:00\n",
       "3               Abilene             NaN           DISK    KS   6/1/1931 13:00\n",
       "4  New York Worlds Fair             NaN          LIGHT    NY  4/18/1933 19:00"
      ]
     },
     "execution_count": 4,
     "metadata": {},
     "output_type": "execute_result"
    }
   ],
   "source": [
    "# A:\n",
    "ufo_df = pd.read_csv(ufo_csv)\n",
    "ufo_df.head()"
   ]
  },
  {
   "cell_type": "markdown",
   "metadata": {},
   "source": [
    "#### 2. How many null values exist per column?"
   ]
  },
  {
   "cell_type": "code",
   "execution_count": 5,
   "metadata": {},
   "outputs": [
    {
     "data": {
      "text/plain": [
       "City                  47\n",
       "Colors Reported    63509\n",
       "Shape Reported      8402\n",
       "State                  0\n",
       "Time                   0\n",
       "dtype: int64"
      ]
     },
     "execution_count": 5,
     "metadata": {},
     "output_type": "execute_result"
    }
   ],
   "source": [
    "# A:\n",
    "ufo_df.isnull().sum()"
   ]
  },
  {
   "cell_type": "markdown",
   "metadata": {},
   "source": [
    "#### 3. Which city has the most observations?"
   ]
  },
  {
   "cell_type": "code",
   "execution_count": 6,
   "metadata": {},
   "outputs": [
    {
     "data": {
      "text/plain": [
       "City\n",
       "Seattle                       646\n",
       "New York City                 612\n",
       "Phoenix                       533\n",
       "Las Vegas                     442\n",
       "Portland                      438\n",
       "Los Angeles                   416\n",
       "San Diego                     401\n",
       "Houston                       340\n",
       "Chicago                       337\n",
       "Miami                         279\n",
       "Tucson                        278\n",
       "Orlando                       264\n",
       "Austin                        254\n",
       "Springfield                   246\n",
       "Albuquerque                   244\n",
       "Columbus                      235\n",
       "Sacramento                    232\n",
       "Denver                        219\n",
       "San Francisco                 216\n",
       "San Jose                      212\n",
       "Jacksonville                  203\n",
       "Myrtle Beach                  201\n",
       "San Antonio                   201\n",
       "Dallas                        195\n",
       "Salem                         182\n",
       "St. Louis                     175\n",
       "Charlotte                     174\n",
       "Columbia                      169\n",
       "Mesa                          165\n",
       "Louisville                    163\n",
       "                             ... \n",
       "Middle Smithfield Township      1\n",
       "Middle Town                     1\n",
       "Middle Valley                   1\n",
       "Middle Village                  1\n",
       "Middleborough                   1\n",
       "Middleburg HTS                  1\n",
       "Middleburg Hts.                 1\n",
       "Middlesex Township              1\n",
       "Midway City                     1\n",
       "Mifflinburg                     1\n",
       "Mifflintown                     1\n",
       "Mifflinville                    1\n",
       "Milaca                          1\n",
       "Mile 69                         1\n",
       "Milligan                        1\n",
       "Mile Marker 120                 1\n",
       "Milford Township                1\n",
       "Mill Hall                       1\n",
       "MillHeim                        1\n",
       "Milladore                       1\n",
       "Millard                         1\n",
       "Millbury                        1\n",
       "Millcreek                       1\n",
       "Miller                          1\n",
       "Millers                         1\n",
       "Millers Falls                   1\n",
       "Millerstown                     1\n",
       "Millersvill                     1\n",
       "Millhurst                       1\n",
       "((HOAX??))                      1\n",
       "Length: 13504, dtype: int64"
      ]
     },
     "execution_count": 6,
     "metadata": {},
     "output_type": "execute_result"
    }
   ],
   "source": [
    "# A:\n",
    "ufo_df.groupby(['City']).size().sort_values(ascending=False)"
   ]
  },
  {
   "cell_type": "markdown",
   "metadata": {},
   "source": [
    "#### 4. What is the observation count per shape?"
   ]
  },
  {
   "cell_type": "code",
   "execution_count": 7,
   "metadata": {},
   "outputs": [
    {
     "data": {
      "text/plain": [
       "Shape Reported\n",
       "LIGHT        16332\n",
       "TRIANGLE      7816\n",
       "CIRCLE        7725\n",
       "FIREBALL      6249\n",
       "OTHER         5506\n",
       "SPHERE        5231\n",
       "DISK          5226\n",
       "OVAL          3721\n",
       "FORMATION     2405\n",
       "CIGAR         1983\n",
       "VARIOUS       1957\n",
       "FLASH         1329\n",
       "RECTANGLE     1295\n",
       "CYLINDER      1252\n",
       "DIAMOND       1152\n",
       "CHEVRON        940\n",
       "EGG            733\n",
       "TEARDROP       723\n",
       "CONE           310\n",
       "CROSS          241\n",
       "DELTA            7\n",
       "CRESCENT         2\n",
       "ROUND            2\n",
       "DOME             1\n",
       "HEXAGON          1\n",
       "PYRAMID          1\n",
       "FLARE            1\n",
       "dtype: int64"
      ]
     },
     "execution_count": 7,
     "metadata": {},
     "output_type": "execute_result"
    }
   ],
   "source": [
    "# A:\n",
    "ufo_df.groupby(['Shape Reported']).size().sort_values(ascending=False)"
   ]
  },
  {
   "cell_type": "markdown",
   "metadata": {},
   "source": [
    "#### 5. Create a subset of the data that is the top 5 cities and the top 5 shapes."
   ]
  },
  {
   "cell_type": "code",
   "execution_count": 10,
   "metadata": {},
   "outputs": [
    {
     "name": "stdout",
     "output_type": "stream",
     "text": [
      "{('Phoenix', 'LIGHT'): 106, ('Seattle', 'LIGHT'): 129, ('New York City', 'LIGHT'): 105, ('Portland', 'LIGHT'): 100, ('San Diego', 'LIGHT'): 94}\n"
     ]
    }
   ],
   "source": [
    "top_5 = dict(ufo_df.groupby(['City', 'Shape Reported']).size().sort_values(ascending=False).head(5))\n",
    "print(top_5)"
   ]
  },
  {
   "cell_type": "code",
   "execution_count": 28,
   "metadata": {
    "scrolled": false
   },
   "outputs": [
    {
     "data": {
      "text/plain": [
       "(534, 5)"
      ]
     },
     "execution_count": 28,
     "metadata": {},
     "output_type": "execute_result"
    }
   ],
   "source": [
    "# A: \n",
    "top_5_keys = top_5.keys()\n",
    "ufo_header = list(ufo_df.columns)\n",
    "ufo_list = []\n",
    "ufo_list.append(ufo_header) \n",
    "\n",
    "for index, row in ufo_df.iterrows(): \n",
    "    for keys in top_5_keys:\n",
    "        if row['City'] == keys[0] and row['Shape Reported'] == keys[1]:\n",
    "            ufo_list.append(list(row))\n",
    "        \n",
    "new_df = pd.DataFrame(ufo_list[1:], columns=ufo_list[0])\n",
    "new_df.shape"
   ]
  },
  {
   "cell_type": "markdown",
   "metadata": {},
   "source": [
    "#### 6. With the subset, find the percent of each shape seen by city."
   ]
  },
  {
   "cell_type": "code",
   "execution_count": 48,
   "metadata": {},
   "outputs": [
    {
     "data": {
      "text/plain": [
       "City           Shape Reported\n",
       "Las Vegas      CIRCLE             42\n",
       "               FIREBALL           22\n",
       "               LIGHT              85\n",
       "               OTHER              36\n",
       "               TRIANGLE           31\n",
       "New York City  CIRCLE             56\n",
       "               FIREBALL           35\n",
       "               LIGHT             105\n",
       "               OTHER              42\n",
       "               TRIANGLE           40\n",
       "Phoenix        CIRCLE             34\n",
       "               FIREBALL           35\n",
       "               LIGHT             106\n",
       "               OTHER              46\n",
       "               TRIANGLE           45\n",
       "Portland       CIRCLE             46\n",
       "               FIREBALL           29\n",
       "               LIGHT             100\n",
       "               OTHER              29\n",
       "               TRIANGLE           27\n",
       "Seattle        CIRCLE             50\n",
       "               FIREBALL           55\n",
       "               LIGHT             129\n",
       "               OTHER              51\n",
       "               TRIANGLE           46\n",
       "dtype: int64"
      ]
     },
     "execution_count": 48,
     "metadata": {},
     "output_type": "execute_result"
    }
   ],
   "source": [
    "# A:\n",
    "city = ufo_df.groupby(['City']).size().sort_values(ascending=False).head(5)\n",
    "city_list = dict(city).keys()\n",
    "shape = ufo_df.groupby(['Shape Reported']).size().sort_values(ascending=False).head(5)\n",
    "shape_list = dict(shape).keys()\n",
    "ufo_df_top_5 = ufo_df[ufo_df['City'].isin(city_list) & ufo_df['Shape Reported'].isin(shape_list)]\n",
    "ufo_df_top_5.groupby(['City', 'Shape Reported']).size()"
   ]
  },
  {
   "cell_type": "markdown",
   "metadata": {},
   "source": [
    "**7. Make a grouped bar chart with your subset data showing counts of shapes seen by city.**"
   ]
  },
  {
   "cell_type": "code",
   "execution_count": 55,
   "metadata": {},
   "outputs": [
    {
     "data": {
      "text/plain": [
       "<matplotlib.axes._subplots.AxesSubplot at 0x1a0b3a1950>"
      ]
     },
     "execution_count": 55,
     "metadata": {},
     "output_type": "execute_result"
    },
    {
     "data": {
      "image/png": "[encoded data removed]",
      "text/plain": [
       "<matplotlib.figure.Figure at 0x1a0b3c4210>"
      ]
     },
     "metadata": {
      "image/png": {
       "height": 312,
       "width": 369
      }
     },
     "output_type": "display_data"
    }
   ],
   "source": [
    "# A:\n",
    "ufo_df_top_5.groupby(['City', 'Shape Reported']).size().unstack().plot(kind='bar')"
   ]
  },
  {
   "cell_type": "code",
   "execution_count": null,
   "metadata": {
    "collapsed": true
   },
   "outputs": [],
   "source": []
  }
 ],
 "metadata": {
  "kernelspec": {
   "display_name": "Python 2",
   "language": "python",
   "name": "python2"
  },
  "language_info": {
   "codemirror_mode": {
    "name": "ipython",
    "version": 2
   },
   "file_extension": ".py",
   "mimetype": "text/x-python",
   "name": "python",
   "nbconvert_exporter": "python",
   "pygments_lexer": "ipython2",
   "version": "2.7.11"
  }
 },
 "nbformat": 4,
 "nbformat_minor": 2
}
