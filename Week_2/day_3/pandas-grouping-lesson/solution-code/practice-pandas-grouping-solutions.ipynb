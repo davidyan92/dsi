{
 "cells": [
  {
   "cell_type": "markdown",
   "metadata": {},
   "source": [
    "<img src=\"http://imgur.com/1ZcRyrc.png\" style=\"float: left; margin: 20px; height: 55px\">\n",
    "\n",
    "## Practice Grouping Data with Pandas\n",
    "\n",
    "_Authors: Kiefer Katovich (SF), Dave Yerrington (SF), Mario Carrillo (SF)_\n",
    "\n",
    "---\n",
    "\n",
    "You are going to investigate UFO sightings around the US.  This lab will give you practice performing `groupby` operations to split data along multiple dimensions and investigate patterns between subsets of the data using basic aggregation.\n"
   ]
  },
  {
   "cell_type": "code",
   "execution_count": 1,
   "metadata": {
    "collapsed": true
   },
   "outputs": [],
   "source": [
    "import pandas as pd\n",
    "import numpy as np\n",
    "import seaborn as sns\n",
    "import matplotlib.pyplot as plt\n",
    "sns.set_style('whitegrid')\n",
    "\n",
    "%matplotlib inline\n",
    "%config InlineBackend.figure_format ='retina'"
   ]
  },
  {
   "cell_type": "markdown",
   "metadata": {},
   "source": [
    "#### 1. Load and print the header for the UFO data."
   ]
  },
  {
   "cell_type": "code",
   "execution_count": 2,
   "metadata": {
    "collapsed": true
   },
   "outputs": [],
   "source": [
    "ufo_csv = '../datasets/ufo.csv'"
   ]
  },
  {
   "cell_type": "code",
   "execution_count": 3,
   "metadata": {
    "collapsed": true
   },
   "outputs": [],
   "source": [
    "ufo = pd.read_csv(ufo_csv)\n",
    "# or \n",
    "ufo = pd.read_csv('..datasets/ufo.csv')"
   ]
  },
  {
   "cell_type": "code",
   "execution_count": 4,
   "metadata": {},
   "outputs": [
    {
     "data": {
      "text/html": [
       "<div>\n",
       "<table border=\"1\" class=\"dataframe\">\n",
       "  <thead>\n",
       "    <tr style=\"text-align: right;\">\n",
       "      <th></th>\n",
       "      <th>City</th>\n",
       "      <th>Colors Reported</th>\n",
       "      <th>Shape Reported</th>\n",
       "      <th>State</th>\n",
       "      <th>Time</th>\n",
       "    </tr>\n",
       "  </thead>\n",
       "  <tbody>\n",
       "    <tr>\n",
       "      <th>0</th>\n",
       "      <td>Ithaca</td>\n",
       "      <td>NaN</td>\n",
       "      <td>TRIANGLE</td>\n",
       "      <td>NY</td>\n",
       "      <td>6/1/1930 22:00</td>\n",
       "    </tr>\n",
       "    <tr>\n",
       "      <th>1</th>\n",
       "      <td>Willingboro</td>\n",
       "      <td>NaN</td>\n",
       "      <td>OTHER</td>\n",
       "      <td>NJ</td>\n",
       "      <td>6/30/1930 20:00</td>\n",
       "    </tr>\n",
       "    <tr>\n",
       "      <th>2</th>\n",
       "      <td>Holyoke</td>\n",
       "      <td>NaN</td>\n",
       "      <td>OVAL</td>\n",
       "      <td>CO</td>\n",
       "      <td>2/15/1931 14:00</td>\n",
       "    </tr>\n",
       "    <tr>\n",
       "      <th>3</th>\n",
       "      <td>Abilene</td>\n",
       "      <td>NaN</td>\n",
       "      <td>DISK</td>\n",
       "      <td>KS</td>\n",
       "      <td>6/1/1931 13:00</td>\n",
       "    </tr>\n",
       "    <tr>\n",
       "      <th>4</th>\n",
       "      <td>New York Worlds Fair</td>\n",
       "      <td>NaN</td>\n",
       "      <td>LIGHT</td>\n",
       "      <td>NY</td>\n",
       "      <td>4/18/1933 19:00</td>\n",
       "    </tr>\n",
       "  </tbody>\n",
       "</table>\n",
       "</div>"
      ],
      "text/plain": [
       "                   City Colors Reported Shape Reported State             Time\n",
       "0                Ithaca             NaN       TRIANGLE    NY   6/1/1930 22:00\n",
       "1           Willingboro             NaN          OTHER    NJ  6/30/1930 20:00\n",
       "2               Holyoke             NaN           OVAL    CO  2/15/1931 14:00\n",
       "3               Abilene             NaN           DISK    KS   6/1/1931 13:00\n",
       "4  New York Worlds Fair             NaN          LIGHT    NY  4/18/1933 19:00"
      ]
     },
     "execution_count": 4,
     "metadata": {},
     "output_type": "execute_result"
    }
   ],
   "source": [
    "ufo.head()"
   ]
  },
  {
   "cell_type": "markdown",
   "metadata": {},
   "source": [
    "#### 2. How many null values exist per column?"
   ]
  },
  {
   "cell_type": "code",
   "execution_count": 5,
   "metadata": {},
   "outputs": [
    {
     "data": {
      "text/plain": [
       "City                  47\n",
       "Colors Reported    63509\n",
       "Shape Reported      8402\n",
       "State                  0\n",
       "Time                   0\n",
       "dtype: int64"
      ]
     },
     "execution_count": 5,
     "metadata": {},
     "output_type": "execute_result"
    }
   ],
   "source": [
    "ufo.isnull().sum()"
   ]
  },
  {
   "cell_type": "code",
   "execution_count": 6,
   "metadata": {},
   "outputs": [
    {
     "data": {
      "text/plain": [
       "(80543, 5)"
      ]
     },
     "execution_count": 6,
     "metadata": {},
     "output_type": "execute_result"
    }
   ],
   "source": [
    "ufo.shape"
   ]
  },
  {
   "cell_type": "markdown",
   "metadata": {},
   "source": [
    "#### 3. Which city has the most observations?"
   ]
  },
  {
   "cell_type": "code",
   "execution_count": 7,
   "metadata": {},
   "outputs": [
    {
     "data": {
      "text/plain": [
       "City\n",
       "Seattle          646\n",
       "New York City    612\n",
       "Phoenix          533\n",
       "Las Vegas        442\n",
       "Portland         438\n",
       "Los Angeles      416\n",
       "San Diego        401\n",
       "Houston          340\n",
       "Chicago          337\n",
       "Miami            279\n",
       "dtype: int64"
      ]
     },
     "execution_count": 7,
     "metadata": {},
     "output_type": "execute_result"
    }
   ],
   "source": [
    "ufo.groupby('City').apply(len).sort_values(ascending=False).head(10)\n",
    "# apply length to each object in pandas groupby object and sort"
   ]
  },
  {
   "cell_type": "markdown",
   "metadata": {},
   "source": [
    "*You can use the `.get_group()` method to look at individual groups as well.*"
   ]
  },
  {
   "cell_type": "markdown",
   "metadata": {},
   "source": [
    "#### 4. What is the observation count per shape?"
   ]
  },
  {
   "cell_type": "code",
   "execution_count": 8,
   "metadata": {},
   "outputs": [
    {
     "data": {
      "text/plain": [
       "LIGHT        16332\n",
       "TRIANGLE      7816\n",
       "CIRCLE        7725\n",
       "FIREBALL      6249\n",
       "OTHER         5506\n",
       "SPHERE        5231\n",
       "DISK          5226\n",
       "OVAL          3721\n",
       "FORMATION     2405\n",
       "CIGAR         1983\n",
       "VARIOUS       1957\n",
       "FLASH         1329\n",
       "RECTANGLE     1295\n",
       "CYLINDER      1252\n",
       "DIAMOND       1152\n",
       "CHEVRON        940\n",
       "EGG            733\n",
       "TEARDROP       723\n",
       "CONE           310\n",
       "CROSS          241\n",
       "DELTA            7\n",
       "CRESCENT         2\n",
       "ROUND            2\n",
       "HEXAGON          1\n",
       "FLARE            1\n",
       "PYRAMID          1\n",
       "DOME             1\n",
       "Name: Shape Reported, dtype: int64"
      ]
     },
     "execution_count": 8,
     "metadata": {},
     "output_type": "execute_result"
    }
   ],
   "source": [
    "ufo['Shape Reported'].value_counts()"
   ]
  },
  {
   "cell_type": "markdown",
   "metadata": {},
   "source": [
    "#### 5. Create a subset of the data that is the top 5 cities and the top 5 shapes."
   ]
  },
  {
   "cell_type": "code",
   "execution_count": 20,
   "metadata": {
    "collapsed": true
   },
   "outputs": [],
   "source": [
    "# manual lists from previous 2 questions.\n",
    "cities = ['Seattle','New York City','Phoenix','Las Vegas','Portland']\n",
    "shapes = ['LIGHT','TRIANGLE','CIRCLE','FIREBALL','OTHER']\n",
    "\n",
    "subset = ufo[ufo['City'].isin(cities) & ufo['Shape Reported'].isin(shapes)]"
   ]
  },
  {
   "cell_type": "code",
   "execution_count": 21,
   "metadata": {},
   "outputs": [
    {
     "name": "stdout",
     "output_type": "stream",
     "text": [
      "(80543, 5)\n",
      "(1322, 5)\n"
     ]
    }
   ],
   "source": [
    "print ufo.shape\n",
    "print subset.shape"
   ]
  },
  {
   "cell_type": "markdown",
   "metadata": {},
   "source": [
    "#### 6. With the subset, find the percent of each shape seen by city."
   ]
  },
  {
   "cell_type": "code",
   "execution_count": 32,
   "metadata": {},
   "outputs": [
    {
     "data": {
      "text/plain": [
       "City           Shape Reported\n",
       "Las Vegas      CIRCLE             42\n",
       "               FIREBALL           22\n",
       "               LIGHT              85\n",
       "               OTHER              36\n",
       "               TRIANGLE           31\n",
       "New York City  CIRCLE             56\n",
       "               FIREBALL           35\n",
       "               LIGHT             105\n",
       "               OTHER              42\n",
       "               TRIANGLE           40\n",
       "Phoenix        CIRCLE             34\n",
       "               FIREBALL           35\n",
       "               LIGHT             106\n",
       "               OTHER              46\n",
       "               TRIANGLE           45\n",
       "Portland       CIRCLE             46\n",
       "               FIREBALL           29\n",
       "               LIGHT             100\n",
       "               OTHER              29\n",
       "               TRIANGLE           27\n",
       "Seattle        CIRCLE             50\n",
       "               FIREBALL           55\n",
       "               LIGHT             129\n",
       "               OTHER              51\n",
       "               TRIANGLE           46\n",
       "dtype: int64"
      ]
     },
     "execution_count": 32,
     "metadata": {},
     "output_type": "execute_result"
    }
   ],
   "source": [
    "counts = subset.groupby(['City','Shape Reported']).size()\n",
    "counts"
   ]
  },
  {
   "cell_type": "code",
   "execution_count": 33,
   "metadata": {},
   "outputs": [],
   "source": [
    "counts = counts.reset_index() # converts to DataFrame\n",
    "counts.columns = ['city','shape','count'] # change column headers\n",
    "\n",
    "# create new column using count compared to a groupby city mean\n",
    "counts['percent'] = counts.groupby('city')['count'].apply(lambda x: x/np.sum(x))"
   ]
  },
  {
   "cell_type": "code",
   "execution_count": 34,
   "metadata": {},
   "outputs": [
    {
     "data": {
      "text/html": [
       "<div>\n",
       "<table border=\"1\" class=\"dataframe\">\n",
       "  <thead>\n",
       "    <tr style=\"text-align: right;\">\n",
       "      <th></th>\n",
       "      <th>city</th>\n",
       "      <th>shape</th>\n",
       "      <th>count</th>\n",
       "      <th>percent</th>\n",
       "    </tr>\n",
       "  </thead>\n",
       "  <tbody>\n",
       "    <tr>\n",
       "      <th>0</th>\n",
       "      <td>Las Vegas</td>\n",
       "      <td>CIRCLE</td>\n",
       "      <td>42</td>\n",
       "      <td>0.194444</td>\n",
       "    </tr>\n",
       "    <tr>\n",
       "      <th>1</th>\n",
       "      <td>Las Vegas</td>\n",
       "      <td>FIREBALL</td>\n",
       "      <td>22</td>\n",
       "      <td>0.101852</td>\n",
       "    </tr>\n",
       "    <tr>\n",
       "      <th>2</th>\n",
       "      <td>Las Vegas</td>\n",
       "      <td>LIGHT</td>\n",
       "      <td>85</td>\n",
       "      <td>0.393519</td>\n",
       "    </tr>\n",
       "    <tr>\n",
       "      <th>3</th>\n",
       "      <td>Las Vegas</td>\n",
       "      <td>OTHER</td>\n",
       "      <td>36</td>\n",
       "      <td>0.166667</td>\n",
       "    </tr>\n",
       "    <tr>\n",
       "      <th>4</th>\n",
       "      <td>Las Vegas</td>\n",
       "      <td>TRIANGLE</td>\n",
       "      <td>31</td>\n",
       "      <td>0.143519</td>\n",
       "    </tr>\n",
       "    <tr>\n",
       "      <th>5</th>\n",
       "      <td>New York City</td>\n",
       "      <td>CIRCLE</td>\n",
       "      <td>56</td>\n",
       "      <td>0.201439</td>\n",
       "    </tr>\n",
       "    <tr>\n",
       "      <th>6</th>\n",
       "      <td>New York City</td>\n",
       "      <td>FIREBALL</td>\n",
       "      <td>35</td>\n",
       "      <td>0.125899</td>\n",
       "    </tr>\n",
       "    <tr>\n",
       "      <th>7</th>\n",
       "      <td>New York City</td>\n",
       "      <td>LIGHT</td>\n",
       "      <td>105</td>\n",
       "      <td>0.377698</td>\n",
       "    </tr>\n",
       "    <tr>\n",
       "      <th>8</th>\n",
       "      <td>New York City</td>\n",
       "      <td>OTHER</td>\n",
       "      <td>42</td>\n",
       "      <td>0.151079</td>\n",
       "    </tr>\n",
       "    <tr>\n",
       "      <th>9</th>\n",
       "      <td>New York City</td>\n",
       "      <td>TRIANGLE</td>\n",
       "      <td>40</td>\n",
       "      <td>0.143885</td>\n",
       "    </tr>\n",
       "    <tr>\n",
       "      <th>10</th>\n",
       "      <td>Phoenix</td>\n",
       "      <td>CIRCLE</td>\n",
       "      <td>34</td>\n",
       "      <td>0.127820</td>\n",
       "    </tr>\n",
       "    <tr>\n",
       "      <th>11</th>\n",
       "      <td>Phoenix</td>\n",
       "      <td>FIREBALL</td>\n",
       "      <td>35</td>\n",
       "      <td>0.131579</td>\n",
       "    </tr>\n",
       "    <tr>\n",
       "      <th>12</th>\n",
       "      <td>Phoenix</td>\n",
       "      <td>LIGHT</td>\n",
       "      <td>106</td>\n",
       "      <td>0.398496</td>\n",
       "    </tr>\n",
       "    <tr>\n",
       "      <th>13</th>\n",
       "      <td>Phoenix</td>\n",
       "      <td>OTHER</td>\n",
       "      <td>46</td>\n",
       "      <td>0.172932</td>\n",
       "    </tr>\n",
       "    <tr>\n",
       "      <th>14</th>\n",
       "      <td>Phoenix</td>\n",
       "      <td>TRIANGLE</td>\n",
       "      <td>45</td>\n",
       "      <td>0.169173</td>\n",
       "    </tr>\n",
       "    <tr>\n",
       "      <th>15</th>\n",
       "      <td>Portland</td>\n",
       "      <td>CIRCLE</td>\n",
       "      <td>46</td>\n",
       "      <td>0.199134</td>\n",
       "    </tr>\n",
       "    <tr>\n",
       "      <th>16</th>\n",
       "      <td>Portland</td>\n",
       "      <td>FIREBALL</td>\n",
       "      <td>29</td>\n",
       "      <td>0.125541</td>\n",
       "    </tr>\n",
       "    <tr>\n",
       "      <th>17</th>\n",
       "      <td>Portland</td>\n",
       "      <td>LIGHT</td>\n",
       "      <td>100</td>\n",
       "      <td>0.432900</td>\n",
       "    </tr>\n",
       "    <tr>\n",
       "      <th>18</th>\n",
       "      <td>Portland</td>\n",
       "      <td>OTHER</td>\n",
       "      <td>29</td>\n",
       "      <td>0.125541</td>\n",
       "    </tr>\n",
       "    <tr>\n",
       "      <th>19</th>\n",
       "      <td>Portland</td>\n",
       "      <td>TRIANGLE</td>\n",
       "      <td>27</td>\n",
       "      <td>0.116883</td>\n",
       "    </tr>\n",
       "    <tr>\n",
       "      <th>20</th>\n",
       "      <td>Seattle</td>\n",
       "      <td>CIRCLE</td>\n",
       "      <td>50</td>\n",
       "      <td>0.151057</td>\n",
       "    </tr>\n",
       "    <tr>\n",
       "      <th>21</th>\n",
       "      <td>Seattle</td>\n",
       "      <td>FIREBALL</td>\n",
       "      <td>55</td>\n",
       "      <td>0.166163</td>\n",
       "    </tr>\n",
       "    <tr>\n",
       "      <th>22</th>\n",
       "      <td>Seattle</td>\n",
       "      <td>LIGHT</td>\n",
       "      <td>129</td>\n",
       "      <td>0.389728</td>\n",
       "    </tr>\n",
       "    <tr>\n",
       "      <th>23</th>\n",
       "      <td>Seattle</td>\n",
       "      <td>OTHER</td>\n",
       "      <td>51</td>\n",
       "      <td>0.154079</td>\n",
       "    </tr>\n",
       "    <tr>\n",
       "      <th>24</th>\n",
       "      <td>Seattle</td>\n",
       "      <td>TRIANGLE</td>\n",
       "      <td>46</td>\n",
       "      <td>0.138973</td>\n",
       "    </tr>\n",
       "  </tbody>\n",
       "</table>\n",
       "</div>"
      ],
      "text/plain": [
       "             city     shape  count   percent\n",
       "0       Las Vegas    CIRCLE     42  0.194444\n",
       "1       Las Vegas  FIREBALL     22  0.101852\n",
       "2       Las Vegas     LIGHT     85  0.393519\n",
       "3       Las Vegas     OTHER     36  0.166667\n",
       "4       Las Vegas  TRIANGLE     31  0.143519\n",
       "5   New York City    CIRCLE     56  0.201439\n",
       "6   New York City  FIREBALL     35  0.125899\n",
       "7   New York City     LIGHT    105  0.377698\n",
       "8   New York City     OTHER     42  0.151079\n",
       "9   New York City  TRIANGLE     40  0.143885\n",
       "10        Phoenix    CIRCLE     34  0.127820\n",
       "11        Phoenix  FIREBALL     35  0.131579\n",
       "12        Phoenix     LIGHT    106  0.398496\n",
       "13        Phoenix     OTHER     46  0.172932\n",
       "14        Phoenix  TRIANGLE     45  0.169173\n",
       "15       Portland    CIRCLE     46  0.199134\n",
       "16       Portland  FIREBALL     29  0.125541\n",
       "17       Portland     LIGHT    100  0.432900\n",
       "18       Portland     OTHER     29  0.125541\n",
       "19       Portland  TRIANGLE     27  0.116883\n",
       "20        Seattle    CIRCLE     50  0.151057\n",
       "21        Seattle  FIREBALL     55  0.166163\n",
       "22        Seattle     LIGHT    129  0.389728\n",
       "23        Seattle     OTHER     51  0.154079\n",
       "24        Seattle  TRIANGLE     46  0.138973"
      ]
     },
     "execution_count": 34,
     "metadata": {},
     "output_type": "execute_result"
    }
   ],
   "source": [
    "counts"
   ]
  },
  {
   "cell_type": "markdown",
   "metadata": {},
   "source": [
    "**7. Make a grouped bar chart with your subset data showing counts of shapes seen by city.**"
   ]
  },
  {
   "cell_type": "code",
   "execution_count": 35,
   "metadata": {},
   "outputs": [
    {
     "data": {
      "text/plain": [
       "<matplotlib.axes._subplots.AxesSubplot at 0x113c9f790>"
      ]
     },
     "execution_count": 35,
     "metadata": {},
     "output_type": "execute_result"
    },
    {
     "data": {
      "image/png": "[encoded data removed]",
      "text/plain": [
       "<matplotlib.figure.Figure at 0x113c239d0>"
      ]
     },
     "metadata": {
      "image/png": {
       "height": 316,
       "width": 372
      }
     },
     "output_type": "display_data"
    }
   ],
   "source": [
    "subset.groupby(['City','Shape Reported']).size().unstack().plot(kind='bar')"
   ]
  },
  {
   "cell_type": "code",
   "execution_count": null,
   "metadata": {
    "collapsed": true
   },
   "outputs": [],
   "source": []
  }
 ],
 "metadata": {
  "kernelspec": {
   "display_name": "Python 2",
   "language": "python",
   "name": "python2"
  },
  "language_info": {
   "codemirror_mode": {
    "name": "ipython",
    "version": 2
   },
   "file_extension": ".py",
   "mimetype": "text/x-python",
   "name": "python",
   "nbconvert_exporter": "python",
   "pygments_lexer": "ipython2",
   "version": "2.7.11"
  }
 },
 "nbformat": 4,
 "nbformat_minor": 2
}
