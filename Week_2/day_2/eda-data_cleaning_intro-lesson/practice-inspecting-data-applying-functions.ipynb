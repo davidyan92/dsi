{
 "cells": [
  {
   "cell_type": "markdown",
   "metadata": {},
   "source": [
    "<img src=\"http://imgur.com/1ZcRyrc.png\" style=\"float: left; margin: 20px; height: 55px\">\n",
    "\n",
    "## Guided Practice: Inspecting Data Types and Applying Functions\n",
    "\n",
    "_Authors: Dave Yerrington (SF)_\n",
    "\n",
    "---"
   ]
  },
  {
   "cell_type": "code",
   "execution_count": 1,
   "metadata": {
    "collapsed": true
   },
   "outputs": [],
   "source": [
    "import pandas as pd\n",
    "import numpy as np"
   ]
  },
  {
   "cell_type": "markdown",
   "metadata": {},
   "source": [
    "**1. Create a small DataFrame with different data types (provided).**"
   ]
  },
  {
   "cell_type": "code",
   "execution_count": 2,
   "metadata": {},
   "outputs": [
    {
     "data": {
      "text/html": [
       "<div>\n",
       "<style scoped>\n",
       "    .dataframe tbody tr th:only-of-type {\n",
       "        vertical-align: middle;\n",
       "    }\n",
       "\n",
       "    .dataframe tbody tr th {\n",
       "        vertical-align: top;\n",
       "    }\n",
       "\n",
       "    .dataframe thead th {\n",
       "        text-align: right;\n",
       "    }\n",
       "</style>\n",
       "<table border=\"1\" class=\"dataframe\">\n",
       "  <thead>\n",
       "    <tr style=\"text-align: right;\">\n",
       "      <th></th>\n",
       "      <th>A</th>\n",
       "      <th>B</th>\n",
       "      <th>C</th>\n",
       "      <th>D</th>\n",
       "      <th>E</th>\n",
       "      <th>F</th>\n",
       "      <th>G</th>\n",
       "    </tr>\n",
       "  </thead>\n",
       "  <tbody>\n",
       "    <tr>\n",
       "      <th>0</th>\n",
       "      <td>0.378283</td>\n",
       "      <td>1</td>\n",
       "      <td>foo</td>\n",
       "      <td>2001-01-02</td>\n",
       "      <td>1.0</td>\n",
       "      <td>False</td>\n",
       "      <td>1</td>\n",
       "    </tr>\n",
       "    <tr>\n",
       "      <th>1</th>\n",
       "      <td>0.678717</td>\n",
       "      <td>1</td>\n",
       "      <td>foo</td>\n",
       "      <td>2001-01-02</td>\n",
       "      <td>1.0</td>\n",
       "      <td>False</td>\n",
       "      <td>1</td>\n",
       "    </tr>\n",
       "    <tr>\n",
       "      <th>2</th>\n",
       "      <td>0.691731</td>\n",
       "      <td>1</td>\n",
       "      <td>foo</td>\n",
       "      <td>2001-01-02</td>\n",
       "      <td>1.0</td>\n",
       "      <td>False</td>\n",
       "      <td>1</td>\n",
       "    </tr>\n",
       "  </tbody>\n",
       "</table>\n",
       "</div>"
      ],
      "text/plain": [
       "          A  B    C          D    E      F  G\n",
       "0  0.378283  1  foo 2001-01-02  1.0  False  1\n",
       "1  0.678717  1  foo 2001-01-02  1.0  False  1\n",
       "2  0.691731  1  foo 2001-01-02  1.0  False  1"
      ]
     },
     "execution_count": 2,
     "metadata": {},
     "output_type": "execute_result"
    }
   ],
   "source": [
    "# create a small dictionary with different data types\n",
    "\n",
    "dft = pd.DataFrame(dict(A = np.random.rand(3),\n",
    "                        B = 1,\n",
    "                        C = 'foo',\n",
    "                        D = pd.Timestamp('20010102'),\n",
    "                        E = pd.Series([1.0]*3).astype('float32'),\n",
    "                                F = False,\n",
    "                                G = pd.Series([1]*3,dtype='int8')))\n",
    "\n",
    "dft"
   ]
  },
  {
   "cell_type": "markdown",
   "metadata": {},
   "source": [
    "**2. Examine the data types of the columns.**"
   ]
  },
  {
   "cell_type": "code",
   "execution_count": 3,
   "metadata": {},
   "outputs": [],
   "source": [
    "# A:"
   ]
  },
  {
   "cell_type": "markdown",
   "metadata": {},
   "source": [
    "**3. Create a Series object with the integers 1-5 and float 6.0. What data type is the Series?**"
   ]
  },
  {
   "cell_type": "code",
   "execution_count": 4,
   "metadata": {},
   "outputs": [],
   "source": [
    "# A:"
   ]
  },
  {
   "cell_type": "markdown",
   "metadata": {},
   "source": [
    "**4. Create a Series with data: `[1, 2, 3, 6., 'foo']`. What data type is the series?**"
   ]
  },
  {
   "cell_type": "code",
   "execution_count": 5,
   "metadata": {},
   "outputs": [],
   "source": [
    "# A:"
   ]
  },
  {
   "cell_type": "markdown",
   "metadata": {},
   "source": [
    "**5. Find how many columns of each type there are with the `.get_dtype_counts()` function.**"
   ]
  },
  {
   "cell_type": "code",
   "execution_count": 6,
   "metadata": {},
   "outputs": [],
   "source": [
    "# A:"
   ]
  },
  {
   "cell_type": "markdown",
   "metadata": {},
   "source": [
    "**6. Create another small DataFrame (provided).**"
   ]
  },
  {
   "cell_type": "code",
   "execution_count": 7,
   "metadata": {},
   "outputs": [],
   "source": [
    "# create a small data frame. \n",
    "df = pd.DataFrame(np.random.randn(5, 4), columns=['a', 'b', 'c', 'd'])"
   ]
  },
  {
   "cell_type": "markdown",
   "metadata": {},
   "source": [
    "**7. Use the `.apply()` function to find the square root of all the cells.**"
   ]
  },
  {
   "cell_type": "code",
   "execution_count": 8,
   "metadata": {},
   "outputs": [],
   "source": [
    "# A:"
   ]
  },
  {
   "cell_type": "markdown",
   "metadata": {},
   "source": [
    "**8. Use `.apply()` to find the mean of the columns.**"
   ]
  },
  {
   "cell_type": "code",
   "execution_count": 9,
   "metadata": {},
   "outputs": [],
   "source": [
    "# A:"
   ]
  },
  {
   "cell_type": "markdown",
   "metadata": {},
   "source": [
    "**9. Find the mean of the rows.**"
   ]
  },
  {
   "cell_type": "code",
   "execution_count": 10,
   "metadata": {},
   "outputs": [],
   "source": [
    "# A:"
   ]
  },
  {
   "cell_type": "markdown",
   "metadata": {},
   "source": [
    "**10. Use numpy to create a random vector of 50 numbers ranging from 0 to 6.**\n",
    "\n",
    "*Hint: This can be done with `np.random.randint()`."
   ]
  },
  {
   "cell_type": "code",
   "execution_count": 11,
   "metadata": {},
   "outputs": [],
   "source": [
    "# A:"
   ]
  },
  {
   "cell_type": "markdown",
   "metadata": {},
   "source": [
    "**11. Convert the vector to a Series and count the occurrences of each number.**"
   ]
  },
  {
   "cell_type": "code",
   "execution_count": 12,
   "metadata": {
    "collapsed": true
   },
   "outputs": [],
   "source": [
    "# A:"
   ]
  },
  {
   "cell_type": "markdown",
   "metadata": {},
   "source": [
    "---\n",
    "\n",
    "# Independent practice: sales data\n",
    "\n",
    "---\n",
    "**1. Load the `sales.csv` data set from the datasets directory.**"
   ]
  },
  {
   "cell_type": "code",
   "execution_count": 57,
   "metadata": {},
   "outputs": [
    {
     "data": {
      "text/html": [
       "<div>\n",
       "<style scoped>\n",
       "    .dataframe tbody tr th:only-of-type {\n",
       "        vertical-align: middle;\n",
       "    }\n",
       "\n",
       "    .dataframe tbody tr th {\n",
       "        vertical-align: top;\n",
       "    }\n",
       "\n",
       "    .dataframe thead th {\n",
       "        text-align: right;\n",
       "    }\n",
       "</style>\n",
       "<table border=\"1\" class=\"dataframe\">\n",
       "  <thead>\n",
       "    <tr style=\"text-align: right;\">\n",
       "      <th></th>\n",
       "      <th>volume_sold</th>\n",
       "      <th>2015_margin</th>\n",
       "      <th>2015_q1_sales</th>\n",
       "      <th>2016_q1_sales</th>\n",
       "    </tr>\n",
       "  </thead>\n",
       "  <tbody>\n",
       "    <tr>\n",
       "      <th>0</th>\n",
       "      <td>18.420760</td>\n",
       "      <td>93.802281</td>\n",
       "      <td>337166.53</td>\n",
       "      <td>337804.05</td>\n",
       "    </tr>\n",
       "    <tr>\n",
       "      <th>1</th>\n",
       "      <td>4.776510</td>\n",
       "      <td>21.082425</td>\n",
       "      <td>22351.86</td>\n",
       "      <td>21736.63</td>\n",
       "    </tr>\n",
       "    <tr>\n",
       "      <th>2</th>\n",
       "      <td>16.602401</td>\n",
       "      <td>93.612494</td>\n",
       "      <td>277764.46</td>\n",
       "      <td>306942.27</td>\n",
       "    </tr>\n",
       "    <tr>\n",
       "      <th>3</th>\n",
       "      <td>4.296111</td>\n",
       "      <td>16.824704</td>\n",
       "      <td>16805.11</td>\n",
       "      <td>9307.75</td>\n",
       "    </tr>\n",
       "    <tr>\n",
       "      <th>4</th>\n",
       "      <td>8.156023</td>\n",
       "      <td>35.011457</td>\n",
       "      <td>54411.42</td>\n",
       "      <td>58939.90</td>\n",
       "    </tr>\n",
       "  </tbody>\n",
       "</table>\n",
       "</div>"
      ],
      "text/plain": [
       "   volume_sold  2015_margin  2015_q1_sales  2016_q1_sales\n",
       "0    18.420760    93.802281      337166.53      337804.05\n",
       "1     4.776510    21.082425       22351.86       21736.63\n",
       "2    16.602401    93.612494      277764.46      306942.27\n",
       "3     4.296111    16.824704       16805.11        9307.75\n",
       "4     8.156023    35.011457       54411.42       58939.90"
      ]
     },
     "execution_count": 57,
     "metadata": {},
     "output_type": "execute_result"
    }
   ],
   "source": [
    "# A:\n",
    "sales_df = pd.read_csv('datasets/sales.csv')\n",
    "sales_df.head()"
   ]
  },
  {
   "cell_type": "markdown",
   "metadata": {},
   "source": [
    "**2. Inspect the data types.**"
   ]
  },
  {
   "cell_type": "code",
   "execution_count": 58,
   "metadata": {},
   "outputs": [
    {
     "data": {
      "text/plain": [
       "volume_sold      float64\n",
       "2015_margin      float64\n",
       "2015_q1_sales    float64\n",
       "2016_q1_sales    float64\n",
       "dtype: object"
      ]
     },
     "execution_count": 58,
     "metadata": {},
     "output_type": "execute_result"
    }
   ],
   "source": [
    "# A:\n",
    "sales_df.dtypes"
   ]
  },
  {
   "cell_type": "markdown",
   "metadata": {},
   "source": [
    "**3. Imagine you've found out that all your values in the first column are off by 1. Use `.apply()` or `.map()` to add 1 to the first column of the dataset.**"
   ]
  },
  {
   "cell_type": "code",
   "execution_count": 59,
   "metadata": {},
   "outputs": [
    {
     "data": {
      "text/html": [
       "<div>\n",
       "<style scoped>\n",
       "    .dataframe tbody tr th:only-of-type {\n",
       "        vertical-align: middle;\n",
       "    }\n",
       "\n",
       "    .dataframe tbody tr th {\n",
       "        vertical-align: top;\n",
       "    }\n",
       "\n",
       "    .dataframe thead th {\n",
       "        text-align: right;\n",
       "    }\n",
       "</style>\n",
       "<table border=\"1\" class=\"dataframe\">\n",
       "  <thead>\n",
       "    <tr style=\"text-align: right;\">\n",
       "      <th></th>\n",
       "      <th>volume_sold</th>\n",
       "      <th>2015_margin</th>\n",
       "      <th>2015_q1_sales</th>\n",
       "      <th>2016_q1_sales</th>\n",
       "    </tr>\n",
       "  </thead>\n",
       "  <tbody>\n",
       "    <tr>\n",
       "      <th>0</th>\n",
       "      <td>19.420760</td>\n",
       "      <td>93.802281</td>\n",
       "      <td>337166.53</td>\n",
       "      <td>337804.05</td>\n",
       "    </tr>\n",
       "    <tr>\n",
       "      <th>1</th>\n",
       "      <td>5.776510</td>\n",
       "      <td>21.082425</td>\n",
       "      <td>22351.86</td>\n",
       "      <td>21736.63</td>\n",
       "    </tr>\n",
       "    <tr>\n",
       "      <th>2</th>\n",
       "      <td>17.602401</td>\n",
       "      <td>93.612494</td>\n",
       "      <td>277764.46</td>\n",
       "      <td>306942.27</td>\n",
       "    </tr>\n",
       "    <tr>\n",
       "      <th>3</th>\n",
       "      <td>5.296111</td>\n",
       "      <td>16.824704</td>\n",
       "      <td>16805.11</td>\n",
       "      <td>9307.75</td>\n",
       "    </tr>\n",
       "    <tr>\n",
       "      <th>4</th>\n",
       "      <td>9.156023</td>\n",
       "      <td>35.011457</td>\n",
       "      <td>54411.42</td>\n",
       "      <td>58939.90</td>\n",
       "    </tr>\n",
       "  </tbody>\n",
       "</table>\n",
       "</div>"
      ],
      "text/plain": [
       "   volume_sold  2015_margin  2015_q1_sales  2016_q1_sales\n",
       "0    19.420760    93.802281      337166.53      337804.05\n",
       "1     5.776510    21.082425       22351.86       21736.63\n",
       "2    17.602401    93.612494      277764.46      306942.27\n",
       "3     5.296111    16.824704       16805.11        9307.75\n",
       "4     9.156023    35.011457       54411.42       58939.90"
      ]
     },
     "execution_count": 59,
     "metadata": {},
     "output_type": "execute_result"
    }
   ],
   "source": [
    "# A:\n",
    "sales_df['volume_sold'] = sales_df['volume_sold'].map(lambda x: x+1)\n",
    "sales_df.head()"
   ]
  },
  {
   "cell_type": "markdown",
   "metadata": {},
   "source": [
    "**4. Use `.value_counts` to count the values of the first column of the dataset.**"
   ]
  },
  {
   "cell_type": "code",
   "execution_count": 61,
   "metadata": {},
   "outputs": [
    {
     "data": {
      "text/plain": [
       "17.059971    1\n",
       "12.232324    1\n",
       "7.290971     1\n",
       "14.635150    1\n",
       "6.047530     1\n",
       "6.906274     1\n",
       "7.618174     1\n",
       "10.292241    1\n",
       "5.200122     1\n",
       "4.210727     1\n",
       "12.997117    1\n",
       "8.200364     1\n",
       "46.556096    1\n",
       "6.778097     1\n",
       "5.385455     1\n",
       "11.804337    1\n",
       "9.017945     1\n",
       "16.697651    1\n",
       "7.654407     1\n",
       "9.300180     1\n",
       "7.537069     1\n",
       "7.433606     1\n",
       "5.776510     1\n",
       "11.186622    1\n",
       "9.156023     1\n",
       "6.531061     1\n",
       "6.294400     1\n",
       "12.697456    1\n",
       "15.439435    1\n",
       "8.390988     1\n",
       "            ..\n",
       "8.682494     1\n",
       "10.127095    1\n",
       "11.292681    1\n",
       "6.324497     1\n",
       "5.296111     1\n",
       "10.348477    1\n",
       "13.581695    1\n",
       "13.395919    1\n",
       "52.800686    1\n",
       "12.625606    1\n",
       "11.677295    1\n",
       "11.252870    1\n",
       "5.941294     1\n",
       "15.606750    1\n",
       "30.878030    1\n",
       "11.331430    1\n",
       "8.434821     1\n",
       "8.196779     1\n",
       "8.785867     1\n",
       "12.091709    1\n",
       "13.509967    1\n",
       "6.147729     1\n",
       "13.350027    1\n",
       "6.388070     1\n",
       "9.555078     1\n",
       "12.840780    1\n",
       "6.723896     1\n",
       "8.437252     1\n",
       "5.456466     1\n",
       "11.705327    1\n",
       "Name: volume_sold, Length: 200, dtype: int64"
      ]
     },
     "execution_count": 61,
     "metadata": {},
     "output_type": "execute_result"
    }
   ],
   "source": [
    "# A:\n",
    "sales_df['volume_sold'].value_counts()"
   ]
  },
  {
   "cell_type": "markdown",
   "metadata": {},
   "source": [
    "**BONUS: The `.value_counts()` output in question four isn't very insightful.  Use [Pandas.DataFrame.round](http://pandas.pydata.org/pandas-docs/stable/generated/pandas.DataFrame.round.html) to round the column to the nearest tenth before runing `.value_counts()`.**"
   ]
  },
  {
   "cell_type": "code",
   "execution_count": 62,
   "metadata": {},
   "outputs": [
    {
     "data": {
      "text/plain": [
       "7.3     7\n",
       "11.3    6\n",
       "9.6     6\n",
       "8.8     6\n",
       "8.4     5\n",
       "10.3    5\n",
       "5.8     4\n",
       "11.1    4\n",
       "6.2     4\n",
       "11.7    3\n",
       "6.9     3\n",
       "8.2     3\n",
       "8.6     3\n",
       "9.2     3\n",
       "5.4     3\n",
       "9.5     3\n",
       "6.8     3\n",
       "7.7     3\n",
       "13.5    3\n",
       "7.0     3\n",
       "9.8     3\n",
       "6.0     3\n",
       "11.6    3\n",
       "5.9     3\n",
       "12.1    3\n",
       "9.4     3\n",
       "9.1     3\n",
       "10.2    2\n",
       "10.4    2\n",
       "8.7     2\n",
       "       ..\n",
       "13.1    1\n",
       "4.2     1\n",
       "7.1     1\n",
       "19.7    1\n",
       "15.6    1\n",
       "5.3     1\n",
       "11.9    1\n",
       "56.7    1\n",
       "77.2    1\n",
       "7.2     1\n",
       "51.3    1\n",
       "3.8     1\n",
       "52.8    1\n",
       "17.1    1\n",
       "4.1     1\n",
       "4.6     1\n",
       "10.9    1\n",
       "10.7    1\n",
       "30.9    1\n",
       "9.7     1\n",
       "10.1    1\n",
       "14.8    1\n",
       "6.4     1\n",
       "4.7     1\n",
       "46.6    1\n",
       "5.6     1\n",
       "52.7    1\n",
       "17.6    1\n",
       "19.4    1\n",
       "12.2    1\n",
       "Name: volume_sold, Length: 99, dtype: int64"
      ]
     },
     "execution_count": 62,
     "metadata": {},
     "output_type": "execute_result"
    }
   ],
   "source": [
    "# A:\n",
    "sales_df['volume_sold'].round(1).value_counts()\n"
   ]
  },
  {
   "cell_type": "code",
   "execution_count": null,
   "metadata": {
    "collapsed": true
   },
   "outputs": [],
   "source": []
  }
 ],
 "metadata": {
  "anaconda-cloud": {},
  "kernelspec": {
   "display_name": "Python 2",
   "language": "python",
   "name": "python2"
  },
  "language_info": {
   "codemirror_mode": {
    "name": "ipython",
    "version": 2
   },
   "file_extension": ".py",
   "mimetype": "text/x-python",
   "name": "python",
   "nbconvert_exporter": "python",
   "pygments_lexer": "ipython2",
   "version": "2.7.11"
  }
 },
 "nbformat": 4,
 "nbformat_minor": 1
}
