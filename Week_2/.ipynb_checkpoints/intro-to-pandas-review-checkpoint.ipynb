{
 "cells": [
  {
   "cell_type": "markdown",
   "metadata": {},
   "source": [
    "<img src=\"http://imgur.com/1ZcRyrc.png\" style=\"float: left; margin: 20px; height: 55px\">\n",
    "\n",
    "## Intro to `pandas` Review\n",
    "\n",
    "_Authors: Dave Yerrington (SF), Kiefer Katovich (SF)_\n",
    "\n",
    "---"
   ]
  },
  {
   "cell_type": "code",
   "execution_count": 74,
   "metadata": {},
   "outputs": [],
   "source": [
    "import pandas as pd\n",
    "import numpy as np\n",
    "import matplotlib.pyplot as plt\n",
    "from pprint import pprint\n",
    "%matplotlib inline"
   ]
  },
  {
   "cell_type": "markdown",
   "metadata": {},
   "source": [
    "### A. Explore _Mad Men_ Cast Data\n",
    "\n",
    "---\n",
    "\n",
    "#### 1. Load the _Mad Men_ cast data into a `pandas` DataFrame."
   ]
  },
  {
   "cell_type": "code",
   "execution_count": 3,
   "metadata": {
    "collapsed": true
   },
   "outputs": [],
   "source": [
    "mad_men_file = 'datasets/mad-men-cast-show-data.csv'"
   ]
  },
  {
   "cell_type": "code",
   "execution_count": 6,
   "metadata": {},
   "outputs": [],
   "source": [
    "mad_men_df = pd.read_csv(mad_men_file)\n"
   ]
  },
  {
   "cell_type": "markdown",
   "metadata": {},
   "source": [
    "#### 2. Print the head and tail of the data."
   ]
  },
  {
   "cell_type": "code",
   "execution_count": 7,
   "metadata": {},
   "outputs": [
    {
     "data": {
      "text/html": [
       "<div>\n",
       "<style scoped>\n",
       "    .dataframe tbody tr th:only-of-type {\n",
       "        vertical-align: middle;\n",
       "    }\n",
       "\n",
       "    .dataframe tbody tr th {\n",
       "        vertical-align: top;\n",
       "    }\n",
       "\n",
       "    .dataframe thead th {\n",
       "        text-align: right;\n",
       "    }\n",
       "</style>\n",
       "<table border=\"1\" class=\"dataframe\">\n",
       "  <thead>\n",
       "    <tr style=\"text-align: right;\">\n",
       "      <th></th>\n",
       "      <th>Performer</th>\n",
       "      <th>Show</th>\n",
       "      <th>Show Start</th>\n",
       "      <th>Show End</th>\n",
       "      <th>Status?</th>\n",
       "      <th>CharEnd</th>\n",
       "      <th>Years Since</th>\n",
       "      <th>#LEAD</th>\n",
       "      <th>#SUPPORT</th>\n",
       "      <th>#Shows</th>\n",
       "      <th>Score</th>\n",
       "      <th>Score/Y</th>\n",
       "      <th>lead_notes</th>\n",
       "      <th>support_notes</th>\n",
       "      <th>show_notes</th>\n",
       "    </tr>\n",
       "  </thead>\n",
       "  <tbody>\n",
       "    <tr>\n",
       "      <th>0</th>\n",
       "      <td>Steven Hill</td>\n",
       "      <td>Law &amp; Order</td>\n",
       "      <td>1990</td>\n",
       "      <td>2010</td>\n",
       "      <td>END</td>\n",
       "      <td>2000</td>\n",
       "      <td>15</td>\n",
       "      <td>0</td>\n",
       "      <td>0</td>\n",
       "      <td>0</td>\n",
       "      <td>0.00</td>\n",
       "      <td>0</td>\n",
       "      <td>NaN</td>\n",
       "      <td>NaN</td>\n",
       "      <td>NaN</td>\n",
       "    </tr>\n",
       "    <tr>\n",
       "      <th>1</th>\n",
       "      <td>Kelli Williams</td>\n",
       "      <td>The Practice</td>\n",
       "      <td>1997</td>\n",
       "      <td>2014</td>\n",
       "      <td>END</td>\n",
       "      <td>2003</td>\n",
       "      <td>12</td>\n",
       "      <td>0</td>\n",
       "      <td>1</td>\n",
       "      <td>6</td>\n",
       "      <td>6.25</td>\n",
       "      <td>0.520833333</td>\n",
       "      <td>NaN</td>\n",
       "      <td>Any Day Now (2012)</td>\n",
       "      <td>Medical Investigation, Season 1; Lie To Me, Se...</td>\n",
       "    </tr>\n",
       "    <tr>\n",
       "      <th>2</th>\n",
       "      <td>LisaGay Hamilton</td>\n",
       "      <td>The Practice</td>\n",
       "      <td>1997</td>\n",
       "      <td>2014</td>\n",
       "      <td>END</td>\n",
       "      <td>2003</td>\n",
       "      <td>12</td>\n",
       "      <td>2</td>\n",
       "      <td>0</td>\n",
       "      <td>2</td>\n",
       "      <td>4.00</td>\n",
       "      <td>0.333333333</td>\n",
       "      <td>Life of a King, 2014; Go For Sisters, 2013</td>\n",
       "      <td>NaN</td>\n",
       "      <td>Men of a Certain Age, Season 1-2</td>\n",
       "    </tr>\n",
       "    <tr>\n",
       "      <th>3</th>\n",
       "      <td>Lara Flynn Boyle</td>\n",
       "      <td>The Practice</td>\n",
       "      <td>1997</td>\n",
       "      <td>2014</td>\n",
       "      <td>END</td>\n",
       "      <td>2003</td>\n",
       "      <td>12</td>\n",
       "      <td>0</td>\n",
       "      <td>0</td>\n",
       "      <td>0</td>\n",
       "      <td>0.00</td>\n",
       "      <td>0</td>\n",
       "      <td>NaN</td>\n",
       "      <td>NaN</td>\n",
       "      <td>NaN</td>\n",
       "    </tr>\n",
       "    <tr>\n",
       "      <th>4</th>\n",
       "      <td>Dylan McDermott</td>\n",
       "      <td>The Practice</td>\n",
       "      <td>1997</td>\n",
       "      <td>2014</td>\n",
       "      <td>END</td>\n",
       "      <td>2004</td>\n",
       "      <td>11</td>\n",
       "      <td>2</td>\n",
       "      <td>7</td>\n",
       "      <td>6</td>\n",
       "      <td>9.75</td>\n",
       "      <td>0.886363636</td>\n",
       "      <td>Olympus Has Fallen, 2013; Freezer, 2014</td>\n",
       "      <td>The Messengers, 2007; Unbeatable Harold, 2009;...</td>\n",
       "      <td>Big Shots, Season 1; Dark Blue, Season 1-2; Am...</td>\n",
       "    </tr>\n",
       "  </tbody>\n",
       "</table>\n",
       "</div>"
      ],
      "text/plain": [
       "          Performer          Show  Show Start Show End Status?  CharEnd  \\\n",
       "0       Steven Hill   Law & Order        1990     2010     END     2000   \n",
       "1    Kelli Williams  The Practice        1997     2014     END     2003   \n",
       "2  LisaGay Hamilton  The Practice        1997     2014     END     2003   \n",
       "3  Lara Flynn Boyle  The Practice        1997     2014     END     2003   \n",
       "4   Dylan McDermott  The Practice        1997     2014     END     2004   \n",
       "\n",
       "   Years Since  #LEAD  #SUPPORT  #Shows  Score      Score/Y  \\\n",
       "0           15      0         0       0   0.00            0   \n",
       "1           12      0         1       6   6.25  0.520833333   \n",
       "2           12      2         0       2   4.00  0.333333333   \n",
       "3           12      0         0       0   0.00            0   \n",
       "4           11      2         7       6   9.75  0.886363636   \n",
       "\n",
       "                                   lead_notes  \\\n",
       "0                                         NaN   \n",
       "1                                         NaN   \n",
       "2  Life of a King, 2014; Go For Sisters, 2013   \n",
       "3                                         NaN   \n",
       "4     Olympus Has Fallen, 2013; Freezer, 2014   \n",
       "\n",
       "                                       support_notes  \\\n",
       "0                                                NaN   \n",
       "1                                 Any Day Now (2012)   \n",
       "2                                                NaN   \n",
       "3                                                NaN   \n",
       "4  The Messengers, 2007; Unbeatable Harold, 2009;...   \n",
       "\n",
       "                                          show_notes  \n",
       "0                                                NaN  \n",
       "1  Medical Investigation, Season 1; Lie To Me, Se...  \n",
       "2                   Men of a Certain Age, Season 1-2  \n",
       "3                                                NaN  \n",
       "4  Big Shots, Season 1; Dark Blue, Season 1-2; Am...  "
      ]
     },
     "execution_count": 7,
     "metadata": {},
     "output_type": "execute_result"
    }
   ],
   "source": [
    "mad_men_df.head()"
   ]
  },
  {
   "cell_type": "code",
   "execution_count": 8,
   "metadata": {},
   "outputs": [
    {
     "data": {
      "text/html": [
       "<div>\n",
       "<style scoped>\n",
       "    .dataframe tbody tr th:only-of-type {\n",
       "        vertical-align: middle;\n",
       "    }\n",
       "\n",
       "    .dataframe tbody tr th {\n",
       "        vertical-align: top;\n",
       "    }\n",
       "\n",
       "    .dataframe thead th {\n",
       "        text-align: right;\n",
       "    }\n",
       "</style>\n",
       "<table border=\"1\" class=\"dataframe\">\n",
       "  <thead>\n",
       "    <tr style=\"text-align: right;\">\n",
       "      <th></th>\n",
       "      <th>Performer</th>\n",
       "      <th>Show</th>\n",
       "      <th>Show Start</th>\n",
       "      <th>Show End</th>\n",
       "      <th>Status?</th>\n",
       "      <th>CharEnd</th>\n",
       "      <th>Years Since</th>\n",
       "      <th>#LEAD</th>\n",
       "      <th>#SUPPORT</th>\n",
       "      <th>#Shows</th>\n",
       "      <th>Score</th>\n",
       "      <th>Score/Y</th>\n",
       "      <th>lead_notes</th>\n",
       "      <th>support_notes</th>\n",
       "      <th>show_notes</th>\n",
       "    </tr>\n",
       "  </thead>\n",
       "  <tbody>\n",
       "    <tr>\n",
       "      <th>243</th>\n",
       "      <td>Meghan Wolfe</td>\n",
       "      <td>True Detective</td>\n",
       "      <td>2014</td>\n",
       "      <td>PRESENT</td>\n",
       "      <td>LEFT</td>\n",
       "      <td>2014</td>\n",
       "      <td>1</td>\n",
       "      <td>0</td>\n",
       "      <td>0</td>\n",
       "      <td>0</td>\n",
       "      <td>0.00</td>\n",
       "      <td>0</td>\n",
       "      <td>NaN</td>\n",
       "      <td>NaN</td>\n",
       "      <td>NaN</td>\n",
       "    </tr>\n",
       "    <tr>\n",
       "      <th>244</th>\n",
       "      <td>Kevin Dunn</td>\n",
       "      <td>True Detective</td>\n",
       "      <td>2014</td>\n",
       "      <td>PRESENT</td>\n",
       "      <td>LEFT</td>\n",
       "      <td>2014</td>\n",
       "      <td>1</td>\n",
       "      <td>0</td>\n",
       "      <td>1</td>\n",
       "      <td>2</td>\n",
       "      <td>2.25</td>\n",
       "      <td>2.25</td>\n",
       "      <td>NaN</td>\n",
       "      <td>Draft Day, 2014</td>\n",
       "      <td>Veep, Season 3-4</td>\n",
       "    </tr>\n",
       "    <tr>\n",
       "      <th>245</th>\n",
       "      <td>Charles Dance</td>\n",
       "      <td>Game of Thrones</td>\n",
       "      <td>2011</td>\n",
       "      <td>PRESENT</td>\n",
       "      <td>LEFT</td>\n",
       "      <td>2015</td>\n",
       "      <td>0</td>\n",
       "      <td>0</td>\n",
       "      <td>2</td>\n",
       "      <td>1</td>\n",
       "      <td>1.50</td>\n",
       "      <td>#DIV/0!</td>\n",
       "      <td>NaN</td>\n",
       "      <td>Woman in Gold, 2015; Child 44, 2015</td>\n",
       "      <td>Deadline Gallipoli, Season 1</td>\n",
       "    </tr>\n",
       "    <tr>\n",
       "      <th>246</th>\n",
       "      <td>Patrick Dempsey</td>\n",
       "      <td>Grey's Anatomy</td>\n",
       "      <td>2005</td>\n",
       "      <td>PRESENT</td>\n",
       "      <td>LEFT</td>\n",
       "      <td>2015</td>\n",
       "      <td>0</td>\n",
       "      <td>0</td>\n",
       "      <td>0</td>\n",
       "      <td>0</td>\n",
       "      <td>0.00</td>\n",
       "      <td>#DIV/0!</td>\n",
       "      <td>NaN</td>\n",
       "      <td>NaN</td>\n",
       "      <td>NaN</td>\n",
       "    </tr>\n",
       "    <tr>\n",
       "      <th>247</th>\n",
       "      <td>Ian McElhinney</td>\n",
       "      <td>Game of Thrones</td>\n",
       "      <td>2011</td>\n",
       "      <td>PRESENT</td>\n",
       "      <td>LEFT</td>\n",
       "      <td>2015</td>\n",
       "      <td>0</td>\n",
       "      <td>0</td>\n",
       "      <td>0</td>\n",
       "      <td>0</td>\n",
       "      <td>0.00</td>\n",
       "      <td>#DIV/0!</td>\n",
       "      <td>NaN</td>\n",
       "      <td>NaN</td>\n",
       "      <td>NaN</td>\n",
       "    </tr>\n",
       "  </tbody>\n",
       "</table>\n",
       "</div>"
      ],
      "text/plain": [
       "           Performer             Show  Show Start Show End Status?  CharEnd  \\\n",
       "243     Meghan Wolfe   True Detective        2014  PRESENT    LEFT     2014   \n",
       "244       Kevin Dunn   True Detective        2014  PRESENT    LEFT     2014   \n",
       "245    Charles Dance  Game of Thrones        2011  PRESENT    LEFT     2015   \n",
       "246  Patrick Dempsey   Grey's Anatomy        2005  PRESENT    LEFT     2015   \n",
       "247   Ian McElhinney  Game of Thrones        2011  PRESENT    LEFT     2015   \n",
       "\n",
       "     Years Since  #LEAD  #SUPPORT  #Shows  Score  Score/Y lead_notes  \\\n",
       "243            1      0         0       0   0.00        0        NaN   \n",
       "244            1      0         1       2   2.25     2.25        NaN   \n",
       "245            0      0         2       1   1.50  #DIV/0!        NaN   \n",
       "246            0      0         0       0   0.00  #DIV/0!        NaN   \n",
       "247            0      0         0       0   0.00  #DIV/0!        NaN   \n",
       "\n",
       "                           support_notes                    show_notes  \n",
       "243                                  NaN                           NaN  \n",
       "244                      Draft Day, 2014              Veep, Season 3-4  \n",
       "245  Woman in Gold, 2015; Child 44, 2015  Deadline Gallipoli, Season 1  \n",
       "246                                  NaN                           NaN  \n",
       "247                                  NaN                           NaN  "
      ]
     },
     "execution_count": 8,
     "metadata": {},
     "output_type": "execute_result"
    }
   ],
   "source": [
    "mad_men_df.tail()"
   ]
  },
  {
   "cell_type": "markdown",
   "metadata": {},
   "source": [
    "#### 3. Print the columns of the data."
   ]
  },
  {
   "cell_type": "code",
   "execution_count": 9,
   "metadata": {},
   "outputs": [
    {
     "data": {
      "text/plain": [
       "Index([u'Performer', u'Show', u'Show Start', u'Show End', u'Status?',\n",
       "       u'CharEnd', u'Years Since', u'#LEAD', u'#SUPPORT', u'#Shows', u'Score',\n",
       "       u'Score/Y', u'lead_notes', u'support_notes', u'show_notes'],\n",
       "      dtype='object')"
      ]
     },
     "execution_count": 9,
     "metadata": {},
     "output_type": "execute_result"
    }
   ],
   "source": [
    "mad_men_df.columns"
   ]
  },
  {
   "cell_type": "markdown",
   "metadata": {},
   "source": [
    "#### 4. Rename any columns with spaces or special characters to not contain any."
   ]
  },
  {
   "cell_type": "code",
   "execution_count": 29,
   "metadata": {},
   "outputs": [
    {
     "name": "stdout",
     "output_type": "stream",
     "text": [
      "Index([u'Performer', u'Show', u'Show_Start', u'Show_End', u'Status',\n",
      "       u'CharEnd', u'Years_Since', u'LEAD', u'SUPPORT', u'Shows', u'Score',\n",
      "       u'ScoreY', u'lead_notes', u'support_notes', u'show_notes'],\n",
      "      dtype='object')\n"
     ]
    }
   ],
   "source": [
    "import string\n",
    "loweralpha = string.ascii_lowercase\n",
    "upperalpha = string.ascii_uppercase\n",
    "\n",
    "new_columns = []\n",
    "for header in mad_men_df.columns:\n",
    "    new_header = header.replace(' ', '_')\n",
    "    new_header = ''.join([char for char in new_header if char in loweralpha+upperalpha+'_'])\n",
    "    new_columns.append(new_header)\n",
    "\n",
    "mad_men_df.rename(columns={mad_men_df.columns[i]:h for i, h in enumerate(new_columns)}, inplace=True)\n",
    "print(mad_men_df.columns)\n"
   ]
  },
  {
   "cell_type": "markdown",
   "metadata": {},
   "source": [
    "#### 5. Subset the data where the status of the show is not \"END\" or \"End.\""
   ]
  },
  {
   "cell_type": "code",
   "execution_count": 35,
   "metadata": {
    "scrolled": true
   },
   "outputs": [
    {
     "name": "stdout",
     "output_type": "stream",
     "text": [
      "            Performer             Show  Show_Start Show_End Status  CharEnd  \\\n",
      "157  Siobhan Finneran    Downton Abbey        2010  PRESENT   LEFT     2012   \n",
      "162         Eric Dane   Grey's Anatomy        2005  PRESENT   LEFT     2012   \n",
      "163    David Harewood         Homeland        2011  PRESENT   LEFT     2012   \n",
      "171       Dan Stevens    Downton Abbey        2010  PRESENT   LEFT     2012   \n",
      "173  Michelle Fairley  Game of Thrones        2011  PRESENT   LEFT     2013   \n",
      "\n",
      "     Years_Since  LEAD  SUPPORT  Shows  Score       ScoreY  \\\n",
      "157            3     0        0      8    8.0  2.666666667   \n",
      "162            3     0        0      1    1.0  0.333333333   \n",
      "163            3     0        0      1    1.0  0.333333333   \n",
      "171            3     3        4      0    4.0  1.333333333   \n",
      "173            2     0        2      3    3.5         1.75   \n",
      "\n",
      "                                            lead_notes  \\\n",
      "157                                                NaN   \n",
      "162                                                NaN   \n",
      "163                                                NaN   \n",
      "171  Summer in February, 2014; The Guest, 2014; Nig...   \n",
      "173                                                NaN   \n",
      "\n",
      "                                         support_notes  \\\n",
      "157                                                NaN   \n",
      "162                                                NaN   \n",
      "163                                                NaN   \n",
      "171  Vamps, 2012; The Fifth Estate, 2013; A Walk Am...   \n",
      "173  Ironclad: Battle for Blood, 2014; Jack et la m...   \n",
      "\n",
      "                                            show_notes  \n",
      "157  The Syndicate, Season 2; Happy Valley, Season ...  \n",
      "162                            The Last Ship, Season 1  \n",
      "163                                   Selfie, Season 1  \n",
      "171                                                NaN  \n",
      "173  Suits, Season 3; 24: Live Another Day, Season ...  \n"
     ]
    }
   ],
   "source": [
    "subset = mad_men_df[(mad_men_df['Status'] != 'END') & (mad_men_df['Status'] != 'End')]\n",
    "print(subset.head())"
   ]
  },
  {
   "cell_type": "markdown",
   "metadata": {},
   "source": [
    "#### 6. Print out the performers where the show start is greater than 2005 and the score is greater than 7."
   ]
  },
  {
   "cell_type": "code",
   "execution_count": 36,
   "metadata": {},
   "outputs": [
    {
     "data": {
      "text/plain": [
       "Performer         object\n",
       "Show              object\n",
       "Show_Start         int64\n",
       "Show_End          object\n",
       "Status            object\n",
       "CharEnd            int64\n",
       "Years_Since        int64\n",
       "LEAD               int64\n",
       "SUPPORT            int64\n",
       "Shows              int64\n",
       "Score            float64\n",
       "ScoreY            object\n",
       "lead_notes        object\n",
       "support_notes     object\n",
       "show_notes        object\n",
       "dtype: object"
      ]
     },
     "execution_count": 36,
     "metadata": {},
     "output_type": "execute_result"
    }
   ],
   "source": [
    "# double checking out dtypes to make sure they are correct.\n",
    "mad_men_df.dtypes"
   ]
  },
  {
   "cell_type": "code",
   "execution_count": 39,
   "metadata": {},
   "outputs": [
    {
     "name": "stdout",
     "output_type": "stream",
     "text": [
      "            Performer                 Show  Show_Start Show_End Status  \\\n",
      "95       Scott Porter  Friday Night Lights        2006     2011    END   \n",
      "132    Connie Britton  Friday Night Lights        2006     2011    END   \n",
      "149   Amanda Seyfried             Big Love        2006     2011    End   \n",
      "157  Siobhan Finneran        Downton Abbey        2010  PRESENT   LEFT   \n",
      "\n",
      "     CharEnd  Years_Since  LEAD  SUPPORT  Shows  Score       ScoreY  \\\n",
      "95      2010            5     3        1      6   9.25         1.85   \n",
      "132     2011            4     3        1      4   7.25       1.8125   \n",
      "149     2011            4     8        3      0   8.75       2.1875   \n",
      "157     2012            3     0        0      8   8.00  2.666666667   \n",
      "\n",
      "                                            lead_notes  \\\n",
      "95   The Good Guy, 2010; 10 Years, 2012; The To Do ...   \n",
      "132  The Fitzgerald Family Christmas, 2012; Angels ...   \n",
      "149  Red Riding Hood, 2011; In Time, 2011; Gine, 20...   \n",
      "157                                                NaN   \n",
      "\n",
      "                                         support_notes  \\\n",
      "95                                     Dear John, 2010   \n",
      "132                               The To Do List, 2013   \n",
      "149  The End of Love, 2013; Veronica Mars, 2014; Wh...   \n",
      "157                                                NaN   \n",
      "\n",
      "                                            show_notes  \n",
      "95   The Good Wife, Season 2; X-Men, Season 1; Hear...  \n",
      "132  American Horror Story, Season 1; Nashville, Se...  \n",
      "149                                                NaN  \n",
      "157  The Syndicate, Season 2; Happy Valley, Season ...  \n"
     ]
    }
   ],
   "source": [
    "subset = mad_men_df[(mad_men_df['Show_Start']>2005) & (mad_men_df['Score']>7)]\n",
    "print(subset)"
   ]
  },
  {
   "cell_type": "markdown",
   "metadata": {},
   "source": [
    "#### 7. Select the performer and show column for the 20th-25th LABELED rows."
   ]
  },
  {
   "cell_type": "code",
   "execution_count": 60,
   "metadata": {},
   "outputs": [
    {
     "data": {
      "text/html": [
       "<div>\n",
       "<style scoped>\n",
       "    .dataframe tbody tr th:only-of-type {\n",
       "        vertical-align: middle;\n",
       "    }\n",
       "\n",
       "    .dataframe tbody tr th {\n",
       "        vertical-align: top;\n",
       "    }\n",
       "\n",
       "    .dataframe thead th {\n",
       "        text-align: right;\n",
       "    }\n",
       "</style>\n",
       "<table border=\"1\" class=\"dataframe\">\n",
       "  <thead>\n",
       "    <tr style=\"text-align: right;\">\n",
       "      <th></th>\n",
       "      <th>Show</th>\n",
       "      <th>Performer</th>\n",
       "    </tr>\n",
       "  </thead>\n",
       "  <tbody>\n",
       "    <tr>\n",
       "      <th>20</th>\n",
       "      <td>Joan of Arcadia</td>\n",
       "      <td>Mary Steenburgen</td>\n",
       "    </tr>\n",
       "    <tr>\n",
       "      <th>21</th>\n",
       "      <td>Six Feet Under</td>\n",
       "      <td>Mathew St. Patrick</td>\n",
       "    </tr>\n",
       "    <tr>\n",
       "      <th>22</th>\n",
       "      <td>Joan of Arcadia</td>\n",
       "      <td>Michael Welch</td>\n",
       "    </tr>\n",
       "    <tr>\n",
       "      <th>23</th>\n",
       "      <td>Joan of Arcadia</td>\n",
       "      <td>Aaron Himelstein</td>\n",
       "    </tr>\n",
       "    <tr>\n",
       "      <th>24</th>\n",
       "      <td>Joan of Arcadia</td>\n",
       "      <td>Becky Wahlstrom</td>\n",
       "    </tr>\n",
       "    <tr>\n",
       "      <th>25</th>\n",
       "      <td>Joan of Arcadia</td>\n",
       "      <td>Chris Marquette</td>\n",
       "    </tr>\n",
       "  </tbody>\n",
       "</table>\n",
       "</div>"
      ],
      "text/plain": [
       "               Show           Performer\n",
       "20  Joan of Arcadia    Mary Steenburgen\n",
       "21   Six Feet Under  Mathew St. Patrick\n",
       "22  Joan of Arcadia       Michael Welch\n",
       "23  Joan of Arcadia    Aaron Himelstein\n",
       "24  Joan of Arcadia     Becky Wahlstrom\n",
       "25  Joan of Arcadia     Chris Marquette"
      ]
     },
     "execution_count": 60,
     "metadata": {},
     "output_type": "execute_result"
    }
   ],
   "source": [
    "mad_men_df.loc[20:25, ['Show','Performer']]"
   ]
  },
  {
   "cell_type": "markdown",
   "metadata": {},
   "source": [
    "#### 8. Plot a histogram of score."
   ]
  },
  {
   "cell_type": "code",
   "execution_count": 48,
   "metadata": {},
   "outputs": [
    {
     "data": {
      "text/plain": [
       "<matplotlib.axes._subplots.AxesSubplot at 0x1086e95d0>"
      ]
     },
     "execution_count": 48,
     "metadata": {},
     "output_type": "execute_result"
    },
    {
     "data": {
      "image/png": "[encoded data removed]",
      "text/plain": [
       "<matplotlib.figure.Figure at 0x1082d7890>"
      ]
     },
     "metadata": {},
     "output_type": "display_data"
    }
   ],
   "source": [
    "mad_men_df['Score'].hist()"
   ]
  },
  {
   "cell_type": "markdown",
   "metadata": {},
   "source": [
    "### B. Explore San Francisco Crime Data\n",
    "\n",
    "--- \n",
    "\n",
    "**9. Load the San Francisco crime data set into a DataFrame.**"
   ]
  },
  {
   "cell_type": "code",
   "execution_count": 51,
   "metadata": {
    "collapsed": true
   },
   "outputs": [],
   "source": [
    "crime_csv = 'datasets/sf_crime.csv'"
   ]
  },
  {
   "cell_type": "code",
   "execution_count": 54,
   "metadata": {},
   "outputs": [
    {
     "name": "stdout",
     "output_type": "stream",
     "text": [
      "                 Dates       Category                           Descript  \\\n",
      "0  2003-03-23 23:27:00          ARSON                 ARSON OF A VEHICLE   \n",
      "1  2006-03-07 06:45:00  LARCENY/THEFT       PETTY THEFT FROM LOCKED AUTO   \n",
      "2  2004-03-06 03:00:00   NON-CRIMINAL                      LOST PROPERTY   \n",
      "3  2011-12-03 12:10:00       BURGLARY  BURGLARY OF STORE, UNLAWFUL ENTRY   \n",
      "4  2003-01-10 00:15:00  LARCENY/THEFT            PETTY THEFT OF PROPERTY   \n",
      "\n",
      "  DayOfWeek PdDistrict      Resolution                         Address  \\\n",
      "0    Sunday    BAYVIEW            NONE  0 Block of HUNTERS PT EXPWY EX   \n",
      "1   Tuesday   NORTHERN            NONE            0 Block of MARINA BL   \n",
      "2  Saturday   SOUTHERN            NONE          800 Block of BRYANT ST   \n",
      "3  Saturday    TARAVAL  ARREST, BOOKED           3200 Block of 20TH AV   \n",
      "4    Friday   NORTHERN            NONE           POLK ST / BROADWAY ST   \n",
      "\n",
      "            X          Y  \n",
      "0 -122.376945  37.733018  \n",
      "1 -122.432952  37.805052  \n",
      "2 -122.403405  37.775421  \n",
      "3 -122.475647  37.728528  \n",
      "4 -122.421772  37.795946  \n"
     ]
    }
   ],
   "source": [
    "crime = pd.read_csv(crime_csv)\n",
    "print(crime.head())"
   ]
  },
  {
   "cell_type": "markdown",
   "metadata": {},
   "source": [
    "**10. Look at the dimensions of the crime data.**"
   ]
  },
  {
   "cell_type": "code",
   "execution_count": 53,
   "metadata": {},
   "outputs": [
    {
     "data": {
      "text/plain": [
       "(25000, 9)"
      ]
     },
     "execution_count": 53,
     "metadata": {},
     "output_type": "execute_result"
    }
   ],
   "source": [
    "crime.shape"
   ]
  },
  {
   "cell_type": "markdown",
   "metadata": {},
   "source": [
    "**11. Look at the data types of the columns and print out the column names.**"
   ]
  },
  {
   "cell_type": "code",
   "execution_count": null,
   "metadata": {},
   "outputs": [],
   "source": [
    "crime.dtypes"
   ]
  },
  {
   "cell_type": "code",
   "execution_count": 59,
   "metadata": {},
   "outputs": [
    {
     "data": {
      "text/plain": [
       "Index([u'Dates', u'Category', u'Descript', u'DayOfWeek', u'PdDistrict',\n",
       "       u'Resolution', u'Address', u'X', u'Y'],\n",
       "      dtype='object')"
      ]
     },
     "execution_count": 59,
     "metadata": {},
     "output_type": "execute_result"
    }
   ],
   "source": [
    "crime.columns"
   ]
  },
  {
   "cell_type": "markdown",
   "metadata": {},
   "source": [
    "**12. How many distinct districts are there?**"
   ]
  },
  {
   "cell_type": "code",
   "execution_count": 57,
   "metadata": {},
   "outputs": [
    {
     "name": "stdout",
     "output_type": "stream",
     "text": [
      "['BAYVIEW' 'NORTHERN' 'SOUTHERN' 'TARAVAL' 'MISSION' 'INGLESIDE' 'CENTRAL'\n",
      " 'TENDERLOIN' 'RICHMOND' 'PARK']\n",
      "10\n"
     ]
    }
   ],
   "source": [
    "print crime.PdDistrict.unique()\n",
    "print len(crime.PdDistrict.unique())"
   ]
  },
  {
   "cell_type": "markdown",
   "metadata": {},
   "source": [
    "**13. Which day of the week has the most crime?**"
   ]
  },
  {
   "cell_type": "code",
   "execution_count": 58,
   "metadata": {},
   "outputs": [
    {
     "name": "stdout",
     "output_type": "stream",
     "text": [
      "Sunday (3313, 9)\n",
      "Tuesday (3548, 9)\n",
      "Saturday (3496, 9)\n",
      "Friday (3883, 9)\n",
      "Monday (3524, 9)\n",
      "Wednesday (3657, 9)\n",
      "Thursday (3579, 9)\n"
     ]
    }
   ],
   "source": [
    "for day in crime.DayOfWeek.unique():\n",
    "    print day, crime[crime.DayOfWeek == day].shape"
   ]
  },
  {
   "cell_type": "code",
   "execution_count": null,
   "metadata": {
    "collapsed": true
   },
   "outputs": [],
   "source": [
    "# Friday has the most crime."
   ]
  },
  {
   "cell_type": "markdown",
   "metadata": {},
   "source": [
    "#### 14. Make a new DataFrame featuring the crime categories and the number of crimes per category."
   ]
  },
  {
   "cell_type": "code",
   "execution_count": 80,
   "metadata": {},
   "outputs": [
    {
     "name": "stdout",
     "output_type": "stream",
     "text": [
      "                       Category  Crimes\n",
      "0                         ARSON      52\n",
      "1                       ASSAULT    2164\n",
      "2                    BAD CHECKS      14\n",
      "3                       BRIBERY       8\n",
      "4                      BURGLARY    1023\n",
      "5            DISORDERLY CONDUCT     105\n",
      "6   DRIVING UNDER THE INFLUENCE      75\n",
      "7                 DRUG/NARCOTIC    1533\n",
      "8                   DRUNKENNESS     105\n",
      "9                  EMBEZZLEMENT      28\n",
      "10                    EXTORTION       9\n",
      "11              FAMILY OFFENSES      14\n",
      "12       FORGERY/COUNTERFEITING     281\n",
      "13                        FRAUD     537\n",
      "14                     GAMBLING       5\n",
      "15                   KIDNAPPING      71\n",
      "16                LARCENY/THEFT    4934\n",
      "17                  LIQUOR LAWS      51\n",
      "18                    LOITERING      37\n",
      "19               MISSING PERSON     771\n",
      "20                 NON-CRIMINAL    2601\n",
      "21               OTHER OFFENSES    3656\n",
      "22                 PROSTITUTION     223\n",
      "23            RECOVERED VEHICLE      80\n",
      "24                      ROBBERY     630\n",
      "25                      RUNAWAY      58\n",
      "26              SECONDARY CODES     283\n",
      "27        SEX OFFENSES FORCIBLE     120\n",
      "28    SEX OFFENSES NON FORCIBLE       2\n",
      "29              STOLEN PROPERTY     137\n",
      "30                      SUICIDE      12\n",
      "31               SUSPICIOUS OCC     891\n",
      "32                         TREA       1\n",
      "33                     TRESPASS     209\n",
      "34                    VANDALISM    1280\n",
      "35                VEHICLE THEFT    1506\n",
      "36                     WARRANTS    1239\n",
      "37                  WEAPON LAWS     255\n"
     ]
    }
   ],
   "source": [
    "category = np.unique(crime.Category.values)\n",
    "crimes_per_cat = [crime[crime['Category']==cat].shape[0] for cat in category]\n",
    "crimes_df = pd.DataFrame({'Category':category, 'Crimes':crimes_per_cat})\n",
    "pprint(crimes_df)"
   ]
  },
  {
   "cell_type": "markdown",
   "metadata": {},
   "source": [
    "**15. Make a DataFrame that includes the districts and crime counts per district. Which district has the most crime?**\n",
    "\n",
    "*Hint: You can use the `.sort_values()` function to sort your DataFrame by column.*"
   ]
  },
  {
   "cell_type": "code",
   "execution_count": 83,
   "metadata": {},
   "outputs": [
    {
     "data": {
      "text/html": [
       "<div>\n",
       "<style scoped>\n",
       "    .dataframe tbody tr th:only-of-type {\n",
       "        vertical-align: middle;\n",
       "    }\n",
       "\n",
       "    .dataframe tbody tr th {\n",
       "        vertical-align: top;\n",
       "    }\n",
       "\n",
       "    .dataframe thead th {\n",
       "        text-align: right;\n",
       "    }\n",
       "</style>\n",
       "<table border=\"1\" class=\"dataframe\">\n",
       "  <thead>\n",
       "    <tr style=\"text-align: right;\">\n",
       "      <th></th>\n",
       "      <th>Dates</th>\n",
       "      <th>Category</th>\n",
       "      <th>Descript</th>\n",
       "      <th>DayOfWeek</th>\n",
       "      <th>PdDistrict</th>\n",
       "      <th>Resolution</th>\n",
       "      <th>Address</th>\n",
       "      <th>X</th>\n",
       "      <th>Y</th>\n",
       "    </tr>\n",
       "  </thead>\n",
       "  <tbody>\n",
       "    <tr>\n",
       "      <th>0</th>\n",
       "      <td>2003-03-23 23:27:00</td>\n",
       "      <td>ARSON</td>\n",
       "      <td>ARSON OF A VEHICLE</td>\n",
       "      <td>Sunday</td>\n",
       "      <td>BAYVIEW</td>\n",
       "      <td>NONE</td>\n",
       "      <td>0 Block of HUNTERS PT EXPWY EX</td>\n",
       "      <td>-122.376945</td>\n",
       "      <td>37.733018</td>\n",
       "    </tr>\n",
       "  </tbody>\n",
       "</table>\n",
       "</div>"
      ],
      "text/plain": [
       "                 Dates Category            Descript DayOfWeek PdDistrict  \\\n",
       "0  2003-03-23 23:27:00    ARSON  ARSON OF A VEHICLE    Sunday    BAYVIEW   \n",
       "\n",
       "  Resolution                         Address           X          Y  \n",
       "0       NONE  0 Block of HUNTERS PT EXPWY EX -122.376945  37.733018  "
      ]
     },
     "execution_count": 83,
     "metadata": {},
     "output_type": "execute_result"
    }
   ],
   "source": [
    "crime.head(1)"
   ]
  },
  {
   "cell_type": "code",
   "execution_count": 89,
   "metadata": {},
   "outputs": [
    {
     "name": "stdout",
     "output_type": "stream",
     "text": [
      "['BAYVIEW' 'CENTRAL' 'INGLESIDE' 'MISSION' 'NORTHERN' 'PARK' 'RICHMOND'\n",
      " 'SOUTHERN' 'TARAVAL' 'TENDERLOIN']\n",
      "   Crimes   districts\n",
      "0    2555     BAYVIEW\n",
      "1    2424     CENTRAL\n",
      "2    2256   INGLESIDE\n",
      "3    3416     MISSION\n",
      "4    3076    NORTHERN\n",
      "5    1438        PARK\n",
      "6    1282    RICHMOND\n",
      "7    4413    SOUTHERN\n",
      "8    1804     TARAVAL\n",
      "9    2336  TENDERLOIN\n"
     ]
    }
   ],
   "source": [
    "districts = np.unique(crime['PdDistrict'])\n",
    "print(districts)\n",
    "crime_per_district = [crime[crime['PdDistrict'] == dis].shape[0] for dis in districts]\n",
    "new_df = pd.DataFrame({'districts':districts, 'Crimes':crime_per_district})\n",
    "print(new_df)"
   ]
  },
  {
   "cell_type": "code",
   "execution_count": null,
   "metadata": {
    "collapsed": true
   },
   "outputs": [],
   "source": []
  }
 ],
 "metadata": {
  "anaconda-cloud": {},
  "kernelspec": {
   "display_name": "Python 2",
   "language": "python",
   "name": "python2"
  },
  "language_info": {
   "codemirror_mode": {
    "name": "ipython",
    "version": 2
   },
   "file_extension": ".py",
   "mimetype": "text/x-python",
   "name": "python",
   "nbconvert_exporter": "python",
   "pygments_lexer": "ipython2",
   "version": "2.7.11"
  }
 },
 "nbformat": 4,
 "nbformat_minor": 1
}
