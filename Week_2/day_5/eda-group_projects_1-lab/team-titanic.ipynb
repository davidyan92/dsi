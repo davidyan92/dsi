{
 "cells": [
  {
   "cell_type": "markdown",
   "metadata": {},
   "source": [
    "# Team Titanic\n",
    "\n",
    "---\n",
    "\n",
    "The Titanic dataset is a common dataset for doing classification prediction of fatalities.  For our challenge, why don't we try to focus on the latent characteristics in the data. Your goal is to explore the relationships between variables in the dataset. Which variables seem to be related, which are unrelated? Are there surprises when you look at different cross-sections of the data? \n",
    "\n",
    "For the record, imagine this is the only thing we know:\n",
    "\n",
    "![](http://www.glencoe.com/sec/math/studytools/books/0-07-829631-5/images/IQ02-003W-8228662.gif)\n",
    "\n",
    "Certainly there is a better story to tell with the data.  Make sure your findings are more interesting than just saying \"less women died\".\n",
    "\n",
    "### Feature engineering component\n",
    "\n",
    "This project integrates a component of \"feature engineering\": the creation of new information through the parsing or manipulation of our existing data.\n",
    "\n",
    "For example, can you pull out titles (ie: Mr., Miss, Mrs) from the feature \"Name\" and assign it to a new variable? Is there anything interesting in the data specific to titles?\n",
    "\n",
    "What other interesting features can you engineer?"
   ]
  },
  {
   "cell_type": "code",
   "execution_count": 2,
   "metadata": {
    "collapsed": false
   },
   "outputs": [],
   "source": [
    "import pandas as pd\n",
    "import numpy as np\n",
    "\n",
    "titanic = pd.read_csv(\"./datasets/titanic.csv\")\n"
   ]
  },
  {
   "cell_type": "code",
   "execution_count": null,
   "metadata": {
    "collapsed": true
   },
   "outputs": [],
   "source": []
  }
 ],
 "metadata": {
  "kernelspec": {
   "display_name": "Python 2",
   "language": "python",
   "name": "python2"
  },
  "language_info": {
   "codemirror_mode": {
    "name": "ipython",
    "version": 2
   },
   "file_extension": ".py",
   "mimetype": "text/x-python",
   "name": "python",
   "nbconvert_exporter": "python",
   "pygments_lexer": "ipython2",
   "version": "2.7.12"
  }
 },
 "nbformat": 4,
 "nbformat_minor": 2
}
