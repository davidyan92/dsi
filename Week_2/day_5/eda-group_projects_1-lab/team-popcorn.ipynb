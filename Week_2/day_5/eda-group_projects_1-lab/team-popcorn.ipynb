{
 "cells": [
  {
   "cell_type": "markdown",
   "metadata": {},
   "source": [
    "# Team Popcorn\n",
    "\n",
    "---\n",
    "\n",
    "You're a force to be reckoned with. You are team \"Popcorn\". Working for a big movie studio, you need to report on metrics that will help: **A)** sell movie ideas to potential investors, and **B)** maximize product placement and / or sponsorships.\n",
    "\n",
    "**Your studios lead data scientist has given you some direction / starting points:**\n",
    " - Which movies remained in the top 10 the longest?\n",
    " - Which movies were good investments?\n",
    " - Are there any interesting trends throughout the year?\n",
    " - Google anything interesting about flagship movies in terms of partnerships and how those deals could be relevant to consider in our own research.\n",
    " \n",
    "**Bonus:**\n",
    " - Do any holidays impact sales performance or position?  How could we leverage this?\n",
    " - What could we look at outside our dataset that may help project good investments?\n",
    "\n",
    "\n",
    "#### End with some kind of recommendation for new partnership engagements, tied to your opening goals / metrics.\n",
    "\n",
    "How reliable can your reocmmendation(s) be?  Back up your assumptions with facts and data.\n",
    "\n",
    "_[There's a data dictionary available!](http://www.amstat.org/publications/jse/v17n1/datasets.mclaren.html)_\n",
    "\n",
    "Keep in mind the main points when presenting your findings!  It's interesting to share details and sidepoints, but make sure they're supporting and relating to pitching movies to investment, and helping maximize our partnership goals.\n"
   ]
  },
  {
   "cell_type": "code",
   "execution_count": 1,
   "metadata": {
    "collapsed": true
   },
   "outputs": [],
   "source": [
    "import pandas as pd\n",
    "import numpy as np\n",
    "\n",
    "movies = pd.read_csv(\"./datasets/movie_weekend.csv\")\n"
   ]
  },
  {
   "cell_type": "code",
   "execution_count": null,
   "metadata": {
    "collapsed": true
   },
   "outputs": [],
   "source": []
  }
 ],
 "metadata": {
  "kernelspec": {
   "display_name": "Python 2",
   "language": "python",
   "name": "python2"
  },
  "language_info": {
   "codemirror_mode": {
    "name": "ipython",
    "version": 2
   },
   "file_extension": ".py",
   "mimetype": "text/x-python",
   "name": "python",
   "nbconvert_exporter": "python",
   "pygments_lexer": "ipython2",
   "version": "2.7.12"
  }
 },
 "nbformat": 4,
 "nbformat_minor": 2
}
