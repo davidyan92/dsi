{
 "cells": [
  {
   "cell_type": "markdown",
   "metadata": {},
   "source": [
    "<img src=\"http://imgur.com/1ZcRyrc.png\" style=\"float: left; margin: 20px; height: 55px\">\n",
    "\n",
    "## Group EDA and Presentations\n",
    "\n",
    "_Authors: Dave Yerrington (SF)_\n",
    "\n",
    "---\n",
    "\n",
    "Split into teams and work through an EDA process on the given dataset. At the end of the session, we will re-convene and each group will present on the EDA they did on their dataset.\n",
    "\n",
    "You should explore the data using the techniques we have learned thus far, including:\n",
    "\n",
    "- Formulate a problem statement / hypothesis about your dataset\n",
    "- Use pandas grouping / subsetting / segmentation\n",
    "- Calculate and plot summary statistics\n",
    "    - Histograms\n",
    "    - Scatter plots\n",
    "- Cleaning data\n",
    "    - Assessing valid types\n",
    "    - Converting corrupted values\n",
    "    - Removing invalid data\n",
    "- Examining potential outliers and limitations of the dataset\n",
    "\n",
    "Each group will give a 10 minute presentation on their findings to the rest of class.  **Make sure all details in the presentation are relevant to the data**.  Use your problem statement or hypothesis to frame the visuals and summary statistics that you choose to put in your presentation. **If possible, talk about the potential value of the data to a buisness, company, government, or other organization.**"
   ]
  },
  {
   "cell_type": "markdown",
   "metadata": {},
   "source": [
    "### Note on Group Roles\n",
    "\n",
    "---\n",
    "\n",
    "In the \"real world\", you will be expected to work with other human beings.  Everyone works differently, but it's essential to learn how to **work together well**.  Project management is an entirely different skillset that aims to solve the problem of parallel task performance with milestones in mind.  \n",
    "\n",
    "**Some guidelines to consider:**\n",
    "- Select someone to organzie your groups priorities\n",
    "- Select someone to present (someone who needs practice)\n",
    "\n",
    "**Then:**\n",
    "1. Look at the data \"individually\"\n",
    "1. Look at the data \"together\"\n",
    "1. Discuss your ideas\n",
    "1. Come up with a plan to tackle the problem\n",
    "1. Distibute the tasks evenly \n",
    "1. **WORK TOGETHER!**\n",
    "\n",
    "**Avoid:**\n",
    "1. Excessive discussion (be mindful of the time you need to think vs do)\n",
    "1. Open ended plans (make concrete plans, and contingencies)\n",
    "1. Working in silos alone\n",
    "\n",
    "**If you don't come up with anything, you will still present.** Sometimes arguements come up but this is ok.  On the job, its rare that you will work alone.  \n",
    "\n",
    "*Everyone comes with unique strengths and weaknesses.  Data science is a team sport.  Support each other with your strengths.  Find ways to complement each others experience.*"
   ]
  },
  {
   "cell_type": "markdown",
   "metadata": {},
   "source": [
    "### Group 1: Team Alpha Drone\n",
    "\n",
    "---\n",
    "\n",
    "> Since the API from `api.dronestre.am` provides data on drone strikes in near real time, this **might** be useful to hold the President accountable if he/she promises to reduce drone strikes. Your mission: explore the drone strike data, do some complementary research to augment your analysis, and report back any good summary statistics.\n",
    "\n",
    "[See the Team Alpha Drone group notebook for more details.](./team-alpha-drone.ipynb)"
   ]
  },
  {
   "cell_type": "markdown",
   "metadata": {},
   "source": [
    "### Group 2: Team Popcorn\n",
    "\n",
    "---\n",
    "\n",
    "> You're a force to be reckoned with.  You are team \"Popcorn\".  Working for a big movie studio, you need to report on metrics that will help: **A)** sell movie ideas to potential investors, and **B)** maximize product placement and / or sponsorships.\n",
    "\n",
    "[See the Team Popcorn group notebook for more details.](./team-popcorn.ipynb)"
   ]
  },
  {
   "cell_type": "markdown",
   "metadata": {},
   "source": [
    "### Group 3: Team Titanic\n",
    "\n",
    "---\n",
    "\n",
    "> The Titanic dataset is a common dataset for doing classification to predict fatalities.  For our challenge, why don't we try to focus on the latent characteristics in the data. Your goal is to explore the relationships between variables in the dataset. Which variables seem to be related, which are unrelated? Are there surprises when you look at different cross-sections of the data? \n",
    "\n",
    "[See the Team Titanic group notebook for more details.](./team-titanic.ipynb)"
   ]
  },
  {
   "cell_type": "markdown",
   "metadata": {},
   "source": [
    "### Group 4: Team Silkroad\n",
    "\n",
    "---\n",
    "\n",
    "> The time has come to take our game underground.  Our company is being hired to provide insights and metrics for a government contract entity that can potentially evaluate emerging crypto-currencies.  Understanding these markets will help ongoing and future investigations of illegal underground marketplaces operating from [darknets](https://en.wikipedia.org/wiki/Darknet_market).\n",
    "\n",
    "[See the Team Silkroad group notebook for more details.](./team-silkroad.ipynb)"
   ]
  },
  {
   "cell_type": "code",
   "execution_count": null,
   "metadata": {
    "collapsed": true
   },
   "outputs": [],
   "source": []
  }
 ],
 "metadata": {
  "kernelspec": {
   "display_name": "Python 2",
   "language": "python",
   "name": "python2"
  },
  "language_info": {
   "codemirror_mode": {
    "name": "ipython",
    "version": 2
   },
   "file_extension": ".py",
   "mimetype": "text/x-python",
   "name": "python",
   "nbconvert_exporter": "python",
   "pygments_lexer": "ipython2",
   "version": "2.7.13"
  }
 },
 "nbformat": 4,
 "nbformat_minor": 2
}
